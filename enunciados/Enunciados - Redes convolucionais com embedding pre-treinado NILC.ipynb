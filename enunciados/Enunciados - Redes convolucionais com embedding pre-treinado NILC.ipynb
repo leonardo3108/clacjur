{
 "cells": [
  {
   "cell_type": "markdown",
   "metadata": {},
   "source": [
    "# Importação e preparação dos dados"
   ]
  },
  {
   "cell_type": "code",
   "execution_count": 1,
   "metadata": {},
   "outputs": [
    {
     "data": {
      "text/html": [
       "<div>\n",
       "<style scoped>\n",
       "    .dataframe tbody tr th:only-of-type {\n",
       "        vertical-align: middle;\n",
       "    }\n",
       "\n",
       "    .dataframe tbody tr th {\n",
       "        vertical-align: top;\n",
       "    }\n",
       "\n",
       "    .dataframe thead th {\n",
       "        text-align: right;\n",
       "    }\n",
       "</style>\n",
       "<table border=\"1\" class=\"dataframe\">\n",
       "  <thead>\n",
       "    <tr style=\"text-align: right;\">\n",
       "      <th></th>\n",
       "      <th>COD</th>\n",
       "      <th>NUM_ENUNCIADO</th>\n",
       "      <th>COD_AREA</th>\n",
       "      <th>DESCR_AREA</th>\n",
       "      <th>COD_TEMA</th>\n",
       "      <th>DESCR_TEMA</th>\n",
       "      <th>COD_SUBTEMA</th>\n",
       "      <th>DESCR_SUBTEMA</th>\n",
       "      <th>COD_DOC_TRAMITAVEL_ENUNCIADO</th>\n",
       "      <th>TEXTO_ENUNCIADO</th>\n",
       "      <th>ACORDAO</th>\n",
       "      <th>TIPO_PROCESSO</th>\n",
       "    </tr>\n",
       "  </thead>\n",
       "  <tbody>\n",
       "    <tr>\n",
       "      <th>0</th>\n",
       "      <td>1400</td>\n",
       "      <td>1236</td>\n",
       "      <td>50</td>\n",
       "      <td>Responsabilidade</td>\n",
       "      <td>488</td>\n",
       "      <td>Solidariedade</td>\n",
       "      <td>261</td>\n",
       "      <td>Benefício previdenciário</td>\n",
       "      <td>54995437</td>\n",
       "      <td>Não comprovada a participação do beneficiário ...</td>\n",
       "      <td>Acórdão 297/2016 - PL</td>\n",
       "      <td>Tomada de Contas Especial</td>\n",
       "    </tr>\n",
       "    <tr>\n",
       "      <th>1</th>\n",
       "      <td>1700</td>\n",
       "      <td>1534</td>\n",
       "      <td>46</td>\n",
       "      <td>Finanças Públicas</td>\n",
       "      <td>981</td>\n",
       "      <td>Exportação</td>\n",
       "      <td>983</td>\n",
       "      <td>Petróleo</td>\n",
       "      <td>55025587</td>\n",
       "      <td>A operação ficta de exportação de plataformas ...</td>\n",
       "      <td>Acórdão 366/2016 - PL</td>\n",
       "      <td>Solicitação do Congresso Nacional</td>\n",
       "    </tr>\n",
       "    <tr>\n",
       "      <th>2</th>\n",
       "      <td>5700</td>\n",
       "      <td>5314</td>\n",
       "      <td>50</td>\n",
       "      <td>Responsabilidade</td>\n",
       "      <td>203</td>\n",
       "      <td>Multa</td>\n",
       "      <td>1021</td>\n",
       "      <td>Dosimetria</td>\n",
       "      <td>55455370</td>\n",
       "      <td>No âmbito do TCU, a dosimetria da pena tem com...</td>\n",
       "      <td>Acórdão 944/2016 - PL</td>\n",
       "      <td>Acompanhamento</td>\n",
       "    </tr>\n",
       "    <tr>\n",
       "      <th>3</th>\n",
       "      <td>284</td>\n",
       "      <td>40</td>\n",
       "      <td>45</td>\n",
       "      <td>Direito Processual</td>\n",
       "      <td>162</td>\n",
       "      <td>Princípio da independência das instâncias</td>\n",
       "      <td>481</td>\n",
       "      <td>Decisão judicial</td>\n",
       "      <td>54773746</td>\n",
       "      <td>O princípio da independência das instâncias pe...</td>\n",
       "      <td>Acórdão 30/2016 - PL</td>\n",
       "      <td>Tomada de Contas Especial</td>\n",
       "    </tr>\n",
       "    <tr>\n",
       "      <th>4</th>\n",
       "      <td>298</td>\n",
       "      <td>54</td>\n",
       "      <td>49</td>\n",
       "      <td>Pessoal</td>\n",
       "      <td>141</td>\n",
       "      <td>Sistema S</td>\n",
       "      <td>142</td>\n",
       "      <td>Nepotismo</td>\n",
       "      <td>54773402</td>\n",
       "      <td>É vedado aos dirigentes das entidades do Siste...</td>\n",
       "      <td>Acórdão 55/2016 - PL</td>\n",
       "      <td>Representação</td>\n",
       "    </tr>\n",
       "  </tbody>\n",
       "</table>\n",
       "</div>"
      ],
      "text/plain": [
       "    COD  NUM_ENUNCIADO  COD_AREA          DESCR_AREA  COD_TEMA  \\\n",
       "0  1400           1236        50    Responsabilidade       488   \n",
       "1  1700           1534        46   Finanças Públicas       981   \n",
       "2  5700           5314        50    Responsabilidade       203   \n",
       "3   284             40        45  Direito Processual       162   \n",
       "4   298             54        49             Pessoal       141   \n",
       "\n",
       "                                  DESCR_TEMA  COD_SUBTEMA  \\\n",
       "0                              Solidariedade          261   \n",
       "1                                 Exportação          983   \n",
       "2                                      Multa         1021   \n",
       "3  Princípio da independência das instâncias          481   \n",
       "4                                  Sistema S          142   \n",
       "\n",
       "              DESCR_SUBTEMA  COD_DOC_TRAMITAVEL_ENUNCIADO  \\\n",
       "0  Benefício previdenciário                      54995437   \n",
       "1                  Petróleo                      55025587   \n",
       "2                Dosimetria                      55455370   \n",
       "3          Decisão judicial                      54773746   \n",
       "4                 Nepotismo                      54773402   \n",
       "\n",
       "                                     TEXTO_ENUNCIADO                ACORDAO  \\\n",
       "0  Não comprovada a participação do beneficiário ...  Acórdão 297/2016 - PL   \n",
       "1  A operação ficta de exportação de plataformas ...  Acórdão 366/2016 - PL   \n",
       "2  No âmbito do TCU, a dosimetria da pena tem com...  Acórdão 944/2016 - PL   \n",
       "3  O princípio da independência das instâncias pe...   Acórdão 30/2016 - PL   \n",
       "4  É vedado aos dirigentes das entidades do Siste...   Acórdão 55/2016 - PL   \n",
       "\n",
       "                        TIPO_PROCESSO  \n",
       "0           Tomada de Contas Especial  \n",
       "1   Solicitação do Congresso Nacional  \n",
       "2                      Acompanhamento  \n",
       "3           Tomada de Contas Especial  \n",
       "4                       Representação  "
      ]
     },
     "execution_count": 1,
     "metadata": {},
     "output_type": "execute_result"
    }
   ],
   "source": [
    "import pandas as pd\n",
    "\n",
    "df = pd.read_csv('../dados/jurisprudencia_selecionada_enunciados.csv', sep = '|')\n",
    "df.head()"
   ]
  },
  {
   "cell_type": "code",
   "execution_count": 2,
   "metadata": {},
   "outputs": [
    {
     "data": {
      "text/plain": [
       "(13312, 12)"
      ]
     },
     "execution_count": 2,
     "metadata": {},
     "output_type": "execute_result"
    }
   ],
   "source": [
    "df.shape"
   ]
  },
  {
   "cell_type": "code",
   "execution_count": 3,
   "metadata": {},
   "outputs": [
    {
     "data": {
      "text/plain": [
       "(13312, 10)"
      ]
     },
     "execution_count": 3,
     "metadata": {},
     "output_type": "execute_result"
    }
   ],
   "source": [
    "from sklearn.preprocessing import LabelBinarizer\n",
    "\n",
    "areas = df.groupby(['DESCR_AREA']).groups.keys()\n",
    "lbArea = LabelBinarizer()\n",
    "lbArea.fit([x for x in areas])\n",
    "y = lbArea.transform(df['DESCR_AREA'])\n",
    "y.shape"
   ]
  },
  {
   "cell_type": "code",
   "execution_count": 4,
   "metadata": {},
   "outputs": [
    {
     "name": "stderr",
     "output_type": "stream",
     "text": [
      "Using TensorFlow backend.\n"
     ]
    },
    {
     "name": "stdout",
     "output_type": "stream",
     "text": [
      "Found 15387 unique tokens.\n"
     ]
    }
   ],
   "source": [
    "from keras.preprocessing.text import Tokenizer\n",
    "import numpy as np\n",
    "\n",
    "vocabulario = 20000\n",
    "limite_texto = 200\n",
    "dim_vetor = 100\n",
    "\n",
    "tokenizer = Tokenizer(num_words=vocabulario)\n",
    "tokenizer.fit_on_texts(df['TEXTO_ENUNCIADO'])\n",
    "\n",
    "sequences = tokenizer.texts_to_sequences(df['TEXTO_ENUNCIADO'])\n",
    "\n",
    "word_index = tokenizer.word_index\n",
    "vocabulario = len(word_index) + 1\n",
    "print('Found %s unique tokens.' % len(word_index))"
   ]
  },
  {
   "cell_type": "code",
   "execution_count": 5,
   "metadata": {},
   "outputs": [
    {
     "name": "stdout",
     "output_type": "stream",
     "text": [
      "Shape of data tensor: (13312, 200)\n"
     ]
    }
   ],
   "source": [
    "from keras.preprocessing.sequence import pad_sequences\n",
    "\n",
    "x = pad_sequences(sequences, maxlen=limite_texto)\n",
    "\n",
    "print('Shape of data tensor:', x.shape)"
   ]
  },
  {
   "cell_type": "code",
   "execution_count": 7,
   "metadata": {},
   "outputs": [],
   "source": [
    "from gensim.models import KeyedVectors\n",
    "\n",
    "model = KeyedVectors.load_word2vec_format('../externos/model.txt')"
   ]
  },
  {
   "cell_type": "code",
   "execution_count": 8,
   "metadata": {},
   "outputs": [
    {
     "name": "stdout",
     "output_type": "stream",
     "text": [
      "Vocabulario: 15387\n",
      "Encontrados no modelo: 13758 = 89.41314096315071\n"
     ]
    }
   ],
   "source": [
    "# create a weight matrix for words in training docs\n",
    "\n",
    "embedding_matrix = np.zeros((vocabulario, dim_vetor))\n",
    "\n",
    "ok = 0\n",
    "for word, i in tokenizer.word_index.items():\n",
    "    if word in model:\n",
    "        embedding_matrix[i] = model[word]\n",
    "        ok += 1\n",
    "print('Vocabulario:', i)\n",
    "print('Encontrados no modelo:', ok, '=', ok * 100. / i)"
   ]
  },
  {
   "cell_type": "code",
   "execution_count": 9,
   "metadata": {},
   "outputs": [
    {
     "data": {
      "text/plain": [
       "((13312, 200), (13312, 10))"
      ]
     },
     "execution_count": 9,
     "metadata": {},
     "output_type": "execute_result"
    }
   ],
   "source": [
    "x.shape, y.shape"
   ]
  },
  {
   "cell_type": "markdown",
   "metadata": {},
   "source": [
    "# Treinamento"
   ]
  },
  {
   "cell_type": "code",
   "execution_count": 10,
   "metadata": {
    "scrolled": false
   },
   "outputs": [
    {
     "name": "stderr",
     "output_type": "stream",
     "text": [
      "WARNING: Logging before flag parsing goes to stderr.\n",
      "W1130 16:37:28.986351 139749892589376 deprecation_wrapper.py:119] From /home/leonardo/anaconda3/envs/gpu/lib/python3.7/site-packages/keras/backend/tensorflow_backend.py:74: The name tf.get_default_graph is deprecated. Please use tf.compat.v1.get_default_graph instead.\n",
      "\n",
      "W1130 16:37:29.117938 139749892589376 deprecation_wrapper.py:119] From /home/leonardo/anaconda3/envs/gpu/lib/python3.7/site-packages/keras/backend/tensorflow_backend.py:517: The name tf.placeholder is deprecated. Please use tf.compat.v1.placeholder instead.\n",
      "\n",
      "W1130 16:37:29.119641 139749892589376 deprecation_wrapper.py:119] From /home/leonardo/anaconda3/envs/gpu/lib/python3.7/site-packages/keras/backend/tensorflow_backend.py:4138: The name tf.random_uniform is deprecated. Please use tf.random.uniform instead.\n",
      "\n",
      "W1130 16:37:29.127230 139749892589376 deprecation_wrapper.py:119] From /home/leonardo/anaconda3/envs/gpu/lib/python3.7/site-packages/keras/backend/tensorflow_backend.py:174: The name tf.get_default_session is deprecated. Please use tf.compat.v1.get_default_session instead.\n",
      "\n",
      "W1130 16:37:29.128040 139749892589376 deprecation_wrapper.py:119] From /home/leonardo/anaconda3/envs/gpu/lib/python3.7/site-packages/keras/backend/tensorflow_backend.py:181: The name tf.ConfigProto is deprecated. Please use tf.compat.v1.ConfigProto instead.\n",
      "\n",
      "W1130 16:37:29.844954 139749892589376 deprecation_wrapper.py:119] From /home/leonardo/anaconda3/envs/gpu/lib/python3.7/site-packages/keras/backend/tensorflow_backend.py:3976: The name tf.nn.max_pool is deprecated. Please use tf.nn.max_pool2d instead.\n",
      "\n",
      "W1130 16:37:29.887903 139749892589376 deprecation_wrapper.py:119] From /home/leonardo/anaconda3/envs/gpu/lib/python3.7/site-packages/keras/optimizers.py:790: The name tf.train.Optimizer is deprecated. Please use tf.compat.v1.train.Optimizer instead.\n",
      "\n",
      "W1130 16:37:29.975367 139749892589376 deprecation.py:323] From /home/leonardo/anaconda3/envs/gpu/lib/python3.7/site-packages/tensorflow/python/ops/math_grad.py:1250: add_dispatch_support.<locals>.wrapper (from tensorflow.python.ops.array_ops) is deprecated and will be removed in a future version.\n",
      "Instructions for updating:\n",
      "Use tf.where in 2.0, which has the same broadcast rule as np.where\n"
     ]
    },
    {
     "name": "stdout",
     "output_type": "stream",
     "text": [
      "_________________________________________________________________\n",
      "Layer (type)                 Output Shape              Param #   \n",
      "=================================================================\n",
      "embedding_1 (Embedding)      (None, 200, 100)          1538800   \n",
      "_________________________________________________________________\n",
      "conv1d_1 (Conv1D)            (None, 194, 32)           22432     \n",
      "_________________________________________________________________\n",
      "max_pooling1d_1 (MaxPooling1 (None, 38, 32)            0         \n",
      "_________________________________________________________________\n",
      "conv1d_2 (Conv1D)            (None, 32, 32)            7200      \n",
      "_________________________________________________________________\n",
      "global_max_pooling1d_1 (Glob (None, 32)                0         \n",
      "_________________________________________________________________\n",
      "dense_1 (Dense)              (None, 10)                330       \n",
      "=================================================================\n",
      "Total params: 1,568,762\n",
      "Trainable params: 29,962\n",
      "Non-trainable params: 1,538,800\n",
      "_________________________________________________________________\n",
      "Train on 10649 samples, validate on 2663 samples\n",
      "Epoch 1/20\n",
      "10649/10649 [==============================] - 3s 255us/step - loss: 1.4381 - categorical_accuracy: 0.5151 - val_loss: 1.3796 - val_categorical_accuracy: 0.5321\n",
      "Epoch 2/20\n",
      "10649/10649 [==============================] - 1s 103us/step - loss: 0.9364 - categorical_accuracy: 0.6888 - val_loss: 1.0828 - val_categorical_accuracy: 0.6391\n",
      "Epoch 3/20\n",
      "10649/10649 [==============================] - 1s 101us/step - loss: 0.7486 - categorical_accuracy: 0.7518 - val_loss: 1.3842 - val_categorical_accuracy: 0.5531\n",
      "Epoch 4/20\n",
      "10649/10649 [==============================] - 1s 93us/step - loss: 0.6327 - categorical_accuracy: 0.7897 - val_loss: 1.2911 - val_categorical_accuracy: 0.5974\n",
      "Epoch 5/20\n",
      "10649/10649 [==============================] - 1s 94us/step - loss: 0.5397 - categorical_accuracy: 0.8220 - val_loss: 0.9540 - val_categorical_accuracy: 0.6951\n",
      "Epoch 6/20\n",
      "10649/10649 [==============================] - 1s 96us/step - loss: 0.4656 - categorical_accuracy: 0.8463 - val_loss: 0.9611 - val_categorical_accuracy: 0.7135\n",
      "Epoch 7/20\n",
      "10649/10649 [==============================] - 1s 96us/step - loss: 0.3928 - categorical_accuracy: 0.8705 - val_loss: 0.9056 - val_categorical_accuracy: 0.7146\n",
      "Epoch 8/20\n",
      "10649/10649 [==============================] - 1s 96us/step - loss: 0.3417 - categorical_accuracy: 0.8886 - val_loss: 0.9442 - val_categorical_accuracy: 0.7187\n",
      "Epoch 9/20\n",
      "10649/10649 [==============================] - 1s 104us/step - loss: 0.2904 - categorical_accuracy: 0.9013 - val_loss: 0.9992 - val_categorical_accuracy: 0.7281\n",
      "Epoch 10/20\n",
      "10649/10649 [==============================] - 1s 103us/step - loss: 0.2493 - categorical_accuracy: 0.9197 - val_loss: 1.1223 - val_categorical_accuracy: 0.7007\n",
      "Epoch 11/20\n",
      "10649/10649 [==============================] - 1s 103us/step - loss: 0.2097 - categorical_accuracy: 0.9344 - val_loss: 1.0999 - val_categorical_accuracy: 0.7146\n",
      "Epoch 12/20\n",
      "10649/10649 [==============================] - 1s 95us/step - loss: 0.1815 - categorical_accuracy: 0.9422 - val_loss: 1.1264 - val_categorical_accuracy: 0.6996\n",
      "Epoch 13/20\n",
      "10649/10649 [==============================] - 1s 96us/step - loss: 0.1542 - categorical_accuracy: 0.9504 - val_loss: 1.2221 - val_categorical_accuracy: 0.7086\n",
      "Epoch 14/20\n",
      "10649/10649 [==============================] - 1s 96us/step - loss: 0.1273 - categorical_accuracy: 0.9629 - val_loss: 1.1652 - val_categorical_accuracy: 0.7300\n",
      "Epoch 15/20\n",
      "10649/10649 [==============================] - 1s 95us/step - loss: 0.1074 - categorical_accuracy: 0.9672 - val_loss: 1.2377 - val_categorical_accuracy: 0.7120\n",
      "Epoch 16/20\n",
      "10649/10649 [==============================] - 1s 105us/step - loss: 0.0834 - categorical_accuracy: 0.9770 - val_loss: 1.4374 - val_categorical_accuracy: 0.6853\n",
      "Epoch 17/20\n",
      "10649/10649 [==============================] - 1s 103us/step - loss: 0.0778 - categorical_accuracy: 0.9785 - val_loss: 1.3336 - val_categorical_accuracy: 0.7270\n",
      "Epoch 18/20\n",
      "10649/10649 [==============================] - 1s 95us/step - loss: 0.0638 - categorical_accuracy: 0.9821 - val_loss: 1.5546 - val_categorical_accuracy: 0.6891\n",
      "Epoch 19/20\n",
      "10649/10649 [==============================] - 1s 104us/step - loss: 0.0558 - categorical_accuracy: 0.9851 - val_loss: 1.5838 - val_categorical_accuracy: 0.7142\n",
      "Epoch 20/20\n",
      "10649/10649 [==============================] - 1s 102us/step - loss: 0.0508 - categorical_accuracy: 0.9858 - val_loss: 1.9580 - val_categorical_accuracy: 0.6741\n"
     ]
    }
   ],
   "source": [
    "from keras.models import Sequential\n",
    "from keras.layers import Embedding, Conv1D, MaxPooling1D, Dense, GlobalMaxPooling1D\n",
    "from keras.optimizers import RMSprop\n",
    "\n",
    "model = Sequential()\n",
    "model.add(Embedding(vocabulario, dim_vetor, weights=[embedding_matrix], input_length=limite_texto, trainable=False))\n",
    "model.add(Conv1D(32, 7, activation='relu'))\n",
    "model.add(MaxPooling1D(5))\n",
    "model.add(Conv1D(32, 7, activation='relu'))\n",
    "model.add(GlobalMaxPooling1D())\n",
    "model.add(Dense(y.shape[1], activation='softmax'))\n",
    "model.compile(loss='categorical_crossentropy', optimizer=RMSprop(),  metrics=[\"categorical_accuracy\"])\n",
    "model.summary()\n",
    "history = model.fit(x, y, epochs=20, batch_size=32, validation_split=0.2, verbose=1, shuffle=True)"
   ]
  },
  {
   "cell_type": "code",
   "execution_count": 12,
   "metadata": {},
   "outputs": [
    {
     "data": {
      "image/png": "[encoded data removed]",
      "text/plain": [
       "<Figure size 432x288 with 1 Axes>"
      ]
     },
     "metadata": {
      "needs_background": "light"
     },
     "output_type": "display_data"
    },
    {
     "data": {
      "image/png": "[encoded data removed]",
      "text/plain": [
       "<Figure size 432x288 with 1 Axes>"
      ]
     },
     "metadata": {
      "needs_background": "light"
     },
     "output_type": "display_data"
    }
   ],
   "source": [
    "import matplotlib.pyplot as plt\n",
    "\n",
    "acc = history.history['categorical_accuracy']\n",
    "val_acc = history.history['val_categorical_accuracy']\n",
    "loss = history.history['loss']\n",
    "val_loss = history.history['val_loss']\n",
    "\n",
    "epochs = range(1, len(acc) + 1)\n",
    "\n",
    "plt.plot(epochs, acc, 'bo', label='Training acc')\n",
    "plt.plot(epochs, val_acc, 'b', label='Validation acc')\n",
    "plt.title('Training and validation accuracy')\n",
    "plt.legend()\n",
    "\n",
    "plt.figure()\n",
    "\n",
    "plt.plot(epochs, loss, 'bo', label='Training loss')\n",
    "plt.plot(epochs, val_loss, 'b', label='Validation loss')\n",
    "plt.title('Training and validation loss')\n",
    "plt.legend()\n",
    "\n",
    "plt.show()"
   ]
  },
  {
   "cell_type": "code",
   "execution_count": 13,
   "metadata": {},
   "outputs": [
    {
     "name": "stdout",
     "output_type": "stream",
     "text": [
      "_________________________________________________________________\n",
      "Layer (type)                 Output Shape              Param #   \n",
      "=================================================================\n",
      "embedding_2 (Embedding)      (None, 200, 100)          1538800   \n",
      "_________________________________________________________________\n",
      "conv1d_3 (Conv1D)            (None, 194, 32)           22432     \n",
      "_________________________________________________________________\n",
      "max_pooling1d_2 (MaxPooling1 (None, 38, 32)            0         \n",
      "_________________________________________________________________\n",
      "conv1d_4 (Conv1D)            (None, 32, 32)            7200      \n",
      "_________________________________________________________________\n",
      "global_max_pooling1d_2 (Glob (None, 32)                0         \n",
      "_________________________________________________________________\n",
      "dense_2 (Dense)              (None, 10)                330       \n",
      "=================================================================\n",
      "Total params: 1,568,762\n",
      "Trainable params: 1,568,762\n",
      "Non-trainable params: 0\n",
      "_________________________________________________________________\n",
      "Train on 10649 samples, validate on 2663 samples\n",
      "Epoch 1/20\n",
      "10649/10649 [==============================] - 2s 179us/step - loss: 1.3741 - categorical_accuracy: 0.5472 - val_loss: 1.1593 - val_categorical_accuracy: 0.6312\n",
      "Epoch 2/20\n",
      "10649/10649 [==============================] - 2s 151us/step - loss: 0.7729 - categorical_accuracy: 0.7429 - val_loss: 1.0590 - val_categorical_accuracy: 0.6444\n",
      "Epoch 3/20\n",
      "10649/10649 [==============================] - 2s 161us/step - loss: 0.5348 - categorical_accuracy: 0.8202 - val_loss: 0.7403 - val_categorical_accuracy: 0.7691\n",
      "Epoch 4/20\n",
      "10649/10649 [==============================] - 2s 148us/step - loss: 0.3932 - categorical_accuracy: 0.8703 - val_loss: 1.1505 - val_categorical_accuracy: 0.6662\n",
      "Epoch 5/20\n",
      "10649/10649 [==============================] - 2s 141us/step - loss: 0.2823 - categorical_accuracy: 0.9085 - val_loss: 0.8757 - val_categorical_accuracy: 0.7424\n",
      "Epoch 6/20\n",
      "10649/10649 [==============================] - 1s 137us/step - loss: 0.2038 - categorical_accuracy: 0.9346 - val_loss: 0.7863 - val_categorical_accuracy: 0.7754\n",
      "Epoch 7/20\n",
      "10649/10649 [==============================] - 2s 142us/step - loss: 0.1369 - categorical_accuracy: 0.9566 - val_loss: 0.7315 - val_categorical_accuracy: 0.7901\n",
      "Epoch 8/20\n",
      "10649/10649 [==============================] - 2s 145us/step - loss: 0.0914 - categorical_accuracy: 0.9736 - val_loss: 0.7543 - val_categorical_accuracy: 0.8149\n",
      "Epoch 9/20\n",
      "10649/10649 [==============================] - 1s 140us/step - loss: 0.0551 - categorical_accuracy: 0.9846 - val_loss: 0.9051 - val_categorical_accuracy: 0.7995\n",
      "Epoch 10/20\n",
      "10649/10649 [==============================] - 1s 140us/step - loss: 0.0360 - categorical_accuracy: 0.9902 - val_loss: 0.9181 - val_categorical_accuracy: 0.8107\n",
      "Epoch 11/20\n",
      "10649/10649 [==============================] - 1s 141us/step - loss: 0.0220 - categorical_accuracy: 0.9950 - val_loss: 0.9235 - val_categorical_accuracy: 0.8134\n",
      "Epoch 12/20\n",
      "10649/10649 [==============================] - 2s 149us/step - loss: 0.0142 - categorical_accuracy: 0.9965 - val_loss: 0.9853 - val_categorical_accuracy: 0.8145\n",
      "Epoch 13/20\n",
      "10649/10649 [==============================] - 2s 153us/step - loss: 0.0100 - categorical_accuracy: 0.9975 - val_loss: 1.0206 - val_categorical_accuracy: 0.8119\n",
      "Epoch 14/20\n",
      "10649/10649 [==============================] - 2s 141us/step - loss: 0.0104 - categorical_accuracy: 0.9979 - val_loss: 1.2061 - val_categorical_accuracy: 0.8032\n",
      "Epoch 15/20\n",
      "10649/10649 [==============================] - 2s 142us/step - loss: 0.0069 - categorical_accuracy: 0.9980 - val_loss: 1.1442 - val_categorical_accuracy: 0.8115\n",
      "Epoch 16/20\n",
      "10649/10649 [==============================] - 2s 144us/step - loss: 0.0054 - categorical_accuracy: 0.9991 - val_loss: 1.1545 - val_categorical_accuracy: 0.8235\n",
      "Epoch 17/20\n",
      "10649/10649 [==============================] - 2s 154us/step - loss: 0.0088 - categorical_accuracy: 0.9982 - val_loss: 1.2059 - val_categorical_accuracy: 0.8201\n",
      "Epoch 18/20\n",
      "10649/10649 [==============================] - 2s 146us/step - loss: 0.0055 - categorical_accuracy: 0.9988 - val_loss: 1.4068 - val_categorical_accuracy: 0.7946\n",
      "Epoch 19/20\n",
      "10649/10649 [==============================] - 2s 143us/step - loss: 0.0051 - categorical_accuracy: 0.9992 - val_loss: 1.3664 - val_categorical_accuracy: 0.8059\n",
      "Epoch 20/20\n",
      "10649/10649 [==============================] - 2s 154us/step - loss: 0.0037 - categorical_accuracy: 0.9993 - val_loss: 1.2798 - val_categorical_accuracy: 0.8231\n"
     ]
    }
   ],
   "source": [
    "model = Sequential()\n",
    "model.add(Embedding(vocabulario, dim_vetor, weights=[embedding_matrix], input_length=limite_texto, trainable=True))\n",
    "model.add(Conv1D(32, 7, activation='relu'))\n",
    "model.add(MaxPooling1D(5))\n",
    "model.add(Conv1D(32, 7, activation='relu'))\n",
    "model.add(GlobalMaxPooling1D())\n",
    "model.add(Dense(y.shape[1], activation='softmax'))\n",
    "model.compile(loss='categorical_crossentropy', optimizer=RMSprop(),  metrics=[\"categorical_accuracy\"])\n",
    "model.summary()\n",
    "history = model.fit(x, y, epochs=20, batch_size=32, validation_split=0.2, verbose=1, shuffle=True)"
   ]
  },
  {
   "cell_type": "code",
   "execution_count": 14,
   "metadata": {},
   "outputs": [
    {
     "data": {
      "image/png": "[encoded data removed]",
      "text/plain": [
       "<Figure size 432x288 with 1 Axes>"
      ]
     },
     "metadata": {
      "needs_background": "light"
     },
     "output_type": "display_data"
    },
    {
     "data": {
      "image/png": "[encoded data removed]",
      "text/plain": [
       "<Figure size 432x288 with 1 Axes>"
      ]
     },
     "metadata": {
      "needs_background": "light"
     },
     "output_type": "display_data"
    }
   ],
   "source": [
    "acc = history.history['categorical_accuracy']\n",
    "val_acc = history.history['val_categorical_accuracy']\n",
    "loss = history.history['loss']\n",
    "val_loss = history.history['val_loss']\n",
    "\n",
    "epochs = range(1, len(acc) + 1)\n",
    "\n",
    "plt.plot(epochs, acc, 'bo', label='Training acc')\n",
    "plt.plot(epochs, val_acc, 'b', label='Validation acc')\n",
    "plt.title('Training and validation accuracy')\n",
    "plt.legend()\n",
    "\n",
    "plt.figure()\n",
    "\n",
    "plt.plot(epochs, loss, 'bo', label='Training loss')\n",
    "plt.plot(epochs, val_loss, 'b', label='Validation loss')\n",
    "plt.title('Training and validation loss')\n",
    "plt.legend()\n",
    "\n",
    "plt.show()"
   ]
  },
  {
   "cell_type": "code",
   "execution_count": 15,
   "metadata": {},
   "outputs": [
    {
     "name": "stdout",
     "output_type": "stream",
     "text": [
      "_________________________________________________________________\n",
      "Layer (type)                 Output Shape              Param #   \n",
      "=================================================================\n",
      "embedding_3 (Embedding)      (None, 200, 100)          1538800   \n",
      "_________________________________________________________________\n",
      "conv1d_5 (Conv1D)            (None, 194, 32)           22432     \n",
      "_________________________________________________________________\n",
      "max_pooling1d_3 (MaxPooling1 (None, 38, 32)            0         \n",
      "_________________________________________________________________\n",
      "conv1d_6 (Conv1D)            (None, 32, 32)            7200      \n",
      "_________________________________________________________________\n",
      "global_max_pooling1d_3 (Glob (None, 32)                0         \n",
      "_________________________________________________________________\n",
      "dense_3 (Dense)              (None, 10)                330       \n",
      "=================================================================\n",
      "Total params: 1,568,762\n",
      "Trainable params: 1,568,762\n",
      "Non-trainable params: 0\n",
      "_________________________________________________________________\n",
      "Train on 10649 samples, validate on 2663 samples\n",
      "Epoch 1/20\n",
      "10649/10649 [==============================] - 2s 179us/step - loss: 1.0906 - categorical_accuracy: 0.6353 - val_loss: 0.7939 - val_categorical_accuracy: 0.7563\n",
      "Epoch 2/20\n",
      "10649/10649 [==============================] - 2s 147us/step - loss: 0.5452 - categorical_accuracy: 0.8272 - val_loss: 0.8268 - val_categorical_accuracy: 0.7646\n",
      "Epoch 3/20\n",
      "10649/10649 [==============================] - 2s 153us/step - loss: 0.3521 - categorical_accuracy: 0.8930 - val_loss: 0.7643 - val_categorical_accuracy: 0.7935\n",
      "Epoch 4/20\n",
      "10649/10649 [==============================] - 2s 157us/step - loss: 0.2135 - categorical_accuracy: 0.9335 - val_loss: 0.8727 - val_categorical_accuracy: 0.8059\n",
      "Epoch 5/20\n",
      "10649/10649 [==============================] - 2s 149us/step - loss: 0.1338 - categorical_accuracy: 0.9570 - val_loss: 1.2201 - val_categorical_accuracy: 0.7799\n",
      "Epoch 6/20\n",
      "10649/10649 [==============================] - 2s 145us/step - loss: 0.0945 - categorical_accuracy: 0.9719 - val_loss: 1.1795 - val_categorical_accuracy: 0.8059\n",
      "Epoch 7/20\n",
      "10649/10649 [==============================] - 2s 141us/step - loss: 0.0574 - categorical_accuracy: 0.9833 - val_loss: 1.5243 - val_categorical_accuracy: 0.8059\n",
      "Epoch 8/20\n",
      "10649/10649 [==============================] - 2s 147us/step - loss: 0.0452 - categorical_accuracy: 0.9879 - val_loss: 1.6993 - val_categorical_accuracy: 0.7983\n",
      "Epoch 9/20\n",
      "10649/10649 [==============================] - 2s 157us/step - loss: 0.0418 - categorical_accuracy: 0.9895 - val_loss: 1.8207 - val_categorical_accuracy: 0.8044\n",
      "Epoch 10/20\n",
      "10649/10649 [==============================] - 1s 141us/step - loss: 0.0312 - categorical_accuracy: 0.9931 - val_loss: 2.3129 - val_categorical_accuracy: 0.7713\n",
      "Epoch 11/20\n",
      "10649/10649 [==============================] - 1s 139us/step - loss: 0.0276 - categorical_accuracy: 0.9937 - val_loss: 1.9995 - val_categorical_accuracy: 0.8002\n",
      "Epoch 12/20\n",
      "10649/10649 [==============================] - 2s 141us/step - loss: 0.0253 - categorical_accuracy: 0.9948 - val_loss: 2.3246 - val_categorical_accuracy: 0.7811\n",
      "Epoch 13/20\n",
      "10649/10649 [==============================] - 2s 145us/step - loss: 0.0201 - categorical_accuracy: 0.9961 - val_loss: 2.1883 - val_categorical_accuracy: 0.7972\n",
      "Epoch 14/20\n",
      "10649/10649 [==============================] - 2s 146us/step - loss: 0.0172 - categorical_accuracy: 0.9972 - val_loss: 2.3250 - val_categorical_accuracy: 0.7927\n",
      "Epoch 15/20\n",
      "10649/10649 [==============================] - 2s 141us/step - loss: 0.0208 - categorical_accuracy: 0.9970 - val_loss: 2.0989 - val_categorical_accuracy: 0.8167\n",
      "Epoch 16/20\n",
      "10649/10649 [==============================] - 2s 142us/step - loss: 0.0185 - categorical_accuracy: 0.9969 - val_loss: 2.1213 - val_categorical_accuracy: 0.8179\n",
      "Epoch 17/20\n",
      "10649/10649 [==============================] - 2s 144us/step - loss: 0.0187 - categorical_accuracy: 0.9967 - val_loss: 2.2547 - val_categorical_accuracy: 0.8130\n",
      "Epoch 18/20\n",
      "10649/10649 [==============================] - 2s 146us/step - loss: 0.0156 - categorical_accuracy: 0.9975 - val_loss: 2.2279 - val_categorical_accuracy: 0.8122\n",
      "Epoch 19/20\n",
      "10649/10649 [==============================] - 2s 146us/step - loss: 0.0138 - categorical_accuracy: 0.9986 - val_loss: 2.2892 - val_categorical_accuracy: 0.8051\n",
      "Epoch 20/20\n",
      "10649/10649 [==============================] - 2s 142us/step - loss: 0.0121 - categorical_accuracy: 0.9979 - val_loss: 2.5770 - val_categorical_accuracy: 0.7920\n"
     ]
    }
   ],
   "source": [
    "model = Sequential()\n",
    "model.add(Embedding(vocabulario, dim_vetor, weights=[embedding_matrix], input_length=limite_texto, trainable=True))\n",
    "model.add(Conv1D(32, 7, activation='relu'))\n",
    "model.add(MaxPooling1D(5))\n",
    "model.add(Conv1D(32, 7, activation='relu'))\n",
    "model.add(GlobalMaxPooling1D())\n",
    "model.add(Dense(y.shape[1], activation='softmax'))\n",
    "model.compile(loss='categorical_crossentropy', optimizer=RMSprop(lr=5e-3),  metrics=[\"categorical_accuracy\"])\n",
    "model.summary()\n",
    "history = model.fit(x, y, epochs=20, batch_size=32, validation_split=0.2, verbose=1, shuffle=True)"
   ]
  },
  {
   "cell_type": "code",
   "execution_count": 17,
   "metadata": {},
   "outputs": [
    {
     "name": "stdout",
     "output_type": "stream",
     "text": [
      "_________________________________________________________________\n",
      "Layer (type)                 Output Shape              Param #   \n",
      "=================================================================\n",
      "embedding_5 (Embedding)      (None, 200, 100)          1538800   \n",
      "_________________________________________________________________\n",
      "conv1d_9 (Conv1D)            (None, 194, 32)           22432     \n",
      "_________________________________________________________________\n",
      "max_pooling1d_5 (MaxPooling1 (None, 38, 32)            0         \n",
      "_________________________________________________________________\n",
      "conv1d_10 (Conv1D)           (None, 32, 32)            7200      \n",
      "_________________________________________________________________\n",
      "gru_2 (GRU)                  (None, 32)                6240      \n",
      "_________________________________________________________________\n",
      "dense_5 (Dense)              (None, 10)                330       \n",
      "=================================================================\n",
      "Total params: 1,575,002\n",
      "Trainable params: 1,575,002\n",
      "Non-trainable params: 0\n",
      "_________________________________________________________________\n",
      "Train on 10649 samples, validate on 2663 samples\n",
      "Epoch 1/20\n",
      "10649/10649 [==============================] - 13s 1ms/step - loss: 1.4882 - categorical_accuracy: 0.4957 - val_loss: 1.3145 - val_categorical_accuracy: 0.5591\n",
      "Epoch 2/20\n",
      "10649/10649 [==============================] - 12s 1ms/step - loss: 0.9142 - categorical_accuracy: 0.6964 - val_loss: 0.8914 - val_categorical_accuracy: 0.7161\n",
      "Epoch 3/20\n",
      "10649/10649 [==============================] - 13s 1ms/step - loss: 0.6777 - categorical_accuracy: 0.7796 - val_loss: 0.8321 - val_categorical_accuracy: 0.7439\n",
      "Epoch 4/20\n",
      "10649/10649 [==============================] - 13s 1ms/step - loss: 0.5199 - categorical_accuracy: 0.8333 - val_loss: 0.7175 - val_categorical_accuracy: 0.7766\n",
      "Epoch 5/20\n",
      "10649/10649 [==============================] - 12s 1ms/step - loss: 0.4154 - categorical_accuracy: 0.8676 - val_loss: 0.8855 - val_categorical_accuracy: 0.7311\n",
      "Epoch 6/20\n",
      "10649/10649 [==============================] - 12s 1ms/step - loss: 0.3371 - categorical_accuracy: 0.8954 - val_loss: 0.8142 - val_categorical_accuracy: 0.7578\n",
      "Epoch 7/20\n",
      "10649/10649 [==============================] - 12s 1ms/step - loss: 0.2685 - categorical_accuracy: 0.9172 - val_loss: 0.8107 - val_categorical_accuracy: 0.7676\n",
      "Epoch 8/20\n",
      "10649/10649 [==============================] - 13s 1ms/step - loss: 0.2076 - categorical_accuracy: 0.9348 - val_loss: 0.8617 - val_categorical_accuracy: 0.7709\n",
      "Epoch 9/20\n",
      "10649/10649 [==============================] - 12s 1ms/step - loss: 0.1664 - categorical_accuracy: 0.9471 - val_loss: 0.8043 - val_categorical_accuracy: 0.7882\n",
      "Epoch 10/20\n",
      "10649/10649 [==============================] - 13s 1ms/step - loss: 0.1296 - categorical_accuracy: 0.9609 - val_loss: 1.0500 - val_categorical_accuracy: 0.7480\n",
      "Epoch 11/20\n",
      "10649/10649 [==============================] - 13s 1ms/step - loss: 0.0965 - categorical_accuracy: 0.9711 - val_loss: 1.4026 - val_categorical_accuracy: 0.6861\n",
      "Epoch 12/20\n",
      "10649/10649 [==============================] - 13s 1ms/step - loss: 0.0750 - categorical_accuracy: 0.9780 - val_loss: 0.9061 - val_categorical_accuracy: 0.8077\n",
      "Epoch 13/20\n",
      "10649/10649 [==============================] - 12s 1ms/step - loss: 0.0639 - categorical_accuracy: 0.9795 - val_loss: 1.0979 - val_categorical_accuracy: 0.7803\n",
      "Epoch 14/20\n",
      "10649/10649 [==============================] - 13s 1ms/step - loss: 0.0463 - categorical_accuracy: 0.9864 - val_loss: 1.1566 - val_categorical_accuracy: 0.7638\n",
      "Epoch 15/20\n",
      "10649/10649 [==============================] - 13s 1ms/step - loss: 0.0390 - categorical_accuracy: 0.9879 - val_loss: 1.2410 - val_categorical_accuracy: 0.7462\n",
      "Epoch 16/20\n",
      "10649/10649 [==============================] - 13s 1ms/step - loss: 0.0318 - categorical_accuracy: 0.9900 - val_loss: 1.1454 - val_categorical_accuracy: 0.7863\n",
      "Epoch 17/20\n",
      "10649/10649 [==============================] - 13s 1ms/step - loss: 0.0257 - categorical_accuracy: 0.9923 - val_loss: 1.1444 - val_categorical_accuracy: 0.7830\n",
      "Epoch 18/20\n",
      "10649/10649 [==============================] - 12s 1ms/step - loss: 0.0193 - categorical_accuracy: 0.9938 - val_loss: 1.2969 - val_categorical_accuracy: 0.7717\n",
      "Epoch 19/20\n",
      "10649/10649 [==============================] - 12s 1ms/step - loss: 0.0182 - categorical_accuracy: 0.9946 - val_loss: 1.2415 - val_categorical_accuracy: 0.7897\n",
      "Epoch 20/20\n",
      "10649/10649 [==============================] - 13s 1ms/step - loss: 0.0190 - categorical_accuracy: 0.9944 - val_loss: 1.4263 - val_categorical_accuracy: 0.7739\n"
     ]
    }
   ],
   "source": [
    "from keras.layers import GRU\n",
    "\n",
    "model = Sequential()\n",
    "model.add(Embedding(vocabulario, dim_vetor, weights=[embedding_matrix], input_length=limite_texto, trainable=True))\n",
    "model.add(Conv1D(32, 7, activation='relu'))\n",
    "model.add(MaxPooling1D(5))\n",
    "model.add(Conv1D(32, 7, activation='relu'))\n",
    "model.add(GRU(32, dropout=0.2, recurrent_dropout=0.2))\n",
    "model.add(Dense(y.shape[1], activation='softmax'))\n",
    "model.compile(loss='categorical_crossentropy', optimizer=RMSprop(),  metrics=[\"categorical_accuracy\"])\n",
    "model.summary()\n",
    "history = model.fit(x, y, epochs=20, batch_size=32, validation_split=0.2, verbose=1, shuffle=True)"
   ]
  },
  {
   "cell_type": "code",
   "execution_count": 18,
   "metadata": {},
   "outputs": [
    {
     "name": "stdout",
     "output_type": "stream",
     "text": [
      "_________________________________________________________________\n",
      "Layer (type)                 Output Shape              Param #   \n",
      "=================================================================\n",
      "embedding_6 (Embedding)      (None, 200, 100)          1538800   \n",
      "_________________________________________________________________\n",
      "conv1d_11 (Conv1D)           (None, 194, 64)           44864     \n",
      "_________________________________________________________________\n",
      "max_pooling1d_6 (MaxPooling1 (None, 38, 64)            0         \n",
      "_________________________________________________________________\n",
      "conv1d_12 (Conv1D)           (None, 32, 32)            14368     \n",
      "_________________________________________________________________\n",
      "global_max_pooling1d_4 (Glob (None, 32)                0         \n",
      "_________________________________________________________________\n",
      "dense_6 (Dense)              (None, 10)                330       \n",
      "=================================================================\n",
      "Total params: 1,598,362\n",
      "Trainable params: 1,598,362\n",
      "Non-trainable params: 0\n",
      "_________________________________________________________________\n",
      "Train on 10649 samples, validate on 2663 samples\n",
      "Epoch 1/20\n",
      "10649/10649 [==============================] - 3s 257us/step - loss: 1.2974 - categorical_accuracy: 0.5623 - val_loss: 0.9979 - val_categorical_accuracy: 0.6692\n",
      "Epoch 2/20\n",
      "10649/10649 [==============================] - 2s 162us/step - loss: 0.6852 - categorical_accuracy: 0.7798 - val_loss: 0.8582 - val_categorical_accuracy: 0.7214\n",
      "Epoch 3/20\n",
      "10649/10649 [==============================] - 2s 153us/step - loss: 0.4604 - categorical_accuracy: 0.8507 - val_loss: 0.8873 - val_categorical_accuracy: 0.7206\n",
      "Epoch 4/20\n",
      "10649/10649 [==============================] - 2s 154us/step - loss: 0.3056 - categorical_accuracy: 0.9011 - val_loss: 0.7366 - val_categorical_accuracy: 0.7713\n",
      "Epoch 5/20\n",
      "10649/10649 [==============================] - 2s 151us/step - loss: 0.1989 - categorical_accuracy: 0.9391 - val_loss: 0.7360 - val_categorical_accuracy: 0.7852\n",
      "Epoch 6/20\n",
      "10649/10649 [==============================] - 2s 160us/step - loss: 0.1324 - categorical_accuracy: 0.9607 - val_loss: 0.7340 - val_categorical_accuracy: 0.8025\n",
      "Epoch 7/20\n",
      "10649/10649 [==============================] - 2s 161us/step - loss: 0.0779 - categorical_accuracy: 0.9779 - val_loss: 0.7640 - val_categorical_accuracy: 0.8115\n",
      "Epoch 8/20\n",
      "10649/10649 [==============================] - 2s 153us/step - loss: 0.0477 - categorical_accuracy: 0.9873 - val_loss: 0.8171 - val_categorical_accuracy: 0.8096\n",
      "Epoch 9/20\n",
      "10649/10649 [==============================] - 2s 149us/step - loss: 0.0288 - categorical_accuracy: 0.9921 - val_loss: 0.9779 - val_categorical_accuracy: 0.7875\n",
      "Epoch 10/20\n",
      "10649/10649 [==============================] - 2s 148us/step - loss: 0.0180 - categorical_accuracy: 0.9959 - val_loss: 0.9851 - val_categorical_accuracy: 0.8104\n",
      "Epoch 11/20\n",
      "10649/10649 [==============================] - 2s 158us/step - loss: 0.0153 - categorical_accuracy: 0.9965 - val_loss: 1.0657 - val_categorical_accuracy: 0.8070\n",
      "Epoch 12/20\n",
      "10649/10649 [==============================] - 2s 149us/step - loss: 0.0143 - categorical_accuracy: 0.9967 - val_loss: 1.1165 - val_categorical_accuracy: 0.7976\n",
      "Epoch 13/20\n",
      "10649/10649 [==============================] - 2s 150us/step - loss: 0.0142 - categorical_accuracy: 0.9974 - val_loss: 1.1525 - val_categorical_accuracy: 0.8021\n",
      "Epoch 14/20\n",
      "10649/10649 [==============================] - 2s 155us/step - loss: 0.0075 - categorical_accuracy: 0.9981 - val_loss: 1.2670 - val_categorical_accuracy: 0.7946\n",
      "Epoch 15/20\n",
      "10649/10649 [==============================] - 2s 166us/step - loss: 0.0105 - categorical_accuracy: 0.9973 - val_loss: 1.1501 - val_categorical_accuracy: 0.8183\n",
      "Epoch 16/20\n",
      "10649/10649 [==============================] - 2s 160us/step - loss: 0.0098 - categorical_accuracy: 0.9984 - val_loss: 1.2294 - val_categorical_accuracy: 0.8220\n",
      "Epoch 17/20\n",
      "10649/10649 [==============================] - 2s 150us/step - loss: 0.0054 - categorical_accuracy: 0.9993 - val_loss: 1.5494 - val_categorical_accuracy: 0.8021\n",
      "Epoch 18/20\n",
      "10649/10649 [==============================] - 2s 147us/step - loss: 0.0069 - categorical_accuracy: 0.9991 - val_loss: 1.2004 - val_categorical_accuracy: 0.8284\n",
      "Epoch 19/20\n",
      "10649/10649 [==============================] - 2s 150us/step - loss: 0.0066 - categorical_accuracy: 0.9986 - val_loss: 1.2333 - val_categorical_accuracy: 0.8246\n",
      "Epoch 20/20\n",
      "10649/10649 [==============================] - 2s 156us/step - loss: 0.0060 - categorical_accuracy: 0.9990 - val_loss: 1.2611 - val_categorical_accuracy: 0.8194\n"
     ]
    }
   ],
   "source": [
    "model = Sequential()\n",
    "model.add(Embedding(vocabulario, dim_vetor, weights=[embedding_matrix], input_length=limite_texto, trainable=True))\n",
    "model.add(Conv1D(64, 7, activation='relu'))\n",
    "model.add(MaxPooling1D(5))\n",
    "model.add(Conv1D(32, 7, activation='relu'))\n",
    "model.add(GlobalMaxPooling1D())\n",
    "model.add(Dense(y.shape[1], activation='softmax'))\n",
    "model.compile(loss='categorical_crossentropy', optimizer=RMSprop(),  metrics=[\"categorical_accuracy\"])\n",
    "model.summary()\n",
    "history = model.fit(x, y, epochs=20, batch_size=32, validation_split=0.2, verbose=1, shuffle=True)"
   ]
  },
  {
   "cell_type": "code",
   "execution_count": 20,
   "metadata": {},
   "outputs": [
    {
     "name": "stdout",
     "output_type": "stream",
     "text": [
      "_________________________________________________________________\n",
      "Layer (type)                 Output Shape              Param #   \n",
      "=================================================================\n",
      "embedding_8 (Embedding)      (None, 200, 100)          1538800   \n",
      "_________________________________________________________________\n",
      "conv1d_14 (Conv1D)           (None, 194, 32)           22432     \n",
      "_________________________________________________________________\n",
      "max_pooling1d_8 (MaxPooling1 (None, 38, 32)            0         \n",
      "_________________________________________________________________\n",
      "flatten_2 (Flatten)          (None, 1216)              0         \n",
      "_________________________________________________________________\n",
      "dense_8 (Dense)              (None, 256)               311552    \n",
      "_________________________________________________________________\n",
      "dropout_1 (Dropout)          (None, 256)               0         \n",
      "_________________________________________________________________\n",
      "dense_9 (Dense)              (None, 10)                2570      \n",
      "=================================================================\n",
      "Total params: 1,875,354\n",
      "Trainable params: 1,875,354\n",
      "Non-trainable params: 0\n",
      "_________________________________________________________________\n",
      "Train on 10649 samples, validate on 2663 samples\n",
      "Epoch 1/20\n",
      "10649/10649 [==============================] - 2s 227us/step - loss: 1.3134 - categorical_accuracy: 0.5558 - val_loss: 1.2824 - val_categorical_accuracy: 0.5768\n",
      "Epoch 2/20\n",
      "10649/10649 [==============================] - 2s 150us/step - loss: 0.7111 - categorical_accuracy: 0.7601 - val_loss: 0.9131 - val_categorical_accuracy: 0.7210\n",
      "Epoch 3/20\n",
      "10649/10649 [==============================] - 2s 160us/step - loss: 0.4789 - categorical_accuracy: 0.8421 - val_loss: 0.9211 - val_categorical_accuracy: 0.7390\n",
      "Epoch 4/20\n",
      "10649/10649 [==============================] - 2s 156us/step - loss: 0.3248 - categorical_accuracy: 0.8935 - val_loss: 0.9648 - val_categorical_accuracy: 0.7480\n",
      "Epoch 5/20\n",
      "10649/10649 [==============================] - 2s 173us/step - loss: 0.2094 - categorical_accuracy: 0.9299 - val_loss: 1.0857 - val_categorical_accuracy: 0.7615\n",
      "Epoch 6/20\n",
      "10649/10649 [==============================] - 2s 165us/step - loss: 0.1366 - categorical_accuracy: 0.9554 - val_loss: 1.2227 - val_categorical_accuracy: 0.7724\n",
      "Epoch 7/20\n",
      "10649/10649 [==============================] - 2s 165us/step - loss: 0.0806 - categorical_accuracy: 0.9733 - val_loss: 1.3336 - val_categorical_accuracy: 0.7799\n",
      "Epoch 8/20\n",
      "10649/10649 [==============================] - 2s 161us/step - loss: 0.0552 - categorical_accuracy: 0.9820 - val_loss: 1.6818 - val_categorical_accuracy: 0.7615\n",
      "Epoch 9/20\n",
      "10649/10649 [==============================] - 2s 162us/step - loss: 0.0412 - categorical_accuracy: 0.9887 - val_loss: 1.6442 - val_categorical_accuracy: 0.7668\n",
      "Epoch 10/20\n",
      "10649/10649 [==============================] - 2s 159us/step - loss: 0.0283 - categorical_accuracy: 0.9917 - val_loss: 2.9531 - val_categorical_accuracy: 0.6718\n",
      "Epoch 11/20\n",
      "10649/10649 [==============================] - 2s 149us/step - loss: 0.0266 - categorical_accuracy: 0.9924 - val_loss: 1.7411 - val_categorical_accuracy: 0.7736\n",
      "Epoch 12/20\n",
      "10649/10649 [==============================] - 2s 147us/step - loss: 0.0195 - categorical_accuracy: 0.9940 - val_loss: 1.8925 - val_categorical_accuracy: 0.7724\n",
      "Epoch 13/20\n",
      "10649/10649 [==============================] - 2s 157us/step - loss: 0.0148 - categorical_accuracy: 0.9955 - val_loss: 2.0586 - val_categorical_accuracy: 0.7653\n",
      "Epoch 14/20\n",
      "10649/10649 [==============================] - 2s 159us/step - loss: 0.0150 - categorical_accuracy: 0.9961 - val_loss: 2.1054 - val_categorical_accuracy: 0.7646\n",
      "Epoch 15/20\n",
      "10649/10649 [==============================] - 2s 154us/step - loss: 0.0147 - categorical_accuracy: 0.9953 - val_loss: 2.0199 - val_categorical_accuracy: 0.7807\n",
      "Epoch 16/20\n",
      "10649/10649 [==============================] - 2s 150us/step - loss: 0.0148 - categorical_accuracy: 0.9973 - val_loss: 2.0421 - val_categorical_accuracy: 0.7796\n",
      "Epoch 17/20\n",
      "10649/10649 [==============================] - 2s 160us/step - loss: 0.0121 - categorical_accuracy: 0.9971 - val_loss: 2.2318 - val_categorical_accuracy: 0.7676\n",
      "Epoch 18/20\n",
      "10649/10649 [==============================] - 2s 159us/step - loss: 0.0122 - categorical_accuracy: 0.9976 - val_loss: 2.7092 - val_categorical_accuracy: 0.7364\n",
      "Epoch 19/20\n",
      "10649/10649 [==============================] - 2s 166us/step - loss: 0.0140 - categorical_accuracy: 0.9971 - val_loss: 2.3097 - val_categorical_accuracy: 0.7649\n",
      "Epoch 20/20\n",
      "10649/10649 [==============================] - 2s 157us/step - loss: 0.0075 - categorical_accuracy: 0.9979 - val_loss: 2.5353 - val_categorical_accuracy: 0.7615\n"
     ]
    }
   ],
   "source": [
    "from keras.layers import Flatten\n",
    "from keras.layers.core import Dropout\n",
    "\n",
    "model = Sequential()\n",
    "model.add(Embedding(vocabulario, dim_vetor, weights=[embedding_matrix], input_length=limite_texto, trainable=True))\n",
    "model.add(Conv1D(32, 7, activation='relu'))\n",
    "model.add(MaxPooling1D(5))\n",
    "model.add(Flatten())\n",
    "model.add(Dense(256, activation='relu'))\n",
    "model.add(Dropout(0.2))\n",
    "model.add(Dense(y.shape[1], activation='softmax'))\n",
    "model.compile(loss='categorical_crossentropy', optimizer=RMSprop(),  metrics=[\"categorical_accuracy\"])\n",
    "model.summary()\n",
    "history = model.fit(x, y, epochs=20, batch_size=32, validation_split=0.2, verbose=1, shuffle=True)"
   ]
  },
  {
   "cell_type": "code",
   "execution_count": 21,
   "metadata": {},
   "outputs": [
    {
     "name": "stdout",
     "output_type": "stream",
     "text": [
      "_________________________________________________________________\n",
      "Layer (type)                 Output Shape              Param #   \n",
      "=================================================================\n",
      "embedding_9 (Embedding)      (None, 200, 100)          1538800   \n",
      "_________________________________________________________________\n",
      "conv1d_15 (Conv1D)           (None, 194, 32)           22432     \n",
      "_________________________________________________________________\n",
      "max_pooling1d_9 (MaxPooling1 (None, 38, 32)            0         \n",
      "_________________________________________________________________\n",
      "conv1d_16 (Conv1D)           (None, 32, 32)            7200      \n",
      "_________________________________________________________________\n",
      "gru_3 (GRU)                  (None, 32)                6240      \n",
      "_________________________________________________________________\n",
      "dense_10 (Dense)             (None, 10)                330       \n",
      "=================================================================\n",
      "Total params: 1,575,002\n",
      "Trainable params: 1,575,002\n",
      "Non-trainable params: 0\n",
      "_________________________________________________________________\n",
      "Train on 10649 samples, validate on 2663 samples\n",
      "Epoch 1/20\n",
      "10649/10649 [==============================] - 14s 1ms/step - loss: 1.4024 - categorical_accuracy: 0.5207 - val_loss: 1.2586 - val_categorical_accuracy: 0.5918\n",
      "Epoch 2/20\n",
      "10649/10649 [==============================] - 13s 1ms/step - loss: 0.8284 - categorical_accuracy: 0.7293 - val_loss: 1.1494 - val_categorical_accuracy: 0.6463\n",
      "Epoch 3/20\n",
      "10649/10649 [==============================] - 12s 1ms/step - loss: 0.6222 - categorical_accuracy: 0.7928 - val_loss: 0.8762 - val_categorical_accuracy: 0.7477\n",
      "Epoch 4/20\n",
      "10649/10649 [==============================] - 12s 1ms/step - loss: 0.4840 - categorical_accuracy: 0.8425 - val_loss: 0.7586 - val_categorical_accuracy: 0.7702\n",
      "Epoch 5/20\n",
      "10649/10649 [==============================] - 12s 1ms/step - loss: 0.3720 - categorical_accuracy: 0.8794 - val_loss: 0.8326 - val_categorical_accuracy: 0.7431\n",
      "Epoch 6/20\n",
      "10649/10649 [==============================] - 12s 1ms/step - loss: 0.3021 - categorical_accuracy: 0.9049 - val_loss: 0.7887 - val_categorical_accuracy: 0.7664\n",
      "Epoch 7/20\n",
      "10649/10649 [==============================] - 13s 1ms/step - loss: 0.2307 - categorical_accuracy: 0.9246 - val_loss: 0.7754 - val_categorical_accuracy: 0.7822\n",
      "Epoch 8/20\n",
      "10649/10649 [==============================] - 12s 1ms/step - loss: 0.1781 - categorical_accuracy: 0.9430 - val_loss: 0.6742 - val_categorical_accuracy: 0.8081\n",
      "Epoch 9/20\n",
      "10649/10649 [==============================] - 12s 1ms/step - loss: 0.1313 - categorical_accuracy: 0.9585 - val_loss: 0.8390 - val_categorical_accuracy: 0.7890\n",
      "Epoch 10/20\n",
      "10649/10649 [==============================] - 12s 1ms/step - loss: 0.1005 - categorical_accuracy: 0.9695 - val_loss: 0.8563 - val_categorical_accuracy: 0.8002\n",
      "Epoch 11/20\n",
      "10649/10649 [==============================] - 12s 1ms/step - loss: 0.0736 - categorical_accuracy: 0.9771 - val_loss: 0.8500 - val_categorical_accuracy: 0.8051\n",
      "Epoch 12/20\n",
      "10649/10649 [==============================] - 13s 1ms/step - loss: 0.0584 - categorical_accuracy: 0.9828 - val_loss: 0.8447 - val_categorical_accuracy: 0.8089\n",
      "Epoch 13/20\n",
      "10649/10649 [==============================] - 13s 1ms/step - loss: 0.0465 - categorical_accuracy: 0.9855 - val_loss: 0.9502 - val_categorical_accuracy: 0.7976\n",
      "Epoch 14/20\n",
      "10649/10649 [==============================] - 13s 1ms/step - loss: 0.0333 - categorical_accuracy: 0.9905 - val_loss: 1.0592 - val_categorical_accuracy: 0.7863\n",
      "Epoch 15/20\n",
      "10649/10649 [==============================] - 12s 1ms/step - loss: 0.0255 - categorical_accuracy: 0.9914 - val_loss: 1.1378 - val_categorical_accuracy: 0.7803\n",
      "Epoch 16/20\n",
      "10649/10649 [==============================] - 12s 1ms/step - loss: 0.0233 - categorical_accuracy: 0.9924 - val_loss: 1.1341 - val_categorical_accuracy: 0.7890\n",
      "Epoch 17/20\n",
      "10649/10649 [==============================] - 13s 1ms/step - loss: 0.0187 - categorical_accuracy: 0.9948 - val_loss: 1.1133 - val_categorical_accuracy: 0.8070\n",
      "Epoch 18/20\n",
      "10649/10649 [==============================] - 13s 1ms/step - loss: 0.0133 - categorical_accuracy: 0.9957 - val_loss: 1.2075 - val_categorical_accuracy: 0.7905\n",
      "Epoch 19/20\n",
      "10649/10649 [==============================] - 12s 1ms/step - loss: 0.0159 - categorical_accuracy: 0.9950 - val_loss: 1.1785 - val_categorical_accuracy: 0.8040\n",
      "Epoch 20/20\n",
      "10649/10649 [==============================] - 12s 1ms/step - loss: 0.0100 - categorical_accuracy: 0.9968 - val_loss: 1.1175 - val_categorical_accuracy: 0.8183\n"
     ]
    }
   ],
   "source": [
    "model = Sequential()\n",
    "model.add(Embedding(vocabulario, dim_vetor, weights=[embedding_matrix], input_length=limite_texto, trainable=True))\n",
    "model.add(Conv1D(32, 7, activation='relu'))\n",
    "model.add(MaxPooling1D(5))\n",
    "model.add(Conv1D(32, 7, activation='relu'))\n",
    "model.add(GRU(32, dropout=0.1, recurrent_dropout=0.5))\n",
    "model.add(Dense(y.shape[1], activation='softmax'))\n",
    "model.compile(loss='categorical_crossentropy', optimizer=RMSprop(),  metrics=[\"categorical_accuracy\"])\n",
    "model.summary()\n",
    "history = model.fit(x, y, epochs=20, batch_size=32, validation_split=0.2, verbose=1, shuffle=True)"
   ]
  },
  {
   "cell_type": "code",
   "execution_count": 22,
   "metadata": {},
   "outputs": [
    {
     "name": "stdout",
     "output_type": "stream",
     "text": [
      "_________________________________________________________________\n",
      "Layer (type)                 Output Shape              Param #   \n",
      "=================================================================\n",
      "embedding_10 (Embedding)     (None, 200, 100)          1538800   \n",
      "_________________________________________________________________\n",
      "conv1d_17 (Conv1D)           (None, 194, 32)           22432     \n",
      "_________________________________________________________________\n",
      "max_pooling1d_10 (MaxPooling (None, 38, 32)            0         \n",
      "_________________________________________________________________\n",
      "conv1d_18 (Conv1D)           (None, 32, 32)            7200      \n",
      "_________________________________________________________________\n",
      "gru_4 (GRU)                  (None, 64)                18624     \n",
      "_________________________________________________________________\n",
      "dense_11 (Dense)             (None, 10)                650       \n",
      "=================================================================\n",
      "Total params: 1,587,706\n",
      "Trainable params: 1,587,706\n",
      "Non-trainable params: 0\n",
      "_________________________________________________________________\n",
      "Train on 10649 samples, validate on 2663 samples\n",
      "Epoch 1/20\n",
      "10649/10649 [==============================] - 14s 1ms/step - loss: 1.3812 - categorical_accuracy: 0.5284 - val_loss: 1.3465 - val_categorical_accuracy: 0.5727\n",
      "Epoch 2/20\n",
      "10649/10649 [==============================] - 13s 1ms/step - loss: 0.8565 - categorical_accuracy: 0.7080 - val_loss: 0.9777 - val_categorical_accuracy: 0.7030\n",
      "Epoch 3/20\n",
      "10649/10649 [==============================] - 13s 1ms/step - loss: 0.6507 - categorical_accuracy: 0.7806 - val_loss: 0.7672 - val_categorical_accuracy: 0.7600\n",
      "Epoch 4/20\n",
      "10649/10649 [==============================] - 13s 1ms/step - loss: 0.5041 - categorical_accuracy: 0.8348 - val_loss: 0.9327 - val_categorical_accuracy: 0.7394\n",
      "Epoch 5/20\n",
      "10649/10649 [==============================] - 12s 1ms/step - loss: 0.4002 - categorical_accuracy: 0.8665 - val_loss: 1.0310 - val_categorical_accuracy: 0.7116\n",
      "Epoch 6/20\n",
      "10649/10649 [==============================] - 13s 1ms/step - loss: 0.3126 - categorical_accuracy: 0.8975 - val_loss: 0.8485 - val_categorical_accuracy: 0.7619\n",
      "Epoch 7/20\n",
      "10649/10649 [==============================] - 13s 1ms/step - loss: 0.2460 - categorical_accuracy: 0.9211 - val_loss: 0.8550 - val_categorical_accuracy: 0.7886\n",
      "Epoch 8/20\n",
      "10649/10649 [==============================] - 13s 1ms/step - loss: 0.1953 - categorical_accuracy: 0.9368 - val_loss: 0.8300 - val_categorical_accuracy: 0.7905\n",
      "Epoch 9/20\n",
      "10649/10649 [==============================] - 13s 1ms/step - loss: 0.1524 - categorical_accuracy: 0.9519 - val_loss: 0.8851 - val_categorical_accuracy: 0.7837\n",
      "Epoch 10/20\n",
      "10649/10649 [==============================] - 12s 1ms/step - loss: 0.1102 - categorical_accuracy: 0.9656 - val_loss: 1.0980 - val_categorical_accuracy: 0.7653\n",
      "Epoch 11/20\n",
      "10649/10649 [==============================] - 13s 1ms/step - loss: 0.0930 - categorical_accuracy: 0.9698 - val_loss: 0.9937 - val_categorical_accuracy: 0.7848\n",
      "Epoch 12/20\n",
      "10649/10649 [==============================] - 12s 1ms/step - loss: 0.0726 - categorical_accuracy: 0.9790 - val_loss: 1.1264 - val_categorical_accuracy: 0.7713\n",
      "Epoch 13/20\n",
      "10649/10649 [==============================] - 13s 1ms/step - loss: 0.0544 - categorical_accuracy: 0.9838 - val_loss: 1.1382 - val_categorical_accuracy: 0.7931\n",
      "Epoch 14/20\n",
      "10649/10649 [==============================] - 13s 1ms/step - loss: 0.0469 - categorical_accuracy: 0.9852 - val_loss: 1.1211 - val_categorical_accuracy: 0.7905\n",
      "Epoch 15/20\n",
      "10649/10649 [==============================] - 12s 1ms/step - loss: 0.0367 - categorical_accuracy: 0.9881 - val_loss: 1.1005 - val_categorical_accuracy: 0.8006\n",
      "Epoch 16/20\n",
      "10649/10649 [==============================] - 13s 1ms/step - loss: 0.0278 - categorical_accuracy: 0.9909 - val_loss: 1.2115 - val_categorical_accuracy: 0.7957\n",
      "Epoch 17/20\n",
      "10649/10649 [==============================] - 13s 1ms/step - loss: 0.0263 - categorical_accuracy: 0.9918 - val_loss: 1.4541 - val_categorical_accuracy: 0.7803\n",
      "Epoch 18/20\n",
      "10649/10649 [==============================] - 13s 1ms/step - loss: 0.0227 - categorical_accuracy: 0.9933 - val_loss: 1.4212 - val_categorical_accuracy: 0.7826\n",
      "Epoch 19/20\n",
      "10649/10649 [==============================] - 13s 1ms/step - loss: 0.0179 - categorical_accuracy: 0.9946 - val_loss: 1.3797 - val_categorical_accuracy: 0.7953\n",
      "Epoch 20/20\n",
      "10649/10649 [==============================] - 12s 1ms/step - loss: 0.0166 - categorical_accuracy: 0.9954 - val_loss: 1.4938 - val_categorical_accuracy: 0.7890\n"
     ]
    }
   ],
   "source": [
    "model = Sequential()\n",
    "model.add(Embedding(vocabulario, dim_vetor, weights=[embedding_matrix], input_length=limite_texto, trainable=True))\n",
    "model.add(Conv1D(32, 7, activation='relu'))\n",
    "model.add(MaxPooling1D(5))\n",
    "model.add(Conv1D(32, 7, activation='relu'))\n",
    "model.add(GRU(64, dropout=0.2, recurrent_dropout=0.2))\n",
    "model.add(Dense(y.shape[1], activation='softmax'))\n",
    "model.compile(loss='categorical_crossentropy', optimizer=RMSprop(),  metrics=[\"categorical_accuracy\"])\n",
    "model.summary()\n",
    "history = model.fit(x, y, epochs=20, batch_size=32, validation_split=0.2, verbose=1, shuffle=True)"
   ]
  },
  {
   "cell_type": "code",
   "execution_count": null,
   "metadata": {},
   "outputs": [],
   "source": []
  }
 ],
 "metadata": {
  "kernelspec": {
   "display_name": "Python 3",
   "language": "python",
   "name": "python3"
  },
  "language_info": {
   "codemirror_mode": {
    "name": "ipython",
    "version": 3
   },
   "file_extension": ".py",
   "mimetype": "text/x-python",
   "name": "python",
   "nbconvert_exporter": "python",
   "pygments_lexer": "ipython3",
   "version": "3.7.4"
  }
 },
 "nbformat": 4,
 "nbformat_minor": 2
}
