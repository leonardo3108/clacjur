{
 "cells": [
  {
   "cell_type": "markdown",
   "metadata": {},
   "source": [
    "# Importação e preparação dos dados"
   ]
  },
  {
   "cell_type": "code",
   "execution_count": 1,
   "metadata": {},
   "outputs": [
    {
     "data": {
      "text/html": [
       "<div>\n",
       "<style scoped>\n",
       "    .dataframe tbody tr th:only-of-type {\n",
       "        vertical-align: middle;\n",
       "    }\n",
       "\n",
       "    .dataframe tbody tr th {\n",
       "        vertical-align: top;\n",
       "    }\n",
       "\n",
       "    .dataframe thead th {\n",
       "        text-align: right;\n",
       "    }\n",
       "</style>\n",
       "<table border=\"1\" class=\"dataframe\">\n",
       "  <thead>\n",
       "    <tr style=\"text-align: right;\">\n",
       "      <th></th>\n",
       "      <th>COD</th>\n",
       "      <th>NUM_ENUNCIADO</th>\n",
       "      <th>COD_AREA</th>\n",
       "      <th>DESCR_AREA</th>\n",
       "      <th>COD_TEMA</th>\n",
       "      <th>DESCR_TEMA</th>\n",
       "      <th>COD_SUBTEMA</th>\n",
       "      <th>DESCR_SUBTEMA</th>\n",
       "      <th>COD_DOC_TRAMITAVEL_ENUNCIADO</th>\n",
       "      <th>TEXTO_ENUNCIADO</th>\n",
       "      <th>ACORDAO</th>\n",
       "      <th>TIPO_PROCESSO</th>\n",
       "    </tr>\n",
       "  </thead>\n",
       "  <tbody>\n",
       "    <tr>\n",
       "      <th>0</th>\n",
       "      <td>1400</td>\n",
       "      <td>1236</td>\n",
       "      <td>50</td>\n",
       "      <td>Responsabilidade</td>\n",
       "      <td>488</td>\n",
       "      <td>Solidariedade</td>\n",
       "      <td>261</td>\n",
       "      <td>Benefício previdenciário</td>\n",
       "      <td>54995437</td>\n",
       "      <td>Não comprovada a participação do beneficiário ...</td>\n",
       "      <td>Acórdão 297/2016 - PL</td>\n",
       "      <td>Tomada de Contas Especial</td>\n",
       "    </tr>\n",
       "    <tr>\n",
       "      <th>1</th>\n",
       "      <td>1700</td>\n",
       "      <td>1534</td>\n",
       "      <td>46</td>\n",
       "      <td>Finanças Públicas</td>\n",
       "      <td>981</td>\n",
       "      <td>Exportação</td>\n",
       "      <td>983</td>\n",
       "      <td>Petróleo</td>\n",
       "      <td>55025587</td>\n",
       "      <td>A operação ficta de exportação de plataformas ...</td>\n",
       "      <td>Acórdão 366/2016 - PL</td>\n",
       "      <td>Solicitação do Congresso Nacional</td>\n",
       "    </tr>\n",
       "    <tr>\n",
       "      <th>2</th>\n",
       "      <td>5700</td>\n",
       "      <td>5314</td>\n",
       "      <td>50</td>\n",
       "      <td>Responsabilidade</td>\n",
       "      <td>203</td>\n",
       "      <td>Multa</td>\n",
       "      <td>1021</td>\n",
       "      <td>Dosimetria</td>\n",
       "      <td>55455370</td>\n",
       "      <td>No âmbito do TCU, a dosimetria da pena tem com...</td>\n",
       "      <td>Acórdão 944/2016 - PL</td>\n",
       "      <td>Acompanhamento</td>\n",
       "    </tr>\n",
       "    <tr>\n",
       "      <th>3</th>\n",
       "      <td>284</td>\n",
       "      <td>40</td>\n",
       "      <td>45</td>\n",
       "      <td>Direito Processual</td>\n",
       "      <td>162</td>\n",
       "      <td>Princípio da independência das instâncias</td>\n",
       "      <td>481</td>\n",
       "      <td>Decisão judicial</td>\n",
       "      <td>54773746</td>\n",
       "      <td>O princípio da independência das instâncias pe...</td>\n",
       "      <td>Acórdão 30/2016 - PL</td>\n",
       "      <td>Tomada de Contas Especial</td>\n",
       "    </tr>\n",
       "    <tr>\n",
       "      <th>4</th>\n",
       "      <td>298</td>\n",
       "      <td>54</td>\n",
       "      <td>49</td>\n",
       "      <td>Pessoal</td>\n",
       "      <td>141</td>\n",
       "      <td>Sistema S</td>\n",
       "      <td>142</td>\n",
       "      <td>Nepotismo</td>\n",
       "      <td>54773402</td>\n",
       "      <td>É vedado aos dirigentes das entidades do Siste...</td>\n",
       "      <td>Acórdão 55/2016 - PL</td>\n",
       "      <td>Representação</td>\n",
       "    </tr>\n",
       "  </tbody>\n",
       "</table>\n",
       "</div>"
      ],
      "text/plain": [
       "    COD  NUM_ENUNCIADO  COD_AREA          DESCR_AREA  COD_TEMA  \\\n",
       "0  1400           1236        50    Responsabilidade       488   \n",
       "1  1700           1534        46   Finanças Públicas       981   \n",
       "2  5700           5314        50    Responsabilidade       203   \n",
       "3   284             40        45  Direito Processual       162   \n",
       "4   298             54        49             Pessoal       141   \n",
       "\n",
       "                                  DESCR_TEMA  COD_SUBTEMA  \\\n",
       "0                              Solidariedade          261   \n",
       "1                                 Exportação          983   \n",
       "2                                      Multa         1021   \n",
       "3  Princípio da independência das instâncias          481   \n",
       "4                                  Sistema S          142   \n",
       "\n",
       "              DESCR_SUBTEMA  COD_DOC_TRAMITAVEL_ENUNCIADO  \\\n",
       "0  Benefício previdenciário                      54995437   \n",
       "1                  Petróleo                      55025587   \n",
       "2                Dosimetria                      55455370   \n",
       "3          Decisão judicial                      54773746   \n",
       "4                 Nepotismo                      54773402   \n",
       "\n",
       "                                     TEXTO_ENUNCIADO                ACORDAO  \\\n",
       "0  Não comprovada a participação do beneficiário ...  Acórdão 297/2016 - PL   \n",
       "1  A operação ficta de exportação de plataformas ...  Acórdão 366/2016 - PL   \n",
       "2  No âmbito do TCU, a dosimetria da pena tem com...  Acórdão 944/2016 - PL   \n",
       "3  O princípio da independência das instâncias pe...   Acórdão 30/2016 - PL   \n",
       "4  É vedado aos dirigentes das entidades do Siste...   Acórdão 55/2016 - PL   \n",
       "\n",
       "                        TIPO_PROCESSO  \n",
       "0           Tomada de Contas Especial  \n",
       "1   Solicitação do Congresso Nacional  \n",
       "2                      Acompanhamento  \n",
       "3           Tomada de Contas Especial  \n",
       "4                       Representação  "
      ]
     },
     "execution_count": 1,
     "metadata": {},
     "output_type": "execute_result"
    }
   ],
   "source": [
    "import pandas as pd\n",
    "\n",
    "df = pd.read_csv('../dados/jurisprudencia_selecionada_enunciados.csv', sep = '|')\n",
    "df.head()"
   ]
  },
  {
   "cell_type": "code",
   "execution_count": 2,
   "metadata": {},
   "outputs": [
    {
     "data": {
      "text/plain": [
       "(13312, 12)"
      ]
     },
     "execution_count": 2,
     "metadata": {},
     "output_type": "execute_result"
    }
   ],
   "source": [
    "df.shape"
   ]
  },
  {
   "cell_type": "code",
   "execution_count": 3,
   "metadata": {},
   "outputs": [
    {
     "data": {
      "text/plain": [
       "DESCR_AREA\n",
       "Competência do TCU          557\n",
       "Contrato Administrativo     942\n",
       "Convênio                    685\n",
       "Desestatização              140\n",
       "Direito Processual         1813\n",
       "Finanças Públicas           328\n",
       "Gestão Administrativa       339\n",
       "Licitação                  2765\n",
       "Pessoal                    3396\n",
       "Responsabilidade           2347\n",
       "dtype: int64"
      ]
     },
     "execution_count": 3,
     "metadata": {},
     "output_type": "execute_result"
    }
   ],
   "source": [
    "df.groupby(['DESCR_AREA']).size()"
   ]
  },
  {
   "cell_type": "code",
   "execution_count": 4,
   "metadata": {},
   "outputs": [
    {
     "data": {
      "text/plain": [
       "dict_keys(['Competência do TCU', 'Contrato Administrativo', 'Convênio', 'Desestatização', 'Direito Processual', 'Finanças Públicas', 'Gestão Administrativa', 'Licitação', 'Pessoal', 'Responsabilidade'])"
      ]
     },
     "execution_count": 4,
     "metadata": {},
     "output_type": "execute_result"
    }
   ],
   "source": [
    "areas = df.groupby(['DESCR_AREA']).groups.keys()\n",
    "areas"
   ]
  },
  {
   "cell_type": "code",
   "execution_count": 5,
   "metadata": {},
   "outputs": [
    {
     "data": {
      "text/plain": [
       "array(['Competência do TCU', 'Contrato Administrativo', 'Convênio',\n",
       "       'Desestatização', 'Direito Processual', 'Finanças Públicas',\n",
       "       'Gestão Administrativa', 'Licitação', 'Pessoal',\n",
       "       'Responsabilidade'], dtype='<U23')"
      ]
     },
     "execution_count": 5,
     "metadata": {},
     "output_type": "execute_result"
    }
   ],
   "source": [
    "from sklearn.preprocessing import LabelBinarizer\n",
    "\n",
    "lbArea = LabelBinarizer()\n",
    "lbArea.fit([x for x in areas])\n",
    "lbArea.classes_"
   ]
  },
  {
   "cell_type": "code",
   "execution_count": 6,
   "metadata": {},
   "outputs": [
    {
     "data": {
      "text/plain": [
       "(13312, 10)"
      ]
     },
     "execution_count": 6,
     "metadata": {},
     "output_type": "execute_result"
    }
   ],
   "source": [
    "y = lbArea.transform(df['DESCR_AREA'])\n",
    "y.shape"
   ]
  },
  {
   "cell_type": "code",
   "execution_count": 7,
   "metadata": {},
   "outputs": [
    {
     "name": "stderr",
     "output_type": "stream",
     "text": [
      "Using TensorFlow backend.\n"
     ]
    },
    {
     "name": "stdout",
     "output_type": "stream",
     "text": [
      "Found 15387 unique tokens.\n"
     ]
    }
   ],
   "source": [
    "from keras.preprocessing.text import Tokenizer\n",
    "import numpy as np\n",
    "\n",
    "vocabulario = 20000\n",
    "limite_texto = 200\n",
    "dim_vetor = 100\n",
    "\n",
    "tokenizer = Tokenizer(num_words=vocabulario)\n",
    "tokenizer.fit_on_texts(df['TEXTO_ENUNCIADO'])\n",
    "\n",
    "sequences = tokenizer.texts_to_sequences(df['TEXTO_ENUNCIADO'])\n",
    "\n",
    "word_index = tokenizer.word_index\n",
    "print('Found %s unique tokens.' % len(word_index))"
   ]
  },
  {
   "cell_type": "code",
   "execution_count": 8,
   "metadata": {},
   "outputs": [
    {
     "data": {
      "text/plain": [
       "(6, 45.17240084134615, 633, 22.57216215856166, 13312, 15)"
      ]
     },
     "execution_count": 8,
     "metadata": {},
     "output_type": "execute_result"
    }
   ],
   "source": [
    "max = 0\n",
    "lens = []\n",
    "for seq in sequences:\n",
    "    lens.append(len(seq))\n",
    "np.min(lens), np.mean(lens), np.max(lens), np.std(lens), len(lens), sum(pd.Series(lens) > 200)"
   ]
  },
  {
   "cell_type": "code",
   "execution_count": 9,
   "metadata": {},
   "outputs": [
    {
     "name": "stdout",
     "output_type": "stream",
     "text": [
      "Shape of data tensor: (13312, 200)\n"
     ]
    }
   ],
   "source": [
    "from keras.preprocessing.sequence import pad_sequences\n",
    "\n",
    "x = pad_sequences(sequences, maxlen=limite_texto)\n",
    "\n",
    "print('Shape of data tensor:', x.shape)"
   ]
  },
  {
   "cell_type": "code",
   "execution_count": 10,
   "metadata": {},
   "outputs": [
    {
     "data": {
      "text/plain": [
       "((13312, 200), (13312, 10))"
      ]
     },
     "execution_count": 10,
     "metadata": {},
     "output_type": "execute_result"
    }
   ],
   "source": [
    "x.shape, y.shape"
   ]
  },
  {
   "cell_type": "markdown",
   "metadata": {},
   "source": [
    "# Treinamento"
   ]
  },
  {
   "cell_type": "code",
   "execution_count": 15,
   "metadata": {},
   "outputs": [
    {
     "name": "stderr",
     "output_type": "stream",
     "text": [
      "W0811 21:56:05.438585 140482385569600 nn_ops.py:4224] Large dropout rate: 0.6 (>0.5). In TensorFlow 2.x, dropout() uses dropout rate instead of keep_prob. Please ensure that this is intended.\n",
      "W0811 21:56:05.463376 140482385569600 nn_ops.py:4224] Large dropout rate: 0.6 (>0.5). In TensorFlow 2.x, dropout() uses dropout rate instead of keep_prob. Please ensure that this is intended.\n"
     ]
    },
    {
     "name": "stdout",
     "output_type": "stream",
     "text": [
      "_________________________________________________________________\n",
      "Layer (type)                 Output Shape              Param #   \n",
      "=================================================================\n",
      "embedding_2 (Embedding)      (None, 200, 100)          2000000   \n",
      "_________________________________________________________________\n",
      "flatten_2 (Flatten)          (None, 20000)             0         \n",
      "_________________________________________________________________\n",
      "dense_4 (Dense)              (None, 2048)              40962048  \n",
      "_________________________________________________________________\n",
      "dropout_3 (Dropout)          (None, 2048)              0         \n",
      "_________________________________________________________________\n",
      "dense_5 (Dense)              (None, 1024)              2098176   \n",
      "_________________________________________________________________\n",
      "dropout_4 (Dropout)          (None, 1024)              0         \n",
      "_________________________________________________________________\n",
      "dense_6 (Dense)              (None, 10)                10250     \n",
      "=================================================================\n",
      "Total params: 45,070,474\n",
      "Trainable params: 45,070,474\n",
      "Non-trainable params: 0\n",
      "_________________________________________________________________\n"
     ]
    }
   ],
   "source": [
    "from keras.models import Sequential\n",
    "from keras.layers import Flatten, Dense, Embedding\n",
    "from keras.layers.core import Dropout\n",
    "\n",
    "#from keras.optimizers import RMSprop\n",
    "#from keras.layers.core import Dense, Dropout, Activation\n",
    "\n",
    "model = Sequential()\n",
    "model.add(Embedding(vocabulario, dim_vetor, input_length=x.shape[1]))\n",
    "model.add(Flatten())\n",
    "model.add(Dense(2048, activation='relu'))\n",
    "model.add(Dropout(0.6))\n",
    "model.add(Dense(1024, activation='relu'))\n",
    "model.add(Dropout(0.6))\n",
    "model.add(Dense(y.shape[1], activation='softmax'))\n",
    "model.compile(loss='categorical_crossentropy', optimizer='adadelta',  metrics=[\"categorical_accuracy\"])\n",
    "model.summary()"
   ]
  },
  {
   "cell_type": "code",
   "execution_count": 16,
   "metadata": {},
   "outputs": [
    {
     "name": "stdout",
     "output_type": "stream",
     "text": [
      "Train on 10649 samples, validate on 2663 samples\n",
      "Epoch 1/50\n",
      "10649/10649 [==============================] - 19s 2ms/step - loss: 1.6093 - categorical_accuracy: 0.4256 - val_loss: 1.1361 - val_categorical_accuracy: 0.6087\n",
      "Epoch 2/50\n",
      "10649/10649 [==============================] - 18s 2ms/step - loss: 0.7415 - categorical_accuracy: 0.7492 - val_loss: 0.9736 - val_categorical_accuracy: 0.6981\n",
      "Epoch 3/50\n",
      "10649/10649 [==============================] - 18s 2ms/step - loss: 0.2911 - categorical_accuracy: 0.9061 - val_loss: 0.9588 - val_categorical_accuracy: 0.7458\n",
      "Epoch 4/50\n",
      "10649/10649 [==============================] - 18s 2ms/step - loss: 0.0849 - categorical_accuracy: 0.9754 - val_loss: 1.2790 - val_categorical_accuracy: 0.7300\n",
      "Epoch 5/50\n",
      "10649/10649 [==============================] - 18s 2ms/step - loss: 0.0244 - categorical_accuracy: 0.9954 - val_loss: 1.4659 - val_categorical_accuracy: 0.7259\n",
      "Epoch 6/50\n",
      "10649/10649 [==============================] - 18s 2ms/step - loss: 0.0112 - categorical_accuracy: 0.9985 - val_loss: 1.5625 - val_categorical_accuracy: 0.7293\n",
      "Epoch 7/50\n",
      "10649/10649 [==============================] - 18s 2ms/step - loss: 0.0053 - categorical_accuracy: 0.9989 - val_loss: 1.6352 - val_categorical_accuracy: 0.7349\n",
      "Epoch 8/50\n",
      "10649/10649 [==============================] - 18s 2ms/step - loss: 0.0059 - categorical_accuracy: 0.9993 - val_loss: 1.6394 - val_categorical_accuracy: 0.7386\n",
      "Epoch 9/50\n",
      "10649/10649 [==============================] - 18s 2ms/step - loss: 0.0040 - categorical_accuracy: 0.9994 - val_loss: 1.7225 - val_categorical_accuracy: 0.7360\n",
      "Epoch 10/50\n",
      "10649/10649 [==============================] - 18s 2ms/step - loss: 0.0029 - categorical_accuracy: 0.9996 - val_loss: 1.7533 - val_categorical_accuracy: 0.7386\n",
      "Epoch 11/50\n",
      "10649/10649 [==============================] - 18s 2ms/step - loss: 0.0035 - categorical_accuracy: 0.9996 - val_loss: 1.7703 - val_categorical_accuracy: 0.7439\n",
      "Epoch 12/50\n",
      "10649/10649 [==============================] - 18s 2ms/step - loss: 0.0016 - categorical_accuracy: 0.9997 - val_loss: 1.8625 - val_categorical_accuracy: 0.7379\n",
      "Epoch 13/50\n",
      "10649/10649 [==============================] - 18s 2ms/step - loss: 0.0038 - categorical_accuracy: 0.9996 - val_loss: 1.7979 - val_categorical_accuracy: 0.7439\n",
      "Epoch 14/50\n",
      "10649/10649 [==============================] - 18s 2ms/step - loss: 0.0024 - categorical_accuracy: 0.9995 - val_loss: 1.8441 - val_categorical_accuracy: 0.7431\n",
      "Epoch 15/50\n",
      "10649/10649 [==============================] - 18s 2ms/step - loss: 0.0023 - categorical_accuracy: 0.9996 - val_loss: 1.9529 - val_categorical_accuracy: 0.7341\n",
      "Epoch 16/50\n",
      "10649/10649 [==============================] - 18s 2ms/step - loss: 5.9249e-04 - categorical_accuracy: 0.9999 - val_loss: 1.9168 - val_categorical_accuracy: 0.7394\n",
      "Epoch 17/50\n",
      "10649/10649 [==============================] - 18s 2ms/step - loss: 0.0015 - categorical_accuracy: 0.9997 - val_loss: 1.9040 - val_categorical_accuracy: 0.7446\n",
      "Epoch 18/50\n",
      "10649/10649 [==============================] - 18s 2ms/step - loss: 7.9490e-04 - categorical_accuracy: 0.9998 - val_loss: 1.8860 - val_categorical_accuracy: 0.7462\n",
      "Epoch 19/50\n",
      "10649/10649 [==============================] - 18s 2ms/step - loss: 0.0025 - categorical_accuracy: 0.9997 - val_loss: 1.9567 - val_categorical_accuracy: 0.7398\n",
      "Epoch 20/50\n",
      "10649/10649 [==============================] - 18s 2ms/step - loss: 0.0021 - categorical_accuracy: 0.9996 - val_loss: 1.8719 - val_categorical_accuracy: 0.7480\n",
      "Epoch 21/50\n",
      "10649/10649 [==============================] - 18s 2ms/step - loss: 0.0017 - categorical_accuracy: 0.9996 - val_loss: 1.9361 - val_categorical_accuracy: 0.7469\n",
      "Epoch 22/50\n",
      "10649/10649 [==============================] - 18s 2ms/step - loss: 0.0023 - categorical_accuracy: 0.9997 - val_loss: 1.9510 - val_categorical_accuracy: 0.7413\n",
      "Epoch 23/50\n",
      "10649/10649 [==============================] - 18s 2ms/step - loss: 0.0021 - categorical_accuracy: 0.9997 - val_loss: 1.9680 - val_categorical_accuracy: 0.7413\n",
      "Epoch 24/50\n",
      "10649/10649 [==============================] - 18s 2ms/step - loss: 9.5825e-04 - categorical_accuracy: 0.9999 - val_loss: 2.0519 - val_categorical_accuracy: 0.7345\n",
      "Epoch 25/50\n",
      "10649/10649 [==============================] - 18s 2ms/step - loss: 0.0019 - categorical_accuracy: 0.9997 - val_loss: 1.9634 - val_categorical_accuracy: 0.7405\n",
      "Epoch 26/50\n",
      "10649/10649 [==============================] - 18s 2ms/step - loss: 9.0839e-04 - categorical_accuracy: 0.9998 - val_loss: 2.0104 - val_categorical_accuracy: 0.7446\n",
      "Epoch 27/50\n",
      "10649/10649 [==============================] - 18s 2ms/step - loss: 7.0706e-04 - categorical_accuracy: 0.9999 - val_loss: 2.0899 - val_categorical_accuracy: 0.7394\n",
      "Epoch 28/50\n",
      "10649/10649 [==============================] - 18s 2ms/step - loss: 0.0017 - categorical_accuracy: 0.9998 - val_loss: 2.0085 - val_categorical_accuracy: 0.7488\n",
      "Epoch 29/50\n",
      "10649/10649 [==============================] - 18s 2ms/step - loss: 0.0012 - categorical_accuracy: 0.9998 - val_loss: 2.0922 - val_categorical_accuracy: 0.7345\n",
      "Epoch 30/50\n",
      "10649/10649 [==============================] - 18s 2ms/step - loss: 0.0023 - categorical_accuracy: 0.9996 - val_loss: 2.0609 - val_categorical_accuracy: 0.7401\n",
      "Epoch 31/50\n",
      "10649/10649 [==============================] - 17s 2ms/step - loss: 9.9636e-04 - categorical_accuracy: 0.9996 - val_loss: 2.0227 - val_categorical_accuracy: 0.7446\n",
      "Epoch 32/50\n",
      "10649/10649 [==============================] - 18s 2ms/step - loss: 0.0014 - categorical_accuracy: 0.9998 - val_loss: 2.1674 - val_categorical_accuracy: 0.7371\n",
      "Epoch 33/50\n",
      "10649/10649 [==============================] - 17s 2ms/step - loss: 0.0012 - categorical_accuracy: 0.9999 - val_loss: 1.9514 - val_categorical_accuracy: 0.7495\n",
      "Epoch 34/50\n",
      "10649/10649 [==============================] - 18s 2ms/step - loss: 0.0017 - categorical_accuracy: 0.9996 - val_loss: 2.1139 - val_categorical_accuracy: 0.7375\n",
      "Epoch 35/50\n",
      "10649/10649 [==============================] - 18s 2ms/step - loss: 0.0014 - categorical_accuracy: 0.9997 - val_loss: 2.0640 - val_categorical_accuracy: 0.7428\n",
      "Epoch 36/50\n",
      "10649/10649 [==============================] - 18s 2ms/step - loss: 0.0013 - categorical_accuracy: 0.9997 - val_loss: 1.9846 - val_categorical_accuracy: 0.7529\n",
      "Epoch 37/50\n",
      "10649/10649 [==============================] - 18s 2ms/step - loss: 0.0029 - categorical_accuracy: 0.9996 - val_loss: 2.0448 - val_categorical_accuracy: 0.7484\n",
      "Epoch 38/50\n",
      "10649/10649 [==============================] - 18s 2ms/step - loss: 0.0015 - categorical_accuracy: 0.9997 - val_loss: 2.0750 - val_categorical_accuracy: 0.7462\n",
      "Epoch 39/50\n",
      "10649/10649 [==============================] - 17s 2ms/step - loss: 0.0012 - categorical_accuracy: 0.9998 - val_loss: 2.0915 - val_categorical_accuracy: 0.7477\n",
      "Epoch 40/50\n",
      "10649/10649 [==============================] - 17s 2ms/step - loss: 0.0011 - categorical_accuracy: 0.9997 - val_loss: 2.1977 - val_categorical_accuracy: 0.7364\n",
      "Epoch 41/50\n",
      "10649/10649 [==============================] - 17s 2ms/step - loss: 0.0014 - categorical_accuracy: 0.9995 - val_loss: 2.0788 - val_categorical_accuracy: 0.7413\n",
      "Epoch 42/50\n",
      "10649/10649 [==============================] - 17s 2ms/step - loss: 0.0015 - categorical_accuracy: 0.9997 - val_loss: 2.0738 - val_categorical_accuracy: 0.7469\n",
      "Epoch 43/50\n",
      "10649/10649 [==============================] - 17s 2ms/step - loss: 0.0023 - categorical_accuracy: 0.9996 - val_loss: 2.0685 - val_categorical_accuracy: 0.7544\n",
      "Epoch 44/50\n",
      "10649/10649 [==============================] - 17s 2ms/step - loss: 0.0013 - categorical_accuracy: 0.9998 - val_loss: 2.0982 - val_categorical_accuracy: 0.7484\n",
      "Epoch 45/50\n",
      "10649/10649 [==============================] - 18s 2ms/step - loss: 4.9543e-04 - categorical_accuracy: 0.9999 - val_loss: 2.1982 - val_categorical_accuracy: 0.7345\n",
      "Epoch 46/50\n",
      "10649/10649 [==============================] - 18s 2ms/step - loss: 0.0022 - categorical_accuracy: 0.9996 - val_loss: 2.1669 - val_categorical_accuracy: 0.7409\n",
      "Epoch 47/50\n",
      "10649/10649 [==============================] - 18s 2ms/step - loss: 0.0023 - categorical_accuracy: 0.9997 - val_loss: 2.0743 - val_categorical_accuracy: 0.7507\n",
      "Epoch 48/50\n",
      "10649/10649 [==============================] - 18s 2ms/step - loss: 0.0012 - categorical_accuracy: 0.9997 - val_loss: 2.0498 - val_categorical_accuracy: 0.7469\n",
      "Epoch 49/50\n",
      "10649/10649 [==============================] - 18s 2ms/step - loss: 5.2958e-04 - categorical_accuracy: 0.9999 - val_loss: 2.1161 - val_categorical_accuracy: 0.7424\n",
      "Epoch 50/50\n",
      "10649/10649 [==============================] - 18s 2ms/step - loss: 0.0015 - categorical_accuracy: 0.9998 - val_loss: 2.0740 - val_categorical_accuracy: 0.7492\n"
     ]
    }
   ],
   "source": [
    "history = model.fit(x, y, epochs=50, batch_size=32, validation_split=0.2, verbose=1, shuffle=True)"
   ]
  },
  {
   "cell_type": "code",
   "execution_count": 17,
   "metadata": {},
   "outputs": [
    {
     "data": {
      "image/png": "[encoded data removed]",
      "text/plain": [
       "<Figure size 432x288 with 1 Axes>"
      ]
     },
     "metadata": {
      "needs_background": "light"
     },
     "output_type": "display_data"
    },
    {
     "data": {
      "image/png": "[encoded data removed]",
      "text/plain": [
       "<Figure size 432x288 with 1 Axes>"
      ]
     },
     "metadata": {
      "needs_background": "light"
     },
     "output_type": "display_data"
    }
   ],
   "source": [
    "import matplotlib.pyplot as plt\n",
    "\n",
    "acc = history.history['categorical_accuracy']\n",
    "val_acc = history.history['val_categorical_accuracy']\n",
    "loss = history.history['loss']\n",
    "val_loss = history.history['val_loss']\n",
    "\n",
    "epochs = range(1, len(acc) + 1)\n",
    "\n",
    "plt.plot(epochs, acc, 'bo', label='Training acc')\n",
    "plt.plot(epochs, val_acc, 'b', label='Validation acc')\n",
    "plt.title('Training and validation accuracy')\n",
    "plt.legend()\n",
    "\n",
    "plt.figure()\n",
    "\n",
    "plt.plot(epochs, loss, 'bo', label='Training loss')\n",
    "plt.plot(epochs, val_loss, 'b', label='Validation loss')\n",
    "plt.title('Training and validation loss')\n",
    "plt.legend()\n",
    "\n",
    "plt.show()"
   ]
  },
  {
   "cell_type": "code",
   "execution_count": 18,
   "metadata": {},
   "outputs": [
    {
     "name": "stdout",
     "output_type": "stream",
     "text": [
      "Train on 10649 samples, validate on 2663 samples\n",
      "Epoch 1/20\n",
      "10649/10649 [==============================] - 19s 2ms/step - loss: 1.6312 - categorical_accuracy: 0.4060 - val_loss: 1.1984 - val_categorical_accuracy: 0.5967\n",
      "Epoch 2/20\n",
      "10649/10649 [==============================] - 18s 2ms/step - loss: 0.7433 - categorical_accuracy: 0.7465 - val_loss: 0.9476 - val_categorical_accuracy: 0.6868\n",
      "Epoch 3/20\n",
      "10649/10649 [==============================] - 18s 2ms/step - loss: 0.2722 - categorical_accuracy: 0.9122 - val_loss: 1.1690 - val_categorical_accuracy: 0.6970\n",
      "Epoch 4/20\n",
      "10649/10649 [==============================] - 18s 2ms/step - loss: 0.0533 - categorical_accuracy: 0.9869 - val_loss: 1.2626 - val_categorical_accuracy: 0.7341\n",
      "Epoch 5/20\n",
      "10649/10649 [==============================] - 18s 2ms/step - loss: 0.0116 - categorical_accuracy: 0.9982 - val_loss: 1.5387 - val_categorical_accuracy: 0.7139\n",
      "Epoch 6/20\n",
      "10649/10649 [==============================] - 18s 2ms/step - loss: 0.0041 - categorical_accuracy: 0.9993 - val_loss: 1.5911 - val_categorical_accuracy: 0.7334\n",
      "Epoch 7/20\n",
      "10649/10649 [==============================] - 18s 2ms/step - loss: 0.0048 - categorical_accuracy: 0.9995 - val_loss: 1.7129 - val_categorical_accuracy: 0.7334\n",
      "Epoch 8/20\n",
      "10649/10649 [==============================] - 18s 2ms/step - loss: 0.0025 - categorical_accuracy: 0.9996 - val_loss: 1.7620 - val_categorical_accuracy: 0.7323\n",
      "Epoch 9/20\n",
      "10649/10649 [==============================] - 18s 2ms/step - loss: 0.0018 - categorical_accuracy: 0.9997 - val_loss: 1.8660 - val_categorical_accuracy: 0.7191\n",
      "Epoch 10/20\n",
      "10649/10649 [==============================] - 18s 2ms/step - loss: 0.0024 - categorical_accuracy: 0.9997 - val_loss: 1.8351 - val_categorical_accuracy: 0.7334\n",
      "Epoch 11/20\n",
      "10649/10649 [==============================] - 17s 2ms/step - loss: 0.0022 - categorical_accuracy: 0.9998 - val_loss: 1.8459 - val_categorical_accuracy: 0.7311\n",
      "Epoch 12/20\n",
      "10649/10649 [==============================] - 17s 2ms/step - loss: 0.0024 - categorical_accuracy: 0.9997 - val_loss: 1.8280 - val_categorical_accuracy: 0.7308\n",
      "Epoch 13/20\n",
      "10649/10649 [==============================] - 18s 2ms/step - loss: 0.0016 - categorical_accuracy: 0.9998 - val_loss: 1.9404 - val_categorical_accuracy: 0.7251\n",
      "Epoch 14/20\n",
      "10649/10649 [==============================] - 18s 2ms/step - loss: 0.0013 - categorical_accuracy: 0.9998 - val_loss: 1.8789 - val_categorical_accuracy: 0.7334\n",
      "Epoch 15/20\n",
      "10649/10649 [==============================] - 18s 2ms/step - loss: 0.0021 - categorical_accuracy: 0.9996 - val_loss: 1.9116 - val_categorical_accuracy: 0.7255\n",
      "Epoch 16/20\n",
      "10649/10649 [==============================] - 18s 2ms/step - loss: 0.0018 - categorical_accuracy: 0.9996 - val_loss: 1.8913 - val_categorical_accuracy: 0.7311\n",
      "Epoch 17/20\n",
      "10649/10649 [==============================] - 17s 2ms/step - loss: 0.0014 - categorical_accuracy: 0.9997 - val_loss: 1.9439 - val_categorical_accuracy: 0.7308\n",
      "Epoch 18/20\n",
      "10649/10649 [==============================] - 18s 2ms/step - loss: 0.0016 - categorical_accuracy: 0.9997 - val_loss: 1.8335 - val_categorical_accuracy: 0.7368\n",
      "Epoch 19/20\n",
      "10649/10649 [==============================] - 18s 2ms/step - loss: 0.0011 - categorical_accuracy: 0.9996 - val_loss: 1.9215 - val_categorical_accuracy: 0.7266\n",
      "Epoch 20/20\n",
      "10649/10649 [==============================] - 17s 2ms/step - loss: 7.8613e-04 - categorical_accuracy: 0.9997 - val_loss: 1.9087 - val_categorical_accuracy: 0.7296\n"
     ]
    }
   ],
   "source": [
    "model = Sequential()\n",
    "model.add(Embedding(vocabulario, dim_vetor, input_length=x.shape[1]))\n",
    "model.add(Flatten())\n",
    "model.add(Dense(2048, activation='relu'))\n",
    "model.add(Dropout(0.4))\n",
    "model.add(Dense(1024, activation='relu'))\n",
    "model.add(Dropout(0.4))\n",
    "model.add(Dense(y.shape[1], activation='softmax'))\n",
    "model.compile(loss='categorical_crossentropy', optimizer='adadelta',  metrics=[\"categorical_accuracy\"])\n",
    "\n",
    "history = model.fit(x, y, epochs=20, batch_size=32, validation_split=0.2, verbose=1, shuffle=True)"
   ]
  },
  {
   "cell_type": "code",
   "execution_count": 19,
   "metadata": {},
   "outputs": [
    {
     "data": {
      "image/png": "[encoded data removed]",
      "text/plain": [
       "<Figure size 432x288 with 1 Axes>"
      ]
     },
     "metadata": {
      "needs_background": "light"
     },
     "output_type": "display_data"
    },
    {
     "data": {
      "image/png": "[encoded data removed]",
      "text/plain": [
       "<Figure size 432x288 with 1 Axes>"
      ]
     },
     "metadata": {
      "needs_background": "light"
     },
     "output_type": "display_data"
    }
   ],
   "source": [
    "acc = history.history['categorical_accuracy']\n",
    "val_acc = history.history['val_categorical_accuracy']\n",
    "loss = history.history['loss']\n",
    "val_loss = history.history['val_loss']\n",
    "\n",
    "epochs = range(1, len(acc) + 1)\n",
    "\n",
    "plt.plot(epochs, acc, 'bo', label='Training acc')\n",
    "plt.plot(epochs, val_acc, 'b', label='Validation acc')\n",
    "plt.title('Training and validation accuracy')\n",
    "plt.legend()\n",
    "\n",
    "plt.figure()\n",
    "\n",
    "plt.plot(epochs, loss, 'bo', label='Training loss')\n",
    "plt.plot(epochs, val_loss, 'b', label='Validation loss')\n",
    "plt.title('Training and validation loss')\n",
    "plt.legend()\n",
    "\n",
    "plt.show()"
   ]
  },
  {
   "cell_type": "code",
   "execution_count": null,
   "metadata": {},
   "outputs": [],
   "source": []
  }
 ],
 "metadata": {
  "kernelspec": {
   "display_name": "Python 3",
   "language": "python",
   "name": "python3"
  },
  "language_info": {
   "codemirror_mode": {
    "name": "ipython",
    "version": 3
   },
   "file_extension": ".py",
   "mimetype": "text/x-python",
   "name": "python",
   "nbconvert_exporter": "python",
   "pygments_lexer": "ipython3",
   "version": "3.7.4"
  }
 },
 "nbformat": 4,
 "nbformat_minor": 2
}
