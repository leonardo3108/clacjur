{
 "cells": [
  {
   "cell_type": "markdown",
   "metadata": {},
   "source": [
    "# Importação e preparação dos dados"
   ]
  },
  {
   "cell_type": "code",
   "execution_count": 1,
   "metadata": {},
   "outputs": [
    {
     "data": {
      "text/html": [
       "<div>\n",
       "<style scoped>\n",
       "    .dataframe tbody tr th:only-of-type {\n",
       "        vertical-align: middle;\n",
       "    }\n",
       "\n",
       "    .dataframe tbody tr th {\n",
       "        vertical-align: top;\n",
       "    }\n",
       "\n",
       "    .dataframe thead th {\n",
       "        text-align: right;\n",
       "    }\n",
       "</style>\n",
       "<table border=\"1\" class=\"dataframe\">\n",
       "  <thead>\n",
       "    <tr style=\"text-align: right;\">\n",
       "      <th></th>\n",
       "      <th>COD</th>\n",
       "      <th>NUM_ENUNCIADO</th>\n",
       "      <th>COD_AREA</th>\n",
       "      <th>DESCR_AREA</th>\n",
       "      <th>COD_TEMA</th>\n",
       "      <th>DESCR_TEMA</th>\n",
       "      <th>COD_SUBTEMA</th>\n",
       "      <th>DESCR_SUBTEMA</th>\n",
       "      <th>COD_DOC_TRAMITAVEL_ENUNCIADO</th>\n",
       "      <th>TEXTO_ENUNCIADO</th>\n",
       "      <th>ACORDAO</th>\n",
       "      <th>TIPO_PROCESSO</th>\n",
       "    </tr>\n",
       "  </thead>\n",
       "  <tbody>\n",
       "    <tr>\n",
       "      <th>0</th>\n",
       "      <td>1400</td>\n",
       "      <td>1236</td>\n",
       "      <td>50</td>\n",
       "      <td>Responsabilidade</td>\n",
       "      <td>488</td>\n",
       "      <td>Solidariedade</td>\n",
       "      <td>261</td>\n",
       "      <td>Benefício previdenciário</td>\n",
       "      <td>54995437</td>\n",
       "      <td>Não comprovada a participação do beneficiário ...</td>\n",
       "      <td>Acórdão 297/2016 - PL</td>\n",
       "      <td>Tomada de Contas Especial</td>\n",
       "    </tr>\n",
       "    <tr>\n",
       "      <th>1</th>\n",
       "      <td>1700</td>\n",
       "      <td>1534</td>\n",
       "      <td>46</td>\n",
       "      <td>Finanças Públicas</td>\n",
       "      <td>981</td>\n",
       "      <td>Exportação</td>\n",
       "      <td>983</td>\n",
       "      <td>Petróleo</td>\n",
       "      <td>55025587</td>\n",
       "      <td>A operação ficta de exportação de plataformas ...</td>\n",
       "      <td>Acórdão 366/2016 - PL</td>\n",
       "      <td>Solicitação do Congresso Nacional</td>\n",
       "    </tr>\n",
       "    <tr>\n",
       "      <th>2</th>\n",
       "      <td>5700</td>\n",
       "      <td>5314</td>\n",
       "      <td>50</td>\n",
       "      <td>Responsabilidade</td>\n",
       "      <td>203</td>\n",
       "      <td>Multa</td>\n",
       "      <td>1021</td>\n",
       "      <td>Dosimetria</td>\n",
       "      <td>55455370</td>\n",
       "      <td>No âmbito do TCU, a dosimetria da pena tem com...</td>\n",
       "      <td>Acórdão 944/2016 - PL</td>\n",
       "      <td>Acompanhamento</td>\n",
       "    </tr>\n",
       "    <tr>\n",
       "      <th>3</th>\n",
       "      <td>284</td>\n",
       "      <td>40</td>\n",
       "      <td>45</td>\n",
       "      <td>Direito Processual</td>\n",
       "      <td>162</td>\n",
       "      <td>Princípio da independência das instâncias</td>\n",
       "      <td>481</td>\n",
       "      <td>Decisão judicial</td>\n",
       "      <td>54773746</td>\n",
       "      <td>O princípio da independência das instâncias pe...</td>\n",
       "      <td>Acórdão 30/2016 - PL</td>\n",
       "      <td>Tomada de Contas Especial</td>\n",
       "    </tr>\n",
       "    <tr>\n",
       "      <th>4</th>\n",
       "      <td>298</td>\n",
       "      <td>54</td>\n",
       "      <td>49</td>\n",
       "      <td>Pessoal</td>\n",
       "      <td>141</td>\n",
       "      <td>Sistema S</td>\n",
       "      <td>142</td>\n",
       "      <td>Nepotismo</td>\n",
       "      <td>54773402</td>\n",
       "      <td>É vedado aos dirigentes das entidades do Siste...</td>\n",
       "      <td>Acórdão 55/2016 - PL</td>\n",
       "      <td>Representação</td>\n",
       "    </tr>\n",
       "  </tbody>\n",
       "</table>\n",
       "</div>"
      ],
      "text/plain": [
       "    COD  NUM_ENUNCIADO  COD_AREA          DESCR_AREA  COD_TEMA  \\\n",
       "0  1400           1236        50    Responsabilidade       488   \n",
       "1  1700           1534        46   Finanças Públicas       981   \n",
       "2  5700           5314        50    Responsabilidade       203   \n",
       "3   284             40        45  Direito Processual       162   \n",
       "4   298             54        49             Pessoal       141   \n",
       "\n",
       "                                  DESCR_TEMA  COD_SUBTEMA  \\\n",
       "0                              Solidariedade          261   \n",
       "1                                 Exportação          983   \n",
       "2                                      Multa         1021   \n",
       "3  Princípio da independência das instâncias          481   \n",
       "4                                  Sistema S          142   \n",
       "\n",
       "              DESCR_SUBTEMA  COD_DOC_TRAMITAVEL_ENUNCIADO  \\\n",
       "0  Benefício previdenciário                      54995437   \n",
       "1                  Petróleo                      55025587   \n",
       "2                Dosimetria                      55455370   \n",
       "3          Decisão judicial                      54773746   \n",
       "4                 Nepotismo                      54773402   \n",
       "\n",
       "                                     TEXTO_ENUNCIADO                ACORDAO  \\\n",
       "0  Não comprovada a participação do beneficiário ...  Acórdão 297/2016 - PL   \n",
       "1  A operação ficta de exportação de plataformas ...  Acórdão 366/2016 - PL   \n",
       "2  No âmbito do TCU, a dosimetria da pena tem com...  Acórdão 944/2016 - PL   \n",
       "3  O princípio da independência das instâncias pe...   Acórdão 30/2016 - PL   \n",
       "4  É vedado aos dirigentes das entidades do Siste...   Acórdão 55/2016 - PL   \n",
       "\n",
       "                        TIPO_PROCESSO  \n",
       "0           Tomada de Contas Especial  \n",
       "1   Solicitação do Congresso Nacional  \n",
       "2                      Acompanhamento  \n",
       "3           Tomada de Contas Especial  \n",
       "4                       Representação  "
      ]
     },
     "execution_count": 1,
     "metadata": {},
     "output_type": "execute_result"
    }
   ],
   "source": [
    "import pandas as pd\n",
    "\n",
    "df = pd.read_csv('../dados/jurisprudencia_selecionada_enunciados.csv', sep = '|')\n",
    "df.head()"
   ]
  },
  {
   "cell_type": "code",
   "execution_count": 2,
   "metadata": {},
   "outputs": [
    {
     "data": {
      "text/plain": [
       "(13312, 12)"
      ]
     },
     "execution_count": 2,
     "metadata": {},
     "output_type": "execute_result"
    }
   ],
   "source": [
    "df.shape"
   ]
  },
  {
   "cell_type": "code",
   "execution_count": 3,
   "metadata": {},
   "outputs": [
    {
     "data": {
      "text/plain": [
       "(13312, 10)"
      ]
     },
     "execution_count": 3,
     "metadata": {},
     "output_type": "execute_result"
    }
   ],
   "source": [
    "from sklearn.preprocessing import LabelBinarizer\n",
    "\n",
    "areas = df.groupby(['DESCR_AREA']).groups.keys()\n",
    "lbArea = LabelBinarizer()\n",
    "lbArea.fit([x for x in areas])\n",
    "y = lbArea.transform(df['DESCR_AREA'])\n",
    "y.shape"
   ]
  },
  {
   "cell_type": "code",
   "execution_count": 4,
   "metadata": {},
   "outputs": [
    {
     "name": "stderr",
     "output_type": "stream",
     "text": [
      "Using TensorFlow backend.\n"
     ]
    },
    {
     "name": "stdout",
     "output_type": "stream",
     "text": [
      "Found 15387 unique tokens.\n"
     ]
    }
   ],
   "source": [
    "from keras.preprocessing.text import Tokenizer\n",
    "import numpy as np\n",
    "\n",
    "vocabulario = 20000\n",
    "limite_texto = 200\n",
    "dim_vetor = 100\n",
    "\n",
    "tokenizer = Tokenizer(num_words=vocabulario)\n",
    "tokenizer.fit_on_texts(df['TEXTO_ENUNCIADO'])\n",
    "\n",
    "sequences = tokenizer.texts_to_sequences(df['TEXTO_ENUNCIADO'])\n",
    "\n",
    "word_index = tokenizer.word_index\n",
    "vocabulario = len(word_index) + 1\n",
    "print('Found %s unique tokens.' % len(word_index))"
   ]
  },
  {
   "cell_type": "code",
   "execution_count": 5,
   "metadata": {},
   "outputs": [
    {
     "name": "stdout",
     "output_type": "stream",
     "text": [
      "Shape of data tensor: (13312, 200)\n"
     ]
    }
   ],
   "source": [
    "from keras.preprocessing.sequence import pad_sequences\n",
    "\n",
    "x = pad_sequences(sequences, maxlen=limite_texto)\n",
    "\n",
    "print('Shape of data tensor:', x.shape)"
   ]
  },
  {
   "cell_type": "code",
   "execution_count": 6,
   "metadata": {},
   "outputs": [
    {
     "name": "stderr",
     "output_type": "stream",
     "text": [
      "/home/leonardo/anaconda3/envs/gpu/lib/python3.7/site-packages/smart_open/smart_open_lib.py:398: UserWarning: This function is deprecated, use smart_open.open instead. See the migration notes for details: https://github.com/RaRe-Technologies/smart_open/blob/master/README.rst#migrating-to-the-new-open-function\n",
      "  'See the migration notes for details: %s' % _MIGRATION_NOTES_URL\n"
     ]
    }
   ],
   "source": [
    "from gensim.models import Word2Vec\n",
    "\n",
    "model = Word2Vec.load('../vocabularios/modelo-acordaos.w2v')"
   ]
  },
  {
   "cell_type": "code",
   "execution_count": 7,
   "metadata": {},
   "outputs": [
    {
     "name": "stdout",
     "output_type": "stream",
     "text": [
      "Vocabulario: 15387\n",
      "Encontrados no modelo: 14572 = 94.70332098524729\n"
     ]
    },
    {
     "name": "stderr",
     "output_type": "stream",
     "text": [
      "/home/leonardo/anaconda3/envs/gpu/lib/python3.7/site-packages/ipykernel_launcher.py:7: DeprecationWarning: Call to deprecated `__contains__` (Method will be removed in 4.0.0, use self.wv.__contains__() instead).\n",
      "  import sys\n",
      "/home/leonardo/anaconda3/envs/gpu/lib/python3.7/site-packages/ipykernel_launcher.py:8: DeprecationWarning: Call to deprecated `__getitem__` (Method will be removed in 4.0.0, use self.wv.__getitem__() instead).\n",
      "  \n"
     ]
    }
   ],
   "source": [
    "# create a weight matrix for words in training docs\n",
    "\n",
    "embedding_matrix = np.zeros((vocabulario, dim_vetor))\n",
    "\n",
    "ok = 0\n",
    "for word, i in tokenizer.word_index.items():\n",
    "    if word in model:\n",
    "        embedding_matrix[i] = model[word]\n",
    "        ok += 1\n",
    "print('Vocabulario:', i)\n",
    "print('Encontrados no modelo:', ok, '=', ok * 100. / i)"
   ]
  },
  {
   "cell_type": "code",
   "execution_count": 8,
   "metadata": {},
   "outputs": [
    {
     "data": {
      "text/plain": [
       "((13312, 200), (13312, 10))"
      ]
     },
     "execution_count": 8,
     "metadata": {},
     "output_type": "execute_result"
    }
   ],
   "source": [
    "x.shape, y.shape"
   ]
  },
  {
   "cell_type": "markdown",
   "metadata": {},
   "source": [
    "# Treinamento"
   ]
  },
  {
   "cell_type": "code",
   "execution_count": 10,
   "metadata": {},
   "outputs": [
    {
     "name": "stderr",
     "output_type": "stream",
     "text": [
      "W1130 17:04:39.885944 140656601720640 deprecation_wrapper.py:119] From /home/leonardo/anaconda3/envs/gpu/lib/python3.7/site-packages/keras/backend/tensorflow_backend.py:3976: The name tf.nn.max_pool is deprecated. Please use tf.nn.max_pool2d instead.\n",
      "\n",
      "W1130 17:04:39.924823 140656601720640 deprecation_wrapper.py:119] From /home/leonardo/anaconda3/envs/gpu/lib/python3.7/site-packages/keras/optimizers.py:790: The name tf.train.Optimizer is deprecated. Please use tf.compat.v1.train.Optimizer instead.\n",
      "\n",
      "W1130 17:04:40.009136 140656601720640 deprecation.py:323] From /home/leonardo/anaconda3/envs/gpu/lib/python3.7/site-packages/tensorflow/python/ops/math_grad.py:1250: add_dispatch_support.<locals>.wrapper (from tensorflow.python.ops.array_ops) is deprecated and will be removed in a future version.\n",
      "Instructions for updating:\n",
      "Use tf.where in 2.0, which has the same broadcast rule as np.where\n"
     ]
    },
    {
     "name": "stdout",
     "output_type": "stream",
     "text": [
      "_________________________________________________________________\n",
      "Layer (type)                 Output Shape              Param #   \n",
      "=================================================================\n",
      "embedding_2 (Embedding)      (None, 200, 100)          1538800   \n",
      "_________________________________________________________________\n",
      "conv1d_1 (Conv1D)            (None, 194, 32)           22432     \n",
      "_________________________________________________________________\n",
      "max_pooling1d_1 (MaxPooling1 (None, 38, 32)            0         \n",
      "_________________________________________________________________\n",
      "conv1d_2 (Conv1D)            (None, 32, 32)            7200      \n",
      "_________________________________________________________________\n",
      "global_max_pooling1d_1 (Glob (None, 32)                0         \n",
      "_________________________________________________________________\n",
      "dense_1 (Dense)              (None, 10)                330       \n",
      "=================================================================\n",
      "Total params: 1,568,762\n",
      "Trainable params: 29,962\n",
      "Non-trainable params: 1,538,800\n",
      "_________________________________________________________________\n",
      "Train on 10649 samples, validate on 2663 samples\n",
      "Epoch 1/20\n",
      "10649/10649 [==============================] - 3s 274us/step - loss: 1.1129 - categorical_accuracy: 0.6413 - val_loss: 0.9350 - val_categorical_accuracy: 0.6955\n",
      "Epoch 2/20\n",
      "10649/10649 [==============================] - 1s 111us/step - loss: 0.6251 - categorical_accuracy: 0.7931 - val_loss: 0.9760 - val_categorical_accuracy: 0.6801\n",
      "Epoch 3/20\n",
      "10649/10649 [==============================] - 1s 108us/step - loss: 0.4689 - categorical_accuracy: 0.8389 - val_loss: 0.7721 - val_categorical_accuracy: 0.7559\n",
      "Epoch 4/20\n",
      "10649/10649 [==============================] - 1s 115us/step - loss: 0.3651 - categorical_accuracy: 0.8784 - val_loss: 0.7219 - val_categorical_accuracy: 0.7841\n",
      "Epoch 5/20\n",
      "10649/10649 [==============================] - 1s 109us/step - loss: 0.2839 - categorical_accuracy: 0.9043 - val_loss: 1.2041 - val_categorical_accuracy: 0.6718\n",
      "Epoch 6/20\n",
      "10649/10649 [==============================] - 1s 103us/step - loss: 0.2247 - categorical_accuracy: 0.9245 - val_loss: 0.8025 - val_categorical_accuracy: 0.7758\n",
      "Epoch 7/20\n",
      "10649/10649 [==============================] - 1s 110us/step - loss: 0.1778 - categorical_accuracy: 0.9412 - val_loss: 0.9220 - val_categorical_accuracy: 0.7615\n",
      "Epoch 8/20\n",
      "10649/10649 [==============================] - 1s 109us/step - loss: 0.1395 - categorical_accuracy: 0.9553 - val_loss: 1.0627 - val_categorical_accuracy: 0.7514\n",
      "Epoch 9/20\n",
      "10649/10649 [==============================] - 1s 102us/step - loss: 0.1103 - categorical_accuracy: 0.9648 - val_loss: 1.1374 - val_categorical_accuracy: 0.7499\n",
      "Epoch 10/20\n",
      "10649/10649 [==============================] - 1s 107us/step - loss: 0.0883 - categorical_accuracy: 0.9715 - val_loss: 1.1044 - val_categorical_accuracy: 0.7661\n",
      "Epoch 11/20\n",
      "10649/10649 [==============================] - 1s 118us/step - loss: 0.0779 - categorical_accuracy: 0.9745 - val_loss: 1.1639 - val_categorical_accuracy: 0.7721\n",
      "Epoch 12/20\n",
      "10649/10649 [==============================] - 1s 115us/step - loss: 0.0589 - categorical_accuracy: 0.9830 - val_loss: 1.1761 - val_categorical_accuracy: 0.7769\n",
      "Epoch 13/20\n",
      "10649/10649 [==============================] - 1s 101us/step - loss: 0.0534 - categorical_accuracy: 0.9838 - val_loss: 1.2468 - val_categorical_accuracy: 0.7736\n",
      "Epoch 14/20\n",
      "10649/10649 [==============================] - 1s 103us/step - loss: 0.0482 - categorical_accuracy: 0.9825 - val_loss: 1.2864 - val_categorical_accuracy: 0.7702\n",
      "Epoch 15/20\n",
      "10649/10649 [==============================] - 1s 109us/step - loss: 0.0407 - categorical_accuracy: 0.9870 - val_loss: 1.4406 - val_categorical_accuracy: 0.7559\n",
      "Epoch 16/20\n",
      "10649/10649 [==============================] - 1s 108us/step - loss: 0.0388 - categorical_accuracy: 0.9873 - val_loss: 1.3935 - val_categorical_accuracy: 0.7762\n",
      "Epoch 17/20\n",
      "10649/10649 [==============================] - 1s 103us/step - loss: 0.0360 - categorical_accuracy: 0.9875 - val_loss: 1.7468 - val_categorical_accuracy: 0.7319\n",
      "Epoch 18/20\n",
      "10649/10649 [==============================] - 1s 108us/step - loss: 0.0313 - categorical_accuracy: 0.9900 - val_loss: 1.5983 - val_categorical_accuracy: 0.7668\n",
      "Epoch 19/20\n",
      "10649/10649 [==============================] - 1s 109us/step - loss: 0.0297 - categorical_accuracy: 0.9898 - val_loss: 1.5995 - val_categorical_accuracy: 0.7593\n",
      "Epoch 20/20\n",
      "10649/10649 [==============================] - 1s 113us/step - loss: 0.0275 - categorical_accuracy: 0.9917 - val_loss: 1.6477 - val_categorical_accuracy: 0.7615\n"
     ]
    }
   ],
   "source": [
    "from keras.models import Sequential\n",
    "from keras.layers import Embedding, Conv1D, MaxPooling1D, Dense, GlobalMaxPooling1D\n",
    "from keras.optimizers import RMSprop\n",
    "\n",
    "model = Sequential()\n",
    "model.add(Embedding(vocabulario, dim_vetor, weights=[embedding_matrix], input_length=limite_texto, trainable=False))\n",
    "model.add(Conv1D(32, 7, activation='relu'))\n",
    "model.add(MaxPooling1D(5))\n",
    "model.add(Conv1D(32, 7, activation='relu'))\n",
    "model.add(GlobalMaxPooling1D())\n",
    "model.add(Dense(y.shape[1], activation='softmax'))\n",
    "model.compile(loss='categorical_crossentropy', optimizer=RMSprop(),  metrics=[\"categorical_accuracy\"])\n",
    "model.summary()\n",
    "history = model.fit(x, y, epochs=20, batch_size=32, validation_split=0.2, verbose=1, shuffle=True)"
   ]
  },
  {
   "cell_type": "code",
   "execution_count": 11,
   "metadata": {},
   "outputs": [
    {
     "name": "stdout",
     "output_type": "stream",
     "text": [
      "_________________________________________________________________\n",
      "Layer (type)                 Output Shape              Param #   \n",
      "=================================================================\n",
      "embedding_3 (Embedding)      (None, 200, 100)          1538800   \n",
      "_________________________________________________________________\n",
      "conv1d_3 (Conv1D)            (None, 194, 32)           22432     \n",
      "_________________________________________________________________\n",
      "max_pooling1d_2 (MaxPooling1 (None, 38, 32)            0         \n",
      "_________________________________________________________________\n",
      "conv1d_4 (Conv1D)            (None, 32, 32)            7200      \n",
      "_________________________________________________________________\n",
      "global_max_pooling1d_2 (Glob (None, 32)                0         \n",
      "_________________________________________________________________\n",
      "dense_2 (Dense)              (None, 10)                330       \n",
      "=================================================================\n",
      "Total params: 1,568,762\n",
      "Trainable params: 1,568,762\n",
      "Non-trainable params: 0\n",
      "_________________________________________________________________\n",
      "Train on 10649 samples, validate on 2663 samples\n",
      "Epoch 1/20\n",
      "10649/10649 [==============================] - 2s 185us/step - loss: 1.0643 - categorical_accuracy: 0.6579 - val_loss: 0.8924 - val_categorical_accuracy: 0.7112\n",
      "Epoch 2/20\n",
      "10649/10649 [==============================] - 2s 149us/step - loss: 0.6076 - categorical_accuracy: 0.8008 - val_loss: 0.8199 - val_categorical_accuracy: 0.7495\n",
      "Epoch 3/20\n",
      "10649/10649 [==============================] - 2s 154us/step - loss: 0.4401 - categorical_accuracy: 0.8533 - val_loss: 0.8527 - val_categorical_accuracy: 0.7439\n",
      "Epoch 4/20\n",
      "10649/10649 [==============================] - 2s 150us/step - loss: 0.3265 - categorical_accuracy: 0.8911 - val_loss: 0.7516 - val_categorical_accuracy: 0.7890\n",
      "Epoch 5/20\n",
      "10649/10649 [==============================] - 2s 152us/step - loss: 0.2341 - categorical_accuracy: 0.9220 - val_loss: 0.9124 - val_categorical_accuracy: 0.7702\n",
      "Epoch 6/20\n",
      "10649/10649 [==============================] - 2s 151us/step - loss: 0.1722 - categorical_accuracy: 0.9425 - val_loss: 1.0064 - val_categorical_accuracy: 0.7439\n",
      "Epoch 7/20\n",
      "10649/10649 [==============================] - 2s 152us/step - loss: 0.1269 - categorical_accuracy: 0.9590 - val_loss: 1.0272 - val_categorical_accuracy: 0.7713\n",
      "Epoch 8/20\n",
      "10649/10649 [==============================] - 2s 159us/step - loss: 0.0879 - categorical_accuracy: 0.9722 - val_loss: 1.0202 - val_categorical_accuracy: 0.7784\n",
      "Epoch 9/20\n",
      "10649/10649 [==============================] - 2s 148us/step - loss: 0.0658 - categorical_accuracy: 0.9804 - val_loss: 1.0587 - val_categorical_accuracy: 0.7841\n",
      "Epoch 10/20\n",
      "10649/10649 [==============================] - 2s 148us/step - loss: 0.0460 - categorical_accuracy: 0.9858 - val_loss: 1.1692 - val_categorical_accuracy: 0.7818\n",
      "Epoch 11/20\n",
      "10649/10649 [==============================] - 2s 150us/step - loss: 0.0360 - categorical_accuracy: 0.9892 - val_loss: 1.1529 - val_categorical_accuracy: 0.7901\n",
      "Epoch 12/20\n",
      "10649/10649 [==============================] - 2s 160us/step - loss: 0.0343 - categorical_accuracy: 0.9894 - val_loss: 1.1243 - val_categorical_accuracy: 0.8002\n",
      "Epoch 13/20\n",
      "10649/10649 [==============================] - 2s 164us/step - loss: 0.0260 - categorical_accuracy: 0.9936 - val_loss: 1.2271 - val_categorical_accuracy: 0.7908\n",
      "Epoch 14/20\n",
      "10649/10649 [==============================] - 2s 146us/step - loss: 0.0226 - categorical_accuracy: 0.9940 - val_loss: 1.2872 - val_categorical_accuracy: 0.7920\n",
      "Epoch 15/20\n",
      "10649/10649 [==============================] - 2s 147us/step - loss: 0.0223 - categorical_accuracy: 0.9938 - val_loss: 1.3297 - val_categorical_accuracy: 0.7935\n",
      "Epoch 16/20\n",
      "10649/10649 [==============================] - 2s 144us/step - loss: 0.0206 - categorical_accuracy: 0.9944 - val_loss: 1.5527 - val_categorical_accuracy: 0.7634\n",
      "Epoch 17/20\n",
      "10649/10649 [==============================] - 2s 154us/step - loss: 0.0125 - categorical_accuracy: 0.9957 - val_loss: 1.5048 - val_categorical_accuracy: 0.7852\n",
      "Epoch 18/20\n",
      "10649/10649 [==============================] - 2s 162us/step - loss: 0.0135 - categorical_accuracy: 0.9961 - val_loss: 1.5568 - val_categorical_accuracy: 0.7897\n",
      "Epoch 19/20\n",
      "10649/10649 [==============================] - 2s 148us/step - loss: 0.0165 - categorical_accuracy: 0.9958 - val_loss: 2.2187 - val_categorical_accuracy: 0.7262\n",
      "Epoch 20/20\n",
      "10649/10649 [==============================] - 2s 155us/step - loss: 0.0152 - categorical_accuracy: 0.9967 - val_loss: 1.6257 - val_categorical_accuracy: 0.7743\n"
     ]
    }
   ],
   "source": [
    "model = Sequential()\n",
    "model.add(Embedding(vocabulario, dim_vetor, weights=[embedding_matrix], input_length=limite_texto, trainable=True))\n",
    "model.add(Conv1D(32, 7, activation='relu'))\n",
    "model.add(MaxPooling1D(5))\n",
    "model.add(Conv1D(32, 7, activation='relu'))\n",
    "model.add(GlobalMaxPooling1D())\n",
    "model.add(Dense(y.shape[1], activation='softmax'))\n",
    "model.compile(loss='categorical_crossentropy', optimizer=RMSprop(),  metrics=[\"categorical_accuracy\"])\n",
    "model.summary()\n",
    "history = model.fit(x, y, epochs=20, batch_size=32, validation_split=0.2, verbose=1, shuffle=True)"
   ]
  },
  {
   "cell_type": "code",
   "execution_count": 12,
   "metadata": {},
   "outputs": [
    {
     "name": "stdout",
     "output_type": "stream",
     "text": [
      "_________________________________________________________________\n",
      "Layer (type)                 Output Shape              Param #   \n",
      "=================================================================\n",
      "embedding_4 (Embedding)      (None, 200, 100)          1538800   \n",
      "_________________________________________________________________\n",
      "conv1d_5 (Conv1D)            (None, 194, 64)           44864     \n",
      "_________________________________________________________________\n",
      "max_pooling1d_3 (MaxPooling1 (None, 38, 64)            0         \n",
      "_________________________________________________________________\n",
      "conv1d_6 (Conv1D)            (None, 32, 32)            14368     \n",
      "_________________________________________________________________\n",
      "global_max_pooling1d_3 (Glob (None, 32)                0         \n",
      "_________________________________________________________________\n",
      "dense_3 (Dense)              (None, 10)                330       \n",
      "=================================================================\n",
      "Total params: 1,598,362\n",
      "Trainable params: 1,598,362\n",
      "Non-trainable params: 0\n",
      "_________________________________________________________________\n",
      "Train on 10649 samples, validate on 2663 samples\n",
      "Epoch 1/20\n",
      "10649/10649 [==============================] - 2s 222us/step - loss: 0.9835 - categorical_accuracy: 0.6761 - val_loss: 1.0269 - val_categorical_accuracy: 0.6695\n",
      "Epoch 2/20\n",
      "10649/10649 [==============================] - 2s 149us/step - loss: 0.5422 - categorical_accuracy: 0.8203 - val_loss: 0.8520 - val_categorical_accuracy: 0.7431\n",
      "Epoch 3/20\n",
      "10649/10649 [==============================] - 2s 153us/step - loss: 0.3582 - categorical_accuracy: 0.8811 - val_loss: 0.8086 - val_categorical_accuracy: 0.7646\n",
      "Epoch 4/20\n",
      "10649/10649 [==============================] - 2s 166us/step - loss: 0.2425 - categorical_accuracy: 0.9212 - val_loss: 0.8137 - val_categorical_accuracy: 0.7799\n",
      "Epoch 5/20\n",
      "10649/10649 [==============================] - 2s 167us/step - loss: 0.1578 - categorical_accuracy: 0.9483 - val_loss: 1.1106 - val_categorical_accuracy: 0.7398\n",
      "Epoch 6/20\n",
      "10649/10649 [==============================] - 2s 161us/step - loss: 0.1009 - categorical_accuracy: 0.9684 - val_loss: 0.9669 - val_categorical_accuracy: 0.7721\n",
      "Epoch 7/20\n",
      "10649/10649 [==============================] - 2s 153us/step - loss: 0.0755 - categorical_accuracy: 0.9752 - val_loss: 0.9818 - val_categorical_accuracy: 0.7878\n",
      "Epoch 8/20\n",
      "10649/10649 [==============================] - 2s 152us/step - loss: 0.0521 - categorical_accuracy: 0.9850 - val_loss: 1.2350 - val_categorical_accuracy: 0.7676\n",
      "Epoch 9/20\n",
      "10649/10649 [==============================] - 2s 154us/step - loss: 0.0389 - categorical_accuracy: 0.9876 - val_loss: 1.4552 - val_categorical_accuracy: 0.7567\n",
      "Epoch 10/20\n",
      "10649/10649 [==============================] - 2s 156us/step - loss: 0.0329 - categorical_accuracy: 0.9900 - val_loss: 1.2351 - val_categorical_accuracy: 0.7916\n",
      "Epoch 11/20\n",
      "10649/10649 [==============================] - 2s 166us/step - loss: 0.0261 - categorical_accuracy: 0.9925 - val_loss: 1.4090 - val_categorical_accuracy: 0.7713\n",
      "Epoch 12/20\n",
      "10649/10649 [==============================] - 2s 163us/step - loss: 0.0251 - categorical_accuracy: 0.9926 - val_loss: 1.2453 - val_categorical_accuracy: 0.7998\n",
      "Epoch 13/20\n",
      "10649/10649 [==============================] - 2s 158us/step - loss: 0.0230 - categorical_accuracy: 0.9923 - val_loss: 1.3891 - val_categorical_accuracy: 0.7961\n",
      "Epoch 14/20\n",
      "10649/10649 [==============================] - 2s 158us/step - loss: 0.0209 - categorical_accuracy: 0.9942 - val_loss: 1.3843 - val_categorical_accuracy: 0.7905\n",
      "Epoch 15/20\n",
      "10649/10649 [==============================] - 2s 160us/step - loss: 0.0227 - categorical_accuracy: 0.9926 - val_loss: 1.5470 - val_categorical_accuracy: 0.7908\n",
      "Epoch 16/20\n",
      "10649/10649 [==============================] - 2s 160us/step - loss: 0.0168 - categorical_accuracy: 0.9946 - val_loss: 1.4585 - val_categorical_accuracy: 0.8014\n",
      "Epoch 17/20\n",
      "10649/10649 [==============================] - 2s 158us/step - loss: 0.0150 - categorical_accuracy: 0.9952 - val_loss: 1.4958 - val_categorical_accuracy: 0.7950\n",
      "Epoch 18/20\n",
      "10649/10649 [==============================] - 2s 155us/step - loss: 0.0159 - categorical_accuracy: 0.9954 - val_loss: 1.5612 - val_categorical_accuracy: 0.7916\n",
      "Epoch 19/20\n",
      "10649/10649 [==============================] - 2s 164us/step - loss: 0.0138 - categorical_accuracy: 0.9959 - val_loss: 1.6525 - val_categorical_accuracy: 0.7747\n",
      "Epoch 20/20\n",
      "10649/10649 [==============================] - 2s 169us/step - loss: 0.0144 - categorical_accuracy: 0.9957 - val_loss: 1.6323 - val_categorical_accuracy: 0.7950\n"
     ]
    }
   ],
   "source": [
    "model = Sequential()\n",
    "model.add(Embedding(vocabulario, dim_vetor, weights=[embedding_matrix], input_length=limite_texto, trainable=True))\n",
    "model.add(Conv1D(64, 7, activation='relu'))\n",
    "model.add(MaxPooling1D(5))\n",
    "model.add(Conv1D(32, 7, activation='relu'))\n",
    "model.add(GlobalMaxPooling1D())\n",
    "model.add(Dense(y.shape[1], activation='softmax'))\n",
    "model.compile(loss='categorical_crossentropy', optimizer=RMSprop(),  metrics=[\"categorical_accuracy\"])\n",
    "model.summary()\n",
    "history = model.fit(x, y, epochs=20, batch_size=32, validation_split=0.2, verbose=1, shuffle=True)"
   ]
  },
  {
   "cell_type": "code",
   "execution_count": 14,
   "metadata": {},
   "outputs": [
    {
     "name": "stderr",
     "output_type": "stream",
     "text": [
      "W1130 17:07:58.660342 140656601720640 deprecation.py:506] From /home/leonardo/anaconda3/envs/gpu/lib/python3.7/site-packages/keras/backend/tensorflow_backend.py:3445: calling dropout (from tensorflow.python.ops.nn_ops) with keep_prob is deprecated and will be removed in a future version.\n",
      "Instructions for updating:\n",
      "Please use `rate` instead of `keep_prob`. Rate should be set to `rate = 1 - keep_prob`.\n"
     ]
    },
    {
     "name": "stdout",
     "output_type": "stream",
     "text": [
      "_________________________________________________________________\n",
      "Layer (type)                 Output Shape              Param #   \n",
      "=================================================================\n",
      "embedding_6 (Embedding)      (None, 200, 100)          1538800   \n",
      "_________________________________________________________________\n",
      "conv1d_9 (Conv1D)            (None, 194, 32)           22432     \n",
      "_________________________________________________________________\n",
      "max_pooling1d_5 (MaxPooling1 (None, 38, 32)            0         \n",
      "_________________________________________________________________\n",
      "conv1d_10 (Conv1D)           (None, 32, 32)            7200      \n",
      "_________________________________________________________________\n",
      "gru_1 (GRU)                  (None, 32)                6240      \n",
      "_________________________________________________________________\n",
      "dense_4 (Dense)              (None, 10)                330       \n",
      "=================================================================\n",
      "Total params: 1,575,002\n",
      "Trainable params: 1,575,002\n",
      "Non-trainable params: 0\n",
      "_________________________________________________________________\n",
      "Train on 10649 samples, validate on 2663 samples\n",
      "Epoch 1/20\n",
      "10649/10649 [==============================] - 14s 1ms/step - loss: 1.2242 - categorical_accuracy: 0.5998 - val_loss: 1.0523 - val_categorical_accuracy: 0.6466\n",
      "Epoch 2/20\n",
      "10649/10649 [==============================] - 13s 1ms/step - loss: 0.7505 - categorical_accuracy: 0.7545 - val_loss: 0.8089 - val_categorical_accuracy: 0.7398\n",
      "Epoch 3/20\n",
      "10649/10649 [==============================] - 13s 1ms/step - loss: 0.5847 - categorical_accuracy: 0.8107 - val_loss: 0.8767 - val_categorical_accuracy: 0.7323\n",
      "Epoch 4/20\n",
      "10649/10649 [==============================] - 13s 1ms/step - loss: 0.4728 - categorical_accuracy: 0.8493 - val_loss: 0.6233 - val_categorical_accuracy: 0.8047\n",
      "Epoch 5/20\n",
      "10649/10649 [==============================] - 13s 1ms/step - loss: 0.3999 - categorical_accuracy: 0.8750 - val_loss: 0.6908 - val_categorical_accuracy: 0.7901\n",
      "Epoch 6/20\n",
      "10649/10649 [==============================] - 13s 1ms/step - loss: 0.3402 - categorical_accuracy: 0.8924 - val_loss: 0.7902 - val_categorical_accuracy: 0.7796\n",
      "Epoch 7/20\n",
      "10649/10649 [==============================] - 13s 1ms/step - loss: 0.2810 - categorical_accuracy: 0.9095 - val_loss: 0.7011 - val_categorical_accuracy: 0.8002\n",
      "Epoch 8/20\n",
      "10649/10649 [==============================] - 14s 1ms/step - loss: 0.2367 - categorical_accuracy: 0.9257 - val_loss: 0.6567 - val_categorical_accuracy: 0.8104\n",
      "Epoch 9/20\n",
      "10649/10649 [==============================] - 13s 1ms/step - loss: 0.1992 - categorical_accuracy: 0.9397 - val_loss: 0.6896 - val_categorical_accuracy: 0.8092\n",
      "Epoch 10/20\n",
      "10649/10649 [==============================] - 13s 1ms/step - loss: 0.1716 - categorical_accuracy: 0.9457 - val_loss: 0.8714 - val_categorical_accuracy: 0.7796\n",
      "Epoch 11/20\n",
      "10649/10649 [==============================] - 13s 1ms/step - loss: 0.1393 - categorical_accuracy: 0.9562 - val_loss: 0.9369 - val_categorical_accuracy: 0.7777\n",
      "Epoch 12/20\n",
      "10649/10649 [==============================] - 13s 1ms/step - loss: 0.1146 - categorical_accuracy: 0.9649 - val_loss: 0.9239 - val_categorical_accuracy: 0.7908\n",
      "Epoch 13/20\n",
      "10649/10649 [==============================] - 13s 1ms/step - loss: 0.1022 - categorical_accuracy: 0.9682 - val_loss: 0.8852 - val_categorical_accuracy: 0.8010\n",
      "Epoch 14/20\n",
      "10649/10649 [==============================] - 13s 1ms/step - loss: 0.0925 - categorical_accuracy: 0.9704 - val_loss: 0.9251 - val_categorical_accuracy: 0.7991\n",
      "Epoch 15/20\n",
      "10649/10649 [==============================] - 13s 1ms/step - loss: 0.0801 - categorical_accuracy: 0.9744 - val_loss: 0.8472 - val_categorical_accuracy: 0.8141\n",
      "Epoch 16/20\n",
      "10649/10649 [==============================] - 13s 1ms/step - loss: 0.0694 - categorical_accuracy: 0.9779 - val_loss: 0.8831 - val_categorical_accuracy: 0.8130\n",
      "Epoch 17/20\n",
      "10649/10649 [==============================] - 13s 1ms/step - loss: 0.0625 - categorical_accuracy: 0.9789 - val_loss: 0.9402 - val_categorical_accuracy: 0.8032\n",
      "Epoch 18/20\n",
      "10649/10649 [==============================] - 12s 1ms/step - loss: 0.0536 - categorical_accuracy: 0.9836 - val_loss: 0.9828 - val_categorical_accuracy: 0.8074\n",
      "Epoch 19/20\n",
      "10649/10649 [==============================] - 13s 1ms/step - loss: 0.0537 - categorical_accuracy: 0.9836 - val_loss: 1.0743 - val_categorical_accuracy: 0.8017\n",
      "Epoch 20/20\n",
      "10649/10649 [==============================] - 13s 1ms/step - loss: 0.0379 - categorical_accuracy: 0.9885 - val_loss: 1.2425 - val_categorical_accuracy: 0.7837\n"
     ]
    }
   ],
   "source": [
    "from keras.layers import GRU\n",
    "\n",
    "model = Sequential()\n",
    "model.add(Embedding(vocabulario, dim_vetor, weights=[embedding_matrix], input_length=limite_texto, trainable=True))\n",
    "model.add(Conv1D(32, 7, activation='relu'))\n",
    "model.add(MaxPooling1D(5))\n",
    "model.add(Conv1D(32, 7, activation='relu'))\n",
    "model.add(GRU(32, dropout=0.2, recurrent_dropout=0.2))\n",
    "model.add(Dense(y.shape[1], activation='softmax'))\n",
    "model.compile(loss='categorical_crossentropy', optimizer=RMSprop(),  metrics=[\"categorical_accuracy\"])\n",
    "model.summary()\n",
    "history = model.fit(x, y, epochs=20, batch_size=32, validation_split=0.2, verbose=1, shuffle=True)"
   ]
  },
  {
   "cell_type": "code",
   "execution_count": 15,
   "metadata": {},
   "outputs": [
    {
     "name": "stdout",
     "output_type": "stream",
     "text": [
      "_________________________________________________________________\n",
      "Layer (type)                 Output Shape              Param #   \n",
      "=================================================================\n",
      "embedding_7 (Embedding)      (None, 200, 100)          1538800   \n",
      "_________________________________________________________________\n",
      "conv1d_11 (Conv1D)           (None, 194, 32)           22432     \n",
      "_________________________________________________________________\n",
      "max_pooling1d_6 (MaxPooling1 (None, 38, 32)            0         \n",
      "_________________________________________________________________\n",
      "conv1d_12 (Conv1D)           (None, 32, 32)            7200      \n",
      "_________________________________________________________________\n",
      "gru_2 (GRU)                  (None, 64)                18624     \n",
      "_________________________________________________________________\n",
      "dense_5 (Dense)              (None, 10)                650       \n",
      "=================================================================\n",
      "Total params: 1,587,706\n",
      "Trainable params: 1,587,706\n",
      "Non-trainable params: 0\n",
      "_________________________________________________________________\n",
      "Train on 10649 samples, validate on 2663 samples\n",
      "Epoch 1/20\n",
      "10649/10649 [==============================] - 15s 1ms/step - loss: 1.1340 - categorical_accuracy: 0.6201 - val_loss: 0.8851 - val_categorical_accuracy: 0.7225\n",
      "Epoch 2/20\n",
      "10649/10649 [==============================] - 12s 1ms/step - loss: 0.7013 - categorical_accuracy: 0.7702 - val_loss: 0.7568 - val_categorical_accuracy: 0.7507\n",
      "Epoch 3/20\n",
      "10649/10649 [==============================] - 12s 1ms/step - loss: 0.5465 - categorical_accuracy: 0.8212 - val_loss: 0.7279 - val_categorical_accuracy: 0.7736\n",
      "Epoch 4/20\n",
      "10649/10649 [==============================] - 14s 1ms/step - loss: 0.4513 - categorical_accuracy: 0.8497 - val_loss: 0.7575 - val_categorical_accuracy: 0.7661\n",
      "Epoch 5/20\n",
      "10649/10649 [==============================] - 13s 1ms/step - loss: 0.3618 - categorical_accuracy: 0.8809 - val_loss: 0.8898 - val_categorical_accuracy: 0.7401\n",
      "Epoch 6/20\n",
      "10649/10649 [==============================] - 13s 1ms/step - loss: 0.3025 - categorical_accuracy: 0.9019 - val_loss: 0.9156 - val_categorical_accuracy: 0.7443\n",
      "Epoch 7/20\n",
      "10649/10649 [==============================] - 13s 1ms/step - loss: 0.2494 - categorical_accuracy: 0.9186 - val_loss: 0.8587 - val_categorical_accuracy: 0.7593\n",
      "Epoch 8/20\n",
      "10649/10649 [==============================] - 13s 1ms/step - loss: 0.2028 - categorical_accuracy: 0.9348 - val_loss: 0.7372 - val_categorical_accuracy: 0.8025\n",
      "Epoch 9/20\n",
      "10649/10649 [==============================] - 13s 1ms/step - loss: 0.1695 - categorical_accuracy: 0.9466 - val_loss: 0.7735 - val_categorical_accuracy: 0.7957\n",
      "Epoch 10/20\n",
      "10649/10649 [==============================] - 13s 1ms/step - loss: 0.1392 - categorical_accuracy: 0.9567 - val_loss: 0.9198 - val_categorical_accuracy: 0.7762\n",
      "Epoch 11/20\n",
      "10649/10649 [==============================] - 13s 1ms/step - loss: 0.1160 - categorical_accuracy: 0.9617 - val_loss: 0.9236 - val_categorical_accuracy: 0.8002\n",
      "Epoch 12/20\n",
      "10649/10649 [==============================] - 13s 1ms/step - loss: 0.1037 - categorical_accuracy: 0.9694 - val_loss: 0.8444 - val_categorical_accuracy: 0.8014\n",
      "Epoch 13/20\n",
      "10649/10649 [==============================] - 13s 1ms/step - loss: 0.0841 - categorical_accuracy: 0.9730 - val_loss: 0.8845 - val_categorical_accuracy: 0.8021\n",
      "Epoch 14/20\n",
      "10649/10649 [==============================] - 12s 1ms/step - loss: 0.0723 - categorical_accuracy: 0.9774 - val_loss: 1.0283 - val_categorical_accuracy: 0.8006\n",
      "Epoch 15/20\n",
      "10649/10649 [==============================] - 12s 1ms/step - loss: 0.0595 - categorical_accuracy: 0.9801 - val_loss: 0.9992 - val_categorical_accuracy: 0.8100\n",
      "Epoch 16/20\n",
      "10649/10649 [==============================] - 12s 1ms/step - loss: 0.0573 - categorical_accuracy: 0.9814 - val_loss: 1.1177 - val_categorical_accuracy: 0.7852\n",
      "Epoch 17/20\n",
      "10649/10649 [==============================] - 12s 1ms/step - loss: 0.0483 - categorical_accuracy: 0.9849 - val_loss: 1.1293 - val_categorical_accuracy: 0.7976\n",
      "Epoch 18/20\n",
      "10649/10649 [==============================] - 12s 1ms/step - loss: 0.0383 - categorical_accuracy: 0.9878 - val_loss: 1.0651 - val_categorical_accuracy: 0.8111\n",
      "Epoch 19/20\n",
      "10649/10649 [==============================] - 12s 1ms/step - loss: 0.0408 - categorical_accuracy: 0.9857 - val_loss: 1.2013 - val_categorical_accuracy: 0.7935\n",
      "Epoch 20/20\n",
      "10649/10649 [==============================] - 12s 1ms/step - loss: 0.0413 - categorical_accuracy: 0.9867 - val_loss: 1.2526 - val_categorical_accuracy: 0.7931\n"
     ]
    }
   ],
   "source": [
    "model = Sequential()\n",
    "model.add(Embedding(vocabulario, dim_vetor, weights=[embedding_matrix], input_length=limite_texto, trainable=True))\n",
    "model.add(Conv1D(32, 7, activation='relu'))\n",
    "model.add(MaxPooling1D(5))\n",
    "model.add(Conv1D(32, 7, activation='relu'))\n",
    "model.add(GRU(64, dropout=0.2, recurrent_dropout=0.2))\n",
    "model.add(Dense(y.shape[1], activation='softmax'))\n",
    "model.compile(loss='categorical_crossentropy', optimizer=RMSprop(),  metrics=[\"categorical_accuracy\"])\n",
    "model.summary()\n",
    "history = model.fit(x, y, epochs=20, batch_size=32, validation_split=0.2, verbose=1, shuffle=True)"
   ]
  },
  {
   "cell_type": "code",
   "execution_count": null,
   "metadata": {},
   "outputs": [],
   "source": []
  }
 ],
 "metadata": {
  "kernelspec": {
   "display_name": "Python 3",
   "language": "python",
   "name": "python3"
  },
  "language_info": {
   "codemirror_mode": {
    "name": "ipython",
    "version": 3
   },
   "file_extension": ".py",
   "mimetype": "text/x-python",
   "name": "python",
   "nbconvert_exporter": "python",
   "pygments_lexer": "ipython3",
   "version": "3.7.4"
  }
 },
 "nbformat": 4,
 "nbformat_minor": 2
}
