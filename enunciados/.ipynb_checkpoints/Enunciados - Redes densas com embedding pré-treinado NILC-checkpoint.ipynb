{
 "cells": [
  {
   "cell_type": "markdown",
   "metadata": {},
   "source": [
    "# Importação e preparação dos dados"
   ]
  },
  {
   "cell_type": "code",
   "execution_count": 2,
   "metadata": {},
   "outputs": [
    {
     "data": {
      "text/html": [
       "<div>\n",
       "<style scoped>\n",
       "    .dataframe tbody tr th:only-of-type {\n",
       "        vertical-align: middle;\n",
       "    }\n",
       "\n",
       "    .dataframe tbody tr th {\n",
       "        vertical-align: top;\n",
       "    }\n",
       "\n",
       "    .dataframe thead th {\n",
       "        text-align: right;\n",
       "    }\n",
       "</style>\n",
       "<table border=\"1\" class=\"dataframe\">\n",
       "  <thead>\n",
       "    <tr style=\"text-align: right;\">\n",
       "      <th></th>\n",
       "      <th>COD</th>\n",
       "      <th>NUM_ENUNCIADO</th>\n",
       "      <th>COD_AREA</th>\n",
       "      <th>DESCR_AREA</th>\n",
       "      <th>COD_TEMA</th>\n",
       "      <th>DESCR_TEMA</th>\n",
       "      <th>COD_SUBTEMA</th>\n",
       "      <th>DESCR_SUBTEMA</th>\n",
       "      <th>COD_DOC_TRAMITAVEL_ENUNCIADO</th>\n",
       "      <th>TEXTO_ENUNCIADO</th>\n",
       "      <th>ACORDAO</th>\n",
       "      <th>TIPO_PROCESSO</th>\n",
       "    </tr>\n",
       "  </thead>\n",
       "  <tbody>\n",
       "    <tr>\n",
       "      <th>0</th>\n",
       "      <td>1400</td>\n",
       "      <td>1236</td>\n",
       "      <td>50</td>\n",
       "      <td>Responsabilidade</td>\n",
       "      <td>488</td>\n",
       "      <td>Solidariedade</td>\n",
       "      <td>261</td>\n",
       "      <td>Benefício previdenciário</td>\n",
       "      <td>54995437</td>\n",
       "      <td>Não comprovada a participação do beneficiário ...</td>\n",
       "      <td>Acórdão 297/2016 - PL</td>\n",
       "      <td>Tomada de Contas Especial</td>\n",
       "    </tr>\n",
       "    <tr>\n",
       "      <th>1</th>\n",
       "      <td>1700</td>\n",
       "      <td>1534</td>\n",
       "      <td>46</td>\n",
       "      <td>Finanças Públicas</td>\n",
       "      <td>981</td>\n",
       "      <td>Exportação</td>\n",
       "      <td>983</td>\n",
       "      <td>Petróleo</td>\n",
       "      <td>55025587</td>\n",
       "      <td>A operação ficta de exportação de plataformas ...</td>\n",
       "      <td>Acórdão 366/2016 - PL</td>\n",
       "      <td>Solicitação do Congresso Nacional</td>\n",
       "    </tr>\n",
       "    <tr>\n",
       "      <th>2</th>\n",
       "      <td>5700</td>\n",
       "      <td>5314</td>\n",
       "      <td>50</td>\n",
       "      <td>Responsabilidade</td>\n",
       "      <td>203</td>\n",
       "      <td>Multa</td>\n",
       "      <td>1021</td>\n",
       "      <td>Dosimetria</td>\n",
       "      <td>55455370</td>\n",
       "      <td>No âmbito do TCU, a dosimetria da pena tem com...</td>\n",
       "      <td>Acórdão 944/2016 - PL</td>\n",
       "      <td>Acompanhamento</td>\n",
       "    </tr>\n",
       "    <tr>\n",
       "      <th>3</th>\n",
       "      <td>284</td>\n",
       "      <td>40</td>\n",
       "      <td>45</td>\n",
       "      <td>Direito Processual</td>\n",
       "      <td>162</td>\n",
       "      <td>Princípio da independência das instâncias</td>\n",
       "      <td>481</td>\n",
       "      <td>Decisão judicial</td>\n",
       "      <td>54773746</td>\n",
       "      <td>O princípio da independência das instâncias pe...</td>\n",
       "      <td>Acórdão 30/2016 - PL</td>\n",
       "      <td>Tomada de Contas Especial</td>\n",
       "    </tr>\n",
       "    <tr>\n",
       "      <th>4</th>\n",
       "      <td>298</td>\n",
       "      <td>54</td>\n",
       "      <td>49</td>\n",
       "      <td>Pessoal</td>\n",
       "      <td>141</td>\n",
       "      <td>Sistema S</td>\n",
       "      <td>142</td>\n",
       "      <td>Nepotismo</td>\n",
       "      <td>54773402</td>\n",
       "      <td>É vedado aos dirigentes das entidades do Siste...</td>\n",
       "      <td>Acórdão 55/2016 - PL</td>\n",
       "      <td>Representação</td>\n",
       "    </tr>\n",
       "  </tbody>\n",
       "</table>\n",
       "</div>"
      ],
      "text/plain": [
       "    COD  NUM_ENUNCIADO  COD_AREA          DESCR_AREA  COD_TEMA  \\\n",
       "0  1400           1236        50    Responsabilidade       488   \n",
       "1  1700           1534        46   Finanças Públicas       981   \n",
       "2  5700           5314        50    Responsabilidade       203   \n",
       "3   284             40        45  Direito Processual       162   \n",
       "4   298             54        49             Pessoal       141   \n",
       "\n",
       "                                  DESCR_TEMA  COD_SUBTEMA  \\\n",
       "0                              Solidariedade          261   \n",
       "1                                 Exportação          983   \n",
       "2                                      Multa         1021   \n",
       "3  Princípio da independência das instâncias          481   \n",
       "4                                  Sistema S          142   \n",
       "\n",
       "              DESCR_SUBTEMA  COD_DOC_TRAMITAVEL_ENUNCIADO  \\\n",
       "0  Benefício previdenciário                      54995437   \n",
       "1                  Petróleo                      55025587   \n",
       "2                Dosimetria                      55455370   \n",
       "3          Decisão judicial                      54773746   \n",
       "4                 Nepotismo                      54773402   \n",
       "\n",
       "                                     TEXTO_ENUNCIADO                ACORDAO  \\\n",
       "0  Não comprovada a participação do beneficiário ...  Acórdão 297/2016 - PL   \n",
       "1  A operação ficta de exportação de plataformas ...  Acórdão 366/2016 - PL   \n",
       "2  No âmbito do TCU, a dosimetria da pena tem com...  Acórdão 944/2016 - PL   \n",
       "3  O princípio da independência das instâncias pe...   Acórdão 30/2016 - PL   \n",
       "4  É vedado aos dirigentes das entidades do Siste...   Acórdão 55/2016 - PL   \n",
       "\n",
       "                        TIPO_PROCESSO  \n",
       "0           Tomada de Contas Especial  \n",
       "1   Solicitação do Congresso Nacional  \n",
       "2                      Acompanhamento  \n",
       "3           Tomada de Contas Especial  \n",
       "4                       Representação  "
      ]
     },
     "execution_count": 2,
     "metadata": {},
     "output_type": "execute_result"
    }
   ],
   "source": [
    "import pandas as pd\n",
    "\n",
    "df = pd.read_csv('../dados/jurisprudencia_selecionada_enunciados.csv', sep = '|')\n",
    "df.head()"
   ]
  },
  {
   "cell_type": "code",
   "execution_count": 2,
   "metadata": {},
   "outputs": [
    {
     "data": {
      "text/plain": [
       "(13312, 12)"
      ]
     },
     "execution_count": 2,
     "metadata": {},
     "output_type": "execute_result"
    }
   ],
   "source": [
    "df.shape"
   ]
  },
  {
   "cell_type": "code",
   "execution_count": 3,
   "metadata": {},
   "outputs": [
    {
     "data": {
      "text/plain": [
       "DESCR_AREA\n",
       "Competência do TCU          557\n",
       "Contrato Administrativo     942\n",
       "Convênio                    685\n",
       "Desestatização              140\n",
       "Direito Processual         1813\n",
       "Finanças Públicas           328\n",
       "Gestão Administrativa       339\n",
       "Licitação                  2765\n",
       "Pessoal                    3396\n",
       "Responsabilidade           2347\n",
       "dtype: int64"
      ]
     },
     "execution_count": 3,
     "metadata": {},
     "output_type": "execute_result"
    }
   ],
   "source": [
    "df.groupby(['DESCR_AREA']).size()"
   ]
  },
  {
   "cell_type": "code",
   "execution_count": 4,
   "metadata": {},
   "outputs": [
    {
     "data": {
      "text/plain": [
       "dict_keys(['Competência do TCU', 'Contrato Administrativo', 'Convênio', 'Desestatização', 'Direito Processual', 'Finanças Públicas', 'Gestão Administrativa', 'Licitação', 'Pessoal', 'Responsabilidade'])"
      ]
     },
     "execution_count": 4,
     "metadata": {},
     "output_type": "execute_result"
    }
   ],
   "source": [
    "areas = df.groupby(['DESCR_AREA']).groups.keys()\n",
    "areas"
   ]
  },
  {
   "cell_type": "code",
   "execution_count": 5,
   "metadata": {},
   "outputs": [
    {
     "data": {
      "text/plain": [
       "array(['Competência do TCU', 'Contrato Administrativo', 'Convênio',\n",
       "       'Desestatização', 'Direito Processual', 'Finanças Públicas',\n",
       "       'Gestão Administrativa', 'Licitação', 'Pessoal',\n",
       "       'Responsabilidade'], dtype='<U23')"
      ]
     },
     "execution_count": 5,
     "metadata": {},
     "output_type": "execute_result"
    }
   ],
   "source": [
    "from sklearn.preprocessing import LabelBinarizer\n",
    "\n",
    "lbArea = LabelBinarizer()\n",
    "lbArea.fit([x for x in areas])\n",
    "lbArea.classes_"
   ]
  },
  {
   "cell_type": "code",
   "execution_count": 6,
   "metadata": {},
   "outputs": [
    {
     "data": {
      "text/plain": [
       "(13312, 10)"
      ]
     },
     "execution_count": 6,
     "metadata": {},
     "output_type": "execute_result"
    }
   ],
   "source": [
    "y = lbArea.transform(df['DESCR_AREA'])\n",
    "y.shape"
   ]
  },
  {
   "cell_type": "code",
   "execution_count": 7,
   "metadata": {},
   "outputs": [
    {
     "name": "stderr",
     "output_type": "stream",
     "text": [
      "Using TensorFlow backend.\n"
     ]
    },
    {
     "name": "stdout",
     "output_type": "stream",
     "text": [
      "Found 15387 unique tokens.\n"
     ]
    }
   ],
   "source": [
    "from keras.preprocessing.text import Tokenizer\n",
    "import numpy as np\n",
    "\n",
    "limite_texto = 200\n",
    "dim_vetor = 100\n",
    "\n",
    "tokenizer = Tokenizer()\n",
    "tokenizer.fit_on_texts(df['TEXTO_ENUNCIADO'])\n",
    "\n",
    "word_index = tokenizer.word_index\n",
    "vocabulario = len(word_index) + 1\n",
    "print('Found %s unique tokens.' % len(word_index))\n",
    "\n",
    "sequences = tokenizer.texts_to_sequences(df['TEXTO_ENUNCIADO'])"
   ]
  },
  {
   "cell_type": "code",
   "execution_count": 8,
   "metadata": {},
   "outputs": [
    {
     "name": "stdout",
     "output_type": "stream",
     "text": [
      "Shape of data tensor: (13312, 200)\n"
     ]
    }
   ],
   "source": [
    "from keras.preprocessing.sequence import pad_sequences\n",
    "\n",
    "x = pad_sequences(sequences, maxlen=limite_texto)\n",
    "\n",
    "print('Shape of data tensor:', x.shape)"
   ]
  },
  {
   "cell_type": "code",
   "execution_count": 9,
   "metadata": {},
   "outputs": [
    {
     "name": "stderr",
     "output_type": "stream",
     "text": [
      "/home/leonardo/anaconda3/envs/gpu/lib/python3.7/site-packages/smart_open/smart_open_lib.py:398: UserWarning: This function is deprecated, use smart_open.open instead. See the migration notes for details: https://github.com/RaRe-Technologies/smart_open/blob/master/README.rst#migrating-to-the-new-open-function\n",
      "  'See the migration notes for details: %s' % _MIGRATION_NOTES_URL\n"
     ]
    }
   ],
   "source": [
    "from gensim.models import KeyedVectors\n",
    "\n",
    "model = KeyedVectors.load_word2vec_format('model.txt')"
   ]
  },
  {
   "cell_type": "code",
   "execution_count": 10,
   "metadata": {},
   "outputs": [
    {
     "name": "stdout",
     "output_type": "stream",
     "text": [
      "Vocabulario: 15387\n",
      "Encontrados no modelo: 13758 = 89.41314096315071\n"
     ]
    }
   ],
   "source": [
    "# create a weight matrix for words in training docs\n",
    "\n",
    "embedding_matrix = np.zeros((vocabulario, 100))\n",
    "\n",
    "ok = 0\n",
    "for word, i in tokenizer.word_index.items():\n",
    "    if word in model:\n",
    "        embedding_matrix[i] = model[word]\n",
    "        ok += 1\n",
    "print('Vocabulario:', i)\n",
    "print('Encontrados no modelo:', ok, '=', ok * 100. / i)"
   ]
  },
  {
   "cell_type": "markdown",
   "metadata": {},
   "source": [
    "# Treinamento"
   ]
  },
  {
   "cell_type": "markdown",
   "metadata": {},
   "source": [
    "## Embedding com pesos fixos"
   ]
  },
  {
   "cell_type": "code",
   "execution_count": 11,
   "metadata": {},
   "outputs": [
    {
     "name": "stderr",
     "output_type": "stream",
     "text": [
      "WARNING: Logging before flag parsing goes to stderr.\n",
      "W0814 20:28:36.535892 139766008571712 deprecation_wrapper.py:119] From /home/leonardo/anaconda3/envs/gpu/lib/python3.7/site-packages/keras/backend/tensorflow_backend.py:74: The name tf.get_default_graph is deprecated. Please use tf.compat.v1.get_default_graph instead.\n",
      "\n"
     ]
    }
   ],
   "source": [
    "from keras.layers import Embedding\n",
    "\n",
    "embedding = Embedding(vocabulario, dim_vetor, weights=[embedding_matrix], input_length=limite_texto, trainable=False)"
   ]
  },
  {
   "cell_type": "code",
   "execution_count": 12,
   "metadata": {},
   "outputs": [
    {
     "name": "stderr",
     "output_type": "stream",
     "text": [
      "W0814 20:28:36.925387 139766008571712 deprecation_wrapper.py:119] From /home/leonardo/anaconda3/envs/gpu/lib/python3.7/site-packages/keras/backend/tensorflow_backend.py:517: The name tf.placeholder is deprecated. Please use tf.compat.v1.placeholder instead.\n",
      "\n",
      "W0814 20:28:37.014918 139766008571712 deprecation_wrapper.py:119] From /home/leonardo/anaconda3/envs/gpu/lib/python3.7/site-packages/keras/backend/tensorflow_backend.py:4138: The name tf.random_uniform is deprecated. Please use tf.random.uniform instead.\n",
      "\n",
      "W0814 20:28:37.066270 139766008571712 deprecation_wrapper.py:119] From /home/leonardo/anaconda3/envs/gpu/lib/python3.7/site-packages/keras/backend/tensorflow_backend.py:174: The name tf.get_default_session is deprecated. Please use tf.compat.v1.get_default_session instead.\n",
      "\n",
      "W0814 20:28:37.067885 139766008571712 deprecation_wrapper.py:119] From /home/leonardo/anaconda3/envs/gpu/lib/python3.7/site-packages/keras/backend/tensorflow_backend.py:181: The name tf.ConfigProto is deprecated. Please use tf.compat.v1.ConfigProto instead.\n",
      "\n",
      "W0814 20:28:49.043684 139766008571712 deprecation.py:506] From /home/leonardo/anaconda3/envs/gpu/lib/python3.7/site-packages/keras/backend/tensorflow_backend.py:3445: calling dropout (from tensorflow.python.ops.nn_ops) with keep_prob is deprecated and will be removed in a future version.\n",
      "Instructions for updating:\n",
      "Please use `rate` instead of `keep_prob`. Rate should be set to `rate = 1 - keep_prob`.\n",
      "W0814 20:28:49.044386 139766008571712 nn_ops.py:4224] Large dropout rate: 0.6 (>0.5). In TensorFlow 2.x, dropout() uses dropout rate instead of keep_prob. Please ensure that this is intended.\n",
      "W0814 20:28:49.069196 139766008571712 nn_ops.py:4224] Large dropout rate: 0.6 (>0.5). In TensorFlow 2.x, dropout() uses dropout rate instead of keep_prob. Please ensure that this is intended.\n",
      "W0814 20:28:49.090076 139766008571712 deprecation_wrapper.py:119] From /home/leonardo/anaconda3/envs/gpu/lib/python3.7/site-packages/keras/optimizers.py:790: The name tf.train.Optimizer is deprecated. Please use tf.compat.v1.train.Optimizer instead.\n",
      "\n"
     ]
    },
    {
     "name": "stdout",
     "output_type": "stream",
     "text": [
      "_________________________________________________________________\n",
      "Layer (type)                 Output Shape              Param #   \n",
      "=================================================================\n",
      "embedding_1 (Embedding)      (None, 200, 100)          1538800   \n",
      "_________________________________________________________________\n",
      "flatten_1 (Flatten)          (None, 20000)             0         \n",
      "_________________________________________________________________\n",
      "dense_1 (Dense)              (None, 2048)              40962048  \n",
      "_________________________________________________________________\n",
      "dropout_1 (Dropout)          (None, 2048)              0         \n",
      "_________________________________________________________________\n",
      "dense_2 (Dense)              (None, 1024)              2098176   \n",
      "_________________________________________________________________\n",
      "dropout_2 (Dropout)          (None, 1024)              0         \n",
      "_________________________________________________________________\n",
      "dense_3 (Dense)              (None, 10)                10250     \n",
      "=================================================================\n",
      "Total params: 44,609,274\n",
      "Trainable params: 43,070,474\n",
      "Non-trainable params: 1,538,800\n",
      "_________________________________________________________________\n"
     ]
    }
   ],
   "source": [
    "from keras.models import Sequential\n",
    "from keras.layers import Flatten, Dense, Embedding\n",
    "from keras.layers.core import Dropout\n",
    "\n",
    "model = Sequential()\n",
    "model.add(embedding)\n",
    "model.add(Flatten())\n",
    "model.add(Dense(2048, activation='relu'))\n",
    "model.add(Dropout(0.6))\n",
    "model.add(Dense(1024, activation='relu'))\n",
    "model.add(Dropout(0.6))\n",
    "model.add(Dense(y.shape[1], activation='softmax'))\n",
    "model.compile(loss='categorical_crossentropy', optimizer='adadelta',  metrics=[\"categorical_accuracy\"])\n",
    "model.summary()"
   ]
  },
  {
   "cell_type": "code",
   "execution_count": 13,
   "metadata": {},
   "outputs": [
    {
     "name": "stderr",
     "output_type": "stream",
     "text": [
      "W0814 20:28:49.309681 139766008571712 deprecation.py:323] From /home/leonardo/anaconda3/envs/gpu/lib/python3.7/site-packages/tensorflow/python/ops/math_grad.py:1250: add_dispatch_support.<locals>.wrapper (from tensorflow.python.ops.array_ops) is deprecated and will be removed in a future version.\n",
      "Instructions for updating:\n",
      "Use tf.where in 2.0, which has the same broadcast rule as np.where\n"
     ]
    },
    {
     "name": "stdout",
     "output_type": "stream",
     "text": [
      "Train on 10649 samples, validate on 2663 samples\n",
      "Epoch 1/20\n",
      "10649/10649 [==============================] - 20s 2ms/step - loss: 1.8962 - categorical_accuracy: 0.3776 - val_loss: 1.5626 - val_categorical_accuracy: 0.4071\n",
      "Epoch 2/20\n",
      "10649/10649 [==============================] - 17s 2ms/step - loss: 1.3631 - categorical_accuracy: 0.5450 - val_loss: 1.3286 - val_categorical_accuracy: 0.5700\n",
      "Epoch 3/20\n",
      "10649/10649 [==============================] - 17s 2ms/step - loss: 1.1084 - categorical_accuracy: 0.6336 - val_loss: 1.2555 - val_categorical_accuracy: 0.5922\n",
      "Epoch 4/20\n",
      "10649/10649 [==============================] - 17s 2ms/step - loss: 0.9091 - categorical_accuracy: 0.6951 - val_loss: 1.3502 - val_categorical_accuracy: 0.5621\n",
      "Epoch 5/20\n",
      "10649/10649 [==============================] - 17s 2ms/step - loss: 0.7568 - categorical_accuracy: 0.7465 - val_loss: 1.3908 - val_categorical_accuracy: 0.5659\n",
      "Epoch 6/20\n",
      "10649/10649 [==============================] - 17s 2ms/step - loss: 0.6238 - categorical_accuracy: 0.7925 - val_loss: 1.3718 - val_categorical_accuracy: 0.5907\n",
      "Epoch 7/20\n",
      "10649/10649 [==============================] - 16s 2ms/step - loss: 0.5021 - categorical_accuracy: 0.8326 - val_loss: 1.5668 - val_categorical_accuracy: 0.5862\n",
      "Epoch 8/20\n",
      "10649/10649 [==============================] - 16s 2ms/step - loss: 0.4249 - categorical_accuracy: 0.8616 - val_loss: 1.7420 - val_categorical_accuracy: 0.5715\n",
      "Epoch 9/20\n",
      "10649/10649 [==============================] - 17s 2ms/step - loss: 0.3590 - categorical_accuracy: 0.8831 - val_loss: 1.7409 - val_categorical_accuracy: 0.5779\n",
      "Epoch 10/20\n",
      "10649/10649 [==============================] - 17s 2ms/step - loss: 0.3003 - categorical_accuracy: 0.9020 - val_loss: 2.1110 - val_categorical_accuracy: 0.5550\n",
      "Epoch 11/20\n",
      "10649/10649 [==============================] - 17s 2ms/step - loss: 0.2637 - categorical_accuracy: 0.9108 - val_loss: 1.9166 - val_categorical_accuracy: 0.5986\n",
      "Epoch 12/20\n",
      "10649/10649 [==============================] - 17s 2ms/step - loss: 0.2377 - categorical_accuracy: 0.9249 - val_loss: 1.9522 - val_categorical_accuracy: 0.5802\n",
      "Epoch 13/20\n",
      "10649/10649 [==============================] - 17s 2ms/step - loss: 0.2127 - categorical_accuracy: 0.9299 - val_loss: 2.0610 - val_categorical_accuracy: 0.5956\n",
      "Epoch 14/20\n",
      "10649/10649 [==============================] - 17s 2ms/step - loss: 0.1779 - categorical_accuracy: 0.9417 - val_loss: 2.1145 - val_categorical_accuracy: 0.5967\n",
      "Epoch 15/20\n",
      "10649/10649 [==============================] - 17s 2ms/step - loss: 0.1787 - categorical_accuracy: 0.9434 - val_loss: 2.0979 - val_categorical_accuracy: 0.5918\n",
      "Epoch 16/20\n",
      "10649/10649 [==============================] - 17s 2ms/step - loss: 0.1686 - categorical_accuracy: 0.9467 - val_loss: 2.2457 - val_categorical_accuracy: 0.5948\n",
      "Epoch 17/20\n",
      "10649/10649 [==============================] - 17s 2ms/step - loss: 0.1555 - categorical_accuracy: 0.9510 - val_loss: 2.4120 - val_categorical_accuracy: 0.5933\n",
      "Epoch 18/20\n",
      "10649/10649 [==============================] - 17s 2ms/step - loss: 0.1472 - categorical_accuracy: 0.9545 - val_loss: 2.4955 - val_categorical_accuracy: 0.5821\n",
      "Epoch 19/20\n",
      "10649/10649 [==============================] - 17s 2ms/step - loss: 0.1383 - categorical_accuracy: 0.9571 - val_loss: 2.5257 - val_categorical_accuracy: 0.5963\n",
      "Epoch 20/20\n",
      "10649/10649 [==============================] - 17s 2ms/step - loss: 0.1192 - categorical_accuracy: 0.9636 - val_loss: 2.5140 - val_categorical_accuracy: 0.6091\n"
     ]
    }
   ],
   "source": [
    "history = model.fit(x, y, epochs=20, batch_size=32, validation_split=0.2, verbose=1, shuffle=True)"
   ]
  },
  {
   "cell_type": "code",
   "execution_count": 14,
   "metadata": {},
   "outputs": [
    {
     "name": "stdout",
     "output_type": "stream",
     "text": [
      "Train on 10649 samples, validate on 2663 samples\n",
      "Epoch 1/20\n",
      "10649/10649 [==============================] - 18s 2ms/step - loss: 1.6883 - categorical_accuracy: 0.4380 - val_loss: 1.4044 - val_categorical_accuracy: 0.5415\n",
      "Epoch 2/20\n",
      "10649/10649 [==============================] - 17s 2ms/step - loss: 1.0803 - categorical_accuracy: 0.6397 - val_loss: 1.3222 - val_categorical_accuracy: 0.5648\n",
      "Epoch 3/20\n",
      "10649/10649 [==============================] - 17s 2ms/step - loss: 0.7369 - categorical_accuracy: 0.7593 - val_loss: 1.4015 - val_categorical_accuracy: 0.5468\n",
      "Epoch 4/20\n",
      "10649/10649 [==============================] - 17s 2ms/step - loss: 0.4571 - categorical_accuracy: 0.8467 - val_loss: 1.7058 - val_categorical_accuracy: 0.5276\n",
      "Epoch 5/20\n",
      "10649/10649 [==============================] - 17s 2ms/step - loss: 0.2789 - categorical_accuracy: 0.9058 - val_loss: 1.6914 - val_categorical_accuracy: 0.5896\n",
      "Epoch 6/20\n",
      "10649/10649 [==============================] - 17s 2ms/step - loss: 0.1889 - categorical_accuracy: 0.9379 - val_loss: 1.9370 - val_categorical_accuracy: 0.6012\n",
      "Epoch 7/20\n",
      "10649/10649 [==============================] - 17s 2ms/step - loss: 0.1261 - categorical_accuracy: 0.9577 - val_loss: 2.2460 - val_categorical_accuracy: 0.5738\n",
      "Epoch 8/20\n",
      "10649/10649 [==============================] - 17s 2ms/step - loss: 0.0949 - categorical_accuracy: 0.9689 - val_loss: 2.7751 - val_categorical_accuracy: 0.5569\n",
      "Epoch 9/20\n",
      "10649/10649 [==============================] - 17s 2ms/step - loss: 0.0884 - categorical_accuracy: 0.9732 - val_loss: 2.5034 - val_categorical_accuracy: 0.6050\n",
      "Epoch 10/20\n",
      "10649/10649 [==============================] - 17s 2ms/step - loss: 0.0755 - categorical_accuracy: 0.9753 - val_loss: 2.6308 - val_categorical_accuracy: 0.5723\n",
      "Epoch 11/20\n",
      "10649/10649 [==============================] - 17s 2ms/step - loss: 0.0721 - categorical_accuracy: 0.9774 - val_loss: 2.5311 - val_categorical_accuracy: 0.6001\n",
      "Epoch 12/20\n",
      "10649/10649 [==============================] - 17s 2ms/step - loss: 0.0620 - categorical_accuracy: 0.9812 - val_loss: 2.8763 - val_categorical_accuracy: 0.5802\n",
      "Epoch 13/20\n",
      "10649/10649 [==============================] - 17s 2ms/step - loss: 0.0510 - categorical_accuracy: 0.9832 - val_loss: 3.2726 - val_categorical_accuracy: 0.5569\n",
      "Epoch 14/20\n",
      "10649/10649 [==============================] - 17s 2ms/step - loss: 0.0529 - categorical_accuracy: 0.9839 - val_loss: 2.6275 - val_categorical_accuracy: 0.6095\n",
      "Epoch 15/20\n",
      "10649/10649 [==============================] - 16s 2ms/step - loss: 0.0455 - categorical_accuracy: 0.9854 - val_loss: 2.7715 - val_categorical_accuracy: 0.5914\n",
      "Epoch 16/20\n",
      "10649/10649 [==============================] - 17s 2ms/step - loss: 0.0421 - categorical_accuracy: 0.9873 - val_loss: 3.2274 - val_categorical_accuracy: 0.5914\n",
      "Epoch 17/20\n",
      "10649/10649 [==============================] - 16s 2ms/step - loss: 0.0467 - categorical_accuracy: 0.9863 - val_loss: 2.9629 - val_categorical_accuracy: 0.5971\n",
      "Epoch 18/20\n",
      "10649/10649 [==============================] - 17s 2ms/step - loss: 0.0372 - categorical_accuracy: 0.9900 - val_loss: 3.3468 - val_categorical_accuracy: 0.5851\n",
      "Epoch 19/20\n",
      "10649/10649 [==============================] - 17s 2ms/step - loss: 0.0321 - categorical_accuracy: 0.9915 - val_loss: 3.1645 - val_categorical_accuracy: 0.5974\n",
      "Epoch 20/20\n",
      "10649/10649 [==============================] - 17s 2ms/step - loss: 0.0339 - categorical_accuracy: 0.9910 - val_loss: 3.3562 - val_categorical_accuracy: 0.6001\n"
     ]
    }
   ],
   "source": [
    "model = Sequential()\n",
    "model.add(Embedding(vocabulario, dim_vetor, weights=[embedding_matrix], input_length=limite_texto, trainable=False))\n",
    "model.add(Flatten())\n",
    "model.add(Dense(2048, activation='relu'))\n",
    "model.add(Dropout(0.4))\n",
    "model.add(Dense(1024, activation='relu'))\n",
    "model.add(Dropout(0.4))\n",
    "model.add(Dense(y.shape[1], activation='softmax'))\n",
    "model.compile(loss='categorical_crossentropy', optimizer='adadelta',  metrics=[\"categorical_accuracy\"])\n",
    "\n",
    "history = model.fit(x, y, epochs=20, batch_size=32, validation_split=0.2, verbose=1, shuffle=True)"
   ]
  },
  {
   "cell_type": "code",
   "execution_count": 15,
   "metadata": {},
   "outputs": [
    {
     "name": "stdout",
     "output_type": "stream",
     "text": [
      "Train on 10649 samples, validate on 2663 samples\n",
      "Epoch 1/20\n",
      "10649/10649 [==============================] - 17s 2ms/step - loss: 1.7516 - categorical_accuracy: 0.4160 - val_loss: 1.5190 - val_categorical_accuracy: 0.4720\n",
      "Epoch 2/20\n",
      "10649/10649 [==============================] - 16s 2ms/step - loss: 1.1711 - categorical_accuracy: 0.6075 - val_loss: 1.3166 - val_categorical_accuracy: 0.5543\n",
      "Epoch 3/20\n",
      "10649/10649 [==============================] - 16s 2ms/step - loss: 0.8482 - categorical_accuracy: 0.7139 - val_loss: 1.3991 - val_categorical_accuracy: 0.5670\n",
      "Epoch 4/20\n",
      "10649/10649 [==============================] - 16s 1ms/step - loss: 0.5888 - categorical_accuracy: 0.8031 - val_loss: 1.5990 - val_categorical_accuracy: 0.5633\n",
      "Epoch 5/20\n",
      "10649/10649 [==============================] - 16s 2ms/step - loss: 0.3672 - categorical_accuracy: 0.8786 - val_loss: 1.7246 - val_categorical_accuracy: 0.5956\n",
      "Epoch 6/20\n",
      "10649/10649 [==============================] - 16s 1ms/step - loss: 0.2324 - categorical_accuracy: 0.9235 - val_loss: 1.9455 - val_categorical_accuracy: 0.5790\n",
      "Epoch 7/20\n",
      "10649/10649 [==============================] - 16s 1ms/step - loss: 0.1519 - categorical_accuracy: 0.9499 - val_loss: 2.0184 - val_categorical_accuracy: 0.6072\n",
      "Epoch 8/20\n",
      "10649/10649 [==============================] - 16s 1ms/step - loss: 0.1123 - categorical_accuracy: 0.9618 - val_loss: 2.1130 - val_categorical_accuracy: 0.6035\n",
      "Epoch 9/20\n",
      "10649/10649 [==============================] - 16s 1ms/step - loss: 0.0937 - categorical_accuracy: 0.9694 - val_loss: 2.2263 - val_categorical_accuracy: 0.5982\n",
      "Epoch 10/20\n",
      "10649/10649 [==============================] - 16s 2ms/step - loss: 0.0739 - categorical_accuracy: 0.9761 - val_loss: 2.4377 - val_categorical_accuracy: 0.5817\n",
      "Epoch 11/20\n",
      "10649/10649 [==============================] - 16s 1ms/step - loss: 0.0658 - categorical_accuracy: 0.9778 - val_loss: 2.3720 - val_categorical_accuracy: 0.6005\n",
      "Epoch 12/20\n",
      "10649/10649 [==============================] - 16s 1ms/step - loss: 0.0480 - categorical_accuracy: 0.9840 - val_loss: 2.6491 - val_categorical_accuracy: 0.5997\n",
      "Epoch 13/20\n",
      "10649/10649 [==============================] - 16s 1ms/step - loss: 0.0424 - categorical_accuracy: 0.9857 - val_loss: 2.9426 - val_categorical_accuracy: 0.5933\n",
      "Epoch 14/20\n",
      "10649/10649 [==============================] - 16s 1ms/step - loss: 0.0377 - categorical_accuracy: 0.9876 - val_loss: 3.0464 - val_categorical_accuracy: 0.5881\n",
      "Epoch 15/20\n",
      "10649/10649 [==============================] - 16s 1ms/step - loss: 0.0351 - categorical_accuracy: 0.9893 - val_loss: 3.1275 - val_categorical_accuracy: 0.5798\n",
      "Epoch 16/20\n",
      "10649/10649 [==============================] - 16s 1ms/step - loss: 0.0296 - categorical_accuracy: 0.9896 - val_loss: 3.0281 - val_categorical_accuracy: 0.6095\n",
      "Epoch 17/20\n",
      "10649/10649 [==============================] - 16s 1ms/step - loss: 0.0354 - categorical_accuracy: 0.9897 - val_loss: 3.0131 - val_categorical_accuracy: 0.6140\n",
      "Epoch 18/20\n",
      "10649/10649 [==============================] - 16s 1ms/step - loss: 0.0352 - categorical_accuracy: 0.9880 - val_loss: 2.8925 - val_categorical_accuracy: 0.6038\n",
      "Epoch 19/20\n",
      "10649/10649 [==============================] - 16s 1ms/step - loss: 0.0322 - categorical_accuracy: 0.9900 - val_loss: 3.2595 - val_categorical_accuracy: 0.5911\n",
      "Epoch 20/20\n",
      "10649/10649 [==============================] - 17s 2ms/step - loss: 0.0291 - categorical_accuracy: 0.9905 - val_loss: 3.1576 - val_categorical_accuracy: 0.6098\n"
     ]
    }
   ],
   "source": [
    "model = Sequential()\n",
    "model.add(Embedding(vocabulario, dim_vetor, weights=[embedding_matrix], input_length=limite_texto, trainable=False))\n",
    "model.add(Flatten())\n",
    "model.add(Dense(2048, activation='relu'))\n",
    "model.add(Dropout(0.4))\n",
    "model.add(Dense(256, activation='relu'))\n",
    "model.add(Dropout(0.4))\n",
    "model.add(Dense(y.shape[1], activation='softmax'))\n",
    "model.compile(loss='categorical_crossentropy', optimizer='adadelta',  metrics=[\"categorical_accuracy\"])\n",
    "\n",
    "history = model.fit(x, y, epochs=20, batch_size=32, validation_split=0.2, verbose=1, shuffle=True)"
   ]
  },
  {
   "cell_type": "markdown",
   "metadata": {},
   "source": [
    "## Embedding com pesos ajustáveis"
   ]
  },
  {
   "cell_type": "code",
   "execution_count": 17,
   "metadata": {},
   "outputs": [
    {
     "name": "stderr",
     "output_type": "stream",
     "text": [
      "W0814 20:46:08.714123 139766008571712 nn_ops.py:4224] Large dropout rate: 0.6 (>0.5). In TensorFlow 2.x, dropout() uses dropout rate instead of keep_prob. Please ensure that this is intended.\n"
     ]
    },
    {
     "name": "stdout",
     "output_type": "stream",
     "text": [
      "_________________________________________________________________\n",
      "Layer (type)                 Output Shape              Param #   \n",
      "=================================================================\n",
      "embedding_5 (Embedding)      (None, 200, 100)          1538800   \n",
      "_________________________________________________________________\n",
      "flatten_5 (Flatten)          (None, 20000)             0         \n",
      "_________________________________________________________________\n",
      "dense_13 (Dense)             (None, 2048)              40962048  \n",
      "_________________________________________________________________\n",
      "dropout_9 (Dropout)          (None, 2048)              0         \n",
      "_________________________________________________________________\n",
      "dense_14 (Dense)             (None, 1024)              2098176   \n",
      "_________________________________________________________________\n",
      "dropout_10 (Dropout)         (None, 1024)              0         \n",
      "_________________________________________________________________\n",
      "dense_15 (Dense)             (None, 10)                10250     \n",
      "=================================================================\n",
      "Total params: 44,609,274\n",
      "Trainable params: 44,609,274\n",
      "Non-trainable params: 0\n",
      "_________________________________________________________________\n",
      "Train on 10649 samples, validate on 2663 samples\n",
      "Epoch 1/20\n",
      "10649/10649 [==============================] - 19s 2ms/step - loss: 1.8627 - categorical_accuracy: 0.3946 - val_loss: 1.7655 - val_categorical_accuracy: 0.3519\n",
      "Epoch 2/20\n",
      "10649/10649 [==============================] - 18s 2ms/step - loss: 1.2116 - categorical_accuracy: 0.5960 - val_loss: 1.2644 - val_categorical_accuracy: 0.5929\n",
      "Epoch 3/20\n",
      "10649/10649 [==============================] - 18s 2ms/step - loss: 0.9081 - categorical_accuracy: 0.6988 - val_loss: 1.2030 - val_categorical_accuracy: 0.6065\n",
      "Epoch 4/20\n",
      "10649/10649 [==============================] - 18s 2ms/step - loss: 0.6763 - categorical_accuracy: 0.7746 - val_loss: 1.2925 - val_categorical_accuracy: 0.6125\n",
      "Epoch 5/20\n",
      "10649/10649 [==============================] - 18s 2ms/step - loss: 0.4837 - categorical_accuracy: 0.8387 - val_loss: 1.3245 - val_categorical_accuracy: 0.6305\n",
      "Epoch 6/20\n",
      "10649/10649 [==============================] - 17s 2ms/step - loss: 0.3378 - categorical_accuracy: 0.8858 - val_loss: 1.4690 - val_categorical_accuracy: 0.6493\n",
      "Epoch 7/20\n",
      "10649/10649 [==============================] - 18s 2ms/step - loss: 0.2719 - categorical_accuracy: 0.9120 - val_loss: 1.5245 - val_categorical_accuracy: 0.6189\n",
      "Epoch 8/20\n",
      "10649/10649 [==============================] - 18s 2ms/step - loss: 0.1972 - categorical_accuracy: 0.9325 - val_loss: 1.6247 - val_categorical_accuracy: 0.6579\n",
      "Epoch 9/20\n",
      "10649/10649 [==============================] - 18s 2ms/step - loss: 0.1634 - categorical_accuracy: 0.9483 - val_loss: 1.6801 - val_categorical_accuracy: 0.6744\n",
      "Epoch 10/20\n",
      "10649/10649 [==============================] - 18s 2ms/step - loss: 0.1375 - categorical_accuracy: 0.9549 - val_loss: 1.7699 - val_categorical_accuracy: 0.6729\n",
      "Epoch 11/20\n",
      "10649/10649 [==============================] - 18s 2ms/step - loss: 0.1148 - categorical_accuracy: 0.9630 - val_loss: 1.9621 - val_categorical_accuracy: 0.6741\n",
      "Epoch 12/20\n",
      "10649/10649 [==============================] - 18s 2ms/step - loss: 0.1073 - categorical_accuracy: 0.9663 - val_loss: 2.1565 - val_categorical_accuracy: 0.6384\n",
      "Epoch 13/20\n",
      "10649/10649 [==============================] - 18s 2ms/step - loss: 0.0906 - categorical_accuracy: 0.9718 - val_loss: 1.9618 - val_categorical_accuracy: 0.6684\n",
      "Epoch 14/20\n",
      "10649/10649 [==============================] - 18s 2ms/step - loss: 0.0864 - categorical_accuracy: 0.9730 - val_loss: 2.1143 - val_categorical_accuracy: 0.6876\n",
      "Epoch 15/20\n",
      "10649/10649 [==============================] - 18s 2ms/step - loss: 0.0783 - categorical_accuracy: 0.9761 - val_loss: 2.1436 - val_categorical_accuracy: 0.6737\n",
      "Epoch 16/20\n",
      "10649/10649 [==============================] - 18s 2ms/step - loss: 0.0759 - categorical_accuracy: 0.9777 - val_loss: 2.2195 - val_categorical_accuracy: 0.6662\n",
      "Epoch 17/20\n",
      "10649/10649 [==============================] - 18s 2ms/step - loss: 0.0668 - categorical_accuracy: 0.9801 - val_loss: 2.0631 - val_categorical_accuracy: 0.6883\n",
      "Epoch 18/20\n",
      "10649/10649 [==============================] - 18s 2ms/step - loss: 0.0669 - categorical_accuracy: 0.9787 - val_loss: 2.4011 - val_categorical_accuracy: 0.6470\n",
      "Epoch 19/20\n",
      "10649/10649 [==============================] - 18s 2ms/step - loss: 0.0548 - categorical_accuracy: 0.9838 - val_loss: 2.5710 - val_categorical_accuracy: 0.6429\n",
      "Epoch 20/20\n",
      "10649/10649 [==============================] - 18s 2ms/step - loss: 0.0577 - categorical_accuracy: 0.9830 - val_loss: 2.3236 - val_categorical_accuracy: 0.6729\n"
     ]
    }
   ],
   "source": [
    "from keras.models import Sequential\n",
    "from keras.layers import Flatten, Dense, Embedding\n",
    "from keras.layers.core import Dropout\n",
    "\n",
    "model = Sequential()\n",
    "model.add(Embedding(vocabulario, dim_vetor, weights=[embedding_matrix], input_length=limite_texto, trainable=True))\n",
    "model.add(Flatten())\n",
    "model.add(Dense(2048, activation='relu'))\n",
    "model.add(Dropout(0.6))\n",
    "model.add(Dense(1024, activation='relu'))\n",
    "model.add(Dropout(0.6))\n",
    "model.add(Dense(y.shape[1], activation='softmax'))\n",
    "model.compile(loss='categorical_crossentropy', optimizer='adadelta',  metrics=[\"categorical_accuracy\"])\n",
    "model.summary()\n",
    "\n",
    "history = model.fit(x, y, epochs=20, batch_size=32, validation_split=0.2, verbose=1, shuffle=True)"
   ]
  },
  {
   "cell_type": "code",
   "execution_count": 18,
   "metadata": {},
   "outputs": [
    {
     "name": "stdout",
     "output_type": "stream",
     "text": [
      "Train on 10649 samples, validate on 2663 samples\n",
      "Epoch 1/20\n",
      "10649/10649 [==============================] - 19s 2ms/step - loss: 1.6529 - categorical_accuracy: 0.4502 - val_loss: 1.4642 - val_categorical_accuracy: 0.4976\n",
      "Epoch 2/20\n",
      "10649/10649 [==============================] - 18s 2ms/step - loss: 0.9489 - categorical_accuracy: 0.6814 - val_loss: 1.1560 - val_categorical_accuracy: 0.6297\n",
      "Epoch 3/20\n",
      "10649/10649 [==============================] - 18s 2ms/step - loss: 0.5632 - categorical_accuracy: 0.8128 - val_loss: 1.3088 - val_categorical_accuracy: 0.6061\n",
      "Epoch 4/20\n",
      "10649/10649 [==============================] - 18s 2ms/step - loss: 0.3006 - categorical_accuracy: 0.8989 - val_loss: 1.4459 - val_categorical_accuracy: 0.6312\n",
      "Epoch 5/20\n",
      "10649/10649 [==============================] - 18s 2ms/step - loss: 0.1601 - categorical_accuracy: 0.9462 - val_loss: 1.7332 - val_categorical_accuracy: 0.6632\n",
      "Epoch 6/20\n",
      "10649/10649 [==============================] - 18s 2ms/step - loss: 0.0996 - categorical_accuracy: 0.9672 - val_loss: 1.8618 - val_categorical_accuracy: 0.6605\n",
      "Epoch 7/20\n",
      "10649/10649 [==============================] - 18s 2ms/step - loss: 0.0614 - categorical_accuracy: 0.9801 - val_loss: 2.2424 - val_categorical_accuracy: 0.6414\n",
      "Epoch 8/20\n",
      "10649/10649 [==============================] - 18s 2ms/step - loss: 0.0584 - categorical_accuracy: 0.9823 - val_loss: 2.2270 - val_categorical_accuracy: 0.6496\n",
      "Epoch 9/20\n",
      "10649/10649 [==============================] - 18s 2ms/step - loss: 0.0416 - categorical_accuracy: 0.9863 - val_loss: 2.2814 - val_categorical_accuracy: 0.6470\n",
      "Epoch 10/20\n",
      "10649/10649 [==============================] - 18s 2ms/step - loss: 0.0388 - categorical_accuracy: 0.9889 - val_loss: 2.3760 - val_categorical_accuracy: 0.6444\n",
      "Epoch 11/20\n",
      "10649/10649 [==============================] - 18s 2ms/step - loss: 0.0280 - categorical_accuracy: 0.9915 - val_loss: 2.7107 - val_categorical_accuracy: 0.6365\n",
      "Epoch 12/20\n",
      "10649/10649 [==============================] - 18s 2ms/step - loss: 0.0277 - categorical_accuracy: 0.9911 - val_loss: 2.5003 - val_categorical_accuracy: 0.6669\n",
      "Epoch 13/20\n",
      "10649/10649 [==============================] - 18s 2ms/step - loss: 0.0307 - categorical_accuracy: 0.9909 - val_loss: 2.4308 - val_categorical_accuracy: 0.6710\n",
      "Epoch 14/20\n",
      "10649/10649 [==============================] - 18s 2ms/step - loss: 0.0270 - categorical_accuracy: 0.9919 - val_loss: 2.6946 - val_categorical_accuracy: 0.6519\n",
      "Epoch 15/20\n",
      "10649/10649 [==============================] - 18s 2ms/step - loss: 0.0256 - categorical_accuracy: 0.9927 - val_loss: 2.6443 - val_categorical_accuracy: 0.6620\n",
      "Epoch 16/20\n",
      "10649/10649 [==============================] - 18s 2ms/step - loss: 0.0213 - categorical_accuracy: 0.9941 - val_loss: 2.8352 - val_categorical_accuracy: 0.6541\n",
      "Epoch 17/20\n",
      "10649/10649 [==============================] - 18s 2ms/step - loss: 0.0212 - categorical_accuracy: 0.9941 - val_loss: 2.6848 - val_categorical_accuracy: 0.6748\n",
      "Epoch 18/20\n",
      "10649/10649 [==============================] - 18s 2ms/step - loss: 0.0163 - categorical_accuracy: 0.9947 - val_loss: 2.9582 - val_categorical_accuracy: 0.6549\n",
      "Epoch 19/20\n",
      "10649/10649 [==============================] - 18s 2ms/step - loss: 0.0180 - categorical_accuracy: 0.9957 - val_loss: 2.7933 - val_categorical_accuracy: 0.6635\n",
      "Epoch 20/20\n",
      "10649/10649 [==============================] - 18s 2ms/step - loss: 0.0175 - categorical_accuracy: 0.9956 - val_loss: 2.9094 - val_categorical_accuracy: 0.6695\n"
     ]
    }
   ],
   "source": [
    "model = Sequential()\n",
    "model.add(Embedding(vocabulario, dim_vetor, weights=[embedding_matrix], input_length=limite_texto, trainable=True))\n",
    "model.add(Flatten())\n",
    "model.add(Dense(2048, activation='relu'))\n",
    "model.add(Dropout(0.4))\n",
    "model.add(Dense(1024, activation='relu'))\n",
    "model.add(Dropout(0.4))\n",
    "model.add(Dense(y.shape[1], activation='softmax'))\n",
    "model.compile(loss='categorical_crossentropy', optimizer='adadelta',  metrics=[\"categorical_accuracy\"])\n",
    "\n",
    "history = model.fit(x, y, epochs=20, batch_size=32, validation_split=0.2, verbose=1, shuffle=True)"
   ]
  },
  {
   "cell_type": "code",
   "execution_count": 19,
   "metadata": {},
   "outputs": [
    {
     "name": "stdout",
     "output_type": "stream",
     "text": [
      "Train on 10649 samples, validate on 2663 samples\n",
      "Epoch 1/20\n",
      "10649/10649 [==============================] - 18s 2ms/step - loss: 1.7144 - categorical_accuracy: 0.4248 - val_loss: 1.3620 - val_categorical_accuracy: 0.5591\n",
      "Epoch 2/20\n",
      "10649/10649 [==============================] - 16s 2ms/step - loss: 1.0446 - categorical_accuracy: 0.6517 - val_loss: 1.1102 - val_categorical_accuracy: 0.6410\n",
      "Epoch 3/20\n",
      "10649/10649 [==============================] - 16s 2ms/step - loss: 0.6600 - categorical_accuracy: 0.7786 - val_loss: 1.1579 - val_categorical_accuracy: 0.6692\n",
      "Epoch 4/20\n",
      "10649/10649 [==============================] - 16s 2ms/step - loss: 0.3868 - categorical_accuracy: 0.8683 - val_loss: 1.5076 - val_categorical_accuracy: 0.6091\n",
      "Epoch 5/20\n",
      "10649/10649 [==============================] - 16s 2ms/step - loss: 0.2044 - categorical_accuracy: 0.9312 - val_loss: 1.5454 - val_categorical_accuracy: 0.6545\n",
      "Epoch 6/20\n",
      "10649/10649 [==============================] - 16s 2ms/step - loss: 0.1134 - categorical_accuracy: 0.9621 - val_loss: 1.8158 - val_categorical_accuracy: 0.6650\n",
      "Epoch 7/20\n",
      "10649/10649 [==============================] - 16s 2ms/step - loss: 0.0723 - categorical_accuracy: 0.9767 - val_loss: 2.2026 - val_categorical_accuracy: 0.6410\n",
      "Epoch 8/20\n",
      "10649/10649 [==============================] - 16s 2ms/step - loss: 0.0501 - categorical_accuracy: 0.9828 - val_loss: 1.9273 - val_categorical_accuracy: 0.6718\n",
      "Epoch 9/20\n",
      "10649/10649 [==============================] - 16s 2ms/step - loss: 0.0371 - categorical_accuracy: 0.9885 - val_loss: 2.1622 - val_categorical_accuracy: 0.6699\n",
      "Epoch 10/20\n",
      "10649/10649 [==============================] - 16s 2ms/step - loss: 0.0305 - categorical_accuracy: 0.9904 - val_loss: 2.2757 - val_categorical_accuracy: 0.6752\n",
      "Epoch 11/20\n",
      "10649/10649 [==============================] - 16s 2ms/step - loss: 0.0228 - categorical_accuracy: 0.9928 - val_loss: 2.3370 - val_categorical_accuracy: 0.6699\n",
      "Epoch 12/20\n",
      "10649/10649 [==============================] - 16s 2ms/step - loss: 0.0213 - categorical_accuracy: 0.9933 - val_loss: 2.2634 - val_categorical_accuracy: 0.6955\n",
      "Epoch 13/20\n",
      "10649/10649 [==============================] - 16s 2ms/step - loss: 0.0224 - categorical_accuracy: 0.9944 - val_loss: 2.5306 - val_categorical_accuracy: 0.6684\n",
      "Epoch 14/20\n",
      "10649/10649 [==============================] - 16s 2ms/step - loss: 0.0138 - categorical_accuracy: 0.9955 - val_loss: 2.3750 - val_categorical_accuracy: 0.6973\n",
      "Epoch 15/20\n",
      "10649/10649 [==============================] - 16s 2ms/step - loss: 0.0185 - categorical_accuracy: 0.9949 - val_loss: 2.5966 - val_categorical_accuracy: 0.6587\n",
      "Epoch 16/20\n",
      "10649/10649 [==============================] - 16s 2ms/step - loss: 0.0168 - categorical_accuracy: 0.9946 - val_loss: 2.6904 - val_categorical_accuracy: 0.6662\n",
      "Epoch 17/20\n",
      "10649/10649 [==============================] - 16s 2ms/step - loss: 0.0124 - categorical_accuracy: 0.9961 - val_loss: 2.6309 - val_categorical_accuracy: 0.6786\n",
      "Epoch 18/20\n",
      "10649/10649 [==============================] - 16s 2ms/step - loss: 0.0104 - categorical_accuracy: 0.9974 - val_loss: 2.6148 - val_categorical_accuracy: 0.6883\n",
      "Epoch 19/20\n",
      "10649/10649 [==============================] - 16s 2ms/step - loss: 0.0176 - categorical_accuracy: 0.9952 - val_loss: 2.8833 - val_categorical_accuracy: 0.6508\n",
      "Epoch 20/20\n",
      "10649/10649 [==============================] - 16s 2ms/step - loss: 0.0133 - categorical_accuracy: 0.9967 - val_loss: 2.6569 - val_categorical_accuracy: 0.6703\n"
     ]
    }
   ],
   "source": [
    "model = Sequential()\n",
    "model.add(Embedding(vocabulario, dim_vetor, weights=[embedding_matrix], input_length=limite_texto, trainable=True))\n",
    "model.add(Flatten())\n",
    "model.add(Dense(2048, activation='relu'))\n",
    "model.add(Dropout(0.4))\n",
    "model.add(Dense(256, activation='relu'))\n",
    "model.add(Dropout(0.4))\n",
    "model.add(Dense(y.shape[1], activation='softmax'))\n",
    "model.compile(loss='categorical_crossentropy', optimizer='adadelta',  metrics=[\"categorical_accuracy\"])\n",
    "\n",
    "history = model.fit(x, y, epochs=20, batch_size=32, validation_split=0.2, verbose=1, shuffle=True)"
   ]
  },
  {
   "cell_type": "code",
   "execution_count": null,
   "metadata": {},
   "outputs": [],
   "source": []
  }
 ],
 "metadata": {
  "kernelspec": {
   "display_name": "Python 3",
   "language": "python",
   "name": "python3"
  },
  "language_info": {
   "codemirror_mode": {
    "name": "ipython",
    "version": 3
   },
   "file_extension": ".py",
   "mimetype": "text/x-python",
   "name": "python",
   "nbconvert_exporter": "python",
   "pygments_lexer": "ipython3",
   "version": "3.7.3"
  }
 },
 "nbformat": 4,
 "nbformat_minor": 2
}
