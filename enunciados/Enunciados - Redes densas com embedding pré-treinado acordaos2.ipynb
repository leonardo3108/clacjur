{
 "cells": [
  {
   "cell_type": "markdown",
   "metadata": {},
   "source": [
    "# Importação e preparação dos dados"
   ]
  },
  {
   "cell_type": "code",
   "execution_count": 1,
   "metadata": {},
   "outputs": [
    {
     "data": {
      "text/html": [
       "<div>\n",
       "<style scoped>\n",
       "    .dataframe tbody tr th:only-of-type {\n",
       "        vertical-align: middle;\n",
       "    }\n",
       "\n",
       "    .dataframe tbody tr th {\n",
       "        vertical-align: top;\n",
       "    }\n",
       "\n",
       "    .dataframe thead th {\n",
       "        text-align: right;\n",
       "    }\n",
       "</style>\n",
       "<table border=\"1\" class=\"dataframe\">\n",
       "  <thead>\n",
       "    <tr style=\"text-align: right;\">\n",
       "      <th></th>\n",
       "      <th>COD</th>\n",
       "      <th>NUM_ENUNCIADO</th>\n",
       "      <th>COD_AREA</th>\n",
       "      <th>DESCR_AREA</th>\n",
       "      <th>COD_TEMA</th>\n",
       "      <th>DESCR_TEMA</th>\n",
       "      <th>COD_SUBTEMA</th>\n",
       "      <th>DESCR_SUBTEMA</th>\n",
       "      <th>COD_DOC_TRAMITAVEL_ENUNCIADO</th>\n",
       "      <th>TEXTO_ENUNCIADO</th>\n",
       "      <th>ACORDAO</th>\n",
       "      <th>TIPO_PROCESSO</th>\n",
       "    </tr>\n",
       "  </thead>\n",
       "  <tbody>\n",
       "    <tr>\n",
       "      <th>0</th>\n",
       "      <td>1400</td>\n",
       "      <td>1236</td>\n",
       "      <td>50</td>\n",
       "      <td>Responsabilidade</td>\n",
       "      <td>488</td>\n",
       "      <td>Solidariedade</td>\n",
       "      <td>261</td>\n",
       "      <td>Benefício previdenciário</td>\n",
       "      <td>54995437</td>\n",
       "      <td>Não comprovada a participação do beneficiário ...</td>\n",
       "      <td>Acórdão 297/2016 - PL</td>\n",
       "      <td>Tomada de Contas Especial</td>\n",
       "    </tr>\n",
       "    <tr>\n",
       "      <th>1</th>\n",
       "      <td>1700</td>\n",
       "      <td>1534</td>\n",
       "      <td>46</td>\n",
       "      <td>Finanças Públicas</td>\n",
       "      <td>981</td>\n",
       "      <td>Exportação</td>\n",
       "      <td>983</td>\n",
       "      <td>Petróleo</td>\n",
       "      <td>55025587</td>\n",
       "      <td>A operação ficta de exportação de plataformas ...</td>\n",
       "      <td>Acórdão 366/2016 - PL</td>\n",
       "      <td>Solicitação do Congresso Nacional</td>\n",
       "    </tr>\n",
       "    <tr>\n",
       "      <th>2</th>\n",
       "      <td>5700</td>\n",
       "      <td>5314</td>\n",
       "      <td>50</td>\n",
       "      <td>Responsabilidade</td>\n",
       "      <td>203</td>\n",
       "      <td>Multa</td>\n",
       "      <td>1021</td>\n",
       "      <td>Dosimetria</td>\n",
       "      <td>55455370</td>\n",
       "      <td>No âmbito do TCU, a dosimetria da pena tem com...</td>\n",
       "      <td>Acórdão 944/2016 - PL</td>\n",
       "      <td>Acompanhamento</td>\n",
       "    </tr>\n",
       "    <tr>\n",
       "      <th>3</th>\n",
       "      <td>284</td>\n",
       "      <td>40</td>\n",
       "      <td>45</td>\n",
       "      <td>Direito Processual</td>\n",
       "      <td>162</td>\n",
       "      <td>Princípio da independência das instâncias</td>\n",
       "      <td>481</td>\n",
       "      <td>Decisão judicial</td>\n",
       "      <td>54773746</td>\n",
       "      <td>O princípio da independência das instâncias pe...</td>\n",
       "      <td>Acórdão 30/2016 - PL</td>\n",
       "      <td>Tomada de Contas Especial</td>\n",
       "    </tr>\n",
       "    <tr>\n",
       "      <th>4</th>\n",
       "      <td>298</td>\n",
       "      <td>54</td>\n",
       "      <td>49</td>\n",
       "      <td>Pessoal</td>\n",
       "      <td>141</td>\n",
       "      <td>Sistema S</td>\n",
       "      <td>142</td>\n",
       "      <td>Nepotismo</td>\n",
       "      <td>54773402</td>\n",
       "      <td>É vedado aos dirigentes das entidades do Siste...</td>\n",
       "      <td>Acórdão 55/2016 - PL</td>\n",
       "      <td>Representação</td>\n",
       "    </tr>\n",
       "  </tbody>\n",
       "</table>\n",
       "</div>"
      ],
      "text/plain": [
       "    COD  NUM_ENUNCIADO  COD_AREA          DESCR_AREA  COD_TEMA  \\\n",
       "0  1400           1236        50    Responsabilidade       488   \n",
       "1  1700           1534        46   Finanças Públicas       981   \n",
       "2  5700           5314        50    Responsabilidade       203   \n",
       "3   284             40        45  Direito Processual       162   \n",
       "4   298             54        49             Pessoal       141   \n",
       "\n",
       "                                  DESCR_TEMA  COD_SUBTEMA  \\\n",
       "0                              Solidariedade          261   \n",
       "1                                 Exportação          983   \n",
       "2                                      Multa         1021   \n",
       "3  Princípio da independência das instâncias          481   \n",
       "4                                  Sistema S          142   \n",
       "\n",
       "              DESCR_SUBTEMA  COD_DOC_TRAMITAVEL_ENUNCIADO  \\\n",
       "0  Benefício previdenciário                      54995437   \n",
       "1                  Petróleo                      55025587   \n",
       "2                Dosimetria                      55455370   \n",
       "3          Decisão judicial                      54773746   \n",
       "4                 Nepotismo                      54773402   \n",
       "\n",
       "                                     TEXTO_ENUNCIADO                ACORDAO  \\\n",
       "0  Não comprovada a participação do beneficiário ...  Acórdão 297/2016 - PL   \n",
       "1  A operação ficta de exportação de plataformas ...  Acórdão 366/2016 - PL   \n",
       "2  No âmbito do TCU, a dosimetria da pena tem com...  Acórdão 944/2016 - PL   \n",
       "3  O princípio da independência das instâncias pe...   Acórdão 30/2016 - PL   \n",
       "4  É vedado aos dirigentes das entidades do Siste...   Acórdão 55/2016 - PL   \n",
       "\n",
       "                        TIPO_PROCESSO  \n",
       "0           Tomada de Contas Especial  \n",
       "1   Solicitação do Congresso Nacional  \n",
       "2                      Acompanhamento  \n",
       "3           Tomada de Contas Especial  \n",
       "4                       Representação  "
      ]
     },
     "execution_count": 1,
     "metadata": {},
     "output_type": "execute_result"
    }
   ],
   "source": [
    "import pandas as pd\n",
    "\n",
    "df = pd.read_csv('../dados/jurisprudencia_selecionada_enunciados.csv', sep = '|')\n",
    "df.head()"
   ]
  },
  {
   "cell_type": "code",
   "execution_count": 2,
   "metadata": {},
   "outputs": [
    {
     "data": {
      "text/plain": [
       "(13312, 12)"
      ]
     },
     "execution_count": 2,
     "metadata": {},
     "output_type": "execute_result"
    }
   ],
   "source": [
    "df.shape"
   ]
  },
  {
   "cell_type": "code",
   "execution_count": 3,
   "metadata": {},
   "outputs": [
    {
     "data": {
      "text/plain": [
       "DESCR_AREA\n",
       "Competência do TCU          557\n",
       "Contrato Administrativo     942\n",
       "Convênio                    685\n",
       "Desestatização              140\n",
       "Direito Processual         1813\n",
       "Finanças Públicas           328\n",
       "Gestão Administrativa       339\n",
       "Licitação                  2765\n",
       "Pessoal                    3396\n",
       "Responsabilidade           2347\n",
       "dtype: int64"
      ]
     },
     "execution_count": 3,
     "metadata": {},
     "output_type": "execute_result"
    }
   ],
   "source": [
    "df.groupby(['DESCR_AREA']).size()"
   ]
  },
  {
   "cell_type": "code",
   "execution_count": 4,
   "metadata": {},
   "outputs": [
    {
     "data": {
      "text/plain": [
       "dict_keys(['Competência do TCU', 'Contrato Administrativo', 'Convênio', 'Desestatização', 'Direito Processual', 'Finanças Públicas', 'Gestão Administrativa', 'Licitação', 'Pessoal', 'Responsabilidade'])"
      ]
     },
     "execution_count": 4,
     "metadata": {},
     "output_type": "execute_result"
    }
   ],
   "source": [
    "areas = df.groupby(['DESCR_AREA']).groups.keys()\n",
    "areas"
   ]
  },
  {
   "cell_type": "code",
   "execution_count": 5,
   "metadata": {},
   "outputs": [
    {
     "data": {
      "text/plain": [
       "array(['Competência do TCU', 'Contrato Administrativo', 'Convênio',\n",
       "       'Desestatização', 'Direito Processual', 'Finanças Públicas',\n",
       "       'Gestão Administrativa', 'Licitação', 'Pessoal',\n",
       "       'Responsabilidade'], dtype='<U23')"
      ]
     },
     "execution_count": 5,
     "metadata": {},
     "output_type": "execute_result"
    }
   ],
   "source": [
    "from sklearn.preprocessing import LabelBinarizer\n",
    "\n",
    "lbArea = LabelBinarizer()\n",
    "lbArea.fit([x for x in areas])\n",
    "lbArea.classes_"
   ]
  },
  {
   "cell_type": "code",
   "execution_count": 6,
   "metadata": {},
   "outputs": [
    {
     "data": {
      "text/plain": [
       "(13312, 10)"
      ]
     },
     "execution_count": 6,
     "metadata": {},
     "output_type": "execute_result"
    }
   ],
   "source": [
    "y = lbArea.transform(df['DESCR_AREA'])\n",
    "y.shape"
   ]
  },
  {
   "cell_type": "code",
   "execution_count": 7,
   "metadata": {},
   "outputs": [
    {
     "name": "stderr",
     "output_type": "stream",
     "text": [
      "Using TensorFlow backend.\n"
     ]
    },
    {
     "name": "stdout",
     "output_type": "stream",
     "text": [
      "Found 15387 unique tokens.\n"
     ]
    }
   ],
   "source": [
    "from keras.preprocessing.text import Tokenizer\n",
    "import numpy as np\n",
    "\n",
    "limite_texto = 200\n",
    "dim_vetor = 100\n",
    "\n",
    "tokenizer = Tokenizer()\n",
    "tokenizer.fit_on_texts(df['TEXTO_ENUNCIADO'])\n",
    "\n",
    "word_index = tokenizer.word_index\n",
    "vocabulario = len(word_index) + 1\n",
    "print('Found %s unique tokens.' % len(word_index))\n",
    "\n",
    "sequences = tokenizer.texts_to_sequences(df['TEXTO_ENUNCIADO'])"
   ]
  },
  {
   "cell_type": "code",
   "execution_count": 8,
   "metadata": {},
   "outputs": [
    {
     "name": "stdout",
     "output_type": "stream",
     "text": [
      "Shape of data tensor: (13312, 200)\n"
     ]
    }
   ],
   "source": [
    "from keras.preprocessing.sequence import pad_sequences\n",
    "\n",
    "x = pad_sequences(sequences, maxlen=limite_texto)\n",
    "\n",
    "print('Shape of data tensor:', x.shape)"
   ]
  },
  {
   "cell_type": "code",
   "execution_count": 9,
   "metadata": {},
   "outputs": [
    {
     "name": "stderr",
     "output_type": "stream",
     "text": [
      "/home/leonardo/anaconda3/envs/gpu/lib/python3.7/site-packages/smart_open/smart_open_lib.py:398: UserWarning: This function is deprecated, use smart_open.open instead. See the migration notes for details: https://github.com/RaRe-Technologies/smart_open/blob/master/README.rst#migrating-to-the-new-open-function\n",
      "  'See the migration notes for details: %s' % _MIGRATION_NOTES_URL\n"
     ]
    }
   ],
   "source": [
    "from gensim.models import Word2Vec\n",
    "\n",
    "model = Word2Vec.load('../vocabularios/modelo-acordaos2.w2v')"
   ]
  },
  {
   "cell_type": "code",
   "execution_count": 10,
   "metadata": {},
   "outputs": [
    {
     "name": "stdout",
     "output_type": "stream",
     "text": [
      "Vocabulario: 15387\n",
      "Encontrados no modelo: 8892 = 57.78904269838175\n"
     ]
    }
   ],
   "source": [
    "# create a weight matrix for words in training docs\n",
    "\n",
    "embedding_matrix = np.zeros((vocabulario, 100))\n",
    "\n",
    "ok = 0\n",
    "for word, i in tokenizer.word_index.items():\n",
    "    if word in model.wv:\n",
    "        embedding_matrix[i] = model.wv[word]\n",
    "        ok += 1\n",
    "print('Vocabulario:', i)\n",
    "print('Encontrados no modelo:', ok, '=', ok * 100. / i)"
   ]
  },
  {
   "cell_type": "code",
   "execution_count": 11,
   "metadata": {},
   "outputs": [
    {
     "name": "stdout",
     "output_type": "stream",
     "text": [
      "666\n",
      "443\n",
      "911\n",
      "711\n",
      "lo\n",
      "1952\n",
      "iec\n",
      "federativo\n",
      "887\n",
      "520\n",
      "745\n",
      "sujeitam\n",
      "527\n",
      "462\n",
      "las\n",
      "abstendo\n",
      "1960\n",
      "combatente\n",
      "pré\n",
      "732\n",
      "717\n"
     ]
    }
   ],
   "source": [
    "nok = 0\n",
    "for word, i in tokenizer.word_index.items():\n",
    "    if word not in model.wv:\n",
    "        print(word)\n",
    "        nok += 1\n",
    "        if nok > 20: break"
   ]
  },
  {
   "cell_type": "markdown",
   "metadata": {},
   "source": [
    "# Treinamento"
   ]
  },
  {
   "cell_type": "markdown",
   "metadata": {},
   "source": [
    "## Embedding com pesos fixos"
   ]
  },
  {
   "cell_type": "code",
   "execution_count": 12,
   "metadata": {},
   "outputs": [
    {
     "name": "stderr",
     "output_type": "stream",
     "text": [
      "WARNING: Logging before flag parsing goes to stderr.\n",
      "W0909 12:02:40.340755 139965302404928 deprecation_wrapper.py:119] From /home/leonardo/anaconda3/envs/gpu/lib/python3.7/site-packages/keras/backend/tensorflow_backend.py:74: The name tf.get_default_graph is deprecated. Please use tf.compat.v1.get_default_graph instead.\n",
      "\n"
     ]
    }
   ],
   "source": [
    "from keras.layers import Embedding\n",
    "\n",
    "embedding = Embedding(vocabulario, dim_vetor, weights=[embedding_matrix], input_length=limite_texto, trainable=False)"
   ]
  },
  {
   "cell_type": "code",
   "execution_count": 13,
   "metadata": {},
   "outputs": [
    {
     "name": "stderr",
     "output_type": "stream",
     "text": [
      "W0909 12:02:44.557318 139965302404928 deprecation_wrapper.py:119] From /home/leonardo/anaconda3/envs/gpu/lib/python3.7/site-packages/keras/backend/tensorflow_backend.py:517: The name tf.placeholder is deprecated. Please use tf.compat.v1.placeholder instead.\n",
      "\n",
      "W0909 12:02:44.634295 139965302404928 deprecation_wrapper.py:119] From /home/leonardo/anaconda3/envs/gpu/lib/python3.7/site-packages/keras/backend/tensorflow_backend.py:4138: The name tf.random_uniform is deprecated. Please use tf.random.uniform instead.\n",
      "\n",
      "W0909 12:02:44.651153 139965302404928 deprecation_wrapper.py:119] From /home/leonardo/anaconda3/envs/gpu/lib/python3.7/site-packages/keras/backend/tensorflow_backend.py:174: The name tf.get_default_session is deprecated. Please use tf.compat.v1.get_default_session instead.\n",
      "\n",
      "W0909 12:02:44.651813 139965302404928 deprecation_wrapper.py:119] From /home/leonardo/anaconda3/envs/gpu/lib/python3.7/site-packages/keras/backend/tensorflow_backend.py:181: The name tf.ConfigProto is deprecated. Please use tf.compat.v1.ConfigProto instead.\n",
      "\n",
      "W0909 12:02:55.128854 139965302404928 deprecation.py:506] From /home/leonardo/anaconda3/envs/gpu/lib/python3.7/site-packages/keras/backend/tensorflow_backend.py:3445: calling dropout (from tensorflow.python.ops.nn_ops) with keep_prob is deprecated and will be removed in a future version.\n",
      "Instructions for updating:\n",
      "Please use `rate` instead of `keep_prob`. Rate should be set to `rate = 1 - keep_prob`.\n",
      "W0909 12:02:55.129631 139965302404928 nn_ops.py:4224] Large dropout rate: 0.6 (>0.5). In TensorFlow 2.x, dropout() uses dropout rate instead of keep_prob. Please ensure that this is intended.\n",
      "W0909 12:02:55.156971 139965302404928 nn_ops.py:4224] Large dropout rate: 0.6 (>0.5). In TensorFlow 2.x, dropout() uses dropout rate instead of keep_prob. Please ensure that this is intended.\n",
      "W0909 12:02:55.179497 139965302404928 deprecation_wrapper.py:119] From /home/leonardo/anaconda3/envs/gpu/lib/python3.7/site-packages/keras/optimizers.py:790: The name tf.train.Optimizer is deprecated. Please use tf.compat.v1.train.Optimizer instead.\n",
      "\n"
     ]
    },
    {
     "name": "stdout",
     "output_type": "stream",
     "text": [
      "_________________________________________________________________\n",
      "Layer (type)                 Output Shape              Param #   \n",
      "=================================================================\n",
      "embedding_1 (Embedding)      (None, 200, 100)          1538800   \n",
      "_________________________________________________________________\n",
      "flatten_1 (Flatten)          (None, 20000)             0         \n",
      "_________________________________________________________________\n",
      "dense_1 (Dense)              (None, 2048)              40962048  \n",
      "_________________________________________________________________\n",
      "dropout_1 (Dropout)          (None, 2048)              0         \n",
      "_________________________________________________________________\n",
      "dense_2 (Dense)              (None, 1024)              2098176   \n",
      "_________________________________________________________________\n",
      "dropout_2 (Dropout)          (None, 1024)              0         \n",
      "_________________________________________________________________\n",
      "dense_3 (Dense)              (None, 10)                10250     \n",
      "=================================================================\n",
      "Total params: 44,609,274\n",
      "Trainable params: 43,070,474\n",
      "Non-trainable params: 1,538,800\n",
      "_________________________________________________________________\n"
     ]
    }
   ],
   "source": [
    "from keras.models import Sequential\n",
    "from keras.layers import Flatten, Dense, Embedding\n",
    "from keras.layers.core import Dropout\n",
    "\n",
    "model = Sequential()\n",
    "model.add(embedding)\n",
    "model.add(Flatten())\n",
    "model.add(Dense(2048, activation='relu'))\n",
    "model.add(Dropout(0.6))\n",
    "model.add(Dense(1024, activation='relu'))\n",
    "model.add(Dropout(0.6))\n",
    "model.add(Dense(y.shape[1], activation='softmax'))\n",
    "model.compile(loss='categorical_crossentropy', optimizer='adadelta',  metrics=[\"categorical_accuracy\"])\n",
    "model.summary()"
   ]
  },
  {
   "cell_type": "code",
   "execution_count": 14,
   "metadata": {},
   "outputs": [
    {
     "name": "stderr",
     "output_type": "stream",
     "text": [
      "W0909 12:02:55.467239 139965302404928 deprecation.py:323] From /home/leonardo/anaconda3/envs/gpu/lib/python3.7/site-packages/tensorflow/python/ops/math_grad.py:1250: add_dispatch_support.<locals>.wrapper (from tensorflow.python.ops.array_ops) is deprecated and will be removed in a future version.\n",
      "Instructions for updating:\n",
      "Use tf.where in 2.0, which has the same broadcast rule as np.where\n"
     ]
    },
    {
     "name": "stdout",
     "output_type": "stream",
     "text": [
      "Train on 10649 samples, validate on 2663 samples\n",
      "Epoch 1/20\n",
      "10649/10649 [==============================] - 20s 2ms/step - loss: 1.4393 - categorical_accuracy: 0.5979 - val_loss: 1.1403 - val_categorical_accuracy: 0.6132\n",
      "Epoch 2/20\n",
      "10649/10649 [==============================] - 17s 2ms/step - loss: 0.7884 - categorical_accuracy: 0.7756 - val_loss: 1.0179 - val_categorical_accuracy: 0.6981\n",
      "Epoch 3/20\n",
      "10649/10649 [==============================] - 17s 2ms/step - loss: 0.5109 - categorical_accuracy: 0.8583 - val_loss: 1.1325 - val_categorical_accuracy: 0.6958\n",
      "Epoch 4/20\n",
      "10649/10649 [==============================] - 17s 2ms/step - loss: 0.3283 - categorical_accuracy: 0.9077 - val_loss: 1.3637 - val_categorical_accuracy: 0.6902\n",
      "Epoch 5/20\n",
      "10649/10649 [==============================] - 17s 2ms/step - loss: 0.2315 - categorical_accuracy: 0.9373 - val_loss: 1.6459 - val_categorical_accuracy: 0.6793\n",
      "Epoch 6/20\n",
      "10649/10649 [==============================] - 17s 2ms/step - loss: 0.1699 - categorical_accuracy: 0.9542 - val_loss: 1.7000 - val_categorical_accuracy: 0.7075\n",
      "Epoch 7/20\n",
      "10649/10649 [==============================] - 17s 2ms/step - loss: 0.1426 - categorical_accuracy: 0.9639 - val_loss: 1.9415 - val_categorical_accuracy: 0.6951\n",
      "Epoch 8/20\n",
      "10649/10649 [==============================] - 17s 2ms/step - loss: 0.1065 - categorical_accuracy: 0.9741 - val_loss: 2.0017 - val_categorical_accuracy: 0.7135\n",
      "Epoch 9/20\n",
      "10649/10649 [==============================] - 17s 2ms/step - loss: 0.0940 - categorical_accuracy: 0.9768 - val_loss: 2.3222 - val_categorical_accuracy: 0.6913\n",
      "Epoch 10/20\n",
      "10649/10649 [==============================] - 17s 2ms/step - loss: 0.0823 - categorical_accuracy: 0.9807 - val_loss: 2.1426 - val_categorical_accuracy: 0.7161\n",
      "Epoch 11/20\n",
      "10649/10649 [==============================] - 17s 2ms/step - loss: 0.0764 - categorical_accuracy: 0.9818 - val_loss: 2.2352 - val_categorical_accuracy: 0.7161\n",
      "Epoch 12/20\n",
      "10649/10649 [==============================] - 17s 2ms/step - loss: 0.0736 - categorical_accuracy: 0.9822 - val_loss: 2.4585 - val_categorical_accuracy: 0.6932\n",
      "Epoch 13/20\n",
      "10649/10649 [==============================] - 17s 2ms/step - loss: 0.0586 - categorical_accuracy: 0.9869 - val_loss: 2.3495 - val_categorical_accuracy: 0.7172\n",
      "Epoch 14/20\n",
      "10649/10649 [==============================] - 17s 2ms/step - loss: 0.0487 - categorical_accuracy: 0.9896 - val_loss: 2.4810 - val_categorical_accuracy: 0.7000\n",
      "Epoch 15/20\n",
      "10649/10649 [==============================] - 17s 2ms/step - loss: 0.0509 - categorical_accuracy: 0.9883 - val_loss: 2.4893 - val_categorical_accuracy: 0.7078\n",
      "Epoch 16/20\n",
      "10649/10649 [==============================] - 17s 2ms/step - loss: 0.0475 - categorical_accuracy: 0.9877 - val_loss: 2.6826 - val_categorical_accuracy: 0.6928\n",
      "Epoch 17/20\n",
      "10649/10649 [==============================] - 17s 2ms/step - loss: 0.0474 - categorical_accuracy: 0.9900 - val_loss: 2.6278 - val_categorical_accuracy: 0.7022\n",
      "Epoch 18/20\n",
      "10649/10649 [==============================] - 17s 2ms/step - loss: 0.0454 - categorical_accuracy: 0.9898 - val_loss: 2.7085 - val_categorical_accuracy: 0.6947\n",
      "Epoch 19/20\n",
      "10649/10649 [==============================] - 17s 2ms/step - loss: 0.0389 - categorical_accuracy: 0.9915 - val_loss: 2.6599 - val_categorical_accuracy: 0.6992\n",
      "Epoch 20/20\n",
      "10649/10649 [==============================] - 17s 2ms/step - loss: 0.0368 - categorical_accuracy: 0.9930 - val_loss: 2.8714 - val_categorical_accuracy: 0.6816\n"
     ]
    }
   ],
   "source": [
    "history = model.fit(x, y, epochs=20, batch_size=32, validation_split=0.2, verbose=1, shuffle=True)"
   ]
  },
  {
   "cell_type": "code",
   "execution_count": 16,
   "metadata": {},
   "outputs": [
    {
     "name": "stdout",
     "output_type": "stream",
     "text": [
      "Train on 10649 samples, validate on 2663 samples\n",
      "Epoch 1/20\n",
      "10649/10649 [==============================] - 18s 2ms/step - loss: 1.1514 - categorical_accuracy: 0.6545 - val_loss: 1.0160 - val_categorical_accuracy: 0.6669\n",
      "Epoch 2/20\n",
      "10649/10649 [==============================] - 17s 2ms/step - loss: 0.3871 - categorical_accuracy: 0.8783 - val_loss: 1.2954 - val_categorical_accuracy: 0.6624\n",
      "Epoch 3/20\n",
      "10649/10649 [==============================] - 17s 2ms/step - loss: 0.1302 - categorical_accuracy: 0.9586 - val_loss: 1.7109 - val_categorical_accuracy: 0.6947\n",
      "Epoch 4/20\n",
      "10649/10649 [==============================] - 17s 2ms/step - loss: 0.0660 - categorical_accuracy: 0.9805 - val_loss: 2.0672 - val_categorical_accuracy: 0.6763\n",
      "Epoch 5/20\n",
      "10649/10649 [==============================] - 17s 2ms/step - loss: 0.0453 - categorical_accuracy: 0.9879 - val_loss: 2.1548 - val_categorical_accuracy: 0.6883\n",
      "Epoch 6/20\n",
      "10649/10649 [==============================] - 17s 2ms/step - loss: 0.0295 - categorical_accuracy: 0.9923 - val_loss: 2.3247 - val_categorical_accuracy: 0.6808\n",
      "Epoch 7/20\n",
      "10649/10649 [==============================] - 17s 2ms/step - loss: 0.0207 - categorical_accuracy: 0.9939 - val_loss: 2.4522 - val_categorical_accuracy: 0.6981\n",
      "Epoch 8/20\n",
      "10649/10649 [==============================] - 17s 2ms/step - loss: 0.0212 - categorical_accuracy: 0.9947 - val_loss: 2.5171 - val_categorical_accuracy: 0.6947\n",
      "Epoch 9/20\n",
      "10649/10649 [==============================] - 17s 2ms/step - loss: 0.0165 - categorical_accuracy: 0.9966 - val_loss: 2.6137 - val_categorical_accuracy: 0.6906\n",
      "Epoch 10/20\n",
      "10649/10649 [==============================] - 17s 2ms/step - loss: 0.0158 - categorical_accuracy: 0.9966 - val_loss: 2.5335 - val_categorical_accuracy: 0.7075\n",
      "Epoch 11/20\n",
      "10649/10649 [==============================] - 17s 2ms/step - loss: 0.0102 - categorical_accuracy: 0.9980 - val_loss: 2.7263 - val_categorical_accuracy: 0.6853\n",
      "Epoch 12/20\n",
      "10649/10649 [==============================] - 17s 2ms/step - loss: 0.0102 - categorical_accuracy: 0.9979 - val_loss: 2.7718 - val_categorical_accuracy: 0.6894\n",
      "Epoch 13/20\n",
      "10649/10649 [==============================] - 17s 2ms/step - loss: 0.0153 - categorical_accuracy: 0.9973 - val_loss: 2.8259 - val_categorical_accuracy: 0.6812\n",
      "Epoch 14/20\n",
      "10649/10649 [==============================] - 17s 2ms/step - loss: 0.0110 - categorical_accuracy: 0.9982 - val_loss: 2.7702 - val_categorical_accuracy: 0.6936\n",
      "Epoch 15/20\n",
      "10649/10649 [==============================] - 17s 2ms/step - loss: 0.0106 - categorical_accuracy: 0.9975 - val_loss: 2.7808 - val_categorical_accuracy: 0.7003\n",
      "Epoch 16/20\n",
      "10649/10649 [==============================] - 17s 2ms/step - loss: 0.0105 - categorical_accuracy: 0.9980 - val_loss: 2.7559 - val_categorical_accuracy: 0.6925\n",
      "Epoch 17/20\n",
      "10649/10649 [==============================] - 17s 2ms/step - loss: 0.0074 - categorical_accuracy: 0.9986 - val_loss: 2.7217 - val_categorical_accuracy: 0.7056\n",
      "Epoch 18/20\n",
      "10649/10649 [==============================] - 17s 2ms/step - loss: 0.0087 - categorical_accuracy: 0.9986 - val_loss: 2.7173 - val_categorical_accuracy: 0.6981\n",
      "Epoch 19/20\n",
      "10649/10649 [==============================] - 17s 2ms/step - loss: 0.0116 - categorical_accuracy: 0.9982 - val_loss: 2.7724 - val_categorical_accuracy: 0.7011\n",
      "Epoch 20/20\n",
      "10649/10649 [==============================] - 17s 2ms/step - loss: 0.0080 - categorical_accuracy: 0.9984 - val_loss: 2.7470 - val_categorical_accuracy: 0.7063\n"
     ]
    }
   ],
   "source": [
    "model = Sequential()\n",
    "model.add(Embedding(vocabulario, dim_vetor, weights=[embedding_matrix], input_length=limite_texto, trainable=False))\n",
    "model.add(Flatten())\n",
    "model.add(Dense(2048, activation='relu'))\n",
    "model.add(Dropout(0.4))\n",
    "model.add(Dense(1024, activation='relu'))\n",
    "model.add(Dropout(0.4))\n",
    "model.add(Dense(y.shape[1], activation='softmax'))\n",
    "model.compile(loss='categorical_crossentropy', optimizer='adadelta',  metrics=[\"categorical_accuracy\"])\n",
    "\n",
    "history = model.fit(x, y, epochs=20, batch_size=32, validation_split=0.2, verbose=1, shuffle=True)"
   ]
  },
  {
   "cell_type": "code",
   "execution_count": 17,
   "metadata": {},
   "outputs": [
    {
     "name": "stdout",
     "output_type": "stream",
     "text": [
      "Train on 10649 samples, validate on 2663 samples\n",
      "Epoch 1/20\n",
      "10649/10649 [==============================] - 17s 2ms/step - loss: 1.1658 - categorical_accuracy: 0.6399 - val_loss: 1.0884 - val_categorical_accuracy: 0.6496\n",
      "Epoch 2/20\n",
      "10649/10649 [==============================] - 16s 1ms/step - loss: 0.5523 - categorical_accuracy: 0.8229 - val_loss: 1.1085 - val_categorical_accuracy: 0.6973\n",
      "Epoch 3/20\n",
      "10649/10649 [==============================] - 16s 1ms/step - loss: 0.2680 - categorical_accuracy: 0.9176 - val_loss: 1.3142 - val_categorical_accuracy: 0.6932\n",
      "Epoch 4/20\n",
      "10649/10649 [==============================] - 16s 1ms/step - loss: 0.1532 - categorical_accuracy: 0.9558 - val_loss: 1.5840 - val_categorical_accuracy: 0.6951\n",
      "Epoch 5/20\n",
      "10649/10649 [==============================] - 16s 1ms/step - loss: 0.0869 - categorical_accuracy: 0.9762 - val_loss: 2.0026 - val_categorical_accuracy: 0.6947\n",
      "Epoch 6/20\n",
      "10649/10649 [==============================] - 16s 1ms/step - loss: 0.0650 - categorical_accuracy: 0.9823 - val_loss: 2.1531 - val_categorical_accuracy: 0.6928\n",
      "Epoch 7/20\n",
      "10649/10649 [==============================] - 16s 1ms/step - loss: 0.0507 - categorical_accuracy: 0.9858 - val_loss: 2.3139 - val_categorical_accuracy: 0.7003\n",
      "Epoch 8/20\n",
      "10649/10649 [==============================] - 16s 1ms/step - loss: 0.0483 - categorical_accuracy: 0.9882 - val_loss: 2.2251 - val_categorical_accuracy: 0.7022\n",
      "Epoch 9/20\n",
      "10649/10649 [==============================] - 16s 1ms/step - loss: 0.0376 - categorical_accuracy: 0.9910 - val_loss: 2.5189 - val_categorical_accuracy: 0.6962\n",
      "Epoch 10/20\n",
      "10649/10649 [==============================] - 16s 2ms/step - loss: 0.0356 - categorical_accuracy: 0.9915 - val_loss: 2.3667 - val_categorical_accuracy: 0.7052\n",
      "Epoch 11/20\n",
      "10649/10649 [==============================] - 16s 2ms/step - loss: 0.0259 - categorical_accuracy: 0.9934 - val_loss: 2.6379 - val_categorical_accuracy: 0.6902\n",
      "Epoch 12/20\n",
      "10649/10649 [==============================] - 16s 2ms/step - loss: 0.0197 - categorical_accuracy: 0.9948 - val_loss: 2.6566 - val_categorical_accuracy: 0.6913\n",
      "Epoch 13/20\n",
      "10649/10649 [==============================] - 16s 2ms/step - loss: 0.0176 - categorical_accuracy: 0.9954 - val_loss: 2.8230 - val_categorical_accuracy: 0.6906\n",
      "Epoch 14/20\n",
      "10649/10649 [==============================] - 16s 2ms/step - loss: 0.0218 - categorical_accuracy: 0.9961 - val_loss: 2.7114 - val_categorical_accuracy: 0.6973\n",
      "Epoch 15/20\n",
      "10649/10649 [==============================] - 16s 2ms/step - loss: 0.0178 - categorical_accuracy: 0.9971 - val_loss: 2.8104 - val_categorical_accuracy: 0.6857\n",
      "Epoch 16/20\n",
      "10649/10649 [==============================] - 16s 2ms/step - loss: 0.0196 - categorical_accuracy: 0.9961 - val_loss: 2.8602 - val_categorical_accuracy: 0.6857\n",
      "Epoch 17/20\n",
      "10649/10649 [==============================] - 16s 2ms/step - loss: 0.0193 - categorical_accuracy: 0.9967 - val_loss: 2.7428 - val_categorical_accuracy: 0.6996\n",
      "Epoch 18/20\n",
      "10649/10649 [==============================] - 16s 2ms/step - loss: 0.0126 - categorical_accuracy: 0.9977 - val_loss: 2.9175 - val_categorical_accuracy: 0.6846\n",
      "Epoch 19/20\n",
      "10649/10649 [==============================] - 16s 2ms/step - loss: 0.0115 - categorical_accuracy: 0.9984 - val_loss: 2.9240 - val_categorical_accuracy: 0.6868\n",
      "Epoch 20/20\n",
      "10649/10649 [==============================] - 17s 2ms/step - loss: 0.0086 - categorical_accuracy: 0.9983 - val_loss: 2.9492 - val_categorical_accuracy: 0.6913\n"
     ]
    }
   ],
   "source": [
    "model = Sequential()\n",
    "model.add(Embedding(vocabulario, dim_vetor, weights=[embedding_matrix], input_length=limite_texto, trainable=False))\n",
    "model.add(Flatten())\n",
    "model.add(Dense(2048, activation='relu'))\n",
    "model.add(Dropout(0.4))\n",
    "model.add(Dense(256, activation='relu'))\n",
    "model.add(Dropout(0.4))\n",
    "model.add(Dense(y.shape[1], activation='softmax'))\n",
    "model.compile(loss='categorical_crossentropy', optimizer='adadelta',  metrics=[\"categorical_accuracy\"])\n",
    "\n",
    "history = model.fit(x, y, epochs=20, batch_size=32, validation_split=0.2, verbose=1, shuffle=True)"
   ]
  },
  {
   "cell_type": "markdown",
   "metadata": {},
   "source": [
    "## Embedding com pesos ajustáveis"
   ]
  },
  {
   "cell_type": "code",
   "execution_count": 18,
   "metadata": {},
   "outputs": [
    {
     "name": "stderr",
     "output_type": "stream",
     "text": [
      "W0909 12:27:48.657403 139965302404928 nn_ops.py:4224] Large dropout rate: 0.6 (>0.5). In TensorFlow 2.x, dropout() uses dropout rate instead of keep_prob. Please ensure that this is intended.\n",
      "W0909 12:27:48.685092 139965302404928 nn_ops.py:4224] Large dropout rate: 0.6 (>0.5). In TensorFlow 2.x, dropout() uses dropout rate instead of keep_prob. Please ensure that this is intended.\n"
     ]
    },
    {
     "name": "stdout",
     "output_type": "stream",
     "text": [
      "_________________________________________________________________\n",
      "Layer (type)                 Output Shape              Param #   \n",
      "=================================================================\n",
      "embedding_5 (Embedding)      (None, 200, 100)          1538800   \n",
      "_________________________________________________________________\n",
      "flatten_5 (Flatten)          (None, 20000)             0         \n",
      "_________________________________________________________________\n",
      "dense_13 (Dense)             (None, 2048)              40962048  \n",
      "_________________________________________________________________\n",
      "dropout_9 (Dropout)          (None, 2048)              0         \n",
      "_________________________________________________________________\n",
      "dense_14 (Dense)             (None, 1024)              2098176   \n",
      "_________________________________________________________________\n",
      "dropout_10 (Dropout)         (None, 1024)              0         \n",
      "_________________________________________________________________\n",
      "dense_15 (Dense)             (None, 10)                10250     \n",
      "=================================================================\n",
      "Total params: 44,609,274\n",
      "Trainable params: 44,609,274\n",
      "Non-trainable params: 0\n",
      "_________________________________________________________________\n",
      "Train on 10649 samples, validate on 2663 samples\n",
      "Epoch 1/20\n",
      "10649/10649 [==============================] - 19s 2ms/step - loss: 1.4457 - categorical_accuracy: 0.6006 - val_loss: 1.0216 - val_categorical_accuracy: 0.6729\n",
      "Epoch 2/20\n",
      "10649/10649 [==============================] - 18s 2ms/step - loss: 0.7614 - categorical_accuracy: 0.7832 - val_loss: 0.9919 - val_categorical_accuracy: 0.6925\n",
      "Epoch 3/20\n",
      "10649/10649 [==============================] - 18s 2ms/step - loss: 0.4860 - categorical_accuracy: 0.8635 - val_loss: 1.2278 - val_categorical_accuracy: 0.6894\n",
      "Epoch 4/20\n",
      "10649/10649 [==============================] - 18s 2ms/step - loss: 0.2957 - categorical_accuracy: 0.9160 - val_loss: 1.4445 - val_categorical_accuracy: 0.6928\n",
      "Epoch 5/20\n",
      "10649/10649 [==============================] - 18s 2ms/step - loss: 0.2079 - categorical_accuracy: 0.9426 - val_loss: 1.7291 - val_categorical_accuracy: 0.6958\n",
      "Epoch 6/20\n",
      "10649/10649 [==============================] - 18s 2ms/step - loss: 0.1586 - categorical_accuracy: 0.9562 - val_loss: 1.8088 - val_categorical_accuracy: 0.6913\n",
      "Epoch 7/20\n",
      "10649/10649 [==============================] - 18s 2ms/step - loss: 0.1107 - categorical_accuracy: 0.9697 - val_loss: 1.9509 - val_categorical_accuracy: 0.7056\n",
      "Epoch 8/20\n",
      "10649/10649 [==============================] - 18s 2ms/step - loss: 0.0917 - categorical_accuracy: 0.9777 - val_loss: 1.9723 - val_categorical_accuracy: 0.7124\n",
      "Epoch 9/20\n",
      "10649/10649 [==============================] - 18s 2ms/step - loss: 0.0869 - categorical_accuracy: 0.9790 - val_loss: 2.1612 - val_categorical_accuracy: 0.7094\n",
      "Epoch 10/20\n",
      "10649/10649 [==============================] - 18s 2ms/step - loss: 0.0663 - categorical_accuracy: 0.9846 - val_loss: 2.2469 - val_categorical_accuracy: 0.7075\n",
      "Epoch 11/20\n",
      "10649/10649 [==============================] - 18s 2ms/step - loss: 0.0662 - categorical_accuracy: 0.9838 - val_loss: 2.2828 - val_categorical_accuracy: 0.7037\n",
      "Epoch 12/20\n",
      "10649/10649 [==============================] - 18s 2ms/step - loss: 0.0488 - categorical_accuracy: 0.9884 - val_loss: 2.3243 - val_categorical_accuracy: 0.7037\n",
      "Epoch 13/20\n",
      "10649/10649 [==============================] - 18s 2ms/step - loss: 0.0478 - categorical_accuracy: 0.9884 - val_loss: 2.4828 - val_categorical_accuracy: 0.6902\n",
      "Epoch 14/20\n",
      "10649/10649 [==============================] - 18s 2ms/step - loss: 0.0581 - categorical_accuracy: 0.9883 - val_loss: 2.5250 - val_categorical_accuracy: 0.7007\n",
      "Epoch 15/20\n",
      "10649/10649 [==============================] - 18s 2ms/step - loss: 0.0433 - categorical_accuracy: 0.9910 - val_loss: 2.4530 - val_categorical_accuracy: 0.7135\n",
      "Epoch 16/20\n",
      "10649/10649 [==============================] - 18s 2ms/step - loss: 0.0405 - categorical_accuracy: 0.9908 - val_loss: 2.4005 - val_categorical_accuracy: 0.7176\n",
      "Epoch 17/20\n",
      "10649/10649 [==============================] - 18s 2ms/step - loss: 0.0330 - categorical_accuracy: 0.9923 - val_loss: 2.5504 - val_categorical_accuracy: 0.7131\n",
      "Epoch 18/20\n",
      "10649/10649 [==============================] - 18s 2ms/step - loss: 0.0375 - categorical_accuracy: 0.9923 - val_loss: 2.5217 - val_categorical_accuracy: 0.7139\n",
      "Epoch 19/20\n",
      "10649/10649 [==============================] - 18s 2ms/step - loss: 0.0380 - categorical_accuracy: 0.9915 - val_loss: 2.5179 - val_categorical_accuracy: 0.7112\n",
      "Epoch 20/20\n",
      "10649/10649 [==============================] - 18s 2ms/step - loss: 0.0351 - categorical_accuracy: 0.9924 - val_loss: 2.6668 - val_categorical_accuracy: 0.7045\n"
     ]
    }
   ],
   "source": [
    "from keras.models import Sequential\n",
    "from keras.layers import Flatten, Dense, Embedding\n",
    "from keras.layers.core import Dropout\n",
    "\n",
    "model = Sequential()\n",
    "model.add(Embedding(vocabulario, dim_vetor, weights=[embedding_matrix], input_length=limite_texto, trainable=True))\n",
    "model.add(Flatten())\n",
    "model.add(Dense(2048, activation='relu'))\n",
    "model.add(Dropout(0.6))\n",
    "model.add(Dense(1024, activation='relu'))\n",
    "model.add(Dropout(0.6))\n",
    "model.add(Dense(y.shape[1], activation='softmax'))\n",
    "model.compile(loss='categorical_crossentropy', optimizer='adadelta',  metrics=[\"categorical_accuracy\"])\n",
    "model.summary()\n",
    "\n",
    "history = model.fit(x, y, epochs=20, batch_size=32, validation_split=0.2, verbose=1, shuffle=True)"
   ]
  },
  {
   "cell_type": "code",
   "execution_count": 19,
   "metadata": {},
   "outputs": [
    {
     "name": "stdout",
     "output_type": "stream",
     "text": [
      "Train on 10649 samples, validate on 2663 samples\n",
      "Epoch 1/20\n",
      "10649/10649 [==============================] - 19s 2ms/step - loss: 1.1451 - categorical_accuracy: 0.6512 - val_loss: 1.2158 - val_categorical_accuracy: 0.6256\n",
      "Epoch 2/20\n",
      "10649/10649 [==============================] - 18s 2ms/step - loss: 0.3849 - categorical_accuracy: 0.8764 - val_loss: 1.2112 - val_categorical_accuracy: 0.6936\n",
      "Epoch 3/20\n",
      "10649/10649 [==============================] - 18s 2ms/step - loss: 0.1217 - categorical_accuracy: 0.9649 - val_loss: 1.6386 - val_categorical_accuracy: 0.6962\n",
      "Epoch 4/20\n",
      "10649/10649 [==============================] - 18s 2ms/step - loss: 0.0609 - categorical_accuracy: 0.9832 - val_loss: 2.0095 - val_categorical_accuracy: 0.6838\n",
      "Epoch 5/20\n",
      "10649/10649 [==============================] - 18s 2ms/step - loss: 0.0381 - categorical_accuracy: 0.9879 - val_loss: 2.1254 - val_categorical_accuracy: 0.6838\n",
      "Epoch 6/20\n",
      "10649/10649 [==============================] - 18s 2ms/step - loss: 0.0353 - categorical_accuracy: 0.9908 - val_loss: 2.0974 - val_categorical_accuracy: 0.7112\n",
      "Epoch 7/20\n",
      "10649/10649 [==============================] - 18s 2ms/step - loss: 0.0278 - categorical_accuracy: 0.9944 - val_loss: 2.1766 - val_categorical_accuracy: 0.7169\n",
      "Epoch 8/20\n",
      "10649/10649 [==============================] - 18s 2ms/step - loss: 0.0213 - categorical_accuracy: 0.9947 - val_loss: 2.3090 - val_categorical_accuracy: 0.7037\n",
      "Epoch 9/20\n",
      "10649/10649 [==============================] - 18s 2ms/step - loss: 0.0149 - categorical_accuracy: 0.9967 - val_loss: 2.3819 - val_categorical_accuracy: 0.7116\n",
      "Epoch 10/20\n",
      "10649/10649 [==============================] - 18s 2ms/step - loss: 0.0156 - categorical_accuracy: 0.9962 - val_loss: 2.3943 - val_categorical_accuracy: 0.7161\n",
      "Epoch 11/20\n",
      "10649/10649 [==============================] - 18s 2ms/step - loss: 0.0121 - categorical_accuracy: 0.9979 - val_loss: 2.4892 - val_categorical_accuracy: 0.7000\n",
      "Epoch 12/20\n",
      "10649/10649 [==============================] - 18s 2ms/step - loss: 0.0148 - categorical_accuracy: 0.9973 - val_loss: 2.4188 - val_categorical_accuracy: 0.7161\n",
      "Epoch 13/20\n",
      "10649/10649 [==============================] - 18s 2ms/step - loss: 0.0095 - categorical_accuracy: 0.9977 - val_loss: 2.5209 - val_categorical_accuracy: 0.7000\n",
      "Epoch 14/20\n",
      "10649/10649 [==============================] - 18s 2ms/step - loss: 0.0085 - categorical_accuracy: 0.9980 - val_loss: 2.6436 - val_categorical_accuracy: 0.6898\n",
      "Epoch 15/20\n",
      "10649/10649 [==============================] - 18s 2ms/step - loss: 0.0089 - categorical_accuracy: 0.9983 - val_loss: 2.7400 - val_categorical_accuracy: 0.6958\n",
      "Epoch 16/20\n",
      "10649/10649 [==============================] - 18s 2ms/step - loss: 0.0071 - categorical_accuracy: 0.9990 - val_loss: 2.8829 - val_categorical_accuracy: 0.6879\n",
      "Epoch 17/20\n",
      "10649/10649 [==============================] - 18s 2ms/step - loss: 0.0077 - categorical_accuracy: 0.9990 - val_loss: 2.8227 - val_categorical_accuracy: 0.6977\n",
      "Epoch 18/20\n",
      "10649/10649 [==============================] - 18s 2ms/step - loss: 0.0082 - categorical_accuracy: 0.9983 - val_loss: 2.8489 - val_categorical_accuracy: 0.7022\n",
      "Epoch 19/20\n",
      "10649/10649 [==============================] - 18s 2ms/step - loss: 0.0089 - categorical_accuracy: 0.9985 - val_loss: 2.7945 - val_categorical_accuracy: 0.6988\n",
      "Epoch 20/20\n",
      "10649/10649 [==============================] - 18s 2ms/step - loss: 0.0094 - categorical_accuracy: 0.9988 - val_loss: 2.8006 - val_categorical_accuracy: 0.7067\n"
     ]
    }
   ],
   "source": [
    "model = Sequential()\n",
    "model.add(Embedding(vocabulario, dim_vetor, weights=[embedding_matrix], input_length=limite_texto, trainable=True))\n",
    "model.add(Flatten())\n",
    "model.add(Dense(2048, activation='relu'))\n",
    "model.add(Dropout(0.4))\n",
    "model.add(Dense(1024, activation='relu'))\n",
    "model.add(Dropout(0.4))\n",
    "model.add(Dense(y.shape[1], activation='softmax'))\n",
    "model.compile(loss='categorical_crossentropy', optimizer='adadelta',  metrics=[\"categorical_accuracy\"])\n",
    "\n",
    "history = model.fit(x, y, epochs=20, batch_size=32, validation_split=0.2, verbose=1, shuffle=True)"
   ]
  },
  {
   "cell_type": "code",
   "execution_count": 20,
   "metadata": {},
   "outputs": [
    {
     "name": "stdout",
     "output_type": "stream",
     "text": [
      "Train on 10649 samples, validate on 2663 samples\n",
      "Epoch 1/20\n",
      "10649/10649 [==============================] - 18s 2ms/step - loss: 1.1653 - categorical_accuracy: 0.6352 - val_loss: 0.9994 - val_categorical_accuracy: 0.6891\n",
      "Epoch 2/20\n",
      "10649/10649 [==============================] - 17s 2ms/step - loss: 0.5646 - categorical_accuracy: 0.8193 - val_loss: 1.2584 - val_categorical_accuracy: 0.6583\n",
      "Epoch 3/20\n",
      "10649/10649 [==============================] - 17s 2ms/step - loss: 0.2741 - categorical_accuracy: 0.9126 - val_loss: 1.3575 - val_categorical_accuracy: 0.6925\n",
      "Epoch 4/20\n",
      "10649/10649 [==============================] - 17s 2ms/step - loss: 0.1462 - categorical_accuracy: 0.9555 - val_loss: 1.7031 - val_categorical_accuracy: 0.6883\n",
      "Epoch 5/20\n",
      "10649/10649 [==============================] - 17s 2ms/step - loss: 0.0909 - categorical_accuracy: 0.9714 - val_loss: 1.8298 - val_categorical_accuracy: 0.7000\n",
      "Epoch 6/20\n",
      "10649/10649 [==============================] - 17s 2ms/step - loss: 0.0641 - categorical_accuracy: 0.9811 - val_loss: 2.1314 - val_categorical_accuracy: 0.6913\n",
      "Epoch 7/20\n",
      "10649/10649 [==============================] - 18s 2ms/step - loss: 0.0467 - categorical_accuracy: 0.9865 - val_loss: 2.1005 - val_categorical_accuracy: 0.7037\n",
      "Epoch 8/20\n",
      "10649/10649 [==============================] - 17s 2ms/step - loss: 0.0362 - categorical_accuracy: 0.9901 - val_loss: 2.2723 - val_categorical_accuracy: 0.7011\n",
      "Epoch 9/20\n",
      "10649/10649 [==============================] - 17s 2ms/step - loss: 0.0274 - categorical_accuracy: 0.9922 - val_loss: 2.4268 - val_categorical_accuracy: 0.6970\n",
      "Epoch 10/20\n",
      "10649/10649 [==============================] - 17s 2ms/step - loss: 0.0196 - categorical_accuracy: 0.9950 - val_loss: 2.5500 - val_categorical_accuracy: 0.6988\n",
      "Epoch 11/20\n",
      "10649/10649 [==============================] - 17s 2ms/step - loss: 0.0225 - categorical_accuracy: 0.9946 - val_loss: 2.6786 - val_categorical_accuracy: 0.7007\n",
      "Epoch 12/20\n",
      "10649/10649 [==============================] - 17s 2ms/step - loss: 0.0274 - categorical_accuracy: 0.9944 - val_loss: 2.7392 - val_categorical_accuracy: 0.6962\n",
      "Epoch 13/20\n",
      "10649/10649 [==============================] - 17s 2ms/step - loss: 0.0227 - categorical_accuracy: 0.9951 - val_loss: 2.7054 - val_categorical_accuracy: 0.6951\n",
      "Epoch 14/20\n",
      "10649/10649 [==============================] - 17s 2ms/step - loss: 0.0207 - categorical_accuracy: 0.9957 - val_loss: 2.7326 - val_categorical_accuracy: 0.6955\n",
      "Epoch 15/20\n",
      "10649/10649 [==============================] - 18s 2ms/step - loss: 0.0186 - categorical_accuracy: 0.9956 - val_loss: 2.7526 - val_categorical_accuracy: 0.6887\n",
      "Epoch 16/20\n",
      "10649/10649 [==============================] - 18s 2ms/step - loss: 0.0127 - categorical_accuracy: 0.9973 - val_loss: 2.8128 - val_categorical_accuracy: 0.7003\n",
      "Epoch 17/20\n",
      "10649/10649 [==============================] - 18s 2ms/step - loss: 0.0152 - categorical_accuracy: 0.9967 - val_loss: 2.9096 - val_categorical_accuracy: 0.6861\n",
      "Epoch 18/20\n",
      "10649/10649 [==============================] - 18s 2ms/step - loss: 0.0144 - categorical_accuracy: 0.9967 - val_loss: 2.7822 - val_categorical_accuracy: 0.7033\n",
      "Epoch 19/20\n",
      "10649/10649 [==============================] - 18s 2ms/step - loss: 0.0232 - categorical_accuracy: 0.9958 - val_loss: 2.7609 - val_categorical_accuracy: 0.7048\n",
      "Epoch 20/20\n",
      "10649/10649 [==============================] - 18s 2ms/step - loss: 0.0146 - categorical_accuracy: 0.9967 - val_loss: 2.7526 - val_categorical_accuracy: 0.7131\n"
     ]
    }
   ],
   "source": [
    "model = Sequential()\n",
    "model.add(Embedding(vocabulario, dim_vetor, weights=[embedding_matrix], input_length=limite_texto, trainable=True))\n",
    "model.add(Flatten())\n",
    "model.add(Dense(2048, activation='relu'))\n",
    "model.add(Dropout(0.4))\n",
    "model.add(Dense(256, activation='relu'))\n",
    "model.add(Dropout(0.4))\n",
    "model.add(Dense(y.shape[1], activation='softmax'))\n",
    "model.compile(loss='categorical_crossentropy', optimizer='adadelta',  metrics=[\"categorical_accuracy\"])\n",
    "\n",
    "history = model.fit(x, y, epochs=20, batch_size=32, validation_split=0.2, verbose=1, shuffle=True)"
   ]
  },
  {
   "cell_type": "code",
   "execution_count": null,
   "metadata": {},
   "outputs": [],
   "source": []
  }
 ],
 "metadata": {
  "kernelspec": {
   "display_name": "Python 3",
   "language": "python",
   "name": "python3"
  },
  "language_info": {
   "codemirror_mode": {
    "name": "ipython",
    "version": 3
   },
   "file_extension": ".py",
   "mimetype": "text/x-python",
   "name": "python",
   "nbconvert_exporter": "python",
   "pygments_lexer": "ipython3",
   "version": "3.7.4"
  }
 },
 "nbformat": 4,
 "nbformat_minor": 2
}
