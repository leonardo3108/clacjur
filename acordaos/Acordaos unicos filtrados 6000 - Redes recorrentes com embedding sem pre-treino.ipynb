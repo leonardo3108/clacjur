{
 "cells": [
  {
   "cell_type": "markdown",
   "metadata": {},
   "source": [
    "# Importação e preparação dos dados"
   ]
  },
  {
   "cell_type": "code",
   "execution_count": 1,
   "metadata": {},
   "outputs": [
    {
     "data": {
      "text/html": [
       "<div>\n",
       "<style scoped>\n",
       "    .dataframe tbody tr th:only-of-type {\n",
       "        vertical-align: middle;\n",
       "    }\n",
       "\n",
       "    .dataframe tbody tr th {\n",
       "        vertical-align: top;\n",
       "    }\n",
       "\n",
       "    .dataframe thead th {\n",
       "        text-align: right;\n",
       "    }\n",
       "</style>\n",
       "<table border=\"1\" class=\"dataframe\">\n",
       "  <thead>\n",
       "    <tr style=\"text-align: right;\">\n",
       "      <th></th>\n",
       "      <th>acordao</th>\n",
       "      <th>areas</th>\n",
       "      <th>filtrado_6000</th>\n",
       "    </tr>\n",
       "  </thead>\n",
       "  <tbody>\n",
       "    <tr>\n",
       "      <th>0</th>\n",
       "      <td>297/2016-P</td>\n",
       "      <td>Responsabilidade</td>\n",
       "      <td>tribunal conta união tc grupo classe plenário ...</td>\n",
       "    </tr>\n",
       "    <tr>\n",
       "      <th>1</th>\n",
       "      <td>366/2016-P</td>\n",
       "      <td>Finanças Públicas</td>\n",
       "      <td>tribunal conta união tc grupo classe ii plenár...</td>\n",
       "    </tr>\n",
       "    <tr>\n",
       "      <th>2</th>\n",
       "      <td>944/2016-P</td>\n",
       "      <td>Responsabilidade</td>\n",
       "      <td>tribunal conta união tc grupo classe plenário ...</td>\n",
       "    </tr>\n",
       "    <tr>\n",
       "      <th>3</th>\n",
       "      <td>30/2016-P</td>\n",
       "      <td>Direito Processual</td>\n",
       "      <td>tribunal conta união tc grupo classe plenário ...</td>\n",
       "    </tr>\n",
       "    <tr>\n",
       "      <th>4</th>\n",
       "      <td>55/2016-P</td>\n",
       "      <td>Pessoal</td>\n",
       "      <td>wania lucia pasquarelli nascimentotcuwania luc...</td>\n",
       "    </tr>\n",
       "  </tbody>\n",
       "</table>\n",
       "</div>"
      ],
      "text/plain": [
       "      acordao               areas  \\\n",
       "0  297/2016-P    Responsabilidade   \n",
       "1  366/2016-P   Finanças Públicas   \n",
       "2  944/2016-P    Responsabilidade   \n",
       "3   30/2016-P  Direito Processual   \n",
       "4   55/2016-P             Pessoal   \n",
       "\n",
       "                                       filtrado_6000  \n",
       "0  tribunal conta união tc grupo classe plenário ...  \n",
       "1  tribunal conta união tc grupo classe ii plenár...  \n",
       "2  tribunal conta união tc grupo classe plenário ...  \n",
       "3  tribunal conta união tc grupo classe plenário ...  \n",
       "4  wania lucia pasquarelli nascimentotcuwania luc...  "
      ]
     },
     "execution_count": 1,
     "metadata": {},
     "output_type": "execute_result"
    }
   ],
   "source": [
    "import pandas as pd\n",
    "\n",
    "df = pd.read_csv('../dados/acordaos-unicos-filtrados-6000.csv', sep = '|')\n",
    "df['filtrado_6000']=df['filtrado_6000'].astype(str)\n",
    "df.head()"
   ]
  },
  {
   "cell_type": "code",
   "execution_count": 2,
   "metadata": {},
   "outputs": [
    {
     "data": {
      "text/plain": [
       "(9739, 3)"
      ]
     },
     "execution_count": 2,
     "metadata": {},
     "output_type": "execute_result"
    }
   ],
   "source": [
    "df.shape"
   ]
  },
  {
   "cell_type": "code",
   "execution_count": 3,
   "metadata": {},
   "outputs": [
    {
     "data": {
      "text/plain": [
       "array(['Competência do TCU', 'Contrato Administrativo', 'Convênio',\n",
       "       'Desestatização', 'Direito Processual', 'Finanças Públicas',\n",
       "       'Gestão Administrativa', 'Licitação', 'Pessoal',\n",
       "       'Responsabilidade'], dtype='<U23')"
      ]
     },
     "execution_count": 3,
     "metadata": {},
     "output_type": "execute_result"
    }
   ],
   "source": [
    "from sklearn.preprocessing import LabelBinarizer\n",
    "\n",
    "areas = df.groupby(['areas']).groups.keys()\n",
    "lbArea = LabelBinarizer()\n",
    "lbArea.fit([x for x in areas])\n",
    "lbArea.classes_"
   ]
  },
  {
   "cell_type": "code",
   "execution_count": 4,
   "metadata": {},
   "outputs": [
    {
     "data": {
      "text/plain": [
       "(9739, 10)"
      ]
     },
     "execution_count": 4,
     "metadata": {},
     "output_type": "execute_result"
    }
   ],
   "source": [
    "y = lbArea.transform(df['areas'])\n",
    "y.shape"
   ]
  },
  {
   "cell_type": "code",
   "execution_count": 5,
   "metadata": {},
   "outputs": [
    {
     "name": "stderr",
     "output_type": "stream",
     "text": [
      "Using TensorFlow backend.\n"
     ]
    },
    {
     "name": "stdout",
     "output_type": "stream",
     "text": [
      "Found 95423 unique tokens.\n"
     ]
    }
   ],
   "source": [
    "from keras.preprocessing.text import Tokenizer\n",
    "import numpy as np\n",
    "\n",
    "vocabulario = 100000\n",
    "limite_texto = 6000\n",
    "dim_vetor = 50\n",
    "\n",
    "tokenizer = Tokenizer(num_words=vocabulario)\n",
    "tokenizer.fit_on_texts(df['filtrado_6000'])\n",
    "\n",
    "sequences = tokenizer.texts_to_sequences(df['filtrado_6000'])\n",
    "\n",
    "word_index = tokenizer.word_index\n",
    "print('Found %s unique tokens.' % len(word_index))"
   ]
  },
  {
   "cell_type": "code",
   "execution_count": 6,
   "metadata": {},
   "outputs": [
    {
     "name": "stdout",
     "output_type": "stream",
     "text": [
      "Shape of data tensor: (9739, 6000)\n"
     ]
    }
   ],
   "source": [
    "from keras.preprocessing.sequence import pad_sequences\n",
    "\n",
    "x = pad_sequences(sequences, maxlen=limite_texto)\n",
    "\n",
    "print('Shape of data tensor:', x.shape)"
   ]
  },
  {
   "cell_type": "code",
   "execution_count": 7,
   "metadata": {},
   "outputs": [
    {
     "data": {
      "text/plain": [
       "((9739, 6000), (9739, 10))"
      ]
     },
     "execution_count": 7,
     "metadata": {},
     "output_type": "execute_result"
    }
   ],
   "source": [
    "x.shape, y.shape"
   ]
  },
  {
   "cell_type": "markdown",
   "metadata": {},
   "source": [
    "# Treinamento"
   ]
  },
  {
   "cell_type": "code",
   "execution_count": 8,
   "metadata": {
    "scrolled": false
   },
   "outputs": [
    {
     "name": "stderr",
     "output_type": "stream",
     "text": [
      "WARNING: Logging before flag parsing goes to stderr.\n",
      "W0312 21:59:15.919392 139780508272448 deprecation_wrapper.py:119] From /home/leonardo/anaconda3/envs/gpu/lib/python3.7/site-packages/keras/backend/tensorflow_backend.py:74: The name tf.get_default_graph is deprecated. Please use tf.compat.v1.get_default_graph instead.\n",
      "\n",
      "W0312 21:59:15.933649 139780508272448 deprecation_wrapper.py:119] From /home/leonardo/anaconda3/envs/gpu/lib/python3.7/site-packages/keras/backend/tensorflow_backend.py:517: The name tf.placeholder is deprecated. Please use tf.compat.v1.placeholder instead.\n",
      "\n",
      "W0312 21:59:15.935350 139780508272448 deprecation_wrapper.py:119] From /home/leonardo/anaconda3/envs/gpu/lib/python3.7/site-packages/keras/backend/tensorflow_backend.py:4138: The name tf.random_uniform is deprecated. Please use tf.random.uniform instead.\n",
      "\n",
      "W0312 21:59:16.252184 139780508272448 deprecation_wrapper.py:119] From /home/leonardo/anaconda3/envs/gpu/lib/python3.7/site-packages/keras/optimizers.py:790: The name tf.train.Optimizer is deprecated. Please use tf.compat.v1.train.Optimizer instead.\n",
      "\n",
      "W0312 21:59:16.258751 139780508272448 deprecation_wrapper.py:119] From /home/leonardo/anaconda3/envs/gpu/lib/python3.7/site-packages/keras/backend/tensorflow_backend.py:3295: The name tf.log is deprecated. Please use tf.math.log instead.\n",
      "\n"
     ]
    },
    {
     "name": "stdout",
     "output_type": "stream",
     "text": [
      "_________________________________________________________________\n",
      "Layer (type)                 Output Shape              Param #   \n",
      "=================================================================\n",
      "embedding_1 (Embedding)      (None, 6000, 50)          5000000   \n",
      "_________________________________________________________________\n",
      "gru_1 (GRU)                  (None, 256)               235776    \n",
      "_________________________________________________________________\n",
      "dense_1 (Dense)              (None, 10)                2570      \n",
      "=================================================================\n",
      "Total params: 5,238,346\n",
      "Trainable params: 5,238,346\n",
      "Non-trainable params: 0\n",
      "_________________________________________________________________\n"
     ]
    },
    {
     "name": "stderr",
     "output_type": "stream",
     "text": [
      "W0312 21:59:16.568278 139780508272448 deprecation.py:323] From /home/leonardo/anaconda3/envs/gpu/lib/python3.7/site-packages/tensorflow/python/ops/math_grad.py:1250: add_dispatch_support.<locals>.wrapper (from tensorflow.python.ops.array_ops) is deprecated and will be removed in a future version.\n",
      "Instructions for updating:\n",
      "Use tf.where in 2.0, which has the same broadcast rule as np.where\n",
      "W0312 21:59:16.978687 139780508272448 deprecation_wrapper.py:119] From /home/leonardo/anaconda3/envs/gpu/lib/python3.7/site-packages/keras/backend/tensorflow_backend.py:986: The name tf.assign_add is deprecated. Please use tf.compat.v1.assign_add instead.\n",
      "\n"
     ]
    },
    {
     "name": "stdout",
     "output_type": "stream",
     "text": [
      "Train on 7791 samples, validate on 1948 samples\n",
      "Epoch 1/20\n",
      "7791/7791 [==============================] - 1179s 151ms/step - loss: 1.8306 - categorical_accuracy: 0.3729 - val_loss: 1.9571 - val_categorical_accuracy: 0.2125\n",
      "Epoch 2/20\n",
      "7791/7791 [==============================] - 1185s 152ms/step - loss: 1.7547 - categorical_accuracy: 0.4007 - val_loss: 1.9579 - val_categorical_accuracy: 0.2161\n",
      "Epoch 3/20\n",
      "7791/7791 [==============================] - 1178s 151ms/step - loss: 1.6487 - categorical_accuracy: 0.4401 - val_loss: 1.5829 - val_categorical_accuracy: 0.3706\n",
      "Epoch 4/20\n",
      "7791/7791 [==============================] - 1194s 153ms/step - loss: 1.3879 - categorical_accuracy: 0.5238 - val_loss: 1.5167 - val_categorical_accuracy: 0.4574\n",
      "Epoch 5/20\n",
      "7791/7791 [==============================] - 1183s 152ms/step - loss: 1.2172 - categorical_accuracy: 0.5915 - val_loss: 1.3815 - val_categorical_accuracy: 0.5323\n",
      "Epoch 6/20\n",
      "7791/7791 [==============================] - 1185s 152ms/step - loss: 1.0981 - categorical_accuracy: 0.6427 - val_loss: 1.3899 - val_categorical_accuracy: 0.5436\n",
      "Epoch 7/20\n",
      "7791/7791 [==============================] - 1190s 153ms/step - loss: 0.9575 - categorical_accuracy: 0.6790 - val_loss: 1.4259 - val_categorical_accuracy: 0.5308\n",
      "Epoch 8/20\n",
      "7791/7791 [==============================] - 1180s 151ms/step - loss: 0.8435 - categorical_accuracy: 0.7174 - val_loss: 1.5576 - val_categorical_accuracy: 0.5647\n",
      "Epoch 9/20\n",
      "7791/7791 [==============================] - 1181s 152ms/step - loss: 1.9763 - categorical_accuracy: 0.4622 - val_loss: 1.3657 - val_categorical_accuracy: 0.5329\n",
      "Epoch 10/20\n",
      "7791/7791 [==============================] - 1180s 151ms/step - loss: 0.9557 - categorical_accuracy: 0.6800 - val_loss: 1.2868 - val_categorical_accuracy: 0.5801\n",
      "Epoch 11/20\n",
      "7791/7791 [==============================] - 1180s 151ms/step - loss: 0.6914 - categorical_accuracy: 0.7733 - val_loss: 1.2072 - val_categorical_accuracy: 0.6104\n",
      "Epoch 12/20\n",
      "7791/7791 [==============================] - 1181s 152ms/step - loss: 0.5739 - categorical_accuracy: 0.8085 - val_loss: 1.4452 - val_categorical_accuracy: 0.5703\n",
      "Epoch 13/20\n",
      "7791/7791 [==============================] - 1180s 151ms/step - loss: 0.4637 - categorical_accuracy: 0.8510 - val_loss: 1.3694 - val_categorical_accuracy: 0.5811\n",
      "Epoch 14/20\n",
      "7791/7791 [==============================] - 1181s 152ms/step - loss: 0.3628 - categorical_accuracy: 0.8845 - val_loss: 1.3481 - val_categorical_accuracy: 0.6047\n",
      "Epoch 15/20\n",
      "7791/7791 [==============================] - 1181s 152ms/step - loss: 0.2911 - categorical_accuracy: 0.9068 - val_loss: 1.5019 - val_categorical_accuracy: 0.5647\n",
      "Epoch 16/20\n",
      "7791/7791 [==============================] - 1180s 151ms/step - loss: 0.2211 - categorical_accuracy: 0.9325 - val_loss: 1.6544 - val_categorical_accuracy: 0.5986\n",
      "Epoch 17/20\n",
      "7791/7791 [==============================] - 1181s 152ms/step - loss: 0.1715 - categorical_accuracy: 0.9480 - val_loss: 2.0821 - val_categorical_accuracy: 0.5667\n",
      "Epoch 18/20\n",
      "7791/7791 [==============================] - 1181s 152ms/step - loss: 0.1279 - categorical_accuracy: 0.9626 - val_loss: 2.2068 - val_categorical_accuracy: 0.5164\n",
      "Epoch 19/20\n",
      "7791/7791 [==============================] - 1180s 151ms/step - loss: 0.1013 - categorical_accuracy: 0.9691 - val_loss: 2.2168 - val_categorical_accuracy: 0.5662\n",
      "Epoch 20/20\n",
      "7791/7791 [==============================] - 1181s 152ms/step - loss: 0.0756 - categorical_accuracy: 0.9779 - val_loss: 2.2392 - val_categorical_accuracy: 0.5796\n"
     ]
    }
   ],
   "source": [
    "from keras.models import Sequential\n",
    "from keras.layers import Embedding, GRU, Dense, Bidirectional\n",
    "from keras.layers.core import Dropout\n",
    "from keras.optimizers import RMSprop\n",
    "\n",
    "model = Sequential()\n",
    "model.add(Embedding(vocabulario, dim_vetor, input_length=x.shape[1]))\n",
    "model.add(GRU(256))\n",
    "model.add(Dense(y.shape[1], activation='softmax'))\n",
    "model.compile(loss='categorical_crossentropy', optimizer=RMSprop(),  metrics=[\"categorical_accuracy\"])\n",
    "model.summary()\n",
    "\n",
    "history = model.fit(x, y, epochs=20, batch_size=32, validation_split=0.2, verbose=1, shuffle=True)"
   ]
  },
  {
   "cell_type": "code",
   "execution_count": 9,
   "metadata": {},
   "outputs": [
    {
     "name": "stderr",
     "output_type": "stream",
     "text": [
      "W0313 04:33:16.681062 139780508272448 deprecation.py:506] From /home/leonardo/anaconda3/envs/gpu/lib/python3.7/site-packages/keras/backend/tensorflow_backend.py:3445: calling dropout (from tensorflow.python.ops.nn_ops) with keep_prob is deprecated and will be removed in a future version.\n",
      "Instructions for updating:\n",
      "Please use `rate` instead of `keep_prob`. Rate should be set to `rate = 1 - keep_prob`.\n"
     ]
    },
    {
     "name": "stdout",
     "output_type": "stream",
     "text": [
      "_________________________________________________________________\n",
      "Layer (type)                 Output Shape              Param #   \n",
      "=================================================================\n",
      "embedding_2 (Embedding)      (None, 6000, 50)          5000000   \n",
      "_________________________________________________________________\n",
      "gru_2 (GRU)                  (None, 256)               235776    \n",
      "_________________________________________________________________\n",
      "dense_2 (Dense)              (None, 10)                2570      \n",
      "=================================================================\n",
      "Total params: 5,238,346\n",
      "Trainable params: 5,238,346\n",
      "Non-trainable params: 0\n",
      "_________________________________________________________________\n",
      "Train on 7791 samples, validate on 1948 samples\n",
      "Epoch 1/20\n",
      "7791/7791 [==============================] - 1461s 188ms/step - loss: 1.8269 - categorical_accuracy: 0.3625 - val_loss: 1.9485 - val_categorical_accuracy: 0.2151\n",
      "Epoch 2/20\n",
      "7791/7791 [==============================] - 1459s 187ms/step - loss: 1.7475 - categorical_accuracy: 0.4023 - val_loss: 1.8896 - val_categorical_accuracy: 0.2166\n",
      "Epoch 3/20\n",
      "7791/7791 [==============================] - 1459s 187ms/step - loss: 1.6826 - categorical_accuracy: 0.4345 - val_loss: 1.7950 - val_categorical_accuracy: 0.3542\n",
      "Epoch 4/20\n",
      "7791/7791 [==============================] - 1460s 187ms/step - loss: 1.4134 - categorical_accuracy: 0.5160 - val_loss: 1.5276 - val_categorical_accuracy: 0.4066\n",
      "Epoch 5/20\n",
      "7791/7791 [==============================] - 1459s 187ms/step - loss: 1.3227 - categorical_accuracy: 0.5411 - val_loss: 1.4565 - val_categorical_accuracy: 0.4636\n",
      "Epoch 6/20\n",
      "7791/7791 [==============================] - 1459s 187ms/step - loss: 1.1577 - categorical_accuracy: 0.6113 - val_loss: 1.3333 - val_categorical_accuracy: 0.4985\n",
      "Epoch 7/20\n",
      "7791/7791 [==============================] - 1457s 187ms/step - loss: 1.0477 - categorical_accuracy: 0.6380 - val_loss: 1.2261 - val_categorical_accuracy: 0.6006\n",
      "Epoch 8/20\n",
      "7791/7791 [==============================] - 1458s 187ms/step - loss: 1.1227 - categorical_accuracy: 0.6229 - val_loss: 1.2247 - val_categorical_accuracy: 0.5934\n",
      "Epoch 9/20\n",
      "7791/7791 [==============================] - 1459s 187ms/step - loss: 0.9772 - categorical_accuracy: 0.6665 - val_loss: 1.2279 - val_categorical_accuracy: 0.5637\n",
      "Epoch 10/20\n",
      "7791/7791 [==============================] - 1459s 187ms/step - loss: 0.8946 - categorical_accuracy: 0.6943 - val_loss: 1.1708 - val_categorical_accuracy: 0.6145\n",
      "Epoch 11/20\n",
      "7791/7791 [==============================] - 1460s 187ms/step - loss: 0.8296 - categorical_accuracy: 0.7179 - val_loss: 1.2428 - val_categorical_accuracy: 0.5960\n",
      "Epoch 12/20\n",
      "7791/7791 [==============================] - 1459s 187ms/step - loss: 0.7756 - categorical_accuracy: 0.7373 - val_loss: 1.2412 - val_categorical_accuracy: 0.5955\n",
      "Epoch 13/20\n",
      "7791/7791 [==============================] - 1458s 187ms/step - loss: 0.7223 - categorical_accuracy: 0.7475 - val_loss: 1.1376 - val_categorical_accuracy: 0.6273\n",
      "Epoch 14/20\n",
      "7791/7791 [==============================] - 1461s 188ms/step - loss: 0.6533 - categorical_accuracy: 0.7750 - val_loss: 1.3055 - val_categorical_accuracy: 0.5780\n",
      "Epoch 15/20\n",
      "7791/7791 [==============================] - 1465s 188ms/step - loss: 0.6047 - categorical_accuracy: 0.7955 - val_loss: 1.2892 - val_categorical_accuracy: 0.5539\n",
      "Epoch 16/20\n",
      "7791/7791 [==============================] - 1453s 187ms/step - loss: 0.5340 - categorical_accuracy: 0.8195 - val_loss: 1.2027 - val_categorical_accuracy: 0.6196\n",
      "Epoch 17/20\n",
      "7791/7791 [==============================] - 1453s 186ms/step - loss: 0.4887 - categorical_accuracy: 0.8351 - val_loss: 1.2957 - val_categorical_accuracy: 0.6170\n",
      "Epoch 18/20\n",
      "7791/7791 [==============================] - 1453s 187ms/step - loss: 0.4400 - categorical_accuracy: 0.8518 - val_loss: 1.4436 - val_categorical_accuracy: 0.5811\n",
      "Epoch 19/20\n",
      "7791/7791 [==============================] - 1452s 186ms/step - loss: 0.3854 - categorical_accuracy: 0.8752 - val_loss: 1.3925 - val_categorical_accuracy: 0.6129\n",
      "Epoch 20/20\n",
      "7791/7791 [==============================] - 1452s 186ms/step - loss: 0.3378 - categorical_accuracy: 0.8881 - val_loss: 1.4957 - val_categorical_accuracy: 0.5929\n"
     ]
    }
   ],
   "source": [
    "model = Sequential()\n",
    "model.add(Embedding(vocabulario, dim_vetor, input_length=x.shape[1]))\n",
    "model.add(GRU(256, dropout=0.1, recurrent_dropout=0.4))\n",
    "model.add(Dense(y.shape[1], activation='softmax'))\n",
    "model.compile(loss='categorical_crossentropy', optimizer=RMSprop(),  metrics=[\"categorical_accuracy\"])\n",
    "model.summary()\n",
    "\n",
    "history = model.fit(x, y, epochs=20, batch_size=32, validation_split=0.2, verbose=1, shuffle=True)"
   ]
  },
  {
   "cell_type": "code",
   "execution_count": 10,
   "metadata": {},
   "outputs": [
    {
     "name": "stdout",
     "output_type": "stream",
     "text": [
      "_________________________________________________________________\n",
      "Layer (type)                 Output Shape              Param #   \n",
      "=================================================================\n",
      "embedding_3 (Embedding)      (None, 6000, 50)          5000000   \n",
      "_________________________________________________________________\n",
      "gru_3 (GRU)                  (None, 512)               864768    \n",
      "_________________________________________________________________\n",
      "dense_3 (Dense)              (None, 10)                5130      \n",
      "=================================================================\n",
      "Total params: 5,869,898\n",
      "Trainable params: 5,869,898\n",
      "Non-trainable params: 0\n",
      "_________________________________________________________________\n",
      "Train on 7791 samples, validate on 1948 samples\n",
      "Epoch 1/20\n",
      "7791/7791 [==============================] - 1515s 195ms/step - loss: 1.8466 - categorical_accuracy: 0.3672 - val_loss: 1.9189 - val_categorical_accuracy: 0.2125\n",
      "Epoch 2/20\n",
      "7791/7791 [==============================] - 1511s 194ms/step - loss: 0.9046 - categorical_accuracy: 0.2285 - val_loss: 1.1921e-07 - val_categorical_accuracy: 0.0359\n",
      "Epoch 3/20\n",
      "7791/7791 [==============================] - 1513s 194ms/step - loss: 1.1921e-07 - categorical_accuracy: 0.0430 - val_loss: 1.1921e-07 - val_categorical_accuracy: 0.0359\n",
      "Epoch 4/20\n",
      "7791/7791 [==============================] - 1512s 194ms/step - loss: 1.1921e-07 - categorical_accuracy: 0.0430 - val_loss: 1.1921e-07 - val_categorical_accuracy: 0.0359\n",
      "Epoch 5/20\n",
      "7791/7791 [==============================] - 1513s 194ms/step - loss: 1.1921e-07 - categorical_accuracy: 0.0430 - val_loss: 1.1921e-07 - val_categorical_accuracy: 0.0359\n",
      "Epoch 6/20\n",
      "7791/7791 [==============================] - 1513s 194ms/step - loss: 1.1921e-07 - categorical_accuracy: 0.0430 - val_loss: 1.1921e-07 - val_categorical_accuracy: 0.0359\n",
      "Epoch 7/20\n",
      "7791/7791 [==============================] - 1513s 194ms/step - loss: 1.1921e-07 - categorical_accuracy: 0.0430 - val_loss: 1.1921e-07 - val_categorical_accuracy: 0.0359\n",
      "Epoch 8/20\n",
      "7791/7791 [==============================] - 1514s 194ms/step - loss: 1.1921e-07 - categorical_accuracy: 0.0430 - val_loss: 1.1921e-07 - val_categorical_accuracy: 0.0359\n",
      "Epoch 9/20\n",
      "7791/7791 [==============================] - 1513s 194ms/step - loss: 1.1921e-07 - categorical_accuracy: 0.0430 - val_loss: 1.1921e-07 - val_categorical_accuracy: 0.0359\n",
      "Epoch 10/20\n",
      "7791/7791 [==============================] - 1514s 194ms/step - loss: 1.1921e-07 - categorical_accuracy: 0.0430 - val_loss: 1.1921e-07 - val_categorical_accuracy: 0.0359\n",
      "Epoch 11/20\n",
      "7791/7791 [==============================] - 1515s 194ms/step - loss: 1.1921e-07 - categorical_accuracy: 0.0430 - val_loss: 1.1921e-07 - val_categorical_accuracy: 0.0359\n",
      "Epoch 12/20\n",
      "7791/7791 [==============================] - 1514s 194ms/step - loss: 1.1921e-07 - categorical_accuracy: 0.0430 - val_loss: 1.1921e-07 - val_categorical_accuracy: 0.0359\n",
      "Epoch 13/20\n",
      "7791/7791 [==============================] - 1515s 194ms/step - loss: 1.1921e-07 - categorical_accuracy: 0.0430 - val_loss: 1.1921e-07 - val_categorical_accuracy: 0.0359\n",
      "Epoch 14/20\n",
      "7791/7791 [==============================] - 1516s 195ms/step - loss: 1.1921e-07 - categorical_accuracy: 0.0430 - val_loss: 1.1921e-07 - val_categorical_accuracy: 0.0359\n",
      "Epoch 15/20\n",
      "7791/7791 [==============================] - 1521s 195ms/step - loss: 1.1921e-07 - categorical_accuracy: 0.0430 - val_loss: 1.1921e-07 - val_categorical_accuracy: 0.0359\n",
      "Epoch 16/20\n",
      "7791/7791 [==============================] - 1522s 195ms/step - loss: 1.1921e-07 - categorical_accuracy: 0.0430 - val_loss: 1.1921e-07 - val_categorical_accuracy: 0.0359\n",
      "Epoch 17/20\n",
      "7791/7791 [==============================] - 1520s 195ms/step - loss: 1.1921e-07 - categorical_accuracy: 0.0430 - val_loss: 1.1921e-07 - val_categorical_accuracy: 0.0359\n",
      "Epoch 18/20\n",
      "7791/7791 [==============================] - 1520s 195ms/step - loss: 1.1921e-07 - categorical_accuracy: 0.0430 - val_loss: 1.1921e-07 - val_categorical_accuracy: 0.0359\n",
      "Epoch 19/20\n",
      "7791/7791 [==============================] - 1519s 195ms/step - loss: 1.1921e-07 - categorical_accuracy: 0.0430 - val_loss: 1.1921e-07 - val_categorical_accuracy: 0.0359\n",
      "Epoch 20/20\n",
      "7791/7791 [==============================] - 1520s 195ms/step - loss: 1.1921e-07 - categorical_accuracy: 0.0430 - val_loss: 1.1921e-07 - val_categorical_accuracy: 0.0359\n"
     ]
    }
   ],
   "source": [
    "model = Sequential()\n",
    "model.add(Embedding(vocabulario, dim_vetor, input_length=x.shape[1]))\n",
    "model.add(GRU(512, dropout=0.2, recurrent_dropout=0.2))\n",
    "model.add(Dense(y.shape[1], activation='softmax'))\n",
    "model.compile(loss='categorical_crossentropy', optimizer=RMSprop(),  metrics=[\"categorical_accuracy\"])\n",
    "model.summary()\n",
    "\n",
    "history = model.fit(x, y, epochs=20, batch_size=32, validation_split=0.2, verbose=1, shuffle=True)"
   ]
  },
  {
   "cell_type": "code",
   "execution_count": 11,
   "metadata": {},
   "outputs": [
    {
     "name": "stdout",
     "output_type": "stream",
     "text": [
      "_________________________________________________________________\n",
      "Layer (type)                 Output Shape              Param #   \n",
      "=================================================================\n",
      "embedding_4 (Embedding)      (None, 6000, 50)          5000000   \n",
      "_________________________________________________________________\n",
      "gru_4 (GRU)                  (None, 256)               235776    \n",
      "_________________________________________________________________\n",
      "dense_4 (Dense)              (None, 10)                2570      \n",
      "=================================================================\n",
      "Total params: 5,238,346\n",
      "Trainable params: 5,238,346\n",
      "Non-trainable params: 0\n",
      "_________________________________________________________________\n",
      "Train on 7791 samples, validate on 1948 samples\n",
      "Epoch 1/20\n",
      "7791/7791 [==============================] - 1489s 191ms/step - loss: 1.8537 - categorical_accuracy: 0.3605 - val_loss: 1.8935 - val_categorical_accuracy: 0.2151\n",
      "Epoch 2/20\n",
      "7791/7791 [==============================] - 1487s 191ms/step - loss: 1.7461 - categorical_accuracy: 0.4023 - val_loss: 1.9183 - val_categorical_accuracy: 0.2166\n",
      "Epoch 3/20\n",
      "7791/7791 [==============================] - 1487s 191ms/step - loss: 1.7204 - categorical_accuracy: 0.4094 - val_loss: 1.7720 - val_categorical_accuracy: 0.3480\n",
      "Epoch 4/20\n",
      "7791/7791 [==============================] - 1486s 191ms/step - loss: 1.4613 - categorical_accuracy: 0.5107 - val_loss: 1.5268 - val_categorical_accuracy: 0.3984\n",
      "Epoch 5/20\n",
      "7791/7791 [==============================] - 1501s 193ms/step - loss: 1.3228 - categorical_accuracy: 0.5401 - val_loss: 1.4399 - val_categorical_accuracy: 0.4476\n",
      "Epoch 6/20\n",
      "7791/7791 [==============================] - 1495s 192ms/step - loss: 1.2178 - categorical_accuracy: 0.5777 - val_loss: 1.5021 - val_categorical_accuracy: 0.5221\n",
      "Epoch 7/20\n",
      "7791/7791 [==============================] - 1494s 192ms/step - loss: 1.0822 - categorical_accuracy: 0.6427 - val_loss: 1.3847 - val_categorical_accuracy: 0.5457\n",
      "Epoch 8/20\n",
      "7791/7791 [==============================] - 1493s 192ms/step - loss: 0.9811 - categorical_accuracy: 0.6717 - val_loss: 1.3385 - val_categorical_accuracy: 0.6042\n",
      "Epoch 9/20\n",
      "7791/7791 [==============================] - 1495s 192ms/step - loss: 0.8911 - categorical_accuracy: 0.6999 - val_loss: 1.1751 - val_categorical_accuracy: 0.5950\n",
      "Epoch 10/20\n",
      "7791/7791 [==============================] - 1492s 192ms/step - loss: 0.8031 - categorical_accuracy: 0.7283 - val_loss: 1.1964 - val_categorical_accuracy: 0.5898\n",
      "Epoch 11/20\n",
      "7791/7791 [==============================] - 1494s 192ms/step - loss: 0.7112 - categorical_accuracy: 0.7563 - val_loss: 1.1209 - val_categorical_accuracy: 0.6253\n",
      "Epoch 12/20\n",
      "7791/7791 [==============================] - 1492s 192ms/step - loss: 0.6278 - categorical_accuracy: 0.7889 - val_loss: 1.2568 - val_categorical_accuracy: 0.5791\n",
      "Epoch 13/20\n",
      "7791/7791 [==============================] - 1493s 192ms/step - loss: 0.5458 - categorical_accuracy: 0.8192 - val_loss: 1.1533 - val_categorical_accuracy: 0.6258\n",
      "Epoch 14/20\n",
      "7791/7791 [==============================] - 1493s 192ms/step - loss: 0.4803 - categorical_accuracy: 0.8452 - val_loss: 1.3159 - val_categorical_accuracy: 0.6052\n",
      "Epoch 15/20\n",
      "7791/7791 [==============================] - 1493s 192ms/step - loss: 0.4249 - categorical_accuracy: 0.8627 - val_loss: 1.3815 - val_categorical_accuracy: 0.5909\n",
      "Epoch 16/20\n",
      "7791/7791 [==============================] - 1493s 192ms/step - loss: 0.3664 - categorical_accuracy: 0.8837 - val_loss: 1.3825 - val_categorical_accuracy: 0.6242\n",
      "Epoch 17/20\n",
      "7791/7791 [==============================] - 1492s 192ms/step - loss: 0.3115 - categorical_accuracy: 0.9025 - val_loss: 1.7303 - val_categorical_accuracy: 0.5585\n",
      "Epoch 18/20\n",
      "7791/7791 [==============================] - 1493s 192ms/step - loss: 0.2668 - categorical_accuracy: 0.9159 - val_loss: 1.5791 - val_categorical_accuracy: 0.6068\n",
      "Epoch 19/20\n",
      "7791/7791 [==============================] - 1494s 192ms/step - loss: 0.3867 - categorical_accuracy: 0.8969 - val_loss: 1.9053 - val_categorical_accuracy: 0.4733\n",
      "Epoch 20/20\n",
      "7791/7791 [==============================] - 1492s 192ms/step - loss: 1.1637 - categorical_accuracy: 0.6165 - val_loss: 1.5766 - val_categorical_accuracy: 0.3840\n"
     ]
    }
   ],
   "source": [
    "model = Sequential()\n",
    "model.add(Embedding(vocabulario, dim_vetor, input_length=x.shape[1]))\n",
    "model.add(GRU(256, dropout=0.2, recurrent_dropout=0.2))\n",
    "model.add(Dense(y.shape[1], activation='softmax'))\n",
    "model.compile(loss='categorical_crossentropy', optimizer=RMSprop(),  metrics=[\"categorical_accuracy\"])\n",
    "model.summary()\n",
    "\n",
    "history = model.fit(x, y, epochs=20, batch_size=32, validation_split=0.2, verbose=1, shuffle=True)"
   ]
  },
  {
   "cell_type": "code",
   "execution_count": 12,
   "metadata": {},
   "outputs": [
    {
     "name": "stdout",
     "output_type": "stream",
     "text": [
      "_________________________________________________________________\n",
      "Layer (type)                 Output Shape              Param #   \n",
      "=================================================================\n",
      "embedding_5 (Embedding)      (None, 6000, 50)          5000000   \n",
      "_________________________________________________________________\n",
      "bidirectional_1 (Bidirection (None, 512)               471552    \n",
      "_________________________________________________________________\n",
      "dense_5 (Dense)              (None, 10)                5130      \n",
      "=================================================================\n",
      "Total params: 5,476,682\n",
      "Trainable params: 5,476,682\n",
      "Non-trainable params: 0\n",
      "_________________________________________________________________\n",
      "Train on 7791 samples, validate on 1948 samples\n",
      "Epoch 1/20\n",
      "7791/7791 [==============================] - 3635s 467ms/step - loss: 1.8341 - categorical_accuracy: 0.3744 - val_loss: 1.8992 - val_categorical_accuracy: 0.2084\n",
      "Epoch 2/20\n",
      "7791/7791 [==============================] - 3529s 453ms/step - loss: 1.7530 - categorical_accuracy: 0.4051 - val_loss: 1.8469 - val_categorical_accuracy: 0.2259\n",
      "Epoch 3/20\n",
      "7791/7791 [==============================] - 3597s 462ms/step - loss: 1.6988 - categorical_accuracy: 0.4291 - val_loss: 1.7797 - val_categorical_accuracy: 0.2834\n",
      "Epoch 4/20\n",
      "7791/7791 [==============================] - 3534s 454ms/step - loss: 1.3081 - categorical_accuracy: 0.5535 - val_loss: 1.5003 - val_categorical_accuracy: 0.5205\n",
      "Epoch 5/20\n",
      "7791/7791 [==============================] - 3601s 462ms/step - loss: 1.0992 - categorical_accuracy: 0.6288 - val_loss: 1.3358 - val_categorical_accuracy: 0.5390\n",
      "Epoch 6/20\n",
      "7791/7791 [==============================] - 3493s 448ms/step - loss: 1.0080 - categorical_accuracy: 0.6570 - val_loss: 1.1927 - val_categorical_accuracy: 0.5837\n",
      "Epoch 7/20\n",
      "7791/7791 [==============================] - 3627s 466ms/step - loss: 0.9090 - categorical_accuracy: 0.6872 - val_loss: 1.2387 - val_categorical_accuracy: 0.5826\n",
      "Epoch 8/20\n",
      "7791/7791 [==============================] - 3577s 459ms/step - loss: 0.8309 - categorical_accuracy: 0.7117 - val_loss: 1.2934 - val_categorical_accuracy: 0.5770\n",
      "Epoch 9/20\n",
      "7791/7791 [==============================] - 3565s 458ms/step - loss: 0.7967 - categorical_accuracy: 0.7203 - val_loss: 1.1871 - val_categorical_accuracy: 0.6073\n",
      "Epoch 10/20\n",
      "7791/7791 [==============================] - 3563s 457ms/step - loss: 0.7794 - categorical_accuracy: 0.7238 - val_loss: 1.2043 - val_categorical_accuracy: 0.5945\n",
      "Epoch 11/20\n",
      "2912/7791 [==========>...................] - ETA: 34:57 - loss: 0.7557 - categorical_accuracy: 0.7273"
     ]
    },
    {
     "ename": "KeyboardInterrupt",
     "evalue": "",
     "output_type": "error",
     "traceback": [
      "\u001b[0;31m---------------------------------------------------------------------------\u001b[0m",
      "\u001b[0;31mKeyboardInterrupt\u001b[0m                         Traceback (most recent call last)",
      "\u001b[0;32m<ipython-input-12-ee4be9dc9756>\u001b[0m in \u001b[0;36m<module>\u001b[0;34m\u001b[0m\n\u001b[1;32m      6\u001b[0m \u001b[0mmodel\u001b[0m\u001b[0;34m.\u001b[0m\u001b[0msummary\u001b[0m\u001b[0;34m(\u001b[0m\u001b[0;34m)\u001b[0m\u001b[0;34m\u001b[0m\u001b[0;34m\u001b[0m\u001b[0m\n\u001b[1;32m      7\u001b[0m \u001b[0;34m\u001b[0m\u001b[0m\n\u001b[0;32m----> 8\u001b[0;31m \u001b[0mhistory\u001b[0m \u001b[0;34m=\u001b[0m \u001b[0mmodel\u001b[0m\u001b[0;34m.\u001b[0m\u001b[0mfit\u001b[0m\u001b[0;34m(\u001b[0m\u001b[0mx\u001b[0m\u001b[0;34m,\u001b[0m \u001b[0my\u001b[0m\u001b[0;34m,\u001b[0m \u001b[0mepochs\u001b[0m\u001b[0;34m=\u001b[0m\u001b[0;36m20\u001b[0m\u001b[0;34m,\u001b[0m \u001b[0mbatch_size\u001b[0m\u001b[0;34m=\u001b[0m\u001b[0;36m32\u001b[0m\u001b[0;34m,\u001b[0m \u001b[0mvalidation_split\u001b[0m\u001b[0;34m=\u001b[0m\u001b[0;36m0.2\u001b[0m\u001b[0;34m,\u001b[0m \u001b[0mverbose\u001b[0m\u001b[0;34m=\u001b[0m\u001b[0;36m1\u001b[0m\u001b[0;34m,\u001b[0m \u001b[0mshuffle\u001b[0m\u001b[0;34m=\u001b[0m\u001b[0;32mTrue\u001b[0m\u001b[0;34m)\u001b[0m\u001b[0;34m\u001b[0m\u001b[0;34m\u001b[0m\u001b[0m\n\u001b[0m",
      "\u001b[0;32m~/anaconda3/envs/gpu/lib/python3.7/site-packages/keras/engine/training.py\u001b[0m in \u001b[0;36mfit\u001b[0;34m(self, x, y, batch_size, epochs, verbose, callbacks, validation_split, validation_data, shuffle, class_weight, sample_weight, initial_epoch, steps_per_epoch, validation_steps, **kwargs)\u001b[0m\n\u001b[1;32m   1037\u001b[0m                                         \u001b[0minitial_epoch\u001b[0m\u001b[0;34m=\u001b[0m\u001b[0minitial_epoch\u001b[0m\u001b[0;34m,\u001b[0m\u001b[0;34m\u001b[0m\u001b[0;34m\u001b[0m\u001b[0m\n\u001b[1;32m   1038\u001b[0m                                         \u001b[0msteps_per_epoch\u001b[0m\u001b[0;34m=\u001b[0m\u001b[0msteps_per_epoch\u001b[0m\u001b[0;34m,\u001b[0m\u001b[0;34m\u001b[0m\u001b[0;34m\u001b[0m\u001b[0m\n\u001b[0;32m-> 1039\u001b[0;31m                                         validation_steps=validation_steps)\n\u001b[0m\u001b[1;32m   1040\u001b[0m \u001b[0;34m\u001b[0m\u001b[0m\n\u001b[1;32m   1041\u001b[0m     def evaluate(self, x=None, y=None,\n",
      "\u001b[0;32m~/anaconda3/envs/gpu/lib/python3.7/site-packages/keras/engine/training_arrays.py\u001b[0m in \u001b[0;36mfit_loop\u001b[0;34m(model, f, ins, out_labels, batch_size, epochs, verbose, callbacks, val_f, val_ins, shuffle, callback_metrics, initial_epoch, steps_per_epoch, validation_steps)\u001b[0m\n\u001b[1;32m    197\u001b[0m                     \u001b[0mins_batch\u001b[0m\u001b[0;34m[\u001b[0m\u001b[0mi\u001b[0m\u001b[0;34m]\u001b[0m \u001b[0;34m=\u001b[0m \u001b[0mins_batch\u001b[0m\u001b[0;34m[\u001b[0m\u001b[0mi\u001b[0m\u001b[0;34m]\u001b[0m\u001b[0;34m.\u001b[0m\u001b[0mtoarray\u001b[0m\u001b[0;34m(\u001b[0m\u001b[0;34m)\u001b[0m\u001b[0;34m\u001b[0m\u001b[0;34m\u001b[0m\u001b[0m\n\u001b[1;32m    198\u001b[0m \u001b[0;34m\u001b[0m\u001b[0m\n\u001b[0;32m--> 199\u001b[0;31m                 \u001b[0mouts\u001b[0m \u001b[0;34m=\u001b[0m \u001b[0mf\u001b[0m\u001b[0;34m(\u001b[0m\u001b[0mins_batch\u001b[0m\u001b[0;34m)\u001b[0m\u001b[0;34m\u001b[0m\u001b[0;34m\u001b[0m\u001b[0m\n\u001b[0m\u001b[1;32m    200\u001b[0m                 \u001b[0mouts\u001b[0m \u001b[0;34m=\u001b[0m \u001b[0mto_list\u001b[0m\u001b[0;34m(\u001b[0m\u001b[0mouts\u001b[0m\u001b[0;34m)\u001b[0m\u001b[0;34m\u001b[0m\u001b[0;34m\u001b[0m\u001b[0m\n\u001b[1;32m    201\u001b[0m                 \u001b[0;32mfor\u001b[0m \u001b[0ml\u001b[0m\u001b[0;34m,\u001b[0m \u001b[0mo\u001b[0m \u001b[0;32min\u001b[0m \u001b[0mzip\u001b[0m\u001b[0;34m(\u001b[0m\u001b[0mout_labels\u001b[0m\u001b[0;34m,\u001b[0m \u001b[0mouts\u001b[0m\u001b[0;34m)\u001b[0m\u001b[0;34m:\u001b[0m\u001b[0;34m\u001b[0m\u001b[0;34m\u001b[0m\u001b[0m\n",
      "\u001b[0;32m~/anaconda3/envs/gpu/lib/python3.7/site-packages/keras/backend/tensorflow_backend.py\u001b[0m in \u001b[0;36m__call__\u001b[0;34m(self, inputs)\u001b[0m\n\u001b[1;32m   2713\u001b[0m                 \u001b[0;32mreturn\u001b[0m \u001b[0mself\u001b[0m\u001b[0;34m.\u001b[0m\u001b[0m_legacy_call\u001b[0m\u001b[0;34m(\u001b[0m\u001b[0minputs\u001b[0m\u001b[0;34m)\u001b[0m\u001b[0;34m\u001b[0m\u001b[0;34m\u001b[0m\u001b[0m\n\u001b[1;32m   2714\u001b[0m \u001b[0;34m\u001b[0m\u001b[0m\n\u001b[0;32m-> 2715\u001b[0;31m             \u001b[0;32mreturn\u001b[0m \u001b[0mself\u001b[0m\u001b[0;34m.\u001b[0m\u001b[0m_call\u001b[0m\u001b[0;34m(\u001b[0m\u001b[0minputs\u001b[0m\u001b[0;34m)\u001b[0m\u001b[0;34m\u001b[0m\u001b[0;34m\u001b[0m\u001b[0m\n\u001b[0m\u001b[1;32m   2716\u001b[0m         \u001b[0;32melse\u001b[0m\u001b[0;34m:\u001b[0m\u001b[0;34m\u001b[0m\u001b[0;34m\u001b[0m\u001b[0m\n\u001b[1;32m   2717\u001b[0m             \u001b[0;32mif\u001b[0m \u001b[0mpy_any\u001b[0m\u001b[0;34m(\u001b[0m\u001b[0mis_tensor\u001b[0m\u001b[0;34m(\u001b[0m\u001b[0mx\u001b[0m\u001b[0;34m)\u001b[0m \u001b[0;32mfor\u001b[0m \u001b[0mx\u001b[0m \u001b[0;32min\u001b[0m \u001b[0minputs\u001b[0m\u001b[0;34m)\u001b[0m\u001b[0;34m:\u001b[0m\u001b[0;34m\u001b[0m\u001b[0;34m\u001b[0m\u001b[0m\n",
      "\u001b[0;32m~/anaconda3/envs/gpu/lib/python3.7/site-packages/keras/backend/tensorflow_backend.py\u001b[0m in \u001b[0;36m_call\u001b[0;34m(self, inputs)\u001b[0m\n\u001b[1;32m   2673\u001b[0m             \u001b[0mfetched\u001b[0m \u001b[0;34m=\u001b[0m \u001b[0mself\u001b[0m\u001b[0;34m.\u001b[0m\u001b[0m_callable_fn\u001b[0m\u001b[0;34m(\u001b[0m\u001b[0;34m*\u001b[0m\u001b[0marray_vals\u001b[0m\u001b[0;34m,\u001b[0m \u001b[0mrun_metadata\u001b[0m\u001b[0;34m=\u001b[0m\u001b[0mself\u001b[0m\u001b[0;34m.\u001b[0m\u001b[0mrun_metadata\u001b[0m\u001b[0;34m)\u001b[0m\u001b[0;34m\u001b[0m\u001b[0;34m\u001b[0m\u001b[0m\n\u001b[1;32m   2674\u001b[0m         \u001b[0;32melse\u001b[0m\u001b[0;34m:\u001b[0m\u001b[0;34m\u001b[0m\u001b[0;34m\u001b[0m\u001b[0m\n\u001b[0;32m-> 2675\u001b[0;31m             \u001b[0mfetched\u001b[0m \u001b[0;34m=\u001b[0m \u001b[0mself\u001b[0m\u001b[0;34m.\u001b[0m\u001b[0m_callable_fn\u001b[0m\u001b[0;34m(\u001b[0m\u001b[0;34m*\u001b[0m\u001b[0marray_vals\u001b[0m\u001b[0;34m)\u001b[0m\u001b[0;34m\u001b[0m\u001b[0;34m\u001b[0m\u001b[0m\n\u001b[0m\u001b[1;32m   2676\u001b[0m         \u001b[0;32mreturn\u001b[0m \u001b[0mfetched\u001b[0m\u001b[0;34m[\u001b[0m\u001b[0;34m:\u001b[0m\u001b[0mlen\u001b[0m\u001b[0;34m(\u001b[0m\u001b[0mself\u001b[0m\u001b[0;34m.\u001b[0m\u001b[0moutputs\u001b[0m\u001b[0;34m)\u001b[0m\u001b[0;34m]\u001b[0m\u001b[0;34m\u001b[0m\u001b[0;34m\u001b[0m\u001b[0m\n\u001b[1;32m   2677\u001b[0m \u001b[0;34m\u001b[0m\u001b[0m\n",
      "\u001b[0;32m~/anaconda3/envs/gpu/lib/python3.7/site-packages/tensorflow/python/client/session.py\u001b[0m in \u001b[0;36m__call__\u001b[0;34m(self, *args, **kwargs)\u001b[0m\n\u001b[1;32m   1456\u001b[0m         ret = tf_session.TF_SessionRunCallable(self._session._session,\n\u001b[1;32m   1457\u001b[0m                                                \u001b[0mself\u001b[0m\u001b[0;34m.\u001b[0m\u001b[0m_handle\u001b[0m\u001b[0;34m,\u001b[0m \u001b[0margs\u001b[0m\u001b[0;34m,\u001b[0m\u001b[0;34m\u001b[0m\u001b[0;34m\u001b[0m\u001b[0m\n\u001b[0;32m-> 1458\u001b[0;31m                                                run_metadata_ptr)\n\u001b[0m\u001b[1;32m   1459\u001b[0m         \u001b[0;32mif\u001b[0m \u001b[0mrun_metadata\u001b[0m\u001b[0;34m:\u001b[0m\u001b[0;34m\u001b[0m\u001b[0;34m\u001b[0m\u001b[0m\n\u001b[1;32m   1460\u001b[0m           \u001b[0mproto_data\u001b[0m \u001b[0;34m=\u001b[0m \u001b[0mtf_session\u001b[0m\u001b[0;34m.\u001b[0m\u001b[0mTF_GetBuffer\u001b[0m\u001b[0;34m(\u001b[0m\u001b[0mrun_metadata_ptr\u001b[0m\u001b[0;34m)\u001b[0m\u001b[0;34m\u001b[0m\u001b[0;34m\u001b[0m\u001b[0m\n",
      "\u001b[0;31mKeyboardInterrupt\u001b[0m: "
     ]
    }
   ],
   "source": [
    "model = Sequential()\n",
    "model.add(Embedding(vocabulario, dim_vetor, input_length=x.shape[1]))\n",
    "model.add(Bidirectional(GRU(256, dropout=0.2, recurrent_dropout=0.2)))\n",
    "model.add(Dense(y.shape[1], activation='softmax'))\n",
    "model.compile(loss='categorical_crossentropy', optimizer=RMSprop(),  metrics=[\"categorical_accuracy\"])\n",
    "model.summary()\n",
    "\n",
    "history = model.fit(x, y, epochs=20, batch_size=32, validation_split=0.2, verbose=1, shuffle=True)"
   ]
  },
  {
   "cell_type": "code",
   "execution_count": null,
   "metadata": {},
   "outputs": [],
   "source": []
  }
 ],
 "metadata": {
  "kernelspec": {
   "display_name": "Python 3",
   "language": "python",
   "name": "python3"
  },
  "language_info": {
   "codemirror_mode": {
    "name": "ipython",
    "version": 3
   },
   "file_extension": ".py",
   "mimetype": "text/x-python",
   "name": "python",
   "nbconvert_exporter": "python",
   "pygments_lexer": "ipython3",
   "version": "3.7.4"
  }
 },
 "nbformat": 4,
 "nbformat_minor": 2
}
