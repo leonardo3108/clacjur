{
 "cells": [
  {
   "cell_type": "markdown",
   "metadata": {},
   "source": [
    "# Importação e preparação dos dados"
   ]
  },
  {
   "cell_type": "code",
   "execution_count": 1,
   "metadata": {},
   "outputs": [
    {
     "data": {
      "text/html": [
       "<div>\n",
       "<style scoped>\n",
       "    .dataframe tbody tr th:only-of-type {\n",
       "        vertical-align: middle;\n",
       "    }\n",
       "\n",
       "    .dataframe tbody tr th {\n",
       "        vertical-align: top;\n",
       "    }\n",
       "\n",
       "    .dataframe thead th {\n",
       "        text-align: right;\n",
       "    }\n",
       "</style>\n",
       "<table border=\"1\" class=\"dataframe\">\n",
       "  <thead>\n",
       "    <tr style=\"text-align: right;\">\n",
       "      <th></th>\n",
       "      <th>acordao</th>\n",
       "      <th>areas</th>\n",
       "      <th>filtrado_500</th>\n",
       "    </tr>\n",
       "  </thead>\n",
       "  <tbody>\n",
       "    <tr>\n",
       "      <th>0</th>\n",
       "      <td>297/2016-P</td>\n",
       "      <td>Responsabilidade</td>\n",
       "      <td>conta conta gerência instituto nacional seguro...</td>\n",
       "    </tr>\n",
       "    <tr>\n",
       "      <th>1</th>\n",
       "      <td>366/2016-P</td>\n",
       "      <td>Finanças Públicas</td>\n",
       "      <td>senado petróleo petróleo regime aduaneiro expo...</td>\n",
       "    </tr>\n",
       "    <tr>\n",
       "      <th>2</th>\n",
       "      <td>944/2016-P</td>\n",
       "      <td>Responsabilidade</td>\n",
       "      <td>tribunal conta plenário embargo declaração aco...</td>\n",
       "    </tr>\n",
       "    <tr>\n",
       "      <th>3</th>\n",
       "      <td>30/2016-P</td>\n",
       "      <td>Direito Processual</td>\n",
       "      <td>embargo declaração inss recorrente marco antôn...</td>\n",
       "    </tr>\n",
       "    <tr>\n",
       "      <th>4</th>\n",
       "      <td>55/2016-P</td>\n",
       "      <td>Pessoal</td>\n",
       "      <td>senac senac senac empresa senac giselle araújo...</td>\n",
       "    </tr>\n",
       "  </tbody>\n",
       "</table>\n",
       "</div>"
      ],
      "text/plain": [
       "      acordao               areas  \\\n",
       "0  297/2016-P    Responsabilidade   \n",
       "1  366/2016-P   Finanças Públicas   \n",
       "2  944/2016-P    Responsabilidade   \n",
       "3   30/2016-P  Direito Processual   \n",
       "4   55/2016-P             Pessoal   \n",
       "\n",
       "                                        filtrado_500  \n",
       "0  conta conta gerência instituto nacional seguro...  \n",
       "1  senado petróleo petróleo regime aduaneiro expo...  \n",
       "2  tribunal conta plenário embargo declaração aco...  \n",
       "3  embargo declaração inss recorrente marco antôn...  \n",
       "4  senac senac senac empresa senac giselle araújo...  "
      ]
     },
     "execution_count": 1,
     "metadata": {},
     "output_type": "execute_result"
    }
   ],
   "source": [
    "import pandas as pd\n",
    "\n",
    "df = pd.read_csv('../dados/acordaos-selecionada-filtrados-500.csv', sep = '|')\n",
    "df['filtrado_500']=df['filtrado_500'].astype(str)\n",
    "df.head()"
   ]
  },
  {
   "cell_type": "code",
   "execution_count": 2,
   "metadata": {},
   "outputs": [
    {
     "data": {
      "text/plain": [
       "(10524, 3)"
      ]
     },
     "execution_count": 2,
     "metadata": {},
     "output_type": "execute_result"
    }
   ],
   "source": [
    "df.shape"
   ]
  },
  {
   "cell_type": "code",
   "execution_count": 3,
   "metadata": {
    "scrolled": true
   },
   "outputs": [
    {
     "data": {
      "text/plain": [
       "array(['Competência do TCU', 'Competência do TCU,Contrato Administrativo',\n",
       "       'Competência do TCU,Contrato Administrativo,Responsabilidade',\n",
       "       'Competência do TCU,Convênio',\n",
       "       'Competência do TCU,Convênio,Direito Processual,Licitação',\n",
       "       'Competência do TCU,Convênio,Gestão Administrativa',\n",
       "       'Competência do TCU,Convênio,Responsabilidade',\n",
       "       'Competência do TCU,Desestatização',\n",
       "       'Competência do TCU,Direito Processual',\n",
       "       'Competência do TCU,Direito Processual,Licitação',\n",
       "       'Competência do TCU,Direito Processual,Pessoal',\n",
       "       'Competência do TCU,Direito Processual,Responsabilidade',\n",
       "       'Competência do TCU,Finanças Públicas',\n",
       "       'Competência do TCU,Finanças Públicas,Licitação',\n",
       "       'Competência do TCU,Finanças Públicas,Responsabilidade',\n",
       "       'Competência do TCU,Gestão Administrativa',\n",
       "       'Competência do TCU,Licitação',\n",
       "       'Competência do TCU,Licitação,Pessoal',\n",
       "       'Competência do TCU,Licitação,Responsabilidade',\n",
       "       'Competência do TCU,Pessoal',\n",
       "       'Competência do TCU,Pessoal,Responsabilidade',\n",
       "       'Competência do TCU,Responsabilidade', 'Contrato Administrativo',\n",
       "       'Contrato Administrativo,Convênio',\n",
       "       'Contrato Administrativo,Convênio,Finanças Públicas',\n",
       "       'Contrato Administrativo,Convênio,Gestão Administrativa',\n",
       "       'Contrato Administrativo,Convênio,Licitação',\n",
       "       'Contrato Administrativo,Desestatização',\n",
       "       'Contrato Administrativo,Desestatização,Licitação',\n",
       "       'Contrato Administrativo,Direito Processual',\n",
       "       'Contrato Administrativo,Direito Processual,Gestão Administrativa',\n",
       "       'Contrato Administrativo,Direito Processual,Licitação',\n",
       "       'Contrato Administrativo,Direito Processual,Licitação,Responsabilidade',\n",
       "       'Contrato Administrativo,Direito Processual,Responsabilidade',\n",
       "       'Contrato Administrativo,Finanças Públicas',\n",
       "       'Contrato Administrativo,Finanças Públicas,Gestão Administrativa,Licitação',\n",
       "       'Contrato Administrativo,Finanças Públicas,Licitação',\n",
       "       'Contrato Administrativo,Finanças Públicas,Responsabilidade',\n",
       "       'Contrato Administrativo,Gestão Administrativa',\n",
       "       'Contrato Administrativo,Gestão Administrativa,Licitação',\n",
       "       'Contrato Administrativo,Licitação',\n",
       "       'Contrato Administrativo,Licitação,Pessoal',\n",
       "       'Contrato Administrativo,Licitação,Responsabilidade',\n",
       "       'Contrato Administrativo,Pessoal',\n",
       "       'Contrato Administrativo,Responsabilidade', 'Convênio',\n",
       "       'Convênio,Desestatização,Finanças Públicas,Licitação',\n",
       "       'Convênio,Direito Processual', 'Convênio,Finanças Públicas',\n",
       "       'Convênio,Finanças Públicas,Licitação,Pessoal',\n",
       "       'Convênio,Gestão Administrativa',\n",
       "       'Convênio,Gestão Administrativa,Licitação',\n",
       "       'Convênio,Gestão Administrativa,Pessoal',\n",
       "       'Convênio,Gestão Administrativa,Responsabilidade',\n",
       "       'Convênio,Licitação', 'Convênio,Pessoal',\n",
       "       'Convênio,Responsabilidade', 'Desestatização',\n",
       "       'Desestatização,Direito Processual',\n",
       "       'Desestatização,Finanças Públicas',\n",
       "       'Desestatização,Gestão Administrativa',\n",
       "       'Desestatização,Gestão Administrativa,Pessoal',\n",
       "       'Desestatização,Licitação',\n",
       "       'Desestatização,Licitação,Responsabilidade', 'Direito Processual',\n",
       "       'Direito Processual,Finanças Públicas',\n",
       "       'Direito Processual,Gestão Administrativa,Responsabilidade',\n",
       "       'Direito Processual,Licitação',\n",
       "       'Direito Processual,Licitação,Responsabilidade',\n",
       "       'Direito Processual,Pessoal',\n",
       "       'Direito Processual,Responsabilidade', 'Finanças Públicas',\n",
       "       'Finanças Públicas,Gestão Administrativa',\n",
       "       'Finanças Públicas,Gestão Administrativa,Licitação',\n",
       "       'Finanças Públicas,Gestão Administrativa,Pessoal',\n",
       "       'Finanças Públicas,Licitação',\n",
       "       'Finanças Públicas,Licitação,Pessoal', 'Finanças Públicas,Pessoal',\n",
       "       'Finanças Públicas,Responsabilidade', 'Gestão Administrativa',\n",
       "       'Gestão Administrativa,Licitação',\n",
       "       'Gestão Administrativa,Licitação,Pessoal,Responsabilidade',\n",
       "       'Gestão Administrativa,Pessoal',\n",
       "       'Gestão Administrativa,Responsabilidade', 'Licitação',\n",
       "       'Licitação,Pessoal', 'Licitação,Pessoal,Responsabilidade',\n",
       "       'Licitação,Responsabilidade', 'Pessoal',\n",
       "       'Pessoal,Responsabilidade', 'Responsabilidade'], dtype='<U73')"
      ]
     },
     "execution_count": 3,
     "metadata": {},
     "output_type": "execute_result"
    }
   ],
   "source": [
    "from sklearn.preprocessing import LabelBinarizer\n",
    "\n",
    "areas = df.groupby(['areas']).groups.keys()\n",
    "lbArea = LabelBinarizer()\n",
    "lbArea.fit([x for x in areas])\n",
    "lbArea.classes_"
   ]
  },
  {
   "cell_type": "code",
   "execution_count": 4,
   "metadata": {},
   "outputs": [
    {
     "data": {
      "text/plain": [
       "(10524, 91)"
      ]
     },
     "execution_count": 4,
     "metadata": {},
     "output_type": "execute_result"
    }
   ],
   "source": [
    "y = lbArea.transform(df['areas'])\n",
    "y.shape"
   ]
  },
  {
   "cell_type": "code",
   "execution_count": 5,
   "metadata": {},
   "outputs": [
    {
     "name": "stderr",
     "output_type": "stream",
     "text": [
      "Using TensorFlow backend.\n"
     ]
    },
    {
     "name": "stdout",
     "output_type": "stream",
     "text": [
      "Found 33339 unique tokens.\n"
     ]
    }
   ],
   "source": [
    "from keras.preprocessing.text import Tokenizer\n",
    "import numpy as np\n",
    "\n",
    "vocabulario = 35000\n",
    "limite_texto = 500\n",
    "dim_vetor = 100\n",
    "\n",
    "tokenizer = Tokenizer(num_words=vocabulario)\n",
    "tokenizer.fit_on_texts(df['filtrado_500'])\n",
    "\n",
    "sequences = tokenizer.texts_to_sequences(df['filtrado_500'])\n",
    "\n",
    "word_index = tokenizer.word_index\n",
    "print('Found %s unique tokens.' % len(word_index))"
   ]
  },
  {
   "cell_type": "code",
   "execution_count": 6,
   "metadata": {},
   "outputs": [
    {
     "name": "stdout",
     "output_type": "stream",
     "text": [
      "Shape of data tensor: (10524, 500)\n"
     ]
    }
   ],
   "source": [
    "from keras.preprocessing.sequence import pad_sequences\n",
    "\n",
    "x = pad_sequences(sequences, maxlen=limite_texto)\n",
    "\n",
    "print('Shape of data tensor:', x.shape)"
   ]
  },
  {
   "cell_type": "code",
   "execution_count": 7,
   "metadata": {},
   "outputs": [
    {
     "data": {
      "text/plain": [
       "((10524, 500), (10524, 91))"
      ]
     },
     "execution_count": 7,
     "metadata": {},
     "output_type": "execute_result"
    }
   ],
   "source": [
    "x.shape, y.shape"
   ]
  },
  {
   "cell_type": "code",
   "execution_count": 8,
   "metadata": {},
   "outputs": [
    {
     "name": "stderr",
     "output_type": "stream",
     "text": [
      "/home/leonardo/anaconda3/envs/gpu/lib/python3.7/site-packages/smart_open/smart_open_lib.py:398: UserWarning: This function is deprecated, use smart_open.open instead. See the migration notes for details: https://github.com/RaRe-Technologies/smart_open/blob/master/README.rst#migrating-to-the-new-open-function\n",
      "  'See the migration notes for details: %s' % _MIGRATION_NOTES_URL\n"
     ]
    }
   ],
   "source": [
    "from gensim.models import KeyedVectors\n",
    "\n",
    "model = KeyedVectors.load_word2vec_format('../externos/model.txt')"
   ]
  },
  {
   "cell_type": "code",
   "execution_count": 9,
   "metadata": {},
   "outputs": [
    {
     "name": "stdout",
     "output_type": "stream",
     "text": [
      "Vocabulario: 33339\n",
      "Encontrados no modelo: 24576 = 73.71546837037704\n"
     ]
    }
   ],
   "source": [
    "# create a weight matrix for words in training docs\n",
    "\n",
    "embedding_matrix = np.zeros((vocabulario, dim_vetor))\n",
    "\n",
    "ok = 0\n",
    "for word, i in tokenizer.word_index.items():\n",
    "    if word in model:\n",
    "        embedding_matrix[i] = model[word]\n",
    "        ok += 1\n",
    "print('Vocabulario:', i)\n",
    "print('Encontrados no modelo:', ok, '=', ok * 100. / i)"
   ]
  },
  {
   "cell_type": "markdown",
   "metadata": {},
   "source": [
    "# Treinamento"
   ]
  },
  {
   "cell_type": "code",
   "execution_count": 10,
   "metadata": {
    "scrolled": false
   },
   "outputs": [
    {
     "name": "stderr",
     "output_type": "stream",
     "text": [
      "WARNING: Logging before flag parsing goes to stderr.\n",
      "W0318 14:09:53.550865 140394614253376 deprecation_wrapper.py:119] From /home/leonardo/anaconda3/envs/gpu/lib/python3.7/site-packages/keras/backend/tensorflow_backend.py:74: The name tf.get_default_graph is deprecated. Please use tf.compat.v1.get_default_graph instead.\n",
      "\n",
      "W0318 14:09:53.673664 140394614253376 deprecation_wrapper.py:119] From /home/leonardo/anaconda3/envs/gpu/lib/python3.7/site-packages/keras/backend/tensorflow_backend.py:517: The name tf.placeholder is deprecated. Please use tf.compat.v1.placeholder instead.\n",
      "\n",
      "W0318 14:09:53.675789 140394614253376 deprecation_wrapper.py:119] From /home/leonardo/anaconda3/envs/gpu/lib/python3.7/site-packages/keras/backend/tensorflow_backend.py:4138: The name tf.random_uniform is deprecated. Please use tf.random.uniform instead.\n",
      "\n",
      "W0318 14:09:53.682559 140394614253376 deprecation_wrapper.py:119] From /home/leonardo/anaconda3/envs/gpu/lib/python3.7/site-packages/keras/backend/tensorflow_backend.py:174: The name tf.get_default_session is deprecated. Please use tf.compat.v1.get_default_session instead.\n",
      "\n",
      "W0318 14:09:53.683213 140394614253376 deprecation_wrapper.py:119] From /home/leonardo/anaconda3/envs/gpu/lib/python3.7/site-packages/keras/backend/tensorflow_backend.py:181: The name tf.ConfigProto is deprecated. Please use tf.compat.v1.ConfigProto instead.\n",
      "\n",
      "W0318 14:09:54.433296 140394614253376 deprecation.py:506] From /home/leonardo/anaconda3/envs/gpu/lib/python3.7/site-packages/keras/backend/tensorflow_backend.py:3445: calling dropout (from tensorflow.python.ops.nn_ops) with keep_prob is deprecated and will be removed in a future version.\n",
      "Instructions for updating:\n",
      "Please use `rate` instead of `keep_prob`. Rate should be set to `rate = 1 - keep_prob`.\n",
      "W0318 14:09:54.603674 140394614253376 deprecation_wrapper.py:119] From /home/leonardo/anaconda3/envs/gpu/lib/python3.7/site-packages/keras/optimizers.py:790: The name tf.train.Optimizer is deprecated. Please use tf.compat.v1.train.Optimizer instead.\n",
      "\n",
      "W0318 14:09:54.692665 140394614253376 deprecation.py:323] From /home/leonardo/anaconda3/envs/gpu/lib/python3.7/site-packages/tensorflow/python/ops/math_grad.py:1250: add_dispatch_support.<locals>.wrapper (from tensorflow.python.ops.array_ops) is deprecated and will be removed in a future version.\n",
      "Instructions for updating:\n",
      "Use tf.where in 2.0, which has the same broadcast rule as np.where\n"
     ]
    },
    {
     "name": "stdout",
     "output_type": "stream",
     "text": [
      "_________________________________________________________________\n",
      "Layer (type)                 Output Shape              Param #   \n",
      "=================================================================\n",
      "embedding_1 (Embedding)      (None, 500, 100)          3500000   \n",
      "_________________________________________________________________\n",
      "simple_rnn_1 (SimpleRNN)     (None, 256)               91392     \n",
      "_________________________________________________________________\n",
      "dense_1 (Dense)              (None, 91)                23387     \n",
      "=================================================================\n",
      "Total params: 3,614,779\n",
      "Trainable params: 3,614,779\n",
      "Non-trainable params: 0\n",
      "_________________________________________________________________\n",
      "Train on 8419 samples, validate on 2105 samples\n",
      "Epoch 1/20\n",
      "8419/8419 [==============================] - 55s 6ms/step - loss: 2.2745 - categorical_accuracy: 0.3647 - val_loss: 2.1410 - val_categorical_accuracy: 0.3059\n",
      "Epoch 2/20\n",
      "8419/8419 [==============================] - 55s 7ms/step - loss: 2.0501 - categorical_accuracy: 0.4316 - val_loss: 1.9915 - val_categorical_accuracy: 0.3601\n",
      "Epoch 3/20\n",
      "8419/8419 [==============================] - 53s 6ms/step - loss: 1.9125 - categorical_accuracy: 0.4657 - val_loss: 1.8490 - val_categorical_accuracy: 0.4803\n",
      "Epoch 4/20\n",
      "8419/8419 [==============================] - 53s 6ms/step - loss: 1.8103 - categorical_accuracy: 0.5009 - val_loss: 2.2407 - val_categorical_accuracy: 0.3477\n",
      "Epoch 5/20\n",
      "8419/8419 [==============================] - 54s 6ms/step - loss: 1.7781 - categorical_accuracy: 0.5148 - val_loss: 1.9882 - val_categorical_accuracy: 0.3810\n",
      "Epoch 6/20\n",
      "8419/8419 [==============================] - 55s 7ms/step - loss: 1.7140 - categorical_accuracy: 0.5274 - val_loss: 1.7779 - val_categorical_accuracy: 0.4689\n",
      "Epoch 7/20\n",
      "8419/8419 [==============================] - 54s 6ms/step - loss: 1.6778 - categorical_accuracy: 0.5333 - val_loss: 1.9662 - val_categorical_accuracy: 0.4632\n",
      "Epoch 8/20\n",
      "8419/8419 [==============================] - 53s 6ms/step - loss: 1.6604 - categorical_accuracy: 0.5371 - val_loss: 1.9655 - val_categorical_accuracy: 0.4599\n",
      "Epoch 9/20\n",
      "8419/8419 [==============================] - 53s 6ms/step - loss: 1.6266 - categorical_accuracy: 0.5378 - val_loss: 1.8528 - val_categorical_accuracy: 0.4252\n",
      "Epoch 10/20\n",
      "8419/8419 [==============================] - 53s 6ms/step - loss: 1.5824 - categorical_accuracy: 0.5552 - val_loss: 2.0103 - val_categorical_accuracy: 0.4261\n",
      "Epoch 11/20\n",
      "8419/8419 [==============================] - 54s 6ms/step - loss: 1.5460 - categorical_accuracy: 0.5642 - val_loss: 1.8885 - val_categorical_accuracy: 0.4508\n",
      "Epoch 12/20\n",
      "8419/8419 [==============================] - 53s 6ms/step - loss: 1.5160 - categorical_accuracy: 0.5743 - val_loss: 1.8149 - val_categorical_accuracy: 0.4765\n",
      "Epoch 13/20\n",
      "8419/8419 [==============================] - 54s 6ms/step - loss: 1.4924 - categorical_accuracy: 0.5819 - val_loss: 1.9107 - val_categorical_accuracy: 0.4304\n",
      "Epoch 14/20\n",
      "8419/8419 [==============================] - 53s 6ms/step - loss: 1.4795 - categorical_accuracy: 0.5825 - val_loss: 1.8602 - val_categorical_accuracy: 0.4575\n",
      "Epoch 15/20\n",
      "8419/8419 [==============================] - 53s 6ms/step - loss: 1.4578 - categorical_accuracy: 0.5926 - val_loss: 1.9197 - val_categorical_accuracy: 0.4912\n",
      "Epoch 16/20\n",
      "8419/8419 [==============================] - 53s 6ms/step - loss: 1.4167 - categorical_accuracy: 0.6002 - val_loss: 1.8332 - val_categorical_accuracy: 0.4665\n",
      "Epoch 17/20\n",
      "8419/8419 [==============================] - 53s 6ms/step - loss: 1.4004 - categorical_accuracy: 0.6052 - val_loss: 1.9397 - val_categorical_accuracy: 0.4751\n",
      "Epoch 18/20\n",
      "8419/8419 [==============================] - 53s 6ms/step - loss: 1.3923 - categorical_accuracy: 0.6083 - val_loss: 1.9832 - val_categorical_accuracy: 0.4665\n",
      "Epoch 19/20\n",
      "8419/8419 [==============================] - 53s 6ms/step - loss: 1.3631 - categorical_accuracy: 0.6083 - val_loss: 1.8877 - val_categorical_accuracy: 0.4741\n",
      "Epoch 20/20\n",
      "8419/8419 [==============================] - 53s 6ms/step - loss: 1.3438 - categorical_accuracy: 0.6248 - val_loss: 1.9365 - val_categorical_accuracy: 0.4565\n"
     ]
    }
   ],
   "source": [
    "from keras.models import Sequential\n",
    "from keras.layers import SimpleRNN, GRU, Dense, Embedding\n",
    "from keras.optimizers import RMSprop\n",
    "\n",
    "model = Sequential()\n",
    "model.add(Embedding(vocabulario, dim_vetor, weights=[embedding_matrix], input_length=limite_texto, trainable=True))\n",
    "model.add(SimpleRNN(256, dropout=0.2, recurrent_dropout=0.2))\n",
    "model.add(Dense(y.shape[1], activation='softmax'))\n",
    "model.compile(loss='categorical_crossentropy', optimizer=RMSprop(),  metrics=[\"categorical_accuracy\"])\n",
    "model.summary()\n",
    "history = model.fit(x, y, epochs=20, batch_size=32, validation_split=0.2, verbose=1, shuffle=True)"
   ]
  },
  {
   "cell_type": "code",
   "execution_count": 11,
   "metadata": {},
   "outputs": [
    {
     "name": "stdout",
     "output_type": "stream",
     "text": [
      "_________________________________________________________________\n",
      "Layer (type)                 Output Shape              Param #   \n",
      "=================================================================\n",
      "embedding_2 (Embedding)      (None, 500, 100)          3500000   \n",
      "_________________________________________________________________\n",
      "gru_1 (GRU)                  (None, 256)               274176    \n",
      "_________________________________________________________________\n",
      "dense_2 (Dense)              (None, 91)                23387     \n",
      "=================================================================\n",
      "Total params: 3,797,563\n",
      "Trainable params: 297,563\n",
      "Non-trainable params: 3,500,000\n",
      "_________________________________________________________________\n",
      "Train on 8419 samples, validate on 2105 samples\n",
      "Epoch 1/20\n",
      "8419/8419 [==============================] - 120s 14ms/step - loss: 1.8480 - categorical_accuracy: 0.5033 - val_loss: 1.5487 - val_categorical_accuracy: 0.5506\n",
      "Epoch 2/20\n",
      "8419/8419 [==============================] - 119s 14ms/step - loss: 1.5016 - categorical_accuracy: 0.5859 - val_loss: 1.5559 - val_categorical_accuracy: 0.5506\n",
      "Epoch 3/20\n",
      "8419/8419 [==============================] - 119s 14ms/step - loss: 1.4089 - categorical_accuracy: 0.6111 - val_loss: 1.5578 - val_categorical_accuracy: 0.5373\n",
      "Epoch 4/20\n",
      "8419/8419 [==============================] - 119s 14ms/step - loss: 1.3293 - categorical_accuracy: 0.6356 - val_loss: 1.5216 - val_categorical_accuracy: 0.5302\n",
      "Epoch 5/20\n",
      "8419/8419 [==============================] - 119s 14ms/step - loss: 1.2710 - categorical_accuracy: 0.6402 - val_loss: 1.5098 - val_categorical_accuracy: 0.5634\n",
      "Epoch 6/20\n",
      "8419/8419 [==============================] - 119s 14ms/step - loss: 1.2190 - categorical_accuracy: 0.6565 - val_loss: 1.5114 - val_categorical_accuracy: 0.5720\n",
      "Epoch 7/20\n",
      "8419/8419 [==============================] - 119s 14ms/step - loss: 1.1732 - categorical_accuracy: 0.6683 - val_loss: 1.5396 - val_categorical_accuracy: 0.5416\n",
      "Epoch 8/20\n",
      "8419/8419 [==============================] - 119s 14ms/step - loss: 1.1185 - categorical_accuracy: 0.6776 - val_loss: 1.4860 - val_categorical_accuracy: 0.5838\n",
      "Epoch 9/20\n",
      "8419/8419 [==============================] - 119s 14ms/step - loss: 1.0806 - categorical_accuracy: 0.6909 - val_loss: 1.5618 - val_categorical_accuracy: 0.5606\n",
      "Epoch 10/20\n",
      "8419/8419 [==============================] - 119s 14ms/step - loss: 1.0341 - categorical_accuracy: 0.7003 - val_loss: 1.6059 - val_categorical_accuracy: 0.5420\n",
      "Epoch 11/20\n",
      "8419/8419 [==============================] - 122s 15ms/step - loss: 0.9768 - categorical_accuracy: 0.7160 - val_loss: 1.5424 - val_categorical_accuracy: 0.5710\n",
      "Epoch 12/20\n",
      "8419/8419 [==============================] - 121s 14ms/step - loss: 0.9502 - categorical_accuracy: 0.7217 - val_loss: 1.5630 - val_categorical_accuracy: 0.5482\n",
      "Epoch 13/20\n",
      "8419/8419 [==============================] - 120s 14ms/step - loss: 0.8986 - categorical_accuracy: 0.7310 - val_loss: 1.6444 - val_categorical_accuracy: 0.5330\n",
      "Epoch 14/20\n",
      "8419/8419 [==============================] - 120s 14ms/step - loss: 0.8578 - categorical_accuracy: 0.7424 - val_loss: 1.7321 - val_categorical_accuracy: 0.5083\n",
      "Epoch 15/20\n",
      "8419/8419 [==============================] - 120s 14ms/step - loss: 0.8202 - categorical_accuracy: 0.7554 - val_loss: 1.6404 - val_categorical_accuracy: 0.5639\n",
      "Epoch 16/20\n",
      "8419/8419 [==============================] - 120s 14ms/step - loss: 0.7929 - categorical_accuracy: 0.7646 - val_loss: 1.6492 - val_categorical_accuracy: 0.5663\n",
      "Epoch 17/20\n",
      "8419/8419 [==============================] - 120s 14ms/step - loss: 0.7561 - categorical_accuracy: 0.7704 - val_loss: 1.7052 - val_categorical_accuracy: 0.5401\n",
      "Epoch 18/20\n",
      "8419/8419 [==============================] - 120s 14ms/step - loss: 0.7172 - categorical_accuracy: 0.7768 - val_loss: 1.7069 - val_categorical_accuracy: 0.5667\n",
      "Epoch 19/20\n",
      "8419/8419 [==============================] - 120s 14ms/step - loss: 0.6910 - categorical_accuracy: 0.7918 - val_loss: 1.7523 - val_categorical_accuracy: 0.5430\n",
      "Epoch 20/20\n",
      "8419/8419 [==============================] - 120s 14ms/step - loss: 0.6555 - categorical_accuracy: 0.7993 - val_loss: 1.8312 - val_categorical_accuracy: 0.5292\n"
     ]
    }
   ],
   "source": [
    "from keras.models import Sequential\n",
    "from keras.layers import SimpleRNN, GRU, Dense, Embedding\n",
    "from keras.optimizers import RMSprop\n",
    "\n",
    "model = Sequential()\n",
    "model.add(Embedding(vocabulario, dim_vetor, weights=[embedding_matrix], input_length=limite_texto, trainable=False))\n",
    "model.add(GRU(256, dropout=0.2, recurrent_dropout=0.2))\n",
    "model.add(Dense(y.shape[1], activation='softmax'))\n",
    "model.compile(loss='categorical_crossentropy', optimizer=RMSprop(),  metrics=[\"categorical_accuracy\"])\n",
    "model.summary()\n",
    "\n",
    "history = model.fit(x, y, epochs=20, batch_size=32, validation_split=0.2, verbose=1, shuffle=True)"
   ]
  },
  {
   "cell_type": "code",
   "execution_count": 12,
   "metadata": {},
   "outputs": [
    {
     "name": "stdout",
     "output_type": "stream",
     "text": [
      "_________________________________________________________________\n",
      "Layer (type)                 Output Shape              Param #   \n",
      "=================================================================\n",
      "embedding_3 (Embedding)      (None, 500, 100)          3500000   \n",
      "_________________________________________________________________\n",
      "gru_2 (GRU)                  (None, 256)               274176    \n",
      "_________________________________________________________________\n",
      "dense_3 (Dense)              (None, 91)                23387     \n",
      "=================================================================\n",
      "Total params: 3,797,563\n",
      "Trainable params: 3,797,563\n",
      "Non-trainable params: 0\n",
      "_________________________________________________________________\n",
      "Train on 8419 samples, validate on 2105 samples\n",
      "Epoch 1/20\n",
      "8419/8419 [==============================] - 133s 16ms/step - loss: 1.8350 - categorical_accuracy: 0.5029 - val_loss: 1.6978 - val_categorical_accuracy: 0.5249\n",
      "Epoch 2/20\n",
      "8419/8419 [==============================] - 132s 16ms/step - loss: 1.4610 - categorical_accuracy: 0.5997 - val_loss: 1.6987 - val_categorical_accuracy: 0.4945\n",
      "Epoch 3/20\n",
      "8419/8419 [==============================] - 131s 16ms/step - loss: 1.3434 - categorical_accuracy: 0.6342 - val_loss: 1.6088 - val_categorical_accuracy: 0.5387\n",
      "Epoch 4/20\n",
      "8419/8419 [==============================] - 131s 16ms/step - loss: 1.2557 - categorical_accuracy: 0.6555 - val_loss: 1.6248 - val_categorical_accuracy: 0.5363\n",
      "Epoch 5/20\n",
      "8419/8419 [==============================] - 132s 16ms/step - loss: 1.1776 - categorical_accuracy: 0.6722 - val_loss: 1.5718 - val_categorical_accuracy: 0.5620\n",
      "Epoch 6/20\n",
      "8419/8419 [==============================] - 131s 16ms/step - loss: 1.0973 - categorical_accuracy: 0.6913 - val_loss: 1.5544 - val_categorical_accuracy: 0.5606\n",
      "Epoch 7/20\n",
      "8419/8419 [==============================] - 131s 16ms/step - loss: 1.0301 - categorical_accuracy: 0.7084 - val_loss: 1.5187 - val_categorical_accuracy: 0.6000\n",
      "Epoch 8/20\n",
      "8419/8419 [==============================] - 131s 16ms/step - loss: 0.9621 - categorical_accuracy: 0.7255 - val_loss: 1.7321 - val_categorical_accuracy: 0.5183\n",
      "Epoch 9/20\n",
      "8419/8419 [==============================] - 132s 16ms/step - loss: 0.8896 - categorical_accuracy: 0.7449 - val_loss: 1.6453 - val_categorical_accuracy: 0.5496\n",
      "Epoch 10/20\n",
      "8419/8419 [==============================] - 132s 16ms/step - loss: 0.8223 - categorical_accuracy: 0.7623 - val_loss: 1.6901 - val_categorical_accuracy: 0.5387\n",
      "Epoch 11/20\n",
      "8419/8419 [==============================] - 132s 16ms/step - loss: 0.7528 - categorical_accuracy: 0.7831 - val_loss: 1.7336 - val_categorical_accuracy: 0.5482\n",
      "Epoch 12/20\n",
      "8419/8419 [==============================] - 131s 16ms/step - loss: 0.6949 - categorical_accuracy: 0.7996 - val_loss: 1.7312 - val_categorical_accuracy: 0.5587\n",
      "Epoch 13/20\n",
      "8419/8419 [==============================] - 132s 16ms/step - loss: 0.6294 - categorical_accuracy: 0.8176 - val_loss: 1.8450 - val_categorical_accuracy: 0.5292\n",
      "Epoch 14/20\n",
      "8419/8419 [==============================] - 132s 16ms/step - loss: 0.5813 - categorical_accuracy: 0.8337 - val_loss: 1.8247 - val_categorical_accuracy: 0.5634\n",
      "Epoch 15/20\n",
      "8419/8419 [==============================] - 131s 16ms/step - loss: 0.5269 - categorical_accuracy: 0.8463 - val_loss: 1.9045 - val_categorical_accuracy: 0.5591\n",
      "Epoch 16/20\n",
      "8419/8419 [==============================] - 132s 16ms/step - loss: 0.4793 - categorical_accuracy: 0.8609 - val_loss: 2.0073 - val_categorical_accuracy: 0.5349\n",
      "Epoch 17/20\n",
      "8419/8419 [==============================] - 132s 16ms/step - loss: 0.4443 - categorical_accuracy: 0.8704 - val_loss: 2.1025 - val_categorical_accuracy: 0.5254\n",
      "Epoch 18/20\n",
      "8419/8419 [==============================] - 132s 16ms/step - loss: 0.3901 - categorical_accuracy: 0.8862 - val_loss: 2.0445 - val_categorical_accuracy: 0.5444\n",
      "Epoch 19/20\n",
      "8419/8419 [==============================] - 131s 16ms/step - loss: 0.3690 - categorical_accuracy: 0.8930 - val_loss: 2.1210 - val_categorical_accuracy: 0.5373\n",
      "Epoch 20/20\n",
      "8419/8419 [==============================] - 132s 16ms/step - loss: 0.3345 - categorical_accuracy: 0.9032 - val_loss: 2.1556 - val_categorical_accuracy: 0.5397\n"
     ]
    }
   ],
   "source": [
    "from keras.models import Sequential\n",
    "from keras.layers import SimpleRNN, GRU, Dense, Embedding\n",
    "from keras.optimizers import RMSprop\n",
    "\n",
    "model = Sequential()\n",
    "model.add(Embedding(vocabulario, dim_vetor, weights=[embedding_matrix], input_length=limite_texto, trainable=True))\n",
    "model.add(GRU(256, dropout=0.2, recurrent_dropout=0.2))\n",
    "model.add(Dense(y.shape[1], activation='softmax'))\n",
    "model.compile(loss='categorical_crossentropy', optimizer=RMSprop(),  metrics=[\"categorical_accuracy\"])\n",
    "model.summary()\n",
    "\n",
    "history = model.fit(x, y, epochs=20, batch_size=32, validation_split=0.2, verbose=1, shuffle=True)"
   ]
  },
  {
   "cell_type": "code",
   "execution_count": null,
   "metadata": {},
   "outputs": [],
   "source": []
  }
 ],
 "metadata": {
  "kernelspec": {
   "display_name": "Python 3",
   "language": "python",
   "name": "python3"
  },
  "language_info": {
   "codemirror_mode": {
    "name": "ipython",
    "version": 3
   },
   "file_extension": ".py",
   "mimetype": "text/x-python",
   "name": "python",
   "nbconvert_exporter": "python",
   "pygments_lexer": "ipython3",
   "version": "3.7.4"
  }
 },
 "nbformat": 4,
 "nbformat_minor": 2
}
