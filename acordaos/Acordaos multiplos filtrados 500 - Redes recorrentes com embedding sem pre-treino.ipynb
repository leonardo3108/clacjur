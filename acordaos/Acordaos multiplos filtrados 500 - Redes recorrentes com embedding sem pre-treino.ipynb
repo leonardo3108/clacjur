{
 "cells": [
  {
   "cell_type": "markdown",
   "metadata": {},
   "source": [
    "# Importação e preparação dos dados"
   ]
  },
  {
   "cell_type": "code",
   "execution_count": 1,
   "metadata": {},
   "outputs": [
    {
     "data": {
      "text/html": [
       "<div>\n",
       "<style scoped>\n",
       "    .dataframe tbody tr th:only-of-type {\n",
       "        vertical-align: middle;\n",
       "    }\n",
       "\n",
       "    .dataframe tbody tr th {\n",
       "        vertical-align: top;\n",
       "    }\n",
       "\n",
       "    .dataframe thead th {\n",
       "        text-align: right;\n",
       "    }\n",
       "</style>\n",
       "<table border=\"1\" class=\"dataframe\">\n",
       "  <thead>\n",
       "    <tr style=\"text-align: right;\">\n",
       "      <th></th>\n",
       "      <th>acordao</th>\n",
       "      <th>areas</th>\n",
       "      <th>filtrado_500</th>\n",
       "    </tr>\n",
       "  </thead>\n",
       "  <tbody>\n",
       "    <tr>\n",
       "      <th>0</th>\n",
       "      <td>297/2016-P</td>\n",
       "      <td>Responsabilidade</td>\n",
       "      <td>conta conta gerência instituto nacional seguro...</td>\n",
       "    </tr>\n",
       "    <tr>\n",
       "      <th>1</th>\n",
       "      <td>366/2016-P</td>\n",
       "      <td>Finanças Públicas</td>\n",
       "      <td>senado petróleo petróleo regime aduaneiro expo...</td>\n",
       "    </tr>\n",
       "    <tr>\n",
       "      <th>2</th>\n",
       "      <td>944/2016-P</td>\n",
       "      <td>Responsabilidade</td>\n",
       "      <td>tribunal conta plenário embargo declaração aco...</td>\n",
       "    </tr>\n",
       "    <tr>\n",
       "      <th>3</th>\n",
       "      <td>30/2016-P</td>\n",
       "      <td>Direito Processual</td>\n",
       "      <td>embargo declaração inss recorrente marco antôn...</td>\n",
       "    </tr>\n",
       "    <tr>\n",
       "      <th>4</th>\n",
       "      <td>55/2016-P</td>\n",
       "      <td>Pessoal</td>\n",
       "      <td>senac senac senac empresa senac giselle araújo...</td>\n",
       "    </tr>\n",
       "  </tbody>\n",
       "</table>\n",
       "</div>"
      ],
      "text/plain": [
       "      acordao               areas  \\\n",
       "0  297/2016-P    Responsabilidade   \n",
       "1  366/2016-P   Finanças Públicas   \n",
       "2  944/2016-P    Responsabilidade   \n",
       "3   30/2016-P  Direito Processual   \n",
       "4   55/2016-P             Pessoal   \n",
       "\n",
       "                                        filtrado_500  \n",
       "0  conta conta gerência instituto nacional seguro...  \n",
       "1  senado petróleo petróleo regime aduaneiro expo...  \n",
       "2  tribunal conta plenário embargo declaração aco...  \n",
       "3  embargo declaração inss recorrente marco antôn...  \n",
       "4  senac senac senac empresa senac giselle araújo...  "
      ]
     },
     "execution_count": 1,
     "metadata": {},
     "output_type": "execute_result"
    }
   ],
   "source": [
    "import pandas as pd\n",
    "\n",
    "df = pd.read_csv('../dados/acordaos-selecionada-filtrados-500.csv', sep = '|')\n",
    "df['filtrado_500']=df['filtrado_500'].astype(str)\n",
    "df.head()"
   ]
  },
  {
   "cell_type": "code",
   "execution_count": 2,
   "metadata": {},
   "outputs": [
    {
     "data": {
      "text/plain": [
       "(10524, 3)"
      ]
     },
     "execution_count": 2,
     "metadata": {},
     "output_type": "execute_result"
    }
   ],
   "source": [
    "df.shape"
   ]
  },
  {
   "cell_type": "code",
   "execution_count": 3,
   "metadata": {},
   "outputs": [
    {
     "data": {
      "text/plain": [
       "array(['Competência do TCU', 'Competência do TCU,Contrato Administrativo',\n",
       "       'Competência do TCU,Contrato Administrativo,Responsabilidade',\n",
       "       'Competência do TCU,Convênio',\n",
       "       'Competência do TCU,Convênio,Direito Processual,Licitação',\n",
       "       'Competência do TCU,Convênio,Gestão Administrativa',\n",
       "       'Competência do TCU,Convênio,Responsabilidade',\n",
       "       'Competência do TCU,Desestatização',\n",
       "       'Competência do TCU,Direito Processual',\n",
       "       'Competência do TCU,Direito Processual,Licitação',\n",
       "       'Competência do TCU,Direito Processual,Pessoal',\n",
       "       'Competência do TCU,Direito Processual,Responsabilidade',\n",
       "       'Competência do TCU,Finanças Públicas',\n",
       "       'Competência do TCU,Finanças Públicas,Licitação',\n",
       "       'Competência do TCU,Finanças Públicas,Responsabilidade',\n",
       "       'Competência do TCU,Gestão Administrativa',\n",
       "       'Competência do TCU,Licitação',\n",
       "       'Competência do TCU,Licitação,Pessoal',\n",
       "       'Competência do TCU,Licitação,Responsabilidade',\n",
       "       'Competência do TCU,Pessoal',\n",
       "       'Competência do TCU,Pessoal,Responsabilidade',\n",
       "       'Competência do TCU,Responsabilidade', 'Contrato Administrativo',\n",
       "       'Contrato Administrativo,Convênio',\n",
       "       'Contrato Administrativo,Convênio,Finanças Públicas',\n",
       "       'Contrato Administrativo,Convênio,Gestão Administrativa',\n",
       "       'Contrato Administrativo,Convênio,Licitação',\n",
       "       'Contrato Administrativo,Desestatização',\n",
       "       'Contrato Administrativo,Desestatização,Licitação',\n",
       "       'Contrato Administrativo,Direito Processual',\n",
       "       'Contrato Administrativo,Direito Processual,Gestão Administrativa',\n",
       "       'Contrato Administrativo,Direito Processual,Licitação',\n",
       "       'Contrato Administrativo,Direito Processual,Licitação,Responsabilidade',\n",
       "       'Contrato Administrativo,Direito Processual,Responsabilidade',\n",
       "       'Contrato Administrativo,Finanças Públicas',\n",
       "       'Contrato Administrativo,Finanças Públicas,Gestão Administrativa,Licitação',\n",
       "       'Contrato Administrativo,Finanças Públicas,Licitação',\n",
       "       'Contrato Administrativo,Finanças Públicas,Responsabilidade',\n",
       "       'Contrato Administrativo,Gestão Administrativa',\n",
       "       'Contrato Administrativo,Gestão Administrativa,Licitação',\n",
       "       'Contrato Administrativo,Licitação',\n",
       "       'Contrato Administrativo,Licitação,Pessoal',\n",
       "       'Contrato Administrativo,Licitação,Responsabilidade',\n",
       "       'Contrato Administrativo,Pessoal',\n",
       "       'Contrato Administrativo,Responsabilidade', 'Convênio',\n",
       "       'Convênio,Desestatização,Finanças Públicas,Licitação',\n",
       "       'Convênio,Direito Processual', 'Convênio,Finanças Públicas',\n",
       "       'Convênio,Finanças Públicas,Licitação,Pessoal',\n",
       "       'Convênio,Gestão Administrativa',\n",
       "       'Convênio,Gestão Administrativa,Licitação',\n",
       "       'Convênio,Gestão Administrativa,Pessoal',\n",
       "       'Convênio,Gestão Administrativa,Responsabilidade',\n",
       "       'Convênio,Licitação', 'Convênio,Pessoal',\n",
       "       'Convênio,Responsabilidade', 'Desestatização',\n",
       "       'Desestatização,Direito Processual',\n",
       "       'Desestatização,Finanças Públicas',\n",
       "       'Desestatização,Gestão Administrativa',\n",
       "       'Desestatização,Gestão Administrativa,Pessoal',\n",
       "       'Desestatização,Licitação',\n",
       "       'Desestatização,Licitação,Responsabilidade', 'Direito Processual',\n",
       "       'Direito Processual,Finanças Públicas',\n",
       "       'Direito Processual,Gestão Administrativa,Responsabilidade',\n",
       "       'Direito Processual,Licitação',\n",
       "       'Direito Processual,Licitação,Responsabilidade',\n",
       "       'Direito Processual,Pessoal',\n",
       "       'Direito Processual,Responsabilidade', 'Finanças Públicas',\n",
       "       'Finanças Públicas,Gestão Administrativa',\n",
       "       'Finanças Públicas,Gestão Administrativa,Licitação',\n",
       "       'Finanças Públicas,Gestão Administrativa,Pessoal',\n",
       "       'Finanças Públicas,Licitação',\n",
       "       'Finanças Públicas,Licitação,Pessoal', 'Finanças Públicas,Pessoal',\n",
       "       'Finanças Públicas,Responsabilidade', 'Gestão Administrativa',\n",
       "       'Gestão Administrativa,Licitação',\n",
       "       'Gestão Administrativa,Licitação,Pessoal,Responsabilidade',\n",
       "       'Gestão Administrativa,Pessoal',\n",
       "       'Gestão Administrativa,Responsabilidade', 'Licitação',\n",
       "       'Licitação,Pessoal', 'Licitação,Pessoal,Responsabilidade',\n",
       "       'Licitação,Responsabilidade', 'Pessoal',\n",
       "       'Pessoal,Responsabilidade', 'Responsabilidade'], dtype='<U73')"
      ]
     },
     "execution_count": 3,
     "metadata": {},
     "output_type": "execute_result"
    }
   ],
   "source": [
    "from sklearn.preprocessing import LabelBinarizer\n",
    "\n",
    "areas = df.groupby(['areas']).groups.keys()\n",
    "lbArea = LabelBinarizer()\n",
    "lbArea.fit([x for x in areas])\n",
    "lbArea.classes_"
   ]
  },
  {
   "cell_type": "code",
   "execution_count": 4,
   "metadata": {},
   "outputs": [
    {
     "data": {
      "text/plain": [
       "(10524, 91)"
      ]
     },
     "execution_count": 4,
     "metadata": {},
     "output_type": "execute_result"
    }
   ],
   "source": [
    "y = lbArea.transform(df['areas'])\n",
    "y.shape"
   ]
  },
  {
   "cell_type": "code",
   "execution_count": 5,
   "metadata": {},
   "outputs": [
    {
     "name": "stderr",
     "output_type": "stream",
     "text": [
      "Using TensorFlow backend.\n"
     ]
    },
    {
     "name": "stdout",
     "output_type": "stream",
     "text": [
      "Found 33339 unique tokens.\n"
     ]
    }
   ],
   "source": [
    "from keras.preprocessing.text import Tokenizer\n",
    "import numpy as np\n",
    "\n",
    "vocabulario = 35000\n",
    "limite_texto = 500\n",
    "dim_vetor = 100\n",
    "\n",
    "tokenizer = Tokenizer(num_words=vocabulario)\n",
    "tokenizer.fit_on_texts(df['filtrado_500'])\n",
    "\n",
    "sequences = tokenizer.texts_to_sequences(df['filtrado_500'])\n",
    "\n",
    "word_index = tokenizer.word_index\n",
    "print('Found %s unique tokens.' % len(word_index))"
   ]
  },
  {
   "cell_type": "code",
   "execution_count": 6,
   "metadata": {},
   "outputs": [
    {
     "name": "stdout",
     "output_type": "stream",
     "text": [
      "Shape of data tensor: (10524, 500)\n"
     ]
    }
   ],
   "source": [
    "from keras.preprocessing.sequence import pad_sequences\n",
    "\n",
    "x = pad_sequences(sequences, maxlen=limite_texto)\n",
    "\n",
    "print('Shape of data tensor:', x.shape)"
   ]
  },
  {
   "cell_type": "code",
   "execution_count": 7,
   "metadata": {},
   "outputs": [
    {
     "data": {
      "text/plain": [
       "((10524, 500), (10524, 91))"
      ]
     },
     "execution_count": 7,
     "metadata": {},
     "output_type": "execute_result"
    }
   ],
   "source": [
    "x.shape, y.shape"
   ]
  },
  {
   "cell_type": "markdown",
   "metadata": {},
   "source": [
    "# Treinamento"
   ]
  },
  {
   "cell_type": "code",
   "execution_count": 8,
   "metadata": {
    "scrolled": false
   },
   "outputs": [
    {
     "name": "stderr",
     "output_type": "stream",
     "text": [
      "WARNING: Logging before flag parsing goes to stderr.\n",
      "W0314 19:56:49.003989 140349225908032 deprecation_wrapper.py:119] From /home/leonardo/anaconda3/envs/gpu/lib/python3.7/site-packages/keras/backend/tensorflow_backend.py:74: The name tf.get_default_graph is deprecated. Please use tf.compat.v1.get_default_graph instead.\n",
      "\n",
      "W0314 19:56:49.039267 140349225908032 deprecation_wrapper.py:119] From /home/leonardo/anaconda3/envs/gpu/lib/python3.7/site-packages/keras/backend/tensorflow_backend.py:517: The name tf.placeholder is deprecated. Please use tf.compat.v1.placeholder instead.\n",
      "\n",
      "W0314 19:56:49.042184 140349225908032 deprecation_wrapper.py:119] From /home/leonardo/anaconda3/envs/gpu/lib/python3.7/site-packages/keras/backend/tensorflow_backend.py:4138: The name tf.random_uniform is deprecated. Please use tf.random.uniform instead.\n",
      "\n",
      "W0314 19:56:49.290944 140349225908032 deprecation_wrapper.py:119] From /home/leonardo/anaconda3/envs/gpu/lib/python3.7/site-packages/keras/optimizers.py:790: The name tf.train.Optimizer is deprecated. Please use tf.compat.v1.train.Optimizer instead.\n",
      "\n",
      "W0314 19:56:49.298085 140349225908032 deprecation_wrapper.py:119] From /home/leonardo/anaconda3/envs/gpu/lib/python3.7/site-packages/keras/backend/tensorflow_backend.py:3295: The name tf.log is deprecated. Please use tf.math.log instead.\n",
      "\n",
      "W0314 19:56:49.473737 140349225908032 deprecation.py:323] From /home/leonardo/anaconda3/envs/gpu/lib/python3.7/site-packages/tensorflow/python/ops/math_grad.py:1250: add_dispatch_support.<locals>.wrapper (from tensorflow.python.ops.array_ops) is deprecated and will be removed in a future version.\n",
      "Instructions for updating:\n",
      "Use tf.where in 2.0, which has the same broadcast rule as np.where\n"
     ]
    },
    {
     "name": "stdout",
     "output_type": "stream",
     "text": [
      "_________________________________________________________________\n",
      "Layer (type)                 Output Shape              Param #   \n",
      "=================================================================\n",
      "embedding_1 (Embedding)      (None, 500, 100)          3500000   \n",
      "_________________________________________________________________\n",
      "gru_1 (GRU)                  (None, 256)               274176    \n",
      "_________________________________________________________________\n",
      "dense_1 (Dense)              (None, 91)                23387     \n",
      "=================================================================\n",
      "Total params: 3,797,563\n",
      "Trainable params: 3,797,563\n",
      "Non-trainable params: 0\n",
      "_________________________________________________________________\n"
     ]
    },
    {
     "name": "stderr",
     "output_type": "stream",
     "text": [
      "W0314 19:56:49.902762 140349225908032 deprecation_wrapper.py:119] From /home/leonardo/anaconda3/envs/gpu/lib/python3.7/site-packages/keras/backend/tensorflow_backend.py:986: The name tf.assign_add is deprecated. Please use tf.compat.v1.assign_add instead.\n",
      "\n"
     ]
    },
    {
     "name": "stdout",
     "output_type": "stream",
     "text": [
      "Train on 8419 samples, validate on 2105 samples\n",
      "Epoch 1/20\n",
      "8419/8419 [==============================] - 111s 13ms/step - loss: 2.0637 - categorical_accuracy: 0.4378 - val_loss: 1.6945 - val_categorical_accuracy: 0.5235\n",
      "Epoch 2/20\n",
      "8419/8419 [==============================] - 110s 13ms/step - loss: 2.0302 - categorical_accuracy: 0.5244 - val_loss: 1.6946 - val_categorical_accuracy: 0.5183\n",
      "Epoch 3/20\n",
      "8419/8419 [==============================] - 109s 13ms/step - loss: 1.4183 - categorical_accuracy: 0.6092 - val_loss: 2.1187 - val_categorical_accuracy: 0.3900\n",
      "Epoch 4/20\n",
      "8419/8419 [==============================] - 109s 13ms/step - loss: 1.2641 - categorical_accuracy: 0.6587 - val_loss: 1.8502 - val_categorical_accuracy: 0.5192\n",
      "Epoch 5/20\n",
      "8419/8419 [==============================] - 110s 13ms/step - loss: 1.1175 - categorical_accuracy: 0.6990 - val_loss: 1.7230 - val_categorical_accuracy: 0.5325\n",
      "Epoch 6/20\n",
      "8419/8419 [==============================] - 110s 13ms/step - loss: 0.9851 - categorical_accuracy: 0.7469 - val_loss: 1.8123 - val_categorical_accuracy: 0.5050\n",
      "Epoch 7/20\n",
      "8419/8419 [==============================] - 110s 13ms/step - loss: 0.8621 - categorical_accuracy: 0.7817 - val_loss: 2.1395 - val_categorical_accuracy: 0.4808\n",
      "Epoch 8/20\n",
      "8419/8419 [==============================] - 110s 13ms/step - loss: 0.7526 - categorical_accuracy: 0.8117 - val_loss: 1.9624 - val_categorical_accuracy: 0.5264\n",
      "Epoch 9/20\n",
      "8419/8419 [==============================] - 110s 13ms/step - loss: 0.6541 - categorical_accuracy: 0.8364 - val_loss: 2.2450 - val_categorical_accuracy: 0.4974\n",
      "Epoch 10/20\n",
      "8419/8419 [==============================] - 110s 13ms/step - loss: 0.5733 - categorical_accuracy: 0.8569 - val_loss: 2.3662 - val_categorical_accuracy: 0.4660\n",
      "Epoch 11/20\n",
      "8419/8419 [==============================] - 110s 13ms/step - loss: 0.5070 - categorical_accuracy: 0.8726 - val_loss: 2.3055 - val_categorical_accuracy: 0.5012\n",
      "Epoch 12/20\n",
      "8419/8419 [==============================] - 110s 13ms/step - loss: 0.4391 - categorical_accuracy: 0.8902 - val_loss: 2.4896 - val_categorical_accuracy: 0.4960\n",
      "Epoch 13/20\n",
      "8419/8419 [==============================] - 110s 13ms/step - loss: 0.3874 - categorical_accuracy: 0.9000 - val_loss: 2.5335 - val_categorical_accuracy: 0.5002\n",
      "Epoch 14/20\n",
      "8419/8419 [==============================] - 110s 13ms/step - loss: 0.3479 - categorical_accuracy: 0.9116 - val_loss: 2.5660 - val_categorical_accuracy: 0.4793\n",
      "Epoch 15/20\n",
      "8419/8419 [==============================] - 110s 13ms/step - loss: 0.3068 - categorical_accuracy: 0.9204 - val_loss: 2.6259 - val_categorical_accuracy: 0.4831\n",
      "Epoch 16/20\n",
      "8419/8419 [==============================] - 110s 13ms/step - loss: 0.2710 - categorical_accuracy: 0.9310 - val_loss: 3.0225 - val_categorical_accuracy: 0.4627\n",
      "Epoch 17/20\n",
      "8419/8419 [==============================] - 110s 13ms/step - loss: 0.2400 - categorical_accuracy: 0.9380 - val_loss: 3.0631 - val_categorical_accuracy: 0.4627\n",
      "Epoch 18/20\n",
      "8419/8419 [==============================] - 110s 13ms/step - loss: 0.2165 - categorical_accuracy: 0.9422 - val_loss: 2.8943 - val_categorical_accuracy: 0.4774\n",
      "Epoch 19/20\n",
      "8419/8419 [==============================] - 110s 13ms/step - loss: 0.1897 - categorical_accuracy: 0.9513 - val_loss: 3.0623 - val_categorical_accuracy: 0.4575\n",
      "Epoch 20/20\n",
      "8419/8419 [==============================] - 110s 13ms/step - loss: 0.1727 - categorical_accuracy: 0.9549 - val_loss: 3.2477 - val_categorical_accuracy: 0.4290\n"
     ]
    }
   ],
   "source": [
    "from keras.models import Sequential\n",
    "from keras.layers import Embedding, GRU, Dense, Bidirectional\n",
    "from keras.optimizers import RMSprop\n",
    "from keras.layers.core import Dropout\n",
    "\n",
    "model = Sequential()\n",
    "model.add(Embedding(vocabulario, dim_vetor, input_length=x.shape[1]))\n",
    "model.add(GRU(256))\n",
    "model.add(Dense(y.shape[1], activation='softmax'))\n",
    "model.compile(loss='categorical_crossentropy', optimizer=RMSprop(),  metrics=[\"categorical_accuracy\"])\n",
    "model.summary()\n",
    "\n",
    "history = model.fit(x, y, epochs=20, batch_size=32, validation_split=0.2, verbose=1, shuffle=True)"
   ]
  },
  {
   "cell_type": "code",
   "execution_count": 9,
   "metadata": {},
   "outputs": [
    {
     "name": "stderr",
     "output_type": "stream",
     "text": [
      "W0314 20:33:28.674296 140349225908032 deprecation.py:506] From /home/leonardo/anaconda3/envs/gpu/lib/python3.7/site-packages/keras/backend/tensorflow_backend.py:3445: calling dropout (from tensorflow.python.ops.nn_ops) with keep_prob is deprecated and will be removed in a future version.\n",
      "Instructions for updating:\n",
      "Please use `rate` instead of `keep_prob`. Rate should be set to `rate = 1 - keep_prob`.\n"
     ]
    },
    {
     "name": "stdout",
     "output_type": "stream",
     "text": [
      "_________________________________________________________________\n",
      "Layer (type)                 Output Shape              Param #   \n",
      "=================================================================\n",
      "embedding_2 (Embedding)      (None, 500, 100)          3500000   \n",
      "_________________________________________________________________\n",
      "gru_2 (GRU)                  (None, 256)               274176    \n",
      "_________________________________________________________________\n",
      "dense_2 (Dense)              (None, 91)                23387     \n",
      "=================================================================\n",
      "Total params: 3,797,563\n",
      "Trainable params: 3,797,563\n",
      "Non-trainable params: 0\n",
      "_________________________________________________________________\n",
      "Train on 8419 samples, validate on 2105 samples\n",
      "Epoch 1/20\n",
      "8419/8419 [==============================] - 130s 15ms/step - loss: 2.0410 - categorical_accuracy: 0.4391 - val_loss: 1.8161 - val_categorical_accuracy: 0.4831\n",
      "Epoch 2/20\n",
      "8419/8419 [==============================] - 129s 15ms/step - loss: 1.5350 - categorical_accuracy: 0.5783 - val_loss: 1.6935 - val_categorical_accuracy: 0.4960\n",
      "Epoch 3/20\n",
      "8419/8419 [==============================] - 129s 15ms/step - loss: 1.3911 - categorical_accuracy: 0.6156 - val_loss: 1.6442 - val_categorical_accuracy: 0.5492\n",
      "Epoch 4/20\n",
      "8419/8419 [==============================] - 129s 15ms/step - loss: 1.2779 - categorical_accuracy: 0.6500 - val_loss: 1.5915 - val_categorical_accuracy: 0.5620\n",
      "Epoch 5/20\n",
      "8419/8419 [==============================] - 129s 15ms/step - loss: 1.1734 - categorical_accuracy: 0.6893 - val_loss: 1.6813 - val_categorical_accuracy: 0.4988\n",
      "Epoch 6/20\n",
      "8419/8419 [==============================] - 129s 15ms/step - loss: 1.0761 - categorical_accuracy: 0.7175 - val_loss: 1.6370 - val_categorical_accuracy: 0.5615\n",
      "Epoch 7/20\n",
      "8419/8419 [==============================] - 129s 15ms/step - loss: 0.9814 - categorical_accuracy: 0.7484 - val_loss: 1.8298 - val_categorical_accuracy: 0.5064\n",
      "Epoch 8/20\n",
      "8419/8419 [==============================] - 129s 15ms/step - loss: 0.8984 - categorical_accuracy: 0.7700 - val_loss: 1.7390 - val_categorical_accuracy: 0.5406\n",
      "Epoch 9/20\n",
      "8419/8419 [==============================] - 129s 15ms/step - loss: 0.8224 - categorical_accuracy: 0.7924 - val_loss: 1.7949 - val_categorical_accuracy: 0.5534\n",
      "Epoch 10/20\n",
      "8419/8419 [==============================] - 129s 15ms/step - loss: 0.7528 - categorical_accuracy: 0.8077 - val_loss: 1.9266 - val_categorical_accuracy: 0.5159\n",
      "Epoch 11/20\n",
      "8419/8419 [==============================] - 130s 15ms/step - loss: 0.6793 - categorical_accuracy: 0.8280 - val_loss: 2.1301 - val_categorical_accuracy: 0.4827\n",
      "Epoch 12/20\n",
      "8419/8419 [==============================] - 130s 15ms/step - loss: 0.6194 - categorical_accuracy: 0.8455 - val_loss: 2.1232 - val_categorical_accuracy: 0.5026\n",
      "Epoch 13/20\n",
      "8419/8419 [==============================] - 130s 15ms/step - loss: 0.5685 - categorical_accuracy: 0.8568 - val_loss: 2.1218 - val_categorical_accuracy: 0.5131\n",
      "Epoch 14/20\n",
      "8419/8419 [==============================] - 129s 15ms/step - loss: 0.5297 - categorical_accuracy: 0.8712 - val_loss: 2.3031 - val_categorical_accuracy: 0.4831\n",
      "Epoch 15/20\n",
      "8419/8419 [==============================] - 130s 15ms/step - loss: 0.4842 - categorical_accuracy: 0.8780 - val_loss: 2.3220 - val_categorical_accuracy: 0.4945\n",
      "Epoch 16/20\n",
      "8419/8419 [==============================] - 130s 15ms/step - loss: 0.4403 - categorical_accuracy: 0.8878 - val_loss: 2.3436 - val_categorical_accuracy: 0.5121\n",
      "Epoch 17/20\n",
      "8419/8419 [==============================] - 130s 15ms/step - loss: 0.4105 - categorical_accuracy: 0.8950 - val_loss: 2.3865 - val_categorical_accuracy: 0.5050\n",
      "Epoch 18/20\n",
      "8419/8419 [==============================] - 130s 15ms/step - loss: 0.3820 - categorical_accuracy: 0.9032 - val_loss: 2.5767 - val_categorical_accuracy: 0.4798\n",
      "Epoch 19/20\n",
      "8419/8419 [==============================] - 132s 16ms/step - loss: 0.3476 - categorical_accuracy: 0.9110 - val_loss: 2.7437 - val_categorical_accuracy: 0.4660\n",
      "Epoch 20/20\n",
      "8419/8419 [==============================] - 136s 16ms/step - loss: 0.3336 - categorical_accuracy: 0.9139 - val_loss: 2.7406 - val_categorical_accuracy: 0.4717\n"
     ]
    }
   ],
   "source": [
    "model = Sequential()\n",
    "model.add(Embedding(vocabulario, dim_vetor, input_length=x.shape[1]))\n",
    "model.add(GRU(256, dropout=0.2, recurrent_dropout=0.2))\n",
    "model.add(Dense(y.shape[1], activation='softmax'))\n",
    "model.compile(loss='categorical_crossentropy', optimizer=RMSprop(),  metrics=[\"categorical_accuracy\"])\n",
    "model.summary()\n",
    "\n",
    "history = model.fit(x, y, epochs=20, batch_size=32, validation_split=0.2, verbose=1, shuffle=True)"
   ]
  },
  {
   "cell_type": "code",
   "execution_count": 10,
   "metadata": {},
   "outputs": [
    {
     "name": "stdout",
     "output_type": "stream",
     "text": [
      "_________________________________________________________________\n",
      "Layer (type)                 Output Shape              Param #   \n",
      "=================================================================\n",
      "embedding_3 (Embedding)      (None, 500, 100)          3500000   \n",
      "_________________________________________________________________\n",
      "gru_3 (GRU)                  (None, 256)               274176    \n",
      "_________________________________________________________________\n",
      "dense_3 (Dense)              (None, 91)                23387     \n",
      "=================================================================\n",
      "Total params: 3,797,563\n",
      "Trainable params: 3,797,563\n",
      "Non-trainable params: 0\n",
      "_________________________________________________________________\n",
      "Train on 8419 samples, validate on 2105 samples\n",
      "Epoch 1/20\n",
      "8419/8419 [==============================] - 132s 16ms/step - loss: 2.0575 - categorical_accuracy: 0.4320 - val_loss: 1.7899 - val_categorical_accuracy: 0.3691\n",
      "Epoch 2/20\n",
      "8419/8419 [==============================] - 130s 15ms/step - loss: 1.5630 - categorical_accuracy: 0.5762 - val_loss: 1.6774 - val_categorical_accuracy: 0.4613\n",
      "Epoch 3/20\n",
      "8419/8419 [==============================] - 130s 15ms/step - loss: 1.3997 - categorical_accuracy: 0.6159 - val_loss: 1.6220 - val_categorical_accuracy: 0.5287\n",
      "Epoch 4/20\n",
      "8419/8419 [==============================] - 130s 15ms/step - loss: 1.2994 - categorical_accuracy: 0.6453 - val_loss: 1.7795 - val_categorical_accuracy: 0.4603\n",
      "Epoch 5/20\n",
      "8419/8419 [==============================] - 131s 16ms/step - loss: 1.2007 - categorical_accuracy: 0.6778 - val_loss: 1.6478 - val_categorical_accuracy: 0.5663\n",
      "Epoch 6/20\n",
      "8419/8419 [==============================] - 130s 15ms/step - loss: 1.1031 - categorical_accuracy: 0.7085 - val_loss: 1.7394 - val_categorical_accuracy: 0.5121\n",
      "Epoch 7/20\n",
      "8419/8419 [==============================] - 130s 15ms/step - loss: 1.0206 - categorical_accuracy: 0.7349 - val_loss: 1.8495 - val_categorical_accuracy: 0.5169\n",
      "Epoch 8/20\n",
      "8419/8419 [==============================] - 130s 15ms/step - loss: 0.9334 - categorical_accuracy: 0.7624 - val_loss: 1.8465 - val_categorical_accuracy: 0.5292\n",
      "Epoch 9/20\n",
      "8419/8419 [==============================] - 130s 15ms/step - loss: 0.8609 - categorical_accuracy: 0.7854 - val_loss: 1.9098 - val_categorical_accuracy: 0.5059\n",
      "Epoch 10/20\n",
      "8419/8419 [==============================] - 131s 16ms/step - loss: 0.7833 - categorical_accuracy: 0.8006 - val_loss: 1.9868 - val_categorical_accuracy: 0.5088\n",
      "Epoch 11/20\n",
      "8419/8419 [==============================] - 130s 15ms/step - loss: 0.7198 - categorical_accuracy: 0.8203 - val_loss: 2.0343 - val_categorical_accuracy: 0.5164\n",
      "Epoch 12/20\n",
      "8419/8419 [==============================] - 130s 15ms/step - loss: 0.6535 - categorical_accuracy: 0.8380 - val_loss: 2.1837 - val_categorical_accuracy: 0.4888\n",
      "Epoch 13/20\n",
      "8419/8419 [==============================] - 131s 16ms/step - loss: 0.6054 - categorical_accuracy: 0.8511 - val_loss: 2.2541 - val_categorical_accuracy: 0.4879\n",
      "Epoch 14/20\n",
      "8419/8419 [==============================] - 130s 15ms/step - loss: 0.5618 - categorical_accuracy: 0.8588 - val_loss: 2.3753 - val_categorical_accuracy: 0.4717\n",
      "Epoch 15/20\n",
      "8419/8419 [==============================] - 130s 15ms/step - loss: 0.5214 - categorical_accuracy: 0.8693 - val_loss: 2.3926 - val_categorical_accuracy: 0.4812\n",
      "Epoch 16/20\n",
      "8419/8419 [==============================] - 131s 16ms/step - loss: 0.4785 - categorical_accuracy: 0.8817 - val_loss: 2.5130 - val_categorical_accuracy: 0.4831\n",
      "Epoch 17/20\n",
      "8419/8419 [==============================] - 131s 16ms/step - loss: 0.4439 - categorical_accuracy: 0.8898 - val_loss: 2.5042 - val_categorical_accuracy: 0.4798\n",
      "Epoch 18/20\n",
      "8419/8419 [==============================] - 131s 16ms/step - loss: 0.4155 - categorical_accuracy: 0.8952 - val_loss: 2.6320 - val_categorical_accuracy: 0.4846\n",
      "Epoch 19/20\n",
      "8419/8419 [==============================] - 131s 16ms/step - loss: 0.3781 - categorical_accuracy: 0.9052 - val_loss: 2.7399 - val_categorical_accuracy: 0.4727\n",
      "Epoch 20/20\n",
      "8419/8419 [==============================] - 130s 15ms/step - loss: 0.3614 - categorical_accuracy: 0.9090 - val_loss: 2.6967 - val_categorical_accuracy: 0.4955\n"
     ]
    }
   ],
   "source": [
    "model = Sequential()\n",
    "model.add(Embedding(vocabulario, dim_vetor, input_length=x.shape[1]))\n",
    "model.add(GRU(256, dropout=0.1, recurrent_dropout=0.4))\n",
    "model.add(Dense(y.shape[1], activation='softmax'))\n",
    "model.compile(loss='categorical_crossentropy', optimizer=RMSprop(),  metrics=[\"categorical_accuracy\"])\n",
    "model.summary()\n",
    "\n",
    "history = model.fit(x, y, epochs=20, batch_size=32, validation_split=0.2, verbose=1, shuffle=True)"
   ]
  },
  {
   "cell_type": "code",
   "execution_count": null,
   "metadata": {},
   "outputs": [],
   "source": []
  }
 ],
 "metadata": {
  "kernelspec": {
   "display_name": "Python 3",
   "language": "python",
   "name": "python3"
  },
  "language_info": {
   "codemirror_mode": {
    "name": "ipython",
    "version": 3
   },
   "file_extension": ".py",
   "mimetype": "text/x-python",
   "name": "python",
   "nbconvert_exporter": "python",
   "pygments_lexer": "ipython3",
   "version": "3.7.4"
  }
 },
 "nbformat": 4,
 "nbformat_minor": 2
}
