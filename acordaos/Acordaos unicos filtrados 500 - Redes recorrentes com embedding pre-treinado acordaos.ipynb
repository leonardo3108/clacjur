{
 "cells": [
  {
   "cell_type": "markdown",
   "metadata": {},
   "source": [
    "# Importação e preparação dos dados"
   ]
  },
  {
   "cell_type": "code",
   "execution_count": 1,
   "metadata": {},
   "outputs": [
    {
     "data": {
      "text/html": [
       "<div>\n",
       "<style scoped>\n",
       "    .dataframe tbody tr th:only-of-type {\n",
       "        vertical-align: middle;\n",
       "    }\n",
       "\n",
       "    .dataframe tbody tr th {\n",
       "        vertical-align: top;\n",
       "    }\n",
       "\n",
       "    .dataframe thead th {\n",
       "        text-align: right;\n",
       "    }\n",
       "</style>\n",
       "<table border=\"1\" class=\"dataframe\">\n",
       "  <thead>\n",
       "    <tr style=\"text-align: right;\">\n",
       "      <th></th>\n",
       "      <th>acordao</th>\n",
       "      <th>areas</th>\n",
       "      <th>filtrado_500</th>\n",
       "    </tr>\n",
       "  </thead>\n",
       "  <tbody>\n",
       "    <tr>\n",
       "      <th>0</th>\n",
       "      <td>297/2016-P</td>\n",
       "      <td>Responsabilidade</td>\n",
       "      <td>conta conta gerência instituto nacional seguro...</td>\n",
       "    </tr>\n",
       "    <tr>\n",
       "      <th>1</th>\n",
       "      <td>366/2016-P</td>\n",
       "      <td>Finanças Públicas</td>\n",
       "      <td>senado petróleo petróleo regime aduaneiro expo...</td>\n",
       "    </tr>\n",
       "    <tr>\n",
       "      <th>2</th>\n",
       "      <td>944/2016-P</td>\n",
       "      <td>Responsabilidade</td>\n",
       "      <td>tribunal conta plenário embargo declaração aco...</td>\n",
       "    </tr>\n",
       "    <tr>\n",
       "      <th>3</th>\n",
       "      <td>30/2016-P</td>\n",
       "      <td>Direito Processual</td>\n",
       "      <td>embargo declaração inss recorrente marco antôn...</td>\n",
       "    </tr>\n",
       "    <tr>\n",
       "      <th>4</th>\n",
       "      <td>55/2016-P</td>\n",
       "      <td>Pessoal</td>\n",
       "      <td>senac senac senac empresa senac giselle araújo...</td>\n",
       "    </tr>\n",
       "  </tbody>\n",
       "</table>\n",
       "</div>"
      ],
      "text/plain": [
       "      acordao               areas  \\\n",
       "0  297/2016-P    Responsabilidade   \n",
       "1  366/2016-P   Finanças Públicas   \n",
       "2  944/2016-P    Responsabilidade   \n",
       "3   30/2016-P  Direito Processual   \n",
       "4   55/2016-P             Pessoal   \n",
       "\n",
       "                                        filtrado_500  \n",
       "0  conta conta gerência instituto nacional seguro...  \n",
       "1  senado petróleo petróleo regime aduaneiro expo...  \n",
       "2  tribunal conta plenário embargo declaração aco...  \n",
       "3  embargo declaração inss recorrente marco antôn...  \n",
       "4  senac senac senac empresa senac giselle araújo...  "
      ]
     },
     "execution_count": 1,
     "metadata": {},
     "output_type": "execute_result"
    }
   ],
   "source": [
    "import pandas as pd\n",
    "\n",
    "df = pd.read_csv('../dados/acordaos-unicos-filtrados-500.csv', sep = '|')\n",
    "df['filtrado_500']=df['filtrado_500'].astype(str)\n",
    "df.head()"
   ]
  },
  {
   "cell_type": "code",
   "execution_count": 2,
   "metadata": {},
   "outputs": [
    {
     "data": {
      "text/plain": [
       "(9739, 3)"
      ]
     },
     "execution_count": 2,
     "metadata": {},
     "output_type": "execute_result"
    }
   ],
   "source": [
    "df.shape"
   ]
  },
  {
   "cell_type": "code",
   "execution_count": 3,
   "metadata": {
    "scrolled": true
   },
   "outputs": [
    {
     "data": {
      "text/plain": [
       "array(['Competência do TCU', 'Contrato Administrativo', 'Convênio',\n",
       "       'Desestatização', 'Direito Processual', 'Finanças Públicas',\n",
       "       'Gestão Administrativa', 'Licitação', 'Pessoal',\n",
       "       'Responsabilidade'], dtype='<U23')"
      ]
     },
     "execution_count": 3,
     "metadata": {},
     "output_type": "execute_result"
    }
   ],
   "source": [
    "from sklearn.preprocessing import LabelBinarizer\n",
    "\n",
    "areas = df.groupby(['areas']).groups.keys()\n",
    "lbArea = LabelBinarizer()\n",
    "lbArea.fit([x for x in areas])\n",
    "lbArea.classes_"
   ]
  },
  {
   "cell_type": "code",
   "execution_count": 4,
   "metadata": {},
   "outputs": [
    {
     "data": {
      "text/plain": [
       "(9739, 10)"
      ]
     },
     "execution_count": 4,
     "metadata": {},
     "output_type": "execute_result"
    }
   ],
   "source": [
    "y = lbArea.transform(df['areas'])\n",
    "y.shape"
   ]
  },
  {
   "cell_type": "code",
   "execution_count": 5,
   "metadata": {},
   "outputs": [
    {
     "name": "stderr",
     "output_type": "stream",
     "text": [
      "Using TensorFlow backend.\n"
     ]
    },
    {
     "name": "stdout",
     "output_type": "stream",
     "text": [
      "Found 32293 unique tokens.\n"
     ]
    }
   ],
   "source": [
    "from keras.preprocessing.text import Tokenizer\n",
    "import numpy as np\n",
    "\n",
    "vocabulario = 40000\n",
    "limite_texto = 500\n",
    "dim_vetor = 100\n",
    "\n",
    "tokenizer = Tokenizer(num_words=vocabulario)\n",
    "tokenizer.fit_on_texts(df['filtrado_500'])\n",
    "\n",
    "sequences = tokenizer.texts_to_sequences(df['filtrado_500'])\n",
    "\n",
    "word_index = tokenizer.word_index\n",
    "print('Found %s unique tokens.' % len(word_index))"
   ]
  },
  {
   "cell_type": "code",
   "execution_count": 6,
   "metadata": {},
   "outputs": [
    {
     "name": "stdout",
     "output_type": "stream",
     "text": [
      "Shape of data tensor: (9739, 500)\n"
     ]
    }
   ],
   "source": [
    "from keras.preprocessing.sequence import pad_sequences\n",
    "\n",
    "x = pad_sequences(sequences, maxlen=limite_texto)\n",
    "\n",
    "print('Shape of data tensor:', x.shape)"
   ]
  },
  {
   "cell_type": "code",
   "execution_count": 7,
   "metadata": {},
   "outputs": [
    {
     "data": {
      "text/plain": [
       "((9739, 500), (9739, 10))"
      ]
     },
     "execution_count": 7,
     "metadata": {},
     "output_type": "execute_result"
    }
   ],
   "source": [
    "x.shape, y.shape"
   ]
  },
  {
   "cell_type": "code",
   "execution_count": 8,
   "metadata": {},
   "outputs": [
    {
     "name": "stderr",
     "output_type": "stream",
     "text": [
      "/home/leonardo/anaconda3/envs/gpu/lib/python3.7/site-packages/smart_open/smart_open_lib.py:398: UserWarning: This function is deprecated, use smart_open.open instead. See the migration notes for details: https://github.com/RaRe-Technologies/smart_open/blob/master/README.rst#migrating-to-the-new-open-function\n",
      "  'See the migration notes for details: %s' % _MIGRATION_NOTES_URL\n"
     ]
    }
   ],
   "source": [
    "from gensim.models import Word2Vec\n",
    "\n",
    "model = Word2Vec.load('../vocabularios/modelo-acordaos.w2v')"
   ]
  },
  {
   "cell_type": "code",
   "execution_count": 9,
   "metadata": {},
   "outputs": [
    {
     "name": "stdout",
     "output_type": "stream",
     "text": [
      "Vocabulario: 32293\n",
      "Encontrados no modelo: 25160 = 77.91162171368408\n"
     ]
    },
    {
     "name": "stderr",
     "output_type": "stream",
     "text": [
      "/home/leonardo/anaconda3/envs/gpu/lib/python3.7/site-packages/ipykernel_launcher.py:7: DeprecationWarning: Call to deprecated `__contains__` (Method will be removed in 4.0.0, use self.wv.__contains__() instead).\n",
      "  import sys\n",
      "/home/leonardo/anaconda3/envs/gpu/lib/python3.7/site-packages/ipykernel_launcher.py:8: DeprecationWarning: Call to deprecated `__getitem__` (Method will be removed in 4.0.0, use self.wv.__getitem__() instead).\n",
      "  \n"
     ]
    }
   ],
   "source": [
    "# create a weight matrix for words in training docs\n",
    "\n",
    "embedding_matrix = np.zeros((vocabulario, dim_vetor))\n",
    "\n",
    "ok = 0\n",
    "for word, i in tokenizer.word_index.items():\n",
    "    if word in model:\n",
    "        embedding_matrix[i] = model[word]\n",
    "        ok += 1\n",
    "print('Vocabulario:', i)\n",
    "print('Encontrados no modelo:', ok, '=', ok * 100. / i)"
   ]
  },
  {
   "cell_type": "markdown",
   "metadata": {},
   "source": [
    "# Treinamento"
   ]
  },
  {
   "cell_type": "code",
   "execution_count": 10,
   "metadata": {
    "scrolled": false
   },
   "outputs": [
    {
     "name": "stderr",
     "output_type": "stream",
     "text": [
      "WARNING: Logging before flag parsing goes to stderr.\n",
      "W0317 14:10:38.513347 140536613009216 deprecation_wrapper.py:119] From /home/leonardo/anaconda3/envs/gpu/lib/python3.7/site-packages/keras/backend/tensorflow_backend.py:74: The name tf.get_default_graph is deprecated. Please use tf.compat.v1.get_default_graph instead.\n",
      "\n",
      "W0317 14:10:38.583054 140536613009216 deprecation_wrapper.py:119] From /home/leonardo/anaconda3/envs/gpu/lib/python3.7/site-packages/keras/backend/tensorflow_backend.py:517: The name tf.placeholder is deprecated. Please use tf.compat.v1.placeholder instead.\n",
      "\n",
      "W0317 14:10:38.584735 140536613009216 deprecation_wrapper.py:119] From /home/leonardo/anaconda3/envs/gpu/lib/python3.7/site-packages/keras/backend/tensorflow_backend.py:4138: The name tf.random_uniform is deprecated. Please use tf.random.uniform instead.\n",
      "\n",
      "W0317 14:10:38.592139 140536613009216 deprecation_wrapper.py:119] From /home/leonardo/anaconda3/envs/gpu/lib/python3.7/site-packages/keras/backend/tensorflow_backend.py:174: The name tf.get_default_session is deprecated. Please use tf.compat.v1.get_default_session instead.\n",
      "\n",
      "W0317 14:10:38.592709 140536613009216 deprecation_wrapper.py:119] From /home/leonardo/anaconda3/envs/gpu/lib/python3.7/site-packages/keras/backend/tensorflow_backend.py:181: The name tf.ConfigProto is deprecated. Please use tf.compat.v1.ConfigProto instead.\n",
      "\n",
      "W0317 14:10:39.348329 140536613009216 deprecation.py:506] From /home/leonardo/anaconda3/envs/gpu/lib/python3.7/site-packages/keras/backend/tensorflow_backend.py:3445: calling dropout (from tensorflow.python.ops.nn_ops) with keep_prob is deprecated and will be removed in a future version.\n",
      "Instructions for updating:\n",
      "Please use `rate` instead of `keep_prob`. Rate should be set to `rate = 1 - keep_prob`.\n",
      "W0317 14:10:39.456039 140536613009216 deprecation_wrapper.py:119] From /home/leonardo/anaconda3/envs/gpu/lib/python3.7/site-packages/keras/optimizers.py:790: The name tf.train.Optimizer is deprecated. Please use tf.compat.v1.train.Optimizer instead.\n",
      "\n",
      "W0317 14:10:39.560124 140536613009216 deprecation.py:323] From /home/leonardo/anaconda3/envs/gpu/lib/python3.7/site-packages/tensorflow/python/ops/math_grad.py:1250: add_dispatch_support.<locals>.wrapper (from tensorflow.python.ops.array_ops) is deprecated and will be removed in a future version.\n",
      "Instructions for updating:\n",
      "Use tf.where in 2.0, which has the same broadcast rule as np.where\n"
     ]
    },
    {
     "name": "stdout",
     "output_type": "stream",
     "text": [
      "_________________________________________________________________\n",
      "Layer (type)                 Output Shape              Param #   \n",
      "=================================================================\n",
      "embedding_1 (Embedding)      (None, 500, 100)          4000000   \n",
      "_________________________________________________________________\n",
      "simple_rnn_1 (SimpleRNN)     (None, 256)               91392     \n",
      "_________________________________________________________________\n",
      "dense_1 (Dense)              (None, 10)                2570      \n",
      "=================================================================\n",
      "Total params: 4,093,962\n",
      "Trainable params: 4,093,962\n",
      "Non-trainable params: 0\n",
      "_________________________________________________________________\n",
      "Train on 7791 samples, validate on 1948 samples\n",
      "Epoch 1/20\n",
      "7791/7791 [==============================] - 49s 6ms/step - loss: 1.6710 - categorical_accuracy: 0.4495 - val_loss: 1.7984 - val_categorical_accuracy: 0.4020\n",
      "Epoch 2/20\n",
      "7791/7791 [==============================] - 49s 6ms/step - loss: 1.4077 - categorical_accuracy: 0.5365 - val_loss: 1.6061 - val_categorical_accuracy: 0.4456\n",
      "Epoch 3/20\n",
      "7791/7791 [==============================] - 49s 6ms/step - loss: 1.3292 - categorical_accuracy: 0.5610 - val_loss: 1.6236 - val_categorical_accuracy: 0.4189\n",
      "Epoch 4/20\n",
      "7791/7791 [==============================] - 49s 6ms/step - loss: 1.3030 - categorical_accuracy: 0.5745 - val_loss: 1.4680 - val_categorical_accuracy: 0.5272\n",
      "Epoch 5/20\n",
      "7791/7791 [==============================] - 49s 6ms/step - loss: 1.2454 - categorical_accuracy: 0.5858 - val_loss: 1.4359 - val_categorical_accuracy: 0.5205\n",
      "Epoch 6/20\n",
      "7791/7791 [==============================] - 49s 6ms/step - loss: 1.2054 - categorical_accuracy: 0.6024 - val_loss: 1.4713 - val_categorical_accuracy: 0.5062\n",
      "Epoch 7/20\n",
      "7791/7791 [==============================] - 49s 6ms/step - loss: 1.1801 - categorical_accuracy: 0.6111 - val_loss: 1.4472 - val_categorical_accuracy: 0.4969\n",
      "Epoch 8/20\n",
      "7791/7791 [==============================] - 49s 6ms/step - loss: 1.1481 - categorical_accuracy: 0.6181 - val_loss: 1.3683 - val_categorical_accuracy: 0.5406\n",
      "Epoch 9/20\n",
      "7791/7791 [==============================] - 49s 6ms/step - loss: 1.1496 - categorical_accuracy: 0.6148 - val_loss: 1.3835 - val_categorical_accuracy: 0.5585\n",
      "Epoch 10/20\n",
      "7791/7791 [==============================] - 49s 6ms/step - loss: 1.1302 - categorical_accuracy: 0.6214 - val_loss: 1.4620 - val_categorical_accuracy: 0.5051\n",
      "Epoch 11/20\n",
      "7791/7791 [==============================] - 49s 6ms/step - loss: 1.1115 - categorical_accuracy: 0.6302 - val_loss: 1.4414 - val_categorical_accuracy: 0.5200\n",
      "Epoch 12/20\n",
      "7791/7791 [==============================] - 49s 6ms/step - loss: 1.1111 - categorical_accuracy: 0.6262 - val_loss: 1.4598 - val_categorical_accuracy: 0.4954\n",
      "Epoch 13/20\n",
      "7791/7791 [==============================] - 49s 6ms/step - loss: 1.0894 - categorical_accuracy: 0.6377 - val_loss: 1.4643 - val_categorical_accuracy: 0.5103\n",
      "Epoch 14/20\n",
      "7791/7791 [==============================] - 49s 6ms/step - loss: 1.0958 - categorical_accuracy: 0.6324 - val_loss: 1.4357 - val_categorical_accuracy: 0.5103\n",
      "Epoch 15/20\n",
      "7791/7791 [==============================] - 49s 6ms/step - loss: 1.0891 - categorical_accuracy: 0.6316 - val_loss: 1.3408 - val_categorical_accuracy: 0.5621\n",
      "Epoch 16/20\n",
      "7791/7791 [==============================] - 49s 6ms/step - loss: 1.0410 - categorical_accuracy: 0.6500 - val_loss: 1.4058 - val_categorical_accuracy: 0.5221\n",
      "Epoch 17/20\n",
      "7791/7791 [==============================] - 49s 6ms/step - loss: 1.0324 - categorical_accuracy: 0.6528 - val_loss: 1.4456 - val_categorical_accuracy: 0.5139\n",
      "Epoch 18/20\n",
      "7791/7791 [==============================] - 50s 6ms/step - loss: 1.0174 - categorical_accuracy: 0.6550 - val_loss: 1.4799 - val_categorical_accuracy: 0.5072\n",
      "Epoch 19/20\n",
      "7791/7791 [==============================] - 49s 6ms/step - loss: 1.0004 - categorical_accuracy: 0.6595 - val_loss: 1.3989 - val_categorical_accuracy: 0.5483\n",
      "Epoch 20/20\n",
      "7791/7791 [==============================] - 49s 6ms/step - loss: 0.9909 - categorical_accuracy: 0.6656 - val_loss: 1.3721 - val_categorical_accuracy: 0.5472\n"
     ]
    }
   ],
   "source": [
    "from keras.models import Sequential\n",
    "from keras.layers import SimpleRNN, GRU, Dense, Embedding\n",
    "from keras.optimizers import RMSprop\n",
    "\n",
    "model = Sequential()\n",
    "model.add(Embedding(vocabulario, dim_vetor, weights=[embedding_matrix], input_length=limite_texto, trainable=True))\n",
    "model.add(SimpleRNN(256, dropout=0.2, recurrent_dropout=0.2))\n",
    "model.add(Dense(y.shape[1], activation='softmax'))\n",
    "model.compile(loss='categorical_crossentropy', optimizer=RMSprop(),  metrics=[\"categorical_accuracy\"])\n",
    "model.summary()\n",
    "history = model.fit(x, y, epochs=20, batch_size=32, validation_split=0.2, verbose=1, shuffle=True)"
   ]
  },
  {
   "cell_type": "code",
   "execution_count": 11,
   "metadata": {},
   "outputs": [
    {
     "name": "stdout",
     "output_type": "stream",
     "text": [
      "_________________________________________________________________\n",
      "Layer (type)                 Output Shape              Param #   \n",
      "=================================================================\n",
      "embedding_2 (Embedding)      (None, 500, 100)          4000000   \n",
      "_________________________________________________________________\n",
      "gru_1 (GRU)                  (None, 256)               274176    \n",
      "_________________________________________________________________\n",
      "dense_2 (Dense)              (None, 10)                2570      \n",
      "=================================================================\n",
      "Total params: 4,276,746\n",
      "Trainable params: 276,746\n",
      "Non-trainable params: 4,000,000\n",
      "_________________________________________________________________\n",
      "Train on 7791 samples, validate on 1948 samples\n",
      "Epoch 1/20\n",
      "7791/7791 [==============================] - 107s 14ms/step - loss: 1.2704 - categorical_accuracy: 0.5771 - val_loss: 1.3766 - val_categorical_accuracy: 0.5118\n",
      "Epoch 2/20\n",
      "7791/7791 [==============================] - 107s 14ms/step - loss: 0.9906 - categorical_accuracy: 0.6682 - val_loss: 1.1892 - val_categorical_accuracy: 0.5950\n",
      "Epoch 3/20\n",
      "7791/7791 [==============================] - 107s 14ms/step - loss: 0.8898 - categorical_accuracy: 0.6955 - val_loss: 1.1140 - val_categorical_accuracy: 0.6335\n",
      "Epoch 4/20\n",
      "7791/7791 [==============================] - 107s 14ms/step - loss: 0.8153 - categorical_accuracy: 0.7193 - val_loss: 1.1966 - val_categorical_accuracy: 0.5950\n",
      "Epoch 5/20\n",
      "7791/7791 [==============================] - 107s 14ms/step - loss: 0.7521 - categorical_accuracy: 0.7418 - val_loss: 1.2960 - val_categorical_accuracy: 0.5621\n",
      "Epoch 6/20\n",
      "7791/7791 [==============================] - 107s 14ms/step - loss: 0.6958 - categorical_accuracy: 0.7602 - val_loss: 1.3120 - val_categorical_accuracy: 0.5411\n",
      "Epoch 7/20\n",
      "7791/7791 [==============================] - 107s 14ms/step - loss: 0.6380 - categorical_accuracy: 0.7794 - val_loss: 1.2472 - val_categorical_accuracy: 0.5698\n",
      "Epoch 8/20\n",
      "7791/7791 [==============================] - 107s 14ms/step - loss: 0.5851 - categorical_accuracy: 0.7985 - val_loss: 1.2503 - val_categorical_accuracy: 0.5980\n",
      "Epoch 9/20\n",
      "7791/7791 [==============================] - 107s 14ms/step - loss: 0.5536 - categorical_accuracy: 0.8050 - val_loss: 1.2508 - val_categorical_accuracy: 0.6011\n",
      "Epoch 10/20\n",
      "7791/7791 [==============================] - 107s 14ms/step - loss: 0.5062 - categorical_accuracy: 0.8240 - val_loss: 1.4839 - val_categorical_accuracy: 0.5390\n",
      "Epoch 11/20\n",
      "7791/7791 [==============================] - 107s 14ms/step - loss: 0.4567 - categorical_accuracy: 0.8416 - val_loss: 1.3110 - val_categorical_accuracy: 0.6099\n",
      "Epoch 12/20\n",
      "7791/7791 [==============================] - 107s 14ms/step - loss: 0.4281 - categorical_accuracy: 0.8529 - val_loss: 1.3409 - val_categorical_accuracy: 0.6032\n",
      "Epoch 13/20\n",
      "7791/7791 [==============================] - 107s 14ms/step - loss: 0.3790 - categorical_accuracy: 0.8692 - val_loss: 1.3829 - val_categorical_accuracy: 0.5878\n",
      "Epoch 14/20\n",
      "7791/7791 [==============================] - 107s 14ms/step - loss: 0.3578 - categorical_accuracy: 0.8764 - val_loss: 1.4430 - val_categorical_accuracy: 0.5945\n",
      "Epoch 15/20\n",
      "7791/7791 [==============================] - 107s 14ms/step - loss: 0.3374 - categorical_accuracy: 0.8778 - val_loss: 1.5096 - val_categorical_accuracy: 0.5914\n",
      "Epoch 16/20\n",
      "7791/7791 [==============================] - 108s 14ms/step - loss: 0.3051 - categorical_accuracy: 0.8942 - val_loss: 1.5004 - val_categorical_accuracy: 0.6160\n",
      "Epoch 17/20\n",
      "7791/7791 [==============================] - 110s 14ms/step - loss: 0.2881 - categorical_accuracy: 0.9023 - val_loss: 1.6196 - val_categorical_accuracy: 0.5811\n",
      "Epoch 18/20\n",
      "7791/7791 [==============================] - 117s 15ms/step - loss: 0.2845 - categorical_accuracy: 0.9068 - val_loss: 1.5885 - val_categorical_accuracy: 0.5857\n",
      "Epoch 19/20\n",
      "7791/7791 [==============================] - 109s 14ms/step - loss: 0.2653 - categorical_accuracy: 0.9108 - val_loss: 1.6167 - val_categorical_accuracy: 0.5939\n",
      "Epoch 20/20\n",
      "7791/7791 [==============================] - 109s 14ms/step - loss: 0.2516 - categorical_accuracy: 0.9118 - val_loss: 1.7077 - val_categorical_accuracy: 0.5693\n"
     ]
    }
   ],
   "source": [
    "from keras.models import Sequential\n",
    "from keras.layers import SimpleRNN, GRU, Dense, Embedding\n",
    "from keras.optimizers import RMSprop\n",
    "\n",
    "model = Sequential()\n",
    "model.add(Embedding(vocabulario, dim_vetor, weights=[embedding_matrix], input_length=limite_texto, trainable=False))\n",
    "model.add(GRU(256, dropout=0.2, recurrent_dropout=0.2))\n",
    "model.add(Dense(y.shape[1], activation='softmax'))\n",
    "model.compile(loss='categorical_crossentropy', optimizer=RMSprop(),  metrics=[\"categorical_accuracy\"])\n",
    "model.summary()\n",
    "\n",
    "history = model.fit(x, y, epochs=20, batch_size=32, validation_split=0.2, verbose=1, shuffle=True)"
   ]
  },
  {
   "cell_type": "code",
   "execution_count": 12,
   "metadata": {},
   "outputs": [
    {
     "name": "stdout",
     "output_type": "stream",
     "text": [
      "_________________________________________________________________\n",
      "Layer (type)                 Output Shape              Param #   \n",
      "=================================================================\n",
      "embedding_3 (Embedding)      (None, 500, 100)          4000000   \n",
      "_________________________________________________________________\n",
      "gru_2 (GRU)                  (None, 256)               274176    \n",
      "_________________________________________________________________\n",
      "dense_3 (Dense)              (None, 10)                2570      \n",
      "=================================================================\n",
      "Total params: 4,276,746\n",
      "Trainable params: 4,276,746\n",
      "Non-trainable params: 0\n",
      "_________________________________________________________________\n",
      "Train on 7791 samples, validate on 1948 samples\n",
      "Epoch 1/20\n",
      "7791/7791 [==============================] - 121s 16ms/step - loss: 1.2767 - categorical_accuracy: 0.5727 - val_loss: 1.3606 - val_categorical_accuracy: 0.5657\n",
      "Epoch 2/20\n",
      "7791/7791 [==============================] - 120s 15ms/step - loss: 0.9752 - categorical_accuracy: 0.6700 - val_loss: 1.2910 - val_categorical_accuracy: 0.5683\n",
      "Epoch 3/20\n",
      "7791/7791 [==============================] - 120s 15ms/step - loss: 0.8625 - categorical_accuracy: 0.7032 - val_loss: 1.1361 - val_categorical_accuracy: 0.6278\n",
      "Epoch 4/20\n",
      "7791/7791 [==============================] - 120s 15ms/step - loss: 0.7923 - categorical_accuracy: 0.7285 - val_loss: 1.1602 - val_categorical_accuracy: 0.6191\n",
      "Epoch 5/20\n",
      "7791/7791 [==============================] - 120s 15ms/step - loss: 0.7263 - categorical_accuracy: 0.7482 - val_loss: 1.2505 - val_categorical_accuracy: 0.5821\n",
      "Epoch 6/20\n",
      "7791/7791 [==============================] - 120s 15ms/step - loss: 0.6594 - categorical_accuracy: 0.7714 - val_loss: 1.2537 - val_categorical_accuracy: 0.5945\n",
      "Epoch 7/20\n",
      "7791/7791 [==============================] - 120s 15ms/step - loss: 0.6009 - categorical_accuracy: 0.7904 - val_loss: 1.2497 - val_categorical_accuracy: 0.5950\n",
      "Epoch 8/20\n",
      "7791/7791 [==============================] - 120s 15ms/step - loss: 0.5437 - categorical_accuracy: 0.8130 - val_loss: 1.2937 - val_categorical_accuracy: 0.5826\n",
      "Epoch 9/20\n",
      "7791/7791 [==============================] - 120s 15ms/step - loss: 0.5038 - categorical_accuracy: 0.8253 - val_loss: 1.4297 - val_categorical_accuracy: 0.5380\n",
      "Epoch 10/20\n",
      "7791/7791 [==============================] - 120s 15ms/step - loss: 0.4544 - categorical_accuracy: 0.8401 - val_loss: 1.3946 - val_categorical_accuracy: 0.5811\n",
      "Epoch 11/20\n",
      "7791/7791 [==============================] - 120s 15ms/step - loss: 0.3985 - categorical_accuracy: 0.8625 - val_loss: 1.4680 - val_categorical_accuracy: 0.5703\n",
      "Epoch 12/20\n",
      "7791/7791 [==============================] - 120s 15ms/step - loss: 0.3619 - categorical_accuracy: 0.8701 - val_loss: 1.4325 - val_categorical_accuracy: 0.5965\n",
      "Epoch 13/20\n",
      "7791/7791 [==============================] - 120s 15ms/step - loss: 0.3313 - categorical_accuracy: 0.8826 - val_loss: 1.5262 - val_categorical_accuracy: 0.5852\n",
      "Epoch 14/20\n",
      "7791/7791 [==============================] - 120s 15ms/step - loss: 0.3071 - categorical_accuracy: 0.8960 - val_loss: 1.5943 - val_categorical_accuracy: 0.5847\n",
      "Epoch 15/20\n",
      "7791/7791 [==============================] - 120s 15ms/step - loss: 0.2743 - categorical_accuracy: 0.9067 - val_loss: 1.5918 - val_categorical_accuracy: 0.5821\n",
      "Epoch 16/20\n",
      "7791/7791 [==============================] - 120s 15ms/step - loss: 0.2428 - categorical_accuracy: 0.9202 - val_loss: 1.6057 - val_categorical_accuracy: 0.6088\n",
      "Epoch 17/20\n",
      "7791/7791 [==============================] - 120s 15ms/step - loss: 0.2297 - categorical_accuracy: 0.9221 - val_loss: 1.8016 - val_categorical_accuracy: 0.5652\n",
      "Epoch 18/20\n",
      "7791/7791 [==============================] - 120s 15ms/step - loss: 0.2262 - categorical_accuracy: 0.9217 - val_loss: 1.7255 - val_categorical_accuracy: 0.5893\n",
      "Epoch 19/20\n",
      "7791/7791 [==============================] - 120s 15ms/step - loss: 0.1984 - categorical_accuracy: 0.9313 - val_loss: 1.8374 - val_categorical_accuracy: 0.5785\n",
      "Epoch 20/20\n",
      "7791/7791 [==============================] - 125s 16ms/step - loss: 0.1934 - categorical_accuracy: 0.9327 - val_loss: 1.8596 - val_categorical_accuracy: 0.5806\n"
     ]
    }
   ],
   "source": [
    "from keras.models import Sequential\n",
    "from keras.layers import SimpleRNN, GRU, Dense, Embedding\n",
    "from keras.optimizers import RMSprop\n",
    "\n",
    "model = Sequential()\n",
    "model.add(Embedding(vocabulario, dim_vetor, weights=[embedding_matrix], input_length=limite_texto, trainable=True))\n",
    "model.add(GRU(256, dropout=0.2, recurrent_dropout=0.2))\n",
    "model.add(Dense(y.shape[1], activation='softmax'))\n",
    "model.compile(loss='categorical_crossentropy', optimizer=RMSprop(),  metrics=[\"categorical_accuracy\"])\n",
    "model.summary()\n",
    "\n",
    "history = model.fit(x, y, epochs=20, batch_size=32, validation_split=0.2, verbose=1, shuffle=True)"
   ]
  },
  {
   "cell_type": "code",
   "execution_count": null,
   "metadata": {},
   "outputs": [],
   "source": []
  }
 ],
 "metadata": {
  "kernelspec": {
   "display_name": "Python 3",
   "language": "python",
   "name": "python3"
  },
  "language_info": {
   "codemirror_mode": {
    "name": "ipython",
    "version": 3
   },
   "file_extension": ".py",
   "mimetype": "text/x-python",
   "name": "python",
   "nbconvert_exporter": "python",
   "pygments_lexer": "ipython3",
   "version": "3.7.4"
  }
 },
 "nbformat": 4,
 "nbformat_minor": 2
}
