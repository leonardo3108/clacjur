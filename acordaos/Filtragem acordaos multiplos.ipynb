{
 "cells": [
  {
   "cell_type": "code",
   "execution_count": 1,
   "metadata": {},
   "outputs": [
    {
     "name": "stderr",
     "output_type": "stream",
     "text": [
      "[nltk_data] Downloading package stopwords to\n",
      "[nltk_data]     /home/leonardo/nltk_data...\n",
      "[nltk_data]   Package stopwords is already up-to-date!\n"
     ]
    },
    {
     "data": {
      "text/plain": [
       "True"
      ]
     },
     "execution_count": 1,
     "metadata": {},
     "output_type": "execute_result"
    }
   ],
   "source": [
    "import nltk\n",
    "\n",
    "nltk.download('stopwords')"
   ]
  },
  {
   "cell_type": "code",
   "execution_count": 2,
   "metadata": {},
   "outputs": [
    {
     "data": {
      "text/html": [
       "<div>\n",
       "<style scoped>\n",
       "    .dataframe tbody tr th:only-of-type {\n",
       "        vertical-align: middle;\n",
       "    }\n",
       "\n",
       "    .dataframe tbody tr th {\n",
       "        vertical-align: top;\n",
       "    }\n",
       "\n",
       "    .dataframe thead th {\n",
       "        text-align: right;\n",
       "    }\n",
       "</style>\n",
       "<table border=\"1\" class=\"dataframe\">\n",
       "  <thead>\n",
       "    <tr style=\"text-align: right;\">\n",
       "      <th></th>\n",
       "      <th>acordao</th>\n",
       "      <th>areas</th>\n",
       "      <th>texto_lematizado</th>\n",
       "    </tr>\n",
       "  </thead>\n",
       "  <tbody>\n",
       "    <tr>\n",
       "      <th>0</th>\n",
       "      <td>297/2016-P</td>\n",
       "      <td>Responsabilidade</td>\n",
       "      <td>tribunal de conta de o união tc XXNUMERACAO\\r\\...</td>\n",
       "    </tr>\n",
       "    <tr>\n",
       "      <th>1</th>\n",
       "      <td>366/2016-P</td>\n",
       "      <td>Finanças Públicas</td>\n",
       "      <td>tribunal de conta de o união tc XXNUMERACAO\\r\\...</td>\n",
       "    </tr>\n",
       "    <tr>\n",
       "      <th>2</th>\n",
       "      <td>944/2016-P</td>\n",
       "      <td>Responsabilidade</td>\n",
       "      <td>tribunal de conta de o união tc XXNUMERACAO\\r\\...</td>\n",
       "    </tr>\n",
       "    <tr>\n",
       "      <th>3</th>\n",
       "      <td>30/2016-P</td>\n",
       "      <td>Direito Processual</td>\n",
       "      <td>tribunal de conta de o união tc XXNUMERACAO\\r\\...</td>\n",
       "    </tr>\n",
       "    <tr>\n",
       "      <th>4</th>\n",
       "      <td>55/2016-P</td>\n",
       "      <td>Pessoal</td>\n",
       "      <td>; - ; ; wania lucia pasquarelli de o nasciment...</td>\n",
       "    </tr>\n",
       "  </tbody>\n",
       "</table>\n",
       "</div>"
      ],
      "text/plain": [
       "      acordao               areas  \\\n",
       "0  297/2016-P    Responsabilidade   \n",
       "1  366/2016-P   Finanças Públicas   \n",
       "2  944/2016-P    Responsabilidade   \n",
       "3   30/2016-P  Direito Processual   \n",
       "4   55/2016-P             Pessoal   \n",
       "\n",
       "                                    texto_lematizado  \n",
       "0  tribunal de conta de o união tc XXNUMERACAO\\r\\...  \n",
       "1  tribunal de conta de o união tc XXNUMERACAO\\r\\...  \n",
       "2  tribunal de conta de o união tc XXNUMERACAO\\r\\...  \n",
       "3  tribunal de conta de o união tc XXNUMERACAO\\r\\...  \n",
       "4  ; - ; ; wania lucia pasquarelli de o nasciment...  "
      ]
     },
     "execution_count": 2,
     "metadata": {},
     "output_type": "execute_result"
    }
   ],
   "source": [
    "import pandas as pd\n",
    "\n",
    "df = pd.read_csv('../dados/acordaos-selecionada-lematizados.csv', sep = '|', encoding = 'utf-8')\n",
    "df.head()"
   ]
  },
  {
   "cell_type": "code",
   "execution_count": 3,
   "metadata": {},
   "outputs": [
    {
     "data": {
      "text/plain": [
       "(10524, 3)"
      ]
     },
     "execution_count": 3,
     "metadata": {},
     "output_type": "execute_result"
    }
   ],
   "source": [
    "df.shape"
   ]
  },
  {
   "cell_type": "code",
   "execution_count": 4,
   "metadata": {},
   "outputs": [
    {
     "name": "stdout",
     "output_type": "stream",
     "text": [
      "151719 termos distintos\n"
     ]
    }
   ],
   "source": [
    "from sklearn.feature_extraction.text import TfidfVectorizer\n",
    "from nltk.corpus import stopwords \n",
    "\n",
    "textos = df['texto_lematizado'].values\n",
    "vetorizador = TfidfVectorizer(stop_words = stopwords.words('portuguese'))  #token_pattern=r'\\S+', \n",
    "vetorizador.fit(textos)\n",
    "print(len(vetorizador.vocabulary_), 'termos distintos')"
   ]
  },
  {
   "cell_type": "code",
   "execution_count": 5,
   "metadata": {},
   "outputs": [
    {
     "data": {
      "text/plain": [
       "<1x151719 sparse matrix of type '<class 'numpy.float64'>'\n",
       "\twith 607 stored elements in Compressed Sparse Row format>"
      ]
     },
     "execution_count": 5,
     "metadata": {},
     "output_type": "execute_result"
    }
   ],
   "source": [
    "matriz = vetorizador.transform(textos)\n",
    "matriz[0]"
   ]
  },
  {
   "cell_type": "code",
   "execution_count": 6,
   "metadata": {},
   "outputs": [],
   "source": [
    "def extrair_tfidf(documento):\n",
    "    indices = []\n",
    "    acordao = []\n",
    "    tf_idf = []\n",
    "    for termo in textos[documento].split():\n",
    "        if termo in vetorizador.vocabulary_:\n",
    "            indice = vetorizador.vocabulary_[termo]\n",
    "            indices.append(indice)\n",
    "            acordao.append(termo)\n",
    "            tf_idf.append(matriz[documento,indice])\n",
    "    return acordao, indices, tf_idf"
   ]
  },
  {
   "cell_type": "code",
   "execution_count": 9,
   "metadata": {},
   "outputs": [
    {
     "data": {
      "text/plain": [
       "4225"
      ]
     },
     "execution_count": 9,
     "metadata": {},
     "output_type": "execute_result"
    }
   ],
   "source": [
    "def extrair_tamanho(documento):\n",
    "    qtde = 0\n",
    "    for termo in textos[documento].split():\n",
    "        if termo in vetorizador.vocabulary_:\n",
    "            qtde += 1\n",
    "    return qtde\n",
    "extrair_tamanho(9000)"
   ]
  },
  {
   "cell_type": "code",
   "execution_count": 10,
   "metadata": {},
   "outputs": [
    {
     "data": {
      "text/plain": [
       "count     10524.000000\n",
       "mean       5215.540954\n",
       "std       10217.056045\n",
       "min         283.000000\n",
       "25%        1847.000000\n",
       "50%        3234.000000\n",
       "75%        5989.500000\n",
       "max      604173.000000\n",
       "Name: tamanho, dtype: float64"
      ]
     },
     "execution_count": 10,
     "metadata": {},
     "output_type": "execute_result"
    }
   ],
   "source": [
    "for doc in range(0, len(textos)):\n",
    "    df.loc[doc, 'tamanho'] = extrair_tamanho(doc)\n",
    "df['tamanho'].describe()"
   ]
  },
  {
   "cell_type": "code",
   "execution_count": 11,
   "metadata": {},
   "outputs": [
    {
     "data": {
      "text/plain": [
       "(10753.7, 15246.80000000001, 29011.620000000046)"
      ]
     },
     "execution_count": 11,
     "metadata": {},
     "output_type": "execute_result"
    }
   ],
   "source": [
    "import numpy as np\n",
    "\n",
    "np.percentile(df['tamanho'], 90), np.percentile(df['tamanho'], 95), np.percentile(df['tamanho'], 99)"
   ]
  },
  {
   "cell_type": "code",
   "execution_count": 12,
   "metadata": {
    "scrolled": true
   },
   "outputs": [
    {
     "data": {
      "text/plain": [
       "'órgão agência nacional transporte terrestre giovani machado gonçalves agência nacional transporte terrestre agência nacional transporte terrestre agência nacional transporte terrestre giovani machado gonçalves servir antt ceder tce desconto valor antt ser giovani machado gonçalves agência nacional transporte terrestre antt giovani machado gonçalves servir giovani machado gonçalves valor mpog antt período ceder goiás agência nacional transporte terrestre servir giovani machado gonçalves período ceder goiás agência nacional transporte terrestre goiás giovani machado gonçalves agência nacional transporte terrestre antt giovani machado gonçalves agência nacional transporte terrestre antt desconto contracheques servir giovani machado gonçalves desconto valor ser reembolsar antt goiás tce período servir giovani machado gonçalves ceder agência órgão valor descontar antt contracheques servir giovani machado gonçalves tce período ceder agência órgão ser antt tce valor reembolsar agência período servir giovani machado gonçalves ceder órgão ser giovani machado gonçalves servir valor descontar contracheques período ceder antt tce mpog valor ser reembolsar nacional goiás tce período servir giovani machado gonçalves ceder mpog órgão valor descontar antt contracheques servir giovani machado gonçalves nacional tce período ceder mpog órgão ser tce valor reembolsar nacional período servir giovani machado gonçalves ceder mpog órgão ser giovani machado gonçalves servir valor descontar contracheques período ceder mpog tce transporte órgão nacional dner valor ser reembolsar nacional goiás tce período servir giovani machado gonçalves ceder dner órgão tce valor reembolsar nacional período servir giovani machado gonçalves ceder dner órgão mpog agência nacional transporte terrestre antt tce giovani machado gonçalves desconto contracheques órgão transporte agência nacional transporte terrestre goiás giovani machado gonçalves agência nacional transporte terrestre antt giovani machado gonçalves servir período ceder goiás tce órgão ceder cessionário servir nacional transporte mpog agência nacional transporte terrestre antt valor ser servir giovani machado gonçalves servir giovani machado gonçalves ser antt agência desconto servir desconto giovani machado gonçalves antt servir giovani machado gonçalves agência nacional transporte terrestre antt giovani antt ser valor antt valor valor servir órgão órgão ser valor goiás servir ser valor valor descontar servir desconto servir antt valor descontar órgão giovani machado gonçalves período ceder goiás cedente cessionário servir servir órgão servir ser ceder órgão ser órgão ser órgão cedente servir órgão cessionário órgão cedente ser servir órgão ser valor servir ser servir desconto ser ser antt ser ser antt órgão servir giovani machado gonçalves nacional dner período período agência nacional transporte terrestre antt período goiás período servir órgão giovani machado gonçalves ceder órgão dner mpog antt goiás servir ceder órgão órgão cedente servir ceder ser órgão servir ceder órgão cessionário reembolsar valor cedente servir órgão cedente cessionário valor servir ceder cedente cessionário valor servir ceder servir ser servir ser ceder órgão goiás órgão ceder dner mpog antt cessionário órgão órgão cessionário goiás valor servir ceder servir ser órgão cedente servir servir ceder valor valor ser órgão ceder período ceder goiás antt goiás servir giovani machado gonçalves período ceder goiás antt agência nacional transporte terrestre antt giovani machado gonçalves agência nacional transporte terrestre antt desconto contracheques servir giovani machado gonçalves desconto valor ser reembolsar antt goiás tce período servir giovani machado gonçalves ceder agência órgão valor descontar antt contracheques servir giovani machado gonçalves tce período ceder agência órgão ser antt tce valor reembolsar agência período servir giovani machado gonçalves ceder órgão ser giovani machado gonçalves servir valor descontar contracheques período ceder antt tce mpog valor ser reembolsar nacional goiás tce período servir giovani machado gonçalves ceder mpog órgão valor descontar antt contracheques servir giovani machado gonçalves nacional tce período ceder mpog órgão ser tce valor reembolsar nacional período servir giovani machado gonçalves ceder mpog órgão ser giovani machado gonçalves servir valor descontar contracheques período ceder mpog tce transporte órgão nacional dner valor ser reembolsar nacional goiás tce período servir giovani machado gonçalves ceder dner órgão tce valor reembolsar nacional período servir giovani machado gonçalves ceder dner órgão mpog agência nacional transporte terrestre antt tce giovani machado gonçalves desconto contracheques órgão transporte agência nacional transporte terrestre goiás giovani machado gonçalves órgão servir período ceder tce órgão cessionário ser servir ser ser órgão ceder servir período ceder tce órgão cedente valor servir período ceder tce órgão cessionário antt órgão cedente desconto servir descontar servir antt período mpog nacional antt tce servir servir nacional servir ser reembolsar dner mpog antt servir descontar servir valor antt servir agência valor servir tce servir antt desconto ser antt ser antt valor ser reembolsar tce tce servir descontar servir tce ser reembolsar servir desconto tce valor descontar servir órgão mpog valor ser reembolsar tce período giovani machado gonçalves ceder mpog valor ser reembolsar tce valor descontar servir antt valor tce servir ser reembolsar órgão cessionário período giovani machado gonçalves dner transporte órgão órgão desconto servir período dner transporte giovani machado gonçalves ceder tce órgão servir tce reembolsar desconto valor descontar valor ser órgão cedente servir tce ser valor servir giovani machado gonçalves ser valor ser órgão valor servir órgão antt ser valor tce antt antt valor descontar servir antt desconto valor servir servir ceder valor período ceder goiás antt valor servir goiás desconto ser contracheques servir valor descontar ser órgão cedente cessionário ser ser servir desconto ser antt valor descontar antt descontar ser órgão ceder dner mpog antt cessionário tce ser valor descontar ser nacional transporte agência nacional transporte terrestre antt antt antt desconto servir giovani machado gonçalves antt agência nacional transporte terrestre órgão agência nacional transporte terrestre nacional servir ser antt servir ser antt tce servir servir nacional servir ser reembolsar dner mpog antt servir descontar servir valor antt servir agência valor descontar antt antt servir desconto desconto antt órgão ceder cessionário valor descontar servir ceder ser ser ser ser ser ser ser ser desconto desconto valor descontar servir ser ser agência nacional transporte terrestre giovani machado gonçalves giovani machado gonçalves órgão agência nacional transporte terrestre agência nacional transporte terrestre agência nacional transporte terrestre giovani machado gonçalves órgão'"
      ]
     },
     "execution_count": 12,
     "metadata": {},
     "output_type": "execute_result"
    }
   ],
   "source": [
    "def filtrar_texto(acordao, tf_idf, maximo):\n",
    "    derivado = ''\n",
    "    original = len(tf_idf)\n",
    "    if maximo >= original:\n",
    "        minimo = 0\n",
    "    else:\n",
    "        minimo = np.percentile(tf_idf,100-100*maximo/original)\n",
    "    for indice, valor in enumerate(tf_idf):\n",
    "        if valor > minimo:\n",
    "            derivado += acordao[indice] + ' '\n",
    "    return derivado[:-1]\n",
    "filtrar_texto(acordao, tf_idf, 1000)"
   ]
  },
  {
   "cell_type": "code",
   "execution_count": 13,
   "metadata": {},
   "outputs": [
    {
     "data": {
      "text/plain": [
       "'tribunal conta união tc grupo classe tc natureza representação pedir reexame órgão entidade agência nacional transporte terrestre responsável giovani machado gonçalves interessar agência nacional transporte terrestre representação legal renata amar ferreira outro representar agência nacional transporte terrestre agência nacional transporte terrestre victor aguiar jardim amorim oab df outro representar giovani machado gonçalves sumário representação percepção indevido remuneração servir antt ceder tce determinação desconto valor perceber indevido âmbito processo administrativo disciplinar instaurar antt incompetência tcu apreciar legitimidade ato praticar âmbito processo administrativo disciplinar incompetência tcu tutela interesse privado ausência interesse recursal conhecer relatório adotar relatório manifestação unidade técnico cujo termo ser seguinte di histórico processual tratar pedido reexame interpor senhor giovani machado gonçalves peça através insurgir contra acórdão peça modificar acórdão peça transcrever seguir acórdão ver relatar discutir auto representação apresentar presidente comissão processo disciplinar agência nacional transporte terrestre antt comunicar percepção indevido remunerar giovani machado gonçalves servir entidade acordar ministro tribunal conta união reunir sessão ante razão expor relator fundamento artigo incisar incisar parágrafo reger interno aditar acórdão acolher contrarrazões ofertar giovani machado gonçalves exclusivo concernir regularidade valor perceber dnit mpog antt título remuneração período estar ceder tribunal conta estado goiás determinar agência nacional transporte terrestre adotar providência necessário obter ressarcimento importância despender servir giovani machado gonçalves período estar ceder tribunal conta estado goiás instaurar tomada conta especial desfavor dirigente indicar artigo parágrafo decreto necessário determinar monitoramento cumprimento acórdão deliberar encaminhar cópia acórdão assim relatório votar fundamentar agência nacional transporte terrestre tribunal conta estado goiás giovani machado gonçalves acórdão ver relatar discutir auto embargo declaração opor agência nacional transporte terrestre antt giovani machado gonçalves ambos contra acórdão acordar ministro tribunal conta união reunir sessão ante razão expor relator fundamento artigo incisar lei conhecer embargo declaração interposto mérito considerar lo parcial proceder considerar insubsistente item acórdão determinar agência nacional transporte terrestre antt suspender desconto efetuar direto contracheques servir giovani machado gonçalves permanecer válido desconto anterior efetuar instaurar processo administrativo vista proceder encontro seguinte conta valor ser reembolsar cofre antt tribunal conta estado goiás tce correspondente período servir giovani machado gonçalves encontrar ceder agência regulador órgão estadual valor descontar antt direto contracheques servir giovani machado gonçalves título reembolso devido cofre autarquia público federal referente pagar direto realizar tce go funcionário público período encontrar ceder agência regulador órgão estadual fazer encontro conta mencionar subitem acórdão adotar seguinte providência caso resultado ser favorável cofre antt providenciar junto tce solicitação restituir saldo valor ainda reembolsar agência regulador referente período servir giovani machado gonçalves encontrar ceder referir autarquia federal órgão estadual caso resultado ser favorável giovani machado gonçalves providenciar restituir servir valor descontar contracheques atualizar monetário referente período funcionário público encontrar ceder antt tce go determinar ministério planejamento orçar gestão mpog instaurar processo administrativo vista proceder encontro seguinte conta valor ser reembolsar cofre tesouro nacional tribunal conta estado goiás tce correspondente período servir giovani machado gonçalves encontrar ceder mpog órgão estadual valor descontar antt direto contracheques servir giovani machado gonçalves título reembolso devido cofre tesouro nacional referente pagar direto realizar tce go funcionário público período encontrar ceder mpog órgão estadual fazer encontro conta mencionar subitem acórdão adotar seguinte providência caso resultado ser favorável união providenciar junto tce solicitação restituir saldo valor ainda reembolsar cofre tesouro nacional referente período servir giovani machado gonçalves encontrar ceder mpog órgão estadual caso resultado ser favorável giovani machado gonçalves providenciar restituir servir valor descontar contracheques atualizar monetário referente período funcionário público encontrar ceder mpog tce go determinar ministério transporte órgão sucessor obrigar extinto departamento nacional estrada rodagem dner instaurar processo administrativo vista calcular valor ser reembolsar cofre tesouro nacional tribunal conta estado goiás tce correspondente período servir giovani machado gonçalves encontrar ceder extinto dner órgão estadual providenciar junto tce solicitação restituir valor reembolsar cofre tesouro nacional referente período servir giovani machado gonçalves encontrar ceder extinto dner órgão estadual determinar ministério planejamento orçar gestão mpog agência nacional transporte terrestre antt final realizar encontro conta determinar acórdão bojo respectivos processo administrativo autuar informar tce montar ir ressarcir cofre união direto senhor giovani machado gonçalves meio desconto contracheques órgão estadual tomar providência julgar necessário determinar secretaria fiscalizar pessoal sefip monitoramento cumprimento deliberar encaminhar cópia acórdão assim relatório votar fundamentar ministério transporte ministério planejamento orçar gestão agência nacional transporte terrestre tribunal conta estado goiás senhor giovani machado gonçalves processo tratar representação presidente comissão processo disciplinar agência nacional transporte terrestre antt comunicar percepção indevido remunerar parte senhor giovani machado gonçalves servir entidade cumular período ceder tribunal conta estado goiás tce vencer pagos órgão entidade ceder cessionário culminar instaurar processo administrativo disciplinar contra servir instruir representação tribunal determinar meio acórdão departamento nacional infraestrutura transporte dnit ministério planejamento orçar gestão mpog agência nacional transporte terrestre antt proceder cálculo valor ser pagos servir giovani machado gonçalves haver pedir reexame interpor servir giovani machado gonçalves contra acórdão tornar insubsistentes subitens aresto atacar ser conhecer provir acórdão face violar princípio constitucional contraditório amplo defesa apesar insubsistência parcial acórdão antt amparar parecer procuradoria geral advocacia geral união agência continuar promover desconto parcela ter devir contracheque servir fazer incluir apenas quantia correspondente correção monetário determinar item tornar efeito face manutenção desconto senhor giovani machado gonçalves retornar auto requerer aplicação penalidade gestor antt pedido ir submeter indeferir meio acórdão processo retornar unidade técnico prosseguir promover oitiva servir decorrência análise ir proferir acórdão contra acórdão ir opor embargo declaração senhor giovani machado gonçalves agência nacional transporte terrestre antt acórdão dar provir parcial embargo senhor giovani provir integral embargo antt ii admissível exame preliminar admissível secretaria propor conhecer recurso peça ir ratificar ministro benjamin zymler termo despacho acostar peça iii mérito argumento acreditar ser necessário reposição valor erário função pad ir mover antt ter vista ir publicar enunciado agu modificar anterior enunciado seguinte termo súmula advogar geral união uso atribuir conferir artigo inc xii ter vista dispor artigo inc caput parágrafo lei complementar artigo parágrafo incisar medida provisório artigo incisar lei artigo decreto bem conter ato regimental agu considerar evolução jurisprudencial superior tribunal justiça contrário restituir erário valor receber boa fé razão erro administrar resolver alterar súmula advocacia geral união publicar dar seção passar vigorar seguinte redação dé incabível restituir valor caráter alimentar perceber boa fé servir público virtude interpretação errôneo má aplicação lei erro administrar mencionar lei complementar instituir lei orgânico advocacia geral união dispor artigo sumula advocacia geral união ter caráter obrigatório quanto todo órgão jurídico enumerar artigo lei complementar acreditar súmula editar agu ter finalidade consolidar jurisprudência informar ato regimental advogar geral união estabelecer órgão autoridade dever ser orientar quanto deferir pedido fundamentar súmula agu dizer caso enquadrar hipótese citar súmula ver perceber boa fé valor caráter alimentar virtude interpretação errôneo lei parte estado goiás má aplicação lei erro administrar público federal acrescentar administrar federal admitir erro tcu demonstrar meio acórdão haver dezena erro administrar inclusive julgar pad afirmar acórdão ir silente quanto direito servir ser dispensar realizar reposição valor erário decorrência opor embargo declaração analisar julgar acórdão entender assistir razão quanto pedido restituir valor descontar acreditar entender estar acordo jurisprudência stj súmula agu citar peça stf conceder parcial mandado segurança suspender acórdão tcu determinar devolução parcela remuneratório servir tjdft referente ipc mandado segurança impedir qualquer determinação tcu exigir devolução quantia referente plano collor professor filiar adufc afirmar ainda tribunal regional federal região entender julgar ocorrer âmbito mandado segurança processo administrar público poder efetuar desconto folha servir público expresso anuência aduzir súmula tcu dispensar reposição importância indevido perceber boa fé solicitar aplicação caso fim requerer abertura oportunidade prazo antt apresentar contrarrazões oitiva mp tcu reconhecer direito consequente devolução valor descontar análise primeiro haver consignar parecer súmula agu ainda referendar presidente república vincular tão somente órgão poder executivo alcançar atuação tcu cujo independência jurisdição achar delinear artigo constituição federal linha ter diversos julgar corte conta tal acórdão câmara câmara referir erro cometer administrar público decorrer processo administrativo disciplinar isentar senhor giovani machado gonçalves ilegalidade quanto percepção indevido remunerar cumular período ceder tribunal conta estado goiás vencer pagos tanto cedente quanto cessionário artigo parágrafo lei disciplinar afastar servir público federal servir outro órgão entidade verbis dartigo servir poder ser ceder ter exercício outro órgão entidade poder união estado distrito federal município seguinte hipótese exercício cargo comissão função confiança ii caso prever lei específico parágrafo hipótese inciso ser cessão órgão entidade estado distrito federal município ônus remuneração ser órgão entidade cessionária manter ônus cedente demais caso modo receber duplicidade parte servir tanto órgão cessionário órgão cedente configurar latente violar dispositivo legal suprir citar concernir súmula tcu assim dispor ser dispensar reposição importância indevido perceber boa fé servir ativo inativo pensionista virtude erro escusar interpretação lei parte órgão entidade parte autoridade legal investir função orientação supervisão vista presunção legalidade ato administrativo caráter alimentar parcela salarial observar leitura dispositivo dispensa reposição erário dar virtude erro escusar interpretação lei todavia artigo parágrafo ser claro proibir cumular vencer linha termo acórdão restar delinear devolução valor receber indevido servir somente mostrar obrigatório preencher seguinte requisito boa fé beneficiário participação concessão vantagem impugnar dúvida plausível sobre interpretação validade incidência norma infringir interpretação razoável embora errôneo lei administrar sob enfoque observar boa fé dever ser ver sob ângulo abranger relação participação servir concessão vantagem sobretudo haver dúvida plausível sobre interpretação norma aplicar caso vertente dizer respeito julgar supremo tribunal federal tratar matéria auto ipc plano collor julgar trf região tratar desconto multa tcu folha socorrer recorrente ademais face princípio independência instância jurisdição próprio privativo tcu sede constitucional corte contar vincular nenhum decisão judicial ser ser dirigir direto quanto abertura oportunidade prazo antt apresentar contrarrazões oitiva mp tcu haver previsão legal tanto modo haver acolher argumento favor recorrente iv proposta encaminhar exposto submeter presente processar considerar superior propor adoção seguinte medidas fundamento artigo lei conhecer recurso mérito negar provir comunicar unidade jurisdicionada interessados decisão vir ser proferir auto ser relatório voto presente processo representação ter origem ofício encaminhar presidente antt informar instaurar âmbito órgão processo administrativo disciplinar visar apurar ato improbidade administrativo atribuir servir giovani machado gonçalves orar recorrente relacionar drecebimento plúrimo remunerar departamento nacional estrada rodagem dner período ministério planejamento orçar gestão mpo período compreender agência nacional transporte terrestre antt período todo concomitante remuneração receber tribunal conta estado goiás durante período cessão funcional referir servir tribunal conta ônus órgão cessionáriod peça constar auto orar recorrente giovani machado gonçalves ocupar cargo engenheiro ir ceder referir órgão administrar público federal dner mpog antt ocupar cargo comissão tribunal conta estado goiás pontuar ministro relator originário feito walton alencar rodrigues luz legislação vigente época artigo caput decreto ônus remuneração servir união ceder poder estado distrito federal município recair sobre órgão entidade cessionária ponderar entanto excelência referir disposição exonerar órgão cedente pagar servir ceder remuneração ser devir vez instituto cessão inaugurar relação triangular órgão entidade federal obrigar remunerar servir ceder órgão entidade cessionário reembolsar valor despender cedente conforme dicção artigo parágrafo decreto modo dever servir perceber remuneração cargo efetivo pagar órgão cedente caber cessionário responsabilidade tão somente pagar valor correspondente cargo comissão ocupar servir ceder dever ainda cedente apresentar cessionário demonstrativo valor despender remuneração servir ceder acrescer encargo social correspondente vista obter ressarcimento ver privado prestar serviço parte servir decorrência cessão ir contudo ocorrer caso concreto ser razão erro alimentar sistema siape restar consignar servir recorrente ter ser ceder outro órgão federal caso tribunal regional eleitoral estado goiás virtude órgão ceder dner mpog antt solicitar reembolso despesa perante cessionário porquanto prescrever hipótese ressarcimento cessões haver órgão entidade administrar público federal outro lado apurar auto órgão cessionário tribunal conta estado goiás limitar pagar valor relativo cargo comissão ocupar servir ceder efetuar pagar remuneração cargo efetivo ocupar servir ser responsabilidade órgão cedente aí constatar pagar plúrimo remunerar servir recorrente tribunal diante referir constatar proferir acórdão reconhecer haver regularidade percepção servir ceder valor pagos administrar público federal decidir ocasião tal valor ser efetivo devir órgão entidade ceder razão acolher contrarrazões ofertar ora recorrente concernir regularidade remuneração paga cofre federais período estar ceder tribunal conta estado goiás item nada obstante ir determinar antt adotar providência necessário junto tribunal conta estado goiás sentido dobter ressarcimento importância despender servir giovani machado gonçalves período estar ceder tribunal conta estado goiás instaurar tomada conta especial desfavor dirigente indicar artigo parágrafo decreto necessáriod subitem contra referir decisão ir opor embargo declaratórios antt ora recorrente ir parcial acolher meio acórdão seguinte termo dvistos relatar discutir auto embargo declaração opor agência nacional transporte terrestre antt giovani machado gonçalves ambos contra acórdão acordar ministro tribunal conta união reunir sessão ante razão expor relator fundamento artigo incisar lei conhecer embargo declaração interposto mérito considerar lo parcial proceder considerar insubsistente item acórdão determinar agência nacional transporte terrestre antt suspender desconto efetuar direto contracheques servir giovani machado gonçalves permanecer válido desconto anterior efetuar instaurar processo administrativo vista proceder encontro seguinte conta valor ser reembolsar cofre antt tribunal conta estado goiás tce correspondente período servir giovani machado gonçalves encontrar ceder agência regulador órgão estadual valor descontar antt direto contracheques servir giovani machado gonçalves título reembolso devido cofre autarquia público federal referente pagar direto realizar tce go funcionário público período encontrar ceder agência regulador órgão estadual fazer encontro conta mencionar subitem acórdão adotar seguinte providência caso resultado ser favorável cofre antt providenciar junto tce solicitação restituir saldo valor ainda reembolsar agência regulador referente período servir giovani machado gonçalves encontrar ceder referir autarquia federal órgão estadual caso resultado ser favorável giovani machado gonçalves providenciar restituir servir valor descontar contracheques atualizar monetário referente período funcionário público encontrar ceder antt tce go determinar ministério planejamento orçar gestão mpog instaurar processo administrativo vista proceder encontro seguinte conta valor ser reembolsar cofre tesouro nacional tribunal conta estado goiás tce correspondente período servir giovani machado gonçalves encontrar ceder mpog órgão estadual valor descontar antt direto contracheques servir giovani machado gonçalves título reembolso devido cofre tesouro nacional referente pagar direto realizar tce go funcionário público período encontrar ceder mpog órgão estadual fazer encontro conta mencionar subitem acórdão adotar seguinte providência caso resultado ser favorável união providenciar junto tce solicitação restituir saldo valor ainda reembolsar cofre tesouro nacional referente período servir giovani machado gonçalves encontrar ceder mpog órgão estadual caso resultado ser favorável giovani machado gonçalves providenciar restituir servir valor descontar contracheques atualizar monetário referente período funcionário público encontrar ceder mpog tce go determinar ministério transporte órgão sucessor obrigar extinto departamento nacional estrada rodagem dner instaurar processo administrativo vista calcular valor ser reembolsar cofre tesouro nacional tribunal conta estado goiás tce correspondente período servir giovani machado gonçalves encontrar ceder extinto dner órgão estadual providenciar junto tce solicitação restituir valor reembolsar cofre tesouro nacional referente período servir giovani machado gonçalves encontrar ceder extinto dner órgão estadual determinar ministério planejamento orçar gestão mpog agência nacional transporte terrestre antt final realizar encontro conta determinar acórdão bojo respectivos processo administrativo autuar informar tce montar ir ressarcir cofre união direto senhor giovani machado gonçalves meio desconto contracheques órgão estadual tomar providência julgar necessário determinar secretaria fiscalizar pessoal sefip monitoramento cumprimento deliberar encaminhar cópia acórdão assim relatório votar fundamentar ministério transporte ministério planejamento orçar gestão agência nacional transporte terrestre tribunal conta estado goiás senhor giovani machado gonçalves observar proferir referir acórdão fixar algum premissa caber órgão origem estar lotar servir proceder ressarcimento quantia despender durante respectivo período encontrar ceder tce junto órgão cessionário atender artigo parágrafo decreto independência decisão processo administrativo disciplinar ser reconhecer corte conta competir tribunal deliberar acerca legalidade ilegalidade processo administrativo disciplinar insatisfação servir relação conduzir proceder haver ser submeter poder judiciário providência adotar interessado ser dever órgão ceder adotar providência necessário obter ressarcimento importância despender servir período estar ceder tce caber cada órgão cedente instaurar processo administrativo calcular valor depender servir durante respectivo período permanecer ceder tce solicitar reembolso referir quantia junto órgão cessionário tribunal levar ainda considerar fato antt condição órgão cedente ter efetuar desconto folha servir bojo processo administrativo disciplinar instaurar observar quantia descontar folha servir antt referente período estar lotar mpog ir restituir conta único tesouro nacional efeito asseverar eminente relator feito conforme legislação antt dever ter promover solicitação reembolso junto tce vez dever ter entrar ação regressivo contra servir receber ir pago indevido ocorrer servir encontrar mora fazenda estadual vez estar mora tesouro nacional fato ter beneficiar labor servir federal invés restituir cofre federais ter pago salário engenheiro parte recurso ser reembolsar extinto dner mpog antt ir portanto pagos direto servir decisão descontar direto servir valor ocorrer bojo pad instaurar antt haver contraditório defesa servir caber tcu apreciar legalidade ilegalidade ato discricionário agência valor devir servir referir salário engenheiro pago tce cofre estadual segundo servir seriar menor provento pagos antt forma desconto ter ser fazer antt finalidade acertar conta ser necessário antt calcular valor dever ser reembolsar tce solicitar tce cálculo ir indevido pago servir verificar montar ir efetivo descontar folha pagar servir após proceder encontro conta providenciar junto tce solicitação eventual saldo ser reembolsar restituir servir eventual desconto fazer bem informar tce valor ir descontar direto servir órgão tomar providência entender cabíveis mpog vez dever instaurar processo administrativo apurar valor ser reembolsar tce período senhor giovani machado gonçalves lá estar ceder igual sorte mpog dever providenciar encontro conta valor ser reembolsar tce valor descontar direto servir antt valor pagos tce servir vista solicitar eventual saldo ser reembolsar junto órgão cessionário concernir período senhor giovani machado gonçalves estar lotar extinto dner conforme artigo incisar decreto caber ministério transporte responsabilidade atender demanda formular órgão poder executivo legislativo judiciário relativo órgão extinto ressaltar ainda haver desconto servir referente período estar lotar extinto dner portanto necessário fazer ministério transporte instaurar processo administrativo apurar montar despender senhor giovani machado gonçalves enquanto estar ceder tce proceder cobrança reembolso junto órgão servir encontrar débito união conforme informar auto receber recurso indevido tce dever reembolsar montar cofre estadual portanto assistir razão pedido suspensão desconto folha pagar assistir razão embargante quanto pedido restituir valor descontar folha pagar quais fim triangular propor artigo parágrafo decreto seriar restituir união valor ser levar considerar providência parte cada órgão cedente solicitar reembolso recurso despender servir durante cessão junto tce além disso demonstrativo quantia ressarcir ser informar tribunal conta considerar eventual cobrança valor pagos servir equivocadamente fazer breve relato fato apurar presente processo caber agora analisar recurso interpor senhor giovani machado gonçalves contra mencionar acórdão recorrente alegar ser incabível obrigação realizar restituir erário valor perceber administrar ser órgão federal estadual face dispor súmula advocacia geral união agu alterar súmula verbis dé incabível restituir valor caráter alimentar perceber boa fé servir público virtude interpretação errôneo má aplicação lei erro administrar ressaltar acordo artigo combinar artigo lei complementar súmula advocacia geral união ter caráter obrigatório quanto órgão jurídico ministério antt recorrente mencionar súmula corte defender dever ser ddispensado reposição valor ir pagos administrar perceber absoluto boa fé ainda vista presunção legalidade ato administrativo caráter alimentar parcela salarial recebidasd citar ainda julgar supremo tribunal federal ter aplicar entender consignar auto gabinete recorrente juntar termo diligência realizar junto tce âmbito instrução pad mover antt demonstrar docorrência interpretação errôneo lei erro administrar públicad síntese pretender recorrente corte conta expedir determinação antt sentido efetuar devolução valor descontar folha devidamente corrigir atualizar virtude incabimento obrigação servir realizar ressarcimento erário termo súmula agu ocorrer simples leitura decisão proferir presente processo ter nenhum momento haver determinação parte tribunal sentido antt efetuar qualquer desconto folha relativo valor perceber indevido servir contrário julgar acórdão câmara haver reconhecer haver regularidade percepção servir ceder valor pagos administrar público federal razão acolher contrarrazões ofertar ora recorrente concernir regularidade remuneração paga cofre federais período estar ceder tribunal conta estado goiás expedir determinação antt adotar providência obter ressarcimento valor pagos servir junto tribunal conta estado goiás posterior ocasião julgar embargo declaratórios corte determinar suspensão desconto estar ser realizar direto contracheques servir item determinar valor descontar fossar levar considerar acerto conta dever ser fazer órgão cedente cessionário ver corte conta ser julgar originário ser embargo declaração jamais proferir qualquer decisão trazer prejuízo servir tribunal verdade determinar suspensão desconto estar ser efetuar antt dispor competência determinar devolução valor descontar tratar decisão tomar discricionariamente antt curso processo administrativo disciplinar lá instaurar determinar quantia descontar fossar levar considerar acerto conta ser realizar órgão ceder dner mpog antt cessionário tce tal questão ser devolução valor descontar haver ser inclusive objeto apreciar parte meio acórdão verbis dconsiderando intermédio acórdão relação gab min augusto nardes colegiado sede pedido reexame tornar insubsistentes subitens acórdão haver expedir determinar departamento nacional infraestrutura transporte agência nacional transporte terrestre antt considerar então atual inexiste obrigação cumprir expedir corte parte dnit antt considerar posicionar antt sentido manutenção desconto mensal contracheque servir giovani machado gonçalves ter amparo poder discricionário considerar caber portanto tribunal menos ulterior deliberar sobre mérito processo pronunciar sobre legalidade legitimidade decisão administrativo ministro tribunal conta união quanto processo seguir relacionar acórdão unanimidade indeferir pedido formular requerente peça fls anexo após dar ciência acórdão dnit antt restituir auto unidade técnico prosseguir feito processo representação interessar agência nacional transporte terrestre mt órgão entidade agência nacional transporte terrestre mt unidade técnico secretaria fiscalizar pessoal sefip advogado constituir auto haver determinar recomendar orientar haver grifou ver ainda seguinte trecho constante deliberar originário acórdão câmara inexistência débito tesouro nacional contudo prestar afastar plano responsabilidade servir eventual violar deveres funcional face fato narrar representação apurar falta natureza funcional ser realizar processo administrativo disciplinar instaurar antt haver sofrer restrição razão deste julgar exceto referir inexistência débito união competir apenas autoridade administrativo deliberar sobre mérito processo disciplinar igual sorte competir tribunal deliberar acerca legalidade ilegalidade processo administrativo disciplinar insatisfação servir relação conduzir proceder haver ser submeter poder judiciário providência adotar interessado grifou decisão apreciar embargo declaração opor acórdão câmara dé correto afirmar conforme legislação antt dever ter promover solicitação reembolso junto tce vez dever ter entrar ação regressivo contra servir receber ir pago indevido ocorrer servir encontrar mora fazenda estadual vez estar mora tesouro nacional fato ter beneficiar labor servir federal invés restituir cofre federais ter pago salário engenheiro parte recurso ser reembolsar extinto dner mpog antt ir portanto pagos direto servir decisão descontar direto servir valor ocorrer bojo pad instaurar antt haver contraditório defesa servir caber tcu apreciar legalidade ilegalidade ato discricionário agência grifou todo exposto verificar relação pretensão recursal orar deduzir encontrar adstrita devolução valor descontar indevido antt haver sucumbência interessado relação deliberar corte conta primeiro lugar decidir tribunal dispor competência apreciar legitimidade ato administrativo adotar antt âmbito processo administrativo disciplinar instaurar face servir recorrente valer rememorar desconto efetuar ir determinar âmbito referir processo despeito embargo declaratórios determinar tribunal suspensão desconto efetuar antt bem adoção providência promover encontro conta órgão ceder cessionário levar considerar valor descontar servir ceder daniel amorim assumpção neve manual direito processual civil dissertar sobre cada pressupor intrínseco admissível recursal ensinar seguinte acercar interesse recursal dconforme afirmar existir proximidade evidente pressupor processual condição ação requisito admissível recursal ser unânime doutrina entender interesse recursal dever ser analisar luz interesse agir ideia utilidade prestar jurisdicional presente interesse agir verificar interesse recursal entender somente ser julgar mérito recurso poder ser útil recorrente utilidade dever ser analisar sob perspectiva prático ser imperioso observar caso concreto recurso reunir condição gerar melhora situação fática recorrente quase todo problema referente interesse recursal resumir aspecto ser certo haver qualquer possibilidade obtenção situação vantajoso sob aspecto prático haver interesse recursal ser razão regra admitir recurso somente objetivo modificar fundamentar decisão porque caso situação prático recorrente manter inalterado doutrina tradicional estudar fenômeno interesse agir luz existência sucumbência gerar necessidade utilizar recurso associação decorrer concepção dever existir recurso prejuízo gravame gerar decisãod ob cit pp grifou caso concreto haver qualquer determinação tribunal sentido fossar efetuar qualquer desconto vencer recorrente haver prejuízo gravame gerar decisão recorrer outro lado ainda admitir desconto efetuar ter decorrer interpretação equivocar dispositivo legal atrair incidência enunciado súmula jurisprudência tribunal súmula advocacia geral união agu conforme alegar peça recursal ainda assim tribunal poder determinar devolução valor descontar indevido haver ver entender processo administrativo disciplinar encontrar submeter controle externo fundamento sequer ir atacar servir presente recurso ainda dar razão recorrente haver qualquer possibilidade obtenção situação vantajoso sob aspecto prático tribunal decidir possuir competência dispor sobre bem vida pretender recorrente diante exposto impor edição juízo negativo admissível relação presente pedido reexame ter ser demonstrar interesse recursal outrossim cumprir registrar tutela direito subjetivo individual ser estranhar competência constitucional corte conta ter missão controlar administrar público promover aperfeiçoar benefício sociedade negócio controle externo administrar público gestão recurso público federais valer dizer competência constitucional controle externo conferir tribunal estar direcionar tutela interesse público proteção interesse particular privado ver propósito seguinte precedente plenário tribunal consubstanciar acórdão relatoria ministro vital rêgo dnão competir constitucional tcu decidir sobre reclamar particular salvaguarda eventual direito interesse subjetivo juridicamente tutelar ante exposto votar sentido tribunal adotar acórdão orar submeter deliberar tcu sala sessão ministro luciano brandão alves souza benjamin zymler relator acórdão processo nº tc grupo classe assunto pedir reexame representação interessados responsável recorrer interessar agência nacional transporte terrestre responsável giovani machado gonçalves recorrente giovani machado gonçalves órgão entidade agência nacional transporte terrestre relator ministro benjamin zymler relator deliberar recorrer ministro walton alencar rodrigues representante ministério público procurador geral paulo soar bugarin unidade técnico secretaria recurso serur secretaria fiscalizar pessoal sefip representação legal renata amar ferreira outro representar agência nacional transporte terrestre agência nacional transporte terrestre victor aguiar jardim amorim oab df outro representar giovani machado gonçalves acórdão ver relatar discutir auto pedido reexame interpor contra acórdão câmara alterar acórdão câmara acordar ministro tribunal conta união reunir sessão ante razão expor relator conhecer presente recurso ter vista falta interesse recursal dar ciência inteiro teor deliberar recorrente órgão jurisdicionado ata data sessão ordinária código eletrônico localização página tcu internet ac especificação quorum ministro presente walton alencar rodrigues presidente benjamin zymler relator dantas vital rêgo ministro substituto presente weder oliveira assinar eletronicamente walton alencar rodrigues assinar eletronicamente benjamin zymler presidente relator ir presente assinar eletronicamente lucas rocha furtar subprocurador geral'"
      ]
     },
     "execution_count": 13,
     "metadata": {},
     "output_type": "execute_result"
    }
   ],
   "source": [
    "filtrar_texto(acordao, tf_idf, 8000)"
   ]
  },
  {
   "cell_type": "code",
   "execution_count": 14,
   "metadata": {},
   "outputs": [
    {
     "name": "stdout",
     "output_type": "stream",
     "text": [
      "doc 1000 ...\n",
      "doc 2000 ...\n",
      "doc 3000 ...\n",
      "doc 4000 ...\n",
      "doc 5000 ...\n",
      "doc 6000 ...\n",
      "doc 7000 ...\n",
      "doc 8000 ...\n",
      "doc 9000 ...\n",
      "doc 10000 ...\n"
     ]
    }
   ],
   "source": [
    "for doc in range(0, len(textos)):\n",
    "    acordao, _ , tf_idf = extrair_tfidf(doc)\n",
    "    df.loc[doc, 'filtrado_6000'] = filtrar_texto(acordao, tf_idf, 6000)\n",
    "    df.loc[doc, 'filtrado_500']  = filtrar_texto(acordao, tf_idf, 500)\n",
    "    if (doc + 1) % 1000 == 0:\n",
    "        print('doc', doc+1, '...')"
   ]
  },
  {
   "cell_type": "code",
   "execution_count": 15,
   "metadata": {},
   "outputs": [
    {
     "data": {
      "text/html": [
       "<div>\n",
       "<style scoped>\n",
       "    .dataframe tbody tr th:only-of-type {\n",
       "        vertical-align: middle;\n",
       "    }\n",
       "\n",
       "    .dataframe tbody tr th {\n",
       "        vertical-align: top;\n",
       "    }\n",
       "\n",
       "    .dataframe thead th {\n",
       "        text-align: right;\n",
       "    }\n",
       "</style>\n",
       "<table border=\"1\" class=\"dataframe\">\n",
       "  <thead>\n",
       "    <tr style=\"text-align: right;\">\n",
       "      <th></th>\n",
       "      <th>acordao</th>\n",
       "      <th>areas</th>\n",
       "      <th>texto_lematizado</th>\n",
       "      <th>tamanho</th>\n",
       "      <th>filtrado_6000</th>\n",
       "      <th>filtrado_500</th>\n",
       "    </tr>\n",
       "  </thead>\n",
       "  <tbody>\n",
       "    <tr>\n",
       "      <th>0</th>\n",
       "      <td>297/2016-P</td>\n",
       "      <td>Responsabilidade</td>\n",
       "      <td>tribunal de conta de o união tc XXNUMERACAO\\r\\...</td>\n",
       "      <td>1704.0</td>\n",
       "      <td>tribunal conta união tc grupo classe plenário ...</td>\n",
       "      <td>conta conta gerência instituto nacional seguro...</td>\n",
       "    </tr>\n",
       "    <tr>\n",
       "      <th>1</th>\n",
       "      <td>366/2016-P</td>\n",
       "      <td>Finanças Públicas</td>\n",
       "      <td>tribunal de conta de o união tc XXNUMERACAO\\r\\...</td>\n",
       "      <td>3330.0</td>\n",
       "      <td>tribunal conta união tc grupo classe ii plenár...</td>\n",
       "      <td>senado petróleo petróleo regime aduaneiro expo...</td>\n",
       "    </tr>\n",
       "    <tr>\n",
       "      <th>2</th>\n",
       "      <td>944/2016-P</td>\n",
       "      <td>Responsabilidade</td>\n",
       "      <td>tribunal de conta de o união tc XXNUMERACAO\\r\\...</td>\n",
       "      <td>842.0</td>\n",
       "      <td>tribunal conta união tc grupo classe plenário ...</td>\n",
       "      <td>tribunal conta plenário embargo declaração aco...</td>\n",
       "    </tr>\n",
       "    <tr>\n",
       "      <th>3</th>\n",
       "      <td>30/2016-P</td>\n",
       "      <td>Direito Processual</td>\n",
       "      <td>tribunal de conta de o união tc XXNUMERACAO\\r\\...</td>\n",
       "      <td>1379.0</td>\n",
       "      <td>tribunal conta união tc grupo classe plenário ...</td>\n",
       "      <td>embargo declaração inss recorrente marco antôn...</td>\n",
       "    </tr>\n",
       "    <tr>\n",
       "      <th>4</th>\n",
       "      <td>55/2016-P</td>\n",
       "      <td>Pessoal</td>\n",
       "      <td>; - ; ; wania lucia pasquarelli de o nasciment...</td>\n",
       "      <td>5887.0</td>\n",
       "      <td>wania lucia pasquarelli nascimentotcuwania luc...</td>\n",
       "      <td>senac senac senac empresa senac giselle araújo...</td>\n",
       "    </tr>\n",
       "    <tr>\n",
       "      <th>5</th>\n",
       "      <td>27/2016-P</td>\n",
       "      <td>Licitação</td>\n",
       "      <td>tribunal de conta de o união tc XXNUMERACAO\\r\\...</td>\n",
       "      <td>2025.0</td>\n",
       "      <td>tribunal conta união tc grupo classe plenário ...</td>\n",
       "      <td>apenso recurso natal nilton pascoal cpf walden...</td>\n",
       "    </tr>\n",
       "    <tr>\n",
       "      <th>6</th>\n",
       "      <td>38/2016-P</td>\n",
       "      <td>Pessoal</td>\n",
       "      <td>tribunal de conta de o união tc XXNUMERACAO\\r\\...</td>\n",
       "      <td>3292.0</td>\n",
       "      <td>tribunal conta união tc grupo classe plenário ...</td>\n",
       "      <td>aposentadoria sebastião aposentadoria gratific...</td>\n",
       "    </tr>\n",
       "    <tr>\n",
       "      <th>7</th>\n",
       "      <td>113/2016-P</td>\n",
       "      <td>Licitação</td>\n",
       "      <td>tribunal de conta de o união tc XXNUMERACAO\\r\\...</td>\n",
       "      <td>3425.0</td>\n",
       "      <td>tribunal conta união tc grupo classe plenário ...</td>\n",
       "      <td>dixtal biomédico pró life equipar eireli dixta...</td>\n",
       "    </tr>\n",
       "    <tr>\n",
       "      <th>8</th>\n",
       "      <td>119/2016-P</td>\n",
       "      <td>Licitação</td>\n",
       "      <td>tribunal de conta de o união tc XXNUMERACAO\\r\\...</td>\n",
       "      <td>5943.0</td>\n",
       "      <td>tribunal conta união tc grupo classe plenário ...</td>\n",
       "      <td>snake empresa pregão pregão trt vigilância emp...</td>\n",
       "    </tr>\n",
       "    <tr>\n",
       "      <th>9</th>\n",
       "      <td>412/2016-1</td>\n",
       "      <td>Pessoal</td>\n",
       "      <td>tribunal de conta de o união tc XXNUMERACAO\\r\\...</td>\n",
       "      <td>3849.0</td>\n",
       "      <td>tribunal conta união tc grupo classe tc nature...</td>\n",
       "      <td>aposentadoria enoe pimenta basso aposentadoria...</td>\n",
       "    </tr>\n",
       "  </tbody>\n",
       "</table>\n",
       "</div>"
      ],
      "text/plain": [
       "      acordao               areas  \\\n",
       "0  297/2016-P    Responsabilidade   \n",
       "1  366/2016-P   Finanças Públicas   \n",
       "2  944/2016-P    Responsabilidade   \n",
       "3   30/2016-P  Direito Processual   \n",
       "4   55/2016-P             Pessoal   \n",
       "5   27/2016-P           Licitação   \n",
       "6   38/2016-P             Pessoal   \n",
       "7  113/2016-P           Licitação   \n",
       "8  119/2016-P           Licitação   \n",
       "9  412/2016-1             Pessoal   \n",
       "\n",
       "                                    texto_lematizado  tamanho  \\\n",
       "0  tribunal de conta de o união tc XXNUMERACAO\\r\\...   1704.0   \n",
       "1  tribunal de conta de o união tc XXNUMERACAO\\r\\...   3330.0   \n",
       "2  tribunal de conta de o união tc XXNUMERACAO\\r\\...    842.0   \n",
       "3  tribunal de conta de o união tc XXNUMERACAO\\r\\...   1379.0   \n",
       "4  ; - ; ; wania lucia pasquarelli de o nasciment...   5887.0   \n",
       "5  tribunal de conta de o união tc XXNUMERACAO\\r\\...   2025.0   \n",
       "6  tribunal de conta de o união tc XXNUMERACAO\\r\\...   3292.0   \n",
       "7  tribunal de conta de o união tc XXNUMERACAO\\r\\...   3425.0   \n",
       "8  tribunal de conta de o união tc XXNUMERACAO\\r\\...   5943.0   \n",
       "9  tribunal de conta de o união tc XXNUMERACAO\\r\\...   3849.0   \n",
       "\n",
       "                                       filtrado_6000  \\\n",
       "0  tribunal conta união tc grupo classe plenário ...   \n",
       "1  tribunal conta união tc grupo classe ii plenár...   \n",
       "2  tribunal conta união tc grupo classe plenário ...   \n",
       "3  tribunal conta união tc grupo classe plenário ...   \n",
       "4  wania lucia pasquarelli nascimentotcuwania luc...   \n",
       "5  tribunal conta união tc grupo classe plenário ...   \n",
       "6  tribunal conta união tc grupo classe plenário ...   \n",
       "7  tribunal conta união tc grupo classe plenário ...   \n",
       "8  tribunal conta união tc grupo classe plenário ...   \n",
       "9  tribunal conta união tc grupo classe tc nature...   \n",
       "\n",
       "                                        filtrado_500  \n",
       "0  conta conta gerência instituto nacional seguro...  \n",
       "1  senado petróleo petróleo regime aduaneiro expo...  \n",
       "2  tribunal conta plenário embargo declaração aco...  \n",
       "3  embargo declaração inss recorrente marco antôn...  \n",
       "4  senac senac senac empresa senac giselle araújo...  \n",
       "5  apenso recurso natal nilton pascoal cpf walden...  \n",
       "6  aposentadoria sebastião aposentadoria gratific...  \n",
       "7  dixtal biomédico pró life equipar eireli dixta...  \n",
       "8  snake empresa pregão pregão trt vigilância emp...  \n",
       "9  aposentadoria enoe pimenta basso aposentadoria...  "
      ]
     },
     "execution_count": 15,
     "metadata": {},
     "output_type": "execute_result"
    }
   ],
   "source": [
    "df.head(10)"
   ]
  },
  {
   "cell_type": "code",
   "execution_count": 16,
   "metadata": {},
   "outputs": [],
   "source": [
    "df.to_csv('../dados/acordaos-selecionada-filtrados-500.csv', sep = '|', columns = ['acordao', 'areas', 'filtrado_500'], index=False)"
   ]
  },
  {
   "cell_type": "code",
   "execution_count": 17,
   "metadata": {},
   "outputs": [],
   "source": [
    "df.to_csv('../dados/acordaos-selecionada-filtrados-6000.csv', sep = '|', columns = ['acordao', 'areas', 'filtrado_6000'], index=False)"
   ]
  },
  {
   "cell_type": "code",
   "execution_count": null,
   "metadata": {},
   "outputs": [],
   "source": []
  }
 ],
 "metadata": {
  "kernelspec": {
   "display_name": "Python 3",
   "language": "python",
   "name": "python3"
  },
  "language_info": {
   "codemirror_mode": {
    "name": "ipython",
    "version": 3
   },
   "file_extension": ".py",
   "mimetype": "text/x-python",
   "name": "python",
   "nbconvert_exporter": "python",
   "pygments_lexer": "ipython3",
   "version": "3.7.4"
  }
 },
 "nbformat": 4,
 "nbformat_minor": 2
}
