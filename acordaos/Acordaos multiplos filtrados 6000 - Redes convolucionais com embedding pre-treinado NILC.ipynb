{
 "cells": [
  {
   "cell_type": "markdown",
   "metadata": {},
   "source": [
    "# Importação e preparação dos dados"
   ]
  },
  {
   "cell_type": "code",
   "execution_count": 1,
   "metadata": {},
   "outputs": [
    {
     "data": {
      "text/html": [
       "<div>\n",
       "<style scoped>\n",
       "    .dataframe tbody tr th:only-of-type {\n",
       "        vertical-align: middle;\n",
       "    }\n",
       "\n",
       "    .dataframe tbody tr th {\n",
       "        vertical-align: top;\n",
       "    }\n",
       "\n",
       "    .dataframe thead th {\n",
       "        text-align: right;\n",
       "    }\n",
       "</style>\n",
       "<table border=\"1\" class=\"dataframe\">\n",
       "  <thead>\n",
       "    <tr style=\"text-align: right;\">\n",
       "      <th></th>\n",
       "      <th>acordao</th>\n",
       "      <th>areas</th>\n",
       "      <th>filtrado_6000</th>\n",
       "    </tr>\n",
       "  </thead>\n",
       "  <tbody>\n",
       "    <tr>\n",
       "      <th>0</th>\n",
       "      <td>297/2016-P</td>\n",
       "      <td>Responsabilidade</td>\n",
       "      <td>tribunal conta união tc grupo classe plenário ...</td>\n",
       "    </tr>\n",
       "    <tr>\n",
       "      <th>1</th>\n",
       "      <td>366/2016-P</td>\n",
       "      <td>Finanças Públicas</td>\n",
       "      <td>tribunal conta união tc grupo classe ii plenár...</td>\n",
       "    </tr>\n",
       "    <tr>\n",
       "      <th>2</th>\n",
       "      <td>944/2016-P</td>\n",
       "      <td>Responsabilidade</td>\n",
       "      <td>tribunal conta união tc grupo classe plenário ...</td>\n",
       "    </tr>\n",
       "    <tr>\n",
       "      <th>3</th>\n",
       "      <td>30/2016-P</td>\n",
       "      <td>Direito Processual</td>\n",
       "      <td>tribunal conta união tc grupo classe plenário ...</td>\n",
       "    </tr>\n",
       "    <tr>\n",
       "      <th>4</th>\n",
       "      <td>55/2016-P</td>\n",
       "      <td>Pessoal</td>\n",
       "      <td>wania lucia pasquarelli nascimentotcuwania luc...</td>\n",
       "    </tr>\n",
       "  </tbody>\n",
       "</table>\n",
       "</div>"
      ],
      "text/plain": [
       "      acordao               areas  \\\n",
       "0  297/2016-P    Responsabilidade   \n",
       "1  366/2016-P   Finanças Públicas   \n",
       "2  944/2016-P    Responsabilidade   \n",
       "3   30/2016-P  Direito Processual   \n",
       "4   55/2016-P             Pessoal   \n",
       "\n",
       "                                       filtrado_6000  \n",
       "0  tribunal conta união tc grupo classe plenário ...  \n",
       "1  tribunal conta união tc grupo classe ii plenár...  \n",
       "2  tribunal conta união tc grupo classe plenário ...  \n",
       "3  tribunal conta união tc grupo classe plenário ...  \n",
       "4  wania lucia pasquarelli nascimentotcuwania luc...  "
      ]
     },
     "execution_count": 1,
     "metadata": {},
     "output_type": "execute_result"
    }
   ],
   "source": [
    "import pandas as pd\n",
    "\n",
    "df = pd.read_csv('../dados/acordaos-selecionada-filtrados-6000.csv', sep = '|')\n",
    "df['filtrado_6000']=df['filtrado_6000'].astype(str)\n",
    "df.head()"
   ]
  },
  {
   "cell_type": "code",
   "execution_count": 2,
   "metadata": {},
   "outputs": [
    {
     "data": {
      "text/plain": [
       "(10524, 3)"
      ]
     },
     "execution_count": 2,
     "metadata": {},
     "output_type": "execute_result"
    }
   ],
   "source": [
    "df.shape"
   ]
  },
  {
   "cell_type": "code",
   "execution_count": 3,
   "metadata": {},
   "outputs": [
    {
     "data": {
      "text/plain": [
       "(10524, 91)"
      ]
     },
     "execution_count": 3,
     "metadata": {},
     "output_type": "execute_result"
    }
   ],
   "source": [
    "from sklearn.preprocessing import LabelBinarizer\n",
    "\n",
    "areas = df.groupby(['areas']).groups.keys()\n",
    "lbArea = LabelBinarizer()\n",
    "lbArea.fit([x for x in areas])\n",
    "y = lbArea.transform(df['areas'])\n",
    "y.shape"
   ]
  },
  {
   "cell_type": "code",
   "execution_count": 4,
   "metadata": {},
   "outputs": [
    {
     "name": "stderr",
     "output_type": "stream",
     "text": [
      "Using TensorFlow backend.\n"
     ]
    },
    {
     "name": "stdout",
     "output_type": "stream",
     "text": [
      "Found 102108 unique tokens.\n"
     ]
    }
   ],
   "source": [
    "from keras.preprocessing.text import Tokenizer\n",
    "import numpy as np\n",
    "\n",
    "vocabulario = 105000\n",
    "limite_texto = 6000\n",
    "dim_vetor = 100\n",
    "\n",
    "tokenizer = Tokenizer(num_words=vocabulario)\n",
    "tokenizer.fit_on_texts(df['filtrado_6000'])\n",
    "\n",
    "sequences = tokenizer.texts_to_sequences(df['filtrado_6000'])\n",
    "\n",
    "word_index = tokenizer.word_index\n",
    "vocabulario = len(word_index) + 1\n",
    "print('Found %s unique tokens.' % len(word_index))"
   ]
  },
  {
   "cell_type": "code",
   "execution_count": 5,
   "metadata": {},
   "outputs": [
    {
     "name": "stdout",
     "output_type": "stream",
     "text": [
      "Shape of data tensor: (10524, 6000)\n"
     ]
    }
   ],
   "source": [
    "from keras.preprocessing.sequence import pad_sequences\n",
    "\n",
    "x = pad_sequences(sequences, maxlen=limite_texto)\n",
    "\n",
    "print('Shape of data tensor:', x.shape)"
   ]
  },
  {
   "cell_type": "code",
   "execution_count": 6,
   "metadata": {},
   "outputs": [
    {
     "data": {
      "text/plain": [
       "((10524, 6000), (10524, 91))"
      ]
     },
     "execution_count": 6,
     "metadata": {},
     "output_type": "execute_result"
    }
   ],
   "source": [
    "x.shape, y.shape"
   ]
  },
  {
   "cell_type": "code",
   "execution_count": 7,
   "metadata": {},
   "outputs": [
    {
     "name": "stderr",
     "output_type": "stream",
     "text": [
      "/home/leonardo/anaconda3/envs/gpu/lib/python3.7/site-packages/smart_open/smart_open_lib.py:398: UserWarning: This function is deprecated, use smart_open.open instead. See the migration notes for details: https://github.com/RaRe-Technologies/smart_open/blob/master/README.rst#migrating-to-the-new-open-function\n",
      "  'See the migration notes for details: %s' % _MIGRATION_NOTES_URL\n"
     ]
    }
   ],
   "source": [
    "from gensim.models import KeyedVectors\n",
    "\n",
    "model = KeyedVectors.load_word2vec_format('../externos/model.txt')"
   ]
  },
  {
   "cell_type": "code",
   "execution_count": 8,
   "metadata": {},
   "outputs": [
    {
     "name": "stdout",
     "output_type": "stream",
     "text": [
      "Vocabulario: 102108\n",
      "Encontrados no modelo: 57624 = 56.43436361499589\n"
     ]
    }
   ],
   "source": [
    "# create a weight matrix for words in training docs\n",
    "\n",
    "embedding_matrix = np.zeros((vocabulario, dim_vetor))\n",
    "\n",
    "ok = 0\n",
    "for word, i in tokenizer.word_index.items():\n",
    "    if word in model:\n",
    "        embedding_matrix[i] = model[word]\n",
    "        ok += 1\n",
    "print('Vocabulario:', i)\n",
    "print('Encontrados no modelo:', ok, '=', ok * 100. / i)"
   ]
  },
  {
   "cell_type": "markdown",
   "metadata": {},
   "source": [
    "# Treinamento"
   ]
  },
  {
   "cell_type": "code",
   "execution_count": 9,
   "metadata": {
    "scrolled": false
   },
   "outputs": [
    {
     "name": "stderr",
     "output_type": "stream",
     "text": [
      "WARNING: Logging before flag parsing goes to stderr.\n",
      "W0318 20:37:41.350572 140025720801088 deprecation_wrapper.py:119] From /home/leonardo/anaconda3/envs/gpu/lib/python3.7/site-packages/keras/backend/tensorflow_backend.py:74: The name tf.get_default_graph is deprecated. Please use tf.compat.v1.get_default_graph instead.\n",
      "\n",
      "W0318 20:37:41.678724 140025720801088 deprecation_wrapper.py:119] From /home/leonardo/anaconda3/envs/gpu/lib/python3.7/site-packages/keras/backend/tensorflow_backend.py:517: The name tf.placeholder is deprecated. Please use tf.compat.v1.placeholder instead.\n",
      "\n",
      "W0318 20:37:41.703813 140025720801088 deprecation_wrapper.py:119] From /home/leonardo/anaconda3/envs/gpu/lib/python3.7/site-packages/keras/backend/tensorflow_backend.py:4138: The name tf.random_uniform is deprecated. Please use tf.random.uniform instead.\n",
      "\n",
      "W0318 20:37:41.710902 140025720801088 deprecation_wrapper.py:119] From /home/leonardo/anaconda3/envs/gpu/lib/python3.7/site-packages/keras/backend/tensorflow_backend.py:174: The name tf.get_default_session is deprecated. Please use tf.compat.v1.get_default_session instead.\n",
      "\n",
      "W0318 20:37:41.711393 140025720801088 deprecation_wrapper.py:119] From /home/leonardo/anaconda3/envs/gpu/lib/python3.7/site-packages/keras/backend/tensorflow_backend.py:181: The name tf.ConfigProto is deprecated. Please use tf.compat.v1.ConfigProto instead.\n",
      "\n",
      "W0318 20:37:51.692404 140025720801088 deprecation_wrapper.py:119] From /home/leonardo/anaconda3/envs/gpu/lib/python3.7/site-packages/keras/backend/tensorflow_backend.py:3976: The name tf.nn.max_pool is deprecated. Please use tf.nn.max_pool2d instead.\n",
      "\n",
      "W0318 20:37:51.734942 140025720801088 deprecation_wrapper.py:119] From /home/leonardo/anaconda3/envs/gpu/lib/python3.7/site-packages/keras/optimizers.py:790: The name tf.train.Optimizer is deprecated. Please use tf.compat.v1.train.Optimizer instead.\n",
      "\n",
      "W0318 20:37:51.857456 140025720801088 deprecation.py:323] From /home/leonardo/anaconda3/envs/gpu/lib/python3.7/site-packages/tensorflow/python/ops/math_grad.py:1250: add_dispatch_support.<locals>.wrapper (from tensorflow.python.ops.array_ops) is deprecated and will be removed in a future version.\n",
      "Instructions for updating:\n",
      "Use tf.where in 2.0, which has the same broadcast rule as np.where\n"
     ]
    },
    {
     "name": "stdout",
     "output_type": "stream",
     "text": [
      "_________________________________________________________________\n",
      "Layer (type)                 Output Shape              Param #   \n",
      "=================================================================\n",
      "embedding_1 (Embedding)      (None, 6000, 100)         10210900  \n",
      "_________________________________________________________________\n",
      "conv1d_1 (Conv1D)            (None, 5994, 32)          22432     \n",
      "_________________________________________________________________\n",
      "max_pooling1d_1 (MaxPooling1 (None, 1198, 32)          0         \n",
      "_________________________________________________________________\n",
      "conv1d_2 (Conv1D)            (None, 1192, 32)          7200      \n",
      "_________________________________________________________________\n",
      "global_max_pooling1d_1 (Glob (None, 32)                0         \n",
      "_________________________________________________________________\n",
      "dense_1 (Dense)              (None, 91)                3003      \n",
      "=================================================================\n",
      "Total params: 10,243,535\n",
      "Trainable params: 32,635\n",
      "Non-trainable params: 10,210,900\n",
      "_________________________________________________________________\n",
      "Train on 8419 samples, validate on 2105 samples\n",
      "Epoch 1/20\n",
      "8419/8419 [==============================] - 12s 1ms/step - loss: 1.9914 - categorical_accuracy: 0.4693 - val_loss: 2.0672 - val_categorical_accuracy: 0.3615\n",
      "Epoch 2/20\n",
      "8419/8419 [==============================] - 4s 486us/step - loss: 1.5794 - categorical_accuracy: 0.5770 - val_loss: 1.6305 - val_categorical_accuracy: 0.4879\n",
      "Epoch 3/20\n",
      "8419/8419 [==============================] - 4s 508us/step - loss: 1.4555 - categorical_accuracy: 0.6105 - val_loss: 1.6288 - val_categorical_accuracy: 0.5363\n",
      "Epoch 4/20\n",
      "8419/8419 [==============================] - 4s 505us/step - loss: 1.3708 - categorical_accuracy: 0.6319 - val_loss: 1.6775 - val_categorical_accuracy: 0.4836\n",
      "Epoch 5/20\n",
      "8419/8419 [==============================] - 4s 484us/step - loss: 1.2935 - categorical_accuracy: 0.6477 - val_loss: 1.6644 - val_categorical_accuracy: 0.4931\n",
      "Epoch 6/20\n",
      "8419/8419 [==============================] - 4s 488us/step - loss: 1.2291 - categorical_accuracy: 0.6654 - val_loss: 1.8398 - val_categorical_accuracy: 0.4846\n",
      "Epoch 7/20\n",
      "8419/8419 [==============================] - 4s 494us/step - loss: 1.1543 - categorical_accuracy: 0.6927 - val_loss: 1.7527 - val_categorical_accuracy: 0.4922\n",
      "Epoch 8/20\n",
      "8419/8419 [==============================] - 4s 496us/step - loss: 1.0960 - categorical_accuracy: 0.7040 - val_loss: 1.8171 - val_categorical_accuracy: 0.4689\n",
      "Epoch 9/20\n",
      "8419/8419 [==============================] - 4s 488us/step - loss: 1.0256 - categorical_accuracy: 0.7203 - val_loss: 1.7241 - val_categorical_accuracy: 0.5069\n",
      "Epoch 10/20\n",
      "8419/8419 [==============================] - 4s 493us/step - loss: 0.9702 - categorical_accuracy: 0.7345 - val_loss: 1.7130 - val_categorical_accuracy: 0.5397\n",
      "Epoch 11/20\n",
      "8419/8419 [==============================] - 4s 506us/step - loss: 0.9085 - categorical_accuracy: 0.7545 - val_loss: 2.0014 - val_categorical_accuracy: 0.4803\n",
      "Epoch 12/20\n",
      "8419/8419 [==============================] - 4s 499us/step - loss: 0.8626 - categorical_accuracy: 0.7691 - val_loss: 1.5705 - val_categorical_accuracy: 0.5686\n",
      "Epoch 13/20\n",
      "8419/8419 [==============================] - 4s 492us/step - loss: 0.8083 - categorical_accuracy: 0.7822 - val_loss: 2.1733 - val_categorical_accuracy: 0.4527\n",
      "Epoch 14/20\n",
      "8419/8419 [==============================] - 4s 506us/step - loss: 0.7586 - categorical_accuracy: 0.7967 - val_loss: 2.1147 - val_categorical_accuracy: 0.4803\n",
      "Epoch 15/20\n",
      "8419/8419 [==============================] - 4s 493us/step - loss: 0.7131 - categorical_accuracy: 0.8108 - val_loss: 2.4116 - val_categorical_accuracy: 0.4214\n",
      "Epoch 16/20\n",
      "8419/8419 [==============================] - 4s 488us/step - loss: 0.6639 - categorical_accuracy: 0.8267 - val_loss: 1.8188 - val_categorical_accuracy: 0.5363\n",
      "Epoch 17/20\n",
      "8419/8419 [==============================] - 4s 506us/step - loss: 0.6214 - categorical_accuracy: 0.8360 - val_loss: 1.8633 - val_categorical_accuracy: 0.5207\n",
      "Epoch 18/20\n",
      "8419/8419 [==============================] - 4s 494us/step - loss: 0.5880 - categorical_accuracy: 0.8457 - val_loss: 1.9275 - val_categorical_accuracy: 0.4993\n",
      "Epoch 19/20\n",
      "8419/8419 [==============================] - 4s 494us/step - loss: 0.5417 - categorical_accuracy: 0.8641 - val_loss: 2.2855 - val_categorical_accuracy: 0.4228\n",
      "Epoch 20/20\n",
      "8419/8419 [==============================] - 4s 487us/step - loss: 0.5210 - categorical_accuracy: 0.8652 - val_loss: 2.2251 - val_categorical_accuracy: 0.5245\n"
     ]
    }
   ],
   "source": [
    "from keras.models import Sequential\n",
    "from keras.layers import Embedding, Conv1D, MaxPooling1D, Dense, GlobalMaxPooling1D, Flatten\n",
    "from keras.optimizers import RMSprop\n",
    "from keras.layers.core import Dropout\n",
    "\n",
    "model = Sequential()\n",
    "model.add(Embedding(vocabulario, dim_vetor, weights=[embedding_matrix], input_length=limite_texto, trainable=False))\n",
    "model.add(Conv1D(32, 7, activation='relu'))\n",
    "model.add(MaxPooling1D(5))\n",
    "model.add(Conv1D(32, 7, activation='relu'))\n",
    "model.add(GlobalMaxPooling1D())\n",
    "model.add(Dense(y.shape[1], activation='softmax'))\n",
    "model.compile(loss='categorical_crossentropy', optimizer=RMSprop(),  metrics=[\"categorical_accuracy\"])\n",
    "model.summary()\n",
    "history = model.fit(x, y, epochs=20, batch_size=32, validation_split=0.2, verbose=1, shuffle=True)"
   ]
  },
  {
   "cell_type": "code",
   "execution_count": 10,
   "metadata": {},
   "outputs": [
    {
     "name": "stdout",
     "output_type": "stream",
     "text": [
      "_________________________________________________________________\n",
      "Layer (type)                 Output Shape              Param #   \n",
      "=================================================================\n",
      "embedding_2 (Embedding)      (None, 6000, 100)         10210900  \n",
      "_________________________________________________________________\n",
      "conv1d_3 (Conv1D)            (None, 5994, 64)          44864     \n",
      "_________________________________________________________________\n",
      "max_pooling1d_2 (MaxPooling1 (None, 1198, 64)          0         \n",
      "_________________________________________________________________\n",
      "conv1d_4 (Conv1D)            (None, 1192, 32)          14368     \n",
      "_________________________________________________________________\n",
      "global_max_pooling1d_2 (Glob (None, 32)                0         \n",
      "_________________________________________________________________\n",
      "dense_2 (Dense)              (None, 91)                3003      \n",
      "=================================================================\n",
      "Total params: 10,273,135\n",
      "Trainable params: 10,273,135\n",
      "Non-trainable params: 0\n",
      "_________________________________________________________________\n",
      "Train on 8419 samples, validate on 2105 samples\n",
      "Epoch 1/20\n",
      "8419/8419 [==============================] - 11s 1ms/step - loss: 1.9199 - categorical_accuracy: 0.4825 - val_loss: 1.6022 - val_categorical_accuracy: 0.5435\n",
      "Epoch 2/20\n",
      "8419/8419 [==============================] - 10s 1ms/step - loss: 1.4908 - categorical_accuracy: 0.6008 - val_loss: 1.6496 - val_categorical_accuracy: 0.5568\n",
      "Epoch 3/20\n",
      "8419/8419 [==============================] - 10s 1ms/step - loss: 1.3335 - categorical_accuracy: 0.6406 - val_loss: 1.7169 - val_categorical_accuracy: 0.5221\n",
      "Epoch 4/20\n",
      "8419/8419 [==============================] - 10s 1ms/step - loss: 1.1924 - categorical_accuracy: 0.6846 - val_loss: 1.6123 - val_categorical_accuracy: 0.5601\n",
      "Epoch 5/20\n",
      "8419/8419 [==============================] - 10s 1ms/step - loss: 1.0462 - categorical_accuracy: 0.7285 - val_loss: 1.6410 - val_categorical_accuracy: 0.5534\n",
      "Epoch 6/20\n",
      "8419/8419 [==============================] - 10s 1ms/step - loss: 0.8907 - categorical_accuracy: 0.7746 - val_loss: 1.7588 - val_categorical_accuracy: 0.4770\n",
      "Epoch 7/20\n",
      "8419/8419 [==============================] - 10s 1ms/step - loss: 0.7380 - categorical_accuracy: 0.8235 - val_loss: 1.6652 - val_categorical_accuracy: 0.5373\n",
      "Epoch 8/20\n",
      "8419/8419 [==============================] - 10s 1ms/step - loss: 0.5886 - categorical_accuracy: 0.8690 - val_loss: 1.7480 - val_categorical_accuracy: 0.5306\n",
      "Epoch 9/20\n",
      "8419/8419 [==============================] - 10s 1ms/step - loss: 0.4649 - categorical_accuracy: 0.9021 - val_loss: 2.0823 - val_categorical_accuracy: 0.4960\n",
      "Epoch 10/20\n",
      "8419/8419 [==============================] - 10s 1ms/step - loss: 0.3641 - categorical_accuracy: 0.9232 - val_loss: 2.0147 - val_categorical_accuracy: 0.4575\n",
      "Epoch 11/20\n",
      "8419/8419 [==============================] - 10s 1ms/step - loss: 0.2890 - categorical_accuracy: 0.9398 - val_loss: 2.4100 - val_categorical_accuracy: 0.4926\n",
      "Epoch 12/20\n",
      "8419/8419 [==============================] - 10s 1ms/step - loss: 0.2315 - categorical_accuracy: 0.9526 - val_loss: 2.2420 - val_categorical_accuracy: 0.5330\n",
      "Epoch 13/20\n",
      "8419/8419 [==============================] - 10s 1ms/step - loss: 0.1913 - categorical_accuracy: 0.9601 - val_loss: 2.4355 - val_categorical_accuracy: 0.5202\n",
      "Epoch 14/20\n",
      "8419/8419 [==============================] - 10s 1ms/step - loss: 0.1573 - categorical_accuracy: 0.9684 - val_loss: 2.2538 - val_categorical_accuracy: 0.5154\n",
      "Epoch 15/20\n",
      "8419/8419 [==============================] - 10s 1ms/step - loss: 0.1356 - categorical_accuracy: 0.9727 - val_loss: 2.6510 - val_categorical_accuracy: 0.5530\n",
      "Epoch 16/20\n",
      "8419/8419 [==============================] - 10s 1ms/step - loss: 0.1163 - categorical_accuracy: 0.9761 - val_loss: 3.7566 - val_categorical_accuracy: 0.4356\n",
      "Epoch 17/20\n",
      "8419/8419 [==============================] - 10s 1ms/step - loss: 0.1079 - categorical_accuracy: 0.9760 - val_loss: 2.9594 - val_categorical_accuracy: 0.5264\n",
      "Epoch 18/20\n",
      "8419/8419 [==============================] - 10s 1ms/step - loss: 0.0976 - categorical_accuracy: 0.9780 - val_loss: 2.9271 - val_categorical_accuracy: 0.5197\n",
      "Epoch 19/20\n",
      "8419/8419 [==============================] - 10s 1ms/step - loss: 0.0893 - categorical_accuracy: 0.9793 - val_loss: 2.7697 - val_categorical_accuracy: 0.5373\n",
      "Epoch 20/20\n",
      "8419/8419 [==============================] - 10s 1ms/step - loss: 0.0868 - categorical_accuracy: 0.9791 - val_loss: 2.6889 - val_categorical_accuracy: 0.5344\n"
     ]
    }
   ],
   "source": [
    "model = Sequential()\n",
    "model.add(Embedding(vocabulario, dim_vetor, weights=[embedding_matrix], input_length=limite_texto, trainable=True))\n",
    "model.add(Conv1D(64, 7, activation='relu'))\n",
    "model.add(MaxPooling1D(5))\n",
    "model.add(Conv1D(32, 7, activation='relu'))\n",
    "model.add(GlobalMaxPooling1D())\n",
    "model.add(Dense(y.shape[1], activation='softmax'))\n",
    "model.compile(loss='categorical_crossentropy', optimizer=RMSprop(),  metrics=[\"categorical_accuracy\"])\n",
    "model.summary()\n",
    "history = model.fit(x, y, epochs=20, batch_size=32, validation_split=0.2, verbose=1, shuffle=True)"
   ]
  },
  {
   "cell_type": "code",
   "execution_count": 11,
   "metadata": {
    "scrolled": false
   },
   "outputs": [
    {
     "name": "stderr",
     "output_type": "stream",
     "text": [
      "W0318 20:42:51.110628 140025720801088 deprecation.py:506] From /home/leonardo/anaconda3/envs/gpu/lib/python3.7/site-packages/keras/backend/tensorflow_backend.py:3445: calling dropout (from tensorflow.python.ops.nn_ops) with keep_prob is deprecated and will be removed in a future version.\n",
      "Instructions for updating:\n",
      "Please use `rate` instead of `keep_prob`. Rate should be set to `rate = 1 - keep_prob`.\n"
     ]
    },
    {
     "name": "stdout",
     "output_type": "stream",
     "text": [
      "_________________________________________________________________\n",
      "Layer (type)                 Output Shape              Param #   \n",
      "=================================================================\n",
      "embedding_3 (Embedding)      (None, 6000, 100)         10210900  \n",
      "_________________________________________________________________\n",
      "conv1d_5 (Conv1D)            (None, 5994, 64)          44864     \n",
      "_________________________________________________________________\n",
      "max_pooling1d_3 (MaxPooling1 (None, 1198, 64)          0         \n",
      "_________________________________________________________________\n",
      "conv1d_6 (Conv1D)            (None, 1192, 32)          14368     \n",
      "_________________________________________________________________\n",
      "max_pooling1d_4 (MaxPooling1 (None, 238, 32)           0         \n",
      "_________________________________________________________________\n",
      "flatten_1 (Flatten)          (None, 7616)              0         \n",
      "_________________________________________________________________\n",
      "dense_3 (Dense)              (None, 256)               1949952   \n",
      "_________________________________________________________________\n",
      "dropout_1 (Dropout)          (None, 256)               0         \n",
      "_________________________________________________________________\n",
      "dense_4 (Dense)              (None, 91)                23387     \n",
      "=================================================================\n",
      "Total params: 12,243,471\n",
      "Trainable params: 12,243,471\n",
      "Non-trainable params: 0\n",
      "_________________________________________________________________\n",
      "Train on 8419 samples, validate on 2105 samples\n",
      "Epoch 1/20\n",
      "8419/8419 [==============================] - 12s 1ms/step - loss: 2.1050 - categorical_accuracy: 0.4496 - val_loss: 3.7390 - val_categorical_accuracy: 0.2751\n",
      "Epoch 2/20\n",
      "8419/8419 [==============================] - 11s 1ms/step - loss: 1.5385 - categorical_accuracy: 0.5818 - val_loss: 1.7272 - val_categorical_accuracy: 0.5458\n",
      "Epoch 3/20\n",
      "8419/8419 [==============================] - 11s 1ms/step - loss: 1.3071 - categorical_accuracy: 0.6391 - val_loss: 2.0569 - val_categorical_accuracy: 0.4271\n",
      "Epoch 4/20\n",
      "8419/8419 [==============================] - 11s 1ms/step - loss: 1.0667 - categorical_accuracy: 0.6995 - val_loss: 2.4449 - val_categorical_accuracy: 0.4556\n",
      "Epoch 5/20\n",
      "8419/8419 [==============================] - 11s 1ms/step - loss: 0.8191 - categorical_accuracy: 0.7757 - val_loss: 2.0867 - val_categorical_accuracy: 0.5292\n",
      "Epoch 6/20\n",
      "8419/8419 [==============================] - 11s 1ms/step - loss: 0.5763 - categorical_accuracy: 0.8473 - val_loss: 2.3994 - val_categorical_accuracy: 0.4770\n",
      "Epoch 7/20\n",
      "8419/8419 [==============================] - 11s 1ms/step - loss: 0.3970 - categorical_accuracy: 0.9041 - val_loss: 2.3568 - val_categorical_accuracy: 0.4850\n",
      "Epoch 8/20\n",
      "8419/8419 [==============================] - 11s 1ms/step - loss: 0.2830 - categorical_accuracy: 0.9335 - val_loss: 3.5708 - val_categorical_accuracy: 0.4119\n",
      "Epoch 9/20\n",
      "8419/8419 [==============================] - 11s 1ms/step - loss: 0.2195 - categorical_accuracy: 0.9496 - val_loss: 3.1367 - val_categorical_accuracy: 0.4865\n",
      "Epoch 10/20\n",
      "8419/8419 [==============================] - 11s 1ms/step - loss: 0.1791 - categorical_accuracy: 0.9593 - val_loss: 3.4444 - val_categorical_accuracy: 0.4580\n",
      "Epoch 11/20\n",
      "8419/8419 [==============================] - 11s 1ms/step - loss: 0.1575 - categorical_accuracy: 0.9650 - val_loss: 3.9186 - val_categorical_accuracy: 0.4580\n",
      "Epoch 12/20\n",
      "8419/8419 [==============================] - 11s 1ms/step - loss: 0.1286 - categorical_accuracy: 0.9727 - val_loss: 4.0548 - val_categorical_accuracy: 0.4703\n",
      "Epoch 13/20\n",
      "8419/8419 [==============================] - 11s 1ms/step - loss: 0.1209 - categorical_accuracy: 0.9748 - val_loss: 4.0769 - val_categorical_accuracy: 0.4670\n",
      "Epoch 14/20\n",
      "8419/8419 [==============================] - 11s 1ms/step - loss: 0.1204 - categorical_accuracy: 0.9746 - val_loss: 4.0853 - val_categorical_accuracy: 0.4713\n",
      "Epoch 15/20\n",
      "8419/8419 [==============================] - 11s 1ms/step - loss: 0.0997 - categorical_accuracy: 0.9797 - val_loss: 4.1914 - val_categorical_accuracy: 0.4641\n",
      "Epoch 16/20\n",
      "8419/8419 [==============================] - 11s 1ms/step - loss: 0.0827 - categorical_accuracy: 0.9836 - val_loss: 4.6280 - val_categorical_accuracy: 0.4722\n",
      "Epoch 17/20\n",
      "8419/8419 [==============================] - 11s 1ms/step - loss: 0.0954 - categorical_accuracy: 0.9816 - val_loss: 4.7225 - val_categorical_accuracy: 0.4675\n",
      "Epoch 18/20\n",
      "8419/8419 [==============================] - 11s 1ms/step - loss: 0.0840 - categorical_accuracy: 0.9846 - val_loss: 4.9761 - val_categorical_accuracy: 0.4736\n",
      "Epoch 19/20\n",
      "8419/8419 [==============================] - 11s 1ms/step - loss: 0.0710 - categorical_accuracy: 0.9849 - val_loss: 5.7169 - val_categorical_accuracy: 0.5017\n",
      "Epoch 20/20\n",
      "8419/8419 [==============================] - 11s 1ms/step - loss: 0.0913 - categorical_accuracy: 0.9836 - val_loss: 4.8006 - val_categorical_accuracy: 0.4912\n"
     ]
    }
   ],
   "source": [
    "model = Sequential()\n",
    "model.add(Embedding(vocabulario, dim_vetor, weights=[embedding_matrix], input_length=limite_texto, trainable=True))\n",
    "model.add(Conv1D(64, 7, activation='relu'))\n",
    "model.add(MaxPooling1D(5))\n",
    "model.add(Conv1D(32, 7, activation='relu'))\n",
    "model.add(MaxPooling1D(5))\n",
    "model.add(Flatten())\n",
    "model.add(Dense(256, activation='relu'))\n",
    "model.add(Dropout(0.2))\n",
    "model.add(Dense(y.shape[1], activation='softmax'))\n",
    "model.compile(loss='categorical_crossentropy', optimizer=RMSprop(),  metrics=[\"categorical_accuracy\"])\n",
    "model.summary()\n",
    "history = model.fit(x, y, epochs=20, batch_size=32, validation_split=0.2, verbose=1, shuffle=True)"
   ]
  },
  {
   "cell_type": "code",
   "execution_count": 12,
   "metadata": {},
   "outputs": [
    {
     "name": "stdout",
     "output_type": "stream",
     "text": [
      "_________________________________________________________________\n",
      "Layer (type)                 Output Shape              Param #   \n",
      "=================================================================\n",
      "embedding_4 (Embedding)      (None, 6000, 100)         10210900  \n",
      "_________________________________________________________________\n",
      "conv1d_7 (Conv1D)            (None, 5994, 64)          44864     \n",
      "_________________________________________________________________\n",
      "max_pooling1d_5 (MaxPooling1 (None, 1198, 64)          0         \n",
      "_________________________________________________________________\n",
      "conv1d_8 (Conv1D)            (None, 1192, 32)          14368     \n",
      "_________________________________________________________________\n",
      "max_pooling1d_6 (MaxPooling1 (None, 238, 32)           0         \n",
      "_________________________________________________________________\n",
      "flatten_2 (Flatten)          (None, 7616)              0         \n",
      "_________________________________________________________________\n",
      "dense_5 (Dense)              (None, 1024)              7799808   \n",
      "_________________________________________________________________\n",
      "dropout_2 (Dropout)          (None, 1024)              0         \n",
      "_________________________________________________________________\n",
      "dense_6 (Dense)              (None, 128)               131200    \n",
      "_________________________________________________________________\n",
      "dropout_3 (Dropout)          (None, 128)               0         \n",
      "_________________________________________________________________\n",
      "dense_7 (Dense)              (None, 91)                11739     \n",
      "=================================================================\n",
      "Total params: 18,212,879\n",
      "Trainable params: 18,212,879\n",
      "Non-trainable params: 0\n",
      "_________________________________________________________________\n",
      "Train on 8419 samples, validate on 2105 samples\n",
      "Epoch 1/20\n",
      "8419/8419 [==============================] - 13s 2ms/step - loss: 2.2133 - categorical_accuracy: 0.4294 - val_loss: 2.1284 - val_categorical_accuracy: 0.3838\n",
      "Epoch 2/20\n",
      "8419/8419 [==============================] - 12s 1ms/step - loss: 1.5838 - categorical_accuracy: 0.5768 - val_loss: 3.8599 - val_categorical_accuracy: 0.2941\n",
      "Epoch 3/20\n",
      "8419/8419 [==============================] - 12s 1ms/step - loss: 1.3581 - categorical_accuracy: 0.6270 - val_loss: 1.8624 - val_categorical_accuracy: 0.4556\n",
      "Epoch 4/20\n",
      "8419/8419 [==============================] - 12s 1ms/step - loss: 1.1320 - categorical_accuracy: 0.6856 - val_loss: 1.9269 - val_categorical_accuracy: 0.4613\n",
      "Epoch 5/20\n",
      "8419/8419 [==============================] - 12s 1ms/step - loss: 0.8669 - categorical_accuracy: 0.7484 - val_loss: 2.0373 - val_categorical_accuracy: 0.4309\n",
      "Epoch 6/20\n",
      "8419/8419 [==============================] - 12s 1ms/step - loss: 0.6473 - categorical_accuracy: 0.8164 - val_loss: 2.4590 - val_categorical_accuracy: 0.4651\n",
      "Epoch 7/20\n",
      "8419/8419 [==============================] - 12s 1ms/step - loss: 0.5028 - categorical_accuracy: 0.8633 - val_loss: 3.0476 - val_categorical_accuracy: 0.4580\n",
      "Epoch 8/20\n",
      "8419/8419 [==============================] - 12s 1ms/step - loss: 0.4083 - categorical_accuracy: 0.8999 - val_loss: 3.6704 - val_categorical_accuracy: 0.4513\n",
      "Epoch 9/20\n",
      "8419/8419 [==============================] - 12s 1ms/step - loss: 0.3403 - categorical_accuracy: 0.9176 - val_loss: 3.9264 - val_categorical_accuracy: 0.4575\n",
      "Epoch 10/20\n",
      "8419/8419 [==============================] - 12s 1ms/step - loss: 0.3044 - categorical_accuracy: 0.9281 - val_loss: 3.9428 - val_categorical_accuracy: 0.4765\n",
      "Epoch 11/20\n",
      "8419/8419 [==============================] - 12s 1ms/step - loss: 0.2764 - categorical_accuracy: 0.9348 - val_loss: 3.9778 - val_categorical_accuracy: 0.4817\n",
      "Epoch 12/20\n",
      "8419/8419 [==============================] - 12s 1ms/step - loss: 0.2452 - categorical_accuracy: 0.9442 - val_loss: 4.4174 - val_categorical_accuracy: 0.4532\n",
      "Epoch 13/20\n",
      "8419/8419 [==============================] - 12s 1ms/step - loss: 0.2188 - categorical_accuracy: 0.9514 - val_loss: 4.7234 - val_categorical_accuracy: 0.4831\n",
      "Epoch 14/20\n",
      "8419/8419 [==============================] - 12s 1ms/step - loss: 0.2160 - categorical_accuracy: 0.9563 - val_loss: 5.4153 - val_categorical_accuracy: 0.4404\n",
      "Epoch 15/20\n",
      "8419/8419 [==============================] - 12s 1ms/step - loss: 0.1910 - categorical_accuracy: 0.9587 - val_loss: 5.9162 - val_categorical_accuracy: 0.4200\n",
      "Epoch 16/20\n",
      "8419/8419 [==============================] - 12s 1ms/step - loss: 0.1868 - categorical_accuracy: 0.9608 - val_loss: 4.1294 - val_categorical_accuracy: 0.4437\n",
      "Epoch 17/20\n",
      "8419/8419 [==============================] - 12s 1ms/step - loss: 0.1899 - categorical_accuracy: 0.9623 - val_loss: 4.3303 - val_categorical_accuracy: 0.4741\n",
      "Epoch 18/20\n",
      "8419/8419 [==============================] - 12s 1ms/step - loss: 0.1805 - categorical_accuracy: 0.9638 - val_loss: 4.5308 - val_categorical_accuracy: 0.4537\n",
      "Epoch 19/20\n",
      "8419/8419 [==============================] - 12s 1ms/step - loss: 0.1725 - categorical_accuracy: 0.9635 - val_loss: 4.5219 - val_categorical_accuracy: 0.4803\n",
      "Epoch 20/20\n",
      "8419/8419 [==============================] - 12s 1ms/step - loss: 0.1666 - categorical_accuracy: 0.9666 - val_loss: 4.8636 - val_categorical_accuracy: 0.4309\n"
     ]
    }
   ],
   "source": [
    "model = Sequential()\n",
    "model.add(Embedding(vocabulario, dim_vetor, weights=[embedding_matrix], input_length=limite_texto, trainable=True))\n",
    "model.add(Conv1D(64, 7, activation='relu'))\n",
    "model.add(MaxPooling1D(5))\n",
    "model.add(Conv1D(32, 7, activation='relu'))\n",
    "model.add(MaxPooling1D(5))\n",
    "model.add(Flatten())\n",
    "model.add(Dense(1024, activation='relu'))\n",
    "model.add(Dropout(0.2))\n",
    "model.add(Dense(128, activation='relu'))\n",
    "model.add(Dropout(0.2))\n",
    "model.add(Dense(y.shape[1], activation='softmax'))\n",
    "model.compile(loss='categorical_crossentropy', optimizer=RMSprop(),  metrics=[\"categorical_accuracy\"])\n",
    "model.summary()\n",
    "history = model.fit(x, y, epochs=20, batch_size=32, validation_split=0.2, verbose=1, shuffle=True)"
   ]
  },
  {
   "cell_type": "code",
   "execution_count": null,
   "metadata": {},
   "outputs": [],
   "source": []
  }
 ],
 "metadata": {
  "kernelspec": {
   "display_name": "Python 3",
   "language": "python",
   "name": "python3"
  },
  "language_info": {
   "codemirror_mode": {
    "name": "ipython",
    "version": 3
   },
   "file_extension": ".py",
   "mimetype": "text/x-python",
   "name": "python",
   "nbconvert_exporter": "python",
   "pygments_lexer": "ipython3",
   "version": "3.7.4"
  }
 },
 "nbformat": 4,
 "nbformat_minor": 2
}
