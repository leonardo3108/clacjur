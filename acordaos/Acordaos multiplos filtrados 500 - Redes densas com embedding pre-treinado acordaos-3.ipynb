{
 "cells": [
  {
   "cell_type": "code",
   "execution_count": 1,
   "metadata": {},
   "outputs": [
    {
     "data": {
      "text/html": [
       "<div>\n",
       "<style scoped>\n",
       "    .dataframe tbody tr th:only-of-type {\n",
       "        vertical-align: middle;\n",
       "    }\n",
       "\n",
       "    .dataframe tbody tr th {\n",
       "        vertical-align: top;\n",
       "    }\n",
       "\n",
       "    .dataframe thead th {\n",
       "        text-align: right;\n",
       "    }\n",
       "</style>\n",
       "<table border=\"1\" class=\"dataframe\">\n",
       "  <thead>\n",
       "    <tr style=\"text-align: right;\">\n",
       "      <th></th>\n",
       "      <th>acordao</th>\n",
       "      <th>areas</th>\n",
       "      <th>filtrado_500</th>\n",
       "    </tr>\n",
       "  </thead>\n",
       "  <tbody>\n",
       "    <tr>\n",
       "      <th>0</th>\n",
       "      <td>297/2016-P</td>\n",
       "      <td>Responsabilidade</td>\n",
       "      <td>conta conta gerência instituto nacional seguro...</td>\n",
       "    </tr>\n",
       "    <tr>\n",
       "      <th>1</th>\n",
       "      <td>366/2016-P</td>\n",
       "      <td>Finanças Públicas</td>\n",
       "      <td>senado petróleo petróleo regime aduaneiro expo...</td>\n",
       "    </tr>\n",
       "    <tr>\n",
       "      <th>2</th>\n",
       "      <td>944/2016-P</td>\n",
       "      <td>Responsabilidade</td>\n",
       "      <td>tribunal conta plenário embargo declaração aco...</td>\n",
       "    </tr>\n",
       "    <tr>\n",
       "      <th>3</th>\n",
       "      <td>30/2016-P</td>\n",
       "      <td>Direito Processual</td>\n",
       "      <td>embargo declaração inss recorrente marco antôn...</td>\n",
       "    </tr>\n",
       "    <tr>\n",
       "      <th>4</th>\n",
       "      <td>55/2016-P</td>\n",
       "      <td>Pessoal</td>\n",
       "      <td>senac senac senac empresa senac giselle araújo...</td>\n",
       "    </tr>\n",
       "  </tbody>\n",
       "</table>\n",
       "</div>"
      ],
      "text/plain": [
       "      acordao               areas  \\\n",
       "0  297/2016-P    Responsabilidade   \n",
       "1  366/2016-P   Finanças Públicas   \n",
       "2  944/2016-P    Responsabilidade   \n",
       "3   30/2016-P  Direito Processual   \n",
       "4   55/2016-P             Pessoal   \n",
       "\n",
       "                                        filtrado_500  \n",
       "0  conta conta gerência instituto nacional seguro...  \n",
       "1  senado petróleo petróleo regime aduaneiro expo...  \n",
       "2  tribunal conta plenário embargo declaração aco...  \n",
       "3  embargo declaração inss recorrente marco antôn...  \n",
       "4  senac senac senac empresa senac giselle araújo...  "
      ]
     },
     "execution_count": 1,
     "metadata": {},
     "output_type": "execute_result"
    }
   ],
   "source": [
    "import pandas as pd\n",
    "\n",
    "df = pd.read_csv('../dados/acordaos-selecionada-filtrados-500.csv', sep = '|')\n",
    "df['filtrado_500']=df['filtrado_500'].astype(str)\n",
    "df.head()"
   ]
  },
  {
   "cell_type": "code",
   "execution_count": 2,
   "metadata": {},
   "outputs": [
    {
     "data": {
      "text/plain": [
       "(10524, 3)"
      ]
     },
     "execution_count": 2,
     "metadata": {},
     "output_type": "execute_result"
    }
   ],
   "source": [
    "df.shape"
   ]
  },
  {
   "cell_type": "code",
   "execution_count": 3,
   "metadata": {},
   "outputs": [
    {
     "data": {
      "text/plain": [
       "array(['Competência do TCU', 'Competência do TCU,Contrato Administrativo',\n",
       "       'Competência do TCU,Contrato Administrativo,Responsabilidade',\n",
       "       'Competência do TCU,Convênio',\n",
       "       'Competência do TCU,Convênio,Direito Processual,Licitação',\n",
       "       'Competência do TCU,Convênio,Gestão Administrativa',\n",
       "       'Competência do TCU,Convênio,Responsabilidade',\n",
       "       'Competência do TCU,Desestatização',\n",
       "       'Competência do TCU,Direito Processual',\n",
       "       'Competência do TCU,Direito Processual,Licitação',\n",
       "       'Competência do TCU,Direito Processual,Pessoal',\n",
       "       'Competência do TCU,Direito Processual,Responsabilidade',\n",
       "       'Competência do TCU,Finanças Públicas',\n",
       "       'Competência do TCU,Finanças Públicas,Licitação',\n",
       "       'Competência do TCU,Finanças Públicas,Responsabilidade',\n",
       "       'Competência do TCU,Gestão Administrativa',\n",
       "       'Competência do TCU,Licitação',\n",
       "       'Competência do TCU,Licitação,Pessoal',\n",
       "       'Competência do TCU,Licitação,Responsabilidade',\n",
       "       'Competência do TCU,Pessoal',\n",
       "       'Competência do TCU,Pessoal,Responsabilidade',\n",
       "       'Competência do TCU,Responsabilidade', 'Contrato Administrativo',\n",
       "       'Contrato Administrativo,Convênio',\n",
       "       'Contrato Administrativo,Convênio,Finanças Públicas',\n",
       "       'Contrato Administrativo,Convênio,Gestão Administrativa',\n",
       "       'Contrato Administrativo,Convênio,Licitação',\n",
       "       'Contrato Administrativo,Desestatização',\n",
       "       'Contrato Administrativo,Desestatização,Licitação',\n",
       "       'Contrato Administrativo,Direito Processual',\n",
       "       'Contrato Administrativo,Direito Processual,Gestão Administrativa',\n",
       "       'Contrato Administrativo,Direito Processual,Licitação',\n",
       "       'Contrato Administrativo,Direito Processual,Licitação,Responsabilidade',\n",
       "       'Contrato Administrativo,Direito Processual,Responsabilidade',\n",
       "       'Contrato Administrativo,Finanças Públicas',\n",
       "       'Contrato Administrativo,Finanças Públicas,Gestão Administrativa,Licitação',\n",
       "       'Contrato Administrativo,Finanças Públicas,Licitação',\n",
       "       'Contrato Administrativo,Finanças Públicas,Responsabilidade',\n",
       "       'Contrato Administrativo,Gestão Administrativa',\n",
       "       'Contrato Administrativo,Gestão Administrativa,Licitação',\n",
       "       'Contrato Administrativo,Licitação',\n",
       "       'Contrato Administrativo,Licitação,Pessoal',\n",
       "       'Contrato Administrativo,Licitação,Responsabilidade',\n",
       "       'Contrato Administrativo,Pessoal',\n",
       "       'Contrato Administrativo,Responsabilidade', 'Convênio',\n",
       "       'Convênio,Desestatização,Finanças Públicas,Licitação',\n",
       "       'Convênio,Direito Processual', 'Convênio,Finanças Públicas',\n",
       "       'Convênio,Finanças Públicas,Licitação,Pessoal',\n",
       "       'Convênio,Gestão Administrativa',\n",
       "       'Convênio,Gestão Administrativa,Licitação',\n",
       "       'Convênio,Gestão Administrativa,Pessoal',\n",
       "       'Convênio,Gestão Administrativa,Responsabilidade',\n",
       "       'Convênio,Licitação', 'Convênio,Pessoal',\n",
       "       'Convênio,Responsabilidade', 'Desestatização',\n",
       "       'Desestatização,Direito Processual',\n",
       "       'Desestatização,Finanças Públicas',\n",
       "       'Desestatização,Gestão Administrativa',\n",
       "       'Desestatização,Gestão Administrativa,Pessoal',\n",
       "       'Desestatização,Licitação',\n",
       "       'Desestatização,Licitação,Responsabilidade', 'Direito Processual',\n",
       "       'Direito Processual,Finanças Públicas',\n",
       "       'Direito Processual,Gestão Administrativa,Responsabilidade',\n",
       "       'Direito Processual,Licitação',\n",
       "       'Direito Processual,Licitação,Responsabilidade',\n",
       "       'Direito Processual,Pessoal',\n",
       "       'Direito Processual,Responsabilidade', 'Finanças Públicas',\n",
       "       'Finanças Públicas,Gestão Administrativa',\n",
       "       'Finanças Públicas,Gestão Administrativa,Licitação',\n",
       "       'Finanças Públicas,Gestão Administrativa,Pessoal',\n",
       "       'Finanças Públicas,Licitação',\n",
       "       'Finanças Públicas,Licitação,Pessoal', 'Finanças Públicas,Pessoal',\n",
       "       'Finanças Públicas,Responsabilidade', 'Gestão Administrativa',\n",
       "       'Gestão Administrativa,Licitação',\n",
       "       'Gestão Administrativa,Licitação,Pessoal,Responsabilidade',\n",
       "       'Gestão Administrativa,Pessoal',\n",
       "       'Gestão Administrativa,Responsabilidade', 'Licitação',\n",
       "       'Licitação,Pessoal', 'Licitação,Pessoal,Responsabilidade',\n",
       "       'Licitação,Responsabilidade', 'Pessoal',\n",
       "       'Pessoal,Responsabilidade', 'Responsabilidade'], dtype='<U73')"
      ]
     },
     "execution_count": 3,
     "metadata": {},
     "output_type": "execute_result"
    }
   ],
   "source": [
    "from sklearn.preprocessing import LabelBinarizer\n",
    "\n",
    "areas = df.groupby(['areas']).groups.keys()\n",
    "lbArea = LabelBinarizer()\n",
    "lbArea.fit([x for x in areas])\n",
    "lbArea.classes_"
   ]
  },
  {
   "cell_type": "code",
   "execution_count": 4,
   "metadata": {},
   "outputs": [
    {
     "data": {
      "text/plain": [
       "(10524, 91)"
      ]
     },
     "execution_count": 4,
     "metadata": {},
     "output_type": "execute_result"
    }
   ],
   "source": [
    "y = lbArea.transform(df['areas'])\n",
    "y.shape"
   ]
  },
  {
   "cell_type": "code",
   "execution_count": 5,
   "metadata": {},
   "outputs": [
    {
     "name": "stderr",
     "output_type": "stream",
     "text": [
      "Using TensorFlow backend.\n"
     ]
    },
    {
     "name": "stdout",
     "output_type": "stream",
     "text": [
      "Found 33339 unique tokens.\n"
     ]
    }
   ],
   "source": [
    "from keras.preprocessing.text import Tokenizer\n",
    "import numpy as np\n",
    "\n",
    "vocabulario = 35000\n",
    "limite_texto = 500\n",
    "dim_vetor = 100\n",
    "\n",
    "tokenizer = Tokenizer(num_words=vocabulario)\n",
    "tokenizer.fit_on_texts(df['filtrado_500'])\n",
    "\n",
    "sequences = tokenizer.texts_to_sequences(df['filtrado_500'])\n",
    "\n",
    "word_index = tokenizer.word_index\n",
    "print('Found %s unique tokens.' % len(word_index))"
   ]
  },
  {
   "cell_type": "code",
   "execution_count": 6,
   "metadata": {},
   "outputs": [
    {
     "name": "stdout",
     "output_type": "stream",
     "text": [
      "Shape of data tensor: (10524, 500)\n"
     ]
    }
   ],
   "source": [
    "from keras.preprocessing.sequence import pad_sequences\n",
    "\n",
    "x = pad_sequences(sequences, maxlen=limite_texto)\n",
    "\n",
    "print('Shape of data tensor:', x.shape)"
   ]
  },
  {
   "cell_type": "code",
   "execution_count": 7,
   "metadata": {},
   "outputs": [
    {
     "name": "stderr",
     "output_type": "stream",
     "text": [
      "/home/leonardo/anaconda3/envs/gpu/lib/python3.7/site-packages/smart_open/smart_open_lib.py:398: UserWarning: This function is deprecated, use smart_open.open instead. See the migration notes for details: https://github.com/RaRe-Technologies/smart_open/blob/master/README.rst#migrating-to-the-new-open-function\n",
      "  'See the migration notes for details: %s' % _MIGRATION_NOTES_URL\n"
     ]
    }
   ],
   "source": [
    "from gensim.models import Word2Vec\n",
    "\n",
    "model = Word2Vec.load('../vocabularios/modelo-acordaos.w2v')"
   ]
  },
  {
   "cell_type": "code",
   "execution_count": 8,
   "metadata": {},
   "outputs": [
    {
     "name": "stderr",
     "output_type": "stream",
     "text": [
      "/home/leonardo/anaconda3/envs/gpu/lib/python3.7/site-packages/ipykernel_launcher.py:7: DeprecationWarning: Call to deprecated `__contains__` (Method will be removed in 4.0.0, use self.wv.__contains__() instead).\n",
      "  import sys\n",
      "/home/leonardo/anaconda3/envs/gpu/lib/python3.7/site-packages/ipykernel_launcher.py:8: DeprecationWarning: Call to deprecated `__getitem__` (Method will be removed in 4.0.0, use self.wv.__getitem__() instead).\n",
      "  \n"
     ]
    },
    {
     "name": "stdout",
     "output_type": "stream",
     "text": [
      "Vocabulario: 33339\n",
      "Encontrados no modelo: 25799 = 77.38384474639311\n"
     ]
    }
   ],
   "source": [
    "# create a weight matrix for words in training docs\n",
    "\n",
    "embedding_matrix = np.zeros((vocabulario, dim_vetor))\n",
    "\n",
    "ok = 0\n",
    "for word, i in tokenizer.word_index.items():\n",
    "    if word in model:\n",
    "        embedding_matrix[i] = model[word]\n",
    "        ok += 1\n",
    "print('Vocabulario:', i)\n",
    "print('Encontrados no modelo:', ok, '=', ok * 100. / i)"
   ]
  },
  {
   "cell_type": "code",
   "execution_count": 9,
   "metadata": {
    "scrolled": true
   },
   "outputs": [
    {
     "data": {
      "text/plain": [
       "((10524, 500), (10524, 91))"
      ]
     },
     "execution_count": 9,
     "metadata": {},
     "output_type": "execute_result"
    }
   ],
   "source": [
    "x.shape, y.shape"
   ]
  },
  {
   "cell_type": "markdown",
   "metadata": {},
   "source": [
    "# Treinamento\n",
    "\n",
    "## Embedding com pesos fixos"
   ]
  },
  {
   "cell_type": "code",
   "execution_count": 10,
   "metadata": {
    "scrolled": false
   },
   "outputs": [
    {
     "name": "stderr",
     "output_type": "stream",
     "text": [
      "WARNING: Logging before flag parsing goes to stderr.\n",
      "W0318 11:13:44.292558 139644643493696 deprecation_wrapper.py:119] From /home/leonardo/anaconda3/envs/gpu/lib/python3.7/site-packages/keras/backend/tensorflow_backend.py:74: The name tf.get_default_graph is deprecated. Please use tf.compat.v1.get_default_graph instead.\n",
      "\n",
      "W0318 11:13:44.398445 139644643493696 deprecation_wrapper.py:119] From /home/leonardo/anaconda3/envs/gpu/lib/python3.7/site-packages/keras/backend/tensorflow_backend.py:517: The name tf.placeholder is deprecated. Please use tf.compat.v1.placeholder instead.\n",
      "\n",
      "W0318 11:13:44.400490 139644643493696 deprecation_wrapper.py:119] From /home/leonardo/anaconda3/envs/gpu/lib/python3.7/site-packages/keras/backend/tensorflow_backend.py:4138: The name tf.random_uniform is deprecated. Please use tf.random.uniform instead.\n",
      "\n",
      "W0318 11:13:44.407942 139644643493696 deprecation_wrapper.py:119] From /home/leonardo/anaconda3/envs/gpu/lib/python3.7/site-packages/keras/backend/tensorflow_backend.py:174: The name tf.get_default_session is deprecated. Please use tf.compat.v1.get_default_session instead.\n",
      "\n",
      "W0318 11:13:44.408482 139644643493696 deprecation_wrapper.py:119] From /home/leonardo/anaconda3/envs/gpu/lib/python3.7/site-packages/keras/backend/tensorflow_backend.py:181: The name tf.ConfigProto is deprecated. Please use tf.compat.v1.ConfigProto instead.\n",
      "\n",
      "W0318 11:13:45.115968 139644643493696 deprecation.py:506] From /home/leonardo/anaconda3/envs/gpu/lib/python3.7/site-packages/keras/backend/tensorflow_backend.py:3445: calling dropout (from tensorflow.python.ops.nn_ops) with keep_prob is deprecated and will be removed in a future version.\n",
      "Instructions for updating:\n",
      "Please use `rate` instead of `keep_prob`. Rate should be set to `rate = 1 - keep_prob`.\n",
      "W0318 11:13:45.160078 139644643493696 deprecation_wrapper.py:119] From /home/leonardo/anaconda3/envs/gpu/lib/python3.7/site-packages/keras/optimizers.py:790: The name tf.train.Optimizer is deprecated. Please use tf.compat.v1.train.Optimizer instead.\n",
      "\n",
      "W0318 11:13:45.248417 139644643493696 deprecation.py:323] From /home/leonardo/anaconda3/envs/gpu/lib/python3.7/site-packages/tensorflow/python/ops/math_grad.py:1250: add_dispatch_support.<locals>.wrapper (from tensorflow.python.ops.array_ops) is deprecated and will be removed in a future version.\n",
      "Instructions for updating:\n",
      "Use tf.where in 2.0, which has the same broadcast rule as np.where\n"
     ]
    },
    {
     "name": "stdout",
     "output_type": "stream",
     "text": [
      "_________________________________________________________________\n",
      "Layer (type)                 Output Shape              Param #   \n",
      "=================================================================\n",
      "embedding_1 (Embedding)      (None, 500, 100)          3500000   \n",
      "_________________________________________________________________\n",
      "flatten_1 (Flatten)          (None, 50000)             0         \n",
      "_________________________________________________________________\n",
      "dense_1 (Dense)              (None, 2048)              102402048 \n",
      "_________________________________________________________________\n",
      "dropout_1 (Dropout)          (None, 2048)              0         \n",
      "_________________________________________________________________\n",
      "dense_2 (Dense)              (None, 256)               524544    \n",
      "_________________________________________________________________\n",
      "dropout_2 (Dropout)          (None, 256)               0         \n",
      "_________________________________________________________________\n",
      "dense_3 (Dense)              (None, 91)                23387     \n",
      "=================================================================\n",
      "Total params: 106,449,979\n",
      "Trainable params: 102,949,979\n",
      "Non-trainable params: 3,500,000\n",
      "_________________________________________________________________\n",
      "Train on 8419 samples, validate on 2105 samples\n",
      "Epoch 1/20\n",
      "8419/8419 [==============================] - 34s 4ms/step - loss: 7.7468 - categorical_accuracy: 0.5054 - val_loss: 7.5050 - val_categorical_accuracy: 0.5249\n",
      "Epoch 2/20\n",
      "8419/8419 [==============================] - 31s 4ms/step - loss: 7.4687 - categorical_accuracy: 0.5289 - val_loss: 7.8927 - val_categorical_accuracy: 0.4998\n",
      "Epoch 3/20\n",
      "8419/8419 [==============================] - 31s 4ms/step - loss: 7.3973 - categorical_accuracy: 0.5343 - val_loss: 7.7852 - val_categorical_accuracy: 0.5112\n",
      "Epoch 4/20\n",
      "8419/8419 [==============================] - 31s 4ms/step - loss: 7.3028 - categorical_accuracy: 0.5399 - val_loss: 7.6002 - val_categorical_accuracy: 0.5226\n",
      "Epoch 5/20\n",
      "8419/8419 [==============================] - 31s 4ms/step - loss: 7.2635 - categorical_accuracy: 0.5432 - val_loss: 7.2950 - val_categorical_accuracy: 0.5411\n",
      "Epoch 6/20\n",
      "8419/8419 [==============================] - 31s 4ms/step - loss: 7.1965 - categorical_accuracy: 0.5473 - val_loss: 7.3983 - val_categorical_accuracy: 0.5340\n",
      "Epoch 7/20\n",
      "8419/8419 [==============================] - 31s 4ms/step - loss: 7.2024 - categorical_accuracy: 0.5466 - val_loss: 7.9807 - val_categorical_accuracy: 0.4979\n",
      "Epoch 8/20\n",
      "8419/8419 [==============================] - 31s 4ms/step - loss: 7.2212 - categorical_accuracy: 0.5461 - val_loss: 7.4541 - val_categorical_accuracy: 0.5316\n",
      "Epoch 9/20\n",
      "8419/8419 [==============================] - 31s 4ms/step - loss: 7.1525 - categorical_accuracy: 0.5510 - val_loss: 7.4534 - val_categorical_accuracy: 0.5325\n",
      "Epoch 10/20\n",
      "8419/8419 [==============================] - 31s 4ms/step - loss: 7.1546 - categorical_accuracy: 0.5515 - val_loss: 7.8905 - val_categorical_accuracy: 0.5050\n",
      "Epoch 11/20\n",
      "8419/8419 [==============================] - 31s 4ms/step - loss: 7.0968 - categorical_accuracy: 0.5546 - val_loss: 7.5755 - val_categorical_accuracy: 0.5240\n",
      "Epoch 12/20\n",
      "8419/8419 [==============================] - 31s 4ms/step - loss: 7.1553 - categorical_accuracy: 0.5509 - val_loss: 7.4655 - val_categorical_accuracy: 0.5311\n",
      "Epoch 13/20\n",
      "8419/8419 [==============================] - 31s 4ms/step - loss: 7.1744 - categorical_accuracy: 0.5491 - val_loss: 7.2672 - val_categorical_accuracy: 0.5444\n",
      "Epoch 14/20\n",
      "8419/8419 [==============================] - 31s 4ms/step - loss: 7.1404 - categorical_accuracy: 0.5515 - val_loss: 7.7129 - val_categorical_accuracy: 0.5159\n",
      "Epoch 15/20\n",
      "8419/8419 [==============================] - 31s 4ms/step - loss: 7.0612 - categorical_accuracy: 0.5562 - val_loss: 7.8116 - val_categorical_accuracy: 0.5102\n",
      "Epoch 16/20\n",
      "8419/8419 [==============================] - 31s 4ms/step - loss: 7.0804 - categorical_accuracy: 0.5554 - val_loss: 7.4565 - val_categorical_accuracy: 0.5335\n",
      "Epoch 17/20\n",
      "8419/8419 [==============================] - 31s 4ms/step - loss: 7.0723 - categorical_accuracy: 0.5555 - val_loss: 7.3829 - val_categorical_accuracy: 0.5378\n",
      "Epoch 18/20\n",
      "8419/8419 [==============================] - 31s 4ms/step - loss: 7.0488 - categorical_accuracy: 0.5572 - val_loss: 7.8832 - val_categorical_accuracy: 0.5050\n",
      "Epoch 19/20\n",
      "8419/8419 [==============================] - 31s 4ms/step - loss: 7.0595 - categorical_accuracy: 0.5566 - val_loss: 7.2765 - val_categorical_accuracy: 0.5420\n",
      "Epoch 20/20\n",
      "8419/8419 [==============================] - 31s 4ms/step - loss: 7.0764 - categorical_accuracy: 0.5556 - val_loss: 7.8750 - val_categorical_accuracy: 0.5059\n"
     ]
    }
   ],
   "source": [
    "from keras.models import Sequential\n",
    "from keras.layers import Flatten, Dense, Embedding\n",
    "from keras.layers.core import Dropout\n",
    "\n",
    "model = Sequential()\n",
    "model.add(Embedding(vocabulario, dim_vetor, weights=[embedding_matrix], input_length=limite_texto, trainable=False))\n",
    "model.add(Flatten())\n",
    "model.add(Dense(2048, activation='relu'))\n",
    "model.add(Dropout(0.4))\n",
    "model.add(Dense(256, activation='relu'))\n",
    "model.add(Dropout(0.4))\n",
    "model.add(Dense(y.shape[1], activation='softmax'))\n",
    "model.compile(loss='categorical_crossentropy', optimizer='adadelta',  metrics=[\"categorical_accuracy\"])\n",
    "model.summary()\n",
    "history = model.fit(x, y, epochs=20, batch_size=32, validation_split=0.2, verbose=1, shuffle=True)"
   ]
  },
  {
   "cell_type": "code",
   "execution_count": null,
   "metadata": {},
   "outputs": [],
   "source": []
  }
 ],
 "metadata": {
  "kernelspec": {
   "display_name": "Python 3",
   "language": "python",
   "name": "python3"
  },
  "language_info": {
   "codemirror_mode": {
    "name": "ipython",
    "version": 3
   },
   "file_extension": ".py",
   "mimetype": "text/x-python",
   "name": "python",
   "nbconvert_exporter": "python",
   "pygments_lexer": "ipython3",
   "version": "3.7.4"
  }
 },
 "nbformat": 4,
 "nbformat_minor": 2
}
