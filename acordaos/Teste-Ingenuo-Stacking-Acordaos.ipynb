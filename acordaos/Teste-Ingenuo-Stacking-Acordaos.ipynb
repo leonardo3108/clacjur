{
 "cells": [
  {
   "cell_type": "markdown",
   "metadata": {},
   "source": [
    "# Obtenção e organização dos dados"
   ]
  },
  {
   "cell_type": "code",
   "execution_count": 1,
   "metadata": {},
   "outputs": [
    {
     "data": {
      "text/html": [
       "<div>\n",
       "<style scoped>\n",
       "    .dataframe tbody tr th:only-of-type {\n",
       "        vertical-align: middle;\n",
       "    }\n",
       "\n",
       "    .dataframe tbody tr th {\n",
       "        vertical-align: top;\n",
       "    }\n",
       "\n",
       "    .dataframe thead th {\n",
       "        text-align: right;\n",
       "    }\n",
       "</style>\n",
       "<table border=\"1\" class=\"dataframe\">\n",
       "  <thead>\n",
       "    <tr style=\"text-align: right;\">\n",
       "      <th></th>\n",
       "      <th>acordao</th>\n",
       "      <th>areas</th>\n",
       "      <th>texto</th>\n",
       "    </tr>\n",
       "  </thead>\n",
       "  <tbody>\n",
       "    <tr>\n",
       "      <th>0</th>\n",
       "      <td>297/2016-P</td>\n",
       "      <td>Responsabilidade</td>\n",
       "      <td>TRIBUNAL DE CONTAS DA UNIÃO\\tTC 010.084/2015-0...</td>\n",
       "    </tr>\n",
       "    <tr>\n",
       "      <th>1</th>\n",
       "      <td>366/2016-P</td>\n",
       "      <td>Finanças Públicas</td>\n",
       "      <td>TRIBUNAL DE CONTAS DA UNIÃO\\tTC 005.933/2014-5...</td>\n",
       "    </tr>\n",
       "    <tr>\n",
       "      <th>2</th>\n",
       "      <td>944/2016-P</td>\n",
       "      <td>Responsabilidade</td>\n",
       "      <td>TRIBUNAL DE CONTAS DA UNIÃO\\tTC 042.038/2012-0...</td>\n",
       "    </tr>\n",
       "    <tr>\n",
       "      <th>3</th>\n",
       "      <td>30/2016-P</td>\n",
       "      <td>Direito Processual</td>\n",
       "      <td>TRIBUNAL DE CONTAS DA UNIÃO\\tTC 000.742/2014-7...</td>\n",
       "    </tr>\n",
       "    <tr>\n",
       "      <th>4</th>\n",
       "      <td>55/2016-P</td>\n",
       "      <td>Pessoal</td>\n",
       "      <td>;-;;Wania Lucia Pasquarelli do NascimentoTCUWa...</td>\n",
       "    </tr>\n",
       "  </tbody>\n",
       "</table>\n",
       "</div>"
      ],
      "text/plain": [
       "      acordao               areas  \\\n",
       "0  297/2016-P    Responsabilidade   \n",
       "1  366/2016-P   Finanças Públicas   \n",
       "2  944/2016-P    Responsabilidade   \n",
       "3   30/2016-P  Direito Processual   \n",
       "4   55/2016-P             Pessoal   \n",
       "\n",
       "                                               texto  \n",
       "0  TRIBUNAL DE CONTAS DA UNIÃO\\tTC 010.084/2015-0...  \n",
       "1  TRIBUNAL DE CONTAS DA UNIÃO\\tTC 005.933/2014-5...  \n",
       "2  TRIBUNAL DE CONTAS DA UNIÃO\\tTC 042.038/2012-0...  \n",
       "3  TRIBUNAL DE CONTAS DA UNIÃO\\tTC 000.742/2014-7...  \n",
       "4  ;-;;Wania Lucia Pasquarelli do NascimentoTCUWa...  "
      ]
     },
     "execution_count": 1,
     "metadata": {},
     "output_type": "execute_result"
    }
   ],
   "source": [
    "import pandas as pd\n",
    "\n",
    "df1 = pd.read_csv('../dados/acordaos-unicos.csv', sep = '|')[['acordao', 'areas', 'texto']]\n",
    "df1.head()"
   ]
  },
  {
   "cell_type": "code",
   "execution_count": 2,
   "metadata": {},
   "outputs": [
    {
     "data": {
      "text/html": [
       "<div>\n",
       "<style scoped>\n",
       "    .dataframe tbody tr th:only-of-type {\n",
       "        vertical-align: middle;\n",
       "    }\n",
       "\n",
       "    .dataframe tbody tr th {\n",
       "        vertical-align: top;\n",
       "    }\n",
       "\n",
       "    .dataframe thead th {\n",
       "        text-align: right;\n",
       "    }\n",
       "</style>\n",
       "<table border=\"1\" class=\"dataframe\">\n",
       "  <thead>\n",
       "    <tr style=\"text-align: right;\">\n",
       "      <th></th>\n",
       "      <th>acordao</th>\n",
       "      <th>filtrado_6000</th>\n",
       "    </tr>\n",
       "  </thead>\n",
       "  <tbody>\n",
       "    <tr>\n",
       "      <th>0</th>\n",
       "      <td>297/2016-P</td>\n",
       "      <td>tribunal conta união tc grupo classe plenário ...</td>\n",
       "    </tr>\n",
       "    <tr>\n",
       "      <th>1</th>\n",
       "      <td>366/2016-P</td>\n",
       "      <td>tribunal conta união tc grupo classe ii plenár...</td>\n",
       "    </tr>\n",
       "    <tr>\n",
       "      <th>2</th>\n",
       "      <td>944/2016-P</td>\n",
       "      <td>tribunal conta união tc grupo classe plenário ...</td>\n",
       "    </tr>\n",
       "    <tr>\n",
       "      <th>3</th>\n",
       "      <td>30/2016-P</td>\n",
       "      <td>tribunal conta união tc grupo classe plenário ...</td>\n",
       "    </tr>\n",
       "    <tr>\n",
       "      <th>4</th>\n",
       "      <td>55/2016-P</td>\n",
       "      <td>wania lucia pasquarelli nascimentotcuwania luc...</td>\n",
       "    </tr>\n",
       "  </tbody>\n",
       "</table>\n",
       "</div>"
      ],
      "text/plain": [
       "      acordao                                      filtrado_6000\n",
       "0  297/2016-P  tribunal conta união tc grupo classe plenário ...\n",
       "1  366/2016-P  tribunal conta união tc grupo classe ii plenár...\n",
       "2  944/2016-P  tribunal conta união tc grupo classe plenário ...\n",
       "3   30/2016-P  tribunal conta união tc grupo classe plenário ...\n",
       "4   55/2016-P  wania lucia pasquarelli nascimentotcuwania luc..."
      ]
     },
     "execution_count": 2,
     "metadata": {},
     "output_type": "execute_result"
    }
   ],
   "source": [
    "df2 = pd.read_csv('../dados/acordaos-unicos-filtrados-6000.csv', sep = '|')[['acordao', 'filtrado_6000']]\n",
    "df2['filtrado_6000'] = df2['filtrado_6000'].astype(str)\n",
    "df2.head()"
   ]
  },
  {
   "cell_type": "code",
   "execution_count": 3,
   "metadata": {},
   "outputs": [
    {
     "data": {
      "text/html": [
       "<div>\n",
       "<style scoped>\n",
       "    .dataframe tbody tr th:only-of-type {\n",
       "        vertical-align: middle;\n",
       "    }\n",
       "\n",
       "    .dataframe tbody tr th {\n",
       "        vertical-align: top;\n",
       "    }\n",
       "\n",
       "    .dataframe thead th {\n",
       "        text-align: right;\n",
       "    }\n",
       "</style>\n",
       "<table border=\"1\" class=\"dataframe\">\n",
       "  <thead>\n",
       "    <tr style=\"text-align: right;\">\n",
       "      <th></th>\n",
       "      <th>acordao</th>\n",
       "      <th>areas</th>\n",
       "      <th>texto</th>\n",
       "      <th>filtrado_6000</th>\n",
       "    </tr>\n",
       "  </thead>\n",
       "  <tbody>\n",
       "    <tr>\n",
       "      <th>0</th>\n",
       "      <td>297/2016-P</td>\n",
       "      <td>Responsabilidade</td>\n",
       "      <td>TRIBUNAL DE CONTAS DA UNIÃO\\tTC 010.084/2015-0...</td>\n",
       "      <td>tribunal conta união tc grupo classe plenário ...</td>\n",
       "    </tr>\n",
       "    <tr>\n",
       "      <th>1</th>\n",
       "      <td>366/2016-P</td>\n",
       "      <td>Finanças Públicas</td>\n",
       "      <td>TRIBUNAL DE CONTAS DA UNIÃO\\tTC 005.933/2014-5...</td>\n",
       "      <td>tribunal conta união tc grupo classe ii plenár...</td>\n",
       "    </tr>\n",
       "    <tr>\n",
       "      <th>2</th>\n",
       "      <td>944/2016-P</td>\n",
       "      <td>Responsabilidade</td>\n",
       "      <td>TRIBUNAL DE CONTAS DA UNIÃO\\tTC 042.038/2012-0...</td>\n",
       "      <td>tribunal conta união tc grupo classe plenário ...</td>\n",
       "    </tr>\n",
       "    <tr>\n",
       "      <th>3</th>\n",
       "      <td>30/2016-P</td>\n",
       "      <td>Direito Processual</td>\n",
       "      <td>TRIBUNAL DE CONTAS DA UNIÃO\\tTC 000.742/2014-7...</td>\n",
       "      <td>tribunal conta união tc grupo classe plenário ...</td>\n",
       "    </tr>\n",
       "    <tr>\n",
       "      <th>4</th>\n",
       "      <td>55/2016-P</td>\n",
       "      <td>Pessoal</td>\n",
       "      <td>;-;;Wania Lucia Pasquarelli do NascimentoTCUWa...</td>\n",
       "      <td>wania lucia pasquarelli nascimentotcuwania luc...</td>\n",
       "    </tr>\n",
       "  </tbody>\n",
       "</table>\n",
       "</div>"
      ],
      "text/plain": [
       "      acordao               areas  \\\n",
       "0  297/2016-P    Responsabilidade   \n",
       "1  366/2016-P   Finanças Públicas   \n",
       "2  944/2016-P    Responsabilidade   \n",
       "3   30/2016-P  Direito Processual   \n",
       "4   55/2016-P             Pessoal   \n",
       "\n",
       "                                               texto  \\\n",
       "0  TRIBUNAL DE CONTAS DA UNIÃO\\tTC 010.084/2015-0...   \n",
       "1  TRIBUNAL DE CONTAS DA UNIÃO\\tTC 005.933/2014-5...   \n",
       "2  TRIBUNAL DE CONTAS DA UNIÃO\\tTC 042.038/2012-0...   \n",
       "3  TRIBUNAL DE CONTAS DA UNIÃO\\tTC 000.742/2014-7...   \n",
       "4  ;-;;Wania Lucia Pasquarelli do NascimentoTCUWa...   \n",
       "\n",
       "                                       filtrado_6000  \n",
       "0  tribunal conta união tc grupo classe plenário ...  \n",
       "1  tribunal conta união tc grupo classe ii plenár...  \n",
       "2  tribunal conta união tc grupo classe plenário ...  \n",
       "3  tribunal conta união tc grupo classe plenário ...  \n",
       "4  wania lucia pasquarelli nascimentotcuwania luc...  "
      ]
     },
     "execution_count": 3,
     "metadata": {},
     "output_type": "execute_result"
    }
   ],
   "source": [
    "df = df1.merge(df2, on='acordao', how='inner')\n",
    "df.head()"
   ]
  },
  {
   "cell_type": "code",
   "execution_count": 4,
   "metadata": {},
   "outputs": [
    {
     "data": {
      "text/plain": [
       "((9739, 3), (9739, 2), (9739, 4))"
      ]
     },
     "execution_count": 4,
     "metadata": {},
     "output_type": "execute_result"
    }
   ],
   "source": [
    "df1.shape, df2.shape, df.shape"
   ]
  },
  {
   "cell_type": "markdown",
   "metadata": {},
   "source": [
    "# Pré-processamento"
   ]
  },
  {
   "cell_type": "code",
   "execution_count": 5,
   "metadata": {},
   "outputs": [
    {
     "data": {
      "text/plain": [
       "(array(['Competência do TCU', 'Contrato Administrativo', 'Convênio',\n",
       "        'Desestatização', 'Direito Processual', 'Finanças Públicas',\n",
       "        'Gestão Administrativa', 'Licitação', 'Pessoal',\n",
       "        'Responsabilidade'], dtype='<U23'), (9739, 10))"
      ]
     },
     "execution_count": 5,
     "metadata": {},
     "output_type": "execute_result"
    }
   ],
   "source": [
    "from sklearn.preprocessing import LabelBinarizer\n",
    "\n",
    "areas = df.groupby(['areas']).groups.keys()\n",
    "lbArea = LabelBinarizer()\n",
    "lbArea.fit([x for x in areas])\n",
    "y = lbArea.transform(df['areas'])\n",
    "lbArea.classes_, y.shape"
   ]
  },
  {
   "cell_type": "code",
   "execution_count": 7,
   "metadata": {},
   "outputs": [
    {
     "name": "stdout",
     "output_type": "stream",
     "text": [
      "\tCarregamento do modelo de acordaos...\n"
     ]
    },
    {
     "name": "stderr",
     "output_type": "stream",
     "text": [
      "/home/leonardo/anaconda3/envs/gpu/lib/python3.7/site-packages/smart_open/smart_open_lib.py:398: UserWarning: This function is deprecated, use smart_open.open instead. See the migration notes for details: https://github.com/RaRe-Technologies/smart_open/blob/master/README.rst#migrating-to-the-new-open-function\n",
      "  'See the migration notes for details: %s' % _MIGRATION_NOTES_URL\n"
     ]
    }
   ],
   "source": [
    "from gensim.models import Word2Vec\n",
    "from gensim.models import KeyedVectors\n",
    "\n",
    "print('\\tCarregamento do modelo de acordaos...')\n",
    "modelo = Word2Vec.load('../vocabularios/modelo-acordaos-50.w2v')"
   ]
  },
  {
   "cell_type": "code",
   "execution_count": 8,
   "metadata": {},
   "outputs": [
    {
     "name": "stderr",
     "output_type": "stream",
     "text": [
      "Using TensorFlow backend.\n"
     ]
    },
    {
     "name": "stdout",
     "output_type": "stream",
     "text": [
      "\tTokenizacao e montagem de sequencias...\n",
      "\tMontagem da matriz de embeddings...\n"
     ]
    }
   ],
   "source": [
    "from keras.preprocessing.text import Tokenizer\n",
    "import numpy as np\n",
    "\n",
    "df_scores = pd.DataFrame()\n",
    "\n",
    "limite_texto = 6000\n",
    "dim_vetor = 50\n",
    "\n",
    "print('\\tTokenizacao e montagem de sequencias...')\n",
    "tokenizer = Tokenizer()\n",
    "tokenizer.fit_on_texts(df['filtrado_6000'])\n",
    "vocabulario = len(tokenizer.word_index) + 1\n",
    "\n",
    "sequences = tokenizer.texts_to_sequences(df['filtrado_6000'])\n",
    "\n",
    "print('\\tMontagem da matriz de embeddings...')\n",
    "embedding_matrix = np.zeros((vocabulario, dim_vetor))\n",
    "for word, i in tokenizer.word_index.items():\n",
    "    if word in modelo.wv:\n",
    "        embedding_matrix[i] = modelo.wv[word]"
   ]
  },
  {
   "cell_type": "code",
   "execution_count": 10,
   "metadata": {},
   "outputs": [
    {
     "data": {
      "text/plain": [
       "((9739, 6000), (9739, 10))"
      ]
     },
     "execution_count": 10,
     "metadata": {},
     "output_type": "execute_result"
    }
   ],
   "source": [
    "from keras.preprocessing.sequence import pad_sequences\n",
    "\n",
    "x = pad_sequences(sequences, maxlen=limite_texto)\n",
    "(x.shape, y.shape)"
   ]
  },
  {
   "cell_type": "markdown",
   "metadata": {},
   "source": [
    "# Predição Modelo Recorrente"
   ]
  },
  {
   "cell_type": "code",
   "execution_count": 11,
   "metadata": {
    "scrolled": false
   },
   "outputs": [
    {
     "name": "stderr",
     "output_type": "stream",
     "text": [
      "WARNING: Logging before flag parsing goes to stderr.\n",
      "W0322 19:47:29.661564 140079647733568 deprecation_wrapper.py:119] From /home/leonardo/anaconda3/envs/gpu/lib/python3.7/site-packages/keras/backend/tensorflow_backend.py:74: The name tf.get_default_graph is deprecated. Please use tf.compat.v1.get_default_graph instead.\n",
      "\n",
      "W0322 19:47:29.673598 140079647733568 deprecation_wrapper.py:119] From /home/leonardo/anaconda3/envs/gpu/lib/python3.7/site-packages/keras/backend/tensorflow_backend.py:517: The name tf.placeholder is deprecated. Please use tf.compat.v1.placeholder instead.\n",
      "\n",
      "W0322 19:47:29.675956 140079647733568 deprecation_wrapper.py:119] From /home/leonardo/anaconda3/envs/gpu/lib/python3.7/site-packages/keras/backend/tensorflow_backend.py:4138: The name tf.random_uniform is deprecated. Please use tf.random.uniform instead.\n",
      "\n",
      "W0322 19:47:29.683027 140079647733568 deprecation_wrapper.py:119] From /home/leonardo/anaconda3/envs/gpu/lib/python3.7/site-packages/keras/backend/tensorflow_backend.py:174: The name tf.get_default_session is deprecated. Please use tf.compat.v1.get_default_session instead.\n",
      "\n",
      "W0322 19:47:29.683685 140079647733568 deprecation_wrapper.py:119] From /home/leonardo/anaconda3/envs/gpu/lib/python3.7/site-packages/keras/backend/tensorflow_backend.py:181: The name tf.ConfigProto is deprecated. Please use tf.compat.v1.ConfigProto instead.\n",
      "\n",
      "W0322 19:47:30.525516 140079647733568 deprecation.py:506] From /home/leonardo/anaconda3/envs/gpu/lib/python3.7/site-packages/keras/backend/tensorflow_backend.py:3445: calling dropout (from tensorflow.python.ops.nn_ops) with keep_prob is deprecated and will be removed in a future version.\n",
      "Instructions for updating:\n",
      "Please use `rate` instead of `keep_prob`. Rate should be set to `rate = 1 - keep_prob`.\n",
      "W0322 19:47:30.723499 140079647733568 deprecation_wrapper.py:119] From /home/leonardo/anaconda3/envs/gpu/lib/python3.7/site-packages/keras/optimizers.py:790: The name tf.train.Optimizer is deprecated. Please use tf.compat.v1.train.Optimizer instead.\n",
      "\n"
     ]
    },
    {
     "name": "stdout",
     "output_type": "stream",
     "text": [
      "9739/9739 [==============================] - 540s 55ms/step\n"
     ]
    },
    {
     "data": {
      "text/plain": [
       "array([9, 5, 4, ..., 8, 9, 9])"
      ]
     },
     "execution_count": 11,
     "metadata": {},
     "output_type": "execute_result"
    }
   ],
   "source": [
    "from keras.models import Sequential\n",
    "from keras.layers import Embedding, Conv1D, MaxPooling1D, Dense, GlobalMaxPooling1D, Flatten, GRU\n",
    "from keras.optimizers import RMSprop\n",
    "from keras.callbacks import ModelCheckpoint\n",
    "\n",
    "model = Sequential()\n",
    "model.add(Embedding(vocabulario, dim_vetor, input_length=limite_texto, trainable=True,  weights=[embedding_matrix]))\n",
    "model.add(GRU(256, dropout=0.2, recurrent_dropout=0.2))\n",
    "model.add(Dense(y.shape[1], activation='softmax'))\n",
    "model.compile(loss='categorical_crossentropy', optimizer=RMSprop(),  metrics=['categorical_accuracy'])\n",
    "\n",
    "model.load_weights('../rascunho/modelos-acordaos/weights0.hdf5')\n",
    "y_pred = model.predict_classes(x, verbose=1)\n",
    "y_pred"
   ]
  },
  {
   "cell_type": "code",
   "execution_count": 13,
   "metadata": {},
   "outputs": [
    {
     "data": {
      "text/plain": [
       "{'Competência do TCU': {'precision': 0.7142857142857143,\n",
       "  'recall': 0.037037037037037035,\n",
       "  'f1-score': 0.0704225352112676,\n",
       "  'support': 405},\n",
       " 'Contrato Administrativo': {'precision': 0.6127946127946128,\n",
       "  'recall': 0.331511839708561,\n",
       "  'f1-score': 0.43026004728132383,\n",
       "  'support': 549},\n",
       " 'Convênio': {'precision': 0.6818181818181818,\n",
       "  'recall': 0.09433962264150944,\n",
       "  'f1-score': 0.16574585635359118,\n",
       "  'support': 477},\n",
       " 'Desestatização': {'precision': 0.6491228070175439,\n",
       "  'recall': 0.45121951219512196,\n",
       "  'f1-score': 0.5323741007194245,\n",
       "  'support': 82},\n",
       " 'Direito Processual': {'precision': 0.5734126984126984,\n",
       "  'recall': 0.5995850622406639,\n",
       "  'f1-score': 0.5862068965517241,\n",
       "  'support': 1446},\n",
       " 'Finanças Públicas': {'precision': 0.34203655352480417,\n",
       "  'recall': 0.6582914572864321,\n",
       "  'f1-score': 0.45017182130584193,\n",
       "  'support': 199},\n",
       " 'Gestão Administrativa': {'precision': 0.8333333333333334,\n",
       "  'recall': 0.19230769230769232,\n",
       "  'f1-score': 0.3125,\n",
       "  'support': 130},\n",
       " 'Licitação': {'precision': 0.7206896551724138,\n",
       "  'recall': 0.9212121212121213,\n",
       "  'f1-score': 0.8087061668681982,\n",
       "  'support': 1815},\n",
       " 'Pessoal': {'precision': 0.9240162822252375,\n",
       "  'recall': 0.9721627408993576,\n",
       "  'f1-score': 0.9474782608695651,\n",
       "  'support': 2802},\n",
       " 'Responsabilidade': {'precision': 0.6009501187648456,\n",
       "  'recall': 0.6897491821155943,\n",
       "  'f1-score': 0.6422949987306422,\n",
       "  'support': 1834},\n",
       " 'accuracy': 0.7149604682205565,\n",
       " 'macro avg': {'precision': 0.6652459957349386,\n",
       "  'recall': 0.49474162676440914,\n",
       "  'f1-score': 0.4946160683891579,\n",
       "  'support': 9739},\n",
       " 'weighted avg': {'precision': 0.7196844166495505,\n",
       "  'recall': 0.7149604682205565,\n",
       "  'f1-score': 0.6844561571830393,\n",
       "  'support': 9739}}"
      ]
     },
     "execution_count": 13,
     "metadata": {},
     "output_type": "execute_result"
    }
   ],
   "source": [
    "from sklearn.metrics import classification_report\n",
    "\n",
    "y_i = [list(x).index(1) for x in y]\n",
    "report = classification_report(y_i, y_pred, target_names=lbArea.classes_, output_dict = True)\n",
    "report"
   ]
  },
  {
   "cell_type": "markdown",
   "metadata": {},
   "source": [
    "# Preparação dos resultados"
   ]
  },
  {
   "cell_type": "code",
   "execution_count": 14,
   "metadata": {},
   "outputs": [
    {
     "data": {
      "text/plain": [
       "array([9, 5, 4, ..., 8, 9, 9])"
      ]
     },
     "execution_count": 14,
     "metadata": {},
     "output_type": "execute_result"
    }
   ],
   "source": [
    "y_pred"
   ]
  },
  {
   "cell_type": "code",
   "execution_count": 15,
   "metadata": {},
   "outputs": [
    {
     "data": {
      "text/plain": [
       "array(['Responsabilidade', 'Finanças Públicas', 'Direito Processual', ...,\n",
       "       'Pessoal', 'Responsabilidade', 'Responsabilidade'], dtype='<U23')"
      ]
     },
     "execution_count": 15,
     "metadata": {},
     "output_type": "execute_result"
    }
   ],
   "source": [
    "lbArea.classes_[y_pred]"
   ]
  },
  {
   "cell_type": "code",
   "execution_count": 16,
   "metadata": {},
   "outputs": [
    {
     "data": {
      "text/html": [
       "<div>\n",
       "<style scoped>\n",
       "    .dataframe tbody tr th:only-of-type {\n",
       "        vertical-align: middle;\n",
       "    }\n",
       "\n",
       "    .dataframe tbody tr th {\n",
       "        vertical-align: top;\n",
       "    }\n",
       "\n",
       "    .dataframe thead th {\n",
       "        text-align: right;\n",
       "    }\n",
       "</style>\n",
       "<table border=\"1\" class=\"dataframe\">\n",
       "  <thead>\n",
       "    <tr style=\"text-align: right;\">\n",
       "      <th></th>\n",
       "      <th>0</th>\n",
       "    </tr>\n",
       "  </thead>\n",
       "  <tbody>\n",
       "    <tr>\n",
       "      <th>0</th>\n",
       "      <td>Responsabilidade</td>\n",
       "    </tr>\n",
       "    <tr>\n",
       "      <th>1</th>\n",
       "      <td>Finanças Públicas</td>\n",
       "    </tr>\n",
       "    <tr>\n",
       "      <th>2</th>\n",
       "      <td>Direito Processual</td>\n",
       "    </tr>\n",
       "    <tr>\n",
       "      <th>3</th>\n",
       "      <td>Direito Processual</td>\n",
       "    </tr>\n",
       "    <tr>\n",
       "      <th>4</th>\n",
       "      <td>Pessoal</td>\n",
       "    </tr>\n",
       "  </tbody>\n",
       "</table>\n",
       "</div>"
      ],
      "text/plain": [
       "                    0\n",
       "0    Responsabilidade\n",
       "1   Finanças Públicas\n",
       "2  Direito Processual\n",
       "3  Direito Processual\n",
       "4             Pessoal"
      ]
     },
     "execution_count": 16,
     "metadata": {},
     "output_type": "execute_result"
    }
   ],
   "source": [
    "pd.DataFrame(lbArea.classes_[y_pred]).head()"
   ]
  },
  {
   "cell_type": "code",
   "execution_count": 20,
   "metadata": {},
   "outputs": [],
   "source": [
    "df_preds = df[['acordao', 'areas']]"
   ]
  },
  {
   "cell_type": "code",
   "execution_count": 22,
   "metadata": {
    "scrolled": true
   },
   "outputs": [
    {
     "name": "stderr",
     "output_type": "stream",
     "text": [
      "/home/leonardo/anaconda3/envs/gpu/lib/python3.7/site-packages/ipykernel_launcher.py:1: SettingWithCopyWarning: \n",
      "A value is trying to be set on a copy of a slice from a DataFrame.\n",
      "Try using .loc[row_indexer,col_indexer] = value instead\n",
      "\n",
      "See the caveats in the documentation: http://pandas.pydata.org/pandas-docs/stable/user_guide/indexing.html#returning-a-view-versus-a-copy\n",
      "  \"\"\"Entry point for launching an IPython kernel.\n"
     ]
    }
   ],
   "source": [
    "df_preds['preds_recor_filtrados'] = lbArea.classes_[y_pred]"
   ]
  },
  {
   "cell_type": "code",
   "execution_count": 23,
   "metadata": {},
   "outputs": [
    {
     "data": {
      "text/html": [
       "<div>\n",
       "<style scoped>\n",
       "    .dataframe tbody tr th:only-of-type {\n",
       "        vertical-align: middle;\n",
       "    }\n",
       "\n",
       "    .dataframe tbody tr th {\n",
       "        vertical-align: top;\n",
       "    }\n",
       "\n",
       "    .dataframe thead th {\n",
       "        text-align: right;\n",
       "    }\n",
       "</style>\n",
       "<table border=\"1\" class=\"dataframe\">\n",
       "  <thead>\n",
       "    <tr style=\"text-align: right;\">\n",
       "      <th></th>\n",
       "      <th>acordao</th>\n",
       "      <th>areas</th>\n",
       "      <th>preds</th>\n",
       "    </tr>\n",
       "  </thead>\n",
       "  <tbody>\n",
       "    <tr>\n",
       "      <th>0</th>\n",
       "      <td>297/2016-P</td>\n",
       "      <td>Responsabilidade</td>\n",
       "      <td>Responsabilidade</td>\n",
       "    </tr>\n",
       "    <tr>\n",
       "      <th>1</th>\n",
       "      <td>366/2016-P</td>\n",
       "      <td>Finanças Públicas</td>\n",
       "      <td>Finanças Públicas</td>\n",
       "    </tr>\n",
       "    <tr>\n",
       "      <th>2</th>\n",
       "      <td>944/2016-P</td>\n",
       "      <td>Responsabilidade</td>\n",
       "      <td>Direito Processual</td>\n",
       "    </tr>\n",
       "    <tr>\n",
       "      <th>3</th>\n",
       "      <td>30/2016-P</td>\n",
       "      <td>Direito Processual</td>\n",
       "      <td>Direito Processual</td>\n",
       "    </tr>\n",
       "    <tr>\n",
       "      <th>4</th>\n",
       "      <td>55/2016-P</td>\n",
       "      <td>Pessoal</td>\n",
       "      <td>Pessoal</td>\n",
       "    </tr>\n",
       "  </tbody>\n",
       "</table>\n",
       "</div>"
      ],
      "text/plain": [
       "      acordao               areas               preds\n",
       "0  297/2016-P    Responsabilidade    Responsabilidade\n",
       "1  366/2016-P   Finanças Públicas   Finanças Públicas\n",
       "2  944/2016-P    Responsabilidade  Direito Processual\n",
       "3   30/2016-P  Direito Processual  Direito Processual\n",
       "4   55/2016-P             Pessoal             Pessoal"
      ]
     },
     "execution_count": 23,
     "metadata": {},
     "output_type": "execute_result"
    }
   ],
   "source": [
    "df_preds.head()"
   ]
  },
  {
   "cell_type": "code",
   "execution_count": 27,
   "metadata": {},
   "outputs": [
    {
     "data": {
      "text/plain": [
       "(6963, 9739, 0.7149604682205565)"
      ]
     },
     "execution_count": 27,
     "metadata": {},
     "output_type": "execute_result"
    }
   ],
   "source": [
    "len(df_preds.query('areas == preds_recor_filtrados')), len(df_preds), len(df_preds.query('areas == preds_recor_filtrados')) / len(df_preds)"
   ]
  },
  {
   "cell_type": "markdown",
   "metadata": {},
   "source": [
    "# Predição Modelo Convolucional Filtrado"
   ]
  },
  {
   "cell_type": "code",
   "execution_count": 30,
   "metadata": {
    "scrolled": true
   },
   "outputs": [
    {
     "name": "stderr",
     "output_type": "stream",
     "text": [
      "/home/leonardo/anaconda3/envs/gpu/lib/python3.7/site-packages/smart_open/smart_open_lib.py:398: UserWarning: This function is deprecated, use smart_open.open instead. See the migration notes for details: https://github.com/RaRe-Technologies/smart_open/blob/master/README.rst#migrating-to-the-new-open-function\n",
      "  'See the migration notes for details: %s' % _MIGRATION_NOTES_URL\n"
     ]
    }
   ],
   "source": [
    "from gensim.models import Word2Vec\n",
    "from gensim.models import KeyedVectors\n",
    "\n",
    "modelo = Word2Vec.load('../vocabularios/modelo-acordaos.w2v')"
   ]
  },
  {
   "cell_type": "code",
   "execution_count": 31,
   "metadata": {},
   "outputs": [
    {
     "name": "stdout",
     "output_type": "stream",
     "text": [
      "\tTokenizacao e montagem de sequencias...\n",
      "\tMontagem da matriz de embeddings...\n"
     ]
    }
   ],
   "source": [
    "dim_vetor = 100\n",
    "limite_texto = 6000\n",
    "\n",
    "print('\\tTokenizacao e montagem de sequencias...')\n",
    "tokenizer = Tokenizer()\n",
    "tokenizer.fit_on_texts(df['filtrado_6000'])\n",
    "vocabulario = len(tokenizer.word_index) + 1\n",
    "\n",
    "sequences = tokenizer.texts_to_sequences(df['filtrado_6000'])\n",
    "\n",
    "print('\\tMontagem da matriz de embeddings...')\n",
    "embedding_matrix = np.zeros((vocabulario, dim_vetor))\n",
    "for word, i in tokenizer.word_index.items():\n",
    "    if word in modelo.wv:\n",
    "        embedding_matrix[i] = modelo.wv[word]"
   ]
  },
  {
   "cell_type": "code",
   "execution_count": 32,
   "metadata": {
    "scrolled": false
   },
   "outputs": [
    {
     "name": "stdout",
     "output_type": "stream",
     "text": [
      "9739/9739 [==============================] - 4s 402us/step\n"
     ]
    },
    {
     "data": {
      "text/plain": [
       "array([9, 5, 9, ..., 8, 9, 4])"
      ]
     },
     "execution_count": 32,
     "metadata": {},
     "output_type": "execute_result"
    }
   ],
   "source": [
    "model = Sequential()\n",
    "model.add(Embedding(vocabulario, dim_vetor, input_length=limite_texto, trainable=True,  weights=[embedding_matrix]))\n",
    "model.add(Conv1D(64, 7, activation='relu'))\n",
    "model.add(MaxPooling1D(5))\n",
    "model.add(Conv1D(32, 7, activation='relu'))\n",
    "model.add(GlobalMaxPooling1D())\n",
    "\n",
    "model.add(Dense(y.shape[1], activation='softmax'))\n",
    "model.compile(loss='categorical_crossentropy', optimizer=RMSprop(),  metrics=['categorical_accuracy'])\n",
    "\n",
    "model.load_weights('../rascunho/modelos-acordaos/weights1-0.hdf5')\n",
    "y_pred = model.predict_classes(x, verbose=1)\n",
    "y_pred"
   ]
  },
  {
   "cell_type": "code",
   "execution_count": 33,
   "metadata": {
    "scrolled": true
   },
   "outputs": [],
   "source": [
    "df_preds['preds_conv_filtrados'] = lbArea.classes_[y_pred]"
   ]
  },
  {
   "cell_type": "code",
   "execution_count": 37,
   "metadata": {
    "scrolled": true
   },
   "outputs": [
    {
     "data": {
      "text/html": [
       "<div>\n",
       "<style scoped>\n",
       "    .dataframe tbody tr th:only-of-type {\n",
       "        vertical-align: middle;\n",
       "    }\n",
       "\n",
       "    .dataframe tbody tr th {\n",
       "        vertical-align: top;\n",
       "    }\n",
       "\n",
       "    .dataframe thead th {\n",
       "        text-align: right;\n",
       "    }\n",
       "</style>\n",
       "<table border=\"1\" class=\"dataframe\">\n",
       "  <thead>\n",
       "    <tr style=\"text-align: right;\">\n",
       "      <th></th>\n",
       "      <th>acordao</th>\n",
       "      <th>areas</th>\n",
       "      <th>preds_conv_filtrados</th>\n",
       "      <th>preds_recor_filtrados</th>\n",
       "    </tr>\n",
       "  </thead>\n",
       "  <tbody>\n",
       "    <tr>\n",
       "      <th>0</th>\n",
       "      <td>297/2016-P</td>\n",
       "      <td>Responsabilidade</td>\n",
       "      <td>Responsabilidade</td>\n",
       "      <td>Responsabilidade</td>\n",
       "    </tr>\n",
       "    <tr>\n",
       "      <th>1</th>\n",
       "      <td>366/2016-P</td>\n",
       "      <td>Finanças Públicas</td>\n",
       "      <td>Finanças Públicas</td>\n",
       "      <td>Finanças Públicas</td>\n",
       "    </tr>\n",
       "    <tr>\n",
       "      <th>2</th>\n",
       "      <td>944/2016-P</td>\n",
       "      <td>Responsabilidade</td>\n",
       "      <td>Responsabilidade</td>\n",
       "      <td>Direito Processual</td>\n",
       "    </tr>\n",
       "    <tr>\n",
       "      <th>3</th>\n",
       "      <td>30/2016-P</td>\n",
       "      <td>Direito Processual</td>\n",
       "      <td>Direito Processual</td>\n",
       "      <td>Direito Processual</td>\n",
       "    </tr>\n",
       "    <tr>\n",
       "      <th>4</th>\n",
       "      <td>55/2016-P</td>\n",
       "      <td>Pessoal</td>\n",
       "      <td>Pessoal</td>\n",
       "      <td>Pessoal</td>\n",
       "    </tr>\n",
       "  </tbody>\n",
       "</table>\n",
       "</div>"
      ],
      "text/plain": [
       "      acordao               areas preds_conv_filtrados preds_recor_filtrados\n",
       "0  297/2016-P    Responsabilidade     Responsabilidade      Responsabilidade\n",
       "1  366/2016-P   Finanças Públicas    Finanças Públicas     Finanças Públicas\n",
       "2  944/2016-P    Responsabilidade     Responsabilidade    Direito Processual\n",
       "3   30/2016-P  Direito Processual   Direito Processual    Direito Processual\n",
       "4   55/2016-P             Pessoal              Pessoal               Pessoal"
      ]
     },
     "execution_count": 37,
     "metadata": {},
     "output_type": "execute_result"
    }
   ],
   "source": [
    "df_preds.head()"
   ]
  },
  {
   "cell_type": "code",
   "execution_count": 39,
   "metadata": {},
   "outputs": [
    {
     "data": {
      "text/plain": [
       "(0.9333607146524284, 0.7149604682205565)"
      ]
     },
     "execution_count": 39,
     "metadata": {},
     "output_type": "execute_result"
    }
   ],
   "source": [
    "len(df_preds.query('areas == preds_conv_filtrados')) / len(df_preds), len(df_preds.query('areas == preds_recor_filtrados')) / len(df_preds)"
   ]
  },
  {
   "cell_type": "code",
   "execution_count": 41,
   "metadata": {},
   "outputs": [
    {
     "data": {
      "text/plain": [
       "0.9561556627990554"
      ]
     },
     "execution_count": 41,
     "metadata": {},
     "output_type": "execute_result"
    }
   ],
   "source": [
    "len(df_preds.query('areas == preds_conv_filtrados or areas == preds_recor_filtrados')) / len(df_preds)"
   ]
  },
  {
   "cell_type": "markdown",
   "metadata": {},
   "source": [
    "# Predição Modelo Convolucional Original"
   ]
  },
  {
   "cell_type": "code",
   "execution_count": 42,
   "metadata": {},
   "outputs": [
    {
     "name": "stdout",
     "output_type": "stream",
     "text": [
      "\tTokenizacao e montagem de sequencias...\n",
      "\tMontagem da matriz de embeddings...\n"
     ]
    }
   ],
   "source": [
    "dim_vetor = 100\n",
    "limite_texto = 40000\n",
    "\n",
    "print('\\tTokenizacao e montagem de sequencias...')\n",
    "tokenizer = Tokenizer()\n",
    "tokenizer.fit_on_texts(df['texto'])\n",
    "vocabulario = len(tokenizer.word_index) + 1\n",
    "\n",
    "sequences = tokenizer.texts_to_sequences(df['texto'])\n",
    "\n",
    "print('\\tMontagem da matriz de embeddings...')\n",
    "embedding_matrix = np.zeros((vocabulario, dim_vetor))\n",
    "for word, i in tokenizer.word_index.items():\n",
    "    if word in modelo.wv:\n",
    "        embedding_matrix[i] = modelo.wv[word]"
   ]
  },
  {
   "cell_type": "code",
   "execution_count": 45,
   "metadata": {},
   "outputs": [
    {
     "data": {
      "text/plain": [
       "((9739, 40000), (9739, 10))"
      ]
     },
     "execution_count": 45,
     "metadata": {},
     "output_type": "execute_result"
    }
   ],
   "source": [
    "x = pad_sequences(sequences, maxlen=limite_texto)\n",
    "(x.shape, y.shape)"
   ]
  },
  {
   "cell_type": "code",
   "execution_count": 46,
   "metadata": {
    "scrolled": false
   },
   "outputs": [
    {
     "name": "stdout",
     "output_type": "stream",
     "text": [
      "9739/9739 [==============================] - 18s 2ms/step\n"
     ]
    },
    {
     "data": {
      "text/plain": [
       "array([9, 5, 9, ..., 8, 9, 4])"
      ]
     },
     "execution_count": 46,
     "metadata": {},
     "output_type": "execute_result"
    }
   ],
   "source": [
    "model = Sequential()\n",
    "model.add(Embedding(vocabulario, dim_vetor, input_length=limite_texto, trainable=True,  weights=[embedding_matrix]))\n",
    "model.add(Conv1D(64, 7, activation='relu'))\n",
    "model.add(MaxPooling1D(5))\n",
    "model.add(Conv1D(32, 7, activation='relu'))\n",
    "model.add(GlobalMaxPooling1D())\n",
    "\n",
    "model.add(Dense(y.shape[1], activation='softmax'))\n",
    "model.compile(loss='categorical_crossentropy', optimizer=RMSprop(),  metrics=['categorical_accuracy'])\n",
    "\n",
    "model.load_weights('../rascunho/modelos-acordaos/weights0-0.hdf5')\n",
    "y_pred = model.predict_classes(x, verbose=1)\n",
    "y_pred"
   ]
  },
  {
   "cell_type": "code",
   "execution_count": 47,
   "metadata": {
    "scrolled": true
   },
   "outputs": [],
   "source": [
    "df_preds['preds_conv_originais'] = lbArea.classes_[y_pred]"
   ]
  },
  {
   "cell_type": "code",
   "execution_count": 48,
   "metadata": {
    "scrolled": true
   },
   "outputs": [
    {
     "data": {
      "text/html": [
       "<div>\n",
       "<style scoped>\n",
       "    .dataframe tbody tr th:only-of-type {\n",
       "        vertical-align: middle;\n",
       "    }\n",
       "\n",
       "    .dataframe tbody tr th {\n",
       "        vertical-align: top;\n",
       "    }\n",
       "\n",
       "    .dataframe thead th {\n",
       "        text-align: right;\n",
       "    }\n",
       "</style>\n",
       "<table border=\"1\" class=\"dataframe\">\n",
       "  <thead>\n",
       "    <tr style=\"text-align: right;\">\n",
       "      <th></th>\n",
       "      <th>acordao</th>\n",
       "      <th>areas</th>\n",
       "      <th>preds_conv_filtrados</th>\n",
       "      <th>preds_recor_filtrados</th>\n",
       "      <th>preds_conv_originais</th>\n",
       "    </tr>\n",
       "  </thead>\n",
       "  <tbody>\n",
       "    <tr>\n",
       "      <th>0</th>\n",
       "      <td>297/2016-P</td>\n",
       "      <td>Responsabilidade</td>\n",
       "      <td>Responsabilidade</td>\n",
       "      <td>Responsabilidade</td>\n",
       "      <td>Responsabilidade</td>\n",
       "    </tr>\n",
       "    <tr>\n",
       "      <th>1</th>\n",
       "      <td>366/2016-P</td>\n",
       "      <td>Finanças Públicas</td>\n",
       "      <td>Finanças Públicas</td>\n",
       "      <td>Finanças Públicas</td>\n",
       "      <td>Finanças Públicas</td>\n",
       "    </tr>\n",
       "    <tr>\n",
       "      <th>2</th>\n",
       "      <td>944/2016-P</td>\n",
       "      <td>Responsabilidade</td>\n",
       "      <td>Responsabilidade</td>\n",
       "      <td>Direito Processual</td>\n",
       "      <td>Responsabilidade</td>\n",
       "    </tr>\n",
       "    <tr>\n",
       "      <th>3</th>\n",
       "      <td>30/2016-P</td>\n",
       "      <td>Direito Processual</td>\n",
       "      <td>Direito Processual</td>\n",
       "      <td>Direito Processual</td>\n",
       "      <td>Direito Processual</td>\n",
       "    </tr>\n",
       "    <tr>\n",
       "      <th>4</th>\n",
       "      <td>55/2016-P</td>\n",
       "      <td>Pessoal</td>\n",
       "      <td>Pessoal</td>\n",
       "      <td>Pessoal</td>\n",
       "      <td>Pessoal</td>\n",
       "    </tr>\n",
       "  </tbody>\n",
       "</table>\n",
       "</div>"
      ],
      "text/plain": [
       "      acordao               areas preds_conv_filtrados preds_recor_filtrados  \\\n",
       "0  297/2016-P    Responsabilidade     Responsabilidade      Responsabilidade   \n",
       "1  366/2016-P   Finanças Públicas    Finanças Públicas     Finanças Públicas   \n",
       "2  944/2016-P    Responsabilidade     Responsabilidade    Direito Processual   \n",
       "3   30/2016-P  Direito Processual   Direito Processual    Direito Processual   \n",
       "4   55/2016-P             Pessoal              Pessoal               Pessoal   \n",
       "\n",
       "  preds_conv_originais  \n",
       "0     Responsabilidade  \n",
       "1    Finanças Públicas  \n",
       "2     Responsabilidade  \n",
       "3   Direito Processual  \n",
       "4              Pessoal  "
      ]
     },
     "execution_count": 48,
     "metadata": {},
     "output_type": "execute_result"
    }
   ],
   "source": [
    "df_preds.head()"
   ]
  },
  {
   "cell_type": "code",
   "execution_count": 49,
   "metadata": {},
   "outputs": [
    {
     "data": {
      "text/plain": [
       "(0.9266865181230106, 0.9333607146524284, 0.7149604682205565)"
      ]
     },
     "execution_count": 49,
     "metadata": {},
     "output_type": "execute_result"
    }
   ],
   "source": [
    "len(df_preds.query('areas == preds_conv_originais')) / len(df_preds), len(df_preds.query('areas == preds_conv_filtrados')) / len(df_preds), len(df_preds.query('areas == preds_recor_filtrados')) / len(df_preds)"
   ]
  },
  {
   "cell_type": "code",
   "execution_count": 50,
   "metadata": {},
   "outputs": [
    {
     "data": {
      "text/plain": [
       "0.9722764144162646"
      ]
     },
     "execution_count": 50,
     "metadata": {},
     "output_type": "execute_result"
    }
   ],
   "source": [
    "len(df_preds.query('areas == preds_conv_originais or areas == preds_conv_filtrados or areas == preds_recor_filtrados')) / len(df_preds)"
   ]
  },
  {
   "cell_type": "code",
   "execution_count": 51,
   "metadata": {},
   "outputs": [],
   "source": [
    "df_preds.to_csv('acordaos-unicos-preds.csv', encoding = 'Latin1')"
   ]
  },
  {
   "cell_type": "code",
   "execution_count": 58,
   "metadata": {},
   "outputs": [
    {
     "data": {
      "text/plain": [
       "(3, 9739, 10)"
      ]
     },
     "execution_count": 58,
     "metadata": {},
     "output_type": "execute_result"
    }
   ],
   "source": [
    "from sklearn import tree\n",
    "X = np.array([lbArea.transform(df_preds['preds_conv_originais']), lbArea.transform(df_preds['preds_conv_originais']), lbArea.transform(df_preds['preds_recor_filtrados'])])\n",
    "Y = lbArea.transform(df_preds['areas'])\n",
    "X.shape"
   ]
  },
  {
   "cell_type": "code",
   "execution_count": 67,
   "metadata": {},
   "outputs": [],
   "source": [
    "def cod(cc):\n",
    "    for i, c in enumerate(lbArea.classes_):\n",
    "        if c == cc:\n",
    "            return i\n",
    "    return -1"
   ]
  },
  {
   "cell_type": "code",
   "execution_count": 69,
   "metadata": {},
   "outputs": [
    {
     "data": {
      "text/plain": [
       "array([9, 5, 9, ..., 8, 9, 4])"
      ]
     },
     "execution_count": 69,
     "metadata": {},
     "output_type": "execute_result"
    }
   ],
   "source": [
    "df_preds['preds_conv_originais'].apply(cod).values"
   ]
  },
  {
   "cell_type": "code",
   "execution_count": 82,
   "metadata": {},
   "outputs": [
    {
     "data": {
      "text/plain": [
       "array([[9, 9, 9],\n",
       "       [5, 5, 5],\n",
       "       [9, 9, 4],\n",
       "       ...,\n",
       "       [8, 8, 8],\n",
       "       [9, 9, 9],\n",
       "       [4, 4, 9]])"
      ]
     },
     "execution_count": 82,
     "metadata": {},
     "output_type": "execute_result"
    }
   ],
   "source": [
    "import numpy as np\n",
    "\n",
    "X = np.array([df_preds['preds_conv_originais'].apply(cod).values, df_preds['preds_conv_filtrados'].apply(cod).values, df_preds['preds_recor_filtrados'].apply(cod).values]).T\n",
    "X"
   ]
  },
  {
   "cell_type": "code",
   "execution_count": 83,
   "metadata": {},
   "outputs": [
    {
     "data": {
      "text/plain": [
       "array([9, 5, 9, ..., 8, 9, 4])"
      ]
     },
     "execution_count": 83,
     "metadata": {},
     "output_type": "execute_result"
    }
   ],
   "source": [
    "Y = df_preds['areas'].apply(cod).values\n",
    "Y"
   ]
  },
  {
   "cell_type": "code",
   "execution_count": 84,
   "metadata": {},
   "outputs": [
    {
     "data": {
      "text/plain": [
       "(9739, 3)"
      ]
     },
     "execution_count": 84,
     "metadata": {},
     "output_type": "execute_result"
    }
   ],
   "source": [
    "X.shape"
   ]
  },
  {
   "cell_type": "code",
   "execution_count": 85,
   "metadata": {},
   "outputs": [],
   "source": [
    "clf = tree.DecisionTreeClassifier()\n",
    "clf = clf.fit(X, Y)"
   ]
  },
  {
   "cell_type": "code",
   "execution_count": 87,
   "metadata": {},
   "outputs": [],
   "source": [
    "df_preds['preds_stack'] = lbArea.classes_[clf.predict(X)]"
   ]
  },
  {
   "cell_type": "code",
   "execution_count": 88,
   "metadata": {},
   "outputs": [
    {
     "data": {
      "text/html": [
       "<div>\n",
       "<style scoped>\n",
       "    .dataframe tbody tr th:only-of-type {\n",
       "        vertical-align: middle;\n",
       "    }\n",
       "\n",
       "    .dataframe tbody tr th {\n",
       "        vertical-align: top;\n",
       "    }\n",
       "\n",
       "    .dataframe thead th {\n",
       "        text-align: right;\n",
       "    }\n",
       "</style>\n",
       "<table border=\"1\" class=\"dataframe\">\n",
       "  <thead>\n",
       "    <tr style=\"text-align: right;\">\n",
       "      <th></th>\n",
       "      <th>acordao</th>\n",
       "      <th>areas</th>\n",
       "      <th>preds_conv_filtrados</th>\n",
       "      <th>preds_recor_filtrados</th>\n",
       "      <th>preds_conv_originais</th>\n",
       "      <th>preds_stack</th>\n",
       "    </tr>\n",
       "  </thead>\n",
       "  <tbody>\n",
       "    <tr>\n",
       "      <th>0</th>\n",
       "      <td>297/2016-P</td>\n",
       "      <td>Responsabilidade</td>\n",
       "      <td>Responsabilidade</td>\n",
       "      <td>Responsabilidade</td>\n",
       "      <td>Responsabilidade</td>\n",
       "      <td>Responsabilidade</td>\n",
       "    </tr>\n",
       "    <tr>\n",
       "      <th>1</th>\n",
       "      <td>366/2016-P</td>\n",
       "      <td>Finanças Públicas</td>\n",
       "      <td>Finanças Públicas</td>\n",
       "      <td>Finanças Públicas</td>\n",
       "      <td>Finanças Públicas</td>\n",
       "      <td>Finanças Públicas</td>\n",
       "    </tr>\n",
       "    <tr>\n",
       "      <th>2</th>\n",
       "      <td>944/2016-P</td>\n",
       "      <td>Responsabilidade</td>\n",
       "      <td>Responsabilidade</td>\n",
       "      <td>Direito Processual</td>\n",
       "      <td>Responsabilidade</td>\n",
       "      <td>Responsabilidade</td>\n",
       "    </tr>\n",
       "    <tr>\n",
       "      <th>3</th>\n",
       "      <td>30/2016-P</td>\n",
       "      <td>Direito Processual</td>\n",
       "      <td>Direito Processual</td>\n",
       "      <td>Direito Processual</td>\n",
       "      <td>Direito Processual</td>\n",
       "      <td>Direito Processual</td>\n",
       "    </tr>\n",
       "    <tr>\n",
       "      <th>4</th>\n",
       "      <td>55/2016-P</td>\n",
       "      <td>Pessoal</td>\n",
       "      <td>Pessoal</td>\n",
       "      <td>Pessoal</td>\n",
       "      <td>Pessoal</td>\n",
       "      <td>Pessoal</td>\n",
       "    </tr>\n",
       "  </tbody>\n",
       "</table>\n",
       "</div>"
      ],
      "text/plain": [
       "      acordao               areas preds_conv_filtrados preds_recor_filtrados  \\\n",
       "0  297/2016-P    Responsabilidade     Responsabilidade      Responsabilidade   \n",
       "1  366/2016-P   Finanças Públicas    Finanças Públicas     Finanças Públicas   \n",
       "2  944/2016-P    Responsabilidade     Responsabilidade    Direito Processual   \n",
       "3   30/2016-P  Direito Processual   Direito Processual    Direito Processual   \n",
       "4   55/2016-P             Pessoal              Pessoal               Pessoal   \n",
       "\n",
       "  preds_conv_originais         preds_stack  \n",
       "0     Responsabilidade    Responsabilidade  \n",
       "1    Finanças Públicas   Finanças Públicas  \n",
       "2     Responsabilidade    Responsabilidade  \n",
       "3   Direito Processual  Direito Processual  \n",
       "4              Pessoal             Pessoal  "
      ]
     },
     "execution_count": 88,
     "metadata": {},
     "output_type": "execute_result"
    }
   ],
   "source": [
    "df_preds.head()"
   ]
  },
  {
   "cell_type": "code",
   "execution_count": 89,
   "metadata": {},
   "outputs": [
    {
     "data": {
      "text/plain": [
       "0.9491734264298183"
      ]
     },
     "execution_count": 89,
     "metadata": {},
     "output_type": "execute_result"
    }
   ],
   "source": [
    "len(df_preds.query('areas == preds_stack')) / len(df_preds)"
   ]
  },
  {
   "cell_type": "code",
   "execution_count": 90,
   "metadata": {},
   "outputs": [
    {
     "data": {
      "text/plain": [
       "DecisionTreeClassifier(class_weight=None, criterion='gini', max_depth=None,\n",
       "                       max_features=None, max_leaf_nodes=None,\n",
       "                       min_impurity_decrease=0.0, min_impurity_split=None,\n",
       "                       min_samples_leaf=1, min_samples_split=2,\n",
       "                       min_weight_fraction_leaf=0.0, presort=False,\n",
       "                       random_state=None, splitter='best')"
      ]
     },
     "execution_count": 90,
     "metadata": {},
     "output_type": "execute_result"
    }
   ],
   "source": [
    "clf"
   ]
  },
  {
   "cell_type": "code",
   "execution_count": 93,
   "metadata": {},
   "outputs": [
    {
     "name": "stdout",
     "output_type": "stream",
     "text": [
      "|--- preds_conv_filtrados <= 7.50\n",
      "|   |--- preds_conv_filtrados <= 6.50\n",
      "|   |   |--- preds_conv_filtrados <= 3.50\n",
      "|   |   |   |--- preds_conv_filtrados <= 1.50\n",
      "|   |   |   |   |--- preds_recor_filtrados <= 0.50\n",
      "|   |   |   |   |   |--- preds_conv_filtrados <= 0.50\n",
      "|   |   |   |   |   |   |--- class: 0\n",
      "|   |   |   |   |   |--- preds_conv_filtrados >  0.50\n",
      "|   |   |   |   |   |   |--- preds_conv_originais <= 8.00\n",
      "|   |   |   |   |   |   |   |--- preds_conv_originais <= 4.50\n",
      "|   |   |   |   |   |   |   |   |--- class: 0\n",
      "|   |   |   |   |   |   |   |--- preds_conv_originais >  4.50\n",
      "|   |   |   |   |   |   |   |   |--- preds_conv_originais <= 6.00\n",
      "|   |   |   |   |   |   |   |   |   |--- class: 0\n",
      "|   |   |   |   |   |   |   |   |--- preds_conv_originais >  6.00\n",
      "|   |   |   |   |   |   |   |   |   |--- class: 0\n",
      "|   |   |   |   |   |   |--- preds_conv_originais >  8.00\n",
      "|   |   |   |   |   |   |   |--- class: 0\n",
      "|   |   |   |   |--- preds_recor_filtrados >  0.50\n",
      "|   |   |   |   |   |--- preds_recor_filtrados <= 1.50\n",
      "|   |   |   |   |   |   |--- preds_conv_filtrados <= 0.50\n",
      "|   |   |   |   |   |   |   |--- class: 0\n",
      "|   |   |   |   |   |   |--- preds_conv_filtrados >  0.50\n",
      "|   |   |   |   |   |   |   |--- preds_conv_originais <= 4.50\n",
      "|   |   |   |   |   |   |   |   |--- preds_conv_originais <= 3.50\n",
      "|   |   |   |   |   |   |   |   |   |--- preds_conv_originais <= 2.00\n",
      "|   |   |   |   |   |   |   |   |   |   |--- class: 1\n",
      "|   |   |   |   |   |   |   |   |   |--- preds_conv_originais >  2.00\n",
      "|   |   |   |   |   |   |   |   |   |   |--- class: 1\n",
      "|   |   |   |   |   |   |   |   |--- preds_conv_originais >  3.50\n",
      "|   |   |   |   |   |   |   |   |   |--- class: 1\n",
      "|   |   |   |   |   |   |   |--- preds_conv_originais >  4.50\n",
      "|   |   |   |   |   |   |   |   |--- preds_conv_originais <= 8.50\n",
      "|   |   |   |   |   |   |   |   |   |--- preds_conv_originais <= 6.00\n",
      "|   |   |   |   |   |   |   |   |   |   |--- class: 1\n",
      "|   |   |   |   |   |   |   |   |   |--- preds_conv_originais >  6.00\n",
      "|   |   |   |   |   |   |   |   |   |   |--- preds_conv_originais <= 7.50\n",
      "|   |   |   |   |   |   |   |   |   |   |   |--- class: 1\n",
      "|   |   |   |   |   |   |   |   |   |   |--- preds_conv_originais >  7.50\n",
      "|   |   |   |   |   |   |   |   |   |   |   |--- class: 1\n",
      "|   |   |   |   |   |   |   |   |--- preds_conv_originais >  8.50\n",
      "|   |   |   |   |   |   |   |   |   |--- class: 1\n",
      "|   |   |   |   |   |--- preds_recor_filtrados >  1.50\n",
      "|   |   |   |   |   |   |--- preds_recor_filtrados <= 8.50\n",
      "|   |   |   |   |   |   |   |--- preds_recor_filtrados <= 6.50\n",
      "|   |   |   |   |   |   |   |   |--- preds_recor_filtrados <= 3.50\n",
      "|   |   |   |   |   |   |   |   |   |--- preds_recor_filtrados <= 2.50\n",
      "|   |   |   |   |   |   |   |   |   |   |--- preds_conv_originais <= 6.00\n",
      "|   |   |   |   |   |   |   |   |   |   |   |--- truncated branch of depth 5\n",
      "|   |   |   |   |   |   |   |   |   |   |--- preds_conv_originais >  6.00\n",
      "|   |   |   |   |   |   |   |   |   |   |   |--- truncated branch of depth 2\n",
      "|   |   |   |   |   |   |   |   |   |--- preds_recor_filtrados >  2.50\n",
      "|   |   |   |   |   |   |   |   |   |   |--- preds_conv_originais <= 5.00\n",
      "|   |   |   |   |   |   |   |   |   |   |   |--- class: 0\n",
      "|   |   |   |   |   |   |   |   |   |   |--- preds_conv_originais >  5.00\n",
      "|   |   |   |   |   |   |   |   |   |   |   |--- class: 7\n",
      "|   |   |   |   |   |   |   |   |--- preds_recor_filtrados >  3.50\n",
      "|   |   |   |   |   |   |   |   |   |--- preds_recor_filtrados <= 5.50\n",
      "|   |   |   |   |   |   |   |   |   |   |--- preds_recor_filtrados <= 4.50\n",
      "|   |   |   |   |   |   |   |   |   |   |   |--- truncated branch of depth 4\n",
      "|   |   |   |   |   |   |   |   |   |   |--- preds_recor_filtrados >  4.50\n",
      "|   |   |   |   |   |   |   |   |   |   |   |--- truncated branch of depth 3\n",
      "|   |   |   |   |   |   |   |   |   |--- preds_recor_filtrados >  5.50\n",
      "|   |   |   |   |   |   |   |   |   |   |--- class: 6\n",
      "|   |   |   |   |   |   |   |--- preds_recor_filtrados >  6.50\n",
      "|   |   |   |   |   |   |   |   |--- preds_conv_filtrados <= 0.50\n",
      "|   |   |   |   |   |   |   |   |   |--- preds_conv_originais <= 7.50\n",
      "|   |   |   |   |   |   |   |   |   |   |--- class: 4\n",
      "|   |   |   |   |   |   |   |   |   |--- preds_conv_originais >  7.50\n",
      "|   |   |   |   |   |   |   |   |   |   |--- class: 8\n",
      "|   |   |   |   |   |   |   |   |--- preds_conv_filtrados >  0.50\n",
      "|   |   |   |   |   |   |   |   |   |--- preds_conv_originais <= 6.00\n",
      "|   |   |   |   |   |   |   |   |   |   |--- preds_conv_originais <= 2.50\n",
      "|   |   |   |   |   |   |   |   |   |   |   |--- class: 7\n",
      "|   |   |   |   |   |   |   |   |   |   |--- preds_conv_originais >  2.50\n",
      "|   |   |   |   |   |   |   |   |   |   |   |--- truncated branch of depth 2\n",
      "|   |   |   |   |   |   |   |   |   |--- preds_conv_originais >  6.00\n",
      "|   |   |   |   |   |   |   |   |   |   |--- class: 7\n",
      "|   |   |   |   |   |   |--- preds_recor_filtrados >  8.50\n",
      "|   |   |   |   |   |   |   |--- preds_conv_filtrados <= 0.50\n",
      "|   |   |   |   |   |   |   |   |--- preds_conv_originais <= 6.50\n",
      "|   |   |   |   |   |   |   |   |   |--- class: 9\n",
      "|   |   |   |   |   |   |   |   |--- preds_conv_originais >  6.50\n",
      "|   |   |   |   |   |   |   |   |   |--- class: 0\n",
      "|   |   |   |   |   |   |   |--- preds_conv_filtrados >  0.50\n",
      "|   |   |   |   |   |   |   |   |--- preds_conv_originais <= 3.00\n",
      "|   |   |   |   |   |   |   |   |   |--- preds_conv_originais <= 1.50\n",
      "|   |   |   |   |   |   |   |   |   |   |--- class: 1\n",
      "|   |   |   |   |   |   |   |   |   |--- preds_conv_originais >  1.50\n",
      "|   |   |   |   |   |   |   |   |   |   |--- class: 1\n",
      "|   |   |   |   |   |   |   |   |--- preds_conv_originais >  3.00\n",
      "|   |   |   |   |   |   |   |   |   |--- preds_conv_originais <= 8.50\n",
      "|   |   |   |   |   |   |   |   |   |   |--- preds_conv_originais <= 4.50\n",
      "|   |   |   |   |   |   |   |   |   |   |   |--- class: 9\n",
      "|   |   |   |   |   |   |   |   |   |   |--- preds_conv_originais >  4.50\n",
      "|   |   |   |   |   |   |   |   |   |   |   |--- truncated branch of depth 3\n",
      "|   |   |   |   |   |   |   |   |   |--- preds_conv_originais >  8.50\n",
      "|   |   |   |   |   |   |   |   |   |   |--- class: 1\n",
      "|   |   |   |--- preds_conv_filtrados >  1.50\n",
      "|   |   |   |   |--- preds_conv_filtrados <= 2.50\n",
      "|   |   |   |   |   |--- preds_recor_filtrados <= 2.50\n",
      "|   |   |   |   |   |   |--- preds_recor_filtrados <= 0.50\n",
      "|   |   |   |   |   |   |   |--- preds_conv_originais <= 1.00\n",
      "|   |   |   |   |   |   |   |   |--- class: 2\n",
      "|   |   |   |   |   |   |   |--- preds_conv_originais >  1.00\n",
      "|   |   |   |   |   |   |   |   |--- preds_conv_originais <= 3.50\n",
      "|   |   |   |   |   |   |   |   |   |--- class: 0\n",
      "|   |   |   |   |   |   |   |   |--- preds_conv_originais >  3.50\n",
      "|   |   |   |   |   |   |   |   |   |--- class: 0\n",
      "|   |   |   |   |   |   |--- preds_recor_filtrados >  0.50\n",
      "|   |   |   |   |   |   |   |--- preds_conv_originais <= 4.50\n",
      "|   |   |   |   |   |   |   |   |--- preds_conv_originais <= 3.50\n",
      "|   |   |   |   |   |   |   |   |   |--- preds_conv_originais <= 1.50\n",
      "|   |   |   |   |   |   |   |   |   |   |--- class: 2\n",
      "|   |   |   |   |   |   |   |   |   |--- preds_conv_originais >  1.50\n",
      "|   |   |   |   |   |   |   |   |   |   |--- preds_conv_originais <= 2.50\n",
      "|   |   |   |   |   |   |   |   |   |   |   |--- class: 2\n",
      "|   |   |   |   |   |   |   |   |   |   |--- preds_conv_originais >  2.50\n",
      "|   |   |   |   |   |   |   |   |   |   |   |--- class: 2\n",
      "|   |   |   |   |   |   |   |   |--- preds_conv_originais >  3.50\n",
      "|   |   |   |   |   |   |   |   |   |--- class: 2\n",
      "|   |   |   |   |   |   |   |--- preds_conv_originais >  4.50\n",
      "|   |   |   |   |   |   |   |   |--- preds_conv_originais <= 6.00\n",
      "|   |   |   |   |   |   |   |   |   |--- class: 2\n",
      "|   |   |   |   |   |   |   |   |--- preds_conv_originais >  6.00\n",
      "|   |   |   |   |   |   |   |   |   |--- preds_conv_originais <= 8.50\n",
      "|   |   |   |   |   |   |   |   |   |   |--- class: 2\n",
      "|   |   |   |   |   |   |   |   |   |--- preds_conv_originais >  8.50\n",
      "|   |   |   |   |   |   |   |   |   |   |--- preds_recor_filtrados <= 1.50\n",
      "|   |   |   |   |   |   |   |   |   |   |   |--- class: 2\n",
      "|   |   |   |   |   |   |   |   |   |   |--- preds_recor_filtrados >  1.50\n",
      "|   |   |   |   |   |   |   |   |   |   |   |--- class: 2\n",
      "|   |   |   |   |   |--- preds_recor_filtrados >  2.50\n",
      "|   |   |   |   |   |   |--- preds_recor_filtrados <= 6.50\n",
      "|   |   |   |   |   |   |   |--- preds_recor_filtrados <= 5.50\n",
      "|   |   |   |   |   |   |   |   |--- preds_conv_originais <= 8.50\n",
      "|   |   |   |   |   |   |   |   |   |--- preds_conv_originais <= 6.50\n",
      "|   |   |   |   |   |   |   |   |   |   |--- class: 0\n",
      "|   |   |   |   |   |   |   |   |   |--- preds_conv_originais >  6.50\n",
      "|   |   |   |   |   |   |   |   |   |   |--- class: 0\n",
      "|   |   |   |   |   |   |   |   |--- preds_conv_originais >  8.50\n",
      "|   |   |   |   |   |   |   |   |   |--- class: 5\n",
      "|   |   |   |   |   |   |   |--- preds_recor_filtrados >  5.50\n",
      "|   |   |   |   |   |   |   |   |--- class: 6\n",
      "|   |   |   |   |   |   |--- preds_recor_filtrados >  6.50\n",
      "|   |   |   |   |   |   |   |--- preds_conv_originais <= 4.50\n",
      "|   |   |   |   |   |   |   |   |--- preds_conv_originais <= 3.00\n",
      "|   |   |   |   |   |   |   |   |   |--- preds_recor_filtrados <= 8.00\n",
      "|   |   |   |   |   |   |   |   |   |   |--- class: 9\n",
      "|   |   |   |   |   |   |   |   |   |--- preds_recor_filtrados >  8.00\n",
      "|   |   |   |   |   |   |   |   |   |   |--- class: 2\n",
      "|   |   |   |   |   |   |   |   |--- preds_conv_originais >  3.00\n",
      "|   |   |   |   |   |   |   |   |   |--- class: 9\n",
      "|   |   |   |   |   |   |   |--- preds_conv_originais >  4.50\n",
      "|   |   |   |   |   |   |   |   |--- preds_recor_filtrados <= 8.00\n",
      "|   |   |   |   |   |   |   |   |   |--- class: 2\n",
      "|   |   |   |   |   |   |   |   |--- preds_recor_filtrados >  8.00\n",
      "|   |   |   |   |   |   |   |   |   |--- preds_conv_originais <= 7.00\n",
      "|   |   |   |   |   |   |   |   |   |   |--- class: 4\n",
      "|   |   |   |   |   |   |   |   |   |--- preds_conv_originais >  7.00\n",
      "|   |   |   |   |   |   |   |   |   |   |--- class: 2\n",
      "|   |   |   |   |--- preds_conv_filtrados >  2.50\n",
      "|   |   |   |   |   |--- preds_recor_filtrados <= 6.00\n",
      "|   |   |   |   |   |   |--- class: 3\n",
      "|   |   |   |   |   |--- preds_recor_filtrados >  6.00\n",
      "|   |   |   |   |   |   |--- preds_conv_originais <= 7.50\n",
      "|   |   |   |   |   |   |   |--- class: 0\n",
      "|   |   |   |   |   |   |--- preds_conv_originais >  7.50\n",
      "|   |   |   |   |   |   |   |--- class: 3\n",
      "|   |   |--- preds_conv_filtrados >  3.50\n",
      "|   |   |   |--- preds_conv_filtrados <= 4.50\n",
      "|   |   |   |   |--- preds_recor_filtrados <= 4.50\n",
      "|   |   |   |   |   |--- preds_recor_filtrados <= 3.50\n",
      "|   |   |   |   |   |   |--- preds_recor_filtrados <= 0.50\n",
      "|   |   |   |   |   |   |   |--- preds_conv_originais <= 4.50\n",
      "|   |   |   |   |   |   |   |   |--- preds_conv_originais <= 3.50\n",
      "|   |   |   |   |   |   |   |   |   |--- class: 0\n",
      "|   |   |   |   |   |   |   |   |--- preds_conv_originais >  3.50\n",
      "|   |   |   |   |   |   |   |   |   |--- class: 0\n",
      "|   |   |   |   |   |   |   |--- preds_conv_originais >  4.50\n",
      "|   |   |   |   |   |   |   |   |--- class: 0\n",
      "|   |   |   |   |   |   |--- preds_recor_filtrados >  0.50\n",
      "|   |   |   |   |   |   |   |--- preds_recor_filtrados <= 1.50\n",
      "|   |   |   |   |   |   |   |   |--- preds_conv_originais <= 6.50\n",
      "|   |   |   |   |   |   |   |   |   |--- class: 1\n",
      "|   |   |   |   |   |   |   |   |--- preds_conv_originais >  6.50\n",
      "|   |   |   |   |   |   |   |   |   |--- class: 9\n",
      "|   |   |   |   |   |   |   |--- preds_recor_filtrados >  1.50\n",
      "|   |   |   |   |   |   |   |   |--- preds_recor_filtrados <= 2.50\n",
      "|   |   |   |   |   |   |   |   |   |--- preds_conv_originais <= 4.50\n",
      "|   |   |   |   |   |   |   |   |   |   |--- class: 2\n",
      "|   |   |   |   |   |   |   |   |   |--- preds_conv_originais >  4.50\n",
      "|   |   |   |   |   |   |   |   |   |   |--- preds_conv_originais <= 7.00\n",
      "|   |   |   |   |   |   |   |   |   |   |   |--- class: 0\n",
      "|   |   |   |   |   |   |   |   |   |   |--- preds_conv_originais >  7.00\n",
      "|   |   |   |   |   |   |   |   |   |   |   |--- class: 4\n",
      "|   |   |   |   |   |   |   |   |--- preds_recor_filtrados >  2.50\n",
      "|   |   |   |   |   |   |   |   |   |--- preds_conv_originais <= 1.50\n",
      "|   |   |   |   |   |   |   |   |   |   |--- class: 0\n",
      "|   |   |   |   |   |   |   |   |   |--- preds_conv_originais >  1.50\n",
      "|   |   |   |   |   |   |   |   |   |   |--- preds_conv_originais <= 5.00\n",
      "|   |   |   |   |   |   |   |   |   |   |   |--- class: 3\n",
      "|   |   |   |   |   |   |   |   |   |   |--- preds_conv_originais >  5.00\n",
      "|   |   |   |   |   |   |   |   |   |   |   |--- class: 4\n",
      "|   |   |   |   |   |--- preds_recor_filtrados >  3.50\n",
      "|   |   |   |   |   |   |--- preds_conv_originais <= 4.50\n",
      "|   |   |   |   |   |   |   |--- preds_conv_originais <= 3.50\n",
      "|   |   |   |   |   |   |   |   |--- class: 4\n",
      "|   |   |   |   |   |   |   |--- preds_conv_originais >  3.50\n",
      "|   |   |   |   |   |   |   |   |--- class: 4\n",
      "|   |   |   |   |   |   |--- preds_conv_originais >  4.50\n",
      "|   |   |   |   |   |   |   |--- preds_conv_originais <= 8.50\n",
      "|   |   |   |   |   |   |   |   |--- preds_conv_originais <= 7.50\n",
      "|   |   |   |   |   |   |   |   |   |--- preds_conv_originais <= 6.00\n",
      "|   |   |   |   |   |   |   |   |   |   |--- class: 4\n",
      "|   |   |   |   |   |   |   |   |   |--- preds_conv_originais >  6.00\n",
      "|   |   |   |   |   |   |   |   |   |   |--- class: 4\n",
      "|   |   |   |   |   |   |   |   |--- preds_conv_originais >  7.50\n",
      "|   |   |   |   |   |   |   |   |   |--- class: 4\n",
      "|   |   |   |   |   |   |   |--- preds_conv_originais >  8.50\n",
      "|   |   |   |   |   |   |   |   |--- class: 4\n",
      "|   |   |   |   |--- preds_recor_filtrados >  4.50\n",
      "|   |   |   |   |   |--- preds_recor_filtrados <= 8.50\n",
      "|   |   |   |   |   |   |--- preds_recor_filtrados <= 6.00\n",
      "|   |   |   |   |   |   |   |--- preds_conv_originais <= 6.50\n",
      "|   |   |   |   |   |   |   |   |--- preds_conv_originais <= 4.50\n",
      "|   |   |   |   |   |   |   |   |   |--- class: 5\n",
      "|   |   |   |   |   |   |   |   |--- preds_conv_originais >  4.50\n",
      "|   |   |   |   |   |   |   |   |   |--- class: 4\n",
      "|   |   |   |   |   |   |   |--- preds_conv_originais >  6.50\n",
      "|   |   |   |   |   |   |   |   |--- class: 4\n",
      "|   |   |   |   |   |   |--- preds_recor_filtrados >  6.00\n",
      "|   |   |   |   |   |   |   |--- preds_recor_filtrados <= 7.50\n",
      "|   |   |   |   |   |   |   |   |--- preds_conv_originais <= 5.50\n",
      "|   |   |   |   |   |   |   |   |   |--- preds_conv_originais <= 2.50\n",
      "|   |   |   |   |   |   |   |   |   |   |--- class: 1\n",
      "|   |   |   |   |   |   |   |   |   |--- preds_conv_originais >  2.50\n",
      "|   |   |   |   |   |   |   |   |   |   |--- class: 4\n",
      "|   |   |   |   |   |   |   |   |--- preds_conv_originais >  5.50\n",
      "|   |   |   |   |   |   |   |   |   |--- class: 7\n",
      "|   |   |   |   |   |   |   |--- preds_recor_filtrados >  7.50\n",
      "|   |   |   |   |   |   |   |   |--- preds_conv_originais <= 6.00\n",
      "|   |   |   |   |   |   |   |   |   |--- class: 8\n",
      "|   |   |   |   |   |   |   |   |--- preds_conv_originais >  6.00\n",
      "|   |   |   |   |   |   |   |   |   |--- class: 4\n",
      "|   |   |   |   |   |--- preds_recor_filtrados >  8.50\n",
      "|   |   |   |   |   |   |--- preds_conv_originais <= 4.50\n",
      "|   |   |   |   |   |   |   |--- preds_conv_originais <= 2.50\n",
      "|   |   |   |   |   |   |   |   |--- class: 4\n",
      "|   |   |   |   |   |   |   |--- preds_conv_originais >  2.50\n",
      "|   |   |   |   |   |   |   |   |--- class: 4\n",
      "|   |   |   |   |   |   |--- preds_conv_originais >  4.50\n",
      "|   |   |   |   |   |   |   |--- preds_conv_originais <= 8.00\n",
      "|   |   |   |   |   |   |   |   |--- class: 9\n",
      "|   |   |   |   |   |   |   |--- preds_conv_originais >  8.00\n",
      "|   |   |   |   |   |   |   |   |--- class: 9\n",
      "|   |   |   |--- preds_conv_filtrados >  4.50\n",
      "|   |   |   |   |--- preds_conv_filtrados <= 5.50\n",
      "|   |   |   |   |   |--- preds_recor_filtrados <= 3.00\n",
      "|   |   |   |   |   |   |--- preds_recor_filtrados <= 0.50\n",
      "|   |   |   |   |   |   |   |--- preds_conv_originais <= 5.50\n",
      "|   |   |   |   |   |   |   |   |--- preds_conv_originais <= 4.50\n",
      "|   |   |   |   |   |   |   |   |   |--- preds_conv_originais <= 2.50\n",
      "|   |   |   |   |   |   |   |   |   |   |--- class: 0\n",
      "|   |   |   |   |   |   |   |   |   |--- preds_conv_originais >  2.50\n",
      "|   |   |   |   |   |   |   |   |   |   |--- class: 0\n",
      "|   |   |   |   |   |   |   |   |--- preds_conv_originais >  4.50\n",
      "|   |   |   |   |   |   |   |   |   |--- class: 0\n",
      "|   |   |   |   |   |   |   |--- preds_conv_originais >  5.50\n",
      "|   |   |   |   |   |   |   |   |--- preds_conv_originais <= 7.50\n",
      "|   |   |   |   |   |   |   |   |   |--- preds_conv_originais <= 6.50\n",
      "|   |   |   |   |   |   |   |   |   |   |--- class: 0\n",
      "|   |   |   |   |   |   |   |   |   |--- preds_conv_originais >  6.50\n",
      "|   |   |   |   |   |   |   |   |   |   |--- class: 0\n",
      "|   |   |   |   |   |   |   |   |--- preds_conv_originais >  7.50\n",
      "|   |   |   |   |   |   |   |   |   |--- class: 0\n",
      "|   |   |   |   |   |   |--- preds_recor_filtrados >  0.50\n",
      "|   |   |   |   |   |   |   |--- preds_recor_filtrados <= 1.50\n",
      "|   |   |   |   |   |   |   |   |--- preds_conv_originais <= 4.50\n",
      "|   |   |   |   |   |   |   |   |   |--- class: 1\n",
      "|   |   |   |   |   |   |   |   |--- preds_conv_originais >  4.50\n",
      "|   |   |   |   |   |   |   |   |   |--- preds_conv_originais <= 8.50\n",
      "|   |   |   |   |   |   |   |   |   |   |--- class: 7\n",
      "|   |   |   |   |   |   |   |   |   |--- preds_conv_originais >  8.50\n",
      "|   |   |   |   |   |   |   |   |   |   |--- class: 8\n",
      "|   |   |   |   |   |   |   |--- preds_recor_filtrados >  1.50\n",
      "|   |   |   |   |   |   |   |   |--- preds_conv_originais <= 4.50\n",
      "|   |   |   |   |   |   |   |   |   |--- class: 0\n",
      "|   |   |   |   |   |   |   |   |--- preds_conv_originais >  4.50\n",
      "|   |   |   |   |   |   |   |   |   |--- preds_conv_originais <= 6.00\n",
      "|   |   |   |   |   |   |   |   |   |   |--- class: 2\n",
      "|   |   |   |   |   |   |   |   |   |--- preds_conv_originais >  6.00\n",
      "|   |   |   |   |   |   |   |   |   |   |--- preds_conv_originais <= 8.00\n",
      "|   |   |   |   |   |   |   |   |   |   |   |--- class: 5\n",
      "|   |   |   |   |   |   |   |   |   |   |--- preds_conv_originais >  8.00\n",
      "|   |   |   |   |   |   |   |   |   |   |   |--- class: 0\n",
      "|   |   |   |   |   |--- preds_recor_filtrados >  3.00\n",
      "|   |   |   |   |   |   |--- preds_recor_filtrados <= 5.50\n",
      "|   |   |   |   |   |   |   |--- preds_conv_originais <= 7.50\n",
      "|   |   |   |   |   |   |   |   |--- preds_conv_originais <= 4.50\n",
      "|   |   |   |   |   |   |   |   |   |--- class: 5\n",
      "|   |   |   |   |   |   |   |   |--- preds_conv_originais >  4.50\n",
      "|   |   |   |   |   |   |   |   |   |--- preds_conv_originais <= 6.00\n",
      "|   |   |   |   |   |   |   |   |   |   |--- preds_recor_filtrados <= 4.50\n",
      "|   |   |   |   |   |   |   |   |   |   |   |--- class: 5\n",
      "|   |   |   |   |   |   |   |   |   |   |--- preds_recor_filtrados >  4.50\n",
      "|   |   |   |   |   |   |   |   |   |   |   |--- class: 5\n",
      "|   |   |   |   |   |   |   |   |   |--- preds_conv_originais >  6.00\n",
      "|   |   |   |   |   |   |   |   |   |   |--- class: 5\n",
      "|   |   |   |   |   |   |   |--- preds_conv_originais >  7.50\n",
      "|   |   |   |   |   |   |   |   |--- preds_conv_originais <= 8.50\n",
      "|   |   |   |   |   |   |   |   |   |--- class: 5\n",
      "|   |   |   |   |   |   |   |   |--- preds_conv_originais >  8.50\n",
      "|   |   |   |   |   |   |   |   |   |--- class: 5\n",
      "|   |   |   |   |   |   |--- preds_recor_filtrados >  5.50\n",
      "|   |   |   |   |   |   |   |--- preds_conv_originais <= 7.50\n",
      "|   |   |   |   |   |   |   |   |--- preds_conv_originais <= 4.50\n",
      "|   |   |   |   |   |   |   |   |   |--- class: 0\n",
      "|   |   |   |   |   |   |   |   |--- preds_conv_originais >  4.50\n",
      "|   |   |   |   |   |   |   |   |   |--- preds_conv_originais <= 6.50\n",
      "|   |   |   |   |   |   |   |   |   |   |--- preds_recor_filtrados <= 6.50\n",
      "|   |   |   |   |   |   |   |   |   |   |   |--- class: 6\n",
      "|   |   |   |   |   |   |   |   |   |   |--- preds_recor_filtrados >  6.50\n",
      "|   |   |   |   |   |   |   |   |   |   |   |--- truncated branch of depth 2\n",
      "|   |   |   |   |   |   |   |   |   |--- preds_conv_originais >  6.50\n",
      "|   |   |   |   |   |   |   |   |   |   |--- class: 4\n",
      "|   |   |   |   |   |   |   |--- preds_conv_originais >  7.50\n",
      "|   |   |   |   |   |   |   |   |--- preds_recor_filtrados <= 8.50\n",
      "|   |   |   |   |   |   |   |   |   |--- class: 8\n",
      "|   |   |   |   |   |   |   |   |--- preds_recor_filtrados >  8.50\n",
      "|   |   |   |   |   |   |   |   |   |--- class: 5\n",
      "|   |   |   |   |--- preds_conv_filtrados >  5.50\n",
      "|   |   |   |   |   |--- preds_recor_filtrados <= 5.50\n",
      "|   |   |   |   |   |   |--- preds_conv_originais <= 3.00\n",
      "|   |   |   |   |   |   |   |--- class: 6\n",
      "|   |   |   |   |   |   |--- preds_conv_originais >  3.00\n",
      "|   |   |   |   |   |   |   |--- preds_recor_filtrados <= 3.00\n",
      "|   |   |   |   |   |   |   |   |--- preds_conv_originais <= 4.50\n",
      "|   |   |   |   |   |   |   |   |   |--- class: 0\n",
      "|   |   |   |   |   |   |   |   |--- preds_conv_originais >  4.50\n",
      "|   |   |   |   |   |   |   |   |   |--- class: 6\n",
      "|   |   |   |   |   |   |   |--- preds_recor_filtrados >  3.00\n",
      "|   |   |   |   |   |   |   |   |--- preds_recor_filtrados <= 4.50\n",
      "|   |   |   |   |   |   |   |   |   |--- class: 0\n",
      "|   |   |   |   |   |   |   |   |--- preds_recor_filtrados >  4.50\n",
      "|   |   |   |   |   |   |   |   |   |--- class: 0\n",
      "|   |   |   |   |   |--- preds_recor_filtrados >  5.50\n",
      "|   |   |   |   |   |   |--- class: 6\n",
      "|   |--- preds_conv_filtrados >  6.50\n",
      "|   |   |--- preds_recor_filtrados <= 6.50\n",
      "|   |   |   |--- preds_recor_filtrados <= 3.50\n",
      "|   |   |   |   |--- preds_recor_filtrados <= 1.50\n",
      "|   |   |   |   |   |--- preds_recor_filtrados <= 0.50\n",
      "|   |   |   |   |   |   |--- class: 0\n",
      "|   |   |   |   |   |--- preds_recor_filtrados >  0.50\n",
      "|   |   |   |   |   |   |--- preds_conv_originais <= 4.00\n",
      "|   |   |   |   |   |   |   |--- class: 0\n",
      "|   |   |   |   |   |   |--- preds_conv_originais >  4.00\n",
      "|   |   |   |   |   |   |   |--- class: 7\n",
      "|   |   |   |   |--- preds_recor_filtrados >  1.50\n",
      "|   |   |   |   |   |--- preds_recor_filtrados <= 2.50\n",
      "|   |   |   |   |   |   |--- preds_conv_originais <= 8.00\n",
      "|   |   |   |   |   |   |   |--- class: 2\n",
      "|   |   |   |   |   |   |--- preds_conv_originais >  8.00\n",
      "|   |   |   |   |   |   |   |--- class: 2\n",
      "|   |   |   |   |   |--- preds_recor_filtrados >  2.50\n",
      "|   |   |   |   |   |   |--- preds_conv_originais <= 5.00\n",
      "|   |   |   |   |   |   |   |--- class: 3\n",
      "|   |   |   |   |   |   |--- preds_conv_originais >  5.00\n",
      "|   |   |   |   |   |   |   |--- class: 3\n",
      "|   |   |   |--- preds_recor_filtrados >  3.50\n",
      "|   |   |   |   |--- preds_recor_filtrados <= 5.50\n",
      "|   |   |   |   |   |--- preds_conv_originais <= 8.00\n",
      "|   |   |   |   |   |   |--- preds_conv_originais <= 6.00\n",
      "|   |   |   |   |   |   |   |--- preds_recor_filtrados <= 4.50\n",
      "|   |   |   |   |   |   |   |   |--- preds_conv_originais <= 2.50\n",
      "|   |   |   |   |   |   |   |   |   |--- class: 1\n",
      "|   |   |   |   |   |   |   |   |--- preds_conv_originais >  2.50\n",
      "|   |   |   |   |   |   |   |   |   |--- preds_conv_originais <= 4.50\n",
      "|   |   |   |   |   |   |   |   |   |   |--- class: 4\n",
      "|   |   |   |   |   |   |   |   |   |--- preds_conv_originais >  4.50\n",
      "|   |   |   |   |   |   |   |   |   |   |--- class: 4\n",
      "|   |   |   |   |   |   |   |--- preds_recor_filtrados >  4.50\n",
      "|   |   |   |   |   |   |   |   |--- class: 7\n",
      "|   |   |   |   |   |   |--- preds_conv_originais >  6.00\n",
      "|   |   |   |   |   |   |   |--- class: 4\n",
      "|   |   |   |   |   |--- preds_conv_originais >  8.00\n",
      "|   |   |   |   |   |   |--- class: 9\n",
      "|   |   |   |   |--- preds_recor_filtrados >  5.50\n",
      "|   |   |   |   |   |--- class: 6\n",
      "|   |   |--- preds_recor_filtrados >  6.50\n",
      "|   |   |   |--- preds_recor_filtrados <= 7.50\n",
      "|   |   |   |   |--- preds_conv_originais <= 6.50\n",
      "|   |   |   |   |   |--- preds_conv_originais <= 4.50\n",
      "|   |   |   |   |   |   |--- preds_conv_originais <= 2.00\n",
      "|   |   |   |   |   |   |   |--- class: 7\n",
      "|   |   |   |   |   |   |--- preds_conv_originais >  2.00\n",
      "|   |   |   |   |   |   |   |--- preds_conv_originais <= 3.50\n",
      "|   |   |   |   |   |   |   |   |--- class: 7\n",
      "|   |   |   |   |   |   |   |--- preds_conv_originais >  3.50\n",
      "|   |   |   |   |   |   |   |   |--- class: 7\n",
      "|   |   |   |   |   |--- preds_conv_originais >  4.50\n",
      "|   |   |   |   |   |   |--- preds_conv_originais <= 5.50\n",
      "|   |   |   |   |   |   |   |--- class: 7\n",
      "|   |   |   |   |   |   |--- preds_conv_originais >  5.50\n",
      "|   |   |   |   |   |   |   |--- class: 7\n",
      "|   |   |   |   |--- preds_conv_originais >  6.50\n",
      "|   |   |   |   |   |--- preds_conv_originais <= 7.50\n",
      "|   |   |   |   |   |   |--- class: 7\n",
      "|   |   |   |   |   |--- preds_conv_originais >  7.50\n",
      "|   |   |   |   |   |   |--- preds_conv_originais <= 8.50\n",
      "|   |   |   |   |   |   |   |--- class: 7\n",
      "|   |   |   |   |   |   |--- preds_conv_originais >  8.50\n",
      "|   |   |   |   |   |   |   |--- class: 7\n",
      "|   |   |   |--- preds_recor_filtrados >  7.50\n",
      "|   |   |   |   |--- preds_conv_originais <= 5.50\n",
      "|   |   |   |   |   |--- preds_recor_filtrados <= 8.50\n",
      "|   |   |   |   |   |   |--- class: 4\n",
      "|   |   |   |   |   |--- preds_recor_filtrados >  8.50\n",
      "|   |   |   |   |   |   |--- preds_conv_originais <= 2.50\n",
      "|   |   |   |   |   |   |   |--- class: 2\n",
      "|   |   |   |   |   |   |--- preds_conv_originais >  2.50\n",
      "|   |   |   |   |   |   |   |--- class: 9\n",
      "|   |   |   |   |--- preds_conv_originais >  5.50\n",
      "|   |   |   |   |   |--- preds_conv_originais <= 8.50\n",
      "|   |   |   |   |   |   |--- preds_recor_filtrados <= 8.50\n",
      "|   |   |   |   |   |   |   |--- class: 8\n",
      "|   |   |   |   |   |   |--- preds_recor_filtrados >  8.50\n",
      "|   |   |   |   |   |   |   |--- preds_conv_originais <= 7.50\n",
      "|   |   |   |   |   |   |   |   |--- class: 7\n",
      "|   |   |   |   |   |   |   |--- preds_conv_originais >  7.50\n",
      "|   |   |   |   |   |   |   |   |--- class: 7\n",
      "|   |   |   |   |   |--- preds_conv_originais >  8.50\n",
      "|   |   |   |   |   |   |--- class: 9\n",
      "|--- preds_conv_filtrados >  7.50\n",
      "|   |--- preds_conv_filtrados <= 8.50\n",
      "|   |   |--- preds_recor_filtrados <= 7.50\n",
      "|   |   |   |--- preds_recor_filtrados <= 0.50\n",
      "|   |   |   |   |--- preds_conv_originais <= 6.00\n",
      "|   |   |   |   |   |--- class: 6\n",
      "|   |   |   |   |--- preds_conv_originais >  6.00\n",
      "|   |   |   |   |   |--- class: 0\n",
      "|   |   |   |--- preds_recor_filtrados >  0.50\n",
      "|   |   |   |   |--- preds_recor_filtrados <= 4.50\n",
      "|   |   |   |   |   |--- preds_recor_filtrados <= 3.00\n",
      "|   |   |   |   |   |   |--- preds_recor_filtrados <= 1.50\n",
      "|   |   |   |   |   |   |   |--- preds_conv_originais <= 7.50\n",
      "|   |   |   |   |   |   |   |   |--- class: 8\n",
      "|   |   |   |   |   |   |   |--- preds_conv_originais >  7.50\n",
      "|   |   |   |   |   |   |   |   |--- class: 7\n",
      "|   |   |   |   |   |   |--- preds_recor_filtrados >  1.50\n",
      "|   |   |   |   |   |   |   |--- preds_conv_originais <= 6.00\n",
      "|   |   |   |   |   |   |   |   |--- class: 2\n",
      "|   |   |   |   |   |   |   |--- preds_conv_originais >  6.00\n",
      "|   |   |   |   |   |   |   |   |--- preds_conv_originais <= 7.50\n",
      "|   |   |   |   |   |   |   |   |   |--- class: 8\n",
      "|   |   |   |   |   |   |   |   |--- preds_conv_originais >  7.50\n",
      "|   |   |   |   |   |   |   |   |   |--- class: 2\n",
      "|   |   |   |   |   |--- preds_recor_filtrados >  3.00\n",
      "|   |   |   |   |   |   |--- preds_conv_originais <= 5.50\n",
      "|   |   |   |   |   |   |   |--- class: 4\n",
      "|   |   |   |   |   |   |--- preds_conv_originais >  5.50\n",
      "|   |   |   |   |   |   |   |--- preds_conv_originais <= 7.50\n",
      "|   |   |   |   |   |   |   |   |--- class: 8\n",
      "|   |   |   |   |   |   |   |--- preds_conv_originais >  7.50\n",
      "|   |   |   |   |   |   |   |   |--- preds_conv_originais <= 8.50\n",
      "|   |   |   |   |   |   |   |   |   |--- class: 4\n",
      "|   |   |   |   |   |   |   |   |--- preds_conv_originais >  8.50\n",
      "|   |   |   |   |   |   |   |   |   |--- class: 4\n",
      "|   |   |   |   |--- preds_recor_filtrados >  4.50\n",
      "|   |   |   |   |   |--- preds_conv_originais <= 7.50\n",
      "|   |   |   |   |   |   |--- preds_conv_originais <= 6.00\n",
      "|   |   |   |   |   |   |   |--- class: 5\n",
      "|   |   |   |   |   |   |--- preds_conv_originais >  6.00\n",
      "|   |   |   |   |   |   |   |--- class: 7\n",
      "|   |   |   |   |   |--- preds_conv_originais >  7.50\n",
      "|   |   |   |   |   |   |--- preds_conv_originais <= 8.50\n",
      "|   |   |   |   |   |   |   |--- preds_recor_filtrados <= 6.00\n",
      "|   |   |   |   |   |   |   |   |--- class: 8\n",
      "|   |   |   |   |   |   |   |--- preds_recor_filtrados >  6.00\n",
      "|   |   |   |   |   |   |   |   |--- class: 8\n",
      "|   |   |   |   |   |   |--- preds_conv_originais >  8.50\n",
      "|   |   |   |   |   |   |   |--- class: 5\n",
      "|   |   |--- preds_recor_filtrados >  7.50\n",
      "|   |   |   |--- preds_conv_originais <= 6.00\n",
      "|   |   |   |   |--- preds_recor_filtrados <= 8.50\n",
      "|   |   |   |   |   |--- preds_conv_originais <= 4.50\n",
      "|   |   |   |   |   |   |--- class: 8\n",
      "|   |   |   |   |   |--- preds_conv_originais >  4.50\n",
      "|   |   |   |   |   |   |--- class: 8\n",
      "|   |   |   |   |--- preds_recor_filtrados >  8.50\n",
      "|   |   |   |   |   |--- preds_conv_originais <= 4.50\n",
      "|   |   |   |   |   |   |--- class: 4\n",
      "|   |   |   |   |   |--- preds_conv_originais >  4.50\n",
      "|   |   |   |   |   |   |--- class: 2\n",
      "|   |   |   |--- preds_conv_originais >  6.00\n",
      "|   |   |   |   |--- preds_recor_filtrados <= 8.50\n",
      "|   |   |   |   |   |--- preds_conv_originais <= 8.50\n",
      "|   |   |   |   |   |   |--- preds_conv_originais <= 7.50\n",
      "|   |   |   |   |   |   |   |--- class: 8\n",
      "|   |   |   |   |   |   |--- preds_conv_originais >  7.50\n",
      "|   |   |   |   |   |   |   |--- class: 8\n",
      "|   |   |   |   |   |--- preds_conv_originais >  8.50\n",
      "|   |   |   |   |   |   |--- class: 8\n",
      "|   |   |   |   |--- preds_recor_filtrados >  8.50\n",
      "|   |   |   |   |   |--- preds_conv_originais <= 8.50\n",
      "|   |   |   |   |   |   |--- class: 8\n",
      "|   |   |   |   |   |--- preds_conv_originais >  8.50\n",
      "|   |   |   |   |   |   |--- class: 8\n",
      "|   |--- preds_conv_filtrados >  8.50\n",
      "|   |   |--- preds_recor_filtrados <= 8.50\n",
      "|   |   |   |--- preds_recor_filtrados <= 3.50\n",
      "|   |   |   |   |--- preds_recor_filtrados <= 1.50\n",
      "|   |   |   |   |   |--- preds_recor_filtrados <= 0.50\n",
      "|   |   |   |   |   |   |--- preds_conv_originais <= 8.50\n",
      "|   |   |   |   |   |   |   |--- preds_conv_originais <= 4.50\n",
      "|   |   |   |   |   |   |   |   |--- class: 0\n",
      "|   |   |   |   |   |   |   |--- preds_conv_originais >  4.50\n",
      "|   |   |   |   |   |   |   |   |--- class: 0\n",
      "|   |   |   |   |   |   |--- preds_conv_originais >  8.50\n",
      "|   |   |   |   |   |   |   |--- class: 0\n",
      "|   |   |   |   |   |--- preds_recor_filtrados >  0.50\n",
      "|   |   |   |   |   |   |--- preds_conv_originais <= 8.00\n",
      "|   |   |   |   |   |   |   |--- preds_conv_originais <= 2.50\n",
      "|   |   |   |   |   |   |   |   |--- class: 9\n",
      "|   |   |   |   |   |   |   |--- preds_conv_originais >  2.50\n",
      "|   |   |   |   |   |   |   |   |--- preds_conv_originais <= 5.50\n",
      "|   |   |   |   |   |   |   |   |   |--- class: 4\n",
      "|   |   |   |   |   |   |   |   |--- preds_conv_originais >  5.50\n",
      "|   |   |   |   |   |   |   |   |   |--- class: 1\n",
      "|   |   |   |   |   |   |--- preds_conv_originais >  8.00\n",
      "|   |   |   |   |   |   |   |--- class: 1\n",
      "|   |   |   |   |--- preds_recor_filtrados >  1.50\n",
      "|   |   |   |   |   |--- preds_conv_originais <= 4.50\n",
      "|   |   |   |   |   |   |--- preds_conv_originais <= 2.50\n",
      "|   |   |   |   |   |   |   |--- class: 2\n",
      "|   |   |   |   |   |   |--- preds_conv_originais >  2.50\n",
      "|   |   |   |   |   |   |   |--- class: 0\n",
      "|   |   |   |   |   |--- preds_conv_originais >  4.50\n",
      "|   |   |   |   |   |   |--- preds_conv_originais <= 8.50\n",
      "|   |   |   |   |   |   |   |--- preds_conv_originais <= 7.50\n",
      "|   |   |   |   |   |   |   |   |--- preds_conv_originais <= 6.00\n",
      "|   |   |   |   |   |   |   |   |   |--- class: 2\n",
      "|   |   |   |   |   |   |   |   |--- preds_conv_originais >  6.00\n",
      "|   |   |   |   |   |   |   |   |   |--- class: 9\n",
      "|   |   |   |   |   |   |   |--- preds_conv_originais >  7.50\n",
      "|   |   |   |   |   |   |   |   |--- class: 8\n",
      "|   |   |   |   |   |   |--- preds_conv_originais >  8.50\n",
      "|   |   |   |   |   |   |   |--- class: 2\n",
      "|   |   |   |--- preds_recor_filtrados >  3.50\n",
      "|   |   |   |   |--- preds_recor_filtrados <= 4.50\n",
      "|   |   |   |   |   |--- preds_conv_originais <= 5.50\n",
      "|   |   |   |   |   |   |--- class: 4\n",
      "|   |   |   |   |   |--- preds_conv_originais >  5.50\n",
      "|   |   |   |   |   |   |--- preds_conv_originais <= 8.50\n",
      "|   |   |   |   |   |   |   |--- preds_conv_originais <= 7.50\n",
      "|   |   |   |   |   |   |   |   |--- class: 4\n",
      "|   |   |   |   |   |   |   |--- preds_conv_originais >  7.50\n",
      "|   |   |   |   |   |   |   |   |--- class: 4\n",
      "|   |   |   |   |   |   |--- preds_conv_originais >  8.50\n",
      "|   |   |   |   |   |   |   |--- class: 4\n",
      "|   |   |   |   |--- preds_recor_filtrados >  4.50\n",
      "|   |   |   |   |   |--- preds_recor_filtrados <= 7.50\n",
      "|   |   |   |   |   |   |--- preds_recor_filtrados <= 6.50\n",
      "|   |   |   |   |   |   |   |--- preds_recor_filtrados <= 5.50\n",
      "|   |   |   |   |   |   |   |   |--- preds_conv_originais <= 8.50\n",
      "|   |   |   |   |   |   |   |   |   |--- preds_conv_originais <= 7.50\n",
      "|   |   |   |   |   |   |   |   |   |   |--- preds_conv_originais <= 4.50\n",
      "|   |   |   |   |   |   |   |   |   |   |   |--- class: 5\n",
      "|   |   |   |   |   |   |   |   |   |   |--- preds_conv_originais >  4.50\n",
      "|   |   |   |   |   |   |   |   |   |   |   |--- class: 5\n",
      "|   |   |   |   |   |   |   |   |   |--- preds_conv_originais >  7.50\n",
      "|   |   |   |   |   |   |   |   |   |   |--- class: 8\n",
      "|   |   |   |   |   |   |   |   |--- preds_conv_originais >  8.50\n",
      "|   |   |   |   |   |   |   |   |   |--- class: 5\n",
      "|   |   |   |   |   |   |   |--- preds_recor_filtrados >  5.50\n",
      "|   |   |   |   |   |   |   |   |--- class: 6\n",
      "|   |   |   |   |   |   |--- preds_recor_filtrados >  6.50\n",
      "|   |   |   |   |   |   |   |--- preds_conv_originais <= 5.50\n",
      "|   |   |   |   |   |   |   |   |--- class: 0\n",
      "|   |   |   |   |   |   |   |--- preds_conv_originais >  5.50\n",
      "|   |   |   |   |   |   |   |   |--- preds_conv_originais <= 8.50\n",
      "|   |   |   |   |   |   |   |   |   |--- preds_conv_originais <= 7.50\n",
      "|   |   |   |   |   |   |   |   |   |   |--- class: 7\n",
      "|   |   |   |   |   |   |   |   |   |--- preds_conv_originais >  7.50\n",
      "|   |   |   |   |   |   |   |   |   |   |--- class: 7\n",
      "|   |   |   |   |   |   |   |   |--- preds_conv_originais >  8.50\n",
      "|   |   |   |   |   |   |   |   |   |--- class: 7\n",
      "|   |   |   |   |   |--- preds_recor_filtrados >  7.50\n",
      "|   |   |   |   |   |   |--- class: 8\n",
      "|   |   |--- preds_recor_filtrados >  8.50\n",
      "|   |   |   |--- preds_conv_originais <= 6.00\n",
      "|   |   |   |   |--- preds_conv_originais <= 3.00\n",
      "|   |   |   |   |   |--- preds_conv_originais <= 1.50\n",
      "|   |   |   |   |   |   |--- preds_conv_originais <= 0.50\n",
      "|   |   |   |   |   |   |   |--- class: 9\n",
      "|   |   |   |   |   |   |--- preds_conv_originais >  0.50\n",
      "|   |   |   |   |   |   |   |--- class: 9\n",
      "|   |   |   |   |   |--- preds_conv_originais >  1.50\n",
      "|   |   |   |   |   |   |--- class: 9\n",
      "|   |   |   |   |--- preds_conv_originais >  3.00\n",
      "|   |   |   |   |   |--- preds_conv_originais <= 4.50\n",
      "|   |   |   |   |   |   |--- class: 9\n",
      "|   |   |   |   |   |--- preds_conv_originais >  4.50\n",
      "|   |   |   |   |   |   |--- class: 9\n",
      "|   |   |   |--- preds_conv_originais >  6.00\n",
      "|   |   |   |   |--- preds_conv_originais <= 8.50\n",
      "|   |   |   |   |   |--- preds_conv_originais <= 7.50\n",
      "|   |   |   |   |   |   |--- class: 9\n",
      "|   |   |   |   |   |--- preds_conv_originais >  7.50\n",
      "|   |   |   |   |   |   |--- class: 9\n",
      "|   |   |   |   |--- preds_conv_originais >  8.50\n",
      "|   |   |   |   |   |--- class: 9\n",
      "\n"
     ]
    }
   ],
   "source": [
    "from sklearn.tree.export import export_text\n",
    "\n",
    "print(export_text(clf, feature_names=['preds_conv_filtrados', 'preds_recor_filtrados', 'preds_conv_originais']))"
   ]
  },
  {
   "cell_type": "code",
   "execution_count": null,
   "metadata": {},
   "outputs": [],
   "source": []
  }
 ],
 "metadata": {
  "kernelspec": {
   "display_name": "Python 3",
   "language": "python",
   "name": "python3"
  },
  "language_info": {
   "codemirror_mode": {
    "name": "ipython",
    "version": 3
   },
   "file_extension": ".py",
   "mimetype": "text/x-python",
   "name": "python",
   "nbconvert_exporter": "python",
   "pygments_lexer": "ipython3",
   "version": "3.7.4"
  }
 },
 "nbformat": 4,
 "nbformat_minor": 2
}
