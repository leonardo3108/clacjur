{
 "cells": [
  {
   "cell_type": "markdown",
   "metadata": {},
   "source": [
    "# Importação e preparação dos dados"
   ]
  },
  {
   "cell_type": "code",
   "execution_count": 1,
   "metadata": {},
   "outputs": [
    {
     "data": {
      "text/html": [
       "<div>\n",
       "<style scoped>\n",
       "    .dataframe tbody tr th:only-of-type {\n",
       "        vertical-align: middle;\n",
       "    }\n",
       "\n",
       "    .dataframe tbody tr th {\n",
       "        vertical-align: top;\n",
       "    }\n",
       "\n",
       "    .dataframe thead th {\n",
       "        text-align: right;\n",
       "    }\n",
       "</style>\n",
       "<table border=\"1\" class=\"dataframe\">\n",
       "  <thead>\n",
       "    <tr style=\"text-align: right;\">\n",
       "      <th></th>\n",
       "      <th>acordao</th>\n",
       "      <th>areas</th>\n",
       "      <th>filtrado_500</th>\n",
       "    </tr>\n",
       "  </thead>\n",
       "  <tbody>\n",
       "    <tr>\n",
       "      <th>0</th>\n",
       "      <td>297/2016-P</td>\n",
       "      <td>Responsabilidade</td>\n",
       "      <td>conta conta gerência instituto nacional seguro...</td>\n",
       "    </tr>\n",
       "    <tr>\n",
       "      <th>1</th>\n",
       "      <td>366/2016-P</td>\n",
       "      <td>Finanças Públicas</td>\n",
       "      <td>senado petróleo petróleo regime aduaneiro expo...</td>\n",
       "    </tr>\n",
       "    <tr>\n",
       "      <th>2</th>\n",
       "      <td>944/2016-P</td>\n",
       "      <td>Responsabilidade</td>\n",
       "      <td>tribunal conta plenário embargo declaração aco...</td>\n",
       "    </tr>\n",
       "    <tr>\n",
       "      <th>3</th>\n",
       "      <td>30/2016-P</td>\n",
       "      <td>Direito Processual</td>\n",
       "      <td>embargo declaração inss recorrente marco antôn...</td>\n",
       "    </tr>\n",
       "    <tr>\n",
       "      <th>4</th>\n",
       "      <td>55/2016-P</td>\n",
       "      <td>Pessoal</td>\n",
       "      <td>senac senac senac empresa senac giselle araújo...</td>\n",
       "    </tr>\n",
       "  </tbody>\n",
       "</table>\n",
       "</div>"
      ],
      "text/plain": [
       "      acordao               areas  \\\n",
       "0  297/2016-P    Responsabilidade   \n",
       "1  366/2016-P   Finanças Públicas   \n",
       "2  944/2016-P    Responsabilidade   \n",
       "3   30/2016-P  Direito Processual   \n",
       "4   55/2016-P             Pessoal   \n",
       "\n",
       "                                        filtrado_500  \n",
       "0  conta conta gerência instituto nacional seguro...  \n",
       "1  senado petróleo petróleo regime aduaneiro expo...  \n",
       "2  tribunal conta plenário embargo declaração aco...  \n",
       "3  embargo declaração inss recorrente marco antôn...  \n",
       "4  senac senac senac empresa senac giselle araújo...  "
      ]
     },
     "execution_count": 1,
     "metadata": {},
     "output_type": "execute_result"
    }
   ],
   "source": [
    "import pandas as pd\n",
    "\n",
    "df = pd.read_csv('../dados/acordaos-selecionada-filtrados-500.csv', sep = '|')\n",
    "df['filtrado_500']=df['filtrado_500'].astype(str)\n",
    "df.head()"
   ]
  },
  {
   "cell_type": "code",
   "execution_count": 2,
   "metadata": {},
   "outputs": [
    {
     "data": {
      "text/plain": [
       "(10524, 3)"
      ]
     },
     "execution_count": 2,
     "metadata": {},
     "output_type": "execute_result"
    }
   ],
   "source": [
    "df.shape"
   ]
  },
  {
   "cell_type": "code",
   "execution_count": 3,
   "metadata": {},
   "outputs": [
    {
     "data": {
      "text/plain": [
       "(10524, 91)"
      ]
     },
     "execution_count": 3,
     "metadata": {},
     "output_type": "execute_result"
    }
   ],
   "source": [
    "from sklearn.preprocessing import LabelBinarizer\n",
    "\n",
    "areas = df.groupby(['areas']).groups.keys()\n",
    "lbArea = LabelBinarizer()\n",
    "lbArea.fit([x for x in areas])\n",
    "y = lbArea.transform(df['areas'])\n",
    "y.shape"
   ]
  },
  {
   "cell_type": "code",
   "execution_count": 4,
   "metadata": {},
   "outputs": [
    {
     "name": "stderr",
     "output_type": "stream",
     "text": [
      "Using TensorFlow backend.\n"
     ]
    },
    {
     "name": "stdout",
     "output_type": "stream",
     "text": [
      "Found 33339 unique tokens.\n"
     ]
    }
   ],
   "source": [
    "from keras.preprocessing.text import Tokenizer\n",
    "import numpy as np\n",
    "\n",
    "vocabulario = 35000\n",
    "limite_texto = 500\n",
    "dim_vetor = 100\n",
    "\n",
    "tokenizer = Tokenizer(num_words=vocabulario)\n",
    "tokenizer.fit_on_texts(df['filtrado_500'])\n",
    "\n",
    "sequences = tokenizer.texts_to_sequences(df['filtrado_500'])\n",
    "\n",
    "word_index = tokenizer.word_index\n",
    "print('Found %s unique tokens.' % len(word_index))"
   ]
  },
  {
   "cell_type": "code",
   "execution_count": 5,
   "metadata": {},
   "outputs": [
    {
     "name": "stdout",
     "output_type": "stream",
     "text": [
      "Shape of data tensor: (10524, 500)\n"
     ]
    }
   ],
   "source": [
    "from keras.preprocessing.sequence import pad_sequences\n",
    "\n",
    "x = pad_sequences(sequences, maxlen=limite_texto)\n",
    "\n",
    "print('Shape of data tensor:', x.shape)"
   ]
  },
  {
   "cell_type": "code",
   "execution_count": 6,
   "metadata": {},
   "outputs": [
    {
     "data": {
      "text/plain": [
       "((10524, 500), (10524, 91))"
      ]
     },
     "execution_count": 6,
     "metadata": {},
     "output_type": "execute_result"
    }
   ],
   "source": [
    "x.shape, y.shape"
   ]
  },
  {
   "cell_type": "code",
   "execution_count": 7,
   "metadata": {},
   "outputs": [
    {
     "name": "stderr",
     "output_type": "stream",
     "text": [
      "/home/leonardo/anaconda3/envs/gpu/lib/python3.7/site-packages/smart_open/smart_open_lib.py:398: UserWarning: This function is deprecated, use smart_open.open instead. See the migration notes for details: https://github.com/RaRe-Technologies/smart_open/blob/master/README.rst#migrating-to-the-new-open-function\n",
      "  'See the migration notes for details: %s' % _MIGRATION_NOTES_URL\n"
     ]
    }
   ],
   "source": [
    "from gensim.models import KeyedVectors\n",
    "\n",
    "model = KeyedVectors.load_word2vec_format('../externos/model.txt')"
   ]
  },
  {
   "cell_type": "code",
   "execution_count": 8,
   "metadata": {},
   "outputs": [
    {
     "name": "stdout",
     "output_type": "stream",
     "text": [
      "Vocabulario: 33339\n",
      "Encontrados no modelo: 24576 = 73.71546837037704\n"
     ]
    }
   ],
   "source": [
    "# create a weight matrix for words in training docs\n",
    "\n",
    "embedding_matrix = np.zeros((vocabulario, dim_vetor))\n",
    "\n",
    "ok = 0\n",
    "for word, i in tokenizer.word_index.items():\n",
    "    if word in model:\n",
    "        embedding_matrix[i] = model[word]\n",
    "        ok += 1\n",
    "print('Vocabulario:', i)\n",
    "print('Encontrados no modelo:', ok, '=', ok * 100. / i)"
   ]
  },
  {
   "cell_type": "markdown",
   "metadata": {},
   "source": [
    "# Treinamento"
   ]
  },
  {
   "cell_type": "code",
   "execution_count": 9,
   "metadata": {
    "scrolled": false
   },
   "outputs": [
    {
     "name": "stderr",
     "output_type": "stream",
     "text": [
      "WARNING: Logging before flag parsing goes to stderr.\n",
      "W0318 10:46:22.361593 140620886337344 deprecation_wrapper.py:119] From /home/leonardo/anaconda3/envs/gpu/lib/python3.7/site-packages/keras/backend/tensorflow_backend.py:74: The name tf.get_default_graph is deprecated. Please use tf.compat.v1.get_default_graph instead.\n",
      "\n",
      "W0318 10:46:22.509466 140620886337344 deprecation_wrapper.py:119] From /home/leonardo/anaconda3/envs/gpu/lib/python3.7/site-packages/keras/backend/tensorflow_backend.py:517: The name tf.placeholder is deprecated. Please use tf.compat.v1.placeholder instead.\n",
      "\n",
      "W0318 10:46:22.510988 140620886337344 deprecation_wrapper.py:119] From /home/leonardo/anaconda3/envs/gpu/lib/python3.7/site-packages/keras/backend/tensorflow_backend.py:4138: The name tf.random_uniform is deprecated. Please use tf.random.uniform instead.\n",
      "\n",
      "W0318 10:46:22.518720 140620886337344 deprecation_wrapper.py:119] From /home/leonardo/anaconda3/envs/gpu/lib/python3.7/site-packages/keras/backend/tensorflow_backend.py:174: The name tf.get_default_session is deprecated. Please use tf.compat.v1.get_default_session instead.\n",
      "\n",
      "W0318 10:46:22.519424 140620886337344 deprecation_wrapper.py:119] From /home/leonardo/anaconda3/envs/gpu/lib/python3.7/site-packages/keras/backend/tensorflow_backend.py:181: The name tf.ConfigProto is deprecated. Please use tf.compat.v1.ConfigProto instead.\n",
      "\n",
      "W0318 10:46:23.232936 140620886337344 deprecation_wrapper.py:119] From /home/leonardo/anaconda3/envs/gpu/lib/python3.7/site-packages/keras/backend/tensorflow_backend.py:3976: The name tf.nn.max_pool is deprecated. Please use tf.nn.max_pool2d instead.\n",
      "\n",
      "W0318 10:46:23.269790 140620886337344 deprecation_wrapper.py:119] From /home/leonardo/anaconda3/envs/gpu/lib/python3.7/site-packages/keras/optimizers.py:790: The name tf.train.Optimizer is deprecated. Please use tf.compat.v1.train.Optimizer instead.\n",
      "\n",
      "W0318 10:46:23.363566 140620886337344 deprecation.py:323] From /home/leonardo/anaconda3/envs/gpu/lib/python3.7/site-packages/tensorflow/python/ops/math_grad.py:1250: add_dispatch_support.<locals>.wrapper (from tensorflow.python.ops.array_ops) is deprecated and will be removed in a future version.\n",
      "Instructions for updating:\n",
      "Use tf.where in 2.0, which has the same broadcast rule as np.where\n"
     ]
    },
    {
     "name": "stdout",
     "output_type": "stream",
     "text": [
      "_________________________________________________________________\n",
      "Layer (type)                 Output Shape              Param #   \n",
      "=================================================================\n",
      "embedding_1 (Embedding)      (None, 500, 100)          3500000   \n",
      "_________________________________________________________________\n",
      "conv1d_1 (Conv1D)            (None, 494, 32)           22432     \n",
      "_________________________________________________________________\n",
      "max_pooling1d_1 (MaxPooling1 (None, 98, 32)            0         \n",
      "_________________________________________________________________\n",
      "conv1d_2 (Conv1D)            (None, 92, 32)            7200      \n",
      "_________________________________________________________________\n",
      "global_max_pooling1d_1 (Glob (None, 32)                0         \n",
      "_________________________________________________________________\n",
      "dense_1 (Dense)              (None, 91)                3003      \n",
      "=================================================================\n",
      "Total params: 3,532,635\n",
      "Trainable params: 32,635\n",
      "Non-trainable params: 3,500,000\n",
      "_________________________________________________________________\n",
      "Train on 8419 samples, validate on 2105 samples\n",
      "Epoch 1/20\n",
      "8419/8419 [==============================] - 2s 271us/step - loss: 1.8604 - categorical_accuracy: 0.5194 - val_loss: 1.7427 - val_categorical_accuracy: 0.4223\n",
      "Epoch 2/20\n",
      "8419/8419 [==============================] - 1s 108us/step - loss: 1.5241 - categorical_accuracy: 0.5902 - val_loss: 1.6666 - val_categorical_accuracy: 0.5278\n",
      "Epoch 3/20\n",
      "8419/8419 [==============================] - 1s 96us/step - loss: 1.4204 - categorical_accuracy: 0.6137 - val_loss: 1.6857 - val_categorical_accuracy: 0.4694\n",
      "Epoch 4/20\n",
      "8419/8419 [==============================] - 1s 93us/step - loss: 1.3489 - categorical_accuracy: 0.6308 - val_loss: 1.6638 - val_categorical_accuracy: 0.5273\n",
      "Epoch 5/20\n",
      "8419/8419 [==============================] - 1s 91us/step - loss: 1.2835 - categorical_accuracy: 0.6529 - val_loss: 1.6969 - val_categorical_accuracy: 0.5349\n",
      "Epoch 6/20\n",
      "8419/8419 [==============================] - 1s 93us/step - loss: 1.2238 - categorical_accuracy: 0.6687 - val_loss: 1.7993 - val_categorical_accuracy: 0.5040\n",
      "Epoch 7/20\n",
      "8419/8419 [==============================] - 1s 95us/step - loss: 1.1672 - categorical_accuracy: 0.6851 - val_loss: 1.7995 - val_categorical_accuracy: 0.4618\n",
      "Epoch 8/20\n",
      "8419/8419 [==============================] - 1s 89us/step - loss: 1.1105 - categorical_accuracy: 0.7023 - val_loss: 1.9753 - val_categorical_accuracy: 0.4418\n",
      "Epoch 9/20\n",
      "8419/8419 [==============================] - 1s 88us/step - loss: 1.0560 - categorical_accuracy: 0.7149 - val_loss: 1.7076 - val_categorical_accuracy: 0.5145\n",
      "Epoch 10/20\n",
      "8419/8419 [==============================] - 1s 107us/step - loss: 1.0021 - categorical_accuracy: 0.7356 - val_loss: 1.7730 - val_categorical_accuracy: 0.5297\n",
      "Epoch 11/20\n",
      "8419/8419 [==============================] - 1s 117us/step - loss: 0.9412 - categorical_accuracy: 0.7480 - val_loss: 1.9289 - val_categorical_accuracy: 0.4513\n",
      "Epoch 12/20\n",
      "8419/8419 [==============================] - 1s 112us/step - loss: 0.8946 - categorical_accuracy: 0.7645 - val_loss: 1.9179 - val_categorical_accuracy: 0.5226\n",
      "Epoch 13/20\n",
      "8419/8419 [==============================] - 1s 90us/step - loss: 0.8449 - categorical_accuracy: 0.7780 - val_loss: 2.0490 - val_categorical_accuracy: 0.4684\n",
      "Epoch 14/20\n",
      "8419/8419 [==============================] - 1s 98us/step - loss: 0.7931 - categorical_accuracy: 0.7909 - val_loss: 2.2286 - val_categorical_accuracy: 0.4461\n",
      "Epoch 15/20\n",
      "8419/8419 [==============================] - 1s 99us/step - loss: 0.7462 - categorical_accuracy: 0.8084 - val_loss: 1.9685 - val_categorical_accuracy: 0.4703\n",
      "Epoch 16/20\n",
      "8419/8419 [==============================] - 1s 94us/step - loss: 0.7041 - categorical_accuracy: 0.8173 - val_loss: 2.0963 - val_categorical_accuracy: 0.5031\n",
      "Epoch 17/20\n",
      "8419/8419 [==============================] - 1s 98us/step - loss: 0.6633 - categorical_accuracy: 0.8286 - val_loss: 1.9951 - val_categorical_accuracy: 0.4941\n",
      "Epoch 18/20\n",
      "8419/8419 [==============================] - 1s 109us/step - loss: 0.6281 - categorical_accuracy: 0.8385 - val_loss: 2.3942 - val_categorical_accuracy: 0.4608\n",
      "Epoch 19/20\n",
      "8419/8419 [==============================] - 1s 109us/step - loss: 0.5926 - categorical_accuracy: 0.8484 - val_loss: 2.2379 - val_categorical_accuracy: 0.4974\n",
      "Epoch 20/20\n",
      "8419/8419 [==============================] - 1s 106us/step - loss: 0.5634 - categorical_accuracy: 0.8526 - val_loss: 2.2153 - val_categorical_accuracy: 0.4974\n"
     ]
    }
   ],
   "source": [
    "from keras.models import Sequential\n",
    "from keras.layers import Embedding, Conv1D, MaxPooling1D, Dense, GlobalMaxPooling1D, Flatten\n",
    "from keras.optimizers import RMSprop\n",
    "from keras.layers.core import Dropout\n",
    "\n",
    "model = Sequential()\n",
    "model.add(Embedding(vocabulario, dim_vetor, weights=[embedding_matrix], input_length=limite_texto, trainable=False))\n",
    "model.add(Conv1D(32, 7, activation='relu'))\n",
    "model.add(MaxPooling1D(5))\n",
    "model.add(Conv1D(32, 7, activation='relu'))\n",
    "model.add(GlobalMaxPooling1D())\n",
    "model.add(Dense(y.shape[1], activation='softmax'))\n",
    "model.compile(loss='categorical_crossentropy', optimizer=RMSprop(),  metrics=[\"categorical_accuracy\"])\n",
    "model.summary()\n",
    "history = model.fit(x, y, epochs=20, batch_size=32, validation_split=0.2, verbose=1, shuffle=True)"
   ]
  },
  {
   "cell_type": "code",
   "execution_count": 10,
   "metadata": {},
   "outputs": [
    {
     "name": "stdout",
     "output_type": "stream",
     "text": [
      "_________________________________________________________________\n",
      "Layer (type)                 Output Shape              Param #   \n",
      "=================================================================\n",
      "embedding_2 (Embedding)      (None, 500, 100)          3500000   \n",
      "_________________________________________________________________\n",
      "conv1d_3 (Conv1D)            (None, 494, 64)           44864     \n",
      "_________________________________________________________________\n",
      "max_pooling1d_2 (MaxPooling1 (None, 98, 64)            0         \n",
      "_________________________________________________________________\n",
      "conv1d_4 (Conv1D)            (None, 92, 32)            14368     \n",
      "_________________________________________________________________\n",
      "global_max_pooling1d_2 (Glob (None, 32)                0         \n",
      "_________________________________________________________________\n",
      "dense_2 (Dense)              (None, 91)                3003      \n",
      "=================================================================\n",
      "Total params: 3,562,235\n",
      "Trainable params: 3,562,235\n",
      "Non-trainable params: 0\n",
      "_________________________________________________________________\n",
      "Train on 8419 samples, validate on 2105 samples\n",
      "Epoch 1/20\n",
      "8419/8419 [==============================] - 2s 277us/step - loss: 1.7982 - categorical_accuracy: 0.5383 - val_loss: 1.9204 - val_categorical_accuracy: 0.4670\n",
      "Epoch 2/20\n",
      "8419/8419 [==============================] - 2s 216us/step - loss: 1.4311 - categorical_accuracy: 0.6124 - val_loss: 1.5280 - val_categorical_accuracy: 0.5639\n",
      "Epoch 3/20\n",
      "8419/8419 [==============================] - 2s 210us/step - loss: 1.3044 - categorical_accuracy: 0.6485 - val_loss: 1.5715 - val_categorical_accuracy: 0.5577\n",
      "Epoch 4/20\n",
      "8419/8419 [==============================] - 2s 222us/step - loss: 1.1891 - categorical_accuracy: 0.6807 - val_loss: 1.5737 - val_categorical_accuracy: 0.5520\n",
      "Epoch 5/20\n",
      "8419/8419 [==============================] - 2s 231us/step - loss: 1.0796 - categorical_accuracy: 0.7173 - val_loss: 1.6198 - val_categorical_accuracy: 0.5781\n",
      "Epoch 6/20\n",
      "8419/8419 [==============================] - 2s 218us/step - loss: 0.9698 - categorical_accuracy: 0.7478 - val_loss: 1.8629 - val_categorical_accuracy: 0.4860\n",
      "Epoch 7/20\n",
      "8419/8419 [==============================] - 2s 220us/step - loss: 0.8605 - categorical_accuracy: 0.7795 - val_loss: 1.7680 - val_categorical_accuracy: 0.5473\n",
      "Epoch 8/20\n",
      "8419/8419 [==============================] - 2s 215us/step - loss: 0.7630 - categorical_accuracy: 0.8053 - val_loss: 1.8219 - val_categorical_accuracy: 0.4945\n",
      "Epoch 9/20\n",
      "8419/8419 [==============================] - 2s 226us/step - loss: 0.6635 - categorical_accuracy: 0.8349 - val_loss: 1.7783 - val_categorical_accuracy: 0.5653\n",
      "Epoch 10/20\n",
      "8419/8419 [==============================] - 2s 230us/step - loss: 0.5764 - categorical_accuracy: 0.8551 - val_loss: 2.1627 - val_categorical_accuracy: 0.4822\n",
      "Epoch 11/20\n",
      "8419/8419 [==============================] - 2s 220us/step - loss: 0.5066 - categorical_accuracy: 0.8742 - val_loss: 2.3739 - val_categorical_accuracy: 0.4599\n",
      "Epoch 12/20\n",
      "8419/8419 [==============================] - 2s 226us/step - loss: 0.4412 - categorical_accuracy: 0.8908 - val_loss: 2.0887 - val_categorical_accuracy: 0.5335\n",
      "Epoch 13/20\n",
      "8419/8419 [==============================] - 2s 234us/step - loss: 0.3897 - categorical_accuracy: 0.9037 - val_loss: 2.2588 - val_categorical_accuracy: 0.4988\n",
      "Epoch 14/20\n",
      "8419/8419 [==============================] - 2s 222us/step - loss: 0.3402 - categorical_accuracy: 0.9169 - val_loss: 2.4816 - val_categorical_accuracy: 0.4727\n",
      "Epoch 15/20\n",
      "8419/8419 [==============================] - 2s 218us/step - loss: 0.3114 - categorical_accuracy: 0.9241 - val_loss: 2.5627 - val_categorical_accuracy: 0.4955\n",
      "Epoch 16/20\n",
      "8419/8419 [==============================] - 2s 227us/step - loss: 0.2804 - categorical_accuracy: 0.9309 - val_loss: 2.8117 - val_categorical_accuracy: 0.4917\n",
      "Epoch 17/20\n",
      "8419/8419 [==============================] - 2s 232us/step - loss: 0.2506 - categorical_accuracy: 0.9379 - val_loss: 2.8250 - val_categorical_accuracy: 0.5145\n",
      "Epoch 18/20\n",
      "8419/8419 [==============================] - 2s 233us/step - loss: 0.2346 - categorical_accuracy: 0.9405 - val_loss: 3.1498 - val_categorical_accuracy: 0.4793\n",
      "Epoch 19/20\n",
      "8419/8419 [==============================] - 2s 221us/step - loss: 0.2136 - categorical_accuracy: 0.9461 - val_loss: 2.8638 - val_categorical_accuracy: 0.4969\n",
      "Epoch 20/20\n",
      "8419/8419 [==============================] - 2s 223us/step - loss: 0.2023 - categorical_accuracy: 0.9500 - val_loss: 3.1059 - val_categorical_accuracy: 0.4722\n"
     ]
    }
   ],
   "source": [
    "model = Sequential()\n",
    "model.add(Embedding(vocabulario, dim_vetor, weights=[embedding_matrix], input_length=limite_texto, trainable=True))\n",
    "model.add(Conv1D(64, 7, activation='relu'))\n",
    "model.add(MaxPooling1D(5))\n",
    "model.add(Conv1D(32, 7, activation='relu'))\n",
    "model.add(GlobalMaxPooling1D())\n",
    "model.add(Dense(y.shape[1], activation='softmax'))\n",
    "model.compile(loss='categorical_crossentropy', optimizer=RMSprop(),  metrics=[\"categorical_accuracy\"])\n",
    "model.summary()\n",
    "history = model.fit(x, y, epochs=20, batch_size=32, validation_split=0.2, verbose=1, shuffle=True)"
   ]
  },
  {
   "cell_type": "code",
   "execution_count": 11,
   "metadata": {
    "scrolled": false
   },
   "outputs": [
    {
     "name": "stderr",
     "output_type": "stream",
     "text": [
      "W0318 10:47:20.484219 140620886337344 deprecation.py:506] From /home/leonardo/anaconda3/envs/gpu/lib/python3.7/site-packages/keras/backend/tensorflow_backend.py:3445: calling dropout (from tensorflow.python.ops.nn_ops) with keep_prob is deprecated and will be removed in a future version.\n",
      "Instructions for updating:\n",
      "Please use `rate` instead of `keep_prob`. Rate should be set to `rate = 1 - keep_prob`.\n"
     ]
    },
    {
     "name": "stdout",
     "output_type": "stream",
     "text": [
      "_________________________________________________________________\n",
      "Layer (type)                 Output Shape              Param #   \n",
      "=================================================================\n",
      "embedding_3 (Embedding)      (None, 500, 100)          3500000   \n",
      "_________________________________________________________________\n",
      "conv1d_5 (Conv1D)            (None, 494, 64)           44864     \n",
      "_________________________________________________________________\n",
      "max_pooling1d_3 (MaxPooling1 (None, 98, 64)            0         \n",
      "_________________________________________________________________\n",
      "conv1d_6 (Conv1D)            (None, 92, 32)            14368     \n",
      "_________________________________________________________________\n",
      "max_pooling1d_4 (MaxPooling1 (None, 18, 32)            0         \n",
      "_________________________________________________________________\n",
      "flatten_1 (Flatten)          (None, 576)               0         \n",
      "_________________________________________________________________\n",
      "dense_3 (Dense)              (None, 256)               147712    \n",
      "_________________________________________________________________\n",
      "dropout_1 (Dropout)          (None, 256)               0         \n",
      "_________________________________________________________________\n",
      "dense_4 (Dense)              (None, 91)                23387     \n",
      "=================================================================\n",
      "Total params: 3,730,331\n",
      "Trainable params: 3,730,331\n",
      "Non-trainable params: 0\n",
      "_________________________________________________________________\n",
      "Train on 8419 samples, validate on 2105 samples\n",
      "Epoch 1/20\n",
      "8419/8419 [==============================] - 3s 298us/step - loss: 1.8031 - categorical_accuracy: 0.5161 - val_loss: 1.8144 - val_categorical_accuracy: 0.4052\n",
      "Epoch 2/20\n",
      "8419/8419 [==============================] - 2s 238us/step - loss: 1.4513 - categorical_accuracy: 0.6072 - val_loss: 1.7823 - val_categorical_accuracy: 0.5553\n",
      "Epoch 3/20\n",
      "8419/8419 [==============================] - 2s 238us/step - loss: 1.3183 - categorical_accuracy: 0.6397 - val_loss: 1.7150 - val_categorical_accuracy: 0.5416\n",
      "Epoch 4/20\n",
      "8419/8419 [==============================] - 2s 259us/step - loss: 1.1745 - categorical_accuracy: 0.6704 - val_loss: 2.1149 - val_categorical_accuracy: 0.4010\n",
      "Epoch 5/20\n",
      "8419/8419 [==============================] - 2s 251us/step - loss: 1.0212 - categorical_accuracy: 0.7085 - val_loss: 2.0452 - val_categorical_accuracy: 0.4371\n",
      "Epoch 6/20\n",
      "8419/8419 [==============================] - 2s 240us/step - loss: 0.8718 - categorical_accuracy: 0.7531 - val_loss: 2.0312 - val_categorical_accuracy: 0.4998\n",
      "Epoch 7/20\n",
      "8419/8419 [==============================] - 2s 240us/step - loss: 0.7302 - categorical_accuracy: 0.7912 - val_loss: 2.2142 - val_categorical_accuracy: 0.5183\n",
      "Epoch 8/20\n",
      "8419/8419 [==============================] - 2s 240us/step - loss: 0.6109 - categorical_accuracy: 0.8265 - val_loss: 2.3832 - val_categorical_accuracy: 0.4950\n",
      "Epoch 9/20\n",
      "8419/8419 [==============================] - 2s 243us/step - loss: 0.5140 - categorical_accuracy: 0.8598 - val_loss: 2.8242 - val_categorical_accuracy: 0.4960\n",
      "Epoch 10/20\n",
      "8419/8419 [==============================] - 2s 244us/step - loss: 0.4610 - categorical_accuracy: 0.8754 - val_loss: 2.7478 - val_categorical_accuracy: 0.5102\n",
      "Epoch 11/20\n",
      "8419/8419 [==============================] - 2s 240us/step - loss: 0.4199 - categorical_accuracy: 0.8891 - val_loss: 3.1720 - val_categorical_accuracy: 0.4865\n",
      "Epoch 12/20\n",
      "8419/8419 [==============================] - 2s 243us/step - loss: 0.3782 - categorical_accuracy: 0.9005 - val_loss: 3.4983 - val_categorical_accuracy: 0.4732\n",
      "Epoch 13/20\n",
      "8419/8419 [==============================] - 2s 246us/step - loss: 0.3578 - categorical_accuracy: 0.9070 - val_loss: 3.3427 - val_categorical_accuracy: 0.5230\n",
      "Epoch 14/20\n",
      "8419/8419 [==============================] - 2s 259us/step - loss: 0.3309 - categorical_accuracy: 0.9116 - val_loss: 3.2595 - val_categorical_accuracy: 0.5007\n",
      "Epoch 15/20\n",
      "8419/8419 [==============================] - 2s 239us/step - loss: 0.3308 - categorical_accuracy: 0.9179 - val_loss: 3.5198 - val_categorical_accuracy: 0.4665\n",
      "Epoch 16/20\n",
      "8419/8419 [==============================] - 2s 238us/step - loss: 0.3034 - categorical_accuracy: 0.9274 - val_loss: 3.8178 - val_categorical_accuracy: 0.4850\n",
      "Epoch 17/20\n",
      "8419/8419 [==============================] - 2s 246us/step - loss: 0.2921 - categorical_accuracy: 0.9261 - val_loss: 4.0876 - val_categorical_accuracy: 0.4508\n",
      "Epoch 18/20\n",
      "8419/8419 [==============================] - 2s 256us/step - loss: 0.2829 - categorical_accuracy: 0.9329 - val_loss: 3.9823 - val_categorical_accuracy: 0.4860\n",
      "Epoch 19/20\n",
      "8419/8419 [==============================] - 2s 246us/step - loss: 0.2595 - categorical_accuracy: 0.9356 - val_loss: 4.2849 - val_categorical_accuracy: 0.5135\n",
      "Epoch 20/20\n",
      "8419/8419 [==============================] - 2s 244us/step - loss: 0.2661 - categorical_accuracy: 0.9349 - val_loss: 4.5192 - val_categorical_accuracy: 0.4907\n"
     ]
    }
   ],
   "source": [
    "model = Sequential()\n",
    "model.add(Embedding(vocabulario, dim_vetor, weights=[embedding_matrix], input_length=limite_texto, trainable=True))\n",
    "model.add(Conv1D(64, 7, activation='relu'))\n",
    "model.add(MaxPooling1D(5))\n",
    "model.add(Conv1D(32, 7, activation='relu'))\n",
    "model.add(MaxPooling1D(5))\n",
    "model.add(Flatten())\n",
    "model.add(Dense(256, activation='relu'))\n",
    "model.add(Dropout(0.2))\n",
    "model.add(Dense(y.shape[1], activation='softmax'))\n",
    "model.compile(loss='categorical_crossentropy', optimizer=RMSprop(),  metrics=[\"categorical_accuracy\"])\n",
    "model.summary()\n",
    "history = model.fit(x, y, epochs=20, batch_size=32, validation_split=0.2, verbose=1, shuffle=True)"
   ]
  },
  {
   "cell_type": "code",
   "execution_count": 12,
   "metadata": {},
   "outputs": [
    {
     "name": "stdout",
     "output_type": "stream",
     "text": [
      "_________________________________________________________________\n",
      "Layer (type)                 Output Shape              Param #   \n",
      "=================================================================\n",
      "embedding_4 (Embedding)      (None, 500, 100)          3500000   \n",
      "_________________________________________________________________\n",
      "conv1d_7 (Conv1D)            (None, 494, 64)           44864     \n",
      "_________________________________________________________________\n",
      "max_pooling1d_5 (MaxPooling1 (None, 98, 64)            0         \n",
      "_________________________________________________________________\n",
      "conv1d_8 (Conv1D)            (None, 92, 32)            14368     \n",
      "_________________________________________________________________\n",
      "max_pooling1d_6 (MaxPooling1 (None, 18, 32)            0         \n",
      "_________________________________________________________________\n",
      "flatten_2 (Flatten)          (None, 576)               0         \n",
      "_________________________________________________________________\n",
      "dense_5 (Dense)              (None, 1024)              590848    \n",
      "_________________________________________________________________\n",
      "dropout_2 (Dropout)          (None, 1024)              0         \n",
      "_________________________________________________________________\n",
      "dense_6 (Dense)              (None, 128)               131200    \n",
      "_________________________________________________________________\n",
      "dropout_3 (Dropout)          (None, 128)               0         \n",
      "_________________________________________________________________\n",
      "dense_7 (Dense)              (None, 91)                11739     \n",
      "=================================================================\n",
      "Total params: 4,293,019\n",
      "Trainable params: 4,293,019\n",
      "Non-trainable params: 0\n",
      "_________________________________________________________________\n",
      "Train on 8419 samples, validate on 2105 samples\n",
      "Epoch 1/20\n",
      "8419/8419 [==============================] - 3s 327us/step - loss: 1.8625 - categorical_accuracy: 0.5184 - val_loss: 1.8551 - val_categorical_accuracy: 0.3772\n",
      "Epoch 2/20\n",
      "8419/8419 [==============================] - 2s 267us/step - loss: 1.5088 - categorical_accuracy: 0.6019 - val_loss: 1.6277 - val_categorical_accuracy: 0.5501\n",
      "Epoch 3/20\n",
      "8419/8419 [==============================] - 2s 263us/step - loss: 1.3668 - categorical_accuracy: 0.6305 - val_loss: 1.6975 - val_categorical_accuracy: 0.4941\n",
      "Epoch 4/20\n",
      "8419/8419 [==============================] - 2s 262us/step - loss: 1.2239 - categorical_accuracy: 0.6681 - val_loss: 2.2978 - val_categorical_accuracy: 0.4432\n",
      "Epoch 5/20\n",
      "8419/8419 [==============================] - 2s 269us/step - loss: 1.0807 - categorical_accuracy: 0.7004 - val_loss: 2.1012 - val_categorical_accuracy: 0.5078\n",
      "Epoch 6/20\n",
      "8419/8419 [==============================] - 2s 258us/step - loss: 0.9250 - categorical_accuracy: 0.7420 - val_loss: 1.9176 - val_categorical_accuracy: 0.5064\n",
      "Epoch 7/20\n",
      "8419/8419 [==============================] - 2s 268us/step - loss: 0.8154 - categorical_accuracy: 0.7722 - val_loss: 2.9367 - val_categorical_accuracy: 0.4561\n",
      "Epoch 8/20\n",
      "8419/8419 [==============================] - 2s 257us/step - loss: 0.7281 - categorical_accuracy: 0.7989 - val_loss: 2.5072 - val_categorical_accuracy: 0.5002\n",
      "Epoch 9/20\n",
      "8419/8419 [==============================] - 2s 268us/step - loss: 0.6638 - categorical_accuracy: 0.8191 - val_loss: 2.8914 - val_categorical_accuracy: 0.4865\n",
      "Epoch 10/20\n",
      "8419/8419 [==============================] - 2s 270us/step - loss: 0.6279 - categorical_accuracy: 0.8300 - val_loss: 3.0942 - val_categorical_accuracy: 0.5140\n",
      "Epoch 11/20\n",
      "8419/8419 [==============================] - 2s 267us/step - loss: 0.5865 - categorical_accuracy: 0.8465 - val_loss: 2.9026 - val_categorical_accuracy: 0.4157\n",
      "Epoch 12/20\n",
      "8419/8419 [==============================] - 2s 267us/step - loss: 0.5431 - categorical_accuracy: 0.8562 - val_loss: 3.3465 - val_categorical_accuracy: 0.4532\n",
      "Epoch 13/20\n",
      "8419/8419 [==============================] - 2s 264us/step - loss: 0.5278 - categorical_accuracy: 0.8654 - val_loss: 3.2250 - val_categorical_accuracy: 0.4689\n",
      "Epoch 14/20\n",
      "8419/8419 [==============================] - 2s 258us/step - loss: 0.5237 - categorical_accuracy: 0.8702 - val_loss: 3.7332 - val_categorical_accuracy: 0.5178\n",
      "Epoch 15/20\n",
      "8419/8419 [==============================] - 2s 258us/step - loss: 0.5053 - categorical_accuracy: 0.8754 - val_loss: 3.2780 - val_categorical_accuracy: 0.4404\n",
      "Epoch 16/20\n",
      "8419/8419 [==============================] - 2s 269us/step - loss: 0.4811 - categorical_accuracy: 0.8825 - val_loss: 4.2252 - val_categorical_accuracy: 0.4684\n",
      "Epoch 17/20\n",
      "8419/8419 [==============================] - 2s 270us/step - loss: 0.4901 - categorical_accuracy: 0.8851 - val_loss: 4.2815 - val_categorical_accuracy: 0.4869\n",
      "Epoch 18/20\n",
      "8419/8419 [==============================] - 2s 259us/step - loss: 0.4636 - categorical_accuracy: 0.8918 - val_loss: 3.3857 - val_categorical_accuracy: 0.4271\n",
      "Epoch 19/20\n",
      "8419/8419 [==============================] - 2s 259us/step - loss: 0.4484 - categorical_accuracy: 0.8931 - val_loss: 4.6545 - val_categorical_accuracy: 0.4005\n",
      "Epoch 20/20\n",
      "8419/8419 [==============================] - 2s 274us/step - loss: 0.4666 - categorical_accuracy: 0.8929 - val_loss: 3.7284 - val_categorical_accuracy: 0.4618\n"
     ]
    }
   ],
   "source": [
    "model = Sequential()\n",
    "model.add(Embedding(vocabulario, dim_vetor, weights=[embedding_matrix], input_length=limite_texto, trainable=True))\n",
    "model.add(Conv1D(64, 7, activation='relu'))\n",
    "model.add(MaxPooling1D(5))\n",
    "model.add(Conv1D(32, 7, activation='relu'))\n",
    "model.add(MaxPooling1D(5))\n",
    "model.add(Flatten())\n",
    "model.add(Dense(1024, activation='relu'))\n",
    "model.add(Dropout(0.2))\n",
    "model.add(Dense(128, activation='relu'))\n",
    "model.add(Dropout(0.2))\n",
    "model.add(Dense(y.shape[1], activation='softmax'))\n",
    "model.compile(loss='categorical_crossentropy', optimizer=RMSprop(),  metrics=[\"categorical_accuracy\"])\n",
    "model.summary()\n",
    "history = model.fit(x, y, epochs=20, batch_size=32, validation_split=0.2, verbose=1, shuffle=True)"
   ]
  },
  {
   "cell_type": "code",
   "execution_count": null,
   "metadata": {},
   "outputs": [],
   "source": []
  }
 ],
 "metadata": {
  "kernelspec": {
   "display_name": "Python 3",
   "language": "python",
   "name": "python3"
  },
  "language_info": {
   "codemirror_mode": {
    "name": "ipython",
    "version": 3
   },
   "file_extension": ".py",
   "mimetype": "text/x-python",
   "name": "python",
   "nbconvert_exporter": "python",
   "pygments_lexer": "ipython3",
   "version": "3.7.4"
  }
 },
 "nbformat": 4,
 "nbformat_minor": 2
}
