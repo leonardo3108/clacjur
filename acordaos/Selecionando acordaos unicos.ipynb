{
 "cells": [
  {
   "cell_type": "code",
   "execution_count": 18,
   "metadata": {},
   "outputs": [
    {
     "data": {
      "text/html": [
       "<div>\n",
       "<style scoped>\n",
       "    .dataframe tbody tr th:only-of-type {\n",
       "        vertical-align: middle;\n",
       "    }\n",
       "\n",
       "    .dataframe tbody tr th {\n",
       "        vertical-align: top;\n",
       "    }\n",
       "\n",
       "    .dataframe thead th {\n",
       "        text-align: right;\n",
       "    }\n",
       "</style>\n",
       "<table border=\"1\" class=\"dataframe\">\n",
       "  <thead>\n",
       "    <tr style=\"text-align: right;\">\n",
       "      <th></th>\n",
       "      <th>acordao</th>\n",
       "      <th>arquivo</th>\n",
       "      <th>areas</th>\n",
       "      <th>texto</th>\n",
       "    </tr>\n",
       "  </thead>\n",
       "  <tbody>\n",
       "    <tr>\n",
       "      <th>0</th>\n",
       "      <td>297/2016-P</td>\n",
       "      <td>547240.txt</td>\n",
       "      <td>Responsabilidade</td>\n",
       "      <td>TRIBUNAL DE CONTAS DA UNIÃO\\tTC 010.084/2015-0...</td>\n",
       "    </tr>\n",
       "    <tr>\n",
       "      <th>1</th>\n",
       "      <td>366/2016-P</td>\n",
       "      <td>549518.txt</td>\n",
       "      <td>Finanças Públicas</td>\n",
       "      <td>TRIBUNAL DE CONTAS DA UNIÃO\\tTC 005.933/2014-5...</td>\n",
       "    </tr>\n",
       "    <tr>\n",
       "      <th>2</th>\n",
       "      <td>944/2016-P</td>\n",
       "      <td>554399.txt</td>\n",
       "      <td>Responsabilidade</td>\n",
       "      <td>TRIBUNAL DE CONTAS DA UNIÃO\\tTC 042.038/2012-0...</td>\n",
       "    </tr>\n",
       "    <tr>\n",
       "      <th>3</th>\n",
       "      <td>30/2016-P</td>\n",
       "      <td>545010.txt</td>\n",
       "      <td>Direito Processual</td>\n",
       "      <td>TRIBUNAL DE CONTAS DA UNIÃO\\tTC 000.742/2014-7...</td>\n",
       "    </tr>\n",
       "    <tr>\n",
       "      <th>4</th>\n",
       "      <td>55/2016-P</td>\n",
       "      <td>544046.txt</td>\n",
       "      <td>Pessoal</td>\n",
       "      <td>;-;;Wania Lucia Pasquarelli do NascimentoTCUWa...</td>\n",
       "    </tr>\n",
       "  </tbody>\n",
       "</table>\n",
       "</div>"
      ],
      "text/plain": [
       "      acordao     arquivo               areas  \\\n",
       "0  297/2016-P  547240.txt    Responsabilidade   \n",
       "1  366/2016-P  549518.txt   Finanças Públicas   \n",
       "2  944/2016-P  554399.txt    Responsabilidade   \n",
       "3   30/2016-P  545010.txt  Direito Processual   \n",
       "4   55/2016-P  544046.txt             Pessoal   \n",
       "\n",
       "                                               texto  \n",
       "0  TRIBUNAL DE CONTAS DA UNIÃO\\tTC 010.084/2015-0...  \n",
       "1  TRIBUNAL DE CONTAS DA UNIÃO\\tTC 005.933/2014-5...  \n",
       "2  TRIBUNAL DE CONTAS DA UNIÃO\\tTC 042.038/2012-0...  \n",
       "3  TRIBUNAL DE CONTAS DA UNIÃO\\tTC 000.742/2014-7...  \n",
       "4  ;-;;Wania Lucia Pasquarelli do NascimentoTCUWa...  "
      ]
     },
     "execution_count": 18,
     "metadata": {},
     "output_type": "execute_result"
    }
   ],
   "source": [
    "import pandas as pd\n",
    "\n",
    "df = pd.read_csv('../dados/acordaos-selecionada.csv', sep = '|')\n",
    "df.head()"
   ]
  },
  {
   "cell_type": "code",
   "execution_count": 19,
   "metadata": {},
   "outputs": [
    {
     "data": {
      "text/plain": [
       "(10524, 4)"
      ]
     },
     "execution_count": 19,
     "metadata": {},
     "output_type": "execute_result"
    }
   ],
   "source": [
    "df.shape"
   ]
  },
  {
   "cell_type": "code",
   "execution_count": 20,
   "metadata": {},
   "outputs": [
    {
     "data": {
      "text/plain": [
       "areas\n",
       "Competência do TCU                                    405\n",
       "Contrato Administrativo                               549\n",
       "Contrato Administrativo,Competência do TCU              4\n",
       "Contrato Administrativo,Desestatização                  1\n",
       "Contrato Administrativo,Finanças Públicas               6\n",
       "                                                     ... \n",
       "Responsabilidade,Licitação                             17\n",
       "Responsabilidade,Licitação,Competência do TCU           1\n",
       "Responsabilidade,Licitação,Contrato Administrativo      1\n",
       "Responsabilidade,Pessoal                               16\n",
       "Responsabilidade,Pessoal,Competência do TCU             1\n",
       "Length: 98, dtype: int64"
      ]
     },
     "execution_count": 20,
     "metadata": {},
     "output_type": "execute_result"
    }
   ],
   "source": [
    "df.groupby(['areas']).size()"
   ]
  },
  {
   "cell_type": "code",
   "execution_count": 21,
   "metadata": {},
   "outputs": [
    {
     "data": {
      "text/plain": [
       "areas\n",
       "Gestão Administrativa,Contrato Administrativo                     4\n",
       "Contrato Administrativo,Competência do TCU                        4\n",
       "Convênio,Finanças Públicas                                        4\n",
       "Finanças Públicas,Competência do TCU                              4\n",
       "Licitação,Responsabilidade,Contrato Administrativo                5\n",
       "Responsabilidade,Direito Processual,Contrato Administrativo       5\n",
       "Convênio,Competência do TCU                                       5\n",
       "Licitação,Convênio                                                5\n",
       "Direito Processual,Finanças Públicas                              5\n",
       "Convênio,Pessoal                                                  5\n",
       "Contrato Administrativo,Finanças Públicas                         6\n",
       "Desestatização,Competência do TCU                                 6\n",
       "Gestão Administrativa,Pessoal                                     6\n",
       "Licitação,Gestão Administrativa,Contrato Administrativo           7\n",
       "Licitação,Pessoal                                                 7\n",
       "Responsabilidade,Finanças Públicas                                7\n",
       "Licitação,Desestatização                                          8\n",
       "Responsabilidade,Gestão Administrativa                            8\n",
       "Gestão Administrativa,Competência do TCU                          9\n",
       "Convênio,Direito Processual                                      10\n",
       "Responsabilidade,Convênio                                        10\n",
       "Convênio,Contrato Administrativo                                 11\n",
       "Licitação,Finanças Públicas                                      11\n",
       "Pessoal,Finanças Públicas                                        13\n",
       "Convênio,Licitação                                               14\n",
       "Licitação,Competência do TCU                                     15\n",
       "Responsabilidade,Pessoal                                         16\n",
       "Licitação,Gestão Administrativa                                  16\n",
       "Responsabilidade,Licitação                                       17\n",
       "Direito Processual,Contrato Administrativo                       20\n",
       "Direito Processual,Competência do TCU                            21\n",
       "Responsabilidade,Competência do TCU                              21\n",
       "Pessoal,Competência do TCU                                       27\n",
       "Licitação,Direito Processual                                     31\n",
       "Convênio,Responsabilidade                                        31\n",
       "Responsabilidade,Contrato Administrativo                         32\n",
       "Direito Processual,Pessoal                                       37\n",
       "Licitação,Responsabilidade                                       44\n",
       "Desestatização                                                   82\n",
       "Responsabilidade,Direito Processual                              83\n",
       "Licitação,Contrato Administrativo                               124\n",
       "Gestão Administrativa                                           130\n",
       "Finanças Públicas                                               199\n",
       "Competência do TCU                                              405\n",
       "Convênio                                                        477\n",
       "Contrato Administrativo                                         549\n",
       "Direito Processual                                             1446\n",
       "Licitação                                                      1815\n",
       "Responsabilidade                                               1834\n",
       "Pessoal                                                        2802\n",
       "dtype: int64"
      ]
     },
     "execution_count": 21,
     "metadata": {},
     "output_type": "execute_result"
    }
   ],
   "source": [
    "df.groupby(['areas']).size().sort_values().tail(50)"
   ]
  },
  {
   "cell_type": "code",
   "execution_count": 22,
   "metadata": {},
   "outputs": [
    {
     "data": {
      "text/plain": [
       "98"
      ]
     },
     "execution_count": 22,
     "metadata": {},
     "output_type": "execute_result"
    }
   ],
   "source": [
    "len(df.groupby(['areas']).size())"
   ]
  },
  {
   "cell_type": "code",
   "execution_count": 27,
   "metadata": {},
   "outputs": [
    {
     "data": {
      "text/plain": [
       "(9739, 4)"
      ]
     },
     "execution_count": 27,
     "metadata": {},
     "output_type": "execute_result"
    }
   ],
   "source": [
    "df_unicos = df[df['areas'].str.count(',') == 0]\n",
    "df_unicos.shape"
   ]
  },
  {
   "cell_type": "code",
   "execution_count": 28,
   "metadata": {},
   "outputs": [],
   "source": [
    "df_unicos.to_csv('../dados/acordaos-unicos.csv', sep = '|', index=False)"
   ]
  },
  {
   "cell_type": "code",
   "execution_count": null,
   "metadata": {},
   "outputs": [],
   "source": []
  }
 ],
 "metadata": {
  "kernelspec": {
   "display_name": "Python 3",
   "language": "python",
   "name": "python3"
  },
  "language_info": {
   "codemirror_mode": {
    "name": "ipython",
    "version": 3
   },
   "file_extension": ".py",
   "mimetype": "text/x-python",
   "name": "python",
   "nbconvert_exporter": "python",
   "pygments_lexer": "ipython3",
   "version": "3.7.4"
  }
 },
 "nbformat": 4,
 "nbformat_minor": 2
}
