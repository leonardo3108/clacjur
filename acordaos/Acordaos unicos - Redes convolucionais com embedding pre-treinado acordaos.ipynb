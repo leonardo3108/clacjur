{
 "cells": [
  {
   "cell_type": "markdown",
   "metadata": {},
   "source": [
    "# Importação e preparação dos dados"
   ]
  },
  {
   "cell_type": "code",
   "execution_count": 1,
   "metadata": {},
   "outputs": [
    {
     "data": {
      "text/html": [
       "<div>\n",
       "<style scoped>\n",
       "    .dataframe tbody tr th:only-of-type {\n",
       "        vertical-align: middle;\n",
       "    }\n",
       "\n",
       "    .dataframe tbody tr th {\n",
       "        vertical-align: top;\n",
       "    }\n",
       "\n",
       "    .dataframe thead th {\n",
       "        text-align: right;\n",
       "    }\n",
       "</style>\n",
       "<table border=\"1\" class=\"dataframe\">\n",
       "  <thead>\n",
       "    <tr style=\"text-align: right;\">\n",
       "      <th></th>\n",
       "      <th>acordao</th>\n",
       "      <th>arquivo</th>\n",
       "      <th>areas</th>\n",
       "      <th>texto</th>\n",
       "    </tr>\n",
       "  </thead>\n",
       "  <tbody>\n",
       "    <tr>\n",
       "      <th>0</th>\n",
       "      <td>297/2016-P</td>\n",
       "      <td>547240.txt</td>\n",
       "      <td>Responsabilidade</td>\n",
       "      <td>TRIBUNAL DE CONTAS DA UNIÃO\\tTC 010.084/2015-0...</td>\n",
       "    </tr>\n",
       "    <tr>\n",
       "      <th>1</th>\n",
       "      <td>366/2016-P</td>\n",
       "      <td>549518.txt</td>\n",
       "      <td>Finanças Públicas</td>\n",
       "      <td>TRIBUNAL DE CONTAS DA UNIÃO\\tTC 005.933/2014-5...</td>\n",
       "    </tr>\n",
       "    <tr>\n",
       "      <th>2</th>\n",
       "      <td>944/2016-P</td>\n",
       "      <td>554399.txt</td>\n",
       "      <td>Responsabilidade</td>\n",
       "      <td>TRIBUNAL DE CONTAS DA UNIÃO\\tTC 042.038/2012-0...</td>\n",
       "    </tr>\n",
       "    <tr>\n",
       "      <th>3</th>\n",
       "      <td>30/2016-P</td>\n",
       "      <td>545010.txt</td>\n",
       "      <td>Direito Processual</td>\n",
       "      <td>TRIBUNAL DE CONTAS DA UNIÃO\\tTC 000.742/2014-7...</td>\n",
       "    </tr>\n",
       "    <tr>\n",
       "      <th>4</th>\n",
       "      <td>55/2016-P</td>\n",
       "      <td>544046.txt</td>\n",
       "      <td>Pessoal</td>\n",
       "      <td>;-;;Wania Lucia Pasquarelli do NascimentoTCUWa...</td>\n",
       "    </tr>\n",
       "  </tbody>\n",
       "</table>\n",
       "</div>"
      ],
      "text/plain": [
       "      acordao     arquivo               areas  \\\n",
       "0  297/2016-P  547240.txt    Responsabilidade   \n",
       "1  366/2016-P  549518.txt   Finanças Públicas   \n",
       "2  944/2016-P  554399.txt    Responsabilidade   \n",
       "3   30/2016-P  545010.txt  Direito Processual   \n",
       "4   55/2016-P  544046.txt             Pessoal   \n",
       "\n",
       "                                               texto  \n",
       "0  TRIBUNAL DE CONTAS DA UNIÃO\\tTC 010.084/2015-0...  \n",
       "1  TRIBUNAL DE CONTAS DA UNIÃO\\tTC 005.933/2014-5...  \n",
       "2  TRIBUNAL DE CONTAS DA UNIÃO\\tTC 042.038/2012-0...  \n",
       "3  TRIBUNAL DE CONTAS DA UNIÃO\\tTC 000.742/2014-7...  \n",
       "4  ;-;;Wania Lucia Pasquarelli do NascimentoTCUWa...  "
      ]
     },
     "execution_count": 1,
     "metadata": {},
     "output_type": "execute_result"
    }
   ],
   "source": [
    "import pandas as pd\n",
    "\n",
    "df = pd.read_csv('../dados/acordaos-unicos.csv', sep = '|')\n",
    "df.head()"
   ]
  },
  {
   "cell_type": "code",
   "execution_count": 2,
   "metadata": {},
   "outputs": [
    {
     "data": {
      "text/plain": [
       "(9739, 4)"
      ]
     },
     "execution_count": 2,
     "metadata": {},
     "output_type": "execute_result"
    }
   ],
   "source": [
    "df.shape"
   ]
  },
  {
   "cell_type": "code",
   "execution_count": 3,
   "metadata": {},
   "outputs": [
    {
     "data": {
      "text/plain": [
       "(9739, 10)"
      ]
     },
     "execution_count": 3,
     "metadata": {},
     "output_type": "execute_result"
    }
   ],
   "source": [
    "from sklearn.preprocessing import LabelBinarizer\n",
    "\n",
    "areas = df.groupby(['areas']).groups.keys()\n",
    "lbArea = LabelBinarizer()\n",
    "lbArea.fit([x for x in areas])\n",
    "y = lbArea.transform(df['areas'])\n",
    "y.shape"
   ]
  },
  {
   "cell_type": "code",
   "execution_count": 4,
   "metadata": {},
   "outputs": [
    {
     "name": "stderr",
     "output_type": "stream",
     "text": [
      "Using TensorFlow backend.\n"
     ]
    },
    {
     "name": "stdout",
     "output_type": "stream",
     "text": [
      "Found 318318 unique tokens.\n"
     ]
    }
   ],
   "source": [
    "from keras.preprocessing.text import Tokenizer\n",
    "import numpy as np\n",
    "\n",
    "vocabulario = 320000\n",
    "limite_texto = 40000\n",
    "dim_vetor = 100\n",
    "\n",
    "tokenizer = Tokenizer(num_words=vocabulario)\n",
    "tokenizer.fit_on_texts(df['texto'])\n",
    "\n",
    "sequences = tokenizer.texts_to_sequences(df['texto'])\n",
    "\n",
    "word_index = tokenizer.word_index\n",
    "vocabulario = len(word_index) + 1\n",
    "print('Found %s unique tokens.' % len(word_index))"
   ]
  },
  {
   "cell_type": "code",
   "execution_count": 5,
   "metadata": {},
   "outputs": [
    {
     "name": "stdout",
     "output_type": "stream",
     "text": [
      "Shape of data tensor: (9739, 40000)\n"
     ]
    }
   ],
   "source": [
    "from keras.preprocessing.sequence import pad_sequences\n",
    "\n",
    "x = pad_sequences(sequences, maxlen=limite_texto)\n",
    "\n",
    "print('Shape of data tensor:', x.shape)"
   ]
  },
  {
   "cell_type": "code",
   "execution_count": 6,
   "metadata": {},
   "outputs": [
    {
     "data": {
      "text/plain": [
       "((9739, 40000), (9739, 10))"
      ]
     },
     "execution_count": 6,
     "metadata": {},
     "output_type": "execute_result"
    }
   ],
   "source": [
    "x.shape, y.shape"
   ]
  },
  {
   "cell_type": "code",
   "execution_count": 7,
   "metadata": {},
   "outputs": [
    {
     "name": "stderr",
     "output_type": "stream",
     "text": [
      "/home/leonardo/anaconda3/envs/gpu/lib/python3.7/site-packages/smart_open/smart_open_lib.py:398: UserWarning: This function is deprecated, use smart_open.open instead. See the migration notes for details: https://github.com/RaRe-Technologies/smart_open/blob/master/README.rst#migrating-to-the-new-open-function\n",
      "  'See the migration notes for details: %s' % _MIGRATION_NOTES_URL\n"
     ]
    }
   ],
   "source": [
    "from gensim.models import Word2Vec\n",
    "\n",
    "model = Word2Vec.load('../vocabularios/modelo-acordaos.w2v')"
   ]
  },
  {
   "cell_type": "code",
   "execution_count": 8,
   "metadata": {},
   "outputs": [
    {
     "name": "stderr",
     "output_type": "stream",
     "text": [
      "/home/leonardo/anaconda3/envs/gpu/lib/python3.7/site-packages/ipykernel_launcher.py:7: DeprecationWarning: Call to deprecated `__contains__` (Method will be removed in 4.0.0, use self.wv.__contains__() instead).\n",
      "  import sys\n",
      "/home/leonardo/anaconda3/envs/gpu/lib/python3.7/site-packages/ipykernel_launcher.py:8: DeprecationWarning: Call to deprecated `__getitem__` (Method will be removed in 4.0.0, use self.wv.__getitem__() instead).\n",
      "  \n"
     ]
    },
    {
     "name": "stdout",
     "output_type": "stream",
     "text": [
      "Vocabulario: 318318\n",
      "Encontrados no modelo: 89007 = 27.961660980528904\n"
     ]
    }
   ],
   "source": [
    "# create a weight matrix for words in training docs\n",
    "\n",
    "embedding_matrix = np.zeros((vocabulario, dim_vetor))\n",
    "\n",
    "ok = 0\n",
    "for word, i in tokenizer.word_index.items():\n",
    "    if word in model:\n",
    "        embedding_matrix[i] = model[word]\n",
    "        ok += 1\n",
    "print('Vocabulario:', i)\n",
    "print('Encontrados no modelo:', ok, '=', ok * 100. / i)"
   ]
  },
  {
   "cell_type": "markdown",
   "metadata": {},
   "source": [
    "# Treinamento"
   ]
  },
  {
   "cell_type": "code",
   "execution_count": 9,
   "metadata": {
    "scrolled": false
   },
   "outputs": [
    {
     "name": "stderr",
     "output_type": "stream",
     "text": [
      "WARNING: Logging before flag parsing goes to stderr.\n",
      "W0315 13:03:22.011535 139983727298368 deprecation_wrapper.py:119] From /home/leonardo/anaconda3/envs/gpu/lib/python3.7/site-packages/keras/backend/tensorflow_backend.py:74: The name tf.get_default_graph is deprecated. Please use tf.compat.v1.get_default_graph instead.\n",
      "\n",
      "W0315 13:03:22.081120 139983727298368 deprecation_wrapper.py:119] From /home/leonardo/anaconda3/envs/gpu/lib/python3.7/site-packages/keras/backend/tensorflow_backend.py:517: The name tf.placeholder is deprecated. Please use tf.compat.v1.placeholder instead.\n",
      "\n",
      "W0315 13:03:22.082780 139983727298368 deprecation_wrapper.py:119] From /home/leonardo/anaconda3/envs/gpu/lib/python3.7/site-packages/keras/backend/tensorflow_backend.py:4138: The name tf.random_uniform is deprecated. Please use tf.random.uniform instead.\n",
      "\n",
      "W0315 13:03:22.091635 139983727298368 deprecation_wrapper.py:119] From /home/leonardo/anaconda3/envs/gpu/lib/python3.7/site-packages/keras/backend/tensorflow_backend.py:174: The name tf.get_default_session is deprecated. Please use tf.compat.v1.get_default_session instead.\n",
      "\n",
      "W0315 13:03:22.092187 139983727298368 deprecation_wrapper.py:119] From /home/leonardo/anaconda3/envs/gpu/lib/python3.7/site-packages/keras/backend/tensorflow_backend.py:181: The name tf.ConfigProto is deprecated. Please use tf.compat.v1.ConfigProto instead.\n",
      "\n",
      "W0315 13:03:24.464411 139983727298368 deprecation_wrapper.py:119] From /home/leonardo/anaconda3/envs/gpu/lib/python3.7/site-packages/keras/backend/tensorflow_backend.py:3976: The name tf.nn.max_pool is deprecated. Please use tf.nn.max_pool2d instead.\n",
      "\n",
      "W0315 13:03:24.500167 139983727298368 deprecation_wrapper.py:119] From /home/leonardo/anaconda3/envs/gpu/lib/python3.7/site-packages/keras/optimizers.py:790: The name tf.train.Optimizer is deprecated. Please use tf.compat.v1.train.Optimizer instead.\n",
      "\n",
      "W0315 13:03:24.580813 139983727298368 deprecation.py:323] From /home/leonardo/anaconda3/envs/gpu/lib/python3.7/site-packages/tensorflow/python/ops/math_grad.py:1250: add_dispatch_support.<locals>.wrapper (from tensorflow.python.ops.array_ops) is deprecated and will be removed in a future version.\n",
      "Instructions for updating:\n",
      "Use tf.where in 2.0, which has the same broadcast rule as np.where\n"
     ]
    },
    {
     "name": "stdout",
     "output_type": "stream",
     "text": [
      "_________________________________________________________________\n",
      "Layer (type)                 Output Shape              Param #   \n",
      "=================================================================\n",
      "embedding_1 (Embedding)      (None, 40000, 100)        31831900  \n",
      "_________________________________________________________________\n",
      "conv1d_1 (Conv1D)            (None, 39994, 32)         22432     \n",
      "_________________________________________________________________\n",
      "max_pooling1d_1 (MaxPooling1 (None, 7998, 32)          0         \n",
      "_________________________________________________________________\n",
      "conv1d_2 (Conv1D)            (None, 7992, 32)          7200      \n",
      "_________________________________________________________________\n",
      "global_max_pooling1d_1 (Glob (None, 32)                0         \n",
      "_________________________________________________________________\n",
      "dense_1 (Dense)              (None, 10)                330       \n",
      "=================================================================\n",
      "Total params: 31,861,862\n",
      "Trainable params: 29,962\n",
      "Non-trainable params: 31,831,900\n",
      "_________________________________________________________________\n",
      "Train on 7791 samples, validate on 1948 samples\n",
      "Epoch 1/20\n",
      "7791/7791 [==============================] - 24s 3ms/step - loss: 1.5264 - categorical_accuracy: 0.5404 - val_loss: 1.3463 - val_categorical_accuracy: 0.5960\n",
      "Epoch 2/20\n",
      "7791/7791 [==============================] - 21s 3ms/step - loss: 1.0580 - categorical_accuracy: 0.6516 - val_loss: 1.4203 - val_categorical_accuracy: 0.5195\n",
      "Epoch 3/20\n",
      "7791/7791 [==============================] - 21s 3ms/step - loss: 0.8933 - categorical_accuracy: 0.6990 - val_loss: 1.4543 - val_categorical_accuracy: 0.4923\n",
      "Epoch 4/20\n",
      "7791/7791 [==============================] - 22s 3ms/step - loss: 0.7739 - categorical_accuracy: 0.7353 - val_loss: 1.2887 - val_categorical_accuracy: 0.5508\n",
      "Epoch 5/20\n",
      "7791/7791 [==============================] - 22s 3ms/step - loss: 0.6657 - categorical_accuracy: 0.7678 - val_loss: 1.3890 - val_categorical_accuracy: 0.5729\n",
      "Epoch 6/20\n",
      "7791/7791 [==============================] - 22s 3ms/step - loss: 0.5667 - categorical_accuracy: 0.8085 - val_loss: 1.6298 - val_categorical_accuracy: 0.4605\n",
      "Epoch 7/20\n",
      "7791/7791 [==============================] - 22s 3ms/step - loss: 0.5074 - categorical_accuracy: 0.8269 - val_loss: 1.6022 - val_categorical_accuracy: 0.5195\n",
      "Epoch 8/20\n",
      "7791/7791 [==============================] - 22s 3ms/step - loss: 0.4230 - categorical_accuracy: 0.8553 - val_loss: 1.6487 - val_categorical_accuracy: 0.4851\n",
      "Epoch 9/20\n",
      "7791/7791 [==============================] - 22s 3ms/step - loss: 0.3640 - categorical_accuracy: 0.8787 - val_loss: 1.5669 - val_categorical_accuracy: 0.5426\n",
      "Epoch 10/20\n",
      "7791/7791 [==============================] - 22s 3ms/step - loss: 0.3007 - categorical_accuracy: 0.9017 - val_loss: 1.3826 - val_categorical_accuracy: 0.5785\n",
      "Epoch 11/20\n",
      "7791/7791 [==============================] - 22s 3ms/step - loss: 0.2629 - categorical_accuracy: 0.9161 - val_loss: 1.5147 - val_categorical_accuracy: 0.5549\n",
      "Epoch 12/20\n",
      "7791/7791 [==============================] - 22s 3ms/step - loss: 0.2161 - categorical_accuracy: 0.9311 - val_loss: 1.9557 - val_categorical_accuracy: 0.4887\n",
      "Epoch 13/20\n",
      "7791/7791 [==============================] - 22s 3ms/step - loss: 0.1882 - categorical_accuracy: 0.9411 - val_loss: 1.5664 - val_categorical_accuracy: 0.5765\n",
      "Epoch 14/20\n",
      "7791/7791 [==============================] - 22s 3ms/step - loss: 0.1576 - categorical_accuracy: 0.9537 - val_loss: 1.7492 - val_categorical_accuracy: 0.5909\n",
      "Epoch 15/20\n",
      "7791/7791 [==============================] - 22s 3ms/step - loss: 0.1430 - categorical_accuracy: 0.9555 - val_loss: 1.6442 - val_categorical_accuracy: 0.5796\n",
      "Epoch 16/20\n",
      "7791/7791 [==============================] - 22s 3ms/step - loss: 0.1206 - categorical_accuracy: 0.9665 - val_loss: 1.6904 - val_categorical_accuracy: 0.5991\n",
      "Epoch 17/20\n",
      "7791/7791 [==============================] - 22s 3ms/step - loss: 0.1064 - categorical_accuracy: 0.9675 - val_loss: 1.8547 - val_categorical_accuracy: 0.5488\n",
      "Epoch 18/20\n",
      "7791/7791 [==============================] - 22s 3ms/step - loss: 0.0957 - categorical_accuracy: 0.9725 - val_loss: 2.1461 - val_categorical_accuracy: 0.6386\n",
      "Epoch 19/20\n",
      "7791/7791 [==============================] - 22s 3ms/step - loss: 0.0869 - categorical_accuracy: 0.9734 - val_loss: 2.2695 - val_categorical_accuracy: 0.5118\n",
      "Epoch 20/20\n",
      "7791/7791 [==============================] - 22s 3ms/step - loss: 0.0910 - categorical_accuracy: 0.9719 - val_loss: 1.8978 - val_categorical_accuracy: 0.5657\n"
     ]
    }
   ],
   "source": [
    "from keras.models import Sequential\n",
    "from keras.layers import Embedding, Conv1D, MaxPooling1D, Dense, GlobalMaxPooling1D, Flatten\n",
    "from keras.optimizers import RMSprop\n",
    "from keras.layers.core import Dropout\n",
    "\n",
    "model = Sequential()\n",
    "model.add(Embedding(vocabulario, dim_vetor, weights=[embedding_matrix], input_length=limite_texto, trainable=False))\n",
    "model.add(Conv1D(32, 7, activation='relu'))\n",
    "model.add(MaxPooling1D(5))\n",
    "model.add(Conv1D(32, 7, activation='relu'))\n",
    "model.add(GlobalMaxPooling1D())\n",
    "model.add(Dense(y.shape[1], activation='softmax'))\n",
    "model.compile(loss='categorical_crossentropy', optimizer=RMSprop(),  metrics=[\"categorical_accuracy\"])\n",
    "model.summary()\n",
    "history = model.fit(x, y, epochs=20, batch_size=32, validation_split=0.2, verbose=1, shuffle=True)"
   ]
  },
  {
   "cell_type": "code",
   "execution_count": 10,
   "metadata": {},
   "outputs": [
    {
     "name": "stdout",
     "output_type": "stream",
     "text": [
      "_________________________________________________________________\n",
      "Layer (type)                 Output Shape              Param #   \n",
      "=================================================================\n",
      "embedding_2 (Embedding)      (None, 40000, 100)        31831900  \n",
      "_________________________________________________________________\n",
      "conv1d_3 (Conv1D)            (None, 39994, 64)         44864     \n",
      "_________________________________________________________________\n",
      "max_pooling1d_2 (MaxPooling1 (None, 7998, 64)          0         \n",
      "_________________________________________________________________\n",
      "conv1d_4 (Conv1D)            (None, 7992, 32)          14368     \n",
      "_________________________________________________________________\n",
      "global_max_pooling1d_2 (Glob (None, 32)                0         \n",
      "_________________________________________________________________\n",
      "dense_2 (Dense)              (None, 10)                330       \n",
      "=================================================================\n",
      "Total params: 31,891,462\n",
      "Trainable params: 31,891,462\n",
      "Non-trainable params: 0\n",
      "_________________________________________________________________\n",
      "Train on 7791 samples, validate on 1948 samples\n",
      "Epoch 1/20\n",
      "7791/7791 [==============================] - 60s 8ms/step - loss: 1.5903 - categorical_accuracy: 0.5301 - val_loss: 1.9326 - val_categorical_accuracy: 0.3763\n",
      "Epoch 2/20\n",
      "7791/7791 [==============================] - 58s 7ms/step - loss: 1.0163 - categorical_accuracy: 0.6572 - val_loss: 1.5442 - val_categorical_accuracy: 0.4666\n",
      "Epoch 3/20\n",
      "7791/7791 [==============================] - 58s 7ms/step - loss: 0.8343 - categorical_accuracy: 0.7124 - val_loss: 1.2624 - val_categorical_accuracy: 0.5385\n",
      "Epoch 4/20\n",
      "7791/7791 [==============================] - 58s 7ms/step - loss: 0.6603 - categorical_accuracy: 0.7740 - val_loss: 1.3820 - val_categorical_accuracy: 0.5241\n",
      "Epoch 5/20\n",
      "7791/7791 [==============================] - 58s 7ms/step - loss: 0.5157 - categorical_accuracy: 0.8292 - val_loss: 1.1244 - val_categorical_accuracy: 0.6309\n",
      "Epoch 6/20\n",
      "7791/7791 [==============================] - 58s 7ms/step - loss: 0.3743 - categorical_accuracy: 0.8760 - val_loss: 1.2816 - val_categorical_accuracy: 0.5729\n",
      "Epoch 7/20\n",
      "7791/7791 [==============================] - 58s 7ms/step - loss: 0.2644 - categorical_accuracy: 0.9200 - val_loss: 1.3528 - val_categorical_accuracy: 0.5888\n",
      "Epoch 8/20\n",
      "7791/7791 [==============================] - 58s 7ms/step - loss: 0.1899 - categorical_accuracy: 0.9437 - val_loss: 1.4377 - val_categorical_accuracy: 0.5770\n",
      "Epoch 9/20\n",
      "7791/7791 [==============================] - 58s 7ms/step - loss: 0.1362 - categorical_accuracy: 0.9588 - val_loss: 2.1836 - val_categorical_accuracy: 0.4815\n",
      "Epoch 10/20\n",
      "7791/7791 [==============================] - 58s 7ms/step - loss: 0.1037 - categorical_accuracy: 0.9680 - val_loss: 1.7486 - val_categorical_accuracy: 0.5508\n",
      "Epoch 11/20\n",
      "7791/7791 [==============================] - 58s 7ms/step - loss: 0.0750 - categorical_accuracy: 0.9788 - val_loss: 1.7426 - val_categorical_accuracy: 0.5642\n",
      "Epoch 12/20\n",
      "7791/7791 [==============================] - 58s 7ms/step - loss: 0.0568 - categorical_accuracy: 0.9854 - val_loss: 1.5817 - val_categorical_accuracy: 0.6037\n",
      "Epoch 13/20\n",
      "7791/7791 [==============================] - 58s 7ms/step - loss: 0.0438 - categorical_accuracy: 0.9882 - val_loss: 1.8870 - val_categorical_accuracy: 0.5647\n",
      "Epoch 14/20\n",
      "7791/7791 [==============================] - 58s 7ms/step - loss: 0.0462 - categorical_accuracy: 0.9856 - val_loss: 1.6947 - val_categorical_accuracy: 0.6340\n",
      "Epoch 15/20\n",
      "7791/7791 [==============================] - 58s 7ms/step - loss: 0.0326 - categorical_accuracy: 0.9906 - val_loss: 1.9927 - val_categorical_accuracy: 0.6407\n",
      "Epoch 16/20\n",
      "7791/7791 [==============================] - 58s 7ms/step - loss: 0.0380 - categorical_accuracy: 0.9892 - val_loss: 2.1647 - val_categorical_accuracy: 0.5647\n",
      "Epoch 17/20\n",
      "7791/7791 [==============================] - 58s 7ms/step - loss: 0.0317 - categorical_accuracy: 0.9899 - val_loss: 2.1778 - val_categorical_accuracy: 0.6381\n",
      "Epoch 18/20\n",
      "7791/7791 [==============================] - 58s 7ms/step - loss: 0.0281 - categorical_accuracy: 0.9910 - val_loss: 1.9807 - val_categorical_accuracy: 0.6078\n",
      "Epoch 19/20\n",
      "7791/7791 [==============================] - 58s 7ms/step - loss: 0.0226 - categorical_accuracy: 0.9937 - val_loss: 2.2561 - val_categorical_accuracy: 0.5950\n",
      "Epoch 20/20\n",
      "7791/7791 [==============================] - 58s 7ms/step - loss: 0.0273 - categorical_accuracy: 0.9902 - val_loss: 2.2072 - val_categorical_accuracy: 0.5847\n"
     ]
    }
   ],
   "source": [
    "model = Sequential()\n",
    "model.add(Embedding(vocabulario, dim_vetor, weights=[embedding_matrix], input_length=limite_texto, trainable=True))\n",
    "model.add(Conv1D(64, 7, activation='relu'))\n",
    "model.add(MaxPooling1D(5))\n",
    "model.add(Conv1D(32, 7, activation='relu'))\n",
    "model.add(GlobalMaxPooling1D())\n",
    "model.add(Dense(y.shape[1], activation='softmax'))\n",
    "model.compile(loss='categorical_crossentropy', optimizer=RMSprop(),  metrics=[\"categorical_accuracy\"])\n",
    "model.summary()\n",
    "history = model.fit(x, y, epochs=20, batch_size=32, validation_split=0.2, verbose=1, shuffle=True)"
   ]
  },
  {
   "cell_type": "code",
   "execution_count": 11,
   "metadata": {
    "scrolled": false
   },
   "outputs": [
    {
     "name": "stderr",
     "output_type": "stream",
     "text": [
      "W0315 13:30:11.404726 139983727298368 deprecation.py:506] From /home/leonardo/anaconda3/envs/gpu/lib/python3.7/site-packages/keras/backend/tensorflow_backend.py:3445: calling dropout (from tensorflow.python.ops.nn_ops) with keep_prob is deprecated and will be removed in a future version.\n",
      "Instructions for updating:\n",
      "Please use `rate` instead of `keep_prob`. Rate should be set to `rate = 1 - keep_prob`.\n"
     ]
    },
    {
     "name": "stdout",
     "output_type": "stream",
     "text": [
      "_________________________________________________________________\n",
      "Layer (type)                 Output Shape              Param #   \n",
      "=================================================================\n",
      "embedding_3 (Embedding)      (None, 40000, 100)        31831900  \n",
      "_________________________________________________________________\n",
      "conv1d_5 (Conv1D)            (None, 39994, 64)         44864     \n",
      "_________________________________________________________________\n",
      "max_pooling1d_3 (MaxPooling1 (None, 7998, 64)          0         \n",
      "_________________________________________________________________\n",
      "conv1d_6 (Conv1D)            (None, 7992, 32)          14368     \n",
      "_________________________________________________________________\n",
      "max_pooling1d_4 (MaxPooling1 (None, 1598, 32)          0         \n",
      "_________________________________________________________________\n",
      "flatten_1 (Flatten)          (None, 51136)             0         \n",
      "_________________________________________________________________\n",
      "dense_3 (Dense)              (None, 256)               13091072  \n",
      "_________________________________________________________________\n",
      "dropout_1 (Dropout)          (None, 256)               0         \n",
      "_________________________________________________________________\n",
      "dense_4 (Dense)              (None, 10)                2570      \n",
      "=================================================================\n",
      "Total params: 44,984,774\n",
      "Trainable params: 44,984,774\n",
      "Non-trainable params: 0\n",
      "_________________________________________________________________\n",
      "Train on 7791 samples, validate on 1948 samples\n",
      "Epoch 1/20\n",
      "7791/7791 [==============================] - 62s 8ms/step - loss: 11.0509 - categorical_accuracy: 0.3113 - val_loss: 13.0401 - val_categorical_accuracy: 0.1910\n",
      "Epoch 2/20\n",
      "7791/7791 [==============================] - 61s 8ms/step - loss: 11.0909 - categorical_accuracy: 0.3119 - val_loss: 13.0401 - val_categorical_accuracy: 0.1910\n",
      "Epoch 3/20\n",
      "7791/7791 [==============================] - 61s 8ms/step - loss: 11.0909 - categorical_accuracy: 0.3119 - val_loss: 13.0401 - val_categorical_accuracy: 0.1910\n",
      "Epoch 4/20\n",
      "7791/7791 [==============================] - 61s 8ms/step - loss: 11.0909 - categorical_accuracy: 0.3119 - val_loss: 13.0401 - val_categorical_accuracy: 0.1910\n",
      "Epoch 5/20\n",
      "7791/7791 [==============================] - 61s 8ms/step - loss: 11.0909 - categorical_accuracy: 0.3119 - val_loss: 13.0401 - val_categorical_accuracy: 0.1910\n",
      "Epoch 6/20\n",
      "7791/7791 [==============================] - 61s 8ms/step - loss: 11.0909 - categorical_accuracy: 0.3119 - val_loss: 13.0401 - val_categorical_accuracy: 0.1910\n",
      "Epoch 7/20\n",
      "7791/7791 [==============================] - 61s 8ms/step - loss: 11.0888 - categorical_accuracy: 0.3120 - val_loss: 13.0401 - val_categorical_accuracy: 0.1910\n",
      "Epoch 8/20\n",
      "7791/7791 [==============================] - 61s 8ms/step - loss: 11.0909 - categorical_accuracy: 0.3119 - val_loss: 13.0401 - val_categorical_accuracy: 0.1910\n",
      "Epoch 9/20\n",
      "7791/7791 [==============================] - 61s 8ms/step - loss: 11.0909 - categorical_accuracy: 0.3119 - val_loss: 13.0401 - val_categorical_accuracy: 0.1910\n",
      "Epoch 10/20\n",
      "7791/7791 [==============================] - 61s 8ms/step - loss: 11.0930 - categorical_accuracy: 0.3118 - val_loss: 13.0401 - val_categorical_accuracy: 0.1910\n",
      "Epoch 11/20\n",
      "7791/7791 [==============================] - 61s 8ms/step - loss: 11.0909 - categorical_accuracy: 0.3119 - val_loss: 13.0401 - val_categorical_accuracy: 0.1910\n",
      "Epoch 12/20\n",
      "7791/7791 [==============================] - 61s 8ms/step - loss: 11.0909 - categorical_accuracy: 0.3119 - val_loss: 13.0401 - val_categorical_accuracy: 0.1910\n",
      "Epoch 13/20\n",
      "7791/7791 [==============================] - 61s 8ms/step - loss: 11.0909 - categorical_accuracy: 0.3119 - val_loss: 13.0401 - val_categorical_accuracy: 0.1910\n",
      "Epoch 14/20\n",
      "7791/7791 [==============================] - 61s 8ms/step - loss: 11.0909 - categorical_accuracy: 0.3119 - val_loss: 13.0401 - val_categorical_accuracy: 0.1910\n",
      "Epoch 15/20\n",
      "7791/7791 [==============================] - 61s 8ms/step - loss: 11.0909 - categorical_accuracy: 0.3119 - val_loss: 13.0401 - val_categorical_accuracy: 0.1910\n",
      "Epoch 16/20\n",
      "7791/7791 [==============================] - 61s 8ms/step - loss: 11.0909 - categorical_accuracy: 0.3119 - val_loss: 13.0401 - val_categorical_accuracy: 0.1910\n",
      "Epoch 17/20\n",
      "7791/7791 [==============================] - 61s 8ms/step - loss: 11.0909 - categorical_accuracy: 0.3119 - val_loss: 13.0401 - val_categorical_accuracy: 0.1910\n",
      "Epoch 18/20\n",
      "7791/7791 [==============================] - 61s 8ms/step - loss: 11.0909 - categorical_accuracy: 0.3119 - val_loss: 13.0401 - val_categorical_accuracy: 0.1910\n",
      "Epoch 19/20\n",
      "7791/7791 [==============================] - 61s 8ms/step - loss: 11.0909 - categorical_accuracy: 0.3119 - val_loss: 13.0401 - val_categorical_accuracy: 0.1910\n",
      "Epoch 20/20\n",
      "7791/7791 [==============================] - 61s 8ms/step - loss: 11.0909 - categorical_accuracy: 0.3119 - val_loss: 13.0401 - val_categorical_accuracy: 0.1910\n"
     ]
    }
   ],
   "source": [
    "model = Sequential()\n",
    "model.add(Embedding(vocabulario, dim_vetor, weights=[embedding_matrix], input_length=limite_texto, trainable=True))\n",
    "model.add(Conv1D(64, 7, activation='relu'))\n",
    "model.add(MaxPooling1D(5))\n",
    "model.add(Conv1D(32, 7, activation='relu'))\n",
    "model.add(MaxPooling1D(5))\n",
    "model.add(Flatten())\n",
    "model.add(Dense(256, activation='relu'))\n",
    "model.add(Dropout(0.2))\n",
    "model.add(Dense(y.shape[1], activation='softmax'))\n",
    "model.compile(loss='categorical_crossentropy', optimizer=RMSprop(),  metrics=[\"categorical_accuracy\"])\n",
    "model.summary()\n",
    "history = model.fit(x, y, epochs=20, batch_size=32, validation_split=0.2, verbose=1, shuffle=True)"
   ]
  },
  {
   "cell_type": "code",
   "execution_count": 12,
   "metadata": {},
   "outputs": [
    {
     "name": "stdout",
     "output_type": "stream",
     "text": [
      "_________________________________________________________________\n",
      "Layer (type)                 Output Shape              Param #   \n",
      "=================================================================\n",
      "embedding_4 (Embedding)      (None, 40000, 100)        31831900  \n",
      "_________________________________________________________________\n",
      "conv1d_7 (Conv1D)            (None, 39994, 64)         44864     \n",
      "_________________________________________________________________\n",
      "max_pooling1d_5 (MaxPooling1 (None, 7998, 64)          0         \n",
      "_________________________________________________________________\n",
      "conv1d_8 (Conv1D)            (None, 7992, 32)          14368     \n",
      "_________________________________________________________________\n",
      "max_pooling1d_6 (MaxPooling1 (None, 1598, 32)          0         \n",
      "_________________________________________________________________\n",
      "flatten_2 (Flatten)          (None, 51136)             0         \n",
      "_________________________________________________________________\n",
      "dense_5 (Dense)              (None, 1024)              52364288  \n",
      "_________________________________________________________________\n",
      "dropout_2 (Dropout)          (None, 1024)              0         \n",
      "_________________________________________________________________\n",
      "dense_6 (Dense)              (None, 128)               131200    \n",
      "_________________________________________________________________\n",
      "dropout_3 (Dropout)          (None, 128)               0         \n",
      "_________________________________________________________________\n",
      "dense_7 (Dense)              (None, 10)                1290      \n",
      "=================================================================\n",
      "Total params: 84,387,910\n",
      "Trainable params: 84,387,910\n",
      "Non-trainable params: 0\n",
      "_________________________________________________________________\n",
      "Train on 7791 samples, validate on 1948 samples\n",
      "Epoch 1/20\n",
      "7791/7791 [==============================] - 69s 9ms/step - loss: 11.0547 - categorical_accuracy: 0.3115 - val_loss: 13.0401 - val_categorical_accuracy: 0.1910\n",
      "Epoch 2/20\n",
      "7791/7791 [==============================] - 67s 9ms/step - loss: 11.0909 - categorical_accuracy: 0.3119 - val_loss: 13.0401 - val_categorical_accuracy: 0.1910\n",
      "Epoch 3/20\n",
      "7791/7791 [==============================] - 67s 9ms/step - loss: 11.0909 - categorical_accuracy: 0.3119 - val_loss: 13.0401 - val_categorical_accuracy: 0.1910\n",
      "Epoch 4/20\n",
      "7791/7791 [==============================] - 67s 9ms/step - loss: 11.0909 - categorical_accuracy: 0.3119 - val_loss: 13.0401 - val_categorical_accuracy: 0.1910\n",
      "Epoch 5/20\n",
      "7791/7791 [==============================] - 67s 9ms/step - loss: 11.0909 - categorical_accuracy: 0.3119 - val_loss: 13.0401 - val_categorical_accuracy: 0.1910\n",
      "Epoch 6/20\n",
      "7791/7791 [==============================] - 67s 9ms/step - loss: 11.0909 - categorical_accuracy: 0.3119 - val_loss: 13.0401 - val_categorical_accuracy: 0.1910\n",
      "Epoch 7/20\n",
      "7791/7791 [==============================] - 67s 9ms/step - loss: 11.0909 - categorical_accuracy: 0.3119 - val_loss: 13.0401 - val_categorical_accuracy: 0.1910\n",
      "Epoch 8/20\n",
      "7791/7791 [==============================] - 67s 9ms/step - loss: 11.0909 - categorical_accuracy: 0.3119 - val_loss: 13.0401 - val_categorical_accuracy: 0.1910\n",
      "Epoch 9/20\n",
      "7791/7791 [==============================] - 67s 9ms/step - loss: 11.0909 - categorical_accuracy: 0.3119 - val_loss: 13.0401 - val_categorical_accuracy: 0.1910\n",
      "Epoch 10/20\n",
      "7791/7791 [==============================] - 67s 9ms/step - loss: 11.0909 - categorical_accuracy: 0.3119 - val_loss: 13.0401 - val_categorical_accuracy: 0.1910\n",
      "Epoch 11/20\n",
      "7791/7791 [==============================] - 67s 9ms/step - loss: 11.0909 - categorical_accuracy: 0.3119 - val_loss: 13.0401 - val_categorical_accuracy: 0.1910\n",
      "Epoch 12/20\n",
      "7791/7791 [==============================] - 67s 9ms/step - loss: 11.0909 - categorical_accuracy: 0.3119 - val_loss: 13.0401 - val_categorical_accuracy: 0.1910\n",
      "Epoch 13/20\n",
      "7791/7791 [==============================] - 67s 9ms/step - loss: 11.0909 - categorical_accuracy: 0.3119 - val_loss: 13.0401 - val_categorical_accuracy: 0.1910\n",
      "Epoch 14/20\n",
      "7791/7791 [==============================] - 67s 9ms/step - loss: 11.0909 - categorical_accuracy: 0.3119 - val_loss: 13.0401 - val_categorical_accuracy: 0.1910\n",
      "Epoch 15/20\n",
      "7791/7791 [==============================] - 67s 9ms/step - loss: 11.0909 - categorical_accuracy: 0.3119 - val_loss: 13.0401 - val_categorical_accuracy: 0.1910\n",
      "Epoch 16/20\n",
      "7791/7791 [==============================] - 67s 9ms/step - loss: 11.0909 - categorical_accuracy: 0.3119 - val_loss: 13.0401 - val_categorical_accuracy: 0.1910\n",
      "Epoch 17/20\n",
      "7791/7791 [==============================] - 67s 9ms/step - loss: 11.0909 - categorical_accuracy: 0.3119 - val_loss: 13.0401 - val_categorical_accuracy: 0.1910\n",
      "Epoch 18/20\n",
      "7791/7791 [==============================] - 67s 9ms/step - loss: 11.0909 - categorical_accuracy: 0.3119 - val_loss: 13.0401 - val_categorical_accuracy: 0.1910\n",
      "Epoch 19/20\n",
      "7791/7791 [==============================] - 67s 9ms/step - loss: 11.0909 - categorical_accuracy: 0.3119 - val_loss: 13.0401 - val_categorical_accuracy: 0.1910\n",
      "Epoch 20/20\n",
      "7791/7791 [==============================] - 67s 9ms/step - loss: 11.0909 - categorical_accuracy: 0.3119 - val_loss: 13.0401 - val_categorical_accuracy: 0.1910\n"
     ]
    }
   ],
   "source": [
    "model = Sequential()\n",
    "model.add(Embedding(vocabulario, dim_vetor, weights=[embedding_matrix], input_length=limite_texto, trainable=True))\n",
    "model.add(Conv1D(64, 7, activation='relu'))\n",
    "model.add(MaxPooling1D(5))\n",
    "model.add(Conv1D(32, 7, activation='relu'))\n",
    "model.add(MaxPooling1D(5))\n",
    "model.add(Flatten())\n",
    "model.add(Dense(1024, activation='relu'))\n",
    "model.add(Dropout(0.2))\n",
    "model.add(Dense(128, activation='relu'))\n",
    "model.add(Dropout(0.2))\n",
    "model.add(Dense(y.shape[1], activation='softmax'))\n",
    "model.compile(loss='categorical_crossentropy', optimizer=RMSprop(),  metrics=[\"categorical_accuracy\"])\n",
    "model.summary()\n",
    "history = model.fit(x, y, epochs=20, batch_size=32, validation_split=0.2, verbose=1, shuffle=True)"
   ]
  },
  {
   "cell_type": "code",
   "execution_count": null,
   "metadata": {},
   "outputs": [],
   "source": []
  }
 ],
 "metadata": {
  "kernelspec": {
   "display_name": "Python 3",
   "language": "python",
   "name": "python3"
  },
  "language_info": {
   "codemirror_mode": {
    "name": "ipython",
    "version": 3
   },
   "file_extension": ".py",
   "mimetype": "text/x-python",
   "name": "python",
   "nbconvert_exporter": "python",
   "pygments_lexer": "ipython3",
   "version": "3.7.4"
  }
 },
 "nbformat": 4,
 "nbformat_minor": 2
}
