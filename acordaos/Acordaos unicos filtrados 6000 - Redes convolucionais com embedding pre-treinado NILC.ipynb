{
 "cells": [
  {
   "cell_type": "markdown",
   "metadata": {},
   "source": [
    "# Importação e preparação dos dados"
   ]
  },
  {
   "cell_type": "code",
   "execution_count": 1,
   "metadata": {},
   "outputs": [
    {
     "data": {
      "text/html": [
       "<div>\n",
       "<style scoped>\n",
       "    .dataframe tbody tr th:only-of-type {\n",
       "        vertical-align: middle;\n",
       "    }\n",
       "\n",
       "    .dataframe tbody tr th {\n",
       "        vertical-align: top;\n",
       "    }\n",
       "\n",
       "    .dataframe thead th {\n",
       "        text-align: right;\n",
       "    }\n",
       "</style>\n",
       "<table border=\"1\" class=\"dataframe\">\n",
       "  <thead>\n",
       "    <tr style=\"text-align: right;\">\n",
       "      <th></th>\n",
       "      <th>acordao</th>\n",
       "      <th>areas</th>\n",
       "      <th>filtrado_6000</th>\n",
       "    </tr>\n",
       "  </thead>\n",
       "  <tbody>\n",
       "    <tr>\n",
       "      <th>0</th>\n",
       "      <td>297/2016-P</td>\n",
       "      <td>Responsabilidade</td>\n",
       "      <td>tribunal conta união tc grupo classe plenário ...</td>\n",
       "    </tr>\n",
       "    <tr>\n",
       "      <th>1</th>\n",
       "      <td>366/2016-P</td>\n",
       "      <td>Finanças Públicas</td>\n",
       "      <td>tribunal conta união tc grupo classe ii plenár...</td>\n",
       "    </tr>\n",
       "    <tr>\n",
       "      <th>2</th>\n",
       "      <td>944/2016-P</td>\n",
       "      <td>Responsabilidade</td>\n",
       "      <td>tribunal conta união tc grupo classe plenário ...</td>\n",
       "    </tr>\n",
       "    <tr>\n",
       "      <th>3</th>\n",
       "      <td>30/2016-P</td>\n",
       "      <td>Direito Processual</td>\n",
       "      <td>tribunal conta união tc grupo classe plenário ...</td>\n",
       "    </tr>\n",
       "    <tr>\n",
       "      <th>4</th>\n",
       "      <td>55/2016-P</td>\n",
       "      <td>Pessoal</td>\n",
       "      <td>wania lucia pasquarelli nascimentotcuwania luc...</td>\n",
       "    </tr>\n",
       "  </tbody>\n",
       "</table>\n",
       "</div>"
      ],
      "text/plain": [
       "      acordao               areas  \\\n",
       "0  297/2016-P    Responsabilidade   \n",
       "1  366/2016-P   Finanças Públicas   \n",
       "2  944/2016-P    Responsabilidade   \n",
       "3   30/2016-P  Direito Processual   \n",
       "4   55/2016-P             Pessoal   \n",
       "\n",
       "                                       filtrado_6000  \n",
       "0  tribunal conta união tc grupo classe plenário ...  \n",
       "1  tribunal conta união tc grupo classe ii plenár...  \n",
       "2  tribunal conta união tc grupo classe plenário ...  \n",
       "3  tribunal conta união tc grupo classe plenário ...  \n",
       "4  wania lucia pasquarelli nascimentotcuwania luc...  "
      ]
     },
     "execution_count": 1,
     "metadata": {},
     "output_type": "execute_result"
    }
   ],
   "source": [
    "import pandas as pd\n",
    "\n",
    "df = pd.read_csv('../dados/acordaos-unicos-filtrados-6000.csv', sep = '|')\n",
    "df['filtrado_6000']=df['filtrado_6000'].astype(str)\n",
    "df.head()"
   ]
  },
  {
   "cell_type": "code",
   "execution_count": 2,
   "metadata": {},
   "outputs": [
    {
     "data": {
      "text/plain": [
       "(9739, 3)"
      ]
     },
     "execution_count": 2,
     "metadata": {},
     "output_type": "execute_result"
    }
   ],
   "source": [
    "df.shape"
   ]
  },
  {
   "cell_type": "code",
   "execution_count": 3,
   "metadata": {},
   "outputs": [
    {
     "data": {
      "text/plain": [
       "(9739, 10)"
      ]
     },
     "execution_count": 3,
     "metadata": {},
     "output_type": "execute_result"
    }
   ],
   "source": [
    "from sklearn.preprocessing import LabelBinarizer\n",
    "\n",
    "areas = df.groupby(['areas']).groups.keys()\n",
    "lbArea = LabelBinarizer()\n",
    "lbArea.fit([x for x in areas])\n",
    "y = lbArea.transform(df['areas'])\n",
    "y.shape"
   ]
  },
  {
   "cell_type": "code",
   "execution_count": 4,
   "metadata": {},
   "outputs": [
    {
     "name": "stderr",
     "output_type": "stream",
     "text": [
      "Using TensorFlow backend.\n"
     ]
    },
    {
     "name": "stdout",
     "output_type": "stream",
     "text": [
      "Found 95423 unique tokens.\n"
     ]
    }
   ],
   "source": [
    "from keras.preprocessing.text import Tokenizer\n",
    "import numpy as np\n",
    "\n",
    "vocabulario = 100000\n",
    "limite_texto = 6000\n",
    "dim_vetor = 100\n",
    "\n",
    "tokenizer = Tokenizer(num_words=vocabulario)\n",
    "tokenizer.fit_on_texts(df['filtrado_6000'])\n",
    "\n",
    "sequences = tokenizer.texts_to_sequences(df['filtrado_6000'])\n",
    "\n",
    "word_index = tokenizer.word_index\n",
    "vocabulario = len(word_index) + 1\n",
    "print('Found %s unique tokens.' % len(word_index))"
   ]
  },
  {
   "cell_type": "code",
   "execution_count": 5,
   "metadata": {},
   "outputs": [
    {
     "name": "stdout",
     "output_type": "stream",
     "text": [
      "Shape of data tensor: (9739, 6000)\n"
     ]
    }
   ],
   "source": [
    "from keras.preprocessing.sequence import pad_sequences\n",
    "\n",
    "x = pad_sequences(sequences, maxlen=limite_texto)\n",
    "\n",
    "print('Shape of data tensor:', x.shape)"
   ]
  },
  {
   "cell_type": "code",
   "execution_count": 6,
   "metadata": {},
   "outputs": [
    {
     "data": {
      "text/plain": [
       "((9739, 6000), (9739, 10))"
      ]
     },
     "execution_count": 6,
     "metadata": {},
     "output_type": "execute_result"
    }
   ],
   "source": [
    "x.shape, y.shape"
   ]
  },
  {
   "cell_type": "code",
   "execution_count": 7,
   "metadata": {},
   "outputs": [
    {
     "name": "stderr",
     "output_type": "stream",
     "text": [
      "/home/leonardo/anaconda3/envs/gpu/lib/python3.7/site-packages/smart_open/smart_open_lib.py:398: UserWarning: This function is deprecated, use smart_open.open instead. See the migration notes for details: https://github.com/RaRe-Technologies/smart_open/blob/master/README.rst#migrating-to-the-new-open-function\n",
      "  'See the migration notes for details: %s' % _MIGRATION_NOTES_URL\n"
     ]
    }
   ],
   "source": [
    "from gensim.models import KeyedVectors\n",
    "\n",
    "model = KeyedVectors.load_word2vec_format('../externos/model.txt')"
   ]
  },
  {
   "cell_type": "code",
   "execution_count": 8,
   "metadata": {},
   "outputs": [
    {
     "name": "stdout",
     "output_type": "stream",
     "text": [
      "Vocabulario: 95423\n",
      "Encontrados no modelo: 55676 = 58.34652023097157\n"
     ]
    }
   ],
   "source": [
    "# create a weight matrix for words in training docs\n",
    "\n",
    "embedding_matrix = np.zeros((vocabulario, dim_vetor))\n",
    "\n",
    "ok = 0\n",
    "for word, i in tokenizer.word_index.items():\n",
    "    if word in model:\n",
    "        embedding_matrix[i] = model[word]\n",
    "        ok += 1\n",
    "print('Vocabulario:', i)\n",
    "print('Encontrados no modelo:', ok, '=', ok * 100. / i)"
   ]
  },
  {
   "cell_type": "markdown",
   "metadata": {},
   "source": [
    "# Treinamento"
   ]
  },
  {
   "cell_type": "code",
   "execution_count": 9,
   "metadata": {
    "scrolled": false
   },
   "outputs": [
    {
     "name": "stderr",
     "output_type": "stream",
     "text": [
      "WARNING: Logging before flag parsing goes to stderr.\n",
      "W0316 14:41:49.003986 139929693857600 deprecation_wrapper.py:119] From /home/leonardo/anaconda3/envs/gpu/lib/python3.7/site-packages/keras/backend/tensorflow_backend.py:74: The name tf.get_default_graph is deprecated. Please use tf.compat.v1.get_default_graph instead.\n",
      "\n",
      "W0316 14:41:49.121266 139929693857600 deprecation_wrapper.py:119] From /home/leonardo/anaconda3/envs/gpu/lib/python3.7/site-packages/keras/backend/tensorflow_backend.py:517: The name tf.placeholder is deprecated. Please use tf.compat.v1.placeholder instead.\n",
      "\n",
      "W0316 14:41:49.123358 139929693857600 deprecation_wrapper.py:119] From /home/leonardo/anaconda3/envs/gpu/lib/python3.7/site-packages/keras/backend/tensorflow_backend.py:4138: The name tf.random_uniform is deprecated. Please use tf.random.uniform instead.\n",
      "\n",
      "W0316 14:41:49.130819 139929693857600 deprecation_wrapper.py:119] From /home/leonardo/anaconda3/envs/gpu/lib/python3.7/site-packages/keras/backend/tensorflow_backend.py:174: The name tf.get_default_session is deprecated. Please use tf.compat.v1.get_default_session instead.\n",
      "\n",
      "W0316 14:41:49.131621 139929693857600 deprecation_wrapper.py:119] From /home/leonardo/anaconda3/envs/gpu/lib/python3.7/site-packages/keras/backend/tensorflow_backend.py:181: The name tf.ConfigProto is deprecated. Please use tf.compat.v1.ConfigProto instead.\n",
      "\n",
      "W0316 14:41:49.934698 139929693857600 deprecation_wrapper.py:119] From /home/leonardo/anaconda3/envs/gpu/lib/python3.7/site-packages/keras/backend/tensorflow_backend.py:3976: The name tf.nn.max_pool is deprecated. Please use tf.nn.max_pool2d instead.\n",
      "\n",
      "W0316 14:41:49.972543 139929693857600 deprecation_wrapper.py:119] From /home/leonardo/anaconda3/envs/gpu/lib/python3.7/site-packages/keras/optimizers.py:790: The name tf.train.Optimizer is deprecated. Please use tf.compat.v1.train.Optimizer instead.\n",
      "\n",
      "W0316 14:41:50.060037 139929693857600 deprecation.py:323] From /home/leonardo/anaconda3/envs/gpu/lib/python3.7/site-packages/tensorflow/python/ops/math_grad.py:1250: add_dispatch_support.<locals>.wrapper (from tensorflow.python.ops.array_ops) is deprecated and will be removed in a future version.\n",
      "Instructions for updating:\n",
      "Use tf.where in 2.0, which has the same broadcast rule as np.where\n"
     ]
    },
    {
     "name": "stdout",
     "output_type": "stream",
     "text": [
      "_________________________________________________________________\n",
      "Layer (type)                 Output Shape              Param #   \n",
      "=================================================================\n",
      "embedding_1 (Embedding)      (None, 6000, 100)         9542400   \n",
      "_________________________________________________________________\n",
      "conv1d_1 (Conv1D)            (None, 5994, 32)          22432     \n",
      "_________________________________________________________________\n",
      "max_pooling1d_1 (MaxPooling1 (None, 1198, 32)          0         \n",
      "_________________________________________________________________\n",
      "conv1d_2 (Conv1D)            (None, 1192, 32)          7200      \n",
      "_________________________________________________________________\n",
      "global_max_pooling1d_1 (Glob (None, 32)                0         \n",
      "_________________________________________________________________\n",
      "dense_1 (Dense)              (None, 10)                330       \n",
      "=================================================================\n",
      "Total params: 9,572,362\n",
      "Trainable params: 29,962\n",
      "Non-trainable params: 9,542,400\n",
      "_________________________________________________________________\n",
      "Train on 7791 samples, validate on 1948 samples\n",
      "Epoch 1/20\n",
      "7791/7791 [==============================] - 5s 680us/step - loss: 1.4622 - categorical_accuracy: 0.5242 - val_loss: 1.4033 - val_categorical_accuracy: 0.5282\n",
      "Epoch 2/20\n",
      "7791/7791 [==============================] - 4s 484us/step - loss: 1.1044 - categorical_accuracy: 0.6359 - val_loss: 1.4591 - val_categorical_accuracy: 0.5108\n",
      "Epoch 3/20\n",
      "7791/7791 [==============================] - 4s 488us/step - loss: 0.9718 - categorical_accuracy: 0.6741 - val_loss: 1.6329 - val_categorical_accuracy: 0.4820\n",
      "Epoch 4/20\n",
      "7791/7791 [==============================] - 4s 503us/step - loss: 0.8866 - categorical_accuracy: 0.7021 - val_loss: 1.7240 - val_categorical_accuracy: 0.4163\n",
      "Epoch 5/20\n",
      "7791/7791 [==============================] - 4s 485us/step - loss: 0.8040 - categorical_accuracy: 0.7279 - val_loss: 1.2569 - val_categorical_accuracy: 0.5883\n",
      "Epoch 6/20\n",
      "7791/7791 [==============================] - 4s 474us/step - loss: 0.7338 - categorical_accuracy: 0.7584 - val_loss: 1.5134 - val_categorical_accuracy: 0.5082\n",
      "Epoch 7/20\n",
      "7791/7791 [==============================] - 4s 477us/step - loss: 0.6719 - categorical_accuracy: 0.7745 - val_loss: 1.1887 - val_categorical_accuracy: 0.5986\n",
      "Epoch 8/20\n",
      "7791/7791 [==============================] - 4s 496us/step - loss: 0.6011 - categorical_accuracy: 0.8027 - val_loss: 1.4365 - val_categorical_accuracy: 0.5621\n",
      "Epoch 9/20\n",
      "7791/7791 [==============================] - 4s 487us/step - loss: 0.5491 - categorical_accuracy: 0.8209 - val_loss: 1.2306 - val_categorical_accuracy: 0.6124\n",
      "Epoch 10/20\n",
      "7791/7791 [==============================] - 4s 482us/step - loss: 0.4861 - categorical_accuracy: 0.8421 - val_loss: 1.3068 - val_categorical_accuracy: 0.5837\n",
      "Epoch 11/20\n",
      "7791/7791 [==============================] - 4s 496us/step - loss: 0.4345 - categorical_accuracy: 0.8624 - val_loss: 1.3814 - val_categorical_accuracy: 0.5688\n",
      "Epoch 12/20\n",
      "7791/7791 [==============================] - 4s 488us/step - loss: 0.3856 - categorical_accuracy: 0.8778 - val_loss: 1.4709 - val_categorical_accuracy: 0.5195\n",
      "Epoch 13/20\n",
      "7791/7791 [==============================] - 4s 525us/step - loss: 0.3453 - categorical_accuracy: 0.8933 - val_loss: 1.6738 - val_categorical_accuracy: 0.5308\n",
      "Epoch 14/20\n",
      "7791/7791 [==============================] - 4s 505us/step - loss: 0.2942 - categorical_accuracy: 0.9134 - val_loss: 1.7743 - val_categorical_accuracy: 0.5072\n",
      "Epoch 15/20\n",
      "7791/7791 [==============================] - 4s 516us/step - loss: 0.2608 - categorical_accuracy: 0.9225 - val_loss: 1.4911 - val_categorical_accuracy: 0.6001\n",
      "Epoch 16/20\n",
      "7791/7791 [==============================] - 4s 487us/step - loss: 0.2241 - categorical_accuracy: 0.9326 - val_loss: 1.7028 - val_categorical_accuracy: 0.5287\n",
      "Epoch 17/20\n",
      "7791/7791 [==============================] - 4s 481us/step - loss: 0.1906 - categorical_accuracy: 0.9479 - val_loss: 1.4741 - val_categorical_accuracy: 0.6129\n",
      "Epoch 18/20\n",
      "7791/7791 [==============================] - 4s 491us/step - loss: 0.1655 - categorical_accuracy: 0.9567 - val_loss: 1.7008 - val_categorical_accuracy: 0.6407\n",
      "Epoch 19/20\n",
      "7791/7791 [==============================] - 4s 485us/step - loss: 0.1439 - categorical_accuracy: 0.9639 - val_loss: 1.7828 - val_categorical_accuracy: 0.5929\n",
      "Epoch 20/20\n",
      "7791/7791 [==============================] - 4s 489us/step - loss: 0.1181 - categorical_accuracy: 0.9704 - val_loss: 1.8702 - val_categorical_accuracy: 0.5621\n"
     ]
    }
   ],
   "source": [
    "from keras.models import Sequential\n",
    "from keras.layers import Embedding, Conv1D, MaxPooling1D, Dense, GlobalMaxPooling1D, Flatten\n",
    "from keras.optimizers import RMSprop\n",
    "from keras.layers.core import Dropout\n",
    "\n",
    "model = Sequential()\n",
    "model.add(Embedding(vocabulario, dim_vetor, weights=[embedding_matrix], input_length=limite_texto, trainable=False))\n",
    "model.add(Conv1D(32, 7, activation='relu'))\n",
    "model.add(MaxPooling1D(5))\n",
    "model.add(Conv1D(32, 7, activation='relu'))\n",
    "model.add(GlobalMaxPooling1D())\n",
    "model.add(Dense(y.shape[1], activation='softmax'))\n",
    "model.compile(loss='categorical_crossentropy', optimizer=RMSprop(),  metrics=[\"categorical_accuracy\"])\n",
    "model.summary()\n",
    "history = model.fit(x, y, epochs=20, batch_size=32, validation_split=0.2, verbose=1, shuffle=True)"
   ]
  },
  {
   "cell_type": "code",
   "execution_count": 10,
   "metadata": {},
   "outputs": [
    {
     "name": "stdout",
     "output_type": "stream",
     "text": [
      "_________________________________________________________________\n",
      "Layer (type)                 Output Shape              Param #   \n",
      "=================================================================\n",
      "embedding_2 (Embedding)      (None, 6000, 100)         9542400   \n",
      "_________________________________________________________________\n",
      "conv1d_3 (Conv1D)            (None, 5994, 64)          44864     \n",
      "_________________________________________________________________\n",
      "max_pooling1d_2 (MaxPooling1 (None, 1198, 64)          0         \n",
      "_________________________________________________________________\n",
      "conv1d_4 (Conv1D)            (None, 1192, 32)          14368     \n",
      "_________________________________________________________________\n",
      "global_max_pooling1d_2 (Glob (None, 32)                0         \n",
      "_________________________________________________________________\n",
      "dense_2 (Dense)              (None, 10)                330       \n",
      "=================================================================\n",
      "Total params: 9,601,962\n",
      "Trainable params: 9,601,962\n",
      "Non-trainable params: 0\n",
      "_________________________________________________________________\n",
      "Train on 7791 samples, validate on 1948 samples\n",
      "Epoch 1/20\n",
      "7791/7791 [==============================] - 10s 1ms/step - loss: 1.4126 - categorical_accuracy: 0.5295 - val_loss: 1.2853 - val_categorical_accuracy: 0.5683\n",
      "Epoch 2/20\n",
      "7791/7791 [==============================] - 10s 1ms/step - loss: 1.0189 - categorical_accuracy: 0.6628 - val_loss: 1.3122 - val_categorical_accuracy: 0.5323\n",
      "Epoch 3/20\n",
      "7791/7791 [==============================] - 10s 1ms/step - loss: 0.8300 - categorical_accuracy: 0.7226 - val_loss: 1.2256 - val_categorical_accuracy: 0.5888\n",
      "Epoch 4/20\n",
      "7791/7791 [==============================] - 10s 1ms/step - loss: 0.6651 - categorical_accuracy: 0.7845 - val_loss: 1.1850 - val_categorical_accuracy: 0.5970\n",
      "Epoch 5/20\n",
      "7791/7791 [==============================] - 9s 1ms/step - loss: 0.5088 - categorical_accuracy: 0.8407 - val_loss: 1.3583 - val_categorical_accuracy: 0.5580\n",
      "Epoch 6/20\n",
      "7791/7791 [==============================] - 10s 1ms/step - loss: 0.3680 - categorical_accuracy: 0.8976 - val_loss: 1.5587 - val_categorical_accuracy: 0.5031\n",
      "Epoch 7/20\n",
      "7791/7791 [==============================] - 9s 1ms/step - loss: 0.2474 - categorical_accuracy: 0.9388 - val_loss: 1.2833 - val_categorical_accuracy: 0.5755\n",
      "Epoch 8/20\n",
      "7791/7791 [==============================] - 10s 1ms/step - loss: 0.1501 - categorical_accuracy: 0.9665 - val_loss: 1.4471 - val_categorical_accuracy: 0.5708\n",
      "Epoch 9/20\n",
      "7791/7791 [==============================] - 10s 1ms/step - loss: 0.0884 - categorical_accuracy: 0.9834 - val_loss: 1.9212 - val_categorical_accuracy: 0.4707\n",
      "Epoch 10/20\n",
      "7791/7791 [==============================] - 9s 1ms/step - loss: 0.0512 - categorical_accuracy: 0.9906 - val_loss: 1.3759 - val_categorical_accuracy: 0.6263\n",
      "Epoch 11/20\n",
      "7791/7791 [==============================] - 9s 1ms/step - loss: 0.0305 - categorical_accuracy: 0.9940 - val_loss: 1.6011 - val_categorical_accuracy: 0.5878\n",
      "Epoch 12/20\n",
      "7791/7791 [==============================] - 10s 1ms/step - loss: 0.0175 - categorical_accuracy: 0.9961 - val_loss: 1.8824 - val_categorical_accuracy: 0.5493\n",
      "Epoch 13/20\n",
      "7791/7791 [==============================] - 9s 1ms/step - loss: 0.0136 - categorical_accuracy: 0.9965 - val_loss: 1.7248 - val_categorical_accuracy: 0.5986\n",
      "Epoch 14/20\n",
      "7791/7791 [==============================] - 10s 1ms/step - loss: 0.0076 - categorical_accuracy: 0.9978 - val_loss: 1.8268 - val_categorical_accuracy: 0.5883\n",
      "Epoch 15/20\n",
      "7791/7791 [==============================] - 10s 1ms/step - loss: 0.0087 - categorical_accuracy: 0.9973 - val_loss: 1.8888 - val_categorical_accuracy: 0.5739\n",
      "Epoch 16/20\n",
      "7791/7791 [==============================] - 10s 1ms/step - loss: 0.0060 - categorical_accuracy: 0.9982 - val_loss: 1.8699 - val_categorical_accuracy: 0.6027\n",
      "Epoch 17/20\n",
      "7791/7791 [==============================] - 10s 1ms/step - loss: 0.0023 - categorical_accuracy: 0.9992 - val_loss: 2.0974 - val_categorical_accuracy: 0.5826\n",
      "Epoch 18/20\n",
      "7791/7791 [==============================] - 10s 1ms/step - loss: 0.0035 - categorical_accuracy: 0.9986 - val_loss: 2.0874 - val_categorical_accuracy: 0.6073\n",
      "Epoch 19/20\n",
      "7791/7791 [==============================] - 10s 1ms/step - loss: 0.0022 - categorical_accuracy: 0.9992 - val_loss: 2.1115 - val_categorical_accuracy: 0.6047\n",
      "Epoch 20/20\n",
      "7791/7791 [==============================] - 9s 1ms/step - loss: 0.0047 - categorical_accuracy: 0.9985 - val_loss: 2.1948 - val_categorical_accuracy: 0.5965\n"
     ]
    }
   ],
   "source": [
    "model = Sequential()\n",
    "model.add(Embedding(vocabulario, dim_vetor, weights=[embedding_matrix], input_length=limite_texto, trainable=True))\n",
    "model.add(Conv1D(64, 7, activation='relu'))\n",
    "model.add(MaxPooling1D(5))\n",
    "model.add(Conv1D(32, 7, activation='relu'))\n",
    "model.add(GlobalMaxPooling1D())\n",
    "model.add(Dense(y.shape[1], activation='softmax'))\n",
    "model.compile(loss='categorical_crossentropy', optimizer=RMSprop(),  metrics=[\"categorical_accuracy\"])\n",
    "model.summary()\n",
    "history = model.fit(x, y, epochs=20, batch_size=32, validation_split=0.2, verbose=1, shuffle=True)"
   ]
  },
  {
   "cell_type": "code",
   "execution_count": 11,
   "metadata": {
    "scrolled": false
   },
   "outputs": [
    {
     "name": "stderr",
     "output_type": "stream",
     "text": [
      "W0316 14:46:20.503913 139929693857600 deprecation.py:506] From /home/leonardo/anaconda3/envs/gpu/lib/python3.7/site-packages/keras/backend/tensorflow_backend.py:3445: calling dropout (from tensorflow.python.ops.nn_ops) with keep_prob is deprecated and will be removed in a future version.\n",
      "Instructions for updating:\n",
      "Please use `rate` instead of `keep_prob`. Rate should be set to `rate = 1 - keep_prob`.\n"
     ]
    },
    {
     "name": "stdout",
     "output_type": "stream",
     "text": [
      "_________________________________________________________________\n",
      "Layer (type)                 Output Shape              Param #   \n",
      "=================================================================\n",
      "embedding_3 (Embedding)      (None, 6000, 100)         9542400   \n",
      "_________________________________________________________________\n",
      "conv1d_5 (Conv1D)            (None, 5994, 64)          44864     \n",
      "_________________________________________________________________\n",
      "max_pooling1d_3 (MaxPooling1 (None, 1198, 64)          0         \n",
      "_________________________________________________________________\n",
      "conv1d_6 (Conv1D)            (None, 1192, 32)          14368     \n",
      "_________________________________________________________________\n",
      "max_pooling1d_4 (MaxPooling1 (None, 238, 32)           0         \n",
      "_________________________________________________________________\n",
      "flatten_1 (Flatten)          (None, 7616)              0         \n",
      "_________________________________________________________________\n",
      "dense_3 (Dense)              (None, 256)               1949952   \n",
      "_________________________________________________________________\n",
      "dropout_1 (Dropout)          (None, 256)               0         \n",
      "_________________________________________________________________\n",
      "dense_4 (Dense)              (None, 10)                2570      \n",
      "=================================================================\n",
      "Total params: 11,554,154\n",
      "Trainable params: 11,554,154\n",
      "Non-trainable params: 0\n",
      "_________________________________________________________________\n",
      "Train on 7791 samples, validate on 1948 samples\n",
      "Epoch 1/20\n",
      "7791/7791 [==============================] - 11s 1ms/step - loss: 1.6218 - categorical_accuracy: 0.4894 - val_loss: 1.3777 - val_categorical_accuracy: 0.5595\n",
      "Epoch 2/20\n",
      "7791/7791 [==============================] - 10s 1ms/step - loss: 1.0761 - categorical_accuracy: 0.6496 - val_loss: 1.2902 - val_categorical_accuracy: 0.5672\n",
      "Epoch 3/20\n",
      "7791/7791 [==============================] - 10s 1ms/step - loss: 0.8680 - categorical_accuracy: 0.7130 - val_loss: 1.4840 - val_categorical_accuracy: 0.5036\n",
      "Epoch 4/20\n",
      "7791/7791 [==============================] - 10s 1ms/step - loss: 0.6303 - categorical_accuracy: 0.7850 - val_loss: 1.5954 - val_categorical_accuracy: 0.5749\n",
      "Epoch 5/20\n",
      "7791/7791 [==============================] - 10s 1ms/step - loss: 0.3863 - categorical_accuracy: 0.8713 - val_loss: 1.6275 - val_categorical_accuracy: 0.5580\n",
      "Epoch 6/20\n",
      "7791/7791 [==============================] - 10s 1ms/step - loss: 0.2151 - categorical_accuracy: 0.9386 - val_loss: 2.5245 - val_categorical_accuracy: 0.5359\n",
      "Epoch 7/20\n",
      "7791/7791 [==============================] - 10s 1ms/step - loss: 0.1134 - categorical_accuracy: 0.9666 - val_loss: 2.7863 - val_categorical_accuracy: 0.5364\n",
      "Epoch 8/20\n",
      "7791/7791 [==============================] - 10s 1ms/step - loss: 0.0773 - categorical_accuracy: 0.9781 - val_loss: 3.1783 - val_categorical_accuracy: 0.5246\n",
      "Epoch 9/20\n",
      "7791/7791 [==============================] - 10s 1ms/step - loss: 0.0693 - categorical_accuracy: 0.9809 - val_loss: 3.3579 - val_categorical_accuracy: 0.5246\n",
      "Epoch 10/20\n",
      "7791/7791 [==============================] - 10s 1ms/step - loss: 0.0572 - categorical_accuracy: 0.9834 - val_loss: 3.9205 - val_categorical_accuracy: 0.5406\n",
      "Epoch 11/20\n",
      "7791/7791 [==============================] - 10s 1ms/step - loss: 0.0492 - categorical_accuracy: 0.9861 - val_loss: 4.0293 - val_categorical_accuracy: 0.5349\n",
      "Epoch 12/20\n",
      "7791/7791 [==============================] - 10s 1ms/step - loss: 0.0543 - categorical_accuracy: 0.9856 - val_loss: 3.8912 - val_categorical_accuracy: 0.5441\n",
      "Epoch 13/20\n",
      "7791/7791 [==============================] - 10s 1ms/step - loss: 0.0802 - categorical_accuracy: 0.9867 - val_loss: 4.9690 - val_categorical_accuracy: 0.5216\n",
      "Epoch 14/20\n",
      "7791/7791 [==============================] - 10s 1ms/step - loss: 0.0557 - categorical_accuracy: 0.9868 - val_loss: 4.2104 - val_categorical_accuracy: 0.5447\n",
      "Epoch 15/20\n",
      "7791/7791 [==============================] - 10s 1ms/step - loss: 0.0571 - categorical_accuracy: 0.9887 - val_loss: 4.6132 - val_categorical_accuracy: 0.5287\n",
      "Epoch 16/20\n",
      "7791/7791 [==============================] - 10s 1ms/step - loss: 0.0634 - categorical_accuracy: 0.9868 - val_loss: 4.5641 - val_categorical_accuracy: 0.5277\n",
      "Epoch 17/20\n",
      "7791/7791 [==============================] - 10s 1ms/step - loss: 0.0467 - categorical_accuracy: 0.9878 - val_loss: 4.2134 - val_categorical_accuracy: 0.5092\n",
      "Epoch 18/20\n",
      "7791/7791 [==============================] - 10s 1ms/step - loss: 0.0655 - categorical_accuracy: 0.9887 - val_loss: 4.6336 - val_categorical_accuracy: 0.5375\n",
      "Epoch 19/20\n",
      "7791/7791 [==============================] - 11s 1ms/step - loss: 0.0575 - categorical_accuracy: 0.9895 - val_loss: 4.2991 - val_categorical_accuracy: 0.5267\n",
      "Epoch 20/20\n",
      "7791/7791 [==============================] - 10s 1ms/step - loss: 0.0475 - categorical_accuracy: 0.9891 - val_loss: 4.6573 - val_categorical_accuracy: 0.4969\n"
     ]
    }
   ],
   "source": [
    "model = Sequential()\n",
    "model.add(Embedding(vocabulario, dim_vetor, weights=[embedding_matrix], input_length=limite_texto, trainable=True))\n",
    "model.add(Conv1D(64, 7, activation='relu'))\n",
    "model.add(MaxPooling1D(5))\n",
    "model.add(Conv1D(32, 7, activation='relu'))\n",
    "model.add(MaxPooling1D(5))\n",
    "model.add(Flatten())\n",
    "model.add(Dense(256, activation='relu'))\n",
    "model.add(Dropout(0.2))\n",
    "model.add(Dense(y.shape[1], activation='softmax'))\n",
    "model.compile(loss='categorical_crossentropy', optimizer=RMSprop(),  metrics=[\"categorical_accuracy\"])\n",
    "model.summary()\n",
    "history = model.fit(x, y, epochs=20, batch_size=32, validation_split=0.2, verbose=1, shuffle=True)"
   ]
  },
  {
   "cell_type": "code",
   "execution_count": 12,
   "metadata": {},
   "outputs": [
    {
     "name": "stdout",
     "output_type": "stream",
     "text": [
      "_________________________________________________________________\n",
      "Layer (type)                 Output Shape              Param #   \n",
      "=================================================================\n",
      "embedding_4 (Embedding)      (None, 6000, 100)         9542400   \n",
      "_________________________________________________________________\n",
      "conv1d_7 (Conv1D)            (None, 5994, 64)          44864     \n",
      "_________________________________________________________________\n",
      "max_pooling1d_5 (MaxPooling1 (None, 1198, 64)          0         \n",
      "_________________________________________________________________\n",
      "conv1d_8 (Conv1D)            (None, 1192, 32)          14368     \n",
      "_________________________________________________________________\n",
      "max_pooling1d_6 (MaxPooling1 (None, 238, 32)           0         \n",
      "_________________________________________________________________\n",
      "flatten_2 (Flatten)          (None, 7616)              0         \n",
      "_________________________________________________________________\n",
      "dense_5 (Dense)              (None, 1024)              7799808   \n",
      "_________________________________________________________________\n",
      "dropout_2 (Dropout)          (None, 1024)              0         \n",
      "_________________________________________________________________\n",
      "dense_6 (Dense)              (None, 128)               131200    \n",
      "_________________________________________________________________\n",
      "dropout_3 (Dropout)          (None, 128)               0         \n",
      "_________________________________________________________________\n",
      "dense_7 (Dense)              (None, 10)                1290      \n",
      "=================================================================\n",
      "Total params: 17,533,930\n",
      "Trainable params: 17,533,930\n",
      "Non-trainable params: 0\n",
      "_________________________________________________________________\n",
      "Train on 7791 samples, validate on 1948 samples\n",
      "Epoch 1/20\n",
      "7791/7791 [==============================] - 12s 2ms/step - loss: 1.6712 - categorical_accuracy: 0.4664 - val_loss: 1.5920 - val_categorical_accuracy: 0.4492\n",
      "Epoch 2/20\n",
      "7791/7791 [==============================] - 11s 1ms/step - loss: 1.2184 - categorical_accuracy: 0.6207 - val_loss: 1.3092 - val_categorical_accuracy: 0.5791\n",
      "Epoch 3/20\n",
      "7791/7791 [==============================] - 11s 1ms/step - loss: 1.0072 - categorical_accuracy: 0.6709 - val_loss: 1.3157 - val_categorical_accuracy: 0.6191\n",
      "Epoch 4/20\n",
      "7791/7791 [==============================] - 11s 1ms/step - loss: 0.8411 - categorical_accuracy: 0.7299 - val_loss: 1.7216 - val_categorical_accuracy: 0.4641\n",
      "Epoch 5/20\n",
      "7791/7791 [==============================] - 11s 1ms/step - loss: 0.6179 - categorical_accuracy: 0.8012 - val_loss: 1.7181 - val_categorical_accuracy: 0.5375\n",
      "Epoch 6/20\n",
      "7791/7791 [==============================] - 11s 1ms/step - loss: 0.4158 - categorical_accuracy: 0.8652 - val_loss: 1.9052 - val_categorical_accuracy: 0.5226\n",
      "Epoch 7/20\n",
      "7791/7791 [==============================] - 11s 1ms/step - loss: 0.2679 - categorical_accuracy: 0.9179 - val_loss: 2.6579 - val_categorical_accuracy: 0.5221\n",
      "Epoch 8/20\n",
      "7791/7791 [==============================] - 11s 1ms/step - loss: 0.1692 - categorical_accuracy: 0.9494 - val_loss: 2.6750 - val_categorical_accuracy: 0.5277\n",
      "Epoch 9/20\n",
      "7791/7791 [==============================] - 11s 1ms/step - loss: 0.1493 - categorical_accuracy: 0.9618 - val_loss: 2.8689 - val_categorical_accuracy: 0.4682\n",
      "Epoch 10/20\n",
      "7791/7791 [==============================] - 11s 1ms/step - loss: 0.1369 - categorical_accuracy: 0.9671 - val_loss: 3.6386 - val_categorical_accuracy: 0.5257\n",
      "Epoch 11/20\n",
      "7791/7791 [==============================] - 11s 1ms/step - loss: 0.1362 - categorical_accuracy: 0.9730 - val_loss: 4.1131 - val_categorical_accuracy: 0.5062\n",
      "Epoch 12/20\n",
      "7791/7791 [==============================] - 11s 1ms/step - loss: 0.1064 - categorical_accuracy: 0.9765 - val_loss: 4.1203 - val_categorical_accuracy: 0.4769\n",
      "Epoch 13/20\n",
      "7791/7791 [==============================] - 11s 1ms/step - loss: 0.0771 - categorical_accuracy: 0.9818 - val_loss: 4.5162 - val_categorical_accuracy: 0.5113\n",
      "Epoch 14/20\n",
      "7791/7791 [==============================] - 11s 1ms/step - loss: 0.1002 - categorical_accuracy: 0.9809 - val_loss: 3.8643 - val_categorical_accuracy: 0.4476\n",
      "Epoch 15/20\n",
      "7791/7791 [==============================] - 11s 1ms/step - loss: 0.0850 - categorical_accuracy: 0.9833 - val_loss: 5.2941 - val_categorical_accuracy: 0.5477\n",
      "Epoch 16/20\n",
      "7791/7791 [==============================] - 11s 1ms/step - loss: 0.1054 - categorical_accuracy: 0.9819 - val_loss: 5.7816 - val_categorical_accuracy: 0.4553\n",
      "Epoch 17/20\n",
      "7791/7791 [==============================] - 11s 1ms/step - loss: 0.0869 - categorical_accuracy: 0.9846 - val_loss: 4.7344 - val_categorical_accuracy: 0.5046\n",
      "Epoch 18/20\n",
      "7791/7791 [==============================] - 11s 1ms/step - loss: 0.0964 - categorical_accuracy: 0.9813 - val_loss: 5.4840 - val_categorical_accuracy: 0.5036\n",
      "Epoch 19/20\n",
      "7791/7791 [==============================] - 11s 1ms/step - loss: 0.0894 - categorical_accuracy: 0.9829 - val_loss: 4.7850 - val_categorical_accuracy: 0.5272\n",
      "Epoch 20/20\n",
      "7791/7791 [==============================] - 11s 1ms/step - loss: 0.1163 - categorical_accuracy: 0.9820 - val_loss: 5.3565 - val_categorical_accuracy: 0.4938\n"
     ]
    }
   ],
   "source": [
    "model = Sequential()\n",
    "model.add(Embedding(vocabulario, dim_vetor, weights=[embedding_matrix], input_length=limite_texto, trainable=True))\n",
    "model.add(Conv1D(64, 7, activation='relu'))\n",
    "model.add(MaxPooling1D(5))\n",
    "model.add(Conv1D(32, 7, activation='relu'))\n",
    "model.add(MaxPooling1D(5))\n",
    "model.add(Flatten())\n",
    "model.add(Dense(1024, activation='relu'))\n",
    "model.add(Dropout(0.2))\n",
    "model.add(Dense(128, activation='relu'))\n",
    "model.add(Dropout(0.2))\n",
    "model.add(Dense(y.shape[1], activation='softmax'))\n",
    "model.compile(loss='categorical_crossentropy', optimizer=RMSprop(),  metrics=[\"categorical_accuracy\"])\n",
    "model.summary()\n",
    "history = model.fit(x, y, epochs=20, batch_size=32, validation_split=0.2, verbose=1, shuffle=True)"
   ]
  },
  {
   "cell_type": "code",
   "execution_count": null,
   "metadata": {},
   "outputs": [],
   "source": []
  }
 ],
 "metadata": {
  "kernelspec": {
   "display_name": "Python 3",
   "language": "python",
   "name": "python3"
  },
  "language_info": {
   "codemirror_mode": {
    "name": "ipython",
    "version": 3
   },
   "file_extension": ".py",
   "mimetype": "text/x-python",
   "name": "python",
   "nbconvert_exporter": "python",
   "pygments_lexer": "ipython3",
   "version": "3.7.4"
  }
 },
 "nbformat": 4,
 "nbformat_minor": 2
}
