{
 "cells": [
  {
   "cell_type": "markdown",
   "metadata": {},
   "source": [
    "# Importação e preparação dos dados"
   ]
  },
  {
   "cell_type": "code",
   "execution_count": 1,
   "metadata": {},
   "outputs": [
    {
     "data": {
      "text/html": [
       "<div>\n",
       "<style scoped>\n",
       "    .dataframe tbody tr th:only-of-type {\n",
       "        vertical-align: middle;\n",
       "    }\n",
       "\n",
       "    .dataframe tbody tr th {\n",
       "        vertical-align: top;\n",
       "    }\n",
       "\n",
       "    .dataframe thead th {\n",
       "        text-align: right;\n",
       "    }\n",
       "</style>\n",
       "<table border=\"1\" class=\"dataframe\">\n",
       "  <thead>\n",
       "    <tr style=\"text-align: right;\">\n",
       "      <th></th>\n",
       "      <th>acordao</th>\n",
       "      <th>areas</th>\n",
       "      <th>filtrado_500</th>\n",
       "    </tr>\n",
       "  </thead>\n",
       "  <tbody>\n",
       "    <tr>\n",
       "      <th>0</th>\n",
       "      <td>297/2016-P</td>\n",
       "      <td>Responsabilidade</td>\n",
       "      <td>conta conta gerência instituto nacional seguro...</td>\n",
       "    </tr>\n",
       "    <tr>\n",
       "      <th>1</th>\n",
       "      <td>366/2016-P</td>\n",
       "      <td>Finanças Públicas</td>\n",
       "      <td>senado petróleo petróleo regime aduaneiro expo...</td>\n",
       "    </tr>\n",
       "    <tr>\n",
       "      <th>2</th>\n",
       "      <td>944/2016-P</td>\n",
       "      <td>Responsabilidade</td>\n",
       "      <td>tribunal conta plenário embargo declaração aco...</td>\n",
       "    </tr>\n",
       "    <tr>\n",
       "      <th>3</th>\n",
       "      <td>30/2016-P</td>\n",
       "      <td>Direito Processual</td>\n",
       "      <td>embargo declaração inss recorrente marco antôn...</td>\n",
       "    </tr>\n",
       "    <tr>\n",
       "      <th>4</th>\n",
       "      <td>55/2016-P</td>\n",
       "      <td>Pessoal</td>\n",
       "      <td>senac senac senac empresa senac giselle araújo...</td>\n",
       "    </tr>\n",
       "  </tbody>\n",
       "</table>\n",
       "</div>"
      ],
      "text/plain": [
       "      acordao               areas  \\\n",
       "0  297/2016-P    Responsabilidade   \n",
       "1  366/2016-P   Finanças Públicas   \n",
       "2  944/2016-P    Responsabilidade   \n",
       "3   30/2016-P  Direito Processual   \n",
       "4   55/2016-P             Pessoal   \n",
       "\n",
       "                                        filtrado_500  \n",
       "0  conta conta gerência instituto nacional seguro...  \n",
       "1  senado petróleo petróleo regime aduaneiro expo...  \n",
       "2  tribunal conta plenário embargo declaração aco...  \n",
       "3  embargo declaração inss recorrente marco antôn...  \n",
       "4  senac senac senac empresa senac giselle araújo...  "
      ]
     },
     "execution_count": 1,
     "metadata": {},
     "output_type": "execute_result"
    }
   ],
   "source": [
    "import pandas as pd\n",
    "\n",
    "df = pd.read_csv('../dados/acordaos-unicos-filtrados-500.csv', sep = '|')\n",
    "df['filtrado_500']=df['filtrado_500'].astype(str)\n",
    "df.head()"
   ]
  },
  {
   "cell_type": "code",
   "execution_count": 2,
   "metadata": {},
   "outputs": [
    {
     "data": {
      "text/plain": [
       "(9739, 3)"
      ]
     },
     "execution_count": 2,
     "metadata": {},
     "output_type": "execute_result"
    }
   ],
   "source": [
    "df.shape"
   ]
  },
  {
   "cell_type": "code",
   "execution_count": 3,
   "metadata": {},
   "outputs": [
    {
     "data": {
      "text/plain": [
       "array(['Competência do TCU', 'Contrato Administrativo', 'Convênio',\n",
       "       'Desestatização', 'Direito Processual', 'Finanças Públicas',\n",
       "       'Gestão Administrativa', 'Licitação', 'Pessoal',\n",
       "       'Responsabilidade'], dtype='<U23')"
      ]
     },
     "execution_count": 3,
     "metadata": {},
     "output_type": "execute_result"
    }
   ],
   "source": [
    "from sklearn.preprocessing import LabelBinarizer\n",
    "\n",
    "areas = df.groupby(['areas']).groups.keys()\n",
    "lbArea = LabelBinarizer()\n",
    "lbArea.fit([x for x in areas])\n",
    "lbArea.classes_"
   ]
  },
  {
   "cell_type": "code",
   "execution_count": 4,
   "metadata": {},
   "outputs": [
    {
     "data": {
      "text/plain": [
       "(9739, 10)"
      ]
     },
     "execution_count": 4,
     "metadata": {},
     "output_type": "execute_result"
    }
   ],
   "source": [
    "y = lbArea.transform(df['areas'])\n",
    "y.shape"
   ]
  },
  {
   "cell_type": "code",
   "execution_count": 5,
   "metadata": {},
   "outputs": [
    {
     "name": "stderr",
     "output_type": "stream",
     "text": [
      "Using TensorFlow backend.\n"
     ]
    },
    {
     "name": "stdout",
     "output_type": "stream",
     "text": [
      "Found 32293 unique tokens.\n"
     ]
    }
   ],
   "source": [
    "from keras.preprocessing.text import Tokenizer\n",
    "import numpy as np\n",
    "\n",
    "vocabulario = 40000\n",
    "limite_texto = 500\n",
    "dim_vetor = 100\n",
    "\n",
    "tokenizer = Tokenizer(num_words=vocabulario)\n",
    "tokenizer.fit_on_texts(df['filtrado_500'])\n",
    "\n",
    "sequences = tokenizer.texts_to_sequences(df['filtrado_500'])\n",
    "\n",
    "word_index = tokenizer.word_index\n",
    "print('Found %s unique tokens.' % len(word_index))"
   ]
  },
  {
   "cell_type": "code",
   "execution_count": 6,
   "metadata": {},
   "outputs": [
    {
     "name": "stdout",
     "output_type": "stream",
     "text": [
      "Shape of data tensor: (9739, 500)\n"
     ]
    }
   ],
   "source": [
    "from keras.preprocessing.sequence import pad_sequences\n",
    "\n",
    "x = pad_sequences(sequences, maxlen=limite_texto)\n",
    "\n",
    "print('Shape of data tensor:', x.shape)"
   ]
  },
  {
   "cell_type": "code",
   "execution_count": 7,
   "metadata": {},
   "outputs": [
    {
     "data": {
      "text/plain": [
       "((9739, 500), (9739, 10))"
      ]
     },
     "execution_count": 7,
     "metadata": {},
     "output_type": "execute_result"
    }
   ],
   "source": [
    "x.shape, y.shape"
   ]
  },
  {
   "cell_type": "markdown",
   "metadata": {},
   "source": [
    "# Treinamento"
   ]
  },
  {
   "cell_type": "code",
   "execution_count": 8,
   "metadata": {
    "scrolled": false
   },
   "outputs": [
    {
     "name": "stderr",
     "output_type": "stream",
     "text": [
      "WARNING: Logging before flag parsing goes to stderr.\n",
      "W0314 15:39:52.764562 139976409597760 deprecation_wrapper.py:119] From /home/leonardo/anaconda3/envs/gpu/lib/python3.7/site-packages/keras/backend/tensorflow_backend.py:74: The name tf.get_default_graph is deprecated. Please use tf.compat.v1.get_default_graph instead.\n",
      "\n",
      "W0314 15:39:52.971354 139976409597760 deprecation_wrapper.py:119] From /home/leonardo/anaconda3/envs/gpu/lib/python3.7/site-packages/keras/backend/tensorflow_backend.py:517: The name tf.placeholder is deprecated. Please use tf.compat.v1.placeholder instead.\n",
      "\n",
      "W0314 15:39:53.022294 139976409597760 deprecation_wrapper.py:119] From /home/leonardo/anaconda3/envs/gpu/lib/python3.7/site-packages/keras/backend/tensorflow_backend.py:4138: The name tf.random_uniform is deprecated. Please use tf.random.uniform instead.\n",
      "\n",
      "W0314 15:39:53.527342 139976409597760 deprecation_wrapper.py:119] From /home/leonardo/anaconda3/envs/gpu/lib/python3.7/site-packages/keras/optimizers.py:790: The name tf.train.Optimizer is deprecated. Please use tf.compat.v1.train.Optimizer instead.\n",
      "\n",
      "W0314 15:39:53.536281 139976409597760 deprecation_wrapper.py:119] From /home/leonardo/anaconda3/envs/gpu/lib/python3.7/site-packages/keras/backend/tensorflow_backend.py:3295: The name tf.log is deprecated. Please use tf.math.log instead.\n",
      "\n",
      "W0314 15:39:53.758291 139976409597760 deprecation.py:323] From /home/leonardo/anaconda3/envs/gpu/lib/python3.7/site-packages/tensorflow/python/ops/math_grad.py:1250: add_dispatch_support.<locals>.wrapper (from tensorflow.python.ops.array_ops) is deprecated and will be removed in a future version.\n",
      "Instructions for updating:\n",
      "Use tf.where in 2.0, which has the same broadcast rule as np.where\n"
     ]
    },
    {
     "name": "stdout",
     "output_type": "stream",
     "text": [
      "_________________________________________________________________\n",
      "Layer (type)                 Output Shape              Param #   \n",
      "=================================================================\n",
      "embedding_1 (Embedding)      (None, 500, 100)          4000000   \n",
      "_________________________________________________________________\n",
      "gru_1 (GRU)                  (None, 256)               274176    \n",
      "_________________________________________________________________\n",
      "dense_1 (Dense)              (None, 10)                2570      \n",
      "=================================================================\n",
      "Total params: 4,276,746\n",
      "Trainable params: 4,276,746\n",
      "Non-trainable params: 0\n",
      "_________________________________________________________________\n"
     ]
    },
    {
     "name": "stderr",
     "output_type": "stream",
     "text": [
      "W0314 15:39:54.191352 139976409597760 deprecation_wrapper.py:119] From /home/leonardo/anaconda3/envs/gpu/lib/python3.7/site-packages/keras/backend/tensorflow_backend.py:986: The name tf.assign_add is deprecated. Please use tf.compat.v1.assign_add instead.\n",
      "\n"
     ]
    },
    {
     "name": "stdout",
     "output_type": "stream",
     "text": [
      "Train on 7791 samples, validate on 1948 samples\n",
      "Epoch 1/20\n",
      "7791/7791 [==============================] - 114s 15ms/step - loss: 1.4861 - categorical_accuracy: 0.4987 - val_loss: 1.3826 - val_categorical_accuracy: 0.4846\n",
      "Epoch 2/20\n",
      "7791/7791 [==============================] - 104s 13ms/step - loss: 1.0826 - categorical_accuracy: 0.6298 - val_loss: 1.3354 - val_categorical_accuracy: 0.5560\n",
      "Epoch 3/20\n",
      "7791/7791 [==============================] - 104s 13ms/step - loss: 0.9131 - categorical_accuracy: 0.6939 - val_loss: 1.5115 - val_categorical_accuracy: 0.4420\n",
      "Epoch 4/20\n",
      "7791/7791 [==============================] - 103s 13ms/step - loss: 0.7788 - categorical_accuracy: 0.7421 - val_loss: 1.2820 - val_categorical_accuracy: 0.5560\n",
      "Epoch 5/20\n",
      "7791/7791 [==============================] - 102s 13ms/step - loss: 0.6636 - categorical_accuracy: 0.7886 - val_loss: 1.4992 - val_categorical_accuracy: 0.5580\n",
      "Epoch 6/20\n",
      "7791/7791 [==============================] - 102s 13ms/step - loss: 0.5574 - categorical_accuracy: 0.8222 - val_loss: 1.4871 - val_categorical_accuracy: 0.5606\n",
      "Epoch 7/20\n",
      "7791/7791 [==============================] - 102s 13ms/step - loss: 0.4663 - categorical_accuracy: 0.8601 - val_loss: 1.5649 - val_categorical_accuracy: 0.5380\n",
      "Epoch 8/20\n",
      "7791/7791 [==============================] - 102s 13ms/step - loss: 0.3833 - categorical_accuracy: 0.8847 - val_loss: 1.6026 - val_categorical_accuracy: 0.5554\n",
      "Epoch 9/20\n",
      "7791/7791 [==============================] - 102s 13ms/step - loss: 0.3100 - categorical_accuracy: 0.9040 - val_loss: 1.8451 - val_categorical_accuracy: 0.5585\n",
      "Epoch 10/20\n",
      "7791/7791 [==============================] - 102s 13ms/step - loss: 0.2503 - categorical_accuracy: 0.9259 - val_loss: 2.0611 - val_categorical_accuracy: 0.5036\n",
      "Epoch 11/20\n",
      "7791/7791 [==============================] - 102s 13ms/step - loss: 0.2059 - categorical_accuracy: 0.9385 - val_loss: 2.0541 - val_categorical_accuracy: 0.5226\n",
      "Epoch 12/20\n",
      "7791/7791 [==============================] - 102s 13ms/step - loss: 0.1664 - categorical_accuracy: 0.9497 - val_loss: 2.1756 - val_categorical_accuracy: 0.5128\n",
      "Epoch 13/20\n",
      "7791/7791 [==============================] - 102s 13ms/step - loss: 0.1365 - categorical_accuracy: 0.9592 - val_loss: 2.3468 - val_categorical_accuracy: 0.5133\n",
      "Epoch 14/20\n",
      "7791/7791 [==============================] - 102s 13ms/step - loss: 0.1074 - categorical_accuracy: 0.9669 - val_loss: 2.4838 - val_categorical_accuracy: 0.5103\n",
      "Epoch 15/20\n",
      "7791/7791 [==============================] - 102s 13ms/step - loss: 0.0974 - categorical_accuracy: 0.9710 - val_loss: 2.8859 - val_categorical_accuracy: 0.4877\n",
      "Epoch 16/20\n",
      "7791/7791 [==============================] - 102s 13ms/step - loss: 0.0767 - categorical_accuracy: 0.9754 - val_loss: 2.9016 - val_categorical_accuracy: 0.4949\n",
      "Epoch 17/20\n",
      "7791/7791 [==============================] - 103s 13ms/step - loss: 0.0727 - categorical_accuracy: 0.9770 - val_loss: 2.6483 - val_categorical_accuracy: 0.5098\n",
      "Epoch 18/20\n",
      "7791/7791 [==============================] - 102s 13ms/step - loss: 0.0608 - categorical_accuracy: 0.9796 - val_loss: 2.7937 - val_categorical_accuracy: 0.4969\n",
      "Epoch 19/20\n",
      "7791/7791 [==============================] - 102s 13ms/step - loss: 0.0533 - categorical_accuracy: 0.9828 - val_loss: 2.9576 - val_categorical_accuracy: 0.5210\n",
      "Epoch 20/20\n",
      "7791/7791 [==============================] - 102s 13ms/step - loss: 0.0465 - categorical_accuracy: 0.9864 - val_loss: 2.6961 - val_categorical_accuracy: 0.5252\n"
     ]
    }
   ],
   "source": [
    "from keras.models import Sequential\n",
    "from keras.layers import Embedding, GRU, Dense, Bidirectional\n",
    "from keras.optimizers import RMSprop\n",
    "from keras.layers.core import Dropout\n",
    "\n",
    "model = Sequential()\n",
    "model.add(Embedding(vocabulario, dim_vetor, input_length=x.shape[1]))\n",
    "model.add(GRU(256))\n",
    "model.add(Dense(y.shape[1], activation='softmax'))\n",
    "model.compile(loss='categorical_crossentropy', optimizer=RMSprop(),  metrics=[\"categorical_accuracy\"])\n",
    "model.summary()\n",
    "\n",
    "history = model.fit(x, y, epochs=20, batch_size=32, validation_split=0.2, verbose=1, shuffle=True)"
   ]
  },
  {
   "cell_type": "code",
   "execution_count": 9,
   "metadata": {},
   "outputs": [
    {
     "name": "stderr",
     "output_type": "stream",
     "text": [
      "W0314 16:14:17.325772 139976409597760 deprecation.py:506] From /home/leonardo/anaconda3/envs/gpu/lib/python3.7/site-packages/keras/backend/tensorflow_backend.py:3445: calling dropout (from tensorflow.python.ops.nn_ops) with keep_prob is deprecated and will be removed in a future version.\n",
      "Instructions for updating:\n",
      "Please use `rate` instead of `keep_prob`. Rate should be set to `rate = 1 - keep_prob`.\n"
     ]
    },
    {
     "name": "stdout",
     "output_type": "stream",
     "text": [
      "_________________________________________________________________\n",
      "Layer (type)                 Output Shape              Param #   \n",
      "=================================================================\n",
      "embedding_2 (Embedding)      (None, 500, 100)          4000000   \n",
      "_________________________________________________________________\n",
      "gru_2 (GRU)                  (None, 256)               274176    \n",
      "_________________________________________________________________\n",
      "dense_2 (Dense)              (None, 10)                2570      \n",
      "=================================================================\n",
      "Total params: 4,276,746\n",
      "Trainable params: 4,276,746\n",
      "Non-trainable params: 0\n",
      "_________________________________________________________________\n",
      "Train on 7791 samples, validate on 1948 samples\n",
      "Epoch 1/20\n",
      "7791/7791 [==============================] - 119s 15ms/step - loss: 1.4830 - categorical_accuracy: 0.4999 - val_loss: 1.4722 - val_categorical_accuracy: 0.4553\n",
      "Epoch 2/20\n",
      "7791/7791 [==============================] - 117s 15ms/step - loss: 1.0775 - categorical_accuracy: 0.6380 - val_loss: 1.3827 - val_categorical_accuracy: 0.5390\n",
      "Epoch 3/20\n",
      "7791/7791 [==============================] - 117s 15ms/step - loss: 0.9533 - categorical_accuracy: 0.6801 - val_loss: 1.3665 - val_categorical_accuracy: 0.4836\n",
      "Epoch 4/20\n",
      "7791/7791 [==============================] - 117s 15ms/step - loss: 0.8523 - categorical_accuracy: 0.7157 - val_loss: 1.2607 - val_categorical_accuracy: 0.5986\n",
      "Epoch 5/20\n",
      "7791/7791 [==============================] - 117s 15ms/step - loss: 0.7708 - categorical_accuracy: 0.7455 - val_loss: 1.3093 - val_categorical_accuracy: 0.5806\n",
      "Epoch 6/20\n",
      "7791/7791 [==============================] - 117s 15ms/step - loss: 0.6905 - categorical_accuracy: 0.7763 - val_loss: 1.4176 - val_categorical_accuracy: 0.5893\n",
      "Epoch 7/20\n",
      "7791/7791 [==============================] - 118s 15ms/step - loss: 0.6072 - categorical_accuracy: 0.8041 - val_loss: 1.4583 - val_categorical_accuracy: 0.5606\n",
      "Epoch 8/20\n",
      "7791/7791 [==============================] - 117s 15ms/step - loss: 0.5327 - categorical_accuracy: 0.8325 - val_loss: 1.4926 - val_categorical_accuracy: 0.5483\n",
      "Epoch 9/20\n",
      "7791/7791 [==============================] - 117s 15ms/step - loss: 0.4613 - categorical_accuracy: 0.8580 - val_loss: 1.6262 - val_categorical_accuracy: 0.5303\n",
      "Epoch 10/20\n",
      "7791/7791 [==============================] - 117s 15ms/step - loss: 0.4046 - categorical_accuracy: 0.8793 - val_loss: 1.6725 - val_categorical_accuracy: 0.5544\n",
      "Epoch 11/20\n",
      "7791/7791 [==============================] - 117s 15ms/step - loss: 0.3444 - categorical_accuracy: 0.8945 - val_loss: 1.8600 - val_categorical_accuracy: 0.5123\n",
      "Epoch 12/20\n",
      "7791/7791 [==============================] - 117s 15ms/step - loss: 0.2946 - categorical_accuracy: 0.9100 - val_loss: 1.7462 - val_categorical_accuracy: 0.5585\n",
      "Epoch 13/20\n",
      "7791/7791 [==============================] - 117s 15ms/step - loss: 0.2535 - categorical_accuracy: 0.9258 - val_loss: 1.9346 - val_categorical_accuracy: 0.5395\n",
      "Epoch 14/20\n",
      "7791/7791 [==============================] - 117s 15ms/step - loss: 0.2190 - categorical_accuracy: 0.9326 - val_loss: 2.0263 - val_categorical_accuracy: 0.5513\n",
      "Epoch 15/20\n",
      "7791/7791 [==============================] - 118s 15ms/step - loss: 0.2005 - categorical_accuracy: 0.9425 - val_loss: 2.0687 - val_categorical_accuracy: 0.5313\n",
      "Epoch 16/20\n",
      "7791/7791 [==============================] - 117s 15ms/step - loss: 0.1681 - categorical_accuracy: 0.9499 - val_loss: 2.1283 - val_categorical_accuracy: 0.5472\n",
      "Epoch 17/20\n",
      "7791/7791 [==============================] - 118s 15ms/step - loss: 0.1419 - categorical_accuracy: 0.9575 - val_loss: 2.3366 - val_categorical_accuracy: 0.5128\n",
      "Epoch 18/20\n",
      "7791/7791 [==============================] - 117s 15ms/step - loss: 0.1274 - categorical_accuracy: 0.9614 - val_loss: 2.4220 - val_categorical_accuracy: 0.5298\n",
      "Epoch 19/20\n",
      "7791/7791 [==============================] - 118s 15ms/step - loss: 0.1154 - categorical_accuracy: 0.9650 - val_loss: 2.4372 - val_categorical_accuracy: 0.5334\n",
      "Epoch 20/20\n",
      "7791/7791 [==============================] - 117s 15ms/step - loss: 0.0957 - categorical_accuracy: 0.9704 - val_loss: 2.3732 - val_categorical_accuracy: 0.5252\n"
     ]
    }
   ],
   "source": [
    "model = Sequential()\n",
    "model.add(Embedding(vocabulario, dim_vetor, input_length=x.shape[1]))\n",
    "model.add(GRU(256, dropout=0.2, recurrent_dropout=0.2))\n",
    "model.add(Dense(y.shape[1], activation='softmax'))\n",
    "model.compile(loss='categorical_crossentropy', optimizer=RMSprop(),  metrics=[\"categorical_accuracy\"])\n",
    "model.summary()\n",
    "\n",
    "history = model.fit(x, y, epochs=20, batch_size=32, validation_split=0.2, verbose=1, shuffle=True)"
   ]
  },
  {
   "cell_type": "code",
   "execution_count": 10,
   "metadata": {},
   "outputs": [
    {
     "name": "stdout",
     "output_type": "stream",
     "text": [
      "_________________________________________________________________\n",
      "Layer (type)                 Output Shape              Param #   \n",
      "=================================================================\n",
      "embedding_3 (Embedding)      (None, 500, 100)          4000000   \n",
      "_________________________________________________________________\n",
      "gru_3 (GRU)                  (None, 256)               274176    \n",
      "_________________________________________________________________\n",
      "dense_3 (Dense)              (None, 10)                2570      \n",
      "=================================================================\n",
      "Total params: 4,276,746\n",
      "Trainable params: 4,276,746\n",
      "Non-trainable params: 0\n",
      "_________________________________________________________________\n",
      "Train on 7791 samples, validate on 1948 samples\n",
      "Epoch 1/20\n",
      "7791/7791 [==============================] - 120s 15ms/step - loss: 1.5052 - categorical_accuracy: 0.4915 - val_loss: 1.4651 - val_categorical_accuracy: 0.4076\n",
      "Epoch 2/20\n",
      "7791/7791 [==============================] - 118s 15ms/step - loss: 1.0986 - categorical_accuracy: 0.6301 - val_loss: 1.3627 - val_categorical_accuracy: 0.4867\n",
      "Epoch 3/20\n",
      "7791/7791 [==============================] - 119s 15ms/step - loss: 0.9753 - categorical_accuracy: 0.6740 - val_loss: 1.3004 - val_categorical_accuracy: 0.5657\n",
      "Epoch 4/20\n",
      "7791/7791 [==============================] - 118s 15ms/step - loss: 0.8786 - categorical_accuracy: 0.7045 - val_loss: 1.3167 - val_categorical_accuracy: 0.5544\n",
      "Epoch 5/20\n",
      "7791/7791 [==============================] - 118s 15ms/step - loss: 0.7909 - categorical_accuracy: 0.7441 - val_loss: 1.3859 - val_categorical_accuracy: 0.5785\n",
      "Epoch 6/20\n",
      "7791/7791 [==============================] - 119s 15ms/step - loss: 0.7039 - categorical_accuracy: 0.7727 - val_loss: 1.3990 - val_categorical_accuracy: 0.5760\n",
      "Epoch 7/20\n",
      "7791/7791 [==============================] - 118s 15ms/step - loss: 0.6264 - categorical_accuracy: 0.7991 - val_loss: 1.4690 - val_categorical_accuracy: 0.5488\n",
      "Epoch 8/20\n",
      "7791/7791 [==============================] - 118s 15ms/step - loss: 0.5551 - categorical_accuracy: 0.8252 - val_loss: 1.5013 - val_categorical_accuracy: 0.5647\n",
      "Epoch 9/20\n",
      "7791/7791 [==============================] - 118s 15ms/step - loss: 0.4895 - categorical_accuracy: 0.8469 - val_loss: 1.5724 - val_categorical_accuracy: 0.5467\n",
      "Epoch 10/20\n",
      "7791/7791 [==============================] - 118s 15ms/step - loss: 0.4282 - categorical_accuracy: 0.8683 - val_loss: 1.6911 - val_categorical_accuracy: 0.5200\n",
      "Epoch 11/20\n",
      "7791/7791 [==============================] - 119s 15ms/step - loss: 0.3807 - categorical_accuracy: 0.8854 - val_loss: 1.7008 - val_categorical_accuracy: 0.5549\n",
      "Epoch 12/20\n",
      "7791/7791 [==============================] - 119s 15ms/step - loss: 0.3304 - categorical_accuracy: 0.9008 - val_loss: 1.7565 - val_categorical_accuracy: 0.5513\n",
      "Epoch 13/20\n",
      "7791/7791 [==============================] - 118s 15ms/step - loss: 0.2817 - categorical_accuracy: 0.9158 - val_loss: 1.8577 - val_categorical_accuracy: 0.5554\n",
      "Epoch 14/20\n",
      "7791/7791 [==============================] - 118s 15ms/step - loss: 0.2522 - categorical_accuracy: 0.9252 - val_loss: 1.9619 - val_categorical_accuracy: 0.5195\n",
      "Epoch 15/20\n",
      "7791/7791 [==============================] - 118s 15ms/step - loss: 0.2140 - categorical_accuracy: 0.9358 - val_loss: 2.0135 - val_categorical_accuracy: 0.5277\n",
      "Epoch 16/20\n",
      "7791/7791 [==============================] - 118s 15ms/step - loss: 0.1876 - categorical_accuracy: 0.9443 - val_loss: 2.1763 - val_categorical_accuracy: 0.5257\n",
      "Epoch 17/20\n",
      "7791/7791 [==============================] - 119s 15ms/step - loss: 0.1668 - categorical_accuracy: 0.9499 - val_loss: 2.1087 - val_categorical_accuracy: 0.5303\n",
      "Epoch 18/20\n",
      "7791/7791 [==============================] - 118s 15ms/step - loss: 0.1417 - categorical_accuracy: 0.9583 - val_loss: 2.3265 - val_categorical_accuracy: 0.5267\n",
      "Epoch 19/20\n",
      "7791/7791 [==============================] - 119s 15ms/step - loss: 0.1242 - categorical_accuracy: 0.9626 - val_loss: 2.4388 - val_categorical_accuracy: 0.5231\n",
      "Epoch 20/20\n",
      "7791/7791 [==============================] - 119s 15ms/step - loss: 0.1106 - categorical_accuracy: 0.9657 - val_loss: 2.5934 - val_categorical_accuracy: 0.5164\n"
     ]
    }
   ],
   "source": [
    "model = Sequential()\n",
    "model.add(Embedding(vocabulario, dim_vetor, input_length=x.shape[1]))\n",
    "model.add(GRU(256, dropout=0.1, recurrent_dropout=0.4))\n",
    "model.add(Dense(y.shape[1], activation='softmax'))\n",
    "model.compile(loss='categorical_crossentropy', optimizer=RMSprop(),  metrics=[\"categorical_accuracy\"])\n",
    "model.summary()\n",
    "\n",
    "history = model.fit(x, y, epochs=20, batch_size=32, validation_split=0.2, verbose=1, shuffle=True)"
   ]
  },
  {
   "cell_type": "code",
   "execution_count": 11,
   "metadata": {},
   "outputs": [
    {
     "name": "stdout",
     "output_type": "stream",
     "text": [
      "_________________________________________________________________\n",
      "Layer (type)                 Output Shape              Param #   \n",
      "=================================================================\n",
      "embedding_4 (Embedding)      (None, 500, 100)          4000000   \n",
      "_________________________________________________________________\n",
      "gru_4 (GRU)                  (None, 512)               941568    \n",
      "_________________________________________________________________\n",
      "dense_4 (Dense)              (None, 10)                5130      \n",
      "=================================================================\n",
      "Total params: 4,946,698\n",
      "Trainable params: 4,946,698\n",
      "Non-trainable params: 0\n",
      "_________________________________________________________________\n",
      "Train on 7791 samples, validate on 1948 samples\n",
      "Epoch 1/20\n",
      "7791/7791 [==============================] - 125s 16ms/step - loss: 1.4953 - categorical_accuracy: 0.5008 - val_loss: 1.5392 - val_categorical_accuracy: 0.5015\n",
      "Epoch 2/20\n",
      "7791/7791 [==============================] - 123s 16ms/step - loss: 1.0580 - categorical_accuracy: 0.6450 - val_loss: 1.3206 - val_categorical_accuracy: 0.5693\n",
      "Epoch 3/20\n",
      "7791/7791 [==============================] - 121s 16ms/step - loss: 0.9777 - categorical_accuracy: 0.6715 - val_loss: 1.3727 - val_categorical_accuracy: 0.5513\n",
      "Epoch 4/20\n",
      "7791/7791 [==============================] - 122s 16ms/step - loss: 0.8765 - categorical_accuracy: 0.7088 - val_loss: 1.2256 - val_categorical_accuracy: 0.6057\n",
      "Epoch 5/20\n",
      "7791/7791 [==============================] - 122s 16ms/step - loss: 0.7738 - categorical_accuracy: 0.7468 - val_loss: 1.5704 - val_categorical_accuracy: 0.4548\n",
      "Epoch 6/20\n",
      "7791/7791 [==============================] - 122s 16ms/step - loss: 0.6709 - categorical_accuracy: 0.7827 - val_loss: 1.3578 - val_categorical_accuracy: 0.5621\n",
      "Epoch 7/20\n",
      "7791/7791 [==============================] - 123s 16ms/step - loss: 0.5716 - categorical_accuracy: 0.8203 - val_loss: 1.5895 - val_categorical_accuracy: 0.5529\n",
      "Epoch 8/20\n",
      "7791/7791 [==============================] - 124s 16ms/step - loss: 0.4774 - categorical_accuracy: 0.8488 - val_loss: 1.5484 - val_categorical_accuracy: 0.5524\n",
      "Epoch 9/20\n",
      "7791/7791 [==============================] - 122s 16ms/step - loss: 0.4111 - categorical_accuracy: 0.8731 - val_loss: 1.7170 - val_categorical_accuracy: 0.5164\n",
      "Epoch 10/20\n",
      "7791/7791 [==============================] - 123s 16ms/step - loss: 0.3469 - categorical_accuracy: 0.8921 - val_loss: 1.8440 - val_categorical_accuracy: 0.5441\n",
      "Epoch 11/20\n",
      "7791/7791 [==============================] - 123s 16ms/step - loss: 0.2958 - categorical_accuracy: 0.9095 - val_loss: 1.8259 - val_categorical_accuracy: 0.5426\n",
      "Epoch 12/20\n",
      "7791/7791 [==============================] - 123s 16ms/step - loss: 0.2414 - categorical_accuracy: 0.9257 - val_loss: 1.9812 - val_categorical_accuracy: 0.5380\n",
      "Epoch 13/20\n",
      "7791/7791 [==============================] - 124s 16ms/step - loss: 0.2013 - categorical_accuracy: 0.9377 - val_loss: 2.1779 - val_categorical_accuracy: 0.5421\n",
      "Epoch 14/20\n",
      "7791/7791 [==============================] - 122s 16ms/step - loss: 0.1778 - categorical_accuracy: 0.9476 - val_loss: 2.0526 - val_categorical_accuracy: 0.5508\n",
      "Epoch 15/20\n",
      "7791/7791 [==============================] - 120s 15ms/step - loss: 0.1386 - categorical_accuracy: 0.9549 - val_loss: 2.4969 - val_categorical_accuracy: 0.5375\n",
      "Epoch 16/20\n",
      "7791/7791 [==============================] - 120s 15ms/step - loss: 0.1203 - categorical_accuracy: 0.9618 - val_loss: 2.7065 - val_categorical_accuracy: 0.5118\n",
      "Epoch 17/20\n",
      "7791/7791 [==============================] - 120s 15ms/step - loss: 0.1063 - categorical_accuracy: 0.9673 - val_loss: 2.5365 - val_categorical_accuracy: 0.5334\n",
      "Epoch 18/20\n",
      "7791/7791 [==============================] - 120s 15ms/step - loss: 0.0961 - categorical_accuracy: 0.9714 - val_loss: 2.7469 - val_categorical_accuracy: 0.5323\n",
      "Epoch 19/20\n",
      "7791/7791 [==============================] - 120s 15ms/step - loss: 0.0815 - categorical_accuracy: 0.9747 - val_loss: 2.7926 - val_categorical_accuracy: 0.5277\n",
      "Epoch 20/20\n",
      "7791/7791 [==============================] - 120s 15ms/step - loss: 0.0757 - categorical_accuracy: 0.9778 - val_loss: 2.8394 - val_categorical_accuracy: 0.5180\n"
     ]
    }
   ],
   "source": [
    "model = Sequential()\n",
    "model.add(Embedding(vocabulario, dim_vetor, input_length=x.shape[1]))\n",
    "model.add(GRU(512, dropout=0.2, recurrent_dropout=0.2))\n",
    "model.add(Dense(y.shape[1], activation='softmax'))\n",
    "model.compile(loss='categorical_crossentropy', optimizer=RMSprop(),  metrics=[\"categorical_accuracy\"])\n",
    "model.summary()\n",
    "\n",
    "history = model.fit(x, y, epochs=20, batch_size=32, validation_split=0.2, verbose=1, shuffle=True)"
   ]
  },
  {
   "cell_type": "code",
   "execution_count": 12,
   "metadata": {},
   "outputs": [
    {
     "name": "stdout",
     "output_type": "stream",
     "text": [
      "_________________________________________________________________\n",
      "Layer (type)                 Output Shape              Param #   \n",
      "=================================================================\n",
      "embedding_5 (Embedding)      (None, 500, 100)          4000000   \n",
      "_________________________________________________________________\n",
      "bidirectional_1 (Bidirection (None, 512)               548352    \n",
      "_________________________________________________________________\n",
      "dense_5 (Dense)              (None, 10)                5130      \n",
      "=================================================================\n",
      "Total params: 4,553,482\n",
      "Trainable params: 4,553,482\n",
      "Non-trainable params: 0\n",
      "_________________________________________________________________\n",
      "Train on 7791 samples, validate on 1948 samples\n",
      "Epoch 1/20\n",
      "7791/7791 [==============================] - 229s 29ms/step - loss: 1.4552 - categorical_accuracy: 0.5230 - val_loss: 1.3981 - val_categorical_accuracy: 0.5010\n",
      "Epoch 2/20\n",
      "7791/7791 [==============================] - 227s 29ms/step - loss: 1.0849 - categorical_accuracy: 0.6360 - val_loss: 1.3384 - val_categorical_accuracy: 0.5472\n",
      "Epoch 3/20\n",
      "7791/7791 [==============================] - 229s 29ms/step - loss: 0.9689 - categorical_accuracy: 0.6825 - val_loss: 1.3385 - val_categorical_accuracy: 0.5370\n",
      "Epoch 4/20\n",
      "7791/7791 [==============================] - 230s 29ms/step - loss: 0.8632 - categorical_accuracy: 0.7148 - val_loss: 1.2690 - val_categorical_accuracy: 0.5960\n",
      "Epoch 5/20\n",
      "7791/7791 [==============================] - 228s 29ms/step - loss: 0.7572 - categorical_accuracy: 0.7486 - val_loss: 1.3646 - val_categorical_accuracy: 0.5529\n",
      "Epoch 6/20\n",
      "7791/7791 [==============================] - 228s 29ms/step - loss: 0.6696 - categorical_accuracy: 0.7837 - val_loss: 1.3307 - val_categorical_accuracy: 0.5868\n",
      "Epoch 7/20\n",
      "7791/7791 [==============================] - 223s 29ms/step - loss: 0.5802 - categorical_accuracy: 0.8139 - val_loss: 1.5943 - val_categorical_accuracy: 0.5082\n",
      "Epoch 8/20\n",
      "7791/7791 [==============================] - 234s 30ms/step - loss: 0.4967 - categorical_accuracy: 0.8435 - val_loss: 1.5844 - val_categorical_accuracy: 0.5503\n",
      "Epoch 9/20\n",
      "7791/7791 [==============================] - 234s 30ms/step - loss: 0.4326 - categorical_accuracy: 0.8620 - val_loss: 1.6784 - val_categorical_accuracy: 0.5570\n",
      "Epoch 10/20\n",
      "7791/7791 [==============================] - 237s 30ms/step - loss: 0.3631 - categorical_accuracy: 0.8888 - val_loss: 1.7522 - val_categorical_accuracy: 0.5493\n",
      "Epoch 11/20\n",
      "7791/7791 [==============================] - 234s 30ms/step - loss: 0.3091 - categorical_accuracy: 0.9063 - val_loss: 1.7593 - val_categorical_accuracy: 0.5775\n",
      "Epoch 12/20\n",
      "7791/7791 [==============================] - 229s 29ms/step - loss: 0.2617 - categorical_accuracy: 0.9199 - val_loss: 2.0350 - val_categorical_accuracy: 0.5498\n",
      "Epoch 13/20\n",
      "7791/7791 [==============================] - 221s 28ms/step - loss: 0.2235 - categorical_accuracy: 0.9313 - val_loss: 2.0499 - val_categorical_accuracy: 0.5472\n",
      "Epoch 14/20\n",
      "7791/7791 [==============================] - 218s 28ms/step - loss: 0.1940 - categorical_accuracy: 0.9415 - val_loss: 2.2112 - val_categorical_accuracy: 0.5226\n",
      "Epoch 15/20\n",
      "7791/7791 [==============================] - 219s 28ms/step - loss: 0.1575 - categorical_accuracy: 0.9506 - val_loss: 2.4068 - val_categorical_accuracy: 0.5262\n",
      "Epoch 16/20\n",
      "7791/7791 [==============================] - 219s 28ms/step - loss: 0.1410 - categorical_accuracy: 0.9564 - val_loss: 2.5324 - val_categorical_accuracy: 0.5210\n",
      "Epoch 17/20\n",
      "7791/7791 [==============================] - 219s 28ms/step - loss: 0.1154 - categorical_accuracy: 0.9643 - val_loss: 2.6328 - val_categorical_accuracy: 0.5216\n",
      "Epoch 18/20\n",
      "7791/7791 [==============================] - 219s 28ms/step - loss: 0.1058 - categorical_accuracy: 0.9668 - val_loss: 2.6918 - val_categorical_accuracy: 0.5180\n",
      "Epoch 19/20\n",
      "7791/7791 [==============================] - 218s 28ms/step - loss: 0.0871 - categorical_accuracy: 0.9721 - val_loss: 2.7260 - val_categorical_accuracy: 0.5185\n",
      "Epoch 20/20\n",
      "7791/7791 [==============================] - 226s 29ms/step - loss: 0.0756 - categorical_accuracy: 0.9755 - val_loss: 2.7827 - val_categorical_accuracy: 0.5257\n"
     ]
    }
   ],
   "source": [
    "model = Sequential()\n",
    "model.add(Embedding(vocabulario, dim_vetor, input_length=x.shape[1]))\n",
    "model.add(Bidirectional(GRU(256, dropout=0.2, recurrent_dropout=0.2)))\n",
    "model.add(Dense(y.shape[1], activation='softmax'))\n",
    "model.compile(loss='categorical_crossentropy', optimizer=RMSprop(),  metrics=[\"categorical_accuracy\"])\n",
    "model.summary()\n",
    "\n",
    "history = model.fit(x, y, epochs=20, batch_size=32, validation_split=0.2, verbose=1, shuffle=True)"
   ]
  },
  {
   "cell_type": "code",
   "execution_count": null,
   "metadata": {},
   "outputs": [],
   "source": []
  }
 ],
 "metadata": {
  "kernelspec": {
   "display_name": "Python 3",
   "language": "python",
   "name": "python3"
  },
  "language_info": {
   "codemirror_mode": {
    "name": "ipython",
    "version": 3
   },
   "file_extension": ".py",
   "mimetype": "text/x-python",
   "name": "python",
   "nbconvert_exporter": "python",
   "pygments_lexer": "ipython3",
   "version": "3.7.4"
  }
 },
 "nbformat": 4,
 "nbformat_minor": 2
}
