{
 "cells": [
  {
   "cell_type": "markdown",
   "metadata": {},
   "source": [
    "# Importação e preparação dos dados"
   ]
  },
  {
   "cell_type": "code",
   "execution_count": 1,
   "metadata": {},
   "outputs": [
    {
     "data": {
      "text/html": [
       "<div>\n",
       "<style scoped>\n",
       "    .dataframe tbody tr th:only-of-type {\n",
       "        vertical-align: middle;\n",
       "    }\n",
       "\n",
       "    .dataframe tbody tr th {\n",
       "        vertical-align: top;\n",
       "    }\n",
       "\n",
       "    .dataframe thead th {\n",
       "        text-align: right;\n",
       "    }\n",
       "</style>\n",
       "<table border=\"1\" class=\"dataframe\">\n",
       "  <thead>\n",
       "    <tr style=\"text-align: right;\">\n",
       "      <th></th>\n",
       "      <th>acordao</th>\n",
       "      <th>arquivo</th>\n",
       "      <th>texto</th>\n",
       "      <th>areas</th>\n",
       "    </tr>\n",
       "  </thead>\n",
       "  <tbody>\n",
       "    <tr>\n",
       "      <th>0</th>\n",
       "      <td>297/2016-P</td>\n",
       "      <td>547240.txt</td>\n",
       "      <td>TRIBUNAL DE CONTAS DA UNIÃO\\tTC 010.084/2015-0...</td>\n",
       "      <td>Responsabilidade</td>\n",
       "    </tr>\n",
       "    <tr>\n",
       "      <th>1</th>\n",
       "      <td>366/2016-P</td>\n",
       "      <td>549518.txt</td>\n",
       "      <td>TRIBUNAL DE CONTAS DA UNIÃO\\tTC 005.933/2014-5...</td>\n",
       "      <td>Finanças Públicas</td>\n",
       "    </tr>\n",
       "    <tr>\n",
       "      <th>2</th>\n",
       "      <td>944/2016-P</td>\n",
       "      <td>554399.txt</td>\n",
       "      <td>TRIBUNAL DE CONTAS DA UNIÃO\\tTC 042.038/2012-0...</td>\n",
       "      <td>Responsabilidade</td>\n",
       "    </tr>\n",
       "    <tr>\n",
       "      <th>3</th>\n",
       "      <td>30/2016-P</td>\n",
       "      <td>545010.txt</td>\n",
       "      <td>TRIBUNAL DE CONTAS DA UNIÃO\\tTC 000.742/2014-7...</td>\n",
       "      <td>Direito Processual</td>\n",
       "    </tr>\n",
       "    <tr>\n",
       "      <th>4</th>\n",
       "      <td>55/2016-P</td>\n",
       "      <td>544046.txt</td>\n",
       "      <td>;-;;Wania Lucia Pasquarelli do NascimentoTCUWa...</td>\n",
       "      <td>Pessoal</td>\n",
       "    </tr>\n",
       "  </tbody>\n",
       "</table>\n",
       "</div>"
      ],
      "text/plain": [
       "      acordao     arquivo                                              texto  \\\n",
       "0  297/2016-P  547240.txt  TRIBUNAL DE CONTAS DA UNIÃO\\tTC 010.084/2015-0...   \n",
       "1  366/2016-P  549518.txt  TRIBUNAL DE CONTAS DA UNIÃO\\tTC 005.933/2014-5...   \n",
       "2  944/2016-P  554399.txt  TRIBUNAL DE CONTAS DA UNIÃO\\tTC 042.038/2012-0...   \n",
       "3   30/2016-P  545010.txt  TRIBUNAL DE CONTAS DA UNIÃO\\tTC 000.742/2014-7...   \n",
       "4   55/2016-P  544046.txt  ;-;;Wania Lucia Pasquarelli do NascimentoTCUWa...   \n",
       "\n",
       "                areas  \n",
       "0    Responsabilidade  \n",
       "1   Finanças Públicas  \n",
       "2    Responsabilidade  \n",
       "3  Direito Processual  \n",
       "4             Pessoal  "
      ]
     },
     "execution_count": 1,
     "metadata": {},
     "output_type": "execute_result"
    }
   ],
   "source": [
    "import pandas as pd\n",
    "\n",
    "df = pd.read_csv('../dados/acordaos-selecionada.csv', sep = '|')\n",
    "df.head()"
   ]
  },
  {
   "cell_type": "code",
   "execution_count": 2,
   "metadata": {},
   "outputs": [
    {
     "data": {
      "text/plain": [
       "(10524, 4)"
      ]
     },
     "execution_count": 2,
     "metadata": {},
     "output_type": "execute_result"
    }
   ],
   "source": [
    "df.shape"
   ]
  },
  {
   "cell_type": "code",
   "execution_count": 3,
   "metadata": {},
   "outputs": [
    {
     "data": {
      "text/plain": [
       "(10524, 91)"
      ]
     },
     "execution_count": 3,
     "metadata": {},
     "output_type": "execute_result"
    }
   ],
   "source": [
    "from sklearn.preprocessing import LabelBinarizer\n",
    "\n",
    "areas = df.groupby(['areas']).groups.keys()\n",
    "lbArea = LabelBinarizer()\n",
    "lbArea.fit([x for x in areas])\n",
    "y = lbArea.transform(df['areas'])\n",
    "y.shape"
   ]
  },
  {
   "cell_type": "code",
   "execution_count": 4,
   "metadata": {},
   "outputs": [
    {
     "name": "stderr",
     "output_type": "stream",
     "text": [
      "Using TensorFlow backend.\n"
     ]
    },
    {
     "name": "stdout",
     "output_type": "stream",
     "text": [
      "Found 344296 unique tokens.\n"
     ]
    }
   ],
   "source": [
    "from keras.preprocessing.text import Tokenizer\n",
    "import numpy as np\n",
    "\n",
    "vocabulario = 350000\n",
    "limite_texto = 40000\n",
    "dim_vetor = 100\n",
    "\n",
    "tokenizer = Tokenizer(num_words=vocabulario)\n",
    "tokenizer.fit_on_texts(df['texto'])\n",
    "\n",
    "sequences = tokenizer.texts_to_sequences(df['texto'])\n",
    "\n",
    "word_index = tokenizer.word_index\n",
    "vocabulario = len(word_index) + 1\n",
    "print('Found %s unique tokens.' % len(word_index))"
   ]
  },
  {
   "cell_type": "code",
   "execution_count": 5,
   "metadata": {},
   "outputs": [
    {
     "name": "stdout",
     "output_type": "stream",
     "text": [
      "Shape of data tensor: (10524, 40000)\n"
     ]
    }
   ],
   "source": [
    "from keras.preprocessing.sequence import pad_sequences\n",
    "\n",
    "x = pad_sequences(sequences, maxlen=limite_texto)\n",
    "\n",
    "print('Shape of data tensor:', x.shape)"
   ]
  },
  {
   "cell_type": "code",
   "execution_count": 6,
   "metadata": {},
   "outputs": [
    {
     "data": {
      "text/plain": [
       "((10524, 40000), (10524, 91))"
      ]
     },
     "execution_count": 6,
     "metadata": {},
     "output_type": "execute_result"
    }
   ],
   "source": [
    "x.shape, y.shape"
   ]
  },
  {
   "cell_type": "code",
   "execution_count": 7,
   "metadata": {},
   "outputs": [
    {
     "name": "stderr",
     "output_type": "stream",
     "text": [
      "/home/leonardo/anaconda3/envs/gpu/lib/python3.7/site-packages/smart_open/smart_open_lib.py:398: UserWarning: This function is deprecated, use smart_open.open instead. See the migration notes for details: https://github.com/RaRe-Technologies/smart_open/blob/master/README.rst#migrating-to-the-new-open-function\n",
      "  'See the migration notes for details: %s' % _MIGRATION_NOTES_URL\n"
     ]
    }
   ],
   "source": [
    "from gensim.models import KeyedVectors\n",
    "\n",
    "model = KeyedVectors.load_word2vec_format('../externos/model.txt')"
   ]
  },
  {
   "cell_type": "code",
   "execution_count": 8,
   "metadata": {},
   "outputs": [
    {
     "name": "stdout",
     "output_type": "stream",
     "text": [
      "Vocabulario: 344296\n",
      "Encontrados no modelo: 115064 = 33.42008039593838\n"
     ]
    }
   ],
   "source": [
    "# create a weight matrix for words in training docs\n",
    "\n",
    "embedding_matrix = np.zeros((vocabulario, dim_vetor))\n",
    "\n",
    "ok = 0\n",
    "for word, i in tokenizer.word_index.items():\n",
    "    if word in model:\n",
    "        embedding_matrix[i] = model[word]\n",
    "        ok += 1\n",
    "print('Vocabulario:', i)\n",
    "print('Encontrados no modelo:', ok, '=', ok * 100. / i)"
   ]
  },
  {
   "cell_type": "markdown",
   "metadata": {},
   "source": [
    "# Treinamento"
   ]
  },
  {
   "cell_type": "code",
   "execution_count": 9,
   "metadata": {
    "scrolled": false
   },
   "outputs": [
    {
     "name": "stderr",
     "output_type": "stream",
     "text": [
      "WARNING: Logging before flag parsing goes to stderr.\n",
      "W0316 09:16:58.906659 140666747377472 deprecation_wrapper.py:119] From /home/leonardo/anaconda3/envs/gpu/lib/python3.7/site-packages/keras/backend/tensorflow_backend.py:74: The name tf.get_default_graph is deprecated. Please use tf.compat.v1.get_default_graph instead.\n",
      "\n",
      "W0316 09:16:59.207962 140666747377472 deprecation_wrapper.py:119] From /home/leonardo/anaconda3/envs/gpu/lib/python3.7/site-packages/keras/backend/tensorflow_backend.py:517: The name tf.placeholder is deprecated. Please use tf.compat.v1.placeholder instead.\n",
      "\n",
      "W0316 09:16:59.258334 140666747377472 deprecation_wrapper.py:119] From /home/leonardo/anaconda3/envs/gpu/lib/python3.7/site-packages/keras/backend/tensorflow_backend.py:4138: The name tf.random_uniform is deprecated. Please use tf.random.uniform instead.\n",
      "\n",
      "W0316 09:16:59.271223 140666747377472 deprecation_wrapper.py:119] From /home/leonardo/anaconda3/envs/gpu/lib/python3.7/site-packages/keras/backend/tensorflow_backend.py:174: The name tf.get_default_session is deprecated. Please use tf.compat.v1.get_default_session instead.\n",
      "\n",
      "W0316 09:16:59.271802 140666747377472 deprecation_wrapper.py:119] From /home/leonardo/anaconda3/envs/gpu/lib/python3.7/site-packages/keras/backend/tensorflow_backend.py:181: The name tf.ConfigProto is deprecated. Please use tf.compat.v1.ConfigProto instead.\n",
      "\n",
      "W0316 09:17:13.825359 140666747377472 deprecation_wrapper.py:119] From /home/leonardo/anaconda3/envs/gpu/lib/python3.7/site-packages/keras/backend/tensorflow_backend.py:3976: The name tf.nn.max_pool is deprecated. Please use tf.nn.max_pool2d instead.\n",
      "\n",
      "W0316 09:17:13.909894 140666747377472 deprecation_wrapper.py:119] From /home/leonardo/anaconda3/envs/gpu/lib/python3.7/site-packages/keras/optimizers.py:790: The name tf.train.Optimizer is deprecated. Please use tf.compat.v1.train.Optimizer instead.\n",
      "\n",
      "W0316 09:17:14.081756 140666747377472 deprecation.py:323] From /home/leonardo/anaconda3/envs/gpu/lib/python3.7/site-packages/tensorflow/python/ops/math_grad.py:1250: add_dispatch_support.<locals>.wrapper (from tensorflow.python.ops.array_ops) is deprecated and will be removed in a future version.\n",
      "Instructions for updating:\n",
      "Use tf.where in 2.0, which has the same broadcast rule as np.where\n"
     ]
    },
    {
     "name": "stdout",
     "output_type": "stream",
     "text": [
      "_________________________________________________________________\n",
      "Layer (type)                 Output Shape              Param #   \n",
      "=================================================================\n",
      "embedding_1 (Embedding)      (None, 40000, 100)        34429700  \n",
      "_________________________________________________________________\n",
      "conv1d_1 (Conv1D)            (None, 39994, 32)         22432     \n",
      "_________________________________________________________________\n",
      "max_pooling1d_1 (MaxPooling1 (None, 7998, 32)          0         \n",
      "_________________________________________________________________\n",
      "conv1d_2 (Conv1D)            (None, 7992, 32)          7200      \n",
      "_________________________________________________________________\n",
      "global_max_pooling1d_1 (Glob (None, 32)                0         \n",
      "_________________________________________________________________\n",
      "dense_1 (Dense)              (None, 91)                3003      \n",
      "=================================================================\n",
      "Total params: 34,462,335\n",
      "Trainable params: 32,635\n",
      "Non-trainable params: 34,429,700\n",
      "_________________________________________________________________\n",
      "Train on 8419 samples, validate on 2105 samples\n",
      "Epoch 1/20\n",
      "8419/8419 [==============================] - 41s 5ms/step - loss: 2.1080 - categorical_accuracy: 0.4365 - val_loss: 1.6853 - val_categorical_accuracy: 0.5273\n",
      "Epoch 2/20\n",
      "8419/8419 [==============================] - 23s 3ms/step - loss: 1.6676 - categorical_accuracy: 0.5730 - val_loss: 1.5695 - val_categorical_accuracy: 0.5682\n",
      "Epoch 3/20\n",
      "8419/8419 [==============================] - 24s 3ms/step - loss: 1.5514 - categorical_accuracy: 0.5991 - val_loss: 1.6091 - val_categorical_accuracy: 0.5606\n",
      "Epoch 4/20\n",
      "8419/8419 [==============================] - 24s 3ms/step - loss: 1.4754 - categorical_accuracy: 0.6128 - val_loss: 1.8239 - val_categorical_accuracy: 0.5007\n",
      "Epoch 5/20\n",
      "8419/8419 [==============================] - 24s 3ms/step - loss: 1.4127 - categorical_accuracy: 0.6275 - val_loss: 1.5791 - val_categorical_accuracy: 0.5653\n",
      "Epoch 6/20\n",
      "8419/8419 [==============================] - 24s 3ms/step - loss: 1.3541 - categorical_accuracy: 0.6443 - val_loss: 1.6717 - val_categorical_accuracy: 0.5530\n",
      "Epoch 7/20\n",
      "8419/8419 [==============================] - 24s 3ms/step - loss: 1.2928 - categorical_accuracy: 0.6602 - val_loss: 1.9797 - val_categorical_accuracy: 0.4708\n",
      "Epoch 8/20\n",
      "8419/8419 [==============================] - 24s 3ms/step - loss: 1.2409 - categorical_accuracy: 0.6785 - val_loss: 1.8013 - val_categorical_accuracy: 0.5226\n",
      "Epoch 9/20\n",
      "8419/8419 [==============================] - 24s 3ms/step - loss: 1.1815 - categorical_accuracy: 0.6925 - val_loss: 1.8354 - val_categorical_accuracy: 0.4290\n",
      "Epoch 10/20\n",
      "8419/8419 [==============================] - 24s 3ms/step - loss: 1.1237 - categorical_accuracy: 0.7108 - val_loss: 1.6507 - val_categorical_accuracy: 0.5639\n",
      "Epoch 11/20\n",
      "8419/8419 [==============================] - 24s 3ms/step - loss: 1.0700 - categorical_accuracy: 0.7261 - val_loss: 1.6812 - val_categorical_accuracy: 0.5444\n",
      "Epoch 12/20\n",
      "8419/8419 [==============================] - 24s 3ms/step - loss: 1.0151 - categorical_accuracy: 0.7433 - val_loss: 2.1269 - val_categorical_accuracy: 0.4670\n",
      "Epoch 13/20\n",
      "8419/8419 [==============================] - 24s 3ms/step - loss: 0.9598 - categorical_accuracy: 0.7567 - val_loss: 1.7019 - val_categorical_accuracy: 0.5625\n",
      "Epoch 14/20\n",
      "8419/8419 [==============================] - 24s 3ms/step - loss: 0.9034 - categorical_accuracy: 0.7769 - val_loss: 1.9920 - val_categorical_accuracy: 0.4328\n",
      "Epoch 15/20\n",
      "8419/8419 [==============================] - 24s 3ms/step - loss: 0.8541 - categorical_accuracy: 0.7886 - val_loss: 2.2304 - val_categorical_accuracy: 0.4456\n",
      "Epoch 16/20\n",
      "8419/8419 [==============================] - 24s 3ms/step - loss: 0.8046 - categorical_accuracy: 0.8034 - val_loss: 2.2375 - val_categorical_accuracy: 0.4537\n",
      "Epoch 17/20\n",
      "8419/8419 [==============================] - 24s 3ms/step - loss: 0.7685 - categorical_accuracy: 0.8173 - val_loss: 2.2016 - val_categorical_accuracy: 0.4608\n",
      "Epoch 18/20\n",
      "8419/8419 [==============================] - 24s 3ms/step - loss: 0.7203 - categorical_accuracy: 0.8265 - val_loss: 2.4553 - val_categorical_accuracy: 0.4162\n",
      "Epoch 19/20\n",
      "8419/8419 [==============================] - 23s 3ms/step - loss: 0.6726 - categorical_accuracy: 0.8391 - val_loss: 2.9075 - val_categorical_accuracy: 0.3872\n",
      "Epoch 20/20\n",
      "8419/8419 [==============================] - 23s 3ms/step - loss: 0.6409 - categorical_accuracy: 0.8490 - val_loss: 2.0903 - val_categorical_accuracy: 0.5235\n"
     ]
    }
   ],
   "source": [
    "from keras.models import Sequential\n",
    "from keras.layers import Embedding, Conv1D, MaxPooling1D, Dense, GlobalMaxPooling1D, Flatten\n",
    "from keras.optimizers import RMSprop\n",
    "from keras.layers.core import Dropout\n",
    "\n",
    "model = Sequential()\n",
    "model.add(Embedding(vocabulario, dim_vetor, weights=[embedding_matrix], input_length=limite_texto, trainable=False))\n",
    "model.add(Conv1D(32, 7, activation='relu'))\n",
    "model.add(MaxPooling1D(5))\n",
    "model.add(Conv1D(32, 7, activation='relu'))\n",
    "model.add(GlobalMaxPooling1D())\n",
    "model.add(Dense(y.shape[1], activation='softmax'))\n",
    "model.compile(loss='categorical_crossentropy', optimizer=RMSprop(),  metrics=[\"categorical_accuracy\"])\n",
    "model.summary()\n",
    "history = model.fit(x, y, epochs=20, batch_size=32, validation_split=0.2, verbose=1, shuffle=True)"
   ]
  },
  {
   "cell_type": "code",
   "execution_count": 10,
   "metadata": {},
   "outputs": [
    {
     "name": "stdout",
     "output_type": "stream",
     "text": [
      "_________________________________________________________________\n",
      "Layer (type)                 Output Shape              Param #   \n",
      "=================================================================\n",
      "embedding_2 (Embedding)      (None, 40000, 100)        34429700  \n",
      "_________________________________________________________________\n",
      "conv1d_3 (Conv1D)            (None, 39994, 64)         44864     \n",
      "_________________________________________________________________\n",
      "max_pooling1d_2 (MaxPooling1 (None, 7998, 64)          0         \n",
      "_________________________________________________________________\n",
      "conv1d_4 (Conv1D)            (None, 7992, 32)          14368     \n",
      "_________________________________________________________________\n",
      "global_max_pooling1d_2 (Glob (None, 32)                0         \n",
      "_________________________________________________________________\n",
      "dense_2 (Dense)              (None, 91)                3003      \n",
      "=================================================================\n",
      "Total params: 34,491,935\n",
      "Trainable params: 34,491,935\n",
      "Non-trainable params: 0\n",
      "_________________________________________________________________\n",
      "Train on 8419 samples, validate on 2105 samples\n",
      "Epoch 1/20\n",
      "8419/8419 [==============================] - 65s 8ms/step - loss: 2.0820 - categorical_accuracy: 0.4438 - val_loss: 1.8409 - val_categorical_accuracy: 0.4285\n",
      "Epoch 2/20\n",
      "8419/8419 [==============================] - 64s 8ms/step - loss: 1.6452 - categorical_accuracy: 0.5782 - val_loss: 2.1315 - val_categorical_accuracy: 0.3929\n",
      "Epoch 3/20\n",
      "8419/8419 [==============================] - 65s 8ms/step - loss: 1.4860 - categorical_accuracy: 0.6159 - val_loss: 1.6805 - val_categorical_accuracy: 0.4926\n",
      "Epoch 4/20\n",
      "8419/8419 [==============================] - 65s 8ms/step - loss: 1.3549 - categorical_accuracy: 0.6535 - val_loss: 1.5758 - val_categorical_accuracy: 0.5587\n",
      "Epoch 5/20\n",
      "8419/8419 [==============================] - 65s 8ms/step - loss: 1.2193 - categorical_accuracy: 0.6912 - val_loss: 1.6160 - val_categorical_accuracy: 0.5435\n",
      "Epoch 6/20\n",
      "8419/8419 [==============================] - 66s 8ms/step - loss: 1.0707 - categorical_accuracy: 0.7411 - val_loss: 1.7834 - val_categorical_accuracy: 0.5387\n",
      "Epoch 7/20\n",
      "8419/8419 [==============================] - 66s 8ms/step - loss: 0.9119 - categorical_accuracy: 0.7930 - val_loss: 1.6191 - val_categorical_accuracy: 0.5876\n",
      "Epoch 8/20\n",
      "8419/8419 [==============================] - 66s 8ms/step - loss: 0.7556 - categorical_accuracy: 0.8363 - val_loss: 2.4017 - val_categorical_accuracy: 0.4423\n",
      "Epoch 9/20\n",
      "8419/8419 [==============================] - 66s 8ms/step - loss: 0.6142 - categorical_accuracy: 0.8756 - val_loss: 2.0487 - val_categorical_accuracy: 0.5069\n",
      "Epoch 10/20\n",
      "8419/8419 [==============================] - 66s 8ms/step - loss: 0.4850 - categorical_accuracy: 0.9100 - val_loss: 3.5309 - val_categorical_accuracy: 0.3625\n",
      "Epoch 11/20\n",
      "8419/8419 [==============================] - 66s 8ms/step - loss: 0.3848 - categorical_accuracy: 0.9268 - val_loss: 1.9248 - val_categorical_accuracy: 0.5648\n",
      "Epoch 12/20\n",
      "8419/8419 [==============================] - 66s 8ms/step - loss: 0.3023 - categorical_accuracy: 0.9427 - val_loss: 2.5413 - val_categorical_accuracy: 0.4812\n",
      "Epoch 13/20\n",
      "8419/8419 [==============================] - 66s 8ms/step - loss: 0.2492 - categorical_accuracy: 0.9553 - val_loss: 2.5889 - val_categorical_accuracy: 0.4993\n",
      "Epoch 14/20\n",
      "8419/8419 [==============================] - 66s 8ms/step - loss: 0.2049 - categorical_accuracy: 0.9644 - val_loss: 2.7716 - val_categorical_accuracy: 0.4841\n",
      "Epoch 15/20\n",
      "8419/8419 [==============================] - 66s 8ms/step - loss: 0.1784 - categorical_accuracy: 0.9696 - val_loss: 2.6615 - val_categorical_accuracy: 0.4252\n",
      "Epoch 16/20\n",
      "8419/8419 [==============================] - 66s 8ms/step - loss: 0.1482 - categorical_accuracy: 0.9739 - val_loss: 2.5800 - val_categorical_accuracy: 0.5226\n",
      "Epoch 17/20\n",
      "8419/8419 [==============================] - 66s 8ms/step - loss: 0.1258 - categorical_accuracy: 0.9789 - val_loss: 2.7106 - val_categorical_accuracy: 0.5093\n",
      "Epoch 18/20\n",
      "8419/8419 [==============================] - 66s 8ms/step - loss: 0.1054 - categorical_accuracy: 0.9828 - val_loss: 3.5132 - val_categorical_accuracy: 0.4603\n",
      "Epoch 19/20\n",
      "8419/8419 [==============================] - 66s 8ms/step - loss: 0.0995 - categorical_accuracy: 0.9848 - val_loss: 3.0381 - val_categorical_accuracy: 0.4865\n",
      "Epoch 20/20\n",
      "8419/8419 [==============================] - 66s 8ms/step - loss: 0.0840 - categorical_accuracy: 0.9868 - val_loss: 3.6674 - val_categorical_accuracy: 0.4898\n"
     ]
    }
   ],
   "source": [
    "model = Sequential()\n",
    "model.add(Embedding(vocabulario, dim_vetor, weights=[embedding_matrix], input_length=limite_texto, trainable=True))\n",
    "model.add(Conv1D(64, 7, activation='relu'))\n",
    "model.add(MaxPooling1D(5))\n",
    "model.add(Conv1D(32, 7, activation='relu'))\n",
    "model.add(GlobalMaxPooling1D())\n",
    "model.add(Dense(y.shape[1], activation='softmax'))\n",
    "model.compile(loss='categorical_crossentropy', optimizer=RMSprop(),  metrics=[\"categorical_accuracy\"])\n",
    "model.summary()\n",
    "history = model.fit(x, y, epochs=20, batch_size=32, validation_split=0.2, verbose=1, shuffle=True)"
   ]
  },
  {
   "cell_type": "code",
   "execution_count": 11,
   "metadata": {
    "scrolled": false
   },
   "outputs": [
    {
     "name": "stderr",
     "output_type": "stream",
     "text": [
      "W0316 09:47:17.722964 140666747377472 deprecation.py:506] From /home/leonardo/anaconda3/envs/gpu/lib/python3.7/site-packages/keras/backend/tensorflow_backend.py:3445: calling dropout (from tensorflow.python.ops.nn_ops) with keep_prob is deprecated and will be removed in a future version.\n",
      "Instructions for updating:\n",
      "Please use `rate` instead of `keep_prob`. Rate should be set to `rate = 1 - keep_prob`.\n"
     ]
    },
    {
     "name": "stdout",
     "output_type": "stream",
     "text": [
      "_________________________________________________________________\n",
      "Layer (type)                 Output Shape              Param #   \n",
      "=================================================================\n",
      "embedding_3 (Embedding)      (None, 40000, 100)        34429700  \n",
      "_________________________________________________________________\n",
      "conv1d_5 (Conv1D)            (None, 39994, 64)         44864     \n",
      "_________________________________________________________________\n",
      "max_pooling1d_3 (MaxPooling1 (None, 7998, 64)          0         \n",
      "_________________________________________________________________\n",
      "conv1d_6 (Conv1D)            (None, 7992, 32)          14368     \n",
      "_________________________________________________________________\n",
      "max_pooling1d_4 (MaxPooling1 (None, 1598, 32)          0         \n",
      "_________________________________________________________________\n",
      "flatten_1 (Flatten)          (None, 51136)             0         \n",
      "_________________________________________________________________\n",
      "dense_3 (Dense)              (None, 256)               13091072  \n",
      "_________________________________________________________________\n",
      "dropout_1 (Dropout)          (None, 256)               0         \n",
      "_________________________________________________________________\n",
      "dense_4 (Dense)              (None, 91)                23387     \n",
      "=================================================================\n",
      "Total params: 47,603,391\n",
      "Trainable params: 47,603,391\n",
      "Non-trainable params: 0\n",
      "_________________________________________________________________\n",
      "Train on 8419 samples, validate on 2105 samples\n",
      "Epoch 1/20\n",
      "8419/8419 [==============================] - 67s 8ms/step - loss: 2.3799 - categorical_accuracy: 0.3553 - val_loss: 1.9167 - val_categorical_accuracy: 0.3853\n",
      "Epoch 2/20\n",
      "8419/8419 [==============================] - 66s 8ms/step - loss: 1.7295 - categorical_accuracy: 0.5315 - val_loss: 1.8817 - val_categorical_accuracy: 0.4903\n",
      "Epoch 3/20\n",
      "8419/8419 [==============================] - 66s 8ms/step - loss: 1.3928 - categorical_accuracy: 0.6287 - val_loss: 1.9513 - val_categorical_accuracy: 0.4789\n",
      "Epoch 4/20\n",
      "8419/8419 [==============================] - 66s 8ms/step - loss: 1.0502 - categorical_accuracy: 0.7260 - val_loss: 2.1304 - val_categorical_accuracy: 0.4513\n",
      "Epoch 5/20\n",
      "8419/8419 [==============================] - 66s 8ms/step - loss: 0.7393 - categorical_accuracy: 0.8113 - val_loss: 2.5571 - val_categorical_accuracy: 0.4128\n",
      "Epoch 6/20\n",
      "8419/8419 [==============================] - 66s 8ms/step - loss: 0.5283 - categorical_accuracy: 0.8722 - val_loss: 3.1113 - val_categorical_accuracy: 0.4394\n",
      "Epoch 7/20\n",
      "8419/8419 [==============================] - 66s 8ms/step - loss: 0.3707 - categorical_accuracy: 0.9169 - val_loss: 4.7376 - val_categorical_accuracy: 0.4200\n",
      "Epoch 8/20\n",
      "8419/8419 [==============================] - 66s 8ms/step - loss: 0.2405 - categorical_accuracy: 0.9501 - val_loss: 3.6578 - val_categorical_accuracy: 0.3986\n",
      "Epoch 9/20\n",
      "8419/8419 [==============================] - 66s 8ms/step - loss: 0.1858 - categorical_accuracy: 0.9671 - val_loss: 4.5758 - val_categorical_accuracy: 0.4062\n",
      "Epoch 10/20\n",
      "8419/8419 [==============================] - 66s 8ms/step - loss: 0.1589 - categorical_accuracy: 0.9736 - val_loss: 5.1122 - val_categorical_accuracy: 0.4024\n",
      "Epoch 11/20\n",
      "8419/8419 [==============================] - 66s 8ms/step - loss: 0.1337 - categorical_accuracy: 0.9802 - val_loss: 5.4737 - val_categorical_accuracy: 0.4276\n",
      "Epoch 12/20\n",
      "8419/8419 [==============================] - 66s 8ms/step - loss: 0.1234 - categorical_accuracy: 0.9835 - val_loss: 5.4065 - val_categorical_accuracy: 0.3862\n",
      "Epoch 13/20\n",
      "8419/8419 [==============================] - 66s 8ms/step - loss: 0.0958 - categorical_accuracy: 0.9873 - val_loss: 5.0909 - val_categorical_accuracy: 0.4014\n",
      "Epoch 14/20\n",
      "8419/8419 [==============================] - 66s 8ms/step - loss: 0.0968 - categorical_accuracy: 0.9879 - val_loss: 5.2709 - val_categorical_accuracy: 0.3924\n",
      "Epoch 15/20\n",
      "8419/8419 [==============================] - 66s 8ms/step - loss: 0.0861 - categorical_accuracy: 0.9914 - val_loss: 5.6480 - val_categorical_accuracy: 0.3990\n",
      "Epoch 16/20\n",
      "8419/8419 [==============================] - 66s 8ms/step - loss: 0.0969 - categorical_accuracy: 0.9895 - val_loss: 6.9470 - val_categorical_accuracy: 0.3971\n",
      "Epoch 17/20\n",
      "8419/8419 [==============================] - 66s 8ms/step - loss: 0.1346 - categorical_accuracy: 0.9859 - val_loss: 5.9635 - val_categorical_accuracy: 0.3829\n",
      "Epoch 18/20\n",
      "8419/8419 [==============================] - 66s 8ms/step - loss: 0.0811 - categorical_accuracy: 0.9916 - val_loss: 6.0376 - val_categorical_accuracy: 0.3976\n",
      "Epoch 19/20\n",
      "8419/8419 [==============================] - 66s 8ms/step - loss: 0.0751 - categorical_accuracy: 0.9922 - val_loss: 6.6545 - val_categorical_accuracy: 0.4128\n",
      "Epoch 20/20\n",
      "8419/8419 [==============================] - 67s 8ms/step - loss: 0.0899 - categorical_accuracy: 0.9912 - val_loss: 6.1284 - val_categorical_accuracy: 0.3824\n"
     ]
    }
   ],
   "source": [
    "model = Sequential()\n",
    "model.add(Embedding(vocabulario, dim_vetor, weights=[embedding_matrix], input_length=limite_texto, trainable=True))\n",
    "model.add(Conv1D(64, 7, activation='relu'))\n",
    "model.add(MaxPooling1D(5))\n",
    "model.add(Conv1D(32, 7, activation='relu'))\n",
    "model.add(MaxPooling1D(5))\n",
    "model.add(Flatten())\n",
    "model.add(Dense(256, activation='relu'))\n",
    "model.add(Dropout(0.2))\n",
    "model.add(Dense(y.shape[1], activation='softmax'))\n",
    "model.compile(loss='categorical_crossentropy', optimizer=RMSprop(),  metrics=[\"categorical_accuracy\"])\n",
    "model.summary()\n",
    "history = model.fit(x, y, epochs=20, batch_size=32, validation_split=0.2, verbose=1, shuffle=True)"
   ]
  },
  {
   "cell_type": "code",
   "execution_count": 12,
   "metadata": {},
   "outputs": [
    {
     "name": "stdout",
     "output_type": "stream",
     "text": [
      "_________________________________________________________________\n",
      "Layer (type)                 Output Shape              Param #   \n",
      "=================================================================\n",
      "embedding_4 (Embedding)      (None, 40000, 100)        34429700  \n",
      "_________________________________________________________________\n",
      "conv1d_7 (Conv1D)            (None, 39994, 64)         44864     \n",
      "_________________________________________________________________\n",
      "max_pooling1d_5 (MaxPooling1 (None, 7998, 64)          0         \n",
      "_________________________________________________________________\n",
      "conv1d_8 (Conv1D)            (None, 7992, 32)          14368     \n",
      "_________________________________________________________________\n",
      "max_pooling1d_6 (MaxPooling1 (None, 1598, 32)          0         \n",
      "_________________________________________________________________\n",
      "flatten_2 (Flatten)          (None, 51136)             0         \n",
      "_________________________________________________________________\n",
      "dense_5 (Dense)              (None, 1024)              52364288  \n",
      "_________________________________________________________________\n",
      "dropout_2 (Dropout)          (None, 1024)              0         \n",
      "_________________________________________________________________\n",
      "dense_6 (Dense)              (None, 128)               131200    \n",
      "_________________________________________________________________\n",
      "dropout_3 (Dropout)          (None, 128)               0         \n",
      "_________________________________________________________________\n",
      "dense_7 (Dense)              (None, 91)                11739     \n",
      "=================================================================\n",
      "Total params: 86,996,159\n",
      "Trainable params: 86,996,159\n",
      "Non-trainable params: 0\n",
      "_________________________________________________________________\n",
      "Train on 8419 samples, validate on 2105 samples\n",
      "Epoch 1/20\n",
      "8419/8419 [==============================] - 76s 9ms/step - loss: 2.4222 - categorical_accuracy: 0.3417 - val_loss: 1.9936 - val_categorical_accuracy: 0.3359\n",
      "Epoch 2/20\n",
      "8419/8419 [==============================] - 75s 9ms/step - loss: 1.8223 - categorical_accuracy: 0.5002 - val_loss: 1.8194 - val_categorical_accuracy: 0.4480\n",
      "Epoch 3/20\n",
      "8419/8419 [==============================] - 75s 9ms/step - loss: 1.4624 - categorical_accuracy: 0.5985 - val_loss: 1.9694 - val_categorical_accuracy: 0.4556\n",
      "Epoch 4/20\n",
      "8419/8419 [==============================] - 75s 9ms/step - loss: 1.0775 - categorical_accuracy: 0.6984 - val_loss: 2.3437 - val_categorical_accuracy: 0.4352\n",
      "Epoch 5/20\n",
      "8419/8419 [==============================] - 75s 9ms/step - loss: 0.7216 - categorical_accuracy: 0.8009 - val_loss: 4.2975 - val_categorical_accuracy: 0.3777\n",
      "Epoch 6/20\n",
      "8419/8419 [==============================] - 75s 9ms/step - loss: 0.4712 - categorical_accuracy: 0.8794 - val_loss: 3.3028 - val_categorical_accuracy: 0.3796\n",
      "Epoch 7/20\n",
      "8419/8419 [==============================] - 75s 9ms/step - loss: 0.3171 - categorical_accuracy: 0.9230 - val_loss: 4.4079 - val_categorical_accuracy: 0.4171\n",
      "Epoch 8/20\n",
      "8419/8419 [==============================] - 75s 9ms/step - loss: 0.2319 - categorical_accuracy: 0.9464 - val_loss: 4.1649 - val_categorical_accuracy: 0.4190\n",
      "Epoch 9/20\n",
      "8419/8419 [==============================] - 75s 9ms/step - loss: 0.1859 - categorical_accuracy: 0.9594 - val_loss: 4.9082 - val_categorical_accuracy: 0.3848\n",
      "Epoch 10/20\n",
      "8419/8419 [==============================] - 75s 9ms/step - loss: 0.1688 - categorical_accuracy: 0.9678 - val_loss: 5.8112 - val_categorical_accuracy: 0.3530\n",
      "Epoch 11/20\n",
      "8419/8419 [==============================] - 75s 9ms/step - loss: 0.1675 - categorical_accuracy: 0.9683 - val_loss: 5.6589 - val_categorical_accuracy: 0.3800\n",
      "Epoch 12/20\n",
      "8419/8419 [==============================] - 75s 9ms/step - loss: 0.1483 - categorical_accuracy: 0.9755 - val_loss: 5.4952 - val_categorical_accuracy: 0.3810\n",
      "Epoch 13/20\n",
      "8419/8419 [==============================] - 75s 9ms/step - loss: 0.1189 - categorical_accuracy: 0.9770 - val_loss: 4.9806 - val_categorical_accuracy: 0.4323\n",
      "Epoch 14/20\n",
      "8419/8419 [==============================] - 75s 9ms/step - loss: 0.1101 - categorical_accuracy: 0.9796 - val_loss: 5.1278 - val_categorical_accuracy: 0.4147\n",
      "Epoch 15/20\n",
      "8419/8419 [==============================] - 75s 9ms/step - loss: 0.1191 - categorical_accuracy: 0.9809 - val_loss: 6.0560 - val_categorical_accuracy: 0.3696\n",
      "Epoch 16/20\n",
      "8419/8419 [==============================] - 75s 9ms/step - loss: 0.0922 - categorical_accuracy: 0.9837 - val_loss: 7.6559 - val_categorical_accuracy: 0.3905\n",
      "Epoch 17/20\n",
      "8419/8419 [==============================] - 75s 9ms/step - loss: 0.0999 - categorical_accuracy: 0.9836 - val_loss: 6.4449 - val_categorical_accuracy: 0.3976\n",
      "Epoch 18/20\n",
      "8419/8419 [==============================] - 76s 9ms/step - loss: 0.0827 - categorical_accuracy: 0.9872 - val_loss: 6.1723 - val_categorical_accuracy: 0.3990\n",
      "Epoch 19/20\n",
      "8419/8419 [==============================] - 76s 9ms/step - loss: 0.0912 - categorical_accuracy: 0.9862 - val_loss: 6.7585 - val_categorical_accuracy: 0.4090\n",
      "Epoch 20/20\n",
      "8419/8419 [==============================] - 76s 9ms/step - loss: 0.0843 - categorical_accuracy: 0.9867 - val_loss: 5.7749 - val_categorical_accuracy: 0.3791\n"
     ]
    }
   ],
   "source": [
    "model = Sequential()\n",
    "model.add(Embedding(vocabulario, dim_vetor, weights=[embedding_matrix], input_length=limite_texto, trainable=True))\n",
    "model.add(Conv1D(64, 7, activation='relu'))\n",
    "model.add(MaxPooling1D(5))\n",
    "model.add(Conv1D(32, 7, activation='relu'))\n",
    "model.add(MaxPooling1D(5))\n",
    "model.add(Flatten())\n",
    "model.add(Dense(1024, activation='relu'))\n",
    "model.add(Dropout(0.2))\n",
    "model.add(Dense(128, activation='relu'))\n",
    "model.add(Dropout(0.2))\n",
    "model.add(Dense(y.shape[1], activation='softmax'))\n",
    "model.compile(loss='categorical_crossentropy', optimizer=RMSprop(),  metrics=[\"categorical_accuracy\"])\n",
    "model.summary()\n",
    "history = model.fit(x, y, epochs=20, batch_size=32, validation_split=0.2, verbose=1, shuffle=True)"
   ]
  },
  {
   "cell_type": "code",
   "execution_count": null,
   "metadata": {},
   "outputs": [],
   "source": []
  }
 ],
 "metadata": {
  "kernelspec": {
   "display_name": "Python 3",
   "language": "python",
   "name": "python3"
  },
  "language_info": {
   "codemirror_mode": {
    "name": "ipython",
    "version": 3
   },
   "file_extension": ".py",
   "mimetype": "text/x-python",
   "name": "python",
   "nbconvert_exporter": "python",
   "pygments_lexer": "ipython3",
   "version": "3.7.4"
  }
 },
 "nbformat": 4,
 "nbformat_minor": 2
}
