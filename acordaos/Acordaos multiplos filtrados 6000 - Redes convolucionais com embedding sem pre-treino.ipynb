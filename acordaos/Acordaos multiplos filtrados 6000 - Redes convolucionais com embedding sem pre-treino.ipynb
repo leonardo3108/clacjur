{
 "cells": [
  {
   "cell_type": "markdown",
   "metadata": {},
   "source": [
    "# Importação e preparação dos dados"
   ]
  },
  {
   "cell_type": "code",
   "execution_count": 1,
   "metadata": {},
   "outputs": [
    {
     "data": {
      "text/html": [
       "<div>\n",
       "<style scoped>\n",
       "    .dataframe tbody tr th:only-of-type {\n",
       "        vertical-align: middle;\n",
       "    }\n",
       "\n",
       "    .dataframe tbody tr th {\n",
       "        vertical-align: top;\n",
       "    }\n",
       "\n",
       "    .dataframe thead th {\n",
       "        text-align: right;\n",
       "    }\n",
       "</style>\n",
       "<table border=\"1\" class=\"dataframe\">\n",
       "  <thead>\n",
       "    <tr style=\"text-align: right;\">\n",
       "      <th></th>\n",
       "      <th>acordao</th>\n",
       "      <th>areas</th>\n",
       "      <th>filtrado_6000</th>\n",
       "    </tr>\n",
       "  </thead>\n",
       "  <tbody>\n",
       "    <tr>\n",
       "      <th>0</th>\n",
       "      <td>297/2016-P</td>\n",
       "      <td>Responsabilidade</td>\n",
       "      <td>tribunal conta união tc grupo classe plenário ...</td>\n",
       "    </tr>\n",
       "    <tr>\n",
       "      <th>1</th>\n",
       "      <td>366/2016-P</td>\n",
       "      <td>Finanças Públicas</td>\n",
       "      <td>tribunal conta união tc grupo classe ii plenár...</td>\n",
       "    </tr>\n",
       "    <tr>\n",
       "      <th>2</th>\n",
       "      <td>944/2016-P</td>\n",
       "      <td>Responsabilidade</td>\n",
       "      <td>tribunal conta união tc grupo classe plenário ...</td>\n",
       "    </tr>\n",
       "    <tr>\n",
       "      <th>3</th>\n",
       "      <td>30/2016-P</td>\n",
       "      <td>Direito Processual</td>\n",
       "      <td>tribunal conta união tc grupo classe plenário ...</td>\n",
       "    </tr>\n",
       "    <tr>\n",
       "      <th>4</th>\n",
       "      <td>55/2016-P</td>\n",
       "      <td>Pessoal</td>\n",
       "      <td>wania lucia pasquarelli nascimentotcuwania luc...</td>\n",
       "    </tr>\n",
       "  </tbody>\n",
       "</table>\n",
       "</div>"
      ],
      "text/plain": [
       "      acordao               areas  \\\n",
       "0  297/2016-P    Responsabilidade   \n",
       "1  366/2016-P   Finanças Públicas   \n",
       "2  944/2016-P    Responsabilidade   \n",
       "3   30/2016-P  Direito Processual   \n",
       "4   55/2016-P             Pessoal   \n",
       "\n",
       "                                       filtrado_6000  \n",
       "0  tribunal conta união tc grupo classe plenário ...  \n",
       "1  tribunal conta união tc grupo classe ii plenár...  \n",
       "2  tribunal conta união tc grupo classe plenário ...  \n",
       "3  tribunal conta união tc grupo classe plenário ...  \n",
       "4  wania lucia pasquarelli nascimentotcuwania luc...  "
      ]
     },
     "execution_count": 1,
     "metadata": {},
     "output_type": "execute_result"
    }
   ],
   "source": [
    "import pandas as pd\n",
    "\n",
    "df = pd.read_csv('../dados/acordaos-selecionada-filtrados-6000.csv', sep = '|')\n",
    "df['filtrado_6000']=df['filtrado_6000'].astype(str)\n",
    "df.head()"
   ]
  },
  {
   "cell_type": "code",
   "execution_count": 2,
   "metadata": {},
   "outputs": [
    {
     "data": {
      "text/plain": [
       "(10524, 3)"
      ]
     },
     "execution_count": 2,
     "metadata": {},
     "output_type": "execute_result"
    }
   ],
   "source": [
    "df.shape"
   ]
  },
  {
   "cell_type": "code",
   "execution_count": 3,
   "metadata": {},
   "outputs": [
    {
     "data": {
      "text/plain": [
       "(10524, 91)"
      ]
     },
     "execution_count": 3,
     "metadata": {},
     "output_type": "execute_result"
    }
   ],
   "source": [
    "from sklearn.preprocessing import LabelBinarizer\n",
    "\n",
    "areas = df.groupby(['areas']).groups.keys()\n",
    "lbArea = LabelBinarizer()\n",
    "lbArea.fit([x for x in areas])\n",
    "y = lbArea.transform(df['areas'])\n",
    "y.shape"
   ]
  },
  {
   "cell_type": "code",
   "execution_count": 4,
   "metadata": {},
   "outputs": [
    {
     "name": "stderr",
     "output_type": "stream",
     "text": [
      "Using TensorFlow backend.\n"
     ]
    },
    {
     "name": "stdout",
     "output_type": "stream",
     "text": [
      "Found 102108 unique tokens.\n"
     ]
    }
   ],
   "source": [
    "from keras.preprocessing.text import Tokenizer\n",
    "import numpy as np\n",
    "\n",
    "vocabulario = 105000\n",
    "limite_texto = 6000\n",
    "dim_vetor = 100\n",
    "\n",
    "tokenizer = Tokenizer(num_words=vocabulario)\n",
    "tokenizer.fit_on_texts(df['filtrado_6000'])\n",
    "\n",
    "sequences = tokenizer.texts_to_sequences(df['filtrado_6000'])\n",
    "\n",
    "word_index = tokenizer.word_index\n",
    "vocabulario = len(word_index) + 1\n",
    "print('Found %s unique tokens.' % len(word_index))"
   ]
  },
  {
   "cell_type": "code",
   "execution_count": 5,
   "metadata": {},
   "outputs": [
    {
     "name": "stdout",
     "output_type": "stream",
     "text": [
      "Shape of data tensor: (10524, 6000)\n"
     ]
    }
   ],
   "source": [
    "from keras.preprocessing.sequence import pad_sequences\n",
    "\n",
    "x = pad_sequences(sequences, maxlen=limite_texto)\n",
    "\n",
    "print('Shape of data tensor:', x.shape)"
   ]
  },
  {
   "cell_type": "code",
   "execution_count": 6,
   "metadata": {},
   "outputs": [
    {
     "data": {
      "text/plain": [
       "((10524, 6000), (10524, 91))"
      ]
     },
     "execution_count": 6,
     "metadata": {},
     "output_type": "execute_result"
    }
   ],
   "source": [
    "x.shape, y.shape"
   ]
  },
  {
   "cell_type": "markdown",
   "metadata": {},
   "source": [
    "# Treinamento"
   ]
  },
  {
   "cell_type": "code",
   "execution_count": 7,
   "metadata": {
    "scrolled": false
   },
   "outputs": [
    {
     "name": "stderr",
     "output_type": "stream",
     "text": [
      "WARNING: Logging before flag parsing goes to stderr.\n",
      "W0314 22:05:46.768412 140447630686016 deprecation_wrapper.py:119] From /home/leonardo/anaconda3/envs/gpu/lib/python3.7/site-packages/keras/backend/tensorflow_backend.py:74: The name tf.get_default_graph is deprecated. Please use tf.compat.v1.get_default_graph instead.\n",
      "\n",
      "W0314 22:05:46.781742 140447630686016 deprecation_wrapper.py:119] From /home/leonardo/anaconda3/envs/gpu/lib/python3.7/site-packages/keras/backend/tensorflow_backend.py:517: The name tf.placeholder is deprecated. Please use tf.compat.v1.placeholder instead.\n",
      "\n",
      "W0314 22:05:46.787326 140447630686016 deprecation_wrapper.py:119] From /home/leonardo/anaconda3/envs/gpu/lib/python3.7/site-packages/keras/backend/tensorflow_backend.py:4138: The name tf.random_uniform is deprecated. Please use tf.random.uniform instead.\n",
      "\n",
      "W0314 22:05:46.813315 140447630686016 deprecation_wrapper.py:119] From /home/leonardo/anaconda3/envs/gpu/lib/python3.7/site-packages/keras/backend/tensorflow_backend.py:3976: The name tf.nn.max_pool is deprecated. Please use tf.nn.max_pool2d instead.\n",
      "\n",
      "W0314 22:05:46.832646 140447630686016 deprecation_wrapper.py:119] From /home/leonardo/anaconda3/envs/gpu/lib/python3.7/site-packages/keras/backend/tensorflow_backend.py:133: The name tf.placeholder_with_default is deprecated. Please use tf.compat.v1.placeholder_with_default instead.\n",
      "\n",
      "W0314 22:05:46.840004 140447630686016 deprecation.py:506] From /home/leonardo/anaconda3/envs/gpu/lib/python3.7/site-packages/keras/backend/tensorflow_backend.py:3445: calling dropout (from tensorflow.python.ops.nn_ops) with keep_prob is deprecated and will be removed in a future version.\n",
      "Instructions for updating:\n",
      "Please use `rate` instead of `keep_prob`. Rate should be set to `rate = 1 - keep_prob`.\n",
      "W0314 22:05:46.889543 140447630686016 deprecation_wrapper.py:119] From /home/leonardo/anaconda3/envs/gpu/lib/python3.7/site-packages/keras/optimizers.py:790: The name tf.train.Optimizer is deprecated. Please use tf.compat.v1.train.Optimizer instead.\n",
      "\n",
      "W0314 22:05:46.895885 140447630686016 deprecation_wrapper.py:119] From /home/leonardo/anaconda3/envs/gpu/lib/python3.7/site-packages/keras/backend/tensorflow_backend.py:3295: The name tf.log is deprecated. Please use tf.math.log instead.\n",
      "\n",
      "W0314 22:05:46.974253 140447630686016 deprecation.py:323] From /home/leonardo/anaconda3/envs/gpu/lib/python3.7/site-packages/tensorflow/python/ops/math_grad.py:1250: add_dispatch_support.<locals>.wrapper (from tensorflow.python.ops.array_ops) is deprecated and will be removed in a future version.\n",
      "Instructions for updating:\n",
      "Use tf.where in 2.0, which has the same broadcast rule as np.where\n"
     ]
    },
    {
     "name": "stdout",
     "output_type": "stream",
     "text": [
      "_________________________________________________________________\n",
      "Layer (type)                 Output Shape              Param #   \n",
      "=================================================================\n",
      "embedding_1 (Embedding)      (None, 6000, 100)         10210900  \n",
      "_________________________________________________________________\n",
      "conv1d_1 (Conv1D)            (None, 5994, 32)          22432     \n",
      "_________________________________________________________________\n",
      "max_pooling1d_1 (MaxPooling1 (None, 1198, 32)          0         \n",
      "_________________________________________________________________\n",
      "flatten_1 (Flatten)          (None, 38336)             0         \n",
      "_________________________________________________________________\n",
      "dense_1 (Dense)              (None, 256)               9814272   \n",
      "_________________________________________________________________\n",
      "dropout_1 (Dropout)          (None, 256)               0         \n",
      "_________________________________________________________________\n",
      "dense_2 (Dense)              (None, 91)                23387     \n",
      "=================================================================\n",
      "Total params: 20,070,991\n",
      "Trainable params: 20,070,991\n",
      "Non-trainable params: 0\n",
      "_________________________________________________________________\n",
      "Train on 8419 samples, validate on 2105 samples\n",
      "Epoch 1/20\n",
      "8419/8419 [==============================] - 12s 1ms/step - loss: 1.7138 - categorical_accuracy: 0.5467 - val_loss: 1.5188 - val_categorical_accuracy: 0.5743\n",
      "Epoch 2/20\n",
      "8419/8419 [==============================] - 9s 1ms/step - loss: 1.0619 - categorical_accuracy: 0.7012 - val_loss: 1.5853 - val_categorical_accuracy: 0.5805\n",
      "Epoch 3/20\n",
      "8419/8419 [==============================] - 9s 1ms/step - loss: 0.5684 - categorical_accuracy: 0.8495 - val_loss: 1.9608 - val_categorical_accuracy: 0.5235\n",
      "Epoch 4/20\n",
      "8419/8419 [==============================] - 9s 1ms/step - loss: 0.2699 - categorical_accuracy: 0.9375 - val_loss: 2.0049 - val_categorical_accuracy: 0.5995\n",
      "Epoch 5/20\n",
      "8419/8419 [==============================] - 9s 1ms/step - loss: 0.1547 - categorical_accuracy: 0.9652 - val_loss: 2.5731 - val_categorical_accuracy: 0.5758\n",
      "Epoch 6/20\n",
      "8419/8419 [==============================] - 9s 1ms/step - loss: 0.1209 - categorical_accuracy: 0.9753 - val_loss: 2.7902 - val_categorical_accuracy: 0.5857\n",
      "Epoch 7/20\n",
      "8419/8419 [==============================] - 9s 1ms/step - loss: 0.1024 - categorical_accuracy: 0.9772 - val_loss: 2.7682 - val_categorical_accuracy: 0.5872\n",
      "Epoch 8/20\n",
      "8419/8419 [==============================] - 9s 1ms/step - loss: 0.0918 - categorical_accuracy: 0.9795 - val_loss: 3.1783 - val_categorical_accuracy: 0.5986\n",
      "Epoch 9/20\n",
      "8419/8419 [==============================] - 9s 1ms/step - loss: 0.0705 - categorical_accuracy: 0.9846 - val_loss: 2.8534 - val_categorical_accuracy: 0.5549\n",
      "Epoch 10/20\n",
      "8419/8419 [==============================] - 9s 1ms/step - loss: 0.0713 - categorical_accuracy: 0.9854 - val_loss: 3.3256 - val_categorical_accuracy: 0.5615\n",
      "Epoch 11/20\n",
      "8419/8419 [==============================] - 9s 1ms/step - loss: 0.0505 - categorical_accuracy: 0.9881 - val_loss: 3.5214 - val_categorical_accuracy: 0.5610\n",
      "Epoch 12/20\n",
      "8419/8419 [==============================] - 9s 1ms/step - loss: 0.0486 - categorical_accuracy: 0.9886 - val_loss: 3.5913 - val_categorical_accuracy: 0.5857\n",
      "Epoch 13/20\n",
      "8419/8419 [==============================] - 9s 1ms/step - loss: 0.0476 - categorical_accuracy: 0.9885 - val_loss: 3.5350 - val_categorical_accuracy: 0.5948\n",
      "Epoch 14/20\n",
      "8419/8419 [==============================] - 9s 1ms/step - loss: 0.0541 - categorical_accuracy: 0.9897 - val_loss: 4.0042 - val_categorical_accuracy: 0.5710\n",
      "Epoch 15/20\n",
      "8419/8419 [==============================] - 9s 1ms/step - loss: 0.0356 - categorical_accuracy: 0.9924 - val_loss: 3.7925 - val_categorical_accuracy: 0.5853\n",
      "Epoch 16/20\n",
      "8419/8419 [==============================] - 9s 1ms/step - loss: 0.0255 - categorical_accuracy: 0.9952 - val_loss: 3.8978 - val_categorical_accuracy: 0.5895\n",
      "Epoch 17/20\n",
      "8419/8419 [==============================] - 9s 1ms/step - loss: 0.0386 - categorical_accuracy: 0.9925 - val_loss: 4.8894 - val_categorical_accuracy: 0.5064\n",
      "Epoch 18/20\n",
      "8419/8419 [==============================] - 9s 1ms/step - loss: 0.0319 - categorical_accuracy: 0.9939 - val_loss: 4.3896 - val_categorical_accuracy: 0.5268\n",
      "Epoch 19/20\n",
      "8419/8419 [==============================] - 9s 1ms/step - loss: 0.0290 - categorical_accuracy: 0.9943 - val_loss: 3.9706 - val_categorical_accuracy: 0.5549\n",
      "Epoch 20/20\n",
      "8419/8419 [==============================] - 9s 1ms/step - loss: 0.0266 - categorical_accuracy: 0.9947 - val_loss: 4.2437 - val_categorical_accuracy: 0.5615\n"
     ]
    }
   ],
   "source": [
    "from keras.models import Sequential\n",
    "from keras.layers import Embedding, Conv1D, MaxPooling1D, Dense, GlobalMaxPooling1D, Flatten\n",
    "from keras.optimizers import RMSprop\n",
    "from keras.layers.core import Dropout\n",
    "\n",
    "model = Sequential()\n",
    "model.add(Embedding(vocabulario, dim_vetor, input_length=x.shape[1]))\n",
    "model.add(Conv1D(32, 7, activation='relu'))\n",
    "model.add(MaxPooling1D(5))\n",
    "model.add(Flatten())\n",
    "model.add(Dense(256, activation='relu'))\n",
    "model.add(Dropout(0.2))\n",
    "model.add(Dense(y.shape[1], activation='softmax'))\n",
    "model.compile(loss='categorical_crossentropy', optimizer=RMSprop(),  metrics=[\"categorical_accuracy\"])\n",
    "model.summary()\n",
    "history = model.fit(x, y, epochs=20, batch_size=32, validation_split=0.2, verbose=1, shuffle=True)"
   ]
  },
  {
   "cell_type": "code",
   "execution_count": 8,
   "metadata": {},
   "outputs": [
    {
     "name": "stdout",
     "output_type": "stream",
     "text": [
      "_________________________________________________________________\n",
      "Layer (type)                 Output Shape              Param #   \n",
      "=================================================================\n",
      "embedding_2 (Embedding)      (None, 6000, 100)         10210900  \n",
      "_________________________________________________________________\n",
      "conv1d_2 (Conv1D)            (None, 5994, 64)          44864     \n",
      "_________________________________________________________________\n",
      "max_pooling1d_2 (MaxPooling1 (None, 1198, 64)          0         \n",
      "_________________________________________________________________\n",
      "flatten_2 (Flatten)          (None, 76672)             0         \n",
      "_________________________________________________________________\n",
      "dense_3 (Dense)              (None, 256)               19628288  \n",
      "_________________________________________________________________\n",
      "dropout_2 (Dropout)          (None, 256)               0         \n",
      "_________________________________________________________________\n",
      "dense_4 (Dense)              (None, 91)                23387     \n",
      "=================================================================\n",
      "Total params: 29,907,439\n",
      "Trainable params: 29,907,439\n",
      "Non-trainable params: 0\n",
      "_________________________________________________________________\n",
      "Train on 8419 samples, validate on 2105 samples\n",
      "Epoch 1/20\n",
      "8419/8419 [==============================] - 15s 2ms/step - loss: 1.7346 - categorical_accuracy: 0.5548 - val_loss: 1.6764 - val_categorical_accuracy: 0.5672\n",
      "Epoch 2/20\n",
      "8419/8419 [==============================] - 14s 2ms/step - loss: 1.0320 - categorical_accuracy: 0.7080 - val_loss: 2.0136 - val_categorical_accuracy: 0.4898\n",
      "Epoch 3/20\n",
      "8419/8419 [==============================] - 14s 2ms/step - loss: 0.5038 - categorical_accuracy: 0.8704 - val_loss: 1.7659 - val_categorical_accuracy: 0.5496\n",
      "Epoch 4/20\n",
      "8419/8419 [==============================] - 14s 2ms/step - loss: 0.2378 - categorical_accuracy: 0.9458 - val_loss: 2.0467 - val_categorical_accuracy: 0.5192\n",
      "Epoch 5/20\n",
      "8419/8419 [==============================] - 14s 2ms/step - loss: 0.1512 - categorical_accuracy: 0.9675 - val_loss: 2.3999 - val_categorical_accuracy: 0.5838\n",
      "Epoch 6/20\n",
      "8419/8419 [==============================] - 14s 2ms/step - loss: 0.1158 - categorical_accuracy: 0.9746 - val_loss: 2.6994 - val_categorical_accuracy: 0.6119\n",
      "Epoch 7/20\n",
      "8419/8419 [==============================] - 14s 2ms/step - loss: 0.0944 - categorical_accuracy: 0.9793 - val_loss: 2.9203 - val_categorical_accuracy: 0.5957\n",
      "Epoch 8/20\n",
      "8419/8419 [==============================] - 14s 2ms/step - loss: 0.0721 - categorical_accuracy: 0.9822 - val_loss: 3.3848 - val_categorical_accuracy: 0.5615\n",
      "Epoch 9/20\n",
      "8419/8419 [==============================] - 14s 2ms/step - loss: 0.0646 - categorical_accuracy: 0.9856 - val_loss: 3.6570 - val_categorical_accuracy: 0.5767\n",
      "Epoch 10/20\n",
      "8419/8419 [==============================] - 14s 2ms/step - loss: 0.0643 - categorical_accuracy: 0.9862 - val_loss: 3.8514 - val_categorical_accuracy: 0.5197\n",
      "Epoch 11/20\n",
      "8419/8419 [==============================] - 14s 2ms/step - loss: 0.0600 - categorical_accuracy: 0.9859 - val_loss: 3.7260 - val_categorical_accuracy: 0.5862\n",
      "Epoch 12/20\n",
      "8419/8419 [==============================] - 14s 2ms/step - loss: 0.0558 - categorical_accuracy: 0.9885 - val_loss: 3.7858 - val_categorical_accuracy: 0.5582\n",
      "Epoch 13/20\n",
      "8419/8419 [==============================] - 14s 2ms/step - loss: 0.0437 - categorical_accuracy: 0.9895 - val_loss: 3.9311 - val_categorical_accuracy: 0.5629\n",
      "Epoch 14/20\n",
      "8419/8419 [==============================] - 14s 2ms/step - loss: 0.0402 - categorical_accuracy: 0.9907 - val_loss: 4.2827 - val_categorical_accuracy: 0.5287\n",
      "Epoch 15/20\n",
      "8419/8419 [==============================] - 14s 2ms/step - loss: 0.0375 - categorical_accuracy: 0.9920 - val_loss: 3.9058 - val_categorical_accuracy: 0.5720\n",
      "Epoch 16/20\n",
      "8419/8419 [==============================] - 14s 2ms/step - loss: 0.0327 - categorical_accuracy: 0.9929 - val_loss: 3.8319 - val_categorical_accuracy: 0.5867\n",
      "Epoch 17/20\n",
      "8419/8419 [==============================] - 14s 2ms/step - loss: 0.0310 - categorical_accuracy: 0.9929 - val_loss: 4.0958 - val_categorical_accuracy: 0.5601\n",
      "Epoch 18/20\n",
      "8419/8419 [==============================] - 14s 2ms/step - loss: 0.0386 - categorical_accuracy: 0.9920 - val_loss: 3.6614 - val_categorical_accuracy: 0.5696\n",
      "Epoch 19/20\n",
      "8419/8419 [==============================] - 14s 2ms/step - loss: 0.0363 - categorical_accuracy: 0.9923 - val_loss: 4.6005 - val_categorical_accuracy: 0.5249\n",
      "Epoch 20/20\n",
      "8419/8419 [==============================] - 14s 2ms/step - loss: 0.0329 - categorical_accuracy: 0.9931 - val_loss: 4.0496 - val_categorical_accuracy: 0.5582\n"
     ]
    }
   ],
   "source": [
    "model = Sequential()\n",
    "model.add(Embedding(vocabulario, dim_vetor, input_length=x.shape[1]))\n",
    "model.add(Conv1D(64, 7, activation='relu'))\n",
    "model.add(MaxPooling1D(5))\n",
    "model.add(Flatten())\n",
    "model.add(Dense(256, activation='relu'))\n",
    "model.add(Dropout(0.2))\n",
    "model.add(Dense(y.shape[1], activation='softmax'))\n",
    "model.compile(loss='categorical_crossentropy', optimizer=RMSprop(),  metrics=[\"categorical_accuracy\"])\n",
    "model.summary()\n",
    "history = model.fit(x, y, epochs=20, batch_size=32, validation_split=0.2, verbose=1, shuffle=True)"
   ]
  },
  {
   "cell_type": "code",
   "execution_count": 9,
   "metadata": {
    "scrolled": false
   },
   "outputs": [
    {
     "name": "stdout",
     "output_type": "stream",
     "text": [
      "_________________________________________________________________\n",
      "Layer (type)                 Output Shape              Param #   \n",
      "=================================================================\n",
      "embedding_3 (Embedding)      (None, 6000, 100)         10210900  \n",
      "_________________________________________________________________\n",
      "conv1d_3 (Conv1D)            (None, 5994, 32)          22432     \n",
      "_________________________________________________________________\n",
      "max_pooling1d_3 (MaxPooling1 (None, 1198, 32)          0         \n",
      "_________________________________________________________________\n",
      "flatten_3 (Flatten)          (None, 38336)             0         \n",
      "_________________________________________________________________\n",
      "dense_5 (Dense)              (None, 1024)              39257088  \n",
      "_________________________________________________________________\n",
      "dropout_3 (Dropout)          (None, 1024)              0         \n",
      "_________________________________________________________________\n",
      "dense_6 (Dense)              (None, 128)               131200    \n",
      "_________________________________________________________________\n",
      "dropout_4 (Dropout)          (None, 128)               0         \n",
      "_________________________________________________________________\n",
      "dense_7 (Dense)              (None, 91)                11739     \n",
      "=================================================================\n",
      "Total params: 49,633,359\n",
      "Trainable params: 49,633,359\n",
      "Non-trainable params: 0\n",
      "_________________________________________________________________\n",
      "Train on 8419 samples, validate on 2105 samples\n",
      "Epoch 1/20\n",
      "8419/8419 [==============================] - 16s 2ms/step - loss: 1.8645 - categorical_accuracy: 0.5182 - val_loss: 1.6062 - val_categorical_accuracy: 0.5962\n",
      "Epoch 2/20\n",
      "8419/8419 [==============================] - 14s 2ms/step - loss: 1.1626 - categorical_accuracy: 0.6691 - val_loss: 1.4041 - val_categorical_accuracy: 0.6147\n",
      "Epoch 3/20\n",
      "8419/8419 [==============================] - 14s 2ms/step - loss: 0.6208 - categorical_accuracy: 0.8271 - val_loss: 1.9588 - val_categorical_accuracy: 0.5772\n",
      "Epoch 4/20\n",
      "8419/8419 [==============================] - 15s 2ms/step - loss: 0.3198 - categorical_accuracy: 0.9203 - val_loss: 2.2078 - val_categorical_accuracy: 0.5477\n",
      "Epoch 5/20\n",
      "8419/8419 [==============================] - 15s 2ms/step - loss: 0.2251 - categorical_accuracy: 0.9467 - val_loss: 2.8623 - val_categorical_accuracy: 0.5544\n",
      "Epoch 6/20\n",
      "8419/8419 [==============================] - 15s 2ms/step - loss: 0.1746 - categorical_accuracy: 0.9602 - val_loss: 4.4247 - val_categorical_accuracy: 0.5050\n",
      "Epoch 7/20\n",
      "8419/8419 [==============================] - 15s 2ms/step - loss: 0.1613 - categorical_accuracy: 0.9641 - val_loss: 3.7145 - val_categorical_accuracy: 0.5539\n",
      "Epoch 8/20\n",
      "8419/8419 [==============================] - 15s 2ms/step - loss: 0.1442 - categorical_accuracy: 0.9689 - val_loss: 3.4631 - val_categorical_accuracy: 0.6048\n",
      "Epoch 9/20\n",
      "8419/8419 [==============================] - 15s 2ms/step - loss: 0.1405 - categorical_accuracy: 0.9695 - val_loss: 3.3199 - val_categorical_accuracy: 0.5321\n",
      "Epoch 10/20\n",
      "8419/8419 [==============================] - 15s 2ms/step - loss: 0.1245 - categorical_accuracy: 0.9732 - val_loss: 3.9329 - val_categorical_accuracy: 0.5211\n",
      "Epoch 11/20\n",
      "8419/8419 [==============================] - 15s 2ms/step - loss: 0.1077 - categorical_accuracy: 0.9751 - val_loss: 4.1546 - val_categorical_accuracy: 0.5834\n",
      "Epoch 12/20\n",
      "8419/8419 [==============================] - 15s 2ms/step - loss: 0.1032 - categorical_accuracy: 0.9757 - val_loss: 4.2283 - val_categorical_accuracy: 0.5283\n",
      "Epoch 13/20\n",
      "8419/8419 [==============================] - 15s 2ms/step - loss: 0.1040 - categorical_accuracy: 0.9764 - val_loss: 4.3565 - val_categorical_accuracy: 0.5159\n",
      "Epoch 14/20\n",
      "8419/8419 [==============================] - 15s 2ms/step - loss: 0.0898 - categorical_accuracy: 0.9823 - val_loss: 4.4970 - val_categorical_accuracy: 0.5017\n",
      "Epoch 15/20\n",
      "8419/8419 [==============================] - 15s 2ms/step - loss: 0.0779 - categorical_accuracy: 0.9822 - val_loss: 3.7975 - val_categorical_accuracy: 0.5097\n",
      "Epoch 16/20\n",
      "8419/8419 [==============================] - 15s 2ms/step - loss: 0.0860 - categorical_accuracy: 0.9825 - val_loss: 4.1661 - val_categorical_accuracy: 0.5420\n",
      "Epoch 17/20\n",
      "8419/8419 [==============================] - 15s 2ms/step - loss: 0.0699 - categorical_accuracy: 0.9857 - val_loss: 4.3840 - val_categorical_accuracy: 0.5378\n",
      "Epoch 18/20\n",
      "8419/8419 [==============================] - 15s 2ms/step - loss: 0.0869 - categorical_accuracy: 0.9823 - val_loss: 4.7582 - val_categorical_accuracy: 0.5026\n",
      "Epoch 19/20\n",
      "8419/8419 [==============================] - 15s 2ms/step - loss: 0.0724 - categorical_accuracy: 0.9856 - val_loss: 4.3126 - val_categorical_accuracy: 0.5549\n",
      "Epoch 20/20\n",
      "8419/8419 [==============================] - 15s 2ms/step - loss: 0.0697 - categorical_accuracy: 0.9862 - val_loss: 5.2870 - val_categorical_accuracy: 0.4850\n"
     ]
    }
   ],
   "source": [
    "model = Sequential()\n",
    "model.add(Embedding(vocabulario, dim_vetor, input_length=x.shape[1]))\n",
    "model.add(Conv1D(32, 7, activation='relu'))\n",
    "model.add(MaxPooling1D(5))\n",
    "model.add(Flatten())\n",
    "model.add(Dense(1024, activation='relu'))\n",
    "model.add(Dropout(0.2))\n",
    "model.add(Dense(128, activation='relu'))\n",
    "model.add(Dropout(0.2))\n",
    "model.add(Dense(y.shape[1], activation='softmax'))\n",
    "model.compile(loss='categorical_crossentropy', optimizer=RMSprop(),  metrics=[\"categorical_accuracy\"])\n",
    "model.summary()\n",
    "history = model.fit(x, y, epochs=20, batch_size=32, validation_split=0.2, verbose=1, shuffle=True)"
   ]
  },
  {
   "cell_type": "code",
   "execution_count": 10,
   "metadata": {
    "scrolled": false
   },
   "outputs": [
    {
     "name": "stdout",
     "output_type": "stream",
     "text": [
      "_________________________________________________________________\n",
      "Layer (type)                 Output Shape              Param #   \n",
      "=================================================================\n",
      "embedding_4 (Embedding)      (None, 6000, 100)         10210900  \n",
      "_________________________________________________________________\n",
      "conv1d_4 (Conv1D)            (None, 5994, 64)          44864     \n",
      "_________________________________________________________________\n",
      "max_pooling1d_4 (MaxPooling1 (None, 1198, 64)          0         \n",
      "_________________________________________________________________\n",
      "conv1d_5 (Conv1D)            (None, 1192, 32)          14368     \n",
      "_________________________________________________________________\n",
      "max_pooling1d_5 (MaxPooling1 (None, 238, 32)           0         \n",
      "_________________________________________________________________\n",
      "flatten_4 (Flatten)          (None, 7616)              0         \n",
      "_________________________________________________________________\n",
      "dense_8 (Dense)              (None, 1024)              7799808   \n",
      "_________________________________________________________________\n",
      "dropout_5 (Dropout)          (None, 1024)              0         \n",
      "_________________________________________________________________\n",
      "dense_9 (Dense)              (None, 128)               131200    \n",
      "_________________________________________________________________\n",
      "dropout_6 (Dropout)          (None, 128)               0         \n",
      "_________________________________________________________________\n",
      "dense_10 (Dense)             (None, 91)                11739     \n",
      "=================================================================\n",
      "Total params: 18,212,879\n",
      "Trainable params: 18,212,879\n",
      "Non-trainable params: 0\n",
      "_________________________________________________________________\n",
      "Train on 8419 samples, validate on 2105 samples\n",
      "Epoch 1/20\n",
      "8419/8419 [==============================] - 13s 1ms/step - loss: 1.8440 - categorical_accuracy: 0.5050 - val_loss: 2.0488 - val_categorical_accuracy: 0.3914\n",
      "Epoch 2/20\n",
      "8419/8419 [==============================] - 12s 1ms/step - loss: 1.3604 - categorical_accuracy: 0.6226 - val_loss: 1.4013 - val_categorical_accuracy: 0.6052\n",
      "Epoch 3/20\n",
      "8419/8419 [==============================] - 12s 1ms/step - loss: 1.1025 - categorical_accuracy: 0.6959 - val_loss: 1.6411 - val_categorical_accuracy: 0.6147\n",
      "Epoch 4/20\n",
      "8419/8419 [==============================] - 12s 1ms/step - loss: 0.8363 - categorical_accuracy: 0.7626 - val_loss: 4.1515 - val_categorical_accuracy: 0.4219\n",
      "Epoch 5/20\n",
      "8419/8419 [==============================] - 12s 1ms/step - loss: 0.5940 - categorical_accuracy: 0.8290 - val_loss: 2.3486 - val_categorical_accuracy: 0.5715\n",
      "Epoch 6/20\n",
      "8419/8419 [==============================] - 12s 1ms/step - loss: 0.4306 - categorical_accuracy: 0.8856 - val_loss: 2.4881 - val_categorical_accuracy: 0.5515\n",
      "Epoch 7/20\n",
      "8419/8419 [==============================] - 12s 1ms/step - loss: 0.3373 - categorical_accuracy: 0.9121 - val_loss: 2.6448 - val_categorical_accuracy: 0.6090\n",
      "Epoch 8/20\n",
      "8419/8419 [==============================] - 12s 1ms/step - loss: 0.2840 - categorical_accuracy: 0.9275 - val_loss: 3.2625 - val_categorical_accuracy: 0.4513\n",
      "Epoch 9/20\n",
      "8419/8419 [==============================] - 12s 1ms/step - loss: 0.2651 - categorical_accuracy: 0.9376 - val_loss: 2.7506 - val_categorical_accuracy: 0.4860\n",
      "Epoch 10/20\n",
      "8419/8419 [==============================] - 12s 1ms/step - loss: 0.2208 - categorical_accuracy: 0.9484 - val_loss: 3.0051 - val_categorical_accuracy: 0.5283\n",
      "Epoch 11/20\n",
      "8419/8419 [==============================] - 12s 1ms/step - loss: 0.1961 - categorical_accuracy: 0.9544 - val_loss: 3.7934 - val_categorical_accuracy: 0.5245\n",
      "Epoch 12/20\n",
      "8419/8419 [==============================] - 12s 1ms/step - loss: 0.1971 - categorical_accuracy: 0.9550 - val_loss: 3.8498 - val_categorical_accuracy: 0.5886\n",
      "Epoch 13/20\n",
      "8419/8419 [==============================] - 12s 1ms/step - loss: 0.1803 - categorical_accuracy: 0.9591 - val_loss: 3.4975 - val_categorical_accuracy: 0.5287\n",
      "Epoch 14/20\n",
      "8419/8419 [==============================] - 12s 1ms/step - loss: 0.1862 - categorical_accuracy: 0.9595 - val_loss: 3.5503 - val_categorical_accuracy: 0.5363\n",
      "Epoch 15/20\n",
      "8419/8419 [==============================] - 12s 1ms/step - loss: 0.1724 - categorical_accuracy: 0.9606 - val_loss: 4.4279 - val_categorical_accuracy: 0.4751\n",
      "Epoch 16/20\n",
      "8419/8419 [==============================] - 12s 1ms/step - loss: 0.1560 - categorical_accuracy: 0.9639 - val_loss: 3.5582 - val_categorical_accuracy: 0.5311\n",
      "Epoch 17/20\n",
      "8419/8419 [==============================] - 12s 1ms/step - loss: 0.1571 - categorical_accuracy: 0.9653 - val_loss: 3.8773 - val_categorical_accuracy: 0.5363\n",
      "Epoch 18/20\n",
      "8419/8419 [==============================] - 12s 1ms/step - loss: 0.1656 - categorical_accuracy: 0.9660 - val_loss: 3.8495 - val_categorical_accuracy: 0.5368\n",
      "Epoch 19/20\n",
      "8419/8419 [==============================] - 12s 1ms/step - loss: 0.1468 - categorical_accuracy: 0.9691 - val_loss: 4.0004 - val_categorical_accuracy: 0.5074\n",
      "Epoch 20/20\n",
      "8419/8419 [==============================] - 12s 1ms/step - loss: 0.1389 - categorical_accuracy: 0.9684 - val_loss: 3.8479 - val_categorical_accuracy: 0.5131\n"
     ]
    }
   ],
   "source": [
    "model = Sequential()\n",
    "model.add(Embedding(vocabulario, dim_vetor, input_length=x.shape[1]))\n",
    "model.add(Conv1D(64, 7, activation='relu'))\n",
    "model.add(MaxPooling1D(5))\n",
    "model.add(Conv1D(32, 7, activation='relu'))\n",
    "model.add(MaxPooling1D(5))\n",
    "model.add(Flatten())\n",
    "model.add(Dense(1024, activation='relu'))\n",
    "model.add(Dropout(0.2))\n",
    "model.add(Dense(128, activation='relu'))\n",
    "model.add(Dropout(0.2))\n",
    "model.add(Dense(y.shape[1], activation='softmax'))\n",
    "model.compile(loss='categorical_crossentropy', optimizer=RMSprop(),  metrics=[\"categorical_accuracy\"])\n",
    "model.summary()\n",
    "history = model.fit(x, y, epochs=20, batch_size=32, validation_split=0.2, verbose=1, shuffle=True)"
   ]
  },
  {
   "cell_type": "code",
   "execution_count": null,
   "metadata": {},
   "outputs": [],
   "source": []
  }
 ],
 "metadata": {
  "kernelspec": {
   "display_name": "Python 3",
   "language": "python",
   "name": "python3"
  },
  "language_info": {
   "codemirror_mode": {
    "name": "ipython",
    "version": 3
   },
   "file_extension": ".py",
   "mimetype": "text/x-python",
   "name": "python",
   "nbconvert_exporter": "python",
   "pygments_lexer": "ipython3",
   "version": "3.7.4"
  }
 },
 "nbformat": 4,
 "nbformat_minor": 2
}
