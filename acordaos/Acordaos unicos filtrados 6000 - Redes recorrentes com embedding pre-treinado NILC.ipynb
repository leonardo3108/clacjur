{
 "cells": [
  {
   "cell_type": "markdown",
   "metadata": {},
   "source": [
    "# Importação e preparação dos dados"
   ]
  },
  {
   "cell_type": "code",
   "execution_count": 1,
   "metadata": {},
   "outputs": [
    {
     "data": {
      "text/html": [
       "<div>\n",
       "<style scoped>\n",
       "    .dataframe tbody tr th:only-of-type {\n",
       "        vertical-align: middle;\n",
       "    }\n",
       "\n",
       "    .dataframe tbody tr th {\n",
       "        vertical-align: top;\n",
       "    }\n",
       "\n",
       "    .dataframe thead th {\n",
       "        text-align: right;\n",
       "    }\n",
       "</style>\n",
       "<table border=\"1\" class=\"dataframe\">\n",
       "  <thead>\n",
       "    <tr style=\"text-align: right;\">\n",
       "      <th></th>\n",
       "      <th>acordao</th>\n",
       "      <th>areas</th>\n",
       "      <th>filtrado_6000</th>\n",
       "    </tr>\n",
       "  </thead>\n",
       "  <tbody>\n",
       "    <tr>\n",
       "      <th>0</th>\n",
       "      <td>297/2016-P</td>\n",
       "      <td>Responsabilidade</td>\n",
       "      <td>tribunal conta união tc grupo classe plenário ...</td>\n",
       "    </tr>\n",
       "    <tr>\n",
       "      <th>1</th>\n",
       "      <td>366/2016-P</td>\n",
       "      <td>Finanças Públicas</td>\n",
       "      <td>tribunal conta união tc grupo classe ii plenár...</td>\n",
       "    </tr>\n",
       "    <tr>\n",
       "      <th>2</th>\n",
       "      <td>944/2016-P</td>\n",
       "      <td>Responsabilidade</td>\n",
       "      <td>tribunal conta união tc grupo classe plenário ...</td>\n",
       "    </tr>\n",
       "    <tr>\n",
       "      <th>3</th>\n",
       "      <td>30/2016-P</td>\n",
       "      <td>Direito Processual</td>\n",
       "      <td>tribunal conta união tc grupo classe plenário ...</td>\n",
       "    </tr>\n",
       "    <tr>\n",
       "      <th>4</th>\n",
       "      <td>55/2016-P</td>\n",
       "      <td>Pessoal</td>\n",
       "      <td>wania lucia pasquarelli nascimentotcuwania luc...</td>\n",
       "    </tr>\n",
       "  </tbody>\n",
       "</table>\n",
       "</div>"
      ],
      "text/plain": [
       "      acordao               areas  \\\n",
       "0  297/2016-P    Responsabilidade   \n",
       "1  366/2016-P   Finanças Públicas   \n",
       "2  944/2016-P    Responsabilidade   \n",
       "3   30/2016-P  Direito Processual   \n",
       "4   55/2016-P             Pessoal   \n",
       "\n",
       "                                       filtrado_6000  \n",
       "0  tribunal conta união tc grupo classe plenário ...  \n",
       "1  tribunal conta união tc grupo classe ii plenár...  \n",
       "2  tribunal conta união tc grupo classe plenário ...  \n",
       "3  tribunal conta união tc grupo classe plenário ...  \n",
       "4  wania lucia pasquarelli nascimentotcuwania luc...  "
      ]
     },
     "execution_count": 1,
     "metadata": {},
     "output_type": "execute_result"
    }
   ],
   "source": [
    "import pandas as pd\n",
    "\n",
    "df = pd.read_csv('../dados/acordaos-unicos-filtrados-6000.csv', sep = '|')\n",
    "df['filtrado_6000']=df['filtrado_6000'].astype(str)\n",
    "df.head()"
   ]
  },
  {
   "cell_type": "code",
   "execution_count": 2,
   "metadata": {},
   "outputs": [
    {
     "data": {
      "text/plain": [
       "(9739, 3)"
      ]
     },
     "execution_count": 2,
     "metadata": {},
     "output_type": "execute_result"
    }
   ],
   "source": [
    "df.shape"
   ]
  },
  {
   "cell_type": "code",
   "execution_count": 3,
   "metadata": {
    "scrolled": true
   },
   "outputs": [
    {
     "data": {
      "text/plain": [
       "array(['Competência do TCU', 'Contrato Administrativo', 'Convênio',\n",
       "       'Desestatização', 'Direito Processual', 'Finanças Públicas',\n",
       "       'Gestão Administrativa', 'Licitação', 'Pessoal',\n",
       "       'Responsabilidade'], dtype='<U23')"
      ]
     },
     "execution_count": 3,
     "metadata": {},
     "output_type": "execute_result"
    }
   ],
   "source": [
    "from sklearn.preprocessing import LabelBinarizer\n",
    "\n",
    "areas = df.groupby(['areas']).groups.keys()\n",
    "lbArea = LabelBinarizer()\n",
    "lbArea.fit([x for x in areas])\n",
    "lbArea.classes_"
   ]
  },
  {
   "cell_type": "code",
   "execution_count": 4,
   "metadata": {},
   "outputs": [
    {
     "data": {
      "text/plain": [
       "(9739, 10)"
      ]
     },
     "execution_count": 4,
     "metadata": {},
     "output_type": "execute_result"
    }
   ],
   "source": [
    "y = lbArea.transform(df['areas'])\n",
    "y.shape"
   ]
  },
  {
   "cell_type": "code",
   "execution_count": 5,
   "metadata": {},
   "outputs": [
    {
     "name": "stderr",
     "output_type": "stream",
     "text": [
      "Using TensorFlow backend.\n"
     ]
    },
    {
     "name": "stdout",
     "output_type": "stream",
     "text": [
      "Found 95423 unique tokens.\n"
     ]
    }
   ],
   "source": [
    "from keras.preprocessing.text import Tokenizer\n",
    "import numpy as np\n",
    "\n",
    "vocabulario = 100000\n",
    "limite_texto = 6000\n",
    "dim_vetor = 50\n",
    "\n",
    "tokenizer = Tokenizer(num_words=vocabulario)\n",
    "tokenizer.fit_on_texts(df['filtrado_6000'])\n",
    "\n",
    "sequences = tokenizer.texts_to_sequences(df['filtrado_6000'])\n",
    "\n",
    "word_index = tokenizer.word_index\n",
    "print('Found %s unique tokens.' % len(word_index))"
   ]
  },
  {
   "cell_type": "code",
   "execution_count": 6,
   "metadata": {},
   "outputs": [
    {
     "name": "stdout",
     "output_type": "stream",
     "text": [
      "Shape of data tensor: (9739, 6000)\n"
     ]
    }
   ],
   "source": [
    "from keras.preprocessing.sequence import pad_sequences\n",
    "\n",
    "x = pad_sequences(sequences, maxlen=limite_texto)\n",
    "\n",
    "print('Shape of data tensor:', x.shape)"
   ]
  },
  {
   "cell_type": "code",
   "execution_count": 7,
   "metadata": {},
   "outputs": [
    {
     "data": {
      "text/plain": [
       "((9739, 6000), (9739, 10))"
      ]
     },
     "execution_count": 7,
     "metadata": {},
     "output_type": "execute_result"
    }
   ],
   "source": [
    "x.shape, y.shape"
   ]
  },
  {
   "cell_type": "code",
   "execution_count": 8,
   "metadata": {},
   "outputs": [
    {
     "name": "stderr",
     "output_type": "stream",
     "text": [
      "/home/leonardo/anaconda3/envs/gpu/lib/python3.7/site-packages/smart_open/smart_open_lib.py:398: UserWarning: This function is deprecated, use smart_open.open instead. See the migration notes for details: https://github.com/RaRe-Technologies/smart_open/blob/master/README.rst#migrating-to-the-new-open-function\n",
      "  'See the migration notes for details: %s' % _MIGRATION_NOTES_URL\n"
     ]
    }
   ],
   "source": [
    "from gensim.models import KeyedVectors\n",
    "\n",
    "model = KeyedVectors.load_word2vec_format('../externos/model-50.txt')"
   ]
  },
  {
   "cell_type": "code",
   "execution_count": 9,
   "metadata": {},
   "outputs": [
    {
     "name": "stdout",
     "output_type": "stream",
     "text": [
      "Vocabulario: 95423\n",
      "Encontrados no modelo: 55676 = 58.34652023097157\n"
     ]
    }
   ],
   "source": [
    "# create a weight matrix for words in training docs\n",
    "\n",
    "embedding_matrix = np.zeros((vocabulario, dim_vetor))\n",
    "\n",
    "ok = 0\n",
    "for word, i in tokenizer.word_index.items():\n",
    "    if word in model:\n",
    "        embedding_matrix[i] = model[word]\n",
    "        ok += 1\n",
    "print('Vocabulario:', i)\n",
    "print('Encontrados no modelo:', ok, '=', ok * 100. / i)"
   ]
  },
  {
   "cell_type": "markdown",
   "metadata": {},
   "source": [
    "# Treinamento"
   ]
  },
  {
   "cell_type": "code",
   "execution_count": 11,
   "metadata": {},
   "outputs": [
    {
     "name": "stdout",
     "output_type": "stream",
     "text": [
      "_________________________________________________________________\n",
      "Layer (type)                 Output Shape              Param #   \n",
      "=================================================================\n",
      "embedding_2 (Embedding)      (None, 6000, 50)          5000000   \n",
      "_________________________________________________________________\n",
      "gru_1 (GRU)                  (None, 256)               235776    \n",
      "_________________________________________________________________\n",
      "dense_2 (Dense)              (None, 10)                2570      \n",
      "=================================================================\n",
      "Total params: 5,238,346\n",
      "Trainable params: 5,238,346\n",
      "Non-trainable params: 0\n",
      "_________________________________________________________________\n",
      "Train on 7791 samples, validate on 1948 samples\n",
      "Epoch 1/20\n",
      "7791/7791 [==============================] - 1538s 197ms/step - loss: 1.7973 - categorical_accuracy: 0.3872 - val_loss: 1.8898 - val_categorical_accuracy: 0.2295\n",
      "Epoch 2/20\n",
      "7791/7791 [==============================] - 1538s 197ms/step - loss: 1.7488 - categorical_accuracy: 0.4011 - val_loss: 2.0182 - val_categorical_accuracy: 0.2223\n",
      "Epoch 3/20\n",
      "7791/7791 [==============================] - 1538s 197ms/step - loss: 1.6699 - categorical_accuracy: 0.4337 - val_loss: 1.8038 - val_categorical_accuracy: 0.3116\n",
      "Epoch 4/20\n",
      "7791/7791 [==============================] - 1536s 197ms/step - loss: 1.2815 - categorical_accuracy: 0.5728 - val_loss: 1.3069 - val_categorical_accuracy: 0.5708\n",
      "Epoch 5/20\n",
      "7791/7791 [==============================] - 1536s 197ms/step - loss: 1.0832 - categorical_accuracy: 0.6378 - val_loss: 1.3915 - val_categorical_accuracy: 0.5375\n",
      "Epoch 6/20\n",
      "7791/7791 [==============================] - 1536s 197ms/step - loss: 0.9604 - categorical_accuracy: 0.6776 - val_loss: 1.1300 - val_categorical_accuracy: 0.6093\n",
      "Epoch 7/20\n",
      "7791/7791 [==============================] - 1536s 197ms/step - loss: 0.8929 - categorical_accuracy: 0.7053 - val_loss: 1.0941 - val_categorical_accuracy: 0.6268\n",
      "Epoch 8/20\n",
      "7791/7791 [==============================] - 1538s 197ms/step - loss: 0.8288 - categorical_accuracy: 0.7180 - val_loss: 1.0753 - val_categorical_accuracy: 0.6273\n",
      "Epoch 9/20\n",
      "7791/7791 [==============================] - 1536s 197ms/step - loss: 0.7759 - categorical_accuracy: 0.7366 - val_loss: 1.1022 - val_categorical_accuracy: 0.6278\n",
      "Epoch 10/20\n",
      "7791/7791 [==============================] - 1536s 197ms/step - loss: 0.7315 - categorical_accuracy: 0.7486 - val_loss: 1.0327 - val_categorical_accuracy: 0.6504\n",
      "Epoch 11/20\n",
      "7791/7791 [==============================] - 1536s 197ms/step - loss: 0.6915 - categorical_accuracy: 0.7668 - val_loss: 1.0879 - val_categorical_accuracy: 0.6381\n",
      "Epoch 12/20\n",
      "7791/7791 [==============================] - 1536s 197ms/step - loss: 0.6037 - categorical_accuracy: 0.6854 - val_loss: 1.1921e-07 - val_categorical_accuracy: 0.0359\n",
      "Epoch 13/20\n",
      "7791/7791 [==============================] - 1535s 197ms/step - loss: 1.1921e-07 - categorical_accuracy: 0.0430 - val_loss: 1.1921e-07 - val_categorical_accuracy: 0.0359\n",
      "Epoch 14/20\n",
      "2240/7791 [=======>......................] - ETA: 16:58 - loss: 1.1921e-07 - categorical_accuracy: 0.0388"
     ]
    },
    {
     "ename": "KeyboardInterrupt",
     "evalue": "",
     "output_type": "error",
     "traceback": [
      "\u001b[0;31m---------------------------------------------------------------------------\u001b[0m",
      "\u001b[0;31mKeyboardInterrupt\u001b[0m                         Traceback (most recent call last)",
      "\u001b[0;32m<ipython-input-11-6bdb2c6285a7>\u001b[0m in \u001b[0;36m<module>\u001b[0;34m\u001b[0m\n\u001b[1;32m     10\u001b[0m \u001b[0mmodel\u001b[0m\u001b[0;34m.\u001b[0m\u001b[0msummary\u001b[0m\u001b[0;34m(\u001b[0m\u001b[0;34m)\u001b[0m\u001b[0;34m\u001b[0m\u001b[0;34m\u001b[0m\u001b[0m\n\u001b[1;32m     11\u001b[0m \u001b[0;34m\u001b[0m\u001b[0m\n\u001b[0;32m---> 12\u001b[0;31m \u001b[0mhistory\u001b[0m \u001b[0;34m=\u001b[0m \u001b[0mmodel\u001b[0m\u001b[0;34m.\u001b[0m\u001b[0mfit\u001b[0m\u001b[0;34m(\u001b[0m\u001b[0mx\u001b[0m\u001b[0;34m,\u001b[0m \u001b[0my\u001b[0m\u001b[0;34m,\u001b[0m \u001b[0mepochs\u001b[0m\u001b[0;34m=\u001b[0m\u001b[0;36m20\u001b[0m\u001b[0;34m,\u001b[0m \u001b[0mbatch_size\u001b[0m\u001b[0;34m=\u001b[0m\u001b[0;36m32\u001b[0m\u001b[0;34m,\u001b[0m \u001b[0mvalidation_split\u001b[0m\u001b[0;34m=\u001b[0m\u001b[0;36m0.2\u001b[0m\u001b[0;34m,\u001b[0m \u001b[0mverbose\u001b[0m\u001b[0;34m=\u001b[0m\u001b[0;36m1\u001b[0m\u001b[0;34m,\u001b[0m \u001b[0mshuffle\u001b[0m\u001b[0;34m=\u001b[0m\u001b[0;32mTrue\u001b[0m\u001b[0;34m)\u001b[0m\u001b[0;34m\u001b[0m\u001b[0;34m\u001b[0m\u001b[0m\n\u001b[0m",
      "\u001b[0;32m~/anaconda3/envs/gpu/lib/python3.7/site-packages/keras/engine/training.py\u001b[0m in \u001b[0;36mfit\u001b[0;34m(self, x, y, batch_size, epochs, verbose, callbacks, validation_split, validation_data, shuffle, class_weight, sample_weight, initial_epoch, steps_per_epoch, validation_steps, **kwargs)\u001b[0m\n\u001b[1;32m   1037\u001b[0m                                         \u001b[0minitial_epoch\u001b[0m\u001b[0;34m=\u001b[0m\u001b[0minitial_epoch\u001b[0m\u001b[0;34m,\u001b[0m\u001b[0;34m\u001b[0m\u001b[0;34m\u001b[0m\u001b[0m\n\u001b[1;32m   1038\u001b[0m                                         \u001b[0msteps_per_epoch\u001b[0m\u001b[0;34m=\u001b[0m\u001b[0msteps_per_epoch\u001b[0m\u001b[0;34m,\u001b[0m\u001b[0;34m\u001b[0m\u001b[0;34m\u001b[0m\u001b[0m\n\u001b[0;32m-> 1039\u001b[0;31m                                         validation_steps=validation_steps)\n\u001b[0m\u001b[1;32m   1040\u001b[0m \u001b[0;34m\u001b[0m\u001b[0m\n\u001b[1;32m   1041\u001b[0m     def evaluate(self, x=None, y=None,\n",
      "\u001b[0;32m~/anaconda3/envs/gpu/lib/python3.7/site-packages/keras/engine/training_arrays.py\u001b[0m in \u001b[0;36mfit_loop\u001b[0;34m(model, f, ins, out_labels, batch_size, epochs, verbose, callbacks, val_f, val_ins, shuffle, callback_metrics, initial_epoch, steps_per_epoch, validation_steps)\u001b[0m\n\u001b[1;32m    197\u001b[0m                     \u001b[0mins_batch\u001b[0m\u001b[0;34m[\u001b[0m\u001b[0mi\u001b[0m\u001b[0;34m]\u001b[0m \u001b[0;34m=\u001b[0m \u001b[0mins_batch\u001b[0m\u001b[0;34m[\u001b[0m\u001b[0mi\u001b[0m\u001b[0;34m]\u001b[0m\u001b[0;34m.\u001b[0m\u001b[0mtoarray\u001b[0m\u001b[0;34m(\u001b[0m\u001b[0;34m)\u001b[0m\u001b[0;34m\u001b[0m\u001b[0;34m\u001b[0m\u001b[0m\n\u001b[1;32m    198\u001b[0m \u001b[0;34m\u001b[0m\u001b[0m\n\u001b[0;32m--> 199\u001b[0;31m                 \u001b[0mouts\u001b[0m \u001b[0;34m=\u001b[0m \u001b[0mf\u001b[0m\u001b[0;34m(\u001b[0m\u001b[0mins_batch\u001b[0m\u001b[0;34m)\u001b[0m\u001b[0;34m\u001b[0m\u001b[0;34m\u001b[0m\u001b[0m\n\u001b[0m\u001b[1;32m    200\u001b[0m                 \u001b[0mouts\u001b[0m \u001b[0;34m=\u001b[0m \u001b[0mto_list\u001b[0m\u001b[0;34m(\u001b[0m\u001b[0mouts\u001b[0m\u001b[0;34m)\u001b[0m\u001b[0;34m\u001b[0m\u001b[0;34m\u001b[0m\u001b[0m\n\u001b[1;32m    201\u001b[0m                 \u001b[0;32mfor\u001b[0m \u001b[0ml\u001b[0m\u001b[0;34m,\u001b[0m \u001b[0mo\u001b[0m \u001b[0;32min\u001b[0m \u001b[0mzip\u001b[0m\u001b[0;34m(\u001b[0m\u001b[0mout_labels\u001b[0m\u001b[0;34m,\u001b[0m \u001b[0mouts\u001b[0m\u001b[0;34m)\u001b[0m\u001b[0;34m:\u001b[0m\u001b[0;34m\u001b[0m\u001b[0;34m\u001b[0m\u001b[0m\n",
      "\u001b[0;32m~/anaconda3/envs/gpu/lib/python3.7/site-packages/keras/backend/tensorflow_backend.py\u001b[0m in \u001b[0;36m__call__\u001b[0;34m(self, inputs)\u001b[0m\n\u001b[1;32m   2713\u001b[0m                 \u001b[0;32mreturn\u001b[0m \u001b[0mself\u001b[0m\u001b[0;34m.\u001b[0m\u001b[0m_legacy_call\u001b[0m\u001b[0;34m(\u001b[0m\u001b[0minputs\u001b[0m\u001b[0;34m)\u001b[0m\u001b[0;34m\u001b[0m\u001b[0;34m\u001b[0m\u001b[0m\n\u001b[1;32m   2714\u001b[0m \u001b[0;34m\u001b[0m\u001b[0m\n\u001b[0;32m-> 2715\u001b[0;31m             \u001b[0;32mreturn\u001b[0m \u001b[0mself\u001b[0m\u001b[0;34m.\u001b[0m\u001b[0m_call\u001b[0m\u001b[0;34m(\u001b[0m\u001b[0minputs\u001b[0m\u001b[0;34m)\u001b[0m\u001b[0;34m\u001b[0m\u001b[0;34m\u001b[0m\u001b[0m\n\u001b[0m\u001b[1;32m   2716\u001b[0m         \u001b[0;32melse\u001b[0m\u001b[0;34m:\u001b[0m\u001b[0;34m\u001b[0m\u001b[0;34m\u001b[0m\u001b[0m\n\u001b[1;32m   2717\u001b[0m             \u001b[0;32mif\u001b[0m \u001b[0mpy_any\u001b[0m\u001b[0;34m(\u001b[0m\u001b[0mis_tensor\u001b[0m\u001b[0;34m(\u001b[0m\u001b[0mx\u001b[0m\u001b[0;34m)\u001b[0m \u001b[0;32mfor\u001b[0m \u001b[0mx\u001b[0m \u001b[0;32min\u001b[0m \u001b[0minputs\u001b[0m\u001b[0;34m)\u001b[0m\u001b[0;34m:\u001b[0m\u001b[0;34m\u001b[0m\u001b[0;34m\u001b[0m\u001b[0m\n",
      "\u001b[0;32m~/anaconda3/envs/gpu/lib/python3.7/site-packages/keras/backend/tensorflow_backend.py\u001b[0m in \u001b[0;36m_call\u001b[0;34m(self, inputs)\u001b[0m\n\u001b[1;32m   2673\u001b[0m             \u001b[0mfetched\u001b[0m \u001b[0;34m=\u001b[0m \u001b[0mself\u001b[0m\u001b[0;34m.\u001b[0m\u001b[0m_callable_fn\u001b[0m\u001b[0;34m(\u001b[0m\u001b[0;34m*\u001b[0m\u001b[0marray_vals\u001b[0m\u001b[0;34m,\u001b[0m \u001b[0mrun_metadata\u001b[0m\u001b[0;34m=\u001b[0m\u001b[0mself\u001b[0m\u001b[0;34m.\u001b[0m\u001b[0mrun_metadata\u001b[0m\u001b[0;34m)\u001b[0m\u001b[0;34m\u001b[0m\u001b[0;34m\u001b[0m\u001b[0m\n\u001b[1;32m   2674\u001b[0m         \u001b[0;32melse\u001b[0m\u001b[0;34m:\u001b[0m\u001b[0;34m\u001b[0m\u001b[0;34m\u001b[0m\u001b[0m\n\u001b[0;32m-> 2675\u001b[0;31m             \u001b[0mfetched\u001b[0m \u001b[0;34m=\u001b[0m \u001b[0mself\u001b[0m\u001b[0;34m.\u001b[0m\u001b[0m_callable_fn\u001b[0m\u001b[0;34m(\u001b[0m\u001b[0;34m*\u001b[0m\u001b[0marray_vals\u001b[0m\u001b[0;34m)\u001b[0m\u001b[0;34m\u001b[0m\u001b[0;34m\u001b[0m\u001b[0m\n\u001b[0m\u001b[1;32m   2676\u001b[0m         \u001b[0;32mreturn\u001b[0m \u001b[0mfetched\u001b[0m\u001b[0;34m[\u001b[0m\u001b[0;34m:\u001b[0m\u001b[0mlen\u001b[0m\u001b[0;34m(\u001b[0m\u001b[0mself\u001b[0m\u001b[0;34m.\u001b[0m\u001b[0moutputs\u001b[0m\u001b[0;34m)\u001b[0m\u001b[0;34m]\u001b[0m\u001b[0;34m\u001b[0m\u001b[0;34m\u001b[0m\u001b[0m\n\u001b[1;32m   2677\u001b[0m \u001b[0;34m\u001b[0m\u001b[0m\n",
      "\u001b[0;32m~/anaconda3/envs/gpu/lib/python3.7/site-packages/tensorflow/python/client/session.py\u001b[0m in \u001b[0;36m__call__\u001b[0;34m(self, *args, **kwargs)\u001b[0m\n\u001b[1;32m   1456\u001b[0m         ret = tf_session.TF_SessionRunCallable(self._session._session,\n\u001b[1;32m   1457\u001b[0m                                                \u001b[0mself\u001b[0m\u001b[0;34m.\u001b[0m\u001b[0m_handle\u001b[0m\u001b[0;34m,\u001b[0m \u001b[0margs\u001b[0m\u001b[0;34m,\u001b[0m\u001b[0;34m\u001b[0m\u001b[0;34m\u001b[0m\u001b[0m\n\u001b[0;32m-> 1458\u001b[0;31m                                                run_metadata_ptr)\n\u001b[0m\u001b[1;32m   1459\u001b[0m         \u001b[0;32mif\u001b[0m \u001b[0mrun_metadata\u001b[0m\u001b[0;34m:\u001b[0m\u001b[0;34m\u001b[0m\u001b[0;34m\u001b[0m\u001b[0m\n\u001b[1;32m   1460\u001b[0m           \u001b[0mproto_data\u001b[0m \u001b[0;34m=\u001b[0m \u001b[0mtf_session\u001b[0m\u001b[0;34m.\u001b[0m\u001b[0mTF_GetBuffer\u001b[0m\u001b[0;34m(\u001b[0m\u001b[0mrun_metadata_ptr\u001b[0m\u001b[0;34m)\u001b[0m\u001b[0;34m\u001b[0m\u001b[0;34m\u001b[0m\u001b[0m\n",
      "\u001b[0;31mKeyboardInterrupt\u001b[0m: "
     ]
    }
   ],
   "source": [
    "from keras.models import Sequential\n",
    "from keras.layers import SimpleRNN, GRU, Dense, Embedding\n",
    "from keras.optimizers import RMSprop\n",
    "\n",
    "model = Sequential()\n",
    "model.add(Embedding(vocabulario, dim_vetor, weights=[embedding_matrix], input_length=limite_texto, trainable=True))\n",
    "model.add(GRU(256, dropout=0.2, recurrent_dropout=0.2))\n",
    "model.add(Dense(y.shape[1], activation='softmax'))\n",
    "model.compile(loss='categorical_crossentropy', optimizer=RMSprop(),  metrics=[\"categorical_accuracy\"])\n",
    "model.summary()\n",
    "\n",
    "history = model.fit(x, y, epochs=20, batch_size=32, validation_split=0.2, verbose=1, shuffle=True)"
   ]
  },
  {
   "cell_type": "code",
   "execution_count": 12,
   "metadata": {},
   "outputs": [
    {
     "name": "stdout",
     "output_type": "stream",
     "text": [
      "_________________________________________________________________\n",
      "Layer (type)                 Output Shape              Param #   \n",
      "=================================================================\n",
      "embedding_3 (Embedding)      (None, 6000, 50)          5000000   \n",
      "_________________________________________________________________\n",
      "gru_2 (GRU)                  (None, 256)               235776    \n",
      "_________________________________________________________________\n",
      "dense_3 (Dense)              (None, 10)                2570      \n",
      "=================================================================\n",
      "Total params: 5,238,346\n",
      "Trainable params: 238,346\n",
      "Non-trainable params: 5,000,000\n",
      "_________________________________________________________________\n",
      "Train on 7791 samples, validate on 1948 samples\n",
      "Epoch 1/20\n",
      "7791/7791 [==============================] - 1282s 165ms/step - loss: 1.7982 - categorical_accuracy: 0.3831 - val_loss: 1.9582 - val_categorical_accuracy: 0.2177\n",
      "Epoch 2/20\n",
      "7791/7791 [==============================] - 1279s 164ms/step - loss: 1.7536 - categorical_accuracy: 0.3984 - val_loss: 1.9861 - val_categorical_accuracy: 0.2192\n",
      "Epoch 3/20\n",
      "7791/7791 [==============================] - 1279s 164ms/step - loss: 1.7332 - categorical_accuracy: 0.4012 - val_loss: 1.9279 - val_categorical_accuracy: 0.2367\n",
      "Epoch 4/20\n",
      "7791/7791 [==============================] - 1280s 164ms/step - loss: 1.5367 - categorical_accuracy: 0.4750 - val_loss: 1.5402 - val_categorical_accuracy: 0.4497\n",
      "Epoch 5/20\n",
      "7791/7791 [==============================] - 1279s 164ms/step - loss: 1.3072 - categorical_accuracy: 0.5642 - val_loss: 1.2956 - val_categorical_accuracy: 0.5857\n",
      "Epoch 6/20\n",
      "7791/7791 [==============================] - 1278s 164ms/step - loss: 1.1266 - categorical_accuracy: 0.6265 - val_loss: 1.2493 - val_categorical_accuracy: 0.5524\n",
      "Epoch 7/20\n",
      "7791/7791 [==============================] - 1280s 164ms/step - loss: 1.0094 - categorical_accuracy: 0.6609 - val_loss: 1.3124 - val_categorical_accuracy: 0.5267\n",
      "Epoch 8/20\n",
      "7791/7791 [==============================] - 1278s 164ms/step - loss: 0.9316 - categorical_accuracy: 0.6843 - val_loss: 1.1900 - val_categorical_accuracy: 0.6022\n",
      "Epoch 9/20\n",
      "7791/7791 [==============================] - 1309s 168ms/step - loss: 0.9313 - categorical_accuracy: 0.6839 - val_loss: 1.1441 - val_categorical_accuracy: 0.6093\n",
      "Epoch 10/20\n",
      "7791/7791 [==============================] - 1287s 165ms/step - loss: 0.8506 - categorical_accuracy: 0.7068 - val_loss: 1.1372 - val_categorical_accuracy: 0.6068\n",
      "Epoch 11/20\n",
      "7791/7791 [==============================] - 1289s 165ms/step - loss: 0.8065 - categorical_accuracy: 0.7206 - val_loss: 1.0080 - val_categorical_accuracy: 0.6545\n",
      "Epoch 12/20\n",
      "7791/7791 [==============================] - 1281s 164ms/step - loss: 0.7801 - categorical_accuracy: 0.7292 - val_loss: 1.1636 - val_categorical_accuracy: 0.5826\n",
      "Epoch 13/20\n",
      "7791/7791 [==============================] - 1282s 165ms/step - loss: 0.7434 - categorical_accuracy: 0.7438 - val_loss: 1.0027 - val_categorical_accuracy: 0.6597\n",
      "Epoch 14/20\n",
      "7791/7791 [==============================] - 1284s 165ms/step - loss: 0.7273 - categorical_accuracy: 0.7473 - val_loss: 1.0889 - val_categorical_accuracy: 0.6201\n",
      "Epoch 15/20\n",
      "7791/7791 [==============================] - 1283s 165ms/step - loss: 0.7001 - categorical_accuracy: 0.7504 - val_loss: 1.0511 - val_categorical_accuracy: 0.6206\n",
      "Epoch 16/20\n",
      "7791/7791 [==============================] - 1282s 165ms/step - loss: 0.6884 - categorical_accuracy: 0.7588 - val_loss: 1.0548 - val_categorical_accuracy: 0.6576\n",
      "Epoch 17/20\n",
      "7791/7791 [==============================] - 1282s 165ms/step - loss: 0.6597 - categorical_accuracy: 0.7683 - val_loss: 1.0630 - val_categorical_accuracy: 0.6371\n",
      "Epoch 18/20\n",
      "7791/7791 [==============================] - 1284s 165ms/step - loss: 0.6349 - categorical_accuracy: 0.7733 - val_loss: 1.0957 - val_categorical_accuracy: 0.6417\n",
      "Epoch 19/20\n",
      "7791/7791 [==============================] - 1283s 165ms/step - loss: 0.6180 - categorical_accuracy: 0.7808 - val_loss: 1.0903 - val_categorical_accuracy: 0.6268\n",
      "Epoch 20/20\n",
      "7791/7791 [==============================] - 1285s 165ms/step - loss: 0.5915 - categorical_accuracy: 0.7905 - val_loss: 1.2117 - val_categorical_accuracy: 0.5760\n"
     ]
    }
   ],
   "source": [
    "from keras.models import Sequential\n",
    "from keras.layers import SimpleRNN, GRU, Dense, Embedding\n",
    "from keras.optimizers import RMSprop\n",
    "\n",
    "model = Sequential()\n",
    "model.add(Embedding(vocabulario, dim_vetor, weights=[embedding_matrix], input_length=limite_texto, trainable=False))\n",
    "model.add(GRU(256, dropout=0.2, recurrent_dropout=0.2))\n",
    "model.add(Dense(y.shape[1], activation='softmax'))\n",
    "model.compile(loss='categorical_crossentropy', optimizer=RMSprop(),  metrics=[\"categorical_accuracy\"])\n",
    "model.summary()\n",
    "\n",
    "history = model.fit(x, y, epochs=20, batch_size=32, validation_split=0.2, verbose=1, shuffle=True)"
   ]
  },
  {
   "cell_type": "code",
   "execution_count": 13,
   "metadata": {
    "scrolled": false
   },
   "outputs": [
    {
     "name": "stdout",
     "output_type": "stream",
     "text": [
      "_________________________________________________________________\n",
      "Layer (type)                 Output Shape              Param #   \n",
      "=================================================================\n",
      "embedding_4 (Embedding)      (None, 6000, 50)          5000000   \n",
      "_________________________________________________________________\n",
      "simple_rnn_2 (SimpleRNN)     (None, 256)               78592     \n",
      "_________________________________________________________________\n",
      "dense_4 (Dense)              (None, 10)                2570      \n",
      "=================================================================\n",
      "Total params: 5,081,162\n",
      "Trainable params: 5,081,162\n",
      "Non-trainable params: 0\n",
      "_________________________________________________________________\n",
      "Train on 7791 samples, validate on 1948 samples\n",
      "Epoch 1/20\n",
      "7791/7791 [==============================] - 658s 84ms/step - loss: 1.8921 - categorical_accuracy: 0.3439 - val_loss: 1.9409 - val_categorical_accuracy: 0.2556\n",
      "Epoch 2/20\n",
      "7791/7791 [==============================] - 659s 85ms/step - loss: 1.8065 - categorical_accuracy: 0.3702 - val_loss: 2.0232 - val_categorical_accuracy: 0.2161\n",
      "Epoch 3/20\n",
      "7791/7791 [==============================] - 657s 84ms/step - loss: 1.7775 - categorical_accuracy: 0.3792 - val_loss: 1.9912 - val_categorical_accuracy: 0.2238\n",
      "Epoch 4/20\n",
      "7791/7791 [==============================] - 658s 84ms/step - loss: 1.7856 - categorical_accuracy: 0.3731 - val_loss: 2.0428 - val_categorical_accuracy: 0.2223\n",
      "Epoch 5/20\n",
      "7791/7791 [==============================] - 657s 84ms/step - loss: 1.7796 - categorical_accuracy: 0.3813 - val_loss: 2.0787 - val_categorical_accuracy: 0.2151\n",
      "Epoch 6/20\n",
      "7791/7791 [==============================] - 657s 84ms/step - loss: 1.7682 - categorical_accuracy: 0.3887 - val_loss: 2.0525 - val_categorical_accuracy: 0.2218\n",
      "Epoch 7/20\n",
      "7791/7791 [==============================] - 658s 85ms/step - loss: 1.7750 - categorical_accuracy: 0.3865 - val_loss: 1.9947 - val_categorical_accuracy: 0.2377\n",
      "Epoch 8/20\n",
      "7791/7791 [==============================] - 662s 85ms/step - loss: 1.7563 - categorical_accuracy: 0.3901 - val_loss: 2.0639 - val_categorical_accuracy: 0.2136\n",
      "Epoch 9/20\n",
      "7791/7791 [==============================] - 657s 84ms/step - loss: 1.7551 - categorical_accuracy: 0.3887 - val_loss: 2.0271 - val_categorical_accuracy: 0.2444\n",
      "Epoch 10/20\n",
      "7791/7791 [==============================] - 662s 85ms/step - loss: 1.7502 - categorical_accuracy: 0.3982 - val_loss: 1.9971 - val_categorical_accuracy: 0.2223\n",
      "Epoch 11/20\n",
      "7791/7791 [==============================] - 691s 89ms/step - loss: 1.7668 - categorical_accuracy: 0.3911 - val_loss: 1.9896 - val_categorical_accuracy: 0.2300\n",
      "Epoch 12/20\n",
      "7791/7791 [==============================] - 665s 85ms/step - loss: 1.7769 - categorical_accuracy: 0.3849 - val_loss: 1.9586 - val_categorical_accuracy: 0.2213\n",
      "Epoch 13/20\n",
      "7791/7791 [==============================] - 658s 85ms/step - loss: 1.7873 - categorical_accuracy: 0.3853 - val_loss: 1.9640 - val_categorical_accuracy: 0.2279\n",
      "Epoch 14/20\n",
      "7791/7791 [==============================] - 658s 85ms/step - loss: 1.7927 - categorical_accuracy: 0.3860 - val_loss: 2.0425 - val_categorical_accuracy: 0.2156\n",
      "Epoch 15/20\n",
      "7791/7791 [==============================] - 658s 84ms/step - loss: 1.7832 - categorical_accuracy: 0.3887 - val_loss: 2.1837 - val_categorical_accuracy: 0.2182\n",
      "Epoch 16/20\n",
      "7791/7791 [==============================] - 658s 84ms/step - loss: 1.7814 - categorical_accuracy: 0.3920 - val_loss: 1.9258 - val_categorical_accuracy: 0.2192\n",
      "Epoch 17/20\n",
      "7791/7791 [==============================] - 657s 84ms/step - loss: 1.7765 - categorical_accuracy: 0.3930 - val_loss: 1.9562 - val_categorical_accuracy: 0.2182\n",
      "Epoch 18/20\n",
      "7791/7791 [==============================] - 658s 84ms/step - loss: 1.7755 - categorical_accuracy: 0.3931 - val_loss: 1.9402 - val_categorical_accuracy: 0.2259\n",
      "Epoch 19/20\n",
      "7791/7791 [==============================] - 658s 84ms/step - loss: 1.7662 - categorical_accuracy: 0.3965 - val_loss: 1.9292 - val_categorical_accuracy: 0.2300\n",
      "Epoch 20/20\n",
      "7791/7791 [==============================] - 657s 84ms/step - loss: 1.7617 - categorical_accuracy: 0.3980 - val_loss: 1.9355 - val_categorical_accuracy: 0.2290\n"
     ]
    }
   ],
   "source": [
    "from keras.models import Sequential\n",
    "from keras.layers import SimpleRNN, GRU, Dense, Embedding\n",
    "from keras.optimizers import RMSprop\n",
    "\n",
    "model = Sequential()\n",
    "model.add(Embedding(vocabulario, dim_vetor, weights=[embedding_matrix], input_length=limite_texto, trainable=True))\n",
    "model.add(SimpleRNN(256, dropout=0.2, recurrent_dropout=0.2))\n",
    "model.add(Dense(y.shape[1], activation='softmax'))\n",
    "model.compile(loss='categorical_crossentropy', optimizer=RMSprop(),  metrics=[\"categorical_accuracy\"])\n",
    "model.summary()\n",
    "history = model.fit(x, y, epochs=20, batch_size=32, validation_split=0.2, verbose=1, shuffle=True)"
   ]
  },
  {
   "cell_type": "code",
   "execution_count": null,
   "metadata": {},
   "outputs": [],
   "source": []
  }
 ],
 "metadata": {
  "kernelspec": {
   "display_name": "Python 3",
   "language": "python",
   "name": "python3"
  },
  "language_info": {
   "codemirror_mode": {
    "name": "ipython",
    "version": 3
   },
   "file_extension": ".py",
   "mimetype": "text/x-python",
   "name": "python",
   "nbconvert_exporter": "python",
   "pygments_lexer": "ipython3",
   "version": "3.7.4"
  }
 },
 "nbformat": 4,
 "nbformat_minor": 2
}
