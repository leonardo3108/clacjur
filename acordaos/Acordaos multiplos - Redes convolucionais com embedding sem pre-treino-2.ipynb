{
 "cells": [
  {
   "cell_type": "markdown",
   "metadata": {},
   "source": [
    "# Importação e preparação dos dados"
   ]
  },
  {
   "cell_type": "code",
   "execution_count": 1,
   "metadata": {},
   "outputs": [
    {
     "data": {
      "text/html": [
       "<div>\n",
       "<style scoped>\n",
       "    .dataframe tbody tr th:only-of-type {\n",
       "        vertical-align: middle;\n",
       "    }\n",
       "\n",
       "    .dataframe tbody tr th {\n",
       "        vertical-align: top;\n",
       "    }\n",
       "\n",
       "    .dataframe thead th {\n",
       "        text-align: right;\n",
       "    }\n",
       "</style>\n",
       "<table border=\"1\" class=\"dataframe\">\n",
       "  <thead>\n",
       "    <tr style=\"text-align: right;\">\n",
       "      <th></th>\n",
       "      <th>acordao</th>\n",
       "      <th>arquivo</th>\n",
       "      <th>texto</th>\n",
       "      <th>areas</th>\n",
       "    </tr>\n",
       "  </thead>\n",
       "  <tbody>\n",
       "    <tr>\n",
       "      <th>0</th>\n",
       "      <td>297/2016-P</td>\n",
       "      <td>547240.txt</td>\n",
       "      <td>TRIBUNAL DE CONTAS DA UNIÃO\\tTC 010.084/2015-0...</td>\n",
       "      <td>Responsabilidade</td>\n",
       "    </tr>\n",
       "    <tr>\n",
       "      <th>1</th>\n",
       "      <td>366/2016-P</td>\n",
       "      <td>549518.txt</td>\n",
       "      <td>TRIBUNAL DE CONTAS DA UNIÃO\\tTC 005.933/2014-5...</td>\n",
       "      <td>Finanças Públicas</td>\n",
       "    </tr>\n",
       "    <tr>\n",
       "      <th>2</th>\n",
       "      <td>944/2016-P</td>\n",
       "      <td>554399.txt</td>\n",
       "      <td>TRIBUNAL DE CONTAS DA UNIÃO\\tTC 042.038/2012-0...</td>\n",
       "      <td>Responsabilidade</td>\n",
       "    </tr>\n",
       "    <tr>\n",
       "      <th>3</th>\n",
       "      <td>30/2016-P</td>\n",
       "      <td>545010.txt</td>\n",
       "      <td>TRIBUNAL DE CONTAS DA UNIÃO\\tTC 000.742/2014-7...</td>\n",
       "      <td>Direito Processual</td>\n",
       "    </tr>\n",
       "    <tr>\n",
       "      <th>4</th>\n",
       "      <td>55/2016-P</td>\n",
       "      <td>544046.txt</td>\n",
       "      <td>;-;;Wania Lucia Pasquarelli do NascimentoTCUWa...</td>\n",
       "      <td>Pessoal</td>\n",
       "    </tr>\n",
       "  </tbody>\n",
       "</table>\n",
       "</div>"
      ],
      "text/plain": [
       "      acordao     arquivo                                              texto  \\\n",
       "0  297/2016-P  547240.txt  TRIBUNAL DE CONTAS DA UNIÃO\\tTC 010.084/2015-0...   \n",
       "1  366/2016-P  549518.txt  TRIBUNAL DE CONTAS DA UNIÃO\\tTC 005.933/2014-5...   \n",
       "2  944/2016-P  554399.txt  TRIBUNAL DE CONTAS DA UNIÃO\\tTC 042.038/2012-0...   \n",
       "3   30/2016-P  545010.txt  TRIBUNAL DE CONTAS DA UNIÃO\\tTC 000.742/2014-7...   \n",
       "4   55/2016-P  544046.txt  ;-;;Wania Lucia Pasquarelli do NascimentoTCUWa...   \n",
       "\n",
       "                areas  \n",
       "0    Responsabilidade  \n",
       "1   Finanças Públicas  \n",
       "2    Responsabilidade  \n",
       "3  Direito Processual  \n",
       "4             Pessoal  "
      ]
     },
     "execution_count": 1,
     "metadata": {},
     "output_type": "execute_result"
    }
   ],
   "source": [
    "import pandas as pd\n",
    "\n",
    "df = pd.read_csv('../dados/acordaos-selecionada.csv', sep = '|')\n",
    "df.head()"
   ]
  },
  {
   "cell_type": "code",
   "execution_count": 2,
   "metadata": {},
   "outputs": [
    {
     "data": {
      "text/plain": [
       "(10524, 4)"
      ]
     },
     "execution_count": 2,
     "metadata": {},
     "output_type": "execute_result"
    }
   ],
   "source": [
    "df.shape"
   ]
  },
  {
   "cell_type": "code",
   "execution_count": 3,
   "metadata": {},
   "outputs": [
    {
     "data": {
      "text/plain": [
       "(10524, 91)"
      ]
     },
     "execution_count": 3,
     "metadata": {},
     "output_type": "execute_result"
    }
   ],
   "source": [
    "from sklearn.preprocessing import LabelBinarizer\n",
    "\n",
    "areas = df.groupby(['areas']).groups.keys()\n",
    "lbArea = LabelBinarizer()\n",
    "lbArea.fit([x for x in areas])\n",
    "y = lbArea.transform(df['areas'])\n",
    "y.shape"
   ]
  },
  {
   "cell_type": "code",
   "execution_count": 4,
   "metadata": {},
   "outputs": [
    {
     "name": "stderr",
     "output_type": "stream",
     "text": [
      "Using TensorFlow backend.\n"
     ]
    },
    {
     "name": "stdout",
     "output_type": "stream",
     "text": [
      "Found 344296 unique tokens.\n"
     ]
    }
   ],
   "source": [
    "from keras.preprocessing.text import Tokenizer\n",
    "import numpy as np\n",
    "\n",
    "vocabulario = 350000\n",
    "limite_texto = 40000\n",
    "dim_vetor = 100\n",
    "\n",
    "tokenizer = Tokenizer(num_words=vocabulario)\n",
    "tokenizer.fit_on_texts(df['texto'])\n",
    "\n",
    "sequences = tokenizer.texts_to_sequences(df['texto'])\n",
    "\n",
    "word_index = tokenizer.word_index\n",
    "vocabulario = len(word_index) + 1\n",
    "print('Found %s unique tokens.' % len(word_index))"
   ]
  },
  {
   "cell_type": "code",
   "execution_count": 5,
   "metadata": {},
   "outputs": [
    {
     "name": "stdout",
     "output_type": "stream",
     "text": [
      "Shape of data tensor: (10524, 40000)\n"
     ]
    }
   ],
   "source": [
    "from keras.preprocessing.sequence import pad_sequences\n",
    "\n",
    "x = pad_sequences(sequences, maxlen=limite_texto)\n",
    "\n",
    "print('Shape of data tensor:', x.shape)"
   ]
  },
  {
   "cell_type": "code",
   "execution_count": 6,
   "metadata": {},
   "outputs": [
    {
     "data": {
      "text/plain": [
       "((10524, 40000), (10524, 91))"
      ]
     },
     "execution_count": 6,
     "metadata": {},
     "output_type": "execute_result"
    }
   ],
   "source": [
    "x.shape, y.shape"
   ]
  },
  {
   "cell_type": "markdown",
   "metadata": {},
   "source": [
    "# Treinamento"
   ]
  },
  {
   "cell_type": "code",
   "execution_count": 7,
   "metadata": {},
   "outputs": [],
   "source": [
    "from keras.models import Sequential\n",
    "from keras.layers import Embedding, Conv1D, MaxPooling1D, Dense, GlobalMaxPooling1D, Flatten\n",
    "from keras.optimizers import RMSprop\n",
    "from keras.layers.core import Dropout"
   ]
  },
  {
   "cell_type": "code",
   "execution_count": 8,
   "metadata": {
    "scrolled": false
   },
   "outputs": [
    {
     "name": "stderr",
     "output_type": "stream",
     "text": [
      "WARNING: Logging before flag parsing goes to stderr.\n",
      "W0309 21:10:32.963485 140257104439104 deprecation_wrapper.py:119] From /home/leonardo/anaconda3/envs/gpu/lib/python3.7/site-packages/keras/backend/tensorflow_backend.py:74: The name tf.get_default_graph is deprecated. Please use tf.compat.v1.get_default_graph instead.\n",
      "\n",
      "W0309 21:10:32.996397 140257104439104 deprecation_wrapper.py:119] From /home/leonardo/anaconda3/envs/gpu/lib/python3.7/site-packages/keras/backend/tensorflow_backend.py:517: The name tf.placeholder is deprecated. Please use tf.compat.v1.placeholder instead.\n",
      "\n",
      "W0309 21:10:33.011677 140257104439104 deprecation_wrapper.py:119] From /home/leonardo/anaconda3/envs/gpu/lib/python3.7/site-packages/keras/backend/tensorflow_backend.py:4138: The name tf.random_uniform is deprecated. Please use tf.random.uniform instead.\n",
      "\n",
      "W0309 21:10:33.038041 140257104439104 deprecation_wrapper.py:119] From /home/leonardo/anaconda3/envs/gpu/lib/python3.7/site-packages/keras/backend/tensorflow_backend.py:3976: The name tf.nn.max_pool is deprecated. Please use tf.nn.max_pool2d instead.\n",
      "\n",
      "W0309 21:10:33.284150 140257104439104 deprecation_wrapper.py:119] From /home/leonardo/anaconda3/envs/gpu/lib/python3.7/site-packages/keras/backend/tensorflow_backend.py:133: The name tf.placeholder_with_default is deprecated. Please use tf.compat.v1.placeholder_with_default instead.\n",
      "\n",
      "W0309 21:10:33.290399 140257104439104 deprecation.py:506] From /home/leonardo/anaconda3/envs/gpu/lib/python3.7/site-packages/keras/backend/tensorflow_backend.py:3445: calling dropout (from tensorflow.python.ops.nn_ops) with keep_prob is deprecated and will be removed in a future version.\n",
      "Instructions for updating:\n",
      "Please use `rate` instead of `keep_prob`. Rate should be set to `rate = 1 - keep_prob`.\n",
      "W0309 21:10:33.323609 140257104439104 deprecation_wrapper.py:119] From /home/leonardo/anaconda3/envs/gpu/lib/python3.7/site-packages/keras/optimizers.py:790: The name tf.train.Optimizer is deprecated. Please use tf.compat.v1.train.Optimizer instead.\n",
      "\n",
      "W0309 21:10:33.330622 140257104439104 deprecation_wrapper.py:119] From /home/leonardo/anaconda3/envs/gpu/lib/python3.7/site-packages/keras/backend/tensorflow_backend.py:3295: The name tf.log is deprecated. Please use tf.math.log instead.\n",
      "\n",
      "W0309 21:10:33.413563 140257104439104 deprecation.py:323] From /home/leonardo/anaconda3/envs/gpu/lib/python3.7/site-packages/tensorflow/python/ops/math_grad.py:1250: add_dispatch_support.<locals>.wrapper (from tensorflow.python.ops.array_ops) is deprecated and will be removed in a future version.\n",
      "Instructions for updating:\n",
      "Use tf.where in 2.0, which has the same broadcast rule as np.where\n"
     ]
    },
    {
     "name": "stdout",
     "output_type": "stream",
     "text": [
      "_________________________________________________________________\n",
      "Layer (type)                 Output Shape              Param #   \n",
      "=================================================================\n",
      "embedding_1 (Embedding)      (None, 40000, 100)        34429700  \n",
      "_________________________________________________________________\n",
      "conv1d_1 (Conv1D)            (None, 39994, 64)         44864     \n",
      "_________________________________________________________________\n",
      "max_pooling1d_1 (MaxPooling1 (None, 7998, 64)          0         \n",
      "_________________________________________________________________\n",
      "flatten_1 (Flatten)          (None, 511872)            0         \n",
      "_________________________________________________________________\n",
      "dense_1 (Dense)              (None, 256)               131039488 \n",
      "_________________________________________________________________\n",
      "dropout_1 (Dropout)          (None, 256)               0         \n",
      "_________________________________________________________________\n",
      "dense_2 (Dense)              (None, 91)                23387     \n",
      "=================================================================\n",
      "Total params: 165,537,439\n",
      "Trainable params: 165,537,439\n",
      "Non-trainable params: 0\n",
      "_________________________________________________________________\n",
      "Train on 8419 samples, validate on 2105 samples\n",
      "Epoch 1/20\n",
      "8419/8419 [==============================] - 89s 11ms/step - loss: 13.0479 - categorical_accuracy: 0.1873 - val_loss: 14.3646 - val_categorical_accuracy: 0.1088\n",
      "Epoch 2/20\n",
      "8419/8419 [==============================] - 84s 10ms/step - loss: 13.0817 - categorical_accuracy: 0.1884 - val_loss: 14.3646 - val_categorical_accuracy: 0.1088\n",
      "Epoch 3/20\n",
      "8419/8419 [==============================] - 85s 10ms/step - loss: 7.3477 - categorical_accuracy: 0.3277 - val_loss: 1.7414 - val_categorical_accuracy: 0.4803\n",
      "Epoch 4/20\n",
      "8419/8419 [==============================] - 85s 10ms/step - loss: 1.3718 - categorical_accuracy: 0.6281 - val_loss: 1.6708 - val_categorical_accuracy: 0.5254\n",
      "Epoch 5/20\n",
      "8419/8419 [==============================] - 85s 10ms/step - loss: 0.7174 - categorical_accuracy: 0.8216 - val_loss: 1.9694 - val_categorical_accuracy: 0.5587\n",
      "Epoch 6/20\n",
      "8419/8419 [==============================] - 85s 10ms/step - loss: 0.2640 - categorical_accuracy: 0.9426 - val_loss: 2.3192 - val_categorical_accuracy: 0.5031\n",
      "Epoch 7/20\n",
      "8419/8419 [==============================] - 86s 10ms/step - loss: 0.1249 - categorical_accuracy: 0.9720 - val_loss: 2.9841 - val_categorical_accuracy: 0.4860\n",
      "Epoch 8/20\n",
      "8419/8419 [==============================] - 86s 10ms/step - loss: 0.0699 - categorical_accuracy: 0.9853 - val_loss: 3.1287 - val_categorical_accuracy: 0.5283\n",
      "Epoch 9/20\n",
      "8419/8419 [==============================] - 86s 10ms/step - loss: 0.0493 - categorical_accuracy: 0.9893 - val_loss: 3.1838 - val_categorical_accuracy: 0.5226\n",
      "Epoch 10/20\n",
      "8419/8419 [==============================] - 86s 10ms/step - loss: 0.0343 - categorical_accuracy: 0.9932 - val_loss: 3.5697 - val_categorical_accuracy: 0.5449\n",
      "Epoch 11/20\n",
      "8419/8419 [==============================] - 86s 10ms/step - loss: 0.0285 - categorical_accuracy: 0.9947 - val_loss: 4.1534 - val_categorical_accuracy: 0.5325\n",
      "Epoch 12/20\n",
      "8419/8419 [==============================] - 86s 10ms/step - loss: 0.0245 - categorical_accuracy: 0.9955 - val_loss: 4.2685 - val_categorical_accuracy: 0.4884\n",
      "Epoch 13/20\n",
      "8419/8419 [==============================] - 86s 10ms/step - loss: 0.0207 - categorical_accuracy: 0.9952 - val_loss: 4.7089 - val_categorical_accuracy: 0.5131\n",
      "Epoch 14/20\n",
      "8419/8419 [==============================] - 86s 10ms/step - loss: 0.0330 - categorical_accuracy: 0.9951 - val_loss: 4.5537 - val_categorical_accuracy: 0.5273\n",
      "Epoch 15/20\n",
      "8419/8419 [==============================] - 86s 10ms/step - loss: 0.0146 - categorical_accuracy: 0.9977 - val_loss: 5.1620 - val_categorical_accuracy: 0.5197\n",
      "Epoch 16/20\n",
      "8419/8419 [==============================] - 86s 10ms/step - loss: 0.0150 - categorical_accuracy: 0.9973 - val_loss: 5.2235 - val_categorical_accuracy: 0.5112\n",
      "Epoch 17/20\n",
      "8419/8419 [==============================] - 86s 10ms/step - loss: 0.0164 - categorical_accuracy: 0.9975 - val_loss: 5.0498 - val_categorical_accuracy: 0.4941\n",
      "Epoch 18/20\n",
      "8419/8419 [==============================] - 86s 10ms/step - loss: 0.0109 - categorical_accuracy: 0.9982 - val_loss: 5.1302 - val_categorical_accuracy: 0.4865\n",
      "Epoch 19/20\n",
      "8419/8419 [==============================] - 86s 10ms/step - loss: 0.0172 - categorical_accuracy: 0.9975 - val_loss: 4.9534 - val_categorical_accuracy: 0.5036\n",
      "Epoch 20/20\n",
      "8419/8419 [==============================] - 86s 10ms/step - loss: 0.0138 - categorical_accuracy: 0.9980 - val_loss: 5.2270 - val_categorical_accuracy: 0.5249\n"
     ]
    }
   ],
   "source": [
    "model = Sequential()\n",
    "model.add(Embedding(vocabulario, dim_vetor, input_length=x.shape[1]))\n",
    "model.add(Conv1D(64, 7, activation='relu'))\n",
    "model.add(MaxPooling1D(5))\n",
    "model.add(Flatten())\n",
    "model.add(Dense(256, activation='relu'))\n",
    "model.add(Dropout(0.2))\n",
    "model.add(Dense(y.shape[1], activation='softmax'))\n",
    "model.compile(loss='categorical_crossentropy', optimizer=RMSprop(),  metrics=[\"categorical_accuracy\"])\n",
    "model.summary()\n",
    "history = model.fit(x, y, epochs=20, batch_size=32, validation_split=0.2, verbose=1, shuffle=True)"
   ]
  },
  {
   "cell_type": "code",
   "execution_count": 9,
   "metadata": {
    "scrolled": false
   },
   "outputs": [
    {
     "name": "stdout",
     "output_type": "stream",
     "text": [
      "_________________________________________________________________\n",
      "Layer (type)                 Output Shape              Param #   \n",
      "=================================================================\n",
      "embedding_2 (Embedding)      (None, 40000, 100)        34429700  \n",
      "_________________________________________________________________\n",
      "conv1d_2 (Conv1D)            (None, 39994, 64)         44864     \n",
      "_________________________________________________________________\n",
      "max_pooling1d_2 (MaxPooling1 (None, 7998, 64)          0         \n",
      "_________________________________________________________________\n",
      "conv1d_3 (Conv1D)            (None, 7992, 32)          14368     \n",
      "_________________________________________________________________\n",
      "max_pooling1d_3 (MaxPooling1 (None, 1598, 32)          0         \n",
      "_________________________________________________________________\n",
      "flatten_2 (Flatten)          (None, 51136)             0         \n",
      "_________________________________________________________________\n",
      "dense_3 (Dense)              (None, 1024)              52364288  \n",
      "_________________________________________________________________\n",
      "dropout_2 (Dropout)          (None, 1024)              0         \n",
      "_________________________________________________________________\n",
      "dense_4 (Dense)              (None, 128)               131200    \n",
      "_________________________________________________________________\n",
      "dropout_3 (Dropout)          (None, 128)               0         \n",
      "_________________________________________________________________\n",
      "dense_5 (Dense)              (None, 91)                11739     \n",
      "=================================================================\n",
      "Total params: 86,996,159\n",
      "Trainable params: 86,996,159\n",
      "Non-trainable params: 0\n",
      "_________________________________________________________________\n",
      "Train on 8419 samples, validate on 2105 samples\n",
      "Epoch 1/20\n",
      "8419/8419 [==============================] - 72s 9ms/step - loss: 2.0480 - categorical_accuracy: 0.4520 - val_loss: 1.5705 - val_categorical_accuracy: 0.5563\n",
      "Epoch 2/20\n",
      "8419/8419 [==============================] - 71s 8ms/step - loss: 1.4525 - categorical_accuracy: 0.5945 - val_loss: 2.4639 - val_categorical_accuracy: 0.3349\n",
      "Epoch 3/20\n",
      "8419/8419 [==============================] - 71s 8ms/step - loss: 1.1951 - categorical_accuracy: 0.6546 - val_loss: 1.6600 - val_categorical_accuracy: 0.5454\n",
      "Epoch 4/20\n",
      "8419/8419 [==============================] - 71s 8ms/step - loss: 0.8761 - categorical_accuracy: 0.7380 - val_loss: 1.8163 - val_categorical_accuracy: 0.5705\n",
      "Epoch 5/20\n",
      "8419/8419 [==============================] - 71s 8ms/step - loss: 0.5415 - categorical_accuracy: 0.8515 - val_loss: 2.6337 - val_categorical_accuracy: 0.4803\n",
      "Epoch 6/20\n",
      "8419/8419 [==============================] - 71s 8ms/step - loss: 0.3394 - categorical_accuracy: 0.9129 - val_loss: 2.6272 - val_categorical_accuracy: 0.5036\n",
      "Epoch 7/20\n",
      "8419/8419 [==============================] - 71s 8ms/step - loss: 0.2568 - categorical_accuracy: 0.9366 - val_loss: 4.2887 - val_categorical_accuracy: 0.5264\n",
      "Epoch 8/20\n",
      "8419/8419 [==============================] - 71s 8ms/step - loss: 0.2068 - categorical_accuracy: 0.9508 - val_loss: 3.1651 - val_categorical_accuracy: 0.5112\n",
      "Epoch 9/20\n",
      "8419/8419 [==============================] - 71s 8ms/step - loss: 0.1782 - categorical_accuracy: 0.9591 - val_loss: 3.6851 - val_categorical_accuracy: 0.5330\n",
      "Epoch 10/20\n",
      "8419/8419 [==============================] - 71s 8ms/step - loss: 0.1621 - categorical_accuracy: 0.9619 - val_loss: 3.9153 - val_categorical_accuracy: 0.4941\n",
      "Epoch 11/20\n",
      "8419/8419 [==============================] - 71s 8ms/step - loss: 0.1440 - categorical_accuracy: 0.9663 - val_loss: 3.7582 - val_categorical_accuracy: 0.4746\n",
      "Epoch 12/20\n",
      "8419/8419 [==============================] - 71s 8ms/step - loss: 0.1392 - categorical_accuracy: 0.9709 - val_loss: 4.1959 - val_categorical_accuracy: 0.4936\n",
      "Epoch 13/20\n",
      "8419/8419 [==============================] - 71s 8ms/step - loss: 0.1306 - categorical_accuracy: 0.9701 - val_loss: 4.3197 - val_categorical_accuracy: 0.4983\n",
      "Epoch 14/20\n",
      "8419/8419 [==============================] - 71s 8ms/step - loss: 0.1238 - categorical_accuracy: 0.9741 - val_loss: 4.2769 - val_categorical_accuracy: 0.4646\n",
      "Epoch 15/20\n",
      "8419/8419 [==============================] - 71s 8ms/step - loss: 0.1085 - categorical_accuracy: 0.9764 - val_loss: 4.4299 - val_categorical_accuracy: 0.4960\n",
      "Epoch 16/20\n",
      "8419/8419 [==============================] - 71s 8ms/step - loss: 0.0934 - categorical_accuracy: 0.9803 - val_loss: 4.2069 - val_categorical_accuracy: 0.4770\n",
      "Epoch 17/20\n",
      "8419/8419 [==============================] - 71s 8ms/step - loss: 0.0839 - categorical_accuracy: 0.9809 - val_loss: 4.0962 - val_categorical_accuracy: 0.4979\n",
      "Epoch 18/20\n",
      "8419/8419 [==============================] - 71s 8ms/step - loss: 0.0733 - categorical_accuracy: 0.9847 - val_loss: 4.8145 - val_categorical_accuracy: 0.4694\n",
      "Epoch 19/20\n",
      "8419/8419 [==============================] - 71s 8ms/step - loss: 0.0645 - categorical_accuracy: 0.9862 - val_loss: 5.2941 - val_categorical_accuracy: 0.4603\n",
      "Epoch 20/20\n",
      "8419/8419 [==============================] - 71s 8ms/step - loss: 0.1402 - categorical_accuracy: 0.9797 - val_loss: 5.2109 - val_categorical_accuracy: 0.4722\n"
     ]
    }
   ],
   "source": [
    "model = Sequential()\n",
    "model.add(Embedding(vocabulario, dim_vetor, input_length=x.shape[1]))\n",
    "model.add(Conv1D(64, 7, activation='relu'))\n",
    "model.add(MaxPooling1D(5))\n",
    "model.add(Conv1D(32, 7, activation='relu'))\n",
    "model.add(MaxPooling1D(5))\n",
    "model.add(Flatten())\n",
    "model.add(Dense(1024, activation='relu'))\n",
    "model.add(Dropout(0.2))\n",
    "model.add(Dense(128, activation='relu'))\n",
    "model.add(Dropout(0.2))\n",
    "model.add(Dense(y.shape[1], activation='softmax'))\n",
    "model.compile(loss='categorical_crossentropy', optimizer=RMSprop(),  metrics=[\"categorical_accuracy\"])\n",
    "model.summary()\n",
    "history = model.fit(x, y, epochs=20, batch_size=32, validation_split=0.2, verbose=1, shuffle=True)"
   ]
  },
  {
   "cell_type": "code",
   "execution_count": 10,
   "metadata": {},
   "outputs": [
    {
     "name": "stdout",
     "output_type": "stream",
     "text": [
      "_________________________________________________________________\n",
      "Layer (type)                 Output Shape              Param #   \n",
      "=================================================================\n",
      "embedding_3 (Embedding)      (None, 40000, 100)        34429700  \n",
      "_________________________________________________________________\n",
      "conv1d_4 (Conv1D)            (None, 39994, 32)         22432     \n",
      "_________________________________________________________________\n",
      "max_pooling1d_4 (MaxPooling1 (None, 7998, 32)          0         \n",
      "_________________________________________________________________\n",
      "conv1d_5 (Conv1D)            (None, 7992, 32)          7200      \n",
      "_________________________________________________________________\n",
      "max_pooling1d_5 (MaxPooling1 (None, 3996, 32)          0         \n",
      "_________________________________________________________________\n",
      "flatten_3 (Flatten)          (None, 127872)            0         \n",
      "_________________________________________________________________\n",
      "dense_6 (Dense)              (None, 256)               32735488  \n",
      "_________________________________________________________________\n",
      "dropout_4 (Dropout)          (None, 256)               0         \n",
      "_________________________________________________________________\n",
      "dense_7 (Dense)              (None, 91)                23387     \n",
      "=================================================================\n",
      "Total params: 67,218,207\n",
      "Trainable params: 67,218,207\n",
      "Non-trainable params: 0\n",
      "_________________________________________________________________\n",
      "Train on 8419 samples, validate on 2105 samples\n",
      "Epoch 1/20\n",
      "8419/8419 [==============================] - 52s 6ms/step - loss: 15.1474 - categorical_accuracy: 0.0575 - val_loss: 15.6280 - val_categorical_accuracy: 0.0304\n",
      "Epoch 2/20\n",
      "8419/8419 [==============================] - 50s 6ms/step - loss: 15.1896 - categorical_accuracy: 0.0576 - val_loss: 15.6280 - val_categorical_accuracy: 0.0304\n",
      "Epoch 3/20\n",
      "8419/8419 [==============================] - 50s 6ms/step - loss: 15.1896 - categorical_accuracy: 0.0576 - val_loss: 15.6280 - val_categorical_accuracy: 0.0304\n",
      "Epoch 4/20\n",
      "8419/8419 [==============================] - 50s 6ms/step - loss: 15.1896 - categorical_accuracy: 0.0576 - val_loss: 15.6280 - val_categorical_accuracy: 0.0304\n",
      "Epoch 5/20\n",
      "8419/8419 [==============================] - 50s 6ms/step - loss: 15.1896 - categorical_accuracy: 0.0576 - val_loss: 15.6280 - val_categorical_accuracy: 0.0304\n",
      "Epoch 6/20\n",
      "8419/8419 [==============================] - 50s 6ms/step - loss: 15.1896 - categorical_accuracy: 0.0576 - val_loss: 15.6280 - val_categorical_accuracy: 0.0304\n",
      "Epoch 7/20\n",
      "8419/8419 [==============================] - 50s 6ms/step - loss: 15.1896 - categorical_accuracy: 0.0576 - val_loss: 15.6280 - val_categorical_accuracy: 0.0304\n",
      "Epoch 8/20\n",
      "8419/8419 [==============================] - 52s 6ms/step - loss: 15.1896 - categorical_accuracy: 0.0576 - val_loss: 15.6280 - val_categorical_accuracy: 0.0304\n",
      "Epoch 9/20\n",
      "4640/8419 [===============>..............] - ETA: 22s - loss: 15.1837 - categorical_accuracy: 0.0580"
     ]
    },
    {
     "ename": "KeyboardInterrupt",
     "evalue": "",
     "output_type": "error",
     "traceback": [
      "\u001b[0;31m---------------------------------------------------------------------------\u001b[0m",
      "\u001b[0;31mKeyboardInterrupt\u001b[0m                         Traceback (most recent call last)",
      "\u001b[0;32m<ipython-input-10-e86025848fbb>\u001b[0m in \u001b[0;36m<module>\u001b[0;34m\u001b[0m\n\u001b[1;32m     11\u001b[0m \u001b[0mmodel\u001b[0m\u001b[0;34m.\u001b[0m\u001b[0mcompile\u001b[0m\u001b[0;34m(\u001b[0m\u001b[0mloss\u001b[0m\u001b[0;34m=\u001b[0m\u001b[0;34m'categorical_crossentropy'\u001b[0m\u001b[0;34m,\u001b[0m \u001b[0moptimizer\u001b[0m\u001b[0;34m=\u001b[0m\u001b[0mRMSprop\u001b[0m\u001b[0;34m(\u001b[0m\u001b[0mlr\u001b[0m\u001b[0;34m=\u001b[0m\u001b[0;36m5e-3\u001b[0m\u001b[0;34m)\u001b[0m\u001b[0;34m,\u001b[0m  \u001b[0mmetrics\u001b[0m\u001b[0;34m=\u001b[0m\u001b[0;34m[\u001b[0m\u001b[0;34m\"categorical_accuracy\"\u001b[0m\u001b[0;34m]\u001b[0m\u001b[0;34m)\u001b[0m\u001b[0;34m\u001b[0m\u001b[0;34m\u001b[0m\u001b[0m\n\u001b[1;32m     12\u001b[0m \u001b[0mmodel\u001b[0m\u001b[0;34m.\u001b[0m\u001b[0msummary\u001b[0m\u001b[0;34m(\u001b[0m\u001b[0;34m)\u001b[0m\u001b[0;34m\u001b[0m\u001b[0;34m\u001b[0m\u001b[0m\n\u001b[0;32m---> 13\u001b[0;31m \u001b[0mhistory\u001b[0m \u001b[0;34m=\u001b[0m \u001b[0mmodel\u001b[0m\u001b[0;34m.\u001b[0m\u001b[0mfit\u001b[0m\u001b[0;34m(\u001b[0m\u001b[0mx\u001b[0m\u001b[0;34m,\u001b[0m \u001b[0my\u001b[0m\u001b[0;34m,\u001b[0m \u001b[0mepochs\u001b[0m\u001b[0;34m=\u001b[0m\u001b[0;36m20\u001b[0m\u001b[0;34m,\u001b[0m \u001b[0mbatch_size\u001b[0m\u001b[0;34m=\u001b[0m\u001b[0;36m32\u001b[0m\u001b[0;34m,\u001b[0m \u001b[0mvalidation_split\u001b[0m\u001b[0;34m=\u001b[0m\u001b[0;36m0.2\u001b[0m\u001b[0;34m,\u001b[0m \u001b[0mverbose\u001b[0m\u001b[0;34m=\u001b[0m\u001b[0;36m1\u001b[0m\u001b[0;34m,\u001b[0m \u001b[0mshuffle\u001b[0m\u001b[0;34m=\u001b[0m\u001b[0;32mTrue\u001b[0m\u001b[0;34m)\u001b[0m\u001b[0;34m\u001b[0m\u001b[0;34m\u001b[0m\u001b[0m\n\u001b[0m",
      "\u001b[0;32m~/anaconda3/envs/gpu/lib/python3.7/site-packages/keras/engine/training.py\u001b[0m in \u001b[0;36mfit\u001b[0;34m(self, x, y, batch_size, epochs, verbose, callbacks, validation_split, validation_data, shuffle, class_weight, sample_weight, initial_epoch, steps_per_epoch, validation_steps, **kwargs)\u001b[0m\n\u001b[1;32m   1037\u001b[0m                                         \u001b[0minitial_epoch\u001b[0m\u001b[0;34m=\u001b[0m\u001b[0minitial_epoch\u001b[0m\u001b[0;34m,\u001b[0m\u001b[0;34m\u001b[0m\u001b[0;34m\u001b[0m\u001b[0m\n\u001b[1;32m   1038\u001b[0m                                         \u001b[0msteps_per_epoch\u001b[0m\u001b[0;34m=\u001b[0m\u001b[0msteps_per_epoch\u001b[0m\u001b[0;34m,\u001b[0m\u001b[0;34m\u001b[0m\u001b[0;34m\u001b[0m\u001b[0m\n\u001b[0;32m-> 1039\u001b[0;31m                                         validation_steps=validation_steps)\n\u001b[0m\u001b[1;32m   1040\u001b[0m \u001b[0;34m\u001b[0m\u001b[0m\n\u001b[1;32m   1041\u001b[0m     def evaluate(self, x=None, y=None,\n",
      "\u001b[0;32m~/anaconda3/envs/gpu/lib/python3.7/site-packages/keras/engine/training_arrays.py\u001b[0m in \u001b[0;36mfit_loop\u001b[0;34m(model, f, ins, out_labels, batch_size, epochs, verbose, callbacks, val_f, val_ins, shuffle, callback_metrics, initial_epoch, steps_per_epoch, validation_steps)\u001b[0m\n\u001b[1;32m    197\u001b[0m                     \u001b[0mins_batch\u001b[0m\u001b[0;34m[\u001b[0m\u001b[0mi\u001b[0m\u001b[0;34m]\u001b[0m \u001b[0;34m=\u001b[0m \u001b[0mins_batch\u001b[0m\u001b[0;34m[\u001b[0m\u001b[0mi\u001b[0m\u001b[0;34m]\u001b[0m\u001b[0;34m.\u001b[0m\u001b[0mtoarray\u001b[0m\u001b[0;34m(\u001b[0m\u001b[0;34m)\u001b[0m\u001b[0;34m\u001b[0m\u001b[0;34m\u001b[0m\u001b[0m\n\u001b[1;32m    198\u001b[0m \u001b[0;34m\u001b[0m\u001b[0m\n\u001b[0;32m--> 199\u001b[0;31m                 \u001b[0mouts\u001b[0m \u001b[0;34m=\u001b[0m \u001b[0mf\u001b[0m\u001b[0;34m(\u001b[0m\u001b[0mins_batch\u001b[0m\u001b[0;34m)\u001b[0m\u001b[0;34m\u001b[0m\u001b[0;34m\u001b[0m\u001b[0m\n\u001b[0m\u001b[1;32m    200\u001b[0m                 \u001b[0mouts\u001b[0m \u001b[0;34m=\u001b[0m \u001b[0mto_list\u001b[0m\u001b[0;34m(\u001b[0m\u001b[0mouts\u001b[0m\u001b[0;34m)\u001b[0m\u001b[0;34m\u001b[0m\u001b[0;34m\u001b[0m\u001b[0m\n\u001b[1;32m    201\u001b[0m                 \u001b[0;32mfor\u001b[0m \u001b[0ml\u001b[0m\u001b[0;34m,\u001b[0m \u001b[0mo\u001b[0m \u001b[0;32min\u001b[0m \u001b[0mzip\u001b[0m\u001b[0;34m(\u001b[0m\u001b[0mout_labels\u001b[0m\u001b[0;34m,\u001b[0m \u001b[0mouts\u001b[0m\u001b[0;34m)\u001b[0m\u001b[0;34m:\u001b[0m\u001b[0;34m\u001b[0m\u001b[0;34m\u001b[0m\u001b[0m\n",
      "\u001b[0;32m~/anaconda3/envs/gpu/lib/python3.7/site-packages/keras/backend/tensorflow_backend.py\u001b[0m in \u001b[0;36m__call__\u001b[0;34m(self, inputs)\u001b[0m\n\u001b[1;32m   2713\u001b[0m                 \u001b[0;32mreturn\u001b[0m \u001b[0mself\u001b[0m\u001b[0;34m.\u001b[0m\u001b[0m_legacy_call\u001b[0m\u001b[0;34m(\u001b[0m\u001b[0minputs\u001b[0m\u001b[0;34m)\u001b[0m\u001b[0;34m\u001b[0m\u001b[0;34m\u001b[0m\u001b[0m\n\u001b[1;32m   2714\u001b[0m \u001b[0;34m\u001b[0m\u001b[0m\n\u001b[0;32m-> 2715\u001b[0;31m             \u001b[0;32mreturn\u001b[0m \u001b[0mself\u001b[0m\u001b[0;34m.\u001b[0m\u001b[0m_call\u001b[0m\u001b[0;34m(\u001b[0m\u001b[0minputs\u001b[0m\u001b[0;34m)\u001b[0m\u001b[0;34m\u001b[0m\u001b[0;34m\u001b[0m\u001b[0m\n\u001b[0m\u001b[1;32m   2716\u001b[0m         \u001b[0;32melse\u001b[0m\u001b[0;34m:\u001b[0m\u001b[0;34m\u001b[0m\u001b[0;34m\u001b[0m\u001b[0m\n\u001b[1;32m   2717\u001b[0m             \u001b[0;32mif\u001b[0m \u001b[0mpy_any\u001b[0m\u001b[0;34m(\u001b[0m\u001b[0mis_tensor\u001b[0m\u001b[0;34m(\u001b[0m\u001b[0mx\u001b[0m\u001b[0;34m)\u001b[0m \u001b[0;32mfor\u001b[0m \u001b[0mx\u001b[0m \u001b[0;32min\u001b[0m \u001b[0minputs\u001b[0m\u001b[0;34m)\u001b[0m\u001b[0;34m:\u001b[0m\u001b[0;34m\u001b[0m\u001b[0;34m\u001b[0m\u001b[0m\n",
      "\u001b[0;32m~/anaconda3/envs/gpu/lib/python3.7/site-packages/keras/backend/tensorflow_backend.py\u001b[0m in \u001b[0;36m_call\u001b[0;34m(self, inputs)\u001b[0m\n\u001b[1;32m   2673\u001b[0m             \u001b[0mfetched\u001b[0m \u001b[0;34m=\u001b[0m \u001b[0mself\u001b[0m\u001b[0;34m.\u001b[0m\u001b[0m_callable_fn\u001b[0m\u001b[0;34m(\u001b[0m\u001b[0;34m*\u001b[0m\u001b[0marray_vals\u001b[0m\u001b[0;34m,\u001b[0m \u001b[0mrun_metadata\u001b[0m\u001b[0;34m=\u001b[0m\u001b[0mself\u001b[0m\u001b[0;34m.\u001b[0m\u001b[0mrun_metadata\u001b[0m\u001b[0;34m)\u001b[0m\u001b[0;34m\u001b[0m\u001b[0;34m\u001b[0m\u001b[0m\n\u001b[1;32m   2674\u001b[0m         \u001b[0;32melse\u001b[0m\u001b[0;34m:\u001b[0m\u001b[0;34m\u001b[0m\u001b[0;34m\u001b[0m\u001b[0m\n\u001b[0;32m-> 2675\u001b[0;31m             \u001b[0mfetched\u001b[0m \u001b[0;34m=\u001b[0m \u001b[0mself\u001b[0m\u001b[0;34m.\u001b[0m\u001b[0m_callable_fn\u001b[0m\u001b[0;34m(\u001b[0m\u001b[0;34m*\u001b[0m\u001b[0marray_vals\u001b[0m\u001b[0;34m)\u001b[0m\u001b[0;34m\u001b[0m\u001b[0;34m\u001b[0m\u001b[0m\n\u001b[0m\u001b[1;32m   2676\u001b[0m         \u001b[0;32mreturn\u001b[0m \u001b[0mfetched\u001b[0m\u001b[0;34m[\u001b[0m\u001b[0;34m:\u001b[0m\u001b[0mlen\u001b[0m\u001b[0;34m(\u001b[0m\u001b[0mself\u001b[0m\u001b[0;34m.\u001b[0m\u001b[0moutputs\u001b[0m\u001b[0;34m)\u001b[0m\u001b[0;34m]\u001b[0m\u001b[0;34m\u001b[0m\u001b[0;34m\u001b[0m\u001b[0m\n\u001b[1;32m   2677\u001b[0m \u001b[0;34m\u001b[0m\u001b[0m\n",
      "\u001b[0;32m~/anaconda3/envs/gpu/lib/python3.7/site-packages/tensorflow/python/client/session.py\u001b[0m in \u001b[0;36m__call__\u001b[0;34m(self, *args, **kwargs)\u001b[0m\n\u001b[1;32m   1456\u001b[0m         ret = tf_session.TF_SessionRunCallable(self._session._session,\n\u001b[1;32m   1457\u001b[0m                                                \u001b[0mself\u001b[0m\u001b[0;34m.\u001b[0m\u001b[0m_handle\u001b[0m\u001b[0;34m,\u001b[0m \u001b[0margs\u001b[0m\u001b[0;34m,\u001b[0m\u001b[0;34m\u001b[0m\u001b[0;34m\u001b[0m\u001b[0m\n\u001b[0;32m-> 1458\u001b[0;31m                                                run_metadata_ptr)\n\u001b[0m\u001b[1;32m   1459\u001b[0m         \u001b[0;32mif\u001b[0m \u001b[0mrun_metadata\u001b[0m\u001b[0;34m:\u001b[0m\u001b[0;34m\u001b[0m\u001b[0;34m\u001b[0m\u001b[0m\n\u001b[1;32m   1460\u001b[0m           \u001b[0mproto_data\u001b[0m \u001b[0;34m=\u001b[0m \u001b[0mtf_session\u001b[0m\u001b[0;34m.\u001b[0m\u001b[0mTF_GetBuffer\u001b[0m\u001b[0;34m(\u001b[0m\u001b[0mrun_metadata_ptr\u001b[0m\u001b[0;34m)\u001b[0m\u001b[0;34m\u001b[0m\u001b[0;34m\u001b[0m\u001b[0m\n",
      "\u001b[0;31mKeyboardInterrupt\u001b[0m: "
     ]
    }
   ],
   "source": [
    "model = Sequential()\n",
    "model.add(Embedding(vocabulario, dim_vetor, input_length=x.shape[1]))\n",
    "model.add(Conv1D(32, 7, activation='relu'))\n",
    "model.add(MaxPooling1D(5))\n",
    "model.add(Conv1D(32, 7, activation='relu'))\n",
    "model.add(MaxPooling1D())\n",
    "model.add(Flatten())\n",
    "model.add(Dense(256, activation='relu'))\n",
    "model.add(Dropout(0.2))\n",
    "model.add(Dense(y.shape[1], activation='softmax'))\n",
    "model.compile(loss='categorical_crossentropy', optimizer=RMSprop(lr=5e-3),  metrics=[\"categorical_accuracy\"])\n",
    "model.summary()\n",
    "history = model.fit(x, y, epochs=20, batch_size=32, validation_split=0.2, verbose=1, shuffle=True)"
   ]
  },
  {
   "cell_type": "code",
   "execution_count": null,
   "metadata": {},
   "outputs": [],
   "source": []
  }
 ],
 "metadata": {
  "kernelspec": {
   "display_name": "Python 3",
   "language": "python",
   "name": "python3"
  },
  "language_info": {
   "codemirror_mode": {
    "name": "ipython",
    "version": 3
   },
   "file_extension": ".py",
   "mimetype": "text/x-python",
   "name": "python",
   "nbconvert_exporter": "python",
   "pygments_lexer": "ipython3",
   "version": "3.7.4"
  }
 },
 "nbformat": 4,
 "nbformat_minor": 2
}
