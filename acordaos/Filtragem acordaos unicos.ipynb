{
 "cells": [
  {
   "cell_type": "code",
   "execution_count": 1,
   "metadata": {},
   "outputs": [
    {
     "name": "stderr",
     "output_type": "stream",
     "text": [
      "[nltk_data] Downloading package stopwords to\n",
      "[nltk_data]     /home/leonardo/nltk_data...\n",
      "[nltk_data]   Package stopwords is already up-to-date!\n"
     ]
    },
    {
     "data": {
      "text/plain": [
       "True"
      ]
     },
     "execution_count": 1,
     "metadata": {},
     "output_type": "execute_result"
    }
   ],
   "source": [
    "import nltk\n",
    "\n",
    "nltk.download('stopwords')"
   ]
  },
  {
   "cell_type": "code",
   "execution_count": 2,
   "metadata": {},
   "outputs": [
    {
     "data": {
      "text/html": [
       "<div>\n",
       "<style scoped>\n",
       "    .dataframe tbody tr th:only-of-type {\n",
       "        vertical-align: middle;\n",
       "    }\n",
       "\n",
       "    .dataframe tbody tr th {\n",
       "        vertical-align: top;\n",
       "    }\n",
       "\n",
       "    .dataframe thead th {\n",
       "        text-align: right;\n",
       "    }\n",
       "</style>\n",
       "<table border=\"1\" class=\"dataframe\">\n",
       "  <thead>\n",
       "    <tr style=\"text-align: right;\">\n",
       "      <th></th>\n",
       "      <th>acordao</th>\n",
       "      <th>areas</th>\n",
       "      <th>texto_lematizado</th>\n",
       "    </tr>\n",
       "  </thead>\n",
       "  <tbody>\n",
       "    <tr>\n",
       "      <th>0</th>\n",
       "      <td>297/2016-P</td>\n",
       "      <td>Responsabilidade</td>\n",
       "      <td>tribunal de conta de o união tc XXNUMERACAO\\nX...</td>\n",
       "    </tr>\n",
       "    <tr>\n",
       "      <th>1</th>\n",
       "      <td>366/2016-P</td>\n",
       "      <td>Finanças Públicas</td>\n",
       "      <td>tribunal de conta de o união tc XXNUMERACAO\\nX...</td>\n",
       "    </tr>\n",
       "    <tr>\n",
       "      <th>2</th>\n",
       "      <td>944/2016-P</td>\n",
       "      <td>Responsabilidade</td>\n",
       "      <td>tribunal de conta de o união tc XXNUMERACAO\\nX...</td>\n",
       "    </tr>\n",
       "    <tr>\n",
       "      <th>3</th>\n",
       "      <td>30/2016-P</td>\n",
       "      <td>Direito Processual</td>\n",
       "      <td>tribunal de conta de o união tc XXNUMERACAO\\nX...</td>\n",
       "    </tr>\n",
       "    <tr>\n",
       "      <th>4</th>\n",
       "      <td>55/2016-P</td>\n",
       "      <td>Pessoal</td>\n",
       "      <td>; - ; ; wania lucia pasquarelli de o nasciment...</td>\n",
       "    </tr>\n",
       "  </tbody>\n",
       "</table>\n",
       "</div>"
      ],
      "text/plain": [
       "      acordao               areas  \\\n",
       "0  297/2016-P    Responsabilidade   \n",
       "1  366/2016-P   Finanças Públicas   \n",
       "2  944/2016-P    Responsabilidade   \n",
       "3   30/2016-P  Direito Processual   \n",
       "4   55/2016-P             Pessoal   \n",
       "\n",
       "                                    texto_lematizado  \n",
       "0  tribunal de conta de o união tc XXNUMERACAO\\nX...  \n",
       "1  tribunal de conta de o união tc XXNUMERACAO\\nX...  \n",
       "2  tribunal de conta de o união tc XXNUMERACAO\\nX...  \n",
       "3  tribunal de conta de o união tc XXNUMERACAO\\nX...  \n",
       "4  ; - ; ; wania lucia pasquarelli de o nasciment...  "
      ]
     },
     "execution_count": 2,
     "metadata": {},
     "output_type": "execute_result"
    }
   ],
   "source": [
    "import pandas as pd\n",
    "\n",
    "df = pd.read_csv('../dados/acordaos-unicos-lematizados.csv', sep = '|', encoding = 'utf-8')\n",
    "df.head()"
   ]
  },
  {
   "cell_type": "code",
   "execution_count": 3,
   "metadata": {},
   "outputs": [
    {
     "data": {
      "text/plain": [
       "(9739, 3)"
      ]
     },
     "execution_count": 3,
     "metadata": {},
     "output_type": "execute_result"
    }
   ],
   "source": [
    "df.shape"
   ]
  },
  {
   "cell_type": "code",
   "execution_count": 4,
   "metadata": {},
   "outputs": [
    {
     "name": "stdout",
     "output_type": "stream",
     "text": [
      "135748 termos distintos\n"
     ]
    }
   ],
   "source": [
    "from sklearn.feature_extraction.text import TfidfVectorizer\n",
    "from nltk.corpus import stopwords \n",
    "\n",
    "textos = df['texto_lematizado'].values\n",
    "vetorizador = TfidfVectorizer(stop_words = stopwords.words('portuguese'))  #token_pattern=r'\\S+', \n",
    "vetorizador.fit(textos)\n",
    "print(len(vetorizador.vocabulary_), 'termos distintos')"
   ]
  },
  {
   "cell_type": "code",
   "execution_count": 6,
   "metadata": {},
   "outputs": [
    {
     "data": {
      "text/plain": [
       "<1x135748 sparse matrix of type '<class 'numpy.float64'>'\n",
       "\twith 607 stored elements in Compressed Sparse Row format>"
      ]
     },
     "execution_count": 6,
     "metadata": {},
     "output_type": "execute_result"
    }
   ],
   "source": [
    "matriz = vetorizador.transform(textos)\n",
    "matriz[0]"
   ]
  },
  {
   "cell_type": "code",
   "execution_count": 7,
   "metadata": {},
   "outputs": [],
   "source": [
    "def extrair_tfidf(documento):\n",
    "    indices = []\n",
    "    acordao = []\n",
    "    tf_idf = []\n",
    "    for termo in textos[documento].split():\n",
    "        if termo in vetorizador.vocabulary_:\n",
    "            indice = vetorizador.vocabulary_[termo]\n",
    "            indices.append(indice)\n",
    "            acordao.append(termo)\n",
    "            tf_idf.append(matriz[documento,indice])\n",
    "    return acordao, indices, tf_idf"
   ]
  },
  {
   "cell_type": "code",
   "execution_count": 9,
   "metadata": {},
   "outputs": [
    {
     "name": "stdout",
     "output_type": "stream",
     "text": [
      "tribunal \t 124604 \t 0.011890583954143085\n",
      "conta \t 25317 \t 0.007318785109663216\n",
      "união \t 126354 \t 0.002744262649844002\n",
      "tc \t 121256 \t 0.0019072084518832392\n",
      "grupo \t 64704 \t 0.0018293206083297054\n",
      "classe \t 20875 \t 0.0018293206083297054\n",
      "ver \t 127861 \t 0.010998484652063512\n",
      "natureza \t 89245 \t 0.0018302599257358791\n",
      "representação \t 107538 \t 0.023312792729245184\n",
      "entidade \t 52259 \t 0.004435813284773901\n",
      "instituto \t 72093 \t 0.037621658247554285\n",
      "brasileiro \t 14163 \t 0.02897854097053326\n",
      "museu \t 88438 \t 0.08719486406265776\n",
      "ibram \t 67916 \t 0.39288447426403994\n",
      "representante \t 107516 \t 0.0027456717706640073\n",
      "secretaria \t 112846 \t 0.008091574783643505\n",
      "fiscalizar \t 58633 \t 0.07943248017928838\n",
      "tecnologia \t 121532 \t 0.057379807757647644\n",
      "informação \t 71288 \t 0.0440336612132619\n",
      "sefti \t 113053 \t 0.1021591093072635\n",
      "sumário \t 119438 \t 0.000917858749298157\n"
     ]
    }
   ],
   "source": [
    "acordao, indice, tf_idf = extrair_tfidf(9000)\n",
    "for i in range(0,21):\n",
    "    print(acordao[i], '\\t', indice[i], '\\t', tf_idf[i])"
   ]
  },
  {
   "cell_type": "code",
   "execution_count": 11,
   "metadata": {},
   "outputs": [
    {
     "data": {
      "text/plain": [
       "(6768, 6768, 6768)"
      ]
     },
     "execution_count": 11,
     "metadata": {},
     "output_type": "execute_result"
    }
   ],
   "source": [
    "len(acordao), len(indice), len(tf_idf)"
   ]
  },
  {
   "cell_type": "code",
   "execution_count": 13,
   "metadata": {},
   "outputs": [
    {
     "data": {
      "text/plain": [
       "6768"
      ]
     },
     "execution_count": 13,
     "metadata": {},
     "output_type": "execute_result"
    }
   ],
   "source": [
    "def extrair_tamanho(documento):\n",
    "    qtde = 0\n",
    "    for termo in textos[documento].split():\n",
    "        if termo in vetorizador.vocabulary_:\n",
    "            qtde += 1\n",
    "    return qtde\n",
    "extrair_tamanho(9000)"
   ]
  },
  {
   "cell_type": "code",
   "execution_count": 14,
   "metadata": {},
   "outputs": [
    {
     "data": {
      "text/plain": [
       "count      9739.000000\n",
       "mean       4845.784988\n",
       "std       10068.222161\n",
       "min         283.000000\n",
       "25%        1766.500000\n",
       "50%        3078.000000\n",
       "75%        5588.000000\n",
       "max      604173.000000\n",
       "Name: tamanho, dtype: float64"
      ]
     },
     "execution_count": 14,
     "metadata": {},
     "output_type": "execute_result"
    }
   ],
   "source": [
    "for doc in range(0, len(textos)):\n",
    "    df.loc[doc, 'tamanho'] = extrair_tamanho(doc)\n",
    "df['tamanho'].describe()"
   ]
  },
  {
   "cell_type": "code",
   "execution_count": 15,
   "metadata": {},
   "outputs": [
    {
     "data": {
      "text/plain": [
       "(9848.000000000004, 13933.700000000003, 26882.500000000022)"
      ]
     },
     "execution_count": 15,
     "metadata": {},
     "output_type": "execute_result"
    }
   ],
   "source": [
    "import numpy as np\n",
    "\n",
    "np.percentile(df['tamanho'], 90), np.percentile(df['tamanho'], 95), np.percentile(df['tamanho'], 99)"
   ]
  },
  {
   "cell_type": "code",
   "execution_count": 16,
   "metadata": {
    "scrolled": true
   },
   "outputs": [
    {
     "data": {
      "text/plain": [
       "'museu ibram sefti contrato serviço fiscal gestor contrato serviço gestor contrato fiscal sefti peça contrato museu ibram contrato ser serviço peça ser serviço ser peça peça ibram avaliar serviço avaliar serviço serviço fiscal peça peça ibram ibram peça ibram peça avaliar sefti peça contrato fiscal maxwell contrato peça sefti peça gestor contrato lemgruber junior serviço contrato fiscal peça sefti peça sefti contrato maxwell lemgruber junior peça serviço serviço peça ser ser peça ser contrato peça ser peça serviço ser ser peça avaliar serviço ibram peça contrato fiscal maxwell gestor contrato lemgruber junior ser ti ibram avaliar serviço fiscal fiscal avaliar gestor contrato peça peça fiscal sefti peça peça ser maxwell peça fiscal contrato gestor contrato fiscal contrato fiscal avaliar slti peça maxwell ibram peça contrato ti peça contrato ibram gestor contrato fiscal contrato peça contrato peça ser avaliar ser peça gestor peça peça maxwell avaliar gestor contrato ser slti ser contrato peça slti ser slti ser contrato serviço ser ser fiscal peça peça serviço contrato peça fiscal contrato ser ser contrato peça serviço peça gestor contrato contrato gestor contrato fiscal slti ser ser slti ser peça peça peça peça peça peça peça peça maxwell fiscal contrato avaliar serviço peça ibram ser maxwell ibram contrato slti lemgruber junior peça gestor contrato fiscal contrato fiscal fiscal avaliar slti peça lemgruber junior contrato slti ser ser peça serviço ibram ti ser contrato ti serviço peça ser ser ser serviço peça lemgruber junior contrato ser ibram ser gestor lemgruber junior contrato ser contrato ser lemgruber junior slti peça peça peça peça peça ser lemgruber junior ibram peça serviço gestor fiscal contrato fiscal serviço fiscal slti gestor contrato serviço fiscal serviço fiscal slti peça gestor ser avaliar avaliar ser serviço ibram serviço peça lemgruber junior ser fiscal gestor ser ser serviço peça contrato avaliar fiscal avaliar gestor avaliar serviço ser peça fiscal avaliar peça fiscal avaliar ser peça gestor fiscal fiscal contrato avaliar fiscal ser avaliar fiscal peça ser fiscal contrato ibram avaliar serviço avaliar ser peça avaliar avaliar serviço fiscal fiscal fiscal peça contrato ibram avaliar fiscal serviço ser avaliar ser serviço peça ti ti fiscal fiscal gestor serviço peça segregar peça ser slti contrato peça ser segregar segregar ti lemgruber junior gestor contrato peça segregar contrato ti contrato ser lemgruber junior ibram fiscal gestor contrato peça fiscal contrato fiscal segregar ser lemgruber junior fiscal contrato avaliar fiscal peça fiscal slti contrato gestor segregar ti serviço segregar fiscal contrato ibram ser lemgruber junior serviço fiscal peça peça ser serviço ser contrato ser fiscal contrato peça fiscal lemgruber junior ser fiscal avaliar fiscal ser fiscal contrato ser avaliar fiscal segregar ser gestor contrato fiscal segregar gestor contrato lemgruber junior avaliar fiscal fiscal contrato lemgruber junior ser maxwell lemgruber junior contrato lemgruber junior gestor fiscal contrato serviço fiscal slti ser museu contrato museu contrato slti ser maxwell lemgruber junior museu peça contrato sefti avaliar serviço contrato fiscal peça gestor contrato serviço avaliar fiscal serviço avaliar avaliar segregar ser contrato ti slti avaliar gestor segregar ser ibram ti ti contrato ibram ti lemgruber junior peça ti peça ibram peça ti ti ser ti ibram ser ser ser ti ser sefti ti avaliar ti ser ti ser ti ti ti ti ser ti contrato ti ti ibram ser ti ibram avaliar ti ibram peça ti ti ti ser ser ti ibram contrato ser ti avaliar ti serviço contrato serviço contrato ibram segregar contrato ser gestor peça fiscal contrato avaliar fiscal segregar fiscal ser ti ser gestor ti ti ibram contrato contrato avaliar peça gestor contrato fiscal gestor contrato avaliar serviço serviço gestor peça ser fiscal gestor avaliar contrato fiscal gestor avaliar ser ser fiscal contrato peça contrato fiscal gestor contrato fiscal gestor fiscal gestor fiscal serviço peça ser fiscal avaliar peça ser gestor fiscal contrato fiscal ser gestor avaliar fiscal ser serviço avaliar gestor fiscal fiscal avaliar gestor segregar gestor fiscal segregar gestor fiscal gestor slti fiscal contrato avaliar serviço contrato fiscal contrato fiscal contrato ser ser gestor ser serviço ti gestor sefti contrato ser ser ser serviço serviço contrato fiscal gestor contrato ti fiscal gestor contrato ti ti ti contrato contrato ser ser ser gestor ser gestor contrato ti segregar ibram peça contrato ibram avaliar ser gestor contrato segregar ti ibram ser avaliar fiscal avaliar segregar gestor ser lemgruber junior gestor avaliar gestor museu ibram avaliar avaliar serviço lemgruber junior gestor fiscal contrato serviço gestor segregar ti ibram gestor museu contrato ser museu gestor contrato fiscal contrato segregar slti museu avaliar ti avaliar serviço ti ti ser sefti contrato museu ibram serviço contrato ser peça sefti avaliar serviço avaliar serviço serviço fiscal peça ibram sefti fiscal gestor contrato fiscal fiscal ser avaliar peça fiscal gestor contrato sefti serviço ibram serviço fiscal ser gestor contrato serviço serviço ibram avaliar serviço ser peça serviço fiscal serviço peça gestor ibram avaliar serviço ser peça ser contrato ser ser serviço serviço fiscal ser serviço peça gestor serviço ser serviço ser peça sefti ibram serviço ser serviço sefti ibram contrato fiscal avaliar serviço ibram gestor contrato fiscal slti segregar sefti maxwell fiscal lemgruber junior gestor contrato fiscal serviço contrato avaliar maxwell lemgruber junior segregar slti gestor contrato ibram contrato slti sefti avaliar serviço contrato fiscal ti ibram gestor lemgruber junior segregar sefti ti contrato ibram ti ibram avaliar ti ti ibram avaliar avaliar serviço maxwell lemgruber junior contrato slti avaliar slti ser slti ser lemgruber junior serviço avaliar lemgruber junior contrato fiscal gestor gestor contrato ser fiscal maxwell ser fiscal serviço gestor avaliar segregar sefti gestor ser ti ibram ser lemgruber junior ser serviço ser contrato ibram ser gestor ibram avaliar ser ibram fiscal gestor contrato ser sefti museu ibram sefti sefti contrato serviço museu museu contrato ser ser museu gestor contrato fiscal contrato segregar slti slti museu maxwell lemgruber junior'"
      ]
     },
     "execution_count": 16,
     "metadata": {},
     "output_type": "execute_result"
    }
   ],
   "source": [
    "def filtrar_texto(acordao, tf_idf, maximo):\n",
    "    derivado = ''\n",
    "    original = len(tf_idf)\n",
    "    if maximo >= original:\n",
    "        minimo = 0\n",
    "    else:\n",
    "        minimo = np.percentile(tf_idf,100-100*maximo/original)\n",
    "    for indice, valor in enumerate(tf_idf):\n",
    "        if valor > minimo:\n",
    "            derivado += acordao[indice] + ' '\n",
    "    return derivado[:-1]\n",
    "filtrar_texto(acordao, tf_idf, 1000)"
   ]
  },
  {
   "cell_type": "code",
   "execution_count": 24,
   "metadata": {},
   "outputs": [
    {
     "data": {
      "text/plain": [
       "'tribunal conta união tc grupo classe ver natureza representação entidade instituto brasileiro museu ibram representante secretaria fiscalizar tecnologia informação sefti sumário representação supor regularidade ocorrer execução contrato prestar serviço suporte tecnológico divergência fiscal técnico gestor contrato atesto fatura ausência plano fiscalizar análise qualidade atesto pagar serviço apenas gestor contrato manifestação prévio fiscal técnico conhecer procedência parcial determinação ciência entidade contratante relatório tratar representação formular secretaria fiscalizar tecnologia informação sefti motivar manifestação registrada ouvidoria peça respeito suposto regularidade ocorrer contrato firmar instituto brasileiro museu ibram empresa stefanini consultadoria assessoria informática cnpj aludir contrato ser resultante pregão eletrônico pe ter objeto dprestação serviço suporte tecnológico ambiente tecnologia informação comunicação tic contratante unidade compor estrutura organizacionald peça valor global prever análise preliminar unidade técnico entender poder estar ser efetuar pagar serviço prestar cujo prestar estar ser devidamente comprovar peça parágrafo desconformidade preconizar acórdão ante razão expor secretaria determinar peça realizar diligência oitiva ibram respeito quatro possível regularidade mensurar avaliar qualidade serviço prestar efetivo monitoramento execução contratual mensurar avaliar qualidade serviço prestar incluir eventual glosa observar modelo remuneração nível mínimo serviço prever termo referência tr pe realizar pagar vincular resultados realizar pagar valor superior atestado fiscal técnico peça parágrafo resposta ofício encaminhar peça ibram intermédio ofício gab pres ibram peça apresentar memorar ctinf dpgi ibram peça informar obter ir avaliar sefti instrução peça entender indício regularidade indicar item acima sanar esclarecer prestar ir suficiente afastar descrever item suprir modo caber realizar audiência responsável fiscalizar contrato conclusão unidade especializar promover base delegar competência mim conferir audiência fiscal técnico época fato senhor maxwell alencar menezes elaborar plano fiscalizar contrato peça parágrafo ofício sefti peça gestor contrato senhor joão carlos lemgruber junior regularidade ter analisar qualidade consolidar emitir relatório mensal atividade rmas atestado pagar serviço âmbito contrato questão participação manifestação prévio fiscal técnico peça parágrafo ofício sefti peça transcrever seguir ajuste forma excerto instrução auditor federal controle externo sefti endosso diretor unidade apresentar algum dado respeito contrato analisar razão justificativa ofertar senhor maxwell alencar menezes joão carlos lemgruber junior apresentar proposta encaminhar peça dhistórico conformar extrato termo aditivo publicar dar referir ajuste ir prorrogar vigência novo valor após supressão objeto inicial contratar passar apesar valor global prever modelo adotar remuneração contratar envolver pagar serviço efetivo executar contratar base aferir mensal unidade medida serviço ums equivalente quantitativo esforço hora trabalho atividade complexidade baixo peça item quais ser final converter valor financeiro base custo unitário cotar contratar ums certame modelo contratar remuneração prever aferir referir ums caso aplicação glosa ser detalhar edital peça ser prever período sessenta dia contar data assinatura contrato título adaptação estabilizar bem algum sanção penalidade peça item tarefa ser dividir três tipo rotineiro suporte demanda peça cada tarefa detalhar ordem serviço específico ser listar série atividade definir correspondente quantitativo ums prever nível qualidade exigir ensejar glosa caso ser cumprir peça haver definição indicar meta avaliar qualidade serviço crítico ibram cujo atingir poder igual ensejar glosa contratar peça partir leitura documento constante processo pagar relativo contrato verificar existência divergência significativo fiscal técnico senhor maxwell alencar meneses cpf gestor contrato senhor joão carlos lemgruber junior cpf ser coordenador tecnologia informação ti ibram quanto avaliar serviço prestar mês último atestar quantitativo ums superior atestado fiscal técnico além disso inexistiu manifestação fiscal técnico mês avaliar ir fazer apenas gestor contrato peça parágrafo peça fiscal técnico ir substituir exame técnico responsável tomar ciência ofício sefti respectivamente peça peça ter apresentar tempestivamente respectivas razão justificativa cujo análise ser apresentar seguir senhor maxwell alencar menezes cpf conduta peça item ter elaborar fiscal técnico plano fiscalizar contrato conjunto gestor contrato fiscal requisitante prejudicar monitoramento execução contrato acarretar divergência fiscal técnico requisitante avaliar cumprimento requisito técnico condição contratual contrariar artigo incisar artigo incisar in slti mp razão justificativa peça senhor maxwell alencar menezes frisa ter haver intencionalidade cumprir exigência ter ficar surpreso questionar tcu respeito visto então ter percepção fato destacar inclusive ter próprio acionar tanto ouvidoria tribunal quanto auditoria ibram grande custo pessoal si peça afirmar contratar ir realizar sob molde in anterior versão haver salvar engano nenhum menção plano fiscalizar ainda haver participar processo fiscalizar contrato ti nova versão conseguinte estar habituar pleno instruir sentido peça apontar item manual gestão fiscalizar contrato minc órgão ibram estar vincular atribuir gestor contrato papel coordenar atividade fiscal contrato aduzir tal fato eximir obrigação ter elaborar plano fiscalizar evidenciar falta visão todo envolver quanto necessidade ter receber orientação algum sentido peça informar época ir escalar presidir comissão pad grande complexidade exigir dedicar integral certo período ter solicitar sucesso respectivo ligar comissão acúmulo atividade comprometer dedicar pleno fiscalizar contrato revisão exigência imposto versão in seriar identificar ausência plano fiscalizar peça considerar conteúdo ser inserir plano fiscalizar conforme modelo disponibilizar mpog certo modo constar outro instrumento contratar então poder considerar falta plano impedir prática fiscalizar conforme ditame ademais avaliar ter ser elaborar talvez documento fossar inócuo pois poder trazer tipo especificar genérico imprecisão generalismos conter instrumento contratual peça aduzir gestor seguir desde início linha contemporizar exigência prever instrumento contratual atitude plano fiscalizar seriar letra morto incapaz alterar tal postura peça restante peça senhor maxwell alencar menezes tecer considerar externo reflexão acercar outro aspecto representação exemplo avaliar realizar certo condutar adotar gestor contrato caracterizar razão justificativa acercar elaborar plano fiscalizar trecho ser analisar aqui análise apesar ter entrar vigor apenas in slti mp ser conhecer desde data edição quase dez mês portanto antes data assinatura contrato peça ademais despeito prever expresso elaborar plano fiscalizar in slti mp artigo relacionar algum atividade monitoramento execução contratual tipicamente assemelhar metodologia fiscalizar in posterior artigo incisar xvii buscar detalhar partir previsão confecção citar plano cujo objetivo ser dar efetividade monitoramento gestão contratual previsão elaborar documento específico in slti mp prever roteiro básico monitoramento execução contratual ter ser seguir risca seriar capaz evitar menos parte falha verificar âmbito contrato divergência relacionar possibilidade prestar serviço monitoração forma remoto exemplo poder ter ser esclarecer reunião inicial cujo realizar ser prever in artigo incisar item tal esclarecer ocorrer fiscal técnico ateve estrito previsão constante termo referência tr peça item peça parágrafo algum rotina fiscalizar qualidade entrega serviço ir detalhar somente ano após assinar contrato peça provavelmente apenas função denúncia dar ensejo representação inexperiência conhecer fiscal técnico acercar necessidade elaborar plano fiscalizar contrato bem fato ter ser autor denúncia apresentar ouvidoria tcu parágrafo princípio ser capaz eximi lo parcela culpa relação conduta questionar existir tal plano responsabilidade fiscalizatória perante contrato luz especificar genérico prever tr peça parágrafo demandar elaborar rotina mínimo acompanhar modo metodologia validação execução serviço ficar suficiente claro dar margem divergência significativo interpretação verificar caso concreto peça parágrafo tampouco isentar culpa acúmulo atividade parágrafo insuficiente coordenação orientação exercer gestor contrato fato manual gestão fiscalizar contrato minc atribuir gestor contrato papel coordenação sobre atividade fiscal parágrafo eximir último obrigar in slti mp impor ver termo jurídico ser hierarquicamente superior inefetividade plano fiscalizar eventual elaborar parágrafo turno tratar mero conjectura igual ser capaz justificar regularidade contudo perceber conforme alegar fato processo contratar ter trâmite iniciar ainda sob égide portanto in slti mp ter ser produzir artefato prever artigo in documento oficializar demanda peça análise viabilidade contratar peça plano sustentar peça estratégia contratar peça peça análise risco peça termo referência peça peça embora tal fato justificar si ausência plano fiscalizar certo atenuar responsabilidade senhor maxwell alencar menezes ter elaborar documento ademais análise auto perceber fiscal técnico apesar ausência referir plano ter atuação ativo diligente quanto fiscalizar contrato mostrar relatório avaliar serviço elaborar peça nota técnico dsup ctinf dpgi ibram assim ser propor acatar razão justificativa apresentar senhor maxwell alencar menezes relação conduta prejuízo cientificação ibram sobre regularidade relativo ausência elaborar plano fiscalizar âmbito contrato conforme prever artigo incisar in slti mp ii senhor joão carlos lemgruber junior cpf conduta peça item ter elaborar gestor contrato fiscal requisitante plano fiscalizar contrato conjunto fiscal técnico prejudicar monitoramento execução contratual acarretar divergência fiscal técnico requisitante avaliar cumprimento requisito técnico condição contratual contrariar artigo incisar artigo incisar in slti mp razão justificativa peça senhor joão carlos lemgruber junior relatar processo administrativo originar contrato utilizar artefato planejamento contratar sob ótica in slti mp prever documento plano fiscalizar acrescentar in ser recente equipe servir órgão ainda capacitar nova instrução normativo entender ser difuso sobre necessidade momento confecção documento existir sentir termo referência ter elemento suficiente fiscalizar execução contratual peça informar início prestar serviço ibram passar mudança alta administrar chegada novo presidente nova diretoria planejamento gestão interno onde área ti ser subordinar resultar alteração prioridade projeto novo encaminhar setor aduzir definição requisito fiscalizar contrato consequente elaborar documento plano fiscalizar ir prejudicar saída servir férias alinhar baixo quantitativo pessoal unidade novo prioridade ti necessidade manutenção serviço crítico essencial peça finalizar dizer requisito técnico sobre execução contratual assim qualidade relatório ser apresentar ir detalhar estar ser utilizar referência atividade fiscalizar exemplo documento denominar rotina padronizar definir proceder ser executar produção relatório sobre gestão serviço rotineiro peça análise todo ocorrer perceber prática impressão senhor joão carlos lemgruber junior acercar suficiência tr fim fiscalizar execução contrato parágrafo mostrar equivocar apesar poder explicar falha igual ser capaz justificar lo argumento relativo férias servir carência pessoal priorizar nova gestão ibram parágrafo vez fator ser inerente rotina todo gestor administrar público manifestação senhor joão carlos lemgruber junior explicar longo execução contratual ir detalhar definir maneira satisfatório requisito atinente fiscalizar contrato qualidade relatório demandar contratar parágrafo básico atestar algum documento dar suporte fiscalizar quais óbvio dever ter ser definir antes iniciar execução contrato acabar ser elaborar somente ano após respectiva assinatura parágrafo fato constituir próprio cerne regularidade sob comento embargo aproveitar defesa senhor joão carlos lemgruber junior fato processo contratar ter iniciar sob égide in slti mp efetivo produção artefato pertinente parágrafo bem postura igual ativo relativo fiscalizar contratual parágrafo peça nota técnico ctinf dpgi peça peça peça peça relatório fiscalizar técnico destarte ser propor acatar razão justificativa apresentar senhor joão carlos lemgruber junior relativo conduta sob comento prejuízo dar ciência ibram acercar regularidade condutar peça item ter analisar qualidade serviço consolidar emitir condição gestor fiscal requisitante contrato participação fiscal técnico relatório mensal atividade mês permitir pagar serviço pronunciar fiscal técnico contrariar dispor artigo inciso in slti mp item termo referência anexar edital pe ter atestar gestor contrato serviço executar mês manifestação prévio fiscal técnico permitir pagar serviço pronunciar fiscal contrariar dispor artigo inciso in slti mp item termo referência anexar edital pe razão justificativa peça gestor informar respeito mês possuir inicial entender ser considerar período avaliar adaptação avaliar resultados poder ser realizar através relatório gerenciais entregues conter informar sobre atender chamar sustentar serviço existentes ação planejadas realizar modificação infraestrutura ibram adequar modelo ust permitir atender novo nível mínimo serviço exigir peça senhor joão carlos lemgruber junior afirmar durante primeiro mês execução contratual ainda haver ser nomear fiscal técnico gestor ocorrer apenas momento ainda haver ser discutir alterar sobre execução contratual atender dispor acórdão tcu plenário portanto definição modelo relatório ser entregues evidência execução serviço peça aduzir vez fatura ir paga divisão contrato retornar avaliar fiscal técnico entender maduro respeito acórdão elaborar avaliar detalhe resultar valor menor inicial atestado gestor poder modificar entender sobre avaliar detalhar serviço prestar consequente parecer inicial respeito dever ser devidamente remunerar manter coerência dispor referir acórdão peça sobre informar respectivos relatório execução ir entregues contratar dia empresa solicitar devolução ajuste correção impossibilitar fiscal técnico momento realizar avaliar emitir termo receber provisório peça salientar fiscal prosseguir avaliar relatório entregues exemplo mês posterior mês cujo respectivas nota técnico ir concluir data ir substituir ter documentar relativo bem ser entregar somente após substituir peça gestor expor troca fiscal haver melhoria fiscalizar exemplo acompanhar diário apenas final mês relatório entregues empresa modificação redução catálogo tarefa permitir adequar acórdão tcu plenário melhoria qualidade documentar entregar complementar dizer novo fiscal técnico possuir outro atribuir unidade exemplo gestão contrato outsourcing impressão estar pleno transição contratual conjunto fato sentir confortável avaliar execução responsabilidade sob antigo fiscal resultar situação período ficar condição ser avaliar fiscal técnico nomear peça senhor joão carlos afirmar ter ser fiscal contrato anterior sempre ter conhecer técnico suficiente sobre ambiente infraestrutura ibram permitir avaliar objetivo relatório entregues empresa contratar objetivo garantir correto prestar serviço celeridade avaliar maneira evitar risco órgão atraso extenso devido tempo gasto alinhar sobre relatório ser apresentar peça ressaltar todo avaliar técnico aplicar utilizar maneira consistente critério técnico julgar sempre respeitar cláusula existentes termo referência ter intenção avaliar unilateral serviço diminuir importância necessidade trabalho fiscal atuação resultar situação excepcional devir troca fiscal técnico conjunto outro atividade responsabilidade servir coordenação impossibilitar análise fiscal período questionar peça acrescentar divergência técnico gerar situação atípico fiscalizar contrato ibram intenção ir registrar concordância avaliar fiscal entender exacerbar basear critério técnico inexistente aplicação glosa poder gerar prejuízo órgão validar correto serviço prestar ser avaliar fazer ser aplicar critério objetivo existentes termo referência através diligência documentar apresentar exigir fossar caso detalhe poder corroborar serviço prestar peça parágrafo finalizar dizer coordenador ti conjunto diretoria planejamento ti tomar decisão sobre troca fiscal após haver discordância técnico fiscal técnico gestor além correto entender contratar execução serviço peça parágrafo análise dois regularidade aqui analisar ter pano fundo central bem apontar instrução anterior princípio segregar função peça parágrafo tal princípio ser exato dar ensejo citar previsão in slti mp similar modelo gestão contrato constante tr prever existência ator prescrever papel responsabilidade cada peça item respectivos subitens ser notório segregar função princípio basilar controle interno visar mitigar conflito interesse erro omissão fraude entanto caso tela pecar vários aspecto tanger observância princípio exemplo ir segregar função processo contratar gestão ti senhor joão carlos lemgruber junior participar confecção tr atuar gestor contrato resultante peça primeiro parágrafo oportuno transcrever seguir trecho guia boa prático contratar solução tecnologia informação tribunal conta união tcu versão segregar função processo trabalho contratar gestão contrato solução ti exemplo garantir especificar objeto licitar efetuar gestão contratual modo evitar criação brecha contrato poder ser explorar gestão contratual agente causar exemplo dano erário ainda retardar detecção dano ademais senhor joão carlos lemgruber junior coordenador tecnologia informação ibram acumular papel fiscal requisitante gestor contrato peça parágrafo desempenhar função seriar próprias fiscal técnico contrato prever item tr passar atuar único fiscal avença jogar terra qualquer resquício segregar função ainda poder restar ressaltar apesar condutar apontar referir apenas quatro mês execução contratual saber parágrafo bem verdade situação ter ser senhor joão carlos lemgruber junior estar atuar fossar único fiscal contrato durante todo período ter vista fim pagar próprio análise avaliar prevalecer sobre realizar fiscal técnico peça parágrafo atuar prática fiscal único além ditame in slti mp próprio modelo gestão contrato tr gestor desrespeitar previsão segregar função instituir lei transcrever novo trecho guia boa prático contratar solução ti tcu versão item grifo considerar relação receber serviço artigo incisar alínea lei haver segregar função fiscal contrato efetuar receber provisório servir comissão receber efetuar receber definitivo situação criar apresentar alto risco ibram pouco materializar prejuízo concreto administrar ser narrativa senhor joão carlos lemgruber junior referente atesto serviço prestar mês contradizer alegar fiscal técnico peça primeiro parágrafo descrição acontecimento conforme expor instrução pretérito peça parágrafo subparágrafos alegar ter ser definir modelo relatório evidenciar execução serviço virtude prolação recente acórdão cujo sessão ocorrer parágrafo merecer prosperar definição modelo dever ter ser fazer bojo tr independente acórdão vez depender próprio fiscalizar contrato aliás mostrar falha justo virtude ausência explicação dar sobre demais mês igual ser capaz justificar ausência manifestação fiscal técnico contrato fossar antigo ocupar função peça fossar novo passar ocupar la dali diante lembrar tomar decisão substituir fiscal ir próprio senhor joão carlos lemgruber junior parágrafo vez aferir ser objetivo basear documento relatório entregues contratar qualquer dois fiscal ter pleno condição realizar avaliar tempo fossar novo fiscal alegar sentir confortável realizar lo referir período anterior nomear estar trabalho acumular ser fiscal outro contrato parágrafo antemão levantar dúvida acercar adequabilidade nomear todo caso fato ser diante realizar avaliar nenhum fiscal novo antigo restar caracterizar ausência segregar função conforme expor quanto ponto frisar momento nenhum estar ser questionar qualidade análise realizar gestor contrato tão somente fato ter acumular indevido papel fiscal técnico segregar função consequente definição respectivos papel responsabilidade servir justo dar margem verificar prática caso tela gestor contrato senhor joão carlos lemgruber junior caber divergir avaliar fiscal realizar lo novo lugar ver tratar papel distinto estar contente qualidade trabalho fiscal técnico parágrafo poder substituir lo qualquer momento efetivo acabar fazer acumular ainda papel concentrar si todo responsabilidade fiscalizatória relativo contrato durante mês exposto ponderar rejeição razão justificativa senhor joão carlos lemgruber junior quanto dois condutar ora análise propor ser aplicar multa prever artigo incisar lei proposta encaminhar ante exposto propor submeter auto gabinete ministro relator marco bemquerer seguinte proposta encaminhar conhecer representação termo artigo incisar reger interno tcu presente requisito constante artigo parágrafo todo resolução tcu mérito considerar lo parcial procedente acatar razão justificativa apresentar senhor maxwell alencar menezes cpf joão carlos lemgruber junior cpf quanto elaborar plano fiscalizar contrato rejeitar razão justificativa apresentar senhor joão carlos lemgruber junior cpf gestor fiscal requisitante contrato desde quanto análise atesto unilateral qualidade serviço consequente encaminhar pagar haver qualquer participação manifestação fiscal técnico contrariar dispor artigo inciso in slti mp item termo referência anexar edital pe bem artigo incisar alínea lei aplicar responsável citar subitem multa prever artigo incisar lei fixar prazo quinze dia contar respectiva notificar comprovar perante tribunal recolher dívida tesouro nacional atualizar monetário desde data acórdão efetivo pagar ir paga após vencer forma legislação vigor artigo incisar alínea reger interno tcu autorizar desconto dívida remuneração servir citar subitem observar dispor artigo lei autorizar desde logo termo artigo incisar lei cobrança judicial dívida caso atender notificar ser possível desconto determinar determinar instituto brasileiro museu fundamento artigo incisar reger interno tcu encaminhar tcu relatório final apurar envolver contrato cujo execução estar curso âmbito unidade auditoria interno audin dar ciência instituto brasileiro museu sobre ausência elaborar plano fiscalizar contrato afrontar dispor artigo incisar artigo incisar in slti mp vista adoção providência interno prevenir ocorrência outro semelhante dar ciência acórdão vir ser proferir assim relatório voto fundamentar denunciante senhor maxwell alencar menezes cpf joão carlos lemgruber junior cpf instituto brasileiro museu manifestante identificar peça despeito anuir análise acima transcrita referir acolher razão justificativa quanto elaborar plano fiscalizar contrato titular sefti apenas concordar parcial tocante exame ocorrência relativo atesto avaliar serviço prestar âmbito citar contrato devida manifestação fiscal nomear respeito apresentar seguinte argumento peça princípio entender gestor contrato adotar conduta temerário atestar serviço prestar mês devir avaliar prévio fiscal serviço prestar mês base avaliar técnico realizar próprio tal conduta eliminar instância avaliar execução contratual visar mitigar risco falha ato mal intencionado comprometer pleno atender interesse administrar meio contratar registre segregar função ser princípio basilar controle interno âmbito execução contrato ti estar materializar artigo in slti mp observar porém avaliar conduta sobre repousar proposta responsabilizar gestor inobservância segregar função poder ser descolar contexto organizacional imperar momento área tecnologia informação ibram sobretudo dizer respeito disponibilidade pessoal relação capacidade governança ti organização recorrer levantar governança ti realizar tcu ano período compreender vigência contrato ibram sob análise quanto situação pessoal área ti corroborar informação apresentar razão justificativa senhor joão carlos lemgruber junior peça organização informar levantar tcu contar apenas servir efetivo área ti tanto quanto conforme resposta coletar fiscalizar peça item sinal nota ibram dimensão pessoa peça ir cair valor indicar situação baixo maturidade organização relação prática gestão pessoa ti verificar ainda índice refletir situação geral governança gestão ti igovti autarquia escala ser número classificar estágio inicial capacidade governança ti observar discreta melhora ibram resultado igovti saltar ir suficiente porém tirar lo estágio inicial número indicar nível baixo prática liderança estratégia informação pessoa processo resultados dimensão explorar questionário aplicar levantar impende ressaltar baixa maturidade índice governança gestão ser justificativo absoluto isentar culpabilidade qualquer agente público sobretudo exercício função gestão possuir dever atuar aprimorar processo prática governança gestão contudo ser necessário consignar alocar recurso humano quantidade capacidade necessário ser elemento viabilizar prática governança ti ser pessoal suficiente difícil poder avançar governança respeito assim dispor entender ver nota técnico sefti tcu cujo divulgar ir autorizar meio item acórdão relatoria min weder oliveira entender ver convir alocar recurso humano próprio número suficiente executar função relacionar ti acordo estratégia definir organização respaldo avaliar objetivo quantitativo necessário buscar desenvolver habilidade competência essencial exercício atribuir ademais fragilidade situação pessoal ti administrar público ir objeto minucioso estudo tribunal resultar acórdão relatoria min raimundo carreiro ocasião julgar acórdão ministro revisor augusto sherman cavalcanti assim posicionar presente fiscalizar ser rico informar apresentar bom diagnóstico situação estrutura recurso humano alocar área ti cujo resumo apresentar voto conduzir excelência ministro raimundo carreiro pretender alongar trazer dado ali poder ser ler porém necessário insistir experiência obter fiscalizar tribunal indicar boa política pessoal ti passar necessário criação cargo específico área ti distribuir carreira forma propiciar servir oportunidade crescer profissional atribuição função gerenciais exclusivo servir ocupar cargo efetivo ti estipular remuneração coerente relevância atribuir desenvolver permanente capacitar servir passo insistente apresentar relatório corte sob indicativo recomendar remontar vários ano tornar necessário ver base informar constante presente levantar adoção medidas cogentes sentido propiciar adequar estímulo elevação almejar grau suficiência quantitativo qualitativo recurso humano área ti órgão administrar público federal razão oferecer tribunal propor alternativa deliberar linha alvitrar eminente relator buscar alcançar objetivo almejar excelência tribunal todo administrar fazer portanto forma determinar apresentar minuta acórdão submeter deliberar dever termo artigo reger interno tcu ser objeto futuro ação fiscalizatória verificação cumprimento resultados alcançar implementar medidas situação fática apresentar auto demonstrar vez fragilidade situação pessoal ti administrar público orçar contrato materialidade significativo ficar sob responsabilidade estrutura organizacional absoluto incapaz fazer gestão apropriar recurso ti acordo dado obter siop painel orçar federal orçar empenhar despesa ti ibram ir milhões ter ser liquidar milhões portanto verdade problema identificar execução contratual decorrer falta ação governança nível alto chamar ainda atenção desempenho organização âmbito levantar dimensão liderança materializar governança ti propriamente ditar nota ibram dimensão ir apenas indicar instituição ter mínimo estrutura governança direcionar suportar avaliar ação gestão ti destacar algum situação identificar próprio resposta ibram questionário aplicar levantar peça ausência definição papel responsabilidade ti relevante governança gestão ti comitê ti ainda ser efetivo ter apenas ser iniciar plano adoção prática inexistência diretriz entrega resultado gestão risco gestão pessoa ti situação demonstrar exposição claro ibram risco possível ainda aqui identificar diante incapacidade instituto prover recurso humano quantitativo suficiente gerir área tecnologia informação respectivos contrato ser questionar próprio existência área ti independente autarquia federal sob outro ótica ministério cultura bem outro ministério situação similar dever avaliar existência unidade ti mínimo condição operacional organizar vincular estudar caso positivo alternativas aglutinação serviço contrato forma evitar duplicação sobreposição estrutura serviço contrato consumir escasso recurso público caber lembrar acordo artigo inciso xiv anexo decreto caber subsecretariar gestão estratégico ministério cultura xiv coordenar supervisionar ação relativo planejamento estratégico tecnologia informação respectiva implementar âmbito ministério cultura entidade vincular fazer considerar diante cenário restrição pessoal identificar ibram haver reconhecer tornar difícil aplicar instituto segregar função especial ainda considerar desafio selecionar servir perfil adequar fiscalizar contrato acúmulo função caso concreto apenas quatro servir considerar dois estar envolver presente processo ter divergência si alternativas ser mínimo gestor pois segundo peça novo fiscal além acumular outro atividade gestão contrato outsourcing impressão manifestar conforto avaliar execução sob responsabilidade antigo fiscal ver três quatro mês atestar segregar out nov fev ir entregues empresa após substituir fiscal técnico ser importante lembrar governança ti ser assunto afetar alto administrar sentido adoção providência melhoria situação caber simples gestor ti haver vista extrapolar competência diante desse cenário baixo maturidade governança gestão ti especial aspecto destacar compreender dificuldade enfrentar ibram adequar novo modelo remuneração trazer contrato basear resultados substituir modelo posto trabalho contrato anterior pôr voltar direcionar foco ocorrência dar origem audiência pois entender justificativo apresentar merecer avaliar instrução preliminar unidade técnico peça par apresentar série divergência gestor contrato fiscal quanto interpretação cláusula contratual exemplo relação período adaptação contratual concluir divergência decorrer falha planejamento necessário má fé gestor contrato concluir divergência avaliar cumprimento requisito técnico condição contratual decorrer sobretudo especificar genérico termo referência aliar ausência plano fiscalizar detalhar previamente forma validação execução serviço referir conduta relacionar atesto serviço mês alegar gestor razão justificativa peça durante primeiro mês execução contratual ainda haver ser nomear fiscal técnico gestor ter ocorrer somente gerar dúvida quanto responsabilidade período sob análise vez primeira avaliar fatura ir paga divisão contrato após manifestação fiscal gestor reconhecer equívoco fazer avaliar valor ser pago resultar redução sob aspecto entender justificativo quanto atesto mês poder ser parcial acolher sobre fatura ainda fiscal contrato ouvir audiência peça indicar solicitar pagar divisão contrato ante ausência manifestação contudo chamar atenção informação prestar fiscal informar sobre fato dar ciência gestor receio reação tal informação revelar absoluto faltar confiança dificuldade prático ocorrer ambos gestão fiscalizar contrato comento relação demais mês atestar manifestação fiscal out nov fev justificar gestor documentar mês ir entregue empresa após substituir fiscal técnico ocorrer conforme destacar anterior justificar gestor novo fiscal sentir vontade atestar serviço mês anterior nomear peça respeito divergir entender auditor alegar vez aferir ser objetivo basear documento relatório entregues contratar qualquer dois fiscal ter pleno condição realizar avaliar tempo fossar peça par novo entender poder distanciar análise contexto fático existente ser explícito divergência gestor fiscal contrato bem assunção novo fiscal ser todo integrante equipe quatro pessoa acumular outro responsabilidade ademais conforme informar gestor razão justificativa demais avaliar cargo fiscal técnico set dez jan ir concluir ser atraso perceptível concernir atestos serviço basear apenas avaliar individual gestor reforço conduta ir indevido poder ter causar prejuízo administrar conforme registrado análise auditor contudo diante situação conflito fiscal anterior devida recusa novo fiscal avaliar ato anterior nomear significativo restrição pessoal unidade sobretudo fato restar consignar instrução técnico precedente ocorrência prejuízo erário ocorrência má fé identificar presente momento elemento conduta parte gestor indicar necessário responsabilizar ter praticar ato ausência segregar função ainda conforme consignar item audiência parágrafo haver registrar gestor acumular função fiscal requisitante lado acumular tanto papel violar princípio segregar função outro permitir gestor ouvir audiência responder papel dividir responsabilidade fiscal técnico acordo item norma ter violar gestor artigo inciso in slti mp haver compartilhamento responsabilidade fiscal técnico requisitante artigo monitoramento execução dever observar dispor plano fiscalizar contratar dispor modelo gestão contrato consistir ii avaliar qualidade serviço realizar bem entregues justificativo partir aplicação lista verificação acordo critério aceitar definir contrato cargo fiscal técnico requisitante contrato iii identificação conformidade termo contratual cargo fiscal técnico requisitante contrato grifou ademais conforme ensinar enunciar jurisprudência tribunal respaldado acórdão relatoria min benjamin zymler semelhante dispor acórdão relator haver considerar ocorrência eventual excludente culpabilidade âmbito processo tcu responsabilidade administrar recurso público base artigo parágrafo único constituição federal ser natureza subjetivo seguir regra geral responsabilidade civil portanto ser exigir simultâneo três pressupor responsabilizar gestor ato ilícito gestão recurso público ii conduta doloso culposo iii nexo causalidade dano comportar agente dever ser verificar ainda ocorrência eventual excludente culpabilidade tal inexigibilidade conduta diverso ausência potencial conhecer ilicitude caber registrar acórdão citar instrução precedente relatoria min augusto sherman ir oriundo fiscalizar orientação centralizar foc época sob supervisão originar série representar ante diversos indício regularidade pagar serviço ti sujeitos aplicação métrica ust auditoria integrante foc haver proposição representação ante grave indício encontrar processo recente tribunal acolher proposta exmo min relator augusto sherman optar rejeitar parcial razão justificativa gestor deixar aplicar sanção conforme exposição voto preceder acórdão ressalto ainda sefti sustentar item instrução medidas adotar servir ms após realizar auditoria vista aperfeiçoar fiscalizar execução contrato ser considerar fator atenuar gradação multa ser aplicar responsável item inexperiência responsável planejamento contratar modelo ust justificar total falha supracitado porém poder ser considerar fator atenuar gradação multa aplicar ver constatar aliar observar constante relatório auditoria derivar presente representação evidenciar baixo maturidade processo trabalho planejamento gestão ministério saúde datasus ano fazer transição modelo contratar pagar serviço mão obra locar unidade serviço técnico ust meio contrato falha resultar orientar constante acórdão vista aperfeiçoar processo capacitar servir designar fiscal gestor contrato ti aperfeiçoar proceder designação fiscal gestor contrato ti aperfeiçoar gestão risco contratar ti regulamentação interno processo trabalho planejamento gestão contratar ti adicional ter notícia auto aprimorar instrumento gerenciamento controle contrato referir constatar falha imputar planejamento contratar conduzir celebrar contrato tela bem risco apontar execução parecer ter ser minorar porquanto própria secretaria entender ser suficiente medidas adotar aqui informar ministério saúde modo entender necessário determinação renovar contratual elemento todo conduzir entender embora todo justificativo apresentar responsável ser suficiente afastar ocorrência indicar completo descaracterizar parte constituir razão suficiente aplicar sanção alvitrar instrução ainda acórdão tribunal embora ter optar aplicar sanção gestor determinar ministério saúde apurar medidas apurar indício pagar ir caso instaurar devida tomada conta especial termo in tcu item acórdão assim salvar melhor juízo entender caso tela dever receber encaminhar semelhante pois além baixo maturidade processo verificar precariedade situação recurso humano embora ser evidente gestor contrato atuar imprudência desconformidade regulamento aplicar contratar ti haver dificuldade caráter prático aplicação segregar função fundamento principal apresentar instrução precedente propositura responsabilizar fim considerar informação prestar área auditoria interno ibram peça ir retomar condição realizar auditoria interno contrato prazo estimar conclusão trabalho esgotar entender necessário determinar ibram ultimar realizar trabalho realizar apurar avaliar haver pagar função vício atesto amplo debater processo caso ser identificar pagar regular proceder instaurar devida tomada conta especial termo in tcu forma considerar ir registrado auto presente momento prejuízo erário resultante ação gestor contrato considerar responsabilizar propor instrução precedente fundamentar especial prática ato ausência segregar função considerar evidente restrição pessoal presente unidade ti ibram onde segundo informar prestar autarquia tcu atuar apenas quatro pessoa ser dois atuar contratar estar ter conflito si ter responsabilidade aqui avaliar considerar justificativa apresentar novo fiscal nomear estar prática dispor avaliar período execução anterior nomear considerar adoção segregar função depender essência disponibilidade pessoal quantidade capacidade suficiente prática ato administrativo entender justificativo gestor dever ser parcial acolher deixar aplicar sanção senhor joão carlos lemgruber junior porém manter todo demais proposta formular evidente caso surgir novo elemento indicar ocorrência prejuízo erário bem quaisquer indício má fé gestor fato poder ultimar avaliar responsabilidade gestor luz novo informar ademais embora constituir objeto processo considerar notório fragilidade situação unidade tecnologia informação instituto brasileiro museu bem evidente risco configurar processo propor excepcionalmente dirigir recomendação ministério cultura conjunto ibram avaliar condição operacional unidade tecnologia informação autarquia adotar medidas reduzir risco decorrer falta pessoal bem avaliar eventual alternativas provir serviço tecnologia informação órgão ante exposto devir vênia posicionar expresso auditor contar anuência ordinária diretor submeter auto considerar superior propor acolher parcial razão justificativa apresentar senhor joão carlos lemgruber junior cpf gestor fiscal requisitante contrato quanto análise atesto unilateral qualidade serviço propor multa prever artigo lei entender seriar razoável multar gestor ausência segregar função caso específico diante precário contexto recurso humano área ti ibram associar fato presente momento ir consignar elemento evidenciar má fé parte gestor prejuízo efetivo erário determinar fulcro artigo inciso decreto instituto brasileiro museu adotar noventa dia medidas administrativo necessário concluir trabalho auditoria interno tender apurar eventual pagar âmbito execução contrato função regularidade verificar atesto fatura caso confirmar tal regularidade oferecer empresa contratar direito contraditório amplo defesa fim seguida ir caso proceder glosa valor porventura pagos indevido próximo pagar ser fazer empresa contratar caso impossível ressarcimento valor porventura confirmar adotar medidas pertinente cobrança valor devir inclusive necessário instaurar tomada conta especial termo in tcu dar ciência instituto brasileiro museu atesto fatura parte gestor contrato manifestação fiscal técnico contrato violar princípio segregar função bem norma aplicar exemplo artigo inciso in slti mp recomendar fulcro artigo incisar xiv anexo decreto ministério cultura conjunto instituto brasileiro museu avaliar condição operacional unidade tecnologia informação autarquia adotar medidas reduzir risco decorrer falta pessoal área ti bem avaliar eventual alternativas sustentar provir serviço ti necessário órgão inclusive ir caso rever próprio existência unidade autônomo ti naquela organização ser relatório voto exame representação formular secretaria fiscalizar tecnologia informação sefti motivar manifestação registrada ouvidoria respeito suposto regularidade ocorrer contrato firmar instituto brasileiro museu ibram empresa stefanini consultadoria assessoria informática registro preliminarmente caber conhecer representação razão atender requisito admissível estabelecer artigo incisar parágrafo único reger interno tcu aludir certame visar dprestação serviço suporte tecnológico ambiente tecnologia informação comunicação tic contratante unidade compor estrutura organizacionald valor global prever ir reduzir meio termo aditivo prorrogar vigência contrato doze mês passar ser peça análise preliminar sefti pontuar quatro possível regularidade mensurar avaliar qualidade serviço prestar efetivo monitoramento execução contratual mensurar avaliar qualidade serviço prestar incluir eventual glosa observar modelo remuneração nível mínimo serviço prever termo referência tr pe realizar pagar vincular resultados realizar pagar valor superior atestado fiscal técnico peça parágrafo realizar diligência oitiva ibram assim exame resposta decorrer sefti entender sanar indício regularidade indicar item acima relação descrever item suprir conformar documento obter divergência análise antigo fiscal técnico gestor contrato fiscal requisitante quanto mensurar perdurar haver substituir fiscal técnico quadro reproduzir seguir ser possível comparar resultados diferente avaliar peça mês análise fiscal técnico análise gestor contrato ums executar ums glosada ums aprovar valor ums executar ums glosada ums aprovar valor principal divergência detectadas sefti dois análise referir aceitar execução serviço dependência ibram execução remoto percentual glosa aplicar atender indicar qualidade atender nível mínimo serviço tocante execução remoto atividade monitoramento tarefa operação rede tarefa prestar dependência empresa contratar fiscal técnico desconsiderar entender existir previsão edital ser inviável fiscalizar lo presencial outro posicionar gestor contrato considerar tal serviço válido ante evidência execução parcial atividade previsão constante item termo referência forma excepcional permitir execução serviço dependência contratar caso ibram entender conveniente quanto glosa desentender estar relacionar período adaptação contratual avaliar qualidade serviço prestar percentual glosa ser aplicar transcrever seguir exemplo divergência descrever instrução peça referir etapa adaptação contratar período seriar aplicar glosa atender nível mínimo serviço fiscal entender período seriar trinta dia glosou serviço partir peça item enquanto gestor entender próprio ibram ter tempo suficiente avaliar ajustar nível serviço prazo considerar período poder ser sessenta dias fundamento item termo transferência peça item período adaptação contratual período adaptação ser máximo dia contar data assinatura contrato ser considerar período estabilizar período contratar dever proceder todo ajuste mostrar necessário dimensionar qualificar equipes bem proceder ser adotar prestar serviço modo assegurar nível mínimo serviço exigir fiscal técnico considerar atividade relativo administrar dado tarefa estar ser entregues conforme padrão qualidade esperar aplicar glosa ordem serviço peça item porém gestor considerar serviço poder ser aceitos determinar contratar providenciar ajuste necessário melhorar qualidade documentar partir próximo mês sob pena serviço ser glosados peça item base informar colher auto unidade especializar concluir parte divergência entender decorrer dde especificar genérico termo referência aliar ausência plano fiscalizar detalhar previamente forma validação execução serviçosd mencionar sefti caber ibram início ter definir serviço passível ser executar dependência contratar estabelecer claro padrão qualidade desejar execução ordem serviço assim perceber diferença resultados análise decorrer especial falta planejamento adequar momento haver constatar sefti ocorrência prejuízo erário apesar disso instar notar auditoria interno ibram estar promover exame sobre eventual pagar âmbito execução contrato função divergência identificar atesto fatura razão denúncia receber instituto outro regularidade registrada unidade especializar referir ausência manifestação fiscal técnico avaliar serviço executar embora ibram ter informar gestor contrato possuir conhecer técnico exercer função fiscal haver acúmulo função estabelecer item termo referência afronta dispor artigo inciso in slti mp bem princípio segregar função diante quadro apontar sefti delegar competência mim conferir promover audiência senhor maxwell alencar menezes fiscal técnico época fato senhor joão carlos lemgruber junior gestor contrato ter elaborar plano fiscalizar adicional último ter participação manifestação prévio fiscal técnico analisar qualidade consolidar emitir relatório mensal atividade assim atestado pagar serviço âmbito contrato questão após avaliar resposta responsável auditor instrutor endosso diretor unidade sugerir acolher razão justificativa senhor maxwell alencar menezes rejeitar senhor joão carlos lemgruber junior tocante segregar função afrontar dispor artigo inciso in slti mp item termo referência anexar edital pe bem artigo incisar alínea lei sequência propor aplicar aludir gestor contrato multa prever artigo incisar lei autorizar desconto dívida remuneração servir bem cobrança judicial dívida além determinar ibram encaminhar tcu relatório final apurar denúncia envolver contrato dar ciência instituto ausência elaborar plano fiscalizar ajuste tela afrontar in slti mp despeito anuir encaminhar referente regularidade decorrente falta elaborar plano fiscalizar titular sefti apenas concordar parcial tocante exame ocorrência relativo atesto avaliar serviço prestar âmbito contrato devida manifestação fiscal nomear ddiante precário contexto recurso humano área ti ibram associar fato presente momento ir consignar elemento evidenciar má fé parte gestor prejuízo efetivo eráriod seriar caso multar senhor joão carlos lemgruber junior ausência segregar função caso específico titular sefti lembrar levantar governança ti realizar tcu período execução contrato tela observar ibram estar estágio inicial governança baixo maturidade organização relação prática gestão pessoa nota situação geral governança gestão ti nota dimensão pessoa ano ir registrado apenas quatro servir efetivo atuar área considerar evidente risco configurar processo tocante unidade tecnologia informação ibram ter base avaliar governança ti realizar tcu orçar empenhar despesa ti instituto milhões secretário sugerir excepcionalmente ddirigir recomendação ministério cultura conjunto ibram avaliar condição operacional unidade tecnologia informação autarquia adotar medidas reduzir risco decorrer falta pessoal bem avaliar eventual alternativas provir serviço tecnologia informação órgão concordar proposta uniforme acolher parcial razão justificativa senhor maxwell alencar menezes joão carlos lemgruber junior aplicação multa quanto falta elaborar plano fiscalizar contrato exigir artigo incisar in slti mp ver falta mencionar documento gerar dúvida avaliar cumprimento requisito técnico condição contratual culminar divergência identificar presente processo todavia responsabilidade ambos cumprimentar dispositivo in slti mp ser atenuar fato processo contratar ter iniciar ainda sob égide instrução normativo anterior in slti mp ter ser produzir elemento prever artigo quanto outro regularidade senhor joão carlos lemgruber junior ir ouvir promover atestos serviço referente mês basear apenas avaliar individual manifesto desde concordância conclusão chegar secretário unidade instrutivo quais adotar razão decidir conforme argumento senhor joão carlos lemgruber junior fatura ir encaminhar setor contrato porque ainda estar bem definir responsabilidade atesto relativo mês ver fiscal técnico gestor somente ir nomear relação mês gestor contrato justificar ação fato documentar apenas ter ser entregue empresa fiscal técnico senhor maxwell alencar menezes haver ser substituir novo fiscal acumular época outro atividade sentir dà vontaded atestar serviço mês anterior nomear apesar gestor ter ignorar instância avaliar execução contratual desatendendo princípio segregar função concordar entender titular sefti gravidade conduta gestor poder ser suavizar cenário organizacional área ti ibram quantidade capacidade recurso humano alocar área ser suficiente outrossim importante ressaltar fato momento ter verificar ato praticar senhor joão carlos lemgruber junior acarretar prejuízo erário modo entender razão justificativa poder ser parcial acatar relação quatro mês atestar serviço base unicamente opinião considerar apenação caso seriar medida extremo rigor obstante caso ser identificar pagar contrato orar análise auditoria interno ibram situação poder ser rever gravidade conduta gestor diante supor novo elemento dever órgão oferecer empresa contratar direito contraditório amplo defesa vista efetuar glosa valor indevido pagos impossível ressarcimento tal valor adotar medidas pertinente cobrança valor devir inclusive necessário instaurar tomada conta especial tocante proposta recomendação ministério cultura conjunto ibram avaliar condição operacional unidade tecnologia informação autarquia embora considerar reflexão adequar deixar acolher proposta ofertar titular sefit entender dever ser melhor aprofundar processo fiscalizar operacional obstante considerar oportuno dar ciência acórdão sobrevier ministério cultura ibram outrossim caber enviar cópia deliberar fiscal técnico gestor contrato bem deputado federal ronaldo fonseca meio ofício ofdrf solicitar agilidade tramitação denúncia fazer ouvidoria tcu motivar presente representação ante exposto entendo dever ser considerar parcial procedente presente representação voto tribunal adotar acórdão orar submeter apreciar colegiado sala sessão marco bemquerer costa relator acórdão processo tc grupo classe assunto ver representação interessar stefanni consultadoria assessoria informática representante secretaria fiscalizar tecnologia informação sefti entidade instituto brasileiro museu ibram relator ministro substituto marco bemquerer costa representante ministério público atuar unidade técnico secretaria fiscalizar tecnologia informação sefti representação legal brunir marcucci pedro oab sp acórdão ver relatar discutir auto representação formular secretaria fiscalizar tecnologia informação sefti motivar manifestação registrada ouvidoria respeito suposto regularidade ocorrer contrato ter objeto prestar serviço suporte tecnológico ambiente tecnologia informação comunicação instituto brasileiro museu unidade compor estrutura organizacional acordar ministro tribunal conta união reunir sessão ante razão expor relator conhecer presente representação vez preencher requisito admissível estabelecer artigo incisar parágrafo único reger interno tcu mérito considerar lo parcial procedente determinar instituto brasileiro museu fundamento artigo incisar reger interno tcu combinar artigo inciso decreto adotar dia medidas administrativo necessário concluir trabalho auditoria interno tender apurar eventual pagar âmbito execução contrato função ocorrência verificar atesto fatura caso ser verificar dano erário oferecer empresa contratar direito contraditório amplo defesa fim ir caso promover glosa valor porventura pagos indevido próximo pagar ser fazer empresa contratar caso impossível ressarcimento valor porventura confirmar adotar medidas pertinente cobrança valor devir inclusive necessário instaurar tomada conta especial termo in tcu dar ciência vista adoção providência interno prevenir ocorrência outro semelhante instituto brasileiro museu atesto fatura parte gestor contrato manifestação fiscal técnico contrato violar princípio segregar função bem norma aplicar exemplo artigo inciso in slti mp ausência elaborar plano fiscalizar afrontar dispor artigo incisar incisar in slti mp dar ciência acórdão ministério cultura instituto brasileiro museu deputado federal ronaldo fonseca senhor maxwell alencar meneses senhor joão carlos lemgruber junior atar data sessão ordinária código eletrônico localização página tcu internet ac especificação quorum ministro presente benjamin zymler presidência ministro substituto convocar marco bemquerer costa relator weder oliveira assinar eletronicamente benjamin zymler assinar eletronicamente marco bemquerer costa presidência relator ir presente assinar eletronicamente lucas rocha furtar subprocurador geral'"
      ]
     },
     "execution_count": 24,
     "metadata": {},
     "output_type": "execute_result"
    }
   ],
   "source": [
    "filtrar_texto(acordao, tf_idf, 8000)"
   ]
  },
  {
   "cell_type": "code",
   "execution_count": 26,
   "metadata": {},
   "outputs": [
    {
     "name": "stdout",
     "output_type": "stream",
     "text": [
      "doc 1000 ...\n",
      "doc 2000 ...\n",
      "doc 3000 ...\n",
      "doc 4000 ...\n",
      "doc 5000 ...\n",
      "doc 6000 ...\n",
      "doc 7000 ...\n",
      "doc 8000 ...\n",
      "doc 9000 ...\n"
     ]
    }
   ],
   "source": [
    "for doc in range(0, len(textos)):\n",
    "    acordao, _ , tf_idf = extrair_tfidf(doc)\n",
    "    df.loc[doc, 'filtrado_6000'] = filtrar_texto(acordao, tf_idf, 6000)\n",
    "    df.loc[doc, 'filtrado_500']  = filtrar_texto(acordao, tf_idf, 500)\n",
    "    if (doc + 1) % 1000 == 0:\n",
    "        print('doc', doc+1, '...')"
   ]
  },
  {
   "cell_type": "code",
   "execution_count": 27,
   "metadata": {},
   "outputs": [
    {
     "data": {
      "text/html": [
       "<div>\n",
       "<style scoped>\n",
       "    .dataframe tbody tr th:only-of-type {\n",
       "        vertical-align: middle;\n",
       "    }\n",
       "\n",
       "    .dataframe tbody tr th {\n",
       "        vertical-align: top;\n",
       "    }\n",
       "\n",
       "    .dataframe thead th {\n",
       "        text-align: right;\n",
       "    }\n",
       "</style>\n",
       "<table border=\"1\" class=\"dataframe\">\n",
       "  <thead>\n",
       "    <tr style=\"text-align: right;\">\n",
       "      <th></th>\n",
       "      <th>acordao</th>\n",
       "      <th>areas</th>\n",
       "      <th>texto_lematizado</th>\n",
       "      <th>tamanho</th>\n",
       "      <th>filtrado_6000</th>\n",
       "      <th>filtrado_500</th>\n",
       "    </tr>\n",
       "  </thead>\n",
       "  <tbody>\n",
       "    <tr>\n",
       "      <th>0</th>\n",
       "      <td>297/2016-P</td>\n",
       "      <td>Responsabilidade</td>\n",
       "      <td>tribunal de conta de o união tc XXNUMERACAO\\nX...</td>\n",
       "      <td>1704.0</td>\n",
       "      <td>tribunal conta união tc grupo classe plenário ...</td>\n",
       "      <td>conta conta gerência instituto nacional seguro...</td>\n",
       "    </tr>\n",
       "    <tr>\n",
       "      <th>1</th>\n",
       "      <td>366/2016-P</td>\n",
       "      <td>Finanças Públicas</td>\n",
       "      <td>tribunal de conta de o união tc XXNUMERACAO\\nX...</td>\n",
       "      <td>3330.0</td>\n",
       "      <td>tribunal conta união tc grupo classe ii plenár...</td>\n",
       "      <td>senado petróleo petróleo regime aduaneiro expo...</td>\n",
       "    </tr>\n",
       "    <tr>\n",
       "      <th>2</th>\n",
       "      <td>944/2016-P</td>\n",
       "      <td>Responsabilidade</td>\n",
       "      <td>tribunal de conta de o união tc XXNUMERACAO\\nX...</td>\n",
       "      <td>842.0</td>\n",
       "      <td>tribunal conta união tc grupo classe plenário ...</td>\n",
       "      <td>tribunal conta plenário embargo declaração aco...</td>\n",
       "    </tr>\n",
       "    <tr>\n",
       "      <th>3</th>\n",
       "      <td>30/2016-P</td>\n",
       "      <td>Direito Processual</td>\n",
       "      <td>tribunal de conta de o união tc XXNUMERACAO\\nX...</td>\n",
       "      <td>1379.0</td>\n",
       "      <td>tribunal conta união tc grupo classe plenário ...</td>\n",
       "      <td>embargo declaração inss recorrente marco antôn...</td>\n",
       "    </tr>\n",
       "    <tr>\n",
       "      <th>4</th>\n",
       "      <td>55/2016-P</td>\n",
       "      <td>Pessoal</td>\n",
       "      <td>; - ; ; wania lucia pasquarelli de o nasciment...</td>\n",
       "      <td>5887.0</td>\n",
       "      <td>wania lucia pasquarelli nascimentotcuwania luc...</td>\n",
       "      <td>senac senac senac empresa senac giselle araújo...</td>\n",
       "    </tr>\n",
       "    <tr>\n",
       "      <th>5</th>\n",
       "      <td>27/2016-P</td>\n",
       "      <td>Licitação</td>\n",
       "      <td>tribunal de conta de o união tc XXNUMERACAO\\nX...</td>\n",
       "      <td>2025.0</td>\n",
       "      <td>tribunal conta união tc grupo classe plenário ...</td>\n",
       "      <td>apenso recurso natal nilton pascoal cpf walden...</td>\n",
       "    </tr>\n",
       "    <tr>\n",
       "      <th>6</th>\n",
       "      <td>38/2016-P</td>\n",
       "      <td>Pessoal</td>\n",
       "      <td>tribunal de conta de o união tc XXNUMERACAO\\nX...</td>\n",
       "      <td>3292.0</td>\n",
       "      <td>tribunal conta união tc grupo classe plenário ...</td>\n",
       "      <td>aposentadoria sebastião aposentadoria gratific...</td>\n",
       "    </tr>\n",
       "    <tr>\n",
       "      <th>7</th>\n",
       "      <td>113/2016-P</td>\n",
       "      <td>Licitação</td>\n",
       "      <td>tribunal de conta de o união tc XXNUMERACAO\\nX...</td>\n",
       "      <td>3425.0</td>\n",
       "      <td>tribunal conta união tc grupo classe plenário ...</td>\n",
       "      <td>dixtal biomédico pró life equipar eireli dixta...</td>\n",
       "    </tr>\n",
       "    <tr>\n",
       "      <th>8</th>\n",
       "      <td>119/2016-P</td>\n",
       "      <td>Licitação</td>\n",
       "      <td>tribunal de conta de o união tc XXNUMERACAO\\nX...</td>\n",
       "      <td>5943.0</td>\n",
       "      <td>tribunal conta união tc grupo classe plenário ...</td>\n",
       "      <td>snake empresa pregão pregão trt vigilância emp...</td>\n",
       "    </tr>\n",
       "    <tr>\n",
       "      <th>9</th>\n",
       "      <td>412/2016-1</td>\n",
       "      <td>Pessoal</td>\n",
       "      <td>tribunal de conta de o união tc XXNUMERACAO\\nX...</td>\n",
       "      <td>3849.0</td>\n",
       "      <td>tribunal conta união tc grupo classe tc nature...</td>\n",
       "      <td>aposentadoria enoe pimenta basso aposentadoria...</td>\n",
       "    </tr>\n",
       "  </tbody>\n",
       "</table>\n",
       "</div>"
      ],
      "text/plain": [
       "      acordao               areas  \\\n",
       "0  297/2016-P    Responsabilidade   \n",
       "1  366/2016-P   Finanças Públicas   \n",
       "2  944/2016-P    Responsabilidade   \n",
       "3   30/2016-P  Direito Processual   \n",
       "4   55/2016-P             Pessoal   \n",
       "5   27/2016-P           Licitação   \n",
       "6   38/2016-P             Pessoal   \n",
       "7  113/2016-P           Licitação   \n",
       "8  119/2016-P           Licitação   \n",
       "9  412/2016-1             Pessoal   \n",
       "\n",
       "                                    texto_lematizado  tamanho  \\\n",
       "0  tribunal de conta de o união tc XXNUMERACAO\\nX...   1704.0   \n",
       "1  tribunal de conta de o união tc XXNUMERACAO\\nX...   3330.0   \n",
       "2  tribunal de conta de o união tc XXNUMERACAO\\nX...    842.0   \n",
       "3  tribunal de conta de o união tc XXNUMERACAO\\nX...   1379.0   \n",
       "4  ; - ; ; wania lucia pasquarelli de o nasciment...   5887.0   \n",
       "5  tribunal de conta de o união tc XXNUMERACAO\\nX...   2025.0   \n",
       "6  tribunal de conta de o união tc XXNUMERACAO\\nX...   3292.0   \n",
       "7  tribunal de conta de o união tc XXNUMERACAO\\nX...   3425.0   \n",
       "8  tribunal de conta de o união tc XXNUMERACAO\\nX...   5943.0   \n",
       "9  tribunal de conta de o união tc XXNUMERACAO\\nX...   3849.0   \n",
       "\n",
       "                                       filtrado_6000  \\\n",
       "0  tribunal conta união tc grupo classe plenário ...   \n",
       "1  tribunal conta união tc grupo classe ii plenár...   \n",
       "2  tribunal conta união tc grupo classe plenário ...   \n",
       "3  tribunal conta união tc grupo classe plenário ...   \n",
       "4  wania lucia pasquarelli nascimentotcuwania luc...   \n",
       "5  tribunal conta união tc grupo classe plenário ...   \n",
       "6  tribunal conta união tc grupo classe plenário ...   \n",
       "7  tribunal conta união tc grupo classe plenário ...   \n",
       "8  tribunal conta união tc grupo classe plenário ...   \n",
       "9  tribunal conta união tc grupo classe tc nature...   \n",
       "\n",
       "                                        filtrado_500  \n",
       "0  conta conta gerência instituto nacional seguro...  \n",
       "1  senado petróleo petróleo regime aduaneiro expo...  \n",
       "2  tribunal conta plenário embargo declaração aco...  \n",
       "3  embargo declaração inss recorrente marco antôn...  \n",
       "4  senac senac senac empresa senac giselle araújo...  \n",
       "5  apenso recurso natal nilton pascoal cpf walden...  \n",
       "6  aposentadoria sebastião aposentadoria gratific...  \n",
       "7  dixtal biomédico pró life equipar eireli dixta...  \n",
       "8  snake empresa pregão pregão trt vigilância emp...  \n",
       "9  aposentadoria enoe pimenta basso aposentadoria...  "
      ]
     },
     "execution_count": 27,
     "metadata": {},
     "output_type": "execute_result"
    }
   ],
   "source": [
    "df.head(10)"
   ]
  },
  {
   "cell_type": "code",
   "execution_count": 28,
   "metadata": {},
   "outputs": [],
   "source": [
    "df.to_csv('../dados/acordaos-unicos-filtrados-500.csv', sep = '|', columns = ['acordao', 'areas', 'filtrado_500'], index=False)"
   ]
  },
  {
   "cell_type": "code",
   "execution_count": 29,
   "metadata": {},
   "outputs": [],
   "source": [
    "df.to_csv('../dados/acordaos-unicos-filtrados-6000.csv', sep = '|', columns = ['acordao', 'areas', 'filtrado_6000'], index=False)"
   ]
  },
  {
   "cell_type": "code",
   "execution_count": null,
   "metadata": {},
   "outputs": [],
   "source": []
  }
 ],
 "metadata": {
  "kernelspec": {
   "display_name": "Python 3",
   "language": "python",
   "name": "python3"
  },
  "language_info": {
   "codemirror_mode": {
    "name": "ipython",
    "version": 3
   },
   "file_extension": ".py",
   "mimetype": "text/x-python",
   "name": "python",
   "nbconvert_exporter": "python",
   "pygments_lexer": "ipython3",
   "version": "3.7.4"
  }
 },
 "nbformat": 4,
 "nbformat_minor": 2
}
