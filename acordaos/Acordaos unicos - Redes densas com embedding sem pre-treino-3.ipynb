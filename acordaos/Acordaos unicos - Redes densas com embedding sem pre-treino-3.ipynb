{
 "cells": [
  {
   "cell_type": "code",
   "execution_count": 3,
   "metadata": {},
   "outputs": [
    {
     "data": {
      "text/html": [
       "<div>\n",
       "<style scoped>\n",
       "    .dataframe tbody tr th:only-of-type {\n",
       "        vertical-align: middle;\n",
       "    }\n",
       "\n",
       "    .dataframe tbody tr th {\n",
       "        vertical-align: top;\n",
       "    }\n",
       "\n",
       "    .dataframe thead th {\n",
       "        text-align: right;\n",
       "    }\n",
       "</style>\n",
       "<table border=\"1\" class=\"dataframe\">\n",
       "  <thead>\n",
       "    <tr style=\"text-align: right;\">\n",
       "      <th></th>\n",
       "      <th>acordao</th>\n",
       "      <th>arquivo</th>\n",
       "      <th>areas</th>\n",
       "      <th>texto</th>\n",
       "    </tr>\n",
       "  </thead>\n",
       "  <tbody>\n",
       "    <tr>\n",
       "      <th>0</th>\n",
       "      <td>297/2016-P</td>\n",
       "      <td>547240.txt</td>\n",
       "      <td>Responsabilidade</td>\n",
       "      <td>TRIBUNAL DE CONTAS DA UNIÃO\\tTC 010.084/2015-0...</td>\n",
       "    </tr>\n",
       "    <tr>\n",
       "      <th>1</th>\n",
       "      <td>366/2016-P</td>\n",
       "      <td>549518.txt</td>\n",
       "      <td>Finanças Públicas</td>\n",
       "      <td>TRIBUNAL DE CONTAS DA UNIÃO\\tTC 005.933/2014-5...</td>\n",
       "    </tr>\n",
       "    <tr>\n",
       "      <th>2</th>\n",
       "      <td>944/2016-P</td>\n",
       "      <td>554399.txt</td>\n",
       "      <td>Responsabilidade</td>\n",
       "      <td>TRIBUNAL DE CONTAS DA UNIÃO\\tTC 042.038/2012-0...</td>\n",
       "    </tr>\n",
       "    <tr>\n",
       "      <th>3</th>\n",
       "      <td>30/2016-P</td>\n",
       "      <td>545010.txt</td>\n",
       "      <td>Direito Processual</td>\n",
       "      <td>TRIBUNAL DE CONTAS DA UNIÃO\\tTC 000.742/2014-7...</td>\n",
       "    </tr>\n",
       "    <tr>\n",
       "      <th>4</th>\n",
       "      <td>55/2016-P</td>\n",
       "      <td>544046.txt</td>\n",
       "      <td>Pessoal</td>\n",
       "      <td>;-;;Wania Lucia Pasquarelli do NascimentoTCUWa...</td>\n",
       "    </tr>\n",
       "  </tbody>\n",
       "</table>\n",
       "</div>"
      ],
      "text/plain": [
       "      acordao     arquivo               areas  \\\n",
       "0  297/2016-P  547240.txt    Responsabilidade   \n",
       "1  366/2016-P  549518.txt   Finanças Públicas   \n",
       "2  944/2016-P  554399.txt    Responsabilidade   \n",
       "3   30/2016-P  545010.txt  Direito Processual   \n",
       "4   55/2016-P  544046.txt             Pessoal   \n",
       "\n",
       "                                               texto  \n",
       "0  TRIBUNAL DE CONTAS DA UNIÃO\\tTC 010.084/2015-0...  \n",
       "1  TRIBUNAL DE CONTAS DA UNIÃO\\tTC 005.933/2014-5...  \n",
       "2  TRIBUNAL DE CONTAS DA UNIÃO\\tTC 042.038/2012-0...  \n",
       "3  TRIBUNAL DE CONTAS DA UNIÃO\\tTC 000.742/2014-7...  \n",
       "4  ;-;;Wania Lucia Pasquarelli do NascimentoTCUWa...  "
      ]
     },
     "execution_count": 3,
     "metadata": {},
     "output_type": "execute_result"
    }
   ],
   "source": [
    "import pandas as pd\n",
    "\n",
    "df = pd.read_csv('../dados/acordaos-unicos.csv', sep = '|')\n",
    "df.head()"
   ]
  },
  {
   "cell_type": "code",
   "execution_count": 4,
   "metadata": {},
   "outputs": [
    {
     "data": {
      "text/plain": [
       "(9739, 4)"
      ]
     },
     "execution_count": 4,
     "metadata": {},
     "output_type": "execute_result"
    }
   ],
   "source": [
    "df.shape"
   ]
  },
  {
   "cell_type": "code",
   "execution_count": 5,
   "metadata": {},
   "outputs": [
    {
     "data": {
      "text/plain": [
       "areas\n",
       "Competência do TCU          405\n",
       "Contrato Administrativo     549\n",
       "Convênio                    477\n",
       "Desestatização               82\n",
       "Direito Processual         1446\n",
       "Finanças Públicas           199\n",
       "Gestão Administrativa       130\n",
       "Licitação                  1815\n",
       "Pessoal                    2802\n",
       "Responsabilidade           1834\n",
       "dtype: int64"
      ]
     },
     "execution_count": 5,
     "metadata": {},
     "output_type": "execute_result"
    }
   ],
   "source": [
    "df.groupby(['areas']).size()"
   ]
  },
  {
   "cell_type": "code",
   "execution_count": 6,
   "metadata": {},
   "outputs": [
    {
     "data": {
      "text/plain": [
       "dict_keys(['Competência do TCU', 'Contrato Administrativo', 'Convênio', 'Desestatização', 'Direito Processual', 'Finanças Públicas', 'Gestão Administrativa', 'Licitação', 'Pessoal', 'Responsabilidade'])"
      ]
     },
     "execution_count": 6,
     "metadata": {},
     "output_type": "execute_result"
    }
   ],
   "source": [
    "areas = df.groupby(['areas']).groups.keys()\n",
    "areas"
   ]
  },
  {
   "cell_type": "code",
   "execution_count": 7,
   "metadata": {},
   "outputs": [
    {
     "data": {
      "text/plain": [
       "array(['Competência do TCU', 'Contrato Administrativo', 'Convênio',\n",
       "       'Desestatização', 'Direito Processual', 'Finanças Públicas',\n",
       "       'Gestão Administrativa', 'Licitação', 'Pessoal',\n",
       "       'Responsabilidade'], dtype='<U23')"
      ]
     },
     "execution_count": 7,
     "metadata": {},
     "output_type": "execute_result"
    }
   ],
   "source": [
    "from sklearn.preprocessing import LabelBinarizer\n",
    "\n",
    "lbArea = LabelBinarizer()\n",
    "lbArea.fit([x for x in areas])\n",
    "lbArea.classes_"
   ]
  },
  {
   "cell_type": "code",
   "execution_count": 8,
   "metadata": {},
   "outputs": [
    {
     "data": {
      "text/plain": [
       "(9739, 10)"
      ]
     },
     "execution_count": 8,
     "metadata": {},
     "output_type": "execute_result"
    }
   ],
   "source": [
    "y = lbArea.transform(df['areas'])\n",
    "y.shape"
   ]
  },
  {
   "cell_type": "code",
   "execution_count": 9,
   "metadata": {},
   "outputs": [
    {
     "name": "stdout",
     "output_type": "stream",
     "text": [
      "Found 318318 unique tokens.\n"
     ]
    }
   ],
   "source": [
    "from keras.preprocessing.text import Tokenizer\n",
    "import numpy as np\n",
    "\n",
    "vocabulario = 320000\n",
    "limite_texto = 40000\n",
    "dim_vetor = 50\n",
    "\n",
    "tokenizer = Tokenizer(num_words=vocabulario)\n",
    "tokenizer.fit_on_texts(df['texto'])\n",
    "\n",
    "sequences = tokenizer.texts_to_sequences(df['texto'])\n",
    "\n",
    "word_index = tokenizer.word_index\n",
    "print('Found %s unique tokens.' % len(word_index))"
   ]
  },
  {
   "cell_type": "code",
   "execution_count": 10,
   "metadata": {},
   "outputs": [
    {
     "name": "stdout",
     "output_type": "stream",
     "text": [
      "Shape of data tensor: (9739, 40000)\n"
     ]
    }
   ],
   "source": [
    "from keras.preprocessing.sequence import pad_sequences\n",
    "\n",
    "x = pad_sequences(sequences, maxlen=limite_texto)\n",
    "\n",
    "print('Shape of data tensor:', x.shape)"
   ]
  },
  {
   "cell_type": "code",
   "execution_count": 11,
   "metadata": {},
   "outputs": [
    {
     "data": {
      "text/plain": [
       "((9739, 40000), (9739, 10))"
      ]
     },
     "execution_count": 11,
     "metadata": {},
     "output_type": "execute_result"
    }
   ],
   "source": [
    "x.shape, y.shape"
   ]
  },
  {
   "cell_type": "code",
   "execution_count": 12,
   "metadata": {
    "scrolled": false
   },
   "outputs": [
    {
     "name": "stderr",
     "output_type": "stream",
     "text": [
      "W0225 14:53:07.458063 140073162889024 deprecation_wrapper.py:119] From /home/leonardo/anaconda3/envs/gpu/lib/python3.7/site-packages/keras/backend/tensorflow_backend.py:517: The name tf.placeholder is deprecated. Please use tf.compat.v1.placeholder instead.\n",
      "\n",
      "W0225 14:53:07.460311 140073162889024 deprecation_wrapper.py:119] From /home/leonardo/anaconda3/envs/gpu/lib/python3.7/site-packages/keras/backend/tensorflow_backend.py:4138: The name tf.random_uniform is deprecated. Please use tf.random.uniform instead.\n",
      "\n",
      "W0225 14:53:07.486052 140073162889024 deprecation_wrapper.py:119] From /home/leonardo/anaconda3/envs/gpu/lib/python3.7/site-packages/keras/backend/tensorflow_backend.py:133: The name tf.placeholder_with_default is deprecated. Please use tf.compat.v1.placeholder_with_default instead.\n",
      "\n",
      "W0225 14:53:07.705859 140073162889024 deprecation.py:506] From /home/leonardo/anaconda3/envs/gpu/lib/python3.7/site-packages/keras/backend/tensorflow_backend.py:3445: calling dropout (from tensorflow.python.ops.nn_ops) with keep_prob is deprecated and will be removed in a future version.\n",
      "Instructions for updating:\n",
      "Please use `rate` instead of `keep_prob`. Rate should be set to `rate = 1 - keep_prob`.\n",
      "W0225 14:53:07.773667 140073162889024 deprecation_wrapper.py:119] From /home/leonardo/anaconda3/envs/gpu/lib/python3.7/site-packages/keras/optimizers.py:790: The name tf.train.Optimizer is deprecated. Please use tf.compat.v1.train.Optimizer instead.\n",
      "\n",
      "W0225 14:53:07.786303 140073162889024 deprecation_wrapper.py:119] From /home/leonardo/anaconda3/envs/gpu/lib/python3.7/site-packages/keras/backend/tensorflow_backend.py:3295: The name tf.log is deprecated. Please use tf.math.log instead.\n",
      "\n",
      "W0225 14:53:07.860461 140073162889024 deprecation.py:323] From /home/leonardo/anaconda3/envs/gpu/lib/python3.7/site-packages/tensorflow/python/ops/math_grad.py:1250: add_dispatch_support.<locals>.wrapper (from tensorflow.python.ops.array_ops) is deprecated and will be removed in a future version.\n",
      "Instructions for updating:\n",
      "Use tf.where in 2.0, which has the same broadcast rule as np.where\n"
     ]
    },
    {
     "name": "stdout",
     "output_type": "stream",
     "text": [
      "_________________________________________________________________\n",
      "Layer (type)                 Output Shape              Param #   \n",
      "=================================================================\n",
      "embedding_1 (Embedding)      (None, 40000, 50)         15915900  \n",
      "_________________________________________________________________\n",
      "flatten_1 (Flatten)          (None, 2000000)           0         \n",
      "_________________________________________________________________\n",
      "dense_1 (Dense)              (None, 64)                128000064 \n",
      "_________________________________________________________________\n",
      "dropout_1 (Dropout)          (None, 64)                0         \n",
      "_________________________________________________________________\n",
      "dense_2 (Dense)              (None, 1024)              66560     \n",
      "_________________________________________________________________\n",
      "dropout_2 (Dropout)          (None, 1024)              0         \n",
      "_________________________________________________________________\n",
      "dense_3 (Dense)              (None, 128)               131200    \n",
      "_________________________________________________________________\n",
      "dropout_3 (Dropout)          (None, 128)               0         \n",
      "_________________________________________________________________\n",
      "dense_4 (Dense)              (None, 10)                1290      \n",
      "=================================================================\n",
      "Total params: 144,115,014\n",
      "Trainable params: 144,115,014\n",
      "Non-trainable params: 0\n",
      "_________________________________________________________________\n",
      "Train on 7791 samples, validate on 1948 samples\n",
      "Epoch 1/20\n",
      "7791/7791 [==============================] - 55s 7ms/step - loss: 2.0016 - categorical_accuracy: 0.3042 - val_loss: 1.9949 - val_categorical_accuracy: 0.1971\n",
      "Epoch 2/20\n",
      "7791/7791 [==============================] - 51s 7ms/step - loss: 1.8937 - categorical_accuracy: 0.3151 - val_loss: 1.9744 - val_categorical_accuracy: 0.1910\n",
      "Epoch 3/20\n",
      "7791/7791 [==============================] - 51s 7ms/step - loss: 1.8868 - categorical_accuracy: 0.3169 - val_loss: 2.0241 - val_categorical_accuracy: 0.1951\n",
      "Epoch 4/20\n",
      "7791/7791 [==============================] - 52s 7ms/step - loss: 1.8720 - categorical_accuracy: 0.3276 - val_loss: 1.9573 - val_categorical_accuracy: 0.1951\n",
      "Epoch 5/20\n",
      "7791/7791 [==============================] - 52s 7ms/step - loss: 1.5685 - categorical_accuracy: 0.4748 - val_loss: 1.3865 - val_categorical_accuracy: 0.4574\n",
      "Epoch 6/20\n",
      "7791/7791 [==============================] - 52s 7ms/step - loss: 1.0672 - categorical_accuracy: 0.6434 - val_loss: 1.2374 - val_categorical_accuracy: 0.5965\n",
      "Epoch 7/20\n",
      "7791/7791 [==============================] - 52s 7ms/step - loss: 0.7189 - categorical_accuracy: 0.7500 - val_loss: 1.3085 - val_categorical_accuracy: 0.5477\n",
      "Epoch 8/20\n",
      "7791/7791 [==============================] - 52s 7ms/step - loss: 0.4956 - categorical_accuracy: 0.8518 - val_loss: 1.5480 - val_categorical_accuracy: 0.5498\n",
      "Epoch 9/20\n",
      "7791/7791 [==============================] - 52s 7ms/step - loss: 0.3638 - categorical_accuracy: 0.8986 - val_loss: 1.8103 - val_categorical_accuracy: 0.5323\n",
      "Epoch 10/20\n",
      "7791/7791 [==============================] - 52s 7ms/step - loss: 0.2787 - categorical_accuracy: 0.9268 - val_loss: 1.7459 - val_categorical_accuracy: 0.5760\n",
      "Epoch 11/20\n",
      "7791/7791 [==============================] - 52s 7ms/step - loss: 0.2066 - categorical_accuracy: 0.9478 - val_loss: 1.7652 - val_categorical_accuracy: 0.5970\n",
      "Epoch 12/20\n",
      "7791/7791 [==============================] - 52s 7ms/step - loss: 0.1841 - categorical_accuracy: 0.9578 - val_loss: 2.4759 - val_categorical_accuracy: 0.5601\n",
      "Epoch 13/20\n",
      "7791/7791 [==============================] - 52s 7ms/step - loss: 0.1570 - categorical_accuracy: 0.9662 - val_loss: 2.4255 - val_categorical_accuracy: 0.5724\n",
      "Epoch 14/20\n",
      "7791/7791 [==============================] - 52s 7ms/step - loss: 0.1528 - categorical_accuracy: 0.9707 - val_loss: 2.1585 - val_categorical_accuracy: 0.5719\n",
      "Epoch 15/20\n",
      "7791/7791 [==============================] - 52s 7ms/step - loss: 0.1479 - categorical_accuracy: 0.9728 - val_loss: 2.2997 - val_categorical_accuracy: 0.5816\n",
      "Epoch 16/20\n",
      "7791/7791 [==============================] - 52s 7ms/step - loss: 0.1464 - categorical_accuracy: 0.9754 - val_loss: 2.3889 - val_categorical_accuracy: 0.5765\n",
      "Epoch 17/20\n",
      "7791/7791 [==============================] - 52s 7ms/step - loss: 0.1040 - categorical_accuracy: 0.9778 - val_loss: 2.7059 - val_categorical_accuracy: 0.5087\n",
      "Epoch 18/20\n",
      "7791/7791 [==============================] - 52s 7ms/step - loss: 0.1055 - categorical_accuracy: 0.9806 - val_loss: 3.1536 - val_categorical_accuracy: 0.5780\n",
      "Epoch 19/20\n",
      "7791/7791 [==============================] - 52s 7ms/step - loss: 0.1073 - categorical_accuracy: 0.9838 - val_loss: 2.4803 - val_categorical_accuracy: 0.5744\n",
      "Epoch 20/20\n",
      "7791/7791 [==============================] - 52s 7ms/step - loss: 0.1103 - categorical_accuracy: 0.9823 - val_loss: 2.1893 - val_categorical_accuracy: 0.5903\n"
     ]
    }
   ],
   "source": [
    "from keras.models import Sequential\n",
    "from keras.layers import Flatten, Dense, Embedding\n",
    "from keras.layers.core import Dropout\n",
    "\n",
    "model = Sequential()\n",
    "model.add(Embedding(vocabulario, dim_vetor, input_length=x.shape[1]))\n",
    "model.add(Flatten())\n",
    "model.add(Dense(64, activation='relu'))\n",
    "model.add(Dropout(0.4))\n",
    "model.add(Dense(1024, activation='relu'))\n",
    "model.add(Dropout(0.4))\n",
    "model.add(Dense(128, activation='relu'))\n",
    "model.add(Dropout(0.4))\n",
    "model.add(Dense(y.shape[1], activation='softmax'))\n",
    "model.compile(loss='categorical_crossentropy', optimizer='adadelta',  metrics=[\"categorical_accuracy\"])\n",
    "model.summary()\n",
    "history = model.fit(x, y, epochs=20, batch_size=32, validation_split=0.2, verbose=1, shuffle=True)"
   ]
  },
  {
   "cell_type": "code",
   "execution_count": null,
   "metadata": {},
   "outputs": [],
   "source": []
  }
 ],
 "metadata": {
  "kernelspec": {
   "display_name": "Python 3",
   "language": "python",
   "name": "python3"
  },
  "language_info": {
   "codemirror_mode": {
    "name": "ipython",
    "version": 3
   },
   "file_extension": ".py",
   "mimetype": "text/x-python",
   "name": "python",
   "nbconvert_exporter": "python",
   "pygments_lexer": "ipython3",
   "version": "3.7.4"
  }
 },
 "nbformat": 4,
 "nbformat_minor": 2
}
