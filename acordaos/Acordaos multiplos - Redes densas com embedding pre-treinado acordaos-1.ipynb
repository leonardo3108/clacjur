{
 "cells": [
  {
   "cell_type": "code",
   "execution_count": 1,
   "metadata": {},
   "outputs": [
    {
     "data": {
      "text/html": [
       "<div>\n",
       "<style scoped>\n",
       "    .dataframe tbody tr th:only-of-type {\n",
       "        vertical-align: middle;\n",
       "    }\n",
       "\n",
       "    .dataframe tbody tr th {\n",
       "        vertical-align: top;\n",
       "    }\n",
       "\n",
       "    .dataframe thead th {\n",
       "        text-align: right;\n",
       "    }\n",
       "</style>\n",
       "<table border=\"1\" class=\"dataframe\">\n",
       "  <thead>\n",
       "    <tr style=\"text-align: right;\">\n",
       "      <th></th>\n",
       "      <th>acordao</th>\n",
       "      <th>arquivo</th>\n",
       "      <th>areas</th>\n",
       "      <th>texto</th>\n",
       "    </tr>\n",
       "  </thead>\n",
       "  <tbody>\n",
       "    <tr>\n",
       "      <th>0</th>\n",
       "      <td>297/2016-P</td>\n",
       "      <td>547240.txt</td>\n",
       "      <td>Responsabilidade</td>\n",
       "      <td>TRIBUNAL DE CONTAS DA UNIÃO\\tTC 010.084/2015-0...</td>\n",
       "    </tr>\n",
       "    <tr>\n",
       "      <th>1</th>\n",
       "      <td>366/2016-P</td>\n",
       "      <td>549518.txt</td>\n",
       "      <td>Finanças Públicas</td>\n",
       "      <td>TRIBUNAL DE CONTAS DA UNIÃO\\tTC 005.933/2014-5...</td>\n",
       "    </tr>\n",
       "    <tr>\n",
       "      <th>2</th>\n",
       "      <td>944/2016-P</td>\n",
       "      <td>554399.txt</td>\n",
       "      <td>Responsabilidade</td>\n",
       "      <td>TRIBUNAL DE CONTAS DA UNIÃO\\tTC 042.038/2012-0...</td>\n",
       "    </tr>\n",
       "    <tr>\n",
       "      <th>3</th>\n",
       "      <td>30/2016-P</td>\n",
       "      <td>545010.txt</td>\n",
       "      <td>Direito Processual</td>\n",
       "      <td>TRIBUNAL DE CONTAS DA UNIÃO\\tTC 000.742/2014-7...</td>\n",
       "    </tr>\n",
       "    <tr>\n",
       "      <th>4</th>\n",
       "      <td>55/2016-P</td>\n",
       "      <td>544046.txt</td>\n",
       "      <td>Pessoal</td>\n",
       "      <td>;-;;Wania Lucia Pasquarelli do NascimentoTCUWa...</td>\n",
       "    </tr>\n",
       "  </tbody>\n",
       "</table>\n",
       "</div>"
      ],
      "text/plain": [
       "      acordao     arquivo               areas  \\\n",
       "0  297/2016-P  547240.txt    Responsabilidade   \n",
       "1  366/2016-P  549518.txt   Finanças Públicas   \n",
       "2  944/2016-P  554399.txt    Responsabilidade   \n",
       "3   30/2016-P  545010.txt  Direito Processual   \n",
       "4   55/2016-P  544046.txt             Pessoal   \n",
       "\n",
       "                                               texto  \n",
       "0  TRIBUNAL DE CONTAS DA UNIÃO\\tTC 010.084/2015-0...  \n",
       "1  TRIBUNAL DE CONTAS DA UNIÃO\\tTC 005.933/2014-5...  \n",
       "2  TRIBUNAL DE CONTAS DA UNIÃO\\tTC 042.038/2012-0...  \n",
       "3  TRIBUNAL DE CONTAS DA UNIÃO\\tTC 000.742/2014-7...  \n",
       "4  ;-;;Wania Lucia Pasquarelli do NascimentoTCUWa...  "
      ]
     },
     "execution_count": 1,
     "metadata": {},
     "output_type": "execute_result"
    }
   ],
   "source": [
    "import pandas as pd\n",
    "\n",
    "df = pd.read_csv('../dados/acordaos-selecionada.csv', sep = '|')\n",
    "df.head()"
   ]
  },
  {
   "cell_type": "code",
   "execution_count": 2,
   "metadata": {},
   "outputs": [
    {
     "data": {
      "text/plain": [
       "(10524, 4)"
      ]
     },
     "execution_count": 2,
     "metadata": {},
     "output_type": "execute_result"
    }
   ],
   "source": [
    "df.shape"
   ]
  },
  {
   "cell_type": "code",
   "execution_count": 3,
   "metadata": {},
   "outputs": [
    {
     "data": {
      "text/plain": [
       "dict_keys(['Competência do TCU', 'Contrato Administrativo', 'Contrato Administrativo,Competência do TCU', 'Contrato Administrativo,Desestatização', 'Contrato Administrativo,Finanças Públicas', 'Contrato Administrativo,Pessoal', 'Convênio', 'Convênio,Competência do TCU', 'Convênio,Contrato Administrativo', 'Convênio,Contrato Administrativo,Finanças Públicas', 'Convênio,Direito Processual', 'Convênio,Finanças Públicas', 'Convênio,Gestão Administrativa', 'Convênio,Gestão Administrativa,Competência do TCU', 'Convênio,Gestão Administrativa,Contrato Administrativo', 'Convênio,Gestão Administrativa,Licitação', 'Convênio,Gestão Administrativa,Pessoal', 'Convênio,Licitação', 'Convênio,Licitação,Desestatização,Finanças Públicas', 'Convênio,Licitação,Pessoal,Finanças Públicas', 'Convênio,Pessoal', 'Convênio,Responsabilidade', 'Convênio,Responsabilidade,Competência do TCU', 'Convênio,Responsabilidade,Gestão Administrativa', 'Desestatização', 'Desestatização,Competência do TCU', 'Desestatização,Finanças Públicas', 'Direito Processual', 'Direito Processual,Competência do TCU', 'Direito Processual,Contrato Administrativo', 'Direito Processual,Desestatização', 'Direito Processual,Finanças Públicas', 'Direito Processual,Gestão Administrativa,Contrato Administrativo', 'Direito Processual,Pessoal', 'Direito Processual,Pessoal,Competência do TCU', 'Finanças Públicas', 'Finanças Públicas,Competência do TCU', 'Gestão Administrativa', 'Gestão Administrativa,Competência do TCU', 'Gestão Administrativa,Contrato Administrativo', 'Gestão Administrativa,Desestatização', 'Gestão Administrativa,Finanças Públicas', 'Gestão Administrativa,Pessoal', 'Gestão Administrativa,Pessoal,Desestatização', 'Gestão Administrativa,Pessoal,Finanças Públicas', 'Licitação', 'Licitação,Competência do TCU', 'Licitação,Contrato Administrativo', 'Licitação,Contrato Administrativo,Desestatização', 'Licitação,Contrato Administrativo,Finanças Públicas', 'Licitação,Contrato Administrativo,Pessoal', 'Licitação,Convênio', 'Licitação,Convênio,Contrato Administrativo', 'Licitação,Desestatização', 'Licitação,Direito Processual', 'Licitação,Direito Processual,Competência do TCU', 'Licitação,Direito Processual,Contrato Administrativo', 'Licitação,Direito Processual,Contrato Administrativo,Responsabilidade', 'Licitação,Direito Processual,Convênio,Competência do TCU', 'Licitação,Direito Processual,Responsabilidade', 'Licitação,Finanças Públicas', 'Licitação,Finanças Públicas,Competência do TCU', 'Licitação,Gestão Administrativa', 'Licitação,Gestão Administrativa,Contrato Administrativo', 'Licitação,Gestão Administrativa,Contrato Administrativo,Finanças Públicas', 'Licitação,Gestão Administrativa,Finanças Públicas', 'Licitação,Pessoal', 'Licitação,Pessoal,Competência do TCU', 'Licitação,Pessoal,Finanças Públicas', 'Licitação,Responsabilidade', 'Licitação,Responsabilidade,Contrato Administrativo', 'Licitação,Responsabilidade,Desestatização', 'Licitação,Responsabilidade,Gestão Administrativa,Pessoal', 'Licitação,Responsabilidade,Pessoal', 'Pessoal', 'Pessoal,Competência do TCU', 'Pessoal,Finanças Públicas', 'Responsabilidade', 'Responsabilidade,Competência do TCU', 'Responsabilidade,Contrato Administrativo', 'Responsabilidade,Contrato Administrativo,Competência do TCU', 'Responsabilidade,Contrato Administrativo,Finanças Públicas', 'Responsabilidade,Convênio', 'Responsabilidade,Convênio,Competência do TCU', 'Responsabilidade,Direito Processual', 'Responsabilidade,Direito Processual,Competência do TCU', 'Responsabilidade,Direito Processual,Contrato Administrativo', 'Responsabilidade,Direito Processual,Gestão Administrativa', 'Responsabilidade,Direito Processual,Licitação', 'Responsabilidade,Direito Processual,Licitação,Contrato Administrativo', 'Responsabilidade,Finanças Públicas', 'Responsabilidade,Finanças Públicas,Competência do TCU', 'Responsabilidade,Gestão Administrativa', 'Responsabilidade,Licitação', 'Responsabilidade,Licitação,Competência do TCU', 'Responsabilidade,Licitação,Contrato Administrativo', 'Responsabilidade,Pessoal', 'Responsabilidade,Pessoal,Competência do TCU'])"
      ]
     },
     "execution_count": 3,
     "metadata": {},
     "output_type": "execute_result"
    }
   ],
   "source": [
    "areas = df.groupby(['areas']).groups.keys()\n",
    "areas"
   ]
  },
  {
   "cell_type": "code",
   "execution_count": 4,
   "metadata": {},
   "outputs": [
    {
     "data": {
      "text/plain": [
       "array(['Competência do TCU', 'Contrato Administrativo',\n",
       "       'Contrato Administrativo,Competência do TCU',\n",
       "       'Contrato Administrativo,Desestatização',\n",
       "       'Contrato Administrativo,Finanças Públicas',\n",
       "       'Contrato Administrativo,Pessoal', 'Convênio',\n",
       "       'Convênio,Competência do TCU', 'Convênio,Contrato Administrativo',\n",
       "       'Convênio,Contrato Administrativo,Finanças Públicas',\n",
       "       'Convênio,Direito Processual', 'Convênio,Finanças Públicas',\n",
       "       'Convênio,Gestão Administrativa',\n",
       "       'Convênio,Gestão Administrativa,Competência do TCU',\n",
       "       'Convênio,Gestão Administrativa,Contrato Administrativo',\n",
       "       'Convênio,Gestão Administrativa,Licitação',\n",
       "       'Convênio,Gestão Administrativa,Pessoal', 'Convênio,Licitação',\n",
       "       'Convênio,Licitação,Desestatização,Finanças Públicas',\n",
       "       'Convênio,Licitação,Pessoal,Finanças Públicas', 'Convênio,Pessoal',\n",
       "       'Convênio,Responsabilidade',\n",
       "       'Convênio,Responsabilidade,Competência do TCU',\n",
       "       'Convênio,Responsabilidade,Gestão Administrativa',\n",
       "       'Desestatização', 'Desestatização,Competência do TCU',\n",
       "       'Desestatização,Finanças Públicas', 'Direito Processual',\n",
       "       'Direito Processual,Competência do TCU',\n",
       "       'Direito Processual,Contrato Administrativo',\n",
       "       'Direito Processual,Desestatização',\n",
       "       'Direito Processual,Finanças Públicas',\n",
       "       'Direito Processual,Gestão Administrativa,Contrato Administrativo',\n",
       "       'Direito Processual,Pessoal',\n",
       "       'Direito Processual,Pessoal,Competência do TCU',\n",
       "       'Finanças Públicas', 'Finanças Públicas,Competência do TCU',\n",
       "       'Gestão Administrativa',\n",
       "       'Gestão Administrativa,Competência do TCU',\n",
       "       'Gestão Administrativa,Contrato Administrativo',\n",
       "       'Gestão Administrativa,Desestatização',\n",
       "       'Gestão Administrativa,Finanças Públicas',\n",
       "       'Gestão Administrativa,Pessoal',\n",
       "       'Gestão Administrativa,Pessoal,Desestatização',\n",
       "       'Gestão Administrativa,Pessoal,Finanças Públicas', 'Licitação',\n",
       "       'Licitação,Competência do TCU',\n",
       "       'Licitação,Contrato Administrativo',\n",
       "       'Licitação,Contrato Administrativo,Desestatização',\n",
       "       'Licitação,Contrato Administrativo,Finanças Públicas',\n",
       "       'Licitação,Contrato Administrativo,Pessoal', 'Licitação,Convênio',\n",
       "       'Licitação,Convênio,Contrato Administrativo',\n",
       "       'Licitação,Desestatização', 'Licitação,Direito Processual',\n",
       "       'Licitação,Direito Processual,Competência do TCU',\n",
       "       'Licitação,Direito Processual,Contrato Administrativo',\n",
       "       'Licitação,Direito Processual,Contrato Administrativo,Responsabilidade',\n",
       "       'Licitação,Direito Processual,Convênio,Competência do TCU',\n",
       "       'Licitação,Direito Processual,Responsabilidade',\n",
       "       'Licitação,Finanças Públicas',\n",
       "       'Licitação,Finanças Públicas,Competência do TCU',\n",
       "       'Licitação,Gestão Administrativa',\n",
       "       'Licitação,Gestão Administrativa,Contrato Administrativo',\n",
       "       'Licitação,Gestão Administrativa,Contrato Administrativo,Finanças Públicas',\n",
       "       'Licitação,Gestão Administrativa,Finanças Públicas',\n",
       "       'Licitação,Pessoal', 'Licitação,Pessoal,Competência do TCU',\n",
       "       'Licitação,Pessoal,Finanças Públicas',\n",
       "       'Licitação,Responsabilidade',\n",
       "       'Licitação,Responsabilidade,Contrato Administrativo',\n",
       "       'Licitação,Responsabilidade,Desestatização',\n",
       "       'Licitação,Responsabilidade,Gestão Administrativa,Pessoal',\n",
       "       'Licitação,Responsabilidade,Pessoal', 'Pessoal',\n",
       "       'Pessoal,Competência do TCU', 'Pessoal,Finanças Públicas',\n",
       "       'Responsabilidade', 'Responsabilidade,Competência do TCU',\n",
       "       'Responsabilidade,Contrato Administrativo',\n",
       "       'Responsabilidade,Contrato Administrativo,Competência do TCU',\n",
       "       'Responsabilidade,Contrato Administrativo,Finanças Públicas',\n",
       "       'Responsabilidade,Convênio',\n",
       "       'Responsabilidade,Convênio,Competência do TCU',\n",
       "       'Responsabilidade,Direito Processual',\n",
       "       'Responsabilidade,Direito Processual,Competência do TCU',\n",
       "       'Responsabilidade,Direito Processual,Contrato Administrativo',\n",
       "       'Responsabilidade,Direito Processual,Gestão Administrativa',\n",
       "       'Responsabilidade,Direito Processual,Licitação',\n",
       "       'Responsabilidade,Direito Processual,Licitação,Contrato Administrativo',\n",
       "       'Responsabilidade,Finanças Públicas',\n",
       "       'Responsabilidade,Finanças Públicas,Competência do TCU',\n",
       "       'Responsabilidade,Gestão Administrativa',\n",
       "       'Responsabilidade,Licitação',\n",
       "       'Responsabilidade,Licitação,Competência do TCU',\n",
       "       'Responsabilidade,Licitação,Contrato Administrativo',\n",
       "       'Responsabilidade,Pessoal',\n",
       "       'Responsabilidade,Pessoal,Competência do TCU'], dtype='<U73')"
      ]
     },
     "execution_count": 4,
     "metadata": {},
     "output_type": "execute_result"
    }
   ],
   "source": [
    "from sklearn.preprocessing import LabelBinarizer\n",
    "\n",
    "lbArea = LabelBinarizer()\n",
    "lbArea.fit([x for x in areas])\n",
    "lbArea.classes_"
   ]
  },
  {
   "cell_type": "code",
   "execution_count": 5,
   "metadata": {},
   "outputs": [
    {
     "data": {
      "text/plain": [
       "(10524, 98)"
      ]
     },
     "execution_count": 5,
     "metadata": {},
     "output_type": "execute_result"
    }
   ],
   "source": [
    "y = lbArea.transform(df['areas'])\n",
    "y.shape"
   ]
  },
  {
   "cell_type": "code",
   "execution_count": 6,
   "metadata": {},
   "outputs": [
    {
     "name": "stderr",
     "output_type": "stream",
     "text": [
      "Using TensorFlow backend.\n"
     ]
    },
    {
     "name": "stdout",
     "output_type": "stream",
     "text": [
      "Found 344296 unique tokens.\n"
     ]
    }
   ],
   "source": [
    "from keras.preprocessing.text import Tokenizer\n",
    "import numpy as np\n",
    "\n",
    "vocabulario = 350000\n",
    "limite_texto = 40000\n",
    "dim_vetor = 50\n",
    "\n",
    "tokenizer = Tokenizer(num_words=vocabulario)\n",
    "tokenizer.fit_on_texts(df['texto'])\n",
    "\n",
    "sequences = tokenizer.texts_to_sequences(df['texto'])\n",
    "\n",
    "word_index = tokenizer.word_index\n",
    "print('Found %s unique tokens.' % len(word_index))"
   ]
  },
  {
   "cell_type": "code",
   "execution_count": 7,
   "metadata": {},
   "outputs": [
    {
     "name": "stdout",
     "output_type": "stream",
     "text": [
      "Shape of data tensor: (10524, 40000)\n"
     ]
    }
   ],
   "source": [
    "from keras.preprocessing.sequence import pad_sequences\n",
    "\n",
    "x = pad_sequences(sequences, maxlen=limite_texto)\n",
    "\n",
    "print('Shape of data tensor:', x.shape)"
   ]
  },
  {
   "cell_type": "code",
   "execution_count": 8,
   "metadata": {},
   "outputs": [
    {
     "name": "stderr",
     "output_type": "stream",
     "text": [
      "/home/leonardo/anaconda3/envs/gpu/lib/python3.7/site-packages/smart_open/smart_open_lib.py:398: UserWarning: This function is deprecated, use smart_open.open instead. See the migration notes for details: https://github.com/RaRe-Technologies/smart_open/blob/master/README.rst#migrating-to-the-new-open-function\n",
      "  'See the migration notes for details: %s' % _MIGRATION_NOTES_URL\n"
     ]
    }
   ],
   "source": [
    "from gensim.models import Word2Vec\n",
    "\n",
    "model = Word2Vec.load('../vocabularios/modelo-acordaos-50.w2v')"
   ]
  },
  {
   "cell_type": "code",
   "execution_count": 9,
   "metadata": {},
   "outputs": [
    {
     "name": "stderr",
     "output_type": "stream",
     "text": [
      "/home/leonardo/anaconda3/envs/gpu/lib/python3.7/site-packages/ipykernel_launcher.py:7: DeprecationWarning: Call to deprecated `__contains__` (Method will be removed in 4.0.0, use self.wv.__contains__() instead).\n",
      "  import sys\n",
      "/home/leonardo/anaconda3/envs/gpu/lib/python3.7/site-packages/ipykernel_launcher.py:8: DeprecationWarning: Call to deprecated `__getitem__` (Method will be removed in 4.0.0, use self.wv.__getitem__() instead).\n",
      "  \n"
     ]
    },
    {
     "name": "stdout",
     "output_type": "stream",
     "text": [
      "Vocabulario: 344296\n",
      "Encontrados no modelo: 90722 = 26.350001161791017\n"
     ]
    }
   ],
   "source": [
    "# create a weight matrix for words in training docs\n",
    "\n",
    "embedding_matrix = np.zeros((vocabulario, dim_vetor))\n",
    "\n",
    "ok = 0\n",
    "for word, i in tokenizer.word_index.items():\n",
    "    if word in model:\n",
    "        embedding_matrix[i] = model[word]\n",
    "        ok += 1\n",
    "print('Vocabulario:', i)\n",
    "print('Encontrados no modelo:', ok, '=', ok * 100. / i)"
   ]
  },
  {
   "cell_type": "code",
   "execution_count": 10,
   "metadata": {},
   "outputs": [
    {
     "name": "stderr",
     "output_type": "stream",
     "text": [
      "WARNING: Logging before flag parsing goes to stderr.\n",
      "W0226 15:12:03.759488 140648603031360 deprecation_wrapper.py:119] From /home/leonardo/anaconda3/envs/gpu/lib/python3.7/site-packages/keras/backend/tensorflow_backend.py:74: The name tf.get_default_graph is deprecated. Please use tf.compat.v1.get_default_graph instead.\n",
      "\n"
     ]
    }
   ],
   "source": [
    "from keras.layers import Embedding\n",
    "\n",
    "embedding = Embedding(vocabulario, dim_vetor, weights=[embedding_matrix], input_length=limite_texto, trainable=False)"
   ]
  },
  {
   "cell_type": "code",
   "execution_count": 11,
   "metadata": {
    "scrolled": true
   },
   "outputs": [
    {
     "data": {
      "text/plain": [
       "((10524, 40000), (10524, 98))"
      ]
     },
     "execution_count": 11,
     "metadata": {},
     "output_type": "execute_result"
    }
   ],
   "source": [
    "x.shape, y.shape"
   ]
  },
  {
   "cell_type": "markdown",
   "metadata": {},
   "source": [
    "# Treinamento\n",
    "\n",
    "## Embedding com pesos fixos"
   ]
  },
  {
   "cell_type": "code",
   "execution_count": 12,
   "metadata": {
    "scrolled": false
   },
   "outputs": [
    {
     "name": "stderr",
     "output_type": "stream",
     "text": [
      "W0226 15:12:03.994921 140648603031360 deprecation_wrapper.py:119] From /home/leonardo/anaconda3/envs/gpu/lib/python3.7/site-packages/keras/backend/tensorflow_backend.py:517: The name tf.placeholder is deprecated. Please use tf.compat.v1.placeholder instead.\n",
      "\n",
      "W0226 15:12:03.996780 140648603031360 deprecation_wrapper.py:119] From /home/leonardo/anaconda3/envs/gpu/lib/python3.7/site-packages/keras/backend/tensorflow_backend.py:4138: The name tf.random_uniform is deprecated. Please use tf.random.uniform instead.\n",
      "\n",
      "W0226 15:12:04.004015 140648603031360 deprecation_wrapper.py:119] From /home/leonardo/anaconda3/envs/gpu/lib/python3.7/site-packages/keras/backend/tensorflow_backend.py:174: The name tf.get_default_session is deprecated. Please use tf.compat.v1.get_default_session instead.\n",
      "\n",
      "W0226 15:12:04.004564 140648603031360 deprecation_wrapper.py:119] From /home/leonardo/anaconda3/envs/gpu/lib/python3.7/site-packages/keras/backend/tensorflow_backend.py:181: The name tf.ConfigProto is deprecated. Please use tf.compat.v1.ConfigProto instead.\n",
      "\n",
      "W0226 15:12:04.856484 140648603031360 deprecation.py:506] From /home/leonardo/anaconda3/envs/gpu/lib/python3.7/site-packages/keras/backend/tensorflow_backend.py:3445: calling dropout (from tensorflow.python.ops.nn_ops) with keep_prob is deprecated and will be removed in a future version.\n",
      "Instructions for updating:\n",
      "Please use `rate` instead of `keep_prob`. Rate should be set to `rate = 1 - keep_prob`.\n",
      "W0226 15:12:04.899785 140648603031360 deprecation_wrapper.py:119] From /home/leonardo/anaconda3/envs/gpu/lib/python3.7/site-packages/keras/optimizers.py:790: The name tf.train.Optimizer is deprecated. Please use tf.compat.v1.train.Optimizer instead.\n",
      "\n",
      "W0226 15:12:04.985998 140648603031360 deprecation.py:323] From /home/leonardo/anaconda3/envs/gpu/lib/python3.7/site-packages/tensorflow/python/ops/math_grad.py:1250: add_dispatch_support.<locals>.wrapper (from tensorflow.python.ops.array_ops) is deprecated and will be removed in a future version.\n",
      "Instructions for updating:\n",
      "Use tf.where in 2.0, which has the same broadcast rule as np.where\n"
     ]
    },
    {
     "name": "stdout",
     "output_type": "stream",
     "text": [
      "_________________________________________________________________\n",
      "Layer (type)                 Output Shape              Param #   \n",
      "=================================================================\n",
      "embedding_1 (Embedding)      (None, 40000, 50)         17500000  \n",
      "_________________________________________________________________\n",
      "flatten_1 (Flatten)          (None, 2000000)           0         \n",
      "_________________________________________________________________\n",
      "dense_1 (Dense)              (None, 64)                128000064 \n",
      "_________________________________________________________________\n",
      "dropout_1 (Dropout)          (None, 64)                0         \n",
      "_________________________________________________________________\n",
      "dense_2 (Dense)              (None, 256)               16640     \n",
      "_________________________________________________________________\n",
      "dropout_2 (Dropout)          (None, 256)               0         \n",
      "_________________________________________________________________\n",
      "dense_3 (Dense)              (None, 98)                25186     \n",
      "=================================================================\n",
      "Total params: 145,541,890\n",
      "Trainable params: 128,041,890\n",
      "Non-trainable params: 17,500,000\n",
      "_________________________________________________________________\n",
      "Train on 8419 samples, validate on 2105 samples\n",
      "Epoch 1/20\n",
      "8419/8419 [==============================] - 45s 5ms/step - loss: 11.6462 - categorical_accuracy: 0.2719 - val_loss: 13.2697 - val_categorical_accuracy: 0.1767\n",
      "Epoch 2/20\n",
      "8419/8419 [==============================] - 42s 5ms/step - loss: 11.4776 - categorical_accuracy: 0.2873 - val_loss: 13.2697 - val_categorical_accuracy: 0.1767\n",
      "Epoch 3/20\n",
      "8419/8419 [==============================] - 42s 5ms/step - loss: 11.4679 - categorical_accuracy: 0.2880 - val_loss: 13.2697 - val_categorical_accuracy: 0.1767\n",
      "Epoch 4/20\n",
      "8419/8419 [==============================] - 42s 5ms/step - loss: 11.4659 - categorical_accuracy: 0.2886 - val_loss: 13.2697 - val_categorical_accuracy: 0.1767\n",
      "Epoch 5/20\n",
      "8419/8419 [==============================] - 42s 5ms/step - loss: 11.4674 - categorical_accuracy: 0.2885 - val_loss: 13.2697 - val_categorical_accuracy: 0.1767\n",
      "Epoch 6/20\n",
      "8419/8419 [==============================] - 42s 5ms/step - loss: 11.4665 - categorical_accuracy: 0.2884 - val_loss: 13.2697 - val_categorical_accuracy: 0.1767\n",
      "Epoch 7/20\n",
      "8419/8419 [==============================] - 42s 5ms/step - loss: 11.4662 - categorical_accuracy: 0.2885 - val_loss: 13.2697 - val_categorical_accuracy: 0.1767\n",
      "Epoch 8/20\n",
      "8419/8419 [==============================] - 42s 5ms/step - loss: 11.4675 - categorical_accuracy: 0.2885 - val_loss: 13.2697 - val_categorical_accuracy: 0.1767\n",
      "Epoch 9/20\n",
      "8419/8419 [==============================] - 42s 5ms/step - loss: 11.4678 - categorical_accuracy: 0.2885 - val_loss: 13.2697 - val_categorical_accuracy: 0.1767\n",
      "Epoch 10/20\n",
      "8419/8419 [==============================] - 42s 5ms/step - loss: 11.4652 - categorical_accuracy: 0.2886 - val_loss: 13.2697 - val_categorical_accuracy: 0.1767\n",
      "Epoch 11/20\n",
      "8419/8419 [==============================] - 42s 5ms/step - loss: 11.4669 - categorical_accuracy: 0.2885 - val_loss: 13.2697 - val_categorical_accuracy: 0.1767\n",
      "Epoch 12/20\n",
      "8419/8419 [==============================] - 42s 5ms/step - loss: 11.4640 - categorical_accuracy: 0.2886 - val_loss: 13.2697 - val_categorical_accuracy: 0.1767\n",
      "Epoch 13/20\n",
      "8419/8419 [==============================] - 42s 5ms/step - loss: 11.4673 - categorical_accuracy: 0.2885 - val_loss: 13.2697 - val_categorical_accuracy: 0.1767\n",
      "Epoch 14/20\n",
      "8419/8419 [==============================] - 42s 5ms/step - loss: 11.4678 - categorical_accuracy: 0.2885 - val_loss: 13.2697 - val_categorical_accuracy: 0.1767\n",
      "Epoch 15/20\n",
      "8419/8419 [==============================] - 42s 5ms/step - loss: 11.4667 - categorical_accuracy: 0.2885 - val_loss: 13.2697 - val_categorical_accuracy: 0.1767\n",
      "Epoch 16/20\n",
      "8419/8419 [==============================] - 42s 5ms/step - loss: 11.4678 - categorical_accuracy: 0.2885 - val_loss: 13.2697 - val_categorical_accuracy: 0.1767\n",
      "Epoch 17/20\n",
      "8419/8419 [==============================] - 42s 5ms/step - loss: 11.4678 - categorical_accuracy: 0.2885 - val_loss: 13.2697 - val_categorical_accuracy: 0.1767\n",
      "Epoch 18/20\n",
      "8419/8419 [==============================] - 42s 5ms/step - loss: 11.4659 - categorical_accuracy: 0.2886 - val_loss: 13.2697 - val_categorical_accuracy: 0.1767\n",
      "Epoch 19/20\n",
      "8419/8419 [==============================] - 42s 5ms/step - loss: 11.4659 - categorical_accuracy: 0.2886 - val_loss: 13.2697 - val_categorical_accuracy: 0.1767\n",
      "Epoch 20/20\n",
      "8419/8419 [==============================] - 42s 5ms/step - loss: 11.4659 - categorical_accuracy: 0.2886 - val_loss: 13.2697 - val_categorical_accuracy: 0.1767\n"
     ]
    }
   ],
   "source": [
    "from keras.models import Sequential\n",
    "from keras.layers import Flatten, Dense\n",
    "from keras.layers.core import Dropout\n",
    "\n",
    "model = Sequential()\n",
    "model.add(embedding)\n",
    "model.add(Flatten())\n",
    "model.add(Dense(64, activation='relu'))\n",
    "model.add(Dropout(0.4))\n",
    "model.add(Dense(256, activation='relu'))\n",
    "model.add(Dropout(0.4))\n",
    "model.add(Dense(y.shape[1], activation='softmax'))\n",
    "model.compile(loss='categorical_crossentropy', optimizer='adadelta',  metrics=[\"categorical_accuracy\"])\n",
    "model.summary()\n",
    "history = model.fit(x, y, epochs=20, batch_size=32, validation_split=0.2, verbose=1, shuffle=True)"
   ]
  },
  {
   "cell_type": "code",
   "execution_count": null,
   "metadata": {},
   "outputs": [],
   "source": []
  }
 ],
 "metadata": {
  "kernelspec": {
   "display_name": "Python 3",
   "language": "python",
   "name": "python3"
  },
  "language_info": {
   "codemirror_mode": {
    "name": "ipython",
    "version": 3
   },
   "file_extension": ".py",
   "mimetype": "text/x-python",
   "name": "python",
   "nbconvert_exporter": "python",
   "pygments_lexer": "ipython3",
   "version": "3.7.4"
  }
 },
 "nbformat": 4,
 "nbformat_minor": 2
}
