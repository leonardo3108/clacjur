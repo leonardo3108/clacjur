{
 "cells": [
  {
   "cell_type": "code",
   "execution_count": 1,
   "metadata": {},
   "outputs": [
    {
     "data": {
      "text/html": [
       "<div>\n",
       "<style scoped>\n",
       "    .dataframe tbody tr th:only-of-type {\n",
       "        vertical-align: middle;\n",
       "    }\n",
       "\n",
       "    .dataframe tbody tr th {\n",
       "        vertical-align: top;\n",
       "    }\n",
       "\n",
       "    .dataframe thead th {\n",
       "        text-align: right;\n",
       "    }\n",
       "</style>\n",
       "<table border=\"1\" class=\"dataframe\">\n",
       "  <thead>\n",
       "    <tr style=\"text-align: right;\">\n",
       "      <th></th>\n",
       "      <th>acordao</th>\n",
       "      <th>areas</th>\n",
       "      <th>filtrado_6000</th>\n",
       "    </tr>\n",
       "  </thead>\n",
       "  <tbody>\n",
       "    <tr>\n",
       "      <th>0</th>\n",
       "      <td>297/2016-P</td>\n",
       "      <td>Responsabilidade</td>\n",
       "      <td>tribunal conta união tc grupo classe plenário ...</td>\n",
       "    </tr>\n",
       "    <tr>\n",
       "      <th>1</th>\n",
       "      <td>366/2016-P</td>\n",
       "      <td>Finanças Públicas</td>\n",
       "      <td>tribunal conta união tc grupo classe ii plenár...</td>\n",
       "    </tr>\n",
       "    <tr>\n",
       "      <th>2</th>\n",
       "      <td>944/2016-P</td>\n",
       "      <td>Responsabilidade</td>\n",
       "      <td>tribunal conta união tc grupo classe plenário ...</td>\n",
       "    </tr>\n",
       "    <tr>\n",
       "      <th>3</th>\n",
       "      <td>30/2016-P</td>\n",
       "      <td>Direito Processual</td>\n",
       "      <td>tribunal conta união tc grupo classe plenário ...</td>\n",
       "    </tr>\n",
       "    <tr>\n",
       "      <th>4</th>\n",
       "      <td>55/2016-P</td>\n",
       "      <td>Pessoal</td>\n",
       "      <td>wania lucia pasquarelli nascimentotcuwania luc...</td>\n",
       "    </tr>\n",
       "  </tbody>\n",
       "</table>\n",
       "</div>"
      ],
      "text/plain": [
       "      acordao               areas  \\\n",
       "0  297/2016-P    Responsabilidade   \n",
       "1  366/2016-P   Finanças Públicas   \n",
       "2  944/2016-P    Responsabilidade   \n",
       "3   30/2016-P  Direito Processual   \n",
       "4   55/2016-P             Pessoal   \n",
       "\n",
       "                                       filtrado_6000  \n",
       "0  tribunal conta união tc grupo classe plenário ...  \n",
       "1  tribunal conta união tc grupo classe ii plenár...  \n",
       "2  tribunal conta união tc grupo classe plenário ...  \n",
       "3  tribunal conta união tc grupo classe plenário ...  \n",
       "4  wania lucia pasquarelli nascimentotcuwania luc...  "
      ]
     },
     "execution_count": 1,
     "metadata": {},
     "output_type": "execute_result"
    }
   ],
   "source": [
    "import pandas as pd\n",
    "\n",
    "df = pd.read_csv('../dados/acordaos-unicos-filtrados-6000.csv', sep = '|')\n",
    "df['filtrado_6000']=df['filtrado_6000'].astype(str)\n",
    "df.head()"
   ]
  },
  {
   "cell_type": "code",
   "execution_count": 2,
   "metadata": {},
   "outputs": [
    {
     "data": {
      "text/plain": [
       "(9739, 3)"
      ]
     },
     "execution_count": 2,
     "metadata": {},
     "output_type": "execute_result"
    }
   ],
   "source": [
    "df.shape"
   ]
  },
  {
   "cell_type": "code",
   "execution_count": 3,
   "metadata": {},
   "outputs": [
    {
     "data": {
      "text/plain": [
       "array(['Competência do TCU', 'Contrato Administrativo', 'Convênio',\n",
       "       'Desestatização', 'Direito Processual', 'Finanças Públicas',\n",
       "       'Gestão Administrativa', 'Licitação', 'Pessoal',\n",
       "       'Responsabilidade'], dtype='<U23')"
      ]
     },
     "execution_count": 3,
     "metadata": {},
     "output_type": "execute_result"
    }
   ],
   "source": [
    "from sklearn.preprocessing import LabelBinarizer\n",
    "\n",
    "areas = df.groupby(['areas']).groups.keys()\n",
    "lbArea = LabelBinarizer()\n",
    "lbArea.fit([x for x in areas])\n",
    "lbArea.classes_"
   ]
  },
  {
   "cell_type": "code",
   "execution_count": 4,
   "metadata": {},
   "outputs": [
    {
     "data": {
      "text/plain": [
       "(9739, 10)"
      ]
     },
     "execution_count": 4,
     "metadata": {},
     "output_type": "execute_result"
    }
   ],
   "source": [
    "y = lbArea.transform(df['areas'])\n",
    "y.shape"
   ]
  },
  {
   "cell_type": "code",
   "execution_count": 5,
   "metadata": {},
   "outputs": [
    {
     "name": "stderr",
     "output_type": "stream",
     "text": [
      "Using TensorFlow backend.\n"
     ]
    },
    {
     "name": "stdout",
     "output_type": "stream",
     "text": [
      "Found 95423 unique tokens.\n"
     ]
    }
   ],
   "source": [
    "from keras.preprocessing.text import Tokenizer\n",
    "import numpy as np\n",
    "\n",
    "vocabulario = 100000\n",
    "limite_texto = 6000\n",
    "dim_vetor = 50\n",
    "\n",
    "tokenizer = Tokenizer(num_words=vocabulario)\n",
    "tokenizer.fit_on_texts(df['filtrado_6000'])\n",
    "\n",
    "sequences = tokenizer.texts_to_sequences(df['filtrado_6000'])\n",
    "\n",
    "word_index = tokenizer.word_index\n",
    "print('Found %s unique tokens.' % len(word_index))"
   ]
  },
  {
   "cell_type": "code",
   "execution_count": 6,
   "metadata": {},
   "outputs": [
    {
     "name": "stdout",
     "output_type": "stream",
     "text": [
      "Shape of data tensor: (9739, 6000)\n"
     ]
    }
   ],
   "source": [
    "from keras.preprocessing.sequence import pad_sequences\n",
    "\n",
    "x = pad_sequences(sequences, maxlen=limite_texto)\n",
    "\n",
    "print('Shape of data tensor:', x.shape)"
   ]
  },
  {
   "cell_type": "code",
   "execution_count": 7,
   "metadata": {},
   "outputs": [
    {
     "name": "stderr",
     "output_type": "stream",
     "text": [
      "/home/leonardo/anaconda3/envs/gpu/lib/python3.7/site-packages/smart_open/smart_open_lib.py:398: UserWarning: This function is deprecated, use smart_open.open instead. See the migration notes for details: https://github.com/RaRe-Technologies/smart_open/blob/master/README.rst#migrating-to-the-new-open-function\n",
      "  'See the migration notes for details: %s' % _MIGRATION_NOTES_URL\n"
     ]
    }
   ],
   "source": [
    "from gensim.models import Word2Vec\n",
    "\n",
    "model = Word2Vec.load('../vocabularios/modelo-acordaos-50.w2v')"
   ]
  },
  {
   "cell_type": "code",
   "execution_count": 8,
   "metadata": {},
   "outputs": [
    {
     "name": "stderr",
     "output_type": "stream",
     "text": [
      "/home/leonardo/anaconda3/envs/gpu/lib/python3.7/site-packages/ipykernel_launcher.py:7: DeprecationWarning: Call to deprecated `__contains__` (Method will be removed in 4.0.0, use self.wv.__contains__() instead).\n",
      "  import sys\n",
      "/home/leonardo/anaconda3/envs/gpu/lib/python3.7/site-packages/ipykernel_launcher.py:8: DeprecationWarning: Call to deprecated `__getitem__` (Method will be removed in 4.0.0, use self.wv.__getitem__() instead).\n",
      "  \n"
     ]
    },
    {
     "name": "stdout",
     "output_type": "stream",
     "text": [
      "Vocabulario: 95423\n",
      "Encontrados no modelo: 48140 = 50.44905316328349\n"
     ]
    }
   ],
   "source": [
    "# create a weight matrix for words in training docs\n",
    "\n",
    "embedding_matrix = np.zeros((vocabulario, dim_vetor))\n",
    "\n",
    "ok = 0\n",
    "for word, i in tokenizer.word_index.items():\n",
    "    if word in model:\n",
    "        embedding_matrix[i] = model[word]\n",
    "        ok += 1\n",
    "print('Vocabulario:', i)\n",
    "print('Encontrados no modelo:', ok, '=', ok * 100. / i)"
   ]
  },
  {
   "cell_type": "code",
   "execution_count": 9,
   "metadata": {
    "scrolled": true
   },
   "outputs": [
    {
     "data": {
      "text/plain": [
       "((9739, 6000), (9739, 10))"
      ]
     },
     "execution_count": 9,
     "metadata": {},
     "output_type": "execute_result"
    }
   ],
   "source": [
    "x.shape, y.shape"
   ]
  },
  {
   "cell_type": "markdown",
   "metadata": {},
   "source": [
    "# Treinamento\n",
    "\n",
    "## Embedding com pesos fixos"
   ]
  },
  {
   "cell_type": "code",
   "execution_count": 10,
   "metadata": {
    "scrolled": false
   },
   "outputs": [
    {
     "name": "stderr",
     "output_type": "stream",
     "text": [
      "WARNING: Logging before flag parsing goes to stderr.\n",
      "W0316 16:16:42.295290 139801522947904 deprecation_wrapper.py:119] From /home/leonardo/anaconda3/envs/gpu/lib/python3.7/site-packages/keras/backend/tensorflow_backend.py:74: The name tf.get_default_graph is deprecated. Please use tf.compat.v1.get_default_graph instead.\n",
      "\n",
      "W0316 16:16:42.352731 139801522947904 deprecation_wrapper.py:119] From /home/leonardo/anaconda3/envs/gpu/lib/python3.7/site-packages/keras/backend/tensorflow_backend.py:517: The name tf.placeholder is deprecated. Please use tf.compat.v1.placeholder instead.\n",
      "\n",
      "W0316 16:16:42.354679 139801522947904 deprecation_wrapper.py:119] From /home/leonardo/anaconda3/envs/gpu/lib/python3.7/site-packages/keras/backend/tensorflow_backend.py:4138: The name tf.random_uniform is deprecated. Please use tf.random.uniform instead.\n",
      "\n",
      "W0316 16:16:42.361933 139801522947904 deprecation_wrapper.py:119] From /home/leonardo/anaconda3/envs/gpu/lib/python3.7/site-packages/keras/backend/tensorflow_backend.py:174: The name tf.get_default_session is deprecated. Please use tf.compat.v1.get_default_session instead.\n",
      "\n",
      "W0316 16:16:42.362637 139801522947904 deprecation_wrapper.py:119] From /home/leonardo/anaconda3/envs/gpu/lib/python3.7/site-packages/keras/backend/tensorflow_backend.py:181: The name tf.ConfigProto is deprecated. Please use tf.compat.v1.ConfigProto instead.\n",
      "\n",
      "W0316 16:16:43.058380 139801522947904 deprecation.py:506] From /home/leonardo/anaconda3/envs/gpu/lib/python3.7/site-packages/keras/backend/tensorflow_backend.py:3445: calling dropout (from tensorflow.python.ops.nn_ops) with keep_prob is deprecated and will be removed in a future version.\n",
      "Instructions for updating:\n",
      "Please use `rate` instead of `keep_prob`. Rate should be set to `rate = 1 - keep_prob`.\n",
      "W0316 16:16:43.124538 139801522947904 deprecation_wrapper.py:119] From /home/leonardo/anaconda3/envs/gpu/lib/python3.7/site-packages/keras/optimizers.py:790: The name tf.train.Optimizer is deprecated. Please use tf.compat.v1.train.Optimizer instead.\n",
      "\n",
      "W0316 16:16:43.214085 139801522947904 deprecation.py:323] From /home/leonardo/anaconda3/envs/gpu/lib/python3.7/site-packages/tensorflow/python/ops/math_grad.py:1250: add_dispatch_support.<locals>.wrapper (from tensorflow.python.ops.array_ops) is deprecated and will be removed in a future version.\n",
      "Instructions for updating:\n",
      "Use tf.where in 2.0, which has the same broadcast rule as np.where\n"
     ]
    },
    {
     "name": "stdout",
     "output_type": "stream",
     "text": [
      "_________________________________________________________________\n",
      "Layer (type)                 Output Shape              Param #   \n",
      "=================================================================\n",
      "embedding_1 (Embedding)      (None, 6000, 50)          5000000   \n",
      "_________________________________________________________________\n",
      "flatten_1 (Flatten)          (None, 300000)            0         \n",
      "_________________________________________________________________\n",
      "dense_1 (Dense)              (None, 64)                19200064  \n",
      "_________________________________________________________________\n",
      "dropout_1 (Dropout)          (None, 64)                0         \n",
      "_________________________________________________________________\n",
      "dense_2 (Dense)              (None, 256)               16640     \n",
      "_________________________________________________________________\n",
      "dropout_2 (Dropout)          (None, 256)               0         \n",
      "_________________________________________________________________\n",
      "dense_3 (Dense)              (None, 1024)              263168    \n",
      "_________________________________________________________________\n",
      "dropout_3 (Dropout)          (None, 1024)              0         \n",
      "_________________________________________________________________\n",
      "dense_4 (Dense)              (None, 10)                10250     \n",
      "=================================================================\n",
      "Total params: 24,490,122\n",
      "Trainable params: 24,490,122\n",
      "Non-trainable params: 0\n",
      "_________________________________________________________________\n",
      "Train on 7791 samples, validate on 1948 samples\n",
      "Epoch 1/20\n",
      "7791/7791 [==============================] - 10s 1ms/step - loss: 3.1558 - categorical_accuracy: 0.3480 - val_loss: 1.6855 - val_categorical_accuracy: 0.2762\n",
      "Epoch 2/20\n",
      "7791/7791 [==============================] - 9s 1ms/step - loss: 1.7488 - categorical_accuracy: 0.4373 - val_loss: 1.6674 - val_categorical_accuracy: 0.2669\n",
      "Epoch 3/20\n",
      "7791/7791 [==============================] - 9s 1ms/step - loss: 1.6793 - categorical_accuracy: 0.4469 - val_loss: 1.6645 - val_categorical_accuracy: 0.2675\n",
      "Epoch 4/20\n",
      "7791/7791 [==============================] - 9s 1ms/step - loss: 1.6381 - categorical_accuracy: 0.4623 - val_loss: 1.7042 - val_categorical_accuracy: 0.2875\n",
      "Epoch 5/20\n",
      "7791/7791 [==============================] - 9s 1ms/step - loss: 1.5847 - categorical_accuracy: 0.4703 - val_loss: 1.6577 - val_categorical_accuracy: 0.2829\n",
      "Epoch 6/20\n",
      "7791/7791 [==============================] - 9s 1ms/step - loss: 1.5795 - categorical_accuracy: 0.4753 - val_loss: 1.6723 - val_categorical_accuracy: 0.2854\n",
      "Epoch 7/20\n",
      "7791/7791 [==============================] - 9s 1ms/step - loss: 1.5313 - categorical_accuracy: 0.4795 - val_loss: 1.6156 - val_categorical_accuracy: 0.2813\n",
      "Epoch 8/20\n",
      "7791/7791 [==============================] - 9s 1ms/step - loss: 1.5216 - categorical_accuracy: 0.4829 - val_loss: 1.7894 - val_categorical_accuracy: 0.2829\n",
      "Epoch 9/20\n",
      "7791/7791 [==============================] - 9s 1ms/step - loss: 1.5364 - categorical_accuracy: 0.4852 - val_loss: 1.6980 - val_categorical_accuracy: 0.2875\n",
      "Epoch 10/20\n",
      "7791/7791 [==============================] - 9s 1ms/step - loss: 1.4998 - categorical_accuracy: 0.4885 - val_loss: 1.6138 - val_categorical_accuracy: 0.2798\n",
      "Epoch 11/20\n",
      "7791/7791 [==============================] - 9s 1ms/step - loss: 1.5203 - categorical_accuracy: 0.4884 - val_loss: 1.6893 - val_categorical_accuracy: 0.2839\n",
      "Epoch 12/20\n",
      "7791/7791 [==============================] - 9s 1ms/step - loss: 1.5011 - categorical_accuracy: 0.4947 - val_loss: 1.6803 - val_categorical_accuracy: 0.2864\n",
      "Epoch 13/20\n",
      "7791/7791 [==============================] - 9s 1ms/step - loss: 1.5121 - categorical_accuracy: 0.4930 - val_loss: 1.6340 - val_categorical_accuracy: 0.2746\n",
      "Epoch 14/20\n",
      "7791/7791 [==============================] - 9s 1ms/step - loss: 1.5028 - categorical_accuracy: 0.4898 - val_loss: 1.6291 - val_categorical_accuracy: 0.2875\n",
      "Epoch 15/20\n",
      "7791/7791 [==============================] - 9s 1ms/step - loss: 1.5081 - categorical_accuracy: 0.4940 - val_loss: 1.6149 - val_categorical_accuracy: 0.2885\n",
      "Epoch 16/20\n",
      "7791/7791 [==============================] - 9s 1ms/step - loss: 1.4740 - categorical_accuracy: 0.4966 - val_loss: 1.6502 - val_categorical_accuracy: 0.3008\n",
      "Epoch 17/20\n",
      "7791/7791 [==============================] - 9s 1ms/step - loss: 1.4783 - categorical_accuracy: 0.4961 - val_loss: 1.6212 - val_categorical_accuracy: 0.2864\n",
      "Epoch 18/20\n",
      "7791/7791 [==============================] - 9s 1ms/step - loss: 1.4630 - categorical_accuracy: 0.5033 - val_loss: 1.6628 - val_categorical_accuracy: 0.2875\n",
      "Epoch 19/20\n",
      "7791/7791 [==============================] - 9s 1ms/step - loss: 1.4755 - categorical_accuracy: 0.4996 - val_loss: 1.9398 - val_categorical_accuracy: 0.2957\n",
      "Epoch 20/20\n",
      "7791/7791 [==============================] - 9s 1ms/step - loss: 1.4863 - categorical_accuracy: 0.5017 - val_loss: 1.6229 - val_categorical_accuracy: 0.2895\n"
     ]
    }
   ],
   "source": [
    "from keras.models import Sequential\n",
    "from keras.layers import Flatten, Dense, Embedding\n",
    "from keras.layers.core import Dropout\n",
    "\n",
    "model = Sequential()\n",
    "model.add(Embedding(vocabulario, dim_vetor, weights=[embedding_matrix], input_length=limite_texto, trainable=True))\n",
    "model.add(Flatten())\n",
    "model.add(Dense(64, activation='relu'))\n",
    "model.add(Dropout(0.4))\n",
    "model.add(Dense(256, activation='relu'))\n",
    "model.add(Dropout(0.4))\n",
    "model.add(Dense(1024, activation='relu'))\n",
    "model.add(Dropout(0.4))\n",
    "model.add(Dense(y.shape[1], activation='softmax'))\n",
    "model.compile(loss='categorical_crossentropy', optimizer='adadelta',  metrics=[\"categorical_accuracy\"])\n",
    "model.summary()\n",
    "history = model.fit(x, y, epochs=20, batch_size=32, validation_split=0.2, verbose=1, shuffle=True)"
   ]
  },
  {
   "cell_type": "code",
   "execution_count": null,
   "metadata": {},
   "outputs": [],
   "source": []
  }
 ],
 "metadata": {
  "kernelspec": {
   "display_name": "Python 3",
   "language": "python",
   "name": "python3"
  },
  "language_info": {
   "codemirror_mode": {
    "name": "ipython",
    "version": 3
   },
   "file_extension": ".py",
   "mimetype": "text/x-python",
   "name": "python",
   "nbconvert_exporter": "python",
   "pygments_lexer": "ipython3",
   "version": "3.7.4"
  }
 },
 "nbformat": 4,
 "nbformat_minor": 2
}
