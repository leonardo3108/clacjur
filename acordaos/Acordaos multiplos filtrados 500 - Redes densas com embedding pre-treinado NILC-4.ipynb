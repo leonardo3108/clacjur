{
 "cells": [
  {
   "cell_type": "code",
   "execution_count": 1,
   "metadata": {},
   "outputs": [
    {
     "data": {
      "text/html": [
       "<div>\n",
       "<style scoped>\n",
       "    .dataframe tbody tr th:only-of-type {\n",
       "        vertical-align: middle;\n",
       "    }\n",
       "\n",
       "    .dataframe tbody tr th {\n",
       "        vertical-align: top;\n",
       "    }\n",
       "\n",
       "    .dataframe thead th {\n",
       "        text-align: right;\n",
       "    }\n",
       "</style>\n",
       "<table border=\"1\" class=\"dataframe\">\n",
       "  <thead>\n",
       "    <tr style=\"text-align: right;\">\n",
       "      <th></th>\n",
       "      <th>acordao</th>\n",
       "      <th>areas</th>\n",
       "      <th>filtrado_500</th>\n",
       "    </tr>\n",
       "  </thead>\n",
       "  <tbody>\n",
       "    <tr>\n",
       "      <th>0</th>\n",
       "      <td>297/2016-P</td>\n",
       "      <td>Responsabilidade</td>\n",
       "      <td>conta conta gerência instituto nacional seguro...</td>\n",
       "    </tr>\n",
       "    <tr>\n",
       "      <th>1</th>\n",
       "      <td>366/2016-P</td>\n",
       "      <td>Finanças Públicas</td>\n",
       "      <td>senado petróleo petróleo regime aduaneiro expo...</td>\n",
       "    </tr>\n",
       "    <tr>\n",
       "      <th>2</th>\n",
       "      <td>944/2016-P</td>\n",
       "      <td>Responsabilidade</td>\n",
       "      <td>tribunal conta plenário embargo declaração aco...</td>\n",
       "    </tr>\n",
       "    <tr>\n",
       "      <th>3</th>\n",
       "      <td>30/2016-P</td>\n",
       "      <td>Direito Processual</td>\n",
       "      <td>embargo declaração inss recorrente marco antôn...</td>\n",
       "    </tr>\n",
       "    <tr>\n",
       "      <th>4</th>\n",
       "      <td>55/2016-P</td>\n",
       "      <td>Pessoal</td>\n",
       "      <td>senac senac senac empresa senac giselle araújo...</td>\n",
       "    </tr>\n",
       "  </tbody>\n",
       "</table>\n",
       "</div>"
      ],
      "text/plain": [
       "      acordao               areas  \\\n",
       "0  297/2016-P    Responsabilidade   \n",
       "1  366/2016-P   Finanças Públicas   \n",
       "2  944/2016-P    Responsabilidade   \n",
       "3   30/2016-P  Direito Processual   \n",
       "4   55/2016-P             Pessoal   \n",
       "\n",
       "                                        filtrado_500  \n",
       "0  conta conta gerência instituto nacional seguro...  \n",
       "1  senado petróleo petróleo regime aduaneiro expo...  \n",
       "2  tribunal conta plenário embargo declaração aco...  \n",
       "3  embargo declaração inss recorrente marco antôn...  \n",
       "4  senac senac senac empresa senac giselle araújo...  "
      ]
     },
     "execution_count": 1,
     "metadata": {},
     "output_type": "execute_result"
    }
   ],
   "source": [
    "import pandas as pd\n",
    "\n",
    "df = pd.read_csv('../dados/acordaos-selecionada-filtrados-500.csv', sep = '|')\n",
    "df['filtrado_500']=df['filtrado_500'].astype(str)\n",
    "df.head()"
   ]
  },
  {
   "cell_type": "code",
   "execution_count": 2,
   "metadata": {},
   "outputs": [
    {
     "data": {
      "text/plain": [
       "(10524, 3)"
      ]
     },
     "execution_count": 2,
     "metadata": {},
     "output_type": "execute_result"
    }
   ],
   "source": [
    "df.shape"
   ]
  },
  {
   "cell_type": "code",
   "execution_count": 3,
   "metadata": {},
   "outputs": [
    {
     "data": {
      "text/plain": [
       "array(['Competência do TCU', 'Competência do TCU,Contrato Administrativo',\n",
       "       'Competência do TCU,Contrato Administrativo,Responsabilidade',\n",
       "       'Competência do TCU,Convênio',\n",
       "       'Competência do TCU,Convênio,Direito Processual,Licitação',\n",
       "       'Competência do TCU,Convênio,Gestão Administrativa',\n",
       "       'Competência do TCU,Convênio,Responsabilidade',\n",
       "       'Competência do TCU,Desestatização',\n",
       "       'Competência do TCU,Direito Processual',\n",
       "       'Competência do TCU,Direito Processual,Licitação',\n",
       "       'Competência do TCU,Direito Processual,Pessoal',\n",
       "       'Competência do TCU,Direito Processual,Responsabilidade',\n",
       "       'Competência do TCU,Finanças Públicas',\n",
       "       'Competência do TCU,Finanças Públicas,Licitação',\n",
       "       'Competência do TCU,Finanças Públicas,Responsabilidade',\n",
       "       'Competência do TCU,Gestão Administrativa',\n",
       "       'Competência do TCU,Licitação',\n",
       "       'Competência do TCU,Licitação,Pessoal',\n",
       "       'Competência do TCU,Licitação,Responsabilidade',\n",
       "       'Competência do TCU,Pessoal',\n",
       "       'Competência do TCU,Pessoal,Responsabilidade',\n",
       "       'Competência do TCU,Responsabilidade', 'Contrato Administrativo',\n",
       "       'Contrato Administrativo,Convênio',\n",
       "       'Contrato Administrativo,Convênio,Finanças Públicas',\n",
       "       'Contrato Administrativo,Convênio,Gestão Administrativa',\n",
       "       'Contrato Administrativo,Convênio,Licitação',\n",
       "       'Contrato Administrativo,Desestatização',\n",
       "       'Contrato Administrativo,Desestatização,Licitação',\n",
       "       'Contrato Administrativo,Direito Processual',\n",
       "       'Contrato Administrativo,Direito Processual,Gestão Administrativa',\n",
       "       'Contrato Administrativo,Direito Processual,Licitação',\n",
       "       'Contrato Administrativo,Direito Processual,Licitação,Responsabilidade',\n",
       "       'Contrato Administrativo,Direito Processual,Responsabilidade',\n",
       "       'Contrato Administrativo,Finanças Públicas',\n",
       "       'Contrato Administrativo,Finanças Públicas,Gestão Administrativa,Licitação',\n",
       "       'Contrato Administrativo,Finanças Públicas,Licitação',\n",
       "       'Contrato Administrativo,Finanças Públicas,Responsabilidade',\n",
       "       'Contrato Administrativo,Gestão Administrativa',\n",
       "       'Contrato Administrativo,Gestão Administrativa,Licitação',\n",
       "       'Contrato Administrativo,Licitação',\n",
       "       'Contrato Administrativo,Licitação,Pessoal',\n",
       "       'Contrato Administrativo,Licitação,Responsabilidade',\n",
       "       'Contrato Administrativo,Pessoal',\n",
       "       'Contrato Administrativo,Responsabilidade', 'Convênio',\n",
       "       'Convênio,Desestatização,Finanças Públicas,Licitação',\n",
       "       'Convênio,Direito Processual', 'Convênio,Finanças Públicas',\n",
       "       'Convênio,Finanças Públicas,Licitação,Pessoal',\n",
       "       'Convênio,Gestão Administrativa',\n",
       "       'Convênio,Gestão Administrativa,Licitação',\n",
       "       'Convênio,Gestão Administrativa,Pessoal',\n",
       "       'Convênio,Gestão Administrativa,Responsabilidade',\n",
       "       'Convênio,Licitação', 'Convênio,Pessoal',\n",
       "       'Convênio,Responsabilidade', 'Desestatização',\n",
       "       'Desestatização,Direito Processual',\n",
       "       'Desestatização,Finanças Públicas',\n",
       "       'Desestatização,Gestão Administrativa',\n",
       "       'Desestatização,Gestão Administrativa,Pessoal',\n",
       "       'Desestatização,Licitação',\n",
       "       'Desestatização,Licitação,Responsabilidade', 'Direito Processual',\n",
       "       'Direito Processual,Finanças Públicas',\n",
       "       'Direito Processual,Gestão Administrativa,Responsabilidade',\n",
       "       'Direito Processual,Licitação',\n",
       "       'Direito Processual,Licitação,Responsabilidade',\n",
       "       'Direito Processual,Pessoal',\n",
       "       'Direito Processual,Responsabilidade', 'Finanças Públicas',\n",
       "       'Finanças Públicas,Gestão Administrativa',\n",
       "       'Finanças Públicas,Gestão Administrativa,Licitação',\n",
       "       'Finanças Públicas,Gestão Administrativa,Pessoal',\n",
       "       'Finanças Públicas,Licitação',\n",
       "       'Finanças Públicas,Licitação,Pessoal', 'Finanças Públicas,Pessoal',\n",
       "       'Finanças Públicas,Responsabilidade', 'Gestão Administrativa',\n",
       "       'Gestão Administrativa,Licitação',\n",
       "       'Gestão Administrativa,Licitação,Pessoal,Responsabilidade',\n",
       "       'Gestão Administrativa,Pessoal',\n",
       "       'Gestão Administrativa,Responsabilidade', 'Licitação',\n",
       "       'Licitação,Pessoal', 'Licitação,Pessoal,Responsabilidade',\n",
       "       'Licitação,Responsabilidade', 'Pessoal',\n",
       "       'Pessoal,Responsabilidade', 'Responsabilidade'], dtype='<U73')"
      ]
     },
     "execution_count": 3,
     "metadata": {},
     "output_type": "execute_result"
    }
   ],
   "source": [
    "from sklearn.preprocessing import LabelBinarizer\n",
    "\n",
    "areas = df.groupby(['areas']).groups.keys()\n",
    "lbArea = LabelBinarizer()\n",
    "lbArea.fit([x for x in areas])\n",
    "lbArea.classes_"
   ]
  },
  {
   "cell_type": "code",
   "execution_count": 4,
   "metadata": {},
   "outputs": [
    {
     "data": {
      "text/plain": [
       "(10524, 91)"
      ]
     },
     "execution_count": 4,
     "metadata": {},
     "output_type": "execute_result"
    }
   ],
   "source": [
    "y = lbArea.transform(df['areas'])\n",
    "y.shape"
   ]
  },
  {
   "cell_type": "code",
   "execution_count": 5,
   "metadata": {},
   "outputs": [
    {
     "name": "stderr",
     "output_type": "stream",
     "text": [
      "Using TensorFlow backend.\n"
     ]
    },
    {
     "name": "stdout",
     "output_type": "stream",
     "text": [
      "Found 33339 unique tokens.\n"
     ]
    }
   ],
   "source": [
    "from keras.preprocessing.text import Tokenizer\n",
    "import numpy as np\n",
    "\n",
    "vocabulario = 35000\n",
    "limite_texto = 500\n",
    "dim_vetor = 100\n",
    "\n",
    "tokenizer = Tokenizer(num_words=vocabulario)\n",
    "tokenizer.fit_on_texts(df['filtrado_500'])\n",
    "\n",
    "sequences = tokenizer.texts_to_sequences(df['filtrado_500'])\n",
    "\n",
    "word_index = tokenizer.word_index\n",
    "print('Found %s unique tokens.' % len(word_index))"
   ]
  },
  {
   "cell_type": "code",
   "execution_count": 6,
   "metadata": {},
   "outputs": [
    {
     "name": "stdout",
     "output_type": "stream",
     "text": [
      "Shape of data tensor: (10524, 500)\n"
     ]
    }
   ],
   "source": [
    "from keras.preprocessing.sequence import pad_sequences\n",
    "\n",
    "x = pad_sequences(sequences, maxlen=limite_texto)\n",
    "\n",
    "print('Shape of data tensor:', x.shape)"
   ]
  },
  {
   "cell_type": "code",
   "execution_count": 7,
   "metadata": {},
   "outputs": [
    {
     "name": "stderr",
     "output_type": "stream",
     "text": [
      "/home/leonardo/anaconda3/envs/gpu/lib/python3.7/site-packages/smart_open/smart_open_lib.py:398: UserWarning: This function is deprecated, use smart_open.open instead. See the migration notes for details: https://github.com/RaRe-Technologies/smart_open/blob/master/README.rst#migrating-to-the-new-open-function\n",
      "  'See the migration notes for details: %s' % _MIGRATION_NOTES_URL\n"
     ]
    }
   ],
   "source": [
    "from gensim.models import KeyedVectors\n",
    "\n",
    "model = KeyedVectors.load_word2vec_format('../externos/model.txt')"
   ]
  },
  {
   "cell_type": "code",
   "execution_count": 8,
   "metadata": {},
   "outputs": [
    {
     "name": "stdout",
     "output_type": "stream",
     "text": [
      "Vocabulario: 33339\n",
      "Encontrados no modelo: 24576 = 73.71546837037704\n"
     ]
    }
   ],
   "source": [
    "# create a weight matrix for words in training docs\n",
    "\n",
    "embedding_matrix = np.zeros((vocabulario, dim_vetor))\n",
    "\n",
    "ok = 0\n",
    "for word, i in tokenizer.word_index.items():\n",
    "    if word in model:\n",
    "        embedding_matrix[i] = model[word]\n",
    "        ok += 1\n",
    "print('Vocabulario:', i)\n",
    "print('Encontrados no modelo:', ok, '=', ok * 100. / i)"
   ]
  },
  {
   "cell_type": "code",
   "execution_count": 9,
   "metadata": {
    "scrolled": true
   },
   "outputs": [
    {
     "data": {
      "text/plain": [
       "((10524, 500), (10524, 91))"
      ]
     },
     "execution_count": 9,
     "metadata": {},
     "output_type": "execute_result"
    }
   ],
   "source": [
    "x.shape, y.shape"
   ]
  },
  {
   "cell_type": "markdown",
   "metadata": {},
   "source": [
    "# Treinamento\n",
    "\n",
    "## Embedding com pesos fixos"
   ]
  },
  {
   "cell_type": "code",
   "execution_count": 10,
   "metadata": {
    "scrolled": false
   },
   "outputs": [
    {
     "name": "stderr",
     "output_type": "stream",
     "text": [
      "WARNING: Logging before flag parsing goes to stderr.\n",
      "W0318 12:13:40.450206 140480209598272 deprecation_wrapper.py:119] From /home/leonardo/anaconda3/envs/gpu/lib/python3.7/site-packages/keras/backend/tensorflow_backend.py:74: The name tf.get_default_graph is deprecated. Please use tf.compat.v1.get_default_graph instead.\n",
      "\n",
      "W0318 12:13:40.577805 140480209598272 deprecation_wrapper.py:119] From /home/leonardo/anaconda3/envs/gpu/lib/python3.7/site-packages/keras/backend/tensorflow_backend.py:517: The name tf.placeholder is deprecated. Please use tf.compat.v1.placeholder instead.\n",
      "\n",
      "W0318 12:13:40.579727 140480209598272 deprecation_wrapper.py:119] From /home/leonardo/anaconda3/envs/gpu/lib/python3.7/site-packages/keras/backend/tensorflow_backend.py:4138: The name tf.random_uniform is deprecated. Please use tf.random.uniform instead.\n",
      "\n",
      "W0318 12:13:40.591181 140480209598272 deprecation_wrapper.py:119] From /home/leonardo/anaconda3/envs/gpu/lib/python3.7/site-packages/keras/backend/tensorflow_backend.py:174: The name tf.get_default_session is deprecated. Please use tf.compat.v1.get_default_session instead.\n",
      "\n",
      "W0318 12:13:40.592073 140480209598272 deprecation_wrapper.py:119] From /home/leonardo/anaconda3/envs/gpu/lib/python3.7/site-packages/keras/backend/tensorflow_backend.py:181: The name tf.ConfigProto is deprecated. Please use tf.compat.v1.ConfigProto instead.\n",
      "\n",
      "W0318 12:13:41.285488 140480209598272 deprecation.py:506] From /home/leonardo/anaconda3/envs/gpu/lib/python3.7/site-packages/keras/backend/tensorflow_backend.py:3445: calling dropout (from tensorflow.python.ops.nn_ops) with keep_prob is deprecated and will be removed in a future version.\n",
      "Instructions for updating:\n",
      "Please use `rate` instead of `keep_prob`. Rate should be set to `rate = 1 - keep_prob`.\n",
      "W0318 12:13:41.351233 140480209598272 deprecation_wrapper.py:119] From /home/leonardo/anaconda3/envs/gpu/lib/python3.7/site-packages/keras/optimizers.py:790: The name tf.train.Optimizer is deprecated. Please use tf.compat.v1.train.Optimizer instead.\n",
      "\n",
      "W0318 12:13:41.444002 140480209598272 deprecation.py:323] From /home/leonardo/anaconda3/envs/gpu/lib/python3.7/site-packages/tensorflow/python/ops/math_grad.py:1250: add_dispatch_support.<locals>.wrapper (from tensorflow.python.ops.array_ops) is deprecated and will be removed in a future version.\n",
      "Instructions for updating:\n",
      "Use tf.where in 2.0, which has the same broadcast rule as np.where\n"
     ]
    },
    {
     "name": "stdout",
     "output_type": "stream",
     "text": [
      "_________________________________________________________________\n",
      "Layer (type)                 Output Shape              Param #   \n",
      "=================================================================\n",
      "embedding_1 (Embedding)      (None, 500, 100)          3500000   \n",
      "_________________________________________________________________\n",
      "flatten_1 (Flatten)          (None, 50000)             0         \n",
      "_________________________________________________________________\n",
      "dense_1 (Dense)              (None, 2048)              102402048 \n",
      "_________________________________________________________________\n",
      "dropout_1 (Dropout)          (None, 2048)              0         \n",
      "_________________________________________________________________\n",
      "dense_2 (Dense)              (None, 512)               1049088   \n",
      "_________________________________________________________________\n",
      "dropout_2 (Dropout)          (None, 512)               0         \n",
      "_________________________________________________________________\n",
      "dense_3 (Dense)              (None, 256)               131328    \n",
      "_________________________________________________________________\n",
      "dropout_3 (Dropout)          (None, 256)               0         \n",
      "_________________________________________________________________\n",
      "dense_4 (Dense)              (None, 91)                23387     \n",
      "=================================================================\n",
      "Total params: 107,105,851\n",
      "Trainable params: 103,605,851\n",
      "Non-trainable params: 3,500,000\n",
      "_________________________________________________________________\n",
      "Train on 8419 samples, validate on 2105 samples\n",
      "Epoch 1/20\n",
      "8419/8419 [==============================] - 33s 4ms/step - loss: 3.0138 - categorical_accuracy: 0.4094 - val_loss: 1.9488 - val_categorical_accuracy: 0.4613\n",
      "Epoch 2/20\n",
      "8419/8419 [==============================] - 30s 4ms/step - loss: 1.8773 - categorical_accuracy: 0.5225 - val_loss: 1.8120 - val_categorical_accuracy: 0.5216\n",
      "Epoch 3/20\n",
      "8419/8419 [==============================] - 30s 4ms/step - loss: 1.6647 - categorical_accuracy: 0.5768 - val_loss: 1.9252 - val_categorical_accuracy: 0.3929\n",
      "Epoch 4/20\n",
      "8419/8419 [==============================] - 30s 4ms/step - loss: 1.4713 - categorical_accuracy: 0.6180 - val_loss: 1.9745 - val_categorical_accuracy: 0.5083\n",
      "Epoch 5/20\n",
      "8419/8419 [==============================] - 30s 4ms/step - loss: 1.3223 - categorical_accuracy: 0.6608 - val_loss: 2.0599 - val_categorical_accuracy: 0.4570\n",
      "Epoch 6/20\n",
      "8419/8419 [==============================] - 30s 4ms/step - loss: 1.1954 - categorical_accuracy: 0.6932 - val_loss: 2.1799 - val_categorical_accuracy: 0.4632\n",
      "Epoch 7/20\n",
      "8419/8419 [==============================] - 30s 4ms/step - loss: 1.0760 - categorical_accuracy: 0.7260 - val_loss: 2.2969 - val_categorical_accuracy: 0.4413\n",
      "Epoch 8/20\n",
      "8419/8419 [==============================] - 30s 4ms/step - loss: 0.9776 - categorical_accuracy: 0.7548 - val_loss: 2.5604 - val_categorical_accuracy: 0.4090\n",
      "Epoch 9/20\n",
      "8419/8419 [==============================] - 30s 4ms/step - loss: 0.8824 - categorical_accuracy: 0.7862 - val_loss: 2.2821 - val_categorical_accuracy: 0.4732\n",
      "Epoch 10/20\n",
      "8419/8419 [==============================] - 30s 4ms/step - loss: 0.8089 - categorical_accuracy: 0.8012 - val_loss: 2.5783 - val_categorical_accuracy: 0.5116\n",
      "Epoch 11/20\n",
      "8419/8419 [==============================] - 30s 4ms/step - loss: 0.7549 - categorical_accuracy: 0.8177 - val_loss: 2.5299 - val_categorical_accuracy: 0.4580\n",
      "Epoch 12/20\n",
      "8419/8419 [==============================] - 30s 4ms/step - loss: 0.7081 - categorical_accuracy: 0.8300 - val_loss: 2.6018 - val_categorical_accuracy: 0.4290\n",
      "Epoch 13/20\n",
      "8419/8419 [==============================] - 30s 4ms/step - loss: 0.6557 - categorical_accuracy: 0.8434 - val_loss: 3.0044 - val_categorical_accuracy: 0.4271\n",
      "Epoch 14/20\n",
      "8419/8419 [==============================] - 30s 4ms/step - loss: 0.6243 - categorical_accuracy: 0.8538 - val_loss: 2.7379 - val_categorical_accuracy: 0.4447\n",
      "Epoch 15/20\n",
      "8419/8419 [==============================] - 30s 4ms/step - loss: 0.5932 - categorical_accuracy: 0.8639 - val_loss: 2.9291 - val_categorical_accuracy: 0.4390\n",
      "Epoch 16/20\n",
      "8419/8419 [==============================] - 30s 4ms/step - loss: 0.5714 - categorical_accuracy: 0.8691 - val_loss: 2.8326 - val_categorical_accuracy: 0.3549\n",
      "Epoch 17/20\n",
      "8419/8419 [==============================] - 30s 4ms/step - loss: 0.5483 - categorical_accuracy: 0.8802 - val_loss: 3.3080 - val_categorical_accuracy: 0.3753\n",
      "Epoch 18/20\n",
      "8419/8419 [==============================] - 30s 4ms/step - loss: 0.5396 - categorical_accuracy: 0.8741 - val_loss: 3.2282 - val_categorical_accuracy: 0.4010\n",
      "Epoch 19/20\n",
      "8419/8419 [==============================] - 30s 4ms/step - loss: 0.5009 - categorical_accuracy: 0.8867 - val_loss: 3.1028 - val_categorical_accuracy: 0.4698\n",
      "Epoch 20/20\n",
      "8419/8419 [==============================] - 30s 4ms/step - loss: 0.4845 - categorical_accuracy: 0.8932 - val_loss: 3.0623 - val_categorical_accuracy: 0.4404\n"
     ]
    }
   ],
   "source": [
    "from keras.models import Sequential\n",
    "from keras.layers import Flatten, Dense, Embedding\n",
    "from keras.layers.core import Dropout\n",
    "\n",
    "model = Sequential()\n",
    "model.add(Embedding(vocabulario, dim_vetor, weights=[embedding_matrix], input_length=limite_texto, trainable=False))\n",
    "model.add(Flatten())\n",
    "model.add(Dense(2048, activation='relu'))\n",
    "model.add(Dropout(0.4))\n",
    "model.add(Dense(512, activation='relu'))\n",
    "model.add(Dropout(0.4))\n",
    "model.add(Dense(256, activation='relu'))\n",
    "model.add(Dropout(0.4))\n",
    "model.add(Dense(y.shape[1], activation='softmax'))\n",
    "model.compile(loss='categorical_crossentropy', optimizer='adadelta',  metrics=[\"categorical_accuracy\"])\n",
    "model.summary()\n",
    "history = model.fit(x, y, epochs=20, batch_size=32, validation_split=0.2, verbose=1, shuffle=True)"
   ]
  },
  {
   "cell_type": "code",
   "execution_count": null,
   "metadata": {},
   "outputs": [],
   "source": []
  }
 ],
 "metadata": {
  "kernelspec": {
   "display_name": "Python 3",
   "language": "python",
   "name": "python3"
  },
  "language_info": {
   "codemirror_mode": {
    "name": "ipython",
    "version": 3
   },
   "file_extension": ".py",
   "mimetype": "text/x-python",
   "name": "python",
   "nbconvert_exporter": "python",
   "pygments_lexer": "ipython3",
   "version": "3.7.4"
  }
 },
 "nbformat": 4,
 "nbformat_minor": 2
}
