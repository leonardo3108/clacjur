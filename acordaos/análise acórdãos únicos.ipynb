{
 "cells": [
  {
   "cell_type": "code",
   "execution_count": 1,
   "metadata": {},
   "outputs": [
    {
     "data": {
      "text/html": [
       "<div>\n",
       "<style scoped>\n",
       "    .dataframe tbody tr th:only-of-type {\n",
       "        vertical-align: middle;\n",
       "    }\n",
       "\n",
       "    .dataframe tbody tr th {\n",
       "        vertical-align: top;\n",
       "    }\n",
       "\n",
       "    .dataframe thead th {\n",
       "        text-align: right;\n",
       "    }\n",
       "</style>\n",
       "<table border=\"1\" class=\"dataframe\">\n",
       "  <thead>\n",
       "    <tr style=\"text-align: right;\">\n",
       "      <th></th>\n",
       "      <th>acordao</th>\n",
       "      <th>arquivo</th>\n",
       "      <th>areas</th>\n",
       "      <th>texto</th>\n",
       "    </tr>\n",
       "  </thead>\n",
       "  <tbody>\n",
       "    <tr>\n",
       "      <th>0</th>\n",
       "      <td>297/2016-P</td>\n",
       "      <td>547240.txt</td>\n",
       "      <td>Responsabilidade</td>\n",
       "      <td>TRIBUNAL DE CONTAS DA UNIÃO\\tTC 010.084/2015-0...</td>\n",
       "    </tr>\n",
       "    <tr>\n",
       "      <th>1</th>\n",
       "      <td>366/2016-P</td>\n",
       "      <td>549518.txt</td>\n",
       "      <td>Finanças Públicas</td>\n",
       "      <td>TRIBUNAL DE CONTAS DA UNIÃO\\tTC 005.933/2014-5...</td>\n",
       "    </tr>\n",
       "    <tr>\n",
       "      <th>2</th>\n",
       "      <td>944/2016-P</td>\n",
       "      <td>554399.txt</td>\n",
       "      <td>Responsabilidade</td>\n",
       "      <td>TRIBUNAL DE CONTAS DA UNIÃO\\tTC 042.038/2012-0...</td>\n",
       "    </tr>\n",
       "    <tr>\n",
       "      <th>3</th>\n",
       "      <td>30/2016-P</td>\n",
       "      <td>545010.txt</td>\n",
       "      <td>Direito Processual</td>\n",
       "      <td>TRIBUNAL DE CONTAS DA UNIÃO\\tTC 000.742/2014-7...</td>\n",
       "    </tr>\n",
       "    <tr>\n",
       "      <th>4</th>\n",
       "      <td>55/2016-P</td>\n",
       "      <td>544046.txt</td>\n",
       "      <td>Pessoal</td>\n",
       "      <td>;-;;Wania Lucia Pasquarelli do NascimentoTCUWa...</td>\n",
       "    </tr>\n",
       "  </tbody>\n",
       "</table>\n",
       "</div>"
      ],
      "text/plain": [
       "      acordao     arquivo               areas  \\\n",
       "0  297/2016-P  547240.txt    Responsabilidade   \n",
       "1  366/2016-P  549518.txt   Finanças Públicas   \n",
       "2  944/2016-P  554399.txt    Responsabilidade   \n",
       "3   30/2016-P  545010.txt  Direito Processual   \n",
       "4   55/2016-P  544046.txt             Pessoal   \n",
       "\n",
       "                                               texto  \n",
       "0  TRIBUNAL DE CONTAS DA UNIÃO\\tTC 010.084/2015-0...  \n",
       "1  TRIBUNAL DE CONTAS DA UNIÃO\\tTC 005.933/2014-5...  \n",
       "2  TRIBUNAL DE CONTAS DA UNIÃO\\tTC 042.038/2012-0...  \n",
       "3  TRIBUNAL DE CONTAS DA UNIÃO\\tTC 000.742/2014-7...  \n",
       "4  ;-;;Wania Lucia Pasquarelli do NascimentoTCUWa...  "
      ]
     },
     "execution_count": 1,
     "metadata": {},
     "output_type": "execute_result"
    }
   ],
   "source": [
    "import pandas as pd\n",
    "\n",
    "df = pd.read_csv('../dados/acordaos-unicos.csv', sep = '|')\n",
    "df.head()"
   ]
  },
  {
   "cell_type": "code",
   "execution_count": 2,
   "metadata": {},
   "outputs": [
    {
     "data": {
      "text/plain": [
       "(9739, 4)"
      ]
     },
     "execution_count": 2,
     "metadata": {},
     "output_type": "execute_result"
    }
   ],
   "source": [
    "df.shape"
   ]
  },
  {
   "cell_type": "code",
   "execution_count": 3,
   "metadata": {},
   "outputs": [
    {
     "data": {
      "text/plain": [
       "areas\n",
       "Competência do TCU          405\n",
       "Contrato Administrativo     549\n",
       "Convênio                    477\n",
       "Desestatização               82\n",
       "Direito Processual         1446\n",
       "Finanças Públicas           199\n",
       "Gestão Administrativa       130\n",
       "Licitação                  1815\n",
       "Pessoal                    2802\n",
       "Responsabilidade           1834\n",
       "dtype: int64"
      ]
     },
     "execution_count": 3,
     "metadata": {},
     "output_type": "execute_result"
    }
   ],
   "source": [
    "df.groupby(['areas']).size()"
   ]
  },
  {
   "cell_type": "code",
   "execution_count": 17,
   "metadata": {},
   "outputs": [
    {
     "name": "stderr",
     "output_type": "stream",
     "text": [
      "Using TensorFlow backend.\n"
     ]
    },
    {
     "name": "stdout",
     "output_type": "stream",
     "text": [
      "Found 318318 unique tokens.\n"
     ]
    }
   ],
   "source": [
    "from keras.preprocessing.text import Tokenizer\n",
    "import numpy as np\n",
    "\n",
    "vocabulario = 320000\n",
    "limite_texto = 40000\n",
    "dim_vetor = 50\n",
    "\n",
    "tokenizer = Tokenizer(num_words=vocabulario)\n",
    "tokenizer.fit_on_texts(df['texto'])\n",
    "\n",
    "sequences = tokenizer.texts_to_sequences(df['texto'])\n",
    "\n",
    "word_index = tokenizer.word_index\n",
    "print('Found %s unique tokens.' % len(word_index))"
   ]
  },
  {
   "cell_type": "code",
   "execution_count": 18,
   "metadata": {},
   "outputs": [
    {
     "name": "stderr",
     "output_type": "stream",
     "text": [
      "/home/leonardo/anaconda3/envs/gpu/lib/python3.7/site-packages/smart_open/smart_open_lib.py:398: UserWarning: This function is deprecated, use smart_open.open instead. See the migration notes for details: https://github.com/RaRe-Technologies/smart_open/blob/master/README.rst#migrating-to-the-new-open-function\n",
      "  'See the migration notes for details: %s' % _MIGRATION_NOTES_URL\n"
     ]
    }
   ],
   "source": [
    "from gensim.models import KeyedVectors\n",
    "\n",
    "model = KeyedVectors.load_word2vec_format('../externos/model-50.txt')"
   ]
  },
  {
   "cell_type": "code",
   "execution_count": 21,
   "metadata": {},
   "outputs": [
    {
     "name": "stdout",
     "output_type": "stream",
     "text": [
      "Palavra 1 não encontrada no modelo.\n",
      "Palavra à não encontrada no modelo.\n",
      "Palavra 2 não encontrada no modelo.\n",
      "Palavra 3 não encontrada no modelo.\n",
      "Palavra – não encontrada no modelo.\n",
      "Palavra 8 não encontrada no modelo.\n",
      "Palavra 9 não encontrada no modelo.\n",
      "Palavra 4 não encontrada no modelo.\n",
      "Palavra 5 não encontrada no modelo.\n",
      "Palavra 6 não encontrada no modelo.\n",
      "Palavra 10 não encontrada no modelo.\n",
      "Palavra 12 não encontrada no modelo.\n",
      "Palavra 7 não encontrada no modelo.\n",
      "Palavra 11 não encontrada no modelo.\n",
      "Palavra 13 não encontrada no modelo.\n",
      "Palavra às não encontrada no modelo.\n",
      "Palavra 15 não encontrada no modelo.\n",
      "Palavra 2008 não encontrada no modelo.\n",
      "Palavra 2007 não encontrada no modelo.\n",
      "Palavra 20 não encontrada no modelo.\n",
      "Palavra 2009 não encontrada no modelo.\n",
      "Palavra 16 não encontrada no modelo.\n",
      "Palavra 2010 não encontrada no modelo.\n",
      "Palavra 2006 não encontrada no modelo.\n",
      "Palavra 443 não encontrada no modelo.\n",
      "Palavra 14 não encontrada no modelo.\n",
      "Palavra 2005 não encontrada no modelo.\n",
      "Palavra 25 não encontrada no modelo.\n",
      "Palavra 2011 não encontrada no modelo.\n",
      "Palavra 2004 não encontrada no modelo.\n",
      "Palavra 30 não encontrada no modelo.\n",
      "Palavra 666 não encontrada no modelo.\n",
      "Palavra 1º não encontrada no modelo.\n",
      "Palavra 23 não encontrada no modelo.\n",
      "Palavra 18 não encontrada no modelo.\n",
      "Palavra 19 não encontrada no modelo.\n",
      "Palavra 17 não encontrada no modelo.\n",
      "Palavra 26 não encontrada no modelo.\n",
      "Palavra 1992 não encontrada no modelo.\n",
      "Palavra 2003 não encontrada no modelo.\n",
      "Palavra 2012 não encontrada no modelo.\n",
      "Palavra 21 não encontrada no modelo.\n",
      "Palavra 24 não encontrada no modelo.\n",
      "Palavra 22 não encontrada no modelo.\n",
      "Palavra 01 não encontrada no modelo.\n",
      "Palavra 2002 não encontrada no modelo.\n",
      "Palavra 2013 não encontrada no modelo.\n",
      "Palavra 28 não encontrada no modelo.\n",
      "Palavra 31 não encontrada no modelo.\n",
      "Palavra 04 não encontrada no modelo.\n",
      "Palavra 2014 não encontrada no modelo.\n",
      "Palavra 27 não encontrada no modelo.\n",
      "Palavra 1993 não encontrada no modelo.\n",
      "Palavra 1ª não encontrada no modelo.\n",
      "Palavra 93 não encontrada no modelo.\n",
      "Palavra 2001 não encontrada no modelo.\n",
      "Palavra 2ª não encontrada no modelo.\n",
      "Palavra 2015 não encontrada no modelo.\n",
      "Palavra 2º não encontrada no modelo.\n",
      "Palavra 29 não encontrada no modelo.\n",
      "Palavra 40 não encontrada no modelo.\n",
      "Palavra 07 não encontrada no modelo.\n",
      "Palavra 09 não encontrada no modelo.\n",
      "Palavra 3º não encontrada no modelo.\n",
      "Palavra 02 não encontrada no modelo.\n",
      "Palavra 05 não encontrada no modelo.\n",
      "Palavra 06 não encontrada no modelo.\n",
      "Palavra 08 não encontrada no modelo.\n",
      "Palavra 37 não encontrada no modelo.\n",
      "Palavra 03 não encontrada no modelo.\n",
      "Palavra 2000 não encontrada no modelo.\n",
      "Palavra ’ não encontrada no modelo.\n",
      "Palavra 50 não encontrada no modelo.\n",
      "Palavra 34 não encontrada no modelo.\n",
      "Palavra 92 não encontrada no modelo.\n",
      "Palavra 32 não encontrada no modelo.\n",
      "Palavra 2016 não encontrada no modelo.\n",
      "Palavra 33 não encontrada no modelo.\n",
      "Palavra 1998 não encontrada no modelo.\n",
      "Palavra 35 não encontrada no modelo.\n",
      "Palavra 60 não encontrada no modelo.\n",
      "Palavra 58 não encontrada no modelo.\n",
      "Palavra 1999 não encontrada no modelo.\n",
      "Palavra 90 não encontrada no modelo.\n",
      "Palavra 57 não encontrada no modelo.\n",
      "Palavra 112 não encontrada no modelo.\n",
      "Palavra 45 não encontrada no modelo.\n",
      "Palavra 36 não encontrada no modelo.\n",
      "Palavra 43 não encontrada no modelo.\n",
      "Palavra 39 não encontrada no modelo.\n",
      "Palavra 41 não encontrada no modelo.\n",
      "Palavra 49 não encontrada no modelo.\n",
      "Palavra 0001 não encontrada no modelo.\n",
      "Palavra 53 não encontrada no modelo.\n",
      "Palavra 38 não encontrada no modelo.\n",
      "Palavra 97 não encontrada no modelo.\n",
      "Palavra 48 não encontrada no modelo.\n",
      "Palavra 91 não encontrada no modelo.\n",
      "Palavra 100 não encontrada no modelo.\n",
      "Palavra 71 não encontrada no modelo.\n",
      "Palavra 98 não encontrada no modelo.\n",
      "Vocabulario: 619\n",
      "Encontrados no modelo: 518\n",
      "Não encontrados no modelo: 101\n"
     ]
    }
   ],
   "source": [
    "ok = nok = 0\n",
    "for word, i in tokenizer.word_index.items():\n",
    "    if word in model:\n",
    "        ok += 1\n",
    "    else:\n",
    "        print('Palavra', word, 'não encontrada no modelo.')\n",
    "        nok += 1\n",
    "    if nok > 100:\n",
    "        break\n",
    "print('Vocabulario:', i)\n",
    "print('Encontrados no modelo:', ok)\n",
    "print('Não encontrados no modelo:', nok)"
   ]
  },
  {
   "cell_type": "code",
   "execution_count": null,
   "metadata": {},
   "outputs": [],
   "source": []
  },
  {
   "cell_type": "code",
   "execution_count": null,
   "metadata": {},
   "outputs": [],
   "source": []
  }
 ],
 "metadata": {
  "kernelspec": {
   "display_name": "Python 3",
   "language": "python",
   "name": "python3"
  },
  "language_info": {
   "codemirror_mode": {
    "name": "ipython",
    "version": 3
   },
   "file_extension": ".py",
   "mimetype": "text/x-python",
   "name": "python",
   "nbconvert_exporter": "python",
   "pygments_lexer": "ipython3",
   "version": "3.7.4"
  }
 },
 "nbformat": 4,
 "nbformat_minor": 2
}
