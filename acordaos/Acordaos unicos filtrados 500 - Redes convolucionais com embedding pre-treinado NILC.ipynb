{
 "cells": [
  {
   "cell_type": "markdown",
   "metadata": {},
   "source": [
    "# Importação e preparação dos dados"
   ]
  },
  {
   "cell_type": "code",
   "execution_count": 1,
   "metadata": {},
   "outputs": [
    {
     "data": {
      "text/html": [
       "<div>\n",
       "<style scoped>\n",
       "    .dataframe tbody tr th:only-of-type {\n",
       "        vertical-align: middle;\n",
       "    }\n",
       "\n",
       "    .dataframe tbody tr th {\n",
       "        vertical-align: top;\n",
       "    }\n",
       "\n",
       "    .dataframe thead th {\n",
       "        text-align: right;\n",
       "    }\n",
       "</style>\n",
       "<table border=\"1\" class=\"dataframe\">\n",
       "  <thead>\n",
       "    <tr style=\"text-align: right;\">\n",
       "      <th></th>\n",
       "      <th>acordao</th>\n",
       "      <th>areas</th>\n",
       "      <th>filtrado_500</th>\n",
       "    </tr>\n",
       "  </thead>\n",
       "  <tbody>\n",
       "    <tr>\n",
       "      <th>0</th>\n",
       "      <td>297/2016-P</td>\n",
       "      <td>Responsabilidade</td>\n",
       "      <td>conta conta gerência instituto nacional seguro...</td>\n",
       "    </tr>\n",
       "    <tr>\n",
       "      <th>1</th>\n",
       "      <td>366/2016-P</td>\n",
       "      <td>Finanças Públicas</td>\n",
       "      <td>senado petróleo petróleo regime aduaneiro expo...</td>\n",
       "    </tr>\n",
       "    <tr>\n",
       "      <th>2</th>\n",
       "      <td>944/2016-P</td>\n",
       "      <td>Responsabilidade</td>\n",
       "      <td>tribunal conta plenário embargo declaração aco...</td>\n",
       "    </tr>\n",
       "    <tr>\n",
       "      <th>3</th>\n",
       "      <td>30/2016-P</td>\n",
       "      <td>Direito Processual</td>\n",
       "      <td>embargo declaração inss recorrente marco antôn...</td>\n",
       "    </tr>\n",
       "    <tr>\n",
       "      <th>4</th>\n",
       "      <td>55/2016-P</td>\n",
       "      <td>Pessoal</td>\n",
       "      <td>senac senac senac empresa senac giselle araújo...</td>\n",
       "    </tr>\n",
       "  </tbody>\n",
       "</table>\n",
       "</div>"
      ],
      "text/plain": [
       "      acordao               areas  \\\n",
       "0  297/2016-P    Responsabilidade   \n",
       "1  366/2016-P   Finanças Públicas   \n",
       "2  944/2016-P    Responsabilidade   \n",
       "3   30/2016-P  Direito Processual   \n",
       "4   55/2016-P             Pessoal   \n",
       "\n",
       "                                        filtrado_500  \n",
       "0  conta conta gerência instituto nacional seguro...  \n",
       "1  senado petróleo petróleo regime aduaneiro expo...  \n",
       "2  tribunal conta plenário embargo declaração aco...  \n",
       "3  embargo declaração inss recorrente marco antôn...  \n",
       "4  senac senac senac empresa senac giselle araújo...  "
      ]
     },
     "execution_count": 1,
     "metadata": {},
     "output_type": "execute_result"
    }
   ],
   "source": [
    "import pandas as pd\n",
    "\n",
    "df = pd.read_csv('../dados/acordaos-unicos-filtrados-500.csv', sep = '|')\n",
    "df['filtrado_500']=df['filtrado_500'].astype(str)\n",
    "df.head()"
   ]
  },
  {
   "cell_type": "code",
   "execution_count": 2,
   "metadata": {},
   "outputs": [
    {
     "data": {
      "text/plain": [
       "(9739, 3)"
      ]
     },
     "execution_count": 2,
     "metadata": {},
     "output_type": "execute_result"
    }
   ],
   "source": [
    "df.shape"
   ]
  },
  {
   "cell_type": "code",
   "execution_count": 3,
   "metadata": {},
   "outputs": [
    {
     "data": {
      "text/plain": [
       "(9739, 10)"
      ]
     },
     "execution_count": 3,
     "metadata": {},
     "output_type": "execute_result"
    }
   ],
   "source": [
    "from sklearn.preprocessing import LabelBinarizer\n",
    "\n",
    "areas = df.groupby(['areas']).groups.keys()\n",
    "lbArea = LabelBinarizer()\n",
    "lbArea.fit([x for x in areas])\n",
    "y = lbArea.transform(df['areas'])\n",
    "y.shape"
   ]
  },
  {
   "cell_type": "code",
   "execution_count": 4,
   "metadata": {},
   "outputs": [
    {
     "name": "stderr",
     "output_type": "stream",
     "text": [
      "Using TensorFlow backend.\n"
     ]
    },
    {
     "name": "stdout",
     "output_type": "stream",
     "text": [
      "Found 32293 unique tokens.\n"
     ]
    }
   ],
   "source": [
    "from keras.preprocessing.text import Tokenizer\n",
    "import numpy as np\n",
    "\n",
    "vocabulario = 40000\n",
    "limite_texto = 500\n",
    "dim_vetor = 100\n",
    "\n",
    "tokenizer = Tokenizer(num_words=vocabulario)\n",
    "tokenizer.fit_on_texts(df['filtrado_500'])\n",
    "\n",
    "sequences = tokenizer.texts_to_sequences(df['filtrado_500'])\n",
    "\n",
    "word_index = tokenizer.word_index\n",
    "print('Found %s unique tokens.' % len(word_index))"
   ]
  },
  {
   "cell_type": "code",
   "execution_count": 5,
   "metadata": {},
   "outputs": [
    {
     "name": "stdout",
     "output_type": "stream",
     "text": [
      "Shape of data tensor: (9739, 500)\n"
     ]
    }
   ],
   "source": [
    "from keras.preprocessing.sequence import pad_sequences\n",
    "\n",
    "x = pad_sequences(sequences, maxlen=limite_texto)\n",
    "\n",
    "print('Shape of data tensor:', x.shape)"
   ]
  },
  {
   "cell_type": "code",
   "execution_count": 6,
   "metadata": {},
   "outputs": [
    {
     "data": {
      "text/plain": [
       "((9739, 500), (9739, 10))"
      ]
     },
     "execution_count": 6,
     "metadata": {},
     "output_type": "execute_result"
    }
   ],
   "source": [
    "x.shape, y.shape"
   ]
  },
  {
   "cell_type": "code",
   "execution_count": 7,
   "metadata": {},
   "outputs": [
    {
     "name": "stderr",
     "output_type": "stream",
     "text": [
      "/home/leonardo/anaconda3/envs/gpu/lib/python3.7/site-packages/smart_open/smart_open_lib.py:398: UserWarning: This function is deprecated, use smart_open.open instead. See the migration notes for details: https://github.com/RaRe-Technologies/smart_open/blob/master/README.rst#migrating-to-the-new-open-function\n",
      "  'See the migration notes for details: %s' % _MIGRATION_NOTES_URL\n"
     ]
    }
   ],
   "source": [
    "from gensim.models import KeyedVectors\n",
    "\n",
    "model = KeyedVectors.load_word2vec_format('../externos/model.txt')"
   ]
  },
  {
   "cell_type": "code",
   "execution_count": 8,
   "metadata": {},
   "outputs": [
    {
     "name": "stdout",
     "output_type": "stream",
     "text": [
      "Vocabulario: 32293\n",
      "Encontrados no modelo: 24014 = 74.3628650171864\n"
     ]
    }
   ],
   "source": [
    "# create a weight matrix for words in training docs\n",
    "\n",
    "embedding_matrix = np.zeros((vocabulario, dim_vetor))\n",
    "\n",
    "ok = 0\n",
    "for word, i in tokenizer.word_index.items():\n",
    "    if word in model:\n",
    "        embedding_matrix[i] = model[word]\n",
    "        ok += 1\n",
    "print('Vocabulario:', i)\n",
    "print('Encontrados no modelo:', ok, '=', ok * 100. / i)"
   ]
  },
  {
   "cell_type": "markdown",
   "metadata": {},
   "source": [
    "# Treinamento"
   ]
  },
  {
   "cell_type": "code",
   "execution_count": 9,
   "metadata": {
    "scrolled": false
   },
   "outputs": [
    {
     "name": "stderr",
     "output_type": "stream",
     "text": [
      "WARNING: Logging before flag parsing goes to stderr.\n",
      "W0317 10:36:07.576835 140099359364928 deprecation_wrapper.py:119] From /home/leonardo/anaconda3/envs/gpu/lib/python3.7/site-packages/keras/backend/tensorflow_backend.py:74: The name tf.get_default_graph is deprecated. Please use tf.compat.v1.get_default_graph instead.\n",
      "\n",
      "W0317 10:36:07.699296 140099359364928 deprecation_wrapper.py:119] From /home/leonardo/anaconda3/envs/gpu/lib/python3.7/site-packages/keras/backend/tensorflow_backend.py:517: The name tf.placeholder is deprecated. Please use tf.compat.v1.placeholder instead.\n",
      "\n",
      "W0317 10:36:07.702182 140099359364928 deprecation_wrapper.py:119] From /home/leonardo/anaconda3/envs/gpu/lib/python3.7/site-packages/keras/backend/tensorflow_backend.py:4138: The name tf.random_uniform is deprecated. Please use tf.random.uniform instead.\n",
      "\n",
      "W0317 10:36:07.710143 140099359364928 deprecation_wrapper.py:119] From /home/leonardo/anaconda3/envs/gpu/lib/python3.7/site-packages/keras/backend/tensorflow_backend.py:174: The name tf.get_default_session is deprecated. Please use tf.compat.v1.get_default_session instead.\n",
      "\n",
      "W0317 10:36:07.710782 140099359364928 deprecation_wrapper.py:119] From /home/leonardo/anaconda3/envs/gpu/lib/python3.7/site-packages/keras/backend/tensorflow_backend.py:181: The name tf.ConfigProto is deprecated. Please use tf.compat.v1.ConfigProto instead.\n",
      "\n",
      "W0317 10:36:08.470311 140099359364928 deprecation_wrapper.py:119] From /home/leonardo/anaconda3/envs/gpu/lib/python3.7/site-packages/keras/backend/tensorflow_backend.py:3976: The name tf.nn.max_pool is deprecated. Please use tf.nn.max_pool2d instead.\n",
      "\n",
      "W0317 10:36:08.511650 140099359364928 deprecation_wrapper.py:119] From /home/leonardo/anaconda3/envs/gpu/lib/python3.7/site-packages/keras/optimizers.py:790: The name tf.train.Optimizer is deprecated. Please use tf.compat.v1.train.Optimizer instead.\n",
      "\n",
      "W0317 10:36:08.608969 140099359364928 deprecation.py:323] From /home/leonardo/anaconda3/envs/gpu/lib/python3.7/site-packages/tensorflow/python/ops/math_grad.py:1250: add_dispatch_support.<locals>.wrapper (from tensorflow.python.ops.array_ops) is deprecated and will be removed in a future version.\n",
      "Instructions for updating:\n",
      "Use tf.where in 2.0, which has the same broadcast rule as np.where\n"
     ]
    },
    {
     "name": "stdout",
     "output_type": "stream",
     "text": [
      "_________________________________________________________________\n",
      "Layer (type)                 Output Shape              Param #   \n",
      "=================================================================\n",
      "embedding_1 (Embedding)      (None, 500, 100)          4000000   \n",
      "_________________________________________________________________\n",
      "conv1d_1 (Conv1D)            (None, 494, 32)           22432     \n",
      "_________________________________________________________________\n",
      "max_pooling1d_1 (MaxPooling1 (None, 98, 32)            0         \n",
      "_________________________________________________________________\n",
      "conv1d_2 (Conv1D)            (None, 92, 32)            7200      \n",
      "_________________________________________________________________\n",
      "global_max_pooling1d_1 (Glob (None, 32)                0         \n",
      "_________________________________________________________________\n",
      "dense_1 (Dense)              (None, 10)                330       \n",
      "=================================================================\n",
      "Total params: 4,029,962\n",
      "Trainable params: 29,962\n",
      "Non-trainable params: 4,000,000\n",
      "_________________________________________________________________\n",
      "Train on 7791 samples, validate on 1948 samples\n",
      "Epoch 1/20\n",
      "7791/7791 [==============================] - 2s 280us/step - loss: 1.3029 - categorical_accuracy: 0.5726 - val_loss: 1.4890 - val_categorical_accuracy: 0.4820\n",
      "Epoch 2/20\n",
      "7791/7791 [==============================] - 1s 89us/step - loss: 1.0467 - categorical_accuracy: 0.6506 - val_loss: 1.3038 - val_categorical_accuracy: 0.5452\n",
      "Epoch 3/20\n",
      "7791/7791 [==============================] - 1s 89us/step - loss: 0.9487 - categorical_accuracy: 0.6803 - val_loss: 1.2693 - val_categorical_accuracy: 0.5678\n",
      "Epoch 4/20\n",
      "7791/7791 [==============================] - 1s 90us/step - loss: 0.8758 - categorical_accuracy: 0.7050 - val_loss: 1.6322 - val_categorical_accuracy: 0.4666\n",
      "Epoch 5/20\n",
      "7791/7791 [==============================] - 1s 95us/step - loss: 0.8117 - categorical_accuracy: 0.7303 - val_loss: 1.4388 - val_categorical_accuracy: 0.4841\n",
      "Epoch 6/20\n",
      "7791/7791 [==============================] - 1s 98us/step - loss: 0.7518 - categorical_accuracy: 0.7469 - val_loss: 1.3256 - val_categorical_accuracy: 0.5585\n",
      "Epoch 7/20\n",
      "7791/7791 [==============================] - 1s 90us/step - loss: 0.6955 - categorical_accuracy: 0.7691 - val_loss: 1.3873 - val_categorical_accuracy: 0.5483\n",
      "Epoch 8/20\n",
      "7791/7791 [==============================] - 1s 92us/step - loss: 0.6376 - categorical_accuracy: 0.7937 - val_loss: 1.4747 - val_categorical_accuracy: 0.5056\n",
      "Epoch 9/20\n",
      "7791/7791 [==============================] - 1s 106us/step - loss: 0.5822 - categorical_accuracy: 0.8150 - val_loss: 1.7933 - val_categorical_accuracy: 0.4697\n",
      "Epoch 10/20\n",
      "7791/7791 [==============================] - 1s 100us/step - loss: 0.5335 - categorical_accuracy: 0.8310 - val_loss: 1.5343 - val_categorical_accuracy: 0.5334\n",
      "Epoch 11/20\n",
      "7791/7791 [==============================] - 1s 89us/step - loss: 0.4792 - categorical_accuracy: 0.8534 - val_loss: 1.6204 - val_categorical_accuracy: 0.4995\n",
      "Epoch 12/20\n",
      "7791/7791 [==============================] - 1s 91us/step - loss: 0.4324 - categorical_accuracy: 0.8693 - val_loss: 1.6137 - val_categorical_accuracy: 0.5195\n",
      "Epoch 13/20\n",
      "7791/7791 [==============================] - 1s 91us/step - loss: 0.3858 - categorical_accuracy: 0.8853 - val_loss: 1.5508 - val_categorical_accuracy: 0.5452\n",
      "Epoch 14/20\n",
      "7791/7791 [==============================] - 1s 90us/step - loss: 0.3462 - categorical_accuracy: 0.8960 - val_loss: 1.6410 - val_categorical_accuracy: 0.5287\n",
      "Epoch 15/20\n",
      "7791/7791 [==============================] - 1s 89us/step - loss: 0.3063 - categorical_accuracy: 0.9103 - val_loss: 1.7574 - val_categorical_accuracy: 0.5154\n",
      "Epoch 16/20\n",
      "7791/7791 [==============================] - 1s 88us/step - loss: 0.2725 - categorical_accuracy: 0.9208 - val_loss: 1.5989 - val_categorical_accuracy: 0.5616\n",
      "Epoch 17/20\n",
      "7791/7791 [==============================] - 1s 88us/step - loss: 0.2396 - categorical_accuracy: 0.9347 - val_loss: 1.9274 - val_categorical_accuracy: 0.5062\n",
      "Epoch 18/20\n",
      "7791/7791 [==============================] - 1s 88us/step - loss: 0.2091 - categorical_accuracy: 0.9431 - val_loss: 2.2244 - val_categorical_accuracy: 0.4918\n",
      "Epoch 19/20\n",
      "7791/7791 [==============================] - 1s 102us/step - loss: 0.1870 - categorical_accuracy: 0.9480 - val_loss: 2.0549 - val_categorical_accuracy: 0.5098\n",
      "Epoch 20/20\n",
      "7791/7791 [==============================] - 1s 100us/step - loss: 0.1631 - categorical_accuracy: 0.9566 - val_loss: 2.0326 - val_categorical_accuracy: 0.5364\n"
     ]
    }
   ],
   "source": [
    "from keras.models import Sequential\n",
    "from keras.layers import Embedding, Conv1D, MaxPooling1D, Dense, GlobalMaxPooling1D, Flatten\n",
    "from keras.optimizers import RMSprop\n",
    "from keras.layers.core import Dropout\n",
    "\n",
    "model = Sequential()\n",
    "model.add(Embedding(vocabulario, dim_vetor, weights=[embedding_matrix], input_length=limite_texto, trainable=False))\n",
    "model.add(Conv1D(32, 7, activation='relu'))\n",
    "model.add(MaxPooling1D(5))\n",
    "model.add(Conv1D(32, 7, activation='relu'))\n",
    "model.add(GlobalMaxPooling1D())\n",
    "model.add(Dense(y.shape[1], activation='softmax'))\n",
    "model.compile(loss='categorical_crossentropy', optimizer=RMSprop(),  metrics=[\"categorical_accuracy\"])\n",
    "model.summary()\n",
    "history = model.fit(x, y, epochs=20, batch_size=32, validation_split=0.2, verbose=1, shuffle=True)"
   ]
  },
  {
   "cell_type": "code",
   "execution_count": 10,
   "metadata": {},
   "outputs": [
    {
     "name": "stdout",
     "output_type": "stream",
     "text": [
      "_________________________________________________________________\n",
      "Layer (type)                 Output Shape              Param #   \n",
      "=================================================================\n",
      "embedding_2 (Embedding)      (None, 500, 100)          4000000   \n",
      "_________________________________________________________________\n",
      "conv1d_3 (Conv1D)            (None, 494, 64)           44864     \n",
      "_________________________________________________________________\n",
      "max_pooling1d_2 (MaxPooling1 (None, 98, 64)            0         \n",
      "_________________________________________________________________\n",
      "conv1d_4 (Conv1D)            (None, 92, 32)            14368     \n",
      "_________________________________________________________________\n",
      "global_max_pooling1d_2 (Glob (None, 32)                0         \n",
      "_________________________________________________________________\n",
      "dense_2 (Dense)              (None, 10)                330       \n",
      "=================================================================\n",
      "Total params: 4,059,562\n",
      "Trainable params: 4,059,562\n",
      "Non-trainable params: 0\n",
      "_________________________________________________________________\n",
      "Train on 7791 samples, validate on 1948 samples\n",
      "Epoch 1/20\n",
      "7791/7791 [==============================] - 2s 271us/step - loss: 1.2516 - categorical_accuracy: 0.5873 - val_loss: 1.3070 - val_categorical_accuracy: 0.5693\n",
      "Epoch 2/20\n",
      "7791/7791 [==============================] - 2s 223us/step - loss: 0.9595 - categorical_accuracy: 0.6759 - val_loss: 1.3396 - val_categorical_accuracy: 0.5637\n",
      "Epoch 3/20\n",
      "7791/7791 [==============================] - 2s 225us/step - loss: 0.8102 - categorical_accuracy: 0.7317 - val_loss: 1.2848 - val_categorical_accuracy: 0.5518\n",
      "Epoch 4/20\n",
      "7791/7791 [==============================] - 2s 231us/step - loss: 0.6835 - categorical_accuracy: 0.7733 - val_loss: 1.4781 - val_categorical_accuracy: 0.5390\n",
      "Epoch 5/20\n",
      "7791/7791 [==============================] - 2s 220us/step - loss: 0.5586 - categorical_accuracy: 0.8209 - val_loss: 1.2978 - val_categorical_accuracy: 0.6027\n",
      "Epoch 6/20\n",
      "7791/7791 [==============================] - 2s 216us/step - loss: 0.4448 - categorical_accuracy: 0.8600 - val_loss: 1.4007 - val_categorical_accuracy: 0.5837\n",
      "Epoch 7/20\n",
      "7791/7791 [==============================] - 2s 217us/step - loss: 0.3447 - categorical_accuracy: 0.8972 - val_loss: 1.9632 - val_categorical_accuracy: 0.4410\n",
      "Epoch 8/20\n",
      "7791/7791 [==============================] - 2s 234us/step - loss: 0.2543 - categorical_accuracy: 0.9297 - val_loss: 1.5497 - val_categorical_accuracy: 0.5734\n",
      "Epoch 9/20\n",
      "7791/7791 [==============================] - 2s 225us/step - loss: 0.1856 - categorical_accuracy: 0.9519 - val_loss: 1.7464 - val_categorical_accuracy: 0.5477\n",
      "Epoch 10/20\n",
      "7791/7791 [==============================] - 2s 228us/step - loss: 0.1320 - categorical_accuracy: 0.9620 - val_loss: 1.6735 - val_categorical_accuracy: 0.5868\n",
      "Epoch 11/20\n",
      "7791/7791 [==============================] - 2s 218us/step - loss: 0.0952 - categorical_accuracy: 0.9746 - val_loss: 1.7744 - val_categorical_accuracy: 0.5970\n",
      "Epoch 12/20\n",
      "7791/7791 [==============================] - 2s 239us/step - loss: 0.0658 - categorical_accuracy: 0.9832 - val_loss: 1.9093 - val_categorical_accuracy: 0.5657\n",
      "Epoch 13/20\n",
      "7791/7791 [==============================] - 2s 232us/step - loss: 0.0510 - categorical_accuracy: 0.9847 - val_loss: 2.3966 - val_categorical_accuracy: 0.5077\n",
      "Epoch 14/20\n",
      "7791/7791 [==============================] - 2s 222us/step - loss: 0.0405 - categorical_accuracy: 0.9891 - val_loss: 2.4237 - val_categorical_accuracy: 0.5329\n",
      "Epoch 15/20\n",
      "7791/7791 [==============================] - 2s 214us/step - loss: 0.0351 - categorical_accuracy: 0.9900 - val_loss: 2.3153 - val_categorical_accuracy: 0.5652\n",
      "Epoch 16/20\n",
      "7791/7791 [==============================] - 2s 217us/step - loss: 0.0312 - categorical_accuracy: 0.9906 - val_loss: 2.6294 - val_categorical_accuracy: 0.5169\n",
      "Epoch 17/20\n",
      "7791/7791 [==============================] - 2s 228us/step - loss: 0.0278 - categorical_accuracy: 0.9915 - val_loss: 2.5739 - val_categorical_accuracy: 0.5539\n",
      "Epoch 18/20\n",
      "7791/7791 [==============================] - 2s 221us/step - loss: 0.0247 - categorical_accuracy: 0.9918 - val_loss: 2.5396 - val_categorical_accuracy: 0.5760\n",
      "Epoch 19/20\n",
      "7791/7791 [==============================] - 2s 229us/step - loss: 0.0242 - categorical_accuracy: 0.9928 - val_loss: 2.7931 - val_categorical_accuracy: 0.5688\n",
      "Epoch 20/20\n",
      "7791/7791 [==============================] - 2s 220us/step - loss: 0.0226 - categorical_accuracy: 0.9922 - val_loss: 2.8184 - val_categorical_accuracy: 0.5667\n"
     ]
    }
   ],
   "source": [
    "model = Sequential()\n",
    "model.add(Embedding(vocabulario, dim_vetor, weights=[embedding_matrix], input_length=limite_texto, trainable=True))\n",
    "model.add(Conv1D(64, 7, activation='relu'))\n",
    "model.add(MaxPooling1D(5))\n",
    "model.add(Conv1D(32, 7, activation='relu'))\n",
    "model.add(GlobalMaxPooling1D())\n",
    "model.add(Dense(y.shape[1], activation='softmax'))\n",
    "model.compile(loss='categorical_crossentropy', optimizer=RMSprop(),  metrics=[\"categorical_accuracy\"])\n",
    "model.summary()\n",
    "history = model.fit(x, y, epochs=20, batch_size=32, validation_split=0.2, verbose=1, shuffle=True)"
   ]
  },
  {
   "cell_type": "code",
   "execution_count": 11,
   "metadata": {
    "scrolled": false
   },
   "outputs": [
    {
     "name": "stderr",
     "output_type": "stream",
     "text": [
      "W0317 10:37:00.734402 140099359364928 deprecation.py:506] From /home/leonardo/anaconda3/envs/gpu/lib/python3.7/site-packages/keras/backend/tensorflow_backend.py:3445: calling dropout (from tensorflow.python.ops.nn_ops) with keep_prob is deprecated and will be removed in a future version.\n",
      "Instructions for updating:\n",
      "Please use `rate` instead of `keep_prob`. Rate should be set to `rate = 1 - keep_prob`.\n"
     ]
    },
    {
     "name": "stdout",
     "output_type": "stream",
     "text": [
      "_________________________________________________________________\n",
      "Layer (type)                 Output Shape              Param #   \n",
      "=================================================================\n",
      "embedding_3 (Embedding)      (None, 500, 100)          4000000   \n",
      "_________________________________________________________________\n",
      "conv1d_5 (Conv1D)            (None, 494, 64)           44864     \n",
      "_________________________________________________________________\n",
      "max_pooling1d_3 (MaxPooling1 (None, 98, 64)            0         \n",
      "_________________________________________________________________\n",
      "conv1d_6 (Conv1D)            (None, 92, 32)            14368     \n",
      "_________________________________________________________________\n",
      "max_pooling1d_4 (MaxPooling1 (None, 18, 32)            0         \n",
      "_________________________________________________________________\n",
      "flatten_1 (Flatten)          (None, 576)               0         \n",
      "_________________________________________________________________\n",
      "dense_3 (Dense)              (None, 256)               147712    \n",
      "_________________________________________________________________\n",
      "dropout_1 (Dropout)          (None, 256)               0         \n",
      "_________________________________________________________________\n",
      "dense_4 (Dense)              (None, 10)                2570      \n",
      "=================================================================\n",
      "Total params: 4,209,514\n",
      "Trainable params: 4,209,514\n",
      "Non-trainable params: 0\n",
      "_________________________________________________________________\n",
      "Train on 7791 samples, validate on 1948 samples\n",
      "Epoch 1/20\n",
      "7791/7791 [==============================] - 2s 291us/step - loss: 1.2902 - categorical_accuracy: 0.5695 - val_loss: 1.2631 - val_categorical_accuracy: 0.5590\n",
      "Epoch 2/20\n",
      "7791/7791 [==============================] - 2s 255us/step - loss: 1.0108 - categorical_accuracy: 0.6533 - val_loss: 1.6391 - val_categorical_accuracy: 0.4466\n",
      "Epoch 3/20\n",
      "7791/7791 [==============================] - 2s 254us/step - loss: 0.8762 - categorical_accuracy: 0.7023 - val_loss: 1.3918 - val_categorical_accuracy: 0.5462\n",
      "Epoch 4/20\n",
      "7791/7791 [==============================] - 2s 257us/step - loss: 0.7402 - categorical_accuracy: 0.7442 - val_loss: 1.3933 - val_categorical_accuracy: 0.5909\n",
      "Epoch 5/20\n",
      "7791/7791 [==============================] - 2s 243us/step - loss: 0.5858 - categorical_accuracy: 0.8000 - val_loss: 1.5559 - val_categorical_accuracy: 0.5447\n",
      "Epoch 6/20\n",
      "7791/7791 [==============================] - 2s 256us/step - loss: 0.4318 - categorical_accuracy: 0.8539 - val_loss: 1.6152 - val_categorical_accuracy: 0.5621\n",
      "Epoch 7/20\n",
      "7791/7791 [==============================] - 2s 250us/step - loss: 0.3004 - categorical_accuracy: 0.9005 - val_loss: 1.8871 - val_categorical_accuracy: 0.5318\n",
      "Epoch 8/20\n",
      "7791/7791 [==============================] - 2s 246us/step - loss: 0.2193 - categorical_accuracy: 0.9276 - val_loss: 2.3746 - val_categorical_accuracy: 0.5000\n",
      "Epoch 9/20\n",
      "7791/7791 [==============================] - 2s 249us/step - loss: 0.1527 - categorical_accuracy: 0.9487 - val_loss: 2.5315 - val_categorical_accuracy: 0.5406\n",
      "Epoch 10/20\n",
      "7791/7791 [==============================] - 2s 257us/step - loss: 0.1222 - categorical_accuracy: 0.9606 - val_loss: 2.7123 - val_categorical_accuracy: 0.5318\n",
      "Epoch 11/20\n",
      "7791/7791 [==============================] - 2s 248us/step - loss: 0.0987 - categorical_accuracy: 0.9677 - val_loss: 3.6366 - val_categorical_accuracy: 0.5072\n",
      "Epoch 12/20\n",
      "7791/7791 [==============================] - 2s 251us/step - loss: 0.0952 - categorical_accuracy: 0.9696 - val_loss: 3.0997 - val_categorical_accuracy: 0.5472\n",
      "Epoch 13/20\n",
      "7791/7791 [==============================] - 2s 249us/step - loss: 0.0807 - categorical_accuracy: 0.9742 - val_loss: 3.2686 - val_categorical_accuracy: 0.5287\n",
      "Epoch 14/20\n",
      "7791/7791 [==============================] - 2s 256us/step - loss: 0.0790 - categorical_accuracy: 0.9757 - val_loss: 3.8185 - val_categorical_accuracy: 0.4805\n",
      "Epoch 15/20\n",
      "7791/7791 [==============================] - 2s 254us/step - loss: 0.0636 - categorical_accuracy: 0.9791 - val_loss: 3.8692 - val_categorical_accuracy: 0.5267\n",
      "Epoch 16/20\n",
      "7791/7791 [==============================] - 2s 244us/step - loss: 0.0675 - categorical_accuracy: 0.9786 - val_loss: 3.7650 - val_categorical_accuracy: 0.5118\n",
      "Epoch 17/20\n",
      "7791/7791 [==============================] - 2s 248us/step - loss: 0.0652 - categorical_accuracy: 0.9793 - val_loss: 4.3409 - val_categorical_accuracy: 0.4964\n",
      "Epoch 18/20\n",
      "7791/7791 [==============================] - 2s 252us/step - loss: 0.0590 - categorical_accuracy: 0.9805 - val_loss: 4.4345 - val_categorical_accuracy: 0.4851\n",
      "Epoch 19/20\n",
      "7791/7791 [==============================] - 2s 244us/step - loss: 0.0661 - categorical_accuracy: 0.9807 - val_loss: 4.2985 - val_categorical_accuracy: 0.4892\n",
      "Epoch 20/20\n",
      "7791/7791 [==============================] - 2s 239us/step - loss: 0.0586 - categorical_accuracy: 0.9829 - val_loss: 4.2817 - val_categorical_accuracy: 0.5226\n"
     ]
    }
   ],
   "source": [
    "model = Sequential()\n",
    "model.add(Embedding(vocabulario, dim_vetor, weights=[embedding_matrix], input_length=limite_texto, trainable=True))\n",
    "model.add(Conv1D(64, 7, activation='relu'))\n",
    "model.add(MaxPooling1D(5))\n",
    "model.add(Conv1D(32, 7, activation='relu'))\n",
    "model.add(MaxPooling1D(5))\n",
    "model.add(Flatten())\n",
    "model.add(Dense(256, activation='relu'))\n",
    "model.add(Dropout(0.2))\n",
    "model.add(Dense(y.shape[1], activation='softmax'))\n",
    "model.compile(loss='categorical_crossentropy', optimizer=RMSprop(),  metrics=[\"categorical_accuracy\"])\n",
    "model.summary()\n",
    "history = model.fit(x, y, epochs=20, batch_size=32, validation_split=0.2, verbose=1, shuffle=True)"
   ]
  },
  {
   "cell_type": "code",
   "execution_count": 12,
   "metadata": {},
   "outputs": [
    {
     "name": "stdout",
     "output_type": "stream",
     "text": [
      "_________________________________________________________________\n",
      "Layer (type)                 Output Shape              Param #   \n",
      "=================================================================\n",
      "embedding_4 (Embedding)      (None, 500, 100)          4000000   \n",
      "_________________________________________________________________\n",
      "conv1d_7 (Conv1D)            (None, 494, 64)           44864     \n",
      "_________________________________________________________________\n",
      "max_pooling1d_5 (MaxPooling1 (None, 98, 64)            0         \n",
      "_________________________________________________________________\n",
      "conv1d_8 (Conv1D)            (None, 92, 32)            14368     \n",
      "_________________________________________________________________\n",
      "max_pooling1d_6 (MaxPooling1 (None, 18, 32)            0         \n",
      "_________________________________________________________________\n",
      "flatten_2 (Flatten)          (None, 576)               0         \n",
      "_________________________________________________________________\n",
      "dense_5 (Dense)              (None, 1024)              590848    \n",
      "_________________________________________________________________\n",
      "dropout_2 (Dropout)          (None, 1024)              0         \n",
      "_________________________________________________________________\n",
      "dense_6 (Dense)              (None, 128)               131200    \n",
      "_________________________________________________________________\n",
      "dropout_3 (Dropout)          (None, 128)               0         \n",
      "_________________________________________________________________\n",
      "dense_7 (Dense)              (None, 10)                1290      \n",
      "=================================================================\n",
      "Total params: 4,782,570\n",
      "Trainable params: 4,782,570\n",
      "Non-trainable params: 0\n",
      "_________________________________________________________________\n",
      "Train on 7791 samples, validate on 1948 samples\n",
      "Epoch 1/20\n",
      "7791/7791 [==============================] - 3s 331us/step - loss: 1.3308 - categorical_accuracy: 0.5582 - val_loss: 1.2917 - val_categorical_accuracy: 0.5724\n",
      "Epoch 2/20\n",
      "7791/7791 [==============================] - 2s 263us/step - loss: 1.0609 - categorical_accuracy: 0.6447 - val_loss: 1.4293 - val_categorical_accuracy: 0.5164\n",
      "Epoch 3/20\n",
      "7791/7791 [==============================] - 2s 271us/step - loss: 0.9457 - categorical_accuracy: 0.6773 - val_loss: 1.2772 - val_categorical_accuracy: 0.5945\n",
      "Epoch 4/20\n",
      "7791/7791 [==============================] - 2s 281us/step - loss: 0.8329 - categorical_accuracy: 0.7166 - val_loss: 1.3337 - val_categorical_accuracy: 0.5837\n",
      "Epoch 5/20\n",
      "7791/7791 [==============================] - 2s 272us/step - loss: 0.7060 - categorical_accuracy: 0.7590 - val_loss: 1.8143 - val_categorical_accuracy: 0.4651\n",
      "Epoch 6/20\n",
      "7791/7791 [==============================] - 2s 262us/step - loss: 0.5646 - categorical_accuracy: 0.8106 - val_loss: 1.7104 - val_categorical_accuracy: 0.5621\n",
      "Epoch 7/20\n",
      "7791/7791 [==============================] - 2s 257us/step - loss: 0.4497 - categorical_accuracy: 0.8489 - val_loss: 1.9181 - val_categorical_accuracy: 0.5139\n",
      "Epoch 8/20\n",
      "7791/7791 [==============================] - 2s 266us/step - loss: 0.3647 - categorical_accuracy: 0.8824 - val_loss: 2.2342 - val_categorical_accuracy: 0.5252\n",
      "Epoch 9/20\n",
      "7791/7791 [==============================] - 2s 269us/step - loss: 0.2804 - categorical_accuracy: 0.9084 - val_loss: 2.5088 - val_categorical_accuracy: 0.5113\n",
      "Epoch 10/20\n",
      "7791/7791 [==============================] - 2s 282us/step - loss: 0.2483 - categorical_accuracy: 0.9227 - val_loss: 3.0063 - val_categorical_accuracy: 0.5164\n",
      "Epoch 11/20\n",
      "7791/7791 [==============================] - 2s 278us/step - loss: 0.2174 - categorical_accuracy: 0.9344 - val_loss: 3.2389 - val_categorical_accuracy: 0.5308\n",
      "Epoch 12/20\n",
      "7791/7791 [==============================] - 2s 266us/step - loss: 0.2302 - categorical_accuracy: 0.9397 - val_loss: 3.6313 - val_categorical_accuracy: 0.5087\n",
      "Epoch 13/20\n",
      "7791/7791 [==============================] - 2s 261us/step - loss: 0.1733 - categorical_accuracy: 0.9469 - val_loss: 3.5728 - val_categorical_accuracy: 0.5200\n",
      "Epoch 14/20\n",
      "7791/7791 [==============================] - 2s 269us/step - loss: 0.1616 - categorical_accuracy: 0.9528 - val_loss: 3.5170 - val_categorical_accuracy: 0.5293\n",
      "Epoch 15/20\n",
      "7791/7791 [==============================] - 2s 272us/step - loss: 0.1589 - categorical_accuracy: 0.9560 - val_loss: 3.7007 - val_categorical_accuracy: 0.5062\n",
      "Epoch 16/20\n",
      "7791/7791 [==============================] - 2s 272us/step - loss: 0.1493 - categorical_accuracy: 0.9596 - val_loss: 3.7738 - val_categorical_accuracy: 0.5062\n",
      "Epoch 17/20\n",
      "7791/7791 [==============================] - 2s 271us/step - loss: 0.1419 - categorical_accuracy: 0.9632 - val_loss: 3.6029 - val_categorical_accuracy: 0.4790\n",
      "Epoch 18/20\n",
      "7791/7791 [==============================] - 2s 260us/step - loss: 0.1147 - categorical_accuracy: 0.9689 - val_loss: 4.5851 - val_categorical_accuracy: 0.5375\n",
      "Epoch 19/20\n",
      "7791/7791 [==============================] - 2s 257us/step - loss: 0.1150 - categorical_accuracy: 0.9686 - val_loss: 4.2947 - val_categorical_accuracy: 0.4908\n",
      "Epoch 20/20\n",
      "7791/7791 [==============================] - 2s 266us/step - loss: 0.1214 - categorical_accuracy: 0.9678 - val_loss: 3.7549 - val_categorical_accuracy: 0.5092\n"
     ]
    }
   ],
   "source": [
    "model = Sequential()\n",
    "model.add(Embedding(vocabulario, dim_vetor, weights=[embedding_matrix], input_length=limite_texto, trainable=True))\n",
    "model.add(Conv1D(64, 7, activation='relu'))\n",
    "model.add(MaxPooling1D(5))\n",
    "model.add(Conv1D(32, 7, activation='relu'))\n",
    "model.add(MaxPooling1D(5))\n",
    "model.add(Flatten())\n",
    "model.add(Dense(1024, activation='relu'))\n",
    "model.add(Dropout(0.2))\n",
    "model.add(Dense(128, activation='relu'))\n",
    "model.add(Dropout(0.2))\n",
    "model.add(Dense(y.shape[1], activation='softmax'))\n",
    "model.compile(loss='categorical_crossentropy', optimizer=RMSprop(),  metrics=[\"categorical_accuracy\"])\n",
    "model.summary()\n",
    "history = model.fit(x, y, epochs=20, batch_size=32, validation_split=0.2, verbose=1, shuffle=True)"
   ]
  },
  {
   "cell_type": "code",
   "execution_count": null,
   "metadata": {},
   "outputs": [],
   "source": []
  }
 ],
 "metadata": {
  "kernelspec": {
   "display_name": "Python 3",
   "language": "python",
   "name": "python3"
  },
  "language_info": {
   "codemirror_mode": {
    "name": "ipython",
    "version": 3
   },
   "file_extension": ".py",
   "mimetype": "text/x-python",
   "name": "python",
   "nbconvert_exporter": "python",
   "pygments_lexer": "ipython3",
   "version": "3.7.4"
  }
 },
 "nbformat": 4,
 "nbformat_minor": 2
}
