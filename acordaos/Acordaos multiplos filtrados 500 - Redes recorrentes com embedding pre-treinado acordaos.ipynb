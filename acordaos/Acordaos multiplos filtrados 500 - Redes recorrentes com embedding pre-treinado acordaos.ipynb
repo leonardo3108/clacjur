{
 "cells": [
  {
   "cell_type": "markdown",
   "metadata": {},
   "source": [
    "# Importação e preparação dos dados"
   ]
  },
  {
   "cell_type": "code",
   "execution_count": 1,
   "metadata": {},
   "outputs": [
    {
     "data": {
      "text/html": [
       "<div>\n",
       "<style scoped>\n",
       "    .dataframe tbody tr th:only-of-type {\n",
       "        vertical-align: middle;\n",
       "    }\n",
       "\n",
       "    .dataframe tbody tr th {\n",
       "        vertical-align: top;\n",
       "    }\n",
       "\n",
       "    .dataframe thead th {\n",
       "        text-align: right;\n",
       "    }\n",
       "</style>\n",
       "<table border=\"1\" class=\"dataframe\">\n",
       "  <thead>\n",
       "    <tr style=\"text-align: right;\">\n",
       "      <th></th>\n",
       "      <th>acordao</th>\n",
       "      <th>areas</th>\n",
       "      <th>filtrado_500</th>\n",
       "    </tr>\n",
       "  </thead>\n",
       "  <tbody>\n",
       "    <tr>\n",
       "      <th>0</th>\n",
       "      <td>297/2016-P</td>\n",
       "      <td>Responsabilidade</td>\n",
       "      <td>conta conta gerência instituto nacional seguro...</td>\n",
       "    </tr>\n",
       "    <tr>\n",
       "      <th>1</th>\n",
       "      <td>366/2016-P</td>\n",
       "      <td>Finanças Públicas</td>\n",
       "      <td>senado petróleo petróleo regime aduaneiro expo...</td>\n",
       "    </tr>\n",
       "    <tr>\n",
       "      <th>2</th>\n",
       "      <td>944/2016-P</td>\n",
       "      <td>Responsabilidade</td>\n",
       "      <td>tribunal conta plenário embargo declaração aco...</td>\n",
       "    </tr>\n",
       "    <tr>\n",
       "      <th>3</th>\n",
       "      <td>30/2016-P</td>\n",
       "      <td>Direito Processual</td>\n",
       "      <td>embargo declaração inss recorrente marco antôn...</td>\n",
       "    </tr>\n",
       "    <tr>\n",
       "      <th>4</th>\n",
       "      <td>55/2016-P</td>\n",
       "      <td>Pessoal</td>\n",
       "      <td>senac senac senac empresa senac giselle araújo...</td>\n",
       "    </tr>\n",
       "  </tbody>\n",
       "</table>\n",
       "</div>"
      ],
      "text/plain": [
       "      acordao               areas  \\\n",
       "0  297/2016-P    Responsabilidade   \n",
       "1  366/2016-P   Finanças Públicas   \n",
       "2  944/2016-P    Responsabilidade   \n",
       "3   30/2016-P  Direito Processual   \n",
       "4   55/2016-P             Pessoal   \n",
       "\n",
       "                                        filtrado_500  \n",
       "0  conta conta gerência instituto nacional seguro...  \n",
       "1  senado petróleo petróleo regime aduaneiro expo...  \n",
       "2  tribunal conta plenário embargo declaração aco...  \n",
       "3  embargo declaração inss recorrente marco antôn...  \n",
       "4  senac senac senac empresa senac giselle araújo...  "
      ]
     },
     "execution_count": 1,
     "metadata": {},
     "output_type": "execute_result"
    }
   ],
   "source": [
    "import pandas as pd\n",
    "\n",
    "df = pd.read_csv('../dados/acordaos-selecionada-filtrados-500.csv', sep = '|')\n",
    "df['filtrado_500']=df['filtrado_500'].astype(str)\n",
    "df.head()"
   ]
  },
  {
   "cell_type": "code",
   "execution_count": 2,
   "metadata": {},
   "outputs": [
    {
     "data": {
      "text/plain": [
       "(10524, 3)"
      ]
     },
     "execution_count": 2,
     "metadata": {},
     "output_type": "execute_result"
    }
   ],
   "source": [
    "df.shape"
   ]
  },
  {
   "cell_type": "code",
   "execution_count": 3,
   "metadata": {
    "scrolled": false
   },
   "outputs": [
    {
     "data": {
      "text/plain": [
       "array(['Competência do TCU', 'Competência do TCU,Contrato Administrativo',\n",
       "       'Competência do TCU,Contrato Administrativo,Responsabilidade',\n",
       "       'Competência do TCU,Convênio',\n",
       "       'Competência do TCU,Convênio,Direito Processual,Licitação',\n",
       "       'Competência do TCU,Convênio,Gestão Administrativa',\n",
       "       'Competência do TCU,Convênio,Responsabilidade',\n",
       "       'Competência do TCU,Desestatização',\n",
       "       'Competência do TCU,Direito Processual',\n",
       "       'Competência do TCU,Direito Processual,Licitação',\n",
       "       'Competência do TCU,Direito Processual,Pessoal',\n",
       "       'Competência do TCU,Direito Processual,Responsabilidade',\n",
       "       'Competência do TCU,Finanças Públicas',\n",
       "       'Competência do TCU,Finanças Públicas,Licitação',\n",
       "       'Competência do TCU,Finanças Públicas,Responsabilidade',\n",
       "       'Competência do TCU,Gestão Administrativa',\n",
       "       'Competência do TCU,Licitação',\n",
       "       'Competência do TCU,Licitação,Pessoal',\n",
       "       'Competência do TCU,Licitação,Responsabilidade',\n",
       "       'Competência do TCU,Pessoal',\n",
       "       'Competência do TCU,Pessoal,Responsabilidade',\n",
       "       'Competência do TCU,Responsabilidade', 'Contrato Administrativo',\n",
       "       'Contrato Administrativo,Convênio',\n",
       "       'Contrato Administrativo,Convênio,Finanças Públicas',\n",
       "       'Contrato Administrativo,Convênio,Gestão Administrativa',\n",
       "       'Contrato Administrativo,Convênio,Licitação',\n",
       "       'Contrato Administrativo,Desestatização',\n",
       "       'Contrato Administrativo,Desestatização,Licitação',\n",
       "       'Contrato Administrativo,Direito Processual',\n",
       "       'Contrato Administrativo,Direito Processual,Gestão Administrativa',\n",
       "       'Contrato Administrativo,Direito Processual,Licitação',\n",
       "       'Contrato Administrativo,Direito Processual,Licitação,Responsabilidade',\n",
       "       'Contrato Administrativo,Direito Processual,Responsabilidade',\n",
       "       'Contrato Administrativo,Finanças Públicas',\n",
       "       'Contrato Administrativo,Finanças Públicas,Gestão Administrativa,Licitação',\n",
       "       'Contrato Administrativo,Finanças Públicas,Licitação',\n",
       "       'Contrato Administrativo,Finanças Públicas,Responsabilidade',\n",
       "       'Contrato Administrativo,Gestão Administrativa',\n",
       "       'Contrato Administrativo,Gestão Administrativa,Licitação',\n",
       "       'Contrato Administrativo,Licitação',\n",
       "       'Contrato Administrativo,Licitação,Pessoal',\n",
       "       'Contrato Administrativo,Licitação,Responsabilidade',\n",
       "       'Contrato Administrativo,Pessoal',\n",
       "       'Contrato Administrativo,Responsabilidade', 'Convênio',\n",
       "       'Convênio,Desestatização,Finanças Públicas,Licitação',\n",
       "       'Convênio,Direito Processual', 'Convênio,Finanças Públicas',\n",
       "       'Convênio,Finanças Públicas,Licitação,Pessoal',\n",
       "       'Convênio,Gestão Administrativa',\n",
       "       'Convênio,Gestão Administrativa,Licitação',\n",
       "       'Convênio,Gestão Administrativa,Pessoal',\n",
       "       'Convênio,Gestão Administrativa,Responsabilidade',\n",
       "       'Convênio,Licitação', 'Convênio,Pessoal',\n",
       "       'Convênio,Responsabilidade', 'Desestatização',\n",
       "       'Desestatização,Direito Processual',\n",
       "       'Desestatização,Finanças Públicas',\n",
       "       'Desestatização,Gestão Administrativa',\n",
       "       'Desestatização,Gestão Administrativa,Pessoal',\n",
       "       'Desestatização,Licitação',\n",
       "       'Desestatização,Licitação,Responsabilidade', 'Direito Processual',\n",
       "       'Direito Processual,Finanças Públicas',\n",
       "       'Direito Processual,Gestão Administrativa,Responsabilidade',\n",
       "       'Direito Processual,Licitação',\n",
       "       'Direito Processual,Licitação,Responsabilidade',\n",
       "       'Direito Processual,Pessoal',\n",
       "       'Direito Processual,Responsabilidade', 'Finanças Públicas',\n",
       "       'Finanças Públicas,Gestão Administrativa',\n",
       "       'Finanças Públicas,Gestão Administrativa,Licitação',\n",
       "       'Finanças Públicas,Gestão Administrativa,Pessoal',\n",
       "       'Finanças Públicas,Licitação',\n",
       "       'Finanças Públicas,Licitação,Pessoal', 'Finanças Públicas,Pessoal',\n",
       "       'Finanças Públicas,Responsabilidade', 'Gestão Administrativa',\n",
       "       'Gestão Administrativa,Licitação',\n",
       "       'Gestão Administrativa,Licitação,Pessoal,Responsabilidade',\n",
       "       'Gestão Administrativa,Pessoal',\n",
       "       'Gestão Administrativa,Responsabilidade', 'Licitação',\n",
       "       'Licitação,Pessoal', 'Licitação,Pessoal,Responsabilidade',\n",
       "       'Licitação,Responsabilidade', 'Pessoal',\n",
       "       'Pessoal,Responsabilidade', 'Responsabilidade'], dtype='<U73')"
      ]
     },
     "execution_count": 3,
     "metadata": {},
     "output_type": "execute_result"
    }
   ],
   "source": [
    "from sklearn.preprocessing import LabelBinarizer\n",
    "\n",
    "areas = df.groupby(['areas']).groups.keys()\n",
    "lbArea = LabelBinarizer()\n",
    "lbArea.fit([x for x in areas])\n",
    "lbArea.classes_"
   ]
  },
  {
   "cell_type": "code",
   "execution_count": 4,
   "metadata": {},
   "outputs": [
    {
     "data": {
      "text/plain": [
       "(10524, 91)"
      ]
     },
     "execution_count": 4,
     "metadata": {},
     "output_type": "execute_result"
    }
   ],
   "source": [
    "y = lbArea.transform(df['areas'])\n",
    "y.shape"
   ]
  },
  {
   "cell_type": "code",
   "execution_count": 5,
   "metadata": {},
   "outputs": [
    {
     "name": "stderr",
     "output_type": "stream",
     "text": [
      "Using TensorFlow backend.\n"
     ]
    },
    {
     "name": "stdout",
     "output_type": "stream",
     "text": [
      "Found 33339 unique tokens.\n"
     ]
    }
   ],
   "source": [
    "from keras.preprocessing.text import Tokenizer\n",
    "import numpy as np\n",
    "\n",
    "vocabulario = 35000\n",
    "limite_texto = 500\n",
    "dim_vetor = 100\n",
    "\n",
    "tokenizer = Tokenizer(num_words=vocabulario)\n",
    "tokenizer.fit_on_texts(df['filtrado_500'])\n",
    "\n",
    "sequences = tokenizer.texts_to_sequences(df['filtrado_500'])\n",
    "\n",
    "word_index = tokenizer.word_index\n",
    "print('Found %s unique tokens.' % len(word_index))"
   ]
  },
  {
   "cell_type": "code",
   "execution_count": 6,
   "metadata": {},
   "outputs": [
    {
     "name": "stdout",
     "output_type": "stream",
     "text": [
      "Shape of data tensor: (10524, 500)\n"
     ]
    }
   ],
   "source": [
    "from keras.preprocessing.sequence import pad_sequences\n",
    "\n",
    "x = pad_sequences(sequences, maxlen=limite_texto)\n",
    "\n",
    "print('Shape of data tensor:', x.shape)"
   ]
  },
  {
   "cell_type": "code",
   "execution_count": 7,
   "metadata": {},
   "outputs": [
    {
     "data": {
      "text/plain": [
       "((10524, 500), (10524, 91))"
      ]
     },
     "execution_count": 7,
     "metadata": {},
     "output_type": "execute_result"
    }
   ],
   "source": [
    "x.shape, y.shape"
   ]
  },
  {
   "cell_type": "code",
   "execution_count": 8,
   "metadata": {},
   "outputs": [
    {
     "name": "stderr",
     "output_type": "stream",
     "text": [
      "/home/leonardo/anaconda3/envs/gpu/lib/python3.7/site-packages/smart_open/smart_open_lib.py:398: UserWarning: This function is deprecated, use smart_open.open instead. See the migration notes for details: https://github.com/RaRe-Technologies/smart_open/blob/master/README.rst#migrating-to-the-new-open-function\n",
      "  'See the migration notes for details: %s' % _MIGRATION_NOTES_URL\n"
     ]
    }
   ],
   "source": [
    "from gensim.models import Word2Vec\n",
    "\n",
    "model = Word2Vec.load('../vocabularios/modelo-acordaos.w2v')"
   ]
  },
  {
   "cell_type": "code",
   "execution_count": 9,
   "metadata": {},
   "outputs": [
    {
     "name": "stderr",
     "output_type": "stream",
     "text": [
      "/home/leonardo/anaconda3/envs/gpu/lib/python3.7/site-packages/ipykernel_launcher.py:7: DeprecationWarning: Call to deprecated `__contains__` (Method will be removed in 4.0.0, use self.wv.__contains__() instead).\n",
      "  import sys\n",
      "/home/leonardo/anaconda3/envs/gpu/lib/python3.7/site-packages/ipykernel_launcher.py:8: DeprecationWarning: Call to deprecated `__getitem__` (Method will be removed in 4.0.0, use self.wv.__getitem__() instead).\n",
      "  \n"
     ]
    },
    {
     "name": "stdout",
     "output_type": "stream",
     "text": [
      "Vocabulario: 33339\n",
      "Encontrados no modelo: 25799 = 77.38384474639311\n"
     ]
    }
   ],
   "source": [
    "# create a weight matrix for words in training docs\n",
    "\n",
    "embedding_matrix = np.zeros((vocabulario, dim_vetor))\n",
    "\n",
    "ok = 0\n",
    "for word, i in tokenizer.word_index.items():\n",
    "    if word in model:\n",
    "        embedding_matrix[i] = model[word]\n",
    "        ok += 1\n",
    "print('Vocabulario:', i)\n",
    "print('Encontrados no modelo:', ok, '=', ok * 100. / i)"
   ]
  },
  {
   "cell_type": "markdown",
   "metadata": {},
   "source": [
    "# Treinamento"
   ]
  },
  {
   "cell_type": "code",
   "execution_count": 10,
   "metadata": {
    "scrolled": false
   },
   "outputs": [
    {
     "name": "stderr",
     "output_type": "stream",
     "text": [
      "WARNING: Logging before flag parsing goes to stderr.\n",
      "W0318 12:25:38.104684 140307536987968 deprecation_wrapper.py:119] From /home/leonardo/anaconda3/envs/gpu/lib/python3.7/site-packages/keras/backend/tensorflow_backend.py:74: The name tf.get_default_graph is deprecated. Please use tf.compat.v1.get_default_graph instead.\n",
      "\n",
      "W0318 12:25:38.174494 140307536987968 deprecation_wrapper.py:119] From /home/leonardo/anaconda3/envs/gpu/lib/python3.7/site-packages/keras/backend/tensorflow_backend.py:517: The name tf.placeholder is deprecated. Please use tf.compat.v1.placeholder instead.\n",
      "\n",
      "W0318 12:25:38.176267 140307536987968 deprecation_wrapper.py:119] From /home/leonardo/anaconda3/envs/gpu/lib/python3.7/site-packages/keras/backend/tensorflow_backend.py:4138: The name tf.random_uniform is deprecated. Please use tf.random.uniform instead.\n",
      "\n",
      "W0318 12:25:38.183683 140307536987968 deprecation_wrapper.py:119] From /home/leonardo/anaconda3/envs/gpu/lib/python3.7/site-packages/keras/backend/tensorflow_backend.py:174: The name tf.get_default_session is deprecated. Please use tf.compat.v1.get_default_session instead.\n",
      "\n",
      "W0318 12:25:38.184628 140307536987968 deprecation_wrapper.py:119] From /home/leonardo/anaconda3/envs/gpu/lib/python3.7/site-packages/keras/backend/tensorflow_backend.py:181: The name tf.ConfigProto is deprecated. Please use tf.compat.v1.ConfigProto instead.\n",
      "\n",
      "W0318 12:25:39.001379 140307536987968 deprecation.py:506] From /home/leonardo/anaconda3/envs/gpu/lib/python3.7/site-packages/keras/backend/tensorflow_backend.py:3445: calling dropout (from tensorflow.python.ops.nn_ops) with keep_prob is deprecated and will be removed in a future version.\n",
      "Instructions for updating:\n",
      "Please use `rate` instead of `keep_prob`. Rate should be set to `rate = 1 - keep_prob`.\n",
      "W0318 12:25:39.104813 140307536987968 deprecation_wrapper.py:119] From /home/leonardo/anaconda3/envs/gpu/lib/python3.7/site-packages/keras/optimizers.py:790: The name tf.train.Optimizer is deprecated. Please use tf.compat.v1.train.Optimizer instead.\n",
      "\n",
      "W0318 12:25:39.215612 140307536987968 deprecation.py:323] From /home/leonardo/anaconda3/envs/gpu/lib/python3.7/site-packages/tensorflow/python/ops/math_grad.py:1250: add_dispatch_support.<locals>.wrapper (from tensorflow.python.ops.array_ops) is deprecated and will be removed in a future version.\n",
      "Instructions for updating:\n",
      "Use tf.where in 2.0, which has the same broadcast rule as np.where\n"
     ]
    },
    {
     "name": "stdout",
     "output_type": "stream",
     "text": [
      "_________________________________________________________________\n",
      "Layer (type)                 Output Shape              Param #   \n",
      "=================================================================\n",
      "embedding_1 (Embedding)      (None, 500, 100)          3500000   \n",
      "_________________________________________________________________\n",
      "simple_rnn_1 (SimpleRNN)     (None, 256)               91392     \n",
      "_________________________________________________________________\n",
      "dense_1 (Dense)              (None, 91)                23387     \n",
      "=================================================================\n",
      "Total params: 3,614,779\n",
      "Trainable params: 3,614,779\n",
      "Non-trainable params: 0\n",
      "_________________________________________________________________\n",
      "Train on 8419 samples, validate on 2105 samples\n",
      "Epoch 1/20\n",
      "8419/8419 [==============================] - 54s 6ms/step - loss: 2.1707 - categorical_accuracy: 0.4155 - val_loss: 2.0916 - val_categorical_accuracy: 0.3112\n",
      "Epoch 2/20\n",
      "8419/8419 [==============================] - 54s 6ms/step - loss: 1.8481 - categorical_accuracy: 0.4936 - val_loss: 1.9429 - val_categorical_accuracy: 0.3606\n",
      "Epoch 3/20\n",
      "8419/8419 [==============================] - 53s 6ms/step - loss: 1.7557 - categorical_accuracy: 0.5244 - val_loss: 1.7032 - val_categorical_accuracy: 0.5059\n",
      "Epoch 4/20\n",
      "8419/8419 [==============================] - 54s 6ms/step - loss: 1.7182 - categorical_accuracy: 0.5307 - val_loss: 1.7351 - val_categorical_accuracy: 0.4641\n",
      "Epoch 5/20\n",
      "8419/8419 [==============================] - 54s 6ms/step - loss: 1.6723 - categorical_accuracy: 0.5442 - val_loss: 1.6876 - val_categorical_accuracy: 0.5311\n",
      "Epoch 6/20\n",
      "8419/8419 [==============================] - 54s 6ms/step - loss: 1.6226 - categorical_accuracy: 0.5547 - val_loss: 1.6884 - val_categorical_accuracy: 0.5211\n",
      "Epoch 7/20\n",
      "8419/8419 [==============================] - 54s 6ms/step - loss: 1.6163 - categorical_accuracy: 0.5484 - val_loss: 1.7872 - val_categorical_accuracy: 0.4941\n",
      "Epoch 8/20\n",
      "8419/8419 [==============================] - 54s 6ms/step - loss: 1.6070 - categorical_accuracy: 0.5559 - val_loss: 1.8355 - val_categorical_accuracy: 0.4162\n",
      "Epoch 9/20\n",
      "8419/8419 [==============================] - 54s 6ms/step - loss: 1.5684 - categorical_accuracy: 0.5676 - val_loss: 1.7200 - val_categorical_accuracy: 0.5192\n",
      "Epoch 10/20\n",
      "8419/8419 [==============================] - 54s 6ms/step - loss: 1.5751 - categorical_accuracy: 0.5593 - val_loss: 1.7006 - val_categorical_accuracy: 0.5188\n",
      "Epoch 11/20\n",
      "8419/8419 [==============================] - 54s 6ms/step - loss: 1.5285 - categorical_accuracy: 0.5743 - val_loss: 1.7903 - val_categorical_accuracy: 0.4589\n",
      "Epoch 12/20\n",
      "8419/8419 [==============================] - 54s 6ms/step - loss: 1.5189 - categorical_accuracy: 0.5731 - val_loss: 1.6443 - val_categorical_accuracy: 0.5264\n",
      "Epoch 13/20\n",
      "8419/8419 [==============================] - 55s 7ms/step - loss: 1.4907 - categorical_accuracy: 0.5826 - val_loss: 1.7436 - val_categorical_accuracy: 0.4979\n",
      "Epoch 14/20\n",
      "8419/8419 [==============================] - 55s 6ms/step - loss: 1.4947 - categorical_accuracy: 0.5756 - val_loss: 1.7537 - val_categorical_accuracy: 0.4945\n",
      "Epoch 15/20\n",
      "8419/8419 [==============================] - 54s 6ms/step - loss: 1.4784 - categorical_accuracy: 0.5818 - val_loss: 1.7417 - val_categorical_accuracy: 0.5112\n",
      "Epoch 16/20\n",
      "8419/8419 [==============================] - 54s 6ms/step - loss: 1.4526 - categorical_accuracy: 0.5894 - val_loss: 1.7179 - val_categorical_accuracy: 0.4736\n",
      "Epoch 17/20\n",
      "8419/8419 [==============================] - 54s 6ms/step - loss: 1.4339 - categorical_accuracy: 0.5979 - val_loss: 1.7696 - val_categorical_accuracy: 0.4936\n",
      "Epoch 18/20\n",
      "8419/8419 [==============================] - 54s 6ms/step - loss: 1.4418 - categorical_accuracy: 0.5913 - val_loss: 1.7587 - val_categorical_accuracy: 0.4950\n",
      "Epoch 19/20\n",
      "8419/8419 [==============================] - 55s 7ms/step - loss: 1.4307 - categorical_accuracy: 0.5931 - val_loss: 1.7232 - val_categorical_accuracy: 0.5050\n",
      "Epoch 20/20\n",
      "8419/8419 [==============================] - 54s 6ms/step - loss: 1.4159 - categorical_accuracy: 0.5940 - val_loss: 1.7374 - val_categorical_accuracy: 0.4665\n"
     ]
    }
   ],
   "source": [
    "from keras.models import Sequential\n",
    "from keras.layers import SimpleRNN, GRU, Dense, Embedding\n",
    "from keras.optimizers import RMSprop\n",
    "\n",
    "model = Sequential()\n",
    "model.add(Embedding(vocabulario, dim_vetor, weights=[embedding_matrix], input_length=limite_texto, trainable=True))\n",
    "model.add(SimpleRNN(256, dropout=0.2, recurrent_dropout=0.2))\n",
    "model.add(Dense(y.shape[1], activation='softmax'))\n",
    "model.compile(loss='categorical_crossentropy', optimizer=RMSprop(),  metrics=[\"categorical_accuracy\"])\n",
    "model.summary()\n",
    "history = model.fit(x, y, epochs=20, batch_size=32, validation_split=0.2, verbose=1, shuffle=True)"
   ]
  },
  {
   "cell_type": "code",
   "execution_count": 11,
   "metadata": {},
   "outputs": [
    {
     "name": "stdout",
     "output_type": "stream",
     "text": [
      "_________________________________________________________________\n",
      "Layer (type)                 Output Shape              Param #   \n",
      "=================================================================\n",
      "embedding_2 (Embedding)      (None, 500, 100)          3500000   \n",
      "_________________________________________________________________\n",
      "gru_1 (GRU)                  (None, 256)               274176    \n",
      "_________________________________________________________________\n",
      "dense_2 (Dense)              (None, 91)                23387     \n",
      "=================================================================\n",
      "Total params: 3,797,563\n",
      "Trainable params: 297,563\n",
      "Non-trainable params: 3,500,000\n",
      "_________________________________________________________________\n",
      "Train on 8419 samples, validate on 2105 samples\n",
      "Epoch 1/20\n",
      "8419/8419 [==============================] - 119s 14ms/step - loss: 1.7168 - categorical_accuracy: 0.5475 - val_loss: 1.6712 - val_categorical_accuracy: 0.4523\n",
      "Epoch 2/20\n",
      "8419/8419 [==============================] - 118s 14ms/step - loss: 1.3891 - categorical_accuracy: 0.6226 - val_loss: 1.4955 - val_categorical_accuracy: 0.5663\n",
      "Epoch 3/20\n",
      "8419/8419 [==============================] - 118s 14ms/step - loss: 1.2789 - categorical_accuracy: 0.6434 - val_loss: 1.5095 - val_categorical_accuracy: 0.5724\n",
      "Epoch 4/20\n",
      "8419/8419 [==============================] - 118s 14ms/step - loss: 1.1881 - categorical_accuracy: 0.6609 - val_loss: 1.5023 - val_categorical_accuracy: 0.5653\n",
      "Epoch 5/20\n",
      "8419/8419 [==============================] - 118s 14ms/step - loss: 1.1237 - categorical_accuracy: 0.6754 - val_loss: 1.5499 - val_categorical_accuracy: 0.5758\n",
      "Epoch 6/20\n",
      "8419/8419 [==============================] - 118s 14ms/step - loss: 1.0539 - categorical_accuracy: 0.6938 - val_loss: 1.4717 - val_categorical_accuracy: 0.5976\n",
      "Epoch 7/20\n",
      "8419/8419 [==============================] - 118s 14ms/step - loss: 0.9956 - categorical_accuracy: 0.7052 - val_loss: 1.4946 - val_categorical_accuracy: 0.5829\n",
      "Epoch 8/20\n",
      "8419/8419 [==============================] - 118s 14ms/step - loss: 0.9494 - categorical_accuracy: 0.7185 - val_loss: 1.5248 - val_categorical_accuracy: 0.5724\n",
      "Epoch 9/20\n",
      "8419/8419 [==============================] - 118s 14ms/step - loss: 0.8827 - categorical_accuracy: 0.7377 - val_loss: 1.5858 - val_categorical_accuracy: 0.5625\n",
      "Epoch 10/20\n",
      "8419/8419 [==============================] - 118s 14ms/step - loss: 0.8349 - categorical_accuracy: 0.7489 - val_loss: 1.5668 - val_categorical_accuracy: 0.5843\n",
      "Epoch 11/20\n",
      "8419/8419 [==============================] - 118s 14ms/step - loss: 0.7890 - categorical_accuracy: 0.7595 - val_loss: 1.6867 - val_categorical_accuracy: 0.5577\n",
      "Epoch 12/20\n",
      "8419/8419 [==============================] - 118s 14ms/step - loss: 0.7472 - categorical_accuracy: 0.7730 - val_loss: 1.7261 - val_categorical_accuracy: 0.5534\n",
      "Epoch 13/20\n",
      "8419/8419 [==============================] - 118s 14ms/step - loss: 0.7096 - categorical_accuracy: 0.7860 - val_loss: 1.7177 - val_categorical_accuracy: 0.5278\n",
      "Epoch 14/20\n",
      "8419/8419 [==============================] - 120s 14ms/step - loss: 0.6735 - categorical_accuracy: 0.7946 - val_loss: 1.7264 - val_categorical_accuracy: 0.5525\n",
      "Epoch 15/20\n",
      "8419/8419 [==============================] - 120s 14ms/step - loss: 0.6519 - categorical_accuracy: 0.8056 - val_loss: 1.7589 - val_categorical_accuracy: 0.5430\n",
      "Epoch 16/20\n",
      "8419/8419 [==============================] - 119s 14ms/step - loss: 0.6134 - categorical_accuracy: 0.8097 - val_loss: 1.7749 - val_categorical_accuracy: 0.5596\n",
      "Epoch 17/20\n",
      "8419/8419 [==============================] - 119s 14ms/step - loss: 0.5792 - categorical_accuracy: 0.8225 - val_loss: 1.8040 - val_categorical_accuracy: 0.5777\n",
      "Epoch 18/20\n",
      "8419/8419 [==============================] - 119s 14ms/step - loss: 0.5530 - categorical_accuracy: 0.8300 - val_loss: 1.8412 - val_categorical_accuracy: 0.5506\n",
      "Epoch 19/20\n",
      "8419/8419 [==============================] - 119s 14ms/step - loss: 0.5331 - categorical_accuracy: 0.8335 - val_loss: 1.9899 - val_categorical_accuracy: 0.5192\n",
      "Epoch 20/20\n",
      "8419/8419 [==============================] - 119s 14ms/step - loss: 0.5173 - categorical_accuracy: 0.8456 - val_loss: 1.8933 - val_categorical_accuracy: 0.5625\n"
     ]
    }
   ],
   "source": [
    "from keras.models import Sequential\n",
    "from keras.layers import SimpleRNN, GRU, Dense, Embedding\n",
    "from keras.optimizers import RMSprop\n",
    "\n",
    "model = Sequential()\n",
    "model.add(Embedding(vocabulario, dim_vetor, weights=[embedding_matrix], input_length=limite_texto, trainable=False))\n",
    "model.add(GRU(256, dropout=0.2, recurrent_dropout=0.2))\n",
    "model.add(Dense(y.shape[1], activation='softmax'))\n",
    "model.compile(loss='categorical_crossentropy', optimizer=RMSprop(),  metrics=[\"categorical_accuracy\"])\n",
    "model.summary()\n",
    "\n",
    "history = model.fit(x, y, epochs=20, batch_size=32, validation_split=0.2, verbose=1, shuffle=True)"
   ]
  },
  {
   "cell_type": "code",
   "execution_count": 12,
   "metadata": {},
   "outputs": [
    {
     "name": "stdout",
     "output_type": "stream",
     "text": [
      "_________________________________________________________________\n",
      "Layer (type)                 Output Shape              Param #   \n",
      "=================================================================\n",
      "embedding_3 (Embedding)      (None, 500, 100)          3500000   \n",
      "_________________________________________________________________\n",
      "gru_2 (GRU)                  (None, 256)               274176    \n",
      "_________________________________________________________________\n",
      "dense_3 (Dense)              (None, 91)                23387     \n",
      "=================================================================\n",
      "Total params: 3,797,563\n",
      "Trainable params: 3,797,563\n",
      "Non-trainable params: 0\n",
      "_________________________________________________________________\n",
      "Train on 8419 samples, validate on 2105 samples\n",
      "Epoch 1/20\n",
      "8419/8419 [==============================] - 132s 16ms/step - loss: 1.7176 - categorical_accuracy: 0.5507 - val_loss: 1.6556 - val_categorical_accuracy: 0.5197\n",
      "Epoch 2/20\n",
      "8419/8419 [==============================] - 131s 16ms/step - loss: 1.3822 - categorical_accuracy: 0.6161 - val_loss: 1.5588 - val_categorical_accuracy: 0.5311\n",
      "Epoch 3/20\n",
      "8419/8419 [==============================] - 131s 16ms/step - loss: 1.2683 - categorical_accuracy: 0.6483 - val_loss: 1.4764 - val_categorical_accuracy: 0.5872\n",
      "Epoch 4/20\n",
      "8419/8419 [==============================] - 131s 16ms/step - loss: 1.1722 - categorical_accuracy: 0.6650 - val_loss: 1.5816 - val_categorical_accuracy: 0.5335\n",
      "Epoch 5/20\n",
      "8419/8419 [==============================] - 131s 16ms/step - loss: 1.0936 - categorical_accuracy: 0.6851 - val_loss: 1.4663 - val_categorical_accuracy: 0.5872\n",
      "Epoch 6/20\n",
      "8419/8419 [==============================] - 131s 16ms/step - loss: 1.0317 - categorical_accuracy: 0.6998 - val_loss: 1.4913 - val_categorical_accuracy: 0.5777\n",
      "Epoch 7/20\n",
      "8419/8419 [==============================] - 131s 16ms/step - loss: 0.9567 - categorical_accuracy: 0.7156 - val_loss: 1.6471 - val_categorical_accuracy: 0.5273\n",
      "Epoch 8/20\n",
      "8419/8419 [==============================] - 131s 16ms/step - loss: 0.9013 - categorical_accuracy: 0.7310 - val_loss: 1.5694 - val_categorical_accuracy: 0.5796\n",
      "Epoch 9/20\n",
      "8419/8419 [==============================] - 133s 16ms/step - loss: 0.8404 - categorical_accuracy: 0.7535 - val_loss: 1.6314 - val_categorical_accuracy: 0.5477\n",
      "Epoch 10/20\n",
      "8419/8419 [==============================] - 132s 16ms/step - loss: 0.7853 - categorical_accuracy: 0.7679 - val_loss: 1.8156 - val_categorical_accuracy: 0.4960\n",
      "Epoch 11/20\n",
      "8419/8419 [==============================] - 132s 16ms/step - loss: 0.7414 - categorical_accuracy: 0.7767 - val_loss: 1.7326 - val_categorical_accuracy: 0.5454\n",
      "Epoch 12/20\n",
      "8419/8419 [==============================] - 132s 16ms/step - loss: 0.7032 - categorical_accuracy: 0.7911 - val_loss: 1.7392 - val_categorical_accuracy: 0.5511\n",
      "Epoch 13/20\n",
      "8419/8419 [==============================] - 132s 16ms/step - loss: 0.6546 - categorical_accuracy: 0.8025 - val_loss: 1.7190 - val_categorical_accuracy: 0.5615\n",
      "Epoch 14/20\n",
      "8419/8419 [==============================] - 132s 16ms/step - loss: 0.6167 - categorical_accuracy: 0.8141 - val_loss: 1.7776 - val_categorical_accuracy: 0.5406\n",
      "Epoch 15/20\n",
      "8419/8419 [==============================] - 132s 16ms/step - loss: 0.5827 - categorical_accuracy: 0.8254 - val_loss: 1.8285 - val_categorical_accuracy: 0.5321\n",
      "Epoch 16/20\n",
      "8419/8419 [==============================] - 132s 16ms/step - loss: 0.5474 - categorical_accuracy: 0.8332 - val_loss: 1.8481 - val_categorical_accuracy: 0.5302\n",
      "Epoch 17/20\n",
      "8419/8419 [==============================] - 133s 16ms/step - loss: 0.5015 - categorical_accuracy: 0.8521 - val_loss: 1.9773 - val_categorical_accuracy: 0.5116\n",
      "Epoch 18/20\n",
      "8419/8419 [==============================] - 134s 16ms/step - loss: 0.4674 - categorical_accuracy: 0.8594 - val_loss: 1.8596 - val_categorical_accuracy: 0.5572\n",
      "Epoch 19/20\n",
      "8419/8419 [==============================] - 136s 16ms/step - loss: 0.4411 - categorical_accuracy: 0.8655 - val_loss: 2.0796 - val_categorical_accuracy: 0.5145\n",
      "Epoch 20/20\n",
      "8419/8419 [==============================] - 140s 17ms/step - loss: 0.4193 - categorical_accuracy: 0.8735 - val_loss: 1.9478 - val_categorical_accuracy: 0.5620\n"
     ]
    }
   ],
   "source": [
    "from keras.models import Sequential\n",
    "from keras.layers import SimpleRNN, GRU, Dense, Embedding\n",
    "from keras.optimizers import RMSprop\n",
    "\n",
    "model = Sequential()\n",
    "model.add(Embedding(vocabulario, dim_vetor, weights=[embedding_matrix], input_length=limite_texto, trainable=True))\n",
    "model.add(GRU(256, dropout=0.2, recurrent_dropout=0.2))\n",
    "model.add(Dense(y.shape[1], activation='softmax'))\n",
    "model.compile(loss='categorical_crossentropy', optimizer=RMSprop(),  metrics=[\"categorical_accuracy\"])\n",
    "model.summary()\n",
    "\n",
    "history = model.fit(x, y, epochs=20, batch_size=32, validation_split=0.2, verbose=1, shuffle=True)"
   ]
  },
  {
   "cell_type": "code",
   "execution_count": null,
   "metadata": {},
   "outputs": [],
   "source": []
  }
 ],
 "metadata": {
  "kernelspec": {
   "display_name": "Python 3",
   "language": "python",
   "name": "python3"
  },
  "language_info": {
   "codemirror_mode": {
    "name": "ipython",
    "version": 3
   },
   "file_extension": ".py",
   "mimetype": "text/x-python",
   "name": "python",
   "nbconvert_exporter": "python",
   "pygments_lexer": "ipython3",
   "version": "3.7.4"
  }
 },
 "nbformat": 4,
 "nbformat_minor": 2
}
