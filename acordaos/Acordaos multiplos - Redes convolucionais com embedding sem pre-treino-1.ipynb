{
 "cells": [
  {
   "cell_type": "markdown",
   "metadata": {},
   "source": [
    "# Importação e preparação dos dados"
   ]
  },
  {
   "cell_type": "code",
   "execution_count": 1,
   "metadata": {},
   "outputs": [
    {
     "data": {
      "text/html": [
       "<div>\n",
       "<style scoped>\n",
       "    .dataframe tbody tr th:only-of-type {\n",
       "        vertical-align: middle;\n",
       "    }\n",
       "\n",
       "    .dataframe tbody tr th {\n",
       "        vertical-align: top;\n",
       "    }\n",
       "\n",
       "    .dataframe thead th {\n",
       "        text-align: right;\n",
       "    }\n",
       "</style>\n",
       "<table border=\"1\" class=\"dataframe\">\n",
       "  <thead>\n",
       "    <tr style=\"text-align: right;\">\n",
       "      <th></th>\n",
       "      <th>acordao</th>\n",
       "      <th>arquivo</th>\n",
       "      <th>texto</th>\n",
       "      <th>areas</th>\n",
       "    </tr>\n",
       "  </thead>\n",
       "  <tbody>\n",
       "    <tr>\n",
       "      <th>0</th>\n",
       "      <td>297/2016-P</td>\n",
       "      <td>547240.txt</td>\n",
       "      <td>TRIBUNAL DE CONTAS DA UNIÃO\\tTC 010.084/2015-0...</td>\n",
       "      <td>Responsabilidade</td>\n",
       "    </tr>\n",
       "    <tr>\n",
       "      <th>1</th>\n",
       "      <td>366/2016-P</td>\n",
       "      <td>549518.txt</td>\n",
       "      <td>TRIBUNAL DE CONTAS DA UNIÃO\\tTC 005.933/2014-5...</td>\n",
       "      <td>Finanças Públicas</td>\n",
       "    </tr>\n",
       "    <tr>\n",
       "      <th>2</th>\n",
       "      <td>944/2016-P</td>\n",
       "      <td>554399.txt</td>\n",
       "      <td>TRIBUNAL DE CONTAS DA UNIÃO\\tTC 042.038/2012-0...</td>\n",
       "      <td>Responsabilidade</td>\n",
       "    </tr>\n",
       "    <tr>\n",
       "      <th>3</th>\n",
       "      <td>30/2016-P</td>\n",
       "      <td>545010.txt</td>\n",
       "      <td>TRIBUNAL DE CONTAS DA UNIÃO\\tTC 000.742/2014-7...</td>\n",
       "      <td>Direito Processual</td>\n",
       "    </tr>\n",
       "    <tr>\n",
       "      <th>4</th>\n",
       "      <td>55/2016-P</td>\n",
       "      <td>544046.txt</td>\n",
       "      <td>;-;;Wania Lucia Pasquarelli do NascimentoTCUWa...</td>\n",
       "      <td>Pessoal</td>\n",
       "    </tr>\n",
       "  </tbody>\n",
       "</table>\n",
       "</div>"
      ],
      "text/plain": [
       "      acordao     arquivo                                              texto  \\\n",
       "0  297/2016-P  547240.txt  TRIBUNAL DE CONTAS DA UNIÃO\\tTC 010.084/2015-0...   \n",
       "1  366/2016-P  549518.txt  TRIBUNAL DE CONTAS DA UNIÃO\\tTC 005.933/2014-5...   \n",
       "2  944/2016-P  554399.txt  TRIBUNAL DE CONTAS DA UNIÃO\\tTC 042.038/2012-0...   \n",
       "3   30/2016-P  545010.txt  TRIBUNAL DE CONTAS DA UNIÃO\\tTC 000.742/2014-7...   \n",
       "4   55/2016-P  544046.txt  ;-;;Wania Lucia Pasquarelli do NascimentoTCUWa...   \n",
       "\n",
       "                areas  \n",
       "0    Responsabilidade  \n",
       "1   Finanças Públicas  \n",
       "2    Responsabilidade  \n",
       "3  Direito Processual  \n",
       "4             Pessoal  "
      ]
     },
     "execution_count": 1,
     "metadata": {},
     "output_type": "execute_result"
    }
   ],
   "source": [
    "import pandas as pd\n",
    "\n",
    "df = pd.read_csv('../dados/acordaos-selecionada.csv', sep = '|')\n",
    "df.head()"
   ]
  },
  {
   "cell_type": "code",
   "execution_count": 2,
   "metadata": {},
   "outputs": [
    {
     "data": {
      "text/plain": [
       "(10524, 4)"
      ]
     },
     "execution_count": 2,
     "metadata": {},
     "output_type": "execute_result"
    }
   ],
   "source": [
    "df.shape"
   ]
  },
  {
   "cell_type": "code",
   "execution_count": 3,
   "metadata": {},
   "outputs": [
    {
     "data": {
      "text/plain": [
       "(10524, 91)"
      ]
     },
     "execution_count": 3,
     "metadata": {},
     "output_type": "execute_result"
    }
   ],
   "source": [
    "from sklearn.preprocessing import LabelBinarizer\n",
    "\n",
    "areas = df.groupby(['areas']).groups.keys()\n",
    "lbArea = LabelBinarizer()\n",
    "lbArea.fit([x for x in areas])\n",
    "y = lbArea.transform(df['areas'])\n",
    "y.shape"
   ]
  },
  {
   "cell_type": "code",
   "execution_count": 4,
   "metadata": {},
   "outputs": [
    {
     "name": "stderr",
     "output_type": "stream",
     "text": [
      "Using TensorFlow backend.\n"
     ]
    },
    {
     "name": "stdout",
     "output_type": "stream",
     "text": [
      "Found 344296 unique tokens.\n"
     ]
    }
   ],
   "source": [
    "from keras.preprocessing.text import Tokenizer\n",
    "import numpy as np\n",
    "\n",
    "vocabulario = 350000\n",
    "limite_texto = 40000\n",
    "dim_vetor = 100\n",
    "\n",
    "tokenizer = Tokenizer(num_words=vocabulario)\n",
    "tokenizer.fit_on_texts(df['texto'])\n",
    "\n",
    "sequences = tokenizer.texts_to_sequences(df['texto'])\n",
    "\n",
    "word_index = tokenizer.word_index\n",
    "vocabulario = len(word_index) + 1\n",
    "print('Found %s unique tokens.' % len(word_index))"
   ]
  },
  {
   "cell_type": "code",
   "execution_count": 5,
   "metadata": {},
   "outputs": [
    {
     "name": "stdout",
     "output_type": "stream",
     "text": [
      "Shape of data tensor: (10524, 40000)\n"
     ]
    }
   ],
   "source": [
    "from keras.preprocessing.sequence import pad_sequences\n",
    "\n",
    "x = pad_sequences(sequences, maxlen=limite_texto)\n",
    "\n",
    "print('Shape of data tensor:', x.shape)"
   ]
  },
  {
   "cell_type": "code",
   "execution_count": 6,
   "metadata": {},
   "outputs": [
    {
     "data": {
      "text/plain": [
       "((10524, 40000), (10524, 91))"
      ]
     },
     "execution_count": 6,
     "metadata": {},
     "output_type": "execute_result"
    }
   ],
   "source": [
    "x.shape, y.shape"
   ]
  },
  {
   "cell_type": "markdown",
   "metadata": {},
   "source": [
    "# Treinamento"
   ]
  },
  {
   "cell_type": "code",
   "execution_count": 7,
   "metadata": {},
   "outputs": [],
   "source": [
    "from keras.models import Sequential\n",
    "from keras.layers import Embedding, Conv1D, MaxPooling1D, Dense, GlobalMaxPooling1D, Flatten\n",
    "from keras.optimizers import RMSprop\n",
    "from keras.layers.core import Dropout"
   ]
  },
  {
   "cell_type": "code",
   "execution_count": 8,
   "metadata": {
    "scrolled": false
   },
   "outputs": [
    {
     "name": "stderr",
     "output_type": "stream",
     "text": [
      "WARNING: Logging before flag parsing goes to stderr.\n",
      "W0309 19:48:10.639529 139653295728448 deprecation_wrapper.py:119] From /home/leonardo/anaconda3/envs/gpu/lib/python3.7/site-packages/keras/backend/tensorflow_backend.py:74: The name tf.get_default_graph is deprecated. Please use tf.compat.v1.get_default_graph instead.\n",
      "\n",
      "W0309 19:48:10.886362 139653295728448 deprecation_wrapper.py:119] From /home/leonardo/anaconda3/envs/gpu/lib/python3.7/site-packages/keras/backend/tensorflow_backend.py:517: The name tf.placeholder is deprecated. Please use tf.compat.v1.placeholder instead.\n",
      "\n",
      "W0309 19:48:10.934624 139653295728448 deprecation_wrapper.py:119] From /home/leonardo/anaconda3/envs/gpu/lib/python3.7/site-packages/keras/backend/tensorflow_backend.py:4138: The name tf.random_uniform is deprecated. Please use tf.random.uniform instead.\n",
      "\n",
      "W0309 19:48:10.990812 139653295728448 deprecation_wrapper.py:119] From /home/leonardo/anaconda3/envs/gpu/lib/python3.7/site-packages/keras/backend/tensorflow_backend.py:3976: The name tf.nn.max_pool is deprecated. Please use tf.nn.max_pool2d instead.\n",
      "\n",
      "W0309 19:48:11.240439 139653295728448 deprecation_wrapper.py:119] From /home/leonardo/anaconda3/envs/gpu/lib/python3.7/site-packages/keras/optimizers.py:790: The name tf.train.Optimizer is deprecated. Please use tf.compat.v1.train.Optimizer instead.\n",
      "\n",
      "W0309 19:48:11.246695 139653295728448 deprecation_wrapper.py:119] From /home/leonardo/anaconda3/envs/gpu/lib/python3.7/site-packages/keras/backend/tensorflow_backend.py:3295: The name tf.log is deprecated. Please use tf.math.log instead.\n",
      "\n",
      "W0309 19:48:11.459655 139653295728448 deprecation.py:323] From /home/leonardo/anaconda3/envs/gpu/lib/python3.7/site-packages/tensorflow/python/ops/math_grad.py:1250: add_dispatch_support.<locals>.wrapper (from tensorflow.python.ops.array_ops) is deprecated and will be removed in a future version.\n",
      "Instructions for updating:\n",
      "Use tf.where in 2.0, which has the same broadcast rule as np.where\n"
     ]
    },
    {
     "name": "stdout",
     "output_type": "stream",
     "text": [
      "_________________________________________________________________\n",
      "Layer (type)                 Output Shape              Param #   \n",
      "=================================================================\n",
      "embedding_1 (Embedding)      (None, 40000, 100)        34429700  \n",
      "_________________________________________________________________\n",
      "conv1d_1 (Conv1D)            (None, 39994, 32)         22432     \n",
      "_________________________________________________________________\n",
      "max_pooling1d_1 (MaxPooling1 (None, 7998, 32)          0         \n",
      "_________________________________________________________________\n",
      "conv1d_2 (Conv1D)            (None, 7992, 32)          7200      \n",
      "_________________________________________________________________\n",
      "global_max_pooling1d_1 (Glob (None, 32)                0         \n",
      "_________________________________________________________________\n",
      "dense_1 (Dense)              (None, 91)                3003      \n",
      "=================================================================\n",
      "Total params: 34,462,335\n",
      "Trainable params: 34,462,335\n",
      "Non-trainable params: 0\n",
      "_________________________________________________________________\n"
     ]
    },
    {
     "name": "stderr",
     "output_type": "stream",
     "text": [
      "W0309 19:48:12.242850 139653295728448 deprecation_wrapper.py:119] From /home/leonardo/anaconda3/envs/gpu/lib/python3.7/site-packages/keras/backend/tensorflow_backend.py:986: The name tf.assign_add is deprecated. Please use tf.compat.v1.assign_add instead.\n",
      "\n"
     ]
    },
    {
     "name": "stdout",
     "output_type": "stream",
     "text": [
      "Train on 8419 samples, validate on 2105 samples\n",
      "Epoch 1/20\n",
      "8419/8419 [==============================] - 61s 7ms/step - loss: 2.2959 - categorical_accuracy: 0.3570 - val_loss: 1.8042 - val_categorical_accuracy: 0.4708\n",
      "Epoch 2/20\n",
      "8419/8419 [==============================] - 44s 5ms/step - loss: 1.7796 - categorical_accuracy: 0.5181 - val_loss: 1.7499 - val_categorical_accuracy: 0.5064\n",
      "Epoch 3/20\n",
      "8419/8419 [==============================] - 44s 5ms/step - loss: 1.5874 - categorical_accuracy: 0.5812 - val_loss: 1.7421 - val_categorical_accuracy: 0.4584\n",
      "Epoch 4/20\n",
      "8419/8419 [==============================] - 44s 5ms/step - loss: 1.4332 - categorical_accuracy: 0.6212 - val_loss: 1.5899 - val_categorical_accuracy: 0.5625\n",
      "Epoch 5/20\n",
      "8419/8419 [==============================] - 44s 5ms/step - loss: 1.2753 - categorical_accuracy: 0.6572 - val_loss: 1.6155 - val_categorical_accuracy: 0.5544\n",
      "Epoch 6/20\n",
      "8419/8419 [==============================] - 44s 5ms/step - loss: 1.0977 - categorical_accuracy: 0.7190 - val_loss: 1.6401 - val_categorical_accuracy: 0.5534\n",
      "Epoch 7/20\n",
      "8419/8419 [==============================] - 44s 5ms/step - loss: 0.8990 - categorical_accuracy: 0.7893 - val_loss: 1.6349 - val_categorical_accuracy: 0.5544\n",
      "Epoch 8/20\n",
      "8419/8419 [==============================] - 44s 5ms/step - loss: 0.7068 - categorical_accuracy: 0.8462 - val_loss: 1.6667 - val_categorical_accuracy: 0.5829\n",
      "Epoch 9/20\n",
      "8419/8419 [==============================] - 44s 5ms/step - loss: 0.5352 - categorical_accuracy: 0.8874 - val_loss: 1.8513 - val_categorical_accuracy: 0.5368\n",
      "Epoch 10/20\n",
      "8419/8419 [==============================] - 44s 5ms/step - loss: 0.3939 - categorical_accuracy: 0.9207 - val_loss: 1.9001 - val_categorical_accuracy: 0.5568\n",
      "Epoch 11/20\n",
      "8419/8419 [==============================] - 44s 5ms/step - loss: 0.2961 - categorical_accuracy: 0.9395 - val_loss: 2.2465 - val_categorical_accuracy: 0.4822\n",
      "Epoch 12/20\n",
      "8419/8419 [==============================] - 44s 5ms/step - loss: 0.2273 - categorical_accuracy: 0.9515 - val_loss: 2.5596 - val_categorical_accuracy: 0.4912\n",
      "Epoch 13/20\n",
      "8419/8419 [==============================] - 44s 5ms/step - loss: 0.1786 - categorical_accuracy: 0.9609 - val_loss: 2.4000 - val_categorical_accuracy: 0.5102\n",
      "Epoch 14/20\n",
      "8419/8419 [==============================] - 44s 5ms/step - loss: 0.1461 - categorical_accuracy: 0.9678 - val_loss: 2.5071 - val_categorical_accuracy: 0.4884\n",
      "Epoch 15/20\n",
      "8419/8419 [==============================] - 44s 5ms/step - loss: 0.1215 - categorical_accuracy: 0.9732 - val_loss: 2.6045 - val_categorical_accuracy: 0.4898\n",
      "Epoch 16/20\n",
      "8419/8419 [==============================] - 44s 5ms/step - loss: 0.1025 - categorical_accuracy: 0.9774 - val_loss: 2.8832 - val_categorical_accuracy: 0.4784\n",
      "Epoch 17/20\n",
      "8419/8419 [==============================] - 44s 5ms/step - loss: 0.0894 - categorical_accuracy: 0.9803 - val_loss: 2.7781 - val_categorical_accuracy: 0.4922\n",
      "Epoch 18/20\n",
      "8419/8419 [==============================] - 44s 5ms/step - loss: 0.0789 - categorical_accuracy: 0.9838 - val_loss: 2.9803 - val_categorical_accuracy: 0.4822\n",
      "Epoch 19/20\n",
      "8419/8419 [==============================] - 44s 5ms/step - loss: 0.0722 - categorical_accuracy: 0.9865 - val_loss: 3.2296 - val_categorical_accuracy: 0.4789\n",
      "Epoch 20/20\n",
      "8419/8419 [==============================] - 44s 5ms/step - loss: 0.0673 - categorical_accuracy: 0.9884 - val_loss: 3.2486 - val_categorical_accuracy: 0.4694\n"
     ]
    }
   ],
   "source": [
    "from keras.models import Sequential\n",
    "from keras.layers import Embedding, Conv1D, MaxPooling1D, Dense, GlobalMaxPooling1D\n",
    "from keras.optimizers import RMSprop\n",
    "\n",
    "model = Sequential()\n",
    "model.add(Embedding(vocabulario, dim_vetor, input_length=x.shape[1]))\n",
    "model.add(Conv1D(32, 7, activation='relu'))\n",
    "model.add(MaxPooling1D(5))\n",
    "model.add(Conv1D(32, 7, activation='relu'))\n",
    "model.add(GlobalMaxPooling1D())\n",
    "model.add(Dense(y.shape[1], activation='softmax'))\n",
    "model.compile(loss='categorical_crossentropy', optimizer=RMSprop(),  metrics=[\"categorical_accuracy\"])\n",
    "model.summary()\n",
    "history = model.fit(x, y, epochs=20, batch_size=32, validation_split=0.2, verbose=1, shuffle=True)"
   ]
  },
  {
   "cell_type": "code",
   "execution_count": 9,
   "metadata": {},
   "outputs": [
    {
     "name": "stdout",
     "output_type": "stream",
     "text": [
      "_________________________________________________________________\n",
      "Layer (type)                 Output Shape              Param #   \n",
      "=================================================================\n",
      "embedding_2 (Embedding)      (None, 40000, 100)        34429700  \n",
      "_________________________________________________________________\n",
      "conv1d_3 (Conv1D)            (None, 39994, 32)         22432     \n",
      "_________________________________________________________________\n",
      "max_pooling1d_2 (MaxPooling1 (None, 7998, 32)          0         \n",
      "_________________________________________________________________\n",
      "conv1d_4 (Conv1D)            (None, 7992, 32)          7200      \n",
      "_________________________________________________________________\n",
      "global_max_pooling1d_2 (Glob (None, 32)                0         \n",
      "_________________________________________________________________\n",
      "dense_2 (Dense)              (None, 91)                3003      \n",
      "=================================================================\n",
      "Total params: 34,462,335\n",
      "Trainable params: 34,462,335\n",
      "Non-trainable params: 0\n",
      "_________________________________________________________________\n",
      "Train on 8419 samples, validate on 2105 samples\n",
      "Epoch 1/20\n",
      "8419/8419 [==============================] - 44s 5ms/step - loss: 1.8013 - categorical_accuracy: 0.5224 - val_loss: 1.7198 - val_categorical_accuracy: 0.4665\n",
      "Epoch 2/20\n",
      "8419/8419 [==============================] - 44s 5ms/step - loss: 1.4638 - categorical_accuracy: 0.6168 - val_loss: 1.9171 - val_categorical_accuracy: 0.4741\n",
      "Epoch 3/20\n",
      "8419/8419 [==============================] - 44s 5ms/step - loss: 1.2731 - categorical_accuracy: 0.6561 - val_loss: 1.7523 - val_categorical_accuracy: 0.5449\n",
      "Epoch 4/20\n",
      "8419/8419 [==============================] - 44s 5ms/step - loss: 1.0768 - categorical_accuracy: 0.7142 - val_loss: 1.6814 - val_categorical_accuracy: 0.5762\n",
      "Epoch 5/20\n",
      "8419/8419 [==============================] - 44s 5ms/step - loss: 0.8686 - categorical_accuracy: 0.7698 - val_loss: 2.1912 - val_categorical_accuracy: 0.4105\n",
      "Epoch 6/20\n",
      "8419/8419 [==============================] - 44s 5ms/step - loss: 0.7459 - categorical_accuracy: 0.8058 - val_loss: 2.0587 - val_categorical_accuracy: 0.5487\n",
      "Epoch 7/20\n",
      "8419/8419 [==============================] - 44s 5ms/step - loss: 0.6814 - categorical_accuracy: 0.8313 - val_loss: 2.5736 - val_categorical_accuracy: 0.4337\n",
      "Epoch 8/20\n",
      "8419/8419 [==============================] - 44s 5ms/step - loss: 0.6226 - categorical_accuracy: 0.8426 - val_loss: 2.5531 - val_categorical_accuracy: 0.4489\n",
      "Epoch 9/20\n",
      "8419/8419 [==============================] - 44s 5ms/step - loss: 0.5842 - categorical_accuracy: 0.8508 - val_loss: 2.7584 - val_categorical_accuracy: 0.4423\n",
      "Epoch 10/20\n",
      "8419/8419 [==============================] - 44s 5ms/step - loss: 0.5813 - categorical_accuracy: 0.8560 - val_loss: 2.8573 - val_categorical_accuracy: 0.4299\n",
      "Epoch 11/20\n",
      "8419/8419 [==============================] - 44s 5ms/step - loss: 0.5534 - categorical_accuracy: 0.8664 - val_loss: 2.9398 - val_categorical_accuracy: 0.3302\n",
      "Epoch 12/20\n",
      "8419/8419 [==============================] - 44s 5ms/step - loss: 0.5675 - categorical_accuracy: 0.8690 - val_loss: 2.9263 - val_categorical_accuracy: 0.4081\n",
      "Epoch 13/20\n",
      "8419/8419 [==============================] - 44s 5ms/step - loss: 0.5669 - categorical_accuracy: 0.8667 - val_loss: 3.0342 - val_categorical_accuracy: 0.4290\n",
      "Epoch 14/20\n",
      "8419/8419 [==============================] - 44s 5ms/step - loss: 0.5473 - categorical_accuracy: 0.8721 - val_loss: 3.4578 - val_categorical_accuracy: 0.4385\n",
      "Epoch 15/20\n",
      "8419/8419 [==============================] - 44s 5ms/step - loss: 0.5666 - categorical_accuracy: 0.8748 - val_loss: 4.4910 - val_categorical_accuracy: 0.4029\n",
      "Epoch 16/20\n",
      "8419/8419 [==============================] - 44s 5ms/step - loss: 0.5760 - categorical_accuracy: 0.8720 - val_loss: 3.1030 - val_categorical_accuracy: 0.4233\n",
      "Epoch 17/20\n",
      "8419/8419 [==============================] - 44s 5ms/step - loss: 0.5912 - categorical_accuracy: 0.8722 - val_loss: 3.7533 - val_categorical_accuracy: 0.4143\n",
      "Epoch 18/20\n",
      "8419/8419 [==============================] - 44s 5ms/step - loss: 0.5882 - categorical_accuracy: 0.8741 - val_loss: 3.2042 - val_categorical_accuracy: 0.3834\n",
      "Epoch 19/20\n",
      "8419/8419 [==============================] - 44s 5ms/step - loss: 0.6105 - categorical_accuracy: 0.8726 - val_loss: 3.4465 - val_categorical_accuracy: 0.3834\n",
      "Epoch 20/20\n",
      "8419/8419 [==============================] - 44s 5ms/step - loss: 0.5892 - categorical_accuracy: 0.8741 - val_loss: 3.8754 - val_categorical_accuracy: 0.4366\n"
     ]
    }
   ],
   "source": [
    "model = Sequential()\n",
    "model.add(Embedding(vocabulario, dim_vetor, input_length=x.shape[1]))\n",
    "model.add(Conv1D(32, 7, activation='relu'))\n",
    "model.add(MaxPooling1D(5))\n",
    "model.add(Conv1D(32, 7, activation='relu'))\n",
    "model.add(GlobalMaxPooling1D())\n",
    "model.add(Dense(y.shape[1], activation='softmax'))\n",
    "model.compile(loss='categorical_crossentropy', optimizer=RMSprop(lr=5e-3),  metrics=[\"categorical_accuracy\"])\n",
    "model.summary()\n",
    "history = model.fit(x, y, epochs=20, batch_size=32, validation_split=0.2, verbose=1, shuffle=True)"
   ]
  },
  {
   "cell_type": "code",
   "execution_count": 10,
   "metadata": {},
   "outputs": [
    {
     "name": "stdout",
     "output_type": "stream",
     "text": [
      "_________________________________________________________________\n",
      "Layer (type)                 Output Shape              Param #   \n",
      "=================================================================\n",
      "embedding_3 (Embedding)      (None, 40000, 100)        34429700  \n",
      "_________________________________________________________________\n",
      "conv1d_5 (Conv1D)            (None, 39994, 64)         44864     \n",
      "_________________________________________________________________\n",
      "max_pooling1d_3 (MaxPooling1 (None, 7998, 64)          0         \n",
      "_________________________________________________________________\n",
      "conv1d_6 (Conv1D)            (None, 7992, 32)          14368     \n",
      "_________________________________________________________________\n",
      "global_max_pooling1d_3 (Glob (None, 32)                0         \n",
      "_________________________________________________________________\n",
      "dense_3 (Dense)              (None, 91)                3003      \n",
      "=================================================================\n",
      "Total params: 34,491,935\n",
      "Trainable params: 34,491,935\n",
      "Non-trainable params: 0\n",
      "_________________________________________________________________\n",
      "Train on 8419 samples, validate on 2105 samples\n",
      "Epoch 1/20\n",
      "8419/8419 [==============================] - 63s 7ms/step - loss: 2.1765 - categorical_accuracy: 0.4219 - val_loss: 1.7504 - val_categorical_accuracy: 0.5140\n",
      "Epoch 2/20\n",
      "8419/8419 [==============================] - 62s 7ms/step - loss: 1.6044 - categorical_accuracy: 0.5789 - val_loss: 1.6332 - val_categorical_accuracy: 0.5378\n",
      "Epoch 3/20\n",
      "8419/8419 [==============================] - 62s 7ms/step - loss: 1.4477 - categorical_accuracy: 0.6173 - val_loss: 1.5199 - val_categorical_accuracy: 0.5648\n",
      "Epoch 4/20\n",
      "8419/8419 [==============================] - 62s 7ms/step - loss: 1.3141 - categorical_accuracy: 0.6525 - val_loss: 1.5424 - val_categorical_accuracy: 0.5677\n",
      "Epoch 5/20\n",
      "8419/8419 [==============================] - 62s 7ms/step - loss: 1.1657 - categorical_accuracy: 0.6971 - val_loss: 1.6683 - val_categorical_accuracy: 0.5482\n",
      "Epoch 6/20\n",
      "8419/8419 [==============================] - 62s 7ms/step - loss: 1.0085 - categorical_accuracy: 0.7427 - val_loss: 1.7574 - val_categorical_accuracy: 0.4385\n",
      "Epoch 7/20\n",
      "8419/8419 [==============================] - 62s 7ms/step - loss: 0.8349 - categorical_accuracy: 0.7991 - val_loss: 1.5443 - val_categorical_accuracy: 0.5933\n",
      "Epoch 8/20\n",
      "8419/8419 [==============================] - 62s 7ms/step - loss: 0.6622 - categorical_accuracy: 0.8522 - val_loss: 1.7775 - val_categorical_accuracy: 0.5121\n",
      "Epoch 9/20\n",
      "8419/8419 [==============================] - 62s 7ms/step - loss: 0.5002 - categorical_accuracy: 0.8939 - val_loss: 1.9222 - val_categorical_accuracy: 0.4993\n",
      "Epoch 10/20\n",
      "8419/8419 [==============================] - 62s 7ms/step - loss: 0.3730 - categorical_accuracy: 0.9261 - val_loss: 1.8407 - val_categorical_accuracy: 0.5515\n",
      "Epoch 11/20\n",
      "8419/8419 [==============================] - 62s 7ms/step - loss: 0.2751 - categorical_accuracy: 0.9468 - val_loss: 2.0370 - val_categorical_accuracy: 0.5425\n",
      "Epoch 12/20\n",
      "8419/8419 [==============================] - 62s 7ms/step - loss: 0.2093 - categorical_accuracy: 0.9612 - val_loss: 2.0659 - val_categorical_accuracy: 0.5359\n",
      "Epoch 13/20\n",
      "8419/8419 [==============================] - 62s 7ms/step - loss: 0.1614 - categorical_accuracy: 0.9703 - val_loss: 2.4068 - val_categorical_accuracy: 0.5259\n",
      "Epoch 14/20\n",
      "8419/8419 [==============================] - 62s 7ms/step - loss: 0.1338 - categorical_accuracy: 0.9742 - val_loss: 2.5812 - val_categorical_accuracy: 0.4879\n",
      "Epoch 15/20\n",
      "8419/8419 [==============================] - 62s 7ms/step - loss: 0.1114 - categorical_accuracy: 0.9779 - val_loss: 3.0662 - val_categorical_accuracy: 0.5164\n",
      "Epoch 16/20\n",
      "8419/8419 [==============================] - 62s 7ms/step - loss: 0.1004 - categorical_accuracy: 0.9815 - val_loss: 2.7625 - val_categorical_accuracy: 0.4945\n",
      "Epoch 17/20\n",
      "8419/8419 [==============================] - 62s 7ms/step - loss: 0.0871 - categorical_accuracy: 0.9837 - val_loss: 2.7937 - val_categorical_accuracy: 0.5368\n",
      "Epoch 18/20\n",
      "8419/8419 [==============================] - 62s 7ms/step - loss: 0.0820 - categorical_accuracy: 0.9862 - val_loss: 2.8288 - val_categorical_accuracy: 0.5021\n",
      "Epoch 19/20\n",
      "8419/8419 [==============================] - 62s 7ms/step - loss: 0.0748 - categorical_accuracy: 0.9869 - val_loss: 3.0718 - val_categorical_accuracy: 0.5287\n",
      "Epoch 20/20\n",
      "8419/8419 [==============================] - 62s 7ms/step - loss: 0.0700 - categorical_accuracy: 0.9881 - val_loss: 3.1668 - val_categorical_accuracy: 0.4865\n"
     ]
    }
   ],
   "source": [
    "model = Sequential()\n",
    "model.add(Embedding(vocabulario, dim_vetor, input_length=x.shape[1]))\n",
    "model.add(Conv1D(64, 7, activation='relu'))\n",
    "model.add(MaxPooling1D(5))\n",
    "model.add(Conv1D(32, 7, activation='relu'))\n",
    "model.add(GlobalMaxPooling1D())\n",
    "model.add(Dense(y.shape[1], activation='softmax'))\n",
    "model.compile(loss='categorical_crossentropy', optimizer=RMSprop(),  metrics=[\"categorical_accuracy\"])\n",
    "model.summary()\n",
    "history = model.fit(x, y, epochs=20, batch_size=32, validation_split=0.2, verbose=1, shuffle=True)"
   ]
  },
  {
   "cell_type": "code",
   "execution_count": 11,
   "metadata": {},
   "outputs": [
    {
     "name": "stderr",
     "output_type": "stream",
     "text": [
      "W0309 20:38:09.389264 139653295728448 deprecation.py:506] From /home/leonardo/anaconda3/envs/gpu/lib/python3.7/site-packages/keras/backend/tensorflow_backend.py:3445: calling dropout (from tensorflow.python.ops.nn_ops) with keep_prob is deprecated and will be removed in a future version.\n",
      "Instructions for updating:\n",
      "Please use `rate` instead of `keep_prob`. Rate should be set to `rate = 1 - keep_prob`.\n"
     ]
    },
    {
     "name": "stdout",
     "output_type": "stream",
     "text": [
      "_________________________________________________________________\n",
      "Layer (type)                 Output Shape              Param #   \n",
      "=================================================================\n",
      "embedding_4 (Embedding)      (None, 40000, 100)        34429700  \n",
      "_________________________________________________________________\n",
      "conv1d_7 (Conv1D)            (None, 39994, 32)         22432     \n",
      "_________________________________________________________________\n",
      "max_pooling1d_4 (MaxPooling1 (None, 7998, 32)          0         \n",
      "_________________________________________________________________\n",
      "flatten_1 (Flatten)          (None, 255936)            0         \n",
      "_________________________________________________________________\n",
      "dense_4 (Dense)              (None, 256)               65519872  \n",
      "_________________________________________________________________\n",
      "dropout_1 (Dropout)          (None, 256)               0         \n",
      "_________________________________________________________________\n",
      "dense_5 (Dense)              (None, 91)                23387     \n",
      "=================================================================\n",
      "Total params: 99,995,391\n",
      "Trainable params: 99,995,391\n",
      "Non-trainable params: 0\n",
      "_________________________________________________________________\n",
      "Train on 8419 samples, validate on 2105 samples\n",
      "Epoch 1/20\n",
      "8419/8419 [==============================] - 55s 7ms/step - loss: 11.4406 - categorical_accuracy: 0.2869 - val_loss: 13.2697 - val_categorical_accuracy: 0.1767\n",
      "Epoch 2/20\n",
      "8419/8419 [==============================] - 54s 6ms/step - loss: 11.4659 - categorical_accuracy: 0.2886 - val_loss: 13.2697 - val_categorical_accuracy: 0.1767\n",
      "Epoch 3/20\n",
      "8419/8419 [==============================] - 54s 6ms/step - loss: 11.4659 - categorical_accuracy: 0.2886 - val_loss: 13.2697 - val_categorical_accuracy: 0.1767\n",
      "Epoch 4/20\n",
      "8419/8419 [==============================] - 54s 6ms/step - loss: 11.4659 - categorical_accuracy: 0.2886 - val_loss: 13.2697 - val_categorical_accuracy: 0.1767\n",
      "Epoch 5/20\n",
      "8419/8419 [==============================] - 56s 7ms/step - loss: 11.4659 - categorical_accuracy: 0.2886 - val_loss: 13.2697 - val_categorical_accuracy: 0.1767\n",
      "Epoch 6/20\n",
      "8419/8419 [==============================] - 55s 7ms/step - loss: 11.4659 - categorical_accuracy: 0.2886 - val_loss: 13.2697 - val_categorical_accuracy: 0.1767\n",
      "Epoch 7/20\n",
      "8419/8419 [==============================] - 55s 7ms/step - loss: 11.4659 - categorical_accuracy: 0.2886 - val_loss: 13.2697 - val_categorical_accuracy: 0.1767\n",
      "Epoch 8/20\n",
      "8419/8419 [==============================] - 55s 7ms/step - loss: 11.4659 - categorical_accuracy: 0.2886 - val_loss: 13.2697 - val_categorical_accuracy: 0.1767\n",
      "Epoch 9/20\n",
      "8419/8419 [==============================] - 56s 7ms/step - loss: 11.4659 - categorical_accuracy: 0.2886 - val_loss: 13.2697 - val_categorical_accuracy: 0.1767\n",
      "Epoch 10/20\n",
      "8419/8419 [==============================] - 56s 7ms/step - loss: 11.4659 - categorical_accuracy: 0.2886 - val_loss: 13.2697 - val_categorical_accuracy: 0.1767\n",
      "Epoch 11/20\n",
      "8419/8419 [==============================] - 56s 7ms/step - loss: 11.4659 - categorical_accuracy: 0.2886 - val_loss: 13.2697 - val_categorical_accuracy: 0.1767\n",
      "Epoch 12/20\n",
      "8419/8419 [==============================] - 56s 7ms/step - loss: 11.4659 - categorical_accuracy: 0.2886 - val_loss: 13.2697 - val_categorical_accuracy: 0.1767\n",
      "Epoch 13/20\n",
      "8419/8419 [==============================] - 57s 7ms/step - loss: 11.4659 - categorical_accuracy: 0.2886 - val_loss: 13.2697 - val_categorical_accuracy: 0.1767\n",
      "Epoch 14/20\n",
      "8419/8419 [==============================] - 57s 7ms/step - loss: 11.4659 - categorical_accuracy: 0.2886 - val_loss: 13.2697 - val_categorical_accuracy: 0.1767\n",
      "Epoch 15/20\n",
      "8419/8419 [==============================] - 57s 7ms/step - loss: 11.4659 - categorical_accuracy: 0.2886 - val_loss: 13.2697 - val_categorical_accuracy: 0.1767\n",
      "Epoch 16/20\n",
      "8419/8419 [==============================] - 56s 7ms/step - loss: 11.4659 - categorical_accuracy: 0.2886 - val_loss: 13.2697 - val_categorical_accuracy: 0.1767\n",
      "Epoch 17/20\n",
      "8419/8419 [==============================] - 56s 7ms/step - loss: 11.4659 - categorical_accuracy: 0.2886 - val_loss: 13.2697 - val_categorical_accuracy: 0.1767\n",
      "Epoch 18/20\n",
      "8419/8419 [==============================] - 56s 7ms/step - loss: 11.4659 - categorical_accuracy: 0.2886 - val_loss: 13.2697 - val_categorical_accuracy: 0.1767\n",
      "Epoch 19/20\n",
      "8419/8419 [==============================] - 56s 7ms/step - loss: 11.4659 - categorical_accuracy: 0.2886 - val_loss: 13.2697 - val_categorical_accuracy: 0.1767\n",
      "Epoch 20/20\n",
      "8419/8419 [==============================] - 56s 7ms/step - loss: 11.4659 - categorical_accuracy: 0.2886 - val_loss: 13.2697 - val_categorical_accuracy: 0.1767\n"
     ]
    }
   ],
   "source": [
    "from keras.layers import Flatten\n",
    "from keras.layers.core import Dropout\n",
    "\n",
    "model = Sequential()\n",
    "model.add(Embedding(vocabulario, dim_vetor, input_length=x.shape[1]))\n",
    "model.add(Conv1D(32, 7, activation='relu'))\n",
    "model.add(MaxPooling1D(5))\n",
    "model.add(Flatten())\n",
    "model.add(Dense(256, activation='relu'))\n",
    "model.add(Dropout(0.2))\n",
    "model.add(Dense(y.shape[1], activation='softmax'))\n",
    "model.compile(loss='categorical_crossentropy', optimizer=RMSprop(),  metrics=[\"categorical_accuracy\"])\n",
    "model.summary()\n",
    "history = model.fit(x, y, epochs=20, batch_size=32, validation_split=0.2, verbose=1, shuffle=True)"
   ]
  },
  {
   "cell_type": "code",
   "execution_count": null,
   "metadata": {},
   "outputs": [],
   "source": []
  }
 ],
 "metadata": {
  "kernelspec": {
   "display_name": "Python 3",
   "language": "python",
   "name": "python3"
  },
  "language_info": {
   "codemirror_mode": {
    "name": "ipython",
    "version": 3
   },
   "file_extension": ".py",
   "mimetype": "text/x-python",
   "name": "python",
   "nbconvert_exporter": "python",
   "pygments_lexer": "ipython3",
   "version": "3.7.4"
  }
 },
 "nbformat": 4,
 "nbformat_minor": 2
}
