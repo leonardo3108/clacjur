{
 "cells": [
  {
   "cell_type": "code",
   "execution_count": 1,
   "metadata": {},
   "outputs": [
    {
     "data": {
      "text/html": [
       "<div>\n",
       "<style scoped>\n",
       "    .dataframe tbody tr th:only-of-type {\n",
       "        vertical-align: middle;\n",
       "    }\n",
       "\n",
       "    .dataframe tbody tr th {\n",
       "        vertical-align: top;\n",
       "    }\n",
       "\n",
       "    .dataframe thead th {\n",
       "        text-align: right;\n",
       "    }\n",
       "</style>\n",
       "<table border=\"1\" class=\"dataframe\">\n",
       "  <thead>\n",
       "    <tr style=\"text-align: right;\">\n",
       "      <th></th>\n",
       "      <th>acordao</th>\n",
       "      <th>arquivo</th>\n",
       "      <th>texto</th>\n",
       "      <th>areas</th>\n",
       "    </tr>\n",
       "  </thead>\n",
       "  <tbody>\n",
       "    <tr>\n",
       "      <th>0</th>\n",
       "      <td>297/2016-P</td>\n",
       "      <td>547240.txt</td>\n",
       "      <td>TRIBUNAL DE CONTAS DA UNIÃO\\tTC 010.084/2015-0...</td>\n",
       "      <td>Responsabilidade</td>\n",
       "    </tr>\n",
       "    <tr>\n",
       "      <th>1</th>\n",
       "      <td>366/2016-P</td>\n",
       "      <td>549518.txt</td>\n",
       "      <td>TRIBUNAL DE CONTAS DA UNIÃO\\tTC 005.933/2014-5...</td>\n",
       "      <td>Finanças Públicas</td>\n",
       "    </tr>\n",
       "    <tr>\n",
       "      <th>2</th>\n",
       "      <td>944/2016-P</td>\n",
       "      <td>554399.txt</td>\n",
       "      <td>TRIBUNAL DE CONTAS DA UNIÃO\\tTC 042.038/2012-0...</td>\n",
       "      <td>Responsabilidade</td>\n",
       "    </tr>\n",
       "    <tr>\n",
       "      <th>3</th>\n",
       "      <td>30/2016-P</td>\n",
       "      <td>545010.txt</td>\n",
       "      <td>TRIBUNAL DE CONTAS DA UNIÃO\\tTC 000.742/2014-7...</td>\n",
       "      <td>Direito Processual</td>\n",
       "    </tr>\n",
       "    <tr>\n",
       "      <th>4</th>\n",
       "      <td>55/2016-P</td>\n",
       "      <td>544046.txt</td>\n",
       "      <td>;-;;Wania Lucia Pasquarelli do NascimentoTCUWa...</td>\n",
       "      <td>Pessoal</td>\n",
       "    </tr>\n",
       "  </tbody>\n",
       "</table>\n",
       "</div>"
      ],
      "text/plain": [
       "      acordao     arquivo                                              texto  \\\n",
       "0  297/2016-P  547240.txt  TRIBUNAL DE CONTAS DA UNIÃO\\tTC 010.084/2015-0...   \n",
       "1  366/2016-P  549518.txt  TRIBUNAL DE CONTAS DA UNIÃO\\tTC 005.933/2014-5...   \n",
       "2  944/2016-P  554399.txt  TRIBUNAL DE CONTAS DA UNIÃO\\tTC 042.038/2012-0...   \n",
       "3   30/2016-P  545010.txt  TRIBUNAL DE CONTAS DA UNIÃO\\tTC 000.742/2014-7...   \n",
       "4   55/2016-P  544046.txt  ;-;;Wania Lucia Pasquarelli do NascimentoTCUWa...   \n",
       "\n",
       "                areas  \n",
       "0    Responsabilidade  \n",
       "1   Finanças Públicas  \n",
       "2    Responsabilidade  \n",
       "3  Direito Processual  \n",
       "4             Pessoal  "
      ]
     },
     "execution_count": 1,
     "metadata": {},
     "output_type": "execute_result"
    }
   ],
   "source": [
    "import pandas as pd\n",
    "\n",
    "df = pd.read_csv('../dados/acordaos-selecionada.csv', sep = '|')\n",
    "df.head()"
   ]
  },
  {
   "cell_type": "code",
   "execution_count": 2,
   "metadata": {},
   "outputs": [
    {
     "data": {
      "text/plain": [
       "(10524, 4)"
      ]
     },
     "execution_count": 2,
     "metadata": {},
     "output_type": "execute_result"
    }
   ],
   "source": [
    "df.shape"
   ]
  },
  {
   "cell_type": "code",
   "execution_count": 3,
   "metadata": {},
   "outputs": [
    {
     "data": {
      "text/plain": [
       "array(['Competência do TCU', 'Competência do TCU,Contrato Administrativo',\n",
       "       'Competência do TCU,Contrato Administrativo,Responsabilidade',\n",
       "       'Competência do TCU,Convênio',\n",
       "       'Competência do TCU,Convênio,Direito Processual,Licitação',\n",
       "       'Competência do TCU,Convênio,Gestão Administrativa',\n",
       "       'Competência do TCU,Convênio,Responsabilidade',\n",
       "       'Competência do TCU,Desestatização',\n",
       "       'Competência do TCU,Direito Processual',\n",
       "       'Competência do TCU,Direito Processual,Licitação',\n",
       "       'Competência do TCU,Direito Processual,Pessoal',\n",
       "       'Competência do TCU,Direito Processual,Responsabilidade',\n",
       "       'Competência do TCU,Finanças Públicas',\n",
       "       'Competência do TCU,Finanças Públicas,Licitação',\n",
       "       'Competência do TCU,Finanças Públicas,Responsabilidade',\n",
       "       'Competência do TCU,Gestão Administrativa',\n",
       "       'Competência do TCU,Licitação',\n",
       "       'Competência do TCU,Licitação,Pessoal',\n",
       "       'Competência do TCU,Licitação,Responsabilidade',\n",
       "       'Competência do TCU,Pessoal',\n",
       "       'Competência do TCU,Pessoal,Responsabilidade',\n",
       "       'Competência do TCU,Responsabilidade', 'Contrato Administrativo',\n",
       "       'Contrato Administrativo,Convênio',\n",
       "       'Contrato Administrativo,Convênio,Finanças Públicas',\n",
       "       'Contrato Administrativo,Convênio,Gestão Administrativa',\n",
       "       'Contrato Administrativo,Convênio,Licitação',\n",
       "       'Contrato Administrativo,Desestatização',\n",
       "       'Contrato Administrativo,Desestatização,Licitação',\n",
       "       'Contrato Administrativo,Direito Processual',\n",
       "       'Contrato Administrativo,Direito Processual,Gestão Administrativa',\n",
       "       'Contrato Administrativo,Direito Processual,Licitação',\n",
       "       'Contrato Administrativo,Direito Processual,Licitação,Responsabilidade',\n",
       "       'Contrato Administrativo,Direito Processual,Responsabilidade',\n",
       "       'Contrato Administrativo,Finanças Públicas',\n",
       "       'Contrato Administrativo,Finanças Públicas,Gestão Administrativa,Licitação',\n",
       "       'Contrato Administrativo,Finanças Públicas,Licitação',\n",
       "       'Contrato Administrativo,Finanças Públicas,Responsabilidade',\n",
       "       'Contrato Administrativo,Gestão Administrativa',\n",
       "       'Contrato Administrativo,Gestão Administrativa,Licitação',\n",
       "       'Contrato Administrativo,Licitação',\n",
       "       'Contrato Administrativo,Licitação,Pessoal',\n",
       "       'Contrato Administrativo,Licitação,Responsabilidade',\n",
       "       'Contrato Administrativo,Pessoal',\n",
       "       'Contrato Administrativo,Responsabilidade', 'Convênio',\n",
       "       'Convênio,Desestatização,Finanças Públicas,Licitação',\n",
       "       'Convênio,Direito Processual', 'Convênio,Finanças Públicas',\n",
       "       'Convênio,Finanças Públicas,Licitação,Pessoal',\n",
       "       'Convênio,Gestão Administrativa',\n",
       "       'Convênio,Gestão Administrativa,Licitação',\n",
       "       'Convênio,Gestão Administrativa,Pessoal',\n",
       "       'Convênio,Gestão Administrativa,Responsabilidade',\n",
       "       'Convênio,Licitação', 'Convênio,Pessoal',\n",
       "       'Convênio,Responsabilidade', 'Desestatização',\n",
       "       'Desestatização,Direito Processual',\n",
       "       'Desestatização,Finanças Públicas',\n",
       "       'Desestatização,Gestão Administrativa',\n",
       "       'Desestatização,Gestão Administrativa,Pessoal',\n",
       "       'Desestatização,Licitação',\n",
       "       'Desestatização,Licitação,Responsabilidade', 'Direito Processual',\n",
       "       'Direito Processual,Finanças Públicas',\n",
       "       'Direito Processual,Gestão Administrativa,Responsabilidade',\n",
       "       'Direito Processual,Licitação',\n",
       "       'Direito Processual,Licitação,Responsabilidade',\n",
       "       'Direito Processual,Pessoal',\n",
       "       'Direito Processual,Responsabilidade', 'Finanças Públicas',\n",
       "       'Finanças Públicas,Gestão Administrativa',\n",
       "       'Finanças Públicas,Gestão Administrativa,Licitação',\n",
       "       'Finanças Públicas,Gestão Administrativa,Pessoal',\n",
       "       'Finanças Públicas,Licitação',\n",
       "       'Finanças Públicas,Licitação,Pessoal', 'Finanças Públicas,Pessoal',\n",
       "       'Finanças Públicas,Responsabilidade', 'Gestão Administrativa',\n",
       "       'Gestão Administrativa,Licitação',\n",
       "       'Gestão Administrativa,Licitação,Pessoal,Responsabilidade',\n",
       "       'Gestão Administrativa,Pessoal',\n",
       "       'Gestão Administrativa,Responsabilidade', 'Licitação',\n",
       "       'Licitação,Pessoal', 'Licitação,Pessoal,Responsabilidade',\n",
       "       'Licitação,Responsabilidade', 'Pessoal',\n",
       "       'Pessoal,Responsabilidade', 'Responsabilidade'], dtype='<U73')"
      ]
     },
     "execution_count": 3,
     "metadata": {},
     "output_type": "execute_result"
    }
   ],
   "source": [
    "from sklearn.preprocessing import LabelBinarizer\n",
    "\n",
    "areas = df.groupby(['areas']).groups.keys()\n",
    "lbArea = LabelBinarizer()\n",
    "lbArea.fit([x for x in areas])\n",
    "lbArea.classes_"
   ]
  },
  {
   "cell_type": "code",
   "execution_count": 4,
   "metadata": {},
   "outputs": [
    {
     "data": {
      "text/plain": [
       "(10524, 91)"
      ]
     },
     "execution_count": 4,
     "metadata": {},
     "output_type": "execute_result"
    }
   ],
   "source": [
    "y = lbArea.transform(df['areas'])\n",
    "y.shape"
   ]
  },
  {
   "cell_type": "code",
   "execution_count": 5,
   "metadata": {},
   "outputs": [
    {
     "name": "stderr",
     "output_type": "stream",
     "text": [
      "Using TensorFlow backend.\n"
     ]
    },
    {
     "name": "stdout",
     "output_type": "stream",
     "text": [
      "Found 344296 unique tokens.\n"
     ]
    }
   ],
   "source": [
    "from keras.preprocessing.text import Tokenizer\n",
    "import numpy as np\n",
    "\n",
    "vocabulario = 350000\n",
    "limite_texto = 40000\n",
    "dim_vetor = 50\n",
    "\n",
    "tokenizer = Tokenizer(num_words=vocabulario)\n",
    "tokenizer.fit_on_texts(df['texto'])\n",
    "\n",
    "sequences = tokenizer.texts_to_sequences(df['texto'])\n",
    "\n",
    "word_index = tokenizer.word_index\n",
    "print('Found %s unique tokens.' % len(word_index))"
   ]
  },
  {
   "cell_type": "code",
   "execution_count": 6,
   "metadata": {},
   "outputs": [
    {
     "name": "stdout",
     "output_type": "stream",
     "text": [
      "Shape of data tensor: (10524, 40000)\n"
     ]
    }
   ],
   "source": [
    "from keras.preprocessing.sequence import pad_sequences\n",
    "\n",
    "x = pad_sequences(sequences, maxlen=limite_texto)\n",
    "\n",
    "print('Shape of data tensor:', x.shape)"
   ]
  },
  {
   "cell_type": "code",
   "execution_count": 7,
   "metadata": {},
   "outputs": [
    {
     "data": {
      "text/plain": [
       "((10524, 40000), (10524, 91))"
      ]
     },
     "execution_count": 7,
     "metadata": {},
     "output_type": "execute_result"
    }
   ],
   "source": [
    "x.shape, y.shape"
   ]
  },
  {
   "cell_type": "code",
   "execution_count": 8,
   "metadata": {
    "scrolled": false
   },
   "outputs": [
    {
     "name": "stderr",
     "output_type": "stream",
     "text": [
      "WARNING: Logging before flag parsing goes to stderr.\n",
      "W0310 00:25:27.528059 139890799159104 deprecation_wrapper.py:119] From /home/leonardo/anaconda3/envs/gpu/lib/python3.7/site-packages/keras/backend/tensorflow_backend.py:74: The name tf.get_default_graph is deprecated. Please use tf.compat.v1.get_default_graph instead.\n",
      "\n",
      "W0310 00:25:27.544618 139890799159104 deprecation_wrapper.py:119] From /home/leonardo/anaconda3/envs/gpu/lib/python3.7/site-packages/keras/backend/tensorflow_backend.py:517: The name tf.placeholder is deprecated. Please use tf.compat.v1.placeholder instead.\n",
      "\n",
      "W0310 00:25:27.558851 139890799159104 deprecation_wrapper.py:119] From /home/leonardo/anaconda3/envs/gpu/lib/python3.7/site-packages/keras/backend/tensorflow_backend.py:4138: The name tf.random_uniform is deprecated. Please use tf.random.uniform instead.\n",
      "\n",
      "W0310 00:25:27.592953 139890799159104 deprecation_wrapper.py:119] From /home/leonardo/anaconda3/envs/gpu/lib/python3.7/site-packages/keras/backend/tensorflow_backend.py:133: The name tf.placeholder_with_default is deprecated. Please use tf.compat.v1.placeholder_with_default instead.\n",
      "\n",
      "W0310 00:25:27.811107 139890799159104 deprecation.py:506] From /home/leonardo/anaconda3/envs/gpu/lib/python3.7/site-packages/keras/backend/tensorflow_backend.py:3445: calling dropout (from tensorflow.python.ops.nn_ops) with keep_prob is deprecated and will be removed in a future version.\n",
      "Instructions for updating:\n",
      "Please use `rate` instead of `keep_prob`. Rate should be set to `rate = 1 - keep_prob`.\n",
      "W0310 00:25:27.898295 139890799159104 deprecation_wrapper.py:119] From /home/leonardo/anaconda3/envs/gpu/lib/python3.7/site-packages/keras/optimizers.py:790: The name tf.train.Optimizer is deprecated. Please use tf.compat.v1.train.Optimizer instead.\n",
      "\n",
      "W0310 00:25:27.910321 139890799159104 deprecation_wrapper.py:119] From /home/leonardo/anaconda3/envs/gpu/lib/python3.7/site-packages/keras/backend/tensorflow_backend.py:3295: The name tf.log is deprecated. Please use tf.math.log instead.\n",
      "\n"
     ]
    },
    {
     "name": "stdout",
     "output_type": "stream",
     "text": [
      "_________________________________________________________________\n",
      "Layer (type)                 Output Shape              Param #   \n",
      "=================================================================\n",
      "embedding_1 (Embedding)      (None, 40000, 50)         17500000  \n",
      "_________________________________________________________________\n",
      "flatten_1 (Flatten)          (None, 2000000)           0         \n",
      "_________________________________________________________________\n",
      "dense_1 (Dense)              (None, 64)                128000064 \n",
      "_________________________________________________________________\n",
      "dropout_1 (Dropout)          (None, 64)                0         \n",
      "_________________________________________________________________\n",
      "dense_2 (Dense)              (None, 256)               16640     \n",
      "_________________________________________________________________\n",
      "dropout_2 (Dropout)          (None, 256)               0         \n",
      "_________________________________________________________________\n",
      "dense_3 (Dense)              (None, 1024)              263168    \n",
      "_________________________________________________________________\n",
      "dropout_3 (Dropout)          (None, 1024)              0         \n",
      "_________________________________________________________________\n",
      "dense_4 (Dense)              (None, 128)               131200    \n",
      "_________________________________________________________________\n",
      "dropout_4 (Dropout)          (None, 128)               0         \n",
      "_________________________________________________________________\n",
      "dense_5 (Dense)              (None, 91)                11739     \n",
      "=================================================================\n",
      "Total params: 145,922,811\n",
      "Trainable params: 145,922,811\n",
      "Non-trainable params: 0\n",
      "_________________________________________________________________\n"
     ]
    },
    {
     "name": "stderr",
     "output_type": "stream",
     "text": [
      "W0310 00:25:28.603802 139890799159104 deprecation.py:323] From /home/leonardo/anaconda3/envs/gpu/lib/python3.7/site-packages/tensorflow/python/ops/math_grad.py:1250: add_dispatch_support.<locals>.wrapper (from tensorflow.python.ops.array_ops) is deprecated and will be removed in a future version.\n",
      "Instructions for updating:\n",
      "Use tf.where in 2.0, which has the same broadcast rule as np.where\n"
     ]
    },
    {
     "name": "stdout",
     "output_type": "stream",
     "text": [
      "Train on 8419 samples, validate on 2105 samples\n",
      "Epoch 1/20\n",
      "8419/8419 [==============================] - 59s 7ms/step - loss: 2.6906 - categorical_accuracy: 0.2581 - val_loss: 2.2949 - val_categorical_accuracy: 0.1829\n",
      "Epoch 2/20\n",
      "8419/8419 [==============================] - 54s 6ms/step - loss: 2.3633 - categorical_accuracy: 0.2771 - val_loss: 2.2953 - val_categorical_accuracy: 0.1767\n",
      "Epoch 3/20\n",
      "8419/8419 [==============================] - 55s 6ms/step - loss: 2.3314 - categorical_accuracy: 0.2841 - val_loss: 2.2899 - val_categorical_accuracy: 0.1767\n",
      "Epoch 4/20\n",
      "8419/8419 [==============================] - 55s 6ms/step - loss: 2.3235 - categorical_accuracy: 0.2885 - val_loss: 2.2758 - val_categorical_accuracy: 0.1767\n",
      "Epoch 5/20\n",
      "8419/8419 [==============================] - 55s 6ms/step - loss: 2.3145 - categorical_accuracy: 0.2908 - val_loss: 2.2795 - val_categorical_accuracy: 0.1767\n",
      "Epoch 6/20\n",
      "8419/8419 [==============================] - 55s 6ms/step - loss: 2.3137 - categorical_accuracy: 0.2905 - val_loss: 2.2958 - val_categorical_accuracy: 0.1767\n",
      "Epoch 7/20\n",
      "8419/8419 [==============================] - 55s 6ms/step - loss: 2.3091 - categorical_accuracy: 0.2909 - val_loss: 2.2879 - val_categorical_accuracy: 0.1767\n",
      "Epoch 8/20\n",
      "8419/8419 [==============================] - 55s 6ms/step - loss: 2.3098 - categorical_accuracy: 0.2917 - val_loss: 2.2723 - val_categorical_accuracy: 0.1767\n",
      "Epoch 9/20\n",
      "8419/8419 [==============================] - 55s 6ms/step - loss: 2.3014 - categorical_accuracy: 0.2910 - val_loss: 2.6823 - val_categorical_accuracy: 0.1021\n",
      "Epoch 10/20\n",
      "8419/8419 [==============================] - 55s 6ms/step - loss: 2.2988 - categorical_accuracy: 0.2921 - val_loss: 2.2591 - val_categorical_accuracy: 0.1767\n",
      "Epoch 11/20\n",
      "8419/8419 [==============================] - 55s 6ms/step - loss: 2.2993 - categorical_accuracy: 0.2927 - val_loss: 2.2800 - val_categorical_accuracy: 0.1767\n",
      "Epoch 12/20\n",
      "8419/8419 [==============================] - 55s 6ms/step - loss: 2.3001 - categorical_accuracy: 0.2927 - val_loss: 2.2681 - val_categorical_accuracy: 0.1767\n",
      "Epoch 13/20\n",
      "8419/8419 [==============================] - 55s 7ms/step - loss: 2.2981 - categorical_accuracy: 0.2933 - val_loss: 2.2667 - val_categorical_accuracy: 0.1767\n",
      "Epoch 14/20\n",
      "8419/8419 [==============================] - 54s 6ms/step - loss: 2.2882 - categorical_accuracy: 0.2930 - val_loss: 2.2724 - val_categorical_accuracy: 0.1767\n",
      "Epoch 15/20\n",
      "8419/8419 [==============================] - 54s 6ms/step - loss: 2.2808 - categorical_accuracy: 0.2941 - val_loss: 2.2444 - val_categorical_accuracy: 0.1767\n",
      "Epoch 16/20\n",
      "8419/8419 [==============================] - 54s 6ms/step - loss: 2.2911 - categorical_accuracy: 0.2943 - val_loss: 2.2561 - val_categorical_accuracy: 0.1767\n",
      "Epoch 17/20\n",
      "8419/8419 [==============================] - 54s 6ms/step - loss: 2.2801 - categorical_accuracy: 0.2942 - val_loss: 2.2685 - val_categorical_accuracy: 0.1767\n",
      "Epoch 18/20\n",
      "8419/8419 [==============================] - 54s 6ms/step - loss: 2.2872 - categorical_accuracy: 0.2955 - val_loss: 2.2277 - val_categorical_accuracy: 0.1829\n",
      "Epoch 19/20\n",
      "8419/8419 [==============================] - 54s 6ms/step - loss: 2.2659 - categorical_accuracy: 0.3154 - val_loss: 2.1641 - val_categorical_accuracy: 0.2390\n",
      "Epoch 20/20\n",
      "8419/8419 [==============================] - 54s 6ms/step - loss: 1.9684 - categorical_accuracy: 0.4660 - val_loss: 1.8195 - val_categorical_accuracy: 0.3739\n"
     ]
    }
   ],
   "source": [
    "from keras.models import Sequential\n",
    "from keras.layers import Flatten, Dense, Embedding\n",
    "from keras.layers.core import Dropout\n",
    "\n",
    "model = Sequential()\n",
    "model.add(Embedding(vocabulario, dim_vetor, input_length=x.shape[1]))\n",
    "model.add(Flatten())\n",
    "model.add(Dense(64, activation='relu'))\n",
    "model.add(Dropout(0.4))\n",
    "model.add(Dense(256, activation='relu'))\n",
    "model.add(Dropout(0.4))\n",
    "model.add(Dense(1024, activation='relu'))\n",
    "model.add(Dropout(0.4))\n",
    "model.add(Dense(128, activation='relu'))\n",
    "model.add(Dropout(0.4))\n",
    "model.add(Dense(y.shape[1], activation='softmax'))\n",
    "model.compile(loss='categorical_crossentropy', optimizer='adadelta',  metrics=[\"categorical_accuracy\"])\n",
    "model.summary()\n",
    "history = model.fit(x, y, epochs=20, batch_size=32, validation_split=0.2, verbose=1, shuffle=True)"
   ]
  },
  {
   "cell_type": "code",
   "execution_count": 9,
   "metadata": {},
   "outputs": [
    {
     "name": "stdout",
     "output_type": "stream",
     "text": [
      "Train on 8419 samples, validate on 2105 samples\n",
      "Epoch 1/20\n",
      "8419/8419 [==============================] - 55s 7ms/step - loss: 1.6438 - categorical_accuracy: 0.5586 - val_loss: 1.9172 - val_categorical_accuracy: 0.3610\n",
      "Epoch 2/20\n",
      "8419/8419 [==============================] - 55s 7ms/step - loss: 1.4190 - categorical_accuracy: 0.5951 - val_loss: 1.7464 - val_categorical_accuracy: 0.4024\n",
      "Epoch 3/20\n",
      "8419/8419 [==============================] - 55s 7ms/step - loss: 1.2579 - categorical_accuracy: 0.6375 - val_loss: 1.9498 - val_categorical_accuracy: 0.4223\n",
      "Epoch 4/20\n",
      "8419/8419 [==============================] - 55s 7ms/step - loss: 1.1042 - categorical_accuracy: 0.6763 - val_loss: 2.1124 - val_categorical_accuracy: 0.4561\n",
      "Epoch 5/20\n",
      "8419/8419 [==============================] - 55s 7ms/step - loss: 1.0086 - categorical_accuracy: 0.7263 - val_loss: 1.9187 - val_categorical_accuracy: 0.4926\n",
      "Epoch 6/20\n",
      "8419/8419 [==============================] - 55s 7ms/step - loss: 0.9022 - categorical_accuracy: 0.7654 - val_loss: 1.8704 - val_categorical_accuracy: 0.5677\n",
      "Epoch 7/20\n",
      "8419/8419 [==============================] - 55s 7ms/step - loss: 0.8149 - categorical_accuracy: 0.8008 - val_loss: 2.2099 - val_categorical_accuracy: 0.5639\n",
      "Epoch 8/20\n",
      "8419/8419 [==============================] - 55s 7ms/step - loss: 0.7530 - categorical_accuracy: 0.8152 - val_loss: 2.1626 - val_categorical_accuracy: 0.5297\n",
      "Epoch 9/20\n",
      "8419/8419 [==============================] - 55s 7ms/step - loss: 0.6925 - categorical_accuracy: 0.8249 - val_loss: 2.4976 - val_categorical_accuracy: 0.5558\n",
      "Epoch 10/20\n",
      "8419/8419 [==============================] - 55s 7ms/step - loss: 0.6471 - categorical_accuracy: 0.8402 - val_loss: 2.7724 - val_categorical_accuracy: 0.5321\n",
      "Epoch 11/20\n",
      "8419/8419 [==============================] - 55s 7ms/step - loss: 0.6159 - categorical_accuracy: 0.8502 - val_loss: 2.4836 - val_categorical_accuracy: 0.5430\n",
      "Epoch 12/20\n",
      "8419/8419 [==============================] - 55s 7ms/step - loss: 0.5780 - categorical_accuracy: 0.8583 - val_loss: 2.9434 - val_categorical_accuracy: 0.5430\n",
      "Epoch 13/20\n",
      "8419/8419 [==============================] - 57s 7ms/step - loss: 0.5724 - categorical_accuracy: 0.8660 - val_loss: 2.8176 - val_categorical_accuracy: 0.5596\n",
      "Epoch 14/20\n",
      "8419/8419 [==============================] - 57s 7ms/step - loss: 0.5357 - categorical_accuracy: 0.8735 - val_loss: 2.7005 - val_categorical_accuracy: 0.5192\n",
      "Epoch 15/20\n",
      "8419/8419 [==============================] - 57s 7ms/step - loss: 0.5258 - categorical_accuracy: 0.8735 - val_loss: 2.8327 - val_categorical_accuracy: 0.5610\n",
      "Epoch 16/20\n",
      "8419/8419 [==============================] - 57s 7ms/step - loss: 0.5082 - categorical_accuracy: 0.8802 - val_loss: 3.1356 - val_categorical_accuracy: 0.5995\n",
      "Epoch 17/20\n",
      "8419/8419 [==============================] - 57s 7ms/step - loss: 0.4889 - categorical_accuracy: 0.8879 - val_loss: 4.1890 - val_categorical_accuracy: 0.4475\n",
      "Epoch 18/20\n",
      "8419/8419 [==============================] - 57s 7ms/step - loss: 0.4797 - categorical_accuracy: 0.8894 - val_loss: 2.8109 - val_categorical_accuracy: 0.5202\n",
      "Epoch 19/20\n",
      "8419/8419 [==============================] - 57s 7ms/step - loss: 0.4627 - categorical_accuracy: 0.8969 - val_loss: 2.8823 - val_categorical_accuracy: 0.5401\n",
      "Epoch 20/20\n",
      "8419/8419 [==============================] - 57s 7ms/step - loss: 0.4674 - categorical_accuracy: 0.8913 - val_loss: 2.6567 - val_categorical_accuracy: 0.5596\n"
     ]
    }
   ],
   "source": [
    "history = model.fit(x, y, epochs=20, batch_size=32, validation_split=0.2, verbose=1, shuffle=True)"
   ]
  },
  {
   "cell_type": "code",
   "execution_count": 10,
   "metadata": {},
   "outputs": [
    {
     "name": "stdout",
     "output_type": "stream",
     "text": [
      "Train on 8419 samples, validate on 2105 samples\n",
      "Epoch 1/10\n",
      "8419/8419 [==============================] - 55s 7ms/step - loss: 0.4358 - categorical_accuracy: 0.8995 - val_loss: 2.5185 - val_categorical_accuracy: 0.5121\n",
      "Epoch 2/10\n",
      "8419/8419 [==============================] - 55s 7ms/step - loss: 0.4336 - categorical_accuracy: 0.9031 - val_loss: 2.9748 - val_categorical_accuracy: 0.5824\n",
      "Epoch 3/10\n",
      "8419/8419 [==============================] - 55s 7ms/step - loss: 0.4407 - categorical_accuracy: 0.9014 - val_loss: 2.6044 - val_categorical_accuracy: 0.5354\n",
      "Epoch 4/10\n",
      "8419/8419 [==============================] - 55s 7ms/step - loss: 0.4286 - categorical_accuracy: 0.9060 - val_loss: 3.2369 - val_categorical_accuracy: 0.4641\n",
      "Epoch 5/10\n",
      "8419/8419 [==============================] - 55s 7ms/step - loss: 0.4371 - categorical_accuracy: 0.9039 - val_loss: 3.5587 - val_categorical_accuracy: 0.5401\n",
      "Epoch 6/10\n",
      "8419/8419 [==============================] - 55s 7ms/step - loss: 0.3949 - categorical_accuracy: 0.9113 - val_loss: 3.2188 - val_categorical_accuracy: 0.5686\n",
      "Epoch 7/10\n",
      "8419/8419 [==============================] - 55s 7ms/step - loss: 0.4190 - categorical_accuracy: 0.9079 - val_loss: 3.2787 - val_categorical_accuracy: 0.5686\n",
      "Epoch 8/10\n",
      "8419/8419 [==============================] - 55s 7ms/step - loss: 0.4115 - categorical_accuracy: 0.9128 - val_loss: 3.0007 - val_categorical_accuracy: 0.5354\n",
      "Epoch 9/10\n",
      "8419/8419 [==============================] - 55s 7ms/step - loss: 0.3926 - categorical_accuracy: 0.9139 - val_loss: 2.8711 - val_categorical_accuracy: 0.5644\n",
      "Epoch 10/10\n",
      "8419/8419 [==============================] - 55s 7ms/step - loss: 0.4066 - categorical_accuracy: 0.9150 - val_loss: 2.7320 - val_categorical_accuracy: 0.5606\n"
     ]
    }
   ],
   "source": [
    "history = model.fit(x, y, epochs=10, batch_size=32, validation_split=0.2, verbose=1, shuffle=True)"
   ]
  },
  {
   "cell_type": "code",
   "execution_count": null,
   "metadata": {},
   "outputs": [],
   "source": []
  }
 ],
 "metadata": {
  "kernelspec": {
   "display_name": "Python 3",
   "language": "python",
   "name": "python3"
  },
  "language_info": {
   "codemirror_mode": {
    "name": "ipython",
    "version": 3
   },
   "file_extension": ".py",
   "mimetype": "text/x-python",
   "name": "python",
   "nbconvert_exporter": "python",
   "pygments_lexer": "ipython3",
   "version": "3.7.4"
  }
 },
 "nbformat": 4,
 "nbformat_minor": 2
}
