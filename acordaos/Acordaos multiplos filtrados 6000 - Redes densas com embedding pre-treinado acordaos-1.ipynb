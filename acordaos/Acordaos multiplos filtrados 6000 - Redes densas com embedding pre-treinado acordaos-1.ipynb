{
 "cells": [
  {
   "cell_type": "code",
   "execution_count": 1,
   "metadata": {},
   "outputs": [
    {
     "data": {
      "text/html": [
       "<div>\n",
       "<style scoped>\n",
       "    .dataframe tbody tr th:only-of-type {\n",
       "        vertical-align: middle;\n",
       "    }\n",
       "\n",
       "    .dataframe tbody tr th {\n",
       "        vertical-align: top;\n",
       "    }\n",
       "\n",
       "    .dataframe thead th {\n",
       "        text-align: right;\n",
       "    }\n",
       "</style>\n",
       "<table border=\"1\" class=\"dataframe\">\n",
       "  <thead>\n",
       "    <tr style=\"text-align: right;\">\n",
       "      <th></th>\n",
       "      <th>acordao</th>\n",
       "      <th>areas</th>\n",
       "      <th>filtrado_6000</th>\n",
       "    </tr>\n",
       "  </thead>\n",
       "  <tbody>\n",
       "    <tr>\n",
       "      <th>0</th>\n",
       "      <td>297/2016-P</td>\n",
       "      <td>Responsabilidade</td>\n",
       "      <td>tribunal conta união tc grupo classe plenário ...</td>\n",
       "    </tr>\n",
       "    <tr>\n",
       "      <th>1</th>\n",
       "      <td>366/2016-P</td>\n",
       "      <td>Finanças Públicas</td>\n",
       "      <td>tribunal conta união tc grupo classe ii plenár...</td>\n",
       "    </tr>\n",
       "    <tr>\n",
       "      <th>2</th>\n",
       "      <td>944/2016-P</td>\n",
       "      <td>Responsabilidade</td>\n",
       "      <td>tribunal conta união tc grupo classe plenário ...</td>\n",
       "    </tr>\n",
       "    <tr>\n",
       "      <th>3</th>\n",
       "      <td>30/2016-P</td>\n",
       "      <td>Direito Processual</td>\n",
       "      <td>tribunal conta união tc grupo classe plenário ...</td>\n",
       "    </tr>\n",
       "    <tr>\n",
       "      <th>4</th>\n",
       "      <td>55/2016-P</td>\n",
       "      <td>Pessoal</td>\n",
       "      <td>wania lucia pasquarelli nascimentotcuwania luc...</td>\n",
       "    </tr>\n",
       "  </tbody>\n",
       "</table>\n",
       "</div>"
      ],
      "text/plain": [
       "      acordao               areas  \\\n",
       "0  297/2016-P    Responsabilidade   \n",
       "1  366/2016-P   Finanças Públicas   \n",
       "2  944/2016-P    Responsabilidade   \n",
       "3   30/2016-P  Direito Processual   \n",
       "4   55/2016-P             Pessoal   \n",
       "\n",
       "                                       filtrado_6000  \n",
       "0  tribunal conta união tc grupo classe plenário ...  \n",
       "1  tribunal conta união tc grupo classe ii plenár...  \n",
       "2  tribunal conta união tc grupo classe plenário ...  \n",
       "3  tribunal conta união tc grupo classe plenário ...  \n",
       "4  wania lucia pasquarelli nascimentotcuwania luc...  "
      ]
     },
     "execution_count": 1,
     "metadata": {},
     "output_type": "execute_result"
    }
   ],
   "source": [
    "import pandas as pd\n",
    "\n",
    "df = pd.read_csv('../dados/acordaos-selecionada-filtrados-6000.csv', sep = '|')\n",
    "df['filtrado_6000']=df['filtrado_6000'].astype(str)\n",
    "df.head()"
   ]
  },
  {
   "cell_type": "code",
   "execution_count": 2,
   "metadata": {},
   "outputs": [
    {
     "data": {
      "text/plain": [
       "(10524, 3)"
      ]
     },
     "execution_count": 2,
     "metadata": {},
     "output_type": "execute_result"
    }
   ],
   "source": [
    "df.shape"
   ]
  },
  {
   "cell_type": "code",
   "execution_count": 3,
   "metadata": {},
   "outputs": [
    {
     "data": {
      "text/plain": [
       "array(['Competência do TCU', 'Competência do TCU,Contrato Administrativo',\n",
       "       'Competência do TCU,Contrato Administrativo,Responsabilidade',\n",
       "       'Competência do TCU,Convênio',\n",
       "       'Competência do TCU,Convênio,Direito Processual,Licitação',\n",
       "       'Competência do TCU,Convênio,Gestão Administrativa',\n",
       "       'Competência do TCU,Convênio,Responsabilidade',\n",
       "       'Competência do TCU,Desestatização',\n",
       "       'Competência do TCU,Direito Processual',\n",
       "       'Competência do TCU,Direito Processual,Licitação',\n",
       "       'Competência do TCU,Direito Processual,Pessoal',\n",
       "       'Competência do TCU,Direito Processual,Responsabilidade',\n",
       "       'Competência do TCU,Finanças Públicas',\n",
       "       'Competência do TCU,Finanças Públicas,Licitação',\n",
       "       'Competência do TCU,Finanças Públicas,Responsabilidade',\n",
       "       'Competência do TCU,Gestão Administrativa',\n",
       "       'Competência do TCU,Licitação',\n",
       "       'Competência do TCU,Licitação,Pessoal',\n",
       "       'Competência do TCU,Licitação,Responsabilidade',\n",
       "       'Competência do TCU,Pessoal',\n",
       "       'Competência do TCU,Pessoal,Responsabilidade',\n",
       "       'Competência do TCU,Responsabilidade', 'Contrato Administrativo',\n",
       "       'Contrato Administrativo,Convênio',\n",
       "       'Contrato Administrativo,Convênio,Finanças Públicas',\n",
       "       'Contrato Administrativo,Convênio,Gestão Administrativa',\n",
       "       'Contrato Administrativo,Convênio,Licitação',\n",
       "       'Contrato Administrativo,Desestatização',\n",
       "       'Contrato Administrativo,Desestatização,Licitação',\n",
       "       'Contrato Administrativo,Direito Processual',\n",
       "       'Contrato Administrativo,Direito Processual,Gestão Administrativa',\n",
       "       'Contrato Administrativo,Direito Processual,Licitação',\n",
       "       'Contrato Administrativo,Direito Processual,Licitação,Responsabilidade',\n",
       "       'Contrato Administrativo,Direito Processual,Responsabilidade',\n",
       "       'Contrato Administrativo,Finanças Públicas',\n",
       "       'Contrato Administrativo,Finanças Públicas,Gestão Administrativa,Licitação',\n",
       "       'Contrato Administrativo,Finanças Públicas,Licitação',\n",
       "       'Contrato Administrativo,Finanças Públicas,Responsabilidade',\n",
       "       'Contrato Administrativo,Gestão Administrativa',\n",
       "       'Contrato Administrativo,Gestão Administrativa,Licitação',\n",
       "       'Contrato Administrativo,Licitação',\n",
       "       'Contrato Administrativo,Licitação,Pessoal',\n",
       "       'Contrato Administrativo,Licitação,Responsabilidade',\n",
       "       'Contrato Administrativo,Pessoal',\n",
       "       'Contrato Administrativo,Responsabilidade', 'Convênio',\n",
       "       'Convênio,Desestatização,Finanças Públicas,Licitação',\n",
       "       'Convênio,Direito Processual', 'Convênio,Finanças Públicas',\n",
       "       'Convênio,Finanças Públicas,Licitação,Pessoal',\n",
       "       'Convênio,Gestão Administrativa',\n",
       "       'Convênio,Gestão Administrativa,Licitação',\n",
       "       'Convênio,Gestão Administrativa,Pessoal',\n",
       "       'Convênio,Gestão Administrativa,Responsabilidade',\n",
       "       'Convênio,Licitação', 'Convênio,Pessoal',\n",
       "       'Convênio,Responsabilidade', 'Desestatização',\n",
       "       'Desestatização,Direito Processual',\n",
       "       'Desestatização,Finanças Públicas',\n",
       "       'Desestatização,Gestão Administrativa',\n",
       "       'Desestatização,Gestão Administrativa,Pessoal',\n",
       "       'Desestatização,Licitação',\n",
       "       'Desestatização,Licitação,Responsabilidade', 'Direito Processual',\n",
       "       'Direito Processual,Finanças Públicas',\n",
       "       'Direito Processual,Gestão Administrativa,Responsabilidade',\n",
       "       'Direito Processual,Licitação',\n",
       "       'Direito Processual,Licitação,Responsabilidade',\n",
       "       'Direito Processual,Pessoal',\n",
       "       'Direito Processual,Responsabilidade', 'Finanças Públicas',\n",
       "       'Finanças Públicas,Gestão Administrativa',\n",
       "       'Finanças Públicas,Gestão Administrativa,Licitação',\n",
       "       'Finanças Públicas,Gestão Administrativa,Pessoal',\n",
       "       'Finanças Públicas,Licitação',\n",
       "       'Finanças Públicas,Licitação,Pessoal', 'Finanças Públicas,Pessoal',\n",
       "       'Finanças Públicas,Responsabilidade', 'Gestão Administrativa',\n",
       "       'Gestão Administrativa,Licitação',\n",
       "       'Gestão Administrativa,Licitação,Pessoal,Responsabilidade',\n",
       "       'Gestão Administrativa,Pessoal',\n",
       "       'Gestão Administrativa,Responsabilidade', 'Licitação',\n",
       "       'Licitação,Pessoal', 'Licitação,Pessoal,Responsabilidade',\n",
       "       'Licitação,Responsabilidade', 'Pessoal',\n",
       "       'Pessoal,Responsabilidade', 'Responsabilidade'], dtype='<U73')"
      ]
     },
     "execution_count": 3,
     "metadata": {},
     "output_type": "execute_result"
    }
   ],
   "source": [
    "from sklearn.preprocessing import LabelBinarizer\n",
    "\n",
    "areas = df.groupby(['areas']).groups.keys()\n",
    "lbArea = LabelBinarizer()\n",
    "lbArea.fit([x for x in areas])\n",
    "lbArea.classes_"
   ]
  },
  {
   "cell_type": "code",
   "execution_count": 4,
   "metadata": {},
   "outputs": [
    {
     "data": {
      "text/plain": [
       "(10524, 91)"
      ]
     },
     "execution_count": 4,
     "metadata": {},
     "output_type": "execute_result"
    }
   ],
   "source": [
    "y = lbArea.transform(df['areas'])\n",
    "y.shape"
   ]
  },
  {
   "cell_type": "code",
   "execution_count": 5,
   "metadata": {},
   "outputs": [
    {
     "name": "stderr",
     "output_type": "stream",
     "text": [
      "Using TensorFlow backend.\n"
     ]
    },
    {
     "name": "stdout",
     "output_type": "stream",
     "text": [
      "Found 102108 unique tokens.\n"
     ]
    }
   ],
   "source": [
    "from keras.preprocessing.text import Tokenizer\n",
    "import numpy as np\n",
    "\n",
    "vocabulario = 105000\n",
    "limite_texto = 6000\n",
    "dim_vetor = 100\n",
    "\n",
    "tokenizer = Tokenizer(num_words=vocabulario)\n",
    "tokenizer.fit_on_texts(df['filtrado_6000'])\n",
    "\n",
    "sequences = tokenizer.texts_to_sequences(df['filtrado_6000'])\n",
    "\n",
    "word_index = tokenizer.word_index\n",
    "print('Found %s unique tokens.' % len(word_index))"
   ]
  },
  {
   "cell_type": "code",
   "execution_count": 6,
   "metadata": {},
   "outputs": [
    {
     "name": "stdout",
     "output_type": "stream",
     "text": [
      "Shape of data tensor: (10524, 6000)\n"
     ]
    }
   ],
   "source": [
    "from keras.preprocessing.sequence import pad_sequences\n",
    "\n",
    "x = pad_sequences(sequences, maxlen=limite_texto)\n",
    "\n",
    "print('Shape of data tensor:', x.shape)"
   ]
  },
  {
   "cell_type": "code",
   "execution_count": 7,
   "metadata": {},
   "outputs": [
    {
     "name": "stderr",
     "output_type": "stream",
     "text": [
      "/home/leonardo/anaconda3/envs/gpu/lib/python3.7/site-packages/smart_open/smart_open_lib.py:398: UserWarning: This function is deprecated, use smart_open.open instead. See the migration notes for details: https://github.com/RaRe-Technologies/smart_open/blob/master/README.rst#migrating-to-the-new-open-function\n",
      "  'See the migration notes for details: %s' % _MIGRATION_NOTES_URL\n"
     ]
    }
   ],
   "source": [
    "from gensim.models import Word2Vec\n",
    "\n",
    "model = Word2Vec.load('../vocabularios/modelo-acordaos.w2v')"
   ]
  },
  {
   "cell_type": "code",
   "execution_count": 8,
   "metadata": {},
   "outputs": [
    {
     "name": "stderr",
     "output_type": "stream",
     "text": [
      "/home/leonardo/anaconda3/envs/gpu/lib/python3.7/site-packages/ipykernel_launcher.py:7: DeprecationWarning: Call to deprecated `__contains__` (Method will be removed in 4.0.0, use self.wv.__contains__() instead).\n",
      "  import sys\n",
      "/home/leonardo/anaconda3/envs/gpu/lib/python3.7/site-packages/ipykernel_launcher.py:8: DeprecationWarning: Call to deprecated `__getitem__` (Method will be removed in 4.0.0, use self.wv.__getitem__() instead).\n",
      "  \n"
     ]
    },
    {
     "name": "stdout",
     "output_type": "stream",
     "text": [
      "Vocabulario: 102108\n",
      "Encontrados no modelo: 49463 = 48.441845888666904\n"
     ]
    }
   ],
   "source": [
    "# create a weight matrix for words in training docs\n",
    "\n",
    "embedding_matrix = np.zeros((vocabulario, dim_vetor))\n",
    "\n",
    "ok = 0\n",
    "for word, i in tokenizer.word_index.items():\n",
    "    if word in model:\n",
    "        embedding_matrix[i] = model[word]\n",
    "        ok += 1\n",
    "print('Vocabulario:', i)\n",
    "print('Encontrados no modelo:', ok, '=', ok * 100. / i)"
   ]
  },
  {
   "cell_type": "code",
   "execution_count": 9,
   "metadata": {},
   "outputs": [
    {
     "name": "stderr",
     "output_type": "stream",
     "text": [
      "WARNING: Logging before flag parsing goes to stderr.\n",
      "W0318 21:11:35.650481 140567086597952 deprecation_wrapper.py:119] From /home/leonardo/anaconda3/envs/gpu/lib/python3.7/site-packages/keras/backend/tensorflow_backend.py:74: The name tf.get_default_graph is deprecated. Please use tf.compat.v1.get_default_graph instead.\n",
      "\n"
     ]
    }
   ],
   "source": [
    "from keras.layers import Embedding\n",
    "\n",
    "embedding = Embedding(vocabulario, dim_vetor, weights=[embedding_matrix], input_length=limite_texto, trainable=False)"
   ]
  },
  {
   "cell_type": "code",
   "execution_count": 10,
   "metadata": {
    "scrolled": true
   },
   "outputs": [
    {
     "data": {
      "text/plain": [
       "((10524, 6000), (10524, 91))"
      ]
     },
     "execution_count": 10,
     "metadata": {},
     "output_type": "execute_result"
    }
   ],
   "source": [
    "x.shape, y.shape"
   ]
  },
  {
   "cell_type": "markdown",
   "metadata": {},
   "source": [
    "# Treinamento\n",
    "\n",
    "## Embedding com pesos fixos"
   ]
  },
  {
   "cell_type": "code",
   "execution_count": 12,
   "metadata": {
    "scrolled": false
   },
   "outputs": [
    {
     "name": "stdout",
     "output_type": "stream",
     "text": [
      "_________________________________________________________________\n",
      "Layer (type)                 Output Shape              Param #   \n",
      "=================================================================\n",
      "embedding_1 (Embedding)      (None, 6000, 100)         10500000  \n",
      "_________________________________________________________________\n",
      "flatten_2 (Flatten)          (None, 600000)            0         \n",
      "_________________________________________________________________\n",
      "dense_4 (Dense)              (None, 64)                38400064  \n",
      "_________________________________________________________________\n",
      "dropout_3 (Dropout)          (None, 64)                0         \n",
      "_________________________________________________________________\n",
      "dense_5 (Dense)              (None, 128)               8320      \n",
      "_________________________________________________________________\n",
      "dropout_4 (Dropout)          (None, 128)               0         \n",
      "_________________________________________________________________\n",
      "dense_6 (Dense)              (None, 91)                11739     \n",
      "=================================================================\n",
      "Total params: 48,920,123\n",
      "Trainable params: 38,420,123\n",
      "Non-trainable params: 10,500,000\n",
      "_________________________________________________________________\n",
      "Train on 8419 samples, validate on 2105 samples\n",
      "Epoch 1/20\n",
      "8419/8419 [==============================] - 14s 2ms/step - loss: 3.4687 - categorical_accuracy: 0.2773 - val_loss: 2.1728 - val_categorical_accuracy: 0.2394\n",
      "Epoch 2/20\n",
      "8419/8419 [==============================] - 13s 2ms/step - loss: 2.3002 - categorical_accuracy: 0.3486 - val_loss: 2.0500 - val_categorical_accuracy: 0.2290\n",
      "Epoch 3/20\n",
      "8419/8419 [==============================] - 13s 2ms/step - loss: 2.1986 - categorical_accuracy: 0.3765 - val_loss: 2.0410 - val_categorical_accuracy: 0.2489\n",
      "Epoch 4/20\n",
      "8419/8419 [==============================] - 13s 2ms/step - loss: 2.1927 - categorical_accuracy: 0.3981 - val_loss: 1.9743 - val_categorical_accuracy: 0.2527\n",
      "Epoch 5/20\n",
      "8419/8419 [==============================] - 13s 2ms/step - loss: 2.1336 - categorical_accuracy: 0.4069 - val_loss: 2.0796 - val_categorical_accuracy: 0.2689\n",
      "Epoch 6/20\n",
      "8419/8419 [==============================] - 13s 2ms/step - loss: 2.1158 - categorical_accuracy: 0.4183 - val_loss: 1.9974 - val_categorical_accuracy: 0.2779\n",
      "Epoch 7/20\n",
      "8419/8419 [==============================] - 13s 2ms/step - loss: 2.1013 - categorical_accuracy: 0.4268 - val_loss: 1.9774 - val_categorical_accuracy: 0.2656\n",
      "Epoch 8/20\n",
      "8419/8419 [==============================] - 13s 2ms/step - loss: 2.0899 - categorical_accuracy: 0.4257 - val_loss: 1.9727 - val_categorical_accuracy: 0.2513\n",
      "Epoch 9/20\n",
      "8419/8419 [==============================] - 13s 2ms/step - loss: 2.0441 - categorical_accuracy: 0.4282 - val_loss: 2.0254 - val_categorical_accuracy: 0.2660\n",
      "Epoch 10/20\n",
      "8419/8419 [==============================] - 13s 2ms/step - loss: 2.0627 - categorical_accuracy: 0.4280 - val_loss: 1.9759 - val_categorical_accuracy: 0.2698\n",
      "Epoch 11/20\n",
      "8419/8419 [==============================] - 13s 2ms/step - loss: 2.0353 - categorical_accuracy: 0.4347 - val_loss: 1.9464 - val_categorical_accuracy: 0.2646\n",
      "Epoch 12/20\n",
      "8419/8419 [==============================] - 13s 2ms/step - loss: 2.0445 - categorical_accuracy: 0.4404 - val_loss: 1.9787 - val_categorical_accuracy: 0.2793\n",
      "Epoch 13/20\n",
      "8419/8419 [==============================] - 13s 2ms/step - loss: 2.0307 - categorical_accuracy: 0.4471 - val_loss: 1.9647 - val_categorical_accuracy: 0.2727\n",
      "Epoch 14/20\n",
      "8419/8419 [==============================] - 13s 2ms/step - loss: 2.0096 - categorical_accuracy: 0.4482 - val_loss: 1.9657 - val_categorical_accuracy: 0.2722\n",
      "Epoch 15/20\n",
      "8419/8419 [==============================] - 13s 2ms/step - loss: 1.9942 - categorical_accuracy: 0.4504 - val_loss: 1.9845 - val_categorical_accuracy: 0.2713\n",
      "Epoch 16/20\n",
      "8419/8419 [==============================] - 13s 2ms/step - loss: 1.9784 - categorical_accuracy: 0.4511 - val_loss: 1.9416 - val_categorical_accuracy: 0.2798\n",
      "Epoch 17/20\n",
      "8419/8419 [==============================] - 13s 2ms/step - loss: 1.9866 - categorical_accuracy: 0.4556 - val_loss: 1.9543 - val_categorical_accuracy: 0.2779\n",
      "Epoch 18/20\n",
      "8419/8419 [==============================] - 13s 2ms/step - loss: 1.9976 - categorical_accuracy: 0.4530 - val_loss: 2.0043 - val_categorical_accuracy: 0.2964\n",
      "Epoch 19/20\n",
      "8419/8419 [==============================] - 13s 2ms/step - loss: 1.9801 - categorical_accuracy: 0.4601 - val_loss: 1.9573 - val_categorical_accuracy: 0.2846\n",
      "Epoch 20/20\n",
      "8419/8419 [==============================] - 13s 2ms/step - loss: 1.9562 - categorical_accuracy: 0.4593 - val_loss: 1.9457 - val_categorical_accuracy: 0.2831\n"
     ]
    }
   ],
   "source": [
    "from keras.models import Sequential\n",
    "from keras.layers import Flatten, Dense\n",
    "from keras.layers.core import Dropout\n",
    "\n",
    "model = Sequential()\n",
    "model.add(embedding)\n",
    "model.add(Flatten())\n",
    "model.add(Dense(64, activation='relu'))\n",
    "model.add(Dropout(0.4))\n",
    "model.add(Dense(128, activation='relu'))\n",
    "model.add(Dropout(0.4))\n",
    "model.add(Dense(y.shape[1], activation='softmax'))\n",
    "model.compile(loss='categorical_crossentropy', optimizer='adadelta',  metrics=[\"categorical_accuracy\"])\n",
    "model.summary()\n",
    "history = model.fit(x, y, epochs=20, batch_size=32, validation_split=0.2, verbose=1, shuffle=True)"
   ]
  },
  {
   "cell_type": "code",
   "execution_count": null,
   "metadata": {},
   "outputs": [],
   "source": []
  }
 ],
 "metadata": {
  "kernelspec": {
   "display_name": "Python 3",
   "language": "python",
   "name": "python3"
  },
  "language_info": {
   "codemirror_mode": {
    "name": "ipython",
    "version": 3
   },
   "file_extension": ".py",
   "mimetype": "text/x-python",
   "name": "python",
   "nbconvert_exporter": "python",
   "pygments_lexer": "ipython3",
   "version": "3.7.4"
  }
 },
 "nbformat": 4,
 "nbformat_minor": 2
}
