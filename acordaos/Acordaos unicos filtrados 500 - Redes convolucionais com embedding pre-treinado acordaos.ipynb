{
 "cells": [
  {
   "cell_type": "markdown",
   "metadata": {},
   "source": [
    "# Importação e preparação dos dados"
   ]
  },
  {
   "cell_type": "code",
   "execution_count": 1,
   "metadata": {},
   "outputs": [
    {
     "data": {
      "text/html": [
       "<div>\n",
       "<style scoped>\n",
       "    .dataframe tbody tr th:only-of-type {\n",
       "        vertical-align: middle;\n",
       "    }\n",
       "\n",
       "    .dataframe tbody tr th {\n",
       "        vertical-align: top;\n",
       "    }\n",
       "\n",
       "    .dataframe thead th {\n",
       "        text-align: right;\n",
       "    }\n",
       "</style>\n",
       "<table border=\"1\" class=\"dataframe\">\n",
       "  <thead>\n",
       "    <tr style=\"text-align: right;\">\n",
       "      <th></th>\n",
       "      <th>acordao</th>\n",
       "      <th>areas</th>\n",
       "      <th>filtrado_500</th>\n",
       "    </tr>\n",
       "  </thead>\n",
       "  <tbody>\n",
       "    <tr>\n",
       "      <th>0</th>\n",
       "      <td>297/2016-P</td>\n",
       "      <td>Responsabilidade</td>\n",
       "      <td>conta conta gerência instituto nacional seguro...</td>\n",
       "    </tr>\n",
       "    <tr>\n",
       "      <th>1</th>\n",
       "      <td>366/2016-P</td>\n",
       "      <td>Finanças Públicas</td>\n",
       "      <td>senado petróleo petróleo regime aduaneiro expo...</td>\n",
       "    </tr>\n",
       "    <tr>\n",
       "      <th>2</th>\n",
       "      <td>944/2016-P</td>\n",
       "      <td>Responsabilidade</td>\n",
       "      <td>tribunal conta plenário embargo declaração aco...</td>\n",
       "    </tr>\n",
       "    <tr>\n",
       "      <th>3</th>\n",
       "      <td>30/2016-P</td>\n",
       "      <td>Direito Processual</td>\n",
       "      <td>embargo declaração inss recorrente marco antôn...</td>\n",
       "    </tr>\n",
       "    <tr>\n",
       "      <th>4</th>\n",
       "      <td>55/2016-P</td>\n",
       "      <td>Pessoal</td>\n",
       "      <td>senac senac senac empresa senac giselle araújo...</td>\n",
       "    </tr>\n",
       "  </tbody>\n",
       "</table>\n",
       "</div>"
      ],
      "text/plain": [
       "      acordao               areas  \\\n",
       "0  297/2016-P    Responsabilidade   \n",
       "1  366/2016-P   Finanças Públicas   \n",
       "2  944/2016-P    Responsabilidade   \n",
       "3   30/2016-P  Direito Processual   \n",
       "4   55/2016-P             Pessoal   \n",
       "\n",
       "                                        filtrado_500  \n",
       "0  conta conta gerência instituto nacional seguro...  \n",
       "1  senado petróleo petróleo regime aduaneiro expo...  \n",
       "2  tribunal conta plenário embargo declaração aco...  \n",
       "3  embargo declaração inss recorrente marco antôn...  \n",
       "4  senac senac senac empresa senac giselle araújo...  "
      ]
     },
     "execution_count": 1,
     "metadata": {},
     "output_type": "execute_result"
    }
   ],
   "source": [
    "import pandas as pd\n",
    "\n",
    "df = pd.read_csv('../dados/acordaos-unicos-filtrados-500.csv', sep = '|')\n",
    "df['filtrado_500']=df['filtrado_500'].astype(str)\n",
    "df.head()"
   ]
  },
  {
   "cell_type": "code",
   "execution_count": 2,
   "metadata": {},
   "outputs": [
    {
     "data": {
      "text/plain": [
       "(9739, 3)"
      ]
     },
     "execution_count": 2,
     "metadata": {},
     "output_type": "execute_result"
    }
   ],
   "source": [
    "df.shape"
   ]
  },
  {
   "cell_type": "code",
   "execution_count": 3,
   "metadata": {},
   "outputs": [
    {
     "data": {
      "text/plain": [
       "(9739, 10)"
      ]
     },
     "execution_count": 3,
     "metadata": {},
     "output_type": "execute_result"
    }
   ],
   "source": [
    "from sklearn.preprocessing import LabelBinarizer\n",
    "\n",
    "areas = df.groupby(['areas']).groups.keys()\n",
    "lbArea = LabelBinarizer()\n",
    "lbArea.fit([x for x in areas])\n",
    "y = lbArea.transform(df['areas'])\n",
    "y.shape"
   ]
  },
  {
   "cell_type": "code",
   "execution_count": 4,
   "metadata": {},
   "outputs": [
    {
     "name": "stderr",
     "output_type": "stream",
     "text": [
      "Using TensorFlow backend.\n"
     ]
    },
    {
     "name": "stdout",
     "output_type": "stream",
     "text": [
      "Found 32293 unique tokens.\n"
     ]
    }
   ],
   "source": [
    "from keras.preprocessing.text import Tokenizer\n",
    "import numpy as np\n",
    "\n",
    "vocabulario = 40000\n",
    "limite_texto = 500\n",
    "dim_vetor = 100\n",
    "\n",
    "tokenizer = Tokenizer(num_words=vocabulario)\n",
    "tokenizer.fit_on_texts(df['filtrado_500'])\n",
    "\n",
    "sequences = tokenizer.texts_to_sequences(df['filtrado_500'])\n",
    "\n",
    "word_index = tokenizer.word_index\n",
    "print('Found %s unique tokens.' % len(word_index))"
   ]
  },
  {
   "cell_type": "code",
   "execution_count": 5,
   "metadata": {},
   "outputs": [
    {
     "name": "stdout",
     "output_type": "stream",
     "text": [
      "Shape of data tensor: (9739, 500)\n"
     ]
    }
   ],
   "source": [
    "from keras.preprocessing.sequence import pad_sequences\n",
    "\n",
    "x = pad_sequences(sequences, maxlen=limite_texto)\n",
    "\n",
    "print('Shape of data tensor:', x.shape)"
   ]
  },
  {
   "cell_type": "code",
   "execution_count": 6,
   "metadata": {},
   "outputs": [
    {
     "data": {
      "text/plain": [
       "((9739, 500), (9739, 10))"
      ]
     },
     "execution_count": 6,
     "metadata": {},
     "output_type": "execute_result"
    }
   ],
   "source": [
    "x.shape, y.shape"
   ]
  },
  {
   "cell_type": "code",
   "execution_count": 7,
   "metadata": {},
   "outputs": [
    {
     "name": "stderr",
     "output_type": "stream",
     "text": [
      "/home/leonardo/anaconda3/envs/gpu/lib/python3.7/site-packages/smart_open/smart_open_lib.py:398: UserWarning: This function is deprecated, use smart_open.open instead. See the migration notes for details: https://github.com/RaRe-Technologies/smart_open/blob/master/README.rst#migrating-to-the-new-open-function\n",
      "  'See the migration notes for details: %s' % _MIGRATION_NOTES_URL\n"
     ]
    }
   ],
   "source": [
    "from gensim.models import Word2Vec\n",
    "\n",
    "model = Word2Vec.load('../vocabularios/modelo-acordaos.w2v')"
   ]
  },
  {
   "cell_type": "code",
   "execution_count": 8,
   "metadata": {},
   "outputs": [
    {
     "name": "stderr",
     "output_type": "stream",
     "text": [
      "/home/leonardo/anaconda3/envs/gpu/lib/python3.7/site-packages/ipykernel_launcher.py:7: DeprecationWarning: Call to deprecated `__contains__` (Method will be removed in 4.0.0, use self.wv.__contains__() instead).\n",
      "  import sys\n",
      "/home/leonardo/anaconda3/envs/gpu/lib/python3.7/site-packages/ipykernel_launcher.py:8: DeprecationWarning: Call to deprecated `__getitem__` (Method will be removed in 4.0.0, use self.wv.__getitem__() instead).\n",
      "  \n"
     ]
    },
    {
     "name": "stdout",
     "output_type": "stream",
     "text": [
      "Vocabulario: 32293\n",
      "Encontrados no modelo: 25160 = 77.91162171368408\n"
     ]
    }
   ],
   "source": [
    "# create a weight matrix for words in training docs\n",
    "\n",
    "embedding_matrix = np.zeros((vocabulario, dim_vetor))\n",
    "\n",
    "ok = 0\n",
    "for word, i in tokenizer.word_index.items():\n",
    "    if word in model:\n",
    "        embedding_matrix[i] = model[word]\n",
    "        ok += 1\n",
    "print('Vocabulario:', i)\n",
    "print('Encontrados no modelo:', ok, '=', ok * 100. / i)"
   ]
  },
  {
   "cell_type": "markdown",
   "metadata": {},
   "source": [
    "# Treinamento"
   ]
  },
  {
   "cell_type": "code",
   "execution_count": 9,
   "metadata": {
    "scrolled": false
   },
   "outputs": [
    {
     "name": "stderr",
     "output_type": "stream",
     "text": [
      "WARNING: Logging before flag parsing goes to stderr.\n",
      "W0317 11:47:10.682085 140201388701504 deprecation_wrapper.py:119] From /home/leonardo/anaconda3/envs/gpu/lib/python3.7/site-packages/keras/backend/tensorflow_backend.py:74: The name tf.get_default_graph is deprecated. Please use tf.compat.v1.get_default_graph instead.\n",
      "\n",
      "W0317 11:47:10.757360 140201388701504 deprecation_wrapper.py:119] From /home/leonardo/anaconda3/envs/gpu/lib/python3.7/site-packages/keras/backend/tensorflow_backend.py:517: The name tf.placeholder is deprecated. Please use tf.compat.v1.placeholder instead.\n",
      "\n",
      "W0317 11:47:10.759214 140201388701504 deprecation_wrapper.py:119] From /home/leonardo/anaconda3/envs/gpu/lib/python3.7/site-packages/keras/backend/tensorflow_backend.py:4138: The name tf.random_uniform is deprecated. Please use tf.random.uniform instead.\n",
      "\n",
      "W0317 11:47:10.767242 140201388701504 deprecation_wrapper.py:119] From /home/leonardo/anaconda3/envs/gpu/lib/python3.7/site-packages/keras/backend/tensorflow_backend.py:174: The name tf.get_default_session is deprecated. Please use tf.compat.v1.get_default_session instead.\n",
      "\n",
      "W0317 11:47:10.767898 140201388701504 deprecation_wrapper.py:119] From /home/leonardo/anaconda3/envs/gpu/lib/python3.7/site-packages/keras/backend/tensorflow_backend.py:181: The name tf.ConfigProto is deprecated. Please use tf.compat.v1.ConfigProto instead.\n",
      "\n",
      "W0317 11:47:11.524567 140201388701504 deprecation_wrapper.py:119] From /home/leonardo/anaconda3/envs/gpu/lib/python3.7/site-packages/keras/backend/tensorflow_backend.py:3976: The name tf.nn.max_pool is deprecated. Please use tf.nn.max_pool2d instead.\n",
      "\n",
      "W0317 11:47:11.562965 140201388701504 deprecation_wrapper.py:119] From /home/leonardo/anaconda3/envs/gpu/lib/python3.7/site-packages/keras/optimizers.py:790: The name tf.train.Optimizer is deprecated. Please use tf.compat.v1.train.Optimizer instead.\n",
      "\n",
      "W0317 11:47:11.648732 140201388701504 deprecation.py:323] From /home/leonardo/anaconda3/envs/gpu/lib/python3.7/site-packages/tensorflow/python/ops/math_grad.py:1250: add_dispatch_support.<locals>.wrapper (from tensorflow.python.ops.array_ops) is deprecated and will be removed in a future version.\n",
      "Instructions for updating:\n",
      "Use tf.where in 2.0, which has the same broadcast rule as np.where\n"
     ]
    },
    {
     "name": "stdout",
     "output_type": "stream",
     "text": [
      "_________________________________________________________________\n",
      "Layer (type)                 Output Shape              Param #   \n",
      "=================================================================\n",
      "embedding_1 (Embedding)      (None, 500, 100)          4000000   \n",
      "_________________________________________________________________\n",
      "conv1d_1 (Conv1D)            (None, 494, 32)           22432     \n",
      "_________________________________________________________________\n",
      "max_pooling1d_1 (MaxPooling1 (None, 98, 32)            0         \n",
      "_________________________________________________________________\n",
      "conv1d_2 (Conv1D)            (None, 92, 32)            7200      \n",
      "_________________________________________________________________\n",
      "global_max_pooling1d_1 (Glob (None, 32)                0         \n",
      "_________________________________________________________________\n",
      "dense_1 (Dense)              (None, 10)                330       \n",
      "=================================================================\n",
      "Total params: 4,029,962\n",
      "Trainable params: 29,962\n",
      "Non-trainable params: 4,000,000\n",
      "_________________________________________________________________\n",
      "Train on 7791 samples, validate on 1948 samples\n",
      "Epoch 1/20\n",
      "7791/7791 [==============================] - 2s 299us/step - loss: 1.2402 - categorical_accuracy: 0.5997 - val_loss: 1.3302 - val_categorical_accuracy: 0.5318\n",
      "Epoch 2/20\n",
      "7791/7791 [==============================] - 1s 95us/step - loss: 0.9438 - categorical_accuracy: 0.6843 - val_loss: 1.3592 - val_categorical_accuracy: 0.4949\n",
      "Epoch 3/20\n",
      "7791/7791 [==============================] - 1s 94us/step - loss: 0.8359 - categorical_accuracy: 0.7183 - val_loss: 1.2755 - val_categorical_accuracy: 0.5775\n",
      "Epoch 4/20\n",
      "7791/7791 [==============================] - 1s 98us/step - loss: 0.7391 - categorical_accuracy: 0.7509 - val_loss: 1.2222 - val_categorical_accuracy: 0.5919\n",
      "Epoch 5/20\n",
      "7791/7791 [==============================] - 1s 95us/step - loss: 0.6525 - categorical_accuracy: 0.7779 - val_loss: 1.5132 - val_categorical_accuracy: 0.4938\n",
      "Epoch 6/20\n",
      "7791/7791 [==============================] - 1s 93us/step - loss: 0.5799 - categorical_accuracy: 0.8061 - val_loss: 1.3952 - val_categorical_accuracy: 0.5370\n",
      "Epoch 7/20\n",
      "7791/7791 [==============================] - 1s 96us/step - loss: 0.5142 - categorical_accuracy: 0.8249 - val_loss: 1.4895 - val_categorical_accuracy: 0.5565\n",
      "Epoch 8/20\n",
      "7791/7791 [==============================] - 1s 94us/step - loss: 0.4511 - categorical_accuracy: 0.8498 - val_loss: 1.5932 - val_categorical_accuracy: 0.5508\n",
      "Epoch 9/20\n",
      "7791/7791 [==============================] - 1s 98us/step - loss: 0.3958 - categorical_accuracy: 0.8719 - val_loss: 1.8103 - val_categorical_accuracy: 0.4923\n",
      "Epoch 10/20\n",
      "7791/7791 [==============================] - 1s 110us/step - loss: 0.3436 - categorical_accuracy: 0.8887 - val_loss: 1.6374 - val_categorical_accuracy: 0.5457\n",
      "Epoch 11/20\n",
      "7791/7791 [==============================] - 1s 105us/step - loss: 0.3035 - categorical_accuracy: 0.9064 - val_loss: 1.6710 - val_categorical_accuracy: 0.5477\n",
      "Epoch 12/20\n",
      "7791/7791 [==============================] - 1s 94us/step - loss: 0.2659 - categorical_accuracy: 0.9161 - val_loss: 2.1296 - val_categorical_accuracy: 0.5010\n",
      "Epoch 13/20\n",
      "7791/7791 [==============================] - 1s 93us/step - loss: 0.2447 - categorical_accuracy: 0.9182 - val_loss: 1.8513 - val_categorical_accuracy: 0.5503\n",
      "Epoch 14/20\n",
      "7791/7791 [==============================] - 1s 92us/step - loss: 0.2060 - categorical_accuracy: 0.9335 - val_loss: 1.9139 - val_categorical_accuracy: 0.5467\n",
      "Epoch 15/20\n",
      "7791/7791 [==============================] - 1s 93us/step - loss: 0.1841 - categorical_accuracy: 0.9426 - val_loss: 2.1841 - val_categorical_accuracy: 0.5452\n",
      "Epoch 16/20\n",
      "7791/7791 [==============================] - 1s 95us/step - loss: 0.1675 - categorical_accuracy: 0.9478 - val_loss: 2.1432 - val_categorical_accuracy: 0.5282\n",
      "Epoch 17/20\n",
      "7791/7791 [==============================] - 1s 93us/step - loss: 0.1531 - categorical_accuracy: 0.9507 - val_loss: 2.2677 - val_categorical_accuracy: 0.5164\n",
      "Epoch 18/20\n",
      "7791/7791 [==============================] - 1s 94us/step - loss: 0.1442 - categorical_accuracy: 0.9539 - val_loss: 2.4416 - val_categorical_accuracy: 0.5077\n",
      "Epoch 19/20\n",
      "7791/7791 [==============================] - 1s 92us/step - loss: 0.1304 - categorical_accuracy: 0.9571 - val_loss: 2.3094 - val_categorical_accuracy: 0.5354\n",
      "Epoch 20/20\n",
      "7791/7791 [==============================] - 1s 107us/step - loss: 0.1192 - categorical_accuracy: 0.9602 - val_loss: 2.7252 - val_categorical_accuracy: 0.5015\n"
     ]
    }
   ],
   "source": [
    "from keras.models import Sequential\n",
    "from keras.layers import Embedding, Conv1D, MaxPooling1D, Dense, GlobalMaxPooling1D, Flatten\n",
    "from keras.optimizers import RMSprop\n",
    "from keras.layers.core import Dropout\n",
    "\n",
    "model = Sequential()\n",
    "model.add(Embedding(vocabulario, dim_vetor, weights=[embedding_matrix], input_length=limite_texto, trainable=False))\n",
    "model.add(Conv1D(32, 7, activation='relu'))\n",
    "model.add(MaxPooling1D(5))\n",
    "model.add(Conv1D(32, 7, activation='relu'))\n",
    "model.add(GlobalMaxPooling1D())\n",
    "model.add(Dense(y.shape[1], activation='softmax'))\n",
    "model.compile(loss='categorical_crossentropy', optimizer=RMSprop(),  metrics=[\"categorical_accuracy\"])\n",
    "model.summary()\n",
    "history = model.fit(x, y, epochs=20, batch_size=32, validation_split=0.2, verbose=1, shuffle=True)"
   ]
  },
  {
   "cell_type": "code",
   "execution_count": 10,
   "metadata": {},
   "outputs": [
    {
     "name": "stdout",
     "output_type": "stream",
     "text": [
      "_________________________________________________________________\n",
      "Layer (type)                 Output Shape              Param #   \n",
      "=================================================================\n",
      "embedding_2 (Embedding)      (None, 500, 100)          4000000   \n",
      "_________________________________________________________________\n",
      "conv1d_3 (Conv1D)            (None, 494, 64)           44864     \n",
      "_________________________________________________________________\n",
      "max_pooling1d_2 (MaxPooling1 (None, 98, 64)            0         \n",
      "_________________________________________________________________\n",
      "conv1d_4 (Conv1D)            (None, 92, 32)            14368     \n",
      "_________________________________________________________________\n",
      "global_max_pooling1d_2 (Glob (None, 32)                0         \n",
      "_________________________________________________________________\n",
      "dense_2 (Dense)              (None, 10)                330       \n",
      "=================================================================\n",
      "Total params: 4,059,562\n",
      "Trainable params: 4,059,562\n",
      "Non-trainable params: 0\n",
      "_________________________________________________________________\n",
      "Train on 7791 samples, validate on 1948 samples\n",
      "Epoch 1/20\n",
      "7791/7791 [==============================] - 2s 280us/step - loss: 1.2631 - categorical_accuracy: 0.6120 - val_loss: 1.2382 - val_categorical_accuracy: 0.5955\n",
      "Epoch 2/20\n",
      "7791/7791 [==============================] - 2s 229us/step - loss: 0.9274 - categorical_accuracy: 0.6840 - val_loss: 1.6325 - val_categorical_accuracy: 0.4286\n",
      "Epoch 3/20\n",
      "7791/7791 [==============================] - 2s 227us/step - loss: 0.7860 - categorical_accuracy: 0.7317 - val_loss: 1.1989 - val_categorical_accuracy: 0.6170\n",
      "Epoch 4/20\n",
      "7791/7791 [==============================] - 2s 238us/step - loss: 0.6768 - categorical_accuracy: 0.7749 - val_loss: 1.6140 - val_categorical_accuracy: 0.4548\n",
      "Epoch 5/20\n",
      "7791/7791 [==============================] - 2s 225us/step - loss: 0.5603 - categorical_accuracy: 0.8118 - val_loss: 1.6633 - val_categorical_accuracy: 0.4697\n",
      "Epoch 6/20\n",
      "7791/7791 [==============================] - 2s 232us/step - loss: 0.4722 - categorical_accuracy: 0.8419 - val_loss: 1.3016 - val_categorical_accuracy: 0.5878\n",
      "Epoch 7/20\n",
      "7791/7791 [==============================] - 2s 226us/step - loss: 0.3873 - categorical_accuracy: 0.8722 - val_loss: 1.6423 - val_categorical_accuracy: 0.5103\n",
      "Epoch 8/20\n",
      "7791/7791 [==============================] - 2s 239us/step - loss: 0.3090 - categorical_accuracy: 0.8983 - val_loss: 1.6600 - val_categorical_accuracy: 0.5626\n",
      "Epoch 9/20\n",
      "7791/7791 [==============================] - 2s 233us/step - loss: 0.2465 - categorical_accuracy: 0.9198 - val_loss: 1.7352 - val_categorical_accuracy: 0.5662\n",
      "Epoch 10/20\n",
      "7791/7791 [==============================] - 2s 227us/step - loss: 0.2014 - categorical_accuracy: 0.9366 - val_loss: 1.9088 - val_categorical_accuracy: 0.5210\n",
      "Epoch 11/20\n",
      "7791/7791 [==============================] - 2s 228us/step - loss: 0.1640 - categorical_accuracy: 0.9502 - val_loss: 1.7721 - val_categorical_accuracy: 0.5842\n",
      "Epoch 12/20\n",
      "7791/7791 [==============================] - 2s 240us/step - loss: 0.1351 - categorical_accuracy: 0.9584 - val_loss: 1.9612 - val_categorical_accuracy: 0.5570\n",
      "Epoch 13/20\n",
      "7791/7791 [==============================] - 2s 230us/step - loss: 0.1152 - categorical_accuracy: 0.9633 - val_loss: 1.9921 - val_categorical_accuracy: 0.5996\n",
      "Epoch 14/20\n",
      "7791/7791 [==============================] - 2s 229us/step - loss: 0.0995 - categorical_accuracy: 0.9696 - val_loss: 2.0553 - val_categorical_accuracy: 0.5883\n",
      "Epoch 15/20\n",
      "7791/7791 [==============================] - 2s 226us/step - loss: 0.0930 - categorical_accuracy: 0.9704 - val_loss: 2.1522 - val_categorical_accuracy: 0.5811\n",
      "Epoch 16/20\n",
      "7791/7791 [==============================] - 2s 233us/step - loss: 0.0767 - categorical_accuracy: 0.9751 - val_loss: 2.3458 - val_categorical_accuracy: 0.5734\n",
      "Epoch 17/20\n",
      "7791/7791 [==============================] - 2s 235us/step - loss: 0.0826 - categorical_accuracy: 0.9727 - val_loss: 2.3706 - val_categorical_accuracy: 0.5621\n",
      "Epoch 18/20\n",
      "7791/7791 [==============================] - 2s 225us/step - loss: 0.0705 - categorical_accuracy: 0.9765 - val_loss: 2.5105 - val_categorical_accuracy: 0.5760\n",
      "Epoch 19/20\n",
      "7791/7791 [==============================] - 2s 224us/step - loss: 0.0686 - categorical_accuracy: 0.9770 - val_loss: 2.8054 - val_categorical_accuracy: 0.5441\n",
      "Epoch 20/20\n",
      "7791/7791 [==============================] - 2s 233us/step - loss: 0.0563 - categorical_accuracy: 0.9807 - val_loss: 3.1471 - val_categorical_accuracy: 0.5323\n"
     ]
    }
   ],
   "source": [
    "model = Sequential()\n",
    "model.add(Embedding(vocabulario, dim_vetor, weights=[embedding_matrix], input_length=limite_texto, trainable=True))\n",
    "model.add(Conv1D(64, 7, activation='relu'))\n",
    "model.add(MaxPooling1D(5))\n",
    "model.add(Conv1D(32, 7, activation='relu'))\n",
    "model.add(GlobalMaxPooling1D())\n",
    "model.add(Dense(y.shape[1], activation='softmax'))\n",
    "model.compile(loss='categorical_crossentropy', optimizer=RMSprop(),  metrics=[\"categorical_accuracy\"])\n",
    "model.summary()\n",
    "history = model.fit(x, y, epochs=20, batch_size=32, validation_split=0.2, verbose=1, shuffle=True)"
   ]
  },
  {
   "cell_type": "code",
   "execution_count": 11,
   "metadata": {
    "scrolled": false
   },
   "outputs": [
    {
     "name": "stderr",
     "output_type": "stream",
     "text": [
      "W0317 11:48:05.424603 140201388701504 deprecation.py:506] From /home/leonardo/anaconda3/envs/gpu/lib/python3.7/site-packages/keras/backend/tensorflow_backend.py:3445: calling dropout (from tensorflow.python.ops.nn_ops) with keep_prob is deprecated and will be removed in a future version.\n",
      "Instructions for updating:\n",
      "Please use `rate` instead of `keep_prob`. Rate should be set to `rate = 1 - keep_prob`.\n"
     ]
    },
    {
     "name": "stdout",
     "output_type": "stream",
     "text": [
      "_________________________________________________________________\n",
      "Layer (type)                 Output Shape              Param #   \n",
      "=================================================================\n",
      "embedding_3 (Embedding)      (None, 500, 100)          4000000   \n",
      "_________________________________________________________________\n",
      "conv1d_5 (Conv1D)            (None, 494, 64)           44864     \n",
      "_________________________________________________________________\n",
      "max_pooling1d_3 (MaxPooling1 (None, 98, 64)            0         \n",
      "_________________________________________________________________\n",
      "conv1d_6 (Conv1D)            (None, 92, 32)            14368     \n",
      "_________________________________________________________________\n",
      "max_pooling1d_4 (MaxPooling1 (None, 18, 32)            0         \n",
      "_________________________________________________________________\n",
      "flatten_1 (Flatten)          (None, 576)               0         \n",
      "_________________________________________________________________\n",
      "dense_3 (Dense)              (None, 256)               147712    \n",
      "_________________________________________________________________\n",
      "dropout_1 (Dropout)          (None, 256)               0         \n",
      "_________________________________________________________________\n",
      "dense_4 (Dense)              (None, 10)                2570      \n",
      "=================================================================\n",
      "Total params: 4,209,514\n",
      "Trainable params: 4,209,514\n",
      "Non-trainable params: 0\n",
      "_________________________________________________________________\n",
      "Train on 7791 samples, validate on 1948 samples\n",
      "Epoch 1/20\n",
      "7791/7791 [==============================] - 2s 315us/step - loss: 1.3057 - categorical_accuracy: 0.5832 - val_loss: 1.3119 - val_categorical_accuracy: 0.5518\n",
      "Epoch 2/20\n",
      "7791/7791 [==============================] - 2s 257us/step - loss: 1.0095 - categorical_accuracy: 0.6563 - val_loss: 1.2149 - val_categorical_accuracy: 0.6109\n",
      "Epoch 3/20\n",
      "7791/7791 [==============================] - 2s 250us/step - loss: 0.9103 - categorical_accuracy: 0.6945 - val_loss: 1.3432 - val_categorical_accuracy: 0.5857\n",
      "Epoch 4/20\n",
      "7791/7791 [==============================] - 2s 260us/step - loss: 0.7916 - categorical_accuracy: 0.7289 - val_loss: 1.5943 - val_categorical_accuracy: 0.5334\n",
      "Epoch 5/20\n",
      "7791/7791 [==============================] - 2s 254us/step - loss: 0.6844 - categorical_accuracy: 0.7687 - val_loss: 1.6783 - val_categorical_accuracy: 0.5123\n",
      "Epoch 6/20\n",
      "7791/7791 [==============================] - 2s 260us/step - loss: 0.5743 - categorical_accuracy: 0.8012 - val_loss: 1.8018 - val_categorical_accuracy: 0.5329\n",
      "Epoch 7/20\n",
      "7791/7791 [==============================] - 2s 269us/step - loss: 0.4752 - categorical_accuracy: 0.8408 - val_loss: 1.8817 - val_categorical_accuracy: 0.5498\n",
      "Epoch 8/20\n",
      "7791/7791 [==============================] - 2s 269us/step - loss: 0.3941 - categorical_accuracy: 0.8670 - val_loss: 2.1035 - val_categorical_accuracy: 0.5400\n",
      "Epoch 9/20\n",
      "7791/7791 [==============================] - 2s 251us/step - loss: 0.3238 - categorical_accuracy: 0.8948 - val_loss: 2.2091 - val_categorical_accuracy: 0.5375\n",
      "Epoch 10/20\n",
      "7791/7791 [==============================] - 2s 268us/step - loss: 0.2698 - categorical_accuracy: 0.9112 - val_loss: 2.3926 - val_categorical_accuracy: 0.5452\n",
      "Epoch 11/20\n",
      "7791/7791 [==============================] - 2s 264us/step - loss: 0.2400 - categorical_accuracy: 0.9208 - val_loss: 2.5360 - val_categorical_accuracy: 0.5395\n",
      "Epoch 12/20\n",
      "7791/7791 [==============================] - 2s 276us/step - loss: 0.2150 - categorical_accuracy: 0.9315 - val_loss: 3.0485 - val_categorical_accuracy: 0.5051\n",
      "Epoch 13/20\n",
      "7791/7791 [==============================] - 2s 273us/step - loss: 0.1865 - categorical_accuracy: 0.9383 - val_loss: 2.7550 - val_categorical_accuracy: 0.5395\n",
      "Epoch 14/20\n",
      "7791/7791 [==============================] - 2s 264us/step - loss: 0.1880 - categorical_accuracy: 0.9397 - val_loss: 3.3435 - val_categorical_accuracy: 0.5000\n",
      "Epoch 15/20\n",
      "7791/7791 [==============================] - 2s 262us/step - loss: 0.1763 - categorical_accuracy: 0.9448 - val_loss: 3.2531 - val_categorical_accuracy: 0.5169\n",
      "Epoch 16/20\n",
      "7791/7791 [==============================] - 2s 255us/step - loss: 0.1749 - categorical_accuracy: 0.9485 - val_loss: 3.3230 - val_categorical_accuracy: 0.5395\n",
      "Epoch 17/20\n",
      "7791/7791 [==============================] - 2s 253us/step - loss: 0.1558 - categorical_accuracy: 0.9542 - val_loss: 3.7938 - val_categorical_accuracy: 0.5159\n",
      "Epoch 18/20\n",
      "7791/7791 [==============================] - 2s 260us/step - loss: 0.1611 - categorical_accuracy: 0.9535 - val_loss: 3.9253 - val_categorical_accuracy: 0.5185\n",
      "Epoch 19/20\n",
      "7791/7791 [==============================] - 2s 272us/step - loss: 0.1554 - categorical_accuracy: 0.9576 - val_loss: 3.8635 - val_categorical_accuracy: 0.5036\n",
      "Epoch 20/20\n",
      "7791/7791 [==============================] - 2s 272us/step - loss: 0.1480 - categorical_accuracy: 0.9602 - val_loss: 3.8436 - val_categorical_accuracy: 0.4974\n"
     ]
    }
   ],
   "source": [
    "model = Sequential()\n",
    "model.add(Embedding(vocabulario, dim_vetor, weights=[embedding_matrix], input_length=limite_texto, trainable=True))\n",
    "model.add(Conv1D(64, 7, activation='relu'))\n",
    "model.add(MaxPooling1D(5))\n",
    "model.add(Conv1D(32, 7, activation='relu'))\n",
    "model.add(MaxPooling1D(5))\n",
    "model.add(Flatten())\n",
    "model.add(Dense(256, activation='relu'))\n",
    "model.add(Dropout(0.2))\n",
    "model.add(Dense(y.shape[1], activation='softmax'))\n",
    "model.compile(loss='categorical_crossentropy', optimizer=RMSprop(),  metrics=[\"categorical_accuracy\"])\n",
    "model.summary()\n",
    "history = model.fit(x, y, epochs=20, batch_size=32, validation_split=0.2, verbose=1, shuffle=True)"
   ]
  },
  {
   "cell_type": "code",
   "execution_count": 12,
   "metadata": {},
   "outputs": [
    {
     "name": "stdout",
     "output_type": "stream",
     "text": [
      "_________________________________________________________________\n",
      "Layer (type)                 Output Shape              Param #   \n",
      "=================================================================\n",
      "embedding_4 (Embedding)      (None, 500, 100)          4000000   \n",
      "_________________________________________________________________\n",
      "conv1d_7 (Conv1D)            (None, 494, 64)           44864     \n",
      "_________________________________________________________________\n",
      "max_pooling1d_5 (MaxPooling1 (None, 98, 64)            0         \n",
      "_________________________________________________________________\n",
      "conv1d_8 (Conv1D)            (None, 92, 32)            14368     \n",
      "_________________________________________________________________\n",
      "max_pooling1d_6 (MaxPooling1 (None, 18, 32)            0         \n",
      "_________________________________________________________________\n",
      "flatten_2 (Flatten)          (None, 576)               0         \n",
      "_________________________________________________________________\n",
      "dense_5 (Dense)              (None, 1024)              590848    \n",
      "_________________________________________________________________\n",
      "dropout_2 (Dropout)          (None, 1024)              0         \n",
      "_________________________________________________________________\n",
      "dense_6 (Dense)              (None, 128)               131200    \n",
      "_________________________________________________________________\n",
      "dropout_3 (Dropout)          (None, 128)               0         \n",
      "_________________________________________________________________\n",
      "dense_7 (Dense)              (None, 10)                1290      \n",
      "=================================================================\n",
      "Total params: 4,782,570\n",
      "Trainable params: 4,782,570\n",
      "Non-trainable params: 0\n",
      "_________________________________________________________________\n",
      "Train on 7791 samples, validate on 1948 samples\n",
      "Epoch 1/20\n",
      "7791/7791 [==============================] - 3s 357us/step - loss: 1.3422 - categorical_accuracy: 0.5863 - val_loss: 1.5445 - val_categorical_accuracy: 0.4979\n",
      "Epoch 2/20\n",
      "7791/7791 [==============================] - 2s 283us/step - loss: 1.0898 - categorical_accuracy: 0.6492 - val_loss: 1.4837 - val_categorical_accuracy: 0.4954\n",
      "Epoch 3/20\n",
      "7791/7791 [==============================] - 2s 275us/step - loss: 0.9910 - categorical_accuracy: 0.6739 - val_loss: 1.2539 - val_categorical_accuracy: 0.6109\n",
      "Epoch 4/20\n",
      "7791/7791 [==============================] - 2s 270us/step - loss: 0.9205 - categorical_accuracy: 0.6986 - val_loss: 1.3531 - val_categorical_accuracy: 0.5770\n",
      "Epoch 5/20\n",
      "7791/7791 [==============================] - 2s 293us/step - loss: 0.8169 - categorical_accuracy: 0.7267 - val_loss: 1.6583 - val_categorical_accuracy: 0.5164\n",
      "Epoch 6/20\n",
      "7791/7791 [==============================] - 2s 281us/step - loss: 0.7339 - categorical_accuracy: 0.7487 - val_loss: 1.5319 - val_categorical_accuracy: 0.5816\n",
      "Epoch 7/20\n",
      "7791/7791 [==============================] - 2s 289us/step - loss: 0.6781 - categorical_accuracy: 0.7787 - val_loss: 1.9566 - val_categorical_accuracy: 0.5272\n",
      "Epoch 8/20\n",
      "7791/7791 [==============================] - 2s 282us/step - loss: 0.5971 - categorical_accuracy: 0.8077 - val_loss: 1.7159 - val_categorical_accuracy: 0.5046\n",
      "Epoch 9/20\n",
      "7791/7791 [==============================] - 2s 285us/step - loss: 0.5084 - categorical_accuracy: 0.8388 - val_loss: 1.9342 - val_categorical_accuracy: 0.5462\n",
      "Epoch 10/20\n",
      "7791/7791 [==============================] - 2s 277us/step - loss: 0.4548 - categorical_accuracy: 0.8506 - val_loss: 2.2596 - val_categorical_accuracy: 0.5262\n",
      "Epoch 11/20\n",
      "7791/7791 [==============================] - 2s 280us/step - loss: 0.4252 - categorical_accuracy: 0.8642 - val_loss: 2.3516 - val_categorical_accuracy: 0.5046\n",
      "Epoch 12/20\n",
      "7791/7791 [==============================] - 2s 287us/step - loss: 0.3808 - categorical_accuracy: 0.8824 - val_loss: 2.4461 - val_categorical_accuracy: 0.5267\n",
      "Epoch 13/20\n",
      "7791/7791 [==============================] - 2s 288us/step - loss: 0.3581 - categorical_accuracy: 0.8955 - val_loss: 3.0697 - val_categorical_accuracy: 0.4764\n",
      "Epoch 14/20\n",
      "7791/7791 [==============================] - 2s 283us/step - loss: 0.3251 - categorical_accuracy: 0.9030 - val_loss: 3.0073 - val_categorical_accuracy: 0.5164\n",
      "Epoch 15/20\n",
      "7791/7791 [==============================] - 2s 285us/step - loss: 0.3064 - categorical_accuracy: 0.9127 - val_loss: 3.4832 - val_categorical_accuracy: 0.5041\n",
      "Epoch 16/20\n",
      "7791/7791 [==============================] - 2s 295us/step - loss: 0.3170 - categorical_accuracy: 0.9145 - val_loss: 2.8874 - val_categorical_accuracy: 0.5298\n",
      "Epoch 17/20\n",
      "7791/7791 [==============================] - 2s 289us/step - loss: 0.2744 - categorical_accuracy: 0.9262 - val_loss: 2.8891 - val_categorical_accuracy: 0.5339\n",
      "Epoch 18/20\n",
      "7791/7791 [==============================] - 2s 283us/step - loss: 0.2688 - categorical_accuracy: 0.9256 - val_loss: 3.5360 - val_categorical_accuracy: 0.5236\n",
      "Epoch 19/20\n",
      "7791/7791 [==============================] - 2s 283us/step - loss: 0.2602 - categorical_accuracy: 0.9321 - val_loss: 4.9355 - val_categorical_accuracy: 0.4389\n",
      "Epoch 20/20\n",
      "7791/7791 [==============================] - 2s 287us/step - loss: 0.2471 - categorical_accuracy: 0.9354 - val_loss: 4.6990 - val_categorical_accuracy: 0.4718\n"
     ]
    }
   ],
   "source": [
    "model = Sequential()\n",
    "model.add(Embedding(vocabulario, dim_vetor, weights=[embedding_matrix], input_length=limite_texto, trainable=True))\n",
    "model.add(Conv1D(64, 7, activation='relu'))\n",
    "model.add(MaxPooling1D(5))\n",
    "model.add(Conv1D(32, 7, activation='relu'))\n",
    "model.add(MaxPooling1D(5))\n",
    "model.add(Flatten())\n",
    "model.add(Dense(1024, activation='relu'))\n",
    "model.add(Dropout(0.2))\n",
    "model.add(Dense(128, activation='relu'))\n",
    "model.add(Dropout(0.2))\n",
    "model.add(Dense(y.shape[1], activation='softmax'))\n",
    "model.compile(loss='categorical_crossentropy', optimizer=RMSprop(),  metrics=[\"categorical_accuracy\"])\n",
    "model.summary()\n",
    "history = model.fit(x, y, epochs=20, batch_size=32, validation_split=0.2, verbose=1, shuffle=True)"
   ]
  },
  {
   "cell_type": "code",
   "execution_count": null,
   "metadata": {},
   "outputs": [],
   "source": []
  }
 ],
 "metadata": {
  "kernelspec": {
   "display_name": "Python 3",
   "language": "python",
   "name": "python3"
  },
  "language_info": {
   "codemirror_mode": {
    "name": "ipython",
    "version": 3
   },
   "file_extension": ".py",
   "mimetype": "text/x-python",
   "name": "python",
   "nbconvert_exporter": "python",
   "pygments_lexer": "ipython3",
   "version": "3.7.4"
  }
 },
 "nbformat": 4,
 "nbformat_minor": 2
}
