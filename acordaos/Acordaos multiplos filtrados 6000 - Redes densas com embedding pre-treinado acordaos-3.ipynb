{
 "cells": [
  {
   "cell_type": "code",
   "execution_count": 1,
   "metadata": {},
   "outputs": [
    {
     "data": {
      "text/html": [
       "<div>\n",
       "<style scoped>\n",
       "    .dataframe tbody tr th:only-of-type {\n",
       "        vertical-align: middle;\n",
       "    }\n",
       "\n",
       "    .dataframe tbody tr th {\n",
       "        vertical-align: top;\n",
       "    }\n",
       "\n",
       "    .dataframe thead th {\n",
       "        text-align: right;\n",
       "    }\n",
       "</style>\n",
       "<table border=\"1\" class=\"dataframe\">\n",
       "  <thead>\n",
       "    <tr style=\"text-align: right;\">\n",
       "      <th></th>\n",
       "      <th>acordao</th>\n",
       "      <th>areas</th>\n",
       "      <th>filtrado_6000</th>\n",
       "    </tr>\n",
       "  </thead>\n",
       "  <tbody>\n",
       "    <tr>\n",
       "      <th>0</th>\n",
       "      <td>297/2016-P</td>\n",
       "      <td>Responsabilidade</td>\n",
       "      <td>tribunal conta união tc grupo classe plenário ...</td>\n",
       "    </tr>\n",
       "    <tr>\n",
       "      <th>1</th>\n",
       "      <td>366/2016-P</td>\n",
       "      <td>Finanças Públicas</td>\n",
       "      <td>tribunal conta união tc grupo classe ii plenár...</td>\n",
       "    </tr>\n",
       "    <tr>\n",
       "      <th>2</th>\n",
       "      <td>944/2016-P</td>\n",
       "      <td>Responsabilidade</td>\n",
       "      <td>tribunal conta união tc grupo classe plenário ...</td>\n",
       "    </tr>\n",
       "    <tr>\n",
       "      <th>3</th>\n",
       "      <td>30/2016-P</td>\n",
       "      <td>Direito Processual</td>\n",
       "      <td>tribunal conta união tc grupo classe plenário ...</td>\n",
       "    </tr>\n",
       "    <tr>\n",
       "      <th>4</th>\n",
       "      <td>55/2016-P</td>\n",
       "      <td>Pessoal</td>\n",
       "      <td>wania lucia pasquarelli nascimentotcuwania luc...</td>\n",
       "    </tr>\n",
       "  </tbody>\n",
       "</table>\n",
       "</div>"
      ],
      "text/plain": [
       "      acordao               areas  \\\n",
       "0  297/2016-P    Responsabilidade   \n",
       "1  366/2016-P   Finanças Públicas   \n",
       "2  944/2016-P    Responsabilidade   \n",
       "3   30/2016-P  Direito Processual   \n",
       "4   55/2016-P             Pessoal   \n",
       "\n",
       "                                       filtrado_6000  \n",
       "0  tribunal conta união tc grupo classe plenário ...  \n",
       "1  tribunal conta união tc grupo classe ii plenár...  \n",
       "2  tribunal conta união tc grupo classe plenário ...  \n",
       "3  tribunal conta união tc grupo classe plenário ...  \n",
       "4  wania lucia pasquarelli nascimentotcuwania luc...  "
      ]
     },
     "execution_count": 1,
     "metadata": {},
     "output_type": "execute_result"
    }
   ],
   "source": [
    "import pandas as pd\n",
    "\n",
    "df = pd.read_csv('../dados/acordaos-selecionada-filtrados-6000.csv', sep = '|')\n",
    "df['filtrado_6000']=df['filtrado_6000'].astype(str)\n",
    "df.head()"
   ]
  },
  {
   "cell_type": "code",
   "execution_count": 2,
   "metadata": {},
   "outputs": [
    {
     "data": {
      "text/plain": [
       "(10524, 3)"
      ]
     },
     "execution_count": 2,
     "metadata": {},
     "output_type": "execute_result"
    }
   ],
   "source": [
    "df.shape"
   ]
  },
  {
   "cell_type": "code",
   "execution_count": 3,
   "metadata": {},
   "outputs": [
    {
     "data": {
      "text/plain": [
       "areas\n",
       "Competência do TCU                                              405\n",
       "Competência do TCU,Contrato Administrativo                        4\n",
       "Competência do TCU,Contrato Administrativo,Responsabilidade       2\n",
       "Competência do TCU,Convênio                                       5\n",
       "Competência do TCU,Convênio,Direito Processual,Licitação          1\n",
       "                                                               ... \n",
       "Licitação,Pessoal,Responsabilidade                                1\n",
       "Licitação,Responsabilidade                                       61\n",
       "Pessoal                                                        2802\n",
       "Pessoal,Responsabilidade                                         16\n",
       "Responsabilidade                                               1834\n",
       "Length: 91, dtype: int64"
      ]
     },
     "execution_count": 3,
     "metadata": {},
     "output_type": "execute_result"
    }
   ],
   "source": [
    "df.groupby(['areas']).size()"
   ]
  },
  {
   "cell_type": "code",
   "execution_count": 4,
   "metadata": {},
   "outputs": [
    {
     "data": {
      "text/plain": [
       "dict_keys(['Competência do TCU', 'Competência do TCU,Contrato Administrativo', 'Competência do TCU,Contrato Administrativo,Responsabilidade', 'Competência do TCU,Convênio', 'Competência do TCU,Convênio,Direito Processual,Licitação', 'Competência do TCU,Convênio,Gestão Administrativa', 'Competência do TCU,Convênio,Responsabilidade', 'Competência do TCU,Desestatização', 'Competência do TCU,Direito Processual', 'Competência do TCU,Direito Processual,Licitação', 'Competência do TCU,Direito Processual,Pessoal', 'Competência do TCU,Direito Processual,Responsabilidade', 'Competência do TCU,Finanças Públicas', 'Competência do TCU,Finanças Públicas,Licitação', 'Competência do TCU,Finanças Públicas,Responsabilidade', 'Competência do TCU,Gestão Administrativa', 'Competência do TCU,Licitação', 'Competência do TCU,Licitação,Pessoal', 'Competência do TCU,Licitação,Responsabilidade', 'Competência do TCU,Pessoal', 'Competência do TCU,Pessoal,Responsabilidade', 'Competência do TCU,Responsabilidade', 'Contrato Administrativo', 'Contrato Administrativo,Convênio', 'Contrato Administrativo,Convênio,Finanças Públicas', 'Contrato Administrativo,Convênio,Gestão Administrativa', 'Contrato Administrativo,Convênio,Licitação', 'Contrato Administrativo,Desestatização', 'Contrato Administrativo,Desestatização,Licitação', 'Contrato Administrativo,Direito Processual', 'Contrato Administrativo,Direito Processual,Gestão Administrativa', 'Contrato Administrativo,Direito Processual,Licitação', 'Contrato Administrativo,Direito Processual,Licitação,Responsabilidade', 'Contrato Administrativo,Direito Processual,Responsabilidade', 'Contrato Administrativo,Finanças Públicas', 'Contrato Administrativo,Finanças Públicas,Gestão Administrativa,Licitação', 'Contrato Administrativo,Finanças Públicas,Licitação', 'Contrato Administrativo,Finanças Públicas,Responsabilidade', 'Contrato Administrativo,Gestão Administrativa', 'Contrato Administrativo,Gestão Administrativa,Licitação', 'Contrato Administrativo,Licitação', 'Contrato Administrativo,Licitação,Pessoal', 'Contrato Administrativo,Licitação,Responsabilidade', 'Contrato Administrativo,Pessoal', 'Contrato Administrativo,Responsabilidade', 'Convênio', 'Convênio,Desestatização,Finanças Públicas,Licitação', 'Convênio,Direito Processual', 'Convênio,Finanças Públicas', 'Convênio,Finanças Públicas,Licitação,Pessoal', 'Convênio,Gestão Administrativa', 'Convênio,Gestão Administrativa,Licitação', 'Convênio,Gestão Administrativa,Pessoal', 'Convênio,Gestão Administrativa,Responsabilidade', 'Convênio,Licitação', 'Convênio,Pessoal', 'Convênio,Responsabilidade', 'Desestatização', 'Desestatização,Direito Processual', 'Desestatização,Finanças Públicas', 'Desestatização,Gestão Administrativa', 'Desestatização,Gestão Administrativa,Pessoal', 'Desestatização,Licitação', 'Desestatização,Licitação,Responsabilidade', 'Direito Processual', 'Direito Processual,Finanças Públicas', 'Direito Processual,Gestão Administrativa,Responsabilidade', 'Direito Processual,Licitação', 'Direito Processual,Licitação,Responsabilidade', 'Direito Processual,Pessoal', 'Direito Processual,Responsabilidade', 'Finanças Públicas', 'Finanças Públicas,Gestão Administrativa', 'Finanças Públicas,Gestão Administrativa,Licitação', 'Finanças Públicas,Gestão Administrativa,Pessoal', 'Finanças Públicas,Licitação', 'Finanças Públicas,Licitação,Pessoal', 'Finanças Públicas,Pessoal', 'Finanças Públicas,Responsabilidade', 'Gestão Administrativa', 'Gestão Administrativa,Licitação', 'Gestão Administrativa,Licitação,Pessoal,Responsabilidade', 'Gestão Administrativa,Pessoal', 'Gestão Administrativa,Responsabilidade', 'Licitação', 'Licitação,Pessoal', 'Licitação,Pessoal,Responsabilidade', 'Licitação,Responsabilidade', 'Pessoal', 'Pessoal,Responsabilidade', 'Responsabilidade'])"
      ]
     },
     "execution_count": 4,
     "metadata": {},
     "output_type": "execute_result"
    }
   ],
   "source": [
    "areas = df.groupby(['areas']).groups.keys()\n",
    "areas"
   ]
  },
  {
   "cell_type": "code",
   "execution_count": 5,
   "metadata": {},
   "outputs": [
    {
     "data": {
      "text/plain": [
       "array(['Competência do TCU', 'Competência do TCU,Contrato Administrativo',\n",
       "       'Competência do TCU,Contrato Administrativo,Responsabilidade',\n",
       "       'Competência do TCU,Convênio',\n",
       "       'Competência do TCU,Convênio,Direito Processual,Licitação',\n",
       "       'Competência do TCU,Convênio,Gestão Administrativa',\n",
       "       'Competência do TCU,Convênio,Responsabilidade',\n",
       "       'Competência do TCU,Desestatização',\n",
       "       'Competência do TCU,Direito Processual',\n",
       "       'Competência do TCU,Direito Processual,Licitação',\n",
       "       'Competência do TCU,Direito Processual,Pessoal',\n",
       "       'Competência do TCU,Direito Processual,Responsabilidade',\n",
       "       'Competência do TCU,Finanças Públicas',\n",
       "       'Competência do TCU,Finanças Públicas,Licitação',\n",
       "       'Competência do TCU,Finanças Públicas,Responsabilidade',\n",
       "       'Competência do TCU,Gestão Administrativa',\n",
       "       'Competência do TCU,Licitação',\n",
       "       'Competência do TCU,Licitação,Pessoal',\n",
       "       'Competência do TCU,Licitação,Responsabilidade',\n",
       "       'Competência do TCU,Pessoal',\n",
       "       'Competência do TCU,Pessoal,Responsabilidade',\n",
       "       'Competência do TCU,Responsabilidade', 'Contrato Administrativo',\n",
       "       'Contrato Administrativo,Convênio',\n",
       "       'Contrato Administrativo,Convênio,Finanças Públicas',\n",
       "       'Contrato Administrativo,Convênio,Gestão Administrativa',\n",
       "       'Contrato Administrativo,Convênio,Licitação',\n",
       "       'Contrato Administrativo,Desestatização',\n",
       "       'Contrato Administrativo,Desestatização,Licitação',\n",
       "       'Contrato Administrativo,Direito Processual',\n",
       "       'Contrato Administrativo,Direito Processual,Gestão Administrativa',\n",
       "       'Contrato Administrativo,Direito Processual,Licitação',\n",
       "       'Contrato Administrativo,Direito Processual,Licitação,Responsabilidade',\n",
       "       'Contrato Administrativo,Direito Processual,Responsabilidade',\n",
       "       'Contrato Administrativo,Finanças Públicas',\n",
       "       'Contrato Administrativo,Finanças Públicas,Gestão Administrativa,Licitação',\n",
       "       'Contrato Administrativo,Finanças Públicas,Licitação',\n",
       "       'Contrato Administrativo,Finanças Públicas,Responsabilidade',\n",
       "       'Contrato Administrativo,Gestão Administrativa',\n",
       "       'Contrato Administrativo,Gestão Administrativa,Licitação',\n",
       "       'Contrato Administrativo,Licitação',\n",
       "       'Contrato Administrativo,Licitação,Pessoal',\n",
       "       'Contrato Administrativo,Licitação,Responsabilidade',\n",
       "       'Contrato Administrativo,Pessoal',\n",
       "       'Contrato Administrativo,Responsabilidade', 'Convênio',\n",
       "       'Convênio,Desestatização,Finanças Públicas,Licitação',\n",
       "       'Convênio,Direito Processual', 'Convênio,Finanças Públicas',\n",
       "       'Convênio,Finanças Públicas,Licitação,Pessoal',\n",
       "       'Convênio,Gestão Administrativa',\n",
       "       'Convênio,Gestão Administrativa,Licitação',\n",
       "       'Convênio,Gestão Administrativa,Pessoal',\n",
       "       'Convênio,Gestão Administrativa,Responsabilidade',\n",
       "       'Convênio,Licitação', 'Convênio,Pessoal',\n",
       "       'Convênio,Responsabilidade', 'Desestatização',\n",
       "       'Desestatização,Direito Processual',\n",
       "       'Desestatização,Finanças Públicas',\n",
       "       'Desestatização,Gestão Administrativa',\n",
       "       'Desestatização,Gestão Administrativa,Pessoal',\n",
       "       'Desestatização,Licitação',\n",
       "       'Desestatização,Licitação,Responsabilidade', 'Direito Processual',\n",
       "       'Direito Processual,Finanças Públicas',\n",
       "       'Direito Processual,Gestão Administrativa,Responsabilidade',\n",
       "       'Direito Processual,Licitação',\n",
       "       'Direito Processual,Licitação,Responsabilidade',\n",
       "       'Direito Processual,Pessoal',\n",
       "       'Direito Processual,Responsabilidade', 'Finanças Públicas',\n",
       "       'Finanças Públicas,Gestão Administrativa',\n",
       "       'Finanças Públicas,Gestão Administrativa,Licitação',\n",
       "       'Finanças Públicas,Gestão Administrativa,Pessoal',\n",
       "       'Finanças Públicas,Licitação',\n",
       "       'Finanças Públicas,Licitação,Pessoal', 'Finanças Públicas,Pessoal',\n",
       "       'Finanças Públicas,Responsabilidade', 'Gestão Administrativa',\n",
       "       'Gestão Administrativa,Licitação',\n",
       "       'Gestão Administrativa,Licitação,Pessoal,Responsabilidade',\n",
       "       'Gestão Administrativa,Pessoal',\n",
       "       'Gestão Administrativa,Responsabilidade', 'Licitação',\n",
       "       'Licitação,Pessoal', 'Licitação,Pessoal,Responsabilidade',\n",
       "       'Licitação,Responsabilidade', 'Pessoal',\n",
       "       'Pessoal,Responsabilidade', 'Responsabilidade'], dtype='<U73')"
      ]
     },
     "execution_count": 5,
     "metadata": {},
     "output_type": "execute_result"
    }
   ],
   "source": [
    "from sklearn.preprocessing import LabelBinarizer\n",
    "\n",
    "lbArea = LabelBinarizer()\n",
    "lbArea.fit([x for x in areas])\n",
    "lbArea.classes_"
   ]
  },
  {
   "cell_type": "code",
   "execution_count": 6,
   "metadata": {},
   "outputs": [
    {
     "data": {
      "text/plain": [
       "(10524, 91)"
      ]
     },
     "execution_count": 6,
     "metadata": {},
     "output_type": "execute_result"
    }
   ],
   "source": [
    "y = lbArea.transform(df['areas'])\n",
    "y.shape"
   ]
  },
  {
   "cell_type": "code",
   "execution_count": 7,
   "metadata": {},
   "outputs": [
    {
     "name": "stderr",
     "output_type": "stream",
     "text": [
      "Using TensorFlow backend.\n"
     ]
    },
    {
     "name": "stdout",
     "output_type": "stream",
     "text": [
      "Found 102108 unique tokens.\n"
     ]
    }
   ],
   "source": [
    "from keras.preprocessing.text import Tokenizer\n",
    "import numpy as np\n",
    "\n",
    "vocabulario = 105000\n",
    "limite_texto = 6000\n",
    "dim_vetor = 50\n",
    "\n",
    "tokenizer = Tokenizer(num_words=vocabulario)\n",
    "tokenizer.fit_on_texts(df['filtrado_6000'])\n",
    "\n",
    "sequences = tokenizer.texts_to_sequences(df['filtrado_6000'])\n",
    "\n",
    "word_index = tokenizer.word_index\n",
    "print('Found %s unique tokens.' % len(word_index))"
   ]
  },
  {
   "cell_type": "code",
   "execution_count": 8,
   "metadata": {},
   "outputs": [
    {
     "name": "stdout",
     "output_type": "stream",
     "text": [
      "Shape of data tensor: (10524, 6000)\n"
     ]
    }
   ],
   "source": [
    "from keras.preprocessing.sequence import pad_sequences\n",
    "\n",
    "x = pad_sequences(sequences, maxlen=limite_texto)\n",
    "\n",
    "print('Shape of data tensor:', x.shape)"
   ]
  },
  {
   "cell_type": "code",
   "execution_count": 9,
   "metadata": {},
   "outputs": [
    {
     "name": "stderr",
     "output_type": "stream",
     "text": [
      "/home/leonardo/anaconda3/envs/gpu/lib/python3.7/site-packages/smart_open/smart_open_lib.py:398: UserWarning: This function is deprecated, use smart_open.open instead. See the migration notes for details: https://github.com/RaRe-Technologies/smart_open/blob/master/README.rst#migrating-to-the-new-open-function\n",
      "  'See the migration notes for details: %s' % _MIGRATION_NOTES_URL\n"
     ]
    }
   ],
   "source": [
    "from gensim.models import Word2Vec\n",
    "\n",
    "model = Word2Vec.load('../vocabularios/modelo-acordaos-50.w2v')"
   ]
  },
  {
   "cell_type": "code",
   "execution_count": 10,
   "metadata": {},
   "outputs": [
    {
     "name": "stderr",
     "output_type": "stream",
     "text": [
      "/home/leonardo/anaconda3/envs/gpu/lib/python3.7/site-packages/ipykernel_launcher.py:7: DeprecationWarning: Call to deprecated `__contains__` (Method will be removed in 4.0.0, use self.wv.__contains__() instead).\n",
      "  import sys\n",
      "/home/leonardo/anaconda3/envs/gpu/lib/python3.7/site-packages/ipykernel_launcher.py:8: DeprecationWarning: Call to deprecated `__getitem__` (Method will be removed in 4.0.0, use self.wv.__getitem__() instead).\n",
      "  \n"
     ]
    },
    {
     "name": "stdout",
     "output_type": "stream",
     "text": [
      "Vocabulario: 102108\n",
      "Encontrados no modelo: 49463 = 48.441845888666904\n"
     ]
    }
   ],
   "source": [
    "# create a weight matrix for words in training docs\n",
    "\n",
    "embedding_matrix = np.zeros((vocabulario, dim_vetor))\n",
    "\n",
    "ok = 0\n",
    "for word, i in tokenizer.word_index.items():\n",
    "    if word in model:\n",
    "        embedding_matrix[i] = model[word]\n",
    "        ok += 1\n",
    "print('Vocabulario:', i)\n",
    "print('Encontrados no modelo:', ok, '=', ok * 100. / i)"
   ]
  },
  {
   "cell_type": "code",
   "execution_count": 11,
   "metadata": {
    "scrolled": true
   },
   "outputs": [
    {
     "data": {
      "text/plain": [
       "((10524, 6000), (10524, 91))"
      ]
     },
     "execution_count": 11,
     "metadata": {},
     "output_type": "execute_result"
    }
   ],
   "source": [
    "x.shape, y.shape"
   ]
  },
  {
   "cell_type": "markdown",
   "metadata": {},
   "source": [
    "# Treinamento\n",
    "\n",
    "## Embedding com pesos fixos"
   ]
  },
  {
   "cell_type": "code",
   "execution_count": 12,
   "metadata": {
    "scrolled": false
   },
   "outputs": [
    {
     "name": "stderr",
     "output_type": "stream",
     "text": [
      "WARNING: Logging before flag parsing goes to stderr.\n",
      "W0318 21:22:52.165112 140687466006336 deprecation_wrapper.py:119] From /home/leonardo/anaconda3/envs/gpu/lib/python3.7/site-packages/keras/backend/tensorflow_backend.py:74: The name tf.get_default_graph is deprecated. Please use tf.compat.v1.get_default_graph instead.\n",
      "\n",
      "W0318 21:22:52.237812 140687466006336 deprecation_wrapper.py:119] From /home/leonardo/anaconda3/envs/gpu/lib/python3.7/site-packages/keras/backend/tensorflow_backend.py:517: The name tf.placeholder is deprecated. Please use tf.compat.v1.placeholder instead.\n",
      "\n",
      "W0318 21:22:52.239635 140687466006336 deprecation_wrapper.py:119] From /home/leonardo/anaconda3/envs/gpu/lib/python3.7/site-packages/keras/backend/tensorflow_backend.py:4138: The name tf.random_uniform is deprecated. Please use tf.random.uniform instead.\n",
      "\n",
      "W0318 21:22:52.246806 140687466006336 deprecation_wrapper.py:119] From /home/leonardo/anaconda3/envs/gpu/lib/python3.7/site-packages/keras/backend/tensorflow_backend.py:174: The name tf.get_default_session is deprecated. Please use tf.compat.v1.get_default_session instead.\n",
      "\n",
      "W0318 21:22:52.247473 140687466006336 deprecation_wrapper.py:119] From /home/leonardo/anaconda3/envs/gpu/lib/python3.7/site-packages/keras/backend/tensorflow_backend.py:181: The name tf.ConfigProto is deprecated. Please use tf.compat.v1.ConfigProto instead.\n",
      "\n",
      "W0318 21:22:52.982770 140687466006336 deprecation.py:506] From /home/leonardo/anaconda3/envs/gpu/lib/python3.7/site-packages/keras/backend/tensorflow_backend.py:3445: calling dropout (from tensorflow.python.ops.nn_ops) with keep_prob is deprecated and will be removed in a future version.\n",
      "Instructions for updating:\n",
      "Please use `rate` instead of `keep_prob`. Rate should be set to `rate = 1 - keep_prob`.\n",
      "W0318 21:22:53.030723 140687466006336 deprecation_wrapper.py:119] From /home/leonardo/anaconda3/envs/gpu/lib/python3.7/site-packages/keras/optimizers.py:790: The name tf.train.Optimizer is deprecated. Please use tf.compat.v1.train.Optimizer instead.\n",
      "\n",
      "W0318 21:22:53.122835 140687466006336 deprecation.py:323] From /home/leonardo/anaconda3/envs/gpu/lib/python3.7/site-packages/tensorflow/python/ops/math_grad.py:1250: add_dispatch_support.<locals>.wrapper (from tensorflow.python.ops.array_ops) is deprecated and will be removed in a future version.\n",
      "Instructions for updating:\n",
      "Use tf.where in 2.0, which has the same broadcast rule as np.where\n"
     ]
    },
    {
     "name": "stdout",
     "output_type": "stream",
     "text": [
      "_________________________________________________________________\n",
      "Layer (type)                 Output Shape              Param #   \n",
      "=================================================================\n",
      "embedding_1 (Embedding)      (None, 6000, 50)          5250000   \n",
      "_________________________________________________________________\n",
      "flatten_1 (Flatten)          (None, 300000)            0         \n",
      "_________________________________________________________________\n",
      "dense_1 (Dense)              (None, 64)                19200064  \n",
      "_________________________________________________________________\n",
      "dropout_1 (Dropout)          (None, 64)                0         \n",
      "_________________________________________________________________\n",
      "dense_2 (Dense)              (None, 128)               8320      \n",
      "_________________________________________________________________\n",
      "dropout_2 (Dropout)          (None, 128)               0         \n",
      "_________________________________________________________________\n",
      "dense_3 (Dense)              (None, 91)                11739     \n",
      "=================================================================\n",
      "Total params: 24,470,123\n",
      "Trainable params: 24,470,123\n",
      "Non-trainable params: 0\n",
      "_________________________________________________________________\n",
      "Train on 8419 samples, validate on 2105 samples\n",
      "Epoch 1/20\n",
      "8419/8419 [==============================] - 10s 1ms/step - loss: 4.2206 - categorical_accuracy: 0.3169 - val_loss: 2.1084 - val_categorical_accuracy: 0.2922\n",
      "Epoch 2/20\n",
      "8419/8419 [==============================] - 9s 1ms/step - loss: 2.2704 - categorical_accuracy: 0.3846 - val_loss: 2.0225 - val_categorical_accuracy: 0.2594\n",
      "Epoch 3/20\n",
      "8419/8419 [==============================] - 9s 1ms/step - loss: 2.1558 - categorical_accuracy: 0.4060 - val_loss: 2.0114 - val_categorical_accuracy: 0.2608\n",
      "Epoch 4/20\n",
      "8419/8419 [==============================] - 9s 1ms/step - loss: 2.1260 - categorical_accuracy: 0.4150 - val_loss: 1.9603 - val_categorical_accuracy: 0.2665\n",
      "Epoch 5/20\n",
      "8419/8419 [==============================] - 9s 1ms/step - loss: 2.0842 - categorical_accuracy: 0.4345 - val_loss: 1.9808 - val_categorical_accuracy: 0.2708\n",
      "Epoch 6/20\n",
      "8419/8419 [==============================] - 9s 1ms/step - loss: 2.0387 - categorical_accuracy: 0.4310 - val_loss: 1.9676 - val_categorical_accuracy: 0.2613\n",
      "Epoch 7/20\n",
      "8419/8419 [==============================] - 9s 1ms/step - loss: 2.0454 - categorical_accuracy: 0.4388 - val_loss: 1.9747 - val_categorical_accuracy: 0.2694\n",
      "Epoch 8/20\n",
      "8419/8419 [==============================] - 9s 1ms/step - loss: 2.0282 - categorical_accuracy: 0.4357 - val_loss: 1.9986 - val_categorical_accuracy: 0.2694\n",
      "Epoch 9/20\n",
      "8419/8419 [==============================] - 9s 1ms/step - loss: 2.0294 - categorical_accuracy: 0.4354 - val_loss: 1.9722 - val_categorical_accuracy: 0.2660\n",
      "Epoch 10/20\n",
      "8419/8419 [==============================] - 9s 1ms/step - loss: 2.0152 - categorical_accuracy: 0.4448 - val_loss: 1.9466 - val_categorical_accuracy: 0.2670\n",
      "Epoch 11/20\n",
      "8419/8419 [==============================] - 9s 1ms/step - loss: 2.0065 - categorical_accuracy: 0.4502 - val_loss: 1.9722 - val_categorical_accuracy: 0.2746\n",
      "Epoch 12/20\n",
      "8419/8419 [==============================] - 9s 1ms/step - loss: 1.9794 - categorical_accuracy: 0.4516 - val_loss: 2.0020 - val_categorical_accuracy: 0.2722\n",
      "Epoch 13/20\n",
      "8419/8419 [==============================] - 9s 1ms/step - loss: 1.9727 - categorical_accuracy: 0.4549 - val_loss: 1.9453 - val_categorical_accuracy: 0.2665\n",
      "Epoch 14/20\n",
      "8419/8419 [==============================] - 9s 1ms/step - loss: 1.9667 - categorical_accuracy: 0.4531 - val_loss: 1.9748 - val_categorical_accuracy: 0.2708\n",
      "Epoch 15/20\n",
      "8419/8419 [==============================] - 9s 1ms/step - loss: 1.9493 - categorical_accuracy: 0.4523 - val_loss: 2.0297 - val_categorical_accuracy: 0.2722\n",
      "Epoch 16/20\n",
      "8419/8419 [==============================] - 9s 1ms/step - loss: 1.9475 - categorical_accuracy: 0.4559 - val_loss: 1.9607 - val_categorical_accuracy: 0.2603\n",
      "Epoch 17/20\n",
      "8419/8419 [==============================] - 9s 1ms/step - loss: 1.9337 - categorical_accuracy: 0.4568 - val_loss: 1.9954 - val_categorical_accuracy: 0.2765\n",
      "Epoch 18/20\n",
      "8419/8419 [==============================] - 9s 1ms/step - loss: 1.9714 - categorical_accuracy: 0.4486 - val_loss: 1.9922 - val_categorical_accuracy: 0.2717\n",
      "Epoch 19/20\n",
      "8419/8419 [==============================] - 9s 1ms/step - loss: 1.9491 - categorical_accuracy: 0.4584 - val_loss: 1.9850 - val_categorical_accuracy: 0.2713\n",
      "Epoch 20/20\n",
      "8419/8419 [==============================] - 10s 1ms/step - loss: 1.9511 - categorical_accuracy: 0.4560 - val_loss: 1.9677 - val_categorical_accuracy: 0.2694\n"
     ]
    }
   ],
   "source": [
    "from keras.models import Sequential\n",
    "from keras.layers import Flatten, Dense, Embedding\n",
    "from keras.layers.core import Dropout\n",
    "\n",
    "model = Sequential()\n",
    "model.add(Embedding(vocabulario, dim_vetor, weights=[embedding_matrix], input_length=limite_texto, trainable=True))\n",
    "model.add(Flatten())\n",
    "model.add(Dense(64, activation='relu'))\n",
    "model.add(Dropout(0.4))\n",
    "model.add(Dense(128, activation='relu'))\n",
    "model.add(Dropout(0.4))\n",
    "model.add(Dense(y.shape[1], activation='softmax'))\n",
    "model.compile(loss='categorical_crossentropy', optimizer='adadelta',  metrics=[\"categorical_accuracy\"])\n",
    "model.summary()\n",
    "history = model.fit(x, y, epochs=20, batch_size=32, validation_split=0.2, verbose=1, shuffle=True)"
   ]
  },
  {
   "cell_type": "code",
   "execution_count": null,
   "metadata": {},
   "outputs": [],
   "source": []
  }
 ],
 "metadata": {
  "kernelspec": {
   "display_name": "Python 3",
   "language": "python",
   "name": "python3"
  },
  "language_info": {
   "codemirror_mode": {
    "name": "ipython",
    "version": 3
   },
   "file_extension": ".py",
   "mimetype": "text/x-python",
   "name": "python",
   "nbconvert_exporter": "python",
   "pygments_lexer": "ipython3",
   "version": "3.7.4"
  }
 },
 "nbformat": 4,
 "nbformat_minor": 2
}
