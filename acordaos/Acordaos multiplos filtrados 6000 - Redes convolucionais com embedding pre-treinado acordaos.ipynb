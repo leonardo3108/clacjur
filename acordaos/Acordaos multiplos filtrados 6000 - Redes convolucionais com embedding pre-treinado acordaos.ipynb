{
 "cells": [
  {
   "cell_type": "markdown",
   "metadata": {},
   "source": [
    "# Importação e preparação dos dados"
   ]
  },
  {
   "cell_type": "code",
   "execution_count": 1,
   "metadata": {},
   "outputs": [
    {
     "data": {
      "text/html": [
       "<div>\n",
       "<style scoped>\n",
       "    .dataframe tbody tr th:only-of-type {\n",
       "        vertical-align: middle;\n",
       "    }\n",
       "\n",
       "    .dataframe tbody tr th {\n",
       "        vertical-align: top;\n",
       "    }\n",
       "\n",
       "    .dataframe thead th {\n",
       "        text-align: right;\n",
       "    }\n",
       "</style>\n",
       "<table border=\"1\" class=\"dataframe\">\n",
       "  <thead>\n",
       "    <tr style=\"text-align: right;\">\n",
       "      <th></th>\n",
       "      <th>acordao</th>\n",
       "      <th>areas</th>\n",
       "      <th>filtrado_6000</th>\n",
       "    </tr>\n",
       "  </thead>\n",
       "  <tbody>\n",
       "    <tr>\n",
       "      <th>0</th>\n",
       "      <td>297/2016-P</td>\n",
       "      <td>Responsabilidade</td>\n",
       "      <td>tribunal conta união tc grupo classe plenário ...</td>\n",
       "    </tr>\n",
       "    <tr>\n",
       "      <th>1</th>\n",
       "      <td>366/2016-P</td>\n",
       "      <td>Finanças Públicas</td>\n",
       "      <td>tribunal conta união tc grupo classe ii plenár...</td>\n",
       "    </tr>\n",
       "    <tr>\n",
       "      <th>2</th>\n",
       "      <td>944/2016-P</td>\n",
       "      <td>Responsabilidade</td>\n",
       "      <td>tribunal conta união tc grupo classe plenário ...</td>\n",
       "    </tr>\n",
       "    <tr>\n",
       "      <th>3</th>\n",
       "      <td>30/2016-P</td>\n",
       "      <td>Direito Processual</td>\n",
       "      <td>tribunal conta união tc grupo classe plenário ...</td>\n",
       "    </tr>\n",
       "    <tr>\n",
       "      <th>4</th>\n",
       "      <td>55/2016-P</td>\n",
       "      <td>Pessoal</td>\n",
       "      <td>wania lucia pasquarelli nascimentotcuwania luc...</td>\n",
       "    </tr>\n",
       "  </tbody>\n",
       "</table>\n",
       "</div>"
      ],
      "text/plain": [
       "      acordao               areas  \\\n",
       "0  297/2016-P    Responsabilidade   \n",
       "1  366/2016-P   Finanças Públicas   \n",
       "2  944/2016-P    Responsabilidade   \n",
       "3   30/2016-P  Direito Processual   \n",
       "4   55/2016-P             Pessoal   \n",
       "\n",
       "                                       filtrado_6000  \n",
       "0  tribunal conta união tc grupo classe plenário ...  \n",
       "1  tribunal conta união tc grupo classe ii plenár...  \n",
       "2  tribunal conta união tc grupo classe plenário ...  \n",
       "3  tribunal conta união tc grupo classe plenário ...  \n",
       "4  wania lucia pasquarelli nascimentotcuwania luc...  "
      ]
     },
     "execution_count": 1,
     "metadata": {},
     "output_type": "execute_result"
    }
   ],
   "source": [
    "import pandas as pd\n",
    "\n",
    "df = pd.read_csv('../dados/acordaos-selecionada-filtrados-6000.csv', sep = '|')\n",
    "df['filtrado_6000']=df['filtrado_6000'].astype(str)\n",
    "df.head()"
   ]
  },
  {
   "cell_type": "code",
   "execution_count": 2,
   "metadata": {},
   "outputs": [
    {
     "data": {
      "text/plain": [
       "(10524, 3)"
      ]
     },
     "execution_count": 2,
     "metadata": {},
     "output_type": "execute_result"
    }
   ],
   "source": [
    "df.shape"
   ]
  },
  {
   "cell_type": "code",
   "execution_count": 3,
   "metadata": {},
   "outputs": [
    {
     "data": {
      "text/plain": [
       "(10524, 91)"
      ]
     },
     "execution_count": 3,
     "metadata": {},
     "output_type": "execute_result"
    }
   ],
   "source": [
    "from sklearn.preprocessing import LabelBinarizer\n",
    "\n",
    "areas = df.groupby(['areas']).groups.keys()\n",
    "lbArea = LabelBinarizer()\n",
    "lbArea.fit([x for x in areas])\n",
    "y = lbArea.transform(df['areas'])\n",
    "y.shape"
   ]
  },
  {
   "cell_type": "code",
   "execution_count": 4,
   "metadata": {},
   "outputs": [
    {
     "name": "stderr",
     "output_type": "stream",
     "text": [
      "Using TensorFlow backend.\n"
     ]
    },
    {
     "name": "stdout",
     "output_type": "stream",
     "text": [
      "Found 102108 unique tokens.\n"
     ]
    }
   ],
   "source": [
    "from keras.preprocessing.text import Tokenizer\n",
    "import numpy as np\n",
    "\n",
    "vocabulario = 105000\n",
    "limite_texto = 6000\n",
    "dim_vetor = 100\n",
    "\n",
    "tokenizer = Tokenizer(num_words=vocabulario)\n",
    "tokenizer.fit_on_texts(df['filtrado_6000'])\n",
    "\n",
    "sequences = tokenizer.texts_to_sequences(df['filtrado_6000'])\n",
    "\n",
    "word_index = tokenizer.word_index\n",
    "vocabulario = len(word_index) + 1\n",
    "print('Found %s unique tokens.' % len(word_index))"
   ]
  },
  {
   "cell_type": "code",
   "execution_count": 5,
   "metadata": {},
   "outputs": [
    {
     "name": "stdout",
     "output_type": "stream",
     "text": [
      "Shape of data tensor: (10524, 6000)\n"
     ]
    }
   ],
   "source": [
    "from keras.preprocessing.sequence import pad_sequences\n",
    "\n",
    "x = pad_sequences(sequences, maxlen=limite_texto)\n",
    "\n",
    "print('Shape of data tensor:', x.shape)"
   ]
  },
  {
   "cell_type": "code",
   "execution_count": 6,
   "metadata": {},
   "outputs": [
    {
     "data": {
      "text/plain": [
       "((10524, 6000), (10524, 91))"
      ]
     },
     "execution_count": 6,
     "metadata": {},
     "output_type": "execute_result"
    }
   ],
   "source": [
    "x.shape, y.shape"
   ]
  },
  {
   "cell_type": "code",
   "execution_count": 7,
   "metadata": {},
   "outputs": [
    {
     "name": "stderr",
     "output_type": "stream",
     "text": [
      "/home/leonardo/anaconda3/envs/gpu/lib/python3.7/site-packages/smart_open/smart_open_lib.py:398: UserWarning: This function is deprecated, use smart_open.open instead. See the migration notes for details: https://github.com/RaRe-Technologies/smart_open/blob/master/README.rst#migrating-to-the-new-open-function\n",
      "  'See the migration notes for details: %s' % _MIGRATION_NOTES_URL\n"
     ]
    }
   ],
   "source": [
    "from gensim.models import Word2Vec\n",
    "\n",
    "model = Word2Vec.load('../vocabularios/modelo-acordaos.w2v')"
   ]
  },
  {
   "cell_type": "code",
   "execution_count": 8,
   "metadata": {},
   "outputs": [
    {
     "name": "stderr",
     "output_type": "stream",
     "text": [
      "/home/leonardo/anaconda3/envs/gpu/lib/python3.7/site-packages/ipykernel_launcher.py:7: DeprecationWarning: Call to deprecated `__contains__` (Method will be removed in 4.0.0, use self.wv.__contains__() instead).\n",
      "  import sys\n",
      "/home/leonardo/anaconda3/envs/gpu/lib/python3.7/site-packages/ipykernel_launcher.py:8: DeprecationWarning: Call to deprecated `__getitem__` (Method will be removed in 4.0.0, use self.wv.__getitem__() instead).\n",
      "  \n"
     ]
    },
    {
     "name": "stdout",
     "output_type": "stream",
     "text": [
      "Vocabulario: 102108\n",
      "Encontrados no modelo: 49463 = 48.441845888666904\n"
     ]
    }
   ],
   "source": [
    "# create a weight matrix for words in training docs\n",
    "\n",
    "embedding_matrix = np.zeros((vocabulario, dim_vetor))\n",
    "\n",
    "ok = 0\n",
    "for word, i in tokenizer.word_index.items():\n",
    "    if word in model:\n",
    "        embedding_matrix[i] = model[word]\n",
    "        ok += 1\n",
    "print('Vocabulario:', i)\n",
    "print('Encontrados no modelo:', ok, '=', ok * 100. / i)"
   ]
  },
  {
   "cell_type": "markdown",
   "metadata": {},
   "source": [
    "# Treinamento"
   ]
  },
  {
   "cell_type": "code",
   "execution_count": 9,
   "metadata": {
    "scrolled": false
   },
   "outputs": [
    {
     "name": "stderr",
     "output_type": "stream",
     "text": [
      "WARNING: Logging before flag parsing goes to stderr.\n",
      "W0318 20:52:45.820186 140090319693632 deprecation_wrapper.py:119] From /home/leonardo/anaconda3/envs/gpu/lib/python3.7/site-packages/keras/backend/tensorflow_backend.py:74: The name tf.get_default_graph is deprecated. Please use tf.compat.v1.get_default_graph instead.\n",
      "\n",
      "W0318 20:52:45.893411 140090319693632 deprecation_wrapper.py:119] From /home/leonardo/anaconda3/envs/gpu/lib/python3.7/site-packages/keras/backend/tensorflow_backend.py:517: The name tf.placeholder is deprecated. Please use tf.compat.v1.placeholder instead.\n",
      "\n",
      "W0318 20:52:45.894985 140090319693632 deprecation_wrapper.py:119] From /home/leonardo/anaconda3/envs/gpu/lib/python3.7/site-packages/keras/backend/tensorflow_backend.py:4138: The name tf.random_uniform is deprecated. Please use tf.random.uniform instead.\n",
      "\n",
      "W0318 20:52:45.902280 140090319693632 deprecation_wrapper.py:119] From /home/leonardo/anaconda3/envs/gpu/lib/python3.7/site-packages/keras/backend/tensorflow_backend.py:174: The name tf.get_default_session is deprecated. Please use tf.compat.v1.get_default_session instead.\n",
      "\n",
      "W0318 20:52:45.902823 140090319693632 deprecation_wrapper.py:119] From /home/leonardo/anaconda3/envs/gpu/lib/python3.7/site-packages/keras/backend/tensorflow_backend.py:181: The name tf.ConfigProto is deprecated. Please use tf.compat.v1.ConfigProto instead.\n",
      "\n",
      "W0318 20:52:46.679325 140090319693632 deprecation_wrapper.py:119] From /home/leonardo/anaconda3/envs/gpu/lib/python3.7/site-packages/keras/backend/tensorflow_backend.py:3976: The name tf.nn.max_pool is deprecated. Please use tf.nn.max_pool2d instead.\n",
      "\n",
      "W0318 20:52:46.716813 140090319693632 deprecation_wrapper.py:119] From /home/leonardo/anaconda3/envs/gpu/lib/python3.7/site-packages/keras/optimizers.py:790: The name tf.train.Optimizer is deprecated. Please use tf.compat.v1.train.Optimizer instead.\n",
      "\n",
      "W0318 20:52:46.798204 140090319693632 deprecation.py:323] From /home/leonardo/anaconda3/envs/gpu/lib/python3.7/site-packages/tensorflow/python/ops/math_grad.py:1250: add_dispatch_support.<locals>.wrapper (from tensorflow.python.ops.array_ops) is deprecated and will be removed in a future version.\n",
      "Instructions for updating:\n",
      "Use tf.where in 2.0, which has the same broadcast rule as np.where\n"
     ]
    },
    {
     "name": "stdout",
     "output_type": "stream",
     "text": [
      "_________________________________________________________________\n",
      "Layer (type)                 Output Shape              Param #   \n",
      "=================================================================\n",
      "embedding_1 (Embedding)      (None, 6000, 100)         10210900  \n",
      "_________________________________________________________________\n",
      "conv1d_1 (Conv1D)            (None, 5994, 32)          22432     \n",
      "_________________________________________________________________\n",
      "max_pooling1d_1 (MaxPooling1 (None, 1198, 32)          0         \n",
      "_________________________________________________________________\n",
      "conv1d_2 (Conv1D)            (None, 1192, 32)          7200      \n",
      "_________________________________________________________________\n",
      "global_max_pooling1d_1 (Glob (None, 32)                0         \n",
      "_________________________________________________________________\n",
      "dense_1 (Dense)              (None, 91)                3003      \n",
      "=================================================================\n",
      "Total params: 10,243,535\n",
      "Trainable params: 32,635\n",
      "Non-trainable params: 10,210,900\n",
      "_________________________________________________________________\n",
      "Train on 8419 samples, validate on 2105 samples\n",
      "Epoch 1/20\n",
      "8419/8419 [==============================] - 5s 634us/step - loss: 1.9112 - categorical_accuracy: 0.5226 - val_loss: 1.6575 - val_categorical_accuracy: 0.4637\n",
      "Epoch 2/20\n",
      "8419/8419 [==============================] - 4s 493us/step - loss: 1.4653 - categorical_accuracy: 0.6043 - val_loss: 1.9149 - val_categorical_accuracy: 0.4290\n",
      "Epoch 3/20\n",
      "8419/8419 [==============================] - 4s 500us/step - loss: 1.3388 - categorical_accuracy: 0.6403 - val_loss: 1.7524 - val_categorical_accuracy: 0.4271\n",
      "Epoch 4/20\n",
      "8419/8419 [==============================] - 4s 488us/step - loss: 1.2426 - categorical_accuracy: 0.6685 - val_loss: 1.7172 - val_categorical_accuracy: 0.5572\n",
      "Epoch 5/20\n",
      "8419/8419 [==============================] - 4s 496us/step - loss: 1.1427 - categorical_accuracy: 0.6920 - val_loss: 2.0992 - val_categorical_accuracy: 0.4656\n",
      "Epoch 6/20\n",
      "8419/8419 [==============================] - 4s 502us/step - loss: 1.0646 - categorical_accuracy: 0.7136 - val_loss: 1.4958 - val_categorical_accuracy: 0.5900\n",
      "Epoch 7/20\n",
      "8419/8419 [==============================] - 4s 500us/step - loss: 0.9854 - categorical_accuracy: 0.7323 - val_loss: 1.6145 - val_categorical_accuracy: 0.5743\n",
      "Epoch 8/20\n",
      "8419/8419 [==============================] - 4s 498us/step - loss: 0.9091 - categorical_accuracy: 0.7504 - val_loss: 2.3099 - val_categorical_accuracy: 0.4665\n",
      "Epoch 9/20\n",
      "8419/8419 [==============================] - 4s 492us/step - loss: 0.8471 - categorical_accuracy: 0.7699 - val_loss: 1.7739 - val_categorical_accuracy: 0.5036\n",
      "Epoch 10/20\n",
      "8419/8419 [==============================] - 4s 489us/step - loss: 0.7804 - categorical_accuracy: 0.7913 - val_loss: 2.1183 - val_categorical_accuracy: 0.5002\n",
      "Epoch 11/20\n",
      "8419/8419 [==============================] - 4s 484us/step - loss: 0.7284 - categorical_accuracy: 0.8025 - val_loss: 2.1944 - val_categorical_accuracy: 0.5074\n",
      "Epoch 12/20\n",
      "8419/8419 [==============================] - 4s 483us/step - loss: 0.6782 - categorical_accuracy: 0.8173 - val_loss: 2.2678 - val_categorical_accuracy: 0.4679\n",
      "Epoch 13/20\n",
      "8419/8419 [==============================] - 4s 486us/step - loss: 0.6311 - categorical_accuracy: 0.8303 - val_loss: 1.9807 - val_categorical_accuracy: 0.5093\n",
      "Epoch 14/20\n",
      "8419/8419 [==============================] - 4s 486us/step - loss: 0.6064 - categorical_accuracy: 0.8374 - val_loss: 2.3812 - val_categorical_accuracy: 0.4755\n",
      "Epoch 15/20\n",
      "8419/8419 [==============================] - 4s 487us/step - loss: 0.5612 - categorical_accuracy: 0.8512 - val_loss: 2.6008 - val_categorical_accuracy: 0.3995\n",
      "Epoch 16/20\n",
      "8419/8419 [==============================] - 4s 488us/step - loss: 0.5343 - categorical_accuracy: 0.8569 - val_loss: 2.3475 - val_categorical_accuracy: 0.5230\n",
      "Epoch 17/20\n",
      "8419/8419 [==============================] - 4s 486us/step - loss: 0.5067 - categorical_accuracy: 0.8657 - val_loss: 2.3091 - val_categorical_accuracy: 0.5116\n",
      "Epoch 18/20\n",
      "8419/8419 [==============================] - 4s 489us/step - loss: 0.4785 - categorical_accuracy: 0.8718 - val_loss: 2.1899 - val_categorical_accuracy: 0.5715\n",
      "Epoch 19/20\n",
      "8419/8419 [==============================] - 4s 487us/step - loss: 0.4702 - categorical_accuracy: 0.8753 - val_loss: 2.3111 - val_categorical_accuracy: 0.4860\n",
      "Epoch 20/20\n",
      "8419/8419 [==============================] - 4s 488us/step - loss: 0.4415 - categorical_accuracy: 0.8831 - val_loss: 2.7781 - val_categorical_accuracy: 0.4893\n"
     ]
    }
   ],
   "source": [
    "from keras.models import Sequential\n",
    "from keras.layers import Embedding, Conv1D, MaxPooling1D, Dense, GlobalMaxPooling1D, Flatten\n",
    "from keras.optimizers import RMSprop\n",
    "from keras.layers.core import Dropout\n",
    "\n",
    "model = Sequential()\n",
    "model.add(Embedding(vocabulario, dim_vetor, weights=[embedding_matrix], input_length=limite_texto, trainable=False))\n",
    "model.add(Conv1D(32, 7, activation='relu'))\n",
    "model.add(MaxPooling1D(5))\n",
    "model.add(Conv1D(32, 7, activation='relu'))\n",
    "model.add(GlobalMaxPooling1D())\n",
    "model.add(Dense(y.shape[1], activation='softmax'))\n",
    "model.compile(loss='categorical_crossentropy', optimizer=RMSprop(),  metrics=[\"categorical_accuracy\"])\n",
    "model.summary()\n",
    "history = model.fit(x, y, epochs=20, batch_size=32, validation_split=0.2, verbose=1, shuffle=True)"
   ]
  },
  {
   "cell_type": "code",
   "execution_count": 10,
   "metadata": {},
   "outputs": [
    {
     "name": "stdout",
     "output_type": "stream",
     "text": [
      "_________________________________________________________________\n",
      "Layer (type)                 Output Shape              Param #   \n",
      "=================================================================\n",
      "embedding_2 (Embedding)      (None, 6000, 100)         10210900  \n",
      "_________________________________________________________________\n",
      "conv1d_3 (Conv1D)            (None, 5994, 64)          44864     \n",
      "_________________________________________________________________\n",
      "max_pooling1d_2 (MaxPooling1 (None, 1198, 64)          0         \n",
      "_________________________________________________________________\n",
      "conv1d_4 (Conv1D)            (None, 1192, 32)          14368     \n",
      "_________________________________________________________________\n",
      "global_max_pooling1d_2 (Glob (None, 32)                0         \n",
      "_________________________________________________________________\n",
      "dense_2 (Dense)              (None, 91)                3003      \n",
      "=================================================================\n",
      "Total params: 10,273,135\n",
      "Trainable params: 10,273,135\n",
      "Non-trainable params: 0\n",
      "_________________________________________________________________\n",
      "Train on 8419 samples, validate on 2105 samples\n",
      "Epoch 1/20\n",
      "8419/8419 [==============================] - 11s 1ms/step - loss: 1.7897 - categorical_accuracy: 0.5358 - val_loss: 1.6437 - val_categorical_accuracy: 0.4803\n",
      "Epoch 2/20\n",
      "8419/8419 [==============================] - 10s 1ms/step - loss: 1.4228 - categorical_accuracy: 0.6223 - val_loss: 1.9446 - val_categorical_accuracy: 0.4746\n",
      "Epoch 3/20\n",
      "8419/8419 [==============================] - 10s 1ms/step - loss: 1.2668 - categorical_accuracy: 0.6693 - val_loss: 1.7556 - val_categorical_accuracy: 0.5107\n",
      "Epoch 4/20\n",
      "8419/8419 [==============================] - 10s 1ms/step - loss: 1.1345 - categorical_accuracy: 0.7065 - val_loss: 1.9949 - val_categorical_accuracy: 0.4057\n",
      "Epoch 5/20\n",
      "8419/8419 [==============================] - 10s 1ms/step - loss: 1.0047 - categorical_accuracy: 0.7419 - val_loss: 1.7084 - val_categorical_accuracy: 0.5615\n",
      "Epoch 6/20\n",
      "8419/8419 [==============================] - 10s 1ms/step - loss: 0.8788 - categorical_accuracy: 0.7686 - val_loss: 1.5213 - val_categorical_accuracy: 0.6128\n",
      "Epoch 7/20\n",
      "8419/8419 [==============================] - 10s 1ms/step - loss: 0.7666 - categorical_accuracy: 0.8027 - val_loss: 1.9859 - val_categorical_accuracy: 0.4907\n",
      "Epoch 8/20\n",
      "8419/8419 [==============================] - 10s 1ms/step - loss: 0.6556 - categorical_accuracy: 0.8348 - val_loss: 1.7282 - val_categorical_accuracy: 0.5767\n",
      "Epoch 9/20\n",
      "8419/8419 [==============================] - 10s 1ms/step - loss: 0.5661 - categorical_accuracy: 0.8571 - val_loss: 1.7032 - val_categorical_accuracy: 0.5487\n",
      "Epoch 10/20\n",
      "8419/8419 [==============================] - 10s 1ms/step - loss: 0.4968 - categorical_accuracy: 0.8765 - val_loss: 2.7532 - val_categorical_accuracy: 0.4356\n",
      "Epoch 11/20\n",
      "8419/8419 [==============================] - 10s 1ms/step - loss: 0.4389 - categorical_accuracy: 0.8939 - val_loss: 1.9834 - val_categorical_accuracy: 0.5682\n",
      "Epoch 12/20\n",
      "8419/8419 [==============================] - 10s 1ms/step - loss: 0.3816 - categorical_accuracy: 0.9083 - val_loss: 2.5313 - val_categorical_accuracy: 0.5439\n",
      "Epoch 13/20\n",
      "8419/8419 [==============================] - 10s 1ms/step - loss: 0.3598 - categorical_accuracy: 0.9108 - val_loss: 1.9674 - val_categorical_accuracy: 0.5891\n",
      "Epoch 14/20\n",
      "8419/8419 [==============================] - 10s 1ms/step - loss: 0.3215 - categorical_accuracy: 0.9203 - val_loss: 2.2152 - val_categorical_accuracy: 0.6095\n",
      "Epoch 15/20\n",
      "8419/8419 [==============================] - 10s 1ms/step - loss: 0.2933 - categorical_accuracy: 0.9270 - val_loss: 2.2726 - val_categorical_accuracy: 0.5577\n",
      "Epoch 16/20\n",
      "8419/8419 [==============================] - 10s 1ms/step - loss: 0.2671 - categorical_accuracy: 0.9350 - val_loss: 2.3767 - val_categorical_accuracy: 0.5625\n",
      "Epoch 17/20\n",
      "8419/8419 [==============================] - 10s 1ms/step - loss: 0.2600 - categorical_accuracy: 0.9355 - val_loss: 2.8056 - val_categorical_accuracy: 0.5131\n",
      "Epoch 18/20\n",
      "8419/8419 [==============================] - 10s 1ms/step - loss: 0.2459 - categorical_accuracy: 0.9376 - val_loss: 3.3375 - val_categorical_accuracy: 0.5401\n",
      "Epoch 19/20\n",
      "8419/8419 [==============================] - 10s 1ms/step - loss: 0.2308 - categorical_accuracy: 0.9445 - val_loss: 2.6822 - val_categorical_accuracy: 0.5496\n",
      "Epoch 20/20\n",
      "8419/8419 [==============================] - 10s 1ms/step - loss: 0.2250 - categorical_accuracy: 0.9444 - val_loss: 3.0583 - val_categorical_accuracy: 0.4779\n"
     ]
    }
   ],
   "source": [
    "model = Sequential()\n",
    "model.add(Embedding(vocabulario, dim_vetor, weights=[embedding_matrix], input_length=limite_texto, trainable=True))\n",
    "model.add(Conv1D(64, 7, activation='relu'))\n",
    "model.add(MaxPooling1D(5))\n",
    "model.add(Conv1D(32, 7, activation='relu'))\n",
    "model.add(GlobalMaxPooling1D())\n",
    "model.add(Dense(y.shape[1], activation='softmax'))\n",
    "model.compile(loss='categorical_crossentropy', optimizer=RMSprop(),  metrics=[\"categorical_accuracy\"])\n",
    "model.summary()\n",
    "history = model.fit(x, y, epochs=20, batch_size=32, validation_split=0.2, verbose=1, shuffle=True)"
   ]
  },
  {
   "cell_type": "code",
   "execution_count": 11,
   "metadata": {
    "scrolled": false
   },
   "outputs": [
    {
     "name": "stderr",
     "output_type": "stream",
     "text": [
      "W0318 20:57:39.107580 140090319693632 deprecation.py:506] From /home/leonardo/anaconda3/envs/gpu/lib/python3.7/site-packages/keras/backend/tensorflow_backend.py:3445: calling dropout (from tensorflow.python.ops.nn_ops) with keep_prob is deprecated and will be removed in a future version.\n",
      "Instructions for updating:\n",
      "Please use `rate` instead of `keep_prob`. Rate should be set to `rate = 1 - keep_prob`.\n"
     ]
    },
    {
     "name": "stdout",
     "output_type": "stream",
     "text": [
      "_________________________________________________________________\n",
      "Layer (type)                 Output Shape              Param #   \n",
      "=================================================================\n",
      "embedding_3 (Embedding)      (None, 6000, 100)         10210900  \n",
      "_________________________________________________________________\n",
      "conv1d_5 (Conv1D)            (None, 5994, 64)          44864     \n",
      "_________________________________________________________________\n",
      "max_pooling1d_3 (MaxPooling1 (None, 1198, 64)          0         \n",
      "_________________________________________________________________\n",
      "conv1d_6 (Conv1D)            (None, 1192, 32)          14368     \n",
      "_________________________________________________________________\n",
      "max_pooling1d_4 (MaxPooling1 (None, 238, 32)           0         \n",
      "_________________________________________________________________\n",
      "flatten_1 (Flatten)          (None, 7616)              0         \n",
      "_________________________________________________________________\n",
      "dense_3 (Dense)              (None, 256)               1949952   \n",
      "_________________________________________________________________\n",
      "dropout_1 (Dropout)          (None, 256)               0         \n",
      "_________________________________________________________________\n",
      "dense_4 (Dense)              (None, 91)                23387     \n",
      "=================================================================\n",
      "Total params: 12,243,471\n",
      "Trainable params: 12,243,471\n",
      "Non-trainable params: 0\n",
      "_________________________________________________________________\n",
      "Train on 8419 samples, validate on 2105 samples\n",
      "Epoch 1/20\n",
      "8419/8419 [==============================] - 12s 1ms/step - loss: 2.1847 - categorical_accuracy: 0.4606 - val_loss: 1.6999 - val_categorical_accuracy: 0.5601\n",
      "Epoch 2/20\n",
      "8419/8419 [==============================] - 11s 1ms/step - loss: 1.6412 - categorical_accuracy: 0.5793 - val_loss: 1.9591 - val_categorical_accuracy: 0.3995\n",
      "Epoch 3/20\n",
      "8419/8419 [==============================] - 11s 1ms/step - loss: 1.4575 - categorical_accuracy: 0.6148 - val_loss: 2.0271 - val_categorical_accuracy: 0.4779\n",
      "Epoch 4/20\n",
      "8419/8419 [==============================] - 11s 1ms/step - loss: 1.2813 - categorical_accuracy: 0.6618 - val_loss: 1.7366 - val_categorical_accuracy: 0.4798\n",
      "Epoch 5/20\n",
      "8419/8419 [==============================] - 11s 1ms/step - loss: 1.1193 - categorical_accuracy: 0.7118 - val_loss: 2.2451 - val_categorical_accuracy: 0.4865\n",
      "Epoch 6/20\n",
      "8419/8419 [==============================] - 11s 1ms/step - loss: 0.9219 - categorical_accuracy: 0.7661 - val_loss: 2.5039 - val_categorical_accuracy: 0.4884\n",
      "Epoch 7/20\n",
      "8419/8419 [==============================] - 11s 1ms/step - loss: 0.7866 - categorical_accuracy: 0.8098 - val_loss: 3.3305 - val_categorical_accuracy: 0.4689\n",
      "Epoch 8/20\n",
      "8419/8419 [==============================] - 11s 1ms/step - loss: 0.6449 - categorical_accuracy: 0.8461 - val_loss: 2.9670 - val_categorical_accuracy: 0.4418\n",
      "Epoch 9/20\n",
      "8419/8419 [==============================] - 11s 1ms/step - loss: 0.5502 - categorical_accuracy: 0.8730 - val_loss: 3.8920 - val_categorical_accuracy: 0.4898\n",
      "Epoch 10/20\n",
      "8419/8419 [==============================] - 11s 1ms/step - loss: 0.4622 - categorical_accuracy: 0.8944 - val_loss: 4.1050 - val_categorical_accuracy: 0.4998\n",
      "Epoch 11/20\n",
      "8419/8419 [==============================] - 11s 1ms/step - loss: 0.4217 - categorical_accuracy: 0.9119 - val_loss: 4.3207 - val_categorical_accuracy: 0.4793\n",
      "Epoch 12/20\n",
      "8419/8419 [==============================] - 11s 1ms/step - loss: 0.3605 - categorical_accuracy: 0.9232 - val_loss: 4.5103 - val_categorical_accuracy: 0.4708\n",
      "Epoch 13/20\n",
      "8419/8419 [==============================] - 11s 1ms/step - loss: 0.3567 - categorical_accuracy: 0.9279 - val_loss: 5.6137 - val_categorical_accuracy: 0.4732\n",
      "Epoch 14/20\n",
      "8419/8419 [==============================] - 11s 1ms/step - loss: 0.3393 - categorical_accuracy: 0.9349 - val_loss: 4.1618 - val_categorical_accuracy: 0.4480\n",
      "Epoch 15/20\n",
      "8419/8419 [==============================] - 11s 1ms/step - loss: 0.2997 - categorical_accuracy: 0.9422 - val_loss: 4.9417 - val_categorical_accuracy: 0.4314\n",
      "Epoch 16/20\n",
      "8419/8419 [==============================] - 11s 1ms/step - loss: 0.2931 - categorical_accuracy: 0.9463 - val_loss: 4.1579 - val_categorical_accuracy: 0.3729\n",
      "Epoch 17/20\n",
      "8419/8419 [==============================] - 11s 1ms/step - loss: 0.3037 - categorical_accuracy: 0.9431 - val_loss: 5.0386 - val_categorical_accuracy: 0.4508\n",
      "Epoch 18/20\n",
      "8419/8419 [==============================] - 11s 1ms/step - loss: 0.3097 - categorical_accuracy: 0.9468 - val_loss: 5.1908 - val_categorical_accuracy: 0.4451\n",
      "Epoch 19/20\n",
      "8419/8419 [==============================] - 11s 1ms/step - loss: 0.2969 - categorical_accuracy: 0.9496 - val_loss: 5.1114 - val_categorical_accuracy: 0.4385\n",
      "Epoch 20/20\n",
      "8419/8419 [==============================] - 11s 1ms/step - loss: 0.2477 - categorical_accuracy: 0.9530 - val_loss: 4.9902 - val_categorical_accuracy: 0.4380\n"
     ]
    }
   ],
   "source": [
    "model = Sequential()\n",
    "model.add(Embedding(vocabulario, dim_vetor, weights=[embedding_matrix], input_length=limite_texto, trainable=True))\n",
    "model.add(Conv1D(64, 7, activation='relu'))\n",
    "model.add(MaxPooling1D(5))\n",
    "model.add(Conv1D(32, 7, activation='relu'))\n",
    "model.add(MaxPooling1D(5))\n",
    "model.add(Flatten())\n",
    "model.add(Dense(256, activation='relu'))\n",
    "model.add(Dropout(0.2))\n",
    "model.add(Dense(y.shape[1], activation='softmax'))\n",
    "model.compile(loss='categorical_crossentropy', optimizer=RMSprop(),  metrics=[\"categorical_accuracy\"])\n",
    "model.summary()\n",
    "history = model.fit(x, y, epochs=20, batch_size=32, validation_split=0.2, verbose=1, shuffle=True)"
   ]
  },
  {
   "cell_type": "code",
   "execution_count": 12,
   "metadata": {},
   "outputs": [
    {
     "name": "stdout",
     "output_type": "stream",
     "text": [
      "_________________________________________________________________\n",
      "Layer (type)                 Output Shape              Param #   \n",
      "=================================================================\n",
      "embedding_4 (Embedding)      (None, 6000, 100)         10210900  \n",
      "_________________________________________________________________\n",
      "conv1d_7 (Conv1D)            (None, 5994, 64)          44864     \n",
      "_________________________________________________________________\n",
      "max_pooling1d_5 (MaxPooling1 (None, 1198, 64)          0         \n",
      "_________________________________________________________________\n",
      "conv1d_8 (Conv1D)            (None, 1192, 32)          14368     \n",
      "_________________________________________________________________\n",
      "max_pooling1d_6 (MaxPooling1 (None, 238, 32)           0         \n",
      "_________________________________________________________________\n",
      "flatten_2 (Flatten)          (None, 7616)              0         \n",
      "_________________________________________________________________\n",
      "dense_5 (Dense)              (None, 1024)              7799808   \n",
      "_________________________________________________________________\n",
      "dropout_2 (Dropout)          (None, 1024)              0         \n",
      "_________________________________________________________________\n",
      "dense_6 (Dense)              (None, 128)               131200    \n",
      "_________________________________________________________________\n",
      "dropout_3 (Dropout)          (None, 128)               0         \n",
      "_________________________________________________________________\n",
      "dense_7 (Dense)              (None, 91)                11739     \n",
      "=================================================================\n",
      "Total params: 18,212,879\n",
      "Trainable params: 18,212,879\n",
      "Non-trainable params: 0\n",
      "_________________________________________________________________\n",
      "Train on 8419 samples, validate on 2105 samples\n",
      "Epoch 1/20\n",
      "8419/8419 [==============================] - 13s 1ms/step - loss: 2.3037 - categorical_accuracy: 0.4390 - val_loss: 1.6278 - val_categorical_accuracy: 0.5292\n",
      "Epoch 2/20\n",
      "8419/8419 [==============================] - 12s 1ms/step - loss: 1.7228 - categorical_accuracy: 0.5565 - val_loss: 2.9014 - val_categorical_accuracy: 0.3340\n",
      "Epoch 3/20\n",
      "8419/8419 [==============================] - 12s 1ms/step - loss: 1.5387 - categorical_accuracy: 0.5947 - val_loss: 1.6842 - val_categorical_accuracy: 0.4912\n",
      "Epoch 4/20\n",
      "8419/8419 [==============================] - 12s 1ms/step - loss: 1.3535 - categorical_accuracy: 0.6340 - val_loss: 1.7972 - val_categorical_accuracy: 0.5534\n",
      "Epoch 5/20\n",
      "8419/8419 [==============================] - 12s 1ms/step - loss: 1.1200 - categorical_accuracy: 0.6919 - val_loss: 2.4735 - val_categorical_accuracy: 0.4185\n",
      "Epoch 6/20\n",
      "8419/8419 [==============================] - 12s 1ms/step - loss: 0.9362 - categorical_accuracy: 0.7497 - val_loss: 2.3567 - val_categorical_accuracy: 0.4694\n",
      "Epoch 7/20\n",
      "8419/8419 [==============================] - 12s 1ms/step - loss: 0.7459 - categorical_accuracy: 0.8060 - val_loss: 2.6988 - val_categorical_accuracy: 0.4442\n",
      "Epoch 8/20\n",
      "8419/8419 [==============================] - 12s 1ms/step - loss: 0.6154 - categorical_accuracy: 0.8406 - val_loss: 2.8452 - val_categorical_accuracy: 0.4570\n",
      "Epoch 9/20\n",
      "8419/8419 [==============================] - 12s 1ms/step - loss: 0.5504 - categorical_accuracy: 0.8717 - val_loss: 3.0359 - val_categorical_accuracy: 0.4608\n",
      "Epoch 10/20\n",
      "8419/8419 [==============================] - 12s 1ms/step - loss: 0.4746 - categorical_accuracy: 0.8869 - val_loss: 3.7507 - val_categorical_accuracy: 0.4276\n",
      "Epoch 11/20\n",
      "8419/8419 [==============================] - 12s 1ms/step - loss: 0.4295 - categorical_accuracy: 0.9022 - val_loss: 2.8656 - val_categorical_accuracy: 0.4143\n",
      "Epoch 12/20\n",
      "8419/8419 [==============================] - 12s 1ms/step - loss: 0.3946 - categorical_accuracy: 0.9075 - val_loss: 4.2789 - val_categorical_accuracy: 0.4309\n",
      "Epoch 13/20\n",
      "8419/8419 [==============================] - 12s 1ms/step - loss: 0.3683 - categorical_accuracy: 0.9179 - val_loss: 4.1349 - val_categorical_accuracy: 0.4162\n",
      "Epoch 14/20\n",
      "8419/8419 [==============================] - 12s 1ms/step - loss: 0.3783 - categorical_accuracy: 0.9214 - val_loss: 4.4470 - val_categorical_accuracy: 0.4613\n",
      "Epoch 15/20\n",
      "8419/8419 [==============================] - 12s 1ms/step - loss: 0.3639 - categorical_accuracy: 0.9264 - val_loss: 4.0317 - val_categorical_accuracy: 0.4252\n",
      "Epoch 16/20\n",
      "8419/8419 [==============================] - 12s 1ms/step - loss: 0.3311 - categorical_accuracy: 0.9284 - val_loss: 4.5477 - val_categorical_accuracy: 0.4717\n",
      "Epoch 17/20\n",
      "8419/8419 [==============================] - 12s 1ms/step - loss: 0.3416 - categorical_accuracy: 0.9298 - val_loss: 4.5894 - val_categorical_accuracy: 0.4314\n",
      "Epoch 18/20\n",
      "8419/8419 [==============================] - 12s 1ms/step - loss: 0.3313 - categorical_accuracy: 0.9325 - val_loss: 5.5378 - val_categorical_accuracy: 0.3525\n",
      "Epoch 19/20\n",
      "8419/8419 [==============================] - 12s 1ms/step - loss: 0.3284 - categorical_accuracy: 0.9375 - val_loss: 6.5027 - val_categorical_accuracy: 0.4209\n",
      "Epoch 20/20\n",
      "8419/8419 [==============================] - 12s 1ms/step - loss: 0.3312 - categorical_accuracy: 0.9370 - val_loss: 4.8306 - val_categorical_accuracy: 0.4627\n"
     ]
    }
   ],
   "source": [
    "model = Sequential()\n",
    "model.add(Embedding(vocabulario, dim_vetor, weights=[embedding_matrix], input_length=limite_texto, trainable=True))\n",
    "model.add(Conv1D(64, 7, activation='relu'))\n",
    "model.add(MaxPooling1D(5))\n",
    "model.add(Conv1D(32, 7, activation='relu'))\n",
    "model.add(MaxPooling1D(5))\n",
    "model.add(Flatten())\n",
    "model.add(Dense(1024, activation='relu'))\n",
    "model.add(Dropout(0.2))\n",
    "model.add(Dense(128, activation='relu'))\n",
    "model.add(Dropout(0.2))\n",
    "model.add(Dense(y.shape[1], activation='softmax'))\n",
    "model.compile(loss='categorical_crossentropy', optimizer=RMSprop(),  metrics=[\"categorical_accuracy\"])\n",
    "model.summary()\n",
    "history = model.fit(x, y, epochs=20, batch_size=32, validation_split=0.2, verbose=1, shuffle=True)"
   ]
  },
  {
   "cell_type": "code",
   "execution_count": null,
   "metadata": {},
   "outputs": [],
   "source": []
  }
 ],
 "metadata": {
  "kernelspec": {
   "display_name": "Python 3",
   "language": "python",
   "name": "python3"
  },
  "language_info": {
   "codemirror_mode": {
    "name": "ipython",
    "version": 3
   },
   "file_extension": ".py",
   "mimetype": "text/x-python",
   "name": "python",
   "nbconvert_exporter": "python",
   "pygments_lexer": "ipython3",
   "version": "3.7.4"
  }
 },
 "nbformat": 4,
 "nbformat_minor": 2
}
