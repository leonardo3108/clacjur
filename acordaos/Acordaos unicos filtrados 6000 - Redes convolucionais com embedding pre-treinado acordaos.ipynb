{
 "cells": [
  {
   "cell_type": "markdown",
   "metadata": {},
   "source": [
    "# Importação e preparação dos dados"
   ]
  },
  {
   "cell_type": "code",
   "execution_count": 1,
   "metadata": {},
   "outputs": [
    {
     "data": {
      "text/html": [
       "<div>\n",
       "<style scoped>\n",
       "    .dataframe tbody tr th:only-of-type {\n",
       "        vertical-align: middle;\n",
       "    }\n",
       "\n",
       "    .dataframe tbody tr th {\n",
       "        vertical-align: top;\n",
       "    }\n",
       "\n",
       "    .dataframe thead th {\n",
       "        text-align: right;\n",
       "    }\n",
       "</style>\n",
       "<table border=\"1\" class=\"dataframe\">\n",
       "  <thead>\n",
       "    <tr style=\"text-align: right;\">\n",
       "      <th></th>\n",
       "      <th>acordao</th>\n",
       "      <th>areas</th>\n",
       "      <th>filtrado_6000</th>\n",
       "    </tr>\n",
       "  </thead>\n",
       "  <tbody>\n",
       "    <tr>\n",
       "      <th>0</th>\n",
       "      <td>297/2016-P</td>\n",
       "      <td>Responsabilidade</td>\n",
       "      <td>tribunal conta união tc grupo classe plenário ...</td>\n",
       "    </tr>\n",
       "    <tr>\n",
       "      <th>1</th>\n",
       "      <td>366/2016-P</td>\n",
       "      <td>Finanças Públicas</td>\n",
       "      <td>tribunal conta união tc grupo classe ii plenár...</td>\n",
       "    </tr>\n",
       "    <tr>\n",
       "      <th>2</th>\n",
       "      <td>944/2016-P</td>\n",
       "      <td>Responsabilidade</td>\n",
       "      <td>tribunal conta união tc grupo classe plenário ...</td>\n",
       "    </tr>\n",
       "    <tr>\n",
       "      <th>3</th>\n",
       "      <td>30/2016-P</td>\n",
       "      <td>Direito Processual</td>\n",
       "      <td>tribunal conta união tc grupo classe plenário ...</td>\n",
       "    </tr>\n",
       "    <tr>\n",
       "      <th>4</th>\n",
       "      <td>55/2016-P</td>\n",
       "      <td>Pessoal</td>\n",
       "      <td>wania lucia pasquarelli nascimentotcuwania luc...</td>\n",
       "    </tr>\n",
       "  </tbody>\n",
       "</table>\n",
       "</div>"
      ],
      "text/plain": [
       "      acordao               areas  \\\n",
       "0  297/2016-P    Responsabilidade   \n",
       "1  366/2016-P   Finanças Públicas   \n",
       "2  944/2016-P    Responsabilidade   \n",
       "3   30/2016-P  Direito Processual   \n",
       "4   55/2016-P             Pessoal   \n",
       "\n",
       "                                       filtrado_6000  \n",
       "0  tribunal conta união tc grupo classe plenário ...  \n",
       "1  tribunal conta união tc grupo classe ii plenár...  \n",
       "2  tribunal conta união tc grupo classe plenário ...  \n",
       "3  tribunal conta união tc grupo classe plenário ...  \n",
       "4  wania lucia pasquarelli nascimentotcuwania luc...  "
      ]
     },
     "execution_count": 1,
     "metadata": {},
     "output_type": "execute_result"
    }
   ],
   "source": [
    "import pandas as pd\n",
    "\n",
    "df = pd.read_csv('../dados/acordaos-unicos-filtrados-6000.csv', sep = '|')\n",
    "df['filtrado_6000']=df['filtrado_6000'].astype(str)\n",
    "df.head()"
   ]
  },
  {
   "cell_type": "code",
   "execution_count": 2,
   "metadata": {},
   "outputs": [
    {
     "data": {
      "text/plain": [
       "(9739, 3)"
      ]
     },
     "execution_count": 2,
     "metadata": {},
     "output_type": "execute_result"
    }
   ],
   "source": [
    "df.shape"
   ]
  },
  {
   "cell_type": "code",
   "execution_count": 3,
   "metadata": {},
   "outputs": [
    {
     "data": {
      "text/plain": [
       "(9739, 10)"
      ]
     },
     "execution_count": 3,
     "metadata": {},
     "output_type": "execute_result"
    }
   ],
   "source": [
    "from sklearn.preprocessing import LabelBinarizer\n",
    "\n",
    "areas = df.groupby(['areas']).groups.keys()\n",
    "lbArea = LabelBinarizer()\n",
    "lbArea.fit([x for x in areas])\n",
    "y = lbArea.transform(df['areas'])\n",
    "y.shape"
   ]
  },
  {
   "cell_type": "code",
   "execution_count": 5,
   "metadata": {},
   "outputs": [
    {
     "name": "stdout",
     "output_type": "stream",
     "text": [
      "Found 95423 unique tokens.\n"
     ]
    }
   ],
   "source": [
    "from keras.preprocessing.text import Tokenizer\n",
    "import numpy as np\n",
    "\n",
    "vocabulario = 100000\n",
    "limite_texto = 6000\n",
    "dim_vetor = 100\n",
    "\n",
    "tokenizer = Tokenizer(num_words=vocabulario)\n",
    "tokenizer.fit_on_texts(df['filtrado_6000'])\n",
    "\n",
    "sequences = tokenizer.texts_to_sequences(df['filtrado_6000'])\n",
    "\n",
    "word_index = tokenizer.word_index\n",
    "vocabulario = len(word_index) + 1\n",
    "print('Found %s unique tokens.' % len(word_index))"
   ]
  },
  {
   "cell_type": "code",
   "execution_count": 6,
   "metadata": {},
   "outputs": [
    {
     "name": "stdout",
     "output_type": "stream",
     "text": [
      "Shape of data tensor: (9739, 6000)\n"
     ]
    }
   ],
   "source": [
    "from keras.preprocessing.sequence import pad_sequences\n",
    "\n",
    "x = pad_sequences(sequences, maxlen=limite_texto)\n",
    "\n",
    "print('Shape of data tensor:', x.shape)"
   ]
  },
  {
   "cell_type": "code",
   "execution_count": 7,
   "metadata": {},
   "outputs": [
    {
     "data": {
      "text/plain": [
       "((9739, 6000), (9739, 10))"
      ]
     },
     "execution_count": 7,
     "metadata": {},
     "output_type": "execute_result"
    }
   ],
   "source": [
    "x.shape, y.shape"
   ]
  },
  {
   "cell_type": "code",
   "execution_count": 8,
   "metadata": {},
   "outputs": [
    {
     "name": "stderr",
     "output_type": "stream",
     "text": [
      "/home/leonardo/anaconda3/envs/gpu/lib/python3.7/site-packages/smart_open/smart_open_lib.py:398: UserWarning: This function is deprecated, use smart_open.open instead. See the migration notes for details: https://github.com/RaRe-Technologies/smart_open/blob/master/README.rst#migrating-to-the-new-open-function\n",
      "  'See the migration notes for details: %s' % _MIGRATION_NOTES_URL\n"
     ]
    }
   ],
   "source": [
    "from gensim.models import Word2Vec\n",
    "\n",
    "model = Word2Vec.load('../vocabularios/modelo-acordaos.w2v')"
   ]
  },
  {
   "cell_type": "code",
   "execution_count": 9,
   "metadata": {},
   "outputs": [
    {
     "name": "stderr",
     "output_type": "stream",
     "text": [
      "/home/leonardo/anaconda3/envs/gpu/lib/python3.7/site-packages/ipykernel_launcher.py:7: DeprecationWarning: Call to deprecated `__contains__` (Method will be removed in 4.0.0, use self.wv.__contains__() instead).\n",
      "  import sys\n",
      "/home/leonardo/anaconda3/envs/gpu/lib/python3.7/site-packages/ipykernel_launcher.py:8: DeprecationWarning: Call to deprecated `__getitem__` (Method will be removed in 4.0.0, use self.wv.__getitem__() instead).\n",
      "  \n"
     ]
    },
    {
     "name": "stdout",
     "output_type": "stream",
     "text": [
      "Vocabulario: 95423\n",
      "Encontrados no modelo: 48140 = 50.44905316328349\n"
     ]
    }
   ],
   "source": [
    "# create a weight matrix for words in training docs\n",
    "\n",
    "embedding_matrix = np.zeros((vocabulario, dim_vetor))\n",
    "\n",
    "ok = 0\n",
    "for word, i in tokenizer.word_index.items():\n",
    "    if word in model:\n",
    "        embedding_matrix[i] = model[word]\n",
    "        ok += 1\n",
    "print('Vocabulario:', i)\n",
    "print('Encontrados no modelo:', ok, '=', ok * 100. / i)"
   ]
  },
  {
   "cell_type": "markdown",
   "metadata": {},
   "source": [
    "# Treinamento"
   ]
  },
  {
   "cell_type": "code",
   "execution_count": 10,
   "metadata": {
    "scrolled": false
   },
   "outputs": [
    {
     "name": "stderr",
     "output_type": "stream",
     "text": [
      "WARNING: Logging before flag parsing goes to stderr.\n",
      "W0316 14:22:25.687180 140586354947904 deprecation_wrapper.py:119] From /home/leonardo/anaconda3/envs/gpu/lib/python3.7/site-packages/keras/backend/tensorflow_backend.py:74: The name tf.get_default_graph is deprecated. Please use tf.compat.v1.get_default_graph instead.\n",
      "\n",
      "W0316 14:22:25.961921 140586354947904 deprecation_wrapper.py:119] From /home/leonardo/anaconda3/envs/gpu/lib/python3.7/site-packages/keras/backend/tensorflow_backend.py:517: The name tf.placeholder is deprecated. Please use tf.compat.v1.placeholder instead.\n",
      "\n",
      "W0316 14:22:25.988842 140586354947904 deprecation_wrapper.py:119] From /home/leonardo/anaconda3/envs/gpu/lib/python3.7/site-packages/keras/backend/tensorflow_backend.py:4138: The name tf.random_uniform is deprecated. Please use tf.random.uniform instead.\n",
      "\n",
      "W0316 14:22:25.996632 140586354947904 deprecation_wrapper.py:119] From /home/leonardo/anaconda3/envs/gpu/lib/python3.7/site-packages/keras/backend/tensorflow_backend.py:174: The name tf.get_default_session is deprecated. Please use tf.compat.v1.get_default_session instead.\n",
      "\n",
      "W0316 14:22:25.997108 140586354947904 deprecation_wrapper.py:119] From /home/leonardo/anaconda3/envs/gpu/lib/python3.7/site-packages/keras/backend/tensorflow_backend.py:181: The name tf.ConfigProto is deprecated. Please use tf.compat.v1.ConfigProto instead.\n",
      "\n",
      "W0316 14:22:35.945726 140586354947904 deprecation_wrapper.py:119] From /home/leonardo/anaconda3/envs/gpu/lib/python3.7/site-packages/keras/backend/tensorflow_backend.py:3976: The name tf.nn.max_pool is deprecated. Please use tf.nn.max_pool2d instead.\n",
      "\n",
      "W0316 14:22:36.007640 140586354947904 deprecation_wrapper.py:119] From /home/leonardo/anaconda3/envs/gpu/lib/python3.7/site-packages/keras/optimizers.py:790: The name tf.train.Optimizer is deprecated. Please use tf.compat.v1.train.Optimizer instead.\n",
      "\n",
      "W0316 14:22:36.128435 140586354947904 deprecation.py:323] From /home/leonardo/anaconda3/envs/gpu/lib/python3.7/site-packages/tensorflow/python/ops/math_grad.py:1250: add_dispatch_support.<locals>.wrapper (from tensorflow.python.ops.array_ops) is deprecated and will be removed in a future version.\n",
      "Instructions for updating:\n",
      "Use tf.where in 2.0, which has the same broadcast rule as np.where\n"
     ]
    },
    {
     "name": "stdout",
     "output_type": "stream",
     "text": [
      "_________________________________________________________________\n",
      "Layer (type)                 Output Shape              Param #   \n",
      "=================================================================\n",
      "embedding_1 (Embedding)      (None, 6000, 100)         9542400   \n",
      "_________________________________________________________________\n",
      "conv1d_1 (Conv1D)            (None, 5994, 32)          22432     \n",
      "_________________________________________________________________\n",
      "max_pooling1d_1 (MaxPooling1 (None, 1198, 32)          0         \n",
      "_________________________________________________________________\n",
      "conv1d_2 (Conv1D)            (None, 1192, 32)          7200      \n",
      "_________________________________________________________________\n",
      "global_max_pooling1d_1 (Glob (None, 32)                0         \n",
      "_________________________________________________________________\n",
      "dense_1 (Dense)              (None, 10)                330       \n",
      "=================================================================\n",
      "Total params: 9,572,362\n",
      "Trainable params: 29,962\n",
      "Non-trainable params: 9,542,400\n",
      "_________________________________________________________________\n",
      "Train on 7791 samples, validate on 1948 samples\n",
      "Epoch 1/20\n",
      "7791/7791 [==============================] - 11s 1ms/step - loss: 1.5078 - categorical_accuracy: 0.5563 - val_loss: 1.3424 - val_categorical_accuracy: 0.5467\n",
      "Epoch 2/20\n",
      "7791/7791 [==============================] - 4s 483us/step - loss: 0.9847 - categorical_accuracy: 0.6694 - val_loss: 1.2134 - val_categorical_accuracy: 0.5837\n",
      "Epoch 3/20\n",
      "7791/7791 [==============================] - 4s 479us/step - loss: 0.8416 - categorical_accuracy: 0.7192 - val_loss: 1.6143 - val_categorical_accuracy: 0.5123\n",
      "Epoch 4/20\n",
      "7791/7791 [==============================] - 4s 483us/step - loss: 0.7199 - categorical_accuracy: 0.7561 - val_loss: 1.4192 - val_categorical_accuracy: 0.4933\n",
      "Epoch 5/20\n",
      "7791/7791 [==============================] - 4s 484us/step - loss: 0.6243 - categorical_accuracy: 0.7878 - val_loss: 1.2105 - val_categorical_accuracy: 0.6165\n",
      "Epoch 6/20\n",
      "7791/7791 [==============================] - 4s 478us/step - loss: 0.5293 - categorical_accuracy: 0.8199 - val_loss: 1.2300 - val_categorical_accuracy: 0.5965\n",
      "Epoch 7/20\n",
      "7791/7791 [==============================] - 4s 479us/step - loss: 0.4594 - categorical_accuracy: 0.8469 - val_loss: 1.2414 - val_categorical_accuracy: 0.6068\n",
      "Epoch 8/20\n",
      "7791/7791 [==============================] - 4s 507us/step - loss: 0.3876 - categorical_accuracy: 0.8722 - val_loss: 1.4261 - val_categorical_accuracy: 0.5703\n",
      "Epoch 9/20\n",
      "7791/7791 [==============================] - 4s 551us/step - loss: 0.3296 - categorical_accuracy: 0.8870 - val_loss: 1.3134 - val_categorical_accuracy: 0.6181\n",
      "Epoch 10/20\n",
      "7791/7791 [==============================] - 4s 484us/step - loss: 0.2663 - categorical_accuracy: 0.9131 - val_loss: 2.0597 - val_categorical_accuracy: 0.4790\n",
      "Epoch 11/20\n",
      "7791/7791 [==============================] - 4s 482us/step - loss: 0.2375 - categorical_accuracy: 0.9259 - val_loss: 1.3884 - val_categorical_accuracy: 0.6170\n",
      "Epoch 12/20\n",
      "7791/7791 [==============================] - 4s 480us/step - loss: 0.1969 - categorical_accuracy: 0.9389 - val_loss: 1.7522 - val_categorical_accuracy: 0.5575\n",
      "Epoch 13/20\n",
      "7791/7791 [==============================] - 4s 481us/step - loss: 0.1696 - categorical_accuracy: 0.9470 - val_loss: 1.7069 - val_categorical_accuracy: 0.5729\n",
      "Epoch 14/20\n",
      "7791/7791 [==============================] - 4s 482us/step - loss: 0.1455 - categorical_accuracy: 0.9540 - val_loss: 1.6730 - val_categorical_accuracy: 0.5647\n",
      "Epoch 15/20\n",
      "7791/7791 [==============================] - 4s 480us/step - loss: 0.1313 - categorical_accuracy: 0.9587 - val_loss: 1.5598 - val_categorical_accuracy: 0.6253\n",
      "Epoch 16/20\n",
      "7791/7791 [==============================] - 4s 476us/step - loss: 0.1114 - categorical_accuracy: 0.9673 - val_loss: 2.1366 - val_categorical_accuracy: 0.5334\n",
      "Epoch 17/20\n",
      "7791/7791 [==============================] - 4s 476us/step - loss: 0.1021 - categorical_accuracy: 0.9684 - val_loss: 2.4177 - val_categorical_accuracy: 0.5041\n",
      "Epoch 18/20\n",
      "7791/7791 [==============================] - 4s 473us/step - loss: 0.0983 - categorical_accuracy: 0.9688 - val_loss: 1.8261 - val_categorical_accuracy: 0.6535\n",
      "Epoch 19/20\n",
      "7791/7791 [==============================] - 4s 475us/step - loss: 0.0809 - categorical_accuracy: 0.9743 - val_loss: 2.3869 - val_categorical_accuracy: 0.5282\n",
      "Epoch 20/20\n",
      "7791/7791 [==============================] - 4s 476us/step - loss: 0.0749 - categorical_accuracy: 0.9765 - val_loss: 2.4176 - val_categorical_accuracy: 0.5539\n"
     ]
    }
   ],
   "source": [
    "from keras.models import Sequential\n",
    "from keras.layers import Embedding, Conv1D, MaxPooling1D, Dense, GlobalMaxPooling1D, Flatten\n",
    "from keras.optimizers import RMSprop\n",
    "from keras.layers.core import Dropout\n",
    "\n",
    "model = Sequential()\n",
    "model.add(Embedding(vocabulario, dim_vetor, weights=[embedding_matrix], input_length=limite_texto, trainable=False))\n",
    "model.add(Conv1D(32, 7, activation='relu'))\n",
    "model.add(MaxPooling1D(5))\n",
    "model.add(Conv1D(32, 7, activation='relu'))\n",
    "model.add(GlobalMaxPooling1D())\n",
    "model.add(Dense(y.shape[1], activation='softmax'))\n",
    "model.compile(loss='categorical_crossentropy', optimizer=RMSprop(),  metrics=[\"categorical_accuracy\"])\n",
    "model.summary()\n",
    "history = model.fit(x, y, epochs=20, batch_size=32, validation_split=0.2, verbose=1, shuffle=True)"
   ]
  },
  {
   "cell_type": "code",
   "execution_count": 11,
   "metadata": {},
   "outputs": [
    {
     "name": "stdout",
     "output_type": "stream",
     "text": [
      "_________________________________________________________________\n",
      "Layer (type)                 Output Shape              Param #   \n",
      "=================================================================\n",
      "embedding_2 (Embedding)      (None, 6000, 100)         9542400   \n",
      "_________________________________________________________________\n",
      "conv1d_3 (Conv1D)            (None, 5994, 64)          44864     \n",
      "_________________________________________________________________\n",
      "max_pooling1d_2 (MaxPooling1 (None, 1198, 64)          0         \n",
      "_________________________________________________________________\n",
      "conv1d_4 (Conv1D)            (None, 1192, 32)          14368     \n",
      "_________________________________________________________________\n",
      "global_max_pooling1d_2 (Glob (None, 32)                0         \n",
      "_________________________________________________________________\n",
      "dense_2 (Dense)              (None, 10)                330       \n",
      "=================================================================\n",
      "Total params: 9,601,962\n",
      "Trainable params: 9,601,962\n",
      "Non-trainable params: 0\n",
      "_________________________________________________________________\n",
      "Train on 7791 samples, validate on 1948 samples\n",
      "Epoch 1/20\n",
      "7791/7791 [==============================] - 10s 1ms/step - loss: 1.4440 - categorical_accuracy: 0.5585 - val_loss: 1.1725 - val_categorical_accuracy: 0.6124\n",
      "Epoch 2/20\n",
      "7791/7791 [==============================] - 10s 1ms/step - loss: 0.9564 - categorical_accuracy: 0.6762 - val_loss: 1.3534 - val_categorical_accuracy: 0.5308\n",
      "Epoch 3/20\n",
      "7791/7791 [==============================] - 10s 1ms/step - loss: 0.7708 - categorical_accuracy: 0.7373 - val_loss: 1.5141 - val_categorical_accuracy: 0.5390\n",
      "Epoch 4/20\n",
      "7791/7791 [==============================] - 9s 1ms/step - loss: 0.6165 - categorical_accuracy: 0.7840 - val_loss: 1.3412 - val_categorical_accuracy: 0.4990\n",
      "Epoch 5/20\n",
      "7791/7791 [==============================] - 10s 1ms/step - loss: 0.4673 - categorical_accuracy: 0.8402 - val_loss: 2.1658 - val_categorical_accuracy: 0.4394\n",
      "Epoch 6/20\n",
      "7791/7791 [==============================] - 9s 1ms/step - loss: 0.3483 - categorical_accuracy: 0.8873 - val_loss: 1.4209 - val_categorical_accuracy: 0.5924\n",
      "Epoch 7/20\n",
      "7791/7791 [==============================] - 10s 1ms/step - loss: 0.2524 - categorical_accuracy: 0.9181 - val_loss: 1.4616 - val_categorical_accuracy: 0.5852\n",
      "Epoch 8/20\n",
      "7791/7791 [==============================] - 9s 1ms/step - loss: 0.1766 - categorical_accuracy: 0.9461 - val_loss: 1.7348 - val_categorical_accuracy: 0.5472\n",
      "Epoch 9/20\n",
      "7791/7791 [==============================] - 9s 1ms/step - loss: 0.1361 - categorical_accuracy: 0.9606 - val_loss: 1.8406 - val_categorical_accuracy: 0.5241\n",
      "Epoch 10/20\n",
      "7791/7791 [==============================] - 10s 1ms/step - loss: 0.1048 - categorical_accuracy: 0.9686 - val_loss: 1.9432 - val_categorical_accuracy: 0.5595\n",
      "Epoch 11/20\n",
      "7791/7791 [==============================] - 9s 1ms/step - loss: 0.0833 - categorical_accuracy: 0.9756 - val_loss: 1.7525 - val_categorical_accuracy: 0.5955\n",
      "Epoch 12/20\n",
      "7791/7791 [==============================] - 10s 1ms/step - loss: 0.0647 - categorical_accuracy: 0.9811 - val_loss: 1.9426 - val_categorical_accuracy: 0.5760\n",
      "Epoch 13/20\n",
      "7791/7791 [==============================] - 10s 1ms/step - loss: 0.0547 - categorical_accuracy: 0.9847 - val_loss: 1.7919 - val_categorical_accuracy: 0.6597\n",
      "Epoch 14/20\n",
      "7791/7791 [==============================] - 10s 1ms/step - loss: 0.0554 - categorical_accuracy: 0.9833 - val_loss: 2.0678 - val_categorical_accuracy: 0.5755\n",
      "Epoch 15/20\n",
      "7791/7791 [==============================] - 10s 1ms/step - loss: 0.0449 - categorical_accuracy: 0.9864 - val_loss: 1.9940 - val_categorical_accuracy: 0.6550\n",
      "Epoch 16/20\n",
      "7791/7791 [==============================] - 10s 1ms/step - loss: 0.0472 - categorical_accuracy: 0.9858 - val_loss: 2.0598 - val_categorical_accuracy: 0.6278\n",
      "Epoch 17/20\n",
      "7791/7791 [==============================] - 10s 1ms/step - loss: 0.0471 - categorical_accuracy: 0.9855 - val_loss: 2.0038 - val_categorical_accuracy: 0.6407\n",
      "Epoch 18/20\n",
      "7791/7791 [==============================] - 10s 1ms/step - loss: 0.0394 - categorical_accuracy: 0.9856 - val_loss: 2.3482 - val_categorical_accuracy: 0.5924\n",
      "Epoch 19/20\n",
      "7791/7791 [==============================] - 10s 1ms/step - loss: 0.0387 - categorical_accuracy: 0.9886 - val_loss: 2.2781 - val_categorical_accuracy: 0.6093\n",
      "Epoch 20/20\n",
      "7791/7791 [==============================] - 10s 1ms/step - loss: 0.0371 - categorical_accuracy: 0.9864 - val_loss: 2.6517 - val_categorical_accuracy: 0.6052\n"
     ]
    }
   ],
   "source": [
    "model = Sequential()\n",
    "model.add(Embedding(vocabulario, dim_vetor, weights=[embedding_matrix], input_length=limite_texto, trainable=True))\n",
    "model.add(Conv1D(64, 7, activation='relu'))\n",
    "model.add(MaxPooling1D(5))\n",
    "model.add(Conv1D(32, 7, activation='relu'))\n",
    "model.add(GlobalMaxPooling1D())\n",
    "model.add(Dense(y.shape[1], activation='softmax'))\n",
    "model.compile(loss='categorical_crossentropy', optimizer=RMSprop(),  metrics=[\"categorical_accuracy\"])\n",
    "model.summary()\n",
    "history = model.fit(x, y, epochs=20, batch_size=32, validation_split=0.2, verbose=1, shuffle=True)"
   ]
  },
  {
   "cell_type": "code",
   "execution_count": 12,
   "metadata": {
    "scrolled": false
   },
   "outputs": [
    {
     "name": "stderr",
     "output_type": "stream",
     "text": [
      "W0316 14:27:12.867120 140586354947904 deprecation.py:506] From /home/leonardo/anaconda3/envs/gpu/lib/python3.7/site-packages/keras/backend/tensorflow_backend.py:3445: calling dropout (from tensorflow.python.ops.nn_ops) with keep_prob is deprecated and will be removed in a future version.\n",
      "Instructions for updating:\n",
      "Please use `rate` instead of `keep_prob`. Rate should be set to `rate = 1 - keep_prob`.\n"
     ]
    },
    {
     "name": "stdout",
     "output_type": "stream",
     "text": [
      "_________________________________________________________________\n",
      "Layer (type)                 Output Shape              Param #   \n",
      "=================================================================\n",
      "embedding_3 (Embedding)      (None, 6000, 100)         9542400   \n",
      "_________________________________________________________________\n",
      "conv1d_5 (Conv1D)            (None, 5994, 64)          44864     \n",
      "_________________________________________________________________\n",
      "max_pooling1d_3 (MaxPooling1 (None, 1198, 64)          0         \n",
      "_________________________________________________________________\n",
      "conv1d_6 (Conv1D)            (None, 1192, 32)          14368     \n",
      "_________________________________________________________________\n",
      "max_pooling1d_4 (MaxPooling1 (None, 238, 32)           0         \n",
      "_________________________________________________________________\n",
      "flatten_1 (Flatten)          (None, 7616)              0         \n",
      "_________________________________________________________________\n",
      "dense_3 (Dense)              (None, 256)               1949952   \n",
      "_________________________________________________________________\n",
      "dropout_1 (Dropout)          (None, 256)               0         \n",
      "_________________________________________________________________\n",
      "dense_4 (Dense)              (None, 10)                2570      \n",
      "=================================================================\n",
      "Total params: 11,554,154\n",
      "Trainable params: 11,554,154\n",
      "Non-trainable params: 0\n",
      "_________________________________________________________________\n",
      "Train on 7791 samples, validate on 1948 samples\n",
      "Epoch 1/20\n",
      "7791/7791 [==============================] - 11s 1ms/step - loss: 1.7767 - categorical_accuracy: 0.4960 - val_loss: 1.6542 - val_categorical_accuracy: 0.4030\n",
      "Epoch 2/20\n",
      "7791/7791 [==============================] - 10s 1ms/step - loss: 1.2261 - categorical_accuracy: 0.6220 - val_loss: 1.7056 - val_categorical_accuracy: 0.4281\n",
      "Epoch 3/20\n",
      "7791/7791 [==============================] - 10s 1ms/step - loss: 1.0717 - categorical_accuracy: 0.6665 - val_loss: 1.7876 - val_categorical_accuracy: 0.4338\n",
      "Epoch 4/20\n",
      "7791/7791 [==============================] - 10s 1ms/step - loss: 0.8648 - categorical_accuracy: 0.7176 - val_loss: 1.6124 - val_categorical_accuracy: 0.5395\n",
      "Epoch 5/20\n",
      "7791/7791 [==============================] - 10s 1ms/step - loss: 0.6803 - categorical_accuracy: 0.7753 - val_loss: 1.7842 - val_categorical_accuracy: 0.5062\n",
      "Epoch 6/20\n",
      "7791/7791 [==============================] - 10s 1ms/step - loss: 0.4936 - categorical_accuracy: 0.8442 - val_loss: 2.2096 - val_categorical_accuracy: 0.5092\n",
      "Epoch 7/20\n",
      "7791/7791 [==============================] - 10s 1ms/step - loss: 0.3631 - categorical_accuracy: 0.8876 - val_loss: 2.7898 - val_categorical_accuracy: 0.4815\n",
      "Epoch 8/20\n",
      "7791/7791 [==============================] - 10s 1ms/step - loss: 0.2860 - categorical_accuracy: 0.9176 - val_loss: 3.0249 - val_categorical_accuracy: 0.4841\n",
      "Epoch 9/20\n",
      "7791/7791 [==============================] - 10s 1ms/step - loss: 0.2518 - categorical_accuracy: 0.9367 - val_loss: 3.4270 - val_categorical_accuracy: 0.4820\n",
      "Epoch 10/20\n",
      "7791/7791 [==============================] - 10s 1ms/step - loss: 0.2102 - categorical_accuracy: 0.9469 - val_loss: 3.7222 - val_categorical_accuracy: 0.4815\n",
      "Epoch 11/20\n",
      "7791/7791 [==============================] - 10s 1ms/step - loss: 0.1833 - categorical_accuracy: 0.9574 - val_loss: 4.1719 - val_categorical_accuracy: 0.4902\n",
      "Epoch 12/20\n",
      "7791/7791 [==============================] - 10s 1ms/step - loss: 0.1554 - categorical_accuracy: 0.9633 - val_loss: 4.2643 - val_categorical_accuracy: 0.4913\n",
      "Epoch 13/20\n",
      "7791/7791 [==============================] - 10s 1ms/step - loss: 0.2023 - categorical_accuracy: 0.9615 - val_loss: 5.8313 - val_categorical_accuracy: 0.4559\n",
      "Epoch 14/20\n",
      "7791/7791 [==============================] - 10s 1ms/step - loss: 0.1560 - categorical_accuracy: 0.9650 - val_loss: 4.3065 - val_categorical_accuracy: 0.4964\n",
      "Epoch 15/20\n",
      "7791/7791 [==============================] - 10s 1ms/step - loss: 0.1701 - categorical_accuracy: 0.9680 - val_loss: 4.2530 - val_categorical_accuracy: 0.4533\n",
      "Epoch 16/20\n",
      "7791/7791 [==============================] - 10s 1ms/step - loss: 0.1579 - categorical_accuracy: 0.9696 - val_loss: 4.4868 - val_categorical_accuracy: 0.4661\n",
      "Epoch 17/20\n",
      "7791/7791 [==============================] - 10s 1ms/step - loss: 0.1676 - categorical_accuracy: 0.9688 - val_loss: 7.6308 - val_categorical_accuracy: 0.3917\n",
      "Epoch 18/20\n",
      "7791/7791 [==============================] - 10s 1ms/step - loss: 0.1263 - categorical_accuracy: 0.9763 - val_loss: 5.0917 - val_categorical_accuracy: 0.4533\n",
      "Epoch 19/20\n",
      "7791/7791 [==============================] - 10s 1ms/step - loss: 0.1439 - categorical_accuracy: 0.9732 - val_loss: 5.3588 - val_categorical_accuracy: 0.4805\n",
      "Epoch 20/20\n",
      "7791/7791 [==============================] - 10s 1ms/step - loss: 0.1206 - categorical_accuracy: 0.9792 - val_loss: 4.9342 - val_categorical_accuracy: 0.4692\n"
     ]
    }
   ],
   "source": [
    "model = Sequential()\n",
    "model.add(Embedding(vocabulario, dim_vetor, weights=[embedding_matrix], input_length=limite_texto, trainable=True))\n",
    "model.add(Conv1D(64, 7, activation='relu'))\n",
    "model.add(MaxPooling1D(5))\n",
    "model.add(Conv1D(32, 7, activation='relu'))\n",
    "model.add(MaxPooling1D(5))\n",
    "model.add(Flatten())\n",
    "model.add(Dense(256, activation='relu'))\n",
    "model.add(Dropout(0.2))\n",
    "model.add(Dense(y.shape[1], activation='softmax'))\n",
    "model.compile(loss='categorical_crossentropy', optimizer=RMSprop(),  metrics=[\"categorical_accuracy\"])\n",
    "model.summary()\n",
    "history = model.fit(x, y, epochs=20, batch_size=32, validation_split=0.2, verbose=1, shuffle=True)"
   ]
  },
  {
   "cell_type": "code",
   "execution_count": 13,
   "metadata": {},
   "outputs": [
    {
     "name": "stdout",
     "output_type": "stream",
     "text": [
      "_________________________________________________________________\n",
      "Layer (type)                 Output Shape              Param #   \n",
      "=================================================================\n",
      "embedding_4 (Embedding)      (None, 6000, 100)         9542400   \n",
      "_________________________________________________________________\n",
      "conv1d_7 (Conv1D)            (None, 5994, 64)          44864     \n",
      "_________________________________________________________________\n",
      "max_pooling1d_5 (MaxPooling1 (None, 1198, 64)          0         \n",
      "_________________________________________________________________\n",
      "conv1d_8 (Conv1D)            (None, 1192, 32)          14368     \n",
      "_________________________________________________________________\n",
      "max_pooling1d_6 (MaxPooling1 (None, 238, 32)           0         \n",
      "_________________________________________________________________\n",
      "flatten_2 (Flatten)          (None, 7616)              0         \n",
      "_________________________________________________________________\n",
      "dense_5 (Dense)              (None, 1024)              7799808   \n",
      "_________________________________________________________________\n",
      "dropout_2 (Dropout)          (None, 1024)              0         \n",
      "_________________________________________________________________\n",
      "dense_6 (Dense)              (None, 128)               131200    \n",
      "_________________________________________________________________\n",
      "dropout_3 (Dropout)          (None, 128)               0         \n",
      "_________________________________________________________________\n",
      "dense_7 (Dense)              (None, 10)                1290      \n",
      "=================================================================\n",
      "Total params: 17,533,930\n",
      "Trainable params: 17,533,930\n",
      "Non-trainable params: 0\n",
      "_________________________________________________________________\n",
      "Train on 7791 samples, validate on 1948 samples\n",
      "Epoch 1/20\n",
      "7791/7791 [==============================] - 12s 1ms/step - loss: 1.7833 - categorical_accuracy: 0.4834 - val_loss: 1.6475 - val_categorical_accuracy: 0.4240\n",
      "Epoch 2/20\n",
      "7791/7791 [==============================] - 11s 1ms/step - loss: 1.2483 - categorical_accuracy: 0.6030 - val_loss: 1.8493 - val_categorical_accuracy: 0.3650\n",
      "Epoch 3/20\n",
      "7791/7791 [==============================] - 11s 1ms/step - loss: 1.0827 - categorical_accuracy: 0.6482 - val_loss: 1.4751 - val_categorical_accuracy: 0.4985\n",
      "Epoch 4/20\n",
      "7791/7791 [==============================] - 11s 1ms/step - loss: 0.8931 - categorical_accuracy: 0.7030 - val_loss: 1.6141 - val_categorical_accuracy: 0.5010\n",
      "Epoch 5/20\n",
      "7791/7791 [==============================] - 11s 1ms/step - loss: 0.6633 - categorical_accuracy: 0.7800 - val_loss: 1.7157 - val_categorical_accuracy: 0.4908\n",
      "Epoch 6/20\n",
      "7791/7791 [==============================] - 11s 1ms/step - loss: 0.4969 - categorical_accuracy: 0.8437 - val_loss: 2.2734 - val_categorical_accuracy: 0.4589\n",
      "Epoch 7/20\n",
      "7791/7791 [==============================] - 11s 1ms/step - loss: 0.3657 - categorical_accuracy: 0.8894 - val_loss: 2.3425 - val_categorical_accuracy: 0.4846\n",
      "Epoch 8/20\n",
      "7791/7791 [==============================] - 11s 1ms/step - loss: 0.2644 - categorical_accuracy: 0.9283 - val_loss: 3.2807 - val_categorical_accuracy: 0.4446\n",
      "Epoch 9/20\n",
      "7791/7791 [==============================] - 11s 1ms/step - loss: 0.2119 - categorical_accuracy: 0.9430 - val_loss: 3.8465 - val_categorical_accuracy: 0.4743\n",
      "Epoch 10/20\n",
      "7791/7791 [==============================] - 11s 1ms/step - loss: 0.1722 - categorical_accuracy: 0.9523 - val_loss: 3.7455 - val_categorical_accuracy: 0.4641\n",
      "Epoch 11/20\n",
      "7791/7791 [==============================] - 11s 1ms/step - loss: 0.1930 - categorical_accuracy: 0.9564 - val_loss: 4.4241 - val_categorical_accuracy: 0.4138\n",
      "Epoch 12/20\n",
      "7791/7791 [==============================] - 11s 1ms/step - loss: 0.2021 - categorical_accuracy: 0.9579 - val_loss: 4.1625 - val_categorical_accuracy: 0.4677\n",
      "Epoch 13/20\n",
      "7791/7791 [==============================] - 11s 1ms/step - loss: 0.1606 - categorical_accuracy: 0.9657 - val_loss: 4.9247 - val_categorical_accuracy: 0.4641\n",
      "Epoch 14/20\n",
      "7791/7791 [==============================] - 11s 1ms/step - loss: 0.1271 - categorical_accuracy: 0.9714 - val_loss: 4.8040 - val_categorical_accuracy: 0.4430\n",
      "Epoch 15/20\n",
      "7791/7791 [==============================] - 11s 1ms/step - loss: 0.1731 - categorical_accuracy: 0.9705 - val_loss: 5.7530 - val_categorical_accuracy: 0.4348\n",
      "Epoch 16/20\n",
      "7791/7791 [==============================] - 11s 1ms/step - loss: 0.1766 - categorical_accuracy: 0.9698 - val_loss: 5.1820 - val_categorical_accuracy: 0.4369\n",
      "Epoch 17/20\n",
      "7791/7791 [==============================] - 11s 1ms/step - loss: 0.1260 - categorical_accuracy: 0.9756 - val_loss: 5.4506 - val_categorical_accuracy: 0.4790\n",
      "Epoch 18/20\n",
      "7791/7791 [==============================] - 11s 1ms/step - loss: 0.1525 - categorical_accuracy: 0.9745 - val_loss: 5.1520 - val_categorical_accuracy: 0.4949\n",
      "Epoch 19/20\n",
      "7791/7791 [==============================] - 11s 1ms/step - loss: 0.1479 - categorical_accuracy: 0.9759 - val_loss: 5.4513 - val_categorical_accuracy: 0.4759\n",
      "Epoch 20/20\n",
      "7791/7791 [==============================] - 11s 1ms/step - loss: 0.1548 - categorical_accuracy: 0.9738 - val_loss: 5.4861 - val_categorical_accuracy: 0.4476\n"
     ]
    }
   ],
   "source": [
    "model = Sequential()\n",
    "model.add(Embedding(vocabulario, dim_vetor, weights=[embedding_matrix], input_length=limite_texto, trainable=True))\n",
    "model.add(Conv1D(64, 7, activation='relu'))\n",
    "model.add(MaxPooling1D(5))\n",
    "model.add(Conv1D(32, 7, activation='relu'))\n",
    "model.add(MaxPooling1D(5))\n",
    "model.add(Flatten())\n",
    "model.add(Dense(1024, activation='relu'))\n",
    "model.add(Dropout(0.2))\n",
    "model.add(Dense(128, activation='relu'))\n",
    "model.add(Dropout(0.2))\n",
    "model.add(Dense(y.shape[1], activation='softmax'))\n",
    "model.compile(loss='categorical_crossentropy', optimizer=RMSprop(),  metrics=[\"categorical_accuracy\"])\n",
    "model.summary()\n",
    "history = model.fit(x, y, epochs=20, batch_size=32, validation_split=0.2, verbose=1, shuffle=True)"
   ]
  },
  {
   "cell_type": "code",
   "execution_count": null,
   "metadata": {},
   "outputs": [],
   "source": []
  }
 ],
 "metadata": {
  "kernelspec": {
   "display_name": "Python 3",
   "language": "python",
   "name": "python3"
  },
  "language_info": {
   "codemirror_mode": {
    "name": "ipython",
    "version": 3
   },
   "file_extension": ".py",
   "mimetype": "text/x-python",
   "name": "python",
   "nbconvert_exporter": "python",
   "pygments_lexer": "ipython3",
   "version": "3.7.4"
  }
 },
 "nbformat": 4,
 "nbformat_minor": 2
}
