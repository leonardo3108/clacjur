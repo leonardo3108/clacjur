{
 "cells": [
  {
   "cell_type": "markdown",
   "metadata": {},
   "source": [
    "# Importação e preparação dos dados"
   ]
  },
  {
   "cell_type": "code",
   "execution_count": 1,
   "metadata": {},
   "outputs": [
    {
     "data": {
      "text/html": [
       "<div>\n",
       "<style scoped>\n",
       "    .dataframe tbody tr th:only-of-type {\n",
       "        vertical-align: middle;\n",
       "    }\n",
       "\n",
       "    .dataframe tbody tr th {\n",
       "        vertical-align: top;\n",
       "    }\n",
       "\n",
       "    .dataframe thead th {\n",
       "        text-align: right;\n",
       "    }\n",
       "</style>\n",
       "<table border=\"1\" class=\"dataframe\">\n",
       "  <thead>\n",
       "    <tr style=\"text-align: right;\">\n",
       "      <th></th>\n",
       "      <th>acordao</th>\n",
       "      <th>arquivo</th>\n",
       "      <th>areas</th>\n",
       "      <th>texto</th>\n",
       "    </tr>\n",
       "  </thead>\n",
       "  <tbody>\n",
       "    <tr>\n",
       "      <th>0</th>\n",
       "      <td>297/2016-P</td>\n",
       "      <td>547240.txt</td>\n",
       "      <td>Responsabilidade</td>\n",
       "      <td>TRIBUNAL DE CONTAS DA UNIÃO\\tTC 010.084/2015-0...</td>\n",
       "    </tr>\n",
       "    <tr>\n",
       "      <th>1</th>\n",
       "      <td>366/2016-P</td>\n",
       "      <td>549518.txt</td>\n",
       "      <td>Finanças Públicas</td>\n",
       "      <td>TRIBUNAL DE CONTAS DA UNIÃO\\tTC 005.933/2014-5...</td>\n",
       "    </tr>\n",
       "    <tr>\n",
       "      <th>2</th>\n",
       "      <td>944/2016-P</td>\n",
       "      <td>554399.txt</td>\n",
       "      <td>Responsabilidade</td>\n",
       "      <td>TRIBUNAL DE CONTAS DA UNIÃO\\tTC 042.038/2012-0...</td>\n",
       "    </tr>\n",
       "    <tr>\n",
       "      <th>3</th>\n",
       "      <td>30/2016-P</td>\n",
       "      <td>545010.txt</td>\n",
       "      <td>Direito Processual</td>\n",
       "      <td>TRIBUNAL DE CONTAS DA UNIÃO\\tTC 000.742/2014-7...</td>\n",
       "    </tr>\n",
       "    <tr>\n",
       "      <th>4</th>\n",
       "      <td>55/2016-P</td>\n",
       "      <td>544046.txt</td>\n",
       "      <td>Pessoal</td>\n",
       "      <td>;-;;Wania Lucia Pasquarelli do NascimentoTCUWa...</td>\n",
       "    </tr>\n",
       "  </tbody>\n",
       "</table>\n",
       "</div>"
      ],
      "text/plain": [
       "      acordao     arquivo               areas  \\\n",
       "0  297/2016-P  547240.txt    Responsabilidade   \n",
       "1  366/2016-P  549518.txt   Finanças Públicas   \n",
       "2  944/2016-P  554399.txt    Responsabilidade   \n",
       "3   30/2016-P  545010.txt  Direito Processual   \n",
       "4   55/2016-P  544046.txt             Pessoal   \n",
       "\n",
       "                                               texto  \n",
       "0  TRIBUNAL DE CONTAS DA UNIÃO\\tTC 010.084/2015-0...  \n",
       "1  TRIBUNAL DE CONTAS DA UNIÃO\\tTC 005.933/2014-5...  \n",
       "2  TRIBUNAL DE CONTAS DA UNIÃO\\tTC 042.038/2012-0...  \n",
       "3  TRIBUNAL DE CONTAS DA UNIÃO\\tTC 000.742/2014-7...  \n",
       "4  ;-;;Wania Lucia Pasquarelli do NascimentoTCUWa...  "
      ]
     },
     "execution_count": 1,
     "metadata": {},
     "output_type": "execute_result"
    }
   ],
   "source": [
    "import pandas as pd\n",
    "\n",
    "df = pd.read_csv('../dados/acordaos-unicos.csv', sep = '|')\n",
    "df.head()"
   ]
  },
  {
   "cell_type": "code",
   "execution_count": 2,
   "metadata": {},
   "outputs": [
    {
     "data": {
      "text/plain": [
       "(9739, 4)"
      ]
     },
     "execution_count": 2,
     "metadata": {},
     "output_type": "execute_result"
    }
   ],
   "source": [
    "df.shape"
   ]
  },
  {
   "cell_type": "code",
   "execution_count": 3,
   "metadata": {},
   "outputs": [
    {
     "data": {
      "text/plain": [
       "(9739, 10)"
      ]
     },
     "execution_count": 3,
     "metadata": {},
     "output_type": "execute_result"
    }
   ],
   "source": [
    "from sklearn.preprocessing import LabelBinarizer\n",
    "\n",
    "areas = df.groupby(['areas']).groups.keys()\n",
    "lbArea = LabelBinarizer()\n",
    "lbArea.fit([x for x in areas])\n",
    "y = lbArea.transform(df['areas'])\n",
    "y.shape"
   ]
  },
  {
   "cell_type": "code",
   "execution_count": 4,
   "metadata": {},
   "outputs": [
    {
     "name": "stderr",
     "output_type": "stream",
     "text": [
      "Using TensorFlow backend.\n"
     ]
    },
    {
     "name": "stdout",
     "output_type": "stream",
     "text": [
      "Found 318318 unique tokens.\n"
     ]
    }
   ],
   "source": [
    "from keras.preprocessing.text import Tokenizer\n",
    "import numpy as np\n",
    "\n",
    "vocabulario = 320000\n",
    "limite_texto = 40000\n",
    "dim_vetor = 100\n",
    "\n",
    "tokenizer = Tokenizer(num_words=vocabulario)\n",
    "tokenizer.fit_on_texts(df['texto'])\n",
    "\n",
    "sequences = tokenizer.texts_to_sequences(df['texto'])\n",
    "\n",
    "word_index = tokenizer.word_index\n",
    "vocabulario = len(word_index) + 1\n",
    "print('Found %s unique tokens.' % len(word_index))"
   ]
  },
  {
   "cell_type": "code",
   "execution_count": 5,
   "metadata": {},
   "outputs": [
    {
     "name": "stdout",
     "output_type": "stream",
     "text": [
      "Shape of data tensor: (9739, 40000)\n"
     ]
    }
   ],
   "source": [
    "from keras.preprocessing.sequence import pad_sequences\n",
    "\n",
    "x = pad_sequences(sequences, maxlen=limite_texto)\n",
    "\n",
    "print('Shape of data tensor:', x.shape)"
   ]
  },
  {
   "cell_type": "code",
   "execution_count": 6,
   "metadata": {},
   "outputs": [
    {
     "data": {
      "text/plain": [
       "((9739, 40000), (9739, 10))"
      ]
     },
     "execution_count": 6,
     "metadata": {},
     "output_type": "execute_result"
    }
   ],
   "source": [
    "x.shape, y.shape"
   ]
  },
  {
   "cell_type": "code",
   "execution_count": 7,
   "metadata": {},
   "outputs": [
    {
     "name": "stderr",
     "output_type": "stream",
     "text": [
      "/home/leonardo/anaconda3/envs/gpu/lib/python3.7/site-packages/smart_open/smart_open_lib.py:398: UserWarning: This function is deprecated, use smart_open.open instead. See the migration notes for details: https://github.com/RaRe-Technologies/smart_open/blob/master/README.rst#migrating-to-the-new-open-function\n",
      "  'See the migration notes for details: %s' % _MIGRATION_NOTES_URL\n"
     ]
    }
   ],
   "source": [
    "from gensim.models import KeyedVectors\n",
    "\n",
    "model = KeyedVectors.load_word2vec_format('../externos/model.txt')"
   ]
  },
  {
   "cell_type": "code",
   "execution_count": 8,
   "metadata": {},
   "outputs": [
    {
     "name": "stdout",
     "output_type": "stream",
     "text": [
      "Vocabulario: 318318\n",
      "Encontrados no modelo: 110315 = 34.655595976350696\n"
     ]
    }
   ],
   "source": [
    "# create a weight matrix for words in training docs\n",
    "\n",
    "embedding_matrix = np.zeros((vocabulario, dim_vetor))\n",
    "\n",
    "ok = 0\n",
    "for word, i in tokenizer.word_index.items():\n",
    "    if word in model:\n",
    "        embedding_matrix[i] = model[word]\n",
    "        ok += 1\n",
    "print('Vocabulario:', i)\n",
    "print('Encontrados no modelo:', ok, '=', ok * 100. / i)"
   ]
  },
  {
   "cell_type": "markdown",
   "metadata": {},
   "source": [
    "# Treinamento"
   ]
  },
  {
   "cell_type": "code",
   "execution_count": 9,
   "metadata": {
    "scrolled": false
   },
   "outputs": [
    {
     "name": "stderr",
     "output_type": "stream",
     "text": [
      "WARNING: Logging before flag parsing goes to stderr.\n",
      "W0315 11:48:33.120537 139659343624000 deprecation_wrapper.py:119] From /home/leonardo/anaconda3/envs/gpu/lib/python3.7/site-packages/keras/backend/tensorflow_backend.py:74: The name tf.get_default_graph is deprecated. Please use tf.compat.v1.get_default_graph instead.\n",
      "\n",
      "W0315 11:48:33.237063 139659343624000 deprecation_wrapper.py:119] From /home/leonardo/anaconda3/envs/gpu/lib/python3.7/site-packages/keras/backend/tensorflow_backend.py:517: The name tf.placeholder is deprecated. Please use tf.compat.v1.placeholder instead.\n",
      "\n",
      "W0315 11:48:33.238970 139659343624000 deprecation_wrapper.py:119] From /home/leonardo/anaconda3/envs/gpu/lib/python3.7/site-packages/keras/backend/tensorflow_backend.py:4138: The name tf.random_uniform is deprecated. Please use tf.random.uniform instead.\n",
      "\n",
      "W0315 11:48:33.246103 139659343624000 deprecation_wrapper.py:119] From /home/leonardo/anaconda3/envs/gpu/lib/python3.7/site-packages/keras/backend/tensorflow_backend.py:174: The name tf.get_default_session is deprecated. Please use tf.compat.v1.get_default_session instead.\n",
      "\n",
      "W0315 11:48:33.246609 139659343624000 deprecation_wrapper.py:119] From /home/leonardo/anaconda3/envs/gpu/lib/python3.7/site-packages/keras/backend/tensorflow_backend.py:181: The name tf.ConfigProto is deprecated. Please use tf.compat.v1.ConfigProto instead.\n",
      "\n",
      "W0315 11:48:34.130957 139659343624000 deprecation_wrapper.py:119] From /home/leonardo/anaconda3/envs/gpu/lib/python3.7/site-packages/keras/backend/tensorflow_backend.py:3976: The name tf.nn.max_pool is deprecated. Please use tf.nn.max_pool2d instead.\n",
      "\n",
      "W0315 11:48:34.169617 139659343624000 deprecation_wrapper.py:119] From /home/leonardo/anaconda3/envs/gpu/lib/python3.7/site-packages/keras/optimizers.py:790: The name tf.train.Optimizer is deprecated. Please use tf.compat.v1.train.Optimizer instead.\n",
      "\n",
      "W0315 11:48:34.251845 139659343624000 deprecation.py:323] From /home/leonardo/anaconda3/envs/gpu/lib/python3.7/site-packages/tensorflow/python/ops/math_grad.py:1250: add_dispatch_support.<locals>.wrapper (from tensorflow.python.ops.array_ops) is deprecated and will be removed in a future version.\n",
      "Instructions for updating:\n",
      "Use tf.where in 2.0, which has the same broadcast rule as np.where\n"
     ]
    },
    {
     "name": "stdout",
     "output_type": "stream",
     "text": [
      "_________________________________________________________________\n",
      "Layer (type)                 Output Shape              Param #   \n",
      "=================================================================\n",
      "embedding_1 (Embedding)      (None, 40000, 100)        31831900  \n",
      "_________________________________________________________________\n",
      "conv1d_1 (Conv1D)            (None, 39994, 32)         22432     \n",
      "_________________________________________________________________\n",
      "max_pooling1d_1 (MaxPooling1 (None, 7998, 32)          0         \n",
      "_________________________________________________________________\n",
      "conv1d_2 (Conv1D)            (None, 7992, 32)          7200      \n",
      "_________________________________________________________________\n",
      "global_max_pooling1d_1 (Glob (None, 32)                0         \n",
      "_________________________________________________________________\n",
      "dense_1 (Dense)              (None, 10)                330       \n",
      "=================================================================\n",
      "Total params: 31,861,862\n",
      "Trainable params: 29,962\n",
      "Non-trainable params: 31,831,900\n",
      "_________________________________________________________________\n",
      "Train on 7791 samples, validate on 1948 samples\n",
      "Epoch 1/20\n",
      "7791/7791 [==============================] - 23s 3ms/step - loss: 1.5651 - categorical_accuracy: 0.4786 - val_loss: 1.6851 - val_categorical_accuracy: 0.4579\n",
      "Epoch 2/20\n",
      "7791/7791 [==============================] - 22s 3ms/step - loss: 1.2276 - categorical_accuracy: 0.6002 - val_loss: 1.4938 - val_categorical_accuracy: 0.4979\n",
      "Epoch 3/20\n",
      "7791/7791 [==============================] - 22s 3ms/step - loss: 1.1006 - categorical_accuracy: 0.6318 - val_loss: 1.4307 - val_categorical_accuracy: 0.5031\n",
      "Epoch 4/20\n",
      "7791/7791 [==============================] - 22s 3ms/step - loss: 1.0044 - categorical_accuracy: 0.6618 - val_loss: 1.3692 - val_categorical_accuracy: 0.4964\n",
      "Epoch 5/20\n",
      "7791/7791 [==============================] - 22s 3ms/step - loss: 0.9230 - categorical_accuracy: 0.6843 - val_loss: 1.2189 - val_categorical_accuracy: 0.5893\n",
      "Epoch 6/20\n",
      "7791/7791 [==============================] - 22s 3ms/step - loss: 0.8494 - categorical_accuracy: 0.7106 - val_loss: 1.4523 - val_categorical_accuracy: 0.4692\n",
      "Epoch 7/20\n",
      "7791/7791 [==============================] - 22s 3ms/step - loss: 0.7825 - categorical_accuracy: 0.7334 - val_loss: 1.2748 - val_categorical_accuracy: 0.5416\n",
      "Epoch 8/20\n",
      "7791/7791 [==============================] - 22s 3ms/step - loss: 0.7177 - categorical_accuracy: 0.7579 - val_loss: 1.8700 - val_categorical_accuracy: 0.4384\n",
      "Epoch 9/20\n",
      "7791/7791 [==============================] - 22s 3ms/step - loss: 0.6554 - categorical_accuracy: 0.7795 - val_loss: 1.3072 - val_categorical_accuracy: 0.5631\n",
      "Epoch 10/20\n",
      "7791/7791 [==============================] - 22s 3ms/step - loss: 0.5972 - categorical_accuracy: 0.7963 - val_loss: 1.3655 - val_categorical_accuracy: 0.5965\n",
      "Epoch 11/20\n",
      "7791/7791 [==============================] - 22s 3ms/step - loss: 0.5457 - categorical_accuracy: 0.8153 - val_loss: 1.3670 - val_categorical_accuracy: 0.5395\n",
      "Epoch 12/20\n",
      "7791/7791 [==============================] - 22s 3ms/step - loss: 0.4888 - categorical_accuracy: 0.8401 - val_loss: 1.4513 - val_categorical_accuracy: 0.5606\n",
      "Epoch 13/20\n",
      "7791/7791 [==============================] - 21s 3ms/step - loss: 0.4383 - categorical_accuracy: 0.8583 - val_loss: 1.6889 - val_categorical_accuracy: 0.4964\n",
      "Epoch 14/20\n",
      "7791/7791 [==============================] - 22s 3ms/step - loss: 0.3869 - categorical_accuracy: 0.8804 - val_loss: 1.5731 - val_categorical_accuracy: 0.4856\n",
      "Epoch 15/20\n",
      "7791/7791 [==============================] - 22s 3ms/step - loss: 0.3496 - categorical_accuracy: 0.8921 - val_loss: 1.4719 - val_categorical_accuracy: 0.5560\n",
      "Epoch 16/20\n",
      "7791/7791 [==============================] - 21s 3ms/step - loss: 0.3127 - categorical_accuracy: 0.9021 - val_loss: 1.6706 - val_categorical_accuracy: 0.5257\n",
      "Epoch 17/20\n",
      "7791/7791 [==============================] - 21s 3ms/step - loss: 0.2794 - categorical_accuracy: 0.9180 - val_loss: 1.5799 - val_categorical_accuracy: 0.5308\n",
      "Epoch 18/20\n",
      "7791/7791 [==============================] - 21s 3ms/step - loss: 0.2438 - categorical_accuracy: 0.9309 - val_loss: 1.5473 - val_categorical_accuracy: 0.6001\n",
      "Epoch 19/20\n",
      "7791/7791 [==============================] - 21s 3ms/step - loss: 0.2102 - categorical_accuracy: 0.9408 - val_loss: 1.7155 - val_categorical_accuracy: 0.5467\n",
      "Epoch 20/20\n",
      "7791/7791 [==============================] - 22s 3ms/step - loss: 0.1819 - categorical_accuracy: 0.9502 - val_loss: 1.7719 - val_categorical_accuracy: 0.5334\n"
     ]
    }
   ],
   "source": [
    "from keras.models import Sequential\n",
    "from keras.layers import Embedding, Conv1D, MaxPooling1D, Dense, GlobalMaxPooling1D, Flatten\n",
    "from keras.optimizers import RMSprop\n",
    "from keras.layers.core import Dropout\n",
    "\n",
    "model = Sequential()\n",
    "model.add(Embedding(vocabulario, dim_vetor, weights=[embedding_matrix], input_length=limite_texto, trainable=False))\n",
    "model.add(Conv1D(32, 7, activation='relu'))\n",
    "model.add(MaxPooling1D(5))\n",
    "model.add(Conv1D(32, 7, activation='relu'))\n",
    "model.add(GlobalMaxPooling1D())\n",
    "model.add(Dense(y.shape[1], activation='softmax'))\n",
    "model.compile(loss='categorical_crossentropy', optimizer=RMSprop(),  metrics=[\"categorical_accuracy\"])\n",
    "model.summary()\n",
    "history = model.fit(x, y, epochs=20, batch_size=32, validation_split=0.2, verbose=1, shuffle=True)"
   ]
  },
  {
   "cell_type": "code",
   "execution_count": 10,
   "metadata": {},
   "outputs": [
    {
     "name": "stdout",
     "output_type": "stream",
     "text": [
      "_________________________________________________________________\n",
      "Layer (type)                 Output Shape              Param #   \n",
      "=================================================================\n",
      "embedding_2 (Embedding)      (None, 40000, 100)        31831900  \n",
      "_________________________________________________________________\n",
      "conv1d_3 (Conv1D)            (None, 39994, 64)         44864     \n",
      "_________________________________________________________________\n",
      "max_pooling1d_2 (MaxPooling1 (None, 7998, 64)          0         \n",
      "_________________________________________________________________\n",
      "conv1d_4 (Conv1D)            (None, 7992, 32)          14368     \n",
      "_________________________________________________________________\n",
      "global_max_pooling1d_2 (Glob (None, 32)                0         \n",
      "_________________________________________________________________\n",
      "dense_2 (Dense)              (None, 10)                330       \n",
      "=================================================================\n",
      "Total params: 31,891,462\n",
      "Trainable params: 31,891,462\n",
      "Non-trainable params: 0\n",
      "_________________________________________________________________\n",
      "Train on 7791 samples, validate on 1948 samples\n",
      "Epoch 1/20\n",
      "7791/7791 [==============================] - 61s 8ms/step - loss: 1.5184 - categorical_accuracy: 0.5058 - val_loss: 1.4438 - val_categorical_accuracy: 0.5164\n",
      "Epoch 2/20\n",
      "7791/7791 [==============================] - 60s 8ms/step - loss: 1.1083 - categorical_accuracy: 0.6346 - val_loss: 1.6008 - val_categorical_accuracy: 0.4769\n",
      "Epoch 3/20\n",
      "7791/7791 [==============================] - 61s 8ms/step - loss: 0.9312 - categorical_accuracy: 0.6828 - val_loss: 1.4178 - val_categorical_accuracy: 0.4636\n",
      "Epoch 4/20\n",
      "7791/7791 [==============================] - 60s 8ms/step - loss: 0.7654 - categorical_accuracy: 0.7418 - val_loss: 1.5785 - val_categorical_accuracy: 0.4795\n",
      "Epoch 5/20\n",
      "7791/7791 [==============================] - 59s 8ms/step - loss: 0.6033 - categorical_accuracy: 0.8066 - val_loss: 1.3644 - val_categorical_accuracy: 0.5411\n",
      "Epoch 6/20\n",
      "7791/7791 [==============================] - 60s 8ms/step - loss: 0.4443 - categorical_accuracy: 0.8693 - val_loss: 1.2721 - val_categorical_accuracy: 0.5980\n",
      "Epoch 7/20\n",
      "7791/7791 [==============================] - 60s 8ms/step - loss: 0.3025 - categorical_accuracy: 0.9171 - val_loss: 1.2089 - val_categorical_accuracy: 0.6289\n",
      "Epoch 8/20\n",
      "7791/7791 [==============================] - 60s 8ms/step - loss: 0.1857 - categorical_accuracy: 0.9601 - val_loss: 1.2590 - val_categorical_accuracy: 0.6129\n",
      "Epoch 9/20\n",
      "7791/7791 [==============================] - 60s 8ms/step - loss: 0.1008 - categorical_accuracy: 0.9832 - val_loss: 1.3823 - val_categorical_accuracy: 0.5806\n",
      "Epoch 10/20\n",
      "7791/7791 [==============================] - 60s 8ms/step - loss: 0.0526 - categorical_accuracy: 0.9924 - val_loss: 1.5396 - val_categorical_accuracy: 0.5662\n",
      "Epoch 11/20\n",
      "7791/7791 [==============================] - 60s 8ms/step - loss: 0.0299 - categorical_accuracy: 0.9949 - val_loss: 1.5920 - val_categorical_accuracy: 0.5934\n",
      "Epoch 12/20\n",
      "7791/7791 [==============================] - 60s 8ms/step - loss: 0.0169 - categorical_accuracy: 0.9964 - val_loss: 1.6176 - val_categorical_accuracy: 0.6006\n",
      "Epoch 13/20\n",
      "7791/7791 [==============================] - 60s 8ms/step - loss: 0.0093 - categorical_accuracy: 0.9981 - val_loss: 1.8221 - val_categorical_accuracy: 0.5857\n",
      "Epoch 14/20\n",
      "7791/7791 [==============================] - 60s 8ms/step - loss: 0.0057 - categorical_accuracy: 0.9991 - val_loss: 2.2978 - val_categorical_accuracy: 0.5005\n",
      "Epoch 15/20\n",
      "7791/7791 [==============================] - 60s 8ms/step - loss: 0.0052 - categorical_accuracy: 0.9979 - val_loss: 1.9121 - val_categorical_accuracy: 0.5955\n",
      "Epoch 16/20\n",
      "7791/7791 [==============================] - 60s 8ms/step - loss: 0.0031 - categorical_accuracy: 0.9994 - val_loss: 2.0420 - val_categorical_accuracy: 0.5837\n",
      "Epoch 17/20\n",
      "7791/7791 [==============================] - 60s 8ms/step - loss: 0.0024 - categorical_accuracy: 0.9992 - val_loss: 2.0071 - val_categorical_accuracy: 0.5996\n",
      "Epoch 18/20\n",
      "7791/7791 [==============================] - 60s 8ms/step - loss: 0.0014 - categorical_accuracy: 0.9996 - val_loss: 2.1353 - val_categorical_accuracy: 0.6016\n",
      "Epoch 19/20\n",
      "7791/7791 [==============================] - 60s 8ms/step - loss: 5.9046e-04 - categorical_accuracy: 0.9999 - val_loss: 2.2124 - val_categorical_accuracy: 0.5868\n",
      "Epoch 20/20\n",
      "7791/7791 [==============================] - 60s 8ms/step - loss: 0.0011 - categorical_accuracy: 0.9995 - val_loss: 2.9515 - val_categorical_accuracy: 0.5662\n"
     ]
    }
   ],
   "source": [
    "model = Sequential()\n",
    "model.add(Embedding(vocabulario, dim_vetor, weights=[embedding_matrix], input_length=limite_texto, trainable=True))\n",
    "model.add(Conv1D(64, 7, activation='relu'))\n",
    "model.add(MaxPooling1D(5))\n",
    "model.add(Conv1D(32, 7, activation='relu'))\n",
    "model.add(GlobalMaxPooling1D())\n",
    "model.add(Dense(y.shape[1], activation='softmax'))\n",
    "model.compile(loss='categorical_crossentropy', optimizer=RMSprop(),  metrics=[\"categorical_accuracy\"])\n",
    "model.summary()\n",
    "history = model.fit(x, y, epochs=20, batch_size=32, validation_split=0.2, verbose=1, shuffle=True)"
   ]
  },
  {
   "cell_type": "code",
   "execution_count": 11,
   "metadata": {
    "scrolled": false
   },
   "outputs": [
    {
     "name": "stderr",
     "output_type": "stream",
     "text": [
      "W0315 12:15:53.574755 139659343624000 deprecation.py:506] From /home/leonardo/anaconda3/envs/gpu/lib/python3.7/site-packages/keras/backend/tensorflow_backend.py:3445: calling dropout (from tensorflow.python.ops.nn_ops) with keep_prob is deprecated and will be removed in a future version.\n",
      "Instructions for updating:\n",
      "Please use `rate` instead of `keep_prob`. Rate should be set to `rate = 1 - keep_prob`.\n"
     ]
    },
    {
     "name": "stdout",
     "output_type": "stream",
     "text": [
      "_________________________________________________________________\n",
      "Layer (type)                 Output Shape              Param #   \n",
      "=================================================================\n",
      "embedding_3 (Embedding)      (None, 40000, 100)        31831900  \n",
      "_________________________________________________________________\n",
      "conv1d_5 (Conv1D)            (None, 39994, 64)         44864     \n",
      "_________________________________________________________________\n",
      "max_pooling1d_3 (MaxPooling1 (None, 7998, 64)          0         \n",
      "_________________________________________________________________\n",
      "conv1d_6 (Conv1D)            (None, 7992, 32)          14368     \n",
      "_________________________________________________________________\n",
      "max_pooling1d_4 (MaxPooling1 (None, 1598, 32)          0         \n",
      "_________________________________________________________________\n",
      "flatten_1 (Flatten)          (None, 51136)             0         \n",
      "_________________________________________________________________\n",
      "dense_3 (Dense)              (None, 256)               13091072  \n",
      "_________________________________________________________________\n",
      "dropout_1 (Dropout)          (None, 256)               0         \n",
      "_________________________________________________________________\n",
      "dense_4 (Dense)              (None, 10)                2570      \n",
      "=================================================================\n",
      "Total params: 44,984,774\n",
      "Trainable params: 44,984,774\n",
      "Non-trainable params: 0\n",
      "_________________________________________________________________\n",
      "Train on 7791 samples, validate on 1948 samples\n",
      "Epoch 1/20\n",
      "7791/7791 [==============================] - 62s 8ms/step - loss: 1.8618 - categorical_accuracy: 0.3806 - val_loss: 1.7093 - val_categorical_accuracy: 0.3773\n",
      "Epoch 2/20\n",
      "7791/7791 [==============================] - 61s 8ms/step - loss: 1.3492 - categorical_accuracy: 0.5597 - val_loss: 1.5520 - val_categorical_accuracy: 0.4846\n",
      "Epoch 3/20\n",
      "7791/7791 [==============================] - 61s 8ms/step - loss: 0.9491 - categorical_accuracy: 0.6858 - val_loss: 1.6794 - val_categorical_accuracy: 0.4271\n",
      "Epoch 4/20\n",
      "7791/7791 [==============================] - 61s 8ms/step - loss: 0.6278 - categorical_accuracy: 0.7919 - val_loss: 1.8833 - val_categorical_accuracy: 0.4938\n",
      "Epoch 5/20\n",
      "7791/7791 [==============================] - 61s 8ms/step - loss: 0.3793 - categorical_accuracy: 0.8782 - val_loss: 2.6445 - val_categorical_accuracy: 0.4405\n",
      "Epoch 6/20\n",
      "7791/7791 [==============================] - 61s 8ms/step - loss: 0.2105 - categorical_accuracy: 0.9358 - val_loss: 3.5538 - val_categorical_accuracy: 0.4517\n",
      "Epoch 7/20\n",
      "7791/7791 [==============================] - 61s 8ms/step - loss: 0.1433 - categorical_accuracy: 0.9630 - val_loss: 4.2442 - val_categorical_accuracy: 0.4322\n",
      "Epoch 8/20\n",
      "7791/7791 [==============================] - 63s 8ms/step - loss: 0.0927 - categorical_accuracy: 0.9765 - val_loss: 4.2141 - val_categorical_accuracy: 0.4559\n",
      "Epoch 9/20\n",
      "7791/7791 [==============================] - 63s 8ms/step - loss: 0.0871 - categorical_accuracy: 0.9849 - val_loss: 4.8501 - val_categorical_accuracy: 0.4482\n",
      "Epoch 10/20\n",
      "7791/7791 [==============================] - 63s 8ms/step - loss: 0.0292 - categorical_accuracy: 0.9927 - val_loss: 5.0737 - val_categorical_accuracy: 0.4440\n",
      "Epoch 11/20\n",
      "7791/7791 [==============================] - 63s 8ms/step - loss: 0.0410 - categorical_accuracy: 0.9922 - val_loss: 5.2853 - val_categorical_accuracy: 0.4394\n",
      "Epoch 12/20\n",
      "7791/7791 [==============================] - 63s 8ms/step - loss: 0.0437 - categorical_accuracy: 0.9923 - val_loss: 5.0875 - val_categorical_accuracy: 0.4102\n",
      "Epoch 13/20\n",
      "7791/7791 [==============================] - 63s 8ms/step - loss: 0.0591 - categorical_accuracy: 0.9931 - val_loss: 5.5440 - val_categorical_accuracy: 0.4394\n",
      "Epoch 14/20\n",
      "7791/7791 [==============================] - 63s 8ms/step - loss: 0.0263 - categorical_accuracy: 0.9954 - val_loss: 6.2507 - val_categorical_accuracy: 0.4399\n",
      "Epoch 15/20\n",
      "7791/7791 [==============================] - 63s 8ms/step - loss: 0.0292 - categorical_accuracy: 0.9953 - val_loss: 6.2052 - val_categorical_accuracy: 0.4322\n",
      "Epoch 16/20\n",
      "7791/7791 [==============================] - 63s 8ms/step - loss: 0.0212 - categorical_accuracy: 0.9955 - val_loss: 6.5047 - val_categorical_accuracy: 0.4117\n",
      "Epoch 17/20\n",
      "7791/7791 [==============================] - 63s 8ms/step - loss: 0.0449 - categorical_accuracy: 0.9935 - val_loss: 6.8155 - val_categorical_accuracy: 0.3994\n",
      "Epoch 18/20\n",
      "7791/7791 [==============================] - 63s 8ms/step - loss: 0.0150 - categorical_accuracy: 0.9964 - val_loss: 6.0378 - val_categorical_accuracy: 0.4158\n",
      "Epoch 19/20\n",
      "7791/7791 [==============================] - 63s 8ms/step - loss: 0.0422 - categorical_accuracy: 0.9937 - val_loss: 6.3336 - val_categorical_accuracy: 0.4020\n",
      "Epoch 20/20\n",
      "7791/7791 [==============================] - 63s 8ms/step - loss: 0.0250 - categorical_accuracy: 0.9964 - val_loss: 6.4348 - val_categorical_accuracy: 0.4050\n"
     ]
    }
   ],
   "source": [
    "model = Sequential()\n",
    "model.add(Embedding(vocabulario, dim_vetor, weights=[embedding_matrix], input_length=limite_texto, trainable=True))\n",
    "model.add(Conv1D(64, 7, activation='relu'))\n",
    "model.add(MaxPooling1D(5))\n",
    "model.add(Conv1D(32, 7, activation='relu'))\n",
    "model.add(MaxPooling1D(5))\n",
    "model.add(Flatten())\n",
    "model.add(Dense(256, activation='relu'))\n",
    "model.add(Dropout(0.2))\n",
    "model.add(Dense(y.shape[1], activation='softmax'))\n",
    "model.compile(loss='categorical_crossentropy', optimizer=RMSprop(),  metrics=[\"categorical_accuracy\"])\n",
    "model.summary()\n",
    "history = model.fit(x, y, epochs=20, batch_size=32, validation_split=0.2, verbose=1, shuffle=True)"
   ]
  },
  {
   "cell_type": "code",
   "execution_count": 12,
   "metadata": {},
   "outputs": [
    {
     "name": "stdout",
     "output_type": "stream",
     "text": [
      "_________________________________________________________________\n",
      "Layer (type)                 Output Shape              Param #   \n",
      "=================================================================\n",
      "embedding_4 (Embedding)      (None, 40000, 100)        31831900  \n",
      "_________________________________________________________________\n",
      "conv1d_7 (Conv1D)            (None, 39994, 64)         44864     \n",
      "_________________________________________________________________\n",
      "max_pooling1d_5 (MaxPooling1 (None, 7998, 64)          0         \n",
      "_________________________________________________________________\n",
      "conv1d_8 (Conv1D)            (None, 7992, 32)          14368     \n",
      "_________________________________________________________________\n",
      "max_pooling1d_6 (MaxPooling1 (None, 1598, 32)          0         \n",
      "_________________________________________________________________\n",
      "flatten_2 (Flatten)          (None, 51136)             0         \n",
      "_________________________________________________________________\n",
      "dense_5 (Dense)              (None, 1024)              52364288  \n",
      "_________________________________________________________________\n",
      "dropout_2 (Dropout)          (None, 1024)              0         \n",
      "_________________________________________________________________\n",
      "dense_6 (Dense)              (None, 128)               131200    \n",
      "_________________________________________________________________\n",
      "dropout_3 (Dropout)          (None, 128)               0         \n",
      "_________________________________________________________________\n",
      "dense_7 (Dense)              (None, 10)                1290      \n",
      "=================================================================\n",
      "Total params: 84,387,910\n",
      "Trainable params: 84,387,910\n",
      "Non-trainable params: 0\n",
      "_________________________________________________________________\n",
      "Train on 7791 samples, validate on 1948 samples\n",
      "Epoch 1/20\n",
      "7791/7791 [==============================] - 70s 9ms/step - loss: 1.9320 - categorical_accuracy: 0.3707 - val_loss: 2.2451 - val_categorical_accuracy: 0.2613\n",
      "Epoch 2/20\n",
      "7791/7791 [==============================] - 69s 9ms/step - loss: 1.4175 - categorical_accuracy: 0.5337 - val_loss: 1.5216 - val_categorical_accuracy: 0.4646\n",
      "Epoch 3/20\n",
      "7791/7791 [==============================] - 69s 9ms/step - loss: 1.0090 - categorical_accuracy: 0.6744 - val_loss: 1.6057 - val_categorical_accuracy: 0.4620\n",
      "Epoch 4/20\n",
      "7791/7791 [==============================] - 69s 9ms/step - loss: 0.6345 - categorical_accuracy: 0.7950 - val_loss: 2.1414 - val_categorical_accuracy: 0.4405\n",
      "Epoch 5/20\n",
      "7791/7791 [==============================] - 69s 9ms/step - loss: 0.3644 - categorical_accuracy: 0.8862 - val_loss: 2.9032 - val_categorical_accuracy: 0.4020\n",
      "Epoch 6/20\n",
      "7791/7791 [==============================] - 69s 9ms/step - loss: 0.2602 - categorical_accuracy: 0.9348 - val_loss: 3.7060 - val_categorical_accuracy: 0.3932\n",
      "Epoch 7/20\n",
      "7791/7791 [==============================] - 69s 9ms/step - loss: 0.1866 - categorical_accuracy: 0.9651 - val_loss: 3.8326 - val_categorical_accuracy: 0.4394\n",
      "Epoch 8/20\n",
      "7791/7791 [==============================] - 69s 9ms/step - loss: 0.0851 - categorical_accuracy: 0.9814 - val_loss: 4.8241 - val_categorical_accuracy: 0.4286\n",
      "Epoch 9/20\n",
      "7791/7791 [==============================] - 69s 9ms/step - loss: 0.1105 - categorical_accuracy: 0.9802 - val_loss: 5.6708 - val_categorical_accuracy: 0.4025\n",
      "Epoch 10/20\n",
      "7791/7791 [==============================] - 69s 9ms/step - loss: 0.0956 - categorical_accuracy: 0.9858 - val_loss: 5.5792 - val_categorical_accuracy: 0.4405\n",
      "Epoch 11/20\n",
      "7791/7791 [==============================] - 69s 9ms/step - loss: 0.0797 - categorical_accuracy: 0.9869 - val_loss: 5.6879 - val_categorical_accuracy: 0.4174\n",
      "Epoch 12/20\n",
      "7791/7791 [==============================] - 69s 9ms/step - loss: 0.0735 - categorical_accuracy: 0.9892 - val_loss: 6.1221 - val_categorical_accuracy: 0.4245\n",
      "Epoch 13/20\n",
      "7791/7791 [==============================] - 70s 9ms/step - loss: 0.0643 - categorical_accuracy: 0.9908 - val_loss: 6.6047 - val_categorical_accuracy: 0.4153\n",
      "Epoch 14/20\n",
      "7791/7791 [==============================] - 70s 9ms/step - loss: 0.1039 - categorical_accuracy: 0.9864 - val_loss: 6.6180 - val_categorical_accuracy: 0.4189\n",
      "Epoch 15/20\n",
      "7791/7791 [==============================] - 69s 9ms/step - loss: 0.1850 - categorical_accuracy: 0.9819 - val_loss: 6.8224 - val_categorical_accuracy: 0.4138\n",
      "Epoch 16/20\n",
      "7791/7791 [==============================] - 69s 9ms/step - loss: 0.0724 - categorical_accuracy: 0.9910 - val_loss: 6.5015 - val_categorical_accuracy: 0.4713\n",
      "Epoch 17/20\n",
      "7791/7791 [==============================] - 70s 9ms/step - loss: 0.1162 - categorical_accuracy: 0.9872 - val_loss: 6.3402 - val_categorical_accuracy: 0.4276\n",
      "Epoch 18/20\n",
      "7791/7791 [==============================] - 70s 9ms/step - loss: 0.0705 - categorical_accuracy: 0.9919 - val_loss: 7.1646 - val_categorical_accuracy: 0.4153\n",
      "Epoch 19/20\n",
      "7791/7791 [==============================] - 69s 9ms/step - loss: 0.0742 - categorical_accuracy: 0.9915 - val_loss: 6.6851 - val_categorical_accuracy: 0.4220\n",
      "Epoch 20/20\n",
      "7791/7791 [==============================] - 70s 9ms/step - loss: 0.0588 - categorical_accuracy: 0.9926 - val_loss: 7.0855 - val_categorical_accuracy: 0.4112\n"
     ]
    }
   ],
   "source": [
    "model = Sequential()\n",
    "model.add(Embedding(vocabulario, dim_vetor, weights=[embedding_matrix], input_length=limite_texto, trainable=True))\n",
    "model.add(Conv1D(64, 7, activation='relu'))\n",
    "model.add(MaxPooling1D(5))\n",
    "model.add(Conv1D(32, 7, activation='relu'))\n",
    "model.add(MaxPooling1D(5))\n",
    "model.add(Flatten())\n",
    "model.add(Dense(1024, activation='relu'))\n",
    "model.add(Dropout(0.2))\n",
    "model.add(Dense(128, activation='relu'))\n",
    "model.add(Dropout(0.2))\n",
    "model.add(Dense(y.shape[1], activation='softmax'))\n",
    "model.compile(loss='categorical_crossentropy', optimizer=RMSprop(),  metrics=[\"categorical_accuracy\"])\n",
    "model.summary()\n",
    "history = model.fit(x, y, epochs=20, batch_size=32, validation_split=0.2, verbose=1, shuffle=True)"
   ]
  },
  {
   "cell_type": "code",
   "execution_count": null,
   "metadata": {},
   "outputs": [],
   "source": []
  }
 ],
 "metadata": {
  "kernelspec": {
   "display_name": "Python 3",
   "language": "python",
   "name": "python3"
  },
  "language_info": {
   "codemirror_mode": {
    "name": "ipython",
    "version": 3
   },
   "file_extension": ".py",
   "mimetype": "text/x-python",
   "name": "python",
   "nbconvert_exporter": "python",
   "pygments_lexer": "ipython3",
   "version": "3.7.4"
  }
 },
 "nbformat": 4,
 "nbformat_minor": 2
}
