{
 "cells": [
  {
   "cell_type": "markdown",
   "metadata": {},
   "source": [
    "### Utilizando embeddings pré-treinados para a Língua Portuguesa, com corpus de 1.395.926.282 tokens, em Glove, pelo Núcleo Interinstitucional de Linguística Computacional da USP\n",
    "\n",
    "http://nilc.icmc.usp.br/embeddings"
   ]
  },
  {
   "cell_type": "code",
   "execution_count": 5,
   "metadata": {},
   "outputs": [],
   "source": [
    "# conda install gensim==2.0.0"
   ]
  },
  {
   "cell_type": "code",
   "execution_count": 3,
   "metadata": {},
   "outputs": [],
   "source": [
    "from gensim.models import KeyedVectors\n",
    "\n",
    "model = KeyedVectors.load_word2vec_format('model.txt')"
   ]
  },
  {
   "cell_type": "markdown",
   "metadata": {},
   "source": [
    "#### Exemplos de testes extraídos de https://radimrehurek.com/gensim/models/keyedvectors.html:"
   ]
  },
  {
   "cell_type": "code",
   "execution_count": 17,
   "metadata": {},
   "outputs": [
    {
     "data": {
      "text/plain": [
       "[('rainha', 0.8619308471679688),\n",
       " ('princesa', 0.7710514068603516),\n",
       " ('esposa', 0.727602481842041),\n",
       " ('filha', 0.7210227251052856),\n",
       " ('isabel', 0.7201606035232544),\n",
       " ('consorte', 0.7145142555236816),\n",
       " ('irmã', 0.7085468769073486),\n",
       " ('príncipe', 0.7065805792808533),\n",
       " ('infanta', 0.6946784257888794),\n",
       " ('trono', 0.6820836067199707)]"
      ]
     },
     "execution_count": 17,
     "metadata": {},
     "output_type": "execute_result"
    }
   ],
   "source": [
    "model.most_similar(positive=['mulher', 'rei'], negative=['homem'])"
   ]
  },
  {
   "cell_type": "code",
   "execution_count": 18,
   "metadata": {},
   "outputs": [
    {
     "data": {
      "text/plain": [
       "[('rainha', 1.0288113355636597),\n",
       " ('princesa', 0.9778385162353516),\n",
       " ('infanta', 0.9673219919204712),\n",
       " ('consorte', 0.9618603587150574),\n",
       " ('isabel', 0.9388760328292847),\n",
       " ('duquesa', 0.9365830421447754),\n",
       " ('esposa', 0.9207543730735779),\n",
       " ('coroação', 0.918478786945343),\n",
       " ('imperatriz', 0.9168302416801453),\n",
       " ('herdeira', 0.9162535667419434)]"
      ]
     },
     "execution_count": 18,
     "metadata": {},
     "output_type": "execute_result"
    }
   ],
   "source": [
    "model.most_similar_cosmul(positive=['mulher', 'rei'], negative=['homem'])"
   ]
  },
  {
   "cell_type": "code",
   "execution_count": 20,
   "metadata": {},
   "outputs": [
    {
     "name": "stderr",
     "output_type": "stream",
     "text": [
      "/home/leonardo/anaconda3/envs/gpu/lib/python3.7/site-packages/gensim/models/keyedvectors.py:730: FutureWarning: arrays to stack must be passed as a \"sequence\" type such as list or tuple. Support for non-sequence iterables such as generators is deprecated as of NumPy 1.16 and will raise an error in the future.\n",
      "  vectors = vstack(self.word_vec(word, use_norm=True) for word in used_words).astype(REAL)\n"
     ]
    },
    {
     "data": {
      "text/plain": [
       "'cereal'"
      ]
     },
     "execution_count": 20,
     "metadata": {},
     "output_type": "execute_result"
    }
   ],
   "source": [
    "model.doesnt_match(\"café cereal jantar lanche\".split())"
   ]
  },
  {
   "cell_type": "code",
   "execution_count": 23,
   "metadata": {},
   "outputs": [
    {
     "data": {
      "text/plain": [
       "0.757899250788929"
      ]
     },
     "execution_count": 23,
     "metadata": {},
     "output_type": "execute_result"
    }
   ],
   "source": [
    "model.similarity('mulher', 'homem')"
   ]
  },
  {
   "cell_type": "code",
   "execution_count": 24,
   "metadata": {},
   "outputs": [
    {
     "data": {
      "text/plain": [
       "0.29365403523286937"
      ]
     },
     "execution_count": 24,
     "metadata": {},
     "output_type": "execute_result"
    }
   ],
   "source": [
    "model.similarity('martelo', 'homem')"
   ]
  },
  {
   "cell_type": "code",
   "execution_count": 25,
   "metadata": {},
   "outputs": [
    {
     "data": {
      "text/plain": [
       "[('cachorro', 0.8664226531982422),\n",
       " ('cão', 0.8353745937347412),\n",
       " ('macaco', 0.7338311672210693),\n",
       " ('pássaro', 0.7262916564941406),\n",
       " ('garoto', 0.7220209836959839),\n",
       " ('gordo', 0.6904109716415405),\n",
       " ('diabo', 0.6750254034996033),\n",
       " ('rato', 0.6749135255813599),\n",
       " ('cara', 0.6745185852050781),\n",
       " ('menino', 0.6710939407348633)]"
      ]
     },
     "execution_count": 25,
     "metadata": {},
     "output_type": "execute_result"
    }
   ],
   "source": [
    "model.similar_by_word('gato')"
   ]
  },
  {
   "cell_type": "code",
   "execution_count": 29,
   "metadata": {},
   "outputs": [
    {
     "data": {
      "text/plain": [
       "1.1102230246251565e-16"
      ]
     },
     "execution_count": 29,
     "metadata": {},
     "output_type": "execute_result"
    }
   ],
   "source": [
    "model.distance(\"lápis\", \"lápis\")"
   ]
  },
  {
   "cell_type": "code",
   "execution_count": 30,
   "metadata": {},
   "outputs": [
    {
     "data": {
      "text/plain": [
       "0.3255193411005275"
      ]
     },
     "execution_count": 30,
     "metadata": {},
     "output_type": "execute_result"
    }
   ],
   "source": [
    "model.distance(\"lápis\", \"caneta\")"
   ]
  },
  {
   "cell_type": "code",
   "execution_count": 31,
   "metadata": {},
   "outputs": [
    {
     "data": {
      "text/plain": [
       "0.5455631723466088"
      ]
     },
     "execution_count": 31,
     "metadata": {},
     "output_type": "execute_result"
    }
   ],
   "source": [
    "model.distance(\"lápis\", \"borracha\")"
   ]
  },
  {
   "cell_type": "code",
   "execution_count": 32,
   "metadata": {},
   "outputs": [
    {
     "data": {
      "text/plain": [
       "array([-0.180337, -0.280599, -0.793407, -0.304875, -0.057729, -0.720198,\n",
       "       -0.533075,  0.599846, -0.564643,  1.11812 , -0.035618, -0.984066,\n",
       "        0.01197 ,  0.502278,  0.885842, -0.453995, -0.272895, -0.238914,\n",
       "       -0.021021,  0.04285 ,  0.164404,  0.379844,  0.451561, -0.538584,\n",
       "       -0.923393, -0.695864,  0.819656,  0.363495, -0.053822,  1.034815,\n",
       "        1.253267, -0.375989,  0.423655, -0.23772 , -0.486381, -0.143991,\n",
       "        0.186763,  0.684981, -0.244679,  0.941474, -0.46586 , -1.486861,\n",
       "        0.751115, -0.157335, -0.586123,  0.801916, -0.122616,  0.057551,\n",
       "        0.149386, -0.125918, -0.938515,  0.402512, -0.062646, -0.036973,\n",
       "        0.346579, -0.478953,  0.801623,  0.451564,  0.996408,  0.705945,\n",
       "       -0.758639, -0.477099,  0.079465, -0.36921 , -0.160592,  0.1158  ,\n",
       "       -0.733103, -0.70884 , -0.262997, -0.179326,  0.210319,  0.422162,\n",
       "        0.59902 , -0.4946  ,  0.736465,  0.224975,  0.131071, -0.057587,\n",
       "        0.091631, -0.484455, -0.444434, -1.31743 ,  0.537073, -0.429469,\n",
       "       -0.241012, -0.372445, -0.421587, -0.178684,  0.497001,  0.106601,\n",
       "        0.05225 ,  1.421861,  0.191492,  0.020433, -0.32211 ,  0.328661,\n",
       "        0.567067,  0.103304,  1.35923 , -0.723155], dtype=float32)"
      ]
     },
     "execution_count": 32,
     "metadata": {},
     "output_type": "execute_result"
    }
   ],
   "source": [
    "model['computador']"
   ]
  },
  {
   "cell_type": "markdown",
   "metadata": {},
   "source": [
    "#### De https://www.pydoc.io/pypi/gensim-3.2.0/autoapi/models/keyedvectors/index.html:"
   ]
  },
  {
   "cell_type": "code",
   "execution_count": 33,
   "metadata": {},
   "outputs": [
    {
     "name": "stderr",
     "output_type": "stream",
     "text": [
      "WARNING: Logging before flag parsing goes to stderr.\n",
      "W0812 10:58:17.015289 140623904597824 deprecation_wrapper.py:119] From /home/leonardo/anaconda3/envs/gpu/lib/python3.7/site-packages/keras/backend/tensorflow_backend.py:74: The name tf.get_default_graph is deprecated. Please use tf.compat.v1.get_default_graph instead.\n",
      "\n"
     ]
    },
    {
     "data": {
      "text/plain": [
       "<keras.layers.embeddings.Embedding at 0x7fe4eae88278>"
      ]
     },
     "execution_count": 33,
     "metadata": {},
     "output_type": "execute_result"
    }
   ],
   "source": [
    "embedding = model.get_keras_embedding(train_embeddings=False)\n",
    "embedding"
   ]
  },
  {
   "cell_type": "code",
   "execution_count": 36,
   "metadata": {},
   "outputs": [
    {
     "data": {
      "text/plain": [
       "True"
      ]
     },
     "execution_count": 36,
     "metadata": {},
     "output_type": "execute_result"
    }
   ],
   "source": [
    "'teste' in model"
   ]
  },
  {
   "cell_type": "code",
   "execution_count": 37,
   "metadata": {},
   "outputs": [
    {
     "data": {
      "text/plain": [
       "False"
      ]
     },
     "execution_count": 37,
     "metadata": {},
     "output_type": "execute_result"
    }
   ],
   "source": [
    "'à' in model"
   ]
  },
  {
   "cell_type": "code",
   "execution_count": null,
   "metadata": {},
   "outputs": [],
   "source": []
  }
 ],
 "metadata": {
  "kernelspec": {
   "display_name": "Python 3",
   "language": "python",
   "name": "python3"
  },
  "language_info": {
   "codemirror_mode": {
    "name": "ipython",
    "version": 3
   },
   "file_extension": ".py",
   "mimetype": "text/x-python",
   "name": "python",
   "nbconvert_exporter": "python",
   "pygments_lexer": "ipython3",
   "version": "3.7.3"
  }
 },
 "nbformat": 4,
 "nbformat_minor": 2
}
