{
 "cells": [
  {
   "cell_type": "markdown",
   "metadata": {},
   "source": [
    "# Importação e preparação dos dados"
   ]
  },
  {
   "cell_type": "code",
   "execution_count": 1,
   "metadata": {},
   "outputs": [
    {
     "data": {
      "text/html": [
       "<div>\n",
       "<style scoped>\n",
       "    .dataframe tbody tr th:only-of-type {\n",
       "        vertical-align: middle;\n",
       "    }\n",
       "\n",
       "    .dataframe tbody tr th {\n",
       "        vertical-align: top;\n",
       "    }\n",
       "\n",
       "    .dataframe thead th {\n",
       "        text-align: right;\n",
       "    }\n",
       "</style>\n",
       "<table border=\"1\" class=\"dataframe\">\n",
       "  <thead>\n",
       "    <tr style=\"text-align: right;\">\n",
       "      <th></th>\n",
       "      <th>COD</th>\n",
       "      <th>NUM_ENUNCIADO</th>\n",
       "      <th>COD_AREA</th>\n",
       "      <th>DESCR_AREA</th>\n",
       "      <th>COD_TEMA</th>\n",
       "      <th>DESCR_TEMA</th>\n",
       "      <th>COD_SUBTEMA</th>\n",
       "      <th>DESCR_SUBTEMA</th>\n",
       "      <th>COD_DOC_TRAMITAVEL_ENUNCIADO</th>\n",
       "      <th>TEXTO_ENUNCIADO</th>\n",
       "      <th>ACORDAO</th>\n",
       "      <th>TIPO_PROCESSO</th>\n",
       "    </tr>\n",
       "  </thead>\n",
       "  <tbody>\n",
       "    <tr>\n",
       "      <th>0</th>\n",
       "      <td>1400</td>\n",
       "      <td>1236</td>\n",
       "      <td>50</td>\n",
       "      <td>Responsabilidade</td>\n",
       "      <td>488</td>\n",
       "      <td>Solidariedade</td>\n",
       "      <td>261</td>\n",
       "      <td>Benefício previdenciário</td>\n",
       "      <td>54995437</td>\n",
       "      <td>Não comprovada a participação do beneficiário ...</td>\n",
       "      <td>Acórdão 297/2016 - PL</td>\n",
       "      <td>Tomada de Contas Especial</td>\n",
       "    </tr>\n",
       "    <tr>\n",
       "      <th>1</th>\n",
       "      <td>1700</td>\n",
       "      <td>1534</td>\n",
       "      <td>46</td>\n",
       "      <td>Finanças Públicas</td>\n",
       "      <td>981</td>\n",
       "      <td>Exportação</td>\n",
       "      <td>983</td>\n",
       "      <td>Petróleo</td>\n",
       "      <td>55025587</td>\n",
       "      <td>A operação ficta de exportação de plataformas ...</td>\n",
       "      <td>Acórdão 366/2016 - PL</td>\n",
       "      <td>Solicitação do Congresso Nacional</td>\n",
       "    </tr>\n",
       "    <tr>\n",
       "      <th>2</th>\n",
       "      <td>5700</td>\n",
       "      <td>5314</td>\n",
       "      <td>50</td>\n",
       "      <td>Responsabilidade</td>\n",
       "      <td>203</td>\n",
       "      <td>Multa</td>\n",
       "      <td>1021</td>\n",
       "      <td>Dosimetria</td>\n",
       "      <td>55455370</td>\n",
       "      <td>No âmbito do TCU, a dosimetria da pena tem com...</td>\n",
       "      <td>Acórdão 944/2016 - PL</td>\n",
       "      <td>Acompanhamento</td>\n",
       "    </tr>\n",
       "    <tr>\n",
       "      <th>3</th>\n",
       "      <td>284</td>\n",
       "      <td>40</td>\n",
       "      <td>45</td>\n",
       "      <td>Direito Processual</td>\n",
       "      <td>162</td>\n",
       "      <td>Princípio da independência das instâncias</td>\n",
       "      <td>481</td>\n",
       "      <td>Decisão judicial</td>\n",
       "      <td>54773746</td>\n",
       "      <td>O princípio da independência das instâncias pe...</td>\n",
       "      <td>Acórdão 30/2016 - PL</td>\n",
       "      <td>Tomada de Contas Especial</td>\n",
       "    </tr>\n",
       "    <tr>\n",
       "      <th>4</th>\n",
       "      <td>298</td>\n",
       "      <td>54</td>\n",
       "      <td>49</td>\n",
       "      <td>Pessoal</td>\n",
       "      <td>141</td>\n",
       "      <td>Sistema S</td>\n",
       "      <td>142</td>\n",
       "      <td>Nepotismo</td>\n",
       "      <td>54773402</td>\n",
       "      <td>É vedado aos dirigentes das entidades do Siste...</td>\n",
       "      <td>Acórdão 55/2016 - PL</td>\n",
       "      <td>Representação</td>\n",
       "    </tr>\n",
       "  </tbody>\n",
       "</table>\n",
       "</div>"
      ],
      "text/plain": [
       "    COD  NUM_ENUNCIADO  COD_AREA          DESCR_AREA  COD_TEMA  \\\n",
       "0  1400           1236        50    Responsabilidade       488   \n",
       "1  1700           1534        46   Finanças Públicas       981   \n",
       "2  5700           5314        50    Responsabilidade       203   \n",
       "3   284             40        45  Direito Processual       162   \n",
       "4   298             54        49             Pessoal       141   \n",
       "\n",
       "                                  DESCR_TEMA  COD_SUBTEMA  \\\n",
       "0                              Solidariedade          261   \n",
       "1                                 Exportação          983   \n",
       "2                                      Multa         1021   \n",
       "3  Princípio da independência das instâncias          481   \n",
       "4                                  Sistema S          142   \n",
       "\n",
       "              DESCR_SUBTEMA  COD_DOC_TRAMITAVEL_ENUNCIADO  \\\n",
       "0  Benefício previdenciário                      54995437   \n",
       "1                  Petróleo                      55025587   \n",
       "2                Dosimetria                      55455370   \n",
       "3          Decisão judicial                      54773746   \n",
       "4                 Nepotismo                      54773402   \n",
       "\n",
       "                                     TEXTO_ENUNCIADO                ACORDAO  \\\n",
       "0  Não comprovada a participação do beneficiário ...  Acórdão 297/2016 - PL   \n",
       "1  A operação ficta de exportação de plataformas ...  Acórdão 366/2016 - PL   \n",
       "2  No âmbito do TCU, a dosimetria da pena tem com...  Acórdão 944/2016 - PL   \n",
       "3  O princípio da independência das instâncias pe...   Acórdão 30/2016 - PL   \n",
       "4  É vedado aos dirigentes das entidades do Siste...   Acórdão 55/2016 - PL   \n",
       "\n",
       "                        TIPO_PROCESSO  \n",
       "0           Tomada de Contas Especial  \n",
       "1   Solicitação do Congresso Nacional  \n",
       "2                      Acompanhamento  \n",
       "3           Tomada de Contas Especial  \n",
       "4                       Representação  "
      ]
     },
     "execution_count": 1,
     "metadata": {},
     "output_type": "execute_result"
    }
   ],
   "source": [
    "import pandas as pd\n",
    "\n",
    "df = pd.read_csv('jurisprudencia_selecionada_enunciados.txt', sep = '|')\n",
    "df.head()"
   ]
  },
  {
   "cell_type": "code",
   "execution_count": 2,
   "metadata": {},
   "outputs": [
    {
     "data": {
      "text/plain": [
       "(13312, 12)"
      ]
     },
     "execution_count": 2,
     "metadata": {},
     "output_type": "execute_result"
    }
   ],
   "source": [
    "df.shape"
   ]
  },
  {
   "cell_type": "code",
   "execution_count": 3,
   "metadata": {},
   "outputs": [
    {
     "data": {
      "text/plain": [
       "DESCR_AREA\n",
       "Competência do TCU          557\n",
       "Contrato Administrativo     942\n",
       "Convênio                    685\n",
       "Desestatização              140\n",
       "Direito Processual         1813\n",
       "Finanças Públicas           328\n",
       "Gestão Administrativa       339\n",
       "Licitação                  2765\n",
       "Pessoal                    3396\n",
       "Responsabilidade           2347\n",
       "dtype: int64"
      ]
     },
     "execution_count": 3,
     "metadata": {},
     "output_type": "execute_result"
    }
   ],
   "source": [
    "df.groupby(['DESCR_AREA']).size()"
   ]
  },
  {
   "cell_type": "code",
   "execution_count": 4,
   "metadata": {},
   "outputs": [
    {
     "data": {
      "text/plain": [
       "dict_keys(['Competência do TCU', 'Contrato Administrativo', 'Convênio', 'Desestatização', 'Direito Processual', 'Finanças Públicas', 'Gestão Administrativa', 'Licitação', 'Pessoal', 'Responsabilidade'])"
      ]
     },
     "execution_count": 4,
     "metadata": {},
     "output_type": "execute_result"
    }
   ],
   "source": [
    "areas = df.groupby(['DESCR_AREA']).groups.keys()\n",
    "areas"
   ]
  },
  {
   "cell_type": "code",
   "execution_count": 5,
   "metadata": {},
   "outputs": [
    {
     "data": {
      "text/plain": [
       "array(['Competência do TCU', 'Contrato Administrativo', 'Convênio',\n",
       "       'Desestatização', 'Direito Processual', 'Finanças Públicas',\n",
       "       'Gestão Administrativa', 'Licitação', 'Pessoal',\n",
       "       'Responsabilidade'], dtype='<U23')"
      ]
     },
     "execution_count": 5,
     "metadata": {},
     "output_type": "execute_result"
    }
   ],
   "source": [
    "from sklearn.preprocessing import LabelBinarizer\n",
    "\n",
    "lbArea = LabelBinarizer()\n",
    "lbArea.fit([x for x in areas])\n",
    "lbArea.classes_"
   ]
  },
  {
   "cell_type": "code",
   "execution_count": 6,
   "metadata": {},
   "outputs": [
    {
     "data": {
      "text/plain": [
       "(13312, 10)"
      ]
     },
     "execution_count": 6,
     "metadata": {},
     "output_type": "execute_result"
    }
   ],
   "source": [
    "y = lbArea.transform(df['DESCR_AREA'])\n",
    "y.shape"
   ]
  },
  {
   "cell_type": "code",
   "execution_count": 9,
   "metadata": {},
   "outputs": [
    {
     "name": "stdout",
     "output_type": "stream",
     "text": [
      "Found 15387 unique tokens.\n"
     ]
    }
   ],
   "source": [
    "from keras.preprocessing.text import Tokenizer\n",
    "import numpy as np\n",
    "\n",
    "limite_texto = 200\n",
    "dim_vetor = 100\n",
    "\n",
    "tokenizer = Tokenizer()\n",
    "tokenizer.fit_on_texts(df['TEXTO_ENUNCIADO'])\n",
    "\n",
    "word_index = tokenizer.word_index\n",
    "vocabulario = len(word_index) + 1\n",
    "print('Found %s unique tokens.' % len(word_index))\n",
    "\n",
    "sequences = tokenizer.texts_to_sequences(df['TEXTO_ENUNCIADO'])"
   ]
  },
  {
   "cell_type": "code",
   "execution_count": 10,
   "metadata": {},
   "outputs": [
    {
     "name": "stdout",
     "output_type": "stream",
     "text": [
      "Shape of data tensor: (13312, 200)\n"
     ]
    }
   ],
   "source": [
    "from keras.preprocessing.sequence import pad_sequences\n",
    "\n",
    "x = pad_sequences(sequences, maxlen=limite_texto)\n",
    "\n",
    "print('Shape of data tensor:', x.shape)"
   ]
  },
  {
   "cell_type": "code",
   "execution_count": 33,
   "metadata": {},
   "outputs": [
    {
     "name": "stderr",
     "output_type": "stream",
     "text": [
      "/home/leonardo/anaconda3/envs/gpu/lib/python3.7/site-packages/smart_open/smart_open_lib.py:398: UserWarning: This function is deprecated, use smart_open.open instead. See the migration notes for details: https://github.com/RaRe-Technologies/smart_open/blob/master/README.rst#migrating-to-the-new-open-function\n",
      "  'See the migration notes for details: %s' % _MIGRATION_NOTES_URL\n"
     ]
    }
   ],
   "source": [
    "from gensim.models import KeyedVectors\n",
    "\n",
    "model = KeyedVectors.load_word2vec_format('model.txt')"
   ]
  },
  {
   "cell_type": "code",
   "execution_count": 35,
   "metadata": {},
   "outputs": [
    {
     "name": "stdout",
     "output_type": "stream",
     "text": [
      "Vocabulario: 15387\n",
      "Encontrados no modelo: 13758 = 89.41314096315071\n"
     ]
    }
   ],
   "source": [
    "# create a weight matrix for words in training docs\n",
    "\n",
    "embedding_matrix = np.zeros((vocabulario, 100))\n",
    "\n",
    "ok = 0\n",
    "for word, i in tokenizer.word_index.items():\n",
    "    if word in model:\n",
    "        embedding_matrix[i] = model[word]\n",
    "        ok += 1\n",
    "print('Vocabulario:', i)\n",
    "print('Encontrados no modelo:', ok, '=', ok * 100. / i)"
   ]
  },
  {
   "cell_type": "markdown",
   "metadata": {},
   "source": [
    "# Treinamento"
   ]
  },
  {
   "cell_type": "code",
   "execution_count": 36,
   "metadata": {},
   "outputs": [],
   "source": [
    "from keras.layers import Embedding\n",
    "\n",
    "embedding = Embedding(vocabulario, dim_vetor, weights=[embedding_matrix], input_length=limite_texto, trainable=False)"
   ]
  },
  {
   "cell_type": "code",
   "execution_count": 37,
   "metadata": {},
   "outputs": [
    {
     "name": "stdout",
     "output_type": "stream",
     "text": [
      "_________________________________________________________________\n",
      "Layer (type)                 Output Shape              Param #   \n",
      "=================================================================\n",
      "embedding_4 (Embedding)      (None, 200, 100)          1538800   \n",
      "_________________________________________________________________\n",
      "flatten_4 (Flatten)          (None, 20000)             0         \n",
      "_________________________________________________________________\n",
      "dense_10 (Dense)             (None, 2048)              40962048  \n",
      "_________________________________________________________________\n",
      "dropout_7 (Dropout)          (None, 2048)              0         \n",
      "_________________________________________________________________\n",
      "dense_11 (Dense)             (None, 1024)              2098176   \n",
      "_________________________________________________________________\n",
      "dropout_8 (Dropout)          (None, 1024)              0         \n",
      "_________________________________________________________________\n",
      "dense_12 (Dense)             (None, 10)                10250     \n",
      "=================================================================\n",
      "Total params: 44,609,274\n",
      "Trainable params: 43,070,474\n",
      "Non-trainable params: 1,538,800\n",
      "_________________________________________________________________\n"
     ]
    }
   ],
   "source": [
    "from keras.models import Sequential\n",
    "from keras.layers import Flatten, Dense, Embedding\n",
    "from keras.layers.core import Dropout\n",
    "\n",
    "model = Sequential()\n",
    "model.add(embedding)\n",
    "model.add(Flatten())\n",
    "model.add(Dense(2048, activation='relu'))\n",
    "model.add(Dropout(0.6))\n",
    "model.add(Dense(1024, activation='relu'))\n",
    "model.add(Dropout(0.6))\n",
    "model.add(Dense(y.shape[1], activation='softmax'))\n",
    "model.compile(loss='categorical_crossentropy', optimizer='adadelta',  metrics=[\"categorical_accuracy\"])\n",
    "model.summary()"
   ]
  },
  {
   "cell_type": "code",
   "execution_count": 38,
   "metadata": {},
   "outputs": [
    {
     "name": "stdout",
     "output_type": "stream",
     "text": [
      "Train on 10649 samples, validate on 2663 samples\n",
      "Epoch 1/50\n",
      "10649/10649 [==============================] - 18s 2ms/step - loss: 1.8993 - categorical_accuracy: 0.3763 - val_loss: 1.7048 - val_categorical_accuracy: 0.3522\n",
      "Epoch 2/50\n",
      "10649/10649 [==============================] - 17s 2ms/step - loss: 1.3523 - categorical_accuracy: 0.5499 - val_loss: 1.2747 - val_categorical_accuracy: 0.5854\n",
      "Epoch 3/50\n",
      "10649/10649 [==============================] - 17s 2ms/step - loss: 1.0981 - categorical_accuracy: 0.6315 - val_loss: 1.5028 - val_categorical_accuracy: 0.5216\n",
      "Epoch 4/50\n",
      "10649/10649 [==============================] - 17s 2ms/step - loss: 0.8864 - categorical_accuracy: 0.7065 - val_loss: 1.3539 - val_categorical_accuracy: 0.5734\n",
      "Epoch 5/50\n",
      "10649/10649 [==============================] - 17s 2ms/step - loss: 0.7200 - categorical_accuracy: 0.7626 - val_loss: 1.4315 - val_categorical_accuracy: 0.5674\n",
      "Epoch 6/50\n",
      "10649/10649 [==============================] - 17s 2ms/step - loss: 0.6026 - categorical_accuracy: 0.7987 - val_loss: 1.4576 - val_categorical_accuracy: 0.5843\n",
      "Epoch 7/50\n",
      "10649/10649 [==============================] - 17s 2ms/step - loss: 0.4861 - categorical_accuracy: 0.8400 - val_loss: 1.6106 - val_categorical_accuracy: 0.5550\n",
      "Epoch 8/50\n",
      "10649/10649 [==============================] - 17s 2ms/step - loss: 0.3914 - categorical_accuracy: 0.8722 - val_loss: 1.7500 - val_categorical_accuracy: 0.5839\n",
      "Epoch 9/50\n",
      "10649/10649 [==============================] - 17s 2ms/step - loss: 0.3357 - categorical_accuracy: 0.8901 - val_loss: 1.6789 - val_categorical_accuracy: 0.5899\n",
      "Epoch 10/50\n",
      "10649/10649 [==============================] - 17s 2ms/step - loss: 0.2826 - categorical_accuracy: 0.9069 - val_loss: 1.7614 - val_categorical_accuracy: 0.5952\n",
      "Epoch 11/50\n",
      "10649/10649 [==============================] - 17s 2ms/step - loss: 0.2494 - categorical_accuracy: 0.9207 - val_loss: 1.8234 - val_categorical_accuracy: 0.6091\n",
      "Epoch 12/50\n",
      "10649/10649 [==============================] - 17s 2ms/step - loss: 0.2350 - categorical_accuracy: 0.9263 - val_loss: 2.0589 - val_categorical_accuracy: 0.5832\n",
      "Epoch 13/50\n",
      "10649/10649 [==============================] - 16s 2ms/step - loss: 0.2049 - categorical_accuracy: 0.9367 - val_loss: 2.3742 - val_categorical_accuracy: 0.5742\n",
      "Epoch 14/50\n",
      "10649/10649 [==============================] - 16s 2ms/step - loss: 0.1861 - categorical_accuracy: 0.9422 - val_loss: 2.2917 - val_categorical_accuracy: 0.5892\n",
      "Epoch 15/50\n",
      "10649/10649 [==============================] - 17s 2ms/step - loss: 0.1798 - categorical_accuracy: 0.9448 - val_loss: 2.1765 - val_categorical_accuracy: 0.5899\n",
      "Epoch 16/50\n",
      "10649/10649 [==============================] - 16s 2ms/step - loss: 0.1457 - categorical_accuracy: 0.9533 - val_loss: 2.2670 - val_categorical_accuracy: 0.6053\n",
      "Epoch 17/50\n",
      "10649/10649 [==============================] - 16s 2ms/step - loss: 0.1568 - categorical_accuracy: 0.9524 - val_loss: 2.6211 - val_categorical_accuracy: 0.5689\n",
      "Epoch 18/50\n",
      "10649/10649 [==============================] - 16s 2ms/step - loss: 0.1401 - categorical_accuracy: 0.9582 - val_loss: 2.4967 - val_categorical_accuracy: 0.5937\n",
      "Epoch 19/50\n",
      "10649/10649 [==============================] - 16s 2ms/step - loss: 0.1324 - categorical_accuracy: 0.9608 - val_loss: 2.4940 - val_categorical_accuracy: 0.5937\n",
      "Epoch 20/50\n",
      "10649/10649 [==============================] - 17s 2ms/step - loss: 0.1217 - categorical_accuracy: 0.9616 - val_loss: 2.5151 - val_categorical_accuracy: 0.5933\n",
      "Epoch 21/50\n",
      "10649/10649 [==============================] - 17s 2ms/step - loss: 0.1205 - categorical_accuracy: 0.9661 - val_loss: 2.6565 - val_categorical_accuracy: 0.6031\n",
      "Epoch 22/50\n",
      "10649/10649 [==============================] - 17s 2ms/step - loss: 0.1198 - categorical_accuracy: 0.9618 - val_loss: 2.4053 - val_categorical_accuracy: 0.6012\n",
      "Epoch 23/50\n",
      "10649/10649 [==============================] - 17s 2ms/step - loss: 0.1000 - categorical_accuracy: 0.9700 - val_loss: 2.7949 - val_categorical_accuracy: 0.5742\n",
      "Epoch 24/50\n",
      "10649/10649 [==============================] - 17s 2ms/step - loss: 0.0966 - categorical_accuracy: 0.9703 - val_loss: 3.1844 - val_categorical_accuracy: 0.5775\n",
      "Epoch 25/50\n",
      "10649/10649 [==============================] - 17s 2ms/step - loss: 0.1035 - categorical_accuracy: 0.9701 - val_loss: 2.5753 - val_categorical_accuracy: 0.6065\n",
      "Epoch 26/50\n",
      "10649/10649 [==============================] - 17s 2ms/step - loss: 0.0962 - categorical_accuracy: 0.9715 - val_loss: 2.8447 - val_categorical_accuracy: 0.5937\n",
      "Epoch 27/50\n",
      "10649/10649 [==============================] - 17s 2ms/step - loss: 0.0966 - categorical_accuracy: 0.9725 - val_loss: 3.0586 - val_categorical_accuracy: 0.5914\n",
      "Epoch 28/50\n",
      "10649/10649 [==============================] - 17s 2ms/step - loss: 0.1003 - categorical_accuracy: 0.9726 - val_loss: 2.9539 - val_categorical_accuracy: 0.6080\n",
      "Epoch 29/50\n",
      "10649/10649 [==============================] - 17s 2ms/step - loss: 0.0873 - categorical_accuracy: 0.9753 - val_loss: 2.9171 - val_categorical_accuracy: 0.6072\n",
      "Epoch 30/50\n",
      "10649/10649 [==============================] - 17s 2ms/step - loss: 0.0849 - categorical_accuracy: 0.9765 - val_loss: 3.4500 - val_categorical_accuracy: 0.5821\n",
      "Epoch 31/50\n",
      "10649/10649 [==============================] - 17s 2ms/step - loss: 0.0817 - categorical_accuracy: 0.9765 - val_loss: 3.2913 - val_categorical_accuracy: 0.5866\n",
      "Epoch 32/50\n",
      "10649/10649 [==============================] - 17s 2ms/step - loss: 0.0910 - categorical_accuracy: 0.9752 - val_loss: 3.0303 - val_categorical_accuracy: 0.5787\n",
      "Epoch 33/50\n",
      "10649/10649 [==============================] - 17s 2ms/step - loss: 0.0793 - categorical_accuracy: 0.9785 - val_loss: 3.1387 - val_categorical_accuracy: 0.5993\n",
      "Epoch 34/50\n",
      "10649/10649 [==============================] - 17s 2ms/step - loss: 0.0742 - categorical_accuracy: 0.9794 - val_loss: 2.9739 - val_categorical_accuracy: 0.6061\n",
      "Epoch 35/50\n",
      "10649/10649 [==============================] - 17s 2ms/step - loss: 0.0775 - categorical_accuracy: 0.9801 - val_loss: 3.0462 - val_categorical_accuracy: 0.5896\n",
      "Epoch 36/50\n",
      "10649/10649 [==============================] - 17s 2ms/step - loss: 0.0786 - categorical_accuracy: 0.9789 - val_loss: 3.0065 - val_categorical_accuracy: 0.5989\n",
      "Epoch 37/50\n",
      "10649/10649 [==============================] - 17s 2ms/step - loss: 0.0707 - categorical_accuracy: 0.9807 - val_loss: 3.0751 - val_categorical_accuracy: 0.6050\n",
      "Epoch 38/50\n",
      "10649/10649 [==============================] - 17s 2ms/step - loss: 0.0667 - categorical_accuracy: 0.9825 - val_loss: 3.4481 - val_categorical_accuracy: 0.5742\n",
      "Epoch 39/50\n",
      "10649/10649 [==============================] - 17s 2ms/step - loss: 0.0678 - categorical_accuracy: 0.9807 - val_loss: 3.1816 - val_categorical_accuracy: 0.5989\n",
      "Epoch 40/50\n",
      "10649/10649 [==============================] - 16s 2ms/step - loss: 0.0545 - categorical_accuracy: 0.9834 - val_loss: 3.4737 - val_categorical_accuracy: 0.5978\n",
      "Epoch 41/50\n",
      "10649/10649 [==============================] - 16s 2ms/step - loss: 0.0638 - categorical_accuracy: 0.9823 - val_loss: 3.5127 - val_categorical_accuracy: 0.5903\n",
      "Epoch 42/50\n",
      "10649/10649 [==============================] - 17s 2ms/step - loss: 0.0637 - categorical_accuracy: 0.9819 - val_loss: 3.2043 - val_categorical_accuracy: 0.6222\n",
      "Epoch 43/50\n",
      "10649/10649 [==============================] - 16s 2ms/step - loss: 0.0654 - categorical_accuracy: 0.9832 - val_loss: 3.3530 - val_categorical_accuracy: 0.6046\n",
      "Epoch 44/50\n",
      "10649/10649 [==============================] - 16s 2ms/step - loss: 0.0658 - categorical_accuracy: 0.9854 - val_loss: 3.2688 - val_categorical_accuracy: 0.6057\n",
      "Epoch 45/50\n",
      "10649/10649 [==============================] - 16s 2ms/step - loss: 0.0653 - categorical_accuracy: 0.9837 - val_loss: 3.4475 - val_categorical_accuracy: 0.5937\n",
      "Epoch 46/50\n",
      "10649/10649 [==============================] - 16s 2ms/step - loss: 0.0520 - categorical_accuracy: 0.9854 - val_loss: 3.4716 - val_categorical_accuracy: 0.5881\n",
      "Epoch 47/50\n",
      "10649/10649 [==============================] - 16s 2ms/step - loss: 0.0486 - categorical_accuracy: 0.9864 - val_loss: 3.4379 - val_categorical_accuracy: 0.6102\n",
      "Epoch 48/50\n"
     ]
    },
    {
     "name": "stdout",
     "output_type": "stream",
     "text": [
      "10649/10649 [==============================] - 16s 2ms/step - loss: 0.0429 - categorical_accuracy: 0.9879 - val_loss: 3.1950 - val_categorical_accuracy: 0.6128\n",
      "Epoch 49/50\n",
      "10649/10649 [==============================] - 16s 2ms/step - loss: 0.0477 - categorical_accuracy: 0.9860 - val_loss: 3.5014 - val_categorical_accuracy: 0.6046\n",
      "Epoch 50/50\n",
      "10649/10649 [==============================] - 16s 2ms/step - loss: 0.0634 - categorical_accuracy: 0.9835 - val_loss: 3.6145 - val_categorical_accuracy: 0.6012\n"
     ]
    }
   ],
   "source": [
    "history = model.fit(x, y, epochs=50, batch_size=32, validation_split=0.2, verbose=1, shuffle=True)"
   ]
  },
  {
   "cell_type": "code",
   "execution_count": 40,
   "metadata": {},
   "outputs": [
    {
     "name": "stdout",
     "output_type": "stream",
     "text": [
      "Train on 10649 samples, validate on 2663 samples\n",
      "Epoch 1/20\n",
      "10649/10649 [==============================] - 18s 2ms/step - loss: 1.7227 - categorical_accuracy: 0.4257 - val_loss: 1.8049 - val_categorical_accuracy: 0.3718\n",
      "Epoch 2/20\n",
      "10649/10649 [==============================] - 16s 2ms/step - loss: 1.0776 - categorical_accuracy: 0.6377 - val_loss: 1.6382 - val_categorical_accuracy: 0.5017\n",
      "Epoch 3/20\n",
      "10649/10649 [==============================] - 16s 2ms/step - loss: 0.7322 - categorical_accuracy: 0.7580 - val_loss: 1.3846 - val_categorical_accuracy: 0.5667\n",
      "Epoch 4/20\n",
      "10649/10649 [==============================] - 16s 2ms/step - loss: 0.4503 - categorical_accuracy: 0.8495 - val_loss: 1.5817 - val_categorical_accuracy: 0.5633\n",
      "Epoch 5/20\n",
      "10649/10649 [==============================] - 16s 2ms/step - loss: 0.2684 - categorical_accuracy: 0.9105 - val_loss: 1.6906 - val_categorical_accuracy: 0.6226\n",
      "Epoch 6/20\n",
      "10649/10649 [==============================] - 16s 2ms/step - loss: 0.1774 - categorical_accuracy: 0.9400 - val_loss: 1.9245 - val_categorical_accuracy: 0.5869\n",
      "Epoch 7/20\n",
      "10649/10649 [==============================] - 16s 2ms/step - loss: 0.1348 - categorical_accuracy: 0.9555 - val_loss: 2.5374 - val_categorical_accuracy: 0.5674\n",
      "Epoch 8/20\n",
      "10649/10649 [==============================] - 16s 2ms/step - loss: 0.0974 - categorical_accuracy: 0.9668 - val_loss: 2.3448 - val_categorical_accuracy: 0.5843\n",
      "Epoch 9/20\n",
      "10649/10649 [==============================] - 16s 2ms/step - loss: 0.0807 - categorical_accuracy: 0.9756 - val_loss: 2.5377 - val_categorical_accuracy: 0.5715\n",
      "Epoch 10/20\n",
      "10649/10649 [==============================] - 16s 2ms/step - loss: 0.0749 - categorical_accuracy: 0.9756 - val_loss: 2.6596 - val_categorical_accuracy: 0.5730\n",
      "Epoch 11/20\n",
      "10649/10649 [==============================] - 16s 2ms/step - loss: 0.0609 - categorical_accuracy: 0.9801 - val_loss: 3.0650 - val_categorical_accuracy: 0.5610\n",
      "Epoch 12/20\n",
      "10649/10649 [==============================] - 16s 2ms/step - loss: 0.0550 - categorical_accuracy: 0.9826 - val_loss: 3.0035 - val_categorical_accuracy: 0.5929\n",
      "Epoch 13/20\n",
      "10649/10649 [==============================] - 16s 2ms/step - loss: 0.0518 - categorical_accuracy: 0.9838 - val_loss: 2.8436 - val_categorical_accuracy: 0.6061\n",
      "Epoch 14/20\n",
      "10649/10649 [==============================] - 16s 2ms/step - loss: 0.0562 - categorical_accuracy: 0.9831 - val_loss: 2.7932 - val_categorical_accuracy: 0.5982\n",
      "Epoch 15/20\n",
      "10649/10649 [==============================] - 16s 2ms/step - loss: 0.0548 - categorical_accuracy: 0.9851 - val_loss: 2.8587 - val_categorical_accuracy: 0.6087\n",
      "Epoch 16/20\n",
      "10649/10649 [==============================] - 16s 2ms/step - loss: 0.0406 - categorical_accuracy: 0.9867 - val_loss: 2.7923 - val_categorical_accuracy: 0.6132\n",
      "Epoch 17/20\n",
      "10649/10649 [==============================] - 16s 2ms/step - loss: 0.0481 - categorical_accuracy: 0.9858 - val_loss: 3.0530 - val_categorical_accuracy: 0.5727\n",
      "Epoch 18/20\n",
      "10649/10649 [==============================] - 16s 2ms/step - loss: 0.0364 - categorical_accuracy: 0.9897 - val_loss: 3.2226 - val_categorical_accuracy: 0.5948\n",
      "Epoch 19/20\n",
      "10649/10649 [==============================] - 16s 2ms/step - loss: 0.0432 - categorical_accuracy: 0.9864 - val_loss: 2.8478 - val_categorical_accuracy: 0.6147\n",
      "Epoch 20/20\n",
      "10649/10649 [==============================] - 16s 2ms/step - loss: 0.0336 - categorical_accuracy: 0.9895 - val_loss: 2.9988 - val_categorical_accuracy: 0.5956\n"
     ]
    }
   ],
   "source": [
    "model = Sequential()\n",
    "model.add(Embedding(vocabulario, dim_vetor, weights=[embedding_matrix], input_length=limite_texto, trainable=False))\n",
    "model.add(Flatten())\n",
    "model.add(Dense(2048, activation='relu'))\n",
    "model.add(Dropout(0.4))\n",
    "model.add(Dense(1024, activation='relu'))\n",
    "model.add(Dropout(0.4))\n",
    "model.add(Dense(y.shape[1], activation='softmax'))\n",
    "model.compile(loss='categorical_crossentropy', optimizer='adadelta',  metrics=[\"categorical_accuracy\"])\n",
    "\n",
    "history = model.fit(x, y, epochs=20, batch_size=32, validation_split=0.2, verbose=1, shuffle=True)"
   ]
  },
  {
   "cell_type": "code",
   "execution_count": 41,
   "metadata": {},
   "outputs": [
    {
     "name": "stdout",
     "output_type": "stream",
     "text": [
      "Train on 10649 samples, validate on 2663 samples\n",
      "Epoch 1/20\n",
      "10649/10649 [==============================] - 17s 2ms/step - loss: 1.7546 - categorical_accuracy: 0.4069 - val_loss: 1.4525 - val_categorical_accuracy: 0.5257\n",
      "Epoch 2/20\n",
      "10649/10649 [==============================] - 16s 1ms/step - loss: 1.1966 - categorical_accuracy: 0.5977 - val_loss: 1.6804 - val_categorical_accuracy: 0.4412\n",
      "Epoch 3/20\n",
      "10649/10649 [==============================] - 16s 2ms/step - loss: 0.8706 - categorical_accuracy: 0.7029 - val_loss: 1.3191 - val_categorical_accuracy: 0.5719\n",
      "Epoch 4/20\n",
      "10649/10649 [==============================] - 16s 2ms/step - loss: 0.6072 - categorical_accuracy: 0.7910 - val_loss: 1.4491 - val_categorical_accuracy: 0.5599\n",
      "Epoch 5/20\n",
      "10649/10649 [==============================] - 16s 1ms/step - loss: 0.3982 - categorical_accuracy: 0.8611 - val_loss: 1.6902 - val_categorical_accuracy: 0.5513\n",
      "Epoch 6/20\n",
      "10649/10649 [==============================] - 16s 1ms/step - loss: 0.2412 - categorical_accuracy: 0.9171 - val_loss: 1.7670 - val_categorical_accuracy: 0.5738\n",
      "Epoch 7/20\n",
      "10649/10649 [==============================] - 16s 1ms/step - loss: 0.1572 - categorical_accuracy: 0.9485 - val_loss: 2.2536 - val_categorical_accuracy: 0.5700\n",
      "Epoch 8/20\n",
      "10649/10649 [==============================] - 16s 2ms/step - loss: 0.1194 - categorical_accuracy: 0.9609 - val_loss: 2.6039 - val_categorical_accuracy: 0.5483\n",
      "Epoch 9/20\n",
      "10649/10649 [==============================] - 16s 1ms/step - loss: 0.0931 - categorical_accuracy: 0.9695 - val_loss: 2.4260 - val_categorical_accuracy: 0.5869\n",
      "Epoch 10/20\n",
      "10649/10649 [==============================] - 16s 1ms/step - loss: 0.0673 - categorical_accuracy: 0.9781 - val_loss: 2.4247 - val_categorical_accuracy: 0.6252\n",
      "Epoch 11/20\n",
      "10649/10649 [==============================] - 16s 1ms/step - loss: 0.0568 - categorical_accuracy: 0.9824 - val_loss: 2.6357 - val_categorical_accuracy: 0.5978\n",
      "Epoch 12/20\n",
      "10649/10649 [==============================] - 16s 1ms/step - loss: 0.0483 - categorical_accuracy: 0.9854 - val_loss: 2.7319 - val_categorical_accuracy: 0.6042\n",
      "Epoch 13/20\n",
      "10649/10649 [==============================] - 16s 1ms/step - loss: 0.0517 - categorical_accuracy: 0.9828 - val_loss: 2.5998 - val_categorical_accuracy: 0.6113\n",
      "Epoch 14/20\n",
      "10649/10649 [==============================] - 16s 1ms/step - loss: 0.0413 - categorical_accuracy: 0.9867 - val_loss: 2.9558 - val_categorical_accuracy: 0.5817\n",
      "Epoch 15/20\n",
      "10649/10649 [==============================] - 16s 1ms/step - loss: 0.0448 - categorical_accuracy: 0.9874 - val_loss: 2.8579 - val_categorical_accuracy: 0.6087\n",
      "Epoch 16/20\n",
      "10649/10649 [==============================] - 16s 1ms/step - loss: 0.0424 - categorical_accuracy: 0.9869 - val_loss: 3.0127 - val_categorical_accuracy: 0.5933\n",
      "Epoch 17/20\n",
      "10649/10649 [==============================] - 16s 1ms/step - loss: 0.0279 - categorical_accuracy: 0.9912 - val_loss: 3.0873 - val_categorical_accuracy: 0.5896\n",
      "Epoch 18/20\n",
      "10649/10649 [==============================] - 16s 1ms/step - loss: 0.0278 - categorical_accuracy: 0.9913 - val_loss: 2.8937 - val_categorical_accuracy: 0.6177\n",
      "Epoch 19/20\n",
      "10649/10649 [==============================] - 16s 1ms/step - loss: 0.0293 - categorical_accuracy: 0.9915 - val_loss: 3.2697 - val_categorical_accuracy: 0.5944\n",
      "Epoch 20/20\n",
      "10649/10649 [==============================] - 16s 1ms/step - loss: 0.0311 - categorical_accuracy: 0.9908 - val_loss: 3.3411 - val_categorical_accuracy: 0.5839\n"
     ]
    }
   ],
   "source": [
    "model = Sequential()\n",
    "model.add(Embedding(vocabulario, dim_vetor, weights=[embedding_matrix], input_length=limite_texto, trainable=False))\n",
    "model.add(Flatten())\n",
    "model.add(Dense(2048, activation='relu'))\n",
    "model.add(Dropout(0.4))\n",
    "model.add(Dense(256, activation='relu'))\n",
    "model.add(Dropout(0.4))\n",
    "model.add(Dense(y.shape[1], activation='softmax'))\n",
    "model.compile(loss='categorical_crossentropy', optimizer='adadelta',  metrics=[\"categorical_accuracy\"])\n",
    "\n",
    "history = model.fit(x, y, epochs=20, batch_size=32, validation_split=0.2, verbose=1, shuffle=True)"
   ]
  },
  {
   "cell_type": "code",
   "execution_count": null,
   "metadata": {},
   "outputs": [],
   "source": []
  }
 ],
 "metadata": {
  "kernelspec": {
   "display_name": "Python 3",
   "language": "python",
   "name": "python3"
  },
  "language_info": {
   "codemirror_mode": {
    "name": "ipython",
    "version": 3
   },
   "file_extension": ".py",
   "mimetype": "text/x-python",
   "name": "python",
   "nbconvert_exporter": "python",
   "pygments_lexer": "ipython3",
   "version": "3.7.3"
  }
 },
 "nbformat": 4,
 "nbformat_minor": 2
}
