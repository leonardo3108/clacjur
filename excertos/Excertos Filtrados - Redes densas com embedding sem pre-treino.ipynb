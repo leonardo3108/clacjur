{
 "cells": [
  {
   "cell_type": "markdown",
   "metadata": {},
   "source": [
    "# Importação e preparação dos dados"
   ]
  },
  {
   "cell_type": "code",
   "execution_count": 2,
   "metadata": {},
   "outputs": [
    {
     "data": {
      "text/html": [
       "<div>\n",
       "<style scoped>\n",
       "    .dataframe tbody tr th:only-of-type {\n",
       "        vertical-align: middle;\n",
       "    }\n",
       "\n",
       "    .dataframe tbody tr th {\n",
       "        vertical-align: top;\n",
       "    }\n",
       "\n",
       "    .dataframe thead th {\n",
       "        text-align: right;\n",
       "    }\n",
       "</style>\n",
       "<table border=\"1\" class=\"dataframe\">\n",
       "  <thead>\n",
       "    <tr style=\"text-align: right;\">\n",
       "      <th></th>\n",
       "      <th>COD</th>\n",
       "      <th>DESCR_AREA</th>\n",
       "      <th>filtrado</th>\n",
       "    </tr>\n",
       "  </thead>\n",
       "  <tbody>\n",
       "    <tr>\n",
       "      <th>0</th>\n",
       "      <td>1400</td>\n",
       "      <td>Responsabilidade</td>\n",
       "      <td>voto : cuidar o auto de tomada de conta especi...</td>\n",
       "    </tr>\n",
       "    <tr>\n",
       "      <th>1</th>\n",
       "      <td>1700</td>\n",
       "      <td>Finanças Públicas</td>\n",
       "      <td>voto : cuidar o auto de solicitação de o congr...</td>\n",
       "    </tr>\n",
       "    <tr>\n",
       "      <th>2</th>\n",
       "      <td>5700</td>\n",
       "      <td>Responsabilidade</td>\n",
       "      <td>relatório : tratar se de embargo de declaração...</td>\n",
       "    </tr>\n",
       "    <tr>\n",
       "      <th>3</th>\n",
       "      <td>284</td>\n",
       "      <td>Direito Processual</td>\n",
       "      <td>voto : em relação a outro processo judiciais q...</td>\n",
       "    </tr>\n",
       "    <tr>\n",
       "      <th>4</th>\n",
       "      <td>298</td>\n",
       "      <td>Pessoal</td>\n",
       "      <td>: a o ato o senhor , rememorar , desde logo , ...</td>\n",
       "    </tr>\n",
       "  </tbody>\n",
       "</table>\n",
       "</div>"
      ],
      "text/plain": [
       "    COD          DESCR_AREA                                           filtrado\n",
       "0  1400    Responsabilidade  voto : cuidar o auto de tomada de conta especi...\n",
       "1  1700   Finanças Públicas  voto : cuidar o auto de solicitação de o congr...\n",
       "2  5700    Responsabilidade  relatório : tratar se de embargo de declaração...\n",
       "3   284  Direito Processual  voto : em relação a outro processo judiciais q...\n",
       "4   298             Pessoal  : a o ato o senhor , rememorar , desde logo , ..."
      ]
     },
     "execution_count": 2,
     "metadata": {},
     "output_type": "execute_result"
    }
   ],
   "source": [
    "import pandas as pd\n",
    "\n",
    "df = pd.read_csv('../dados/excertos_filtrados1000.csv', sep = '|')\n",
    "df.head()"
   ]
  },
  {
   "cell_type": "code",
   "execution_count": 3,
   "metadata": {},
   "outputs": [
    {
     "data": {
      "text/plain": [
       "(13285, 3)"
      ]
     },
     "execution_count": 3,
     "metadata": {},
     "output_type": "execute_result"
    }
   ],
   "source": [
    "df.shape"
   ]
  },
  {
   "cell_type": "code",
   "execution_count": 4,
   "metadata": {},
   "outputs": [
    {
     "data": {
      "text/plain": [
       "DESCR_AREA\n",
       "Competência do TCU          553\n",
       "Contrato Administrativo     941\n",
       "Convênio                    683\n",
       "Desestatização              139\n",
       "Direito Processual         1811\n",
       "Finanças Públicas           328\n",
       "Gestão Administrativa       338\n",
       "Licitação                  2756\n",
       "Pessoal                    3393\n",
       "Responsabilidade           2343\n",
       "dtype: int64"
      ]
     },
     "execution_count": 4,
     "metadata": {},
     "output_type": "execute_result"
    }
   ],
   "source": [
    "df.groupby(['DESCR_AREA']).size()"
   ]
  },
  {
   "cell_type": "code",
   "execution_count": 5,
   "metadata": {},
   "outputs": [
    {
     "data": {
      "text/plain": [
       "dict_keys(['Competência do TCU', 'Contrato Administrativo', 'Convênio', 'Desestatização', 'Direito Processual', 'Finanças Públicas', 'Gestão Administrativa', 'Licitação', 'Pessoal', 'Responsabilidade'])"
      ]
     },
     "execution_count": 5,
     "metadata": {},
     "output_type": "execute_result"
    }
   ],
   "source": [
    "areas = df.groupby(['DESCR_AREA']).groups.keys()\n",
    "areas"
   ]
  },
  {
   "cell_type": "code",
   "execution_count": 6,
   "metadata": {},
   "outputs": [
    {
     "data": {
      "text/plain": [
       "array(['Competência do TCU', 'Contrato Administrativo', 'Convênio',\n",
       "       'Desestatização', 'Direito Processual', 'Finanças Públicas',\n",
       "       'Gestão Administrativa', 'Licitação', 'Pessoal',\n",
       "       'Responsabilidade'], dtype='<U23')"
      ]
     },
     "execution_count": 6,
     "metadata": {},
     "output_type": "execute_result"
    }
   ],
   "source": [
    "from sklearn.preprocessing import LabelBinarizer\n",
    "\n",
    "lbArea = LabelBinarizer()\n",
    "lbArea.fit([x for x in areas])\n",
    "lbArea.classes_"
   ]
  },
  {
   "cell_type": "code",
   "execution_count": 7,
   "metadata": {},
   "outputs": [
    {
     "data": {
      "text/plain": [
       "(13285, 10)"
      ]
     },
     "execution_count": 7,
     "metadata": {},
     "output_type": "execute_result"
    }
   ],
   "source": [
    "y = lbArea.transform(df['DESCR_AREA'])\n",
    "y.shape"
   ]
  },
  {
   "cell_type": "code",
   "execution_count": 12,
   "metadata": {},
   "outputs": [
    {
     "name": "stdout",
     "output_type": "stream",
     "text": [
      "Found 21578 unique tokens.\n"
     ]
    }
   ],
   "source": [
    "from keras.preprocessing.text import Tokenizer\n",
    "import numpy as np\n",
    "\n",
    "vocabulario = 26825\n",
    "limite_texto = 1000\n",
    "dim_vetor = 50\n",
    "\n",
    "tokenizer = Tokenizer(num_words=vocabulario)\n",
    "tokenizer.fit_on_texts(df['filtrado'].astype(str))\n",
    "\n",
    "sequences = tokenizer.texts_to_sequences(df['filtrado'].astype(str))\n",
    "\n",
    "word_index = tokenizer.word_index\n",
    "print('Found %s unique tokens.' % len(word_index))"
   ]
  },
  {
   "cell_type": "code",
   "execution_count": 16,
   "metadata": {},
   "outputs": [
    {
     "data": {
      "text/plain": [
       "(1,\n",
       " 494.97041776439596,\n",
       " 1426,\n",
       " 241.48463046337437,\n",
       " 13285,\n",
       " 5,\n",
       " 0.0003763643206624012)"
      ]
     },
     "execution_count": 16,
     "metadata": {},
     "output_type": "execute_result"
    }
   ],
   "source": [
    "max = 0\n",
    "lens = []\n",
    "for seq in sequences:\n",
    "    lens.append(len(seq))\n",
    "np.min(lens), np.mean(lens), np.max(lens), np.std(lens), len(lens), sum(pd.Series(lens) > 1000), sum(pd.Series(lens) > 1000)/len(lens)"
   ]
  },
  {
   "cell_type": "code",
   "execution_count": 18,
   "metadata": {
    "scrolled": true
   },
   "outputs": [
    {
     "data": {
      "image/png": "[encoded data removed]",
      "text/plain": [
       "<Figure size 432x288 with 1 Axes>"
      ]
     },
     "metadata": {
      "needs_background": "light"
     },
     "output_type": "display_data"
    }
   ],
   "source": [
    "import matplotlib.pyplot as plt\n",
    "plt.hist(lens)\n",
    "plt.show()"
   ]
  },
  {
   "cell_type": "code",
   "execution_count": 19,
   "metadata": {
    "scrolled": true
   },
   "outputs": [
    {
     "data": {
      "image/png": "[encoded data removed]",
      "text/plain": [
       "<Figure size 432x288 with 1 Axes>"
      ]
     },
     "metadata": {
      "needs_background": "light"
     },
     "output_type": "display_data"
    }
   ],
   "source": [
    "import matplotlib.pyplot as plt\n",
    "plt.hist(np.log10(lens))\n",
    "plt.show()"
   ]
  },
  {
   "cell_type": "code",
   "execution_count": 20,
   "metadata": {},
   "outputs": [
    {
     "data": {
      "text/plain": [
       "(290.0, 461.0, 730.0, 841.0, 863.0)"
      ]
     },
     "execution_count": 20,
     "metadata": {},
     "output_type": "execute_result"
    }
   ],
   "source": [
    "np.percentile(lens, 25), np.percentile(lens, 50), np.percentile(lens, 75), np.percentile(lens, 90), np.percentile(lens, 95)"
   ]
  },
  {
   "cell_type": "code",
   "execution_count": 21,
   "metadata": {},
   "outputs": [
    {
     "data": {
      "text/plain": [
       "(2.6292556213109757,\n",
       " 425.84898976335865,\n",
       " 0.25910621303326903,\n",
       " 3.147468047377514,\n",
       " 1404.3263583859823)"
      ]
     },
     "execution_count": 21,
     "metadata": {},
     "output_type": "execute_result"
    }
   ],
   "source": [
    "np.mean(np.log10(lens)), 10**np.mean(np.log10(lens)), np.std(np.log10(lens)), (np.mean(np.log10(lens)) + 2*np.std(np.log10(lens))), 10**(np.mean(np.log10(lens)) + 2*np.std(np.log10(lens)))"
   ]
  },
  {
   "cell_type": "code",
   "execution_count": 22,
   "metadata": {},
   "outputs": [
    {
     "name": "stdout",
     "output_type": "stream",
     "text": [
      "Shape of data tensor: (13285, 1000)\n"
     ]
    }
   ],
   "source": [
    "from keras.preprocessing.sequence import pad_sequences\n",
    "\n",
    "x = pad_sequences(sequences, maxlen=limite_texto)\n",
    "\n",
    "print('Shape of data tensor:', x.shape)"
   ]
  },
  {
   "cell_type": "code",
   "execution_count": 23,
   "metadata": {},
   "outputs": [
    {
     "data": {
      "text/plain": [
       "((13285, 1000), (13285, 10))"
      ]
     },
     "execution_count": 23,
     "metadata": {},
     "output_type": "execute_result"
    }
   ],
   "source": [
    "x.shape, y.shape"
   ]
  },
  {
   "cell_type": "code",
   "execution_count": 26,
   "metadata": {},
   "outputs": [],
   "source": [
    "vocabulario = 21578"
   ]
  },
  {
   "cell_type": "markdown",
   "metadata": {},
   "source": [
    "# Treinamento"
   ]
  },
  {
   "cell_type": "code",
   "execution_count": 27,
   "metadata": {},
   "outputs": [
    {
     "name": "stderr",
     "output_type": "stream",
     "text": [
      "W1030 00:07:36.654670 140181425510208 nn_ops.py:4224] Large dropout rate: 0.6 (>0.5). In TensorFlow 2.x, dropout() uses dropout rate instead of keep_prob. Please ensure that this is intended.\n",
      "W1030 00:07:36.682239 140181425510208 nn_ops.py:4224] Large dropout rate: 0.6 (>0.5). In TensorFlow 2.x, dropout() uses dropout rate instead of keep_prob. Please ensure that this is intended.\n"
     ]
    },
    {
     "name": "stdout",
     "output_type": "stream",
     "text": [
      "_________________________________________________________________\n",
      "Layer (type)                 Output Shape              Param #   \n",
      "=================================================================\n",
      "embedding_2 (Embedding)      (None, 1000, 50)          1078900   \n",
      "_________________________________________________________________\n",
      "flatten_2 (Flatten)          (None, 50000)             0         \n",
      "_________________________________________________________________\n",
      "dense_4 (Dense)              (None, 512)               25600512  \n",
      "_________________________________________________________________\n",
      "dropout_3 (Dropout)          (None, 512)               0         \n",
      "_________________________________________________________________\n",
      "dense_5 (Dense)              (None, 256)               131328    \n",
      "_________________________________________________________________\n",
      "dropout_4 (Dropout)          (None, 256)               0         \n",
      "_________________________________________________________________\n",
      "dense_6 (Dense)              (None, 10)                2570      \n",
      "=================================================================\n",
      "Total params: 26,813,310\n",
      "Trainable params: 26,813,310\n",
      "Non-trainable params: 0\n",
      "_________________________________________________________________\n"
     ]
    }
   ],
   "source": [
    "from keras.models import Sequential\n",
    "from keras.layers import Flatten, Dense, Embedding\n",
    "from keras.layers.core import Dropout\n",
    "\n",
    "#from keras.optimizers import RMSprop\n",
    "#from keras.layers.core import Dense, Dropout, Activation\n",
    "\n",
    "model = Sequential()\n",
    "model.add(Embedding(vocabulario, dim_vetor, input_length=x.shape[1]))\n",
    "model.add(Flatten())\n",
    "model.add(Dense(512, activation='relu'))\n",
    "model.add(Dropout(0.6))\n",
    "model.add(Dense(256, activation='relu'))\n",
    "model.add(Dropout(0.6))\n",
    "model.add(Dense(y.shape[1], activation='softmax'))\n",
    "model.compile(loss='categorical_crossentropy', optimizer='adadelta',  metrics=[\"categorical_accuracy\"])\n",
    "model.summary()"
   ]
  },
  {
   "cell_type": "code",
   "execution_count": 28,
   "metadata": {},
   "outputs": [
    {
     "name": "stdout",
     "output_type": "stream",
     "text": [
      "Train on 10628 samples, validate on 2657 samples\n",
      "Epoch 1/50\n",
      "10628/10628 [==============================] - 12s 1ms/step - loss: 1.6145 - categorical_accuracy: 0.4346 - val_loss: 1.7037 - val_categorical_accuracy: 0.5243\n",
      "Epoch 2/50\n",
      "10628/10628 [==============================] - 11s 1ms/step - loss: 0.8850 - categorical_accuracy: 0.7008 - val_loss: 1.2386 - val_categorical_accuracy: 0.6150\n",
      "Epoch 3/50\n",
      "10628/10628 [==============================] - 11s 1ms/step - loss: 0.4384 - categorical_accuracy: 0.8627 - val_loss: 1.4726 - val_categorical_accuracy: 0.5559\n",
      "Epoch 4/50\n",
      "10628/10628 [==============================] - 11s 1ms/step - loss: 0.2179 - categorical_accuracy: 0.9393 - val_loss: 1.4691 - val_categorical_accuracy: 0.6364\n",
      "Epoch 5/50\n",
      "10628/10628 [==============================] - 11s 1ms/step - loss: 0.1169 - categorical_accuracy: 0.9721 - val_loss: 1.5888 - val_categorical_accuracy: 0.6266\n",
      "Epoch 6/50\n",
      "10628/10628 [==============================] - 11s 1ms/step - loss: 0.0933 - categorical_accuracy: 0.9823 - val_loss: 1.8333 - val_categorical_accuracy: 0.6278\n",
      "Epoch 7/50\n",
      "10628/10628 [==============================] - 11s 1ms/step - loss: 0.0743 - categorical_accuracy: 0.9859 - val_loss: 1.8538 - val_categorical_accuracy: 0.6202\n",
      "Epoch 8/50\n",
      "10628/10628 [==============================] - 11s 1ms/step - loss: 0.0716 - categorical_accuracy: 0.9874 - val_loss: 2.0295 - val_categorical_accuracy: 0.6014\n",
      "Epoch 9/50\n",
      "10628/10628 [==============================] - 11s 1ms/step - loss: 0.0650 - categorical_accuracy: 0.9903 - val_loss: 1.9563 - val_categorical_accuracy: 0.6346\n",
      "Epoch 10/50\n",
      "10628/10628 [==============================] - 11s 1ms/step - loss: 0.0706 - categorical_accuracy: 0.9906 - val_loss: 2.0729 - val_categorical_accuracy: 0.6323\n",
      "Epoch 11/50\n",
      "10628/10628 [==============================] - 11s 1ms/step - loss: 0.0543 - categorical_accuracy: 0.9910 - val_loss: 1.9521 - val_categorical_accuracy: 0.6312\n",
      "Epoch 12/50\n",
      "10628/10628 [==============================] - 11s 1ms/step - loss: 0.0619 - categorical_accuracy: 0.9906 - val_loss: 2.2809 - val_categorical_accuracy: 0.6278\n",
      "Epoch 13/50\n",
      "10628/10628 [==============================] - 11s 1ms/step - loss: 0.0532 - categorical_accuracy: 0.9919 - val_loss: 2.0127 - val_categorical_accuracy: 0.6406\n",
      "Epoch 14/50\n",
      "10628/10628 [==============================] - 11s 1ms/step - loss: 0.0596 - categorical_accuracy: 0.9915 - val_loss: 2.1918 - val_categorical_accuracy: 0.6240\n",
      "Epoch 15/50\n",
      "10628/10628 [==============================] - 11s 1ms/step - loss: 0.0528 - categorical_accuracy: 0.9935 - val_loss: 2.2933 - val_categorical_accuracy: 0.6327\n",
      "Epoch 16/50\n",
      "10628/10628 [==============================] - 12s 1ms/step - loss: 0.0598 - categorical_accuracy: 0.9925 - val_loss: 2.3273 - val_categorical_accuracy: 0.6176\n",
      "Epoch 17/50\n",
      "10628/10628 [==============================] - 12s 1ms/step - loss: 0.0596 - categorical_accuracy: 0.9936 - val_loss: 2.3430 - val_categorical_accuracy: 0.6135\n",
      "Epoch 18/50\n",
      "10628/10628 [==============================] - 12s 1ms/step - loss: 0.0542 - categorical_accuracy: 0.9933 - val_loss: 2.2725 - val_categorical_accuracy: 0.6315\n",
      "Epoch 19/50\n",
      "10628/10628 [==============================] - 12s 1ms/step - loss: 0.0498 - categorical_accuracy: 0.9942 - val_loss: 2.1000 - val_categorical_accuracy: 0.6368\n",
      "Epoch 20/50\n",
      "10628/10628 [==============================] - 12s 1ms/step - loss: 0.0503 - categorical_accuracy: 0.9931 - val_loss: 2.1328 - val_categorical_accuracy: 0.6364\n",
      "Epoch 21/50\n",
      "10628/10628 [==============================] - 12s 1ms/step - loss: 0.0522 - categorical_accuracy: 0.9944 - val_loss: 2.1504 - val_categorical_accuracy: 0.6402\n",
      "Epoch 22/50\n",
      "10628/10628 [==============================] - 12s 1ms/step - loss: 0.0597 - categorical_accuracy: 0.9933 - val_loss: 2.0141 - val_categorical_accuracy: 0.6417\n",
      "Epoch 23/50\n",
      "10628/10628 [==============================] - 12s 1ms/step - loss: 0.0462 - categorical_accuracy: 0.9943 - val_loss: 2.2279 - val_categorical_accuracy: 0.6342\n",
      "Epoch 24/50\n",
      "10628/10628 [==============================] - 12s 1ms/step - loss: 0.0561 - categorical_accuracy: 0.9934 - val_loss: 2.2356 - val_categorical_accuracy: 0.6443\n",
      "Epoch 25/50\n",
      "10628/10628 [==============================] - 12s 1ms/step - loss: 0.0533 - categorical_accuracy: 0.9942 - val_loss: 2.1673 - val_categorical_accuracy: 0.6500\n",
      "Epoch 26/50\n",
      "10628/10628 [==============================] - 12s 1ms/step - loss: 0.0541 - categorical_accuracy: 0.9931 - val_loss: 2.1326 - val_categorical_accuracy: 0.6462\n",
      "Epoch 27/50\n",
      "10628/10628 [==============================] - 12s 1ms/step - loss: 0.0565 - categorical_accuracy: 0.9936 - val_loss: 2.0914 - val_categorical_accuracy: 0.6515\n",
      "Epoch 28/50\n",
      "10628/10628 [==============================] - 12s 1ms/step - loss: 0.0531 - categorical_accuracy: 0.9939 - val_loss: 2.1705 - val_categorical_accuracy: 0.6568\n",
      "Epoch 29/50\n",
      "10628/10628 [==============================] - 12s 1ms/step - loss: 0.0512 - categorical_accuracy: 0.9936 - val_loss: 2.3085 - val_categorical_accuracy: 0.6297\n",
      "Epoch 30/50\n",
      "10628/10628 [==============================] - 12s 1ms/step - loss: 0.0473 - categorical_accuracy: 0.9930 - val_loss: 2.3851 - val_categorical_accuracy: 0.6571\n",
      "Epoch 31/50\n",
      "10628/10628 [==============================] - 12s 1ms/step - loss: 0.0513 - categorical_accuracy: 0.9938 - val_loss: 2.3206 - val_categorical_accuracy: 0.6451\n",
      "Epoch 32/50\n",
      "10628/10628 [==============================] - 12s 1ms/step - loss: 0.0523 - categorical_accuracy: 0.9939 - val_loss: 2.1637 - val_categorical_accuracy: 0.6500\n",
      "Epoch 33/50\n",
      "10628/10628 [==============================] - 12s 1ms/step - loss: 0.0471 - categorical_accuracy: 0.9935 - val_loss: 2.3644 - val_categorical_accuracy: 0.6583\n",
      "Epoch 34/50\n",
      "10628/10628 [==============================] - 12s 1ms/step - loss: 0.0485 - categorical_accuracy: 0.9935 - val_loss: 2.3313 - val_categorical_accuracy: 0.6413\n",
      "Epoch 35/50\n",
      "10628/10628 [==============================] - 12s 1ms/step - loss: 0.0463 - categorical_accuracy: 0.9937 - val_loss: 2.0198 - val_categorical_accuracy: 0.6594\n",
      "Epoch 36/50\n",
      "10628/10628 [==============================] - 11s 1ms/step - loss: 0.0544 - categorical_accuracy: 0.9937 - val_loss: 2.1382 - val_categorical_accuracy: 0.6383\n",
      "Epoch 37/50\n",
      "10628/10628 [==============================] - 11s 1ms/step - loss: 0.0505 - categorical_accuracy: 0.9930 - val_loss: 2.3344 - val_categorical_accuracy: 0.6481\n",
      "Epoch 38/50\n",
      "10628/10628 [==============================] - 11s 1ms/step - loss: 0.0537 - categorical_accuracy: 0.9939 - val_loss: 2.1933 - val_categorical_accuracy: 0.6368\n",
      "Epoch 39/50\n",
      "10628/10628 [==============================] - 11s 1ms/step - loss: 0.0487 - categorical_accuracy: 0.9944 - val_loss: 2.1850 - val_categorical_accuracy: 0.6492\n",
      "Epoch 40/50\n",
      "10628/10628 [==============================] - 11s 1ms/step - loss: 0.0433 - categorical_accuracy: 0.9944 - val_loss: 2.3789 - val_categorical_accuracy: 0.6315\n",
      "Epoch 41/50\n",
      "10628/10628 [==============================] - 11s 1ms/step - loss: 0.0529 - categorical_accuracy: 0.9940 - val_loss: 2.3712 - val_categorical_accuracy: 0.6647\n",
      "Epoch 42/50\n",
      "10628/10628 [==============================] - 11s 1ms/step - loss: 0.0464 - categorical_accuracy: 0.9938 - val_loss: 2.3361 - val_categorical_accuracy: 0.6534\n",
      "Epoch 43/50\n",
      "10628/10628 [==============================] - 11s 1ms/step - loss: 0.0389 - categorical_accuracy: 0.9948 - val_loss: 2.4198 - val_categorical_accuracy: 0.6447\n",
      "Epoch 44/50\n",
      "10628/10628 [==============================] - 11s 1ms/step - loss: 0.0415 - categorical_accuracy: 0.9949 - val_loss: 2.5269 - val_categorical_accuracy: 0.6229\n",
      "Epoch 45/50\n",
      "10628/10628 [==============================] - 11s 1ms/step - loss: 0.0390 - categorical_accuracy: 0.9944 - val_loss: 2.5235 - val_categorical_accuracy: 0.6436\n",
      "Epoch 46/50\n",
      "10628/10628 [==============================] - 11s 1ms/step - loss: 0.0410 - categorical_accuracy: 0.9943 - val_loss: 2.3930 - val_categorical_accuracy: 0.6432\n",
      "Epoch 47/50\n",
      "10628/10628 [==============================] - 11s 1ms/step - loss: 0.0409 - categorical_accuracy: 0.9944 - val_loss: 2.3096 - val_categorical_accuracy: 0.6496\n",
      "Epoch 48/50\n",
      "10628/10628 [==============================] - 11s 1ms/step - loss: 0.0494 - categorical_accuracy: 0.9941 - val_loss: 2.3427 - val_categorical_accuracy: 0.6598\n",
      "Epoch 49/50\n",
      "10628/10628 [==============================] - 11s 1ms/step - loss: 0.0495 - categorical_accuracy: 0.9935 - val_loss: 2.6231 - val_categorical_accuracy: 0.6387\n",
      "Epoch 50/50\n",
      "10628/10628 [==============================] - 11s 1ms/step - loss: 0.0445 - categorical_accuracy: 0.9942 - val_loss: 2.0734 - val_categorical_accuracy: 0.6601\n"
     ]
    }
   ],
   "source": [
    "history = model.fit(x, y, epochs=50, batch_size=32, validation_split=0.2, verbose=1, shuffle=True)"
   ]
  },
  {
   "cell_type": "code",
   "execution_count": 29,
   "metadata": {},
   "outputs": [
    {
     "data": {
      "image/png": "[encoded data removed]",
      "text/plain": [
       "<Figure size 432x288 with 1 Axes>"
      ]
     },
     "metadata": {
      "needs_background": "light"
     },
     "output_type": "display_data"
    },
    {
     "data": {
      "image/png": "[encoded data removed]",
      "text/plain": [
       "<Figure size 432x288 with 1 Axes>"
      ]
     },
     "metadata": {
      "needs_background": "light"
     },
     "output_type": "display_data"
    }
   ],
   "source": [
    "import matplotlib.pyplot as plt\n",
    "\n",
    "acc = history.history['categorical_accuracy']\n",
    "val_acc = history.history['val_categorical_accuracy']\n",
    "loss = history.history['loss']\n",
    "val_loss = history.history['val_loss']\n",
    "\n",
    "epochs = range(1, len(acc) + 1)\n",
    "\n",
    "plt.plot(epochs, acc, 'bo', label='Training acc')\n",
    "plt.plot(epochs, val_acc, 'b', label='Validation acc')\n",
    "plt.title('Training and validation accuracy')\n",
    "plt.legend()\n",
    "\n",
    "plt.figure()\n",
    "\n",
    "plt.plot(epochs, loss, 'bo', label='Training loss')\n",
    "plt.plot(epochs, val_loss, 'b', label='Validation loss')\n",
    "plt.title('Training and validation loss')\n",
    "plt.legend()\n",
    "\n",
    "plt.show()"
   ]
  },
  {
   "cell_type": "code",
   "execution_count": null,
   "metadata": {},
   "outputs": [],
   "source": []
  },
  {
   "cell_type": "code",
   "execution_count": 30,
   "metadata": {},
   "outputs": [
    {
     "name": "stderr",
     "output_type": "stream",
     "text": [
      "W1030 00:18:37.096760 140181425510208 nn_ops.py:4224] Large dropout rate: 0.6 (>0.5). In TensorFlow 2.x, dropout() uses dropout rate instead of keep_prob. Please ensure that this is intended.\n"
     ]
    },
    {
     "name": "stdout",
     "output_type": "stream",
     "text": [
      "_________________________________________________________________\n",
      "Layer (type)                 Output Shape              Param #   \n",
      "=================================================================\n",
      "embedding_3 (Embedding)      (None, 1000, 50)          1078900   \n",
      "_________________________________________________________________\n",
      "flatten_3 (Flatten)          (None, 50000)             0         \n",
      "_________________________________________________________________\n",
      "dense_7 (Dense)              (None, 2048)              102402048 \n",
      "_________________________________________________________________\n",
      "dropout_5 (Dropout)          (None, 2048)              0         \n",
      "_________________________________________________________________\n",
      "dense_8 (Dense)              (None, 1024)              2098176   \n",
      "_________________________________________________________________\n",
      "dropout_6 (Dropout)          (None, 1024)              0         \n",
      "_________________________________________________________________\n",
      "dense_9 (Dense)              (None, 10)                10250     \n",
      "=================================================================\n",
      "Total params: 105,589,374\n",
      "Trainable params: 105,589,374\n",
      "Non-trainable params: 0\n",
      "_________________________________________________________________\n"
     ]
    }
   ],
   "source": [
    "model = Sequential()\n",
    "model.add(Embedding(vocabulario, dim_vetor, input_length=x.shape[1]))\n",
    "model.add(Flatten())\n",
    "model.add(Dense(2048, activation='relu'))\n",
    "model.add(Dropout(0.6))\n",
    "model.add(Dense(1024, activation='relu'))\n",
    "model.add(Dropout(0.6))\n",
    "model.add(Dense(y.shape[1], activation='softmax'))\n",
    "model.compile(loss='categorical_crossentropy', optimizer='adadelta',  metrics=[\"categorical_accuracy\"])\n",
    "model.summary()"
   ]
  },
  {
   "cell_type": "code",
   "execution_count": 31,
   "metadata": {},
   "outputs": [
    {
     "name": "stdout",
     "output_type": "stream",
     "text": [
      "Train on 10628 samples, validate on 2657 samples\n",
      "Epoch 1/50\n",
      "10628/10628 [==============================] - 43s 4ms/step - loss: 1.4985 - categorical_accuracy: 0.4737 - val_loss: 1.7717 - val_categorical_accuracy: 0.4851\n",
      "Epoch 2/50\n",
      "10628/10628 [==============================] - 40s 4ms/step - loss: 0.7248 - categorical_accuracy: 0.7602 - val_loss: 1.8663 - val_categorical_accuracy: 0.4264\n",
      "Epoch 3/50\n",
      "10628/10628 [==============================] - 41s 4ms/step - loss: 0.2153 - categorical_accuracy: 0.9420 - val_loss: 1.4287 - val_categorical_accuracy: 0.6078\n",
      "Epoch 4/50\n",
      "10628/10628 [==============================] - 41s 4ms/step - loss: 0.0865 - categorical_accuracy: 0.9858 - val_loss: 1.9362 - val_categorical_accuracy: 0.5965\n",
      "Epoch 5/50\n",
      "10628/10628 [==============================] - 41s 4ms/step - loss: 0.0659 - categorical_accuracy: 0.9917 - val_loss: 2.0051 - val_categorical_accuracy: 0.5841\n",
      "Epoch 6/50\n",
      "10628/10628 [==============================] - 41s 4ms/step - loss: 0.0635 - categorical_accuracy: 0.9924 - val_loss: 2.2556 - val_categorical_accuracy: 0.5815\n",
      "Epoch 7/50\n",
      "10628/10628 [==============================] - 41s 4ms/step - loss: 0.0626 - categorical_accuracy: 0.9940 - val_loss: 1.9992 - val_categorical_accuracy: 0.5943\n",
      "Epoch 8/50\n",
      "10628/10628 [==============================] - 42s 4ms/step - loss: 0.0638 - categorical_accuracy: 0.9941 - val_loss: 2.1770 - val_categorical_accuracy: 0.5984\n",
      "Epoch 9/50\n",
      "10628/10628 [==============================] - 42s 4ms/step - loss: 0.0581 - categorical_accuracy: 0.9939 - val_loss: 2.2435 - val_categorical_accuracy: 0.6082\n",
      "Epoch 10/50\n",
      "10628/10628 [==============================] - 42s 4ms/step - loss: 0.0594 - categorical_accuracy: 0.9943 - val_loss: 2.4677 - val_categorical_accuracy: 0.5973\n",
      "Epoch 11/50\n",
      "10628/10628 [==============================] - 41s 4ms/step - loss: 0.0574 - categorical_accuracy: 0.9944 - val_loss: 2.2740 - val_categorical_accuracy: 0.5864\n",
      "Epoch 12/50\n",
      "10628/10628 [==============================] - 42s 4ms/step - loss: 0.0624 - categorical_accuracy: 0.9942 - val_loss: 2.1898 - val_categorical_accuracy: 0.6026\n",
      "Epoch 13/50\n",
      "10628/10628 [==============================] - 42s 4ms/step - loss: 0.0638 - categorical_accuracy: 0.9939 - val_loss: 2.3524 - val_categorical_accuracy: 0.5947\n",
      "Epoch 14/50\n",
      "10628/10628 [==============================] - 41s 4ms/step - loss: 0.0568 - categorical_accuracy: 0.9947 - val_loss: 2.3468 - val_categorical_accuracy: 0.6078\n",
      "Epoch 15/50\n",
      "10628/10628 [==============================] - 41s 4ms/step - loss: 0.0584 - categorical_accuracy: 0.9950 - val_loss: 2.1748 - val_categorical_accuracy: 0.6014\n",
      "Epoch 16/50\n",
      "10628/10628 [==============================] - 41s 4ms/step - loss: 0.0586 - categorical_accuracy: 0.9947 - val_loss: 2.1900 - val_categorical_accuracy: 0.6082\n",
      "Epoch 17/50\n",
      "10628/10628 [==============================] - 41s 4ms/step - loss: 0.0658 - categorical_accuracy: 0.9938 - val_loss: 2.1710 - val_categorical_accuracy: 0.6176\n",
      "Epoch 18/50\n",
      "10628/10628 [==============================] - 41s 4ms/step - loss: 0.0527 - categorical_accuracy: 0.9950 - val_loss: 2.1836 - val_categorical_accuracy: 0.6041\n",
      "Epoch 19/50\n",
      "10628/10628 [==============================] - 41s 4ms/step - loss: 0.0618 - categorical_accuracy: 0.9945 - val_loss: 2.2989 - val_categorical_accuracy: 0.6018\n",
      "Epoch 20/50\n",
      "10628/10628 [==============================] - 41s 4ms/step - loss: 0.0562 - categorical_accuracy: 0.9944 - val_loss: 2.3128 - val_categorical_accuracy: 0.6075\n",
      "Epoch 21/50\n",
      "10628/10628 [==============================] - 42s 4ms/step - loss: 0.0530 - categorical_accuracy: 0.9949 - val_loss: 2.3427 - val_categorical_accuracy: 0.6105\n",
      "Epoch 22/50\n",
      "10628/10628 [==============================] - 42s 4ms/step - loss: 0.0540 - categorical_accuracy: 0.9951 - val_loss: 2.3102 - val_categorical_accuracy: 0.5883\n",
      "Epoch 23/50\n",
      "10628/10628 [==============================] - 42s 4ms/step - loss: 0.0510 - categorical_accuracy: 0.9957 - val_loss: 2.5939 - val_categorical_accuracy: 0.5694\n",
      "Epoch 24/50\n",
      "10628/10628 [==============================] - 42s 4ms/step - loss: 0.0515 - categorical_accuracy: 0.9951 - val_loss: 2.1088 - val_categorical_accuracy: 0.6421\n",
      "Epoch 25/50\n",
      "10628/10628 [==============================] - 42s 4ms/step - loss: 0.0527 - categorical_accuracy: 0.9946 - val_loss: 2.3470 - val_categorical_accuracy: 0.5943\n",
      "Epoch 26/50\n",
      "10628/10628 [==============================] - 42s 4ms/step - loss: 0.0603 - categorical_accuracy: 0.9944 - val_loss: 2.2330 - val_categorical_accuracy: 0.6282\n",
      "Epoch 27/50\n",
      "10628/10628 [==============================] - 42s 4ms/step - loss: 0.0554 - categorical_accuracy: 0.9943 - val_loss: 2.3880 - val_categorical_accuracy: 0.6225\n",
      "Epoch 28/50\n",
      "10628/10628 [==============================] - 42s 4ms/step - loss: 0.0552 - categorical_accuracy: 0.9944 - val_loss: 2.2776 - val_categorical_accuracy: 0.6169\n",
      "Epoch 29/50\n",
      "10628/10628 [==============================] - 42s 4ms/step - loss: 0.0507 - categorical_accuracy: 0.9950 - val_loss: 2.2736 - val_categorical_accuracy: 0.5845\n",
      "Epoch 30/50\n",
      "10628/10628 [==============================] - 42s 4ms/step - loss: 0.0535 - categorical_accuracy: 0.9950 - val_loss: 2.2820 - val_categorical_accuracy: 0.6097\n",
      "Epoch 31/50\n",
      "10628/10628 [==============================] - 42s 4ms/step - loss: 0.0577 - categorical_accuracy: 0.9944 - val_loss: 2.2741 - val_categorical_accuracy: 0.6368\n",
      "Epoch 32/50\n",
      "10628/10628 [==============================] - 42s 4ms/step - loss: 0.0527 - categorical_accuracy: 0.9948 - val_loss: 2.3220 - val_categorical_accuracy: 0.6142\n",
      "Epoch 33/50\n",
      "10628/10628 [==============================] - 42s 4ms/step - loss: 0.0554 - categorical_accuracy: 0.9947 - val_loss: 2.1575 - val_categorical_accuracy: 0.6142\n",
      "Epoch 34/50\n",
      "10628/10628 [==============================] - 42s 4ms/step - loss: 0.0560 - categorical_accuracy: 0.9945 - val_loss: 2.2815 - val_categorical_accuracy: 0.6154\n",
      "Epoch 35/50\n",
      "10628/10628 [==============================] - 42s 4ms/step - loss: 0.0555 - categorical_accuracy: 0.9950 - val_loss: 2.4104 - val_categorical_accuracy: 0.6090\n",
      "Epoch 36/50\n",
      "10628/10628 [==============================] - 40s 4ms/step - loss: 0.0550 - categorical_accuracy: 0.9945 - val_loss: 2.4758 - val_categorical_accuracy: 0.6308\n",
      "Epoch 37/50\n",
      "10628/10628 [==============================] - 39s 4ms/step - loss: 0.0508 - categorical_accuracy: 0.9949 - val_loss: 2.5004 - val_categorical_accuracy: 0.6327\n",
      "Epoch 38/50\n",
      "10628/10628 [==============================] - 39s 4ms/step - loss: 0.0557 - categorical_accuracy: 0.9943 - val_loss: 2.2255 - val_categorical_accuracy: 0.6112\n",
      "Epoch 39/50\n",
      "10628/10628 [==============================] - 39s 4ms/step - loss: 0.0549 - categorical_accuracy: 0.9948 - val_loss: 2.2179 - val_categorical_accuracy: 0.6297\n",
      "Epoch 40/50\n",
      "10628/10628 [==============================] - 39s 4ms/step - loss: 0.0583 - categorical_accuracy: 0.9944 - val_loss: 2.5392 - val_categorical_accuracy: 0.6056\n",
      "Epoch 41/50\n",
      "10628/10628 [==============================] - 39s 4ms/step - loss: 0.0554 - categorical_accuracy: 0.9948 - val_loss: 2.4830 - val_categorical_accuracy: 0.6108\n",
      "Epoch 42/50\n",
      "10628/10628 [==============================] - 39s 4ms/step - loss: 0.0484 - categorical_accuracy: 0.9949 - val_loss: 2.5270 - val_categorical_accuracy: 0.5939\n",
      "Epoch 43/50\n",
      "10628/10628 [==============================] - 39s 4ms/step - loss: 0.0517 - categorical_accuracy: 0.9949 - val_loss: 2.4553 - val_categorical_accuracy: 0.6315\n",
      "Epoch 44/50\n",
      "10628/10628 [==============================] - 39s 4ms/step - loss: 0.0566 - categorical_accuracy: 0.9945 - val_loss: 2.3253 - val_categorical_accuracy: 0.6338\n",
      "Epoch 45/50\n",
      "10628/10628 [==============================] - 39s 4ms/step - loss: 0.0531 - categorical_accuracy: 0.9946 - val_loss: 2.3448 - val_categorical_accuracy: 0.6180\n",
      "Epoch 46/50\n",
      "10628/10628 [==============================] - 39s 4ms/step - loss: 0.0588 - categorical_accuracy: 0.9948 - val_loss: 2.4718 - val_categorical_accuracy: 0.6233\n",
      "Epoch 47/50\n",
      "10628/10628 [==============================] - 39s 4ms/step - loss: 0.0519 - categorical_accuracy: 0.9949 - val_loss: 2.4230 - val_categorical_accuracy: 0.6041\n",
      "Epoch 48/50\n",
      "10628/10628 [==============================] - 39s 4ms/step - loss: 0.0486 - categorical_accuracy: 0.9952 - val_loss: 2.4486 - val_categorical_accuracy: 0.6361\n",
      "Epoch 49/50\n",
      "10628/10628 [==============================] - 39s 4ms/step - loss: 0.0528 - categorical_accuracy: 0.9943 - val_loss: 2.2219 - val_categorical_accuracy: 0.6067\n",
      "Epoch 50/50\n",
      "10628/10628 [==============================] - 39s 4ms/step - loss: 0.0554 - categorical_accuracy: 0.9943 - val_loss: 2.1807 - val_categorical_accuracy: 0.6285\n"
     ]
    }
   ],
   "source": [
    "history = model.fit(x, y, epochs=50, batch_size=32, validation_split=0.2, verbose=1, shuffle=True)"
   ]
  },
  {
   "cell_type": "code",
   "execution_count": 32,
   "metadata": {},
   "outputs": [
    {
     "data": {
      "image/png": "[encoded data removed]",
      "text/plain": [
       "<Figure size 432x288 with 1 Axes>"
      ]
     },
     "metadata": {
      "needs_background": "light"
     },
     "output_type": "display_data"
    },
    {
     "data": {
      "image/png": "[encoded data removed]",
      "text/plain": [
       "<Figure size 432x288 with 1 Axes>"
      ]
     },
     "metadata": {
      "needs_background": "light"
     },
     "output_type": "display_data"
    }
   ],
   "source": [
    "acc = history.history['categorical_accuracy']\n",
    "val_acc = history.history['val_categorical_accuracy']\n",
    "loss = history.history['loss']\n",
    "val_loss = history.history['val_loss']\n",
    "\n",
    "epochs = range(1, len(acc) + 1)\n",
    "\n",
    "plt.plot(epochs, acc, 'bo', label='Training acc')\n",
    "plt.plot(epochs, val_acc, 'b', label='Validation acc')\n",
    "plt.title('Training and validation accuracy')\n",
    "plt.legend()\n",
    "\n",
    "plt.figure()\n",
    "\n",
    "plt.plot(epochs, loss, 'bo', label='Training loss')\n",
    "plt.plot(epochs, val_loss, 'b', label='Validation loss')\n",
    "plt.title('Training and validation loss')\n",
    "plt.legend()\n",
    "\n",
    "plt.show()"
   ]
  },
  {
   "cell_type": "code",
   "execution_count": null,
   "metadata": {},
   "outputs": [],
   "source": []
  },
  {
   "cell_type": "code",
   "execution_count": 33,
   "metadata": {},
   "outputs": [
    {
     "name": "stdout",
     "output_type": "stream",
     "text": [
      "Train on 10628 samples, validate on 2657 samples\n",
      "Epoch 1/20\n",
      "10628/10628 [==============================] - 42s 4ms/step - loss: 1.5776 - categorical_accuracy: 0.4430 - val_loss: 1.3021 - val_categorical_accuracy: 0.5359\n",
      "Epoch 2/20\n",
      "10628/10628 [==============================] - 39s 4ms/step - loss: 0.7452 - categorical_accuracy: 0.7535 - val_loss: 1.3190 - val_categorical_accuracy: 0.5928\n",
      "Epoch 3/20\n",
      "10628/10628 [==============================] - 39s 4ms/step - loss: 0.1714 - categorical_accuracy: 0.9586 - val_loss: 1.6042 - val_categorical_accuracy: 0.5886\n",
      "Epoch 4/20\n",
      "10628/10628 [==============================] - 39s 4ms/step - loss: 0.0659 - categorical_accuracy: 0.9911 - val_loss: 1.9420 - val_categorical_accuracy: 0.5664\n",
      "Epoch 5/20\n",
      "10628/10628 [==============================] - 39s 4ms/step - loss: 0.0521 - categorical_accuracy: 0.9939 - val_loss: 1.9632 - val_categorical_accuracy: 0.6003\n",
      "Epoch 6/20\n",
      "10628/10628 [==============================] - 39s 4ms/step - loss: 0.0481 - categorical_accuracy: 0.9930 - val_loss: 1.8378 - val_categorical_accuracy: 0.6150\n",
      "Epoch 7/20\n",
      "10628/10628 [==============================] - 39s 4ms/step - loss: 0.0393 - categorical_accuracy: 0.9935 - val_loss: 1.7893 - val_categorical_accuracy: 0.6078\n",
      "Epoch 8/20\n",
      "10628/10628 [==============================] - 39s 4ms/step - loss: 0.0327 - categorical_accuracy: 0.9939 - val_loss: 1.8718 - val_categorical_accuracy: 0.6259\n",
      "Epoch 9/20\n",
      "10628/10628 [==============================] - 39s 4ms/step - loss: 0.0287 - categorical_accuracy: 0.9941 - val_loss: 1.8397 - val_categorical_accuracy: 0.6240\n",
      "Epoch 10/20\n",
      "10628/10628 [==============================] - 39s 4ms/step - loss: 0.0315 - categorical_accuracy: 0.9940 - val_loss: 1.8043 - val_categorical_accuracy: 0.6270\n",
      "Epoch 11/20\n",
      "10628/10628 [==============================] - 39s 4ms/step - loss: 0.0348 - categorical_accuracy: 0.9932 - val_loss: 1.8313 - val_categorical_accuracy: 0.6240\n",
      "Epoch 12/20\n",
      "10628/10628 [==============================] - 39s 4ms/step - loss: 0.0300 - categorical_accuracy: 0.9937 - val_loss: 1.8189 - val_categorical_accuracy: 0.6364\n",
      "Epoch 13/20\n",
      "10628/10628 [==============================] - 39s 4ms/step - loss: 0.0262 - categorical_accuracy: 0.9943 - val_loss: 2.0509 - val_categorical_accuracy: 0.6033\n",
      "Epoch 14/20\n",
      "10628/10628 [==============================] - 39s 4ms/step - loss: 0.0294 - categorical_accuracy: 0.9938 - val_loss: 1.8873 - val_categorical_accuracy: 0.6101\n",
      "Epoch 15/20\n",
      "10628/10628 [==============================] - 39s 4ms/step - loss: 0.0273 - categorical_accuracy: 0.9928 - val_loss: 1.7674 - val_categorical_accuracy: 0.6432\n",
      "Epoch 16/20\n",
      "10628/10628 [==============================] - 39s 4ms/step - loss: 0.0253 - categorical_accuracy: 0.9936 - val_loss: 1.8594 - val_categorical_accuracy: 0.6278\n",
      "Epoch 17/20\n",
      "10628/10628 [==============================] - 39s 4ms/step - loss: 0.0255 - categorical_accuracy: 0.9938 - val_loss: 1.9308 - val_categorical_accuracy: 0.6361\n",
      "Epoch 18/20\n",
      "10628/10628 [==============================] - 39s 4ms/step - loss: 0.0211 - categorical_accuracy: 0.9943 - val_loss: 2.0572 - val_categorical_accuracy: 0.6398\n",
      "Epoch 19/20\n",
      "10628/10628 [==============================] - 39s 4ms/step - loss: 0.0231 - categorical_accuracy: 0.9936 - val_loss: 1.8468 - val_categorical_accuracy: 0.6440\n",
      "Epoch 20/20\n",
      "10628/10628 [==============================] - 39s 4ms/step - loss: 0.0212 - categorical_accuracy: 0.9938 - val_loss: 2.1429 - val_categorical_accuracy: 0.6127\n"
     ]
    }
   ],
   "source": [
    "model = Sequential()\n",
    "model.add(Embedding(vocabulario, dim_vetor, input_length=x.shape[1]))\n",
    "model.add(Flatten())\n",
    "model.add(Dense(2048, activation='relu'))\n",
    "model.add(Dropout(0.4))\n",
    "model.add(Dense(1024, activation='relu'))\n",
    "model.add(Dropout(0.4))\n",
    "model.add(Dense(y.shape[1], activation='softmax'))\n",
    "model.compile(loss='categorical_crossentropy', optimizer='adadelta',  metrics=[\"categorical_accuracy\"])\n",
    "\n",
    "history = model.fit(x, y, epochs=20, batch_size=32, validation_split=0.2, verbose=1, shuffle=True)"
   ]
  },
  {
   "cell_type": "code",
   "execution_count": 34,
   "metadata": {},
   "outputs": [
    {
     "data": {
      "image/png": "[encoded data removed]",
      "text/plain": [
       "<Figure size 432x288 with 1 Axes>"
      ]
     },
     "metadata": {
      "needs_background": "light"
     },
     "output_type": "display_data"
    },
    {
     "data": {
      "image/png": "[encoded data removed]",
      "text/plain": [
       "<Figure size 432x288 with 1 Axes>"
      ]
     },
     "metadata": {
      "needs_background": "light"
     },
     "output_type": "display_data"
    }
   ],
   "source": [
    "acc = history.history['categorical_accuracy']\n",
    "val_acc = history.history['val_categorical_accuracy']\n",
    "loss = history.history['loss']\n",
    "val_loss = history.history['val_loss']\n",
    "\n",
    "epochs = range(1, len(acc) + 1)\n",
    "\n",
    "plt.plot(epochs, acc, 'bo', label='Training acc')\n",
    "plt.plot(epochs, val_acc, 'b', label='Validation acc')\n",
    "plt.title('Training and validation accuracy')\n",
    "plt.legend()\n",
    "\n",
    "plt.figure()\n",
    "\n",
    "plt.plot(epochs, loss, 'bo', label='Training loss')\n",
    "plt.plot(epochs, val_loss, 'b', label='Validation loss')\n",
    "plt.title('Training and validation loss')\n",
    "plt.legend()\n",
    "\n",
    "plt.show()"
   ]
  },
  {
   "cell_type": "code",
   "execution_count": 36,
   "metadata": {},
   "outputs": [
    {
     "name": "stdout",
     "output_type": "stream",
     "text": [
      "11410\n",
      "11999\n"
     ]
    }
   ],
   "source": [
    "for linha in df.index:\n",
    "    f = df.loc[linha, 'filtrado']\n",
    "    try:\n",
    "        x = len(f)\n",
    "    except:\n",
    "        print (linha)"
   ]
  },
  {
   "cell_type": "code",
   "execution_count": 39,
   "metadata": {},
   "outputs": [
    {
     "data": {
      "text/plain": [
       "COD                        37522\n",
       "DESCR_AREA    Direito Processual\n",
       "filtrado                     NaN\n",
       "Name: 11410, dtype: object"
      ]
     },
     "execution_count": 39,
     "metadata": {},
     "output_type": "execute_result"
    }
   ],
   "source": [
    "df.loc[11410]"
   ]
  },
  {
   "cell_type": "code",
   "execution_count": 38,
   "metadata": {},
   "outputs": [
    {
     "data": {
      "text/plain": [
       "COD             43342\n",
       "DESCR_AREA    Pessoal\n",
       "filtrado          NaN\n",
       "Name: 11999, dtype: object"
      ]
     },
     "execution_count": 38,
     "metadata": {},
     "output_type": "execute_result"
    }
   ],
   "source": [
    "df.loc[11999]"
   ]
  },
  {
   "cell_type": "code",
   "execution_count": null,
   "metadata": {},
   "outputs": [],
   "source": []
  }
 ],
 "metadata": {
  "kernelspec": {
   "display_name": "Python 3",
   "language": "python",
   "name": "python3"
  },
  "language_info": {
   "codemirror_mode": {
    "name": "ipython",
    "version": 3
   },
   "file_extension": ".py",
   "mimetype": "text/x-python",
   "name": "python",
   "nbconvert_exporter": "python",
   "pygments_lexer": "ipython3",
   "version": "3.7.4"
  }
 },
 "nbformat": 4,
 "nbformat_minor": 2
}
