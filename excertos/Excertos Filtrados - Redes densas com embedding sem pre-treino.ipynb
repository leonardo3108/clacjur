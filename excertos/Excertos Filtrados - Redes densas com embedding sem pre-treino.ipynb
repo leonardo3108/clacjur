{
 "cells": [
  {
   "cell_type": "markdown",
   "metadata": {},
   "source": [
    "# Importação e preparação dos dados"
   ]
  },
  {
   "cell_type": "code",
   "execution_count": 1,
   "metadata": {},
   "outputs": [
    {
     "data": {
      "text/html": [
       "<div>\n",
       "<style scoped>\n",
       "    .dataframe tbody tr th:only-of-type {\n",
       "        vertical-align: middle;\n",
       "    }\n",
       "\n",
       "    .dataframe tbody tr th {\n",
       "        vertical-align: top;\n",
       "    }\n",
       "\n",
       "    .dataframe thead th {\n",
       "        text-align: right;\n",
       "    }\n",
       "</style>\n",
       "<table border=\"1\" class=\"dataframe\">\n",
       "  <thead>\n",
       "    <tr style=\"text-align: right;\">\n",
       "      <th></th>\n",
       "      <th>COD</th>\n",
       "      <th>DESCR_AREA</th>\n",
       "      <th>filtrado</th>\n",
       "    </tr>\n",
       "  </thead>\n",
       "  <tbody>\n",
       "    <tr>\n",
       "      <th>0</th>\n",
       "      <td>1400</td>\n",
       "      <td>Responsabilidade</td>\n",
       "      <td>voto cuidar auto tomada conta especial instaur...</td>\n",
       "    </tr>\n",
       "    <tr>\n",
       "      <th>1</th>\n",
       "      <td>1700</td>\n",
       "      <td>Finanças Públicas</td>\n",
       "      <td>voto cuidar auto solicitação congresso naciona...</td>\n",
       "    </tr>\n",
       "    <tr>\n",
       "      <th>2</th>\n",
       "      <td>5700</td>\n",
       "      <td>Responsabilidade</td>\n",
       "      <td>relatório tratar embargo declaração opor exemp...</td>\n",
       "    </tr>\n",
       "    <tr>\n",
       "      <th>3</th>\n",
       "      <td>284</td>\n",
       "      <td>Direito Processual</td>\n",
       "      <td>voto relação outro processo judiciais tratar r...</td>\n",
       "    </tr>\n",
       "    <tr>\n",
       "      <th>4</th>\n",
       "      <td>298</td>\n",
       "      <td>Pessoal</td>\n",
       "      <td>voto relativo ato envolver senhor caber rememo...</td>\n",
       "    </tr>\n",
       "  </tbody>\n",
       "</table>\n",
       "</div>"
      ],
      "text/plain": [
       "    COD          DESCR_AREA                                           filtrado\n",
       "0  1400    Responsabilidade  voto cuidar auto tomada conta especial instaur...\n",
       "1  1700   Finanças Públicas  voto cuidar auto solicitação congresso naciona...\n",
       "2  5700    Responsabilidade  relatório tratar embargo declaração opor exemp...\n",
       "3   284  Direito Processual  voto relação outro processo judiciais tratar r...\n",
       "4   298             Pessoal  voto relativo ato envolver senhor caber rememo..."
      ]
     },
     "execution_count": 1,
     "metadata": {},
     "output_type": "execute_result"
    }
   ],
   "source": [
    "import pandas as pd\n",
    "\n",
    "df = pd.read_csv('../dados/excertos_filtrados500.csv', sep = '|')\n",
    "df.head()"
   ]
  },
  {
   "cell_type": "code",
   "execution_count": 2,
   "metadata": {},
   "outputs": [
    {
     "data": {
      "text/plain": [
       "(13285, 3)"
      ]
     },
     "execution_count": 2,
     "metadata": {},
     "output_type": "execute_result"
    }
   ],
   "source": [
    "df.shape"
   ]
  },
  {
   "cell_type": "code",
   "execution_count": 3,
   "metadata": {},
   "outputs": [
    {
     "data": {
      "text/plain": [
       "(13285, 10)"
      ]
     },
     "execution_count": 3,
     "metadata": {},
     "output_type": "execute_result"
    }
   ],
   "source": [
    "from sklearn.preprocessing import LabelBinarizer\n",
    "\n",
    "areas = df.groupby(['DESCR_AREA']).groups.keys()\n",
    "lbArea = LabelBinarizer()\n",
    "lbArea.fit([x for x in areas])\n",
    "y = lbArea.transform(df['DESCR_AREA'])\n",
    "y.shape"
   ]
  },
  {
   "cell_type": "code",
   "execution_count": 4,
   "metadata": {},
   "outputs": [
    {
     "name": "stderr",
     "output_type": "stream",
     "text": [
      "Using TensorFlow backend.\n"
     ]
    },
    {
     "name": "stdout",
     "output_type": "stream",
     "text": [
      "Found 22972 unique tokens.\n"
     ]
    }
   ],
   "source": [
    "from keras.preprocessing.text import Tokenizer\n",
    "import numpy as np\n",
    "\n",
    "vocabulario = 30000\n",
    "limite_texto = 500\n",
    "dim_vetor = 100\n",
    "\n",
    "tokenizer = Tokenizer(num_words=vocabulario)\n",
    "tokenizer.fit_on_texts(df['filtrado'].astype(str))\n",
    "\n",
    "sequences = tokenizer.texts_to_sequences(df['filtrado'].astype(str))\n",
    "\n",
    "word_index = tokenizer.word_index\n",
    "vocabulario = len(word_index) + 1\n",
    "print('Found %s unique tokens.' % len(word_index))"
   ]
  },
  {
   "cell_type": "code",
   "execution_count": 5,
   "metadata": {},
   "outputs": [
    {
     "data": {
      "text/plain": [
       "(12,\n",
       " 269.96507339104255,\n",
       " 509,\n",
       " 142.93907674539003,\n",
       " 13285,\n",
       " 19,\n",
       " 0.0014301844185171245)"
      ]
     },
     "execution_count": 5,
     "metadata": {},
     "output_type": "execute_result"
    }
   ],
   "source": [
    "max = 0\n",
    "lens = []\n",
    "for seq in sequences:\n",
    "    lens.append(len(seq))\n",
    "np.min(lens), np.mean(lens), np.max(lens), np.std(lens), len(lens), sum(pd.Series(lens) > limite_texto), sum(pd.Series(lens) > limite_texto)/len(lens)"
   ]
  },
  {
   "cell_type": "code",
   "execution_count": 7,
   "metadata": {},
   "outputs": [
    {
     "data": {
      "image/png": "[encoded data removed]",
      "text/plain": [
       "<Figure size 432x288 with 1 Axes>"
      ]
     },
     "metadata": {
      "needs_background": "light"
     },
     "output_type": "display_data"
    }
   ],
   "source": [
    "import matplotlib.pyplot as plt\n",
    "plt.hist(lens)\n",
    "plt.show()"
   ]
  },
  {
   "cell_type": "code",
   "execution_count": 8,
   "metadata": {
    "scrolled": true
   },
   "outputs": [
    {
     "data": {
      "image/png": "[encoded data removed]",
      "text/plain": [
       "<Figure size 432x288 with 1 Axes>"
      ]
     },
     "metadata": {
      "needs_background": "light"
     },
     "output_type": "display_data"
    }
   ],
   "source": [
    "plt.hist(np.log10(lens))\n",
    "plt.show()"
   ]
  },
  {
   "cell_type": "code",
   "execution_count": 9,
   "metadata": {},
   "outputs": [
    {
     "data": {
      "text/plain": [
       "(152.0, 240.0, 387.0, 500.0, 500.0)"
      ]
     },
     "execution_count": 9,
     "metadata": {},
     "output_type": "execute_result"
    }
   ],
   "source": [
    "np.percentile(lens, 25), np.percentile(lens, 50), np.percentile(lens, 75), np.percentile(lens, 90), np.percentile(lens, 95)"
   ]
  },
  {
   "cell_type": "code",
   "execution_count": 10,
   "metadata": {},
   "outputs": [
    {
     "data": {
      "text/plain": [
       "(2.358246697195892,\n",
       " 228.16377684126218,\n",
       " 0.2698266994442811,\n",
       " 2.897900096084454,\n",
       " 790.4967633680508)"
      ]
     },
     "execution_count": 10,
     "metadata": {},
     "output_type": "execute_result"
    }
   ],
   "source": [
    "np.mean(np.log10(lens)), 10**np.mean(np.log10(lens)), np.std(np.log10(lens)), (np.mean(np.log10(lens)) + 2*np.std(np.log10(lens))), 10**(np.mean(np.log10(lens)) + 2*np.std(np.log10(lens)))"
   ]
  },
  {
   "cell_type": "code",
   "execution_count": 11,
   "metadata": {},
   "outputs": [
    {
     "name": "stdout",
     "output_type": "stream",
     "text": [
      "Shape of data tensor: (13285, 500)\n"
     ]
    }
   ],
   "source": [
    "from keras.preprocessing.sequence import pad_sequences\n",
    "\n",
    "x = pad_sequences(sequences, maxlen=limite_texto)\n",
    "\n",
    "print('Shape of data tensor:', x.shape)"
   ]
  },
  {
   "cell_type": "code",
   "execution_count": 12,
   "metadata": {},
   "outputs": [
    {
     "data": {
      "text/plain": [
       "((13285, 500), (13285, 10))"
      ]
     },
     "execution_count": 12,
     "metadata": {},
     "output_type": "execute_result"
    }
   ],
   "source": [
    "x.shape, y.shape"
   ]
  },
  {
   "cell_type": "markdown",
   "metadata": {},
   "source": [
    "# Treinamento"
   ]
  },
  {
   "cell_type": "code",
   "execution_count": 18,
   "metadata": {},
   "outputs": [
    {
     "name": "stderr",
     "output_type": "stream",
     "text": [
      "WARNING: Logging before flag parsing goes to stderr.\n",
      "W1121 07:08:02.543875 139979849807680 deprecation_wrapper.py:119] From /home/leonardo/anaconda3/envs/gpu/lib/python3.7/site-packages/keras/backend/tensorflow_backend.py:74: The name tf.get_default_graph is deprecated. Please use tf.compat.v1.get_default_graph instead.\n",
      "\n",
      "W1121 07:08:02.642590 139979849807680 deprecation_wrapper.py:119] From /home/leonardo/anaconda3/envs/gpu/lib/python3.7/site-packages/keras/backend/tensorflow_backend.py:517: The name tf.placeholder is deprecated. Please use tf.compat.v1.placeholder instead.\n",
      "\n",
      "W1121 07:08:02.644637 139979849807680 deprecation_wrapper.py:119] From /home/leonardo/anaconda3/envs/gpu/lib/python3.7/site-packages/keras/backend/tensorflow_backend.py:4138: The name tf.random_uniform is deprecated. Please use tf.random.uniform instead.\n",
      "\n",
      "W1121 07:08:02.672413 139979849807680 deprecation_wrapper.py:119] From /home/leonardo/anaconda3/envs/gpu/lib/python3.7/site-packages/keras/backend/tensorflow_backend.py:133: The name tf.placeholder_with_default is deprecated. Please use tf.compat.v1.placeholder_with_default instead.\n",
      "\n",
      "W1121 07:08:02.678738 139979849807680 deprecation.py:506] From /home/leonardo/anaconda3/envs/gpu/lib/python3.7/site-packages/keras/backend/tensorflow_backend.py:3445: calling dropout (from tensorflow.python.ops.nn_ops) with keep_prob is deprecated and will be removed in a future version.\n",
      "Instructions for updating:\n",
      "Please use `rate` instead of `keep_prob`. Rate should be set to `rate = 1 - keep_prob`.\n",
      "W1121 07:08:02.679327 139979849807680 nn_ops.py:4224] Large dropout rate: 0.6 (>0.5). In TensorFlow 2.x, dropout() uses dropout rate instead of keep_prob. Please ensure that this is intended.\n",
      "W1121 07:08:02.708112 139979849807680 nn_ops.py:4224] Large dropout rate: 0.6 (>0.5). In TensorFlow 2.x, dropout() uses dropout rate instead of keep_prob. Please ensure that this is intended.\n",
      "W1121 07:08:02.730357 139979849807680 deprecation_wrapper.py:119] From /home/leonardo/anaconda3/envs/gpu/lib/python3.7/site-packages/keras/optimizers.py:790: The name tf.train.Optimizer is deprecated. Please use tf.compat.v1.train.Optimizer instead.\n",
      "\n",
      "W1121 07:08:02.744158 139979849807680 deprecation_wrapper.py:119] From /home/leonardo/anaconda3/envs/gpu/lib/python3.7/site-packages/keras/backend/tensorflow_backend.py:3295: The name tf.log is deprecated. Please use tf.math.log instead.\n",
      "\n"
     ]
    },
    {
     "name": "stdout",
     "output_type": "stream",
     "text": [
      "_________________________________________________________________\n",
      "Layer (type)                 Output Shape              Param #   \n",
      "=================================================================\n",
      "embedding_1 (Embedding)      (None, 500, 100)          2297300   \n",
      "_________________________________________________________________\n",
      "flatten_1 (Flatten)          (None, 50000)             0         \n",
      "_________________________________________________________________\n",
      "dense_1 (Dense)              (None, 2048)              102402048 \n",
      "_________________________________________________________________\n",
      "dropout_1 (Dropout)          (None, 2048)              0         \n",
      "_________________________________________________________________\n",
      "dense_2 (Dense)              (None, 1024)              2098176   \n",
      "_________________________________________________________________\n",
      "dropout_2 (Dropout)          (None, 1024)              0         \n",
      "_________________________________________________________________\n",
      "dense_3 (Dense)              (None, 10)                10250     \n",
      "=================================================================\n",
      "Total params: 106,807,774\n",
      "Trainable params: 106,807,774\n",
      "Non-trainable params: 0\n",
      "_________________________________________________________________\n"
     ]
    }
   ],
   "source": [
    "from keras.models import Sequential\n",
    "from keras.layers import Flatten, Dense, Embedding\n",
    "from keras.layers.core import Dropout\n",
    "\n",
    "model = Sequential()\n",
    "model.add(Embedding(vocabulario, dim_vetor, input_length=x.shape[1]))\n",
    "model.add(Flatten())\n",
    "model.add(Dense(2048, activation='relu'))\n",
    "model.add(Dropout(0.6))\n",
    "model.add(Dense(1024, activation='relu'))\n",
    "model.add(Dropout(0.6))\n",
    "model.add(Dense(y.shape[1], activation='softmax'))\n",
    "model.compile(loss='categorical_crossentropy', optimizer='adadelta',  metrics=[\"categorical_accuracy\"])\n",
    "model.summary()"
   ]
  },
  {
   "cell_type": "code",
   "execution_count": 19,
   "metadata": {},
   "outputs": [
    {
     "name": "stderr",
     "output_type": "stream",
     "text": [
      "W1121 07:08:10.973312 139979849807680 deprecation.py:323] From /home/leonardo/anaconda3/envs/gpu/lib/python3.7/site-packages/tensorflow/python/ops/math_grad.py:1250: add_dispatch_support.<locals>.wrapper (from tensorflow.python.ops.array_ops) is deprecated and will be removed in a future version.\n",
      "Instructions for updating:\n",
      "Use tf.where in 2.0, which has the same broadcast rule as np.where\n"
     ]
    },
    {
     "name": "stdout",
     "output_type": "stream",
     "text": [
      "Train on 10628 samples, validate on 2657 samples\n",
      "Epoch 1/20\n",
      "10628/10628 [==============================] - 46s 4ms/step - loss: 1.2057 - categorical_accuracy: 0.5923 - val_loss: 1.3208 - val_categorical_accuracy: 0.5687\n",
      "Epoch 2/20\n",
      "10628/10628 [==============================] - 40s 4ms/step - loss: 0.4248 - categorical_accuracy: 0.8739 - val_loss: 1.1662 - val_categorical_accuracy: 0.6628\n",
      "Epoch 3/20\n",
      "10628/10628 [==============================] - 41s 4ms/step - loss: 0.0991 - categorical_accuracy: 0.9794 - val_loss: 1.3808 - val_categorical_accuracy: 0.6970\n",
      "Epoch 4/20\n",
      "10628/10628 [==============================] - 41s 4ms/step - loss: 0.0689 - categorical_accuracy: 0.9928 - val_loss: 1.4814 - val_categorical_accuracy: 0.7117\n",
      "Epoch 5/20\n",
      "10628/10628 [==============================] - 41s 4ms/step - loss: 0.0595 - categorical_accuracy: 0.9944 - val_loss: 1.6122 - val_categorical_accuracy: 0.7098\n",
      "Epoch 6/20\n",
      "10628/10628 [==============================] - 41s 4ms/step - loss: 0.0633 - categorical_accuracy: 0.9946 - val_loss: 1.6201 - val_categorical_accuracy: 0.7132\n",
      "Epoch 7/20\n",
      "10628/10628 [==============================] - 41s 4ms/step - loss: 0.0561 - categorical_accuracy: 0.9953 - val_loss: 1.7653 - val_categorical_accuracy: 0.6767\n",
      "Epoch 8/20\n",
      "10628/10628 [==============================] - 41s 4ms/step - loss: 0.0598 - categorical_accuracy: 0.9950 - val_loss: 1.7139 - val_categorical_accuracy: 0.7151\n",
      "Epoch 9/20\n",
      "10628/10628 [==============================] - 42s 4ms/step - loss: 0.0535 - categorical_accuracy: 0.9954 - val_loss: 1.8128 - val_categorical_accuracy: 0.6933\n",
      "Epoch 10/20\n",
      "10628/10628 [==============================] - 42s 4ms/step - loss: 0.0537 - categorical_accuracy: 0.9952 - val_loss: 1.8043 - val_categorical_accuracy: 0.7102\n",
      "Epoch 11/20\n",
      "10628/10628 [==============================] - 42s 4ms/step - loss: 0.0522 - categorical_accuracy: 0.9955 - val_loss: 1.8315 - val_categorical_accuracy: 0.7049\n",
      "Epoch 12/20\n",
      "10628/10628 [==============================] - 42s 4ms/step - loss: 0.0471 - categorical_accuracy: 0.9954 - val_loss: 1.8558 - val_categorical_accuracy: 0.6978\n",
      "Epoch 13/20\n",
      "10628/10628 [==============================] - 42s 4ms/step - loss: 0.0530 - categorical_accuracy: 0.9956 - val_loss: 1.8413 - val_categorical_accuracy: 0.6997\n",
      "Epoch 14/20\n",
      "10628/10628 [==============================] - 42s 4ms/step - loss: 0.0528 - categorical_accuracy: 0.9955 - val_loss: 1.9412 - val_categorical_accuracy: 0.6899\n",
      "Epoch 15/20\n",
      "10628/10628 [==============================] - 42s 4ms/step - loss: 0.0461 - categorical_accuracy: 0.9960 - val_loss: 1.9299 - val_categorical_accuracy: 0.6940\n",
      "Epoch 16/20\n",
      "10628/10628 [==============================] - 42s 4ms/step - loss: 0.0591 - categorical_accuracy: 0.9953 - val_loss: 1.9708 - val_categorical_accuracy: 0.6839\n",
      "Epoch 17/20\n",
      "10628/10628 [==============================] - 42s 4ms/step - loss: 0.0535 - categorical_accuracy: 0.9960 - val_loss: 1.8992 - val_categorical_accuracy: 0.7049\n",
      "Epoch 18/20\n",
      "10628/10628 [==============================] - 42s 4ms/step - loss: 0.0531 - categorical_accuracy: 0.9955 - val_loss: 1.8620 - val_categorical_accuracy: 0.7083\n",
      "Epoch 19/20\n",
      "10628/10628 [==============================] - 42s 4ms/step - loss: 0.0466 - categorical_accuracy: 0.9957 - val_loss: 1.9625 - val_categorical_accuracy: 0.7030\n",
      "Epoch 20/20\n",
      "10628/10628 [==============================] - 42s 4ms/step - loss: 0.0470 - categorical_accuracy: 0.9955 - val_loss: 1.8925 - val_categorical_accuracy: 0.7102\n"
     ]
    }
   ],
   "source": [
    "history = model.fit(x, y, epochs=20, batch_size=32, validation_split=0.2, verbose=1, shuffle=True)"
   ]
  },
  {
   "cell_type": "code",
   "execution_count": 20,
   "metadata": {},
   "outputs": [
    {
     "name": "stdout",
     "output_type": "stream",
     "text": [
      "_________________________________________________________________\n",
      "Layer (type)                 Output Shape              Param #   \n",
      "=================================================================\n",
      "embedding_2 (Embedding)      (None, 500, 100)          2297300   \n",
      "_________________________________________________________________\n",
      "flatten_2 (Flatten)          (None, 50000)             0         \n",
      "_________________________________________________________________\n",
      "dense_4 (Dense)              (None, 2048)              102402048 \n",
      "_________________________________________________________________\n",
      "dropout_3 (Dropout)          (None, 2048)              0         \n",
      "_________________________________________________________________\n",
      "dense_5 (Dense)              (None, 1024)              2098176   \n",
      "_________________________________________________________________\n",
      "dropout_4 (Dropout)          (None, 1024)              0         \n",
      "_________________________________________________________________\n",
      "dense_6 (Dense)              (None, 10)                10250     \n",
      "=================================================================\n",
      "Total params: 106,807,774\n",
      "Trainable params: 106,807,774\n",
      "Non-trainable params: 0\n",
      "_________________________________________________________________\n",
      "Train on 10628 samples, validate on 2657 samples\n",
      "Epoch 1/20\n",
      "10628/10628 [==============================] - 43s 4ms/step - loss: 1.2042 - categorical_accuracy: 0.5846 - val_loss: 1.0101 - val_categorical_accuracy: 0.6575\n",
      "Epoch 2/20\n",
      "10628/10628 [==============================] - 40s 4ms/step - loss: 0.3964 - categorical_accuracy: 0.8833 - val_loss: 1.2089 - val_categorical_accuracy: 0.6492\n",
      "Epoch 3/20\n",
      "10628/10628 [==============================] - 40s 4ms/step - loss: 0.0806 - categorical_accuracy: 0.9881 - val_loss: 1.3639 - val_categorical_accuracy: 0.6729\n",
      "Epoch 4/20\n",
      "10628/10628 [==============================] - 40s 4ms/step - loss: 0.0472 - categorical_accuracy: 0.9943 - val_loss: 1.4536 - val_categorical_accuracy: 0.6891\n",
      "Epoch 5/20\n",
      "10628/10628 [==============================] - 40s 4ms/step - loss: 0.0430 - categorical_accuracy: 0.9941 - val_loss: 1.5684 - val_categorical_accuracy: 0.6722\n",
      "Epoch 6/20\n",
      "10628/10628 [==============================] - 40s 4ms/step - loss: 0.0354 - categorical_accuracy: 0.9946 - val_loss: 1.4426 - val_categorical_accuracy: 0.7004\n",
      "Epoch 7/20\n",
      "10628/10628 [==============================] - 40s 4ms/step - loss: 0.0295 - categorical_accuracy: 0.9947 - val_loss: 1.5510 - val_categorical_accuracy: 0.6921\n",
      "Epoch 8/20\n",
      "10628/10628 [==============================] - 40s 4ms/step - loss: 0.0313 - categorical_accuracy: 0.9943 - val_loss: 1.5560 - val_categorical_accuracy: 0.6955\n",
      "Epoch 9/20\n",
      "10628/10628 [==============================] - 40s 4ms/step - loss: 0.0264 - categorical_accuracy: 0.9946 - val_loss: 1.5554 - val_categorical_accuracy: 0.6978\n",
      "Epoch 10/20\n",
      "10628/10628 [==============================] - 40s 4ms/step - loss: 0.0261 - categorical_accuracy: 0.9951 - val_loss: 1.5317 - val_categorical_accuracy: 0.6854\n",
      "Epoch 11/20\n",
      "10628/10628 [==============================] - 40s 4ms/step - loss: 0.0225 - categorical_accuracy: 0.9950 - val_loss: 1.6311 - val_categorical_accuracy: 0.6914\n",
      "Epoch 12/20\n",
      "10628/10628 [==============================] - 40s 4ms/step - loss: 0.0244 - categorical_accuracy: 0.9945 - val_loss: 1.6148 - val_categorical_accuracy: 0.6944\n",
      "Epoch 13/20\n",
      "10628/10628 [==============================] - 40s 4ms/step - loss: 0.0224 - categorical_accuracy: 0.9947 - val_loss: 1.5320 - val_categorical_accuracy: 0.7019\n",
      "Epoch 14/20\n",
      "10628/10628 [==============================] - 40s 4ms/step - loss: 0.0218 - categorical_accuracy: 0.9947 - val_loss: 1.5876 - val_categorical_accuracy: 0.7004\n",
      "Epoch 15/20\n",
      "10628/10628 [==============================] - 40s 4ms/step - loss: 0.0190 - categorical_accuracy: 0.9947 - val_loss: 1.7463 - val_categorical_accuracy: 0.6827\n",
      "Epoch 16/20\n",
      "10628/10628 [==============================] - 40s 4ms/step - loss: 0.0202 - categorical_accuracy: 0.9945 - val_loss: 1.6737 - val_categorical_accuracy: 0.6967\n",
      "Epoch 17/20\n",
      "10628/10628 [==============================] - 40s 4ms/step - loss: 0.0198 - categorical_accuracy: 0.9952 - val_loss: 1.6076 - val_categorical_accuracy: 0.7072\n",
      "Epoch 18/20\n",
      "10628/10628 [==============================] - 40s 4ms/step - loss: 0.0196 - categorical_accuracy: 0.9946 - val_loss: 1.6855 - val_categorical_accuracy: 0.7034\n",
      "Epoch 19/20\n",
      "10628/10628 [==============================] - 40s 4ms/step - loss: 0.0192 - categorical_accuracy: 0.9945 - val_loss: 1.6746 - val_categorical_accuracy: 0.6997\n",
      "Epoch 20/20\n",
      "10628/10628 [==============================] - 40s 4ms/step - loss: 0.0206 - categorical_accuracy: 0.9948 - val_loss: 1.7199 - val_categorical_accuracy: 0.6997\n"
     ]
    }
   ],
   "source": [
    "model = Sequential()\n",
    "model.add(Embedding(vocabulario, dim_vetor, input_length=x.shape[1]))\n",
    "model.add(Flatten())\n",
    "model.add(Dense(2048, activation='relu'))\n",
    "model.add(Dropout(0.4))\n",
    "model.add(Dense(1024, activation='relu'))\n",
    "model.add(Dropout(0.4))\n",
    "model.add(Dense(y.shape[1], activation='softmax'))\n",
    "model.compile(loss='categorical_crossentropy', optimizer='adadelta',  metrics=[\"categorical_accuracy\"])\n",
    "model.summary()\n",
    "\n",
    "history = model.fit(x, y, epochs=20, batch_size=32, validation_split=0.2, verbose=1, shuffle=True)"
   ]
  },
  {
   "cell_type": "code",
   "execution_count": 13,
   "metadata": {},
   "outputs": [
    {
     "name": "stderr",
     "output_type": "stream",
     "text": [
      "WARNING: Logging before flag parsing goes to stderr.\n",
      "W1121 08:17:46.472817 140551704823616 deprecation_wrapper.py:119] From /home/leonardo/anaconda3/envs/gpu/lib/python3.7/site-packages/keras/backend/tensorflow_backend.py:74: The name tf.get_default_graph is deprecated. Please use tf.compat.v1.get_default_graph instead.\n",
      "\n",
      "W1121 08:17:46.766660 140551704823616 deprecation_wrapper.py:119] From /home/leonardo/anaconda3/envs/gpu/lib/python3.7/site-packages/keras/backend/tensorflow_backend.py:517: The name tf.placeholder is deprecated. Please use tf.compat.v1.placeholder instead.\n",
      "\n",
      "W1121 08:17:46.795849 140551704823616 deprecation_wrapper.py:119] From /home/leonardo/anaconda3/envs/gpu/lib/python3.7/site-packages/keras/backend/tensorflow_backend.py:4138: The name tf.random_uniform is deprecated. Please use tf.random.uniform instead.\n",
      "\n",
      "W1121 08:17:46.845992 140551704823616 deprecation_wrapper.py:119] From /home/leonardo/anaconda3/envs/gpu/lib/python3.7/site-packages/keras/backend/tensorflow_backend.py:133: The name tf.placeholder_with_default is deprecated. Please use tf.compat.v1.placeholder_with_default instead.\n",
      "\n",
      "W1121 08:17:46.852275 140551704823616 deprecation.py:506] From /home/leonardo/anaconda3/envs/gpu/lib/python3.7/site-packages/keras/backend/tensorflow_backend.py:3445: calling dropout (from tensorflow.python.ops.nn_ops) with keep_prob is deprecated and will be removed in a future version.\n",
      "Instructions for updating:\n",
      "Please use `rate` instead of `keep_prob`. Rate should be set to `rate = 1 - keep_prob`.\n",
      "W1121 08:17:46.902267 140551704823616 deprecation_wrapper.py:119] From /home/leonardo/anaconda3/envs/gpu/lib/python3.7/site-packages/keras/optimizers.py:790: The name tf.train.Optimizer is deprecated. Please use tf.compat.v1.train.Optimizer instead.\n",
      "\n",
      "W1121 08:17:46.915624 140551704823616 deprecation_wrapper.py:119] From /home/leonardo/anaconda3/envs/gpu/lib/python3.7/site-packages/keras/backend/tensorflow_backend.py:3295: The name tf.log is deprecated. Please use tf.math.log instead.\n",
      "\n",
      "W1121 08:17:47.138247 140551704823616 deprecation.py:323] From /home/leonardo/anaconda3/envs/gpu/lib/python3.7/site-packages/tensorflow/python/ops/math_grad.py:1250: add_dispatch_support.<locals>.wrapper (from tensorflow.python.ops.array_ops) is deprecated and will be removed in a future version.\n",
      "Instructions for updating:\n",
      "Use tf.where in 2.0, which has the same broadcast rule as np.where\n"
     ]
    },
    {
     "name": "stdout",
     "output_type": "stream",
     "text": [
      "Train on 10628 samples, validate on 2657 samples\n",
      "Epoch 1/20\n",
      "10628/10628 [==============================] - 57s 5ms/step - loss: 1.2095 - categorical_accuracy: 0.5870 - val_loss: 1.2284 - val_categorical_accuracy: 0.5529\n",
      "Epoch 2/20\n",
      "10628/10628 [==============================] - 42s 4ms/step - loss: 0.3717 - categorical_accuracy: 0.8895 - val_loss: 1.1313 - val_categorical_accuracy: 0.6714\n",
      "Epoch 3/20\n",
      "10628/10628 [==============================] - 42s 4ms/step - loss: 0.0702 - categorical_accuracy: 0.9891 - val_loss: 1.3598 - val_categorical_accuracy: 0.6978\n",
      "Epoch 4/20\n",
      "10628/10628 [==============================] - 42s 4ms/step - loss: 0.0529 - categorical_accuracy: 0.9935 - val_loss: 1.4230 - val_categorical_accuracy: 0.6989\n",
      "Epoch 5/20\n",
      "10628/10628 [==============================] - 42s 4ms/step - loss: 0.0405 - categorical_accuracy: 0.9947 - val_loss: 1.4418 - val_categorical_accuracy: 0.6959\n",
      "Epoch 6/20\n",
      "10628/10628 [==============================] - 42s 4ms/step - loss: 0.0373 - categorical_accuracy: 0.9945 - val_loss: 1.4097 - val_categorical_accuracy: 0.7015\n",
      "Epoch 7/20\n",
      "10628/10628 [==============================] - 42s 4ms/step - loss: 0.0337 - categorical_accuracy: 0.9952 - val_loss: 1.5234 - val_categorical_accuracy: 0.7034\n",
      "Epoch 8/20\n",
      "10628/10628 [==============================] - 42s 4ms/step - loss: 0.0358 - categorical_accuracy: 0.9946 - val_loss: 1.4987 - val_categorical_accuracy: 0.7064\n",
      "Epoch 9/20\n",
      "10628/10628 [==============================] - 42s 4ms/step - loss: 0.0304 - categorical_accuracy: 0.9946 - val_loss: 1.5538 - val_categorical_accuracy: 0.7091\n",
      "Epoch 10/20\n",
      "10628/10628 [==============================] - 42s 4ms/step - loss: 0.0298 - categorical_accuracy: 0.9948 - val_loss: 1.4872 - val_categorical_accuracy: 0.7162\n",
      "Epoch 11/20\n",
      "10628/10628 [==============================] - 42s 4ms/step - loss: 0.0213 - categorical_accuracy: 0.9951 - val_loss: 1.6083 - val_categorical_accuracy: 0.6940\n",
      "Epoch 12/20\n",
      "10628/10628 [==============================] - 42s 4ms/step - loss: 0.0264 - categorical_accuracy: 0.9949 - val_loss: 1.6109 - val_categorical_accuracy: 0.7004\n",
      "Epoch 13/20\n",
      "10628/10628 [==============================] - 42s 4ms/step - loss: 0.0237 - categorical_accuracy: 0.9954 - val_loss: 1.5998 - val_categorical_accuracy: 0.6993\n",
      "Epoch 14/20\n",
      "10628/10628 [==============================] - 42s 4ms/step - loss: 0.0239 - categorical_accuracy: 0.9949 - val_loss: 1.6333 - val_categorical_accuracy: 0.7008\n",
      "Epoch 15/20\n",
      "10628/10628 [==============================] - 42s 4ms/step - loss: 0.0211 - categorical_accuracy: 0.9951 - val_loss: 1.5843 - val_categorical_accuracy: 0.7091\n",
      "Epoch 16/20\n",
      "10628/10628 [==============================] - 42s 4ms/step - loss: 0.0234 - categorical_accuracy: 0.9948 - val_loss: 1.6553 - val_categorical_accuracy: 0.7008\n",
      "Epoch 17/20\n",
      "10628/10628 [==============================] - 42s 4ms/step - loss: 0.0217 - categorical_accuracy: 0.9943 - val_loss: 1.5835 - val_categorical_accuracy: 0.7091\n",
      "Epoch 18/20\n",
      "10628/10628 [==============================] - 42s 4ms/step - loss: 0.0206 - categorical_accuracy: 0.9954 - val_loss: 1.6425 - val_categorical_accuracy: 0.7117\n",
      "Epoch 19/20\n",
      "10628/10628 [==============================] - 42s 4ms/step - loss: 0.0175 - categorical_accuracy: 0.9956 - val_loss: 1.6127 - val_categorical_accuracy: 0.7076\n",
      "Epoch 20/20\n",
      "10628/10628 [==============================] - 42s 4ms/step - loss: 0.0179 - categorical_accuracy: 0.9947 - val_loss: 1.6784 - val_categorical_accuracy: 0.7072\n"
     ]
    }
   ],
   "source": [
    "from keras.models import Sequential\n",
    "from keras.layers import Flatten, Dense, Embedding\n",
    "from keras.layers.core import Dropout\n",
    "\n",
    "model = Sequential()\n",
    "model.add(Embedding(vocabulario, dim_vetor, input_length=x.shape[1]))\n",
    "model.add(Flatten())\n",
    "model.add(Dense(2048, activation='relu'))\n",
    "model.add(Dropout(0.4))\n",
    "model.add(Dense(512, activation='relu'))\n",
    "model.add(Dropout(0.4))\n",
    "model.add(Dense(y.shape[1], activation='softmax'))\n",
    "model.compile(loss='categorical_crossentropy', optimizer='adadelta',  metrics=[\"categorical_accuracy\"])\n",
    "\n",
    "history = model.fit(x, y, epochs=20, batch_size=32, validation_split=0.2, verbose=1, shuffle=True)"
   ]
  },
  {
   "cell_type": "code",
   "execution_count": 14,
   "metadata": {},
   "outputs": [
    {
     "name": "stdout",
     "output_type": "stream",
     "text": [
      "Train on 10628 samples, validate on 2657 samples\n",
      "Epoch 1/20\n",
      "10628/10628 [==============================] - 24s 2ms/step - loss: 1.2178 - categorical_accuracy: 0.5838 - val_loss: 0.9918 - val_categorical_accuracy: 0.6899\n",
      "Epoch 2/20\n",
      "10628/10628 [==============================] - 22s 2ms/step - loss: 0.4143 - categorical_accuracy: 0.8741 - val_loss: 1.0777 - val_categorical_accuracy: 0.6850\n",
      "Epoch 3/20\n",
      "10628/10628 [==============================] - 22s 2ms/step - loss: 0.0811 - categorical_accuracy: 0.9855 - val_loss: 1.3140 - val_categorical_accuracy: 0.6970\n",
      "Epoch 4/20\n",
      "10628/10628 [==============================] - 22s 2ms/step - loss: 0.0579 - categorical_accuracy: 0.9937 - val_loss: 1.4560 - val_categorical_accuracy: 0.6872\n",
      "Epoch 5/20\n",
      "10628/10628 [==============================] - 22s 2ms/step - loss: 0.0503 - categorical_accuracy: 0.9944 - val_loss: 1.4681 - val_categorical_accuracy: 0.6921\n",
      "Epoch 6/20\n",
      "10628/10628 [==============================] - 22s 2ms/step - loss: 0.0412 - categorical_accuracy: 0.9946 - val_loss: 1.5541 - val_categorical_accuracy: 0.7000\n",
      "Epoch 7/20\n",
      "10628/10628 [==============================] - 22s 2ms/step - loss: 0.0391 - categorical_accuracy: 0.9942 - val_loss: 1.5444 - val_categorical_accuracy: 0.7117\n",
      "Epoch 8/20\n",
      "10628/10628 [==============================] - 22s 2ms/step - loss: 0.0367 - categorical_accuracy: 0.9945 - val_loss: 1.5341 - val_categorical_accuracy: 0.7113\n",
      "Epoch 9/20\n",
      "10628/10628 [==============================] - 22s 2ms/step - loss: 0.0327 - categorical_accuracy: 0.9950 - val_loss: 1.5494 - val_categorical_accuracy: 0.7121\n",
      "Epoch 10/20\n",
      "10628/10628 [==============================] - 22s 2ms/step - loss: 0.0321 - categorical_accuracy: 0.9948 - val_loss: 1.5237 - val_categorical_accuracy: 0.7158\n",
      "Epoch 11/20\n",
      "10628/10628 [==============================] - 22s 2ms/step - loss: 0.0288 - categorical_accuracy: 0.9945 - val_loss: 1.4714 - val_categorical_accuracy: 0.7219\n",
      "Epoch 12/20\n",
      "10628/10628 [==============================] - 22s 2ms/step - loss: 0.0244 - categorical_accuracy: 0.9951 - val_loss: 1.5742 - val_categorical_accuracy: 0.7053\n",
      "Epoch 13/20\n",
      "10628/10628 [==============================] - 22s 2ms/step - loss: 0.0288 - categorical_accuracy: 0.9950 - val_loss: 1.5257 - val_categorical_accuracy: 0.7166\n",
      "Epoch 14/20\n",
      "10628/10628 [==============================] - 22s 2ms/step - loss: 0.0225 - categorical_accuracy: 0.9949 - val_loss: 1.5718 - val_categorical_accuracy: 0.7125\n",
      "Epoch 15/20\n",
      "10628/10628 [==============================] - 22s 2ms/step - loss: 0.0229 - categorical_accuracy: 0.9949 - val_loss: 1.6063 - val_categorical_accuracy: 0.7046\n",
      "Epoch 16/20\n",
      "10628/10628 [==============================] - 22s 2ms/step - loss: 0.0217 - categorical_accuracy: 0.9948 - val_loss: 1.6562 - val_categorical_accuracy: 0.7098\n",
      "Epoch 17/20\n",
      "10628/10628 [==============================] - 22s 2ms/step - loss: 0.0225 - categorical_accuracy: 0.9955 - val_loss: 1.6238 - val_categorical_accuracy: 0.7053\n",
      "Epoch 18/20\n",
      "10628/10628 [==============================] - 22s 2ms/step - loss: 0.0214 - categorical_accuracy: 0.9950 - val_loss: 1.5972 - val_categorical_accuracy: 0.7162\n",
      "Epoch 19/20\n",
      "10628/10628 [==============================] - 22s 2ms/step - loss: 0.0222 - categorical_accuracy: 0.9951 - val_loss: 1.6055 - val_categorical_accuracy: 0.7200\n",
      "Epoch 20/20\n",
      "10628/10628 [==============================] - 22s 2ms/step - loss: 0.0205 - categorical_accuracy: 0.9953 - val_loss: 1.6019 - val_categorical_accuracy: 0.7158\n"
     ]
    }
   ],
   "source": [
    "model = Sequential()\n",
    "model.add(Embedding(vocabulario, dim_vetor, input_length=x.shape[1]))\n",
    "model.add(Flatten())\n",
    "model.add(Dense(1024, activation='relu'))\n",
    "model.add(Dropout(0.4))\n",
    "model.add(Dense(512, activation='relu'))\n",
    "model.add(Dropout(0.4))\n",
    "model.add(Dense(y.shape[1], activation='softmax'))\n",
    "model.compile(loss='categorical_crossentropy', optimizer='adadelta',  metrics=[\"categorical_accuracy\"])\n",
    "\n",
    "history = model.fit(x, y, epochs=20, batch_size=32, validation_split=0.2, verbose=1, shuffle=True)"
   ]
  },
  {
   "cell_type": "code",
   "execution_count": 15,
   "metadata": {},
   "outputs": [
    {
     "name": "stdout",
     "output_type": "stream",
     "text": [
      "Train on 10628 samples, validate on 2657 samples\n",
      "Epoch 1/20\n",
      "10628/10628 [==============================] - 23s 2ms/step - loss: 1.2540 - categorical_accuracy: 0.5739 - val_loss: 1.2261 - val_categorical_accuracy: 0.5743\n",
      "Epoch 2/20\n",
      "10628/10628 [==============================] - 22s 2ms/step - loss: 0.4316 - categorical_accuracy: 0.8691 - val_loss: 1.0657 - val_categorical_accuracy: 0.7015\n",
      "Epoch 3/20\n",
      "10628/10628 [==============================] - 22s 2ms/step - loss: 0.0921 - categorical_accuracy: 0.9814 - val_loss: 1.3899 - val_categorical_accuracy: 0.6948\n",
      "Epoch 4/20\n",
      "10628/10628 [==============================] - 22s 2ms/step - loss: 0.0483 - categorical_accuracy: 0.9939 - val_loss: 1.4154 - val_categorical_accuracy: 0.6970\n",
      "Epoch 5/20\n",
      "10628/10628 [==============================] - 22s 2ms/step - loss: 0.0392 - categorical_accuracy: 0.9944 - val_loss: 1.4939 - val_categorical_accuracy: 0.7106\n",
      "Epoch 6/20\n",
      "10628/10628 [==============================] - 22s 2ms/step - loss: 0.0388 - categorical_accuracy: 0.9936 - val_loss: 1.5316 - val_categorical_accuracy: 0.7143\n",
      "Epoch 7/20\n",
      "10628/10628 [==============================] - 22s 2ms/step - loss: 0.0314 - categorical_accuracy: 0.9947 - val_loss: 1.5414 - val_categorical_accuracy: 0.7189\n",
      "Epoch 8/20\n",
      "10628/10628 [==============================] - 22s 2ms/step - loss: 0.0301 - categorical_accuracy: 0.9947 - val_loss: 1.6466 - val_categorical_accuracy: 0.7034\n",
      "Epoch 9/20\n",
      "10628/10628 [==============================] - 22s 2ms/step - loss: 0.0331 - categorical_accuracy: 0.9940 - val_loss: 1.5646 - val_categorical_accuracy: 0.7162\n",
      "Epoch 10/20\n",
      "10628/10628 [==============================] - 22s 2ms/step - loss: 0.0250 - categorical_accuracy: 0.9948 - val_loss: 1.5946 - val_categorical_accuracy: 0.7196\n",
      "Epoch 11/20\n",
      "10628/10628 [==============================] - 22s 2ms/step - loss: 0.0309 - categorical_accuracy: 0.9943 - val_loss: 1.5882 - val_categorical_accuracy: 0.7174\n",
      "Epoch 12/20\n",
      "10628/10628 [==============================] - 22s 2ms/step - loss: 0.0207 - categorical_accuracy: 0.9955 - val_loss: 1.6851 - val_categorical_accuracy: 0.7046\n",
      "Epoch 13/20\n",
      "10628/10628 [==============================] - 22s 2ms/step - loss: 0.0213 - categorical_accuracy: 0.9953 - val_loss: 1.6461 - val_categorical_accuracy: 0.7189\n",
      "Epoch 14/20\n",
      "10628/10628 [==============================] - 22s 2ms/step - loss: 0.0253 - categorical_accuracy: 0.9946 - val_loss: 1.6179 - val_categorical_accuracy: 0.7245\n",
      "Epoch 15/20\n",
      "10628/10628 [==============================] - 22s 2ms/step - loss: 0.0221 - categorical_accuracy: 0.9953 - val_loss: 1.6576 - val_categorical_accuracy: 0.7174\n",
      "Epoch 16/20\n",
      "10628/10628 [==============================] - 22s 2ms/step - loss: 0.0194 - categorical_accuracy: 0.9954 - val_loss: 1.6704 - val_categorical_accuracy: 0.7219\n",
      "Epoch 17/20\n",
      "10628/10628 [==============================] - 22s 2ms/step - loss: 0.0199 - categorical_accuracy: 0.9951 - val_loss: 1.6807 - val_categorical_accuracy: 0.7155\n",
      "Epoch 18/20\n",
      "10628/10628 [==============================] - 22s 2ms/step - loss: 0.0207 - categorical_accuracy: 0.9946 - val_loss: 1.6671 - val_categorical_accuracy: 0.7117\n",
      "Epoch 19/20\n",
      "10628/10628 [==============================] - 22s 2ms/step - loss: 0.0174 - categorical_accuracy: 0.9949 - val_loss: 1.6575 - val_categorical_accuracy: 0.7279\n",
      "Epoch 20/20\n",
      "10628/10628 [==============================] - 22s 2ms/step - loss: 0.0178 - categorical_accuracy: 0.9946 - val_loss: 1.6584 - val_categorical_accuracy: 0.7222\n"
     ]
    }
   ],
   "source": [
    "model = Sequential()\n",
    "model.add(Embedding(vocabulario, dim_vetor, input_length=x.shape[1]))\n",
    "model.add(Flatten())\n",
    "model.add(Dense(1024, activation='relu'))\n",
    "model.add(Dropout(0.4))\n",
    "model.add(Dense(256, activation='relu'))\n",
    "model.add(Dropout(0.4))\n",
    "model.add(Dense(y.shape[1], activation='softmax'))\n",
    "model.compile(loss='categorical_crossentropy', optimizer='adadelta',  metrics=[\"categorical_accuracy\"])\n",
    "\n",
    "history = model.fit(x, y, epochs=20, batch_size=32, validation_split=0.2, verbose=1, shuffle=True)"
   ]
  },
  {
   "cell_type": "code",
   "execution_count": 16,
   "metadata": {},
   "outputs": [
    {
     "name": "stdout",
     "output_type": "stream",
     "text": [
      "Train on 10628 samples, validate on 2657 samples\n",
      "Epoch 1/20\n",
      "10628/10628 [==============================] - 13s 1ms/step - loss: 1.2655 - categorical_accuracy: 0.5689 - val_loss: 0.9818 - val_categorical_accuracy: 0.6850\n",
      "Epoch 2/20\n",
      "10628/10628 [==============================] - 12s 1ms/step - loss: 0.4720 - categorical_accuracy: 0.8557 - val_loss: 1.1743 - val_categorical_accuracy: 0.6466\n",
      "Epoch 3/20\n",
      "10628/10628 [==============================] - 12s 1ms/step - loss: 0.1068 - categorical_accuracy: 0.9766 - val_loss: 1.3373 - val_categorical_accuracy: 0.6711\n",
      "Epoch 4/20\n",
      "10628/10628 [==============================] - 12s 1ms/step - loss: 0.0517 - categorical_accuracy: 0.9922 - val_loss: 1.4269 - val_categorical_accuracy: 0.7012\n",
      "Epoch 5/20\n",
      "10628/10628 [==============================] - 12s 1ms/step - loss: 0.0433 - categorical_accuracy: 0.9944 - val_loss: 1.4721 - val_categorical_accuracy: 0.7012\n",
      "Epoch 6/20\n",
      "10628/10628 [==============================] - 12s 1ms/step - loss: 0.0403 - categorical_accuracy: 0.9938 - val_loss: 1.6107 - val_categorical_accuracy: 0.6910\n",
      "Epoch 7/20\n",
      "10628/10628 [==============================] - 12s 1ms/step - loss: 0.0333 - categorical_accuracy: 0.9944 - val_loss: 1.5857 - val_categorical_accuracy: 0.7072\n",
      "Epoch 8/20\n",
      "10628/10628 [==============================] - 12s 1ms/step - loss: 0.0311 - categorical_accuracy: 0.9954 - val_loss: 1.6648 - val_categorical_accuracy: 0.6978\n",
      "Epoch 9/20\n",
      "10628/10628 [==============================] - 12s 1ms/step - loss: 0.0333 - categorical_accuracy: 0.9944 - val_loss: 1.6621 - val_categorical_accuracy: 0.7042\n",
      "Epoch 10/20\n",
      "10628/10628 [==============================] - 12s 1ms/step - loss: 0.0326 - categorical_accuracy: 0.9940 - val_loss: 1.6678 - val_categorical_accuracy: 0.6982\n",
      "Epoch 11/20\n",
      "10628/10628 [==============================] - 12s 1ms/step - loss: 0.0263 - categorical_accuracy: 0.9955 - val_loss: 1.6998 - val_categorical_accuracy: 0.7019\n",
      "Epoch 12/20\n",
      "10628/10628 [==============================] - 12s 1ms/step - loss: 0.0303 - categorical_accuracy: 0.9944 - val_loss: 1.6641 - val_categorical_accuracy: 0.6997\n",
      "Epoch 13/20\n",
      "10628/10628 [==============================] - 12s 1ms/step - loss: 0.0208 - categorical_accuracy: 0.9957 - val_loss: 1.7109 - val_categorical_accuracy: 0.6955\n",
      "Epoch 14/20\n",
      "10628/10628 [==============================] - 12s 1ms/step - loss: 0.0272 - categorical_accuracy: 0.9946 - val_loss: 1.6482 - val_categorical_accuracy: 0.7083\n",
      "Epoch 15/20\n",
      "10628/10628 [==============================] - 12s 1ms/step - loss: 0.0239 - categorical_accuracy: 0.9951 - val_loss: 1.6681 - val_categorical_accuracy: 0.7170\n",
      "Epoch 16/20\n",
      "10628/10628 [==============================] - 12s 1ms/step - loss: 0.0218 - categorical_accuracy: 0.9950 - val_loss: 1.7317 - val_categorical_accuracy: 0.7057\n",
      "Epoch 17/20\n",
      "10628/10628 [==============================] - 12s 1ms/step - loss: 0.0241 - categorical_accuracy: 0.9947 - val_loss: 1.7380 - val_categorical_accuracy: 0.6963\n",
      "Epoch 18/20\n",
      "10628/10628 [==============================] - 12s 1ms/step - loss: 0.0199 - categorical_accuracy: 0.9954 - val_loss: 1.7127 - val_categorical_accuracy: 0.7128\n",
      "Epoch 19/20\n",
      "10628/10628 [==============================] - 12s 1ms/step - loss: 0.0245 - categorical_accuracy: 0.9945 - val_loss: 1.6782 - val_categorical_accuracy: 0.7094\n",
      "Epoch 20/20\n",
      "10628/10628 [==============================] - 12s 1ms/step - loss: 0.0215 - categorical_accuracy: 0.9952 - val_loss: 1.8044 - val_categorical_accuracy: 0.6835\n"
     ]
    }
   ],
   "source": [
    "model = Sequential()\n",
    "model.add(Embedding(vocabulario, dim_vetor, input_length=x.shape[1]))\n",
    "model.add(Flatten())\n",
    "model.add(Dense(512, activation='relu'))\n",
    "model.add(Dropout(0.4))\n",
    "model.add(Dense(256, activation='relu'))\n",
    "model.add(Dropout(0.4))\n",
    "model.add(Dense(y.shape[1], activation='softmax'))\n",
    "model.compile(loss='categorical_crossentropy', optimizer='adadelta',  metrics=[\"categorical_accuracy\"])\n",
    "\n",
    "history = model.fit(x, y, epochs=20, batch_size=32, validation_split=0.2, verbose=1, shuffle=True)"
   ]
  },
  {
   "cell_type": "code",
   "execution_count": 17,
   "metadata": {},
   "outputs": [
    {
     "name": "stdout",
     "output_type": "stream",
     "text": [
      "Train on 10628 samples, validate on 2657 samples\n",
      "Epoch 1/20\n",
      "10628/10628 [==============================] - 13s 1ms/step - loss: 1.2829 - categorical_accuracy: 0.5578 - val_loss: 1.0164 - val_categorical_accuracy: 0.6628\n",
      "Epoch 2/20\n",
      "10628/10628 [==============================] - 12s 1ms/step - loss: 0.4816 - categorical_accuracy: 0.8555 - val_loss: 1.0343 - val_categorical_accuracy: 0.6820\n",
      "Epoch 3/20\n",
      "10628/10628 [==============================] - 12s 1ms/step - loss: 0.1278 - categorical_accuracy: 0.9684 - val_loss: 1.2562 - val_categorical_accuracy: 0.6887\n",
      "Epoch 4/20\n",
      "10628/10628 [==============================] - 12s 1ms/step - loss: 0.0608 - categorical_accuracy: 0.9903 - val_loss: 1.4355 - val_categorical_accuracy: 0.6985\n",
      "Epoch 5/20\n",
      "10628/10628 [==============================] - 12s 1ms/step - loss: 0.0453 - categorical_accuracy: 0.9935 - val_loss: 1.5223 - val_categorical_accuracy: 0.7012\n",
      "Epoch 6/20\n",
      "10628/10628 [==============================] - 12s 1ms/step - loss: 0.0400 - categorical_accuracy: 0.9944 - val_loss: 1.5815 - val_categorical_accuracy: 0.6842\n",
      "Epoch 7/20\n",
      "10628/10628 [==============================] - 12s 1ms/step - loss: 0.0321 - categorical_accuracy: 0.9945 - val_loss: 1.6334 - val_categorical_accuracy: 0.6899\n",
      "Epoch 8/20\n",
      "10628/10628 [==============================] - 12s 1ms/step - loss: 0.0350 - categorical_accuracy: 0.9947 - val_loss: 1.6547 - val_categorical_accuracy: 0.6967\n",
      "Epoch 9/20\n",
      "10628/10628 [==============================] - 12s 1ms/step - loss: 0.0271 - categorical_accuracy: 0.9947 - val_loss: 1.7423 - val_categorical_accuracy: 0.6918\n",
      "Epoch 10/20\n",
      "10628/10628 [==============================] - 12s 1ms/step - loss: 0.0280 - categorical_accuracy: 0.9952 - val_loss: 1.7476 - val_categorical_accuracy: 0.6955\n",
      "Epoch 11/20\n",
      "10628/10628 [==============================] - 12s 1ms/step - loss: 0.0299 - categorical_accuracy: 0.9954 - val_loss: 1.7524 - val_categorical_accuracy: 0.6887\n",
      "Epoch 12/20\n",
      "10628/10628 [==============================] - 12s 1ms/step - loss: 0.0269 - categorical_accuracy: 0.9946 - val_loss: 1.8387 - val_categorical_accuracy: 0.6906\n",
      "Epoch 13/20\n",
      "10628/10628 [==============================] - 12s 1ms/step - loss: 0.0281 - categorical_accuracy: 0.9950 - val_loss: 1.7457 - val_categorical_accuracy: 0.7113\n",
      "Epoch 14/20\n",
      "10628/10628 [==============================] - 12s 1ms/step - loss: 0.0227 - categorical_accuracy: 0.9953 - val_loss: 1.7985 - val_categorical_accuracy: 0.7000\n",
      "Epoch 15/20\n",
      "10628/10628 [==============================] - 12s 1ms/step - loss: 0.0188 - categorical_accuracy: 0.9955 - val_loss: 1.7519 - val_categorical_accuracy: 0.7110\n",
      "Epoch 16/20\n",
      "10628/10628 [==============================] - 12s 1ms/step - loss: 0.0250 - categorical_accuracy: 0.9946 - val_loss: 1.7464 - val_categorical_accuracy: 0.7042\n",
      "Epoch 17/20\n",
      "10628/10628 [==============================] - 12s 1ms/step - loss: 0.0235 - categorical_accuracy: 0.9946 - val_loss: 1.7279 - val_categorical_accuracy: 0.7053\n",
      "Epoch 18/20\n",
      "10628/10628 [==============================] - 12s 1ms/step - loss: 0.0226 - categorical_accuracy: 0.9949 - val_loss: 1.7204 - val_categorical_accuracy: 0.7087\n",
      "Epoch 19/20\n",
      "10628/10628 [==============================] - 12s 1ms/step - loss: 0.0158 - categorical_accuracy: 0.9956 - val_loss: 1.8122 - val_categorical_accuracy: 0.7091\n",
      "Epoch 20/20\n",
      "10628/10628 [==============================] - 12s 1ms/step - loss: 0.0168 - categorical_accuracy: 0.9955 - val_loss: 1.8487 - val_categorical_accuracy: 0.7057\n"
     ]
    }
   ],
   "source": [
    "model = Sequential()\n",
    "model.add(Embedding(vocabulario, dim_vetor, input_length=x.shape[1]))\n",
    "model.add(Flatten())\n",
    "model.add(Dense(512, activation='relu'))\n",
    "model.add(Dropout(0.4))\n",
    "model.add(Dense(128, activation='relu'))\n",
    "model.add(Dropout(0.4))\n",
    "model.add(Dense(y.shape[1], activation='softmax'))\n",
    "model.compile(loss='categorical_crossentropy', optimizer='adadelta',  metrics=[\"categorical_accuracy\"])\n",
    "\n",
    "history = model.fit(x, y, epochs=20, batch_size=32, validation_split=0.2, verbose=1, shuffle=True)"
   ]
  },
  {
   "cell_type": "code",
   "execution_count": null,
   "metadata": {},
   "outputs": [],
   "source": []
  }
 ],
 "metadata": {
  "kernelspec": {
   "display_name": "Python 3",
   "language": "python",
   "name": "python3"
  },
  "language_info": {
   "codemirror_mode": {
    "name": "ipython",
    "version": 3
   },
   "file_extension": ".py",
   "mimetype": "text/x-python",
   "name": "python",
   "nbconvert_exporter": "python",
   "pygments_lexer": "ipython3",
   "version": "3.7.4"
  }
 },
 "nbformat": 4,
 "nbformat_minor": 2
}
