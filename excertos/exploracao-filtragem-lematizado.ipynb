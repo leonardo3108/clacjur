{
 "cells": [
  {
   "cell_type": "code",
   "execution_count": 1,
   "metadata": {},
   "outputs": [
    {
     "data": {
      "text/html": [
       "<div>\n",
       "<style scoped>\n",
       "    .dataframe tbody tr th:only-of-type {\n",
       "        vertical-align: middle;\n",
       "    }\n",
       "\n",
       "    .dataframe tbody tr th {\n",
       "        vertical-align: top;\n",
       "    }\n",
       "\n",
       "    .dataframe thead th {\n",
       "        text-align: right;\n",
       "    }\n",
       "</style>\n",
       "<table border=\"1\" class=\"dataframe\">\n",
       "  <thead>\n",
       "    <tr style=\"text-align: right;\">\n",
       "      <th></th>\n",
       "      <th>COD</th>\n",
       "      <th>DESCR_AREA</th>\n",
       "      <th>EXCERTO_LEMATIZADO</th>\n",
       "    </tr>\n",
       "  </thead>\n",
       "  <tbody>\n",
       "    <tr>\n",
       "      <th>0</th>\n",
       "      <td>1400</td>\n",
       "      <td>Responsabilidade</td>\n",
       "      <td>voto : cuidar o auto de tomada de conta especi...</td>\n",
       "    </tr>\n",
       "    <tr>\n",
       "      <th>1</th>\n",
       "      <td>1700</td>\n",
       "      <td>Finanças Públicas</td>\n",
       "      <td>voto : cuidar o auto de solicitação de o congr...</td>\n",
       "    </tr>\n",
       "    <tr>\n",
       "      <th>2</th>\n",
       "      <td>5700</td>\n",
       "      <td>Responsabilidade</td>\n",
       "      <td>relatório : tratar se de embargo de declaração...</td>\n",
       "    </tr>\n",
       "    <tr>\n",
       "      <th>3</th>\n",
       "      <td>284</td>\n",
       "      <td>Direito Processual</td>\n",
       "      <td>voto : XXSECAO em relação a outro processo jud...</td>\n",
       "    </tr>\n",
       "    <tr>\n",
       "      <th>4</th>\n",
       "      <td>298</td>\n",
       "      <td>Pessoal</td>\n",
       "      <td>voto : XXSECAO relativo a o ato envolver o sen...</td>\n",
       "    </tr>\n",
       "  </tbody>\n",
       "</table>\n",
       "</div>"
      ],
      "text/plain": [
       "    COD          DESCR_AREA                                 EXCERTO_LEMATIZADO\n",
       "0  1400    Responsabilidade  voto : cuidar o auto de tomada de conta especi...\n",
       "1  1700   Finanças Públicas  voto : cuidar o auto de solicitação de o congr...\n",
       "2  5700    Responsabilidade  relatório : tratar se de embargo de declaração...\n",
       "3   284  Direito Processual  voto : XXSECAO em relação a outro processo jud...\n",
       "4   298             Pessoal  voto : XXSECAO relativo a o ato envolver o sen..."
      ]
     },
     "execution_count": 1,
     "metadata": {},
     "output_type": "execute_result"
    }
   ],
   "source": [
    "import pandas as pd\n",
    "\n",
    "df = pd.read_csv('../dados/excertos_lematizados.csv', sep = '|')\n",
    "df.head()"
   ]
  },
  {
   "cell_type": "code",
   "execution_count": 2,
   "metadata": {},
   "outputs": [],
   "source": [
    "textos = df['EXCERTO_LEMATIZADO'].values"
   ]
  },
  {
   "cell_type": "code",
   "execution_count": 95,
   "metadata": {},
   "outputs": [
    {
     "name": "stdout",
     "output_type": "stream",
     "text": [
      "26825\n"
     ]
    }
   ],
   "source": [
    "from sklearn.feature_extraction.text import TfidfVectorizer\n",
    "vetorizador = TfidfVectorizer(token_pattern=r'\\S+')\n",
    "vetorizador.fit(textos)\n",
    "print(len(vetorizador.vocabulary_))"
   ]
  },
  {
   "cell_type": "code",
   "execution_count": 142,
   "metadata": {},
   "outputs": [],
   "source": [
    "matriz = vetorizador.transform(textos)\n",
    "matriz[0]"
   ]
  },
  {
   "cell_type": "code",
   "execution_count": 1,
   "metadata": {},
   "outputs": [
    {
     "ename": "NameError",
     "evalue": "name 'vetorizador' is not defined",
     "output_type": "error",
     "traceback": [
      "\u001b[0;31m---------------------------------------------------------------------------\u001b[0m",
      "\u001b[0;31mNameError\u001b[0m                                 Traceback (most recent call last)",
      "\u001b[0;32m<ipython-input-1-9b4b3583c3f1>\u001b[0m in \u001b[0;36m<module>\u001b[0;34m\u001b[0m\n\u001b[0;32m----> 1\u001b[0;31m \u001b[0mvetorizador\u001b[0m\u001b[0;34m.\u001b[0m\u001b[0mget_feature_names\u001b[0m\u001b[0;34m(\u001b[0m\u001b[0;34m)\u001b[0m\u001b[0;34m[\u001b[0m\u001b[0;34m:\u001b[0m\u001b[0;36m50\u001b[0m\u001b[0;34m]\u001b[0m\u001b[0;34m\u001b[0m\u001b[0;34m\u001b[0m\u001b[0m\n\u001b[0m",
      "\u001b[0;31mNameError\u001b[0m: name 'vetorizador' is not defined"
     ]
    }
   ],
   "source": [
    "vetorizador.get_feature_names()[:50]"
   ]
  },
  {
   "cell_type": "code",
   "execution_count": 125,
   "metadata": {},
   "outputs": [
    {
     "name": "stdout",
     "output_type": "stream",
     "text": [
      "0 *** 9.80131894766524 10\n",
      "1 + 9.80131894766524 11\n",
      "2 ; 9.80131894766524 18\n",
      "3 < 9.80131894766524 19\n",
      "4 > 9.80131894766524 23\n",
      "5 [ 9.80131894766524 25\n",
      "6 [sobrenome 9.80131894766524 31\n",
      "7 [voto 9.80131894766524 33\n",
      "8 \\ 9.80131894766524 34\n",
      "9 \\pxxnumero 9.80131894766524 35\n",
      "10 ] 9.80131894766524 36\n",
      "11 ]a 9.80131894766524 37\n",
      "12 ]acerca 9.80131894766524 38\n",
      "13 ]acolho 9.80131894766524 39\n",
      "14 ]acordam 9.80131894766524 40\n",
      "15 ]ao 9.80131894766524 43\n",
      "16 ]atende 9.80131894766524 46\n",
      "17 ]com 9.80131894766524 48\n",
      "18 ]conforme 9.80131894766524 49\n",
      "19 ]contratoxxnumeracaoxxsalto 9.80131894766524 50\n"
     ]
    }
   ],
   "source": [
    "idfs = np.asarray(vetorizador.idf_)\n",
    "ja_foi = []\n",
    "i = 0\n",
    "while (i < 20):\n",
    "    valor = idfs.max()\n",
    "    indice = idfs.argmax()\n",
    "    idfs = np.delete(idfs, indice)\n",
    "    word = vetorizador.get_feature_names()[indice]\n",
    "    if word not in ja_foi:\n",
    "        print (i, word, valor, indice)\n",
    "        ja_foi.append(word)\n",
    "        i += 1"
   ]
  },
  {
   "cell_type": "code",
   "execution_count": 126,
   "metadata": {
    "scrolled": true
   },
   "outputs": [
    {
     "name": "stdout",
     "output_type": "stream",
     "text": [
      "0 de 1.0 6675\n",
      "1 núpcias 1.0 17211\n",
      "2 , 1.0002258270926832 13\n",
      "3 elástico 1.0015064781396852 8801\n",
      "4 / 1.0018834525475875 16\n",
      "5 ]xxsalto 1.0051313121947882 99\n",
      "6 quasexxnumeracao 1.0071002639857516 20190\n",
      "7 - 1.0160088392920628 14\n",
      "8 dória 1.0228389951567545 8453\n",
      "9 pontão 1.0318118276350141 19025\n",
      "10 acódão 1.0481054671211147 422\n",
      "11 sepúlveda 1.0574683856349976 22492\n",
      "12 nºsxxnumeracaoc 1.078738926524053 17184\n",
      "13 xxquantia 1.0805320641795095 26519\n",
      "14 panthéon 1.0921839560780586 17909\n",
      "15 sd 1.0939187051810588 22116\n",
      "16 coluviais 1.0983103102007934 4740\n",
      "17 . 1.1045579876516702 15\n",
      "18 volume 1.1479354017987382 25776\n",
      "19 xxpercentualestende 1.1501194764012699 26508\n"
     ]
    }
   ],
   "source": [
    "idfs = np.asarray(vetorizador.idf_)\n",
    "ja_foi = []\n",
    "i = 0\n",
    "while (i < 20):\n",
    "    valor = idfs.min()\n",
    "    indice = idfs.argmin()\n",
    "    idfs = np.delete(idfs, indice)\n",
    "    word = vetorizador.get_feature_names()[indice]\n",
    "    if word not in ja_foi:\n",
    "        print (i, word, valor, indice)\n",
    "        ja_foi.append(word)\n",
    "        i += 1"
   ]
  },
  {
   "cell_type": "code",
   "execution_count": 98,
   "metadata": {},
   "outputs": [
    {
     "data": {
      "text/plain": [
       "(13285, 26825)"
      ]
     },
     "execution_count": 98,
     "metadata": {},
     "output_type": "execute_result"
    }
   ],
   "source": [
    "matriz_densa = matriz.todense()\n",
    "matriz_densa.shape"
   ]
  },
  {
   "cell_type": "code",
   "execution_count": 99,
   "metadata": {},
   "outputs": [
    {
     "data": {
      "text/plain": [
       "matrix([[0., 0., 0., ..., 0., 0., 0.]])"
      ]
     },
     "execution_count": 99,
     "metadata": {},
     "output_type": "execute_result"
    }
   ],
   "source": [
    "matriz_densa[0]"
   ]
  },
  {
   "cell_type": "code",
   "execution_count": 100,
   "metadata": {},
   "outputs": [
    {
     "data": {
      "text/plain": [
       "(13285, 26825)"
      ]
     },
     "execution_count": 100,
     "metadata": {},
     "output_type": "execute_result"
    }
   ],
   "source": [
    "df_termos = pd.DataFrame(matriz_densa, columns = vetorizador.get_feature_names(), index = df.index)\n",
    "df_termos.shape"
   ]
  },
  {
   "cell_type": "code",
   "execution_count": 101,
   "metadata": {},
   "outputs": [
    {
     "data": {
      "text/html": [
       "<div>\n",
       "<style scoped>\n",
       "    .dataframe tbody tr th:only-of-type {\n",
       "        vertical-align: middle;\n",
       "    }\n",
       "\n",
       "    .dataframe tbody tr th {\n",
       "        vertical-align: top;\n",
       "    }\n",
       "\n",
       "    .dataframe thead th {\n",
       "        text-align: right;\n",
       "    }\n",
       "</style>\n",
       "<table border=\"1\" class=\"dataframe\">\n",
       "  <thead>\n",
       "    <tr style=\"text-align: right;\">\n",
       "      <th></th>\n",
       "      <th>!</th>\n",
       "      <th>$</th>\n",
       "      <th>$xxnumero</th>\n",
       "      <th>%</th>\n",
       "      <th>&amp;</th>\n",
       "      <th>'</th>\n",
       "      <th>(</th>\n",
       "      <th>)</th>\n",
       "      <th>*</th>\n",
       "      <th>**</th>\n",
       "      <th>...</th>\n",
       "      <th>ø</th>\n",
       "      <th>último</th>\n",
       "      <th>úmida</th>\n",
       "      <th>único</th>\n",
       "      <th>únicosecretaria</th>\n",
       "      <th>únicoxxnumero</th>\n",
       "      <th>útil</th>\n",
       "      <th>—</th>\n",
       "      <th>—embora</th>\n",
       "      <th>•</th>\n",
       "    </tr>\n",
       "  </thead>\n",
       "  <tbody>\n",
       "    <tr>\n",
       "      <th>0</th>\n",
       "      <td>0.0</td>\n",
       "      <td>0.0</td>\n",
       "      <td>0.0</td>\n",
       "      <td>0.0</td>\n",
       "      <td>0.0</td>\n",
       "      <td>0.0</td>\n",
       "      <td>0.000000</td>\n",
       "      <td>0.000000</td>\n",
       "      <td>0.0</td>\n",
       "      <td>0.0</td>\n",
       "      <td>...</td>\n",
       "      <td>0.0</td>\n",
       "      <td>0.000000</td>\n",
       "      <td>0.0</td>\n",
       "      <td>0.0</td>\n",
       "      <td>0.0</td>\n",
       "      <td>0.0</td>\n",
       "      <td>0.0</td>\n",
       "      <td>0.0</td>\n",
       "      <td>0.0</td>\n",
       "      <td>0.0</td>\n",
       "    </tr>\n",
       "    <tr>\n",
       "      <th>1</th>\n",
       "      <td>0.0</td>\n",
       "      <td>0.0</td>\n",
       "      <td>0.0</td>\n",
       "      <td>0.0</td>\n",
       "      <td>0.0</td>\n",
       "      <td>0.0</td>\n",
       "      <td>0.010582</td>\n",
       "      <td>0.010372</td>\n",
       "      <td>0.0</td>\n",
       "      <td>0.0</td>\n",
       "      <td>...</td>\n",
       "      <td>0.0</td>\n",
       "      <td>0.000000</td>\n",
       "      <td>0.0</td>\n",
       "      <td>0.0</td>\n",
       "      <td>0.0</td>\n",
       "      <td>0.0</td>\n",
       "      <td>0.0</td>\n",
       "      <td>0.0</td>\n",
       "      <td>0.0</td>\n",
       "      <td>0.0</td>\n",
       "    </tr>\n",
       "    <tr>\n",
       "      <th>2</th>\n",
       "      <td>0.0</td>\n",
       "      <td>0.0</td>\n",
       "      <td>0.0</td>\n",
       "      <td>0.0</td>\n",
       "      <td>0.0</td>\n",
       "      <td>0.0</td>\n",
       "      <td>0.055768</td>\n",
       "      <td>0.054658</td>\n",
       "      <td>0.0</td>\n",
       "      <td>0.0</td>\n",
       "      <td>...</td>\n",
       "      <td>0.0</td>\n",
       "      <td>0.000000</td>\n",
       "      <td>0.0</td>\n",
       "      <td>0.0</td>\n",
       "      <td>0.0</td>\n",
       "      <td>0.0</td>\n",
       "      <td>0.0</td>\n",
       "      <td>0.0</td>\n",
       "      <td>0.0</td>\n",
       "      <td>0.0</td>\n",
       "    </tr>\n",
       "    <tr>\n",
       "      <th>3</th>\n",
       "      <td>0.0</td>\n",
       "      <td>0.0</td>\n",
       "      <td>0.0</td>\n",
       "      <td>0.0</td>\n",
       "      <td>0.0</td>\n",
       "      <td>0.0</td>\n",
       "      <td>0.086665</td>\n",
       "      <td>0.084940</td>\n",
       "      <td>0.0</td>\n",
       "      <td>0.0</td>\n",
       "      <td>...</td>\n",
       "      <td>0.0</td>\n",
       "      <td>0.055068</td>\n",
       "      <td>0.0</td>\n",
       "      <td>0.0</td>\n",
       "      <td>0.0</td>\n",
       "      <td>0.0</td>\n",
       "      <td>0.0</td>\n",
       "      <td>0.0</td>\n",
       "      <td>0.0</td>\n",
       "      <td>0.0</td>\n",
       "    </tr>\n",
       "    <tr>\n",
       "      <th>4</th>\n",
       "      <td>0.0</td>\n",
       "      <td>0.0</td>\n",
       "      <td>0.0</td>\n",
       "      <td>0.0</td>\n",
       "      <td>0.0</td>\n",
       "      <td>0.0</td>\n",
       "      <td>0.053935</td>\n",
       "      <td>0.052861</td>\n",
       "      <td>0.0</td>\n",
       "      <td>0.0</td>\n",
       "      <td>...</td>\n",
       "      <td>0.0</td>\n",
       "      <td>0.000000</td>\n",
       "      <td>0.0</td>\n",
       "      <td>0.0</td>\n",
       "      <td>0.0</td>\n",
       "      <td>0.0</td>\n",
       "      <td>0.0</td>\n",
       "      <td>0.0</td>\n",
       "      <td>0.0</td>\n",
       "      <td>0.0</td>\n",
       "    </tr>\n",
       "  </tbody>\n",
       "</table>\n",
       "<p>5 rows × 26825 columns</p>\n",
       "</div>"
      ],
      "text/plain": [
       "     !    $  $xxnumero    %    &    '         (         )    *   **  ...    ø  \\\n",
       "0  0.0  0.0        0.0  0.0  0.0  0.0  0.000000  0.000000  0.0  0.0  ...  0.0   \n",
       "1  0.0  0.0        0.0  0.0  0.0  0.0  0.010582  0.010372  0.0  0.0  ...  0.0   \n",
       "2  0.0  0.0        0.0  0.0  0.0  0.0  0.055768  0.054658  0.0  0.0  ...  0.0   \n",
       "3  0.0  0.0        0.0  0.0  0.0  0.0  0.086665  0.084940  0.0  0.0  ...  0.0   \n",
       "4  0.0  0.0        0.0  0.0  0.0  0.0  0.053935  0.052861  0.0  0.0  ...  0.0   \n",
       "\n",
       "     último  úmida  único  únicosecretaria  únicoxxnumero  útil    —  —embora  \\\n",
       "0  0.000000    0.0    0.0              0.0            0.0   0.0  0.0      0.0   \n",
       "1  0.000000    0.0    0.0              0.0            0.0   0.0  0.0      0.0   \n",
       "2  0.000000    0.0    0.0              0.0            0.0   0.0  0.0      0.0   \n",
       "3  0.055068    0.0    0.0              0.0            0.0   0.0  0.0      0.0   \n",
       "4  0.000000    0.0    0.0              0.0            0.0   0.0  0.0      0.0   \n",
       "\n",
       "     •  \n",
       "0  0.0  \n",
       "1  0.0  \n",
       "2  0.0  \n",
       "3  0.0  \n",
       "4  0.0  \n",
       "\n",
       "[5 rows x 26825 columns]"
      ]
     },
     "execution_count": 101,
     "metadata": {},
     "output_type": "execute_result"
    }
   ],
   "source": [
    "df_termos.head()"
   ]
  },
  {
   "cell_type": "code",
   "execution_count": 102,
   "metadata": {},
   "outputs": [
    {
     "data": {
      "text/plain": [
       "o           0.556560\n",
       "de          0.392032\n",
       ",           0.292441\n",
       "em          0.122906\n",
       "a           0.086217\n",
       ".           0.083620\n",
       "que         0.073689\n",
       "e           0.060898\n",
       "por         0.051595\n",
       "xxitem      0.042887\n",
       "ser         0.038225\n",
       "xxnumero    0.036249\n",
       "xxsecao     0.033671\n",
       "não         0.033569\n",
       "se          0.031541\n",
       "para        0.030319\n",
       "com         0.029544\n",
       ":           0.029071\n",
       "artigo      0.025994\n",
       ")           0.025557\n",
       "dtype: float64"
      ]
     },
     "execution_count": 102,
     "metadata": {},
     "output_type": "execute_result"
    }
   ],
   "source": [
    "df_termos.mean().sort_values(ascending=False)[:20]"
   ]
  },
  {
   "cell_type": "code",
   "execution_count": 21,
   "metadata": {},
   "outputs": [
    {
     "data": {
      "text/plain": [
       "wildo                    5.996342e-07\n",
       "dncxxnumeracao           5.996342e-07\n",
       "leixxacordaorescreveu    5.996342e-07\n",
       "osmane                   5.996342e-07\n",
       "automotiva               5.996342e-07\n",
       "protocolaram             5.996342e-07\n",
       "xxacordaoerdeu           5.996342e-07\n",
       "aeacconforme             5.996342e-07\n",
       "tramitações              5.996342e-07\n",
       "administrator            5.996342e-07\n",
       "apoiadora                7.778798e-07\n",
       "camareira                7.778798e-07\n",
       "cologxxnumeracao         7.778798e-07\n",
       "container                7.778798e-07\n",
       "espacialmente            7.778798e-07\n",
       "leixxacordaoossam        7.818142e-07\n",
       "pedalada                 7.818142e-07\n",
       "relacionado              7.818142e-07\n",
       "roylaties                7.818142e-07\n",
       "contraposta              7.830595e-07\n",
       "dtype: float64"
      ]
     },
     "execution_count": 21,
     "metadata": {},
     "output_type": "execute_result"
    }
   ],
   "source": [
    "df_termos.mean().sort_values(ascending=True)[:20]"
   ]
  },
  {
   "cell_type": "code",
   "execution_count": 25,
   "metadata": {},
   "outputs": [
    {
     "data": {
      "text/plain": [
       "de              0.533876\n",
       "inss            0.230532\n",
       "xxitem          0.201271\n",
       "pgf             0.199520\n",
       "em              0.182574\n",
       "seguro          0.175906\n",
       "reaver          0.171951\n",
       "segurado        0.146944\n",
       "beneficiário    0.131332\n",
       "xxomissis       0.130811\n",
       "instituto       0.129833\n",
       "processual      0.125949\n",
       "comunicar       0.120972\n",
       "incisar         0.120765\n",
       "social          0.118228\n",
       "procuradoria    0.116947\n",
       "alínea          0.112723\n",
       "judiciais       0.108184\n",
       "juazeiro        0.105428\n",
       "pagos           0.101819\n",
       "Name: 0, dtype: float64"
      ]
     },
     "execution_count": 25,
     "metadata": {},
     "output_type": "execute_result"
    }
   ],
   "source": [
    "df_termos.loc[0].sort_values(ascending=False)[:20]"
   ]
  },
  {
   "cell_type": "code",
   "execution_count": 32,
   "metadata": {},
   "outputs": [],
   "source": [
    "termos = []\n",
    "\n",
    "for linha in df_termos.index:\n",
    "    termos.append((df_termos.loc[linha] > 0).sum())\n"
   ]
  },
  {
   "cell_type": "code",
   "execution_count": 33,
   "metadata": {},
   "outputs": [
    {
     "data": {
      "text/html": [
       "<div>\n",
       "<style scoped>\n",
       "    .dataframe tbody tr th:only-of-type {\n",
       "        vertical-align: middle;\n",
       "    }\n",
       "\n",
       "    .dataframe tbody tr th {\n",
       "        vertical-align: top;\n",
       "    }\n",
       "\n",
       "    .dataframe thead th {\n",
       "        text-align: right;\n",
       "    }\n",
       "</style>\n",
       "<table border=\"1\" class=\"dataframe\">\n",
       "  <thead>\n",
       "    <tr style=\"text-align: right;\">\n",
       "      <th></th>\n",
       "      <th>0</th>\n",
       "    </tr>\n",
       "  </thead>\n",
       "  <tbody>\n",
       "    <tr>\n",
       "      <th>count</th>\n",
       "      <td>13285.000000</td>\n",
       "    </tr>\n",
       "    <tr>\n",
       "      <th>mean</th>\n",
       "      <td>212.181182</td>\n",
       "    </tr>\n",
       "    <tr>\n",
       "      <th>std</th>\n",
       "      <td>115.712317</td>\n",
       "    </tr>\n",
       "    <tr>\n",
       "      <th>min</th>\n",
       "      <td>18.000000</td>\n",
       "    </tr>\n",
       "    <tr>\n",
       "      <th>25%</th>\n",
       "      <td>132.000000</td>\n",
       "    </tr>\n",
       "    <tr>\n",
       "      <th>50%</th>\n",
       "      <td>187.000000</td>\n",
       "    </tr>\n",
       "    <tr>\n",
       "      <th>75%</th>\n",
       "      <td>264.000000</td>\n",
       "    </tr>\n",
       "    <tr>\n",
       "      <th>max</th>\n",
       "      <td>1032.000000</td>\n",
       "    </tr>\n",
       "  </tbody>\n",
       "</table>\n",
       "</div>"
      ],
      "text/plain": [
       "                  0\n",
       "count  13285.000000\n",
       "mean     212.181182\n",
       "std      115.712317\n",
       "min       18.000000\n",
       "25%      132.000000\n",
       "50%      187.000000\n",
       "75%      264.000000\n",
       "max     1032.000000"
      ]
     },
     "execution_count": 33,
     "metadata": {},
     "output_type": "execute_result"
    }
   ],
   "source": [
    "pd.DataFrame(termos).describe()"
   ]
  },
  {
   "cell_type": "code",
   "execution_count": 35,
   "metadata": {},
   "outputs": [
    {
     "data": {
      "image/png": "[encoded data removed]",
      "text/plain": [
       "<Figure size 432x288 with 1 Axes>"
      ]
     },
     "metadata": {
      "needs_background": "light"
     },
     "output_type": "display_data"
    }
   ],
   "source": [
    "import matplotlib.pyplot as plt\n",
    "\n",
    "pd.DataFrame(termos).hist()\n",
    "plt.show()"
   ]
  },
  {
   "cell_type": "code",
   "execution_count": 39,
   "metadata": {},
   "outputs": [
    {
     "data": {
      "image/png": "[encoded data removed]",
      "text/plain": [
       "<Figure size 432x288 with 1 Axes>"
      ]
     },
     "metadata": {
      "needs_background": "light"
     },
     "output_type": "display_data"
    }
   ],
   "source": [
    "import numpy as np\n",
    "\n",
    "np.log10(pd.DataFrame(termos)).hist()\n",
    "plt.show()"
   ]
  },
  {
   "cell_type": "code",
   "execution_count": 40,
   "metadata": {},
   "outputs": [
    {
     "data": {
      "text/plain": [
       "'voto : cuidar o auto de tomada de conta especial instaurar por o gerência executivo de o instituto nacional de o seguro social em juazeiro de o norte XXUF , em desfavor de o exemplo servir XXOMISSIS e de o senhor XXOMISSIS , em o condição de segurado de o inss , em decorrência de fraude em o concessão de benefício previdenciários . XXSALTO XXSECAO assistir razão a o unidade técnico . o jurisprudência de este corte ser firme em o sentido de que , não ter ser comprovar o participação de o beneficiário em o concessão regular , por meio de o proceder interno de apurar adotar por o autarquia , não ser possível concluir por o existência de conluio entre este e o exemplo servir que autorizar o concessão , dever , pois , ser afastar a responsabilidade de o segurado . poder ser mencionar em esse mesmo linha o recente acórdãosXXNUMERACAO , XXNUMERACAO , XXNUMERACAO eXXNUMERACAO , todo de o plenário . XXSALTO XXSECAO por fim , em o linha de o jurisprudência de este corte , cumprir comunicar a o instituto nacional de o seguro social - inss e a o procuradoria geral federal - pgf que o não inclusão de o beneficiário em o presente relação processual não impedir o adoção de providência administrativo e / ou judiciais com vista a reaver valor que eventual ir indevido pagos . acórdão : XXSUBSECAO excluir de o relação processual o senhor XXOMISSIS ; XXSUBSECAO com fundamento em o artigo XXITEM , incisar XXITEM , e XXITEM , incisar XXITEM , alínea XXITEM , XXNUMERO e XXITEM , incisar XXITEM , de o leiXXNUMERACAO , julgar regular o conta de o senhor XXOMISSIS , condenar o , em consequência , a o pagar de o importância abaixo especificar , atualizar monetário e acrescer de o juro de mora , calcular a partir das o data original de o débito a seguir indicar até o sua efetivo quitar , fixar lhe o prazo de XXNUMERO dia , para que comprovar , perante o tribunal , o recolher de o referir quantia a o cofre de o inss , em o termo de o artigo XXITEM , incisar XXITEM , alínea XXITEM , de o citar lei , combinar com o artigo XXITEM , incisar XXITEM , alínea XXITEM , de o reger interno de o tcu ; XXSALTO XXSUBSECAO comunicar a o instituto nacional de o seguro social - inss e a o procuradoria geral federal - pgf que o não inclusão de o beneficiário XXOMISSIS em o presente relação processual não impedir o adoção de providência administrativo e / ou judiciais com vista a reaver valor que eventual lhe ir indevido pagos ;'"
      ]
     },
     "execution_count": 40,
     "metadata": {},
     "output_type": "execute_result"
    }
   ],
   "source": [
    "df.loc[0,'EXCERTO_LEMATIZADO']"
   ]
  },
  {
   "cell_type": "code",
   "execution_count": 41,
   "metadata": {},
   "outputs": [
    {
     "data": {
      "text/plain": [
       "2425"
      ]
     },
     "execution_count": 41,
     "metadata": {},
     "output_type": "execute_result"
    }
   ],
   "source": [
    "len(df.loc[0,'EXCERTO_LEMATIZADO'])"
   ]
  },
  {
   "cell_type": "code",
   "execution_count": 43,
   "metadata": {},
   "outputs": [
    {
     "data": {
      "text/plain": [
       "455"
      ]
     },
     "execution_count": 43,
     "metadata": {},
     "output_type": "execute_result"
    }
   ],
   "source": [
    "len(df.loc[0,'EXCERTO_LEMATIZADO'].split())"
   ]
  },
  {
   "cell_type": "code",
   "execution_count": 44,
   "metadata": {},
   "outputs": [
    {
     "data": {
      "text/plain": [
       "['órgaõs',\n",
       " 'órgão',\n",
       " 'órion',\n",
       " 'órteses',\n",
       " 'ósseo',\n",
       " 'ótica',\n",
       " 'ótico',\n",
       " 'ótimo',\n",
       " 'óu',\n",
       " 'óxido',\n",
       " 'ôes',\n",
       " 'ônibus',\n",
       " 'ônus',\n",
       " 'ões',\n",
       " 'último',\n",
       " 'úmida',\n",
       " 'único',\n",
       " 'únicosecretaria',\n",
       " 'únicoxxnumero',\n",
       " 'útil']"
      ]
     },
     "execution_count": 44,
     "metadata": {},
     "output_type": "execute_result"
    }
   ],
   "source": [
    "vetorizador.get_feature_names()[-20:]"
   ]
  },
  {
   "cell_type": "code",
   "execution_count": 82,
   "metadata": {},
   "outputs": [
    {
     "data": {
      "text/plain": [
       "(26447, 2462, 14933)"
      ]
     },
     "execution_count": 82,
     "metadata": {},
     "output_type": "execute_result"
    }
   ],
   "source": [
    "vetorizador.vocabulary_['árvore'], vetorizador.vocabulary_['azul'], vetorizador.vocabulary_['licitação']"
   ]
  },
  {
   "cell_type": "code",
   "execution_count": 83,
   "metadata": {},
   "outputs": [
    {
     "data": {
      "text/plain": [
       "(True, False)"
      ]
     },
     "execution_count": 83,
     "metadata": {},
     "output_type": "execute_result"
    }
   ],
   "source": [
    "'árvore' in vetorizador.vocabulary_, '.' in vetorizador.vocabulary_"
   ]
  },
  {
   "cell_type": "code",
   "execution_count": 84,
   "metadata": {},
   "outputs": [
    {
     "data": {
      "text/plain": [
       "280"
      ]
     },
     "execution_count": 84,
     "metadata": {},
     "output_type": "execute_result"
    }
   ],
   "source": [
    "qtde = 0\n",
    "for termo in df.loc[0,'EXCERTO_LEMATIZADO'].split():\n",
    "    if termo in vetorizador.vocabulary_:\n",
    "        qtde += 1\n",
    "qtde"
   ]
  },
  {
   "cell_type": "code",
   "execution_count": 85,
   "metadata": {},
   "outputs": [
    {
     "data": {
      "text/plain": [
       "280"
      ]
     },
     "execution_count": 85,
     "metadata": {},
     "output_type": "execute_result"
    }
   ],
   "source": [
    "indices = []\n",
    "excerto = []\n",
    "for termo in df.loc[0,'EXCERTO_LEMATIZADO'].split():\n",
    "    if termo in vetorizador.vocabulary_:\n",
    "        indices.append(vetorizador.vocabulary_[termo])\n",
    "        excerto.append(termo)\n",
    "len(indices)"
   ]
  },
  {
   "cell_type": "code",
   "execution_count": 86,
   "metadata": {},
   "outputs": [
    {
     "data": {
      "text/plain": [
       "['voto',\n",
       " 'cuidar',\n",
       " 'auto',\n",
       " 'de',\n",
       " 'tomada',\n",
       " 'de',\n",
       " 'conta',\n",
       " 'especial',\n",
       " 'instaurar',\n",
       " 'por',\n",
       " 'gerência',\n",
       " 'executivo',\n",
       " 'de',\n",
       " 'instituto',\n",
       " 'nacional',\n",
       " 'de',\n",
       " 'seguro',\n",
       " 'social',\n",
       " 'em',\n",
       " 'juazeiro']"
      ]
     },
     "execution_count": 86,
     "metadata": {},
     "output_type": "execute_result"
    }
   ],
   "source": [
    "excerto[:20]"
   ]
  },
  {
   "cell_type": "code",
   "execution_count": 87,
   "metadata": {},
   "outputs": [
    {
     "data": {
      "text/plain": [
       "[25600,\n",
       " 6252,\n",
       " 2289,\n",
       " 6538,\n",
       " 24265,\n",
       " 6538,\n",
       " 5434,\n",
       " 9387,\n",
       " 13429,\n",
       " 18856,\n",
       " 11400,\n",
       " 9856,\n",
       " 6538,\n",
       " 13445,\n",
       " 16588,\n",
       " 6538,\n",
       " 22116,\n",
       " 22918,\n",
       " 8659,\n",
       " 14323]"
      ]
     },
     "execution_count": 87,
     "metadata": {},
     "output_type": "execute_result"
    }
   ],
   "source": [
    "indices[:20]"
   ]
  },
  {
   "cell_type": "code",
   "execution_count": 88,
   "metadata": {},
   "outputs": [
    {
     "data": {
      "text/plain": [
       "[0.014889860904663283,\n",
       " 0.04436238974338144,\n",
       " 0.02387491977974392,\n",
       " 0.5338759649048965,\n",
       " 0.037161182685269,\n",
       " 0.5338759649048965,\n",
       " 0.04261585214792966,\n",
       " 0.028334071047535624,\n",
       " 0.03867221573655871,\n",
       " 0.0671779920827961,\n",
       " 0.0656723125911437,\n",
       " 0.04518175490527546,\n",
       " 0.5338759649048965,\n",
       " 0.1298325530251248,\n",
       " 0.09093987750606777,\n",
       " 0.5338759649048965,\n",
       " 0.17590568151857727,\n",
       " 0.11822841306327384,\n",
       " 0.1825737395915758,\n",
       " 0.10542840433809403]"
      ]
     },
     "execution_count": 88,
     "metadata": {},
     "output_type": "execute_result"
    }
   ],
   "source": [
    "tf_idf = []\n",
    "for indice in indices:\n",
    "    tf_idf.append(matriz_densa[0,indice])\n",
    "tf_idf[:20]"
   ]
  },
  {
   "cell_type": "code",
   "execution_count": 89,
   "metadata": {},
   "outputs": [
    {
     "data": {
      "text/plain": [
       "280"
      ]
     },
     "execution_count": 89,
     "metadata": {},
     "output_type": "execute_result"
    }
   ],
   "source": [
    "len(tf_idf)"
   ]
  },
  {
   "cell_type": "code",
   "execution_count": 90,
   "metadata": {},
   "outputs": [
    {
     "data": {
      "text/plain": [
       "0.14242705012435508"
      ]
     },
     "execution_count": 90,
     "metadata": {},
     "output_type": "execute_result"
    }
   ],
   "source": [
    "np.mean(tf_idf)"
   ]
  },
  {
   "cell_type": "code",
   "execution_count": 91,
   "metadata": {},
   "outputs": [
    {
     "data": {
      "text/plain": [
       "0.09563453770833151"
      ]
     },
     "execution_count": 91,
     "metadata": {},
     "output_type": "execute_result"
    }
   ],
   "source": [
    "minimo = np.percentile(tf_idf,100*180/280)\n",
    "minimo"
   ]
  },
  {
   "cell_type": "code",
   "execution_count": 92,
   "metadata": {},
   "outputs": [
    {
     "data": {
      "text/plain": [
       "100"
      ]
     },
     "execution_count": 92,
     "metadata": {},
     "output_type": "execute_result"
    }
   ],
   "source": [
    "sum(tf_idf > minimo)"
   ]
  },
  {
   "cell_type": "code",
   "execution_count": 93,
   "metadata": {},
   "outputs": [
    {
     "data": {
      "text/plain": [
       "array([False, False, False,  True, False,  True, False, False, False,\n",
       "       False, False, False,  True,  True, False,  True,  True,  True,\n",
       "        True,  True,  True, False,  True, False,  True, False, False,\n",
       "        True, False,  True, False,  True,  True,  True,  True,  True,\n",
       "       False,  True, False,  True,  True,  True, False, False, False,\n",
       "       False, False, False, False,  True, False, False, False, False,\n",
       "        True, False,  True, False, False, False, False, False, False,\n",
       "        True,  True,  True,  True, False, False, False,  True, False,\n",
       "       False,  True, False, False, False, False, False, False, False,\n",
       "       False, False, False,  True, False, False, False, False, False,\n",
       "       False, False,  True, False, False, False, False, False,  True,\n",
       "        True, False, False, False,  True, False, False, False, False,\n",
       "       False,  True, False, False, False,  True, False,  True, False,\n",
       "        True, False, False, False,  True,  True, False,  True,  True,\n",
       "        True,  True,  True, False, False,  True, False, False, False,\n",
       "        True,  True,  True, False, False,  True, False, False, False,\n",
       "        True, False, False, False,  True, False, False,  True, False,\n",
       "       False, False, False, False,  True, False, False,  True, False,\n",
       "        True, False, False, False,  True, False,  True,  True,  True,\n",
       "        True,  True, False, False, False,  True, False, False,  True,\n",
       "       False, False,  True, False, False, False, False, False, False,\n",
       "        True, False,  True, False, False, False, False, False, False,\n",
       "        True, False, False, False, False, False, False, False, False,\n",
       "       False, False,  True, False, False, False, False, False, False,\n",
       "       False,  True, False, False, False,  True,  True,  True, False,\n",
       "        True, False,  True,  True,  True, False, False, False, False,\n",
       "       False,  True,  True,  True, False, False,  True, False,  True,\n",
       "        True, False,  True,  True,  True,  True,  True, False, False,\n",
       "        True, False, False, False,  True,  True,  True, False, False,\n",
       "        True, False, False, False,  True, False, False, False,  True,\n",
       "       False, False,  True, False, False, False, False, False, False,\n",
       "        True])"
      ]
     },
     "execution_count": 93,
     "metadata": {},
     "output_type": "execute_result"
    }
   ],
   "source": [
    "tf_idf > minimo"
   ]
  },
  {
   "cell_type": "code",
   "execution_count": 140,
   "metadata": {},
   "outputs": [
    {
     "name": "stdout",
     "output_type": "stream",
     "text": [
      "0.06462383698293411\n"
     ]
    },
    {
     "data": {
      "text/plain": [
       "'de de por gerência de instituto nacional de seguro social em juazeiro de em de de senhor em de segurado de inss em de em concessão de previdenciários de ser em de que não ser de beneficiário em concessão por de de por não ser por de conluio que concessão ser de segurado ser em linha de por em linha de de comunicar instituto nacional de seguro social inss procuradoria pgf que não inclusão de beneficiário em relação processual não impedir adoção de providência judiciais reaver que eventual indevido pagos de relação processual senhor em incisar incisar alínea incisar de de senhor em de de de de de que de de inss em de incisar alínea de incisar alínea de de comunicar instituto nacional de seguro social inss procuradoria pgf que não inclusão de beneficiário em relação processual não impedir adoção de providência judiciais reaver que eventual indevido pagos'"
      ]
     },
     "execution_count": 140,
     "metadata": {},
     "output_type": "execute_result"
    }
   ],
   "source": [
    "tamanho_desejado = 150\n",
    "texto_derivado = ''\n",
    "tamanho_original = len(tf_idf)\n",
    "if tamanho_desejado >= tamanho_original:\n",
    "    minimo = 0\n",
    "else:\n",
    "    minimo = np.percentile(tf_idf,100-100*tamanho_desejado/tamanho_original)\n",
    "print(minimo)\n",
    "for indice, valor in enumerate(tf_idf):\n",
    "    if valor > minimo:\n",
    "        texto_derivado += excerto[indice] + ' '\n",
    "texto_derivado[:-1]"
   ]
  },
  {
   "cell_type": "code",
   "execution_count": 80,
   "metadata": {},
   "outputs": [
    {
     "ename": "KeyError",
     "evalue": "'o'",
     "output_type": "error",
     "traceback": [
      "\u001b[0;31m---------------------------------------------------------------------------\u001b[0m",
      "\u001b[0;31mKeyError\u001b[0m                                  Traceback (most recent call last)",
      "\u001b[0;32m<ipython-input-80-5ada6e810ca1>\u001b[0m in \u001b[0;36m<module>\u001b[0;34m\u001b[0m\n\u001b[0;32m----> 1\u001b[0;31m \u001b[0mtermos\u001b[0m\u001b[0;34m[\u001b[0m\u001b[0;34m'o'\u001b[0m\u001b[0;34m]\u001b[0m\u001b[0;34m\u001b[0m\u001b[0;34m\u001b[0m\u001b[0m\n\u001b[0m",
      "\u001b[0;31mKeyError\u001b[0m: 'o'"
     ]
    }
   ],
   "source": []
  },
  {
   "cell_type": "code",
   "execution_count": 103,
   "metadata": {},
   "outputs": [
    {
     "data": {
      "text/plain": [
       "19636"
      ]
     },
     "execution_count": 103,
     "metadata": {},
     "output_type": "execute_result"
    }
   ],
   "source": [
    " vetorizador.vocabulary_['processual']"
   ]
  },
  {
   "cell_type": "code",
   "execution_count": 110,
   "metadata": {},
   "outputs": [
    {
     "data": {
      "text/plain": [
       "array([7.8554088 , 3.14974707, 9.39585384, ..., 7.23636959, 9.80131895,\n",
       "       8.70270666])"
      ]
     },
     "execution_count": 110,
     "metadata": {},
     "output_type": "execute_result"
    }
   ],
   "source": [
    "idfs = np.asarray(vetorizador.idf_)\n",
    "idfs"
   ]
  },
  {
   "cell_type": "code",
   "execution_count": null,
   "metadata": {},
   "outputs": [],
   "source": []
  }
 ],
 "metadata": {
  "kernelspec": {
   "display_name": "Python 3",
   "language": "python",
   "name": "python3"
  },
  "language_info": {
   "codemirror_mode": {
    "name": "ipython",
    "version": 3
   },
   "file_extension": ".py",
   "mimetype": "text/x-python",
   "name": "python",
   "nbconvert_exporter": "python",
   "pygments_lexer": "ipython3",
   "version": "3.7.4"
  }
 },
 "nbformat": 4,
 "nbformat_minor": 2
}
