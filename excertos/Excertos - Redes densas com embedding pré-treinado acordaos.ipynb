{
 "cells": [
  {
   "cell_type": "markdown",
   "metadata": {},
   "source": [
    "# Importação e preparação dos dados"
   ]
  },
  {
   "cell_type": "code",
   "execution_count": 1,
   "metadata": {},
   "outputs": [
    {
     "data": {
      "text/html": [
       "<div>\n",
       "<style scoped>\n",
       "    .dataframe tbody tr th:only-of-type {\n",
       "        vertical-align: middle;\n",
       "    }\n",
       "\n",
       "    .dataframe tbody tr th {\n",
       "        vertical-align: top;\n",
       "    }\n",
       "\n",
       "    .dataframe thead th {\n",
       "        text-align: right;\n",
       "    }\n",
       "</style>\n",
       "<table border=\"1\" class=\"dataframe\">\n",
       "  <thead>\n",
       "    <tr style=\"text-align: right;\">\n",
       "      <th></th>\n",
       "      <th>COD</th>\n",
       "      <th>NUM_ENUNCIADO</th>\n",
       "      <th>COD_AREA</th>\n",
       "      <th>DESCR_AREA</th>\n",
       "      <th>COD_TEMA</th>\n",
       "      <th>DESCR_TEMA</th>\n",
       "      <th>COD_SUBTEMA</th>\n",
       "      <th>DESCR_SUBTEMA</th>\n",
       "      <th>COD_DOC_TRAMITAVEL_ENUNCIADO</th>\n",
       "      <th>TEXTO_ENUNCIADO</th>\n",
       "      <th>ACORDAO</th>\n",
       "      <th>TIPO_PROCESSO</th>\n",
       "    </tr>\n",
       "  </thead>\n",
       "  <tbody>\n",
       "    <tr>\n",
       "      <th>0</th>\n",
       "      <td>1400</td>\n",
       "      <td>1236</td>\n",
       "      <td>50</td>\n",
       "      <td>Responsabilidade</td>\n",
       "      <td>488</td>\n",
       "      <td>Solidariedade</td>\n",
       "      <td>261</td>\n",
       "      <td>Benefício previdenciário</td>\n",
       "      <td>54995437</td>\n",
       "      <td>Não comprovada a participação do beneficiário ...</td>\n",
       "      <td>Acórdão 297/2016 - PL</td>\n",
       "      <td>Tomada de Contas Especial</td>\n",
       "    </tr>\n",
       "    <tr>\n",
       "      <th>1</th>\n",
       "      <td>1700</td>\n",
       "      <td>1534</td>\n",
       "      <td>46</td>\n",
       "      <td>Finanças Públicas</td>\n",
       "      <td>981</td>\n",
       "      <td>Exportação</td>\n",
       "      <td>983</td>\n",
       "      <td>Petróleo</td>\n",
       "      <td>55025587</td>\n",
       "      <td>A operação ficta de exportação de plataformas ...</td>\n",
       "      <td>Acórdão 366/2016 - PL</td>\n",
       "      <td>Solicitação do Congresso Nacional</td>\n",
       "    </tr>\n",
       "    <tr>\n",
       "      <th>2</th>\n",
       "      <td>5700</td>\n",
       "      <td>5314</td>\n",
       "      <td>50</td>\n",
       "      <td>Responsabilidade</td>\n",
       "      <td>203</td>\n",
       "      <td>Multa</td>\n",
       "      <td>1021</td>\n",
       "      <td>Dosimetria</td>\n",
       "      <td>55455370</td>\n",
       "      <td>No âmbito do TCU, a dosimetria da pena tem com...</td>\n",
       "      <td>Acórdão 944/2016 - PL</td>\n",
       "      <td>Acompanhamento</td>\n",
       "    </tr>\n",
       "    <tr>\n",
       "      <th>3</th>\n",
       "      <td>284</td>\n",
       "      <td>40</td>\n",
       "      <td>45</td>\n",
       "      <td>Direito Processual</td>\n",
       "      <td>162</td>\n",
       "      <td>Princípio da independência das instâncias</td>\n",
       "      <td>481</td>\n",
       "      <td>Decisão judicial</td>\n",
       "      <td>54773746</td>\n",
       "      <td>O princípio da independência das instâncias pe...</td>\n",
       "      <td>Acórdão 30/2016 - PL</td>\n",
       "      <td>Tomada de Contas Especial</td>\n",
       "    </tr>\n",
       "    <tr>\n",
       "      <th>4</th>\n",
       "      <td>298</td>\n",
       "      <td>54</td>\n",
       "      <td>49</td>\n",
       "      <td>Pessoal</td>\n",
       "      <td>141</td>\n",
       "      <td>Sistema S</td>\n",
       "      <td>142</td>\n",
       "      <td>Nepotismo</td>\n",
       "      <td>54773402</td>\n",
       "      <td>É vedado aos dirigentes das entidades do Siste...</td>\n",
       "      <td>Acórdão 55/2016 - PL</td>\n",
       "      <td>Representação</td>\n",
       "    </tr>\n",
       "  </tbody>\n",
       "</table>\n",
       "</div>"
      ],
      "text/plain": [
       "    COD  NUM_ENUNCIADO  COD_AREA          DESCR_AREA  COD_TEMA  \\\n",
       "0  1400           1236        50    Responsabilidade       488   \n",
       "1  1700           1534        46   Finanças Públicas       981   \n",
       "2  5700           5314        50    Responsabilidade       203   \n",
       "3   284             40        45  Direito Processual       162   \n",
       "4   298             54        49             Pessoal       141   \n",
       "\n",
       "                                  DESCR_TEMA  COD_SUBTEMA  \\\n",
       "0                              Solidariedade          261   \n",
       "1                                 Exportação          983   \n",
       "2                                      Multa         1021   \n",
       "3  Princípio da independência das instâncias          481   \n",
       "4                                  Sistema S          142   \n",
       "\n",
       "              DESCR_SUBTEMA  COD_DOC_TRAMITAVEL_ENUNCIADO  \\\n",
       "0  Benefício previdenciário                      54995437   \n",
       "1                  Petróleo                      55025587   \n",
       "2                Dosimetria                      55455370   \n",
       "3          Decisão judicial                      54773746   \n",
       "4                 Nepotismo                      54773402   \n",
       "\n",
       "                                     TEXTO_ENUNCIADO                ACORDAO  \\\n",
       "0  Não comprovada a participação do beneficiário ...  Acórdão 297/2016 - PL   \n",
       "1  A operação ficta de exportação de plataformas ...  Acórdão 366/2016 - PL   \n",
       "2  No âmbito do TCU, a dosimetria da pena tem com...  Acórdão 944/2016 - PL   \n",
       "3  O princípio da independência das instâncias pe...   Acórdão 30/2016 - PL   \n",
       "4  É vedado aos dirigentes das entidades do Siste...   Acórdão 55/2016 - PL   \n",
       "\n",
       "                        TIPO_PROCESSO  \n",
       "0           Tomada de Contas Especial  \n",
       "1   Solicitação do Congresso Nacional  \n",
       "2                      Acompanhamento  \n",
       "3           Tomada de Contas Especial  \n",
       "4                       Representação  "
      ]
     },
     "execution_count": 1,
     "metadata": {},
     "output_type": "execute_result"
    }
   ],
   "source": [
    "import pandas as pd\n",
    "\n",
    "df = pd.read_csv('../dados/jurisprudencia_selecionada_excertos.CSV', sep = ';')\n",
    "df.head()"
   ]
  },
  {
   "cell_type": "code",
   "execution_count": 2,
   "metadata": {},
   "outputs": [
    {
     "data": {
      "text/plain": [
       "(13312, 12)"
      ]
     },
     "execution_count": 2,
     "metadata": {},
     "output_type": "execute_result"
    }
   ],
   "source": [
    "df.shape"
   ]
  },
  {
   "cell_type": "code",
   "execution_count": 3,
   "metadata": {},
   "outputs": [
    {
     "data": {
      "text/plain": [
       "DESCR_AREA\n",
       "Competência do TCU          557\n",
       "Contrato Administrativo     942\n",
       "Convênio                    685\n",
       "Desestatização              140\n",
       "Direito Processual         1813\n",
       "Finanças Públicas           328\n",
       "Gestão Administrativa       339\n",
       "Licitação                  2765\n",
       "Pessoal                    3396\n",
       "Responsabilidade           2347\n",
       "dtype: int64"
      ]
     },
     "execution_count": 3,
     "metadata": {},
     "output_type": "execute_result"
    }
   ],
   "source": [
    "df.groupby(['DESCR_AREA']).size()"
   ]
  },
  {
   "cell_type": "code",
   "execution_count": 4,
   "metadata": {},
   "outputs": [
    {
     "data": {
      "text/plain": [
       "dict_keys(['Competência do TCU', 'Contrato Administrativo', 'Convênio', 'Desestatização', 'Direito Processual', 'Finanças Públicas', 'Gestão Administrativa', 'Licitação', 'Pessoal', 'Responsabilidade'])"
      ]
     },
     "execution_count": 4,
     "metadata": {},
     "output_type": "execute_result"
    }
   ],
   "source": [
    "areas = df.groupby(['DESCR_AREA']).groups.keys()\n",
    "areas"
   ]
  },
  {
   "cell_type": "code",
   "execution_count": 5,
   "metadata": {},
   "outputs": [
    {
     "data": {
      "text/plain": [
       "array(['Competência do TCU', 'Contrato Administrativo', 'Convênio',\n",
       "       'Desestatização', 'Direito Processual', 'Finanças Públicas',\n",
       "       'Gestão Administrativa', 'Licitação', 'Pessoal',\n",
       "       'Responsabilidade'], dtype='<U23')"
      ]
     },
     "execution_count": 5,
     "metadata": {},
     "output_type": "execute_result"
    }
   ],
   "source": [
    "from sklearn.preprocessing import LabelBinarizer\n",
    "\n",
    "lbArea = LabelBinarizer()\n",
    "lbArea.fit([x for x in areas])\n",
    "lbArea.classes_"
   ]
  },
  {
   "cell_type": "code",
   "execution_count": 6,
   "metadata": {},
   "outputs": [
    {
     "data": {
      "text/plain": [
       "(13312, 10)"
      ]
     },
     "execution_count": 6,
     "metadata": {},
     "output_type": "execute_result"
    }
   ],
   "source": [
    "y = lbArea.transform(df['DESCR_AREA'])\n",
    "y.shape"
   ]
  },
  {
   "cell_type": "code",
   "execution_count": 7,
   "metadata": {},
   "outputs": [
    {
     "name": "stderr",
     "output_type": "stream",
     "text": [
      "Using TensorFlow backend.\n"
     ]
    },
    {
     "name": "stdout",
     "output_type": "stream",
     "text": [
      "Found 15387 unique tokens.\n"
     ]
    }
   ],
   "source": [
    "from keras.preprocessing.text import Tokenizer\n",
    "import numpy as np\n",
    "\n",
    "limite_texto = 200\n",
    "dim_vetor = 100\n",
    "\n",
    "tokenizer = Tokenizer()\n",
    "tokenizer.fit_on_texts(df['TEXTO_EXCERTO'])\n",
    "\n",
    "word_index = tokenizer.word_index\n",
    "vocabulario = len(word_index) + 1\n",
    "print('Found %s unique tokens.' % len(word_index))\n",
    "\n",
    "sequences = tokenizer.texts_to_sequences(df['TEXTO_EXCERTO'])"
   ]
  },
  {
   "cell_type": "code",
   "execution_count": 8,
   "metadata": {},
   "outputs": [
    {
     "name": "stdout",
     "output_type": "stream",
     "text": [
      "Shape of data tensor: (13312, 200)\n"
     ]
    }
   ],
   "source": [
    "from keras.preprocessing.sequence import pad_sequences\n",
    "\n",
    "x = pad_sequences(sequences, maxlen=limite_texto)\n",
    "\n",
    "print('Shape of data tensor:', x.shape)"
   ]
  },
  {
   "cell_type": "code",
   "execution_count": 9,
   "metadata": {},
   "outputs": [
    {
     "name": "stderr",
     "output_type": "stream",
     "text": [
      "/home/leonardo/anaconda3/envs/gpu/lib/python3.7/site-packages/smart_open/smart_open_lib.py:398: UserWarning: This function is deprecated, use smart_open.open instead. See the migration notes for details: https://github.com/RaRe-Technologies/smart_open/blob/master/README.rst#migrating-to-the-new-open-function\n",
      "  'See the migration notes for details: %s' % _MIGRATION_NOTES_URL\n"
     ]
    }
   ],
   "source": [
    "from gensim.models import Word2Vec\n",
    "\n",
    "model = Word2Vec.load('../vocabularios/modelo-acordaos.w2v')"
   ]
  },
  {
   "cell_type": "code",
   "execution_count": 10,
   "metadata": {},
   "outputs": [
    {
     "name": "stdout",
     "output_type": "stream",
     "text": [
      "Vocabulario: 15387\n",
      "Encontrados no modelo: 14572 = 94.70332098524729\n"
     ]
    }
   ],
   "source": [
    "# create a weight matrix for words in training docs\n",
    "\n",
    "embedding_matrix = np.zeros((vocabulario, 100))\n",
    "\n",
    "ok = 0\n",
    "for word, i in tokenizer.word_index.items():\n",
    "    if word in model.wv:\n",
    "        embedding_matrix[i] = model.wv[word]\n",
    "        ok += 1\n",
    "print('Vocabulario:', i)\n",
    "print('Encontrados no modelo:', ok, '=', ok * 100. / i)"
   ]
  },
  {
   "cell_type": "code",
   "execution_count": 11,
   "metadata": {},
   "outputs": [
    {
     "name": "stdout",
     "output_type": "stream",
     "text": [
      "fazê\n",
      "dsic\n",
      "in01\n",
      "“quintos”\n",
      "'quintos'\n",
      "rogação\n",
      "'opção'\n",
      "“opção”\n",
      "“a”\n",
      "“b”\n",
      "po5\n",
      "“s”\n",
      "utilizá\n",
      "po7\n",
      "executá\n",
      "'s'\n",
      "'a'\n",
      "ds5\n",
      "“jogo\n",
      "‘quintos’\n",
      "“ou\n"
     ]
    }
   ],
   "source": [
    "nok = 0\n",
    "for word, i in tokenizer.word_index.items():\n",
    "    if word not in model.wv:\n",
    "        print(word)\n",
    "        nok += 1\n",
    "        if nok > 20: break"
   ]
  },
  {
   "cell_type": "markdown",
   "metadata": {},
   "source": [
    "# Treinamento"
   ]
  },
  {
   "cell_type": "markdown",
   "metadata": {},
   "source": [
    "## Embedding com pesos fixos"
   ]
  },
  {
   "cell_type": "code",
   "execution_count": 12,
   "metadata": {},
   "outputs": [
    {
     "name": "stderr",
     "output_type": "stream",
     "text": [
      "WARNING: Logging before flag parsing goes to stderr.\n",
      "W0912 11:10:41.063221 139684724791104 deprecation_wrapper.py:119] From /home/leonardo/anaconda3/envs/gpu/lib/python3.7/site-packages/keras/backend/tensorflow_backend.py:74: The name tf.get_default_graph is deprecated. Please use tf.compat.v1.get_default_graph instead.\n",
      "\n"
     ]
    }
   ],
   "source": [
    "from keras.layers import Embedding\n",
    "\n",
    "embedding = Embedding(vocabulario, dim_vetor, weights=[embedding_matrix], input_length=limite_texto, trainable=False)"
   ]
  },
  {
   "cell_type": "code",
   "execution_count": 13,
   "metadata": {},
   "outputs": [
    {
     "name": "stderr",
     "output_type": "stream",
     "text": [
      "W0912 11:10:47.102676 139684724791104 deprecation_wrapper.py:119] From /home/leonardo/anaconda3/envs/gpu/lib/python3.7/site-packages/keras/backend/tensorflow_backend.py:517: The name tf.placeholder is deprecated. Please use tf.compat.v1.placeholder instead.\n",
      "\n",
      "W0912 11:10:47.180051 139684724791104 deprecation_wrapper.py:119] From /home/leonardo/anaconda3/envs/gpu/lib/python3.7/site-packages/keras/backend/tensorflow_backend.py:4138: The name tf.random_uniform is deprecated. Please use tf.random.uniform instead.\n",
      "\n",
      "W0912 11:10:47.202162 139684724791104 deprecation_wrapper.py:119] From /home/leonardo/anaconda3/envs/gpu/lib/python3.7/site-packages/keras/backend/tensorflow_backend.py:174: The name tf.get_default_session is deprecated. Please use tf.compat.v1.get_default_session instead.\n",
      "\n",
      "W0912 11:10:47.203325 139684724791104 deprecation_wrapper.py:119] From /home/leonardo/anaconda3/envs/gpu/lib/python3.7/site-packages/keras/backend/tensorflow_backend.py:181: The name tf.ConfigProto is deprecated. Please use tf.compat.v1.ConfigProto instead.\n",
      "\n",
      "W0912 11:10:57.062813 139684724791104 deprecation.py:506] From /home/leonardo/anaconda3/envs/gpu/lib/python3.7/site-packages/keras/backend/tensorflow_backend.py:3445: calling dropout (from tensorflow.python.ops.nn_ops) with keep_prob is deprecated and will be removed in a future version.\n",
      "Instructions for updating:\n",
      "Please use `rate` instead of `keep_prob`. Rate should be set to `rate = 1 - keep_prob`.\n",
      "W0912 11:10:57.063470 139684724791104 nn_ops.py:4224] Large dropout rate: 0.6 (>0.5). In TensorFlow 2.x, dropout() uses dropout rate instead of keep_prob. Please ensure that this is intended.\n",
      "W0912 11:10:57.089308 139684724791104 nn_ops.py:4224] Large dropout rate: 0.6 (>0.5). In TensorFlow 2.x, dropout() uses dropout rate instead of keep_prob. Please ensure that this is intended.\n",
      "W0912 11:10:57.112426 139684724791104 deprecation_wrapper.py:119] From /home/leonardo/anaconda3/envs/gpu/lib/python3.7/site-packages/keras/optimizers.py:790: The name tf.train.Optimizer is deprecated. Please use tf.compat.v1.train.Optimizer instead.\n",
      "\n"
     ]
    },
    {
     "name": "stdout",
     "output_type": "stream",
     "text": [
      "_________________________________________________________________\n",
      "Layer (type)                 Output Shape              Param #   \n",
      "=================================================================\n",
      "embedding_1 (Embedding)      (None, 200, 100)          1538800   \n",
      "_________________________________________________________________\n",
      "flatten_1 (Flatten)          (None, 20000)             0         \n",
      "_________________________________________________________________\n",
      "dense_1 (Dense)              (None, 2048)              40962048  \n",
      "_________________________________________________________________\n",
      "dropout_1 (Dropout)          (None, 2048)              0         \n",
      "_________________________________________________________________\n",
      "dense_2 (Dense)              (None, 1024)              2098176   \n",
      "_________________________________________________________________\n",
      "dropout_2 (Dropout)          (None, 1024)              0         \n",
      "_________________________________________________________________\n",
      "dense_3 (Dense)              (None, 10)                10250     \n",
      "=================================================================\n",
      "Total params: 44,609,274\n",
      "Trainable params: 43,070,474\n",
      "Non-trainable params: 1,538,800\n",
      "_________________________________________________________________\n"
     ]
    }
   ],
   "source": [
    "from keras.models import Sequential\n",
    "from keras.layers import Flatten, Dense, Embedding\n",
    "from keras.layers.core import Dropout\n",
    "\n",
    "model = Sequential()\n",
    "model.add(embedding)\n",
    "model.add(Flatten())\n",
    "model.add(Dense(2048, activation='relu'))\n",
    "model.add(Dropout(0.6))\n",
    "model.add(Dense(1024, activation='relu'))\n",
    "model.add(Dropout(0.6))\n",
    "model.add(Dense(y.shape[1], activation='softmax'))\n",
    "model.compile(loss='categorical_crossentropy', optimizer='adadelta',  metrics=[\"categorical_accuracy\"])\n",
    "model.summary()"
   ]
  },
  {
   "cell_type": "code",
   "execution_count": 14,
   "metadata": {},
   "outputs": [
    {
     "name": "stderr",
     "output_type": "stream",
     "text": [
      "W0912 11:11:14.341386 139684724791104 deprecation.py:323] From /home/leonardo/anaconda3/envs/gpu/lib/python3.7/site-packages/tensorflow/python/ops/math_grad.py:1250: add_dispatch_support.<locals>.wrapper (from tensorflow.python.ops.array_ops) is deprecated and will be removed in a future version.\n",
      "Instructions for updating:\n",
      "Use tf.where in 2.0, which has the same broadcast rule as np.where\n"
     ]
    },
    {
     "name": "stdout",
     "output_type": "stream",
     "text": [
      "Train on 10649 samples, validate on 2663 samples\n",
      "Epoch 1/20\n",
      "10649/10649 [==============================] - 20s 2ms/step - loss: 1.9043 - categorical_accuracy: 0.5202 - val_loss: 1.1887 - val_categorical_accuracy: 0.6057\n",
      "Epoch 2/20\n",
      "10649/10649 [==============================] - 17s 2ms/step - loss: 1.0379 - categorical_accuracy: 0.6851 - val_loss: 1.0639 - val_categorical_accuracy: 0.6662\n",
      "Epoch 3/20\n",
      "10649/10649 [==============================] - 17s 2ms/step - loss: 0.7847 - categorical_accuracy: 0.7590 - val_loss: 0.9648 - val_categorical_accuracy: 0.6947\n",
      "Epoch 4/20\n",
      "10649/10649 [==============================] - 17s 2ms/step - loss: 0.6178 - categorical_accuracy: 0.8131 - val_loss: 1.1071 - val_categorical_accuracy: 0.6767\n",
      "Epoch 5/20\n",
      "10649/10649 [==============================] - 17s 2ms/step - loss: 0.4717 - categorical_accuracy: 0.8557 - val_loss: 1.0765 - val_categorical_accuracy: 0.6688\n",
      "Epoch 6/20\n",
      "10649/10649 [==============================] - 17s 2ms/step - loss: 0.3764 - categorical_accuracy: 0.8837 - val_loss: 1.3090 - val_categorical_accuracy: 0.6804\n",
      "Epoch 7/20\n",
      "10649/10649 [==============================] - 17s 2ms/step - loss: 0.2943 - categorical_accuracy: 0.9115 - val_loss: 1.2179 - val_categorical_accuracy: 0.7011\n",
      "Epoch 8/20\n",
      "10649/10649 [==============================] - 17s 2ms/step - loss: 0.2580 - categorical_accuracy: 0.9237 - val_loss: 1.4327 - val_categorical_accuracy: 0.6876\n",
      "Epoch 9/20\n",
      "10649/10649 [==============================] - 17s 2ms/step - loss: 0.2287 - categorical_accuracy: 0.9367 - val_loss: 1.7605 - val_categorical_accuracy: 0.6658\n",
      "Epoch 10/20\n",
      "10649/10649 [==============================] - 17s 2ms/step - loss: 0.2067 - categorical_accuracy: 0.9407 - val_loss: 1.7217 - val_categorical_accuracy: 0.6891\n",
      "Epoch 11/20\n",
      "10649/10649 [==============================] - 17s 2ms/step - loss: 0.1914 - categorical_accuracy: 0.9493 - val_loss: 1.6536 - val_categorical_accuracy: 0.6977\n",
      "Epoch 12/20\n",
      "10649/10649 [==============================] - 17s 2ms/step - loss: 0.1649 - categorical_accuracy: 0.9568 - val_loss: 2.0311 - val_categorical_accuracy: 0.6771\n",
      "Epoch 13/20\n",
      "10649/10649 [==============================] - 17s 2ms/step - loss: 0.1613 - categorical_accuracy: 0.9559 - val_loss: 2.1448 - val_categorical_accuracy: 0.6635\n",
      "Epoch 14/20\n",
      "10649/10649 [==============================] - 17s 2ms/step - loss: 0.1383 - categorical_accuracy: 0.9628 - val_loss: 1.9366 - val_categorical_accuracy: 0.6921\n",
      "Epoch 15/20\n",
      "10649/10649 [==============================] - 17s 2ms/step - loss: 0.1224 - categorical_accuracy: 0.9677 - val_loss: 1.9325 - val_categorical_accuracy: 0.7018\n",
      "Epoch 16/20\n",
      "10649/10649 [==============================] - 17s 2ms/step - loss: 0.1263 - categorical_accuracy: 0.9694 - val_loss: 1.9379 - val_categorical_accuracy: 0.7075\n",
      "Epoch 17/20\n",
      "10649/10649 [==============================] - 17s 2ms/step - loss: 0.1143 - categorical_accuracy: 0.9706 - val_loss: 2.0745 - val_categorical_accuracy: 0.6977\n",
      "Epoch 18/20\n",
      "10649/10649 [==============================] - 17s 2ms/step - loss: 0.1085 - categorical_accuracy: 0.9743 - val_loss: 2.1143 - val_categorical_accuracy: 0.6996\n",
      "Epoch 19/20\n",
      "10649/10649 [==============================] - 17s 2ms/step - loss: 0.1059 - categorical_accuracy: 0.9737 - val_loss: 2.2540 - val_categorical_accuracy: 0.6861\n",
      "Epoch 20/20\n",
      "10649/10649 [==============================] - 17s 2ms/step - loss: 0.0953 - categorical_accuracy: 0.9734 - val_loss: 2.4054 - val_categorical_accuracy: 0.6759\n"
     ]
    }
   ],
   "source": [
    "history = model.fit(x, y, epochs=20, batch_size=32, validation_split=0.2, verbose=1, shuffle=True)"
   ]
  },
  {
   "cell_type": "code",
   "execution_count": 15,
   "metadata": {},
   "outputs": [
    {
     "name": "stdout",
     "output_type": "stream",
     "text": [
      "Train on 10649 samples, validate on 2663 samples\n",
      "Epoch 1/20\n",
      "10649/10649 [==============================] - 18s 2ms/step - loss: 1.7098 - categorical_accuracy: 0.5764 - val_loss: 1.1012 - val_categorical_accuracy: 0.6384\n",
      "Epoch 2/20\n",
      "10649/10649 [==============================] - 17s 2ms/step - loss: 0.7368 - categorical_accuracy: 0.7671 - val_loss: 1.1673 - val_categorical_accuracy: 0.6207\n",
      "Epoch 3/20\n",
      "10649/10649 [==============================] - 17s 2ms/step - loss: 0.4198 - categorical_accuracy: 0.8613 - val_loss: 1.3048 - val_categorical_accuracy: 0.6395\n",
      "Epoch 4/20\n",
      "10649/10649 [==============================] - 17s 2ms/step - loss: 0.2341 - categorical_accuracy: 0.9238 - val_loss: 1.5454 - val_categorical_accuracy: 0.6699\n",
      "Epoch 5/20\n",
      "10649/10649 [==============================] - 17s 2ms/step - loss: 0.1496 - categorical_accuracy: 0.9528 - val_loss: 1.7734 - val_categorical_accuracy: 0.6902\n",
      "Epoch 6/20\n",
      "10649/10649 [==============================] - 17s 2ms/step - loss: 0.1072 - categorical_accuracy: 0.9684 - val_loss: 2.1606 - val_categorical_accuracy: 0.6590\n",
      "Epoch 7/20\n",
      "10649/10649 [==============================] - 17s 2ms/step - loss: 0.0675 - categorical_accuracy: 0.9801 - val_loss: 2.1986 - val_categorical_accuracy: 0.6853\n",
      "Epoch 8/20\n",
      "10649/10649 [==============================] - 17s 2ms/step - loss: 0.0655 - categorical_accuracy: 0.9818 - val_loss: 2.4251 - val_categorical_accuracy: 0.6801\n",
      "Epoch 9/20\n",
      "10649/10649 [==============================] - 17s 2ms/step - loss: 0.0589 - categorical_accuracy: 0.9841 - val_loss: 2.3139 - val_categorical_accuracy: 0.6849\n",
      "Epoch 10/20\n",
      "10649/10649 [==============================] - 17s 2ms/step - loss: 0.0522 - categorical_accuracy: 0.9855 - val_loss: 2.4254 - val_categorical_accuracy: 0.6879\n",
      "Epoch 11/20\n",
      "10649/10649 [==============================] - 17s 2ms/step - loss: 0.0449 - categorical_accuracy: 0.9885 - val_loss: 2.6331 - val_categorical_accuracy: 0.6695\n",
      "Epoch 12/20\n",
      "10649/10649 [==============================] - 17s 2ms/step - loss: 0.0394 - categorical_accuracy: 0.9896 - val_loss: 2.5501 - val_categorical_accuracy: 0.6864\n",
      "Epoch 13/20\n",
      "10649/10649 [==============================] - 17s 2ms/step - loss: 0.0475 - categorical_accuracy: 0.9890 - val_loss: 2.6629 - val_categorical_accuracy: 0.6872\n",
      "Epoch 14/20\n",
      "10649/10649 [==============================] - 17s 2ms/step - loss: 0.0405 - categorical_accuracy: 0.9900 - val_loss: 2.5024 - val_categorical_accuracy: 0.7078\n",
      "Epoch 15/20\n",
      "10649/10649 [==============================] - 17s 2ms/step - loss: 0.0346 - categorical_accuracy: 0.9917 - val_loss: 3.0016 - val_categorical_accuracy: 0.6568\n",
      "Epoch 16/20\n",
      "10649/10649 [==============================] - 17s 2ms/step - loss: 0.0334 - categorical_accuracy: 0.9907 - val_loss: 2.5343 - val_categorical_accuracy: 0.7045\n",
      "Epoch 17/20\n",
      "10649/10649 [==============================] - 17s 2ms/step - loss: 0.0257 - categorical_accuracy: 0.9942 - val_loss: 2.6686 - val_categorical_accuracy: 0.7078\n",
      "Epoch 18/20\n",
      "10649/10649 [==============================] - 17s 2ms/step - loss: 0.0233 - categorical_accuracy: 0.9948 - val_loss: 2.9914 - val_categorical_accuracy: 0.6797\n",
      "Epoch 19/20\n",
      "10649/10649 [==============================] - 17s 2ms/step - loss: 0.0313 - categorical_accuracy: 0.9935 - val_loss: 2.9127 - val_categorical_accuracy: 0.6789\n",
      "Epoch 20/20\n",
      "10649/10649 [==============================] - 17s 2ms/step - loss: 0.0323 - categorical_accuracy: 0.9929 - val_loss: 2.9883 - val_categorical_accuracy: 0.6879\n"
     ]
    }
   ],
   "source": [
    "model = Sequential()\n",
    "model.add(Embedding(vocabulario, dim_vetor, weights=[embedding_matrix], input_length=limite_texto, trainable=False))\n",
    "model.add(Flatten())\n",
    "model.add(Dense(2048, activation='relu'))\n",
    "model.add(Dropout(0.4))\n",
    "model.add(Dense(1024, activation='relu'))\n",
    "model.add(Dropout(0.4))\n",
    "model.add(Dense(y.shape[1], activation='softmax'))\n",
    "model.compile(loss='categorical_crossentropy', optimizer='adadelta',  metrics=[\"categorical_accuracy\"])\n",
    "\n",
    "history = model.fit(x, y, epochs=20, batch_size=32, validation_split=0.2, verbose=1, shuffle=True)"
   ]
  },
  {
   "cell_type": "code",
   "execution_count": 16,
   "metadata": {},
   "outputs": [
    {
     "name": "stdout",
     "output_type": "stream",
     "text": [
      "Train on 10649 samples, validate on 2663 samples\n",
      "Epoch 1/20\n",
      "10649/10649 [==============================] - 17s 2ms/step - loss: 1.4884 - categorical_accuracy: 0.5674 - val_loss: 1.2033 - val_categorical_accuracy: 0.5997\n",
      "Epoch 2/20\n",
      "10649/10649 [==============================] - 16s 2ms/step - loss: 0.8624 - categorical_accuracy: 0.7149 - val_loss: 1.1532 - val_categorical_accuracy: 0.6489\n",
      "Epoch 3/20\n",
      "10649/10649 [==============================] - 16s 2ms/step - loss: 0.6100 - categorical_accuracy: 0.7977 - val_loss: 1.1342 - val_categorical_accuracy: 0.6786\n",
      "Epoch 4/20\n",
      "10649/10649 [==============================] - 16s 1ms/step - loss: 0.4055 - categorical_accuracy: 0.8658 - val_loss: 1.3536 - val_categorical_accuracy: 0.6812\n",
      "Epoch 5/20\n",
      "10649/10649 [==============================] - 16s 1ms/step - loss: 0.2538 - categorical_accuracy: 0.9144 - val_loss: 1.4928 - val_categorical_accuracy: 0.6695\n",
      "Epoch 6/20\n",
      "10649/10649 [==============================] - 16s 2ms/step - loss: 0.1639 - categorical_accuracy: 0.9483 - val_loss: 1.5812 - val_categorical_accuracy: 0.6812\n",
      "Epoch 7/20\n",
      "10649/10649 [==============================] - 16s 2ms/step - loss: 0.1069 - categorical_accuracy: 0.9648 - val_loss: 2.0213 - val_categorical_accuracy: 0.6831\n",
      "Epoch 8/20\n",
      "10649/10649 [==============================] - 16s 2ms/step - loss: 0.0955 - categorical_accuracy: 0.9713 - val_loss: 2.0694 - val_categorical_accuracy: 0.6883\n",
      "Epoch 9/20\n",
      "10649/10649 [==============================] - 16s 2ms/step - loss: 0.0703 - categorical_accuracy: 0.9791 - val_loss: 1.9944 - val_categorical_accuracy: 0.7067\n",
      "Epoch 10/20\n",
      "10649/10649 [==============================] - 16s 2ms/step - loss: 0.0648 - categorical_accuracy: 0.9819 - val_loss: 2.1815 - val_categorical_accuracy: 0.6985\n",
      "Epoch 11/20\n",
      "10649/10649 [==============================] - 16s 2ms/step - loss: 0.0481 - categorical_accuracy: 0.9844 - val_loss: 2.0543 - val_categorical_accuracy: 0.7041\n",
      "Epoch 12/20\n",
      "10649/10649 [==============================] - 16s 2ms/step - loss: 0.0503 - categorical_accuracy: 0.9843 - val_loss: 2.2300 - val_categorical_accuracy: 0.6902\n",
      "Epoch 13/20\n",
      "10649/10649 [==============================] - 16s 2ms/step - loss: 0.0373 - categorical_accuracy: 0.9892 - val_loss: 2.3393 - val_categorical_accuracy: 0.7097\n",
      "Epoch 14/20\n",
      "10649/10649 [==============================] - 16s 2ms/step - loss: 0.0350 - categorical_accuracy: 0.9892 - val_loss: 2.4757 - val_categorical_accuracy: 0.6913\n",
      "Epoch 15/20\n",
      "10649/10649 [==============================] - 16s 2ms/step - loss: 0.0364 - categorical_accuracy: 0.9907 - val_loss: 2.2760 - val_categorical_accuracy: 0.7157\n",
      "Epoch 16/20\n",
      "10649/10649 [==============================] - 16s 2ms/step - loss: 0.0362 - categorical_accuracy: 0.9919 - val_loss: 2.6758 - val_categorical_accuracy: 0.6913\n",
      "Epoch 17/20\n",
      "10649/10649 [==============================] - 16s 1ms/step - loss: 0.0287 - categorical_accuracy: 0.9930 - val_loss: 2.6779 - val_categorical_accuracy: 0.6868\n",
      "Epoch 18/20\n",
      "10649/10649 [==============================] - 16s 1ms/step - loss: 0.0247 - categorical_accuracy: 0.9928 - val_loss: 2.6065 - val_categorical_accuracy: 0.6921\n",
      "Epoch 19/20\n",
      "10649/10649 [==============================] - 16s 1ms/step - loss: 0.0254 - categorical_accuracy: 0.9931 - val_loss: 2.6803 - val_categorical_accuracy: 0.6906\n",
      "Epoch 20/20\n",
      "10649/10649 [==============================] - 16s 1ms/step - loss: 0.0256 - categorical_accuracy: 0.9946 - val_loss: 2.6674 - val_categorical_accuracy: 0.6902\n"
     ]
    }
   ],
   "source": [
    "model = Sequential()\n",
    "model.add(Embedding(vocabulario, dim_vetor, weights=[embedding_matrix], input_length=limite_texto, trainable=False))\n",
    "model.add(Flatten())\n",
    "model.add(Dense(2048, activation='relu'))\n",
    "model.add(Dropout(0.4))\n",
    "model.add(Dense(256, activation='relu'))\n",
    "model.add(Dropout(0.4))\n",
    "model.add(Dense(y.shape[1], activation='softmax'))\n",
    "model.compile(loss='categorical_crossentropy', optimizer='adadelta',  metrics=[\"categorical_accuracy\"])\n",
    "\n",
    "history = model.fit(x, y, epochs=20, batch_size=32, validation_split=0.2, verbose=1, shuffle=True)"
   ]
  },
  {
   "cell_type": "markdown",
   "metadata": {},
   "source": [
    "## Embedding com pesos ajustáveis"
   ]
  },
  {
   "cell_type": "code",
   "execution_count": 17,
   "metadata": {},
   "outputs": [
    {
     "name": "stderr",
     "output_type": "stream",
     "text": [
      "W0912 11:27:55.429187 139684724791104 nn_ops.py:4224] Large dropout rate: 0.6 (>0.5). In TensorFlow 2.x, dropout() uses dropout rate instead of keep_prob. Please ensure that this is intended.\n",
      "W0912 11:27:55.453449 139684724791104 nn_ops.py:4224] Large dropout rate: 0.6 (>0.5). In TensorFlow 2.x, dropout() uses dropout rate instead of keep_prob. Please ensure that this is intended.\n"
     ]
    },
    {
     "name": "stdout",
     "output_type": "stream",
     "text": [
      "_________________________________________________________________\n",
      "Layer (type)                 Output Shape              Param #   \n",
      "=================================================================\n",
      "embedding_4 (Embedding)      (None, 200, 100)          1538800   \n",
      "_________________________________________________________________\n",
      "flatten_4 (Flatten)          (None, 20000)             0         \n",
      "_________________________________________________________________\n",
      "dense_10 (Dense)             (None, 2048)              40962048  \n",
      "_________________________________________________________________\n",
      "dropout_7 (Dropout)          (None, 2048)              0         \n",
      "_________________________________________________________________\n",
      "dense_11 (Dense)             (None, 1024)              2098176   \n",
      "_________________________________________________________________\n",
      "dropout_8 (Dropout)          (None, 1024)              0         \n",
      "_________________________________________________________________\n",
      "dense_12 (Dense)             (None, 10)                10250     \n",
      "=================================================================\n",
      "Total params: 44,609,274\n",
      "Trainable params: 44,609,274\n",
      "Non-trainable params: 0\n",
      "_________________________________________________________________\n",
      "Train on 10649 samples, validate on 2663 samples\n",
      "Epoch 1/20\n",
      "10649/10649 [==============================] - 19s 2ms/step - loss: 1.9351 - categorical_accuracy: 0.5199 - val_loss: 1.2137 - val_categorical_accuracy: 0.5809\n",
      "Epoch 2/20\n",
      "10649/10649 [==============================] - 17s 2ms/step - loss: 1.0076 - categorical_accuracy: 0.6899 - val_loss: 1.0468 - val_categorical_accuracy: 0.6654\n",
      "Epoch 3/20\n",
      "10649/10649 [==============================] - 17s 2ms/step - loss: 0.7412 - categorical_accuracy: 0.7697 - val_loss: 1.0465 - val_categorical_accuracy: 0.6891\n",
      "Epoch 4/20\n",
      "10649/10649 [==============================] - 17s 2ms/step - loss: 0.5584 - categorical_accuracy: 0.8279 - val_loss: 1.0765 - val_categorical_accuracy: 0.6917\n",
      "Epoch 5/20\n",
      "10649/10649 [==============================] - 17s 2ms/step - loss: 0.4295 - categorical_accuracy: 0.8703 - val_loss: 1.1779 - val_categorical_accuracy: 0.6966\n",
      "Epoch 6/20\n",
      "10649/10649 [==============================] - 17s 2ms/step - loss: 0.3362 - categorical_accuracy: 0.8986 - val_loss: 1.3716 - val_categorical_accuracy: 0.6906\n",
      "Epoch 7/20\n",
      "10649/10649 [==============================] - 17s 2ms/step - loss: 0.2656 - categorical_accuracy: 0.9219 - val_loss: 1.5809 - val_categorical_accuracy: 0.6722\n",
      "Epoch 8/20\n",
      "10649/10649 [==============================] - 17s 2ms/step - loss: 0.2413 - categorical_accuracy: 0.9324 - val_loss: 1.4522 - val_categorical_accuracy: 0.7063\n",
      "Epoch 9/20\n",
      "10649/10649 [==============================] - 17s 2ms/step - loss: 0.1920 - categorical_accuracy: 0.9476 - val_loss: 1.7109 - val_categorical_accuracy: 0.6910\n",
      "Epoch 10/20\n",
      "10649/10649 [==============================] - 17s 2ms/step - loss: 0.1705 - categorical_accuracy: 0.9544 - val_loss: 1.8764 - val_categorical_accuracy: 0.6913\n",
      "Epoch 11/20\n",
      "10649/10649 [==============================] - 17s 2ms/step - loss: 0.1558 - categorical_accuracy: 0.9572 - val_loss: 1.7664 - val_categorical_accuracy: 0.7124\n",
      "Epoch 12/20\n",
      "10649/10649 [==============================] - 17s 2ms/step - loss: 0.1297 - categorical_accuracy: 0.9666 - val_loss: 1.8577 - val_categorical_accuracy: 0.7090\n",
      "Epoch 13/20\n",
      "10649/10649 [==============================] - 17s 2ms/step - loss: 0.1279 - categorical_accuracy: 0.9657 - val_loss: 2.0897 - val_categorical_accuracy: 0.6940\n",
      "Epoch 14/20\n",
      "10649/10649 [==============================] - 17s 2ms/step - loss: 0.1179 - categorical_accuracy: 0.9703 - val_loss: 1.9796 - val_categorical_accuracy: 0.7105\n",
      "Epoch 15/20\n",
      "10649/10649 [==============================] - 17s 2ms/step - loss: 0.1154 - categorical_accuracy: 0.9685 - val_loss: 1.9504 - val_categorical_accuracy: 0.7037\n",
      "Epoch 16/20\n",
      "10649/10649 [==============================] - 17s 2ms/step - loss: 0.0905 - categorical_accuracy: 0.9742 - val_loss: 2.0717 - val_categorical_accuracy: 0.6861\n",
      "Epoch 17/20\n",
      "10649/10649 [==============================] - 17s 2ms/step - loss: 0.1013 - categorical_accuracy: 0.9756 - val_loss: 2.0476 - val_categorical_accuracy: 0.7124\n",
      "Epoch 18/20\n",
      "10649/10649 [==============================] - 17s 2ms/step - loss: 0.1009 - categorical_accuracy: 0.9760 - val_loss: 2.2563 - val_categorical_accuracy: 0.7018\n",
      "Epoch 19/20\n",
      "10649/10649 [==============================] - 17s 2ms/step - loss: 0.0900 - categorical_accuracy: 0.9788 - val_loss: 2.1236 - val_categorical_accuracy: 0.7214\n",
      "Epoch 20/20\n",
      "10649/10649 [==============================] - 17s 2ms/step - loss: 0.0800 - categorical_accuracy: 0.9796 - val_loss: 2.1305 - val_categorical_accuracy: 0.7105\n"
     ]
    }
   ],
   "source": [
    "from keras.models import Sequential\n",
    "from keras.layers import Flatten, Dense, Embedding\n",
    "from keras.layers.core import Dropout\n",
    "\n",
    "model = Sequential()\n",
    "model.add(Embedding(vocabulario, dim_vetor, weights=[embedding_matrix], input_length=limite_texto, trainable=True))\n",
    "model.add(Flatten())\n",
    "model.add(Dense(2048, activation='relu'))\n",
    "model.add(Dropout(0.6))\n",
    "model.add(Dense(1024, activation='relu'))\n",
    "model.add(Dropout(0.6))\n",
    "model.add(Dense(y.shape[1], activation='softmax'))\n",
    "model.compile(loss='categorical_crossentropy', optimizer='adadelta',  metrics=[\"categorical_accuracy\"])\n",
    "model.summary()\n",
    "\n",
    "history = model.fit(x, y, epochs=20, batch_size=32, validation_split=0.2, verbose=1, shuffle=True)"
   ]
  },
  {
   "cell_type": "code",
   "execution_count": 18,
   "metadata": {},
   "outputs": [
    {
     "name": "stdout",
     "output_type": "stream",
     "text": [
      "Train on 10649 samples, validate on 2663 samples\n",
      "Epoch 1/20\n",
      "10649/10649 [==============================] - 19s 2ms/step - loss: 1.4557 - categorical_accuracy: 0.5836 - val_loss: 1.2753 - val_categorical_accuracy: 0.5546\n",
      "Epoch 2/20\n",
      "10649/10649 [==============================] - 17s 2ms/step - loss: 0.7051 - categorical_accuracy: 0.7716 - val_loss: 1.1230 - val_categorical_accuracy: 0.6440\n",
      "Epoch 3/20\n",
      "10649/10649 [==============================] - 17s 2ms/step - loss: 0.3966 - categorical_accuracy: 0.8683 - val_loss: 1.4748 - val_categorical_accuracy: 0.6538\n",
      "Epoch 4/20\n",
      "10649/10649 [==============================] - 17s 2ms/step - loss: 0.2005 - categorical_accuracy: 0.9361 - val_loss: 1.5702 - val_categorical_accuracy: 0.6928\n",
      "Epoch 5/20\n",
      "10649/10649 [==============================] - 17s 2ms/step - loss: 0.1198 - categorical_accuracy: 0.9618 - val_loss: 1.7197 - val_categorical_accuracy: 0.6891\n",
      "Epoch 6/20\n",
      "10649/10649 [==============================] - 17s 2ms/step - loss: 0.0857 - categorical_accuracy: 0.9743 - val_loss: 1.8336 - val_categorical_accuracy: 0.7011\n",
      "Epoch 7/20\n",
      "10649/10649 [==============================] - 17s 2ms/step - loss: 0.0631 - categorical_accuracy: 0.9805 - val_loss: 1.9891 - val_categorical_accuracy: 0.7086\n",
      "Epoch 8/20\n",
      "10649/10649 [==============================] - 17s 2ms/step - loss: 0.0533 - categorical_accuracy: 0.9849 - val_loss: 2.1143 - val_categorical_accuracy: 0.7120\n",
      "Epoch 9/20\n",
      "10649/10649 [==============================] - 17s 2ms/step - loss: 0.0440 - categorical_accuracy: 0.9871 - val_loss: 2.3358 - val_categorical_accuracy: 0.7060\n",
      "Epoch 10/20\n",
      "10649/10649 [==============================] - 17s 2ms/step - loss: 0.0440 - categorical_accuracy: 0.9881 - val_loss: 2.4147 - val_categorical_accuracy: 0.6932\n",
      "Epoch 11/20\n",
      "10649/10649 [==============================] - 17s 2ms/step - loss: 0.0370 - categorical_accuracy: 0.9901 - val_loss: 2.4732 - val_categorical_accuracy: 0.6902\n",
      "Epoch 12/20\n",
      "10649/10649 [==============================] - 17s 2ms/step - loss: 0.0353 - categorical_accuracy: 0.9918 - val_loss: 2.3177 - val_categorical_accuracy: 0.7105\n",
      "Epoch 13/20\n",
      "10649/10649 [==============================] - 17s 2ms/step - loss: 0.0284 - categorical_accuracy: 0.9921 - val_loss: 2.6037 - val_categorical_accuracy: 0.6936\n",
      "Epoch 14/20\n",
      "10649/10649 [==============================] - 17s 2ms/step - loss: 0.0345 - categorical_accuracy: 0.9913 - val_loss: 2.6529 - val_categorical_accuracy: 0.6932\n",
      "Epoch 15/20\n",
      "10649/10649 [==============================] - 17s 2ms/step - loss: 0.0346 - categorical_accuracy: 0.9922 - val_loss: 2.7017 - val_categorical_accuracy: 0.6928\n",
      "Epoch 16/20\n",
      "10649/10649 [==============================] - 17s 2ms/step - loss: 0.0248 - categorical_accuracy: 0.9943 - val_loss: 2.5299 - val_categorical_accuracy: 0.7146\n",
      "Epoch 17/20\n",
      "10649/10649 [==============================] - 17s 2ms/step - loss: 0.0362 - categorical_accuracy: 0.9908 - val_loss: 2.5848 - val_categorical_accuracy: 0.7131\n",
      "Epoch 18/20\n",
      "10649/10649 [==============================] - 17s 2ms/step - loss: 0.0265 - categorical_accuracy: 0.9939 - val_loss: 2.7681 - val_categorical_accuracy: 0.7011\n",
      "Epoch 19/20\n",
      "10649/10649 [==============================] - 18s 2ms/step - loss: 0.0241 - categorical_accuracy: 0.9938 - val_loss: 2.9603 - val_categorical_accuracy: 0.6808\n",
      "Epoch 20/20\n",
      "10649/10649 [==============================] - 18s 2ms/step - loss: 0.0181 - categorical_accuracy: 0.9960 - val_loss: 2.8487 - val_categorical_accuracy: 0.7007\n"
     ]
    }
   ],
   "source": [
    "model = Sequential()\n",
    "model.add(Embedding(vocabulario, dim_vetor, weights=[embedding_matrix], input_length=limite_texto, trainable=True))\n",
    "model.add(Flatten())\n",
    "model.add(Dense(2048, activation='relu'))\n",
    "model.add(Dropout(0.4))\n",
    "model.add(Dense(1024, activation='relu'))\n",
    "model.add(Dropout(0.4))\n",
    "model.add(Dense(y.shape[1], activation='softmax'))\n",
    "model.compile(loss='categorical_crossentropy', optimizer='adadelta',  metrics=[\"categorical_accuracy\"])\n",
    "\n",
    "history = model.fit(x, y, epochs=20, batch_size=32, validation_split=0.2, verbose=1, shuffle=True)"
   ]
  },
  {
   "cell_type": "code",
   "execution_count": 19,
   "metadata": {},
   "outputs": [
    {
     "name": "stdout",
     "output_type": "stream",
     "text": [
      "Train on 10649 samples, validate on 2663 samples\n",
      "Epoch 1/20\n",
      "10649/10649 [==============================] - 19s 2ms/step - loss: 1.5143 - categorical_accuracy: 0.5591 - val_loss: 1.2118 - val_categorical_accuracy: 0.5790\n",
      "Epoch 2/20\n",
      "10649/10649 [==============================] - 18s 2ms/step - loss: 0.8747 - categorical_accuracy: 0.7174 - val_loss: 0.9873 - val_categorical_accuracy: 0.6774\n",
      "Epoch 3/20\n",
      "10649/10649 [==============================] - 17s 2ms/step - loss: 0.5976 - categorical_accuracy: 0.8064 - val_loss: 1.0315 - val_categorical_accuracy: 0.6910\n",
      "Epoch 4/20\n",
      "10649/10649 [==============================] - 17s 2ms/step - loss: 0.3818 - categorical_accuracy: 0.8750 - val_loss: 1.3448 - val_categorical_accuracy: 0.6891\n",
      "Epoch 5/20\n",
      "10649/10649 [==============================] - 18s 2ms/step - loss: 0.2392 - categorical_accuracy: 0.9204 - val_loss: 1.4156 - val_categorical_accuracy: 0.7067\n",
      "Epoch 6/20\n",
      "10649/10649 [==============================] - 17s 2ms/step - loss: 0.1607 - categorical_accuracy: 0.9503 - val_loss: 1.6591 - val_categorical_accuracy: 0.6943\n",
      "Epoch 7/20\n",
      "10649/10649 [==============================] - 17s 2ms/step - loss: 0.1072 - categorical_accuracy: 0.9673 - val_loss: 2.1041 - val_categorical_accuracy: 0.6940\n",
      "Epoch 8/20\n",
      "10649/10649 [==============================] - 18s 2ms/step - loss: 0.0820 - categorical_accuracy: 0.9761 - val_loss: 1.9115 - val_categorical_accuracy: 0.7202\n",
      "Epoch 9/20\n",
      "10649/10649 [==============================] - 18s 2ms/step - loss: 0.0676 - categorical_accuracy: 0.9807 - val_loss: 2.2203 - val_categorical_accuracy: 0.6925\n",
      "Epoch 10/20\n",
      "10649/10649 [==============================] - 18s 2ms/step - loss: 0.0611 - categorical_accuracy: 0.9824 - val_loss: 2.2417 - val_categorical_accuracy: 0.7101\n",
      "Epoch 11/20\n",
      "10649/10649 [==============================] - 17s 2ms/step - loss: 0.0421 - categorical_accuracy: 0.9884 - val_loss: 2.3366 - val_categorical_accuracy: 0.7033\n",
      "Epoch 12/20\n",
      "10649/10649 [==============================] - 17s 2ms/step - loss: 0.0439 - categorical_accuracy: 0.9882 - val_loss: 2.2508 - val_categorical_accuracy: 0.7127\n",
      "Epoch 13/20\n",
      "10649/10649 [==============================] - 17s 2ms/step - loss: 0.0356 - categorical_accuracy: 0.9892 - val_loss: 2.4822 - val_categorical_accuracy: 0.7086\n",
      "Epoch 14/20\n",
      "10649/10649 [==============================] - 17s 2ms/step - loss: 0.0401 - categorical_accuracy: 0.9891 - val_loss: 2.3227 - val_categorical_accuracy: 0.7150\n",
      "Epoch 15/20\n",
      "10649/10649 [==============================] - 17s 2ms/step - loss: 0.0336 - categorical_accuracy: 0.9908 - val_loss: 2.3931 - val_categorical_accuracy: 0.7086\n",
      "Epoch 16/20\n",
      "10649/10649 [==============================] - 17s 2ms/step - loss: 0.0302 - categorical_accuracy: 0.9924 - val_loss: 2.3496 - val_categorical_accuracy: 0.7142\n",
      "Epoch 17/20\n",
      "10649/10649 [==============================] - 17s 2ms/step - loss: 0.0224 - categorical_accuracy: 0.9936 - val_loss: 2.5722 - val_categorical_accuracy: 0.7142\n",
      "Epoch 18/20\n",
      "10649/10649 [==============================] - 17s 2ms/step - loss: 0.0242 - categorical_accuracy: 0.9936 - val_loss: 2.6157 - val_categorical_accuracy: 0.7142\n",
      "Epoch 19/20\n",
      "10649/10649 [==============================] - 17s 2ms/step - loss: 0.0240 - categorical_accuracy: 0.9946 - val_loss: 2.5550 - val_categorical_accuracy: 0.7180\n",
      "Epoch 20/20\n",
      "10649/10649 [==============================] - 17s 2ms/step - loss: 0.0226 - categorical_accuracy: 0.9953 - val_loss: 2.6128 - val_categorical_accuracy: 0.7210\n"
     ]
    }
   ],
   "source": [
    "model = Sequential()\n",
    "model.add(Embedding(vocabulario, dim_vetor, weights=[embedding_matrix], input_length=limite_texto, trainable=True))\n",
    "model.add(Flatten())\n",
    "model.add(Dense(2048, activation='relu'))\n",
    "model.add(Dropout(0.4))\n",
    "model.add(Dense(256, activation='relu'))\n",
    "model.add(Dropout(0.4))\n",
    "model.add(Dense(y.shape[1], activation='softmax'))\n",
    "model.compile(loss='categorical_crossentropy', optimizer='adadelta',  metrics=[\"categorical_accuracy\"])\n",
    "\n",
    "history = model.fit(x, y, epochs=20, batch_size=32, validation_split=0.2, verbose=1, shuffle=True)"
   ]
  },
  {
   "cell_type": "code",
   "execution_count": null,
   "metadata": {
    "collapsed": true
   },
   "outputs": [],
   "source": []
  }
 ],
 "metadata": {
  "kernelspec": {
   "display_name": "Python 3",
   "language": "python",
   "name": "python3"
  },
  "language_info": {
   "codemirror_mode": {
    "name": "ipython",
    "version": 3
   },
   "file_extension": ".py",
   "mimetype": "text/x-python",
   "name": "python",
   "nbconvert_exporter": "python",
   "pygments_lexer": "ipython3",
   "version": "3.6.1"
  }
 },
 "nbformat": 4,
 "nbformat_minor": 2
}
