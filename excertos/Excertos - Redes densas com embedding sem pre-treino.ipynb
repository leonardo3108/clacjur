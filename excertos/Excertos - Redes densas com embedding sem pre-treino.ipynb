{
 "cells": [
  {
   "cell_type": "markdown",
   "metadata": {},
   "source": [
    "# Importação e preparação dos dados"
   ]
  },
  {
   "cell_type": "code",
   "execution_count": 1,
   "metadata": {},
   "outputs": [
    {
     "data": {
      "text/html": [
       "<div>\n",
       "<style scoped>\n",
       "    .dataframe tbody tr th:only-of-type {\n",
       "        vertical-align: middle;\n",
       "    }\n",
       "\n",
       "    .dataframe tbody tr th {\n",
       "        vertical-align: top;\n",
       "    }\n",
       "\n",
       "    .dataframe thead th {\n",
       "        text-align: right;\n",
       "    }\n",
       "</style>\n",
       "<table border=\"1\" class=\"dataframe\">\n",
       "  <thead>\n",
       "    <tr style=\"text-align: right;\">\n",
       "      <th></th>\n",
       "      <th>COD</th>\n",
       "      <th>NUM_ENUNCIADO</th>\n",
       "      <th>COD_AREA</th>\n",
       "      <th>DESCR_AREA</th>\n",
       "      <th>COD_TEMA</th>\n",
       "      <th>DESCR_TEMA</th>\n",
       "      <th>COD_SUBTEMA</th>\n",
       "      <th>DESCR_SUBTEMA</th>\n",
       "      <th>COD_DOC_TRAMITAVEL_EXCERTO</th>\n",
       "      <th>TEXTO_EXCERTO</th>\n",
       "      <th>ACORDAO</th>\n",
       "      <th>TIPO_PROCESSO</th>\n",
       "    </tr>\n",
       "  </thead>\n",
       "  <tbody>\n",
       "    <tr>\n",
       "      <th>0</th>\n",
       "      <td>1400</td>\n",
       "      <td>1236</td>\n",
       "      <td>50</td>\n",
       "      <td>Responsabilidade</td>\n",
       "      <td>488</td>\n",
       "      <td>Solidariedade</td>\n",
       "      <td>261</td>\n",
       "      <td>Benefício previdenciário</td>\n",
       "      <td>54995438</td>\n",
       "      <td>Voto:Cuidam os autos de tomada de contas espec...</td>\n",
       "      <td>Acórdão 297/2016 - PL</td>\n",
       "      <td>Tomada de Contas Especial</td>\n",
       "    </tr>\n",
       "    <tr>\n",
       "      <th>1</th>\n",
       "      <td>1700</td>\n",
       "      <td>1534</td>\n",
       "      <td>46</td>\n",
       "      <td>Finanças Públicas</td>\n",
       "      <td>981</td>\n",
       "      <td>Exportação</td>\n",
       "      <td>983</td>\n",
       "      <td>Petróleo</td>\n",
       "      <td>55025603</td>\n",
       "      <td>Voto:Cuidam os autos de Solicitação do Congres...</td>\n",
       "      <td>Acórdão 366/2016 - PL</td>\n",
       "      <td>Solicitação do Congresso Nacional</td>\n",
       "    </tr>\n",
       "    <tr>\n",
       "      <th>2</th>\n",
       "      <td>5700</td>\n",
       "      <td>5314</td>\n",
       "      <td>50</td>\n",
       "      <td>Responsabilidade</td>\n",
       "      <td>203</td>\n",
       "      <td>Multa</td>\n",
       "      <td>1021</td>\n",
       "      <td>Dosimetria</td>\n",
       "      <td>55455375</td>\n",
       "      <td>Relatório:Trata-se de embargos de declaração o...</td>\n",
       "      <td>Acórdão 944/2016 - PL</td>\n",
       "      <td>Acompanhamento</td>\n",
       "    </tr>\n",
       "    <tr>\n",
       "      <th>3</th>\n",
       "      <td>284</td>\n",
       "      <td>40</td>\n",
       "      <td>45</td>\n",
       "      <td>Direito Processual</td>\n",
       "      <td>162</td>\n",
       "      <td>Princípio da independência das instâncias</td>\n",
       "      <td>481</td>\n",
       "      <td>Decisão judicial</td>\n",
       "      <td>54773747</td>\n",
       "      <td>Voto:8. Em relação a outros processos judiciai...</td>\n",
       "      <td>Acórdão 30/2016 - PL</td>\n",
       "      <td>Tomada de Contas Especial</td>\n",
       "    </tr>\n",
       "    <tr>\n",
       "      <th>4</th>\n",
       "      <td>298</td>\n",
       "      <td>54</td>\n",
       "      <td>49</td>\n",
       "      <td>Pessoal</td>\n",
       "      <td>141</td>\n",
       "      <td>Sistema S</td>\n",
       "      <td>142</td>\n",
       "      <td>Nepotismo</td>\n",
       "      <td>54773403</td>\n",
       "      <td>Voto:11. Relativamente ao ato envolvendo a Sra...</td>\n",
       "      <td>Acórdão 55/2016 - PL</td>\n",
       "      <td>Representação</td>\n",
       "    </tr>\n",
       "  </tbody>\n",
       "</table>\n",
       "</div>"
      ],
      "text/plain": [
       "    COD  NUM_ENUNCIADO  COD_AREA          DESCR_AREA  COD_TEMA  \\\n",
       "0  1400           1236        50    Responsabilidade       488   \n",
       "1  1700           1534        46   Finanças Públicas       981   \n",
       "2  5700           5314        50    Responsabilidade       203   \n",
       "3   284             40        45  Direito Processual       162   \n",
       "4   298             54        49             Pessoal       141   \n",
       "\n",
       "                                  DESCR_TEMA  COD_SUBTEMA  \\\n",
       "0                              Solidariedade          261   \n",
       "1                                 Exportação          983   \n",
       "2                                      Multa         1021   \n",
       "3  Princípio da independência das instâncias          481   \n",
       "4                                  Sistema S          142   \n",
       "\n",
       "              DESCR_SUBTEMA  COD_DOC_TRAMITAVEL_EXCERTO  \\\n",
       "0  Benefício previdenciário                    54995438   \n",
       "1                  Petróleo                    55025603   \n",
       "2                Dosimetria                    55455375   \n",
       "3          Decisão judicial                    54773747   \n",
       "4                 Nepotismo                    54773403   \n",
       "\n",
       "                                       TEXTO_EXCERTO                ACORDAO  \\\n",
       "0  Voto:Cuidam os autos de tomada de contas espec...  Acórdão 297/2016 - PL   \n",
       "1  Voto:Cuidam os autos de Solicitação do Congres...  Acórdão 366/2016 - PL   \n",
       "2  Relatório:Trata-se de embargos de declaração o...  Acórdão 944/2016 - PL   \n",
       "3  Voto:8. Em relação a outros processos judiciai...   Acórdão 30/2016 - PL   \n",
       "4  Voto:11. Relativamente ao ato envolvendo a Sra...   Acórdão 55/2016 - PL   \n",
       "\n",
       "                        TIPO_PROCESSO  \n",
       "0           Tomada de Contas Especial  \n",
       "1   Solicitação do Congresso Nacional  \n",
       "2                      Acompanhamento  \n",
       "3           Tomada de Contas Especial  \n",
       "4                       Representação  "
      ]
     },
     "execution_count": 1,
     "metadata": {},
     "output_type": "execute_result"
    }
   ],
   "source": [
    "import pandas as pd\n",
    "\n",
    "df = pd.read_csv('../dados/jurisprudencia_selecionada_excertos.CSV', sep = ';')\n",
    "df.head()"
   ]
  },
  {
   "cell_type": "code",
   "execution_count": 2,
   "metadata": {},
   "outputs": [
    {
     "data": {
      "text/plain": [
       "(13285, 12)"
      ]
     },
     "execution_count": 2,
     "metadata": {},
     "output_type": "execute_result"
    }
   ],
   "source": [
    "df.shape"
   ]
  },
  {
   "cell_type": "code",
   "execution_count": 3,
   "metadata": {},
   "outputs": [
    {
     "data": {
      "text/plain": [
       "DESCR_AREA\n",
       "Competência do TCU          553\n",
       "Contrato Administrativo     941\n",
       "Convênio                    683\n",
       "Desestatização              139\n",
       "Direito Processual         1811\n",
       "Finanças Públicas           328\n",
       "Gestão Administrativa       338\n",
       "Licitação                  2756\n",
       "Pessoal                    3393\n",
       "Responsabilidade           2343\n",
       "dtype: int64"
      ]
     },
     "execution_count": 3,
     "metadata": {},
     "output_type": "execute_result"
    }
   ],
   "source": [
    "df.groupby(['DESCR_AREA']).size()"
   ]
  },
  {
   "cell_type": "code",
   "execution_count": 4,
   "metadata": {},
   "outputs": [
    {
     "data": {
      "text/plain": [
       "dict_keys(['Competência do TCU', 'Contrato Administrativo', 'Convênio', 'Desestatização', 'Direito Processual', 'Finanças Públicas', 'Gestão Administrativa', 'Licitação', 'Pessoal', 'Responsabilidade'])"
      ]
     },
     "execution_count": 4,
     "metadata": {},
     "output_type": "execute_result"
    }
   ],
   "source": [
    "areas = df.groupby(['DESCR_AREA']).groups.keys()\n",
    "areas"
   ]
  },
  {
   "cell_type": "code",
   "execution_count": 5,
   "metadata": {},
   "outputs": [
    {
     "data": {
      "text/plain": [
       "array(['Competência do TCU', 'Contrato Administrativo', 'Convênio',\n",
       "       'Desestatização', 'Direito Processual', 'Finanças Públicas',\n",
       "       'Gestão Administrativa', 'Licitação', 'Pessoal',\n",
       "       'Responsabilidade'], dtype='<U23')"
      ]
     },
     "execution_count": 5,
     "metadata": {},
     "output_type": "execute_result"
    }
   ],
   "source": [
    "from sklearn.preprocessing import LabelBinarizer\n",
    "\n",
    "lbArea = LabelBinarizer()\n",
    "lbArea.fit([x for x in areas])\n",
    "lbArea.classes_"
   ]
  },
  {
   "cell_type": "code",
   "execution_count": 6,
   "metadata": {},
   "outputs": [
    {
     "data": {
      "text/plain": [
       "(13285, 10)"
      ]
     },
     "execution_count": 6,
     "metadata": {},
     "output_type": "execute_result"
    }
   ],
   "source": [
    "y = lbArea.transform(df['DESCR_AREA'])\n",
    "y.shape"
   ]
  },
  {
   "cell_type": "code",
   "execution_count": 7,
   "metadata": {},
   "outputs": [
    {
     "name": "stderr",
     "output_type": "stream",
     "text": [
      "Using TensorFlow backend.\n"
     ]
    },
    {
     "name": "stdout",
     "output_type": "stream",
     "text": [
      "Found 63925 unique tokens.\n"
     ]
    }
   ],
   "source": [
    "from keras.preprocessing.text import Tokenizer\n",
    "import numpy as np\n",
    "\n",
    "vocabulario = 20000\n",
    "limite_texto = 2000\n",
    "dim_vetor = 50\n",
    "\n",
    "tokenizer = Tokenizer(num_words=vocabulario)\n",
    "tokenizer.fit_on_texts(df['TEXTO_EXCERTO'])\n",
    "\n",
    "sequences = tokenizer.texts_to_sequences(df['TEXTO_EXCERTO'])\n",
    "\n",
    "word_index = tokenizer.word_index\n",
    "print('Found %s unique tokens.' % len(word_index))"
   ]
  },
  {
   "cell_type": "code",
   "execution_count": 8,
   "metadata": {},
   "outputs": [
    {
     "data": {
      "text/plain": [
       "(34,\n",
       " 597.6371095220173,\n",
       " 5231,\n",
       " 499.176284044151,\n",
       " 13285,\n",
       " 286,\n",
       " 0.02152803914188935)"
      ]
     },
     "execution_count": 8,
     "metadata": {},
     "output_type": "execute_result"
    }
   ],
   "source": [
    "max = 0\n",
    "lens = []\n",
    "for seq in sequences:\n",
    "    lens.append(len(seq))\n",
    "np.min(lens), np.mean(lens), np.max(lens), np.std(lens), len(lens), sum(pd.Series(lens) > 2000), sum(pd.Series(lens) > 2000)/len(lens)"
   ]
  },
  {
   "cell_type": "code",
   "execution_count": 10,
   "metadata": {
    "scrolled": true
   },
   "outputs": [
    {
     "data": {
      "image/png": "[encoded data removed]",
      "text/plain": [
       "<Figure size 432x288 with 1 Axes>"
      ]
     },
     "metadata": {
      "needs_background": "light"
     },
     "output_type": "display_data"
    }
   ],
   "source": [
    "import matplotlib.pyplot as plt\n",
    "plt.hist(lens)\n",
    "\n",
    "plt.show()"
   ]
  },
  {
   "cell_type": "code",
   "execution_count": 11,
   "metadata": {
    "scrolled": true
   },
   "outputs": [
    {
     "data": {
      "image/png": "[encoded data removed]",
      "text/plain": [
       "<Figure size 432x288 with 1 Axes>"
      ]
     },
     "metadata": {
      "needs_background": "light"
     },
     "output_type": "display_data"
    }
   ],
   "source": [
    "import matplotlib.pyplot as plt\n",
    "plt.hist(np.log10(lens))\n",
    "plt.show()"
   ]
  },
  {
   "cell_type": "code",
   "execution_count": 12,
   "metadata": {},
   "outputs": [
    {
     "data": {
      "text/plain": [
       "(292.0, 456.0, 737.0, 1154.2000000000007, 1487.0)"
      ]
     },
     "execution_count": 12,
     "metadata": {},
     "output_type": "execute_result"
    }
   ],
   "source": [
    "np.percentile(lens, 25), np.percentile(lens, 50), np.percentile(lens, 75), np.percentile(lens, 90), np.percentile(lens, 95)"
   ]
  },
  {
   "cell_type": "code",
   "execution_count": 13,
   "metadata": {},
   "outputs": [
    {
     "data": {
      "text/plain": [
       "(2.6653623489816365,\n",
       " 462.7669650679938,\n",
       " 0.30872107568640966,\n",
       " 3.2828045003544557,\n",
       " 1917.805237538811)"
      ]
     },
     "execution_count": 13,
     "metadata": {},
     "output_type": "execute_result"
    }
   ],
   "source": [
    "np.mean(np.log10(lens)), 10**np.mean(np.log10(lens)), np.std(np.log10(lens)), (np.mean(np.log10(lens)) + 2*np.std(np.log10(lens))), 10**(np.mean(np.log10(lens)) + 2*np.std(np.log10(lens)))"
   ]
  },
  {
   "cell_type": "code",
   "execution_count": 14,
   "metadata": {},
   "outputs": [
    {
     "name": "stdout",
     "output_type": "stream",
     "text": [
      "Shape of data tensor: (13285, 2000)\n"
     ]
    }
   ],
   "source": [
    "from keras.preprocessing.sequence import pad_sequences\n",
    "\n",
    "x = pad_sequences(sequences, maxlen=limite_texto)\n",
    "\n",
    "print('Shape of data tensor:', x.shape)"
   ]
  },
  {
   "cell_type": "code",
   "execution_count": 15,
   "metadata": {},
   "outputs": [
    {
     "data": {
      "text/plain": [
       "((13285, 2000), (13285, 10))"
      ]
     },
     "execution_count": 15,
     "metadata": {},
     "output_type": "execute_result"
    }
   ],
   "source": [
    "x.shape, y.shape"
   ]
  },
  {
   "cell_type": "markdown",
   "metadata": {},
   "source": [
    "# Treinamento"
   ]
  },
  {
   "cell_type": "code",
   "execution_count": 16,
   "metadata": {},
   "outputs": [
    {
     "name": "stderr",
     "output_type": "stream",
     "text": [
      "WARNING: Logging before flag parsing goes to stderr.\n",
      "W1101 23:52:00.159480 139854962562880 deprecation_wrapper.py:119] From /home/leonardo/anaconda3/envs/gpu/lib/python3.7/site-packages/keras/backend/tensorflow_backend.py:74: The name tf.get_default_graph is deprecated. Please use tf.compat.v1.get_default_graph instead.\n",
      "\n",
      "W1101 23:52:00.280405 139854962562880 deprecation_wrapper.py:119] From /home/leonardo/anaconda3/envs/gpu/lib/python3.7/site-packages/keras/backend/tensorflow_backend.py:517: The name tf.placeholder is deprecated. Please use tf.compat.v1.placeholder instead.\n",
      "\n",
      "W1101 23:52:00.282432 139854962562880 deprecation_wrapper.py:119] From /home/leonardo/anaconda3/envs/gpu/lib/python3.7/site-packages/keras/backend/tensorflow_backend.py:4138: The name tf.random_uniform is deprecated. Please use tf.random.uniform instead.\n",
      "\n",
      "W1101 23:52:00.312664 139854962562880 deprecation_wrapper.py:119] From /home/leonardo/anaconda3/envs/gpu/lib/python3.7/site-packages/keras/backend/tensorflow_backend.py:133: The name tf.placeholder_with_default is deprecated. Please use tf.compat.v1.placeholder_with_default instead.\n",
      "\n",
      "W1101 23:52:00.319777 139854962562880 deprecation.py:506] From /home/leonardo/anaconda3/envs/gpu/lib/python3.7/site-packages/keras/backend/tensorflow_backend.py:3445: calling dropout (from tensorflow.python.ops.nn_ops) with keep_prob is deprecated and will be removed in a future version.\n",
      "Instructions for updating:\n",
      "Please use `rate` instead of `keep_prob`. Rate should be set to `rate = 1 - keep_prob`.\n",
      "W1101 23:52:00.320373 139854962562880 nn_ops.py:4224] Large dropout rate: 0.6 (>0.5). In TensorFlow 2.x, dropout() uses dropout rate instead of keep_prob. Please ensure that this is intended.\n",
      "W1101 23:52:00.348999 139854962562880 nn_ops.py:4224] Large dropout rate: 0.6 (>0.5). In TensorFlow 2.x, dropout() uses dropout rate instead of keep_prob. Please ensure that this is intended.\n",
      "W1101 23:52:00.374197 139854962562880 deprecation_wrapper.py:119] From /home/leonardo/anaconda3/envs/gpu/lib/python3.7/site-packages/keras/optimizers.py:790: The name tf.train.Optimizer is deprecated. Please use tf.compat.v1.train.Optimizer instead.\n",
      "\n",
      "W1101 23:52:00.389245 139854962562880 deprecation_wrapper.py:119] From /home/leonardo/anaconda3/envs/gpu/lib/python3.7/site-packages/keras/backend/tensorflow_backend.py:3295: The name tf.log is deprecated. Please use tf.math.log instead.\n",
      "\n"
     ]
    },
    {
     "name": "stdout",
     "output_type": "stream",
     "text": [
      "_________________________________________________________________\n",
      "Layer (type)                 Output Shape              Param #   \n",
      "=================================================================\n",
      "embedding_1 (Embedding)      (None, 2000, 50)          1000000   \n",
      "_________________________________________________________________\n",
      "flatten_1 (Flatten)          (None, 100000)            0         \n",
      "_________________________________________________________________\n",
      "dense_1 (Dense)              (None, 512)               51200512  \n",
      "_________________________________________________________________\n",
      "dropout_1 (Dropout)          (None, 512)               0         \n",
      "_________________________________________________________________\n",
      "dense_2 (Dense)              (None, 256)               131328    \n",
      "_________________________________________________________________\n",
      "dropout_2 (Dropout)          (None, 256)               0         \n",
      "_________________________________________________________________\n",
      "dense_3 (Dense)              (None, 10)                2570      \n",
      "=================================================================\n",
      "Total params: 52,334,410\n",
      "Trainable params: 52,334,410\n",
      "Non-trainable params: 0\n",
      "_________________________________________________________________\n"
     ]
    }
   ],
   "source": [
    "from keras.models import Sequential\n",
    "from keras.layers import Flatten, Dense, Embedding\n",
    "from keras.layers.core import Dropout\n",
    "\n",
    "#from keras.optimizers import RMSprop\n",
    "#from keras.layers.core import Dense, Dropout, Activation\n",
    "\n",
    "model = Sequential()\n",
    "model.add(Embedding(vocabulario, dim_vetor, input_length=x.shape[1]))\n",
    "model.add(Flatten())\n",
    "model.add(Dense(512, activation='relu'))\n",
    "model.add(Dropout(0.6))\n",
    "model.add(Dense(256, activation='relu'))\n",
    "model.add(Dropout(0.6))\n",
    "model.add(Dense(y.shape[1], activation='softmax'))\n",
    "model.compile(loss='categorical_crossentropy', optimizer='adadelta',  metrics=[\"categorical_accuracy\"])\n",
    "model.summary()"
   ]
  },
  {
   "cell_type": "code",
   "execution_count": 17,
   "metadata": {},
   "outputs": [
    {
     "name": "stderr",
     "output_type": "stream",
     "text": [
      "W1101 23:52:05.006955 139854962562880 deprecation.py:323] From /home/leonardo/anaconda3/envs/gpu/lib/python3.7/site-packages/tensorflow/python/ops/math_grad.py:1250: add_dispatch_support.<locals>.wrapper (from tensorflow.python.ops.array_ops) is deprecated and will be removed in a future version.\n",
      "Instructions for updating:\n",
      "Use tf.where in 2.0, which has the same broadcast rule as np.where\n"
     ]
    },
    {
     "name": "stdout",
     "output_type": "stream",
     "text": [
      "Train on 10628 samples, validate on 2657 samples\n",
      "Epoch 1/50\n",
      "10628/10628 [==============================] - 34s 3ms/step - loss: 1.8876 - categorical_accuracy: 0.3144 - val_loss: 1.6734 - val_categorical_accuracy: 0.4663\n",
      "Epoch 2/50\n",
      "10628/10628 [==============================] - 22s 2ms/step - loss: 0.9912 - categorical_accuracy: 0.6706 - val_loss: 1.1547 - val_categorical_accuracy: 0.6455\n",
      "Epoch 3/50\n",
      "10628/10628 [==============================] - 22s 2ms/step - loss: 0.4993 - categorical_accuracy: 0.8390 - val_loss: 1.1696 - val_categorical_accuracy: 0.6650\n",
      "Epoch 4/50\n",
      "10628/10628 [==============================] - 22s 2ms/step - loss: 0.2220 - categorical_accuracy: 0.9374 - val_loss: 1.3550 - val_categorical_accuracy: 0.6635\n",
      "Epoch 5/50\n",
      "10628/10628 [==============================] - 22s 2ms/step - loss: 0.1191 - categorical_accuracy: 0.9714 - val_loss: 1.6722 - val_categorical_accuracy: 0.6447\n",
      "Epoch 6/50\n",
      "10628/10628 [==============================] - 22s 2ms/step - loss: 0.0787 - categorical_accuracy: 0.9837 - val_loss: 1.7687 - val_categorical_accuracy: 0.6579\n",
      "Epoch 7/50\n",
      "10628/10628 [==============================] - 22s 2ms/step - loss: 0.0693 - categorical_accuracy: 0.9887 - val_loss: 1.8245 - val_categorical_accuracy: 0.6583\n",
      "Epoch 8/50\n",
      "10628/10628 [==============================] - 22s 2ms/step - loss: 0.0564 - categorical_accuracy: 0.9910 - val_loss: 2.0830 - val_categorical_accuracy: 0.6477\n",
      "Epoch 9/50\n",
      "10628/10628 [==============================] - 22s 2ms/step - loss: 0.0471 - categorical_accuracy: 0.9926 - val_loss: 2.0178 - val_categorical_accuracy: 0.6575\n",
      "Epoch 10/50\n",
      "10628/10628 [==============================] - 23s 2ms/step - loss: 0.0600 - categorical_accuracy: 0.9923 - val_loss: 2.0213 - val_categorical_accuracy: 0.6349\n",
      "Epoch 11/50\n",
      "10628/10628 [==============================] - 23s 2ms/step - loss: 0.0525 - categorical_accuracy: 0.9932 - val_loss: 2.2192 - val_categorical_accuracy: 0.6319\n",
      "Epoch 12/50\n",
      "10628/10628 [==============================] - 23s 2ms/step - loss: 0.0509 - categorical_accuracy: 0.9945 - val_loss: 2.1294 - val_categorical_accuracy: 0.6601\n",
      "Epoch 13/50\n",
      "10628/10628 [==============================] - 23s 2ms/step - loss: 0.0527 - categorical_accuracy: 0.9935 - val_loss: 2.1983 - val_categorical_accuracy: 0.6481\n",
      "Epoch 14/50\n",
      "10628/10628 [==============================] - 23s 2ms/step - loss: 0.0511 - categorical_accuracy: 0.9947 - val_loss: 2.1258 - val_categorical_accuracy: 0.6669\n",
      "Epoch 15/50\n",
      "10628/10628 [==============================] - 23s 2ms/step - loss: 0.0487 - categorical_accuracy: 0.9944 - val_loss: 2.1818 - val_categorical_accuracy: 0.6560\n",
      "Epoch 16/50\n",
      "10628/10628 [==============================] - 30s 3ms/step - loss: 0.0494 - categorical_accuracy: 0.9947 - val_loss: 2.2961 - val_categorical_accuracy: 0.6402\n",
      "Epoch 17/50\n",
      "10628/10628 [==============================] - 25s 2ms/step - loss: 0.0551 - categorical_accuracy: 0.9942 - val_loss: 2.4423 - val_categorical_accuracy: 0.6323\n",
      "Epoch 18/50\n",
      "10628/10628 [==============================] - 23s 2ms/step - loss: 0.0489 - categorical_accuracy: 0.9954 - val_loss: 2.3531 - val_categorical_accuracy: 0.6417\n",
      "Epoch 19/50\n",
      "10628/10628 [==============================] - 23s 2ms/step - loss: 0.0516 - categorical_accuracy: 0.9950 - val_loss: 2.1657 - val_categorical_accuracy: 0.6583\n",
      "Epoch 20/50\n",
      "10628/10628 [==============================] - 23s 2ms/step - loss: 0.0505 - categorical_accuracy: 0.9943 - val_loss: 2.3540 - val_categorical_accuracy: 0.6650\n",
      "Epoch 21/50\n",
      "10628/10628 [==============================] - 23s 2ms/step - loss: 0.0562 - categorical_accuracy: 0.9945 - val_loss: 2.2141 - val_categorical_accuracy: 0.6703\n",
      "Epoch 22/50\n",
      "10628/10628 [==============================] - 23s 2ms/step - loss: 0.0485 - categorical_accuracy: 0.9946 - val_loss: 2.2261 - val_categorical_accuracy: 0.6662\n",
      "Epoch 23/50\n",
      "10628/10628 [==============================] - 23s 2ms/step - loss: 0.0462 - categorical_accuracy: 0.9950 - val_loss: 2.3442 - val_categorical_accuracy: 0.6537\n",
      "Epoch 24/50\n",
      "10628/10628 [==============================] - 23s 2ms/step - loss: 0.0428 - categorical_accuracy: 0.9960 - val_loss: 2.3301 - val_categorical_accuracy: 0.6635\n",
      "Epoch 25/50\n",
      "10628/10628 [==============================] - 23s 2ms/step - loss: 0.0443 - categorical_accuracy: 0.9959 - val_loss: 2.3796 - val_categorical_accuracy: 0.6443\n",
      "Epoch 26/50\n",
      "10628/10628 [==============================] - 23s 2ms/step - loss: 0.0441 - categorical_accuracy: 0.9954 - val_loss: 2.2558 - val_categorical_accuracy: 0.6808\n",
      "Epoch 27/50\n",
      "10628/10628 [==============================] - 23s 2ms/step - loss: 0.0491 - categorical_accuracy: 0.9952 - val_loss: 2.4302 - val_categorical_accuracy: 0.6537\n",
      "Epoch 28/50\n",
      "10628/10628 [==============================] - 23s 2ms/step - loss: 0.0459 - categorical_accuracy: 0.9953 - val_loss: 2.3296 - val_categorical_accuracy: 0.6665\n",
      "Epoch 29/50\n",
      "10628/10628 [==============================] - 23s 2ms/step - loss: 0.0463 - categorical_accuracy: 0.9950 - val_loss: 2.2648 - val_categorical_accuracy: 0.6598\n",
      "Epoch 30/50\n",
      "10628/10628 [==============================] - 23s 2ms/step - loss: 0.0399 - categorical_accuracy: 0.9960 - val_loss: 2.5169 - val_categorical_accuracy: 0.6481\n",
      "Epoch 31/50\n",
      "10628/10628 [==============================] - 23s 2ms/step - loss: 0.0413 - categorical_accuracy: 0.9958 - val_loss: 2.3572 - val_categorical_accuracy: 0.6760\n",
      "Epoch 32/50\n",
      "10628/10628 [==============================] - 23s 2ms/step - loss: 0.0399 - categorical_accuracy: 0.9961 - val_loss: 2.2861 - val_categorical_accuracy: 0.6887\n",
      "Epoch 33/50\n",
      "10628/10628 [==============================] - 23s 2ms/step - loss: 0.0424 - categorical_accuracy: 0.9962 - val_loss: 2.3304 - val_categorical_accuracy: 0.6616\n",
      "Epoch 34/50\n",
      "10628/10628 [==============================] - 23s 2ms/step - loss: 0.0427 - categorical_accuracy: 0.9956 - val_loss: 2.3873 - val_categorical_accuracy: 0.6609\n",
      "Epoch 35/50\n",
      "10628/10628 [==============================] - 23s 2ms/step - loss: 0.0412 - categorical_accuracy: 0.9955 - val_loss: 2.3290 - val_categorical_accuracy: 0.6703\n",
      "Epoch 36/50\n",
      "10628/10628 [==============================] - 23s 2ms/step - loss: 0.0383 - categorical_accuracy: 0.9960 - val_loss: 2.3049 - val_categorical_accuracy: 0.6692\n",
      "Epoch 37/50\n",
      "10628/10628 [==============================] - 23s 2ms/step - loss: 0.0459 - categorical_accuracy: 0.9955 - val_loss: 2.2038 - val_categorical_accuracy: 0.6737\n",
      "Epoch 38/50\n",
      "10628/10628 [==============================] - 23s 2ms/step - loss: 0.0456 - categorical_accuracy: 0.9956 - val_loss: 2.3508 - val_categorical_accuracy: 0.6534\n",
      "Epoch 39/50\n",
      "10628/10628 [==============================] - 23s 2ms/step - loss: 0.0497 - categorical_accuracy: 0.9955 - val_loss: 2.3058 - val_categorical_accuracy: 0.6850\n",
      "Epoch 40/50\n",
      "10628/10628 [==============================] - 23s 2ms/step - loss: 0.0410 - categorical_accuracy: 0.9961 - val_loss: 2.3556 - val_categorical_accuracy: 0.6948\n",
      "Epoch 41/50\n",
      "10628/10628 [==============================] - 23s 2ms/step - loss: 0.0421 - categorical_accuracy: 0.9956 - val_loss: 2.3215 - val_categorical_accuracy: 0.6741\n",
      "Epoch 42/50\n",
      "10628/10628 [==============================] - 23s 2ms/step - loss: 0.0362 - categorical_accuracy: 0.9959 - val_loss: 2.3296 - val_categorical_accuracy: 0.6861\n",
      "Epoch 43/50\n",
      "10628/10628 [==============================] - 23s 2ms/step - loss: 0.0377 - categorical_accuracy: 0.9963 - val_loss: 2.3748 - val_categorical_accuracy: 0.6793\n",
      "Epoch 44/50\n",
      "10628/10628 [==============================] - 23s 2ms/step - loss: 0.0425 - categorical_accuracy: 0.9962 - val_loss: 2.4989 - val_categorical_accuracy: 0.6571\n",
      "Epoch 45/50\n",
      "10628/10628 [==============================] - 23s 2ms/step - loss: 0.0428 - categorical_accuracy: 0.9959 - val_loss: 2.3526 - val_categorical_accuracy: 0.6865\n",
      "Epoch 46/50\n",
      "10628/10628 [==============================] - 23s 2ms/step - loss: 0.0392 - categorical_accuracy: 0.9964 - val_loss: 2.1896 - val_categorical_accuracy: 0.6808\n",
      "Epoch 47/50\n",
      "10628/10628 [==============================] - 23s 2ms/step - loss: 0.0409 - categorical_accuracy: 0.9955 - val_loss: 2.4986 - val_categorical_accuracy: 0.6662\n",
      "Epoch 48/50\n"
     ]
    },
    {
     "name": "stdout",
     "output_type": "stream",
     "text": [
      "10628/10628 [==============================] - 23s 2ms/step - loss: 0.0396 - categorical_accuracy: 0.9959 - val_loss: 2.3747 - val_categorical_accuracy: 0.6790\n",
      "Epoch 49/50\n",
      "10628/10628 [==============================] - 23s 2ms/step - loss: 0.0372 - categorical_accuracy: 0.9959 - val_loss: 2.3892 - val_categorical_accuracy: 0.6797\n",
      "Epoch 50/50\n",
      "10628/10628 [==============================] - 23s 2ms/step - loss: 0.0464 - categorical_accuracy: 0.9955 - val_loss: 2.2406 - val_categorical_accuracy: 0.6823\n"
     ]
    }
   ],
   "source": [
    "history = model.fit(x, y, epochs=50, batch_size=32, validation_split=0.2, verbose=1, shuffle=True)"
   ]
  },
  {
   "cell_type": "code",
   "execution_count": 18,
   "metadata": {},
   "outputs": [
    {
     "data": {
      "image/png": "[encoded data removed]",
      "text/plain": [
       "<Figure size 432x288 with 1 Axes>"
      ]
     },
     "metadata": {
      "needs_background": "light"
     },
     "output_type": "display_data"
    },
    {
     "data": {
      "image/png": "[encoded data removed]",
      "text/plain": [
       "<Figure size 432x288 with 1 Axes>"
      ]
     },
     "metadata": {
      "needs_background": "light"
     },
     "output_type": "display_data"
    }
   ],
   "source": [
    "import matplotlib.pyplot as plt\n",
    "\n",
    "acc = history.history['categorical_accuracy']\n",
    "val_acc = history.history['val_categorical_accuracy']\n",
    "loss = history.history['loss']\n",
    "val_loss = history.history['val_loss']\n",
    "\n",
    "epochs = range(1, len(acc) + 1)\n",
    "\n",
    "plt.plot(epochs, acc, 'bo', label='Training acc')\n",
    "plt.plot(epochs, val_acc, 'b', label='Validation acc')\n",
    "plt.title('Training and validation accuracy')\n",
    "plt.legend()\n",
    "\n",
    "plt.figure()\n",
    "\n",
    "plt.plot(epochs, loss, 'bo', label='Training loss')\n",
    "plt.plot(epochs, val_loss, 'b', label='Validation loss')\n",
    "plt.title('Training and validation loss')\n",
    "plt.legend()\n",
    "\n",
    "plt.show()"
   ]
  },
  {
   "cell_type": "code",
   "execution_count": 19,
   "metadata": {},
   "outputs": [
    {
     "name": "stdout",
     "output_type": "stream",
     "text": [
      "Train on 10628 samples, validate on 2657 samples\n",
      "Epoch 1/20\n",
      "10628/10628 [==============================] - 24s 2ms/step - loss: 1.8929 - categorical_accuracy: 0.3152 - val_loss: 1.8616 - val_categorical_accuracy: 0.4035\n",
      "Epoch 2/20\n",
      "10628/10628 [==============================] - 23s 2ms/step - loss: 0.9628 - categorical_accuracy: 0.6828 - val_loss: 1.3781 - val_categorical_accuracy: 0.5634\n",
      "Epoch 3/20\n",
      "10628/10628 [==============================] - 23s 2ms/step - loss: 0.3286 - categorical_accuracy: 0.8988 - val_loss: 1.4618 - val_categorical_accuracy: 0.5977\n",
      "Epoch 4/20\n",
      "10628/10628 [==============================] - 23s 2ms/step - loss: 0.0915 - categorical_accuracy: 0.9797 - val_loss: 1.6273 - val_categorical_accuracy: 0.6402\n",
      "Epoch 5/20\n",
      "10628/10628 [==============================] - 23s 2ms/step - loss: 0.0505 - categorical_accuracy: 0.9924 - val_loss: 1.8185 - val_categorical_accuracy: 0.6364\n",
      "Epoch 6/20\n",
      "10628/10628 [==============================] - 23s 2ms/step - loss: 0.0438 - categorical_accuracy: 0.9942 - val_loss: 1.9584 - val_categorical_accuracy: 0.6150\n",
      "Epoch 7/20\n",
      "10628/10628 [==============================] - 23s 2ms/step - loss: 0.0385 - categorical_accuracy: 0.9952 - val_loss: 1.9293 - val_categorical_accuracy: 0.6202\n",
      "Epoch 8/20\n",
      "10628/10628 [==============================] - 23s 2ms/step - loss: 0.0376 - categorical_accuracy: 0.9945 - val_loss: 1.9813 - val_categorical_accuracy: 0.6364\n",
      "Epoch 9/20\n",
      "10628/10628 [==============================] - 23s 2ms/step - loss: 0.0346 - categorical_accuracy: 0.9958 - val_loss: 2.0564 - val_categorical_accuracy: 0.6398\n",
      "Epoch 10/20\n",
      "10628/10628 [==============================] - 23s 2ms/step - loss: 0.0369 - categorical_accuracy: 0.9951 - val_loss: 2.0067 - val_categorical_accuracy: 0.6417\n",
      "Epoch 11/20\n",
      "10628/10628 [==============================] - 23s 2ms/step - loss: 0.0295 - categorical_accuracy: 0.9954 - val_loss: 2.0635 - val_categorical_accuracy: 0.6421\n",
      "Epoch 12/20\n",
      "10628/10628 [==============================] - 23s 2ms/step - loss: 0.0294 - categorical_accuracy: 0.9959 - val_loss: 2.2600 - val_categorical_accuracy: 0.6187\n",
      "Epoch 13/20\n",
      "10628/10628 [==============================] - 23s 2ms/step - loss: 0.0229 - categorical_accuracy: 0.9960 - val_loss: 2.0794 - val_categorical_accuracy: 0.6394\n",
      "Epoch 14/20\n",
      "10628/10628 [==============================] - 23s 2ms/step - loss: 0.0284 - categorical_accuracy: 0.9961 - val_loss: 2.1571 - val_categorical_accuracy: 0.6447\n",
      "Epoch 15/20\n",
      "10628/10628 [==============================] - 23s 2ms/step - loss: 0.0297 - categorical_accuracy: 0.9956 - val_loss: 2.3413 - val_categorical_accuracy: 0.6383\n",
      "Epoch 16/20\n",
      "10628/10628 [==============================] - 23s 2ms/step - loss: 0.0303 - categorical_accuracy: 0.9951 - val_loss: 2.0507 - val_categorical_accuracy: 0.6500\n",
      "Epoch 17/20\n",
      "10628/10628 [==============================] - 23s 2ms/step - loss: 0.0306 - categorical_accuracy: 0.9958 - val_loss: 2.2006 - val_categorical_accuracy: 0.6455\n",
      "Epoch 18/20\n",
      "10628/10628 [==============================] - 23s 2ms/step - loss: 0.0238 - categorical_accuracy: 0.9955 - val_loss: 2.1465 - val_categorical_accuracy: 0.6504\n",
      "Epoch 19/20\n",
      "10628/10628 [==============================] - 23s 2ms/step - loss: 0.0248 - categorical_accuracy: 0.9961 - val_loss: 2.2314 - val_categorical_accuracy: 0.6443\n",
      "Epoch 20/20\n",
      "10628/10628 [==============================] - 23s 2ms/step - loss: 0.0246 - categorical_accuracy: 0.9956 - val_loss: 2.1247 - val_categorical_accuracy: 0.6500\n"
     ]
    }
   ],
   "source": [
    "model = Sequential()\n",
    "model.add(Embedding(vocabulario, dim_vetor, input_length=x.shape[1]))\n",
    "model.add(Flatten())\n",
    "model.add(Dense(512, activation='relu'))\n",
    "model.add(Dropout(0.4))\n",
    "model.add(Dense(128, activation='relu'))\n",
    "model.add(Dropout(0.4))\n",
    "model.add(Dense(y.shape[1], activation='softmax'))\n",
    "model.compile(loss='categorical_crossentropy', optimizer='adadelta',  metrics=[\"categorical_accuracy\"])\n",
    "\n",
    "history = model.fit(x, y, epochs=20, batch_size=32, validation_split=0.2, verbose=1, shuffle=True)"
   ]
  },
  {
   "cell_type": "code",
   "execution_count": 20,
   "metadata": {},
   "outputs": [
    {
     "data": {
      "image/png": "[encoded data removed]",
      "text/plain": [
       "<Figure size 432x288 with 1 Axes>"
      ]
     },
     "metadata": {
      "needs_background": "light"
     },
     "output_type": "display_data"
    },
    {
     "data": {
      "image/png": "[encoded data removed]",
      "text/plain": [
       "<Figure size 432x288 with 1 Axes>"
      ]
     },
     "metadata": {
      "needs_background": "light"
     },
     "output_type": "display_data"
    }
   ],
   "source": [
    "acc = history.history['categorical_accuracy']\n",
    "val_acc = history.history['val_categorical_accuracy']\n",
    "loss = history.history['loss']\n",
    "val_loss = history.history['val_loss']\n",
    "\n",
    "epochs = range(1, len(acc) + 1)\n",
    "\n",
    "plt.plot(epochs, acc, 'bo', label='Training acc')\n",
    "plt.plot(epochs, val_acc, 'b', label='Validation acc')\n",
    "plt.title('Training and validation accuracy')\n",
    "plt.legend()\n",
    "\n",
    "plt.figure()\n",
    "\n",
    "plt.plot(epochs, loss, 'bo', label='Training loss')\n",
    "plt.plot(epochs, val_loss, 'b', label='Validation loss')\n",
    "plt.title('Training and validation loss')\n",
    "plt.legend()\n",
    "\n",
    "plt.show()"
   ]
  },
  {
   "cell_type": "code",
   "execution_count": null,
   "metadata": {},
   "outputs": [],
   "source": []
  }
 ],
 "metadata": {
  "kernelspec": {
   "display_name": "Python 3",
   "language": "python",
   "name": "python3"
  },
  "language_info": {
   "codemirror_mode": {
    "name": "ipython",
    "version": 3
   },
   "file_extension": ".py",
   "mimetype": "text/x-python",
   "name": "python",
   "nbconvert_exporter": "python",
   "pygments_lexer": "ipython3",
   "version": "3.7.4"
  }
 },
 "nbformat": 4,
 "nbformat_minor": 2
}
