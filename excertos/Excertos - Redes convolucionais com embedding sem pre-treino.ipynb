{
 "cells": [
  {
   "cell_type": "markdown",
   "metadata": {},
   "source": [
    "# Importação e preparação dos dados"
   ]
  },
  {
   "cell_type": "code",
   "execution_count": 1,
   "metadata": {},
   "outputs": [
    {
     "data": {
      "text/html": [
       "<div>\n",
       "<style scoped>\n",
       "    .dataframe tbody tr th:only-of-type {\n",
       "        vertical-align: middle;\n",
       "    }\n",
       "\n",
       "    .dataframe tbody tr th {\n",
       "        vertical-align: top;\n",
       "    }\n",
       "\n",
       "    .dataframe thead th {\n",
       "        text-align: right;\n",
       "    }\n",
       "</style>\n",
       "<table border=\"1\" class=\"dataframe\">\n",
       "  <thead>\n",
       "    <tr style=\"text-align: right;\">\n",
       "      <th></th>\n",
       "      <th>COD</th>\n",
       "      <th>NUM_ENUNCIADO</th>\n",
       "      <th>COD_AREA</th>\n",
       "      <th>DESCR_AREA</th>\n",
       "      <th>COD_TEMA</th>\n",
       "      <th>DESCR_TEMA</th>\n",
       "      <th>COD_SUBTEMA</th>\n",
       "      <th>DESCR_SUBTEMA</th>\n",
       "      <th>COD_DOC_TRAMITAVEL_EXCERTO</th>\n",
       "      <th>TEXTO_EXCERTO</th>\n",
       "      <th>ACORDAO</th>\n",
       "      <th>TIPO_PROCESSO</th>\n",
       "    </tr>\n",
       "  </thead>\n",
       "  <tbody>\n",
       "    <tr>\n",
       "      <th>0</th>\n",
       "      <td>1400</td>\n",
       "      <td>1236</td>\n",
       "      <td>50</td>\n",
       "      <td>Responsabilidade</td>\n",
       "      <td>488</td>\n",
       "      <td>Solidariedade</td>\n",
       "      <td>261</td>\n",
       "      <td>Benefício previdenciário</td>\n",
       "      <td>54995438</td>\n",
       "      <td>Voto:Cuidam os autos de tomada de contas espec...</td>\n",
       "      <td>Acórdão 297/2016 - PL</td>\n",
       "      <td>Tomada de Contas Especial</td>\n",
       "    </tr>\n",
       "    <tr>\n",
       "      <th>1</th>\n",
       "      <td>1700</td>\n",
       "      <td>1534</td>\n",
       "      <td>46</td>\n",
       "      <td>Finanças Públicas</td>\n",
       "      <td>981</td>\n",
       "      <td>Exportação</td>\n",
       "      <td>983</td>\n",
       "      <td>Petróleo</td>\n",
       "      <td>55025603</td>\n",
       "      <td>Voto:Cuidam os autos de Solicitação do Congres...</td>\n",
       "      <td>Acórdão 366/2016 - PL</td>\n",
       "      <td>Solicitação do Congresso Nacional</td>\n",
       "    </tr>\n",
       "    <tr>\n",
       "      <th>2</th>\n",
       "      <td>5700</td>\n",
       "      <td>5314</td>\n",
       "      <td>50</td>\n",
       "      <td>Responsabilidade</td>\n",
       "      <td>203</td>\n",
       "      <td>Multa</td>\n",
       "      <td>1021</td>\n",
       "      <td>Dosimetria</td>\n",
       "      <td>55455375</td>\n",
       "      <td>Relatório:Trata-se de embargos de declaração o...</td>\n",
       "      <td>Acórdão 944/2016 - PL</td>\n",
       "      <td>Acompanhamento</td>\n",
       "    </tr>\n",
       "    <tr>\n",
       "      <th>3</th>\n",
       "      <td>284</td>\n",
       "      <td>40</td>\n",
       "      <td>45</td>\n",
       "      <td>Direito Processual</td>\n",
       "      <td>162</td>\n",
       "      <td>Princípio da independência das instâncias</td>\n",
       "      <td>481</td>\n",
       "      <td>Decisão judicial</td>\n",
       "      <td>54773747</td>\n",
       "      <td>Voto:8. Em relação a outros processos judiciai...</td>\n",
       "      <td>Acórdão 30/2016 - PL</td>\n",
       "      <td>Tomada de Contas Especial</td>\n",
       "    </tr>\n",
       "    <tr>\n",
       "      <th>4</th>\n",
       "      <td>298</td>\n",
       "      <td>54</td>\n",
       "      <td>49</td>\n",
       "      <td>Pessoal</td>\n",
       "      <td>141</td>\n",
       "      <td>Sistema S</td>\n",
       "      <td>142</td>\n",
       "      <td>Nepotismo</td>\n",
       "      <td>54773403</td>\n",
       "      <td>Voto:11. Relativamente ao ato envolvendo a Sra...</td>\n",
       "      <td>Acórdão 55/2016 - PL</td>\n",
       "      <td>Representação</td>\n",
       "    </tr>\n",
       "  </tbody>\n",
       "</table>\n",
       "</div>"
      ],
      "text/plain": [
       "    COD  NUM_ENUNCIADO  COD_AREA          DESCR_AREA  COD_TEMA  \\\n",
       "0  1400           1236        50    Responsabilidade       488   \n",
       "1  1700           1534        46   Finanças Públicas       981   \n",
       "2  5700           5314        50    Responsabilidade       203   \n",
       "3   284             40        45  Direito Processual       162   \n",
       "4   298             54        49             Pessoal       141   \n",
       "\n",
       "                                  DESCR_TEMA  COD_SUBTEMA  \\\n",
       "0                              Solidariedade          261   \n",
       "1                                 Exportação          983   \n",
       "2                                      Multa         1021   \n",
       "3  Princípio da independência das instâncias          481   \n",
       "4                                  Sistema S          142   \n",
       "\n",
       "              DESCR_SUBTEMA  COD_DOC_TRAMITAVEL_EXCERTO  \\\n",
       "0  Benefício previdenciário                    54995438   \n",
       "1                  Petróleo                    55025603   \n",
       "2                Dosimetria                    55455375   \n",
       "3          Decisão judicial                    54773747   \n",
       "4                 Nepotismo                    54773403   \n",
       "\n",
       "                                       TEXTO_EXCERTO                ACORDAO  \\\n",
       "0  Voto:Cuidam os autos de tomada de contas espec...  Acórdão 297/2016 - PL   \n",
       "1  Voto:Cuidam os autos de Solicitação do Congres...  Acórdão 366/2016 - PL   \n",
       "2  Relatório:Trata-se de embargos de declaração o...  Acórdão 944/2016 - PL   \n",
       "3  Voto:8. Em relação a outros processos judiciai...   Acórdão 30/2016 - PL   \n",
       "4  Voto:11. Relativamente ao ato envolvendo a Sra...   Acórdão 55/2016 - PL   \n",
       "\n",
       "                        TIPO_PROCESSO  \n",
       "0           Tomada de Contas Especial  \n",
       "1   Solicitação do Congresso Nacional  \n",
       "2                      Acompanhamento  \n",
       "3           Tomada de Contas Especial  \n",
       "4                       Representação  "
      ]
     },
     "execution_count": 1,
     "metadata": {},
     "output_type": "execute_result"
    }
   ],
   "source": [
    "import pandas as pd\n",
    "\n",
    "df = pd.read_csv('../dados/jurisprudencia_selecionada_excertos.CSV', sep = ';')\n",
    "df.head()"
   ]
  },
  {
   "cell_type": "code",
   "execution_count": 2,
   "metadata": {},
   "outputs": [
    {
     "data": {
      "text/plain": [
       "(13285, 12)"
      ]
     },
     "execution_count": 2,
     "metadata": {},
     "output_type": "execute_result"
    }
   ],
   "source": [
    "df.shape"
   ]
  },
  {
   "cell_type": "code",
   "execution_count": 3,
   "metadata": {},
   "outputs": [
    {
     "data": {
      "text/plain": [
       "(13285, 10)"
      ]
     },
     "execution_count": 3,
     "metadata": {},
     "output_type": "execute_result"
    }
   ],
   "source": [
    "from sklearn.preprocessing import LabelBinarizer\n",
    "\n",
    "areas = df.groupby(['DESCR_AREA']).groups.keys()\n",
    "lbArea = LabelBinarizer()\n",
    "lbArea.fit([x for x in areas])\n",
    "y = lbArea.transform(df['DESCR_AREA'])\n",
    "y.shape"
   ]
  },
  {
   "cell_type": "code",
   "execution_count": 5,
   "metadata": {},
   "outputs": [
    {
     "name": "stdout",
     "output_type": "stream",
     "text": [
      "Found 63925 unique tokens.\n"
     ]
    }
   ],
   "source": [
    "from keras.preprocessing.text import Tokenizer\n",
    "import numpy as np\n",
    "\n",
    "vocabulario = 70000\n",
    "limite_texto = 2000\n",
    "dim_vetor = 100\n",
    "\n",
    "tokenizer = Tokenizer(num_words=vocabulario)\n",
    "tokenizer.fit_on_texts(df['TEXTO_EXCERTO'])\n",
    "\n",
    "sequences = tokenizer.texts_to_sequences(df['TEXTO_EXCERTO'])\n",
    "\n",
    "word_index = tokenizer.word_index\n",
    "vocabulario = len(word_index) + 1\n",
    "print('Found %s unique tokens.' % len(word_index))"
   ]
  },
  {
   "cell_type": "code",
   "execution_count": 6,
   "metadata": {},
   "outputs": [
    {
     "name": "stdout",
     "output_type": "stream",
     "text": [
      "Shape of data tensor: (13285, 2000)\n"
     ]
    }
   ],
   "source": [
    "from keras.preprocessing.sequence import pad_sequences\n",
    "\n",
    "x = pad_sequences(sequences, maxlen=limite_texto)\n",
    "\n",
    "print('Shape of data tensor:', x.shape)"
   ]
  },
  {
   "cell_type": "code",
   "execution_count": 7,
   "metadata": {},
   "outputs": [
    {
     "data": {
      "text/plain": [
       "((13285, 2000), (13285, 10))"
      ]
     },
     "execution_count": 7,
     "metadata": {},
     "output_type": "execute_result"
    }
   ],
   "source": [
    "x.shape, y.shape"
   ]
  },
  {
   "cell_type": "markdown",
   "metadata": {},
   "source": [
    "# Treinamento"
   ]
  },
  {
   "cell_type": "code",
   "execution_count": 8,
   "metadata": {},
   "outputs": [
    {
     "name": "stderr",
     "output_type": "stream",
     "text": [
      "WARNING: Logging before flag parsing goes to stderr.\n",
      "W1130 22:18:01.641402 140220367083328 deprecation_wrapper.py:119] From /home/leonardo/anaconda3/envs/gpu/lib/python3.7/site-packages/keras/backend/tensorflow_backend.py:74: The name tf.get_default_graph is deprecated. Please use tf.compat.v1.get_default_graph instead.\n",
      "\n",
      "W1130 22:18:01.656218 140220367083328 deprecation_wrapper.py:119] From /home/leonardo/anaconda3/envs/gpu/lib/python3.7/site-packages/keras/backend/tensorflow_backend.py:517: The name tf.placeholder is deprecated. Please use tf.compat.v1.placeholder instead.\n",
      "\n",
      "W1130 22:18:01.660527 140220367083328 deprecation_wrapper.py:119] From /home/leonardo/anaconda3/envs/gpu/lib/python3.7/site-packages/keras/backend/tensorflow_backend.py:4138: The name tf.random_uniform is deprecated. Please use tf.random.uniform instead.\n",
      "\n",
      "W1130 22:18:01.726268 140220367083328 deprecation_wrapper.py:119] From /home/leonardo/anaconda3/envs/gpu/lib/python3.7/site-packages/keras/backend/tensorflow_backend.py:3976: The name tf.nn.max_pool is deprecated. Please use tf.nn.max_pool2d instead.\n",
      "\n",
      "W1130 22:18:01.886563 140220367083328 deprecation_wrapper.py:119] From /home/leonardo/anaconda3/envs/gpu/lib/python3.7/site-packages/keras/optimizers.py:790: The name tf.train.Optimizer is deprecated. Please use tf.compat.v1.train.Optimizer instead.\n",
      "\n",
      "W1130 22:18:01.894102 140220367083328 deprecation_wrapper.py:119] From /home/leonardo/anaconda3/envs/gpu/lib/python3.7/site-packages/keras/backend/tensorflow_backend.py:3295: The name tf.log is deprecated. Please use tf.math.log instead.\n",
      "\n"
     ]
    },
    {
     "name": "stdout",
     "output_type": "stream",
     "text": [
      "_________________________________________________________________\n",
      "Layer (type)                 Output Shape              Param #   \n",
      "=================================================================\n",
      "embedding_1 (Embedding)      (None, 2000, 100)         6392600   \n",
      "_________________________________________________________________\n",
      "conv1d_1 (Conv1D)            (None, 1994, 32)          22432     \n",
      "_________________________________________________________________\n",
      "max_pooling1d_1 (MaxPooling1 (None, 398, 32)           0         \n",
      "_________________________________________________________________\n",
      "conv1d_2 (Conv1D)            (None, 392, 32)           7200      \n",
      "_________________________________________________________________\n",
      "global_max_pooling1d_1 (Glob (None, 32)                0         \n",
      "_________________________________________________________________\n",
      "dense_1 (Dense)              (None, 10)                330       \n",
      "=================================================================\n",
      "Total params: 6,422,562\n",
      "Trainable params: 6,422,562\n",
      "Non-trainable params: 0\n",
      "_________________________________________________________________\n"
     ]
    }
   ],
   "source": [
    "from keras.models import Sequential\n",
    "from keras.layers import Embedding, Conv1D, MaxPooling1D, Dense, GlobalMaxPooling1D\n",
    "from keras.optimizers import RMSprop\n",
    "\n",
    "model = Sequential()\n",
    "model.add(Embedding(vocabulario, dim_vetor, input_length=x.shape[1]))\n",
    "model.add(Conv1D(32, 7, activation='relu'))\n",
    "model.add(MaxPooling1D(5))\n",
    "model.add(Conv1D(32, 7, activation='relu'))\n",
    "model.add(GlobalMaxPooling1D())\n",
    "model.add(Dense(y.shape[1], activation='softmax'))\n",
    "model.compile(loss='categorical_crossentropy', optimizer=RMSprop(),  metrics=[\"categorical_accuracy\"])\n",
    "model.summary()"
   ]
  },
  {
   "cell_type": "code",
   "execution_count": 9,
   "metadata": {},
   "outputs": [
    {
     "name": "stderr",
     "output_type": "stream",
     "text": [
      "W1130 22:18:07.060075 140220367083328 deprecation.py:323] From /home/leonardo/anaconda3/envs/gpu/lib/python3.7/site-packages/tensorflow/python/ops/math_grad.py:1250: add_dispatch_support.<locals>.wrapper (from tensorflow.python.ops.array_ops) is deprecated and will be removed in a future version.\n",
      "Instructions for updating:\n",
      "Use tf.where in 2.0, which has the same broadcast rule as np.where\n",
      "W1130 22:18:07.179100 140220367083328 deprecation_wrapper.py:119] From /home/leonardo/anaconda3/envs/gpu/lib/python3.7/site-packages/keras/backend/tensorflow_backend.py:986: The name tf.assign_add is deprecated. Please use tf.compat.v1.assign_add instead.\n",
      "\n"
     ]
    },
    {
     "name": "stdout",
     "output_type": "stream",
     "text": [
      "Train on 10628 samples, validate on 2657 samples\n",
      "Epoch 1/20\n",
      "10628/10628 [==============================] - 8s 715us/step - loss: 1.5466 - categorical_accuracy: 0.4852 - val_loss: 1.3111 - val_categorical_accuracy: 0.5728\n",
      "Epoch 2/20\n",
      "10628/10628 [==============================] - 5s 489us/step - loss: 0.9016 - categorical_accuracy: 0.6983 - val_loss: 1.1333 - val_categorical_accuracy: 0.6353\n",
      "Epoch 3/20\n",
      "10628/10628 [==============================] - 5s 493us/step - loss: 0.6368 - categorical_accuracy: 0.7969 - val_loss: 1.0186 - val_categorical_accuracy: 0.6707\n",
      "Epoch 4/20\n",
      "10628/10628 [==============================] - 5s 498us/step - loss: 0.4338 - categorical_accuracy: 0.8695 - val_loss: 1.0059 - val_categorical_accuracy: 0.6918\n",
      "Epoch 5/20\n",
      "10628/10628 [==============================] - 5s 506us/step - loss: 0.2882 - categorical_accuracy: 0.9176 - val_loss: 1.0916 - val_categorical_accuracy: 0.6673\n",
      "Epoch 6/20\n",
      "10628/10628 [==============================] - 6s 528us/step - loss: 0.1804 - categorical_accuracy: 0.9512 - val_loss: 1.0787 - val_categorical_accuracy: 0.7049\n",
      "Epoch 7/20\n",
      "10628/10628 [==============================] - 5s 492us/step - loss: 0.1143 - categorical_accuracy: 0.9719 - val_loss: 1.5514 - val_categorical_accuracy: 0.6097\n",
      "Epoch 8/20\n",
      "10628/10628 [==============================] - 5s 488us/step - loss: 0.0702 - categorical_accuracy: 0.9837 - val_loss: 1.2934 - val_categorical_accuracy: 0.6775\n",
      "Epoch 9/20\n",
      "10628/10628 [==============================] - 5s 493us/step - loss: 0.0470 - categorical_accuracy: 0.9885 - val_loss: 1.4214 - val_categorical_accuracy: 0.6846\n",
      "Epoch 10/20\n",
      "10628/10628 [==============================] - 5s 489us/step - loss: 0.0400 - categorical_accuracy: 0.9914 - val_loss: 1.3678 - val_categorical_accuracy: 0.6918\n",
      "Epoch 11/20\n",
      "10628/10628 [==============================] - 5s 490us/step - loss: 0.0337 - categorical_accuracy: 0.9927 - val_loss: 1.3745 - val_categorical_accuracy: 0.7083\n",
      "Epoch 12/20\n",
      "10628/10628 [==============================] - 5s 493us/step - loss: 0.0323 - categorical_accuracy: 0.9927 - val_loss: 1.3841 - val_categorical_accuracy: 0.6925\n",
      "Epoch 13/20\n",
      "10628/10628 [==============================] - 5s 486us/step - loss: 0.0345 - categorical_accuracy: 0.9931 - val_loss: 1.9502 - val_categorical_accuracy: 0.6003\n",
      "Epoch 14/20\n",
      "10628/10628 [==============================] - 5s 492us/step - loss: 0.0308 - categorical_accuracy: 0.9939 - val_loss: 1.6265 - val_categorical_accuracy: 0.6820\n",
      "Epoch 15/20\n",
      "10628/10628 [==============================] - 5s 511us/step - loss: 0.0336 - categorical_accuracy: 0.9941 - val_loss: 1.4156 - val_categorical_accuracy: 0.7083\n",
      "Epoch 16/20\n",
      "10628/10628 [==============================] - 5s 488us/step - loss: 0.0305 - categorical_accuracy: 0.9942 - val_loss: 1.4462 - val_categorical_accuracy: 0.7140\n",
      "Epoch 17/20\n",
      "10628/10628 [==============================] - 5s 487us/step - loss: 0.0299 - categorical_accuracy: 0.9940 - val_loss: 1.5190 - val_categorical_accuracy: 0.6933\n",
      "Epoch 18/20\n",
      "10628/10628 [==============================] - 5s 491us/step - loss: 0.0297 - categorical_accuracy: 0.9941 - val_loss: 1.4167 - val_categorical_accuracy: 0.7125\n",
      "Epoch 19/20\n",
      "10628/10628 [==============================] - 5s 488us/step - loss: 0.0295 - categorical_accuracy: 0.9947 - val_loss: 1.5888 - val_categorical_accuracy: 0.6978\n",
      "Epoch 20/20\n",
      "10628/10628 [==============================] - 5s 488us/step - loss: 0.0311 - categorical_accuracy: 0.9943 - val_loss: 1.6688 - val_categorical_accuracy: 0.6722\n"
     ]
    }
   ],
   "source": [
    "history = model.fit(x, y, epochs=20, batch_size=32, validation_split=0.2, verbose=1, shuffle=True)"
   ]
  },
  {
   "cell_type": "code",
   "execution_count": 11,
   "metadata": {},
   "outputs": [
    {
     "data": {
      "image/png": "[encoded data removed]",
      "text/plain": [
       "<Figure size 432x288 with 1 Axes>"
      ]
     },
     "metadata": {
      "needs_background": "light"
     },
     "output_type": "display_data"
    },
    {
     "data": {
      "image/png": "[encoded data removed]",
      "text/plain": [
       "<Figure size 432x288 with 1 Axes>"
      ]
     },
     "metadata": {
      "needs_background": "light"
     },
     "output_type": "display_data"
    }
   ],
   "source": [
    "import matplotlib.pyplot as plt\n",
    "\n",
    "acc = history.history['categorical_accuracy']\n",
    "val_acc = history.history['val_categorical_accuracy']\n",
    "loss = history.history['loss']\n",
    "val_loss = history.history['val_loss']\n",
    "\n",
    "epochs = range(1, len(acc) + 1)\n",
    "\n",
    "plt.plot(epochs, acc, 'bo', label='Training acc')\n",
    "plt.plot(epochs, val_acc, 'b', label='Validation acc')\n",
    "plt.title('Training and validation accuracy')\n",
    "plt.legend()\n",
    "\n",
    "plt.figure()\n",
    "\n",
    "plt.plot(epochs, loss, 'bo', label='Training loss')\n",
    "plt.plot(epochs, val_loss, 'b', label='Validation loss')\n",
    "plt.title('Training and validation loss')\n",
    "plt.legend()\n",
    "\n",
    "plt.show()"
   ]
  },
  {
   "cell_type": "code",
   "execution_count": 12,
   "metadata": {},
   "outputs": [
    {
     "name": "stderr",
     "output_type": "stream",
     "text": [
      "W1130 22:20:45.982738 140220367083328 deprecation.py:506] From /home/leonardo/anaconda3/envs/gpu/lib/python3.7/site-packages/keras/backend/tensorflow_backend.py:3445: calling dropout (from tensorflow.python.ops.nn_ops) with keep_prob is deprecated and will be removed in a future version.\n",
      "Instructions for updating:\n",
      "Please use `rate` instead of `keep_prob`. Rate should be set to `rate = 1 - keep_prob`.\n"
     ]
    },
    {
     "name": "stdout",
     "output_type": "stream",
     "text": [
      "_________________________________________________________________\n",
      "Layer (type)                 Output Shape              Param #   \n",
      "=================================================================\n",
      "embedding_2 (Embedding)      (None, 2000, 100)         6392600   \n",
      "_________________________________________________________________\n",
      "conv1d_3 (Conv1D)            (None, 1994, 32)          22432     \n",
      "_________________________________________________________________\n",
      "max_pooling1d_2 (MaxPooling1 (None, 398, 32)           0         \n",
      "_________________________________________________________________\n",
      "conv1d_4 (Conv1D)            (None, 392, 32)           7200      \n",
      "_________________________________________________________________\n",
      "gru_1 (GRU)                  (None, 256)               221952    \n",
      "_________________________________________________________________\n",
      "dense_2 (Dense)              (None, 10)                2570      \n",
      "=================================================================\n",
      "Total params: 6,646,754\n",
      "Trainable params: 6,646,754\n",
      "Non-trainable params: 0\n",
      "_________________________________________________________________\n",
      "Train on 10628 samples, validate on 2657 samples\n",
      "Epoch 1/20\n",
      "10628/10628 [==============================] - 170s 16ms/step - loss: 1.4193 - categorical_accuracy: 0.5124 - val_loss: 1.2290 - val_categorical_accuracy: 0.5980\n",
      "Epoch 2/20\n",
      "10628/10628 [==============================] - 174s 16ms/step - loss: 0.8731 - categorical_accuracy: 0.7092 - val_loss: 1.0909 - val_categorical_accuracy: 0.6368\n",
      "Epoch 3/20\n",
      "10628/10628 [==============================] - 169s 16ms/step - loss: 0.6436 - categorical_accuracy: 0.7843 - val_loss: 1.0059 - val_categorical_accuracy: 0.6842\n",
      "Epoch 4/20\n",
      "10628/10628 [==============================] - 192s 18ms/step - loss: 0.4757 - categorical_accuracy: 0.8416 - val_loss: 1.2012 - val_categorical_accuracy: 0.6530\n",
      "Epoch 5/20\n",
      "10628/10628 [==============================] - 174s 16ms/step - loss: 0.3614 - categorical_accuracy: 0.8839 - val_loss: 1.3412 - val_categorical_accuracy: 0.6229\n",
      "Epoch 6/20\n",
      "10628/10628 [==============================] - 173s 16ms/step - loss: 0.2674 - categorical_accuracy: 0.9142 - val_loss: 1.1464 - val_categorical_accuracy: 0.6846\n",
      "Epoch 7/20\n",
      "10628/10628 [==============================] - 175s 16ms/step - loss: 0.1953 - categorical_accuracy: 0.9369 - val_loss: 1.2151 - val_categorical_accuracy: 0.6944\n",
      "Epoch 8/20\n",
      "10628/10628 [==============================] - 176s 17ms/step - loss: 0.1465 - categorical_accuracy: 0.9550 - val_loss: 1.3198 - val_categorical_accuracy: 0.6951\n",
      "Epoch 9/20\n",
      "10628/10628 [==============================] - 181s 17ms/step - loss: 0.1091 - categorical_accuracy: 0.9671 - val_loss: 1.3048 - val_categorical_accuracy: 0.6925\n",
      "Epoch 10/20\n",
      "10628/10628 [==============================] - 182s 17ms/step - loss: 0.0930 - categorical_accuracy: 0.9726 - val_loss: 1.6535 - val_categorical_accuracy: 0.6233\n",
      "Epoch 11/20\n",
      "10628/10628 [==============================] - 178s 17ms/step - loss: 0.0855 - categorical_accuracy: 0.9750 - val_loss: 1.4527 - val_categorical_accuracy: 0.7008\n",
      "Epoch 12/20\n",
      "10628/10628 [==============================] - 178s 17ms/step - loss: 0.0864 - categorical_accuracy: 0.9761 - val_loss: 1.8009 - val_categorical_accuracy: 0.6560\n",
      "Epoch 13/20\n",
      "10628/10628 [==============================] - 175s 16ms/step - loss: 0.0566 - categorical_accuracy: 0.9827 - val_loss: 1.8646 - val_categorical_accuracy: 0.6285\n",
      "Epoch 14/20\n",
      "10628/10628 [==============================] - 176s 17ms/step - loss: 0.0486 - categorical_accuracy: 0.9872 - val_loss: 1.5940 - val_categorical_accuracy: 0.7015\n",
      "Epoch 15/20\n",
      "10628/10628 [==============================] - 178s 17ms/step - loss: 0.0465 - categorical_accuracy: 0.9863 - val_loss: 1.5846 - val_categorical_accuracy: 0.6974\n",
      "Epoch 16/20\n",
      "10628/10628 [==============================] - 180s 17ms/step - loss: 0.0400 - categorical_accuracy: 0.9896 - val_loss: 1.8034 - val_categorical_accuracy: 0.6613\n",
      "Epoch 17/20\n",
      "10628/10628 [==============================] - 181s 17ms/step - loss: 0.0374 - categorical_accuracy: 0.9901 - val_loss: 1.6837 - val_categorical_accuracy: 0.6744\n",
      "Epoch 18/20\n",
      "10628/10628 [==============================] - 184s 17ms/step - loss: 0.0344 - categorical_accuracy: 0.9905 - val_loss: 1.5776 - val_categorical_accuracy: 0.6948\n",
      "Epoch 19/20\n",
      "10628/10628 [==============================] - 187s 18ms/step - loss: 0.0366 - categorical_accuracy: 0.9913 - val_loss: 1.7541 - val_categorical_accuracy: 0.6816\n",
      "Epoch 20/20\n",
      "10628/10628 [==============================] - 187s 18ms/step - loss: 0.0323 - categorical_accuracy: 0.9913 - val_loss: 1.7247 - val_categorical_accuracy: 0.6869\n"
     ]
    }
   ],
   "source": [
    "from keras.layers import GRU\n",
    "\n",
    "model = Sequential()\n",
    "model.add(Embedding(vocabulario, dim_vetor, input_length=x.shape[1]))\n",
    "model.add(Conv1D(32, 7, activation='relu'))\n",
    "model.add(MaxPooling1D(5))\n",
    "model.add(Conv1D(32, 7, activation='relu'))\n",
    "model.add(GRU(256, dropout=0.2, recurrent_dropout=0.2))\n",
    "model.add(Dense(y.shape[1], activation='softmax'))\n",
    "model.compile(loss='categorical_crossentropy', optimizer=RMSprop(),  metrics=[\"categorical_accuracy\"])\n",
    "model.summary()\n",
    "history = model.fit(x, y, epochs=20, batch_size=32, validation_split=0.2, verbose=1, shuffle=True)"
   ]
  },
  {
   "cell_type": "code",
   "execution_count": 14,
   "metadata": {},
   "outputs": [
    {
     "data": {
      "image/png": "[encoded data removed]",
      "text/plain": [
       "<Figure size 432x288 with 1 Axes>"
      ]
     },
     "metadata": {
      "needs_background": "light"
     },
     "output_type": "display_data"
    },
    {
     "data": {
      "image/png": "[encoded data removed]",
      "text/plain": [
       "<Figure size 432x288 with 1 Axes>"
      ]
     },
     "metadata": {
      "needs_background": "light"
     },
     "output_type": "display_data"
    }
   ],
   "source": [
    "acc = history.history['categorical_accuracy']\n",
    "val_acc = history.history['val_categorical_accuracy']\n",
    "loss = history.history['loss']\n",
    "val_loss = history.history['val_loss']\n",
    "\n",
    "epochs = range(1, len(acc) + 1)\n",
    "\n",
    "plt.plot(epochs, acc, 'bo', label='Training acc')\n",
    "plt.plot(epochs, val_acc, 'b', label='Validation acc')\n",
    "plt.title('Training and validation accuracy')\n",
    "plt.legend()\n",
    "\n",
    "plt.figure()\n",
    "\n",
    "plt.plot(epochs, loss, 'bo', label='Training loss')\n",
    "plt.plot(epochs, val_loss, 'b', label='Validation loss')\n",
    "plt.title('Training and validation loss')\n",
    "plt.legend()\n",
    "\n",
    "plt.show()"
   ]
  },
  {
   "cell_type": "code",
   "execution_count": 15,
   "metadata": {},
   "outputs": [
    {
     "name": "stdout",
     "output_type": "stream",
     "text": [
      "_________________________________________________________________\n",
      "Layer (type)                 Output Shape              Param #   \n",
      "=================================================================\n",
      "embedding_3 (Embedding)      (None, 2000, 100)         6392600   \n",
      "_________________________________________________________________\n",
      "conv1d_5 (Conv1D)            (None, 1994, 32)          22432     \n",
      "_________________________________________________________________\n",
      "max_pooling1d_3 (MaxPooling1 (None, 398, 32)           0         \n",
      "_________________________________________________________________\n",
      "conv1d_6 (Conv1D)            (None, 392, 32)           7200      \n",
      "_________________________________________________________________\n",
      "global_max_pooling1d_2 (Glob (None, 32)                0         \n",
      "_________________________________________________________________\n",
      "dense_3 (Dense)              (None, 10)                330       \n",
      "=================================================================\n",
      "Total params: 6,422,562\n",
      "Trainable params: 6,422,562\n",
      "Non-trainable params: 0\n",
      "_________________________________________________________________\n",
      "Train on 10628 samples, validate on 2657 samples\n",
      "Epoch 1/20\n",
      "10628/10628 [==============================] - 6s 578us/step - loss: 1.0681 - categorical_accuracy: 0.6534 - val_loss: 1.0875 - val_categorical_accuracy: 0.6737\n",
      "Epoch 2/20\n",
      "10628/10628 [==============================] - 6s 529us/step - loss: 0.5986 - categorical_accuracy: 0.8069 - val_loss: 1.5499 - val_categorical_accuracy: 0.5412\n",
      "Epoch 3/20\n",
      "10628/10628 [==============================] - 6s 519us/step - loss: 0.3711 - categorical_accuracy: 0.8838 - val_loss: 1.1014 - val_categorical_accuracy: 0.6955\n",
      "Epoch 4/20\n",
      "10628/10628 [==============================] - 5s 513us/step - loss: 0.2252 - categorical_accuracy: 0.9375 - val_loss: 1.6104 - val_categorical_accuracy: 0.6887\n",
      "Epoch 5/20\n",
      "10628/10628 [==============================] - 6s 518us/step - loss: 0.1527 - categorical_accuracy: 0.9610 - val_loss: 1.6379 - val_categorical_accuracy: 0.6726\n",
      "Epoch 6/20\n",
      "10628/10628 [==============================] - 6s 522us/step - loss: 0.1222 - categorical_accuracy: 0.9726 - val_loss: 2.1145 - val_categorical_accuracy: 0.6481\n",
      "Epoch 7/20\n",
      "10628/10628 [==============================] - 6s 538us/step - loss: 0.1209 - categorical_accuracy: 0.9785 - val_loss: 2.0694 - val_categorical_accuracy: 0.6925\n",
      "Epoch 8/20\n",
      "10628/10628 [==============================] - 5s 509us/step - loss: 0.1122 - categorical_accuracy: 0.9811 - val_loss: 2.0124 - val_categorical_accuracy: 0.7012\n",
      "Epoch 9/20\n",
      "10628/10628 [==============================] - 5s 512us/step - loss: 0.1130 - categorical_accuracy: 0.9822 - val_loss: 2.4761 - val_categorical_accuracy: 0.6775\n",
      "Epoch 10/20\n",
      "10628/10628 [==============================] - 6s 521us/step - loss: 0.0998 - categorical_accuracy: 0.9865 - val_loss: 2.3649 - val_categorical_accuracy: 0.7155\n",
      "Epoch 11/20\n",
      "10628/10628 [==============================] - 5s 515us/step - loss: 0.1050 - categorical_accuracy: 0.9869 - val_loss: 2.6882 - val_categorical_accuracy: 0.6959\n",
      "Epoch 12/20\n",
      "10628/10628 [==============================] - 6s 522us/step - loss: 0.0974 - categorical_accuracy: 0.9888 - val_loss: 2.5563 - val_categorical_accuracy: 0.7162\n",
      "Epoch 13/20\n",
      "10628/10628 [==============================] - 5s 510us/step - loss: 0.0962 - categorical_accuracy: 0.9891 - val_loss: 3.2332 - val_categorical_accuracy: 0.6481\n",
      "Epoch 14/20\n",
      "10628/10628 [==============================] - 5s 511us/step - loss: 0.0988 - categorical_accuracy: 0.9895 - val_loss: 3.4349 - val_categorical_accuracy: 0.6673\n",
      "Epoch 15/20\n",
      "10628/10628 [==============================] - 5s 511us/step - loss: 0.0956 - categorical_accuracy: 0.9886 - val_loss: 3.2439 - val_categorical_accuracy: 0.6839\n",
      "Epoch 16/20\n",
      "10628/10628 [==============================] - 5s 514us/step - loss: 0.1055 - categorical_accuracy: 0.9878 - val_loss: 3.6826 - val_categorical_accuracy: 0.6605\n",
      "Epoch 17/20\n",
      "10628/10628 [==============================] - 6s 521us/step - loss: 0.0994 - categorical_accuracy: 0.9900 - val_loss: 3.9340 - val_categorical_accuracy: 0.6620\n",
      "Epoch 18/20\n",
      "10628/10628 [==============================] - 6s 518us/step - loss: 0.0983 - categorical_accuracy: 0.9898 - val_loss: 3.2894 - val_categorical_accuracy: 0.7091\n",
      "Epoch 19/20\n",
      "10628/10628 [==============================] - 6s 520us/step - loss: 0.0955 - categorical_accuracy: 0.9894 - val_loss: 3.4204 - val_categorical_accuracy: 0.6985\n",
      "Epoch 20/20\n",
      "10628/10628 [==============================] - 5s 512us/step - loss: 0.1159 - categorical_accuracy: 0.9879 - val_loss: 3.4949 - val_categorical_accuracy: 0.6921\n"
     ]
    }
   ],
   "source": [
    "model = Sequential()\n",
    "model.add(Embedding(vocabulario, dim_vetor, input_length=x.shape[1]))\n",
    "model.add(Conv1D(32, 7, activation='relu'))\n",
    "model.add(MaxPooling1D(5))\n",
    "model.add(Conv1D(32, 7, activation='relu'))\n",
    "model.add(GlobalMaxPooling1D())\n",
    "model.add(Dense(y.shape[1], activation='softmax'))\n",
    "model.compile(loss='categorical_crossentropy', optimizer=RMSprop(lr=5e-3),  metrics=[\"categorical_accuracy\"])\n",
    "model.summary()\n",
    "history = model.fit(x, y, epochs=20, batch_size=32, validation_split=0.2, verbose=1, shuffle=True)"
   ]
  },
  {
   "cell_type": "code",
   "execution_count": 16,
   "metadata": {},
   "outputs": [
    {
     "name": "stdout",
     "output_type": "stream",
     "text": [
      "_________________________________________________________________\n",
      "Layer (type)                 Output Shape              Param #   \n",
      "=================================================================\n",
      "embedding_4 (Embedding)      (None, 2000, 100)         6392600   \n",
      "_________________________________________________________________\n",
      "conv1d_7 (Conv1D)            (None, 1994, 32)          22432     \n",
      "_________________________________________________________________\n",
      "max_pooling1d_4 (MaxPooling1 (None, 398, 32)           0         \n",
      "_________________________________________________________________\n",
      "conv1d_8 (Conv1D)            (None, 392, 32)           7200      \n",
      "_________________________________________________________________\n",
      "gru_2 (GRU)                  (None, 128)               61824     \n",
      "_________________________________________________________________\n",
      "dense_4 (Dense)              (None, 10)                1290      \n",
      "=================================================================\n",
      "Total params: 6,485,346\n",
      "Trainable params: 6,485,346\n",
      "Non-trainable params: 0\n",
      "_________________________________________________________________\n",
      "Train on 10628 samples, validate on 2657 samples\n",
      "Epoch 1/20\n",
      "10628/10628 [==============================] - 188s 18ms/step - loss: 1.4480 - categorical_accuracy: 0.4866 - val_loss: 1.2049 - val_categorical_accuracy: 0.6161\n",
      "Epoch 2/20\n",
      "10628/10628 [==============================] - 194s 18ms/step - loss: 0.9174 - categorical_accuracy: 0.6909 - val_loss: 1.1185 - val_categorical_accuracy: 0.6357\n",
      "Epoch 3/20\n",
      "10628/10628 [==============================] - 192s 18ms/step - loss: 0.6980 - categorical_accuracy: 0.7691 - val_loss: 1.1148 - val_categorical_accuracy: 0.6504\n",
      "Epoch 4/20\n",
      "10628/10628 [==============================] - 193s 18ms/step - loss: 0.5357 - categorical_accuracy: 0.8242 - val_loss: 1.1355 - val_categorical_accuracy: 0.6530\n",
      "Epoch 5/20\n",
      "10628/10628 [==============================] - 190s 18ms/step - loss: 0.4176 - categorical_accuracy: 0.8666 - val_loss: 1.1045 - val_categorical_accuracy: 0.6823\n",
      "Epoch 6/20\n",
      "10628/10628 [==============================] - 184s 17ms/step - loss: 0.3083 - categorical_accuracy: 0.9052 - val_loss: 1.1518 - val_categorical_accuracy: 0.6748\n",
      "Epoch 7/20\n",
      "10628/10628 [==============================] - 185s 17ms/step - loss: 0.2364 - categorical_accuracy: 0.9261 - val_loss: 1.2010 - val_categorical_accuracy: 0.6790\n",
      "Epoch 8/20\n",
      "10628/10628 [==============================] - 190s 18ms/step - loss: 0.1798 - categorical_accuracy: 0.9452 - val_loss: 1.3120 - val_categorical_accuracy: 0.6744\n",
      "Epoch 9/20\n",
      "10628/10628 [==============================] - 188s 18ms/step - loss: 0.1389 - categorical_accuracy: 0.9592 - val_loss: 1.3080 - val_categorical_accuracy: 0.6797\n",
      "Epoch 10/20\n",
      "10628/10628 [==============================] - 195s 18ms/step - loss: 0.1075 - categorical_accuracy: 0.9683 - val_loss: 1.3433 - val_categorical_accuracy: 0.6839\n",
      "Epoch 11/20\n",
      "10628/10628 [==============================] - 198s 19ms/step - loss: 0.0847 - categorical_accuracy: 0.9764 - val_loss: 1.5139 - val_categorical_accuracy: 0.6647\n",
      "Epoch 12/20\n",
      "10628/10628 [==============================] - 190s 18ms/step - loss: 0.0780 - categorical_accuracy: 0.9766 - val_loss: 1.4788 - val_categorical_accuracy: 0.6778\n",
      "Epoch 13/20\n",
      "10628/10628 [==============================] - 190s 18ms/step - loss: 0.0597 - categorical_accuracy: 0.9834 - val_loss: 1.5887 - val_categorical_accuracy: 0.6662\n",
      "Epoch 14/20\n",
      "10628/10628 [==============================] - 181s 17ms/step - loss: 0.0512 - categorical_accuracy: 0.9851 - val_loss: 1.7393 - val_categorical_accuracy: 0.6526\n",
      "Epoch 15/20\n",
      "10628/10628 [==============================] - 189s 18ms/step - loss: 0.0470 - categorical_accuracy: 0.9866 - val_loss: 1.6536 - val_categorical_accuracy: 0.6684\n",
      "Epoch 16/20\n",
      "10628/10628 [==============================] - 191s 18ms/step - loss: 0.0392 - categorical_accuracy: 0.9887 - val_loss: 1.6967 - val_categorical_accuracy: 0.6707\n",
      "Epoch 17/20\n",
      "10628/10628 [==============================] - 197s 19ms/step - loss: 0.0348 - categorical_accuracy: 0.9899 - val_loss: 1.7210 - val_categorical_accuracy: 0.6658\n",
      "Epoch 18/20\n",
      "10628/10628 [==============================] - 203s 19ms/step - loss: 0.0356 - categorical_accuracy: 0.9908 - val_loss: 1.7151 - val_categorical_accuracy: 0.6692\n",
      "Epoch 19/20\n",
      "10628/10628 [==============================] - 192s 18ms/step - loss: 0.0352 - categorical_accuracy: 0.9900 - val_loss: 1.7262 - val_categorical_accuracy: 0.6790\n",
      "Epoch 20/20\n",
      "10628/10628 [==============================] - 185s 17ms/step - loss: 0.0339 - categorical_accuracy: 0.9920 - val_loss: 1.7609 - val_categorical_accuracy: 0.6703\n"
     ]
    }
   ],
   "source": [
    "model = Sequential()\n",
    "model.add(Embedding(vocabulario, dim_vetor, input_length=x.shape[1]))\n",
    "model.add(Conv1D(32, 7, activation='relu'))\n",
    "model.add(MaxPooling1D(5))\n",
    "model.add(Conv1D(32, 7, activation='relu'))\n",
    "model.add(GRU(128, dropout=0.2, recurrent_dropout=0.2))\n",
    "model.add(Dense(y.shape[1], activation='softmax'))\n",
    "model.compile(loss='categorical_crossentropy', optimizer=RMSprop(),  metrics=[\"categorical_accuracy\"])\n",
    "model.summary()\n",
    "history = model.fit(x, y, epochs=20, batch_size=32, validation_split=0.2, verbose=1, shuffle=True)"
   ]
  },
  {
   "cell_type": "code",
   "execution_count": 17,
   "metadata": {},
   "outputs": [
    {
     "name": "stdout",
     "output_type": "stream",
     "text": [
      "_________________________________________________________________\n",
      "Layer (type)                 Output Shape              Param #   \n",
      "=================================================================\n",
      "embedding_5 (Embedding)      (None, 2000, 100)         6392600   \n",
      "_________________________________________________________________\n",
      "conv1d_9 (Conv1D)            (None, 1994, 64)          44864     \n",
      "_________________________________________________________________\n",
      "max_pooling1d_5 (MaxPooling1 (None, 398, 64)           0         \n",
      "_________________________________________________________________\n",
      "conv1d_10 (Conv1D)           (None, 392, 32)           14368     \n",
      "_________________________________________________________________\n",
      "global_max_pooling1d_3 (Glob (None, 32)                0         \n",
      "_________________________________________________________________\n",
      "dense_5 (Dense)              (None, 10)                330       \n",
      "=================================================================\n",
      "Total params: 6,452,162\n",
      "Trainable params: 6,452,162\n",
      "Non-trainable params: 0\n",
      "_________________________________________________________________\n",
      "Train on 10628 samples, validate on 2657 samples\n",
      "Epoch 1/20\n",
      "10628/10628 [==============================] - 8s 723us/step - loss: 1.4222 - categorical_accuracy: 0.5119 - val_loss: 1.2869 - val_categorical_accuracy: 0.4938\n",
      "Epoch 2/20\n",
      "10628/10628 [==============================] - 7s 642us/step - loss: 0.8654 - categorical_accuracy: 0.7090 - val_loss: 1.1168 - val_categorical_accuracy: 0.6537\n",
      "Epoch 3/20\n",
      "10628/10628 [==============================] - 7s 640us/step - loss: 0.6378 - categorical_accuracy: 0.7942 - val_loss: 1.2509 - val_categorical_accuracy: 0.5781\n",
      "Epoch 4/20\n",
      "10628/10628 [==============================] - 7s 647us/step - loss: 0.4514 - categorical_accuracy: 0.8637 - val_loss: 1.1230 - val_categorical_accuracy: 0.6470\n",
      "Epoch 5/20\n",
      "10628/10628 [==============================] - 7s 648us/step - loss: 0.3062 - categorical_accuracy: 0.9117 - val_loss: 1.3094 - val_categorical_accuracy: 0.6127\n",
      "Epoch 6/20\n",
      "10628/10628 [==============================] - 7s 642us/step - loss: 0.1979 - categorical_accuracy: 0.9468 - val_loss: 1.1964 - val_categorical_accuracy: 0.6884\n",
      "Epoch 7/20\n",
      "10628/10628 [==============================] - 7s 641us/step - loss: 0.1252 - categorical_accuracy: 0.9676 - val_loss: 1.3186 - val_categorical_accuracy: 0.6662\n",
      "Epoch 8/20\n",
      "10628/10628 [==============================] - 7s 641us/step - loss: 0.0799 - categorical_accuracy: 0.9794 - val_loss: 1.6821 - val_categorical_accuracy: 0.6044\n",
      "Epoch 9/20\n",
      "10628/10628 [==============================] - 7s 641us/step - loss: 0.0534 - categorical_accuracy: 0.9871 - val_loss: 1.4119 - val_categorical_accuracy: 0.6910\n",
      "Epoch 10/20\n",
      "10628/10628 [==============================] - 7s 643us/step - loss: 0.0452 - categorical_accuracy: 0.9892 - val_loss: 1.4447 - val_categorical_accuracy: 0.6887\n",
      "Epoch 11/20\n",
      "10628/10628 [==============================] - 7s 637us/step - loss: 0.0413 - categorical_accuracy: 0.9918 - val_loss: 1.5838 - val_categorical_accuracy: 0.6616\n",
      "Epoch 12/20\n",
      "10628/10628 [==============================] - 7s 648us/step - loss: 0.0372 - categorical_accuracy: 0.9920 - val_loss: 1.7911 - val_categorical_accuracy: 0.6489\n",
      "Epoch 13/20\n",
      "10628/10628 [==============================] - 7s 639us/step - loss: 0.0378 - categorical_accuracy: 0.9928 - val_loss: 1.8991 - val_categorical_accuracy: 0.6187\n",
      "Epoch 14/20\n",
      "10628/10628 [==============================] - 7s 643us/step - loss: 0.0366 - categorical_accuracy: 0.9932 - val_loss: 1.5134 - val_categorical_accuracy: 0.6918\n",
      "Epoch 15/20\n",
      "10628/10628 [==============================] - 7s 641us/step - loss: 0.0351 - categorical_accuracy: 0.9938 - val_loss: 1.8891 - val_categorical_accuracy: 0.6729\n",
      "Epoch 16/20\n",
      "10628/10628 [==============================] - 7s 642us/step - loss: 0.0343 - categorical_accuracy: 0.9942 - val_loss: 1.5863 - val_categorical_accuracy: 0.6812\n",
      "Epoch 17/20\n",
      "10628/10628 [==============================] - 7s 645us/step - loss: 0.0393 - categorical_accuracy: 0.9935 - val_loss: 1.5919 - val_categorical_accuracy: 0.7008\n",
      "Epoch 18/20\n",
      "10628/10628 [==============================] - 7s 642us/step - loss: 0.0332 - categorical_accuracy: 0.9937 - val_loss: 1.7085 - val_categorical_accuracy: 0.6616\n",
      "Epoch 19/20\n",
      "10628/10628 [==============================] - 7s 640us/step - loss: 0.0350 - categorical_accuracy: 0.9944 - val_loss: 1.7549 - val_categorical_accuracy: 0.6394\n",
      "Epoch 20/20\n",
      "10628/10628 [==============================] - 7s 645us/step - loss: 0.0320 - categorical_accuracy: 0.9942 - val_loss: 1.6606 - val_categorical_accuracy: 0.6940\n"
     ]
    }
   ],
   "source": [
    "model = Sequential()\n",
    "model.add(Embedding(vocabulario, dim_vetor, input_length=x.shape[1]))\n",
    "model.add(Conv1D(64, 7, activation='relu'))\n",
    "model.add(MaxPooling1D(5))\n",
    "model.add(Conv1D(32, 7, activation='relu'))\n",
    "model.add(GlobalMaxPooling1D())\n",
    "model.add(Dense(y.shape[1], activation='softmax'))\n",
    "model.compile(loss='categorical_crossentropy', optimizer=RMSprop(),  metrics=[\"categorical_accuracy\"])\n",
    "model.summary()\n",
    "history = model.fit(x, y, epochs=20, batch_size=32, validation_split=0.2, verbose=1, shuffle=True)"
   ]
  },
  {
   "cell_type": "code",
   "execution_count": 19,
   "metadata": {},
   "outputs": [
    {
     "name": "stdout",
     "output_type": "stream",
     "text": [
      "_________________________________________________________________\n",
      "Layer (type)                 Output Shape              Param #   \n",
      "=================================================================\n",
      "embedding_7 (Embedding)      (None, 2000, 100)         6392600   \n",
      "_________________________________________________________________\n",
      "conv1d_12 (Conv1D)           (None, 1994, 32)          22432     \n",
      "_________________________________________________________________\n",
      "max_pooling1d_7 (MaxPooling1 (None, 398, 32)           0         \n",
      "_________________________________________________________________\n",
      "flatten_2 (Flatten)          (None, 12736)             0         \n",
      "_________________________________________________________________\n",
      "dense_7 (Dense)              (None, 256)               3260672   \n",
      "_________________________________________________________________\n",
      "dropout_1 (Dropout)          (None, 256)               0         \n",
      "_________________________________________________________________\n",
      "dense_8 (Dense)              (None, 10)                2570      \n",
      "=================================================================\n",
      "Total params: 9,678,274\n",
      "Trainable params: 9,678,274\n",
      "Non-trainable params: 0\n",
      "_________________________________________________________________\n",
      "Train on 10628 samples, validate on 2657 samples\n",
      "Epoch 1/20\n",
      "10628/10628 [==============================] - 8s 712us/step - loss: 1.3188 - categorical_accuracy: 0.5454 - val_loss: 1.2670 - val_categorical_accuracy: 0.5179\n",
      "Epoch 2/20\n",
      "10628/10628 [==============================] - 7s 615us/step - loss: 0.7076 - categorical_accuracy: 0.7689 - val_loss: 0.9641 - val_categorical_accuracy: 0.7121\n",
      "Epoch 3/20\n",
      "10628/10628 [==============================] - 7s 613us/step - loss: 0.4056 - categorical_accuracy: 0.8716 - val_loss: 1.2120 - val_categorical_accuracy: 0.7083\n",
      "Epoch 4/20\n",
      "10628/10628 [==============================] - 7s 619us/step - loss: 0.2137 - categorical_accuracy: 0.9354 - val_loss: 1.4429 - val_categorical_accuracy: 0.7000\n",
      "Epoch 5/20\n",
      "10628/10628 [==============================] - 7s 627us/step - loss: 0.1174 - categorical_accuracy: 0.9728 - val_loss: 1.5390 - val_categorical_accuracy: 0.7305\n",
      "Epoch 6/20\n",
      "10628/10628 [==============================] - 7s 620us/step - loss: 0.0760 - categorical_accuracy: 0.9850 - val_loss: 1.7834 - val_categorical_accuracy: 0.7049\n",
      "Epoch 7/20\n",
      "10628/10628 [==============================] - 7s 617us/step - loss: 0.0563 - categorical_accuracy: 0.9904 - val_loss: 1.9279 - val_categorical_accuracy: 0.7279\n",
      "Epoch 8/20\n",
      "10628/10628 [==============================] - 6s 606us/step - loss: 0.0494 - categorical_accuracy: 0.9921 - val_loss: 1.8059 - val_categorical_accuracy: 0.7253\n",
      "Epoch 9/20\n",
      "10628/10628 [==============================] - 6s 609us/step - loss: 0.0452 - categorical_accuracy: 0.9934 - val_loss: 2.0353 - val_categorical_accuracy: 0.7057\n",
      "Epoch 10/20\n",
      "10628/10628 [==============================] - 7s 614us/step - loss: 0.0411 - categorical_accuracy: 0.9930 - val_loss: 2.0049 - val_categorical_accuracy: 0.7369\n",
      "Epoch 11/20\n",
      "10628/10628 [==============================] - 7s 615us/step - loss: 0.0372 - categorical_accuracy: 0.9934 - val_loss: 2.1163 - val_categorical_accuracy: 0.7064\n",
      "Epoch 12/20\n",
      "10628/10628 [==============================] - 7s 618us/step - loss: 0.0344 - categorical_accuracy: 0.9940 - val_loss: 2.1296 - val_categorical_accuracy: 0.7034\n",
      "Epoch 13/20\n",
      "10628/10628 [==============================] - 7s 617us/step - loss: 0.0344 - categorical_accuracy: 0.9937 - val_loss: 2.3110 - val_categorical_accuracy: 0.7185\n",
      "Epoch 14/20\n",
      "10628/10628 [==============================] - 7s 615us/step - loss: 0.0285 - categorical_accuracy: 0.9941 - val_loss: 2.4799 - val_categorical_accuracy: 0.6760\n",
      "Epoch 15/20\n",
      "10628/10628 [==============================] - 6s 611us/step - loss: 0.0263 - categorical_accuracy: 0.9934 - val_loss: 2.3440 - val_categorical_accuracy: 0.7064\n",
      "Epoch 16/20\n",
      "10628/10628 [==============================] - 7s 619us/step - loss: 0.0256 - categorical_accuracy: 0.9942 - val_loss: 2.5378 - val_categorical_accuracy: 0.6684\n",
      "Epoch 17/20\n",
      "10628/10628 [==============================] - 7s 620us/step - loss: 0.0233 - categorical_accuracy: 0.9945 - val_loss: 2.4566 - val_categorical_accuracy: 0.7143\n",
      "Epoch 18/20\n",
      "10628/10628 [==============================] - 7s 629us/step - loss: 0.0248 - categorical_accuracy: 0.9945 - val_loss: 2.9109 - val_categorical_accuracy: 0.6677\n",
      "Epoch 19/20\n",
      "10628/10628 [==============================] - 7s 626us/step - loss: 0.0238 - categorical_accuracy: 0.9944 - val_loss: 2.5463 - val_categorical_accuracy: 0.7053\n",
      "Epoch 20/20\n",
      "10628/10628 [==============================] - 7s 617us/step - loss: 0.0216 - categorical_accuracy: 0.9939 - val_loss: 2.5527 - val_categorical_accuracy: 0.7128\n"
     ]
    }
   ],
   "source": [
    "from keras.layers import Flatten\n",
    "from keras.layers.core import Dropout\n",
    "\n",
    "model = Sequential()\n",
    "model.add(Embedding(vocabulario, dim_vetor, input_length=x.shape[1]))\n",
    "model.add(Conv1D(32, 7, activation='relu'))\n",
    "model.add(MaxPooling1D(5))\n",
    "model.add(Flatten())\n",
    "model.add(Dense(256, activation='relu'))\n",
    "model.add(Dropout(0.2))\n",
    "model.add(Dense(y.shape[1], activation='softmax'))\n",
    "model.compile(loss='categorical_crossentropy', optimizer=RMSprop(),  metrics=[\"categorical_accuracy\"])\n",
    "model.summary()\n",
    "history = model.fit(x, y, epochs=20, batch_size=32, validation_split=0.2, verbose=1, shuffle=True)"
   ]
  },
  {
   "cell_type": "code",
   "execution_count": 20,
   "metadata": {},
   "outputs": [
    {
     "name": "stdout",
     "output_type": "stream",
     "text": [
      "_________________________________________________________________\n",
      "Layer (type)                 Output Shape              Param #   \n",
      "=================================================================\n",
      "embedding_8 (Embedding)      (None, 2000, 100)         6392600   \n",
      "_________________________________________________________________\n",
      "conv1d_13 (Conv1D)           (None, 1994, 64)          44864     \n",
      "_________________________________________________________________\n",
      "max_pooling1d_8 (MaxPooling1 (None, 398, 64)           0         \n",
      "_________________________________________________________________\n",
      "flatten_3 (Flatten)          (None, 25472)             0         \n",
      "_________________________________________________________________\n",
      "dense_9 (Dense)              (None, 256)               6521088   \n",
      "_________________________________________________________________\n",
      "dropout_2 (Dropout)          (None, 256)               0         \n",
      "_________________________________________________________________\n",
      "dense_10 (Dense)             (None, 10)                2570      \n",
      "=================================================================\n",
      "Total params: 12,961,122\n",
      "Trainable params: 12,961,122\n",
      "Non-trainable params: 0\n",
      "_________________________________________________________________\n",
      "Train on 10628 samples, validate on 2657 samples\n",
      "Epoch 1/20\n",
      "10628/10628 [==============================] - 10s 912us/step - loss: 1.1872 - categorical_accuracy: 0.5991 - val_loss: 1.2966 - val_categorical_accuracy: 0.5423\n",
      "Epoch 2/20\n",
      "10628/10628 [==============================] - 9s 812us/step - loss: 0.6433 - categorical_accuracy: 0.7873 - val_loss: 1.0764 - val_categorical_accuracy: 0.7174\n",
      "Epoch 3/20\n",
      "10628/10628 [==============================] - 9s 811us/step - loss: 0.3642 - categorical_accuracy: 0.8860 - val_loss: 1.6323 - val_categorical_accuracy: 0.5932\n",
      "Epoch 4/20\n",
      "10628/10628 [==============================] - 9s 816us/step - loss: 0.1893 - categorical_accuracy: 0.9468 - val_loss: 1.7362 - val_categorical_accuracy: 0.7260\n",
      "Epoch 5/20\n",
      "10628/10628 [==============================] - 9s 818us/step - loss: 0.1210 - categorical_accuracy: 0.9716 - val_loss: 1.6290 - val_categorical_accuracy: 0.7211\n",
      "Epoch 6/20\n",
      "10628/10628 [==============================] - 9s 822us/step - loss: 0.0809 - categorical_accuracy: 0.9853 - val_loss: 1.8383 - val_categorical_accuracy: 0.7215\n",
      "Epoch 7/20\n",
      "10628/10628 [==============================] - 9s 823us/step - loss: 0.0659 - categorical_accuracy: 0.9896 - val_loss: 1.7565 - val_categorical_accuracy: 0.7226\n",
      "Epoch 8/20\n",
      "10628/10628 [==============================] - 9s 828us/step - loss: 0.0549 - categorical_accuracy: 0.9918 - val_loss: 2.1210 - val_categorical_accuracy: 0.7087\n",
      "Epoch 9/20\n",
      "10628/10628 [==============================] - 9s 834us/step - loss: 0.0489 - categorical_accuracy: 0.9927 - val_loss: 2.0044 - val_categorical_accuracy: 0.7317\n",
      "Epoch 10/20\n",
      "10628/10628 [==============================] - 9s 830us/step - loss: 0.0450 - categorical_accuracy: 0.9925 - val_loss: 1.9214 - val_categorical_accuracy: 0.7230\n",
      "Epoch 11/20\n",
      "10628/10628 [==============================] - 9s 837us/step - loss: 0.0385 - categorical_accuracy: 0.9933 - val_loss: 2.3459 - val_categorical_accuracy: 0.6699\n",
      "Epoch 12/20\n",
      "10628/10628 [==============================] - 9s 831us/step - loss: 0.0384 - categorical_accuracy: 0.9937 - val_loss: 2.5889 - val_categorical_accuracy: 0.6767\n",
      "Epoch 13/20\n",
      "10628/10628 [==============================] - 9s 828us/step - loss: 0.0360 - categorical_accuracy: 0.9931 - val_loss: 2.5294 - val_categorical_accuracy: 0.7189\n",
      "Epoch 14/20\n",
      "10628/10628 [==============================] - 9s 830us/step - loss: 0.0337 - categorical_accuracy: 0.9938 - val_loss: 2.4590 - val_categorical_accuracy: 0.7091\n",
      "Epoch 15/20\n",
      "10628/10628 [==============================] - 9s 840us/step - loss: 0.0333 - categorical_accuracy: 0.9935 - val_loss: 2.6828 - val_categorical_accuracy: 0.6827\n",
      "Epoch 16/20\n",
      "10628/10628 [==============================] - 9s 833us/step - loss: 0.0336 - categorical_accuracy: 0.9933 - val_loss: 2.6209 - val_categorical_accuracy: 0.6786\n",
      "Epoch 17/20\n",
      "10628/10628 [==============================] - 9s 829us/step - loss: 0.0335 - categorical_accuracy: 0.9930 - val_loss: 2.5782 - val_categorical_accuracy: 0.6869\n",
      "Epoch 18/20\n",
      "10628/10628 [==============================] - 9s 826us/step - loss: 0.0296 - categorical_accuracy: 0.9931 - val_loss: 3.0856 - val_categorical_accuracy: 0.6722\n",
      "Epoch 19/20\n",
      "10628/10628 [==============================] - 9s 824us/step - loss: 0.0274 - categorical_accuracy: 0.9935 - val_loss: 2.7446 - val_categorical_accuracy: 0.7019\n",
      "Epoch 20/20\n",
      "10628/10628 [==============================] - 9s 822us/step - loss: 0.0278 - categorical_accuracy: 0.9940 - val_loss: 3.3465 - val_categorical_accuracy: 0.6752\n"
     ]
    }
   ],
   "source": [
    "model = Sequential()\n",
    "model.add(Embedding(vocabulario, dim_vetor, input_length=x.shape[1]))\n",
    "model.add(Conv1D(64, 7, activation='relu'))\n",
    "model.add(MaxPooling1D(5))\n",
    "model.add(Flatten())\n",
    "model.add(Dense(256, activation='relu'))\n",
    "model.add(Dropout(0.2))\n",
    "model.add(Dense(y.shape[1], activation='softmax'))\n",
    "model.compile(loss='categorical_crossentropy', optimizer=RMSprop(),  metrics=[\"categorical_accuracy\"])\n",
    "model.summary()\n",
    "history = model.fit(x, y, epochs=20, batch_size=32, validation_split=0.2, verbose=1, shuffle=True)"
   ]
  },
  {
   "cell_type": "code",
   "execution_count": 21,
   "metadata": {},
   "outputs": [
    {
     "name": "stdout",
     "output_type": "stream",
     "text": [
      "_________________________________________________________________\n",
      "Layer (type)                 Output Shape              Param #   \n",
      "=================================================================\n",
      "embedding_9 (Embedding)      (None, 2000, 100)         6392600   \n",
      "_________________________________________________________________\n",
      "conv1d_14 (Conv1D)           (None, 1994, 64)          44864     \n",
      "_________________________________________________________________\n",
      "max_pooling1d_9 (MaxPooling1 (None, 398, 64)           0         \n",
      "_________________________________________________________________\n",
      "flatten_4 (Flatten)          (None, 25472)             0         \n",
      "_________________________________________________________________\n",
      "dense_11 (Dense)             (None, 2048)              52168704  \n",
      "_________________________________________________________________\n",
      "dropout_3 (Dropout)          (None, 2048)              0         \n",
      "_________________________________________________________________\n",
      "dense_12 (Dense)             (None, 128)               262272    \n",
      "_________________________________________________________________\n",
      "dropout_4 (Dropout)          (None, 128)               0         \n",
      "_________________________________________________________________\n",
      "dense_13 (Dense)             (None, 10)                1290      \n",
      "=================================================================\n",
      "Total params: 58,869,730\n",
      "Trainable params: 58,869,730\n",
      "Non-trainable params: 0\n",
      "_________________________________________________________________\n",
      "Train on 10628 samples, validate on 2657 samples\n",
      "Epoch 1/20\n",
      "10628/10628 [==============================] - 22s 2ms/step - loss: 1.2463 - categorical_accuracy: 0.5898 - val_loss: 1.1842 - val_categorical_accuracy: 0.6379\n",
      "Epoch 2/20\n",
      "10628/10628 [==============================] - 20s 2ms/step - loss: 0.6408 - categorical_accuracy: 0.7942 - val_loss: 1.0112 - val_categorical_accuracy: 0.6820\n",
      "Epoch 3/20\n",
      "10628/10628 [==============================] - 21s 2ms/step - loss: 0.3224 - categorical_accuracy: 0.9010 - val_loss: 1.3828 - val_categorical_accuracy: 0.6632\n",
      "Epoch 4/20\n",
      "10628/10628 [==============================] - 20s 2ms/step - loss: 0.1554 - categorical_accuracy: 0.9576 - val_loss: 2.0185 - val_categorical_accuracy: 0.6869\n",
      "Epoch 5/20\n",
      "10628/10628 [==============================] - 20s 2ms/step - loss: 0.0971 - categorical_accuracy: 0.9784 - val_loss: 3.0474 - val_categorical_accuracy: 0.5649\n",
      "Epoch 6/20\n",
      "10628/10628 [==============================] - 20s 2ms/step - loss: 0.0688 - categorical_accuracy: 0.9879 - val_loss: 2.0026 - val_categorical_accuracy: 0.7170\n",
      "Epoch 7/20\n",
      "10628/10628 [==============================] - 20s 2ms/step - loss: 0.0572 - categorical_accuracy: 0.9897 - val_loss: 2.7624 - val_categorical_accuracy: 0.6846\n",
      "Epoch 8/20\n",
      "10628/10628 [==============================] - 20s 2ms/step - loss: 0.0615 - categorical_accuracy: 0.9899 - val_loss: 2.7374 - val_categorical_accuracy: 0.7125\n",
      "Epoch 9/20\n",
      "10628/10628 [==============================] - 20s 2ms/step - loss: 0.0659 - categorical_accuracy: 0.9890 - val_loss: 2.6707 - val_categorical_accuracy: 0.6575\n",
      "Epoch 10/20\n",
      "10628/10628 [==============================] - 20s 2ms/step - loss: 0.0850 - categorical_accuracy: 0.9881 - val_loss: 2.6684 - val_categorical_accuracy: 0.6850\n",
      "Epoch 11/20\n",
      "10628/10628 [==============================] - 20s 2ms/step - loss: 0.0469 - categorical_accuracy: 0.9924 - val_loss: 2.9035 - val_categorical_accuracy: 0.7098\n",
      "Epoch 12/20\n",
      "10628/10628 [==============================] - 20s 2ms/step - loss: 0.0428 - categorical_accuracy: 0.9928 - val_loss: 2.9014 - val_categorical_accuracy: 0.7196\n",
      "Epoch 13/20\n",
      "10628/10628 [==============================] - 20s 2ms/step - loss: 0.0356 - categorical_accuracy: 0.9934 - val_loss: 2.8464 - val_categorical_accuracy: 0.7083\n",
      "Epoch 14/20\n",
      "10628/10628 [==============================] - 20s 2ms/step - loss: 0.0385 - categorical_accuracy: 0.9928 - val_loss: 3.0912 - val_categorical_accuracy: 0.6876\n",
      "Epoch 15/20\n",
      "10628/10628 [==============================] - 20s 2ms/step - loss: 0.0499 - categorical_accuracy: 0.9908 - val_loss: 2.7108 - val_categorical_accuracy: 0.6816\n",
      "Epoch 16/20\n",
      "10628/10628 [==============================] - 20s 2ms/step - loss: 0.0426 - categorical_accuracy: 0.9916 - val_loss: 3.1228 - val_categorical_accuracy: 0.7094\n",
      "Epoch 17/20\n",
      "10628/10628 [==============================] - 20s 2ms/step - loss: 0.0385 - categorical_accuracy: 0.9928 - val_loss: 2.9647 - val_categorical_accuracy: 0.7121\n",
      "Epoch 18/20\n",
      "10628/10628 [==============================] - 20s 2ms/step - loss: 0.0425 - categorical_accuracy: 0.9920 - val_loss: 3.2406 - val_categorical_accuracy: 0.7008\n",
      "Epoch 19/20\n",
      "10628/10628 [==============================] - 20s 2ms/step - loss: 0.0462 - categorical_accuracy: 0.9928 - val_loss: 3.3770 - val_categorical_accuracy: 0.6786\n",
      "Epoch 20/20\n",
      "10628/10628 [==============================] - 20s 2ms/step - loss: 0.0463 - categorical_accuracy: 0.9928 - val_loss: 3.4713 - val_categorical_accuracy: 0.7049\n"
     ]
    }
   ],
   "source": [
    "model = Sequential()\n",
    "model.add(Embedding(vocabulario, dim_vetor, input_length=x.shape[1]))\n",
    "model.add(Conv1D(64, 7, activation='relu'))\n",
    "model.add(MaxPooling1D(5))\n",
    "model.add(Flatten())\n",
    "model.add(Dense(2048, activation='relu'))\n",
    "model.add(Dropout(0.2))\n",
    "model.add(Dense(128, activation='relu'))\n",
    "model.add(Dropout(0.2))\n",
    "model.add(Dense(y.shape[1], activation='softmax'))\n",
    "model.compile(loss='categorical_crossentropy', optimizer=RMSprop(),  metrics=[\"categorical_accuracy\"])\n",
    "model.summary()\n",
    "history = model.fit(x, y, epochs=20, batch_size=32, validation_split=0.2, verbose=1, shuffle=True)"
   ]
  },
  {
   "cell_type": "code",
   "execution_count": null,
   "metadata": {},
   "outputs": [],
   "source": []
  }
 ],
 "metadata": {
  "kernelspec": {
   "display_name": "Python 3",
   "language": "python",
   "name": "python3"
  },
  "language_info": {
   "codemirror_mode": {
    "name": "ipython",
    "version": 3
   },
   "file_extension": ".py",
   "mimetype": "text/x-python",
   "name": "python",
   "nbconvert_exporter": "python",
   "pygments_lexer": "ipython3",
   "version": "3.7.4"
  }
 },
 "nbformat": 4,
 "nbformat_minor": 2
}
