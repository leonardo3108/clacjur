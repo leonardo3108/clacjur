{
 "cells": [
  {
   "cell_type": "code",
   "execution_count": 8,
   "metadata": {},
   "outputs": [
    {
     "data": {
      "text/html": [
       "<div>\n",
       "<style scoped>\n",
       "    .dataframe tbody tr th:only-of-type {\n",
       "        vertical-align: middle;\n",
       "    }\n",
       "\n",
       "    .dataframe tbody tr th {\n",
       "        vertical-align: top;\n",
       "    }\n",
       "\n",
       "    .dataframe thead th {\n",
       "        text-align: right;\n",
       "    }\n",
       "</style>\n",
       "<table border=\"1\" class=\"dataframe\">\n",
       "  <thead>\n",
       "    <tr style=\"text-align: right;\">\n",
       "      <th></th>\n",
       "      <th>COD</th>\n",
       "      <th>DESCR_AREA</th>\n",
       "      <th>EXCERTO_LEMATIZADO</th>\n",
       "    </tr>\n",
       "  </thead>\n",
       "  <tbody>\n",
       "    <tr>\n",
       "      <th>0</th>\n",
       "      <td>1400</td>\n",
       "      <td>Responsabilidade</td>\n",
       "      <td>voto : cuidar o auto de tomada de conta especi...</td>\n",
       "    </tr>\n",
       "    <tr>\n",
       "      <th>1</th>\n",
       "      <td>1700</td>\n",
       "      <td>Finanças Públicas</td>\n",
       "      <td>voto : cuidar o auto de solicitação de o congr...</td>\n",
       "    </tr>\n",
       "    <tr>\n",
       "      <th>2</th>\n",
       "      <td>5700</td>\n",
       "      <td>Responsabilidade</td>\n",
       "      <td>relatório : tratar se de embargo de declaração...</td>\n",
       "    </tr>\n",
       "    <tr>\n",
       "      <th>3</th>\n",
       "      <td>284</td>\n",
       "      <td>Direito Processual</td>\n",
       "      <td>voto : XXSECAO em relação a outro processo jud...</td>\n",
       "    </tr>\n",
       "    <tr>\n",
       "      <th>4</th>\n",
       "      <td>298</td>\n",
       "      <td>Pessoal</td>\n",
       "      <td>voto : XXSECAO relativo a o ato envolver o sen...</td>\n",
       "    </tr>\n",
       "  </tbody>\n",
       "</table>\n",
       "</div>"
      ],
      "text/plain": [
       "    COD          DESCR_AREA                                 EXCERTO_LEMATIZADO\n",
       "0  1400    Responsabilidade  voto : cuidar o auto de tomada de conta especi...\n",
       "1  1700   Finanças Públicas  voto : cuidar o auto de solicitação de o congr...\n",
       "2  5700    Responsabilidade  relatório : tratar se de embargo de declaração...\n",
       "3   284  Direito Processual  voto : XXSECAO em relação a outro processo jud...\n",
       "4   298             Pessoal  voto : XXSECAO relativo a o ato envolver o sen..."
      ]
     },
     "execution_count": 8,
     "metadata": {},
     "output_type": "execute_result"
    }
   ],
   "source": [
    "import pandas as pd\n",
    "\n",
    "df = pd.read_csv('../dados/excertos_lematizados.csv', sep = '|')\n",
    "df.head()"
   ]
  },
  {
   "cell_type": "code",
   "execution_count": 9,
   "metadata": {},
   "outputs": [
    {
     "name": "stdout",
     "output_type": "stream",
     "text": [
      "26825 termos distintos\n"
     ]
    }
   ],
   "source": [
    "from sklearn.feature_extraction.text import TfidfVectorizer\n",
    "\n",
    "textos = df['EXCERTO_LEMATIZADO'].values\n",
    "vetorizador = TfidfVectorizer(token_pattern=r'\\S+')\n",
    "vetorizador.fit(textos)\n",
    "print(len(vetorizador.vocabulary_), 'termos distintos')"
   ]
  },
  {
   "cell_type": "code",
   "execution_count": 10,
   "metadata": {},
   "outputs": [
    {
     "data": {
      "text/plain": [
       "<13285x26825 sparse matrix of type '<class 'numpy.float64'>'\n",
       "\twith 2975980 stored elements in Compressed Sparse Row format>"
      ]
     },
     "execution_count": 10,
     "metadata": {},
     "output_type": "execute_result"
    }
   ],
   "source": [
    "matriz = vetorizador.transform(textos)\n",
    "matriz"
   ]
  },
  {
   "cell_type": "code",
   "execution_count": 11,
   "metadata": {},
   "outputs": [],
   "source": [
    "def extrair_tfidf(documento):\n",
    "    indices = []\n",
    "    excerto = []\n",
    "    tf_idf = []\n",
    "    for termo in textos[documento].split():\n",
    "        if termo in vetorizador.vocabulary_:\n",
    "            indice = vetorizador.vocabulary_[termo]\n",
    "            indices.append(indice)\n",
    "            excerto.append(termo)\n",
    "            tf_idf.append(matriz[documento,indice])\n",
    "    return excerto, indices, tf_idf"
   ]
  },
  {
   "cell_type": "code",
   "execution_count": 12,
   "metadata": {},
   "outputs": [
    {
     "name": "stdout",
     "output_type": "stream",
     "text": [
      "voto \t 25793 \t 0.00192289886459048\n",
      ": \t 17 \t 0.010069489365013137\n",
      "em \t 8803 \t 0.05452254470679237\n",
      "exame \t 9889 \t 0.002020733623075538\n",
      "solicitação \t 23168 \t 0.014385556781087145\n",
      "de \t 6675 \t 0.21022420523660734\n",
      "o \t 17212 \t 0.3082171614624362\n",
      "congresso \t 5325 \t 0.011767509614608441\n",
      "nacional \t 16756 \t 0.009748899642027182\n",
      ", \t 13 \t 0.17843772010273884\n",
      "apresentar \t 1705 \t 0.00892965967321472\n",
      "a \t 101 \t 0.05135250520772603\n",
      "este \t 9695 \t 0.008237127228090547\n",
      "corte \t 6053 \t 0.0047916065161832\n",
      "por \t 19033 \t 0.025061525183787892\n",
      "decisão \t 6731 \t 0.0018410690608629656\n",
      "de \t 6675 \t 0.21022420523660734\n",
      "o \t 17212 \t 0.3082171614624362\n",
      "mesa \t 16032 \t 0.005836113396507798\n",
      "diretor \t 7884 \t 0.003179492920519787\n",
      "de \t 6675 \t 0.21022420523660734\n"
     ]
    }
   ],
   "source": [
    "excerto, indices, tf_idf = extrair_tfidf(11410)\n",
    "for i in range(0,21):\n",
    "    print(excerto[i], '\\t', indices[i], '\\t', tf_idf[i])"
   ]
  },
  {
   "cell_type": "code",
   "execution_count": 13,
   "metadata": {},
   "outputs": [
    {
     "data": {
      "text/plain": [
       "(3421, 3421, 3421)"
      ]
     },
     "execution_count": 13,
     "metadata": {},
     "output_type": "execute_result"
    }
   ],
   "source": [
    "len(excerto), len(indices), len(tf_idf)"
   ]
  },
  {
   "cell_type": "code",
   "execution_count": 14,
   "metadata": {},
   "outputs": [],
   "source": [
    "def extrair_tamanho(documento):\n",
    "    qtde = 0\n",
    "    for termo in textos[documento].split():\n",
    "        if termo in vetorizador.vocabulary_:\n",
    "            qtde += 1\n",
    "    return qtde"
   ]
  },
  {
   "cell_type": "code",
   "execution_count": 15,
   "metadata": {},
   "outputs": [
    {
     "data": {
      "text/plain": [
       "3421"
      ]
     },
     "execution_count": 15,
     "metadata": {},
     "output_type": "execute_result"
    }
   ],
   "source": [
    "extrair_tamanho(11410)"
   ]
  },
  {
   "cell_type": "code",
   "execution_count": 20,
   "metadata": {},
   "outputs": [
    {
     "data": {
      "text/plain": [
       "count    13285.000000\n",
       "mean       695.828754\n",
       "std        591.364057\n",
       "min         25.000000\n",
       "25%        334.000000\n",
       "50%        530.000000\n",
       "75%        856.000000\n",
       "max       6384.000000\n",
       "Name: tamanho, dtype: float64"
      ]
     },
     "execution_count": 20,
     "metadata": {},
     "output_type": "execute_result"
    }
   ],
   "source": [
    "for doc in range(0, len(textos)):\n",
    "    df.loc[doc, 'tamanho'] = extrair_tamanho(doc)\n",
    "df['tamanho'].describe()"
   ]
  },
  {
   "cell_type": "code",
   "execution_count": 21,
   "metadata": {},
   "outputs": [
    {
     "data": {
      "text/plain": [
       "(1348.2000000000007, 1742.7999999999993, 3036.16)"
      ]
     },
     "execution_count": 21,
     "metadata": {},
     "output_type": "execute_result"
    }
   ],
   "source": [
    "import numpy as np\n",
    "\n",
    "np.percentile(df['tamanho'], 90), np.percentile(df['tamanho'], 95), np.percentile(df['tamanho'], 99)"
   ]
  },
  {
   "cell_type": "code",
   "execution_count": 22,
   "metadata": {},
   "outputs": [],
   "source": [
    "def filtrar_texto(excerto, tf_idf, maximo):\n",
    "    derivado = ''\n",
    "    original = len(tf_idf)\n",
    "    if maximo >= original:\n",
    "        minimo = 0\n",
    "    else:\n",
    "        minimo = np.percentile(tf_idf,100-100*maximo/original)\n",
    "    for indice, valor in enumerate(tf_idf):\n",
    "        if valor > minimo:\n",
    "            derivado += excerto[indice] + ' '\n",
    "    return derivado[:-1]"
   ]
  },
  {
   "cell_type": "code",
   "execution_count": 24,
   "metadata": {},
   "outputs": [
    {
     "data": {
      "text/plain": [
       "'em de o , de o de o de o , em o de o de o de o , o o de o de de o de o de em o de o de o de o . . o , o de de , o de , o , sigilo , em o de o de o de , em o de o em o de o de o . , , o o em o de o , em o de o . o , em , o de o . o , o de o o de o , , o o sigilo , o , o de sigilo o , , , de o de . . o de em o , , , de o o o em o , , o sigilo , o de o de de o . . , , o de o . . de em o , o o o o , em o de o de o , o o de , em o de o o , de , o o o em o o de o o , o , o , o o , em o . . . . . . . . . . . . . . . . . . . . . . . . . . . . . . . . . . . . . . . . . . . . . . . . . . . . . . . . . . . . . . . . . . . . . . . . . . . . . . . . . . . . . . . . . . . . . . . . . . . . . . . . . . . . . . . . . . . . . . . . . . . . . . . . . . . . . . . . . . . . o , o , o o de o , o o de . . . . . . . . . . . . . . . . . . . . . . . . . . . . . . . . . . . . . . . . . . . . . . . . . . . . . . . . . . . . . . . . . . . . . . . . . . . . . . . . . . . . . . . . . . . . . . . . . . . . . . . . . . . . . . . . . . . . . . . . . . . . . . . . . . . . . . . . . . . . o sigilo de o de o , de de o , , em o , , em o em o o de . . , , , , em de o . o de o de , de o , , em o , de , de de o de de o , , o , de o , de de o , o o . o de o , o o o o de , , de , o de o , de , o de o , em de o o de . , . . em o , o , em o de o , o de o de o o de , , , o sigilo de o de o o de o de o de o . , o de o de de o o o de de , em , de o de de o o . . de o o o de o de o , o de o de o de o de o de . , , de o , de o o de o . o o o , o de o de o . o o de o . . em o o sigilo , , o de de o o o , o , de o de o , o . de o em o , o , de o de , de em de o o de o de o o de . de o em , o em o , o de em o de o de em o de o , o de , em o em o , o de o o , de . o de , em o de o , , o o , , o o de o sigilo . . de , , o o de o o de de o , o de o de de o o de de , de o de , em o de o , , em o em de , , em o de , em o de o em o de , , de o . . . . . . . . . . . . . . . . . . . . . . . . . . . . . . . . . . . . . . . . . . . . . . . . . . . . . . . . . . . . . . . . . . . . . . . . . . . . . . . . . . . . . . . . . . . . . . . . . . . . . . . . . . . . . . . . . . . . . . . . . . . . . . . . . . . . . . . . . . . . de . . . . . . . . . . . . . . . . . . . . . . . . . . . . . . . . . . . . . . . . . . . . . . . . . . . . . . . . . . . . . . . . . . . . . . . . . . . . . . . . . . . . . . . . . . . . . . . . . . . . . . . . . . . . . . . . . . . . . . . . . . . . . . . . . . . . . . . . . . . . o , , de o o de de o , o de . . . . . . . . . . . . . . . . . . . . . . . . . . . . . . . . . . . . . . . . . . . . . . . . . . . . . . . . . . . . . . . . . . . . . . . . . . . . . . . . . . . . . . . . . . . . . . . . . . . . . . . . . . . . . . . . . . . . . . . . . . . . . . . . . . . . . . . . . . . . o de o de o o , . . o , , o de de o o o de o , , , o de . . , de o , o de o , de de o de o de o , o de o de . . , o em o de o , , de , . . em o , o , de o de o de o , o de em , o de de o , em de de o , de o . em o , o em o , em , o de o o , o o em o de . de , o , o de de o , , de . , o de sigilo o de o o , o o de o . . , , o de o de o de o , , , de . de o , , o sigilo de o de . de o . em , em o , . , , . de o , , , de o , o , de de o . . . . . . . . . . . . . . . . . . . . . . . . . . . . . . . . . . . . . . . . . . . . . . . . . . . . . . . . . . . . . . . . . . . . . . . . . . . . . . . . . . . . . . . . . . . . . . . . . . . . . . . . . . . . . . . . . . . . . . . . . . . . . . . . . . . . . . . . . . . . . o de o , de de , , de de , de , o de o sigilo de o em , em o de . de de de , o de sigilo , , o de sigilo , o o de o , o , , de o . . . . . . . . . . . . . . . . . . . . . . . . . . . . . . . . . . . . . . . . . . . . . . . . . . . . . . . . . . . . . . . . . . . . . . . . . . . . . . . . . . . . . . . . . . . . . . . . . . . . . . . . . . . . . . . . . . . . . . . . . . . . . . . . . . . . . . . . . . . . . o de o , em o em o , , o o de o , de sigilo , de em o de o . , o o de em o de o o de , de . . , , de . . , , , o , o , em o de o , de o de , de o em , o , em o de o de o , , o de de o de o , , , de o de o de . de o de o , em , o o de o de o , o , de o de de o , de em o de de o de de o de o o o , de , em o de o , , de o , o o em o o de o sigilo , o , em , o o de o de'"
      ]
     },
     "execution_count": 24,
     "metadata": {},
     "output_type": "execute_result"
    }
   ],
   "source": [
    "filtrar_texto(excerto, tf_idf, 2000)"
   ]
  },
  {
   "cell_type": "code",
   "execution_count": 33,
   "metadata": {},
   "outputs": [
    {
     "name": "stdout",
     "output_type": "stream",
     "text": [
      "======================================================= Texto 0 =======================================================\n",
      "voto : cuidar o auto de tomada de conta especial instaurar por o gerência executivo de o instituto nacional de o seguro social em juazeiro de o norte , em desfavor de o exemplo servir e de o senhor , em o condição de segurado de o inss , em decorrência de fraude em o concessão de benefício previdenciários . assistir razão a o unidade técnico . o jurisprudência de este corte ser firme em o sentido de que , não ter ser comprovar o participação de o beneficiário em o concessão regular , por meio de o proceder interno de apurar adotar por o autarquia , não ser possível concluir por o existência de conluio entre este e o exemplo servir que autorizar o concessão , dever , pois , ser afastar a responsabilidade de o segurado . poder ser mencionar em esse mesmo linha o recente , , , todo de o plenário . por fim , em o linha de o jurisprudência de este corte , cumprir comunicar a o instituto nacional de o seguro social - inss e a o procuradoria geral federal - pgf que o não inclusão de o beneficiário em o presente relação processual não impedir o adoção de providência administrativo e / ou judiciais com vista a reaver valor que eventual ir indevido pagos . acórdão : excluir de o relação processual o senhor ; com fundamento em o artigo , incisar , e , incisar , alínea , e , incisar , de o , julgar regular o conta de o senhor , condenar o , em consequência , a o pagar de o importância abaixo especificar , atualizar monetário e acrescer de o juro de mora , calcular a partir das o data original de o débito a seguir indicar até o sua efetivo quitar , fixar lhe o prazo de dia , para que comprovar , perante o tribunal , o recolher de o referir quantia a o cofre de o inss , em o termo de o artigo , incisar , alínea , de o citar lei , combinar com o artigo , incisar , alínea , de o reger interno de o tcu ; comunicar a o instituto nacional de o seguro social - inss e a o procuradoria geral federal - pgf que o não inclusão de o beneficiário em o presente relação processual não impedir o adoção de providência administrativo e / ou judiciais com vista a reaver valor que eventual lhe ir indevido pagos ; (421)\n",
      "======================================================= Texto 1 =======================================================\n",
      "voto : cuidar o auto de solicitação de o congresso nacional para realizar de auditoria junto a o petróleo brasileiro s / a - petrobras , com vista a averiguar o legalidade , legitimidade , economicidade e o veracidade factual de o chamada operação de exportar de plataforma realizar por o referir empresa , desde . manifestar se o referir unidade técnico , em parecer uniforme , em o sentido de que o - com alterar posterior - instituir o regime aduaneiro especial de exportar e de importação de bem destinar a o atividade de pesquisa e de lavra de o jazer de petróleo e gás natural - repetro , não se constituir em ilegalidade a operação ficta de exportar de plataforma , a teor de o artigo , incisar , de o mencionar decreto . ir assinalar , em o oportunidade , que tal regime aduaneiro já ter ser objeto de análise incidental em o acórdão . consoante esclarecer , o regime de admissão temporário autorizar o permanência transitório em o país de determinar bem - que ter ser exportar - com suspensão de o tributo federais incidente sobre o importação e redução / isenção de o alíquota de o icms , ainda que o bem permanecer em o território nacional . note se que o operação ficta estar expresso prever em o , verbis : não haver , pois , ilegalidade , sob o ponto de vista fiscal . ir também descrever em o instrução todo o etapa de o proceder de concessão , execução e fiscalizar de o repetro , inclusive em o operação de exportar de plataforma , revelar que o autoridade fiscal manter acompanhar parir passu em todo o estágio de o regime . acórdão : informar a o presidência de o senado federal que : o operação ficta de exportar de plataforma não ser ilegal , sob o ponto de vista fiscal , porquanto prevista em o e em o , que definir o regime aduaneiro especial de exportar e de importação de bem destinar a o atividade de pesquisa e de lavra de o jazer de petróleo e de gás natural - repetro ( por força de artigo de o citar decreto ) ; (371)\n",
      "======================================================= Texto 2 =======================================================\n",
      "relatório : tratar se de embargo de declaração opor por o , exemplo - diretor de gestão portuário de o companhia doca de o pará ( peça ) , em face de o acórdão ( peça ) , por meio de o qual o tribunal aplicar multa a o responsável em razão de regularidade praticar em o execução de o , celebrar entre aquele companhia e o empresa . não conformar com o decisum acima , o alegar que haver obscuridade em aquele decisão em razão dos o critério para aplicação de o pena e de o impossível de sua responsabilizar . voto : o alegar obscuridade quanto aos o critério para aplicação de o multa também não proceder . afinal , o jurisprudência de este corte ser pacífico em o sentido de que o dosimetria de o pena , em o âmbito de o tcu , ter como balizar o nível de gravidade de o ilícito apurar , com o valoração de o circunstância fáticas e jurídico envolver , e o isonomia de tratar com caso análogo . o tribunal não realizar dosimetria objetivo de o multa , comum a o aplicação de norma de o direito penal e não haver um rol de agravante e atenuante legal reconhecer . ( por exemplo , , ambos de o plenário , câmara ) . acórdão : com fundamento em o artigo , incisar , e de o lei , conhecer de o presente embargo de declaração para , em o mérito , rejeitar lo ; (255)\n",
      "======================================================= Texto 3 =======================================================\n",
      "voto : em relação a outro processo judiciais que tratar de o regularidade em análise , o stf sufragar o tese de o independência entre o instância administrativo e penal ( por exemplo mandar de segurança ) , em o que ser acompanhar por o stj ( mandados de segurança ) , corroborar o entender de este corte de conta ( acórdão ) . ademais , conforme acórdão , o princípio de o independência de o instância permitir a o tcu apreciar , de forma pleno , o boa e regular gestão de o recurso público federais , mesmo em o caso que também estar ser apurar em outro instância administrativo ou judiciais . o juízo administrativo só se vincular a o penal quando em este último ser afirmar , categórico , o inexistência de o fato ou que o acusar não ir o autor de o ilícito ( artigo de o código civil e mandado de segurança stf ) . quer dizer , mesmo o existência de outro processo administrativo que eventual favorecer o recorrente não o socorrer em este processo , considerar o elemento de prova constante de o auto . acórdão : conhecer de o embargo para considerar lo parcial proceder , de forma a integrar o voto que fundamentar o presente deliberar a o acórdão ; (220)\n",
      "======================================================= Texto 4 =======================================================\n",
      ": a o ato o senhor , rememorar , desde logo , que , o jurisprudência dominante de este tribunal ( acórdão , ambos de este , ) , o entidade de o sistema s estar sujeito a o princípio consubstanciar em o artigo de o constituição federal , observar especial o princípio de o moralidade , de o impessoalidade e de o isonomia , ser vedar o nomear de cônjuge , companheiro ou parente em linha reta , colateral ou por afinidade , até o terceiro grau , para o seu quadro de função de confiança . em linha de entender , trago , a título de , parte de o que o acórdão , de o relatoria de o augusto nardes , que tratar de situação assemelhar a o posta em este : entretanto , o responsável não o nomear de o senhor ( sobrinho ) , ( nora ) e ( sobrinho ) para cargo em comissão , durante o sua gestão , beneficiar pessoal , em com o princípio de o imparcialidade , moralidade e isonomia . em reforço a convicção , reproduzir trecho de o preliminar ( ) , que melhor representar o jurisprudência de o tribunal em o sistema s : o disposto acima , o entidade de o sistema s estar sujeito a o consubstanciar em o artigo de o constituição federal vigente , em o que dizer respeito a o admissão de pessoal e a o contratar de / serviço e a o aquisição , observar , especial , o princípio de o moralidade , impessoalidade e isonomia . ser o que se depreender de o jurisprudência de este tribunal ( ; , , ; ; ; , , , , câmara ; ) . o entender de este colenda cortar parte de o premissa de que o entidade em tela prestar serviço de ou , ser beneficiar com oriundo de contribuir parafiscais por o de prestar a o sociedade . convir , ainda , observar que o vedar para o nomear de cônjuge , companheiro ou parente em linha reta , colateral ou por afinidade , até o terceiro grau , em o que tratar de o : súmula vincular de o stf ; ( reger interno de o stf ) , resolução de o conselho nacional de justiça e lei ( regime de o de o judiciário de o ) , dizer respeito a cargo em comissão ou função comissionar , e não para cargo efetivo . em o regulamento de o sesc o proibição ser indistinto . em o em , o senhor o presidente de o senac oferecer razão de justificativa em o de que o contratar ocorrer em o época em que senhor não ser presidente de o senac , e que o empregar manter conduta compatível com o função / cargo , não ser em seu favor . importar lembrar que o senhor não ir ouvir em razão de o contratar , por manter cônjuge / companheiro em cargo comissionar e em função gratificar . o confirmar que o nomear de o senhor se o gestão de o senhor , presidente falecer em . todavia , o ato de nomear ocorrer em o dia seguinte a o eleição de o senhor para o cargo de vice presidente de o fecomércio . , com o posse em o cargo , em , o senhor a ser dirigente de o senac ( assumir o presidência de o senac em o de o senhor ) . após o falecer de o senhor , ocorrer em , o senhor assumir de forma permanente a de o fecomércio , de o sesc e de o senac , ser que , em , ir eleito presidente de o referir sistema , para o de . com em o acima , entender , em consonância com o , que o manutenção de o senhor em cargo comissionar de consultor e em o função gratificar de diretor de o divisão administrativo e financeiro de o senac contrariar o princípio constitucional de o legalidade , de o impessoalidade e de o moralidade ( artigo , caput , de o constituição federal ) . o cargo comissionar e o função gratificar exercer por o senhor , o cargo comissionar exercer por o diretor , ser de livre nomear de o presidente de o senac e , por sua própria , provisório / transitório . ainda que o responsável optar por manter em o cargo o diretor nomear por o presidente , não manter em cargo comissionar e / ou função gratificar cônjuge / companheiro ou parente ( afim ou consanguíneo ) , em razão de o vedar constitucional referir . acórdão : de o e de o denúncia de o , em apenso , o preencher de o de admissível em o artigo e , caput , e , incisar , de o reger interno de o tcu , para ; o em o artigo , incisar , de o lei a o responsável a , por o especificar , com o de o prazo de dia , a contar de o notificar , para perante o tribunal ( artigo , incisar , , de o reger interno de o tcu ) , o recolher de o dívida a o cofre de o tesouro nacional , atualizar monetário desde o de este acórdão até o de o efetivo recolher , se ir pago após o vencer , em o forma de o em vigor : . : a o senac que , em o prazo de dia , a contar de o de este acórdão , o com a o regularização de o situação de o seguinte empregar : senhor cônjuge / companheiro de o presidente de o senac , ocupar de cargo comissionar de consultor e de o função gratificar de diretor de o divisão administrativo e financeiro de o senac , o que contrariar o princípio constitucional de o legalidade , de o impessoalidade (1000)\n"
     ]
    }
   ],
   "source": [
    "for doc in range(0, 5):#len(textos)):\n",
    "    excerto, _ , tf_idf = extrair_tfidf(doc)\n",
    "    print('======================================================= Texto', doc, '=======================================================')\n",
    "    derivado = filtrar_texto(excerto, tf_idf, 1000)\n",
    "    print(derivado, '(' + str(len(derivado.split())) + ')')"
   ]
  },
  {
   "cell_type": "code",
   "execution_count": 36,
   "metadata": {},
   "outputs": [
    {
     "name": "stdout",
     "output_type": "stream",
     "text": [
      "doc 1000 ...\n",
      "doc 2000 ...\n",
      "doc 3000 ...\n",
      "doc 4000 ...\n",
      "doc 5000 ...\n",
      "doc 6000 ...\n",
      "doc 7000 ...\n",
      "doc 8000 ...\n",
      "doc 9000 ...\n",
      "doc 10000 ...\n",
      "doc 11000 ...\n",
      "doc 12000 ...\n",
      "doc 13000 ...\n"
     ]
    }
   ],
   "source": [
    "for doc in range(0, len(textos)):\n",
    "    excerto, _ , tf_idf = extrair_tfidf(doc)\n",
    "    df.loc[doc, 'filtrado'] = filtrar_texto(excerto, tf_idf, 1000)\n",
    "    if (doc + 1) % 1000 == 0:\n",
    "        print('doc', doc+1, '...')"
   ]
  },
  {
   "cell_type": "code",
   "execution_count": 37,
   "metadata": {},
   "outputs": [
    {
     "data": {
      "text/html": [
       "<div>\n",
       "<style scoped>\n",
       "    .dataframe tbody tr th:only-of-type {\n",
       "        vertical-align: middle;\n",
       "    }\n",
       "\n",
       "    .dataframe tbody tr th {\n",
       "        vertical-align: top;\n",
       "    }\n",
       "\n",
       "    .dataframe thead th {\n",
       "        text-align: right;\n",
       "    }\n",
       "</style>\n",
       "<table border=\"1\" class=\"dataframe\">\n",
       "  <thead>\n",
       "    <tr style=\"text-align: right;\">\n",
       "      <th></th>\n",
       "      <th>tamanho</th>\n",
       "      <th>tamanho_derivado</th>\n",
       "    </tr>\n",
       "  </thead>\n",
       "  <tbody>\n",
       "    <tr>\n",
       "      <th>count</th>\n",
       "      <td>13285.000000</td>\n",
       "      <td>13285.000000</td>\n",
       "    </tr>\n",
       "    <tr>\n",
       "      <th>mean</th>\n",
       "      <td>695.828754</td>\n",
       "      <td>575.627023</td>\n",
       "    </tr>\n",
       "    <tr>\n",
       "      <th>std</th>\n",
       "      <td>591.364057</td>\n",
       "      <td>286.420705</td>\n",
       "    </tr>\n",
       "    <tr>\n",
       "      <th>min</th>\n",
       "      <td>25.000000</td>\n",
       "      <td>0.000000</td>\n",
       "    </tr>\n",
       "    <tr>\n",
       "      <th>25%</th>\n",
       "      <td>334.000000</td>\n",
       "      <td>334.000000</td>\n",
       "    </tr>\n",
       "    <tr>\n",
       "      <th>50%</th>\n",
       "      <td>530.000000</td>\n",
       "      <td>529.000000</td>\n",
       "    </tr>\n",
       "    <tr>\n",
       "      <th>75%</th>\n",
       "      <td>856.000000</td>\n",
       "      <td>847.000000</td>\n",
       "    </tr>\n",
       "    <tr>\n",
       "      <th>max</th>\n",
       "      <td>6384.000000</td>\n",
       "      <td>1426.000000</td>\n",
       "    </tr>\n",
       "  </tbody>\n",
       "</table>\n",
       "</div>"
      ],
      "text/plain": [
       "            tamanho  tamanho_derivado\n",
       "count  13285.000000      13285.000000\n",
       "mean     695.828754        575.627023\n",
       "std      591.364057        286.420705\n",
       "min       25.000000          0.000000\n",
       "25%      334.000000        334.000000\n",
       "50%      530.000000        529.000000\n",
       "75%      856.000000        847.000000\n",
       "max     6384.000000       1426.000000"
      ]
     },
     "execution_count": 37,
     "metadata": {},
     "output_type": "execute_result"
    }
   ],
   "source": [
    "for doc in range(0, len(textos)):\n",
    "    df.loc[doc, 'tamanho_derivado'] = len(df.loc[doc, 'filtrado'].split())\n",
    "df[['tamanho', 'tamanho_derivado']].describe()"
   ]
  },
  {
   "cell_type": "code",
   "execution_count": 40,
   "metadata": {},
   "outputs": [
    {
     "data": {
      "text/plain": [
       "18.712834023334587"
      ]
     },
     "execution_count": 40,
     "metadata": {},
     "output_type": "execute_result"
    }
   ],
   "source": [
    "len(df.query('tamanho != tamanho_derivado'))*100/len(df)"
   ]
  },
  {
   "cell_type": "code",
   "execution_count": 41,
   "metadata": {},
   "outputs": [
    {
     "data": {
      "text/plain": [
       "(1348.2000000000007, 1742.7999999999993, 3036.16)"
      ]
     },
     "execution_count": 41,
     "metadata": {},
     "output_type": "execute_result"
    }
   ],
   "source": [
    "np.percentile(df['tamanho'], 90), np.percentile(df['tamanho'], 95), np.percentile(df['tamanho'], 99)"
   ]
  },
  {
   "cell_type": "code",
   "execution_count": 42,
   "metadata": {},
   "outputs": [
    {
     "data": {
      "text/plain": [
       "(999.0, 1000.0, 1000.0)"
      ]
     },
     "execution_count": 42,
     "metadata": {},
     "output_type": "execute_result"
    }
   ],
   "source": [
    "np.percentile(df['tamanho_derivado'], 90), np.percentile(df['tamanho_derivado'], 95), np.percentile(df['tamanho_derivado'], 99)"
   ]
  },
  {
   "cell_type": "code",
   "execution_count": 49,
   "metadata": {},
   "outputs": [
    {
     "data": {
      "text/plain": [
       "DESCR_AREA\n",
       "Pessoal                    25.540083\n",
       "Licitação                  20.745201\n",
       "Responsabilidade           17.636432\n",
       "Direito Processual         13.631916\n",
       "Contrato Administrativo     7.083177\n",
       "Convênio                    5.141137\n",
       "Competência do TCU          4.162589\n",
       "Gestão Administrativa       2.544223\n",
       "Finanças Públicas           2.468950\n",
       "Desestatização              1.046293\n",
       "dtype: float64"
      ]
     },
     "execution_count": 49,
     "metadata": {},
     "output_type": "execute_result"
    }
   ],
   "source": [
    "df.groupby('DESCR_AREA').size().sort_values(ascending = False) / 132.85"
   ]
  },
  {
   "cell_type": "code",
   "execution_count": 50,
   "metadata": {},
   "outputs": [
    {
     "data": {
      "text/plain": [
       "DESCR_AREA\n",
       "Pessoal                    22.526146\n",
       "Licitação                  21.600965\n",
       "Responsabilidade           16.411907\n",
       "Direito Processual         11.946903\n",
       "Contrato Administrativo     8.165728\n",
       "Convênio                    5.792438\n",
       "Finanças Públicas           5.108608\n",
       "Competência do TCU          4.465004\n",
       "Gestão Administrativa       2.212389\n",
       "Desestatização              1.769912\n",
       "dtype: float64"
      ]
     },
     "execution_count": 50,
     "metadata": {},
     "output_type": "execute_result"
    }
   ],
   "source": [
    "df.query('tamanho != tamanho_derivado').groupby('DESCR_AREA').size().sort_values(ascending = False) / 132.85 / .18712834023334587"
   ]
  },
  {
   "cell_type": "markdown",
   "metadata": {},
   "source": [
    "introduz um viés..."
   ]
  },
  {
   "cell_type": "code",
   "execution_count": 43,
   "metadata": {
    "scrolled": true
   },
   "outputs": [
    {
     "data": {
      "text/html": [
       "<div>\n",
       "<style scoped>\n",
       "    .dataframe tbody tr th:only-of-type {\n",
       "        vertical-align: middle;\n",
       "    }\n",
       "\n",
       "    .dataframe tbody tr th {\n",
       "        vertical-align: top;\n",
       "    }\n",
       "\n",
       "    .dataframe thead th {\n",
       "        text-align: right;\n",
       "    }\n",
       "</style>\n",
       "<table border=\"1\" class=\"dataframe\">\n",
       "  <thead>\n",
       "    <tr style=\"text-align: right;\">\n",
       "      <th></th>\n",
       "      <th>COD</th>\n",
       "      <th>DESCR_AREA</th>\n",
       "      <th>EXCERTO_LEMATIZADO</th>\n",
       "      <th>tamanho</th>\n",
       "      <th>filtrado</th>\n",
       "      <th>tamanho_derivado</th>\n",
       "    </tr>\n",
       "  </thead>\n",
       "  <tbody>\n",
       "    <tr>\n",
       "      <th>0</th>\n",
       "      <td>1400</td>\n",
       "      <td>Responsabilidade</td>\n",
       "      <td>voto : cuidar o auto de tomada de conta especi...</td>\n",
       "      <td>421.0</td>\n",
       "      <td>voto : cuidar o auto de tomada de conta especi...</td>\n",
       "      <td>421.0</td>\n",
       "    </tr>\n",
       "    <tr>\n",
       "      <th>1</th>\n",
       "      <td>1700</td>\n",
       "      <td>Finanças Públicas</td>\n",
       "      <td>voto : cuidar o auto de solicitação de o congr...</td>\n",
       "      <td>371.0</td>\n",
       "      <td>voto : cuidar o auto de solicitação de o congr...</td>\n",
       "      <td>371.0</td>\n",
       "    </tr>\n",
       "    <tr>\n",
       "      <th>2</th>\n",
       "      <td>5700</td>\n",
       "      <td>Responsabilidade</td>\n",
       "      <td>relatório : tratar se de embargo de declaração...</td>\n",
       "      <td>255.0</td>\n",
       "      <td>relatório : tratar se de embargo de declaração...</td>\n",
       "      <td>255.0</td>\n",
       "    </tr>\n",
       "    <tr>\n",
       "      <th>3</th>\n",
       "      <td>284</td>\n",
       "      <td>Direito Processual</td>\n",
       "      <td>voto : XXSECAO em relação a outro processo jud...</td>\n",
       "      <td>220.0</td>\n",
       "      <td>voto : em relação a outro processo judiciais q...</td>\n",
       "      <td>220.0</td>\n",
       "    </tr>\n",
       "    <tr>\n",
       "      <th>4</th>\n",
       "      <td>298</td>\n",
       "      <td>Pessoal</td>\n",
       "      <td>voto : XXSECAO relativo a o ato envolver o sen...</td>\n",
       "      <td>1107.0</td>\n",
       "      <td>: a o ato o senhor , rememorar , desde logo , ...</td>\n",
       "      <td>1000.0</td>\n",
       "    </tr>\n",
       "  </tbody>\n",
       "</table>\n",
       "</div>"
      ],
      "text/plain": [
       "    COD          DESCR_AREA  \\\n",
       "0  1400    Responsabilidade   \n",
       "1  1700   Finanças Públicas   \n",
       "2  5700    Responsabilidade   \n",
       "3   284  Direito Processual   \n",
       "4   298             Pessoal   \n",
       "\n",
       "                                  EXCERTO_LEMATIZADO  tamanho  \\\n",
       "0  voto : cuidar o auto de tomada de conta especi...    421.0   \n",
       "1  voto : cuidar o auto de solicitação de o congr...    371.0   \n",
       "2  relatório : tratar se de embargo de declaração...    255.0   \n",
       "3  voto : XXSECAO em relação a outro processo jud...    220.0   \n",
       "4  voto : XXSECAO relativo a o ato envolver o sen...   1107.0   \n",
       "\n",
       "                                            filtrado  tamanho_derivado  \n",
       "0  voto : cuidar o auto de tomada de conta especi...             421.0  \n",
       "1  voto : cuidar o auto de solicitação de o congr...             371.0  \n",
       "2  relatório : tratar se de embargo de declaração...             255.0  \n",
       "3  voto : em relação a outro processo judiciais q...             220.0  \n",
       "4  : a o ato o senhor , rememorar , desde logo , ...            1000.0  "
      ]
     },
     "execution_count": 43,
     "metadata": {},
     "output_type": "execute_result"
    }
   ],
   "source": [
    "df.head()"
   ]
  },
  {
   "cell_type": "code",
   "execution_count": 51,
   "metadata": {},
   "outputs": [],
   "source": [
    "df.to_csv('../dados/excertos_filtrados1000.csv', sep = '|', columns = ['COD', 'DESCR_AREA', 'filtrado'], index=False)"
   ]
  },
  {
   "cell_type": "code",
   "execution_count": 3,
   "metadata": {},
   "outputs": [
    {
     "data": {
      "text/html": [
       "<div>\n",
       "<style scoped>\n",
       "    .dataframe tbody tr th:only-of-type {\n",
       "        vertical-align: middle;\n",
       "    }\n",
       "\n",
       "    .dataframe tbody tr th {\n",
       "        vertical-align: top;\n",
       "    }\n",
       "\n",
       "    .dataframe thead th {\n",
       "        text-align: right;\n",
       "    }\n",
       "</style>\n",
       "<table border=\"1\" class=\"dataframe\">\n",
       "  <thead>\n",
       "    <tr style=\"text-align: right;\">\n",
       "      <th></th>\n",
       "      <th>COD</th>\n",
       "      <th>DESCR_AREA</th>\n",
       "      <th>EXCERTO_LEMATIZADO</th>\n",
       "    </tr>\n",
       "  </thead>\n",
       "  <tbody>\n",
       "    <tr>\n",
       "      <th>0</th>\n",
       "      <td>1400</td>\n",
       "      <td>Responsabilidade</td>\n",
       "      <td>voto : cuidar o auto de tomada de conta especi...</td>\n",
       "    </tr>\n",
       "    <tr>\n",
       "      <th>1</th>\n",
       "      <td>1700</td>\n",
       "      <td>Finanças Públicas</td>\n",
       "      <td>voto : cuidar o auto de solicitação de o congr...</td>\n",
       "    </tr>\n",
       "    <tr>\n",
       "      <th>2</th>\n",
       "      <td>5700</td>\n",
       "      <td>Responsabilidade</td>\n",
       "      <td>relatório : tratar se de embargo de declaração...</td>\n",
       "    </tr>\n",
       "    <tr>\n",
       "      <th>3</th>\n",
       "      <td>284</td>\n",
       "      <td>Direito Processual</td>\n",
       "      <td>voto : XXSECAO em relação a outro processo jud...</td>\n",
       "    </tr>\n",
       "    <tr>\n",
       "      <th>4</th>\n",
       "      <td>298</td>\n",
       "      <td>Pessoal</td>\n",
       "      <td>voto : XXSECAO relativo a o ato envolver o sen...</td>\n",
       "    </tr>\n",
       "  </tbody>\n",
       "</table>\n",
       "</div>"
      ],
      "text/plain": [
       "    COD          DESCR_AREA                                 EXCERTO_LEMATIZADO\n",
       "0  1400    Responsabilidade  voto : cuidar o auto de tomada de conta especi...\n",
       "1  1700   Finanças Públicas  voto : cuidar o auto de solicitação de o congr...\n",
       "2  5700    Responsabilidade  relatório : tratar se de embargo de declaração...\n",
       "3   284  Direito Processual  voto : XXSECAO em relação a outro processo jud...\n",
       "4   298             Pessoal  voto : XXSECAO relativo a o ato envolver o sen..."
      ]
     },
     "execution_count": 3,
     "metadata": {},
     "output_type": "execute_result"
    }
   ],
   "source": [
    "import pandas as pd\n",
    "\n",
    "df = pd.read_csv('../dados/excertos_lematizados.csv', sep = '|')\n",
    "df.head()"
   ]
  },
  {
   "cell_type": "code",
   "execution_count": 4,
   "metadata": {},
   "outputs": [
    {
     "data": {
      "text/plain": [
       "COD                                                               37522\n",
       "DESCR_AREA                                           Direito Processual\n",
       "EXCERTO_LEMATIZADO    voto : em exame solicitação de o congresso nac...\n",
       "Name: 11410, dtype: object"
      ]
     },
     "execution_count": 4,
     "metadata": {},
     "output_type": "execute_result"
    }
   ],
   "source": [
    "df.loc[11410]"
   ]
  },
  {
   "cell_type": "code",
   "execution_count": 5,
   "metadata": {},
   "outputs": [
    {
     "data": {
      "text/plain": [
       "COD                                                               43342\n",
       "DESCR_AREA                                                      Pessoal\n",
       "EXCERTO_LEMATIZADO    voto revisor : tratar se de representação ofer...\n",
       "Name: 11999, dtype: object"
      ]
     },
     "execution_count": 5,
     "metadata": {},
     "output_type": "execute_result"
    }
   ],
   "source": [
    "df.loc[11999]"
   ]
  },
  {
   "cell_type": "code",
   "execution_count": 6,
   "metadata": {},
   "outputs": [
    {
     "data": {
      "text/html": [
       "<div>\n",
       "<style scoped>\n",
       "    .dataframe tbody tr th:only-of-type {\n",
       "        vertical-align: middle;\n",
       "    }\n",
       "\n",
       "    .dataframe tbody tr th {\n",
       "        vertical-align: top;\n",
       "    }\n",
       "\n",
       "    .dataframe thead th {\n",
       "        text-align: right;\n",
       "    }\n",
       "</style>\n",
       "<table border=\"1\" class=\"dataframe\">\n",
       "  <thead>\n",
       "    <tr style=\"text-align: right;\">\n",
       "      <th></th>\n",
       "      <th>COD</th>\n",
       "      <th>DESCR_AREA</th>\n",
       "      <th>filtrado</th>\n",
       "    </tr>\n",
       "  </thead>\n",
       "  <tbody>\n",
       "    <tr>\n",
       "      <th>0</th>\n",
       "      <td>1400</td>\n",
       "      <td>Responsabilidade</td>\n",
       "      <td>voto : cuidar o auto de tomada de conta especi...</td>\n",
       "    </tr>\n",
       "    <tr>\n",
       "      <th>1</th>\n",
       "      <td>1700</td>\n",
       "      <td>Finanças Públicas</td>\n",
       "      <td>voto : cuidar o auto de solicitação de o congr...</td>\n",
       "    </tr>\n",
       "    <tr>\n",
       "      <th>2</th>\n",
       "      <td>5700</td>\n",
       "      <td>Responsabilidade</td>\n",
       "      <td>relatório : tratar se de embargo de declaração...</td>\n",
       "    </tr>\n",
       "    <tr>\n",
       "      <th>3</th>\n",
       "      <td>284</td>\n",
       "      <td>Direito Processual</td>\n",
       "      <td>voto : em relação a outro processo judiciais q...</td>\n",
       "    </tr>\n",
       "    <tr>\n",
       "      <th>4</th>\n",
       "      <td>298</td>\n",
       "      <td>Pessoal</td>\n",
       "      <td>: a o ato o senhor , rememorar , desde logo , ...</td>\n",
       "    </tr>\n",
       "  </tbody>\n",
       "</table>\n",
       "</div>"
      ],
      "text/plain": [
       "    COD          DESCR_AREA                                           filtrado\n",
       "0  1400    Responsabilidade  voto : cuidar o auto de tomada de conta especi...\n",
       "1  1700   Finanças Públicas  voto : cuidar o auto de solicitação de o congr...\n",
       "2  5700    Responsabilidade  relatório : tratar se de embargo de declaração...\n",
       "3   284  Direito Processual  voto : em relação a outro processo judiciais q...\n",
       "4   298             Pessoal  : a o ato o senhor , rememorar , desde logo , ..."
      ]
     },
     "execution_count": 6,
     "metadata": {},
     "output_type": "execute_result"
    }
   ],
   "source": [
    "df = pd.read_csv('../dados/excertos_filtrados1000.csv', sep = '|')\n",
    "df.head()"
   ]
  },
  {
   "cell_type": "code",
   "execution_count": 7,
   "metadata": {},
   "outputs": [
    {
     "data": {
      "text/plain": [
       "COD                        37522\n",
       "DESCR_AREA    Direito Processual\n",
       "filtrado                     NaN\n",
       "Name: 11410, dtype: object"
      ]
     },
     "execution_count": 7,
     "metadata": {},
     "output_type": "execute_result"
    }
   ],
   "source": [
    "df.loc[11410]"
   ]
  },
  {
   "cell_type": "code",
   "execution_count": null,
   "metadata": {},
   "outputs": [],
   "source": []
  }
 ],
 "metadata": {
  "kernelspec": {
   "display_name": "Python 3",
   "language": "python",
   "name": "python3"
  },
  "language_info": {
   "codemirror_mode": {
    "name": "ipython",
    "version": 3
   },
   "file_extension": ".py",
   "mimetype": "text/x-python",
   "name": "python",
   "nbconvert_exporter": "python",
   "pygments_lexer": "ipython3",
   "version": "3.7.4"
  }
 },
 "nbformat": 4,
 "nbformat_minor": 2
}
