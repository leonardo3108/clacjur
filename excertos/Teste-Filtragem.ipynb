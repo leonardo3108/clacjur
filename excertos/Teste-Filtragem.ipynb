{
 "cells": [
  {
   "cell_type": "code",
   "execution_count": 3,
   "metadata": {},
   "outputs": [
    {
     "name": "stderr",
     "output_type": "stream",
     "text": [
      "[nltk_data] Downloading package stopwords to\n",
      "[nltk_data]     /home/leonardo/nltk_data...\n",
      "[nltk_data]   Unzipping corpora/stopwords.zip.\n"
     ]
    },
    {
     "data": {
      "text/plain": [
       "True"
      ]
     },
     "execution_count": 3,
     "metadata": {},
     "output_type": "execute_result"
    }
   ],
   "source": [
    "import nltk\n",
    "nltk.download('stopwords')"
   ]
  },
  {
   "cell_type": "code",
   "execution_count": 1,
   "metadata": {},
   "outputs": [
    {
     "data": {
      "text/html": [
       "<div>\n",
       "<style scoped>\n",
       "    .dataframe tbody tr th:only-of-type {\n",
       "        vertical-align: middle;\n",
       "    }\n",
       "\n",
       "    .dataframe tbody tr th {\n",
       "        vertical-align: top;\n",
       "    }\n",
       "\n",
       "    .dataframe thead th {\n",
       "        text-align: right;\n",
       "    }\n",
       "</style>\n",
       "<table border=\"1\" class=\"dataframe\">\n",
       "  <thead>\n",
       "    <tr style=\"text-align: right;\">\n",
       "      <th></th>\n",
       "      <th>COD</th>\n",
       "      <th>DESCR_AREA</th>\n",
       "      <th>EXCERTO_LEMATIZADO</th>\n",
       "    </tr>\n",
       "  </thead>\n",
       "  <tbody>\n",
       "    <tr>\n",
       "      <th>0</th>\n",
       "      <td>1400</td>\n",
       "      <td>Responsabilidade</td>\n",
       "      <td>voto : cuidar o auto de tomada de conta especi...</td>\n",
       "    </tr>\n",
       "    <tr>\n",
       "      <th>1</th>\n",
       "      <td>1700</td>\n",
       "      <td>Finanças Públicas</td>\n",
       "      <td>voto : cuidar o auto de solicitação de o congr...</td>\n",
       "    </tr>\n",
       "    <tr>\n",
       "      <th>2</th>\n",
       "      <td>5700</td>\n",
       "      <td>Responsabilidade</td>\n",
       "      <td>relatório : tratar se de embargo de declaração...</td>\n",
       "    </tr>\n",
       "    <tr>\n",
       "      <th>3</th>\n",
       "      <td>284</td>\n",
       "      <td>Direito Processual</td>\n",
       "      <td>voto : XXSECAO em relação a outro processo jud...</td>\n",
       "    </tr>\n",
       "    <tr>\n",
       "      <th>4</th>\n",
       "      <td>298</td>\n",
       "      <td>Pessoal</td>\n",
       "      <td>voto : XXSECAO relativo a o ato envolver o sen...</td>\n",
       "    </tr>\n",
       "  </tbody>\n",
       "</table>\n",
       "</div>"
      ],
      "text/plain": [
       "    COD          DESCR_AREA                                 EXCERTO_LEMATIZADO\n",
       "0  1400    Responsabilidade  voto : cuidar o auto de tomada de conta especi...\n",
       "1  1700   Finanças Públicas  voto : cuidar o auto de solicitação de o congr...\n",
       "2  5700    Responsabilidade  relatório : tratar se de embargo de declaração...\n",
       "3   284  Direito Processual  voto : XXSECAO em relação a outro processo jud...\n",
       "4   298             Pessoal  voto : XXSECAO relativo a o ato envolver o sen..."
      ]
     },
     "execution_count": 1,
     "metadata": {},
     "output_type": "execute_result"
    }
   ],
   "source": [
    "import pandas as pd\n",
    "\n",
    "df = pd.read_csv('../dados/excertos_lematizados.csv', sep = '|')\n",
    "df.head()"
   ]
  },
  {
   "cell_type": "code",
   "execution_count": 16,
   "metadata": {},
   "outputs": [
    {
     "name": "stdout",
     "output_type": "stream",
     "text": [
      "26444 termos distintos\n"
     ]
    }
   ],
   "source": [
    "from sklearn.feature_extraction.text import TfidfVectorizer\n",
    "from nltk.corpus import stopwords \n",
    "\n",
    "textos = df['EXCERTO_LEMATIZADO'].values\n",
    "vetorizador = TfidfVectorizer(stop_words = stopwords.words('portuguese'))  #token_pattern=r'\\S+', \n",
    "vetorizador.fit(textos)\n",
    "print(len(vetorizador.vocabulary_), 'termos distintos')"
   ]
  },
  {
   "cell_type": "code",
   "execution_count": 17,
   "metadata": {},
   "outputs": [
    {
     "data": {
      "text/plain": [
       "<13285x26444 sparse matrix of type '<class 'numpy.float64'>'\n",
       "\twith 2562108 stored elements in Compressed Sparse Row format>"
      ]
     },
     "execution_count": 17,
     "metadata": {},
     "output_type": "execute_result"
    }
   ],
   "source": [
    "matriz = vetorizador.transform(textos)\n",
    "matriz"
   ]
  },
  {
   "cell_type": "code",
   "execution_count": 18,
   "metadata": {},
   "outputs": [],
   "source": [
    "def extrair_tfidf(documento):\n",
    "    indices = []\n",
    "    excerto = []\n",
    "    tf_idf = []\n",
    "    for termo in textos[documento].split():\n",
    "        if termo in vetorizador.vocabulary_:\n",
    "            indice = vetorizador.vocabulary_[termo]\n",
    "            indices.append(indice)\n",
    "            excerto.append(termo)\n",
    "            tf_idf.append(matriz[documento,indice])\n",
    "    return excerto, indices, tf_idf"
   ]
  },
  {
   "cell_type": "code",
   "execution_count": 19,
   "metadata": {},
   "outputs": [
    {
     "name": "stdout",
     "output_type": "stream",
     "text": [
      "voto \t 25496 \t 0.01006802847722078\n",
      "exame \t 9707 \t 0.010621366172999965\n",
      "solicitação \t 22899 \t 0.07561326462310149\n",
      "congresso \t 5195 \t 0.06185230311099829\n",
      "nacional \t 16531 \t 0.05124209925512199\n",
      "apresentar \t 1597 \t 0.04693601576497314\n",
      "corte \t 5923 \t 0.025185609218425904\n",
      "decisão \t 6580 \t 0.009677014536653619\n",
      "mesa \t 15815 \t 0.030675739099701553\n",
      "diretor \t 7728 \t 0.016712028823424662\n",
      "câmara \t 6362 \t 0.05407613576144933\n",
      "deputado \t 6930 \t 0.06358199215642885\n",
      "termo \t 23989 \t 0.030399841028494995\n",
      "inciso \t 12734 \t 0.061060093738559765\n",
      "artigo \t 1923 \t 0.09447054636230383\n",
      "constituição \t 5358 \t 0.05227232856360529\n",
      "federal \t 10326 \t 0.039316052379740965\n",
      "mediante \t 15685 \t 0.03428098941745531\n",
      "requerer \t 20953 \t 0.029706958242720724\n",
      "envio \t 9090 \t 0.022577187206597838\n",
      "casa \t 3529 \t 0.048542592113396905\n"
     ]
    }
   ],
   "source": [
    "excerto, indices, tf_idf = extrair_tfidf(11410)\n",
    "for i in range(0,21):\n",
    "    print(excerto[i], '\\t', indices[i], '\\t', tf_idf[i])"
   ]
  },
  {
   "cell_type": "code",
   "execution_count": 20,
   "metadata": {},
   "outputs": [
    {
     "data": {
      "text/plain": [
       "(1082, 1082, 1082)"
      ]
     },
     "execution_count": 20,
     "metadata": {},
     "output_type": "execute_result"
    }
   ],
   "source": [
    "len(excerto), len(indices), len(tf_idf)"
   ]
  },
  {
   "cell_type": "code",
   "execution_count": 21,
   "metadata": {},
   "outputs": [],
   "source": [
    "def extrair_tamanho(documento):\n",
    "    qtde = 0\n",
    "    for termo in textos[documento].split():\n",
    "        if termo in vetorizador.vocabulary_:\n",
    "            qtde += 1\n",
    "    return qtde"
   ]
  },
  {
   "cell_type": "code",
   "execution_count": 22,
   "metadata": {},
   "outputs": [
    {
     "data": {
      "text/plain": [
       "1082"
      ]
     },
     "execution_count": 22,
     "metadata": {},
     "output_type": "execute_result"
    }
   ],
   "source": [
    "extrair_tamanho(11410)"
   ]
  },
  {
   "cell_type": "code",
   "execution_count": 23,
   "metadata": {},
   "outputs": [
    {
     "data": {
      "text/plain": [
       "count    13285.000000\n",
       "mean       316.064057\n",
       "std        269.888844\n",
       "min         12.000000\n",
       "25%        152.000000\n",
       "50%        240.000000\n",
       "75%        387.000000\n",
       "max       2846.000000\n",
       "Name: tamanho, dtype: float64"
      ]
     },
     "execution_count": 23,
     "metadata": {},
     "output_type": "execute_result"
    }
   ],
   "source": [
    "for doc in range(0, len(textos)):\n",
    "    df.loc[doc, 'tamanho'] = extrair_tamanho(doc)\n",
    "df['tamanho'].describe()"
   ]
  },
  {
   "cell_type": "code",
   "execution_count": 24,
   "metadata": {},
   "outputs": [
    {
     "data": {
      "text/plain": [
       "(614.0, 795.0, 1393.3199999999997)"
      ]
     },
     "execution_count": 24,
     "metadata": {},
     "output_type": "execute_result"
    }
   ],
   "source": [
    "import numpy as np\n",
    "\n",
    "np.percentile(df['tamanho'], 90), np.percentile(df['tamanho'], 95), np.percentile(df['tamanho'], 99)"
   ]
  },
  {
   "cell_type": "code",
   "execution_count": 25,
   "metadata": {},
   "outputs": [],
   "source": [
    "def filtrar_texto(excerto, tf_idf, maximo):\n",
    "    derivado = ''\n",
    "    original = len(tf_idf)\n",
    "    if maximo >= original:\n",
    "        minimo = 0\n",
    "    else:\n",
    "        minimo = np.percentile(tf_idf,100-100*maximo/original)\n",
    "    for indice, valor in enumerate(tf_idf):\n",
    "        if valor > minimo:\n",
    "            derivado += excerto[indice] + ' '\n",
    "    return derivado[:-1]"
   ]
  },
  {
   "cell_type": "code",
   "execution_count": 39,
   "metadata": {},
   "outputs": [
    {
     "data": {
      "text/plain": [
       "'tomada conta especial tce instaurar caixa caixa caixa especial quantificar processo artigo instrução normativo tcu caixa quantificar instrução indício dano erário instaurar processo ser quantificar natureza ser ser ser indício dano erário resp resp multa artigo caixa responsável responsável ser tce pressupor constituição processual ser artigo instrução normativo apurar ocorrência dano apurar quantificar dano responsável erário multa artigo ser natureza processo ser representação julgar indício dano ser pressupor constituição tomada conta especial artigo artigo tcu tomada conta especial regularidade indício dano erário responsável multa artigo natureza processo constituição natureza tomada conta especial ser regularidade regularidade dano erário dano ser pressupor processual constituição processo tomada conta especial artigo tcu tomada conta especial apurar responsável quantificar dano julgar tcu responsável natureza dano erário processo ser apurar ocorrência ocorrência ser processo representação responsável ser multa artigo tcu apurar processo tomada conta responsável conta julgar ser multa artigo processo tomada conta especial ser ser julgar regularidade julgar regularidade erário ser representação tcu processo ser multa ser processo conta responsável ser multa conta julgar ser responsável conta ser julgar artigo tcu processo representação indício regularidade dano erário artigo tcu processo tomada conta especial dano conta ser julgar responsável ser erário ser dano processual ser responsável processo apurar regularidade tcu natureza processo conta erário processo natureza representação conta ser julgar regularidade artigo tcu processo tomada conta especial ocorrência regularidade dano erário natureza processo tce natureza tce erário ser dano ser pressupor processual constituição processo tce artigo tcu tomada conta especial apurar responsável quantificar dano artigo conta especial ser processo apurar ocorrência dano instaurar conta especial apurar dano erário processo processo tomada conta especial artigo tcu artigo processo tce processual natureza processo tomada conta especial processo natureza processo tce ser representação ser apurar processo tce processo representação responsável regularidade julgar artigo tcu regularidade dano erário pressupor constituição tomada conta especial regularidade ser ser julgar processo tomada conta especial processo representação apurar regularidade processual responsável constituição instaurar tomada conta especial ocorrência multa tcu natureza processo representação regularidade conta natureza processo tce dano responsável processo tomada conta especial responsável responsável regularidade dano erário julgar conta multa artigo ser tomada conta especial pressupor constituição ser dano indício dano erário regularidade artigo instrução normativo artigo ser pressupor instaurar tomada conta especial conta dano indício dano erário instrução normativo regularidade multa ser conta ser julgar responsável ser processo representação tce apurar ocorrência dano erário artigo artigo instrução normativo caixa dano regularidade multa instaurar tce artigo instrução normativo artigo conta ocorrência dano erário instaurar tomada conta especial dano processo ocorrência regularidade dano erário conta instrução normativo processo instaurar pressupor constituição ser natureza processo ser representação regularidade ser pressupor constituição processo instaurar tce processo julgar ser regularidade dano ser representação regularidade conta conta julgar multa multa tce tcu natureza multa regularidade tce ser instaurar julgar regularidade conta multa processual processo ser apurar instaurar tce tcu processual natureza processo representação artigo artigo instrução normativo constituição tomada conta especial responsável resp resp artigo artigo multa'"
      ]
     },
     "execution_count": 39,
     "metadata": {},
     "output_type": "execute_result"
    }
   ],
   "source": [
    "filtrar_texto(excerto, tf_idf, 500)"
   ]
  },
  {
   "cell_type": "code",
   "execution_count": 41,
   "metadata": {},
   "outputs": [
    {
     "name": "stdout",
     "output_type": "stream",
     "text": [
      "======================================================= Texto 0 =======================================================\n",
      "voto cuidar auto tomada conta especial instaurar gerência executivo instituto nacional seguro social juazeiro norte desfavor exemplo servir senhor condição segurado inss decorrência fraude concessão benefício previdenciários assistir razão unidade técnico jurisprudência corte ser firme sentido ter ser comprovar participação beneficiário concessão regular meio proceder interno apurar adotar autarquia ser possível concluir existência conluio exemplo servir autorizar concessão dever pois ser afastar responsabilidade segurado poder ser mencionar linha recente todo plenário fim linha jurisprudência corte cumprir comunicar instituto nacional seguro social inss procuradoria geral federal pgf inclusão beneficiário presente relação processual impedir adoção providência administrativo judiciais vista reaver valor eventual ir indevido pagos acórdão excluir relação processual senhor fundamento artigo incisar incisar alínea incisar julgar regular conta senhor condenar consequência pagar importância abaixo especificar atualizar monetário acrescer juro mora calcular partir data original débito seguir indicar efetivo quitar fixar prazo dia comprovar perante tribunal recolher referir quantia cofre inss termo artigo incisar alínea citar lei combinar artigo incisar alínea reger interno tcu comunicar instituto nacional seguro social inss procuradoria geral federal pgf inclusão beneficiário presente relação processual impedir adoção providência administrativo judiciais vista reaver valor eventual ir indevido pagos (189)\n",
      "======================================================= Texto 1 =======================================================\n",
      "voto cuidar auto solicitação congresso nacional realizar auditoria junto petróleo brasileiro petrobras vista averiguar legalidade legitimidade economicidade veracidade factual chamada operação exportar plataforma realizar referir empresa desde manifestar referir unidade técnico parecer uniforme sentido alterar posterior instituir regime aduaneiro especial exportar importação bem destinar atividade pesquisa lavra jazer petróleo gás natural repetro constituir ilegalidade operação ficta exportar plataforma teor artigo incisar mencionar decreto ir assinalar oportunidade tal regime aduaneiro ter ser objeto análise incidental acórdão consoante esclarecer regime admissão temporário autorizar permanência transitório país determinar bem ter ser exportar suspensão tributo federais incidente sobre importação redução isenção alíquota icms ainda bem permanecer território nacional note operação ficta estar expresso prever verbis haver pois ilegalidade sob ponto vista fiscal ir descrever instrução todo etapa proceder concessão execução fiscalizar repetro inclusive operação exportar plataforma revelar autoridade fiscal manter acompanhar parir passu todo estágio regime acórdão informar presidência senado federal operação ficta exportar plataforma ser ilegal sob ponto vista fiscal porquanto prevista definir regime aduaneiro especial exportar importação bem destinar atividade pesquisa lavra jazer petróleo gás natural repetro força artigo citar decreto (179)\n",
      "======================================================= Texto 2 =======================================================\n",
      "relatório tratar embargo declaração opor exemplo diretor gestão portuário companhia doca pará peça face acórdão peça meio tribunal aplicar multa responsável razão regularidade praticar execução celebrar companhia empresa conformar decisum acima alegar haver obscuridade decisão razão critério aplicação pena impossível responsabilizar voto alegar obscuridade quanto critério aplicação multa proceder afinal jurisprudência corte ser pacífico sentido dosimetria pena âmbito tcu ter balizar nível gravidade ilícito apurar valoração circunstância fáticas jurídico envolver isonomia tratar caso análogo tribunal realizar dosimetria objetivo multa comum aplicação norma direito penal haver rol agravante atenuante legal reconhecer exemplo ambos plenário câmara acórdão fundamento artigo incisar lei conhecer presente embargo declaração mérito rejeitar lo (106)\n",
      "======================================================= Texto 3 =======================================================\n",
      "voto relação outro processo judiciais tratar regularidade análise stf sufragar tese independência instância administrativo penal exemplo mandar segurança ser acompanhar stj mandados segurança corroborar entender corte conta acórdão ademais conforme acórdão princípio independência instância permitir tcu apreciar forma pleno boa regular gestão recurso público federais caso estar ser apurar outro instância administrativo judiciais juízo administrativo vincular penal último ser afirmar categórico inexistência fato acusar ir autor ilícito artigo código civil mandado segurança stf quer dizer existência outro processo administrativo eventual favorecer recorrente socorrer processo considerar elemento prova constante auto acórdão conhecer embargo considerar lo parcial proceder forma integrar voto fundamentar presente deliberar acórdão (103)\n",
      "======================================================= Texto 4 =======================================================\n",
      "voto relativo ato envolver senhor caber rememorar desde logo segundo jurisprudência dominante tribunal acórdão ambos plenário outro julgar entidade sistema estar sujeito princípio consubstanciar artigo constituição federal dever observar especial princípio moralidade impessoalidade isonomia ser vedar nomear cônjuge companheiro parente linha reta colateral afinidade terceiro grau quadro função confiança linha entender trago título exemplo parte voto fundamentar acórdão relatoria ministro augusto nardes tratar situação assemelhar posta auto entretanto responsável justificar nomear senhor sobrinho nora sobrinho cargo comissão durante gestão caracterizar beneficiar pessoal acordo princípio imparcialidade moralidade isonomia reforço convicção reproduzir trecho instrução preliminar peça melhor representar jurisprudência tribunal relação sistema além disposto acima entidade sistema estar sujeito norma geral consubstanciar artigo constituição federal vigente dizer respeito admissão pessoal contratar obra serviço aquisição dever observar especial princípio moralidade impessoalidade isonomia ser depreender jurisprudência tribunal câmara entender colenda cortar parte premissa entidade tela prestar serviço interesse público social ser beneficiar recurso oriundo contribuir parafiscais haver prestar conta sociedade convir ainda observar vedar nomear cônjuge companheiro parente linha reta colateral afinidade terceiro grau normativo tratar matéria súmula vincular stf reger interno stf resolução conselho nacional justiça lei regime jurídico servir poder judiciário união dizer respeito cargo comissão função comissionar cargo efetivo regulamento sesc proibição ser indistinto caso orar exame tanto senhor quanto presidente senac oferecer razão justificativa sentido contratar ocorrer época senhor ser presidente senac empregar manter conduta compatível função cargo ser verificar benefício favor importar lembrar senhor ir ouvir razão contratar manter cônjuge companheiro cargo comissionar função gratificar secex confirmar nomear senhor dar sob gestão senhor presidente falecer todavia ato nomear ocorrer dia seguinte eleição senhor cargo vice presidente fecomércio ademais posse mencionar cargo senhor passar ser dirigente senac assumir presidência senac ausência senhor após falecer senhor ocorrer senhor assumir forma permanente administrar fecomércio sesc senac ser ir eleito presidente referir sistema período base informar acima entender consonância unidade técnico manutenção senhor cargo comissionar consultor função gratificar diretor divisão administrativo financeiro senac contrariar princípio constitucional legalidade impessoalidade moralidade artigo caput constituição federal cargo comissionar função gratificar exercer senhor bem cargo comissionar exercer demais diretor ser livre nomear presidente senac própria natureza ter caráter provisório transitório ainda responsável ter optar manter cargo diretor nomear anterior presidente poder manter cargo comissionar função gratificar cônjuge companheiro parente afim consanguíneo razão vedar constitucional referir acórdão conhecer presente representação denúncia objeto apenso ante preencher requisito admissível constante artigo caput incisar reger interno tcu considerar lo proceder aplicar multa prever artigo incisar lei responsável seguir indicar valor especificar fixar prazo dia contar notificar comprovar perante tribunal artigo incisar alínea reger interno tcu recolher dívida cofre tesouro nacional atualizar monetário desde data acórdão efetivo recolher ir pago após vencer forma legislação vigor determinar senac prazo dia contar ciência acórdão adotar providência necessário vista regularização situação seguinte empregar senhor cônjuge companheiro presidente senac ocupar cargo comissionar consultor função gratificar diretor divisão administrativo financeiro senac contrariar princípio constitucional legalidade impessoalidade (479)\n"
     ]
    }
   ],
   "source": [
    "for doc in range(0, 5):#len(textos)):\n",
    "    excerto, _ , tf_idf = extrair_tfidf(doc)\n",
    "    print('======================================================= Texto', doc, '=======================================================')\n",
    "    derivado = filtrar_texto(excerto, tf_idf, 500)\n",
    "    print(derivado, '(' + str(len(derivado.split())) + ')')"
   ]
  },
  {
   "cell_type": "code",
   "execution_count": 43,
   "metadata": {},
   "outputs": [
    {
     "name": "stdout",
     "output_type": "stream",
     "text": [
      "doc 1000 ...\n",
      "doc 2000 ...\n",
      "doc 3000 ...\n",
      "doc 4000 ...\n",
      "doc 5000 ...\n",
      "doc 6000 ...\n",
      "doc 7000 ...\n",
      "doc 8000 ...\n",
      "doc 9000 ...\n",
      "doc 10000 ...\n",
      "doc 11000 ...\n",
      "doc 12000 ...\n",
      "doc 13000 ...\n"
     ]
    }
   ],
   "source": [
    "for doc in range(0, len(textos)):\n",
    "    excerto, _ , tf_idf = extrair_tfidf(doc)\n",
    "    df.loc[doc, 'filtrado'] = filtrar_texto(excerto, tf_idf, 500)\n",
    "    if (doc + 1) % 1000 == 0:\n",
    "        print('doc', doc+1, '...')"
   ]
  },
  {
   "cell_type": "code",
   "execution_count": 44,
   "metadata": {},
   "outputs": [
    {
     "data": {
      "text/html": [
       "<div>\n",
       "<style scoped>\n",
       "    .dataframe tbody tr th:only-of-type {\n",
       "        vertical-align: middle;\n",
       "    }\n",
       "\n",
       "    .dataframe tbody tr th {\n",
       "        vertical-align: top;\n",
       "    }\n",
       "\n",
       "    .dataframe thead th {\n",
       "        text-align: right;\n",
       "    }\n",
       "</style>\n",
       "<table border=\"1\" class=\"dataframe\">\n",
       "  <thead>\n",
       "    <tr style=\"text-align: right;\">\n",
       "      <th></th>\n",
       "      <th>tamanho</th>\n",
       "      <th>tamanho_derivado</th>\n",
       "    </tr>\n",
       "  </thead>\n",
       "  <tbody>\n",
       "    <tr>\n",
       "      <th>count</th>\n",
       "      <td>13285.000000</td>\n",
       "      <td>13285.000000</td>\n",
       "    </tr>\n",
       "    <tr>\n",
       "      <th>mean</th>\n",
       "      <td>316.064057</td>\n",
       "      <td>269.965073</td>\n",
       "    </tr>\n",
       "    <tr>\n",
       "      <th>std</th>\n",
       "      <td>269.888844</td>\n",
       "      <td>142.944457</td>\n",
       "    </tr>\n",
       "    <tr>\n",
       "      <th>min</th>\n",
       "      <td>12.000000</td>\n",
       "      <td>12.000000</td>\n",
       "    </tr>\n",
       "    <tr>\n",
       "      <th>25%</th>\n",
       "      <td>152.000000</td>\n",
       "      <td>152.000000</td>\n",
       "    </tr>\n",
       "    <tr>\n",
       "      <th>50%</th>\n",
       "      <td>240.000000</td>\n",
       "      <td>240.000000</td>\n",
       "    </tr>\n",
       "    <tr>\n",
       "      <th>75%</th>\n",
       "      <td>387.000000</td>\n",
       "      <td>387.000000</td>\n",
       "    </tr>\n",
       "    <tr>\n",
       "      <th>max</th>\n",
       "      <td>2846.000000</td>\n",
       "      <td>509.000000</td>\n",
       "    </tr>\n",
       "  </tbody>\n",
       "</table>\n",
       "</div>"
      ],
      "text/plain": [
       "            tamanho  tamanho_derivado\n",
       "count  13285.000000      13285.000000\n",
       "mean     316.064057        269.965073\n",
       "std      269.888844        142.944457\n",
       "min       12.000000         12.000000\n",
       "25%      152.000000        152.000000\n",
       "50%      240.000000        240.000000\n",
       "75%      387.000000        387.000000\n",
       "max     2846.000000        509.000000"
      ]
     },
     "execution_count": 44,
     "metadata": {},
     "output_type": "execute_result"
    }
   ],
   "source": [
    "for doc in range(0, len(textos)):\n",
    "    df.loc[doc, 'tamanho_derivado'] = len(df.loc[doc, 'filtrado'].split())\n",
    "df[['tamanho', 'tamanho_derivado']].describe()"
   ]
  },
  {
   "cell_type": "code",
   "execution_count": 45,
   "metadata": {},
   "outputs": [
    {
     "data": {
      "text/plain": [
       "15.415882574331953"
      ]
     },
     "execution_count": 45,
     "metadata": {},
     "output_type": "execute_result"
    }
   ],
   "source": [
    "len(df.query('tamanho != tamanho_derivado'))*100/len(df)"
   ]
  },
  {
   "cell_type": "code",
   "execution_count": 46,
   "metadata": {},
   "outputs": [
    {
     "data": {
      "text/plain": [
       "(614.0, 795.0, 1393.3199999999997)"
      ]
     },
     "execution_count": 46,
     "metadata": {},
     "output_type": "execute_result"
    }
   ],
   "source": [
    "np.percentile(df['tamanho'], 90), np.percentile(df['tamanho'], 95), np.percentile(df['tamanho'], 99)"
   ]
  },
  {
   "cell_type": "code",
   "execution_count": 47,
   "metadata": {},
   "outputs": [
    {
     "data": {
      "text/plain": [
       "(500.0, 500.0, 500.0)"
      ]
     },
     "execution_count": 47,
     "metadata": {},
     "output_type": "execute_result"
    }
   ],
   "source": [
    "np.percentile(df['tamanho_derivado'], 90), np.percentile(df['tamanho_derivado'], 95), np.percentile(df['tamanho_derivado'], 99)"
   ]
  },
  {
   "cell_type": "code",
   "execution_count": 48,
   "metadata": {},
   "outputs": [
    {
     "data": {
      "text/plain": [
       "DESCR_AREA\n",
       "Pessoal                    25.540083\n",
       "Licitação                  20.745201\n",
       "Responsabilidade           17.636432\n",
       "Direito Processual         13.631916\n",
       "Contrato Administrativo     7.083177\n",
       "Convênio                    5.141137\n",
       "Competência do TCU          4.162589\n",
       "Gestão Administrativa       2.544223\n",
       "Finanças Públicas           2.468950\n",
       "Desestatização              1.046293\n",
       "dtype: float64"
      ]
     },
     "execution_count": 48,
     "metadata": {},
     "output_type": "execute_result"
    }
   ],
   "source": [
    "df.groupby('DESCR_AREA').size().sort_values(ascending = False) * 100 / len(df)"
   ]
  },
  {
   "cell_type": "code",
   "execution_count": 49,
   "metadata": {},
   "outputs": [
    {
     "data": {
      "text/plain": [
       "DESCR_AREA\n",
       "Pessoal                    22.851562\n",
       "Licitação                  21.728516\n",
       "Responsabilidade           16.064453\n",
       "Direito Processual         10.791016\n",
       "Contrato Administrativo     8.642578\n",
       "Finanças Públicas           5.566406\n",
       "Convênio                    5.419922\n",
       "Competência do TCU          4.541016\n",
       "Gestão Administrativa       2.343750\n",
       "Desestatização              2.050781\n",
       "dtype: float64"
      ]
     },
     "execution_count": 49,
     "metadata": {},
     "output_type": "execute_result"
    }
   ],
   "source": [
    "df.query('tamanho != tamanho_derivado').groupby('DESCR_AREA').size().sort_values(ascending = False) * 100 / len(df) / (len(df.query('tamanho != tamanho_derivado'))/len(df))"
   ]
  },
  {
   "cell_type": "markdown",
   "metadata": {},
   "source": [
    "introduz um viés..."
   ]
  },
  {
   "cell_type": "code",
   "execution_count": 51,
   "metadata": {
    "scrolled": true
   },
   "outputs": [
    {
     "data": {
      "text/html": [
       "<div>\n",
       "<style scoped>\n",
       "    .dataframe tbody tr th:only-of-type {\n",
       "        vertical-align: middle;\n",
       "    }\n",
       "\n",
       "    .dataframe tbody tr th {\n",
       "        vertical-align: top;\n",
       "    }\n",
       "\n",
       "    .dataframe thead th {\n",
       "        text-align: right;\n",
       "    }\n",
       "</style>\n",
       "<table border=\"1\" class=\"dataframe\">\n",
       "  <thead>\n",
       "    <tr style=\"text-align: right;\">\n",
       "      <th></th>\n",
       "      <th>COD</th>\n",
       "      <th>DESCR_AREA</th>\n",
       "      <th>EXCERTO_LEMATIZADO</th>\n",
       "      <th>tamanho</th>\n",
       "      <th>filtrado</th>\n",
       "      <th>tamanho_derivado</th>\n",
       "    </tr>\n",
       "  </thead>\n",
       "  <tbody>\n",
       "    <tr>\n",
       "      <th>0</th>\n",
       "      <td>1400</td>\n",
       "      <td>Responsabilidade</td>\n",
       "      <td>voto : cuidar o auto de tomada de conta especi...</td>\n",
       "      <td>189.0</td>\n",
       "      <td>voto cuidar auto tomada conta especial instaur...</td>\n",
       "      <td>189.0</td>\n",
       "    </tr>\n",
       "    <tr>\n",
       "      <th>1</th>\n",
       "      <td>1700</td>\n",
       "      <td>Finanças Públicas</td>\n",
       "      <td>voto : cuidar o auto de solicitação de o congr...</td>\n",
       "      <td>179.0</td>\n",
       "      <td>voto cuidar auto solicitação congresso naciona...</td>\n",
       "      <td>179.0</td>\n",
       "    </tr>\n",
       "    <tr>\n",
       "      <th>2</th>\n",
       "      <td>5700</td>\n",
       "      <td>Responsabilidade</td>\n",
       "      <td>relatório : tratar se de embargo de declaração...</td>\n",
       "      <td>106.0</td>\n",
       "      <td>relatório tratar embargo declaração opor exemp...</td>\n",
       "      <td>106.0</td>\n",
       "    </tr>\n",
       "    <tr>\n",
       "      <th>3</th>\n",
       "      <td>284</td>\n",
       "      <td>Direito Processual</td>\n",
       "      <td>voto : XXSECAO em relação a outro processo jud...</td>\n",
       "      <td>103.0</td>\n",
       "      <td>voto relação outro processo judiciais tratar r...</td>\n",
       "      <td>103.0</td>\n",
       "    </tr>\n",
       "    <tr>\n",
       "      <th>4</th>\n",
       "      <td>298</td>\n",
       "      <td>Pessoal</td>\n",
       "      <td>voto : XXSECAO relativo a o ato envolver o sen...</td>\n",
       "      <td>479.0</td>\n",
       "      <td>voto relativo ato envolver senhor caber rememo...</td>\n",
       "      <td>479.0</td>\n",
       "    </tr>\n",
       "    <tr>\n",
       "      <th>5</th>\n",
       "      <td>299</td>\n",
       "      <td>Licitação</td>\n",
       "      <td>voto : XXSECAO o presente apelo ter por objeti...</td>\n",
       "      <td>248.0</td>\n",
       "      <td>voto presente apelo ter objetivo contestar rej...</td>\n",
       "      <td>248.0</td>\n",
       "    </tr>\n",
       "    <tr>\n",
       "      <th>6</th>\n",
       "      <td>310</td>\n",
       "      <td>Pessoal</td>\n",
       "      <td>voto : examinar se ato de aposentadoria conced...</td>\n",
       "      <td>364.0</td>\n",
       "      <td>voto examinar ato aposentadoria conceder âmbit...</td>\n",
       "      <td>364.0</td>\n",
       "    </tr>\n",
       "    <tr>\n",
       "      <th>7</th>\n",
       "      <td>364</td>\n",
       "      <td>Pessoal</td>\n",
       "      <td>voto : examinar se ato de aposentadoria conced...</td>\n",
       "      <td>136.0</td>\n",
       "      <td>voto examinar ato aposentadoria conceder âmbit...</td>\n",
       "      <td>136.0</td>\n",
       "    </tr>\n",
       "    <tr>\n",
       "      <th>8</th>\n",
       "      <td>432</td>\n",
       "      <td>Licitação</td>\n",
       "      <td>voto : tratar se de representação formular por...</td>\n",
       "      <td>536.0</td>\n",
       "      <td>tratar representação formular empresa face pre...</td>\n",
       "      <td>500.0</td>\n",
       "    </tr>\n",
       "    <tr>\n",
       "      <th>9</th>\n",
       "      <td>449</td>\n",
       "      <td>Licitação</td>\n",
       "      <td>voto : tratar se de representação formular por...</td>\n",
       "      <td>536.0</td>\n",
       "      <td>tratar representação formular empresa face pre...</td>\n",
       "      <td>500.0</td>\n",
       "    </tr>\n",
       "  </tbody>\n",
       "</table>\n",
       "</div>"
      ],
      "text/plain": [
       "    COD          DESCR_AREA  \\\n",
       "0  1400    Responsabilidade   \n",
       "1  1700   Finanças Públicas   \n",
       "2  5700    Responsabilidade   \n",
       "3   284  Direito Processual   \n",
       "4   298             Pessoal   \n",
       "5   299           Licitação   \n",
       "6   310             Pessoal   \n",
       "7   364             Pessoal   \n",
       "8   432           Licitação   \n",
       "9   449           Licitação   \n",
       "\n",
       "                                  EXCERTO_LEMATIZADO  tamanho  \\\n",
       "0  voto : cuidar o auto de tomada de conta especi...    189.0   \n",
       "1  voto : cuidar o auto de solicitação de o congr...    179.0   \n",
       "2  relatório : tratar se de embargo de declaração...    106.0   \n",
       "3  voto : XXSECAO em relação a outro processo jud...    103.0   \n",
       "4  voto : XXSECAO relativo a o ato envolver o sen...    479.0   \n",
       "5  voto : XXSECAO o presente apelo ter por objeti...    248.0   \n",
       "6  voto : examinar se ato de aposentadoria conced...    364.0   \n",
       "7  voto : examinar se ato de aposentadoria conced...    136.0   \n",
       "8  voto : tratar se de representação formular por...    536.0   \n",
       "9  voto : tratar se de representação formular por...    536.0   \n",
       "\n",
       "                                            filtrado  tamanho_derivado  \n",
       "0  voto cuidar auto tomada conta especial instaur...             189.0  \n",
       "1  voto cuidar auto solicitação congresso naciona...             179.0  \n",
       "2  relatório tratar embargo declaração opor exemp...             106.0  \n",
       "3  voto relação outro processo judiciais tratar r...             103.0  \n",
       "4  voto relativo ato envolver senhor caber rememo...             479.0  \n",
       "5  voto presente apelo ter objetivo contestar rej...             248.0  \n",
       "6  voto examinar ato aposentadoria conceder âmbit...             364.0  \n",
       "7  voto examinar ato aposentadoria conceder âmbit...             136.0  \n",
       "8  tratar representação formular empresa face pre...             500.0  \n",
       "9  tratar representação formular empresa face pre...             500.0  "
      ]
     },
     "execution_count": 51,
     "metadata": {},
     "output_type": "execute_result"
    }
   ],
   "source": [
    "df.head(10)"
   ]
  },
  {
   "cell_type": "code",
   "execution_count": 52,
   "metadata": {},
   "outputs": [],
   "source": [
    "df.to_csv('../dados/excertos_filtrados500.csv', sep = '|', columns = ['COD', 'DESCR_AREA', 'filtrado'], index=False)"
   ]
  },
  {
   "cell_type": "code",
   "execution_count": 3,
   "metadata": {},
   "outputs": [
    {
     "data": {
      "text/html": [
       "<div>\n",
       "<style scoped>\n",
       "    .dataframe tbody tr th:only-of-type {\n",
       "        vertical-align: middle;\n",
       "    }\n",
       "\n",
       "    .dataframe tbody tr th {\n",
       "        vertical-align: top;\n",
       "    }\n",
       "\n",
       "    .dataframe thead th {\n",
       "        text-align: right;\n",
       "    }\n",
       "</style>\n",
       "<table border=\"1\" class=\"dataframe\">\n",
       "  <thead>\n",
       "    <tr style=\"text-align: right;\">\n",
       "      <th></th>\n",
       "      <th>COD</th>\n",
       "      <th>DESCR_AREA</th>\n",
       "      <th>EXCERTO_LEMATIZADO</th>\n",
       "    </tr>\n",
       "  </thead>\n",
       "  <tbody>\n",
       "    <tr>\n",
       "      <th>0</th>\n",
       "      <td>1400</td>\n",
       "      <td>Responsabilidade</td>\n",
       "      <td>voto : cuidar o auto de tomada de conta especi...</td>\n",
       "    </tr>\n",
       "    <tr>\n",
       "      <th>1</th>\n",
       "      <td>1700</td>\n",
       "      <td>Finanças Públicas</td>\n",
       "      <td>voto : cuidar o auto de solicitação de o congr...</td>\n",
       "    </tr>\n",
       "    <tr>\n",
       "      <th>2</th>\n",
       "      <td>5700</td>\n",
       "      <td>Responsabilidade</td>\n",
       "      <td>relatório : tratar se de embargo de declaração...</td>\n",
       "    </tr>\n",
       "    <tr>\n",
       "      <th>3</th>\n",
       "      <td>284</td>\n",
       "      <td>Direito Processual</td>\n",
       "      <td>voto : XXSECAO em relação a outro processo jud...</td>\n",
       "    </tr>\n",
       "    <tr>\n",
       "      <th>4</th>\n",
       "      <td>298</td>\n",
       "      <td>Pessoal</td>\n",
       "      <td>voto : XXSECAO relativo a o ato envolver o sen...</td>\n",
       "    </tr>\n",
       "  </tbody>\n",
       "</table>\n",
       "</div>"
      ],
      "text/plain": [
       "    COD          DESCR_AREA                                 EXCERTO_LEMATIZADO\n",
       "0  1400    Responsabilidade  voto : cuidar o auto de tomada de conta especi...\n",
       "1  1700   Finanças Públicas  voto : cuidar o auto de solicitação de o congr...\n",
       "2  5700    Responsabilidade  relatório : tratar se de embargo de declaração...\n",
       "3   284  Direito Processual  voto : XXSECAO em relação a outro processo jud...\n",
       "4   298             Pessoal  voto : XXSECAO relativo a o ato envolver o sen..."
      ]
     },
     "execution_count": 3,
     "metadata": {},
     "output_type": "execute_result"
    }
   ],
   "source": [
    "import pandas as pd\n",
    "\n",
    "df = pd.read_csv('../dados/excertos_lematizados.csv', sep = '|')\n",
    "df.head()"
   ]
  },
  {
   "cell_type": "code",
   "execution_count": 4,
   "metadata": {},
   "outputs": [
    {
     "data": {
      "text/plain": [
       "COD                                                               37522\n",
       "DESCR_AREA                                           Direito Processual\n",
       "EXCERTO_LEMATIZADO    voto : em exame solicitação de o congresso nac...\n",
       "Name: 11410, dtype: object"
      ]
     },
     "execution_count": 4,
     "metadata": {},
     "output_type": "execute_result"
    }
   ],
   "source": [
    "df.loc[11410]"
   ]
  },
  {
   "cell_type": "code",
   "execution_count": 5,
   "metadata": {},
   "outputs": [
    {
     "data": {
      "text/plain": [
       "COD                                                               43342\n",
       "DESCR_AREA                                                      Pessoal\n",
       "EXCERTO_LEMATIZADO    voto revisor : tratar se de representação ofer...\n",
       "Name: 11999, dtype: object"
      ]
     },
     "execution_count": 5,
     "metadata": {},
     "output_type": "execute_result"
    }
   ],
   "source": [
    "df.loc[11999]"
   ]
  },
  {
   "cell_type": "code",
   "execution_count": 6,
   "metadata": {},
   "outputs": [
    {
     "data": {
      "text/html": [
       "<div>\n",
       "<style scoped>\n",
       "    .dataframe tbody tr th:only-of-type {\n",
       "        vertical-align: middle;\n",
       "    }\n",
       "\n",
       "    .dataframe tbody tr th {\n",
       "        vertical-align: top;\n",
       "    }\n",
       "\n",
       "    .dataframe thead th {\n",
       "        text-align: right;\n",
       "    }\n",
       "</style>\n",
       "<table border=\"1\" class=\"dataframe\">\n",
       "  <thead>\n",
       "    <tr style=\"text-align: right;\">\n",
       "      <th></th>\n",
       "      <th>COD</th>\n",
       "      <th>DESCR_AREA</th>\n",
       "      <th>filtrado</th>\n",
       "    </tr>\n",
       "  </thead>\n",
       "  <tbody>\n",
       "    <tr>\n",
       "      <th>0</th>\n",
       "      <td>1400</td>\n",
       "      <td>Responsabilidade</td>\n",
       "      <td>voto : cuidar o auto de tomada de conta especi...</td>\n",
       "    </tr>\n",
       "    <tr>\n",
       "      <th>1</th>\n",
       "      <td>1700</td>\n",
       "      <td>Finanças Públicas</td>\n",
       "      <td>voto : cuidar o auto de solicitação de o congr...</td>\n",
       "    </tr>\n",
       "    <tr>\n",
       "      <th>2</th>\n",
       "      <td>5700</td>\n",
       "      <td>Responsabilidade</td>\n",
       "      <td>relatório : tratar se de embargo de declaração...</td>\n",
       "    </tr>\n",
       "    <tr>\n",
       "      <th>3</th>\n",
       "      <td>284</td>\n",
       "      <td>Direito Processual</td>\n",
       "      <td>voto : em relação a outro processo judiciais q...</td>\n",
       "    </tr>\n",
       "    <tr>\n",
       "      <th>4</th>\n",
       "      <td>298</td>\n",
       "      <td>Pessoal</td>\n",
       "      <td>: a o ato o senhor , rememorar , desde logo , ...</td>\n",
       "    </tr>\n",
       "  </tbody>\n",
       "</table>\n",
       "</div>"
      ],
      "text/plain": [
       "    COD          DESCR_AREA                                           filtrado\n",
       "0  1400    Responsabilidade  voto : cuidar o auto de tomada de conta especi...\n",
       "1  1700   Finanças Públicas  voto : cuidar o auto de solicitação de o congr...\n",
       "2  5700    Responsabilidade  relatório : tratar se de embargo de declaração...\n",
       "3   284  Direito Processual  voto : em relação a outro processo judiciais q...\n",
       "4   298             Pessoal  : a o ato o senhor , rememorar , desde logo , ..."
      ]
     },
     "execution_count": 6,
     "metadata": {},
     "output_type": "execute_result"
    }
   ],
   "source": [
    "df = pd.read_csv('../dados/excertos_filtrados1000.csv', sep = '|')\n",
    "df.head()"
   ]
  },
  {
   "cell_type": "code",
   "execution_count": 7,
   "metadata": {},
   "outputs": [
    {
     "data": {
      "text/plain": [
       "COD                        37522\n",
       "DESCR_AREA    Direito Processual\n",
       "filtrado                     NaN\n",
       "Name: 11410, dtype: object"
      ]
     },
     "execution_count": 7,
     "metadata": {},
     "output_type": "execute_result"
    }
   ],
   "source": [
    "df.loc[11410]"
   ]
  },
  {
   "cell_type": "code",
   "execution_count": null,
   "metadata": {},
   "outputs": [],
   "source": []
  }
 ],
 "metadata": {
  "kernelspec": {
   "display_name": "Python 3",
   "language": "python",
   "name": "python3"
  },
  "language_info": {
   "codemirror_mode": {
    "name": "ipython",
    "version": 3
   },
   "file_extension": ".py",
   "mimetype": "text/x-python",
   "name": "python",
   "nbconvert_exporter": "python",
   "pygments_lexer": "ipython3",
   "version": "3.7.4"
  }
 },
 "nbformat": 4,
 "nbformat_minor": 2
}
